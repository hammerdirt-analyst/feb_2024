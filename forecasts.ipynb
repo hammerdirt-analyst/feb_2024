{
 "cells": [
  {
   "cell_type": "code",
   "execution_count": 1,
   "id": "64c16819-72da-4b47-a3aa-988d3f5a8203",
   "metadata": {
    "editable": true,
    "pycharm": {
     "name": "#%%\n"
    },
    "slideshow": {
     "slide_type": ""
    },
    "tags": [
     "hide-input"
    ]
   },
   "outputs": [],
   "source": [
    "%load_ext watermark\n",
    "import pandas as pd\n",
    "import numpy as np\n",
    "\n",
    "import matplotlib.pyplot as plt\n",
    "import matplotlib as mpl\n",
    "import matplotlib.colors\n",
    "from matplotlib.colors import LinearSegmentedColormap, ListedColormap\n",
    "import seaborn as sns\n",
    "\n",
    "import session_config\n",
    "import reports\n",
    "import geospatial\n",
    "import display as disp\n",
    "from myst_nb import glue\n",
    "from IPython.display import display, Markdown\n",
    "\n",
    "# available data\n",
    "surveys = session_config.collect_survey_data()\n",
    "\n",
    "# boundaries / search parameters\n",
    "feature_type = 'feature_name'\n",
    "feature_name = 'lac-leman'\n",
    "\n",
    "df = surveys[surveys[feature_type] == feature_name].copy()\n",
    "vaud_report = reports.SurveyReport(dfc=df)\n",
    "\n",
    "# the parameters for the landuse report\n",
    "target_df = vaud_report.sample_results\n",
    "features = geospatial.collect_topo_data(locations=target_df.location.unique())\n",
    "land_use_report = geospatial.LandUseReport(target_df, features)\n",
    "\n",
    "# creates an array of tuples of the correlated pairs\n",
    "correlated_pairs = land_use_report.correlated_pairs()\n",
    "\n",
    "# pass the correlated pairs to combine features method\n",
    "# this will categorize the features and combine the correlated pairs\n",
    "# into new columns\n",
    "land_use_report.combine_features(correlated_pairs)"
   ]
  },
  {
   "cell_type": "code",
   "execution_count": 2,
   "id": "f1d80398-f0a8-4c80-b1a5-77952fb09dfe",
   "metadata": {
    "editable": true,
    "slideshow": {
     "slide_type": ""
    },
    "tags": []
   },
   "outputs": [],
   "source": [
    "df_l = land_use_report.df_cat\n",
    "vaud_most_common = vaud_report.object_summary().reset_index()"
   ]
  },
  {
   "cell_type": "code",
   "execution_count": 3,
   "id": "e40377bb-39ce-4418-9ab0-b333c69398c9",
   "metadata": {
    "editable": true,
    "slideshow": {
     "slide_type": ""
    },
    "tags": []
   },
   "outputs": [],
   "source": [
    "the_grid = np.arange(0, 30, step=.2)\n",
    "my_grids = pd.DataFrame(index=the_grid)\n",
    "codes = vaud_most_common.sort_values('quantity', ascending=False)[:10].code"
   ]
  },
  {
   "cell_type": "code",
   "execution_count": 4,
   "id": "69460d73-8d04-46ce-95de-b4d1619397c6",
   "metadata": {
    "editable": true,
    "slideshow": {
     "slide_type": ""
    },
    "tags": []
   },
   "outputs": [],
   "source": [
    "def calculate_exceedance_matrix(pcs_values, index_range, categories):\n",
    "    # Initialize an array to store results for the categories\n",
    "    result_array = np.zeros((len(index_range), len(categories)))\n",
    "    \n",
    "    for i, category_pcs_values in enumerate(pcs_values):\n",
    "        # Total samples for the current category\n",
    "        total_samples = len(category_pcs_values)\n",
    "        if total_samples == 0:\n",
    "            # Handle case with no samples to avoid division by zero\n",
    "            continue\n",
    "        # Use broadcasting to compare pcs_values against all index values at once\n",
    "        exceedance_matrix = category_pcs_values[:, np.newaxis] > index_range\n",
    "        # Sum over rows to count the exceedances for each index value and normalize\n",
    "        exceedance_counts = exceedance_matrix.sum(axis=0) / total_samples\n",
    "        # Store in the result array\n",
    "        result_array[:, i] = exceedance_counts\n",
    "    \n",
    "    return result_array\n",
    "\n",
    "# Define the index range and categories\n",
    "index_range = np.arange(0, 30.1, 0.2)\n",
    "categories = range(1, 6)\n",
    "\n",
    "# Prepare an array of pcs/m values for each category of 'buildings'\n",
    "category_pcs_values = [df_l[df_l['buildings'] == i]['pcs/m'].values for i in range(1, 6)]\n",
    "\n",
    "# Example usage with the new function signature\n",
    "buildings_matrix = calculate_exceedance_matrix(category_pcs_values, index_range, categories)\n",
    "# buildings_matrix[:5, :]  # Show the first 5 rows\n",
    "\n",
    "\n",
    "# # To demonstrate, let's manually prepare an array of pcs/m values for each category of 'buildings'\n",
    "# category_pcs_values = [df_l[df_l['buildings'] == i]['pcs/m'].values for i in range(1, 6)]\n",
    "\n",
    "# buildings_matrix = feature_rate_matrix(category_pcs_values)\n",
    "# # buildings_matrix[:5, :]  # Show the first 5 rows\n"
   ]
  },
  {
   "cell_type": "code",
   "execution_count": 17,
   "id": "9128a577-38ff-4c92-939a-84172d5085ce",
   "metadata": {
    "editable": true,
    "slideshow": {
     "slide_type": ""
    },
    "tags": []
   },
   "outputs": [],
   "source": [
    "import numpy as np\n",
    "from scipy.stats import halfnorm\n",
    "\n",
    "# Define parameters\n",
    "sigma = np.std(category_pcs_values[4])  # Scale parameter from your data's standard deviation\n",
    "range_max = 30  # Max range\n",
    "# index_range = np.arange(0, range_max + 0.1, 0.2)\n",
    "\n",
    "# Calculate the Half-Normal PDF\n",
    "pdf_values = halfnorm.cdf(index_range, scale=sigma)\n",
    "\n",
    "pdf_values = [1-x for x in pdf_values]\n",
    "\n",
    "# Optional: Scale PDF by a factor (e.g., 100) if direct probabilities are too low\n",
    "# pdf_values_scaled = pdf_values * 100  # Scale factor can be adjusted as needed\n",
    "\n",
    "# Use the scaled PDF values directly as your prior without normalizing them to sum to 1\n",
    "# This retains the natural shape and relative probabilities\n",
    "# prior_matrix = np.tile(pdf_values_scaled, (4, 1)).T  # Assuming 4 categories\n",
    "\n",
    "# print(prior_matrix[:10, :])  # Print the first 10 rows to check the probabilities\n",
    "# pdf_values[-20:]"
   ]
  },
  {
   "cell_type": "code",
   "execution_count": 20,
   "id": "48e8a07b-95c0-413e-b864-ddd6690d5a6e",
   "metadata": {
    "editable": true,
    "slideshow": {
     "slide_type": ""
    },
    "tags": []
   },
   "outputs": [],
   "source": [
    "t = buildings_matrix[:, 4] * pdf_values\n",
    "q = buildings_matrix[:, 4] * beta_p['beta_p'].values"
   ]
  },
  {
   "cell_type": "code",
   "execution_count": 21,
   "id": "2d436989-be32-4c1b-a8da-875b7bcc7b2b",
   "metadata": {
    "editable": true,
    "slideshow": {
     "slide_type": ""
    },
    "tags": []
   },
   "outputs": [
    {
     "data": {
      "text/plain": [
       "array([[0, 0, 0, ..., 0, 0, 0],\n",
       "       [0, 0, 0, ..., 0, 0, 0],\n",
       "       [0, 0, 0, ..., 0, 0, 0],\n",
       "       ...,\n",
       "       [0, 0, 0, ..., 0, 0, 0],\n",
       "       [0, 0, 0, ..., 0, 0, 0],\n",
       "       [0, 0, 0, ..., 0, 0, 0]])"
      ]
     },
     "execution_count": 21,
     "metadata": {},
     "output_type": "execute_result"
    }
   ],
   "source": [
    "newp = t/sum(t)\n",
    "from scipy.stats import multinomial\n",
    "\n",
    "rv = multinomial(1, newp)\n",
    "newy = rv.rvs(100)"
   ]
  },
  {
   "cell_type": "code",
   "execution_count": 148,
   "id": "7ecb4fa9-4ef9-48a0-99c1-1765dee0ddfc",
   "metadata": {
    "editable": true,
    "slideshow": {
     "slide_type": ""
    },
    "tags": []
   },
   "outputs": [
    {
     "name": "stdout",
     "output_type": "stream",
     "text": [
      "10.105044108098282\n",
      "6.8232567173897944\n",
      "16.337210874919794\n",
      "nan\n"
     ]
    },
    {
     "ename": "ValueError",
     "evalue": "operands could not be broadcast together with shapes (453,) (151,) ",
     "output_type": "error",
     "traceback": [
      "\u001b[0;31m---------------------------------------------------------------------------\u001b[0m",
      "\u001b[0;31mValueError\u001b[0m                                Traceback (most recent call last)",
      "Cell \u001b[0;32mIn[148], line 54\u001b[0m\n\u001b[1;32m     51\u001b[0m \u001b[38;5;28;01mif\u001b[39;00m \u001b[38;5;28msum\u001b[39m(d) \u001b[38;5;241m==\u001b[39m \u001b[38;5;241m0\u001b[39m:\n\u001b[1;32m     52\u001b[0m     d \u001b[38;5;241m=\u001b[39m observed_value_matrix[:, \u001b[38;5;241m0\u001b[39m:category]\u001b[38;5;241m.\u001b[39mflatten()\n\u001b[0;32m---> 54\u001b[0m posterior \u001b[38;5;241m=\u001b[39m \u001b[43mmake_posterior\u001b[49m\u001b[43m(\u001b[49m\u001b[43md\u001b[49m\u001b[43m,\u001b[49m\u001b[43m \u001b[49m\u001b[43mprior\u001b[49m\u001b[43m)\u001b[49m\n\u001b[1;32m     55\u001b[0m samples \u001b[38;5;241m=\u001b[39m posterior\u001b[38;5;241m.\u001b[39mrvs(\u001b[38;5;241m100\u001b[39m)\n\u001b[1;32m     56\u001b[0m samples \u001b[38;5;241m=\u001b[39m [index_range[np\u001b[38;5;241m.\u001b[39margmax(x)] \u001b[38;5;28;01mfor\u001b[39;00m x \u001b[38;5;129;01min\u001b[39;00m samples]\n",
      "Cell \u001b[0;32mIn[148], line 18\u001b[0m, in \u001b[0;36mmake_posterior\u001b[0;34m(observed, prior)\u001b[0m\n\u001b[1;32m     16\u001b[0m \u001b[38;5;28;01mdef\u001b[39;00m \u001b[38;5;21mmake_posterior\u001b[39m(observed, prior):\n\u001b[0;32m---> 18\u001b[0m     unnormalized \u001b[38;5;241m=\u001b[39m \u001b[43mobserved\u001b[49m\u001b[43m \u001b[49m\u001b[38;5;241;43m*\u001b[39;49m\u001b[43m \u001b[49m\u001b[43mprior\u001b[49m\n\u001b[1;32m     19\u001b[0m     normalized \u001b[38;5;241m=\u001b[39m unnormalized\u001b[38;5;241m/\u001b[39m\u001b[38;5;28msum\u001b[39m(unnormalized)\n\u001b[1;32m     20\u001b[0m     posterior \u001b[38;5;241m=\u001b[39m multinomial(\u001b[38;5;241m1\u001b[39m, normalized)\n",
      "\u001b[0;31mValueError\u001b[0m: operands could not be broadcast together with shapes (453,) (151,) "
     ]
    }
   ],
   "source": [
    "def collect_observed_by_category(df, feature: str = None, value: str = 'pcs/m', categories: np.array = range(1, 6)):\n",
    "    observed = [df_l[df_l[feature] == i][value].values for i in categories]\n",
    "    return observed\n",
    "\n",
    "def calculate_prior(sigma, index_range):\n",
    "    # sigma = np.std(prior_observed)  # Scale parameter from your data's standard deviation\n",
    "    # range_max = 30  # Max range\n",
    "    # index_range = np.arange(0, range_max + 0.1, 0.2)\n",
    "\n",
    "    # Calculate the Half-Normal PDF\n",
    "    pdf_values = halfnorm.cdf(index_range, scale=sigma)\n",
    "\n",
    "    pdf_values = [1-x for x in pdf_values]\n",
    "    return pdf_values\n",
    "\n",
    "def make_posterior(observed, prior):\n",
    "\n",
    "    unnormalized = observed * prior\n",
    "    normalized = unnormalized/sum(unnormalized)\n",
    "    posterior = multinomial(1, normalized)\n",
    "    return posterior\n",
    "    \n",
    "\n",
    "def draw_and_collect_sample_results(posterior, index_vals):\n",
    "\n",
    "    results = []\n",
    "    for element in samples:\n",
    "        anindex = np.nonzero(element)\n",
    "        res = index_vals[anindex[0]]\n",
    "        results.extend(res)\n",
    "\n",
    "    return results\n",
    "\n",
    "observed_vals = collect_observed_by_category(df_l, feature='forest')\n",
    "\n",
    "observed_value_matrix = calculate_exceedance_matrix(observed_vals, index_range, categories)\n",
    "sigma_historical = 110\n",
    "# prior = calculate_prior(sigma, index_range)\n",
    "\n",
    "\n",
    "posteriors = []\n",
    "\n",
    "for category in [0, 1, 2, 3, 4]:\n",
    "    \n",
    "\n",
    "    d = observed_value_matrix[:, category]\n",
    "    if sum(d) == 0:\n",
    "        data = observed_vals[:, 0:category].flatten()\n",
    "        \n",
    "    sigma = np.std(observed_vals[category])\n",
    "    print(sigma)\n",
    "    if sigma < 0.01:\n",
    "        sigma = sigma_historical\n",
    "    prior = calculate_prior(sigma, index_range)\n",
    "        \n",
    "    posterior = make_posterior(d, prior)\n",
    "    samples = posterior.rvs(100)\n",
    "    samples = [index_range[np.argmax(x)] for x in samples]\n",
    "    posteriors.append(samples)\n",
    "\n",
    "for element in posteriors:\n",
    "    print(np.quantile(element, session_config.report_quantiles))    "
   ]
  },
  {
   "cell_type": "code",
   "execution_count": 145,
   "id": "c9c3c8d2-1218-4bbd-a8db-5a7fe3e96876",
   "metadata": {},
   "outputs": [
    {
     "data": {
      "text/plain": [
       "array([[1.        , 1.        , 1.        , 0.        , 0.        ],\n",
       "       [1.        , 0.95454545, 1.        , 0.        , 0.        ],\n",
       "       [0.99537037, 0.86363636, 1.        , 0.        , 0.        ],\n",
       "       [0.98611111, 0.81818182, 1.        , 0.        , 0.        ],\n",
       "       [0.97685185, 0.72727273, 1.        , 0.        , 0.        ],\n",
       "       [0.9537037 , 0.59090909, 1.        , 0.        , 0.        ],\n",
       "       [0.93981481, 0.59090909, 1.        , 0.        , 0.        ],\n",
       "       [0.93055556, 0.54545455, 1.        , 0.        , 0.        ],\n",
       "       [0.91203704, 0.45454545, 1.        , 0.        , 0.        ],\n",
       "       [0.89814815, 0.45454545, 1.        , 0.        , 0.        ],\n",
       "       [0.87037037, 0.45454545, 1.        , 0.        , 0.        ],\n",
       "       [0.85185185, 0.45454545, 1.        , 0.        , 0.        ],\n",
       "       [0.81481481, 0.45454545, 1.        , 0.        , 0.        ],\n",
       "       [0.79166667, 0.45454545, 0.92307692, 0.        , 0.        ],\n",
       "       [0.74537037, 0.40909091, 0.92307692, 0.        , 0.        ],\n",
       "       [0.72685185, 0.40909091, 0.92307692, 0.        , 0.        ],\n",
       "       [0.71296296, 0.40909091, 0.92307692, 0.        , 0.        ],\n",
       "       [0.68055556, 0.40909091, 0.92307692, 0.        , 0.        ],\n",
       "       [0.66203704, 0.36363636, 0.92307692, 0.        , 0.        ],\n",
       "       [0.64351852, 0.36363636, 0.92307692, 0.        , 0.        ],\n",
       "       [0.62962963, 0.27272727, 0.92307692, 0.        , 0.        ],\n",
       "       [0.62037037, 0.27272727, 0.92307692, 0.        , 0.        ],\n",
       "       [0.60185185, 0.27272727, 0.92307692, 0.        , 0.        ],\n",
       "       [0.57407407, 0.27272727, 0.92307692, 0.        , 0.        ],\n",
       "       [0.5462963 , 0.27272727, 0.92307692, 0.        , 0.        ],\n",
       "       [0.52777778, 0.27272727, 0.92307692, 0.        , 0.        ],\n",
       "       [0.52314815, 0.27272727, 0.92307692, 0.        , 0.        ],\n",
       "       [0.5       , 0.22727273, 0.92307692, 0.        , 0.        ],\n",
       "       [0.48148148, 0.22727273, 0.92307692, 0.        , 0.        ],\n",
       "       [0.46296296, 0.22727273, 0.92307692, 0.        , 0.        ],\n",
       "       [0.44907407, 0.18181818, 0.92307692, 0.        , 0.        ],\n",
       "       [0.43518519, 0.18181818, 0.92307692, 0.        , 0.        ],\n",
       "       [0.4212963 , 0.13636364, 0.84615385, 0.        , 0.        ],\n",
       "       [0.40277778, 0.13636364, 0.76923077, 0.        , 0.        ],\n",
       "       [0.40277778, 0.13636364, 0.76923077, 0.        , 0.        ],\n",
       "       [0.36111111, 0.09090909, 0.76923077, 0.        , 0.        ],\n",
       "       [0.35648148, 0.09090909, 0.76923077, 0.        , 0.        ],\n",
       "       [0.34722222, 0.09090909, 0.76923077, 0.        , 0.        ],\n",
       "       [0.34722222, 0.09090909, 0.76923077, 0.        , 0.        ],\n",
       "       [0.33796296, 0.09090909, 0.76923077, 0.        , 0.        ],\n",
       "       [0.33333333, 0.09090909, 0.76923077, 0.        , 0.        ],\n",
       "       [0.3287037 , 0.09090909, 0.76923077, 0.        , 0.        ],\n",
       "       [0.31944444, 0.09090909, 0.76923077, 0.        , 0.        ],\n",
       "       [0.31481481, 0.09090909, 0.76923077, 0.        , 0.        ],\n",
       "       [0.30555556, 0.09090909, 0.76923077, 0.        , 0.        ],\n",
       "       [0.2962963 , 0.09090909, 0.76923077, 0.        , 0.        ],\n",
       "       [0.27777778, 0.09090909, 0.76923077, 0.        , 0.        ],\n",
       "       [0.26851852, 0.09090909, 0.76923077, 0.        , 0.        ],\n",
       "       [0.26388889, 0.09090909, 0.76923077, 0.        , 0.        ],\n",
       "       [0.24537037, 0.09090909, 0.76923077, 0.        , 0.        ],\n",
       "       [0.24537037, 0.09090909, 0.76923077, 0.        , 0.        ],\n",
       "       [0.23611111, 0.09090909, 0.76923077, 0.        , 0.        ],\n",
       "       [0.23611111, 0.09090909, 0.76923077, 0.        , 0.        ],\n",
       "       [0.23148148, 0.09090909, 0.76923077, 0.        , 0.        ],\n",
       "       [0.22222222, 0.09090909, 0.76923077, 0.        , 0.        ],\n",
       "       [0.21759259, 0.09090909, 0.76923077, 0.        , 0.        ],\n",
       "       [0.21296296, 0.09090909, 0.76923077, 0.        , 0.        ],\n",
       "       [0.2037037 , 0.09090909, 0.76923077, 0.        , 0.        ],\n",
       "       [0.2037037 , 0.09090909, 0.76923077, 0.        , 0.        ],\n",
       "       [0.19444444, 0.09090909, 0.76923077, 0.        , 0.        ],\n",
       "       [0.19444444, 0.09090909, 0.76923077, 0.        , 0.        ],\n",
       "       [0.19444444, 0.09090909, 0.76923077, 0.        , 0.        ],\n",
       "       [0.17592593, 0.09090909, 0.76923077, 0.        , 0.        ],\n",
       "       [0.1712963 , 0.09090909, 0.76923077, 0.        , 0.        ],\n",
       "       [0.1712963 , 0.09090909, 0.76923077, 0.        , 0.        ],\n",
       "       [0.16203704, 0.09090909, 0.76923077, 0.        , 0.        ],\n",
       "       [0.16203704, 0.09090909, 0.76923077, 0.        , 0.        ],\n",
       "       [0.16203704, 0.09090909, 0.76923077, 0.        , 0.        ],\n",
       "       [0.15740741, 0.09090909, 0.76923077, 0.        , 0.        ],\n",
       "       [0.15277778, 0.09090909, 0.69230769, 0.        , 0.        ],\n",
       "       [0.15277778, 0.04545455, 0.69230769, 0.        , 0.        ],\n",
       "       [0.15277778, 0.04545455, 0.69230769, 0.        , 0.        ],\n",
       "       [0.14814815, 0.04545455, 0.69230769, 0.        , 0.        ],\n",
       "       [0.14351852, 0.04545455, 0.69230769, 0.        , 0.        ],\n",
       "       [0.14351852, 0.04545455, 0.69230769, 0.        , 0.        ],\n",
       "       [0.13888889, 0.04545455, 0.69230769, 0.        , 0.        ],\n",
       "       [0.13425926, 0.04545455, 0.69230769, 0.        , 0.        ],\n",
       "       [0.13425926, 0.04545455, 0.69230769, 0.        , 0.        ],\n",
       "       [0.125     , 0.04545455, 0.69230769, 0.        , 0.        ],\n",
       "       [0.12037037, 0.04545455, 0.69230769, 0.        , 0.        ],\n",
       "       [0.12037037, 0.04545455, 0.53846154, 0.        , 0.        ],\n",
       "       [0.12037037, 0.04545455, 0.53846154, 0.        , 0.        ],\n",
       "       [0.11574074, 0.04545455, 0.53846154, 0.        , 0.        ],\n",
       "       [0.11574074, 0.04545455, 0.53846154, 0.        , 0.        ],\n",
       "       [0.11574074, 0.04545455, 0.53846154, 0.        , 0.        ],\n",
       "       [0.11574074, 0.04545455, 0.53846154, 0.        , 0.        ],\n",
       "       [0.11111111, 0.04545455, 0.53846154, 0.        , 0.        ],\n",
       "       [0.11111111, 0.04545455, 0.53846154, 0.        , 0.        ],\n",
       "       [0.10185185, 0.04545455, 0.53846154, 0.        , 0.        ],\n",
       "       [0.10185185, 0.04545455, 0.46153846, 0.        , 0.        ],\n",
       "       [0.09722222, 0.04545455, 0.46153846, 0.        , 0.        ],\n",
       "       [0.09722222, 0.04545455, 0.46153846, 0.        , 0.        ],\n",
       "       [0.09259259, 0.04545455, 0.46153846, 0.        , 0.        ],\n",
       "       [0.08796296, 0.04545455, 0.46153846, 0.        , 0.        ],\n",
       "       [0.08333333, 0.04545455, 0.46153846, 0.        , 0.        ],\n",
       "       [0.0787037 , 0.04545455, 0.46153846, 0.        , 0.        ],\n",
       "       [0.0787037 , 0.04545455, 0.46153846, 0.        , 0.        ],\n",
       "       [0.0787037 , 0.04545455, 0.46153846, 0.        , 0.        ],\n",
       "       [0.0787037 , 0.04545455, 0.46153846, 0.        , 0.        ],\n",
       "       [0.0787037 , 0.04545455, 0.46153846, 0.        , 0.        ],\n",
       "       [0.0787037 , 0.04545455, 0.46153846, 0.        , 0.        ],\n",
       "       [0.0787037 , 0.04545455, 0.46153846, 0.        , 0.        ],\n",
       "       [0.0787037 , 0.04545455, 0.46153846, 0.        , 0.        ],\n",
       "       [0.0787037 , 0.04545455, 0.46153846, 0.        , 0.        ],\n",
       "       [0.0787037 , 0.04545455, 0.38461538, 0.        , 0.        ],\n",
       "       [0.0787037 , 0.04545455, 0.38461538, 0.        , 0.        ],\n",
       "       [0.0787037 , 0.04545455, 0.38461538, 0.        , 0.        ],\n",
       "       [0.0787037 , 0.04545455, 0.38461538, 0.        , 0.        ],\n",
       "       [0.0787037 , 0.04545455, 0.38461538, 0.        , 0.        ],\n",
       "       [0.0787037 , 0.04545455, 0.38461538, 0.        , 0.        ],\n",
       "       [0.0787037 , 0.04545455, 0.38461538, 0.        , 0.        ],\n",
       "       [0.0787037 , 0.04545455, 0.38461538, 0.        , 0.        ],\n",
       "       [0.06944444, 0.04545455, 0.38461538, 0.        , 0.        ],\n",
       "       [0.06944444, 0.04545455, 0.38461538, 0.        , 0.        ],\n",
       "       [0.06944444, 0.04545455, 0.38461538, 0.        , 0.        ],\n",
       "       [0.06944444, 0.04545455, 0.38461538, 0.        , 0.        ],\n",
       "       [0.06481481, 0.04545455, 0.30769231, 0.        , 0.        ],\n",
       "       [0.06481481, 0.04545455, 0.30769231, 0.        , 0.        ],\n",
       "       [0.06481481, 0.04545455, 0.30769231, 0.        , 0.        ],\n",
       "       [0.06018519, 0.04545455, 0.30769231, 0.        , 0.        ],\n",
       "       [0.06018519, 0.04545455, 0.30769231, 0.        , 0.        ],\n",
       "       [0.06018519, 0.04545455, 0.30769231, 0.        , 0.        ],\n",
       "       [0.05555556, 0.04545455, 0.30769231, 0.        , 0.        ],\n",
       "       [0.05555556, 0.04545455, 0.30769231, 0.        , 0.        ],\n",
       "       [0.05092593, 0.04545455, 0.30769231, 0.        , 0.        ],\n",
       "       [0.05092593, 0.04545455, 0.30769231, 0.        , 0.        ],\n",
       "       [0.05092593, 0.04545455, 0.30769231, 0.        , 0.        ],\n",
       "       [0.05092593, 0.04545455, 0.30769231, 0.        , 0.        ],\n",
       "       [0.05092593, 0.04545455, 0.30769231, 0.        , 0.        ],\n",
       "       [0.05092593, 0.04545455, 0.30769231, 0.        , 0.        ],\n",
       "       [0.05092593, 0.04545455, 0.30769231, 0.        , 0.        ],\n",
       "       [0.05092593, 0.04545455, 0.30769231, 0.        , 0.        ],\n",
       "       [0.05092593, 0.04545455, 0.30769231, 0.        , 0.        ],\n",
       "       [0.05092593, 0.04545455, 0.30769231, 0.        , 0.        ],\n",
       "       [0.05092593, 0.04545455, 0.30769231, 0.        , 0.        ],\n",
       "       [0.0462963 , 0.04545455, 0.30769231, 0.        , 0.        ],\n",
       "       [0.0462963 , 0.04545455, 0.30769231, 0.        , 0.        ],\n",
       "       [0.04166667, 0.04545455, 0.30769231, 0.        , 0.        ],\n",
       "       [0.04166667, 0.04545455, 0.30769231, 0.        , 0.        ],\n",
       "       [0.04166667, 0.04545455, 0.30769231, 0.        , 0.        ],\n",
       "       [0.04166667, 0.04545455, 0.30769231, 0.        , 0.        ],\n",
       "       [0.03703704, 0.04545455, 0.30769231, 0.        , 0.        ],\n",
       "       [0.03703704, 0.04545455, 0.30769231, 0.        , 0.        ],\n",
       "       [0.03703704, 0.04545455, 0.30769231, 0.        , 0.        ],\n",
       "       [0.03703704, 0.04545455, 0.30769231, 0.        , 0.        ],\n",
       "       [0.03703704, 0.04545455, 0.30769231, 0.        , 0.        ],\n",
       "       [0.03703704, 0.04545455, 0.30769231, 0.        , 0.        ],\n",
       "       [0.03703704, 0.04545455, 0.30769231, 0.        , 0.        ],\n",
       "       [0.03703704, 0.04545455, 0.30769231, 0.        , 0.        ],\n",
       "       [0.03703704, 0.04545455, 0.30769231, 0.        , 0.        ],\n",
       "       [0.03703704, 0.04545455, 0.30769231, 0.        , 0.        ]])"
      ]
     },
     "execution_count": 145,
     "metadata": {},
     "output_type": "execute_result"
    }
   ],
   "source": [
    "observed_value_matrix"
   ]
  },
  {
   "cell_type": "code",
   "execution_count": 146,
   "id": "6df44ddb-6c7d-4810-b42c-43b7f6fb75c0",
   "metadata": {},
   "outputs": [
    {
     "data": {
      "text/plain": [
       "[array([13.6 ,  5.87, 50.06, 15.74, 12.99,  3.81,  4.94,  2.14,  2.56,\n",
       "        17.88,  2.69,  2.4 ,  0.88,  1.5 ,  1.89,  1.13,  0.49,  0.58,\n",
       "         1.29,  0.22, 34.97, 17.54, 18.97,  9.69,  1.65,  0.64,  3.33,\n",
       "         2.74,  1.85,  8.38,  2.03,  3.18,  7.26,  4.74,  0.85,  4.21,\n",
       "         1.6 ,  6.98,  9.65,  2.56,  2.39,  1.59,  2.87,  3.73,  2.13,\n",
       "         4.93,  4.88, 10.67,  4.35,  5.36, 14.53,  6.98,  2.57,  5.75,\n",
       "         8.4 ,  5.07,  4.22,  5.89,  6.37,  1.26,  1.9 ,  3.11,  3.59,\n",
       "         5.43, 12.37,  3.26,  4.22,  5.81,  8.65,  2.21,  2.64,  3.3 ,\n",
       "         1.76,  3.89,  6.14, 15.42,  5.76,  4.85,  5.63,  5.6 ,  7.16,\n",
       "         8.92, 11.77, 18.61, 13.75,  8.55, 10.07,  6.25,  4.02,  2.9 ,\n",
       "         3.35,  6.5 ,  7.68,  9.23, 11.36, 26.82, 14.83, 18.36,  2.68,\n",
       "        33.55, 12.25, 11.72,  4.43, 15.45,  2.23,  3.37,  2.86,  0.92,\n",
       "         1.58,  2.32,  2.3 ,  1.99,  1.08,  1.75, 22.38, 24.61,  9.05,\n",
       "        14.39,  6.15,  5.31, 10.08,  9.1 , 39.56,  9.57, 28.13,  8.92,\n",
       "         7.85,  7.4 , 10.9 ,  9.16,  4.46,  2.91,  1.96,  1.16,  4.78,\n",
       "        24.25, 23.74,  3.46,  3.62,  6.95,  2.22,  3.28,  2.15,  4.42,\n",
       "         2.61,  1.89,  4.74,  2.68, 22.34,  8.8 ,  1.  ,  6.85, 39.55,\n",
       "        27.33, 11.21, 12.24,  2.69,  4.53,  6.94,  2.47,  6.56, 12.37,\n",
       "         6.26, 12.94,  5.54,  4.55,  3.57,  6.89,  3.19,  5.39,  0.68,\n",
       "         9.75,  8.19, 77.1 , 10.64, 15.01, 48.55, 16.36,  5.35,  4.12,\n",
       "         0.99,  3.66,  2.47,  2.8 ,  2.78,  2.75,  2.4 ,  4.67,  4.6 ,\n",
       "         3.28,  4.71,  5.41,  3.43,  6.43,  6.04,  6.82,  6.86, 10.56,\n",
       "        66.17, 18.6 ,  6.6 , 17.52, 11.2 ,  5.23, 17.12,  5.63,  3.97,\n",
       "         7.7 ,  3.69,  4.68,  9.28, 12.57, 23.11,  6.81,  9.66,  9.07]),\n",
       " array([13.85,  6.83,  6.29,  4.  ,  5.84,  0.98,  5.26,  2.69,  3.41,\n",
       "         0.71, 31.98,  0.55,  1.27,  0.74,  0.81,  1.  ,  0.29,  0.23,\n",
       "         0.1 ,  3.95,  1.43,  1.43]),\n",
       " array([41.47,  6.55, 15.92, 15.88, 52.73, 42.31, 13.63, 20.78, 23.03,\n",
       "         6.25,  2.58, 49.24, 17.71]),\n",
       " array([], dtype=float64),\n",
       " array([], dtype=float64)]"
      ]
     },
     "execution_count": 146,
     "metadata": {},
     "output_type": "execute_result"
    }
   ],
   "source": [
    "observed_vals"
   ]
  },
  {
   "cell_type": "code",
   "execution_count": 128,
   "id": "e4c50563-9945-4acc-8e70-4a05ddb2d963",
   "metadata": {},
   "outputs": [
    {
     "name": "stdout",
     "output_type": "stream",
     "text": [
      "(0.0, 8.200000000000001)\n",
      "(0.2, 15.8)\n",
      "(0.2, 3.8000000000000003)\n",
      "(0.0, 6.800000000000001)\n",
      "(0.0, 11.200000000000001)\n"
     ]
    }
   ],
   "source": [
    "def hdi(samples, cred_mass=.75):\n",
    "    # Sort the samples\n",
    "    sorted_samples = np.sort(samples)\n",
    "    \n",
    "    # Calculate the number of included samples in the interval\n",
    "    n_samples = len(sorted_samples)\n",
    "    n_cred_samples = int(np.floor(cred_mass * n_samples))\n",
    "    \n",
    "    # Compute the width of intervals that include the desired number of samples\n",
    "    interval_widths = sorted_samples[n_cred_samples:] - sorted_samples[:n_samples - n_cred_samples]\n",
    "    \n",
    "    # Find the shortest interval\n",
    "    min_idx = np.argmin(interval_widths)\n",
    "    \n",
    "    # Return the HDI\n",
    "    hdi_min = sorted_samples[min_idx]\n",
    "    hdi_max = sorted_samples[min_idx + n_cred_samples]\n",
    "    \n",
    "    return hdi_min, hdi_max\n",
    "\n",
    "for element in posteriors:\n",
    "    print(hdi(element))\n"
   ]
  },
  {
   "cell_type": "code",
   "execution_count": 114,
   "id": "0524f2e0-c57b-47d8-9ebf-4eee27619894",
   "metadata": {
    "editable": true,
    "slideshow": {
     "slide_type": ""
    },
    "tags": []
   },
   "outputs": [
    {
     "data": {
      "text/plain": [
       "[2.69, 15.879999999999999, 5.35, 4.285, 6.2]"
      ]
     },
     "execution_count": 114,
     "metadata": {},
     "output_type": "execute_result"
    }
   ],
   "source": [
    "[np.median(observed_vals[x]) for x in [0, 1, 2, 3, 4]]"
   ]
  },
  {
   "cell_type": "code",
   "execution_count": 129,
   "id": "e9030e25-d098-4d48-a2d0-250165b25cbe",
   "metadata": {},
   "outputs": [
    {
     "data": {
      "text/plain": [
       "[1.0,\n",
       " 0.992746603901876,\n",
       " 0.9854938072290768,\n",
       " 0.9782422092583203,\n",
       " 0.9709924089691729]"
      ]
     },
     "execution_count": 129,
     "metadata": {},
     "output_type": "execute_result"
    }
   ],
   "source": [
    "prior"
   ]
  },
  {
   "cell_type": "code",
   "execution_count": null,
   "id": "5fa977bb-77e9-4547-a6e4-c280761fc37e",
   "metadata": {
    "editable": true,
    "slideshow": {
     "slide_type": ""
    },
    "tags": []
   },
   "outputs": [],
   "source": [
    "fig, ax = plt.subplots()\n",
    "\n",
    "# sns.scatterplot(x=index_range, y = prior_pdf, ax=ax)\n",
    "sns.scatterplot(x=index_range, y=buildings_matrix[:, 4], color='blue', ax=ax)\n",
    "sns.scatterplot(x=index_range, y=pdf_values, color='black', ax=ax)\n",
    "sns.scatterplot(x=index_range, y=t, color='magenta', ax=ax)\n"
   ]
  },
  {
   "cell_type": "code",
   "execution_count": null,
   "id": "a16fa42f-2241-4a08-9590-3fd6baa22bcd",
   "metadata": {
    "editable": true,
    "slideshow": {
     "slide_type": ""
    },
    "tags": []
   },
   "outputs": [],
   "source": [
    "import numpy as np\n",
    "import matplotlib.pyplot as plt\n",
    "from scipy.stats import halfnorm\n",
    "\n",
    "# Define parameters\n",
    "sigma = 6.4  # Scale parameter\n",
    "range_max = 50  # Maximum range for the x-values\n",
    "index_range = np.arange(0, range_max + 0.1, 0.2)  # Values from 0 to 50\n",
    "\n",
    "# Calculate the Half-Normal CDF\n",
    "cdf_values = halfnorm.cdf(index_range, scale=sigma)\n",
    "\n",
    "# Transform to 'exceedance' probabilities\n",
    "exceedance_probabilities = 1 - cdf_values\n",
    "\n",
    "# Visualization\n",
    "plt.figure(figsize=(8, 4))\n",
    "plt.plot(index_range, exceedance_probabilities, label='1 - CDF (Half-Normal)')\n",
    "plt.title('Exceedance Probability for Half-Normal Distribution')\n",
    "plt.xlabel('Value')\n",
    "plt.ylabel('Probability of Exceeding Value')\n",
    "plt.grid(True)\n",
    "plt.legend()\n",
    "plt.show()\n"
   ]
  },
  {
   "cell_type": "code",
   "execution_count": null,
   "id": "acafb755-4eba-432b-852d-c4e3a28bdb09",
   "metadata": {
    "editable": true,
    "slideshow": {
     "slide_type": ""
    },
    "tags": []
   },
   "outputs": [],
   "source": [
    "import pymc"
   ]
  },
  {
   "cell_type": "code",
   "execution_count": null,
   "id": "d3689447-50d5-4828-8246-8213dfd17b43",
   "metadata": {
    "editable": true,
    "slideshow": {
     "slide_type": ""
    },
    "tags": []
   },
   "outputs": [],
   "source": []
  }
 ],
 "metadata": {
  "kernelspec": {
   "display_name": "Python 3 (ipykernel)",
   "language": "python",
   "name": "python3"
  },
  "language_info": {
   "codemirror_mode": {
    "name": "ipython",
    "version": 3
   },
   "file_extension": ".py",
   "mimetype": "text/x-python",
   "name": "python",
   "nbconvert_exporter": "python",
   "pygments_lexer": "ipython3",
   "version": "3.11.8"
  }
 },
 "nbformat": 4,
 "nbformat_minor": 5
}
