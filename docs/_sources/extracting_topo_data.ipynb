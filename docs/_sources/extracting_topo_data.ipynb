{
 "cells": [
  {
   "cell_type": "code",
   "execution_count": 1,
   "id": "64c16819-72da-4b47-a3aa-988d3f5a8203",
   "metadata": {
    "editable": true,
    "slideshow": {
     "slide_type": ""
    },
    "tags": [
     "remove-input"
    ]
   },
   "outputs": [],
   "source": [
    "%load_ext watermark\n",
    "import pandas as pd\n",
    "# import numpy as np"
   ]
  },
  {
   "cell_type": "markdown",
   "id": "7bca0862-a1e5-4fd3-ae17-65ac2fd7cd0a",
   "metadata": {
    "editable": true,
    "slideshow": {
     "slide_type": ""
    },
    "tags": []
   },
   "source": [
    "# Extracting land use values\n",
    "\n",
    "This is a summary of the methods to extract topographical features from vector and points layers using QGIS. Atribute names are translated to the target languages and Null values are either corrected or eliminated.\n",
    "\n",
    "QGIS is not the optimal tool for this operation if the intention is to automate the aquisition of the data. However for a limited number of users and relatively few sample locations added each year this method is adequate to the task.\n",
    "\n",
    "__Note: 1'500 meter buffer (circular)__\n",
    "\n",
    "The land-use chapter in the federal report generated alot of interest. It inspired an academic article and collaboration with Wagenigen Research and University. The principal was applied using an empirical Bayes method with the Solid-Waste-Team at the EPFL.\n",
    "\n",
    "1. the area of the buffer is  $\\pi * 1500²$ or 7065000 m²\n",
    "\n",
    "## Land-use, land-cover and streets\n",
    "\n",
    "__Land-cover:__ Are elements such as buildings, forest, orchard or undefined. There is at least one land-cover element for each survey location. If so then it takes 100% of the available dry land. \n",
    "\n",
    "__Land-use:__ Are elements that may or may not be in the buffer. These are items like schools, hospitals, water-treatment plants. Individually they are only a small portion of the available dry land. \n",
    "\n",
    "### Extracting land-cover and land-use:\n",
    "\n",
    "For this method we are using the land-cover layer from swissTLM regio\n",
    "\n",
    "finished columns = slug, attribute , attribute_type, area, dry,\tscale\n",
    "\n",
    "In QGIS:\n",
    "\n",
    "1. create a buffer around each survey point\n",
    "   * make sure that the survey location and feature_type is in the attributes of the new buffer layer\n",
    "   * the survey locations are loaded as points from .csv file\n",
    "   * reproject the points layer to the project CRS \n",
    "\n",
    "2. use the new buffer layer as an overlay to the land-cover layer\n",
    "   * use the overlay intersection tool\n",
    "   * select the fields to keep from the buffer (slug and feature type)\n",
    "   * select the fields to keep from the land-cover layer\n",
    "   * run the function\n",
    "   * this creates a temporary layer called _intersection_\n",
    "\n",
    "3. get the surface area of all the land-cover and land-use features in each buffer of the temporary layer\n",
    "   * use the field calculator for the attribute table of the layer\n",
    "   * in the field calculator, make a new field and enter the formula `\\$area`\n",
    "   * for this example the method is elipsoid _bessel 1841 (epsg 7001)_\n",
    "   * this is set in the properties of the QGIS project\n",
    "   * Export the layer as .csv\n",
    "\n",
    "4. verify the land-use features per location\n",
    "   * drop duplicate values: use location, feature and area to define duplicates\n",
    "   * attention! different names for lake and reservoir\n",
    "     * change Stausee to See\n",
    "\n",
    "5. make a dry land feature\n",
    "   * this is the surface area of the buffer that is not covered by water\n",
    "   * substract the area of See from the area of the buffer\n",
    "   * identify survey locations that have siginifcant water features but are not listed as lakes\n",
    "  \n",
    "6. Scale the land-use attributes of interest to the available dry-land\n",
    "  \n",
    "__Example making dry land columns and scaling the land-use__\n",
    "\n",
    "    \n",
    "```python\n",
    "# separate locations that are lakes\n",
    "# recall that feature type has a designator for lakes\n",
    "lakes = lg[(lg.feature_ty == 'l') | lg.slug.isin(snl)].copy()\n",
    "\n",
    "# from this subset of data separate the surface area covered by water\n",
    "# set the slug to the index and substract the surface area of the water\n",
    "# from the surface area of the buffer\n",
    "lake_only = lakes[lakes.feature == \"See\"]\n",
    "lo = lake_only[[\"slug\", \"area\"]].set_index(\"slug\")\n",
    "\n",
    "# substract the lake value from the area of the buffer\n",
    "lo[\"dry\"] = 7065000 - lo.area\n",
    "lodry = lo[\"dry\"]\n",
    "\n",
    "# merge the original land-use data from lakes with the\n",
    "# the dry land results\n",
    "lgi = lakes.merge(lo[\"dry\"], left_on=\"slug\", right_index=True)\n",
    "# remove the lake feature from the features columns\n",
    "lgi = lgi[lgi.feature != \"See\"].copy()\n",
    "\n",
    "# scale the landuse feature to the available dry land\n",
    "lgi[\"scale\"] = (lgi.area/lgi.dry).round(3)\n",
    "\n",
    "# repeat the process for locations that do not have a lake feature\n",
    "# these locations are accounted for above\n",
    "eliminate = [*snl, *lo.index]\n",
    "# recuperate all other locations\n",
    "rivers_parcs = lg[~lg.slug.isin(eliminate)].copy()\n",
    "# define the dry land as the area of the buffer\n",
    "rivers_parcs[\"dry\"] = 7065000\n",
    "# scale the features with the dry land value\n",
    "rivers_parcs[\"scale\"] = rivers_parcs.area/rivers_parcs.dry\n",
    "\n",
    "# combine the two results\n",
    "land_cover = pd.concat([rivers_parcs, lgi])\n",
    "```\n",
    "Once the dry land value is calculated for each buffer of the land-cover buffer use the dry-land value to scale the components of the land-use buffer\n",
    "\n",
    "### Extracting street lengths\n",
    "\n",
    "The tlmREgio streets or strasse layer is applicable.\n",
    "\n",
    "__Note:__ the street lenghts are not scaled\n",
    "\n",
    "finished columns = slug, attribute, attribute_type, length\n",
    "\n",
    "__Attention:__\n",
    "\n",
    "1. The streets layer can have many copies of the same street in a buffer\n",
    "2. The cumulative sum of a street in a layer can exceed the radius of the buffer (windy roads)\n",
    "3. Dissolving the polylines of each buffer in the layer is essential\n",
    "4. Drop duplicate values on slug, attribute, length\n",
    "\n",
    "1. Using the same 1'500 m buffer that was used for land-cover and land-use. Intersect the buffer with the street layer\n",
    "2. Dissolve the polylines in each buffer\n",
    "   * select the fields from the streets layer to keep (OBJVAL)\n",
    "   * select the fields from the buffer layer to kepp (slug, feature_ty)\n",
    "   * check the box `keep disjoint features separate`\n",
    "   * run the function\n",
    "   * export to .csv"
   ]
  },
  {
   "cell_type": "code",
   "execution_count": 2,
   "id": "54148c36-ff96-4891-b230-479c5598f430",
   "metadata": {
    "editable": true,
    "slideshow": {
     "slide_type": ""
    },
    "tags": [
     "remove-input"
    ]
   },
   "outputs": [],
   "source": [
    "land_cover_data = \"data/end_process/land_cover.csv\"\n",
    "land_use_data = \"data/end_process/land_use.csv\"\n",
    "street_data = \"data/end_process/streets.csv\"\n",
    "intersection_attributes = \"data/end_process/river_intersect_lakes.csv\"\n",
    "land_cover = pd.read_csv(land_cover_data)\n",
    "land_use = pd.read_csv(land_use_data)\n",
    "streets = pd.read_csv(street_data)\n",
    "river_intersect_lakes = pd.read_csv(intersection_attributes)"
   ]
  },
  {
   "cell_type": "markdown",
   "id": "b6c9d25e-bf0d-42b4-abd2-4db7d19aa951",
   "metadata": {
    "editable": true,
    "slideshow": {
     "slide_type": ""
    },
    "tags": []
   },
   "source": [
    "#### Land-cover\n",
    "\n"
   ]
  },
  {
   "cell_type": "markdown",
   "id": "dbae7be9-28a9-48dc-b337-d9085123f9cb",
   "metadata": {
    "editable": true,
    "slideshow": {
     "slide_type": ""
    },
    "tags": []
   },
   "source": [
    "Land-cover attributes"
   ]
  },
  {
   "cell_type": "code",
   "execution_count": 3,
   "id": "bf670e98-1084-4385-85b3-e37ae4662877",
   "metadata": {
    "editable": true,
    "slideshow": {
     "slide_type": ""
    },
    "tags": [
     "remove-input"
    ]
   },
   "outputs": [
    {
     "data": {
      "text/plain": [
       "array(['undefined', 'Siedl', 'Wald', 'Reben', 'Obstanlage'], dtype=object)"
      ]
     },
     "execution_count": 3,
     "metadata": {},
     "output_type": "execute_result"
    }
   ],
   "source": [
    "land_cover.attribute.unique()"
   ]
  },
  {
   "cell_type": "markdown",
   "id": "b1f73253-461e-47f6-b05c-bca3b5d34078",
   "metadata": {
    "editable": true,
    "slideshow": {
     "slide_type": ""
    },
    "tags": []
   },
   "source": [
    "land-cover attribute translations\n",
    "\n",
    "```python\n",
    "land_cover_fr = {\n",
    "    'undefined': 'Non défini',\n",
    "    'Siedl': 'Siedl',\n",
    "    'Wald': 'Forêt',\n",
    "    'Reben': 'Vignes',\n",
    "    'Obstanlage': 'Verger'\n",
    "}\n",
    "\n",
    "land_cover_en = {\n",
    "    'undefined': 'Undefined',\n",
    "    'Siedl': 'Settlement',\n",
    "    'Wald': 'Forest',\n",
    "    'Reben': 'Vines',\n",
    "    'Obstanlage': 'Orchard'\n",
    "}\n",
    "```\n",
    "\n",
    "Land-cover results for one location"
   ]
  },
  {
   "cell_type": "code",
   "execution_count": 4,
   "id": "d1977967-21ae-4f66-a22f-490e2ff1a173",
   "metadata": {
    "editable": true,
    "slideshow": {
     "slide_type": ""
    },
    "tags": [
     "remove-input"
    ]
   },
   "outputs": [],
   "source": [
    "land_cover_fr = {\n",
    "    'undefined': 'Non défini',\n",
    "    'Siedl': 'Siedl',\n",
    "    'Wald': 'Forêt',\n",
    "    'Reben': 'Vignes',\n",
    "    'Obstanlage': 'Verger'\n",
    "}\n",
    "\n",
    "land_cover_en = {\n",
    "    'undefined': 'Undefined',\n",
    "    'Siedl': 'Settlement',\n",
    "    'Wald': 'Forest',\n",
    "    'Reben': 'Vines',\n",
    "    'Obstanlage': 'Orchard'\n",
    "}"
   ]
  },
  {
   "cell_type": "code",
   "execution_count": 5,
   "id": "b9d04e40-b101-48fa-8e18-238bcc0b9323",
   "metadata": {
    "editable": true,
    "slideshow": {
     "slide_type": ""
    },
    "tags": [
     "remove-input"
    ]
   },
   "outputs": [
    {
     "data": {
      "text/html": [
       "<div>\n",
       "<style scoped>\n",
       "    .dataframe tbody tr th:only-of-type {\n",
       "        vertical-align: middle;\n",
       "    }\n",
       "\n",
       "    .dataframe tbody tr th {\n",
       "        vertical-align: top;\n",
       "    }\n",
       "\n",
       "    .dataframe thead th {\n",
       "        text-align: right;\n",
       "    }\n",
       "</style>\n",
       "<table border=\"1\" class=\"dataframe\">\n",
       "  <thead>\n",
       "    <tr style=\"text-align: right;\">\n",
       "      <th></th>\n",
       "      <th>slug</th>\n",
       "      <th>attribute</th>\n",
       "      <th>attribute_type</th>\n",
       "      <th>area</th>\n",
       "      <th>dry</th>\n",
       "      <th>scale</th>\n",
       "    </tr>\n",
       "  </thead>\n",
       "  <tbody>\n",
       "    <tr>\n",
       "      <th>141</th>\n",
       "      <td>parc-des-pierrettes</td>\n",
       "      <td>undefined</td>\n",
       "      <td>land-cover</td>\n",
       "      <td>68285</td>\n",
       "      <td>3832559</td>\n",
       "      <td>0.018</td>\n",
       "    </tr>\n",
       "    <tr>\n",
       "      <th>623</th>\n",
       "      <td>parc-des-pierrettes</td>\n",
       "      <td>Siedl</td>\n",
       "      <td>land-cover</td>\n",
       "      <td>3606885</td>\n",
       "      <td>3832559</td>\n",
       "      <td>0.941</td>\n",
       "    </tr>\n",
       "    <tr>\n",
       "      <th>624</th>\n",
       "      <td>parc-des-pierrettes</td>\n",
       "      <td>Wald</td>\n",
       "      <td>land-cover</td>\n",
       "      <td>157389</td>\n",
       "      <td>3832559</td>\n",
       "      <td>0.041</td>\n",
       "    </tr>\n",
       "  </tbody>\n",
       "</table>\n",
       "</div>"
      ],
      "text/plain": [
       "                    slug  attribute attribute_type     area      dry  scale\n",
       "141  parc-des-pierrettes  undefined     land-cover    68285  3832559  0.018\n",
       "623  parc-des-pierrettes      Siedl     land-cover  3606885  3832559  0.941\n",
       "624  parc-des-pierrettes       Wald     land-cover   157389  3832559  0.041"
      ]
     },
     "execution_count": 5,
     "metadata": {},
     "output_type": "execute_result"
    }
   ],
   "source": [
    "land_cover[land_cover.slug == \"parc-des-pierrettes\"]"
   ]
  },
  {
   "attachments": {},
   "cell_type": "markdown",
   "id": "36d5a536-7f46-4b15-810b-05e8b0b009a9",
   "metadata": {
    "editable": true,
    "slideshow": {
     "slide_type": ""
    },
    "tags": []
   },
   "source": [
    "#### Land-use\n",
    "\n",
    "Land-use attributes:"
   ]
  },
  {
   "cell_type": "code",
   "execution_count": 6,
   "id": "41f9f450-1230-470a-880f-68aecb1d1ec6",
   "metadata": {
    "editable": true,
    "slideshow": {
     "slide_type": ""
    },
    "tags": [
     "remove-input"
    ]
   },
   "outputs": [
    {
     "data": {
      "text/plain": [
       "array(['Baumschule', 'Friedhof', 'Schul- und Hochschulareal',\n",
       "       'Wald nicht bestockt', 'Abwasserreinigungsareal',\n",
       "       'Historisches Areal', 'Kraftwerkareal', 'Schrebergartenareal',\n",
       "       'Truppenuebungsplatz', 'Unterwerkareal',\n",
       "       'Kehrichtverbrennungsareal', 'Spitalareal',\n",
       "       'Oeffentliches Parkareal', 'Messeareal',\n",
       "       'Massnahmenvollzugsanstaltsareal', 'Kiesabbauareal',\n",
       "       'Steinbruchareal', 'Klosterareal', 'Deponieareal', 'Antennenareal',\n",
       "       'Lehmabbauareal'], dtype=object)"
      ]
     },
     "execution_count": 6,
     "metadata": {},
     "output_type": "execute_result"
    }
   ],
   "source": [
    "land_use.attribute.unique()"
   ]
  },
  {
   "cell_type": "markdown",
   "id": "5db7039a-c66d-4e36-ab0a-d051ac04536f",
   "metadata": {
    "editable": true,
    "slideshow": {
     "slide_type": ""
    },
    "tags": []
   },
   "source": [
    "Land-use translations and groups\n",
    "\n",
    "```python\n",
    "\n",
    "land_use_fr = {\n",
    "    'Baumschule': 'Pépinière',\n",
    "    'Friedhof': 'Cimetière',\n",
    "    'Schul- und Hochschulareal': 'Zone scolaire et universitaire',\n",
    "    'Wald nicht bestockt': 'Forêt non peuplée',\n",
    "    'Abwasserreinigungsareal': 'Zone de traitement des eaux usées',\n",
    "    'Historisches Areal': 'Zone historique',\n",
    "    'Kraftwerkareal': 'Zone de centrale électrique',\n",
    "    'Schrebergartenareal': 'Zone de jardins familiaux',\n",
    "    'Truppenübungsplatz': 'Terrain d\\'entraînement militaire',\n",
    "    'Unterwerkareal': 'Zone de sous-station',\n",
    "    'Kehrichtverbrennungsareal': 'Zone d\\'incinération des déchets',\n",
    "    'Spitalareal': 'Zone d\\'hôpital',\n",
    "    'Öffentliches Parkareal': 'Zone de parc public',\n",
    "    'Messeareal': 'Zone d\\'exposition',\n",
    "    'Massnahmenvollzugsanstaltsareal': 'Zone d\\'établissement de traitement',\n",
    "    'Kiesabbauareal': 'Zone d\\'extraction de gravier',\n",
    "    'Steinbruchareal': 'Zone de carrière',\n",
    "    'Klosterareal': 'Zone de monastère',\n",
    "    'Deponieareal': 'Zone de décharge',\n",
    "    'Antennenareal': 'Zone d\\'antennes',\n",
    "    'Lehmabbauareal': 'Zone d\\'extraction d\\'argile'\n",
    "}\n",
    "\n",
    "land_use_en = {\n",
    "    'Baumschule': 'Nursery',\n",
    "    'Friedhof': 'Cemetery',\n",
    "    'Schul- und Hochschulareal': 'School and University Area',\n",
    "    'Wald nicht bestockt': 'Non-stocked Forest',\n",
    "    'Abwasserreinigungsareal': 'Wastewater Treatment Area',\n",
    "    'Historisches Areal': 'Historical Area',\n",
    "    'Kraftwerkareal': 'Power Plant Area',\n",
    "    'Schrebergartenareal': 'Allotment Garden Area',\n",
    "    'Truppenübungsplatz': 'Military Training Ground',\n",
    "    'Unterwerkareal': 'Substation Area',\n",
    "    'Kehrichtverbrennungsareal': 'Waste Incineration Area',\n",
    "    'Spitalareal': 'Hospital Area',\n",
    "    'Öffentliches Parkareal': 'Public Park Area',\n",
    "    'Messeareal': 'Exhibition Area',\n",
    "    'Massnahmenvollzugsanstaltsareal': 'Correctional Facility Area',\n",
    "    'Kiesabbauareal': 'Gravel Extraction Area',\n",
    "    'Steinbruchareal': 'Quarry Area',\n",
    "    'Klosterareal': 'Monastery Area',\n",
    "    'Deponieareal': 'Landfill Area',\n",
    "    'Antennenareal': 'Antenna Area',\n",
    "    'Lehmabbauareal': 'Clay Extraction Area'\n",
    "}\n",
    "\n",
    "# land_uses_grouped:\n",
    "# outdoor non technical use:\n",
    "lu_non_tech = ['Friedhof', 'Hitorisches Areal', 'Schrebergartenareal', 'Öffentliches Parkareal', 'Messeareal', 'Klosterareal',  'Wald nicht bestockt']\n",
    "\n",
    "# technical-extraction-incineration\n",
    "lu_extraction = ['Kiesabbauareal', 'Steinbruchareal',  'Lehmabbauareal',]\n",
    "\n",
    "# waste-water-treatment-powere\n",
    "lu_technical = ['Kehrichtverbrennungsareal', 'Deponieareal', 'Deponieareal', 'Abwasserreinigungsareal','Unterwerkareal', 'Antennenareal']\n",
    "\n",
    "# services:\n",
    "lu_serives = ['Massnahmenvollzugsanstaltsareal', 'Schul- und Hochschulareal', 'Spitalareal']\n",
    "```\n",
    "\n",
    "Land-use for one location:"
   ]
  },
  {
   "cell_type": "code",
   "execution_count": 7,
   "id": "f7be463f-7ffd-4809-8bf5-ace2f0d686cd",
   "metadata": {
    "editable": true,
    "slideshow": {
     "slide_type": ""
    },
    "tags": [
     "remove-input"
    ]
   },
   "outputs": [],
   "source": [
    "land_use_fr = {\n",
    "    'Baumschule': 'Pépinière',\n",
    "    'Friedhof': 'Cimetière',\n",
    "    'Schul- und Hochschulareal': 'Zone scolaire et universitaire',\n",
    "    'Wald nicht bestockt': 'Forêt non peuplée',\n",
    "    'Abwasserreinigungsareal': 'Zone de traitement des eaux usées',\n",
    "    'Historisches Areal': 'Zone historique',\n",
    "    'Kraftwerkareal': 'Zone de centrale électrique',\n",
    "    'Schrebergartenareal': 'Zone de jardins familiaux',\n",
    "    'Truppenübungsplatz': 'Terrain d\\'entraînement militaire',\n",
    "    'Unterwerkareal': 'Zone de sous-station',\n",
    "    'Kehrichtverbrennungsareal': 'Zone d\\'incinération des déchets',\n",
    "    'Spitalareal': 'Zone d\\'hôpital',\n",
    "    'Öffentliches Parkareal': 'Zone de parc public',\n",
    "    'Messeareal': 'Zone d\\'exposition',\n",
    "    'Massnahmenvollzugsanstaltsareal': 'Zone d\\'établissement de traitement',\n",
    "    'Kiesabbauareal': 'Zone d\\'extraction de gravier',\n",
    "    'Steinbruchareal': 'Zone de carrière',\n",
    "    'Klosterareal': 'Zone de monastère',\n",
    "    'Deponieareal': 'Zone de décharge',\n",
    "    'Antennenareal': 'Zone d\\'antennes',\n",
    "    'Lehmabbauareal': 'Zone d\\'extraction d\\'argile'\n",
    "}\n",
    "\n",
    "land_use_en = {\n",
    "    'Baumschule': 'Nursery',\n",
    "    'Friedhof': 'Cemetery',\n",
    "    'Schul- und Hochschulareal': 'School and University Area',\n",
    "    'Wald nicht bestockt': 'Non-stocked Forest',\n",
    "    'Abwasserreinigungsareal': 'Wastewater Treatment Area',\n",
    "    'Historisches Areal': 'Historical Area',\n",
    "    'Kraftwerkareal': 'Power Plant Area',\n",
    "    'Schrebergartenareal': 'Allotment Garden Area',\n",
    "    'Truppenübungsplatz': 'Military Training Ground',\n",
    "    'Unterwerkareal': 'Substation Area',\n",
    "    'Kehrichtverbrennungsareal': 'Waste Incineration Area',\n",
    "    'Spitalareal': 'Hospital Area',\n",
    "    'Öffentliches Parkareal': 'Public Park Area',\n",
    "    'Messeareal': 'Exhibition Area',\n",
    "    'Massnahmenvollzugsanstaltsareal': 'Correctional Facility Area',\n",
    "    'Kiesabbauareal': 'Gravel Extraction Area',\n",
    "    'Steinbruchareal': 'Quarry Area',\n",
    "    'Klosterareal': 'Monastery Area',\n",
    "    'Deponieareal': 'Landfill Area',\n",
    "    'Antennenareal': 'Antenna Area',\n",
    "    'Lehmabbauareal': 'Clay Extraction Area'\n",
    "}\n",
    "\n",
    "# land_uses_grouped:\n",
    "# outdoor non technical use:\n",
    "lu_non_tech = ['Friedhof', 'Hitorisches Areal', 'Schrebergartenareal', 'Öffentliches Parkareal', 'Messeareal', 'Klosterareal',  'Wald nicht bestockt']\n",
    "\n",
    "# technical-extraction-incineration\n",
    "lu_extraction = ['Kiesabbauareal', 'Steinbruchareal',  'Lehmabbauareal',]\n",
    "\n",
    "# waste-water-treatment-powere\n",
    "lu_technical = ['Kehrichtverbrennungsareal', 'Deponieareal', 'Deponieareal', 'Abwasserreinigungsareal','Unterwerkareal', 'Antennenareal']\n",
    "\n",
    "# services:\n",
    "lu_serives = ['Massnahmenvollzugsanstaltsareal', 'Schul- und Hochschulareal', 'Spitalareal']"
   ]
  },
  {
   "cell_type": "code",
   "execution_count": 8,
   "id": "78e2c3ef-3f33-4ba2-af29-cad7c2358e25",
   "metadata": {
    "editable": true,
    "slideshow": {
     "slide_type": ""
    },
    "tags": [
     "remove-input"
    ]
   },
   "outputs": [
    {
     "data": {
      "text/html": [
       "<div>\n",
       "<style scoped>\n",
       "    .dataframe tbody tr th:only-of-type {\n",
       "        vertical-align: middle;\n",
       "    }\n",
       "\n",
       "    .dataframe tbody tr th {\n",
       "        vertical-align: top;\n",
       "    }\n",
       "\n",
       "    .dataframe thead th {\n",
       "        text-align: right;\n",
       "    }\n",
       "</style>\n",
       "<table border=\"1\" class=\"dataframe\">\n",
       "  <thead>\n",
       "    <tr style=\"text-align: right;\">\n",
       "      <th></th>\n",
       "      <th>slug</th>\n",
       "      <th>attribute</th>\n",
       "      <th>attribute_type</th>\n",
       "      <th>area</th>\n",
       "      <th>dry</th>\n",
       "      <th>scale</th>\n",
       "    </tr>\n",
       "  </thead>\n",
       "  <tbody>\n",
       "    <tr>\n",
       "      <th>685</th>\n",
       "      <td>parc-des-pierrettes</td>\n",
       "      <td>Abwasserreinigungsareal</td>\n",
       "      <td>land-use</td>\n",
       "      <td>49488</td>\n",
       "      <td>3832559</td>\n",
       "      <td>0.012913</td>\n",
       "    </tr>\n",
       "    <tr>\n",
       "      <th>686</th>\n",
       "      <td>parc-des-pierrettes</td>\n",
       "      <td>Friedhof</td>\n",
       "      <td>land-use</td>\n",
       "      <td>11325</td>\n",
       "      <td>3832559</td>\n",
       "      <td>0.002955</td>\n",
       "    </tr>\n",
       "    <tr>\n",
       "      <th>687</th>\n",
       "      <td>parc-des-pierrettes</td>\n",
       "      <td>Oeffentliches Parkareal</td>\n",
       "      <td>land-use</td>\n",
       "      <td>175591</td>\n",
       "      <td>3832559</td>\n",
       "      <td>0.045816</td>\n",
       "    </tr>\n",
       "    <tr>\n",
       "      <th>688</th>\n",
       "      <td>parc-des-pierrettes</td>\n",
       "      <td>Schrebergartenareal</td>\n",
       "      <td>land-use</td>\n",
       "      <td>17306</td>\n",
       "      <td>3832559</td>\n",
       "      <td>0.004516</td>\n",
       "    </tr>\n",
       "    <tr>\n",
       "      <th>689</th>\n",
       "      <td>parc-des-pierrettes</td>\n",
       "      <td>Schul- und Hochschulareal</td>\n",
       "      <td>land-use</td>\n",
       "      <td>1189161</td>\n",
       "      <td>3832559</td>\n",
       "      <td>0.310279</td>\n",
       "    </tr>\n",
       "  </tbody>\n",
       "</table>\n",
       "</div>"
      ],
      "text/plain": [
       "                    slug                  attribute attribute_type     area  \\\n",
       "685  parc-des-pierrettes    Abwasserreinigungsareal       land-use    49488   \n",
       "686  parc-des-pierrettes                   Friedhof       land-use    11325   \n",
       "687  parc-des-pierrettes    Oeffentliches Parkareal       land-use   175591   \n",
       "688  parc-des-pierrettes        Schrebergartenareal       land-use    17306   \n",
       "689  parc-des-pierrettes  Schul- und Hochschulareal       land-use  1189161   \n",
       "\n",
       "         dry     scale  \n",
       "685  3832559  0.012913  \n",
       "686  3832559  0.002955  \n",
       "687  3832559  0.045816  \n",
       "688  3832559  0.004516  \n",
       "689  3832559  0.310279  "
      ]
     },
     "execution_count": 8,
     "metadata": {},
     "output_type": "execute_result"
    }
   ],
   "source": [
    "land_use[land_use.slug == \"parc-des-pierrettes\"]"
   ]
  },
  {
   "attachments": {},
   "cell_type": "markdown",
   "id": "390b8c8e-f77c-4ea2-b942-bcc49b5923bd",
   "metadata": {
    "editable": true,
    "slideshow": {
     "slide_type": ""
    },
    "tags": []
   },
   "source": [
    "#### Streets\n",
    "\n",
    "Streets attributes:"
   ]
  },
  {
   "cell_type": "code",
   "execution_count": 9,
   "id": "19641f2c-e181-4530-a144-6d280a050fd7",
   "metadata": {
    "editable": true,
    "slideshow": {
     "slide_type": ""
    },
    "tags": [
     "remove-input"
    ]
   },
   "outputs": [
    {
     "data": {
      "text/plain": [
       "array(['Autostr', 'Fahrstraes', 'Fussweg', 'HauptStrAB6', 'VerbindStr4',\n",
       "       'NebenStr3', 'VerbindStr6', 'Autobahn', 'HauptStrAB4', 'NebenStr6',\n",
       "       'Autob_Ri'], dtype=object)"
      ]
     },
     "execution_count": 9,
     "metadata": {},
     "output_type": "execute_result"
    }
   ],
   "source": [
    "streets.attribute.unique()"
   ]
  },
  {
   "cell_type": "markdown",
   "id": "62a4e8da-ada9-40d7-aae2-37fc406fc259",
   "metadata": {
    "editable": true,
    "slideshow": {
     "slide_type": ""
    },
    "tags": []
   },
   "source": [
    "Streets: translations and groups\n",
    "\n",
    "```python\n",
    "streets_fr = {\n",
    "    'Autostr': 'autoroute',\n",
    "    'NebenStr3': 'route secondaire 3',\n",
    "    'NebenStr6': 'route secondaire 6',\n",
    "    'HauptStrAB6': 'route principale 6',\n",
    "    'HauptStrAB4': 'route principale 4',\n",
    "    'Fahrstraes': 'chemin carrossable',\n",
    "    'Fussweg': 'chemin pédestre',\n",
    "    'Autobahn': 'autoroute',\n",
    "    'Autob_Ri': 'autoroute',\n",
    "    'VerbindStr4': 'route de liason 4',\n",
    "    'VerbindStr6': 'route de liason 6',   \n",
    "}\n",
    "\n",
    "streets_en = {\n",
    "    'Autostr': 'freeway',\n",
    "    'NebenStr3': 'surface streets 3',\n",
    "    'NebenStr6': 'surface streets 3 6',\n",
    "    'HauptStrAB6': 'inter regional 6',\n",
    "    'HauptStrAB4': 'inter regional 4',\n",
    "    'Fahrstraes': 'bridle path',\n",
    "    'Fussweg': 'pedestrian trail',\n",
    "    'Autobahn': 'freeway',\n",
    "    'Autob_Ri': 'freeway',\n",
    "    'VerbindStr4': 'intra regional 4',\n",
    "    'VerbindStr6': 'intra regional 6',   \n",
    "}\n",
    "\n",
    "```\n",
    "\n",
    "The streets at one survey location:"
   ]
  },
  {
   "cell_type": "code",
   "execution_count": 10,
   "id": "4246df70-9873-4d6b-a669-e09c9d12defa",
   "metadata": {
    "editable": true,
    "slideshow": {
     "slide_type": ""
    },
    "tags": [
     "remove-input"
    ]
   },
   "outputs": [],
   "source": [
    "streets_fr = {\n",
    "    'Autostr': 'autoroute',\n",
    "    'NebenStr3': 'route secondaire 3',\n",
    "    'NebenStr6': 'route secondaire 6',\n",
    "    'HauptStrAB6': 'route principale 6',\n",
    "    'HauptStrAB4': 'route principale 4',\n",
    "    'Fahrstraes': 'chemin carrossable',\n",
    "    'Fussweg': 'chemin pédestre',\n",
    "    'Autobahn': 'autoroute',\n",
    "    'Autob_Ri': 'autoroute',\n",
    "    'VerbindStr4': 'route de liason 4',\n",
    "    'VerbindStr6': 'route de liason 6',   \n",
    "}\n",
    "\n",
    "streets_en = {\n",
    "    'Autostr': 'freeway',\n",
    "    'NebenStr3': 'surface streets 3',\n",
    "    'NebenStr6': 'surface streets 3 6',\n",
    "    'HauptStrAB6': 'inter regional 6',\n",
    "    'HauptStrAB4': 'inter regional 4',\n",
    "    'Fahrstraes': 'bridle path',\n",
    "    'Fussweg': 'pedestrian trail',\n",
    "    'Autobahn': 'freeway',\n",
    "    'Autob_Ri': 'freeway',\n",
    "    'VerbindStr4': 'intra regional 4',\n",
    "    'VerbindStr6': 'intra regional 6',   \n",
    "}\n",
    "\n",
    "str_surface = ['NebenStr3', 'NebenStr6']\n",
    "str_ped_br = ['Fahrstraes', 'Fussweg']\n",
    "str_main = [ 'HauptStrAB6', 'VerbindStr4','VerbindStr6', 'HauptStrAB4', 'NebenStr6']\n",
    "str_auto = ['Autobahn', 'Autostr', 'Autob_Ri']"
   ]
  },
  {
   "cell_type": "code",
   "execution_count": 11,
   "id": "c819ea47-c43b-4f08-ad07-b2f23a6dd6de",
   "metadata": {
    "editable": true,
    "slideshow": {
     "slide_type": ""
    },
    "tags": [
     "remove-input"
    ]
   },
   "outputs": [
    {
     "data": {
      "text/html": [
       "<div>\n",
       "<style scoped>\n",
       "    .dataframe tbody tr th:only-of-type {\n",
       "        vertical-align: middle;\n",
       "    }\n",
       "\n",
       "    .dataframe tbody tr th {\n",
       "        vertical-align: top;\n",
       "    }\n",
       "\n",
       "    .dataframe thead th {\n",
       "        text-align: right;\n",
       "    }\n",
       "</style>\n",
       "<table border=\"1\" class=\"dataframe\">\n",
       "  <thead>\n",
       "    <tr style=\"text-align: right;\">\n",
       "      <th></th>\n",
       "      <th>slug</th>\n",
       "      <th>attribute_type</th>\n",
       "      <th>attribute</th>\n",
       "      <th>length</th>\n",
       "    </tr>\n",
       "  </thead>\n",
       "  <tbody>\n",
       "    <tr>\n",
       "      <th>638</th>\n",
       "      <td>parc-des-pierrettes</td>\n",
       "      <td>streets</td>\n",
       "      <td>Autobahn</td>\n",
       "      <td>1685</td>\n",
       "    </tr>\n",
       "    <tr>\n",
       "      <th>639</th>\n",
       "      <td>parc-des-pierrettes</td>\n",
       "      <td>streets</td>\n",
       "      <td>Fahrstraes</td>\n",
       "      <td>1046</td>\n",
       "    </tr>\n",
       "    <tr>\n",
       "      <th>640</th>\n",
       "      <td>parc-des-pierrettes</td>\n",
       "      <td>streets</td>\n",
       "      <td>Fussweg</td>\n",
       "      <td>3257</td>\n",
       "    </tr>\n",
       "    <tr>\n",
       "      <th>641</th>\n",
       "      <td>parc-des-pierrettes</td>\n",
       "      <td>streets</td>\n",
       "      <td>HauptStrAB6</td>\n",
       "      <td>2918</td>\n",
       "    </tr>\n",
       "    <tr>\n",
       "      <th>642</th>\n",
       "      <td>parc-des-pierrettes</td>\n",
       "      <td>streets</td>\n",
       "      <td>NebenStr3</td>\n",
       "      <td>2850</td>\n",
       "    </tr>\n",
       "    <tr>\n",
       "      <th>643</th>\n",
       "      <td>parc-des-pierrettes</td>\n",
       "      <td>streets</td>\n",
       "      <td>VerbindStr4</td>\n",
       "      <td>67</td>\n",
       "    </tr>\n",
       "    <tr>\n",
       "      <th>644</th>\n",
       "      <td>parc-des-pierrettes</td>\n",
       "      <td>streets</td>\n",
       "      <td>VerbindStr6</td>\n",
       "      <td>2864</td>\n",
       "    </tr>\n",
       "  </tbody>\n",
       "</table>\n",
       "</div>"
      ],
      "text/plain": [
       "                    slug attribute_type    attribute  length\n",
       "638  parc-des-pierrettes        streets     Autobahn    1685\n",
       "639  parc-des-pierrettes        streets   Fahrstraes    1046\n",
       "640  parc-des-pierrettes        streets      Fussweg    3257\n",
       "641  parc-des-pierrettes        streets  HauptStrAB6    2918\n",
       "642  parc-des-pierrettes        streets    NebenStr3    2850\n",
       "643  parc-des-pierrettes        streets  VerbindStr4      67\n",
       "644  parc-des-pierrettes        streets  VerbindStr6    2864"
      ]
     },
     "execution_count": 11,
     "metadata": {},
     "output_type": "execute_result"
    }
   ],
   "source": [
    "streets[streets.slug == \"parc-des-pierrettes\"]"
   ]
  },
  {
   "cell_type": "markdown",
   "id": "8023149a-8443-46f6-86a8-8ceb9be3957d",
   "metadata": {
    "editable": true,
    "slideshow": {
     "slide_type": ""
    },
    "tags": []
   },
   "source": [
    "## Rivers: intersection, size and class\n",
    "\n",
    "This requires the 1'500 m buffer created at the begininng and the rivers layer and the lakes layer.\n",
    "\n",
    "### intersection, size and class\n",
    "1. Create a points layer of the intersection of rivers to lakes\n",
    "   * Keep only points that are labeled as river (fluss, fluss_u)\n",
    "   * Use the attribute table to select the points\n",
    "2. Overlay the 1 500 m buffer on the new layer and collect all the intersections within each buffer\n",
    "   * export to .csv\n",
    "3. Check for intersections that do not have lake name\n",
    "   * not all lakes and rivers have names in the layer\n",
    "   * find the correct name for the lake and add it to the record\n",
    "   * replace river names with nan value with \"no name\"\n",
    "\n",
    "### distance to intersection\n",
    "\n",
    "__Note:__ the intersection points layer needs to be available\n",
    "\n",
    "1. Using the `hub lines` tool in QGIS draw lines from survey location to intersect location\n",
    "   * Limit the distance to the radius of the buffer\n",
    "   * join on the slug field in both layers\n",
    "   * eliminate duplicates\n",
    "   * calculate the length of the line with `$length` in field calculator of the attribute table\n",
    "   * export to .csv\n",
    "  \n",
    "2. Identify locations (slugs) that are missing either the river_name or lake\n",
    "   * use the previous results (intersection, size and class) to fill in the missing values\n",
    "   * check that slugs not in the distance matrix are truly without intersections \n"
   ]
  },
  {
   "cell_type": "code",
   "execution_count": 12,
   "id": "cbf3d05b-4fb5-402e-838b-0de866c56167",
   "metadata": {
    "editable": true,
    "slideshow": {
     "slide_type": ""
    },
    "tags": [
     "remove-input"
    ]
   },
   "outputs": [
    {
     "data": {
      "text/html": [
       "<div>\n",
       "<style scoped>\n",
       "    .dataframe tbody tr th:only-of-type {\n",
       "        vertical-align: middle;\n",
       "    }\n",
       "\n",
       "    .dataframe tbody tr th {\n",
       "        vertical-align: top;\n",
       "    }\n",
       "\n",
       "    .dataframe thead th {\n",
       "        text-align: right;\n",
       "    }\n",
       "</style>\n",
       "<table border=\"1\" class=\"dataframe\">\n",
       "  <thead>\n",
       "    <tr style=\"text-align: right;\">\n",
       "      <th></th>\n",
       "      <th>slug</th>\n",
       "      <th>lake</th>\n",
       "      <th>river_name</th>\n",
       "      <th>size</th>\n",
       "      <th>class</th>\n",
       "      <th>distance</th>\n",
       "      <th>attribute_type</th>\n",
       "    </tr>\n",
       "  </thead>\n",
       "  <tbody>\n",
       "    <tr>\n",
       "      <th>72</th>\n",
       "      <td>parc-des-pierrettes</td>\n",
       "      <td>Le Léman</td>\n",
       "      <td>La Mèbre</td>\n",
       "      <td>8</td>\n",
       "      <td>8</td>\n",
       "      <td>333</td>\n",
       "      <td>river intersection</td>\n",
       "    </tr>\n",
       "  </tbody>\n",
       "</table>\n",
       "</div>"
      ],
      "text/plain": [
       "                   slug      lake river_name  size  class  distance  \\\n",
       "72  parc-des-pierrettes  Le Léman   La Mèbre     8      8       333   \n",
       "\n",
       "        attribute_type  \n",
       "72  river intersection  "
      ]
     },
     "execution_count": 12,
     "metadata": {},
     "output_type": "execute_result"
    }
   ],
   "source": [
    "river_intersect_lakes[river_intersect_lakes.slug == \"parc-des-pierrettes\"]"
   ]
  },
  {
   "cell_type": "code",
   "execution_count": 13,
   "id": "54fba949-faaf-45c5-a4b7-f0111a5c8872",
   "metadata": {
    "editable": true,
    "slideshow": {
     "slide_type": ""
    },
    "tags": [
     "remove-input"
    ]
   },
   "outputs": [
    {
     "name": "stdout",
     "output_type": "stream",
     "text": [
      "Author: hammerdirt-analyst\n",
      "\n",
      "conda environment: cantonal_report\n",
      "\n",
      "pandas: 2.0.3\n",
      "\n"
     ]
    }
   ],
   "source": [
    "%watermark -a hammerdirt-analyst -co --iversions"
   ]
  },
  {
   "cell_type": "code",
   "execution_count": null,
   "id": "6f444bc4-d773-4d87-8b8e-540b98e4e131",
   "metadata": {
    "editable": true,
    "slideshow": {
     "slide_type": ""
    },
    "tags": []
   },
   "outputs": [],
   "source": []
  }
 ],
 "metadata": {
  "kernelspec": {
   "display_name": "Python 3 (ipykernel)",
   "language": "python",
   "name": "python3"
  },
  "language_info": {
   "codemirror_mode": {
    "name": "ipython",
    "version": 3
   },
   "file_extension": ".py",
   "mimetype": "text/x-python",
   "name": "python",
   "nbconvert_exporter": "python",
   "pygments_lexer": "ipython3",
   "version": "3.9.17"
  }
 },
 "nbformat": 4,
 "nbformat_minor": 5
}
