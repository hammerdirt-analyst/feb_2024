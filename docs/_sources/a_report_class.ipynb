{
 "cells": [
  {
   "cell_type": "code",
   "execution_count": 1,
   "id": "64c16819-72da-4b47-a3aa-988d3f5a8203",
   "metadata": {
    "editable": true,
    "jupyter": {
     "source_hidden": true
    },
    "pycharm": {
     "name": "#%%\n"
    },
    "slideshow": {
     "slide_type": ""
    },
    "tags": [
     "hide-input"
    ]
   },
   "source": [
    "%load_ext watermark\n",
    "import pandas as pd\n",
    "import numpy as np\n",
    "from typing import Type, Optional, Callable\n",
    "from typing import List, Dict, Union, Tuple\n",
    "from myst_nb import glue\n",
    "\n",
    "# from review_methods_tests import collect_vitals, find_missing, find_missing_loc_dates\n",
    "# from review_methods_tests import make_a_summary\n",
    "\n",
    "import matplotlib.pyplot as plt\n",
    "import matplotlib as mpl\n",
    "import matplotlib.colors\n",
    "from matplotlib.colors import LinearSegmentedColormap, ListedColormap\n",
    "\n",
    "import setvariables as conf_\n",
    "import reportclass as r_class"
   ],
   "outputs": []
  },
  {
   "cell_type": "markdown",
   "id": "64253a93-aae9-40d7-b29f-1aa216d30186",
   "metadata": {
    "editable": true,
    "slideshow": {
     "slide_type": ""
    },
    "tags": []
   },
   "source": [
    "(reporting)=\n",
    "# Reporting\n",
    "\n",
    "The `Report` class is used to generate descriptive statistics and identify objects of interest from a query defined by geographic, adminsitrative and/or temporal bounds. These results are considered in the context of topographic data using the `LandUse` class.\n",
    "\n",
    "## Requests\n",
    "\n",
    "A request has five components including the data.  A dictionary that contains four key-value pairs, one of which must be column name and value for that column, start and end dates  and language choice. The `report_data` method uses the request to slice the data and load detailed information for survey locations and objects. The results of `report_data` are passed on to the `ReportClass`.\n",
    "\n",
    "```python\n",
    "# example one\n",
    "# this will give a report on the canton of bern in french between the specified dates\n",
    "boundaries = dict(canton='Bern', language='fr', start_date='2015-01-01', end_date=\"2021-12-31\")\n",
    "\n",
    "# example two\n",
    "# this will give a report on all lakes\n",
    "boundaries = dict(feature_type='l', language='fr', start_date='2019-01-01', end_date='2022-01-01')\n",
    "\n",
    "# the report_data method takes the boundaries and returns returns the top level of the report\n",
    "# the language and two data frames from the same date range. w_df includes only the surveys\n",
    "# that meet the criteria in boundaries, w_di includes all the data from the date range.\n",
    "top_label, language, w_df, w_di = r_class.report_data(boundaries, survey_data.copy(), beaches, codes)\n",
    "\n",
    "# the language map is included with the module\n",
    "a_report = r_class.ReportClass(w_df,boundaries, top_label, language, language_map)\n",
    "```\n",
    "\n",
    "### Report boundaries\n",
    "\n",
    "Once the boundaries have been applied to the survey data the basic report contents can be summarized. Calling `a_report.available_features` lists the identified geographic/adminstrative boundaries within the report data. If the boundaries are set to`canton='Bern'` there are four reporting categories available \n",
    "\n",
    "```python\n",
    "# a summary of the different features and boundaries in a report\n",
    "a_report.available_features\n",
    "\n",
    "# the number of each type of feature within the selected data\n",
    "a_report.the_number_of_attributes_in_a_feature('feature_type')\n",
    "```\n"
   ]
  },
  {
   "cell_type": "code",
   "execution_count": 2,
   "id": "ca2fc365-273e-4d7e-910b-8afcaab8d30b",
   "metadata": {
    "editable": true,
    "slideshow": {
     "slide_type": ""
    },
    "tags": [
     "hide-input"
    ]
   },
   "source": [
    "# starting data, can be MySQL or NoSQL calls\n",
    "# the three methods accept Callables, as long\n",
    "# as the out put is pd.DataFrame\n",
    "c_l = r_class.language_maps()\n",
    "surveys = r_class.collect_survey_data_for_report()\n",
    "codes, beaches, land_cover, land_use, streets, river_intersect_lakes = r_class.collect_env_data_for_report()\n",
    "\n",
    "survey_data = surveys.merge(beaches['canton'], left_on='slug', right_index=True, validate='many_to_one')\n",
    "\n",
    "# temporal and geographic boundaries\n",
    "# user defined input\n",
    "boundaries = dict(canton='Bern', language='fr', start_date=\"2015-11-01\", end_date=\"2021-12-31\")\n",
    "\n",
    "# the report_data method takes the boundaries and returns returns the top level of the report\n",
    "# the language and two data frames from the same date range. w_df includes only the surveys\n",
    "# that meet the criteria in boundaries, w_di includes all the data from the date range.\n",
    "top_label, language, w_df, w_di = r_class.report_data(boundaries, survey_data.copy(), beaches, codes)\n",
    "\n",
    "# the language map is included with the module\n",
    "a_report = r_class.ReportClass(w_df,boundaries, top_label, 'fr', c_l)\n",
    "\n",
    "# a summary of the different features and boundaries in a report\n",
    "a_report.available_features"
   ],
   "outputs": []
  },
  {
   "cell_type": "markdown",
   "id": "2f1deb11-acc1-4442-9adc-f51db0856c0f",
   "metadata": {
    "editable": true,
    "slideshow": {
     "slide_type": ""
    },
    "tags": []
   },
   "source": [
    "```{note}\n",
    "The available features are column names of the survey data. They represent the different geopraphic or administrative boundaries in the selected report data. \n",
    "\n",
    "* `parent_boundary` is a geographic boundary such as a river basin or a category such as mountains\n",
    "* `feature_type` designates whether the location is at a river, lake or park\n",
    "* `feature_name` is the name of the river, lake or park\n",
    "```"
   ]
  },
  {
   "cell_type": "markdown",
   "id": "e4a858c7-ea3e-4864-9f6e-b2e1c2babf5e",
   "metadata": {
    "editable": true,
    "slideshow": {
     "slide_type": ""
    },
    "tags": []
   },
   "source": [
    "## Report contents\n",
    "\n",
    "Within the canton of Bern there are samples from one park, four lakes and six rivers. The lakes have the most samples, followed by rivers and parks.\n",
    "\n",
    "```python\n",
    "# the number and category of samples from the different features in the report\n",
    "a_report.the_number_of_attributes_in_a_feature('feature_type')\n"
   ]
  },
  {
   "cell_type": "code",
   "execution_count": 3,
   "id": "6174d54f-f481-48b9-b831-7f80c4453f47",
   "metadata": {
    "editable": true,
    "slideshow": {
     "slide_type": ""
    },
    "tags": [
     "remove-input"
    ]
   },
   "source": [
    "a_report.the_number_of_attributes_in_a_feature('feature_type')"
   ],
   "outputs": []
  },
  {
   "cell_type": "markdown",
   "id": "40aae8e3-d622-47f5-8cb0-1d7076c1da6b",
   "metadata": {
    "editable": true,
    "slideshow": {
     "slide_type": ""
    },
    "tags": []
   },
   "source": [
    "### Report labels\n",
    "\n",
    "The surveys are categorized by parks, lakes or rivers. The name of each one and the municipalities where surveys were conducted can be accesed with `Report.feature_labels()`.\n",
    "\n",
    "```python\n",
    "my_labels = a_report.feature_labels()\n",
    "```\n",
    "The subject of the report can be identified by calling `a_report.top_label`. The first element is a column name in the dataframe and the second element is the value of interest."
   ]
  },
  {
   "cell_type": "code",
   "execution_count": 4,
   "id": "0bbbac6b-c02d-4b05-b1d5-83476ae11fc4",
   "metadata": {
    "editable": true,
    "jupyter": {
     "source_hidden": true
    },
    "slideshow": {
     "slide_type": ""
    },
    "tags": []
   },
   "source": [
    "a_report.top_label"
   ],
   "outputs": []
  },
  {
   "cell_type": "markdown",
   "id": "89efab4a-124f-4218-8367-3c679d6ce306",
   "metadata": {
    "editable": true,
    "slideshow": {
     "slide_type": ""
    },
    "tags": []
   },
   "source": [
    "To identify the municipalities associated with a particular feature in the report simply use the feature labels as a key to `my_labels`."
   ]
  },
  {
   "cell_type": "code",
   "execution_count": 5,
   "id": "6c241f9f-0b3a-487a-9a41-651de17711f0",
   "metadata": {
    "editable": true,
    "slideshow": {
     "slide_type": ""
    },
    "tags": []
   },
   "source": [
    "# collect the labels\n",
    "my_labels = a_report.feature_labels()\n",
    "# the lakes and the cities on those lakes\n",
    "my_labels['l']"
   ],
   "outputs": []
  },
  {
   "cell_type": "code",
   "execution_count": 6,
   "id": "3120027c-b241-40b3-b90b-05d5ff2ee4aa",
   "metadata": {
    "editable": true,
    "slideshow": {
     "slide_type": ""
    },
    "tags": []
   },
   "source": [
    "# in the same way the name of the parks and the cities in those parks can be indentified\n",
    "my_labels['p']"
   ],
   "outputs": []
  },
  {
   "cell_type": "code",
   "execution_count": 7,
   "id": "b1b7dc83-8d18-4bf9-9727-ab108c362d6c",
   "metadata": {
    "editable": true,
    "slideshow": {
     "slide_type": ""
    },
    "tags": []
   },
   "source": [
    "# the same for rivers\n",
    "my_labels['r']"
   ],
   "outputs": []
  },
  {
   "cell_type": "markdown",
   "id": "418effeb-d63c-4a15-9e29-a1f630c6a9b1",
   "metadata": {
    "editable": true,
    "slideshow": {
     "slide_type": ""
    },
    "tags": []
   },
   "source": [
    "#### Generating a report for a specific feature\n",
    "\n",
    "A detailed report can be generated for any element in the feature labels. The method `ReportClass.a_subreport(feature_of_interest='my_feature')` accepts the name of the feauture of interest and uses the data from the established report to create a report that contains only the data from the feature of interest.\n",
    "\n",
    "```python\n",
    "bielersee = a_report.a_subreport(feature_of_interest='bielersee')\n",
    "bielersee.feature_labels()\n",
    "``` "
   ]
  },
  {
   "cell_type": "code",
   "execution_count": 8,
   "id": "35e36dd4-f092-4e38-a545-3df355be3291",
   "metadata": {
    "editable": true,
    "slideshow": {
     "slide_type": ""
    },
    "tags": [
     "remove-input"
    ]
   },
   "source": [
    "bielersee = a_report.a_subreport(feature_of_interest='bielersee')\n",
    "bielersee.feature_labels()"
   ],
   "outputs": []
  },
  {
   "cell_type": "markdown",
   "id": "8a424841-e93f-466b-b1e5-ef0dcf61b300",
   "metadata": {
    "editable": true,
    "slideshow": {
     "slide_type": ""
    },
    "tags": []
   },
   "source": [
    "### Comparing survey totals between features\n",
    "\n",
    "The survey totals are the sum of all the objects found at a survey divided by the length of the survey. Comparing the survey results between features in a report is done by calling `ReportClass.summarize_feature_labels(feature='feature of interest')` for example to compare the survey totals between cities in Bern call `a_report.summarize_feature_labels(feature='city')`.\n",
    "\n",
    "```python\n",
    "a_report.summarize_feature_labels(feature='city')\n",
    "```"
   ]
  },
  {
   "cell_type": "code",
   "execution_count": 9,
   "id": "c78d0842-b913-467b-ac19-508e5a94df07",
   "metadata": {
    "editable": true,
    "slideshow": {
     "slide_type": ""
    },
    "tags": [
     "remove-input"
    ]
   },
   "source": [
    "a_report.summarize_feature_labels(feature='city')"
   ],
   "outputs": []
  },
  {
   "cell_type": "markdown",
   "id": "8ed5158b-c786-4329-9893-6a4a4d335cb5",
   "metadata": {
    "editable": true,
    "slideshow": {
     "slide_type": ""
    },
    "tags": []
   },
   "source": [
    "__Any available feature or category of the report can be called__\n",
    "\n",
    "```python\n",
    "a_report.summarize_feature_labels(feature='feature_type')\n",
    "```\n",
    "The distribution of survey totals in parks, rivers and lakes for the canton:"
   ]
  },
  {
   "cell_type": "code",
   "execution_count": 10,
   "id": "2b4aa74a-706b-438f-86ed-0fd8c5eb293b",
   "metadata": {
    "editable": true,
    "slideshow": {
     "slide_type": ""
    },
    "tags": [
     "remove-input"
    ]
   },
   "source": [
    "a_report.summarize_feature_labels(feature='feature_type')"
   ],
   "outputs": []
  },
  {
   "cell_type": "markdown",
   "id": "1153e16f-fdbb-499b-b419-983e3193c66e",
   "metadata": {
    "editable": true,
    "slideshow": {
     "slide_type": ""
    },
    "tags": []
   },
   "source": [
    "__The subreport for a specific feature works exactly the same way:__\n",
    "\n",
    "```python\n",
    "bielersee.summarize_feature_labels(feature='city')\n",
    "```\n",
    "\n",
    "The distritbution of survey totals for the cities on bielersee:"
   ]
  },
  {
   "cell_type": "code",
   "execution_count": 11,
   "id": "95ae2125-fb4b-4d7e-b10e-deb1670a7e4b",
   "metadata": {
    "editable": true,
    "jupyter": {
     "source_hidden": true
    },
    "slideshow": {
     "slide_type": ""
    },
    "tags": [
     "remove-input"
    ]
   },
   "source": [
    "bielersee.summarize_feature_labels(feature='city')"
   ],
   "outputs": []
  },
  {
   "cell_type": "markdown",
   "id": "7c998810-cccb-40ee-b54f-8fb98bfec880",
   "metadata": {
    "editable": true,
    "slideshow": {
     "slide_type": ""
    },
    "tags": []
   },
   "source": [
    "### Most common objects\n",
    "\n",
    "The most common objects in a report are selected using two criteria:\n",
    "\n",
    "* The ranking by quantity ie. top-ten, top-twenty\n",
    "* The fail rate: ie. 0.5, 0,6\n",
    "\n",
    "The defaults are set in the `ReportClass`, however they can be changed by providing values for the variables `mc_criteria_one` and `mc_criteria_two` when the report is created. Once the variables are set the most common objects are displayed with the quantity, percent of total, the median pcs/m and the fail rate for each object in the most common. The weight of the most common objects with respect to the all the objects is also included.\n",
    "\n",
    "```python\n",
    "most_common, weight = a_report.most_common\n",
    "```"
   ]
  },
  {
   "cell_type": "code",
   "execution_count": 12,
   "id": "0f559be5-12c6-4db7-9a40-d4e08b53f995",
   "metadata": {
    "editable": true,
    "slideshow": {
     "slide_type": ""
    },
    "tags": [
     "remove-input"
    ]
   },
   "source": [
    "most_common, weight = a_report.most_common\n",
    "most_common"
   ],
   "outputs": []
  },
  {
   "cell_type": "code",
   "execution_count": 13,
   "id": "c28dab75-78de-428e-8a52-5f5470526cd8",
   "metadata": {
    "editable": true,
    "slideshow": {
     "slide_type": ""
    },
    "tags": []
   },
   "source": [
    "weight"
   ],
   "outputs": []
  },
  {
   "cell_type": "markdown",
   "id": "41e271da-c791-4976-8785-b955d4254f91",
   "metadata": {
    "editable": true,
    "slideshow": {
     "slide_type": ""
    },
    "tags": []
   },
   "source": [
    "#### Works the same for a subreport\n",
    "\n",
    "The criteria for selecting the most common in a subreport are by default the same as the original report.\n",
    "\n",
    "```python\n",
    "b_most_common, b_weight = bielersee.most_common\n",
    "```"
   ]
  },
  {
   "cell_type": "code",
   "execution_count": 14,
   "id": "9d22b3e1-c0a9-43aa-8913-d4261e7a59bd",
   "metadata": {
    "editable": true,
    "slideshow": {
     "slide_type": ""
    },
    "tags": [
     "remove-input"
    ]
   },
   "source": [
    "b_most_common, b_weight = bielersee.most_common\n",
    "b_most_common"
   ],
   "outputs": []
  },
  {
   "cell_type": "markdown",
   "id": "8a4de8ee-1846-4321-8beb-4eb8ccff87e9",
   "metadata": {
    "editable": true,
    "slideshow": {
     "slide_type": ""
    },
    "tags": []
   },
   "source": [
    "#### Changing the criteria of the most common\n",
    "\n",
    "Specify the new values for the criteria and call a new report. In the example below the criteria are changed to the top-five objects or those objects that were found in at least 60% of the surveys.\n",
    "\n",
    "```python\n",
    "# default arguments that define the most common objects\n",
    "# this assumes that the columns quantity and fail rate exist\n",
    "mc_criteria_one = {\n",
    "        \n",
    "        'column': 'quantity',\n",
    "        'val': 5\n",
    "    }\n",
    "\n",
    "mc_criteria_two = {\n",
    "        'column': 'fail rate',\n",
    "        'val': 0.6\n",
    "    }\n",
    "a_report_changed = r_class.ReportClass(w_df,boundaries, top_label, 'fr', c_l, mc_criteria_one=mc_criteria_one, mc_criteria_two=mc_criteria_two)\n",
    "c_mc, weight_cmc = a_report_changed.most_common\n",
    "c_mc\n",
    "```\n",
    "Note the only variables that changed are the selection criteria. The new most common objects list for the canton is shorter and accounts for less of the total."
   ]
  },
  {
   "cell_type": "code",
   "execution_count": 15,
   "id": "357a5ea7-2f66-4b95-98b3-eac8f244c819",
   "metadata": {
    "editable": true,
    "slideshow": {
     "slide_type": ""
    },
    "tags": [
     "remove-input"
    ]
   },
   "source": [
    "# cahnging the selection critteria of the most common objects\n",
    "mc_criteria_one = {\n",
    "        \n",
    "        'column': 'quantity',\n",
    "        'val': 5\n",
    "    }\n",
    "\n",
    "mc_criteria_two = {\n",
    "        'column': 'fail rate',\n",
    "        'val': 0.6\n",
    "    }\n",
    "a_report_changed = r_class.ReportClass(w_df,boundaries, top_label, 'fr', c_l, mc_criteria_one=mc_criteria_one, mc_criteria_two=mc_criteria_two)\n",
    "c_mc, weight_cmc = a_report_changed.most_common\n",
    "c_mc"
   ],
   "outputs": []
  },
  {
   "cell_type": "code",
   "execution_count": 16,
   "id": "5a88044d-22f2-4eea-ba1d-35e8addd5853",
   "metadata": {
    "editable": true,
    "slideshow": {
     "slide_type": ""
    },
    "tags": []
   },
   "source": [
    "weight_cmc"
   ],
   "outputs": []
  },
  {
   "cell_type": "markdown",
   "id": "72170b61-ef81-421c-8e9a-d4cb54c1cdec",
   "metadata": {
    "editable": true,
    "pycharm": {
     "name": "#%% md\n"
    },
    "slideshow": {
     "slide_type": ""
    },
    "tags": []
   },
   "source": [
    "## Retrieving properties \n",
    "\n",
    "There are 318'478 rows in the survey data. We can test the sorting and grouping functions by running a report class on all possible combinations of the features of interest. The test should produce the set of arguments that define the survey locations and surveys that define the boundaries of a report.\n",
    "\n",
    "```python\n",
    "some_features = ['feature_type', 'parent_boundary', 'feature_name', 'canton', 'city']\n",
    "\n",
    "def produce_reports_for_testing(survey_data, some_features):\n",
    "    reports = {}\n",
    "    for a_feature in some_features:\n",
    "        labels = survey_data[a_feature].unique()\n",
    "        label_reports = {}\n",
    "        for label in labels:\n",
    "            start_date = survey_data[survey_data[a_feature] == label]['date'].min()\n",
    "            end_date = survey_data[survey_data[a_feature] == label]['date'].max()\n",
    "            \n",
    "            boundaries = {a_feature:label, 'language':'fr', 'start_date':start_date, 'end_date':end_date}\n",
    "            top_label, language, w_df, w_di = report_data(boundaries, survey_data.copy())\n",
    "            a_report = ReportClass(w_df, w_di, boundaries, top_label, 'fr', c_l)\n",
    "            label_reports.update({label:a_report.features})\n",
    "        reports.update({a_feature:label_reports})\n",
    "    return reports\n",
    "   \n",
    "t = produce_reports_for_testing(survey_data, some_features)\n",
    "\n",
    "t['canton']['Valais']\n",
    "```"
   ]
  },
  {
   "cell_type": "code",
   "execution_count": 17,
   "id": "da8ebbfd-66b1-40c1-afba-5017f73fd3a5",
   "metadata": {
    "editable": true,
    "jupyter": {
     "source_hidden": true
    },
    "pycharm": {
     "name": "#%%\n"
    },
    "slideshow": {
     "slide_type": ""
    },
    "tags": [
     "remove-input"
    ]
   },
   "source": [
    "# some_features = ['feature_type', 'parent_boundary', 'feature_name', 'canton', 'city']\n",
    "\n",
    "# def produce_reports_for_testing(survey_data, some_features):\n",
    "#     reports = {}\n",
    "#     for a_feature in some_features:\n",
    "#         labels = survey_data[a_feature].unique()\n",
    "#         label_reports = {}\n",
    "#         for label in labels:\n",
    "#             start_date = survey_data[survey_data[a_feature] == label]['date'].min()\n",
    "#             end_date = survey_data[survey_data[a_feature] == label]['date'].max()\n",
    "            \n",
    "#             boundaries = {a_feature:label, 'language':'fr', 'start_date':start_date, 'end_date':end_date}\n",
    "#             top_label, language, w_df, w_di = r_class.report_data(boundaries, survey_data.copy(), beaches, codes)\n",
    "#             a_report = r_class.ReportClass(w_df, boundaries, top_label, 'fr', c_l)\n",
    "#             label_reports.update({label:a_report.features})\n",
    "#         reports.update({a_feature:label_reports})\n",
    "#     return reports\n",
    "   \n",
    "# t = produce_reports_for_testing(survey_data, some_features)"
   ],
   "outputs": []
  },
  {
   "cell_type": "code",
   "execution_count": 18,
   "id": "5836760a-4aa4-4c94-ba63-a76e20e99d82",
   "metadata": {
    "editable": true,
    "jupyter": {
     "source_hidden": true
    },
    "pycharm": {
     "name": "#%%\n"
    },
    "slideshow": {
     "slide_type": ""
    },
    "tags": [
     "remove-input"
    ]
   },
   "source": [
    "# from joblib import Parallel, delayed\n",
    "# from reportclass import ReportClass\n",
    "\n",
    "# def process_feature(a_feature, survey_data, beaches, codes):\n",
    "#     labels = survey_data[a_feature].unique()\n",
    "#     label_reports = {}\n",
    "\n",
    "#     for label in labels:\n",
    "#         start_date = survey_data[survey_data[a_feature] == label]['date'].min()\n",
    "#         end_date = survey_data[survey_data[a_feature] == label]['date'].max()\n",
    "\n",
    "#         boundaries = {a_feature: label, 'language': 'fr', 'start_date': start_date, 'end_date': end_date}\n",
    "#         top_label, language, w_df, w_di = r_class.report_data(boundaries, survey_data.copy(), beaches, codes)\n",
    "#         a_report = r_class.ReportClass(w_df, boundaries, top_label, 'fr', c_l)\n",
    "#         label_reports.update({label: a_report.features})\n",
    "\n",
    "#     return a_feature, label_reports\n",
    "\n",
    "# def produce_reports_for_testing_parallel(survey_data, some_features, num_jobs=-1):\n",
    "#     reports = Parallel(n_jobs=num_jobs)(delayed(process_feature)(feature, survey_data, beaches, codes) for feature in some_features)\n",
    "\n",
    "#     result_dict = dict(reports)\n",
    "#     return result_dict\n",
    "# t = produce_reports_for_testing_parallel(survey_data, some_features)"
   ],
   "outputs": []
  },
  {
   "cell_type": "code",
   "execution_count": 19,
   "id": "165e6b35-5213-4e4b-b300-ad8d18d35fbc",
   "metadata": {
    "editable": true,
    "jupyter": {
     "source_hidden": true
    },
    "pycharm": {
     "name": "#%%\n"
    },
    "slideshow": {
     "slide_type": ""
    },
    "tags": [
     "remove-input"
    ]
   },
   "source": [
    "# t['canton']['Valais']"
   ],
   "outputs": []
  },
  {
   "cell_type": "markdown",
   "id": "4a8d6d53-bcbc-4beb-9b34-687ce028e1cb",
   "metadata": {
    "pycharm": {
     "name": "#%% md\n"
    }
   },
   "source": [
    "The properties should contain the arguments for cities in the example report"
   ]
  },
  {
   "cell_type": "code",
   "execution_count": 20,
   "id": "24580e03-b840-4ee5-b688-9635e94253c6",
   "metadata": {
    "editable": true,
    "jupyter": {
     "source_hidden": true
    },
    "pycharm": {
     "name": "#%%\n"
    },
    "slideshow": {
     "slide_type": ""
    },
    "tags": []
   },
   "source": [
    "# t['city']['Saint-Gingolph']"
   ],
   "outputs": []
  },
  {
   "cell_type": "markdown",
   "id": "00c5c3a4-f4ec-42d6-854b-fbeeb2e4baca",
   "metadata": {
    "editable": true,
    "pycharm": {
     "name": "#%% md\n"
    },
    "slideshow": {
     "slide_type": ""
    },
    "tags": []
   },
   "source": [
    "## Unit tests\n",
    "\n",
    "### The reportclass module\n",
    "\n",
    "#### The `ReportClass` takes the following parameters:\n",
    "\n",
    "* w_df (pd.DataFrame, optional): The survey data DataFrame for report generation.\n",
    "* boundaries (dict, optional): A dictionary defining the reporting boundaries, including 'start_date', end_date', and 'language'.\n",
    "* top_label (List, optional): A list containing two elements - [label_column, label_value].\n",
    "* language (str, optional): The language in which the report is generated.\n",
    "* lang_maps (pd.DataFrame, optional): A DataFrame containing language mapping data.\n",
    "* mc_criteria_one (dict, optional): The first criteria for identifying objects of interest.\n",
    "* mc_criteria_two (dict, optional): The second criteria for identifying objects of interest.\n",
    "* ooi (str, optional): The name of the object of interest column.\n",
    "\n",
    "#### And has the following methods:\n",
    "\n",
    "- features: Get a list of available features for report generation.\n",
    "- available_features: Get a list of available features based on predefined criteria.\n",
    "- inventory: Get an inventory of objects with summary statistics.\n",
    "- most_common: Find the most common objects based on criteria.\n",
    "- summarize_feature_labels: Summarize data for a specific feature.\n",
    "- the_number_of_attributes_in_a_feature: Count attributes in a feature.\n",
    "- `__repr__` : Return a string representation of the ReportClass instance.\n",
    "\n",
    "#### Other methods in the `reportclass` module.\n",
    "\n",
    "Note: __the methods in bold have been unit tested__\n",
    "\n",
    "```python\n",
    "from inspect import getmembers, isfunction\n",
    "\n",
    "functions_list = getmembers(reportclass, isfunction)\n",
    "[x[0] for x in functions_list]\n",
    "\n",
    "```\n",
    "\n",
    "AGGREGATING, COUNTING, REPORTING:\n",
    "\n",
    "* __'a_cumulative_report'__,\n",
    "* __'a_summary_of_one_vector'__,\n",
    "* __'aggregate_boundaries'__,\n",
    "* __'aggregate_dataframe'__,\n",
    "* __'calculate_rate_per_unit'__,\n",
    "* __'use_gfrags_gfoams_gcaps'__,\n",
    "* __'use_parent_groups_or_gfrags__'\n",
    "* __'categorize_work_data'__,\n",
    "* __'count_objects_with_positive_quantity'__,\n",
    "* __'display_tabular_data_by_column_values'__,\n",
    "* __'get_top_x_records_with_max_quantity'__,\n",
    "\n",
    "COLLECTING DATA\n",
    "\n",
    "* 'collect_env_data_for_report',\n",
    "* 'collect_survey_data_for_report',\n",
    "* 'combine_survey_files',\n",
    "* 'report_data',\n",
    "* 'slice_data_by_date',\n",
    "\n",
    "PROCESSING DATA WITH REQUEST\n",
    "\n",
    "* 'check_for_top_label',\n",
    "* 'merge_dataframes_on_column_and_index',\n",
    "* 'add_column_to_work_data',\n",
    "* 'add_columns_to_work_data',\n",
    "\n",
    "DISPLAY \n",
    "\n",
    "* 'language_maps',\n",
    "* 'translate_for_display',\n",
    "* 'capitalize_index',\n",
    "* 'translate_word',\n",
    "* 'translated_and_style_for_display',\n",
    " * 'color_gradient',\n"
   ]
  },
  {
   "cell_type": "markdown",
   "id": "8b38d9bf-beab-4c2a-8899-136e2f97605f",
   "metadata": {
    "editable": true,
    "pycharm": {
     "name": "#%% md\n"
    },
    "slideshow": {
     "slide_type": ""
    },
    "tags": []
   },
   "source": [
    "### Combining codes using parent groups\n",
    "\n",
    "#### Specific to beach litter data\n",
    "\n",
    "* `reportclass.use_parent_groups_or_gfrags`\n",
    "* `reportclass.use_gfrags_gfoams_gcaps`\n",
    "\n",
    "config setting: `setvariables.code_result_columns`\n",
    "\n",
    "> Defines the set of columns to use when aggregating to the object level\n",
    "\n",
    "```python\n",
    "import unittest\n",
    "class TestUseGfragsGfoamsGcaps(unittest.TestCase):\n",
    "\n",
    "    def test_use_gfrags_gfoams_gcaps(self):\n",
    "        # Sample data and code mappings\n",
    "        data = pd.DataFrame({'code': ['A', 'B', 'C', 'D', 'E', 'F'],\n",
    "                             'sample_id': [1, 2, 1, 2, 1, 1],\n",
    "                             'density': [1.5, 0.5, 1.5, 0.5, 1.5, 1],\n",
    "                             'quantity': [2, 1, 2, 1, 2, 1]})\n",
    "        codes = pd.DataFrame({'parent_code': ['Gfoams', 'Gfrags', 'Gcaps','Gfoams', 'Gcaps', 'F'],\n",
    "                              'code': ['A', 'B', 'C', 'D', 'E', 'F']})\n",
    "        codes.set_index('code', inplace=True)\n",
    "        # Expected result\n",
    "        expected_result = pd.DataFrame(\n",
    "            {'code': {0: 'Gfoams', 1: 'Gfrags', 2: 'Gcaps', 3: 'Gfoams',  4: 'Gcaps',  5: 'F'},\n",
    "             'sample_id': {0: 1, 1: 2, 2: 1, 3: 2, 4: 1, 5: 1},\n",
    "             'density': {0: 1.5, 1: 0.5, 2: 1.5, 3: 0.5, 4: 1.5, 5: 1.0},\n",
    "             'quantity': {0: 2, 1: 1, 2: 2, 3: 1, 4: 2, 5: 1}}\n",
    "        )\n",
    "\n",
    "        # Call the function\n",
    "        updated_data = r_class.use_gfrags_gfoams_gcaps(data, codes)\n",
    "\n",
    "        # Check if the result matches the expected result\n",
    "        pd.testing.assert_frame_equal(updated_data, expected_result)\n",
    "\n",
    "test_suite = unittest.TestLoader().loadTestsFromTestCase(TestUseGfragsGfoamsGcaps)\n",
    "test_runner = unittest.TextTestRunner(verbosity=3)\n",
    "test_result = test_runner.run(test_suite)\n",
    "```"
   ]
  },
  {
   "cell_type": "code",
   "execution_count": 21,
   "id": "e463ed81-b5f5-4b94-b17e-05b31e49b0da",
   "metadata": {
    "editable": true,
    "pycharm": {
     "name": "#%%\n"
    },
    "slideshow": {
     "slide_type": ""
    },
    "tags": [
     "hide-input"
    ]
   },
   "source": [
    "import unittest\n",
    "class TestUseGfragsGfoamsGcaps(unittest.TestCase):\n",
    "\n",
    "    def test_use_gfrags_gfoams_gcaps(self):\n",
    "        # Sample data and code mappings\n",
    "        data = pd.DataFrame({'code': ['A', 'B', 'C', 'D', 'E', 'F'],\n",
    "                             'sample_id': [1, 2, 1, 2, 1, 1],\n",
    "                             'density': [1.5, 0.5, 1.5, 0.5, 1.5, 1],\n",
    "                             'quantity': [2, 1, 2, 1, 2, 1]})\n",
    "        codes = pd.DataFrame({'parent_code': ['Gfoams', 'Gfrags', 'Gcaps','Gfoams', 'Gcaps', 'F'],\n",
    "                              'code': ['A', 'B', 'C', 'D', 'E', 'F']})\n",
    "        codes.set_index('code', inplace=True)\n",
    "        # Expected result\n",
    "        expected_result = pd.DataFrame(\n",
    "            {'code': {0: 'Gfoams', 1: 'Gfrags', 2: 'Gcaps', 3: 'Gfoams',  4: 'Gcaps',  5: 'F'},\n",
    "             'sample_id': {0: 1, 1: 2, 2: 1, 3: 2, 4: 1, 5: 1},\n",
    "             'density': {0: 1.5, 1: 0.5, 2: 1.5, 3: 0.5, 4: 1.5, 5: 1.0},\n",
    "             'quantity': {0: 2, 1: 1, 2: 2, 3: 1, 4: 2, 5: 1}}\n",
    "        )\n",
    "\n",
    "        # Call the function\n",
    "        updated_data = r_class.use_gfrags_gfoams_gcaps(data, codes)\n",
    "\n",
    "        # Check if the result matches the expected result\n",
    "        pd.testing.assert_frame_equal(updated_data, expected_result)\n",
    "\n",
    "test_suite = unittest.TestLoader().loadTestsFromTestCase(TestUseGfragsGfoamsGcaps)\n",
    "test_runner = unittest.TextTestRunner(verbosity=3)\n",
    "test_result = test_runner.run(test_suite)\n"
   ],
   "outputs": []
  },
  {
   "cell_type": "markdown",
   "id": "3536568d-1a03-4907-ad9a-fbf2a437de70",
   "metadata": {
    "editable": true,
    "pycharm": {
     "name": "#%% md\n"
    },
    "slideshow": {
     "slide_type": ""
    },
    "tags": []
   },
   "source": [
    "### Aggregate a dataframe\n",
    "\n",
    "* `reportclass.aggregate_dataframe`\n",
    "\n",
    "#### config settings\n",
    "\n",
    "Accepts the following arguments for the methods given the defaults `code_result_columns` and `work_columns`:\n",
    "\n",
    "* `setvariables.agg_groups`\n",
    "* `setvariables.unit_agg`\n",
    "\n",
    "\n",
    "```python\n",
    "class TestAggregateDataFrame(unittest.TestCase):\n",
    "\n",
    "    def test_aggregate_dataframe(self):\n",
    "        # Sample data\n",
    "        data = pd.DataFrame({'code': ['A', 'B', 'C', 'D', 'E', 'F'],\n",
    "                             'sample_id': [1, 2, 1, 2, 1, 1],\n",
    "                             'density': [1.5, 0.5, 1.5, 0.5, 1.5, 1],\n",
    "                             'quantity': [2, 1, 2, 1, 2, 1],\n",
    "                             'prop a': ['s1', 's2','s1','s1','s2', 's3'],\n",
    "                             'prop b': ['x' ,'x', 'z','z','z', 'q']})\n",
    "        group_by_columns = ['sample_id','prop a']\n",
    "        aggregation_functions = {'quantity': 'sum','density': 'median'}\n",
    "\n",
    "        # Expected result\n",
    "        expected_result = pd.DataFrame({\n",
    "            'sample_id': {0: 1, 1: 1, 2: 1, 3: 2, 4: 2},\n",
    "            'prop a': {0: 's1', 1: 's2', 2: 's3', 3: 's1', 4: 's2'},\n",
    "            'quantity': {0: 4, 1: 2, 2: 1, 3: 1, 4: 1},\n",
    "            'density': {0: 1.5, 1: 1.5, 2: 1.0, 3: 0.5, 4: 0.5}})\n",
    "\n",
    "        # Call the function\n",
    "        result = r_class.aggregate_dataframe(data, groupby_columns=group_by_columns, aggregation_functions=aggregation_functions)\n",
    "\n",
    "        # Check if the result matches the expected result\n",
    "        pd.testing.assert_frame_equal(result, expected_result)\n",
    "\n",
    "test_suite = unittest.TestLoader().loadTestsFromTestCase(TestAggregateDataFrame)\n",
    "test_runner = unittest.TextTestRunner(verbosity=3)\n",
    "test_result = test_runner.run(test_suite)\n",
    "```"
   ]
  },
  {
   "cell_type": "code",
   "execution_count": 22,
   "id": "fa4d98f7-4d79-4de0-89e7-0b8731dfc8e5",
   "metadata": {
    "editable": true,
    "jupyter": {
     "source_hidden": true
    },
    "pycharm": {
     "name": "#%%\n"
    },
    "slideshow": {
     "slide_type": ""
    },
    "tags": [
     "hide-input"
    ]
   },
   "source": [
    "class TestAggregateDataFrame(unittest.TestCase):\n",
    "\n",
    "    def test_aggregate_dataframe(self):\n",
    "        # Sample data\n",
    "        data = pd.DataFrame({'code': ['A', 'B', 'C', 'D', 'E', 'F'],\n",
    "                             'sample_id': [1, 2, 1, 2, 1, 1],\n",
    "                             'density': [1.5, 0.5, 1.5, 0.5, 1.5, 1],\n",
    "                             'quantity': [2, 1, 2, 1, 2, 1],\n",
    "                             'prop a': ['s1', 's2','s1','s1','s2', 's3'],\n",
    "                             'prop b': ['x' ,'x', 'z','z','z', 'q']})\n",
    "        group_by_columns = ['sample_id','prop a']\n",
    "        aggregation_functions = {'quantity': 'sum','density': 'median'}\n",
    "\n",
    "        # Expected result\n",
    "        expected_result = pd.DataFrame({\n",
    "            'sample_id': {0: 1, 1: 1, 2: 1, 3: 2, 4: 2},\n",
    "            'prop a': {0: 's1', 1: 's2', 2: 's3', 3: 's1', 4: 's2'},\n",
    "            'quantity': {0: 4, 1: 2, 2: 1, 3: 1, 4: 1},\n",
    "            'density': {0: 1.5, 1: 1.5, 2: 1.0, 3: 0.5, 4: 0.5}})\n",
    "\n",
    "        # Call the function\n",
    "        result = r_class.aggregate_dataframe(data, groupby_columns=group_by_columns, aggregation_functions=aggregation_functions)\n",
    "\n",
    "        # Check if the result matches the expected result\n",
    "        pd.testing.assert_frame_equal(result, expected_result)\n",
    "\n",
    "test_suite = unittest.TestLoader().loadTestsFromTestCase(TestAggregateDataFrame)\n",
    "test_runner = unittest.TextTestRunner(verbosity=3)\n",
    "test_result = test_runner.run(test_suite)\n"
   ],
   "outputs": []
  },
  {
   "cell_type": "markdown",
   "id": "79468515-ed71-4d0b-add6-18842717f610",
   "metadata": {
    "editable": true,
    "pycharm": {
     "name": "#%% md\n"
    },
    "slideshow": {
     "slide_type": ""
    },
    "tags": []
   },
   "source": [
    "### Calculating rate per unit\n",
    "\n",
    "* `reportclass.calculate_rate_per_unit`\n",
    "\n",
    "#### config settings\n",
    "\n",
    "Accepts the following arguments for the methods, the default is `setvariables.unit_agg`:\n",
    "\n",
    "* `setvariables.agg_groups`\n",
    "* `setvariables.unit_agg`\n",
    "\n",
    "\n",
    "```python\n",
    "class TestCalculateRatePerUnit(unittest.TestCase):\n",
    "\n",
    "    def test_calculate_rate_per_unit(self):\n",
    "        # Sample data\n",
    "        data = pd.DataFrame({\n",
    "            'sample': [1, 2, 3, 4, 5, 6],\n",
    "            'object': ['A', 'B', 'A', 'A', 'B', 'B'],\n",
    "            'quantity': [10, 20, 30, 40, 50, 60],\n",
    "            'pcs_m': [1,1,2,1, 2, 2],\n",
    "        })\n",
    "\n",
    "        # Objects to check\n",
    "        column_of_interest = 'object'\n",
    "        objects_to_check = ['A', 'B']\n",
    "        groupby_columns = ['object']\n",
    "        \n",
    "        # Aggregation functions\n",
    "        aggregation_methods = {\n",
    "            'quantity': 'sum',\n",
    "            'pcs_m': 'median'\n",
    "        }\n",
    "        \n",
    "        # Expected result\n",
    "        expected_result = pd.DataFrame({\n",
    "            \n",
    "            'pcs_m': {'A': 1.0, 'B': 2.0},\n",
    "            'quantity': {'A': 80, 'B': 130},\n",
    "            'label': {'A': 'all', 'B': 'all'}})\n",
    "        \n",
    "        # Call the function\n",
    "        result = r_class.calculate_rate_per_unit(data, objects_to_check,column_of_interest=column_of_interest, groupby_columns=groupby_columns)\n",
    "        result.index.name = None\n",
    "\n",
    "        # Check if the result matches the expected result\n",
    "        pd.testing.assert_frame_equal(result, expected_result)\n",
    "\n",
    "test_suite = unittest.TestLoader().loadTestsFromTestCase(TestCalculateRatePerUnit)\n",
    "test_runner = unittest.TextTestRunner(verbosity=3)\n",
    "test_result = test_runner.run(test_suite)\n",
    "\n",
    "```"
   ]
  },
  {
   "cell_type": "code",
   "execution_count": 23,
   "id": "3b205d09-3c70-46f5-8361-46d17c4a203a",
   "metadata": {
    "editable": true,
    "jupyter": {
     "source_hidden": true
    },
    "pycharm": {
     "name": "#%%\n"
    },
    "slideshow": {
     "slide_type": ""
    },
    "tags": [
     "hide-input"
    ]
   },
   "source": [
    "class TestCalculateRatePerUnit(unittest.TestCase):\n",
    "\n",
    "    def test_calculate_rate_per_unit(self):\n",
    "        # Sample data\n",
    "        data = pd.DataFrame({\n",
    "            'sample': [1, 2, 3, 4, 5, 6],\n",
    "            'object': ['A', 'B', 'A', 'A', 'B', 'B'],\n",
    "            'quantity': [10, 20, 30, 40, 50, 60],\n",
    "            'pcs_m': [1,1,2,1, 2, 2],\n",
    "        })\n",
    "\n",
    "        # Objects to check\n",
    "        column_of_interest = 'object'\n",
    "        objects_to_check = ['A', 'B']\n",
    "        groupby_columns = ['object']\n",
    "        \n",
    "        # Aggregation functions\n",
    "        aggregation_methods = {\n",
    "            'quantity': 'sum',\n",
    "            'pcs_m': 'median'\n",
    "        }\n",
    "        \n",
    "        # Expected result\n",
    "        expected_result = pd.DataFrame({\n",
    "            \n",
    "            'pcs_m': {'A': 1.0, 'B': 2.0},\n",
    "            'quantity': {'A': 80, 'B': 130},\n",
    "            'label': {'A': 'all', 'B': 'all'}})\n",
    "        \n",
    "        # Call the function\n",
    "        result = r_class.calculate_rate_per_unit(data, objects_to_check,column_of_interest=column_of_interest, groupby_columns=groupby_columns)\n",
    "        result.index.name = None\n",
    "\n",
    "        # Check if the result matches the expected result\n",
    "        pd.testing.assert_frame_equal(result, expected_result)\n",
    "\n",
    "test_suite = unittest.TestLoader().loadTestsFromTestCase(TestCalculateRatePerUnit)\n",
    "test_runner = unittest.TextTestRunner(verbosity=3)\n",
    "test_result = test_runner.run(test_suite)"
   ],
   "outputs": []
  },
  {
   "cell_type": "markdown",
   "id": "e12f6d39-a2e3-42ac-956d-f4877cdae66b",
   "metadata": {
    "editable": true,
    "pycharm": {
     "name": "#%% md\n"
    },
    "slideshow": {
     "slide_type": ""
    },
    "tags": []
   },
   "source": [
    "### Aggregate boundaries\n",
    "\n",
    "* `reportclass.aggregate_boundaries`\n",
    "\n",
    "Is called by `reportclass.a_cumulative_report` and calls `reportclass.aggregate_dataframe`.\n",
    "\n",
    "```python\n",
    "\n",
    "class TestAggregateBoundaries(unittest.TestCase):\n",
    "    \n",
    "    def setUp(self):\n",
    "        # Create a sample DataFrame for testing\n",
    "        data = pd.DataFrame({\n",
    "            'Region': ['A', 'A', 'B', 'B', 'A', 'B'],\n",
    "            'Year': [2019, 2019, 2020, 2020, 2021, 2021],\n",
    "            'city': ['a1', 'a2', 'b1', 'b1', 'a2', 'b2'],\n",
    "            'sample id' : [1, 1, 2, 2, 3, 4],\n",
    "            'Objects': ['X', 'Y', 'X', 'Y', 'Y', 'X'],\n",
    "            'Density': [10, 20, 30, 40, 50, 60],\n",
    "            'Quantity': [1, 1, 1, 1, 1, 1]\n",
    "        })\n",
    "        # test data\n",
    "        self.df = pd.DataFrame(data)\n",
    "        \n",
    "        # from user input\n",
    "        self.feature_name = 'Year'\n",
    "        self.object_column = 'Objects'\n",
    "        self.sample_id = 'sample id'\n",
    "\n",
    "        # from default or user input\n",
    "        self.unit_methods = {'Density': 'sum', 'Quantity': 'count'}\n",
    "        self.group_methods = {'Quantity': 'sum','Density': 'median'}\n",
    "\n",
    "        # the feature name, sample id and object columns make up the groupby columns\n",
    "        # the feauture name is used to mask the different child boundaries\n",
    "        self.groupby_columns=[self.feature_name, self.sample_id, self.object_column]\n",
    "\n",
    "        # the labels of the child boundaries are collected\n",
    "        # using the feature name variable\n",
    "        self.boundary_labels = self.df[self.feature_name].unique()\n",
    "\n",
    "        # the boundary columns are used when aggregating the child boundaries\n",
    "        self.boundary_columns = [self.object_column]\n",
    "\n",
    "\n",
    "    def test_aggregate_boundaries_without_labels(self):\n",
    "       \n",
    "        args = {\n",
    "            'groupby_columns':self.groupby_columns,\n",
    "            'unit_agg':self.unit_methods,\n",
    "            'group_agg': self.group_methods,\n",
    "            'boundary_labels': None,\n",
    "            'boundary_columns': self.boundary_columns}\n",
    "\n",
    "        expected = pd.DataFrame(\n",
    "            {'Objects': {0: 'X', 1: 'Y'},\n",
    "             'Quantity': {0: 3, 1: 3},\n",
    "             'Density': {0: 30.0, 1: 40.0},\n",
    "             'label': {0: 'all', 1: 'all'}\n",
    "            })\n",
    "        \n",
    "        result = r_class.aggregate_boundaries(self.df, **args)\n",
    "        \n",
    "        # Check if the result matches the expected result\n",
    "        pd.testing.assert_frame_equal(result, expected)\n",
    "\n",
    "    def test_aggregate_boundaries_with_labels(self):\n",
    "        args = {\n",
    "            'groupby_columns':self.groupby_columns,\n",
    "            'unit_agg':self.unit_methods,\n",
    "            'group_agg': self.group_methods,\n",
    "            'boundary_labels': self.boundary_labels,\n",
    "            'boundary_columns': self.boundary_columns}\n",
    "\n",
    "        expected = pd.DataFrame(\n",
    "            {'Objects': ['X', 'Y', 'X', 'Y', 'X', 'Y'],\n",
    "             'Quantity': [1, 1, 1, 1, 1, 1],\n",
    "             'Density': [10., 20., 30., 40., 60., 50.],\n",
    "             'label': [2019, 2019, 2020, 2020, 2021, 2021]\n",
    "            })\n",
    "        \n",
    "        result = r_class.aggregate_boundaries(self.df, **args)\n",
    "        result.reset_index(inplace=True, drop=True)\n",
    "        \n",
    "        \n",
    "        # Check if the result matches the expected result\n",
    "        pd.testing.assert_frame_equal(result, expected)\n",
    "\n",
    "``` "
   ]
  },
  {
   "cell_type": "code",
   "execution_count": 24,
   "id": "4b17d91c-0e6b-49f8-97fe-1a3c9edd4d1b",
   "metadata": {
    "editable": true,
    "pycharm": {
     "name": "#%%\n"
    },
    "slideshow": {
     "slide_type": ""
    },
    "tags": [
     "hide-input"
    ]
   },
   "source": [
    "\n",
    "\n",
    "class TestAggregateBoundaries(unittest.TestCase):\n",
    "    \n",
    "    def setUp(self):\n",
    "        # Create a sample DataFrame for testing\n",
    "        data = pd.DataFrame({\n",
    "            'Region': ['A', 'A', 'B', 'B', 'A', 'B'],\n",
    "            'Year': [2019, 2019, 2020, 2020, 2021, 2021],\n",
    "            'city': ['a1', 'a2', 'b1', 'b1', 'a2', 'b2'],\n",
    "            'sample id' : [1, 1, 2, 2, 3, 4],\n",
    "            'Objects': ['X', 'Y', 'X', 'Y', 'Y', 'X'],\n",
    "            'Density': [10, 20, 30, 40, 50, 60],\n",
    "            'Quantity': [1, 1, 1, 1, 1, 1]\n",
    "        })\n",
    "        # test data\n",
    "        self.df = pd.DataFrame(data)\n",
    "        \n",
    "        # from user input\n",
    "        self.feature_name = 'Year'\n",
    "        self.object_column = 'Objects'\n",
    "        self.sample_id = 'sample id'\n",
    "\n",
    "        # from default or user input\n",
    "        self.unit_methods = {'Density': 'sum', 'Quantity': 'count'}\n",
    "        self.group_methods = {'Quantity': 'sum','Density': 'median'}\n",
    "\n",
    "        # the feature name, sample id and object columns make up the groupby columns\n",
    "        # the feauture name is used to mask the different child boundaries\n",
    "        self.groupby_columns=[self.feature_name, self.sample_id, self.object_column]\n",
    "\n",
    "        # the labels of the child boundaries are collected\n",
    "        # using the feature name variable\n",
    "        self.boundary_labels = self.df[self.feature_name].unique()\n",
    "\n",
    "        # the boundary columns are used when aggregating the child boundaries\n",
    "        self.boundary_columns = [self.object_column]\n",
    "\n",
    "\n",
    "    def test_aggregate_boundaries_without_labels(self):\n",
    "       \n",
    "        args = {\n",
    "            'groupby_columns':self.groupby_columns,\n",
    "            'unit_agg':self.unit_methods,\n",
    "            'group_agg': self.group_methods,\n",
    "            'boundary_labels': None,\n",
    "            'boundary_columns': self.boundary_columns}\n",
    "\n",
    "        expected = pd.DataFrame(\n",
    "            {'Objects': {0: 'X', 1: 'Y'},\n",
    "             'Quantity': {0: 3, 1: 3},\n",
    "             'Density': {0: 30.0, 1: 40.0},\n",
    "             'label': {0: 'all', 1: 'all'}\n",
    "            })\n",
    "        \n",
    "        result = r_class.aggregate_boundaries(self.df, **args)\n",
    "        \n",
    "        # Check if the result matches the expected result\n",
    "        pd.testing.assert_frame_equal(result, expected)\n",
    "\n",
    "    def test_aggregate_boundaries_with_labels(self):\n",
    "        args = {\n",
    "            'groupby_columns':self.groupby_columns,\n",
    "            'unit_agg':self.unit_methods,\n",
    "            'group_agg': self.group_methods,\n",
    "            'boundary_labels': self.boundary_labels,\n",
    "            'boundary_columns': self.boundary_columns}\n",
    "\n",
    "        expected = pd.DataFrame(\n",
    "            {'Objects': ['X', 'Y', 'X', 'Y', 'X', 'Y'],\n",
    "             'Quantity': [1, 1, 1, 1, 1, 1],\n",
    "             'Density': [10., 20., 30., 40., 60., 50.],\n",
    "             'label': [2019, 2019, 2020, 2020, 2021, 2021]\n",
    "            })\n",
    "        \n",
    "        result = r_class.aggregate_boundaries(self.df, **args)\n",
    "        result.reset_index(inplace=True, drop=True)\n",
    "        \n",
    "        \n",
    "        # Check if the result matches the expected result\n",
    "        pd.testing.assert_frame_equal(result, expected)\n",
    "\n",
    "test_suite = unittest.TestLoader().loadTestsFromTestCase(TestAggregateBoundaries)\n",
    "test_runner = unittest.TextTestRunner(verbosity=3)\n",
    "test_result = test_runner.run(test_suite)\n"
   ],
   "outputs": []
  },
  {
   "cell_type": "markdown",
   "id": "0e687e33-ea97-4cbd-8a77-44633b251376",
   "metadata": {
    "editable": true,
    "pycharm": {
     "name": "#%% md\n"
    },
    "slideshow": {
     "slide_type": ""
    },
    "tags": []
   },
   "source": [
    "### Cumulative reports\n",
    "\n",
    "* reportclass.a_cumulative_report\n",
    "\n",
    "Calls `reportclass.aggregate_boundaries`\n",
    "\n",
    "```python\n",
    "\n",
    "class TestAcumulativeReport(unittest.TestCase):\n",
    "    \n",
    "    def setUp(self):\n",
    "        # Create a sample DataFrame for testing\n",
    "        data = pd.DataFrame({\n",
    "            'Region': ['A', 'A', 'B', 'B', 'A', 'B'],\n",
    "            'Year': [2019, 2019, 2020, 2020, 2021, 2021],\n",
    "            'city': ['a1', 'a2', 'b1', 'b1', 'a2', 'b2'],\n",
    "            'sample id' : [1, 1, 2, 2, 3, 4],\n",
    "            'Objects': ['X', 'Y', 'X', 'Y', 'Y', 'X'],\n",
    "            'Density': [10, 20, 30, 40, 50, 60],\n",
    "            'Quantity': [1, 1, 1, 1, 1, 1]\n",
    "        })\n",
    "        # test data\n",
    "        self.df = pd.DataFrame(data)\n",
    "        \n",
    "        # from user input\n",
    "        self.feature_name = 'Year'\n",
    "        self.object_column = 'Objects'\n",
    "        self.sample_id = 'sample id'\n",
    "\n",
    "        # from default or user input\n",
    "        self.unit_methods = {'Density': 'sum', 'Quantity': 'count'}\n",
    "        self.group_methods = {'Quantity': 'sum','Density': 'median'}\n",
    "\n",
    "        # the feature name, sample id and object columns make up the groupby columns\n",
    "        # the feauture name is used to mask the different child boundaries\n",
    "        self.groupby_columns=[self.feature_name, self.sample_id, self.object_column]\n",
    "\n",
    "        # the labels of the child boundaries are collected\n",
    "        # using the feature name variable\n",
    "        self.boundary_labels = self.df[self.feature_name].unique()\n",
    "\n",
    "        # the boundary columns are used when aggregating the child boundaries\n",
    "        self.boundary_columns = [self.object_column]\n",
    "\n",
    "\n",
    "    def test_acumulative_df(self):\n",
    "       \n",
    "        args = {\n",
    "            'feature_name': self.feature_name,\n",
    "            'object_column': self.object_column,\n",
    "            'sample_id': self.sample_id,\n",
    "            'unit_agg': self.unit_methods,\n",
    "            'group_agg':self.group_methods,\n",
    "            'pivot_values': 'Density'\n",
    "          }\n",
    "\n",
    "        expected = pd.DataFrame(\n",
    "            {2019: {'X': 10.0, 'Y': 20.0},\n",
    "            2020: {'X': 30.0, 'Y': 40.0},\n",
    "            2021: {'X': 60.0, 'Y': 50.0},\n",
    "            'all': {'X': 30.0, 'Y': 40.0}}\n",
    "        )\n",
    "        expected.index.name = self.object_column\n",
    "        expected.columns.name = 'label'        \n",
    "        \n",
    "        result = r_class.a_cumulative_report(self.df, **args)\n",
    "      \n",
    "        # Check if the result matches the expected result\n",
    "        pd.testing.assert_frame_equal(result, expected)\n",
    "\n",
    "test_suite = unittest.TestLoader().loadTestsFromTestCase(TestAcumulativeReport)\n",
    "test_runner = unittest.TextTestRunner(verbosity=3)\n",
    "test_result = test_runner.run(test_suite)\n",
    "``` \n"
   ]
  },
  {
   "cell_type": "code",
   "execution_count": 25,
   "id": "5830381a-f842-438a-8a90-5a4fc29afad5",
   "metadata": {
    "editable": true,
    "jupyter": {
     "source_hidden": true
    },
    "pycharm": {
     "name": "#%%\n"
    },
    "slideshow": {
     "slide_type": ""
    },
    "tags": [
     "hide-input"
    ]
   },
   "source": [
    "class TestAcumulativeReport(unittest.TestCase):\n",
    "    \n",
    "    def setUp(self):\n",
    "        # Create a sample DataFrame for testing\n",
    "        data = pd.DataFrame({\n",
    "            'Region': ['A', 'A', 'B', 'B', 'A', 'B'],\n",
    "            'Year': [2019, 2019, 2020, 2020, 2021, 2021],\n",
    "            'city': ['a1', 'a2', 'b1', 'b1', 'a2', 'b2'],\n",
    "            'sample id' : [1, 1, 2, 2, 3, 4],\n",
    "            'Objects': ['X', 'Y', 'X', 'Y', 'Y', 'X'],\n",
    "            'Density': [10, 20, 30, 40, 50, 60],\n",
    "            'Quantity': [1, 1, 1, 1, 1, 1]\n",
    "        })\n",
    "        # test data\n",
    "        self.df = pd.DataFrame(data)\n",
    "        \n",
    "        # from user input\n",
    "        self.feature_name = 'Year'\n",
    "        self.object_column = 'Objects'\n",
    "        self.sample_id = 'sample id'\n",
    "\n",
    "        # from default or user input\n",
    "        self.unit_methods = {'Density': 'sum', 'Quantity': 'count'}\n",
    "        self.group_methods = {'Quantity': 'sum','Density': 'median'}\n",
    "\n",
    "        # the feature name, sample id and object columns make up the groupby columns\n",
    "        # the feauture name is used to mask the different child boundaries\n",
    "        self.groupby_columns=[self.feature_name, self.sample_id, self.object_column]\n",
    "\n",
    "        # the labels of the child boundaries are collected\n",
    "        # using the feature name variable\n",
    "        self.boundary_labels = self.df[self.feature_name].unique()\n",
    "\n",
    "        # the boundary columns are used when aggregating the child boundaries\n",
    "        self.boundary_columns = [self.object_column]\n",
    "\n",
    "\n",
    "    def test_acumulative_df(self):\n",
    "       \n",
    "        args = {\n",
    "            'feature_name': self.feature_name,\n",
    "            'object_column': self.object_column,\n",
    "            'sample_id': self.sample_id,\n",
    "            'unit_agg': self.unit_methods,\n",
    "            'group_agg':self.group_methods,\n",
    "            'pivot_values': 'Density'\n",
    "          }\n",
    "\n",
    "        expected = pd.DataFrame(\n",
    "            {2019: {'X': 10.0, 'Y': 20.0},\n",
    "            2020: {'X': 30.0, 'Y': 40.0},\n",
    "            2021: {'X': 60.0, 'Y': 50.0},\n",
    "            'all': {'X': 30.0, 'Y': 40.0}}\n",
    "        )\n",
    "        expected.index.name = self.object_column\n",
    "        expected.columns.name = 'label'        \n",
    "        \n",
    "        result = r_class.a_cumulative_report(self.df, **args)\n",
    "      \n",
    "        # Check if the result matches the expected result\n",
    "        pd.testing.assert_frame_equal(result, expected)\n",
    "\n",
    "test_suite = unittest.TestLoader().loadTestsFromTestCase(TestAcumulativeReport)\n",
    "test_runner = unittest.TextTestRunner(verbosity=3)\n",
    "test_result = test_runner.run(test_suite)"
   ],
   "outputs": []
  },
  {
   "cell_type": "markdown",
   "id": "5a64e6c8-0d4e-422f-ae54-07ec38e29995",
   "metadata": {
    "editable": true,
    "pycharm": {
     "name": "#%% md\n"
    },
    "slideshow": {
     "slide_type": ""
    },
    "tags": []
   },
   "source": [
    "### Categorize work data\n",
    "\n",
    "* `reportclass.categorize_work_data`\n",
    "\n",
    "Called by `reportclass.ReportClass`\n",
    "\n",
    "> Generates `ReportClass.features`\n",
    "\n",
    "```python\n",
    "class TestCategorizeWorkData(unittest.TestCase):\n",
    "\n",
    "    def setUp(self):\n",
    "        # Create a sample DataFrame for testing\n",
    "        data = pd.DataFrame({\n",
    "            'Region': ['A', 'A', 'B', 'B', 'A', 'B','C'],\n",
    "            'Use': ['l', 'l', 'p', 'r', 'r', 'l', 'l'],\n",
    "            'Year': [2019, 2019, 2020, 2020, 2021, 2021, 2021],\n",
    "            'State': ['V', 'B', 'V', 'V', 'B', 'C', 'B'],\n",
    "            'City': ['a1', 'a2', 'b1', 'b1', 'a2', 'b2', 'a2'],\n",
    "            'sample id' : [1, 1, 2, 2, 3, 4, 4],\n",
    "            'Objects': ['X', 'Y', 'X', 'Y', 'Y', 'X', 'X'],\n",
    "            'Density': [10, 20, 30, 40, 50, 60, 15],\n",
    "            'Quantity': [1, 1, 1, 1, 1, 1, 2]\n",
    "        })\n",
    "        # test data\n",
    "        self.df = pd.DataFrame(data)\n",
    "\n",
    "        # these values are set in the conf file. They describe the oreder of\n",
    "        # aggregation. The lowest reporting unit is last, in this case city\n",
    "        self.columns_of_interest = ['Region', 'Use',  'Year', 'State', 'City']\n",
    "        self.sample_id = 'sample id'\n",
    "        self.labels = ['Use', 'l']\n",
    "        \n",
    "       \n",
    "    def test_categorize_work_data(self):\n",
    "       \n",
    "        # Expected output\n",
    "        expected = {\n",
    "            'l': {\n",
    "                'Region': np.array(['A', 'B', 'C'], dtype='object'),\n",
    "                'State': np.array(['V', 'B', 'C'], dtype= 'object'),\n",
    "                'City': np.array(['a1', 'a2', 'b2'], dtype='object'),\n",
    "                'Use': np.array(['l'], dtype= 'object'),\n",
    "                'Year': np.array([2019, 2021]),\n",
    "                'samples': np.array([1, 4])\n",
    "            }}\n",
    "        # Call the function\n",
    "        result = r_class.categorize_work_data(self.df, self.labels, self.columns_of_interest, self.sample_id)\n",
    "\n",
    "        for akey in self.columns_of_interest:\n",
    "            done = set(expected[self.labels[1]][akey])\n",
    "            dtwo = set(result[self.labels[1]][akey])\n",
    "            unittest.TestCase.assertEqual(self, first=done, second=dtwo)\n",
    "```\n"
   ]
  },
  {
   "cell_type": "code",
   "execution_count": 26,
   "id": "bc5ffc85-c4dc-4d48-9945-e60c3463fe43",
   "metadata": {
    "editable": true,
    "jupyter": {
     "source_hidden": true
    },
    "pycharm": {
     "name": "#%%\n"
    },
    "slideshow": {
     "slide_type": ""
    },
    "tags": [
     "hide-input"
    ]
   },
   "source": [
    "class TestCategorizeWorkData(unittest.TestCase):\n",
    "\n",
    "    def setUp(self):\n",
    "        # Create a sample DataFrame for testing\n",
    "        data = pd.DataFrame({\n",
    "            'Region': ['A', 'A', 'B', 'B', 'A', 'B','C'],\n",
    "            'Use': ['l', 'l', 'p', 'r', 'r', 'l', 'l'],\n",
    "            'Year': [2019, 2019, 2020, 2020, 2021, 2021, 2021],\n",
    "            'State': ['V', 'B', 'V', 'V', 'B', 'C', 'B'],\n",
    "            'City': ['a1', 'a2', 'b1', 'b1', 'a2', 'b2', 'a2'],\n",
    "            'sample id' : [1, 1, 2, 2, 3, 4, 4],\n",
    "            'Objects': ['X', 'Y', 'X', 'Y', 'Y', 'X', 'X'],\n",
    "            'Density': [10, 20, 30, 40, 50, 60, 15],\n",
    "            'Quantity': [1, 1, 1, 1, 1, 1, 2]\n",
    "        })\n",
    "        # test data\n",
    "        self.df = pd.DataFrame(data)\n",
    "\n",
    "        # these values are set in the conf file. They describe the oreder of\n",
    "        # aggregation. The lowest reporting unit is last, in this case city\n",
    "        self.columns_of_interest = ['Region', 'Use',  'Year', 'State', 'City']\n",
    "        self.sample_id = 'sample id'\n",
    "        self.labels = ['Use', 'l']\n",
    "        \n",
    "       \n",
    "    def test_categorize_work_data(self):\n",
    "       \n",
    "        # Expected output\n",
    "        expected = {\n",
    "            'l': {\n",
    "                'Region': np.array(['A', 'B', 'C'], dtype='object'),\n",
    "                'State': np.array(['V', 'B', 'C'], dtype= 'object'),\n",
    "                'City': np.array(['a1', 'a2', 'b2'], dtype='object'),\n",
    "                'Use': np.array(['l'], dtype= 'object'),\n",
    "                'Year': np.array([2019, 2021]),\n",
    "                'samples': np.array([1, 4])\n",
    "            }}\n",
    "        # Call the function\n",
    "        result = r_class.categorize_work_data(self.df, self.labels, self.columns_of_interest, self.sample_id)\n",
    "\n",
    "        for akey in self.columns_of_interest:\n",
    "            done = set(expected[self.labels[1]][akey])\n",
    "            dtwo = set(result[self.labels[1]][akey])\n",
    "            unittest.TestCase.assertEqual(self, first=done, second=dtwo)\n",
    "\n",
    "\n",
    "test_suite = unittest.TestLoader().loadTestsFromTestCase(TestCategorizeWorkData)\n",
    "test_runner = unittest.TextTestRunner(verbosity=3)\n",
    "test_result = test_runner.run(test_suite)"
   ],
   "outputs": []
  },
  {
   "cell_type": "markdown",
   "id": "1df6ebda-b73d-401a-84c0-2f9808703f54",
   "metadata": {
    "editable": true,
    "pycharm": {
     "name": "#%% md\n"
    },
    "slideshow": {
     "slide_type": ""
    },
    "tags": []
   },
   "source": [
    "### Summarize a vector\n",
    "\n",
    "* `a_summary_of_one_vector`\n",
    "\n",
    "Called by `reportclass.ReportClass.summarize_feature_labels` and calls `aggregate_dataframe`\n",
    "\n",
    "```python\n",
    "\n",
    "class TestASummaryOfOneVector(unittest.TestCase):\n",
    "\n",
    "    def setUp(self):\n",
    "        # Create a sample DataFrame for testing\n",
    "        data = pd.DataFrame({\n",
    "            'Region': ['A', 'A', 'B', 'B', 'A', 'B','C'],\n",
    "            'Use': ['l', 'l', 'p', 'p', 'r', 'l', 'l'],\n",
    "            'Year': [2019, 2019, 2020, 2020, 2021, 2021, 2021],\n",
    "            'State': ['V', 'B', 'V', 'V', 'B', 'C', 'B'],\n",
    "            'City': ['a1', 'a2', 'b1', 'b1', 'a2', 'b2', 'a2'],\n",
    "            'Slug': ['l1', 'l5', 'l2', 'l2', 'l3', 'l4', 'l4'],\n",
    "            'sample id' : [1, 5, 2, 2, 3, 4, 4],\n",
    "            'Objects': ['X', 'Y', 'X', 'Y', 'Y', 'X', 'X'],\n",
    "            'Density': [2, 2, 2, 2, 2, 2, 2],\n",
    "            'Quantity': [1, 1, 1, 1, 1, 1, 1]\n",
    "        })\n",
    "\n",
    "        # test data\n",
    "        self.df = pd.DataFrame(data)        \n",
    "\n",
    "        # these values are set in the conf file. They describe the oreder of\n",
    "        # aggregation. The lowest reporting unit is last, in this case city\n",
    "        self.columns_of_interest = ['Region', 'Use',  'Year', 'State', 'City']\n",
    "        self.sample_id = 'sample id'\n",
    "        self.feature = 'City'\n",
    "        self.labels = self.df[self.feature].unique()\n",
    "        self.unit_columns = [self.sample_id, 'location', self.feature]\n",
    "    \n",
    "    def test_a_summary_of_one_vector(self):\n",
    "\n",
    "        # Test the case of one vector\n",
    "        test_df = self.df[self.df.Use == 'l']\n",
    "        unit_columns = ['sample id', 'Slug', 'Use']\n",
    "        unit_agg = {'Density':'median', 'Quantity':'sum'}\n",
    "        label = 'Lake'\n",
    "        \n",
    "        result = r_class.a_summary_of_one_vector(test_df, unit_columns, unit_agg, describe='Density', total_column='Quantity')\n",
    "\n",
    "        expected = pd.DataFrame({\n",
    "            'Density': {\n",
    "                'count': 3,\n",
    "                'mean': 2.0,\n",
    "                'std': 0.0,\n",
    "                'min': 2.0,\n",
    "                '25%': 2.0,\n",
    "                '50%': 2.0,\n",
    "                '75%': 2.0,\n",
    "                'max': 2.0,\n",
    "                'total': 4}})\n",
    "        np.testing.assert_array_equal(expected.to_dict(), result.to_dict())\n",
    "        unittest.TestCase.assertEqual(self, set(expected.index), set(result.index))        \n",
    "\n",
    "    def test_summarize_feature_variables_test(self):\n",
    "\n",
    "        # this can be set in config or called as a\n",
    "        # keyword variable\n",
    "        unit_agg = {'Density':'median', 'Quantity':'sum'}\n",
    "\n",
    "        # summaruze features is a method in the ReportClass\n",
    "        # that calls a_summary_of_one_vector on collections\n",
    "        # of vectors\n",
    "        result = summarize_feature_labels_test(self.df, sample_id=self.sample_id, location='Slug', feature=self.feature, unit_agg=unit_agg, describe_column='Density', total_column='Quantity')\n",
    "        \n",
    "\n",
    "        expected = pd.DataFrame({('Density', 'a1'): {\n",
    "            '25%': 2.0,\n",
    "            '50%': 2.0,\n",
    "            '75%': 2.0,\n",
    "            'count': 1,\n",
    "            'max': 2.0,\n",
    "            'mean': 2.0,\n",
    "            'min': 2.0,\n",
    "            'std': 'NaN',\n",
    "            'total': 1},\n",
    "            ('Density', 'a2'): {'25%': 2.0,\n",
    "            '50%': 2.0,\n",
    "            '75%': 2.0,\n",
    "            'count': 3,\n",
    "            'max': 2.0,\n",
    "            'mean': 2.0,\n",
    "            'min': 2.0,\n",
    "            'std': 0.0,\n",
    "            'total': 3},\n",
    "            ('Density', 'b1'): {'25%': 2.0,\n",
    "            '50%': 2.0,\n",
    "            '75%': 2.0,\n",
    "            'count': 1,\n",
    "            'max': 2.0,\n",
    "            'mean': 2.0,\n",
    "            'min': 2.0,\n",
    "            'std': 'NaN',\n",
    "            'total': 2},\n",
    "            ('Density', 'b2'): {'25%': 2.0,\n",
    "            '50%': 2.0,\n",
    "            '75%': 2.0,\n",
    "            'count': 1,\n",
    "            'max': 2.0,\n",
    "            'mean': 2.0,\n",
    "            'min': 2.0,\n",
    "            'std': 'NaN',\n",
    "            'total': 1}})\n",
    "        \n",
    "        np.testing.assert_array_equal(expected.values, result.values)\n",
    "        unittest.TestCase.assertEqual(self, set(expected.index), set(result.index))\n",
    "\n",
    "```"
   ]
  },
  {
   "cell_type": "code",
   "execution_count": 27,
   "id": "2bdeb205-02bf-4f07-8700-c60d7954511d",
   "metadata": {
    "editable": true,
    "jupyter": {
     "source_hidden": true
    },
    "pycharm": {
     "name": "#%%\n"
    },
    "slideshow": {
     "slide_type": ""
    },
    "tags": [
     "hide-input"
    ]
   },
   "source": [
    "def summarize_feature_labels_test(df,\n",
    "                             feature: str = None,\n",
    "                             sample_id: str = 'loc_date',\n",
    "                             location: str = 'slug',\n",
    "                             describe_column: str = 'pcs_m',\n",
    "                             unit_agg: dict = conf_.unit_agg,\n",
    "                             **kwargs):\n",
    "    \n",
    "    unit_columns = [sample_id, location, feature]\n",
    "    labels = df[feature].unique()\n",
    "    \n",
    "    x = []\n",
    "    for the_label in labels:\n",
    "        d = df[df[feature] == the_label].copy()\n",
    "        ds = r_class.a_summary_of_one_vector(d.copy(),\n",
    "                                     unit_columns=unit_columns,\n",
    "                                     unit_agg=unit_agg,\n",
    "                                     describe=describe_column,\n",
    "                                     label=the_label, **kwargs)\n",
    "        x.append(ds)\n",
    "\n",
    "    d = pd.concat(x)\n",
    "    d = d.fillna('NaN')\n",
    " \n",
    "    \n",
    "    return d.pivot(columns='label')\n",
    "    \n",
    "class TestASummaryOfOneVector(unittest.TestCase):\n",
    "\n",
    "    def setUp(self):\n",
    "        # Create a sample DataFrame for testing\n",
    "        data = pd.DataFrame({\n",
    "            'Region': ['A', 'A', 'B', 'B', 'A', 'B','C'],\n",
    "            'Use': ['l', 'l', 'p', 'p', 'r', 'l', 'l'],\n",
    "            'Year': [2019, 2019, 2020, 2020, 2021, 2021, 2021],\n",
    "            'State': ['V', 'B', 'V', 'V', 'B', 'C', 'B'],\n",
    "            'City': ['a1', 'a2', 'b1', 'b1', 'a2', 'b2', 'a2'],\n",
    "            'Slug': ['l1', 'l5', 'l2', 'l2', 'l3', 'l4', 'l4'],\n",
    "            'sample id' : [1, 5, 2, 2, 3, 4, 4],\n",
    "            'Objects': ['X', 'Y', 'X', 'Y', 'Y', 'X', 'X'],\n",
    "            'Density': [2, 2, 2, 2, 2, 2, 2],\n",
    "            'Quantity': [1, 1, 1, 1, 1, 1, 1]\n",
    "        })\n",
    "\n",
    "        # test data\n",
    "        self.df = pd.DataFrame(data)\n",
    "        \n",
    "\n",
    "        # these values are set in the conf file. They describe the oreder of\n",
    "        # aggregation. The lowest reporting unit is last, in this case city\n",
    "        self.columns_of_interest = ['Region', 'Use',  'Year', 'State', 'City']\n",
    "        self.sample_id = 'sample id'\n",
    "        self.feature = 'City'\n",
    "        self.labels = self.df[self.feature].unique()\n",
    "        self.unit_columns = [self.sample_id, 'location', self.feature]\n",
    "    \n",
    "    def test_a_summary_of_one_vector(self):\n",
    "\n",
    "        # Test the case of one vector\n",
    "        test_df = self.df[self.df.Use == 'l']\n",
    "        unit_columns = ['sample id', 'Slug', 'Use']\n",
    "        unit_agg = {'Density':'median', 'Quantity':'sum'}\n",
    "        label = 'Lake'\n",
    "        \n",
    "        result = r_class.a_summary_of_one_vector(test_df, unit_columns, unit_agg, describe='Density', total_column='Quantity')\n",
    "\n",
    "        expected = pd.DataFrame({\n",
    "            'Density': {\n",
    "                'count': 3,\n",
    "                'mean': 2.0,\n",
    "                'std': 0.0,\n",
    "                'min': 2.0,\n",
    "                '25%': 2.0,\n",
    "                '50%': 2.0,\n",
    "                '75%': 2.0,\n",
    "                'max': 2.0,\n",
    "                'total': 4}})\n",
    "        np.testing.assert_array_equal(expected.to_dict(), result.to_dict())\n",
    "        unittest.TestCase.assertEqual(self, set(expected.index), set(result.index))\n",
    "        \n",
    "      \n",
    "        \n",
    "\n",
    "    def test_summarize_feature_variables_test(self):\n",
    "\n",
    "        # this can be set in config or called as a\n",
    "        # keyword variable\n",
    "        unit_agg = {'Density':'median', 'Quantity':'sum'}\n",
    "\n",
    "        # summaruze features is a method in the ReportClass\n",
    "        # that calls a_summary_of_one_vector on collections\n",
    "        # of vectors\n",
    "        result = summarize_feature_labels_test(self.df, sample_id=self.sample_id, location='Slug', feature=self.feature, unit_agg=unit_agg, describe_column='Density', total_column='Quantity')\n",
    "        \n",
    "\n",
    "        expected = pd.DataFrame({('Density', 'a1'): {\n",
    "            '25%': 2.0,\n",
    "            '50%': 2.0,\n",
    "            '75%': 2.0,\n",
    "            'count': 1,\n",
    "            'max': 2.0,\n",
    "            'mean': 2.0,\n",
    "            'min': 2.0,\n",
    "            'std': 'NaN',\n",
    "            'total': 1},\n",
    "            ('Density', 'a2'): {'25%': 2.0,\n",
    "            '50%': 2.0,\n",
    "            '75%': 2.0,\n",
    "            'count': 3,\n",
    "            'max': 2.0,\n",
    "            'mean': 2.0,\n",
    "            'min': 2.0,\n",
    "            'std': 0.0,\n",
    "            'total': 3},\n",
    "            ('Density', 'b1'): {'25%': 2.0,\n",
    "            '50%': 2.0,\n",
    "            '75%': 2.0,\n",
    "            'count': 1,\n",
    "            'max': 2.0,\n",
    "            'mean': 2.0,\n",
    "            'min': 2.0,\n",
    "            'std': 'NaN',\n",
    "            'total': 2},\n",
    "            ('Density', 'b2'): {'25%': 2.0,\n",
    "            '50%': 2.0,\n",
    "            '75%': 2.0,\n",
    "            'count': 1,\n",
    "            'max': 2.0,\n",
    "            'mean': 2.0,\n",
    "            'min': 2.0,\n",
    "            'std': 'NaN',\n",
    "            'total': 1}})\n",
    "        \n",
    "        np.testing.assert_array_equal(expected.values, result.values)\n",
    "        unittest.TestCase.assertEqual(self, set(expected.index), set(result.index))\n",
    "        \n",
    "        \n",
    "      \n",
    "        \n",
    "\n",
    "test_suite = unittest.TestLoader().loadTestsFromTestCase(TestASummaryOfOneVector)\n",
    "test_runner = unittest.TextTestRunner(verbosity=3)\n",
    "test_result = test_runner.run(test_suite)"
   ],
   "outputs": []
  },
  {
   "cell_type": "markdown",
   "id": "dc192582-c7c9-4e86-8a88-a1caa753084e",
   "metadata": {
    "editable": true,
    "pycharm": {
     "name": "#%% md\n"
    },
    "slideshow": {
     "slide_type": ""
    },
    "tags": []
   },
   "source": [
    "### Collecting records by value\n",
    "\n",
    "* `reportclass.get_top_x_records_with_max_quantity`\n",
    "\n",
    "Is called by `reportclass.ReportClass.inventory`\n",
    "\n",
    "```python\n",
    "class TestGetTopXRecordsWithMaxQuantity(unittest.TestCase):\n",
    "\n",
    "    def test_get_top_x_records_with_max_quantity(self):\n",
    "        data = {\n",
    "            'ID': ['A', 'B', 'C', 'D', 'E'],\n",
    "            'Quantity': [10, 20, 15, 5, 30]\n",
    "        }\n",
    "        df = pd.DataFrame(data)\n",
    "\n",
    "        # the column used to measure\n",
    "        quantity_column = 'Quantity'\n",
    "        # the id of the objects being measured\n",
    "        id_column = 'ID'\n",
    "        # get the top 3\n",
    "        x = 3\n",
    "\n",
    "        # test that\n",
    "        result = r_class.get_top_x_records_with_max_quantity(df, quantity_column, id_column, x)\n",
    "\n",
    "        # expected output\n",
    "        expected_d = {\n",
    "            'ID': ['E', 'B', 'C'],\n",
    "            'Quantity': [30, 20, 15],\n",
    "            '%': [0.46153846153846156, 0.3076923076923077, 0.23076923076923078]\n",
    "        }\n",
    "        expected = pd.DataFrame(expected_d)\n",
    "\n",
    "        # test result against expected\n",
    "        pd.testing.assert_frame_equal(result.reset_index(drop=True), expected.reset_index(drop=True))\n",
    "```"
   ]
  },
  {
   "cell_type": "code",
   "execution_count": 28,
   "id": "5ce707d3-ec9e-4274-98fe-f1f5c9a454a0",
   "metadata": {
    "editable": true,
    "jupyter": {
     "source_hidden": true
    },
    "pycharm": {
     "name": "#%%\n"
    },
    "scrolled": true,
    "slideshow": {
     "slide_type": ""
    },
    "tags": [
     "hide-input"
    ]
   },
   "source": [
    "class TestGetTopXRecordsWithMaxQuantity(unittest.TestCase):\n",
    "\n",
    "    def test_get_top_x_records_with_max_quantity(self):\n",
    "        data = {\n",
    "            'ID': ['A', 'B', 'C', 'D', 'E'],\n",
    "            'Quantity': [10, 20, 15, 5, 30]\n",
    "        }\n",
    "        df = pd.DataFrame(data)\n",
    "\n",
    "        # the column used to measure\n",
    "        quantity_column = 'Quantity'\n",
    "        # the id of the objects being measured\n",
    "        id_column = 'ID'\n",
    "        # get the top 3\n",
    "        x = 3\n",
    "\n",
    "        # test that\n",
    "        result = r_class.get_top_x_records_with_max_quantity(df, quantity_column, id_column, x)\n",
    "\n",
    "        # expected output\n",
    "        expected_d = {\n",
    "            'ID': ['E', 'B', 'C'],\n",
    "            'Quantity': [30, 20, 15],\n",
    "            '%': [0.46153846153846156, 0.3076923076923077, 0.23076923076923078]\n",
    "        }\n",
    "        expected = pd.DataFrame(expected_d)\n",
    "\n",
    "        # test result against expected\n",
    "        pd.testing.assert_frame_equal(result.reset_index(drop=True), expected.reset_index(drop=True))\n",
    "\n",
    "test_suite = unittest.TestLoader().loadTestsFromTestCase(TestGetTopXRecordsWithMaxQuantity)\n",
    "test_runner = unittest.TextTestRunner(verbosity=3)\n",
    "test_result = test_runner.run(test_suite)"
   ],
   "outputs": []
  },
  {
   "cell_type": "markdown",
   "id": "0d28db4d-3bd2-4933-9c34-3cd31d31b46b",
   "metadata": {
    "editable": true,
    "pycharm": {
     "name": "#%% md\n"
    },
    "slideshow": {
     "slide_type": ""
    },
    "tags": []
   },
   "source": [
    "### Counting occurences\n",
    "\n",
    "* reportclass.count_objects_with_positive_quantity\n",
    "\n",
    "Is called by `reportclass.ReportClass.inventory`"
   ]
  },
  {
   "cell_type": "code",
   "execution_count": 29,
   "id": "9e63d33f-22fa-4d83-86f2-987f9bb11552",
   "metadata": {
    "editable": true,
    "jupyter": {
     "source_hidden": true
    },
    "pycharm": {
     "name": "#%%\n"
    },
    "slideshow": {
     "slide_type": ""
    },
    "tags": [
     "hide-input"
    ]
   },
   "source": [
    "\n",
    "class TestCountObjectsWithPositiveQuantity(unittest.TestCase):\n",
    "\n",
    "    def test_count_objects_with_positive_quantity(self):\n",
    "        # Create a sample DataFrame\n",
    "        data = {\n",
    "            'sample': ['s1', 's1', 's2', 's2', 's3'],\n",
    "            'code': ['A', 'B', 'A', 'C', 'B'],\n",
    "            'quantity': [1, 2, 0, 3, 0]\n",
    "        }\n",
    "        df = pd.DataFrame(data)\n",
    "\n",
    "        # Define the parameters for the function\n",
    "        value_column = 'quantity'\n",
    "        object_column = 'code'\n",
    "\n",
    "        # Call the function\n",
    "        result = r_class.count_objects_with_positive_quantity(df, value_column, object_column)\n",
    "\n",
    "        # Define the expected output\n",
    "        expected_data = {'A': 0.5, 'B': 0.5, 'C': 1.0}\n",
    "        expected_output = pd.Series(expected_data)\n",
    "\n",
    "        # Check if the result matches the expected output\n",
    "        pd.testing.assert_series_equal(result.sort_index(), expected_output.sort_index())\n",
    "\n",
    "test_suite = unittest.TestLoader().loadTestsFromTestCase(TestGetTopXRecordsWithMaxQuantity)\n",
    "test_runner = unittest.TextTestRunner(verbosity=3)\n",
    "test_result = test_runner.run(test_suite)"
   ],
   "outputs": []
  },
  {
   "cell_type": "markdown",
   "id": "90a5aef6-53a6-4fd9-ad1f-b7b74217aed7",
   "metadata": {
    "editable": true,
    "pycharm": {
     "name": "#%% md\n"
    },
    "slideshow": {
     "slide_type": ""
    },
    "tags": []
   },
   "source": [
    "### Selecting by two criteria\n",
    "\n",
    "* reportclass.display_tabular_data_by_column_values\n",
    "\n",
    "Is called by `reportclass.ReportClass.most_common`\n",
    "\n",
    "```python\n",
    "class TestDisplayTabularDataByColumnValues(unittest.TestCase):\n",
    "\n",
    "    def test_display_tabular_data_by_column_values(self):\n",
    "        \n",
    "        data = {\n",
    "            'index_col': ['i1', 'i2', 'i3', 'i4', 'i5'],\n",
    "            'column1': [10, 20, 30, 40, 50],\n",
    "            'column2': [5, 15, 25, 35, 45],\n",
    "            'quantity': [3, 6, 9, 12, 15]\n",
    "        }\n",
    "        df = pd.DataFrame(data)\n",
    "\n",
    "       \n",
    "        column_one = {'column': 'quantity', 'val': 2}\n",
    "        column_two = {'column': 'column2', 'val': 20}\n",
    "        index = 'index_col'\n",
    "\n",
    "        \n",
    "        result = r_class.display_tabular_data_by_column_values(df, column_one, column_two, index)\n",
    "        \n",
    "        \n",
    "        expected_d = {\n",
    "            'column1': [50, 40, 30],\n",
    "            'column2': [45, 35, 25],\n",
    "            'quantity': [15, 12, 9]\n",
    "        }\n",
    "        expected = pd.DataFrame(expected_d, index=['i5', 'i4', 'i3'])\n",
    "        \n",
    "        \n",
    "        pd.testing.assert_frame_equal(result, expected)\n",
    "```"
   ]
  },
  {
   "cell_type": "code",
   "execution_count": 30,
   "id": "54825815-ce67-420e-aa5c-719868a6273d",
   "metadata": {
    "editable": true,
    "jupyter": {
     "source_hidden": true
    },
    "pycharm": {
     "name": "#%%\n"
    },
    "slideshow": {
     "slide_type": ""
    },
    "tags": [
     "hide-input"
    ]
   },
   "source": [
    "class TestDisplayTabularDataByColumnValues(unittest.TestCase):\n",
    "\n",
    "    def test_display_tabular_data_by_column_values(self):\n",
    "        \n",
    "        data = {\n",
    "            'index_col': ['i1', 'i2', 'i3', 'i4', 'i5'],\n",
    "            'column1': [10, 20, 30, 40, 50],\n",
    "            'column2': [5, 15, 25, 35, 45],\n",
    "            'quantity': [3, 6, 9, 12, 15]\n",
    "        }\n",
    "        df = pd.DataFrame(data)\n",
    "\n",
    "       \n",
    "        column_one = {'column': 'quantity', 'val': 2}\n",
    "        column_two = {'column': 'column2', 'val': 20}\n",
    "        index = 'index_col'\n",
    "\n",
    "        \n",
    "        result = r_class.display_tabular_data_by_column_values(df, column_one, column_two, index)\n",
    "        \n",
    "        \n",
    "        expected_d = {\n",
    "            'column1': [50, 40, 30],\n",
    "            'column2': [45, 35, 25],\n",
    "            'quantity': [15, 12, 9]\n",
    "        }\n",
    "        expected = pd.DataFrame(expected_d, index=['i5', 'i4', 'i3'])\n",
    "        \n",
    "        \n",
    "        pd.testing.assert_frame_equal(result, expected)\n",
    "\n",
    "test_suite = unittest.TestLoader().loadTestsFromTestCase(TestDisplayTabularDataByColumnValues)\n",
    "test_runner = unittest.TextTestRunner(verbosity=3)\n",
    "test_result = test_runner.run(test_suite)"
   ],
   "outputs": []
  },
  {
   "cell_type": "code",
   "execution_count": 31,
   "id": "47278971-f7c1-496a-9ba0-d6b40aa0e98c",
   "metadata": {
    "editable": true,
    "pycharm": {
     "name": "#%%\n"
    },
    "slideshow": {
     "slide_type": ""
    },
    "tags": [
     "remove-input"
    ]
   },
   "source": [
    "data = pd.DataFrame({\n",
    "            'Region': ['A', 'A', 'B', 'B', 'A', 'B','C'],\n",
    "            'Use': ['l', 'l', 'p', 'p', 'r', 'l', 'l'],\n",
    "            'Year': [2019, 2019, 2020, 2020, 2021, 2021, 2021],\n",
    "            'State': ['V', 'B', 'V', 'V', 'B', 'C', 'B'],\n",
    "            'City': ['a1', 'a2', 'b1', 'b1', 'a2', 'b2', 'a2'],\n",
    "            'Slug': ['l1', 'l5', 'l2', 'l2', 'l3', 'l4', 'l4'],\n",
    "            'sample id' : [1, 5, 2, 2, 3, 4, 4],\n",
    "            'Objects': ['X', 'Y', 'X', 'Y', 'Y', 'X', 'X'],\n",
    "            'Density': [2, 2, 2, 2, 2, 2, 2],\n",
    "            'Quantity': [1, 1, 1, 1, 1, 1, 1]\n",
    "        })\n",
    "\n",
    "columns_of_interest = ['Region', 'Use',  'Year', 'State', 'City']\n",
    "sample_id = 'sample id'\n",
    "labels = ['City', 'a1']\n",
    "t = data.sort_values(by='sample id')"
   ],
   "outputs": []
  },
  {
   "cell_type": "code",
   "execution_count": 32,
   "id": "59750bbd-b061-4542-beff-b56bda53eff0",
   "metadata": {
    "editable": true,
    "slideshow": {
     "slide_type": ""
    },
    "tags": []
   },
   "source": [
    "data"
   ],
   "outputs": []
  },
  {
   "cell_type": "code",
   "execution_count": 33,
   "id": "c6529b00-a0d5-49dd-965e-7e6814548013",
   "metadata": {
    "editable": true,
    "jupyter": {
     "source_hidden": true
    },
    "pycharm": {
     "name": "#%%\n"
    },
    "slideshow": {
     "slide_type": ""
    },
    "tags": [
     "remove-input"
    ]
   },
   "source": [
    "test_df = data[data.Use == 'l']\n",
    "unit_columns = ['sample id', 'Slug', 'Use']\n",
    "unit_agg = {'Density':'median', 'Quantity':'sum'}\n",
    "label = 'Lake'\n",
    "        \n",
    "result = r_class.a_summary_of_one_vector(test_df, unit_columns, unit_agg, describe='Density', total_column='Quantity')"
   ],
   "outputs": []
  },
  {
   "cell_type": "code",
   "execution_count": 34,
   "id": "d24424e5-8fca-4c71-8213-26dc034c4037",
   "metadata": {
    "editable": true,
    "jupyter": {
     "source_hidden": true
    },
    "pycharm": {
     "name": "#%%\n"
    },
    "slideshow": {
     "slide_type": ""
    },
    "tags": [
     "remove-input"
    ]
   },
   "source": [
    "def summarize_feature_labels(df,\n",
    "                             feature: str = None,\n",
    "                             sample_id: str = 'loc_date',\n",
    "                             location: str = 'slug',\n",
    "                             describe_column: str = 'pcs_m',\n",
    "                             unit_agg: dict = conf_.unit_agg,\n",
    "                             **kwargs):\n",
    "     \n",
    "    unit_columns = [sample_id, location, feature]\n",
    "    labels = df[feature].unique()\n",
    "    \n",
    "    x = []\n",
    "    for the_label in labels:\n",
    "        d = df[df[feature] == the_label].copy()\n",
    "        ds = r_class.a_summary_of_one_vector(d.copy(),\n",
    "                                     unit_columns=unit_columns,\n",
    "                                     unit_agg=unit_agg,\n",
    "                                     describe=describe_column,\n",
    "                                     label=the_label, **kwargs)\n",
    "        x.append(ds)\n",
    "    \n",
    "    return pd.concat(x).pivot(columns='label')\n",
    "ti = summarize_feature_labels(data, feature='City', sample_id='sample id', location='Slug', total_column='Quantity', describe_column='Density',unit_agg=unit_agg)"
   ],
   "outputs": []
  },
  {
   "cell_type": "code",
   "execution_count": 35,
   "id": "286b6a74-8ae0-4093-b99c-675df44cf2ec",
   "metadata": {
    "editable": true,
    "pycharm": {
     "name": "#%%\n"
    },
    "slideshow": {
     "slide_type": ""
    },
    "tags": [
     "remove-input"
    ]
   },
   "source": [
    "fg = r_class.categorize_work_data(data, labels, columns_of_interest, sample_id)"
   ],
   "outputs": []
  },
  {
   "cell_type": "code",
   "execution_count": 36,
   "id": "4731a842-ba05-4914-92d3-bd538469d38d",
   "metadata": {
    "editable": true,
    "pycharm": {
     "name": "#%%\n"
    },
    "slideshow": {
     "slide_type": ""
    },
    "tags": [
     "remove-input"
    ]
   },
   "source": [
    "# from user input\n",
    "feature_name = 'State'\n",
    "object_column = 'Objects'\n",
    "sample_id = 'sample id'\n",
    "\n",
    "# from default or user input\n",
    "unit_methods = {'Density': 'sum', 'Quantity': 'count'}\n",
    "group_methods = {'Quantity': 'sum','Density': 'median'}\n",
    "\n",
    "# the feature name, sample id and object columns make up the groupby columns\n",
    "# the feauture name is used to mask the different child boundaries\n",
    "groupby_columns=[feature_name, sample_id, object_column]\n",
    "\n",
    "# the labels of the child boundaries are collected\n",
    "# using the feature name variable\n",
    "boundary_labels = data[feature_name].unique()\n",
    "\n",
    "# the boundary columns are used when aggregating the child boundaries\n",
    "boundary_columns = [object_column]\n",
    "\n",
    "unit_aggregate = r_class.aggregate_dataframe(data, groupby_columns=groupby_columns, aggregation_functions=unit_methods) "
   ],
   "outputs": []
  },
  {
   "cell_type": "code",
   "execution_count": 37,
   "id": "c2b3f266-c484-46b8-9062-767bea7da236",
   "metadata": {
    "editable": true,
    "pycharm": {
     "name": "#%%\n"
    },
    "slideshow": {
     "slide_type": ""
    },
    "tags": [
     "remove-input"
    ]
   },
   "source": [
    "d = r_class.aggregate_dataframe(unit_aggregate.copy(), groupby_columns=groupby_columns[-1:], aggregation_functions=group_methods)\n",
    "d['label'] = 'all'"
   ],
   "outputs": []
  },
  {
   "cell_type": "code",
   "execution_count": 38,
   "id": "1122ae8b-1949-4e6c-b6c6-fa0a421f877c",
   "metadata": {
    "editable": true,
    "pycharm": {
     "name": "#%%\n"
    },
    "slideshow": {
     "slide_type": ""
    },
    "tags": [
     "remove-input"
    ]
   },
   "source": [
    "# unit_aggregate = r_class.aggregate_boundaries(data, groupby_columns=groupby_columns, unit_agg=unit_methods, boundary_labels=None, group_agg=group_methods)\n",
    "boundary_summaries = []\n",
    "for label in boundary_labels:\n",
    "    boundary_mask = unit_aggregate[groupby_columns[0]] == label\n",
    "    boundary_aggregate = unit_aggregate[boundary_mask].groupby(boundary_columns, as_index=False).agg(group_methods)\n",
    "    boundary_aggregate['label'] = label\n",
    "    boundary_summaries.append(boundary_aggregate)\n",
    "cumulative = pd.concat(boundary_summaries)\n",
    "\n"
   ],
   "outputs": []
  },
  {
   "cell_type": "code",
   "execution_count": 39,
   "id": "02699c4a-ae88-4a0c-892f-8224f93f39f5",
   "metadata": {
    "editable": true,
    "jupyter": {
     "source_hidden": true
    },
    "pycharm": {
     "name": "#%%\n"
    },
    "slideshow": {
     "slide_type": ""
    },
    "tags": [
     "remove-input"
    ]
   },
   "source": [
    "a_test_report = pd.concat([cumulative, d])"
   ],
   "outputs": []
  },
  {
   "cell_type": "code",
   "execution_count": 40,
   "id": "54fba949-faaf-45c5-a4b7-f0111a5c8872",
   "metadata": {
    "editable": true,
    "jupyter": {
     "source_hidden": true
    },
    "pycharm": {
     "name": "#%%\n"
    },
    "slideshow": {
     "slide_type": ""
    },
    "tags": [
     "remove-input"
    ]
   },
   "source": [
    "%watermark -a hammerdirt-analyst -co --iversions"
   ],
   "outputs": []
  },
  {
   "cell_type": "code",
   "execution_count": null,
   "id": "4fd69650-562e-4b45-8328-d62c511fa269",
   "metadata": {
    "editable": true,
    "jupyter": {
     "source_hidden": true
    },
    "pycharm": {
     "name": "#%%\n"
    },
    "slideshow": {
     "slide_type": ""
    },
    "tags": []
   },
   "source": [],
   "outputs": []
  },
  {
   "cell_type": "code",
   "execution_count": null,
   "id": "1271b638-c1bc-4763-ab43-758fbdbfddb0",
   "metadata": {
    "editable": true,
    "jupyter": {
     "source_hidden": true
    },
    "pycharm": {
     "name": "#%%\n"
    },
    "slideshow": {
     "slide_type": ""
    },
    "tags": []
   },
   "source": [],
   "outputs": []
  }
 ],
 "metadata": {
  "kernelspec": {
   "display_name": "Python 3 (ipykernel)",
   "language": "python",
   "name": "python3"
  },
  "language_info": {
   "codemirror_mode": {
    "name": "ipython",
    "version": 3
   },
   "file_extension": ".py",
   "mimetype": "text/x-python",
   "name": "python",
   "nbconvert_exporter": "python",
   "pygments_lexer": "ipython3",
   "version": "3.9.17"
  }
 },
 "nbformat": 4,
 "nbformat_minor": 5
}
