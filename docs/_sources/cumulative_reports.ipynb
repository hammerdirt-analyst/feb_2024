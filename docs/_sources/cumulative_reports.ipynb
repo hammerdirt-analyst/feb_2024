{
 "cells": [
  {
   "cell_type": "code",
   "execution_count": 1,
   "id": "64c16819-72da-4b47-a3aa-988d3f5a8203",
   "metadata": {
    "editable": true,
    "pycharm": {
     "name": "#%%\n"
    },
    "slideshow": {
     "slide_type": ""
    },
    "tags": [
     "hide-input"
    ]
   },
   "source": [
    "%load_ext watermark\n",
    "import pandas as pd\n",
    "import numpy as np\n",
    "from typing import Type, Optional, Callable\n",
    "from typing import List, Dict, Union, Tuple\n",
    "from myst_nb import glue\n",
    "\n",
    "# from review_methods_tests import collect_vitals, find_missing, find_missing_loc_dates\n",
    "# from review_methods_tests import make_a_summary\n",
    "\n",
    "import matplotlib.pyplot as plt\n",
    "import matplotlib as mpl\n",
    "import matplotlib.colors\n",
    "from matplotlib.colors import LinearSegmentedColormap, ListedColormap\n",
    "\n",
    "import setvariables as conf_\n",
    "import reportclass as r_class"
   ],
   "outputs": []
  },
  {
   "cell_type": "markdown",
   "id": "8e3e8dd7-00b7-4cd7-9536-6739b92c5812",
   "metadata": {
    "editable": true,
    "pycharm": {
     "name": "#%% md\n"
    },
    "slideshow": {
     "slide_type": ""
    },
    "tags": []
   },
   "source": [
    "# Cumulative reports\n",
    "\n",
    "Cumulative reports display the test statistic of sample results between elements of a geographic or administrative region. Cumulative reports are visualized with heat maps. The starting point for cumulative reports is a valid `ReportClass` object. The granularity of the results are at a minimum the municipal level. The lowest recognized administrative unit.\n",
    "\n",
    "```{note}\n",
    "The GPT assistant is being trained to accept the following methods and commands as key word arguments. So that different clients have access to a standardized output for tabular data.\n",
    "```\n",
    "\n",
    "## A top level description\n",
    "\n",
    "A short and detailed summary of the report can be created by synthesising three tables from the `ReportClass`.\n",
    "\n",
    "```python\n",
    "header = a_report.a_short_description\n",
    "components = a_report.the_number_of_attributes_in_a_feature('feature_type')\n",
    "comp_summary = a_report.summarize_feature_labels(feature='feature_type')"
   ]
  },
  {
   "cell_type": "code",
   "execution_count": 2,
   "id": "ca2fc365-273e-4d7e-910b-8afcaab8d30b",
   "metadata": {
    "editable": true,
    "pycharm": {
     "name": "#%%\n"
    },
    "slideshow": {
     "slide_type": ""
    },
    "tags": [
     "remove-input"
    ]
   },
   "source": [
    "# starting data, can be MySQL or NoSQL calls\n",
    "# the three methods accept Callables, as long\n",
    "# as the out put is pd.DataFrame\n",
    "c_l = r_class.language_maps()\n",
    "surveys = r_class.collect_survey_data_for_report()\n",
    "codes, beaches, land_cover, land_use, streets, river_intersect_lakes = r_class.collect_env_data_for_report()\n",
    "\n",
    "survey_data = surveys.copy() # .merge(beaches['canton'], left_on='slug', right_index=True, validate='many_to_one')\n",
    "\n",
    "# temporal and geographic boundaries\n",
    "# user defined input\n",
    "boundaries = dict(canton='Bern', language='fr', start_date=\"2015-11-01\", end_date=\"2021-12-31\")\n",
    "\n",
    "# the report_data method takes the boundaries and returns returns the top level of the report\n",
    "# the language and two data frames from the same date range. w_df includes only the surveys\n",
    "# that meet the criteria in boundaries, w_di includes all the data from the date range.\n",
    "top_label, language, w_df, w_di = r_class.report_data(boundaries, survey_data.copy(), beaches, codes)\n",
    "\n",
    "# the language map is included with the module\n",
    "a_report = r_class.ReportClass(w_df,boundaries, top_label, 'fr', c_l)\n",
    "\n"
   ],
   "outputs": []
  },
  {
   "cell_type": "code",
   "execution_count": 3,
   "id": "6b2e71a8-1ca7-40e8-88ed-974b6650b272",
   "metadata": {
    "editable": true,
    "slideshow": {
     "slide_type": ""
    },
    "tags": []
   },
   "source": [
    "# default arguments that define the most common objects\n",
    "# this assumes that the columns quantity and fail rate exist\n",
    "mc_criteria_one = {\n",
    "        \n",
    "        'column': 'quantity',\n",
    "        'val': 5\n",
    "    }\n",
    "\n",
    "mc_criteria_two = {\n",
    "        'column': 'fail rate',\n",
    "        'val': 0.6\n",
    "    }\n"
   ],
   "outputs": []
  },
  {
   "cell_type": "code",
   "execution_count": 4,
   "id": "ed3657b3-081e-4b65-8c52-74daecada072",
   "metadata": {
    "editable": true,
    "pycharm": {
     "name": "#%%\n"
    },
    "slideshow": {
     "slide_type": ""
    },
    "tags": [
     "remove-input"
    ]
   },
   "source": [
    "most_common, w_mc = a_report.most_common\n",
    "\n",
    "header = a_report.a_short_description\n",
    "glue('header', header.style.set_table_styles(), display=False)\n",
    "\n",
    "components = a_report.the_number_of_attributes_in_a_feature('feature_type')\n",
    "glue('components', components.style.set_table_styles(), display=False)\n",
    "\n",
    "comp_summary = a_report.summarize_feature_labels(feature='feature_type')\n",
    "glue('comp_summary', comp_summary.style.set_table_styles().format(**conf_.format_kwargs), display=False)"
   ],
   "outputs": []
  },
  {
   "cell_type": "markdown",
   "id": "9de96a70-e299-44c4-9b44-04df8080ff3b",
   "metadata": {
    "editable": true,
    "pycharm": {
     "name": "#%% md\n"
    },
    "slideshow": {
     "slide_type": ""
    },
    "tags": []
   },
   "source": [
    "### Synthesising table data\n",
    "\n",
    "Calling `a_report.a_short_description`, `a_report.the_number_of_attributes_in_a_feature` and `a_report.summarize_feature_labels` provides the data for a top level description and a comparison of the sample total pcs/m of different attributes or features in the data.\n",
    "\n",
    "::::{grid}\n",
    ":::{grid-item-card}\n",
    ":columns: 1 1 5 5\n",
    "`a_report.short_description`\n",
    "^^^\n",
    "{glue}`header`\n",
    "\n",
    "\n",
    "\n",
    ":::\n",
    ":::{grid-item-card}\n",
    ":columns: 1 1 7 7\n",
    "`a_report.the_number_of_attributes_in_a_feature`\n",
    "^^^\n",
    "{glue}`components`\n",
    "\n",
    ":::\n",
    "\n",
    ":::{grid-item-card}\n",
    ":columns: 1 1 5 6\n",
    "`a_report.summarize_feature_labels`\n",
    "^^^\n",
    "{glue}`comp_summary`\n",
    "\n",
    ":::\n",
    "\n",
    ":::{grid-item-card}\n",
    ":columns: 1 1 5 5\n",
    "Text generated from summary tables\n",
    "^^^\n",
    "There were `13'759` objects identified in the period between `2015-11-01` and `2021-12-31` in the `canton` of `Bern`. In total, `196` samples were recorded, `99` on `lakes`, `96` at `rivers` and `1` at `parks`.  The lake samples were recorded from `14` `cities` and `14` for `rivers`. The `alpes` only had `one` representative. The `one` sample from the `alpes` is very close to what would be expected from a `lake` sample. The `rivers` have the `lowest` pcs/m.\n",
    ":::\n",
    "::::\n",
    "\n",
    "\n",
    "```{note} Defining summary texts\n",
    "\n",
    "Summary texts can be composed in many different ways. There is a role for LLMs at this part of the report. At the very least helping find other locations that fall within the same values. Providing context to either the geographic or adminstrative boundaries.\n",
    "\n",
    "The person establishing the report can manage the content creation from the LLM or there can be a shared prompt for all reports.\n",
    "\n",
    "```\n",
    "\n",
    "### Features\n",
    "\n",
    "The features are defined by the `setvariables.geo_h` variable. This is a list of the different boundaries present within the data. For example, a survey location can belong to a river, lake or park. The administrative boundaries are set by hierarchy in the `geo_h` variable, the default is set to canton, city.\n",
    "\n",
    "Therefore, for any subset of data there will be different features present. The attribute `report_class.available_features` lists the different boundaries that exist in the selected data. "
   ]
  },
  {
   "cell_type": "code",
   "execution_count": 5,
   "id": "3ff05df6-07a3-4fa9-9294-f70cd80b266d",
   "metadata": {
    "editable": true,
    "slideshow": {
     "slide_type": ""
    },
    "tags": [
     "remove-input"
    ]
   },
   "source": [
    "# a summary of the different features and boundaries in a report\n",
    "a_report.available_features"
   ],
   "outputs": []
  },
  {
   "cell_type": "markdown",
   "id": "96cdc223-b779-4dc7-ba5c-3a755dfdd38a",
   "metadata": {
    "editable": true,
    "pycharm": {
     "name": "#%% md\n"
    },
    "slideshow": {
     "slide_type": ""
    },
    "tags": []
   },
   "source": [
    "### Feature names\n",
    "\n",
    "The feature names are the labels for the features that are in the report data. Subreports can be generated for each feautre. The prior example is bielersee. In IQAASL the selection was `{'feature_type':'l'}` for most of the report. The selection `{'feature_type':'r'}` was the last section of each survey area report and `{'feature_type':'p'}` had its own chapter (The Alps and Jura).\n",
    "\n",
    "```python\n",
    "my_labels = a_report.feature_labels()\n",
    "```\n",
    "The name and type of each feature available in the report can be accessed by calling `a_report.feature_labels()`. The `keys()` method will list the available feature types, `.values()` will list the feature names and the city names for all locations with samples."
   ]
  },
  {
   "cell_type": "code",
   "execution_count": 6,
   "id": "b05f98f1-0c6a-4daa-a64b-6f74376a3794",
   "metadata": {
    "editable": true,
    "pycharm": {
     "name": "#%%\n"
    },
    "slideshow": {
     "slide_type": ""
    },
    "tags": [
     "hide-input"
    ]
   },
   "source": [
    "# the lakes \n",
    "my_labels = a_report.feature_labels()\n",
    "print(my_labels['l']['feature_name'])"
   ],
   "outputs": []
  },
  {
   "cell_type": "code",
   "execution_count": 7,
   "id": "d821b92f-8912-4d6e-ac36-131f7e562cf1",
   "metadata": {
    "editable": true,
    "pycharm": {
     "name": "#%%\n"
    },
    "slideshow": {
     "slide_type": ""
    },
    "tags": [
     "hide-input"
    ]
   },
   "source": [
    "# in the same way the name of the parks and the cities in those parks can be indentified\n",
    "print(my_labels['p']['feature_name'])"
   ],
   "outputs": []
  },
  {
   "cell_type": "code",
   "execution_count": 8,
   "id": "9920c3f0-574a-476a-b420-b622d3cfacd2",
   "metadata": {
    "editable": true,
    "pycharm": {
     "name": "#%%\n"
    },
    "slideshow": {
     "slide_type": ""
    },
    "tags": [
     "hide-input"
    ]
   },
   "source": [
    "# the same for rivers\n",
    "print(my_labels['r']['feature_name'])"
   ],
   "outputs": []
  },
  {
   "cell_type": "markdown",
   "id": "353d9512-b633-4259-974d-60d8b2a07e4d",
   "metadata": {
    "editable": true,
    "pycharm": {
     "name": "#%% md\n"
    },
    "slideshow": {
     "slide_type": ""
    },
    "tags": []
   },
   "source": [
    "## Comparing results\n",
    "\n",
    "Once the the objects of interest are identified (criteria) they can be compared accross the diferent feature_types and labels.\n",
    "\n",
    "```python\n",
    "t = a_cumulative_report(w_df[w_df.code.isin(most_common.index)], feature_name='feature_type', object_column='code')\n",
    "translated_and_style_for_display(t, a_report.lang_maps[a_report.language], a_report.language, gradient=True)\n",
    "``` \n",
    "For example the most common objects are found at different densitiies depending on the feature type."
   ]
  },
  {
   "cell_type": "code",
   "execution_count": 9,
   "id": "3181a252-05c2-4775-b768-a3e655965675",
   "metadata": {
    "editable": true,
    "pycharm": {
     "name": "#%%\n"
    },
    "slideshow": {
     "slide_type": ""
    },
    "tags": [
     "remove-input"
    ]
   },
   "source": [
    "t= r_class.a_cumulative_report(w_df[w_df.code.isin(most_common.index)], feature_name='feature_type', object_column='code')\n",
    "r_class.translated_and_style_for_display(t, a_report.lang_maps[a_report.language], a_report.language, gradient=True)"
   ],
   "outputs": []
  },
  {
   "cell_type": "markdown",
   "id": "12ff4c8a-efd8-4b3f-9a23-109ee86dcd14",
   "metadata": {
    "editable": true,
    "pycharm": {
     "name": "#%% md\n"
    },
    "slideshow": {
     "slide_type": ""
    },
    "tags": []
   },
   "source": [
    "### Alternate object groups `groupname`\n",
    "\n",
    "If the column has other labeled values for object identification it can be used to aggregate results for each sample id. Here we consider `groupname`, there is more than one object in a group. They represent use cases.\n",
    "\n",
    "```python\n",
    "t = a_cumulative_report(w_df, feature_name='feature_type', object_column='groupname')\n",
    "translated_and_style_for_display(t, a_report.lang_maps[a_report.language], a_report.language, gradient=True)\n",
    "``` \n",
    "For example the different use cases are found at different densitiies depending on the feature type."
   ]
  },
  {
   "cell_type": "code",
   "execution_count": 10,
   "id": "eeac398a-52d0-4332-9eac-3bca6ac8f1f8",
   "metadata": {
    "editable": true,
    "pycharm": {
     "name": "#%%\n"
    },
    "slideshow": {
     "slide_type": ""
    },
    "tags": [
     "remove-input"
    ]
   },
   "source": [
    "t = r_class.a_cumulative_report(w_df, feature_name='feature_type', object_column='groupname')\n",
    "r_class.translated_and_style_for_display(t, a_report.lang_maps[a_report.language], a_report.language, gradient=True)"
   ],
   "outputs": []
  },
  {
   "cell_type": "markdown",
   "id": "16b3d239-4aab-4769-bf33-155a30b6bf73",
   "metadata": {
    "editable": true,
    "pycharm": {
     "name": "#%% md\n"
    },
    "slideshow": {
     "slide_type": ""
    },
    "tags": []
   },
   "source": [
    "### By Survey area or `parent_boundary`\n",
    "\n",
    "There are two parent boundaries in Bern, the _Alpes and Jura_ and the _Aare_ river basin."
   ]
  },
  {
   "cell_type": "code",
   "execution_count": 11,
   "id": "3391923c-0414-438b-a118-8cb1bcb1f90a",
   "metadata": {
    "editable": true,
    "pycharm": {
     "name": "#%%\n"
    },
    "slideshow": {
     "slide_type": ""
    },
    "tags": [
     "remove-input"
    ]
   },
   "source": [
    "t = r_class.a_cumulative_report(w_df[w_df.code.isin(most_common.index)], feature_name='parent_boundary', object_column='code')\n",
    "\n",
    "r_class.translated_and_style_for_display(t,a_report.lang_maps[a_report.language], a_report.language, gradient=True)"
   ],
   "outputs": []
  },
  {
   "cell_type": "markdown",
   "id": "e0666f10-c15e-431e-b0da-e7bb8cd63b4c",
   "metadata": {
    "editable": true,
    "pycharm": {
     "name": "#%% md\n"
    },
    "slideshow": {
     "slide_type": ""
    },
    "tags": []
   },
   "source": [
    "### By `feature_name`:\n",
    "\n",
    "There are many different features (rivers, lakes and parks) in Bern."
   ]
  },
  {
   "cell_type": "code",
   "execution_count": 12,
   "id": "c48a1bb9-21d0-4ec6-b3c7-0bbb32300097",
   "metadata": {
    "editable": true,
    "jupyter": {
     "source_hidden": true
    },
    "pycharm": {
     "name": "#%%\n"
    },
    "slideshow": {
     "slide_type": ""
    },
    "tags": [
     "remove-input"
    ]
   },
   "source": [
    "t = r_class.a_cumulative_report(w_df[w_df.code.isin(most_common.index)], feature_name='feature_name', object_column='code')\n",
    "r_class.translated_and_style_for_display(t, a_report.lang_maps[a_report.language], a_report.language, gradient=True)"
   ],
   "outputs": []
  },
  {
   "cell_type": "markdown",
   "id": "716d3d9e-0523-4681-99ea-477943c92cc0",
   "metadata": {
    "editable": true,
    "pycharm": {
     "name": "#%% md\n"
    },
    "slideshow": {
     "slide_type": ""
    },
    "tags": []
   },
   "source": [
    "### By `city`:"
   ]
  },
  {
   "cell_type": "code",
   "execution_count": 13,
   "id": "44fdd5e4-317e-4b25-a578-5044e34bd476",
   "metadata": {
    "editable": true,
    "jupyter": {
     "source_hidden": true
    },
    "pycharm": {
     "name": "#%%\n"
    },
    "slideshow": {
     "slide_type": ""
    },
    "tags": [
     "remove-input"
    ]
   },
   "source": [
    "t = r_class.a_cumulative_report(w_df[w_df.code.isin(most_common.index)], feature_name='city', object_column='code')\n",
    "r_class.translated_and_style_for_display(t, a_report.lang_maps[a_report.language], a_report.language, gradient=True)"
   ],
   "outputs": []
  },
  {
   "cell_type": "markdown",
   "id": "2f1deb11-acc1-4442-9adc-f51db0856c0f",
   "metadata": {
    "editable": true,
    "pycharm": {
     "name": "#%% md\n"
    },
    "slideshow": {
     "slide_type": ""
    },
    "tags": []
   },
   "source": [
    "```{note}\n",
    "The available features are column names of the survey data. They represent the different geopraphic or administrative boundaries in the selected report data. \n",
    "\n",
    "* `parent_boundary` is a geographic boundary such as a river basin or a category such as mountains\n",
    "* `feature_type` designates whether the location is at a river, lake or park\n",
    "* `feature_name` is the name of the river, lake or park\n",
    "```"
   ]
  },
  {
   "cell_type": "code",
   "execution_count": null,
   "id": "16e53be0-4a0e-472a-a11c-6c07b7af4e7f",
   "metadata": {
    "editable": true,
    "jupyter": {
     "source_hidden": true
    },
    "pycharm": {
     "name": "#%%\n"
    },
    "slideshow": {
     "slide_type": ""
    },
    "tags": []
   },
   "source": [],
   "outputs": []
  }
 ],
 "metadata": {
  "kernelspec": {
   "display_name": "Python 3 (ipykernel)",
   "language": "python",
   "name": "python3"
  },
  "language_info": {
   "codemirror_mode": {
    "name": "ipython",
    "version": 3
   },
   "file_extension": ".py",
   "mimetype": "text/x-python",
   "name": "python",
   "nbconvert_exporter": "python",
   "pygments_lexer": "ipython3",
   "version": "3.9.17"
  }
 },
 "nbformat": 4,
 "nbformat_minor": 5
}
