{
 "cells": [
  {
   "cell_type": "code",
   "execution_count": 1,
   "id": "5bf92247-ef77-4aae-b62f-9388cba6765e",
   "metadata": {
    "editable": true,
    "slideshow": {
     "slide_type": ""
    },
    "tags": [
     "remove-input"
    ]
   },
   "outputs": [],
   "source": [
    "import session_config\n",
    "import reports\n",
    "import userdisplay\n",
    "import geospatial\n",
    "import gridforecast as gfcast\n",
    "\n",
    "import logging\n",
    "\n",
    "import pandas as pd\n",
    "import numpy as np\n",
    "import matplotlib.pyplot as plt\n",
    "import matplotlib as mpl\n",
    "import matplotlib.colors\n",
    "from matplotlib.colors import LinearSegmentedColormap, ListedColormap\n",
    "import matplotlib.dates as mdates\n",
    "import seaborn as sns\n",
    "import datetime as dt\n",
    "\n",
    "import geopandas as gpd\n",
    "import contextily as ctx\n",
    "from shapely.geometry import box\n",
    "from shapely.geometry import Point\n",
    "\n",
    "import math\n",
    "from matplotlib.lines import Line2D\n",
    "from shapely.ops import unary_union\n",
    "\n",
    "from myst_nb import glue\n",
    "from IPython.display import display, Markdown\n",
    "\n",
    "def display_forecast(fcast_summary):\n",
    "    average = fcast_summary['average']\n",
    "    hdi_min, hdi_max = fcast_summary['hdi'][0], fcast_summary['hdi'][1]\n",
    "    \n",
    "    range_90_min, range_90_max= fcast_summary['range'][0], fcast_summary['range'][-1]\n",
    "    alist = f'\\n* Average: {round(average, 2)}\\n* HDI 95%: {round(hdi_min, 2)} - {round(hdi_max, 2)}\\n* 90% Range: {round(range_90_min, 2)} - {round(range_90_max,2)}'\n",
    "    return alist\n",
    "\n",
    "def display_forecast_summary(asummary, label):\n",
    "    forecast_summary = display_forecast(asummary)\n",
    "    forecast_summary = Markdown(f'{label}{forecast_summary}')\n",
    "    return forecast_summary\n",
    "\n",
    "def extract_dates_for_labels_from_summary(summary):\n",
    "    start = dt.datetime.strftime(summary.pop('start'), format=session_config.date_format)[:4]\n",
    "    end = dt.datetime.strftime(summary.pop('end'), format=session_config.date_format)[:4]\n",
    "    return f\"{start} - {end}\"\n",
    "\n",
    "def format_boundaries_feature_inv(boundaries, topop, displayfunc, session_language='en'):\n",
    "    for thingtoremove in topop:\n",
    "        boundaries.pop(thingtoremove)\n",
    "    display_boundaries = displayfunc(boundaries, session_language=session_language)\n",
    "    return Markdown(display_boundaries)\n",
    "\n",
    "def format_river_lake_summary(d):\n",
    "    d.drop('feature_type', axis=1, inplace=True)\n",
    "    d.rename(columns={'feature_name':'Name', 'sample_id': 'samples'}, inplace=True)\n",
    "    d['pcs/m'] = d['pcs/m'].round(2)\n",
    "    d['Name'] = d.Name.apply(lambda x: x.capitalize())\n",
    "    d.set_index('Name', inplace=True)\n",
    "    d.index.name = None\n",
    "    return d\n",
    "\n",
    "\n",
    "highlight_props = 'background-color:#FAE8E8'\n",
    "def highlight_max(s, arg, props: str = highlight_props):\n",
    "    return np.where((s > arg) & (s != 0), props, '')\n",
    "\n",
    "logging.basicConfig(\n",
    "    filename='app.log', \n",
    "    level=logging.DEBUG,\n",
    "    format='%(asctime)s - %(name)s - %(levelname)s - %(message)s'\n",
    ")\n",
    "\n",
    "logger = logging.getLogger(__name__)\n",
    "color_style = {'prior':'color: #daa520', 'likelihood':'color: #1e90ff'}\n",
    "palette = {'prior':'goldenrod', 'likelihood':'dodgerblue'}"
   ]
  },
  {
   "cell_type": "markdown",
   "id": "d2d5a3de-1688-4113-95ce-bf614dbf9695",
   "metadata": {
    "editable": true,
    "slideshow": {
     "slide_type": ""
    },
    "tags": []
   },
   "source": [
    "\n",
    "\n",
    "\n"
   ]
  },
  {
   "cell_type": "code",
   "execution_count": 2,
   "id": "fb4d8635-eb6f-402a-9cd6-8be9c76cce30",
   "metadata": {
    "editable": true,
    "slideshow": {
     "slide_type": ""
    },
    "tags": [
     "remove-input"
    ]
   },
   "outputs": [
    {
     "name": "stdout",
     "output_type": "stream",
     "text": [
      "1.0\n",
      "2.0\n",
      "1.0\n",
      "2.0\n",
      "1.0\n",
      "2.0\n",
      "4.0\n",
      "1.0\n",
      "2.0\n",
      "3.0\n",
      "1.0\n",
      "2.0\n",
      "1.0\n",
      "1.0\n",
      "2.0\n",
      "3.0\n",
      "4.0\n",
      "Index(['sample_id', 'location', 'date', 'quantity', 'pcs/m', 'public services',\n",
      "       'streets', 'orchards', 'vineyards', 'buildings', 'forest', 'undefined',\n",
      "       'orchards_vineyards', 'buildings_public services', 'forest_undefined'],\n",
      "      dtype='object')\n"
     ]
    }
   ],
   "source": [
    "data = session_config.collect_survey_data()\n",
    "\n",
    "o_dates = {'start':'2020-01-01', 'end':'2021-12-31'}\n",
    "prior_dates = {'start':'2015-11-15', 'end':'2019-12-31'}\n",
    "\n",
    "# all data\n",
    "canton = 'Valais'\n",
    "d= data.reset_index(drop=True)\n",
    "\n",
    "# all surveys lakes, rivers combined\n",
    "alldata_ofinterest, locations = gfcast.filter_data(d,{'canton': canton, 'date_range': {'start':prior_dates['start'], 'end':o_dates['end']}})\n",
    "call_surveys, call_land = gfcast.make_report_objects(alldata_ofinterest)\n",
    "\n",
    "# summary and labels\n",
    "all_summary = call_surveys.sampling_results_summary.copy()\n",
    "all_labels = extract_dates_for_labels_from_summary(all_summary)\n",
    "\n",
    "# material proportions all data\n",
    "material_report = call_surveys.material_report\n",
    "material_report = material_report.style.set_table_styles(userdisplay.table_css_styles)\n",
    "\n",
    "# prior data does not include locations in canton\n",
    "o_prior = d[(d.canton != canton)&(d['date'] <= prior_dates['end'])].copy()\n",
    "o_report, o_land_use = gfcast.make_report_objects(o_prior)\n",
    "results = gfcast.reports_and_forecast({'canton':canton, 'date_range':o_dates}, {'canton':canton, 'date_range':prior_dates}, ldata=d.copy(), logger=logger, other_data=o_land_use.df_cat)\n",
    "\n",
    "# prior summary and label\n",
    "p_summary = results['prior_report'].sampling_results_summary.copy()\n",
    "prior_labels = extract_dates_for_labels_from_summary(p_summary)\n",
    "\n",
    "# likelihood summary and label\n",
    "l_summary = results['this_report'].sampling_results_summary.copy()\n",
    "likelihood_labels = extract_dates_for_labels_from_summary(l_summary)\n",
    "\n",
    "# forecasts\n",
    "xii = results['posterior_no_limit'].sample_posterior()\n",
    "\n",
    "# limit to the 99th percentile\n",
    "sample_values, posterior, summary_simple = gfcast.dirichlet_posterior(results['posterior_99'])\n",
    "\n",
    "# forecast weighted prior all data\n",
    "weighted_args = [results['this_land_use'], session_config.feature_variables, call_land.df_cat, results['this_report'].sample_results['pcs/m']]\n",
    "weighted_forecast, weighted_posterior, weighted_summary, _ = gfcast.forecast_weighted_prior(*weighted_args)\n",
    "\n",
    "# forecast summaries\n",
    "forecast_99 = display_forecast_summary(summary_simple, '__Given the 99th percentile__')\n",
    "forecast_maxval = display_forecast_summary(results['posterior_no_limit'].get_descriptive_statistics(), '__Given the observed max__')\n",
    "forecast_weighted = display_forecast_summary(weighted_summary, '__Given the weighted prior__')"
   ]
  },
  {
   "cell_type": "code",
   "execution_count": 3,
   "id": "d504b355-6ec4-4d6d-b9d6-3459215fcb8b",
   "metadata": {
    "editable": true,
    "slideshow": {
     "slide_type": ""
    },
    "tags": [
     "remove-input"
    ]
   },
   "outputs": [
    {
     "data": {
      "application/papermill.record/image/png": "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",
      "application/papermill.record/text/plain": "<Figure size 640x480 with 1 Axes>"
     },
     "metadata": {
      "scrapbook": {
       "mime_prefix": "application/papermill.record/",
       "name": "prior-likelihood"
      }
     },
     "output_type": "display_data"
    },
    {
     "data": {
      "application/papermill.record/image/png": "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",
      "application/papermill.record/text/plain": "<Figure size 640x480 with 1 Axes>"
     },
     "metadata": {
      "scrapbook": {
       "mime_prefix": "application/papermill.record/",
       "name": "scatter-prior-likelihood"
      }
     },
     "output_type": "display_data"
    },
    {
     "data": {
      "application/papermill.record/image/png": "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",
      "application/papermill.record/text/plain": "<Figure size 640x480 with 1 Axes>"
     },
     "metadata": {
      "scrapbook": {
       "mime_prefix": "application/papermill.record/",
       "name": "cumumlative-dist-forecast-prior"
      }
     },
     "output_type": "display_data"
    },
    {
     "data": {
      "application/papermill.record/text/markdown": "Survey total pcs/m 2020 - 2021 versus 2016 - 2017. All locations considered.",
      "application/papermill.record/text/plain": "<IPython.core.display.Markdown object>"
     },
     "metadata": {
      "scrapbook": {
       "mime_prefix": "application/papermill.record/",
       "name": "caption-histo"
      }
     },
     "output_type": "display_data"
    },
    {
     "data": {
      "application/papermill.record/text/html": "<style type=\"text/css\">\n#T_b167d tr:nth-child(even) {\n  background-color: rgba(139, 69, 19, 0.08);\n}\n#T_b167d tr:nth-child(odd) {\n  background: #FFF;\n}\n#T_b167d tr {\n  font-size: 10px;\n}\n#T_b167d th {\n  background-color: #FFF;\n  font-size: 12px;\n  text-align: left;\n  width: auto;\n  word-break: keep-all;\n}\n#T_b167d td {\n  padding: 4px;\n  font-size: 12px;\n  text-align: center;\n}\n#T_b167d caption {\n  caption-side: bottom;\n  font-size: 1em;\n  text-align: left;\n}\n</style>\n<table id=\"T_b167d\">\n  <thead>\n    <tr>\n      <th class=\"blank level0\" >&nbsp;</th>\n      <th id=\"T_b167d_level0_col0\" class=\"col_heading level0 col0\" >% of total</th>\n    </tr>\n    <tr>\n      <th class=\"index_name level0\" >material</th>\n      <th class=\"blank col0\" >&nbsp;</th>\n    </tr>\n  </thead>\n  <tbody>\n    <tr>\n      <th id=\"T_b167d_level0_row0\" class=\"row_heading level0 row0\" >plastic</th>\n      <td id=\"T_b167d_row0_col0\" class=\"data row0 col0\" >96%</td>\n    </tr>\n  </tbody>\n</table>\n",
      "application/papermill.record/text/plain": "<pandas.io.formats.style.Styler at 0x737319eca0a0>"
     },
     "metadata": {
      "scrapbook": {
       "mime_prefix": "application/papermill.record/",
       "name": "material-report"
      }
     },
     "output_type": "display_data"
    },
    {
     "data": {
      "application/papermill.record/text/markdown": "__Given the weighted prior__\n* Average: 18.69\n* HDI 95%: 0.1 - 49.3\n* 90% Range: 0.1 - 49.3",
      "application/papermill.record/text/plain": "<IPython.core.display.Markdown object>"
     },
     "metadata": {
      "scrapbook": {
       "mime_prefix": "application/papermill.record/",
       "name": "forecast-weighted-prior"
      }
     },
     "output_type": "display_data"
    },
    {
     "data": {
      "application/papermill.record/text/markdown": "__Given the observed max__\n* Average: 25.86\n* HDI 95%: 0.09 - 49.69\n* 90% Range: 0.31 - 51.71",
      "application/papermill.record/text/plain": "<IPython.core.display.Markdown object>"
     },
     "metadata": {
      "scrapbook": {
       "mime_prefix": "application/papermill.record/",
       "name": "forecast-max-val"
      }
     },
     "output_type": "display_data"
    },
    {
     "data": {
      "application/papermill.record/text/markdown": "__Given the 99th percentile__\n* Average: 23.98\n* HDI 95%: 0.1 - 49.3\n* 90% Range: 0.1 - 49.3",
      "application/papermill.record/text/plain": "<IPython.core.display.Markdown object>"
     },
     "metadata": {
      "scrapbook": {
       "mime_prefix": "application/papermill.record/",
       "name": "forecast-99-max"
      }
     },
     "output_type": "display_data"
    },
    {
     "data": {
      "application/papermill.record/text/markdown": "__The most common objects account for 87% of all objects__",
      "application/papermill.record/text/plain": "<IPython.core.display.Markdown object>"
     },
     "metadata": {
      "scrapbook": {
       "mime_prefix": "application/papermill.record/",
       "name": "ratio-most-common"
      }
     },
     "output_type": "display_data"
    },
    {
     "data": {
      "application/papermill.record/text/html": "<style type=\"text/css\">\n#T_c2b25 tr:nth-child(even) {\n  background-color: rgba(139, 69, 19, 0.08);\n}\n#T_c2b25 tr:nth-child(odd) {\n  background: #FFF;\n}\n#T_c2b25 tr {\n  font-size: 10px;\n}\n#T_c2b25 th {\n  background-color: #FFF;\n  font-size: 12px;\n  text-align: left;\n  width: auto;\n  word-break: keep-all;\n}\n#T_c2b25 td {\n  padding: 4px;\n  font-size: 12px;\n  text-align: center;\n}\n#T_c2b25 caption {\n  caption-side: top;\n  font-size: 1em;\n  text-align: left;\n  margin-bottom: 10px;\n}\n#T_c2b25 caption {\n  caption-side: top;\n  font-size: .9em;\n  text-align: left;\n  font-style: italic;\n  color: #000;\n}\n#T_c2b25 td:nth-child(1) {\n  text-align: left;\n}\n</style>\n<table id=\"T_c2b25\">\n  <thead>\n    <tr>\n      <th id=\"T_c2b25_level0_col0\" class=\"col_heading level0 col0\" >Object</th>\n      <th id=\"T_c2b25_level0_col1\" class=\"col_heading level0 col1\" >Quantity</th>\n      <th id=\"T_c2b25_level0_col2\" class=\"col_heading level0 col2\" >pcs/m</th>\n      <th id=\"T_c2b25_level0_col3\" class=\"col_heading level0 col3\" >% of total</th>\n      <th id=\"T_c2b25_level0_col4\" class=\"col_heading level0 col4\" >Fail rate</th>\n    </tr>\n  </thead>\n  <tbody>\n    <tr>\n      <td id=\"T_c2b25_row0_col0\" class=\"data row0 col0\" >Expanded polystyrene</td>\n      <td id=\"T_c2b25_row0_col1\" class=\"data row0 col1\" >1'476</td>\n      <td id=\"T_c2b25_row0_col2\" class=\"data row0 col2\" >3,26</td>\n      <td id=\"T_c2b25_row0_col3\" class=\"data row0 col3\" >0,19</td>\n      <td id=\"T_c2b25_row0_col4\" class=\"data row0 col4\" >0,87</td>\n    </tr>\n    <tr>\n      <td id=\"T_c2b25_row1_col0\" class=\"data row1 col0\" >Fragmented plastics</td>\n      <td id=\"T_c2b25_row1_col1\" class=\"data row1 col1\" >1'183</td>\n      <td id=\"T_c2b25_row1_col2\" class=\"data row1 col2\" >2,64</td>\n      <td id=\"T_c2b25_row1_col3\" class=\"data row1 col3\" >0,15</td>\n      <td id=\"T_c2b25_row1_col4\" class=\"data row1 col4\" >0,87</td>\n    </tr>\n    <tr>\n      <td id=\"T_c2b25_row2_col0\" class=\"data row2 col0\" >plastic caps, lid rings: G21, G22, G23, G24</td>\n      <td id=\"T_c2b25_row2_col1\" class=\"data row2 col1\" >576</td>\n      <td id=\"T_c2b25_row2_col2\" class=\"data row2 col2\" >1,35</td>\n      <td id=\"T_c2b25_row2_col3\" class=\"data row2 col3\" >0,08</td>\n      <td id=\"T_c2b25_row2_col4\" class=\"data row2 col4\" >0,73</td>\n    </tr>\n    <tr>\n      <td id=\"T_c2b25_row3_col0\" class=\"data row3 col0\" >Industrial sheeting</td>\n      <td id=\"T_c2b25_row3_col1\" class=\"data row3 col1\" >516</td>\n      <td id=\"T_c2b25_row3_col2\" class=\"data row3 col2\" >1,35</td>\n      <td id=\"T_c2b25_row3_col3\" class=\"data row3 col3\" >0,07</td>\n      <td id=\"T_c2b25_row3_col4\" class=\"data row3 col4\" >0,87</td>\n    </tr>\n    <tr>\n      <td id=\"T_c2b25_row4_col0\" class=\"data row4 col0\" >Food wrappers; candy, snacks</td>\n      <td id=\"T_c2b25_row4_col1\" class=\"data row4 col1\" >478</td>\n      <td id=\"T_c2b25_row4_col2\" class=\"data row4 col2\" >1,26</td>\n      <td id=\"T_c2b25_row4_col3\" class=\"data row4 col3\" >0,06</td>\n      <td id=\"T_c2b25_row4_col4\" class=\"data row4 col4\" >0,73</td>\n    </tr>\n    <tr>\n      <td id=\"T_c2b25_row5_col0\" class=\"data row5 col0\" >Cotton bud/swab sticks</td>\n      <td id=\"T_c2b25_row5_col1\" class=\"data row5 col1\" >453</td>\n      <td id=\"T_c2b25_row5_col2\" class=\"data row5 col2\" >0,99</td>\n      <td id=\"T_c2b25_row5_col3\" class=\"data row5 col3\" >0,06</td>\n      <td id=\"T_c2b25_row5_col4\" class=\"data row5 col4\" >0,73</td>\n    </tr>\n    <tr>\n      <td id=\"T_c2b25_row6_col0\" class=\"data row6 col0\" >Foam packaging/insulation/polyurethane</td>\n      <td id=\"T_c2b25_row6_col1\" class=\"data row6 col1\" >452</td>\n      <td id=\"T_c2b25_row6_col2\" class=\"data row6 col2\" >0,43</td>\n      <td id=\"T_c2b25_row6_col3\" class=\"data row6 col3\" >0,06</td>\n      <td id=\"T_c2b25_row6_col4\" class=\"data row6 col4\" >1,47</td>\n    </tr>\n    <tr>\n      <td id=\"T_c2b25_row7_col0\" class=\"data row7 col0\" >Plastic construction waste</td>\n      <td id=\"T_c2b25_row7_col1\" class=\"data row7 col1\" >295</td>\n      <td id=\"T_c2b25_row7_col2\" class=\"data row7 col2\" >0,65</td>\n      <td id=\"T_c2b25_row7_col3\" class=\"data row7 col3\" >0,04</td>\n      <td id=\"T_c2b25_row7_col4\" class=\"data row7 col4\" >0,80</td>\n    </tr>\n    <tr>\n      <td id=\"T_c2b25_row8_col0\" class=\"data row8 col0\" >Plastic shotgun wadding</td>\n      <td id=\"T_c2b25_row8_col1\" class=\"data row8 col1\" >219</td>\n      <td id=\"T_c2b25_row8_col2\" class=\"data row8 col2\" >0,47</td>\n      <td id=\"T_c2b25_row8_col3\" class=\"data row8 col3\" >0,03</td>\n      <td id=\"T_c2b25_row8_col4\" class=\"data row8 col4\" >0,80</td>\n    </tr>\n    <tr>\n      <td id=\"T_c2b25_row9_col0\" class=\"data row9 col0\" >Food containers single use foamed or plastic</td>\n      <td id=\"T_c2b25_row9_col1\" class=\"data row9 col1\" >175</td>\n      <td id=\"T_c2b25_row9_col2\" class=\"data row9 col2\" >0,39</td>\n      <td id=\"T_c2b25_row9_col3\" class=\"data row9 col3\" >0,02</td>\n      <td id=\"T_c2b25_row9_col4\" class=\"data row9 col4\" >0,73</td>\n    </tr>\n    <tr>\n      <td id=\"T_c2b25_row10_col0\" class=\"data row10 col0\" >Tobacco; plastic packaging, containers</td>\n      <td id=\"T_c2b25_row10_col1\" class=\"data row10 col1\" >133</td>\n      <td id=\"T_c2b25_row10_col2\" class=\"data row10 col2\" >0,35</td>\n      <td id=\"T_c2b25_row10_col3\" class=\"data row10 col3\" >0,02</td>\n      <td id=\"T_c2b25_row10_col4\" class=\"data row10 col4\" >0,60</td>\n    </tr>\n    <tr>\n      <td id=\"T_c2b25_row11_col0\" class=\"data row11 col0\" >Cups, lids, single use foamed and hard plastic</td>\n      <td id=\"T_c2b25_row11_col1\" class=\"data row11 col1\" >87</td>\n      <td id=\"T_c2b25_row11_col2\" class=\"data row11 col2\" >0,20</td>\n      <td id=\"T_c2b25_row11_col3\" class=\"data row11 col3\" >0,01</td>\n      <td id=\"T_c2b25_row11_col4\" class=\"data row11 col4\" >0,73</td>\n    </tr>\n    <tr>\n      <td id=\"T_c2b25_row12_col0\" class=\"data row12 col0\" >Lollypop sticks</td>\n      <td id=\"T_c2b25_row12_col1\" class=\"data row12 col1\" >85</td>\n      <td id=\"T_c2b25_row12_col2\" class=\"data row12 col2\" >0,19</td>\n      <td id=\"T_c2b25_row12_col3\" class=\"data row12 col3\" >0,01</td>\n      <td id=\"T_c2b25_row12_col4\" class=\"data row12 col4\" >0,73</td>\n    </tr>\n    <tr>\n      <td id=\"T_c2b25_row13_col0\" class=\"data row13 col0\" >Straws and stirrers</td>\n      <td id=\"T_c2b25_row13_col1\" class=\"data row13 col1\" >75</td>\n      <td id=\"T_c2b25_row13_col2\" class=\"data row13 col2\" >0,18</td>\n      <td id=\"T_c2b25_row13_col3\" class=\"data row13 col3\" >0,01</td>\n      <td id=\"T_c2b25_row13_col4\" class=\"data row13 col4\" >0,73</td>\n    </tr>\n    <tr>\n      <td id=\"T_c2b25_row14_col0\" class=\"data row14 col0\" >Cigarette filters</td>\n      <td id=\"T_c2b25_row14_col1\" class=\"data row14 col1\" >74</td>\n      <td id=\"T_c2b25_row14_col2\" class=\"data row14 col2\" >0,16</td>\n      <td id=\"T_c2b25_row14_col3\" class=\"data row14 col3\" >0,01</td>\n      <td id=\"T_c2b25_row14_col4\" class=\"data row14 col4\" >0,67</td>\n    </tr>\n    <tr>\n      <td id=\"T_c2b25_row15_col0\" class=\"data row15 col0\" >Toys and party favors</td>\n      <td id=\"T_c2b25_row15_col1\" class=\"data row15 col1\" >72</td>\n      <td id=\"T_c2b25_row15_col2\" class=\"data row15 col2\" >0,16</td>\n      <td id=\"T_c2b25_row15_col3\" class=\"data row15 col3\" >0,01</td>\n      <td id=\"T_c2b25_row15_col4\" class=\"data row15 col4\" >0,80</td>\n    </tr>\n    <tr>\n      <td id=\"T_c2b25_row16_col0\" class=\"data row16 col0\" >Biomass holder</td>\n      <td id=\"T_c2b25_row16_col1\" class=\"data row16 col1\" >46</td>\n      <td id=\"T_c2b25_row16_col2\" class=\"data row16 col2\" >0,11</td>\n      <td id=\"T_c2b25_row16_col3\" class=\"data row16 col3\" >0,01</td>\n      <td id=\"T_c2b25_row16_col4\" class=\"data row16 col4\" >0,67</td>\n    </tr>\n    <tr>\n      <td id=\"T_c2b25_row17_col0\" class=\"data row17 col0\" >Medical; containers/tubes/ packaging</td>\n      <td id=\"T_c2b25_row17_col1\" class=\"data row17 col1\" >45</td>\n      <td id=\"T_c2b25_row17_col2\" class=\"data row17 col2\" >0,10</td>\n      <td id=\"T_c2b25_row17_col3\" class=\"data row17 col3\" >0,01</td>\n      <td id=\"T_c2b25_row17_col4\" class=\"data row17 col4\" >0,60</td>\n    </tr>\n    <tr>\n      <td id=\"T_c2b25_row18_col0\" class=\"data row18 col0\" >Fireworks; rocket caps, exploded parts & packaging</td>\n      <td id=\"T_c2b25_row18_col1\" class=\"data row18 col1\" >35</td>\n      <td id=\"T_c2b25_row18_col2\" class=\"data row18 col2\" >0,07</td>\n      <td id=\"T_c2b25_row18_col3\" class=\"data row18 col3\" >0,00</td>\n      <td id=\"T_c2b25_row18_col4\" class=\"data row18 col4\" >0,60</td>\n    </tr>\n    <tr>\n      <td id=\"T_c2b25_row19_col0\" class=\"data row19 col0\" >Plastic flower pots</td>\n      <td id=\"T_c2b25_row19_col1\" class=\"data row19 col1\" >34</td>\n      <td id=\"T_c2b25_row19_col2\" class=\"data row19 col2\" >0,09</td>\n      <td id=\"T_c2b25_row19_col3\" class=\"data row19 col3\" >0,00</td>\n      <td id=\"T_c2b25_row19_col4\" class=\"data row19 col4\" >0,53</td>\n    </tr>\n    <tr>\n      <td id=\"T_c2b25_row20_col0\" class=\"data row20 col0\" >Straps/bands;  hard, plastic package fastener</td>\n      <td id=\"T_c2b25_row20_col1\" class=\"data row20 col1\" >31</td>\n      <td id=\"T_c2b25_row20_col2\" class=\"data row20 col2\" >0,08</td>\n      <td id=\"T_c2b25_row20_col3\" class=\"data row20 col3\" >0,00</td>\n      <td id=\"T_c2b25_row20_col4\" class=\"data row20 col4\" >0,53</td>\n    </tr>\n    <tr>\n      <td id=\"T_c2b25_row21_col0\" class=\"data row21 col0\" >Drink bottles < = 0.5L</td>\n      <td id=\"T_c2b25_row21_col1\" class=\"data row21 col1\" >29</td>\n      <td id=\"T_c2b25_row21_col2\" class=\"data row21 col2\" >0,06</td>\n      <td id=\"T_c2b25_row21_col3\" class=\"data row21 col3\" >0,00</td>\n      <td id=\"T_c2b25_row21_col4\" class=\"data row21 col4\" >0,67</td>\n    </tr>\n    <tr>\n      <td id=\"T_c2b25_row22_col0\" class=\"data row22 col0\" >Pens, lids, mechanical pencils etc.</td>\n      <td id=\"T_c2b25_row22_col1\" class=\"data row22 col1\" >27</td>\n      <td id=\"T_c2b25_row22_col2\" class=\"data row22 col2\" >0,06</td>\n      <td id=\"T_c2b25_row22_col3\" class=\"data row22 col3\" >0,00</td>\n      <td id=\"T_c2b25_row22_col4\" class=\"data row22 col4\" >0,53</td>\n    </tr>\n    <tr>\n      <td id=\"T_c2b25_row23_col0\" class=\"data row23 col0\" >Metal bottle caps, lids & pull tabs from cans</td>\n      <td id=\"T_c2b25_row23_col1\" class=\"data row23 col1\" >24</td>\n      <td id=\"T_c2b25_row23_col2\" class=\"data row23 col2\" >0,05</td>\n      <td id=\"T_c2b25_row23_col3\" class=\"data row23 col3\" >0,00</td>\n      <td id=\"T_c2b25_row23_col4\" class=\"data row23 col4\" >0,53</td>\n    </tr>\n    <tr>\n      <td id=\"T_c2b25_row24_col0\" class=\"data row24 col0\" >Sanitary pads /panty liners/tampons and applicators</td>\n      <td id=\"T_c2b25_row24_col1\" class=\"data row24 col1\" >24</td>\n      <td id=\"T_c2b25_row24_col2\" class=\"data row24 col2\" >0,06</td>\n      <td id=\"T_c2b25_row24_col3\" class=\"data row24 col3\" >0,00</td>\n      <td id=\"T_c2b25_row24_col4\" class=\"data row24 col4\" >0,53</td>\n    </tr>\n    <tr>\n      <td id=\"T_c2b25_row25_col0\" class=\"data row25 col0\" >Corks</td>\n      <td id=\"T_c2b25_row25_col1\" class=\"data row25 col1\" >23</td>\n      <td id=\"T_c2b25_row25_col2\" class=\"data row25 col2\" >0,05</td>\n      <td id=\"T_c2b25_row25_col3\" class=\"data row25 col3\" >0,00</td>\n      <td id=\"T_c2b25_row25_col4\" class=\"data row25 col4\" >0,53</td>\n    </tr>\n  </tbody>\n</table>\n",
      "application/papermill.record/text/plain": "<pandas.io.formats.style.Styler at 0x7373b0dcffa0>"
     },
     "metadata": {
      "scrapbook": {
       "mime_prefix": "application/papermill.record/",
       "name": "most_common_objects"
      }
     },
     "output_type": "display_data"
    },
    {
     "data": {
      "application/papermill.record/text/markdown": "<font color=#1e90ff>2020 - 2021 </font>\n* Number of samples: 15\n* Total objects: 7638\n* Average pcs/m: 17.44\n* Standard deviation: 17.21\n* Maximum pcs/m: 52.73\n",
      "application/papermill.record/text/plain": "<IPython.core.display.Markdown object>"
     },
     "metadata": {
      "scrapbook": {
       "mime_prefix": "application/papermill.record/",
       "name": "l-sampling-summary"
      }
     },
     "output_type": "display_data"
    },
    {
     "data": {
      "application/papermill.record/text/markdown": "<font color=#daa520>2016 - 2017</font>\n* Number of samples: 2\n* Total objects: 1342\n* Average pcs/m: 24.01\n* Standard deviation: 17.46\n* Maximum pcs/m: 41.47\n",
      "application/papermill.record/text/plain": "<IPython.core.display.Markdown object>"
     },
     "metadata": {
      "scrapbook": {
       "mime_prefix": "application/papermill.record/",
       "name": "prior-sampling-summary"
      }
     },
     "output_type": "display_data"
    },
    {
     "data": {
      "application/papermill.record/text/markdown": "2016 - 2021\n* Number of samples: 17\n* Total objects: 8980\n* Average pcs/m: 18.22\n* Standard deviation: 17.37\n* Maximum pcs/m: 52.73\n",
      "application/papermill.record/text/plain": "<IPython.core.display.Markdown object>"
     },
     "metadata": {
      "scrapbook": {
       "mime_prefix": "application/papermill.record/",
       "name": "sampling-summary"
      }
     },
     "output_type": "display_data"
    },
    {
     "data": {
      "application/papermill.record/text/markdown": "__Features surveyed__\n* Rivers: 1\n* Lakes: 1\n\n",
      "application/papermill.record/text/plain": "<IPython.core.display.Markdown object>"
     },
     "metadata": {
      "scrapbook": {
       "mime_prefix": "application/papermill.record/",
       "name": "feature-inventory"
      }
     },
     "output_type": "display_data"
    },
    {
     "data": {
      "application/papermill.record/text/markdown": "__Administrative boundaries__\n* Survey locations: 5\n* Cities: 5\n\n",
      "application/papermill.record/text/plain": "<IPython.core.display.Markdown object>"
     },
     "metadata": {
      "scrapbook": {
       "mime_prefix": "application/papermill.record/",
       "name": "administrative-boundaries"
      }
     },
     "output_type": "display_data"
    }
   ],
   "source": [
    "# most common objects all data\n",
    "os = results['this_report'].object_summary()\n",
    "os.reset_index(drop=False, inplace=True)\n",
    "most_common_objects, mc_codes, proportions = userdisplay.most_common(os)\n",
    "most_common_objects = most_common_objects.set_caption(\"\")\n",
    "\n",
    "# display the inventory of features\n",
    "feature_inv = call_surveys.feature_inventory()\n",
    "feature_inventory = format_boundaries_feature_inv(feature_inv, ['p'], userdisplay.feature_inventory)\n",
    "\n",
    "# display the inventory of boundaries\n",
    "aboundaries = call_surveys.administrative_boundaries().copy()\n",
    "administrative_boundaries = format_boundaries_feature_inv(aboundaries, ['canton', 'parent_boundary'], userdisplay.boundaries)\n",
    "\n",
    "# display the sampling summaries\n",
    "all_info = userdisplay.sampling_result_summary(all_summary, session_language='en')[1]\n",
    "all_samp_sum = Markdown(f'{all_labels}\\n{all_info}')\n",
    "\n",
    "p_header = f\"<font color=#daa520>{prior_labels}</font>\"\n",
    "p_info = userdisplay.sampling_result_summary(p_summary, session_language='en')[1]\n",
    "p_samp_sum = Markdown(f'{p_header}\\n{p_info}')\n",
    "\n",
    "l_header = f\"<font color=#1e90ff>{likelihood_labels} </font>\"\n",
    "l_info = userdisplay.sampling_result_summary(l_summary, session_language='en')[1]\n",
    "l_samp_sum = Markdown(f'{l_header}\\n{l_info}')\n",
    "\n",
    "ratio_most_common = Markdown(f'__The most common objects account for {int(proportions*100)}% of all objects__')\n",
    "\n",
    "caption_histo = Markdown(f'Survey total pcs/m {likelihood_labels} versus {prior_labels}. All locations considered.')\n",
    "\n",
    "fig, ax = plt.subplots()\n",
    "sns.histplot(data=results['this_report'].sample_results, x='pcs/m', stat='probability', label=likelihood_labels, ax=ax, color=palette['likelihood'])\n",
    "sns.histplot(data=results['prior_report'] .sample_results, x='pcs/m', stat='probability', label=prior_labels, ax=ax, color=palette['prior'])\n",
    "ax.legend()\n",
    "plt.tight_layout()\n",
    "glue('prior-likelihood', fig, display=False)\n",
    "plt.close()\n",
    "\n",
    "fig, ax = plt.subplots()\n",
    "\n",
    "title = f'All samples {canton}: {prior_dates[\"start\"]} - {o_dates[\"end\"]}'\n",
    "\n",
    "ax.xaxis.set_minor_locator(mdates.MonthLocator(interval=3))\n",
    "ax.xaxis.set_minor_formatter(mdates.DateFormatter(\"%b\"))\n",
    "\n",
    "ax.xaxis.set_major_locator(mdates.YearLocator())\n",
    "ax.xaxis.set_major_formatter(mdates.DateFormatter(\"\\n%Y\"))\n",
    "\n",
    "sns.scatterplot(data=results['this_report'].sample_results, x='date', y='pcs/m', marker='x', label=likelihood_labels, ax=ax, color=palette['likelihood'])\n",
    "sns.scatterplot(data=results['prior_report'] .sample_results, x='date', y='pcs/m', marker='x', label=prior_labels, ax=ax, color=palette['prior'])\n",
    "ax.legend()\n",
    "ax.set_xlabel('')\n",
    "ax.set_title(title)\n",
    "plt.tight_layout()\n",
    "glue('scatter-prior-likelihood', fig, display=False)\n",
    "plt.close()\n",
    "\n",
    "fig, ax = plt.subplots()\n",
    "sns.ecdfplot(results['prior_report'].sample_results['pcs/m'], label=prior_labels, ls='-', ax=ax, c=palette['prior'], zorder=1)\n",
    "sns.ecdfplot(results['this_report'].sample_results['pcs/m'], label=likelihood_labels, ls='-', ax=ax, c=palette['likelihood'], zorder=1)\n",
    "sns.ecdfplot(sample_values, label='expected 99%', ls=':', zorder=2)\n",
    "sns.ecdfplot(xii, label='expected max', ls='-.', zorder=2)\n",
    "sns.ecdfplot(weighted_forecast, label='weighted prior', c='black', ls='--', lw=2, ax=ax, zorder=5)\n",
    "ax.set_xlim(-.1, results['this_report'].sample_results['pcs/m'].quantile(.99))\n",
    "ax.legend()\n",
    "plt.tight_layout()\n",
    "glue('cumumlative-dist-forecast-prior', fig, display=False)\n",
    "plt.close()\n",
    "\n",
    "# one_list = Markdown(f'{feature_inventory}\\n{administrative_boundaries}')\n",
    "glue('caption-histo', caption_histo, display=False)\n",
    "glue('material-report', material_report, display=False)\n",
    "glue('forecast-weighted-prior', forecast_weighted, display=False)\n",
    "glue('forecast-max-val', forecast_maxval, display=False)\n",
    "glue('forecast-99-max', forecast_99, display=False)\n",
    "glue('ratio-most-common', ratio_most_common, display=False)\n",
    "glue('most_common_objects', most_common_objects, display=False)\n",
    "glue('l-sampling-summary', l_samp_sum, display=False)\n",
    "glue('prior-sampling-summary', p_samp_sum, display=False)\n",
    "glue('sampling-summary', all_samp_sum, display=False)\n",
    "glue('feature-inventory', feature_inventory, display=False)\n",
    "glue('administrative-boundaries', administrative_boundaries, display=False)"
   ]
  },
  {
   "cell_type": "code",
   "execution_count": 4,
   "id": "c016aff6-dc3f-49a1-be4d-48b6448c9d22",
   "metadata": {
    "editable": true,
    "slideshow": {
     "slide_type": ""
    },
    "tags": [
     "remove-input"
    ]
   },
   "outputs": [
    {
     "name": "stdout",
     "output_type": "stream",
     "text": [
      "1.0\n",
      "1.0\n",
      "2.0\n",
      "3.0\n",
      "2.0\n",
      "1.0\n",
      "1.0\n",
      "Index(['sample_id', 'location', 'date', 'quantity', 'pcs/m', 'public services',\n",
      "       'streets', 'orchards', 'vineyards', 'buildings', 'forest', 'undefined'],\n",
      "      dtype='object')\n"
     ]
    },
    {
     "data": {
      "application/papermill.record/image/png": "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",
      "application/papermill.record/text/plain": "<Figure size 640x480 with 1 Axes>"
     },
     "metadata": {
      "scrapbook": {
       "mime_prefix": "application/papermill.record/",
       "name": "lake-prior-likelihood"
      }
     },
     "output_type": "display_data"
    },
    {
     "data": {
      "application/papermill.record/image/png": "iVBORw0KGgoAAAANSUhEUgAAAnYAAAHWCAYAAAD6oMSKAAAAOXRFWHRTb2Z0d2FyZQBNYXRwbG90bGliIHZlcnNpb24zLjguNCwgaHR0cHM6Ly9tYXRwbG90bGliLm9yZy8fJSN1AAAACXBIWXMAAA9hAAAPYQGoP6dpAACKz0lEQVR4nOzdeVhU5dsH8O+ZjR3c2UQld8wVcjd3zKy0zdJ+aptmWmrmmoVlpeXWqqXlUm+mpmmLmUQlpmmmqGmKmrsiiCvbALOc5/1jZGCcQQYYmGHm+7muuTzznOecuYdBuHlWSQghQERERERVnsLZARARERGRYzCxIyIiInITTOyIiIiI3AQTOyIiIiI3wcSOiIiIyE0wsSMiIiJyE0zsiIiIiNwEEzsiIiIiN8HEjoiIiMhNMLEjIiIichNOTez++OMP3H///QgLC4MkSfjuu+9KvGbbtm2Ijo6Gt7c37rjjDnz66acVHygRERFRFeDUxC4nJwetW7fGxx9/bFf906dP495770W3bt2wf/9+vPLKKxg3bhy+/fbbCo6UiIiIyPVJQgjh7CAAQJIkbNy4EYMGDSq2ztSpU/HDDz8gOTnZXDZ69Gj8888/2LVrVyVESUREROS6VM4OoDR27dqF2NhYi7J+/fph2bJl0Ov1UKvVVtfk5+cjPz/f/FyWZVy7dg01a9aEJEkVHjMRERFReQghkJWVhbCwMCgUt+9srVKJXVpaGoKDgy3KgoODYTAYcOXKFYSGhlpdM2fOHLzxxhuVFSIRERFRhTh//jzq1q172zpVKrEDYNXKVtCTXFzr2/Tp0zFx4kTz84yMDNSrVw/nz59HYGBgxQVKRETkBLJBi9MbOgAAIh/aDYXK18kRVW0rVqxATk4O/Pz88NRTT5VYX6szoP3bvwEA/p7RG76a8qdamZmZiIiIQEBAQIl1q1RiFxISgrS0NIuy9PR0qFQq1KxZ0+Y1Xl5e8PLysioPDAxkYkdERG5HNqjg72vqrgsMDGRiV07jx48vVX1vg4zRfe8EANSoVg0alePmqdozhKxKJXadOnXCjz/+aFH2yy+/ICYmxub4OiIiIqLyEEIgV2+0aHnLNxhhlAVUCoU5cSuoBwDT+zdz2jh+py53kp2djQMHDuDAgQMATMuZHDhwAOfOnQNg6kYdPny4uf7o0aNx9uxZTJw4EcnJyVi+fDmWLVuGSZMmOSN8IiIicmNCCDzy6S60ev0Xi/K3NiUjKi4ei7aeMJdl5hkQFRePqLh4GGTnLTji1MRu7969aNu2Ldq2bQsAmDhxItq2bYu4uDgAQGpqqjnJA4DIyEhs3rwZiYmJaNOmDd588018+OGHePjhh50SPxEREbmvXL0Ruw+fRN6Nyzh59ryzw7GLy6xjV1kyMzMRFBSEjIyM246xMxqN0Ov1lRgZuTO1Wg2lUunsMIjIA8gGLU5+0wIA0HDwYY6xKwdZFqgbURepFy8iPDwcFy5cAFByV6yPWunQrlh7cxegio2xqwxCCKSlpeHGjRvODoXcTLVq1RASEsL1E4mIqgiFQoLCxs9sL5X1H+qSJDlkBqwVWQYu7re7OhO7WxQkdXXq1IGvry9/CVO5CSGg1WqRnp4OADbXWyQiIpN169YhLi4OWVlZJdYdMGAAlixZYlEWExNjtYKGLXPnzsXQoUPNz48dO4bevXtb1UtNTbUj6gpkyAW+uN/u6kzsijAajeakrrjlU4jKwsfHB4BpeZ46deqwW5aIqBjJycno0qULDh8+jL/++uu2da9du2ZVlpaWhpSUlBJfR6vVWjw3GAy3vc7fjjXkKoTGD/CpAaDkRBdgYmehYEydry/HI5DjFXxf6fV6JnZERMWIi4vDmTNnMHDgQISHh9+2bo0aNazKQkJC7HqdW3/Xq1Qqq9cTAC5l5EHS+OC1ma/bdV+H0OcCXz1iOv7femDMLmBmmF2XMrGzgd2vVBH4fUVEZJ8GDRrgn3/+KdO1e/fuLdN1TZs2NU+OKJBvMOKVbw9BI/LwyANRgC7n9jeRlIDau/B5QX21L1DwO8CQD8iG299HpwXO7jAdC9nUamcnJnZERERULrbGxX3//feIjo42P9+0aRNGjx5d4r38/f1x9OjRComztLyUCizIngKc3w3YE1LUQGDwl4XPZ99sZZt8EvCrZTqOfwXY87nDYy3AxI6IiIjKJS4uzioZ0+l0Fs9zc3PtGvtmz36olUavNSV1zhLR0dTal2ff+DqAiZ3bmDNnDjZs2ICjR4/Cx8cHnTt3xrvvvoumTZua6wgh8MYbb2Dp0qW4fv06OnTogEWLFqFFixbmOkuXLsXXX3+Nffv2ISsrC9evX0e1atWsXu+nn37CrFmzcPDgQfj5+eHuu+/Ghg0byvUePvvsM3z55Zf4999/AQDR0dGYPXs22rdvb1Fv8eLFmDdvHlJTU9GiRQu8//776Natm/n8hg0bsGTJEiQlJeHq1avYv38/2rRpYz5/5swZREZG2ozhm2++waOPPlqu90FE5GkKWuoUCoV55r9Go7Go4+PjU+KYOcDUYueSJp0ANCWMwZduGT/9ykXTv+oi1/WbDfSdZd9rFu3CtRMTOzexbds2jB07FnfddRcMBgNmzJiB2NhYHDlyBH5+pr75uXPnYuHChVi5ciWaNGmCt956C3379sWxY8fMfyFptVrcc889uOeeezB9+nSbr/Xtt99i5MiRmD17Nnr16gUhBA4dOlTu95CYmIghQ4agc+fO8Pb2xty5cxEbG4vDhw+bfxisXbsWEyZMwOLFi9GlSxcsWbIE/fv3x5EjR1CvXj0AQE5ODrp06YJHH30UI0eOtHqdiIgIq+nrS5cuxdy5c9G/f/9yvw8iIk8VGhpqNU6twH333VfsOVelNQjsQEcAQFeFD3xLMdYNgO2xcSovAF7lD644wsNkZGQIACIjI8PqXG5urjhy5IjIzc11QmSOlZ6eLgCIbdu2CSGEkGVZhISEiHfeecdcJy8vTwQFBYlPP/3U6vqtW7cKAOL69esW5Xq9XoSHh4vPP/+8QuMXQgiDwSACAgLEF198YS5r3769GD16tEW9Zs2aiWnTplldf/r0aQFA7N+/v8TXatOmjXj66afLHfPtuNP3FxG5LqM+Rxxf1UAcX9VAGPU5Zb7PN998I5o1aybCw8PNjwULFljUyczMFOHh4UKhUAgAIjw8vLzhu5ScfL2oP3WTqD91k8jJ1zstjtvlLrdii10JhBAQxlynvLak9CnzTMqMjAwAhVPBT58+jbS0NMTGxprreHl5oXv37ti5cyeee+45u+67b98+pKSkQKFQoG3btkhLS0ObNm0wf/58iy5dR9BqtdDr9eb3oNPpkJSUhGnTplnUi42Nxc6dO8v8OklJSThw4AAWLVpUrniJiNyJrXFzmZmZFs+FEBbj5lxqfJwDeKuU2Dqph/m4KmBiVwJhzDXvuVfZGg4+DKkMe/wJITBx4kR07doVd955JwCYV+EODg62qBscHIyzZ8/afe9Tp04BAF5//XUsXLgQDRo0wIIFC9C9e3ccP37c5ppCZTVt2jSEh4ejT58+AIArV67AaDTafA/2rDJenGXLlqF58+bo3LlzueIlInIntsbN3bpPqSRJ5qEyAQEBePPNNys3yAqmUEiIrFXK7lcnY2Lnhl544QUcPHgQO3bssDp3awugEKJUrYKyLAMAZsyYgYcffhgAsGLFCtStWxfr1q2z2fI3e/ZszJ492/y86Hi44sydOxerV69GYmIivL29Lc6V9z0UlZubi6+//hqvvfZama4nInJ3txs3FxAQUOXGzZWKLqdwyZJXLpZqPTlnYWJXAknpg4aDDzvttUvrxRdfxA8//IA//vgDdevWNZcXrMSdlpZmsVdpenq6VQvY7RRcGxUVZS7z8vLCHXfcgXPnztm8ZvTo0Rg8eLD5eVjY7VfPnj9/PmbPno1ff/0VrVq1MpfXqlULSqXSqnWutO+hqPXr10Or1WL48OFlup6IqCpbt24dvv/+e3z11VcW5Q888IDz90h1AXqjDLWNY1fGxK4EkiSVqTu0sgkh8OKLL2Ljxo1ITEy0Ws4jMjISISEhSEhIQNu2bQGYxqxt27YN7777rt2vEx0dDS8vLxw7dgxdu3YFYNoi68yZM6hfv77Na2rUqGF3F+28efPw1ltvIT4+HjExMRbnNBoNoqOjkZCQgAcffNBcnpCQgIEDB9r9HopatmwZHnjgAdSuXbtM1xMRVWVxcXGoVq0azpw5gwYNGpjLL1++bO6hcbdxc6WhV3ijQ96nAIAdCm8mdlR5xo4di6+//hrff/89AgICzK1aQUFB8PExTcKYMGECZs+ejcaNG6Nx48aYPXs2fH19MXToUPN90tLSkJaWhhMnTgAADh06hICAANSrVw81atRAYGAgRo8ejZkzZyIiIgL169fHvHnzAKDc67/NnTsXr732Gr7++ms0aNDA/B78/f3N6xpNnDgRw4YNQ0xMDDp16oSlS5fi3LlzFquZX7t2DefOncPFi6b1g44dOwbA1GpZdA/BEydO4I8//sDmzZvLFTcRUVWVlZWFS5cuYeDAgRZbeNWuXRvh4eFuOW6uNBQKBTq2bGI+rhIqdH6uC3LX5U5g2qvY6rFixQpzHVmWxcyZM0VISIjw8vISd999tzh06JDFfWbOnFnifXQ6nXj55ZdFnTp1REBAgOjTp4/4999/y/0e6tevb/O1Z86caVFv0aJFon79+kKj0Yh27dqZl3QpsGLFCrvuM336dFG3bl1hNBrLHbs9qvL3FxFVHaVZ7iQ8PNwtlym5LZ1WiPzs0j2crDTLnUhCCFF5aaTzZWZmIigoCBkZGVaze/Ly8nD69GlERkZaDdgnKi9+fxFRZZANWvNqDg0HH4biNsOJ6tati5SUFISHh7v3JIiiVgwAzlpPLrytu5417RihqsCFhW/jdrnLrapIuyIRERGRk6T9Cyg1JddzARxjR0RERJ7jf+sBIdtVNVdnxD0f/IG8NC8k6mX4aFx/kWImdkREROT+ZBkw5JZqLToBA85mSQB0EKgaI9eY2BEREbmZn3fn4IP1N5A/pTEA0wLuycnJFkuXLFy40LPWqkvdD3zWC/CtCUw4ZFeC56VS4qdxXc3HVQETOyIiIjfzwfobOHVRD+CiuezWuZKZmZmetVad+uYkkpqNC49LoFRIaBEWVIFBOR4TOyIiIjeTk2tK2Iru83rr1ouBgYHuv1adQQdsX2A67vqSaVswtS9Qxm0oqwImdkRERG4qNDSk2GVMJk6ciIkTJ1ZyRJVM1gPb3jEddxlX6r1e9UYZ3+1PAQAMahsOtdL1FxNx/QiJiIjc0Lp169C8eXNMnjzZ6lyzZs1Qt27dEh+bNm2yuC4pKQn1GjTG5RvGynobbk1vlDF5/UFMXn8QeqN9M2mdjS12REREThAXF4ejR48iPDzc6tzFixeRlZVV4j1yc3Mtnut0OqSkFI6r84ixcxVIIUno2bS2+bgqYGJHRETkBAWJ22+//WZ1LiwsDNnZ2SXew8fHx+K5RqNBeHgYDNpL8PNR4I3XX3NMsB7KW63EiqfaOzuMUmFXrJuYM2cO7rrrLgQEBKBOnToYNGgQjh07ZlFHCIHXX38dYWFh8PHxQY8ePXD48GHz+WvXruHFF19E06ZN4evri3r16mHcuHHIyMiwuM/169cxbNgwBAUFISgoCMOGDcONGzfK/R4+++wzdOvWDdWrV0f16tXRp08f/P3331b1Fi9ebN6WKzo6Gtu3bzef0+v1mDp1Klq2bAk/Pz+EhYVh+PDhuHjxosU9li5dih49eiAwMBCSJDkkfiKisrDVYnf06FFcuHChxMd9991ncV10dDTOnfkP2z+OwJZ54Xjk4Qcr6224JgfsmioEoNU7/2Evtti5iW3btmHs2LG46667YDAYMGPGDMTGxuLIkSPw8zMNFp07dy4WLlyIlStXokmTJnjrrbfQt29fHDt2DAEBAbh48SIuXryI+fPnIyoqCmfPnsXo0aNx8eJFrF+/3vxaQ4cOxYULF7BlyxYAwKhRozBs2DD8+OOP5XoPiYmJGDJkCDp37gxvb2/MnTsXsbGxOHz4sPkH39q1azFhwgQsXrwYXbp0wZIlS9C/f38cOXIE9erVg1arxb59+/Daa6+hdevWuH79OiZMmIAHHngAe/fuNb+WVqvFPffcg3vuuQfTp08vV9xEROSChABW3FPuWzy8Dkhy8nJ/cp79dSVx68I2bu52G+m60ybtly9fRp06dbBt2zbcfffdEEIgLCwMEyZMwNSpUwEA+fn5CA4OxrvvvovnnnvO5n3WrVuH//3vf8jJyYFKpUJycjKioqLw119/oUOHDgCAv/76C506dcLRo0fRtGlTh70Ho9GI6tWr4+OPP8bw4cMBAB06dEC7du3wySefmOs1b94cgwYNwpw5c2zeZ8+ePWjfvj3Onj2LevXqWZxLTExEz549cf36dVSrVs1hsdviTt9fRFR+devWRUpKCsLDw4uduVoWskGLk9+0AAA0HHwYCpV9a7a5HV0OMDvMdBzSEnhue6mXObmaY0S72X+YntS+G5Ccs0ixnJeJC9Ns5y63YotdCYQAcg3OeW0fVdmX2inoPq1RowYA4PTp00hLS0NsbKy5jpeXF7p3746dO3cWm9gVfBOpVKZvlV27diEoKMic1AFAx44dERQUhJ07dzo0sdNqtdDr9eb3oNPpkJSUhGnTplnUi42Nxc6dO4u9T0ZGBiRJqvDEjYiIXNRTW8r0C1VAQDJqAQDbnxSoWbrVUhwmMxMInVZyPYCJXYlyDUDzxc557eQxgK+69NcJITBx4kR07doVd955JwAgLS0NABAcHGxRNzg4GGfPnrV5n6tXr+LNN9+0SPrS0tJQp04dq7p16tQxv4ajTJs2DeHh4ejTpw8A4MqVKzAajTbfQ3GvnZeXh2nTpmHo0KEl/pVDREQVSAhArwUkBaAuMulDl1P6eyk1gPLmL0jZCBjyAEiApkjrpL5I/2UZW0m8VEqImp0AANV8lGX6newIhlK8LhM7N/TCCy/g4MGD2LFjh9W5W1ceF0JYlQGmLusBAwYgKioKM2fOvO09bncfAJg9ezZmz55tfl4wHu525s6di9WrVyMxMdGq29Le96DX6/H4449DlmUsXuyk7JzIzaxbtw5xcXEWS3F89dVX6NGjh/l5YmIi/ve//9l1v1u7IN944w189tlnJV7XvXt3rFq1yqKsV69eOH78eInXxsXFYdSoUebnqampuOuuu+yK97fffrPomfj6668xZcqUEq8LCQmxGOcLACkpKXa9plsQAljeDzi/G6jfFXjqp8Jz77cEtFdLd7975wPtR5qOz+4EvrgPqN0MGLu7sM7Ke8sdtlIhAZoaN4/LfbtKwcSuBD4qU8uZs167tF588UX88MMP+OOPP1C3bl1zeUhICABTi1vB9jIAkJ6ebtUClpWVhXvuuQf+/v7YuHEj1Gq1xX0uXbpk9bqXL1+2uk+B0aNHY/DgwebnYWFht30P8+fPx+zZs/Hrr7+iVatW5vJatWpBqVRatc7Zeg96vR6DBw/G6dOn8fvvv7O1jshBCtZeKyo/P9/qeVmTloyMDLuuvXLlilXZpUuX7Lr21mVEjEaj3fEaDJZjc7RabZnfa0xMDPbu3esZa83JRqDj84BRB8iVPL4poqPde8O6AyZ2JZCksnWHVjYhBF588UVs3LgRiYmJiIyMtDgfGRmJkJAQJCQkoG3btgBMY9a2bduGd99911wvMzMT/fr1g5eXF3744Qer1rJOnTohIyMDf//9N9q3N63ts3v3bmRkZKBz5842Y6tRo4Z5nFxJ5s2bh7feegvx8fGIiYmxOKfRaBAdHY2EhAQ8+GDhFP6EhAQMHDjQ/Lwgqfvvv/+wdetW1KxZ067XJqKSFbTUFd2D1MvLy6KOl5eXzSU87BEUFGTXtbVq1bIqCw4OtlqeyRZ/f3+L50ql0u54C8YbF/D19bXr2oI/rotq164dsrOz3Xef1qKUKqDFg0DjWFNXbFETDpXhfprC4/qdTXvA4paem5FbAYhy7Q1rMMpA7qWbx8GAugo02wkPk5GRIQCIjIwMq3O5ubniyJEjIjc31wmRlc/zzz8vgoKCRGJiokhNTTU/tFqtuc4777wjgoKCxIYNG8ShQ4fEkCFDRGhoqMjMzBRCCJGZmSk6dOggWrZsKU6cOGFxH4PBYL7PPffcI1q1aiV27doldu3aJVq2bCnuu+++cr+Hd999V2g0GrF+/XqL187KyjLXWbNmjVCr1WLZsmXiyJEjYsKECcLPz0+cOXNGCCGEXq8XDzzwgKhbt644cOCAxX3y8/PN90lNTRX79+8Xn332mQAg/vjjD7F//35x9erVcr+P4lTl7y+iAuHh4QKACA8Pd3YoVAyjPkccX9VAHF/VQBj1Oc4LRJaFyM+2fFQxl7P1ov7UTaL+1E3icrbeaXHcLne5FRO7IqryL14ANh8rVqww15FlWcycOVOEhIQILy8vcffdd4tDhw6Zz2/durXY+5w+fdpc7+rVq+KJJ54QAQEBIiAgQDzxxBPi+vXr5X4P9evXt/naM2fOtKi3aNEiUb9+faHRaES7du3Etm3bzOdOnz5d7HvYunWrud7MmTNL/Ho5WlX+/iIqwMTO9blEYifLQnzeV4iZgYWPJd2F+HeDEAbnJUildTXHIOq9tlPUe22nuJpjKPmCClKaxI7r2BXBdcaoIvH7i9xBRa29Ro7jEuvYFV1DrqiIjsDTZVt6xBm0+sKVMcq6UoUj3C53uRXH2BEREVHFmXSicBmScox3I/swsSMiIqKKo/EFNE5a2dcDMbEjIiK7sfuVPEme3ghc3nnzuDN81c7ZUqw0mNgRERER2SALAcmQaT6uCpjYEREREdngpVJC1GhvPq4KmNgRERGRfQr2e1V5A4qbiY5Rb9pRQlICavea8a9USIBX7ZvHTg7GTkzsiMgt3LqH6ffff4/o6Gjz+U2bNmH06NEl3sff399qy6zJkydj9erVJV47YMAALFmyxKIsJibGahs8W+bOnYuhQ4eanx87dgy9e/cu8ToA2LNnj8VWgUuXLsWsWbNKvK5Jkyb4/fffLcqeeOIJbNu2rdhrUlJS8OCDD6J169ZW+0iTmyu63+uITUBkN1N50kpg8yQgaiAw+EunhkhM7IjITdy6h6lOp7M4n5uba9eenrb27bx+/bpd1167ds2qLC0tza5rtVqtxXODwWD3HqRGo9HieXZ2tl3XBgUFWZVduXKlxGs3btyI5ORkJnaeRq81JXUFx7dTMAu2iu/TajDKQN7lm8e1q8SWYkzsiMgt3LqHqUajsTjv4+Nj156et+4jCgDVq1e361pbeyLb2iPUFl9fy19+KpXK7v1LlUrLsT/+/v52XRscHGxVVqtWrRKvDQgI8Iz9Tal49ToVHkc/CbQZauqKLeqVi1V+3TqdUYZ0fe/N434AXD+x484TRXBngKojMTERPXv2xPXr11GtWjVnh2MXfn9VLO6IQGTi0J0nCsbUAYBOC8xvZDp+5aJHrE13TWtE2zm7AAD7p3dCDV/nTKAozc4Trp96kttITEyEJEm4ceNGpbzeyZMn8eCDD6J27doIDAzE4MGDcenSJYs6+/btQ9++fVGtWjXUrFkTo0aNQnZ2tvn8tWvXcP/998Pf3x/t2rXDP//8Y3H9mDFjsGDBgkp5P0RElapgTN3sMNOjIKnzIN5qJVCrK1Crq+m4CmBiR24pJycHsbGxkCQJv//+O/7880/odDrcf//9kGUZAHDx4kX06dMHjRo1wu7du7FlyxYcPnwYTz75pPk+b7/9NrKysrBv3z50794dzz77rPncrl278Pfff2PChAmV/O6IiCpB0TF1RVXxcXPujomdmxBCYO7cubjjjjvg4+OD1q1bY/369eZzffr0wT333IOCnvcbN26gXr16mDFjBoDC1rSffvoJrVu3hre3Nzp06IBDhw5ZvM7OnTtx9913w8fHBxERERg3bhxycnLM5/Pz8zFlyhRERETAy8sLjRs3xrJly3DmzBn07NkTgGm8kiRJ5gTqdrEX2Lx5M5o0aQIfHx/07NkTZ86cue3X488//8SZM2ewcuVKtGzZEi1btsSKFSuwZ88e8yzATZs2Qa1WY9GiRWjatCnuuusuLFq0CN9++y1OnDgBAEhOTsbjjz+OJk2aYNSoUThy5AgAQK/X4/nnn8enn35qNb6JiMjtTDph6n595SLw9JYqPW7O3TGxs5NWZ4BWZ0DRIYk6gwytzoB8g9FmXVkurKs3murm6e2rW1qvvvoqVqxYgU8++QSHDx/GSy+9hP/973/Ytm0bJEnCF198gb///hsffvghAGD06NEIDg7G66+/bnGfyZMnY/78+dizZw/q1KmDBx54AHq9HgBw6NAh9OvXDw899BAOHjyItWvXYseOHXjhhRfM1w8fPhxr1qzBhx9+iOTkZHz66afw9/dHREQEvv32WwCmZRxSU1PxwQcflBg7AJw/fx4PPfQQ7r33Xhw4cADPPvsspk2bdtuvR35+PiRJgpeXl7nM29sbCoUCO3bsMNfRaDRQKAr/G/j4+ACAuU7r1q3x+++/w2AwID4+Hq1atQIAvPvuu+jRowdiYmJK8SkREVVRBfu9avw8KqnL0xuBKzuBKzutfn+7LOFhMjIyBACRkZFhdS43N1ccOXJE5ObmWp2rP3WTqD91k7iSlWcu++i346L+1E1i6vp/LOo2e/VnUX/qJnHuao657PPtp0T9qZvEuNX7LOq2nfWLqD91kziWlmku+3r32VK9p+zsbOHt7S127txpUf7MM8+IIUOGmJ9/8803wsvLS0yfPl34+vqKY8eOmc9t3bpVABBr1qwxl129elX4+PiItWvXCiGEGDZsmBg1apTFa2zfvl0oFAqRm5srjh07JgCIhIQEm3EWvMb169dLFfv06dNF8+bNhSzL5vNTp061uldR6enpIjAwUIwfP17k5OSI7OxsMXbsWAHA/B7+/fdfoVKpxNy5c0V+fr64du2aeOihhwQAMXv2bCGEEDdu3BBDhgwR9erVE3fffbc4fPiwOH78uGjcuLG4cuWKeO6550RkZKR49NFHxY0bN2zGUuB2319UfuHh4QKACA8Pd3YoRE5l1OeI46saiOOrGgijPqfkC4qTny3EzEDTIz/bcQFWIZez9ebf/5ez9U6L43a5y6243IkbOHLkCPLy8tC3b1+Lcp1Oh7Zt25qfP/roo9i4cSPmzJmDTz75BE2aNLG6V6dOhVPYa9SogaZNmyI5ORkAkJSUhBMnTmDVqlXmOkIIyLKM06dP49ChQ1AqlejevbtDY09OTkbHjh0hFfkrsWicttSuXRvr1q3D888/jw8//BAKhQJDhgxBu3btzF2nLVq0wBdffIGJEydi+vTpUCqVGDduHIKDg811goKC8PXXX1vcu1evXpg3bx5WrVqFU6dO4dixYxg5ciRmzZrFiRROlJycDCGExfcJEZWD2heYfLLw2ANplAqI6tHm46qAiZ2djszqBwDwKTIrZtTdDfF010jTliNFJL3WBwDgXWRfueGd6mNI+wgobvmls2NqT6u6j0TXLVVsBZMBfvrpJ6v1p4p2RWq1WiQlJUGpVOK///6z+/4FvyhlWcZzzz2HcePGWdWpV6+eeVyao2MXZVyRJzY2FidPnsSVK1egUqlQrVo1hISEIDIy0lxn6NChGDp0KC5dugQ/Pz9IkoSFCxda1Clq+fLlqFatGgYOHIiHHnoIgwYNglqtxqOPPoq4uLgyxUmOYWthYSIqB0kC/Go5OwqnUikVgHfIzWMnB2MnJnZ28tVYf6k0KgU0NoYp2qqrViqgtpHtF1e3NKKiouDl5YVz587dtrXs5ZdfhkKhwM8//4x7770XAwYMQK9evSzq/PXXX6hXrx4A02r7x48fR7NmzQAA7dq1w+HDh9Goke0p7y1btoQsy9i2bRv69Oljdb5gwdiiq+TbE3tUVBS+++47qzjtVauW6QfT77//jvT0dDzwwANWdQoWal2+fDm8vb2tWhAB4PLly3jzzTfN4++MRqN5/KFer7da/Z+IiKiyMbFzAwEBAZg0aRJeeuklyLKMrl27IjMzEzt37oS/vz9GjBiBn376CcuXL8euXbvQrl07TJs2DSNGjMDBgwdRvXp1871mzZqFmjVrIjg4GDNmzECtWrUwaNAgAMDUqVPRsWNHjB07FiNHjoSfnx+Sk5ORkJCAjz76CA0aNMCIESPw9NNP48MPP0Tr1q1x9uxZpKenY/Dgwahfvz4kScKmTZtw7733wsfHx67YR48ejQULFmDixIl47rnnkJSUhJUrV5b4dVmxYgWaN2+O2rVrY9euXRg/fjxeeuklNG3a1Fzn448/RufOneHv74+EhARMnjwZ77zzjs1Fj8ePH4+XX37Z3LLYpUsX/N///R9iY2OxdOlSdOnSpVyfIxGRSzHkA/GvmI77zQZUXrev74aMsgDyr908rgGgCgz1qOgBf66mrJMnXJ0sy+KDDz4QTZs2FWq1WtSuXVv069dPbNu2TaSnp4vg4GDzhAAhhNDr9aJ9+/Zi8ODBQojCiQ0//vijaNGihdBoNOKuu+4SBw4csHidv//+W/Tt21f4+/sLPz8/0apVK/H222+bz+fm5oqXXnpJhIaGCo1GIxo1aiSWL19uPj9r1iwREhIiJEkSI0aMKDH2Aj/++KNo1KiR8PLyEt26dRPLly+/7eQJIUwTLIKDg4VarRaNGzcWCxYssJiAIYRpQkiNGjWERqMRrVq1El9++aXNe23ZskW0b99eGI1Gc1lOTo549NFHRUBAgOjdu7e4dOlSsbEUfG2q6vdXVbBgwQIxc+ZMsWDBAmeHQuRUnDzhOFVx8gS3FCvCk7d8qopbdFU1nvz9VRm4pRiRicO2FDPogO03J4R1exlQaW5f3w1dzTGi3RzT8Jt907uipp/rbynGrlgiIiKyptIAPac7O4oyE0JACEBxc4Kj3ihDb5ShkCSL7cFydUYICHiplObJkAajDJ1RNk0erG0a/+1TRfLaqjF3l4iIiMhOQgg88ukunLhcuPf3+qQLiIqLx4ur91vU7bNwG6Li4vFvSoa5bNPBVETFxWPsqr2VFrOjMLEjAECPHj0ghGA3LBERmcgykJ5sesil3xHJmXL1RiSdvY5Pt52EVmdwdjiVil2xREREZM2QCyzuaDp+5aJpO7EqpIafBr8fTTc/fyS6Lga2CbNaT/bXid3NXbEF7msVitgWwcgzSGj7WaWF7BBM7IiIiDyQEEDu7Rqz9EDBtAutHlVipQ8zSYUd0wrXI9XqAUABSArI5ucFdU0JXb4RgHk50sK6VQ0TOyIiIg8jBPDwOiAptfg6PgI4evO43WdAblVK7DwYx9gRERF5mFzD7ZM6shQTCvhUkaawKhImERERVYSkkYCv2sYJHYB5psN9IwFUkeU+ACBfb8Sr3x0EALw1qBW81OVbf85HZdo6typgYkdEbqFdu3aIiIhA7dq1nR0KkfMJAUkA0GkBWQBq38LMxJAP6AxQCzX0kga+asBXKZsmS1jcQ2s+9FUDsJX8uRAhBHL1RnirlIAQ+OngRQDAvEda2k5c3ZTTu2IXL15sXok/Ojoa27dvv239VatWoXXr1vD19UVoaCieeuopXL16tZKiJVeRmJgISZJw48YNZ4dCLuKHH37Arl278MMPPzg7FCLnEgJ1z2eh0YnrUMxtCMwOA7RFfk/GvwLfeWEYm7egsOzKMVO9oo/5jSo/9jIqWLcuKi4eKTdyoVYq8Np9UXjtviiolU5PdSqVU9/t2rVrMWHCBMyYMQP79+9Ht27d0L9/f5w7d85m/R07dmD48OF45plncPjwYaxbtw579uzBs88+W8mRU1kwGSMiqgT6XPjkOXDttoiOphY/F5arN+LIxUzzsVqpwDNdI/FM10iPS+yc2hW7cOFCPPPMM+bE7P3330d8fDw++eQTzJkzx6r+X3/9hQYNGmDcuHEAgMjISDz33HOYO3dupcZNRERUFcgvHYLCp6ZlYtZvNrQ9ZmHRZ0X6J2s1Na1VZ0vRblwX5atRIfnNe6DVGUxdsR7MaWmsTqdDUlISYmNjLcpjY2Oxc+dOm9d07twZFy5cwObNmyGEwKVLl7B+/XoMGDCgMkJ2aUIIzJ07F3fccQd8fHzQunVrrF+/3nyuT58+uOeeeyCEAADcuHED9erVw4wZMwAUtqb99NNPaN26Nby9vdGhQwccOnTI4nV27tyJu+++Gz4+PoiIiMC4ceOQk5NjPp+fn48pU6YgIiICXl5eaNy4MZYtW4YzZ86gZ8+eAIDq1atDkiQ8+eSTJcZeYPPmzWjSpAl8fHzQs2dPnDlzpsSviSRJWLJkCe677z74+vqiefPm2LVrF06cOIEePXrAz88PnTp1wsmTJ83XnDx5EgMHDkRwcDD8/f1x11134ddffzWfP3r0KHx9ffH111+byzZs2ABvb2+rrxURUaUQAtDlFD70hWPjoPY1LSxcNDFTeQEaP+ilIrMhFApTPVsPF0/qivLVqMx7w3os4SQpKSkCgPjzzz8tyt9++23RpEmTYq9bt26d8Pf3FyqVSgAQDzzwgNDpdMXWz8vLExkZGebH+fPnBQCRkZFhVTc3N1ccOXJE5ObmWt8oP7v0D4O+8HqD3lSm09p331J65ZVXRLNmzcSWLVvEyZMnxYoVK4SXl5dITEwUQghx4cIFUb16dfH+++8LIYR47LHHRExMjPlrt3XrVgFANG/eXPzyyy/i4MGD4r777hMNGjQw1zl48KDw9/cX7733njh+/Lj4888/Rdu2bcWTTz5pjmPw4MEiIiJCbNiwQZw8eVL8+uuvYs2aNcJgMIhvv/1WABDHjh0Tqamp4saNG3bFfu7cOeHl5SXGjx8vjh49Kr766isRHBwsAIjr168X+zUBIMLDw8XatWvFsWPHxKBBg0SDBg1Er169xJYtW8SRI0dEx44dxT333GO+5sCBA+LTTz8VBw8eFMePHxczZswQ3t7e4uzZs+Y6ixYtEkFBQeLMmTMiJSVF1KhRQ7z33nslfka3/f6icrv//vtFx44dxf333+/sUIgqjywL8XlfIWYG2nwYcy7bvCxHJ0S9902PnOJ/hZKLyMjIKDZ3uZXTE7udO3dalL/11luiadOmNq85fPiwCA0NFXPnzhX//POP2LJli2jZsqV4+umni32dmTNnCgBWj1IndsX8p7nt498Nhdf/u8FUtvxey/u+G2n72lLIzs4W3t7eVl/LZ555RgwZMsT8/JtvvhFeXl5i+vTpwtfXVxw7dsx8riCxW7Nmjbns6tWrwsfHR6xdu1YIIcSwYcPEqFGjLF5j+/btQqFQiNzcXHHs2DEBQCQkJNiMs+A1iiZj9sQ+ffp00bx5cyHLsvn81KlT7UrsXn31VfPzXbt2CQBi2bJl5rLVq1cLb2/vYu8hhBBRUVHio48+sigbMGCA6Natm+jdu7fo27evRWzFYWJXscLDw83JPJHHyM8u9neQdk4NYdTZbihwt8QuT28QU9f/I6au/0fk6Q3ODsfhSpPYOW2MXa1ataBUKpGWlmZRnp6ejuDgYJvXzJkzB126dMHkyZMBAK1atYKfnx+6deuGt956C6GhoVbXTJ8+HRMnTjQ/z8zMREREhAPfifMdOXIEeXl56Nu3r0W5TqdD27Ztzc8fffRRbNy4EXPmzMEnn3yCJk2aWN2rU6dO5uMaNWqgadOmSE5OBgAkJSXhxIkTWLVqlbmOEAKyLOP06dM4dOgQlEolunfv7tDYk5OT0bFjR0hFugOKxnk7rVq1Mh8XfF+1bNnSoiwvLw+ZmZkIDAxETk4O3njjDWzatAkXL16EwWBAbm6u1YSe5cuXo0mTJlAoFPj3338tYiMiqjQqb2DEJlP3a71OgEIJ2ZCLUxtiICSgoYf8bDLKAmv2nAcAxN0f5eRonMtpiZ1Go0F0dDQSEhLw4IMPmssTEhIwcOBAm9dotVqoVJYhK5WmQZLi5tixW3l5ecHLy6v8ARc3qPR2lEVet9n9pntItwxrnFD+cVmybNrN7qeffkJ4eLjFuaLvXavVIikpCUqlEv/995/d9y9IWmRZxnPPPWeevFJUvXr1cOLEiQqJvbjP1h5qdeHg4IL3YausII7JkycjPj4e8+fPR6NGjeDj44NHHnkEOp3O4r7//PMPcnJyoFAokJaWhrCwsDLHSERUJkIAhjygXkdAWWQihEKC8LBxZiqFApNim5iPPZlTZ8VOnDgRw4YNQ0xMDDp16oSlS5fi3LlzGD16NABTa1tKSgq+/PJLAMD999+PkSNH4pNPPkG/fv2QmpqKCRMmoH379hX/i1XjV77rlSrTw9H3BRAVFQUvLy+cO3futq1lL7/8MhQKBX7++Wfce++9GDBgAHr16mVR56+//kK9evUAANevX8fx48fRrFkzAKYFYA8fPoxGjWyvbdSyZUvIsoxt27ahT58+Vuc1GtNAXaPRvMuyXbFHRUXhu+++s4qzImzfvh1PPvmk+Y+N7Oxsq4ka165dw5NPPokZM2YgLS0NTzzxBPbt2wcfH58KiYmIyIoQwPJ+wPndwL3zgfYjnR2RU2lUCrzQq7Gzw3AJTk3sHnvsMVy9ehWzZs1Camoq7rzzTmzevBn169cHAKSmplp0gT355JPIysrCxx9/jJdffhnVqlVDr1698O677zrrLbiEgIAATJo0CS+99BJkWUbXrl2RmZmJnTt3wt/fHyNGjMBPP/2E5cuXY9euXWjXrh2mTZuGESNG4ODBg6hevbr5XrNmzULNmjURHByMGTNmoFatWhg0aBAAYOrUqejYsSPGjh2LkSNHws/PD8nJyUhISMBHH32EBg0aYMSIEXj66afx4YcfonXr1jh79izS09MxePBg1K9fH5IkYdOmTbj33nvh4+NjV+yjR4/GggULMHHiRDz33HNISkrCypUrK+Rr2ahRI2zYsAH3338/JEnCa6+9Zm7NKzB69GhERETg1VdfhU6nQ7t27TBp0iQsWrSoQmIiIrJiyAcCQm4e5zk3FnItFT3gz9XcbgBiVR7cLsuy+OCDD0TTpk2FWq0WtWvXFv369RPbtm0T6enpIjg4WMyePdtcX6/Xi/bt24vBgwcLIQonNvz444+iRYsWQqPRiLvuukscOHDA4nX+/vtv0bdvX+Hv7y/8/PxEq1atxNtvv20+n5ubK1566SURGhoqNBqNaNSokVi+fLn5/KxZs0RISIiQJEmMGDGixNgL/Pjjj6JRo0bCy8tLdOvWTSxfvtyuyRMbN240Pz99+rQAIPbv328uu3VCx+nTp0XPnj2Fj4+PiIiIEB9//LHo3r27GD9+vBBCiC+++EL4+fmJ48ePm++xd+9eodFoxE8//XTbz6gqf39VBZw8QR4pP1sIg+XsB6M+Rxxf1UAcX9VAGPU5Ni9zt8kTsiyLK1l54kpWnl2T2aqa0kyekIQoxwCmKigzMxNBQUHIyMhAYGCgxbm8vDycPn3avMWZJ0lMTETPnj1x/fp1VKtWzdnhuCVP/v6qDHXr1kVKSgrCw8Nx4cIFZ4dD5DSyQYuT37QAADQcfBgKlfWuEVo90Hyx6Th5DKCAEbIQUCsV5p0aZFkgz2AaOuOrKezgy9PbXzffYIRRFlApFNCoTHXFzT1dS1vXR600j4vWGWQYZBlKhQQvlRJanQFRcfEAgCOz+lnc1x3cLne5lWePMCQiIiK8uHo/ouLisT6p8I+iE5ezERUXj67vbrWoO/Xbg4iKi8eXu86ay1Ju5CIqLh7Rb/5qUXfm94cRFRePpX8ULgR/LUeHqLh4cyJW4J2fjyIqLh4f/HbcXJarN5rrFiR4APDBb8cRFRePd34+ai6b1r9ZGd+9e2FiR0REVNXocoDXg0wPXU7J9d2cr0aF0d0bIqZ+dfioPXtLMXbFFsGuMqpI/P6qWAsXLjSvR1h07Uoit6TLAWbfXA3ilYsWKyx4YldsASGEW64rWpquWPfqhCYij8VkjpxCCMu9We1VdKkrfS4gZNPapwXLYhkNgDG/+Ot1ZXjNWwkjcHkb+iwAfpvY3WpcmkIh2Ryr5m2jRay4ukWTrgKSVP66GpUCGhudju6Y1JUWEzsiIqKyKLqWXGn41gSmnCp8/tUjwNkdwKMrgRY3F+w/+iOw7klHRWqbEJCMubh4AxDwqM47t8bEjoiIqCxkA9DyUSDzIpBx3jkxRHQE1NZdrXaRlBA1u+CbR2y3llHVxMSOiNxCVlaWeXxNQECAs8MhT6BUm3Z8aDO0fPf53/rCrtgCBdtQlkTtC5S1+1GSAE01tKwLKDmV0m0wsSMit9C8eXOuY0eVq2B8XXm3hlTb2I6wuG0oiUrAHJ2IiKi0hACW9QW+GQGc3g7IxpKvcTVCBnJT8OM/KTAY5ZLrU5XAxI5satCgAd5//3276585cwaSJOHAgQMVFlNRK1eurLAdMl5//XW0adOmQu5NRG5CnwvkZwEnEoBfZgBSFfx1KmRINw5g6voD0DGxcxts5yWb9uzZAz+/cnYv3GLlypWYMGECbty44dD7OtqkSZPw4osvOjsMInJlGl9g7G7TenLlGefmTJIEoamFzhGAoirGTzYxsSObateu7ewQKp0QAkajEf7+/vD39y/XvfR6PdRqtYMiIyKXI4Sp1a684+ucSVICNTtg2ZOAN39cuY0q2HZMt/rxxx9RrVo1yLKpKf3AgQOQJAmTJ08213nuuecwZMgQ8/OdO3fi7rvvho+PDyIiIjBu3Djk5BRuS3NrV+zRo0fRtWtXeHt7IyoqCr/++iskScJ3331nEcupU6fQs2dP+Pr6onXr1ti1axcAIDExEU899RQyMjIgSRIkScLrr78OANDpdJgyZQrCw8Ph5+eHDh06IDEx0eK+K1euRL169eDr64sHH3wQV69eve3XpKBreM2aNejcuTO8vb3RokULi/smJiZCkiTEx8cjJiYGXl5e2L59u1VXrCzLmDVrFurWrQsvLy+0adMGW7ZssXqtb775Bj169IC3tze++uqr28ZHt7du3To0b94cdevWtXhs2rTJol5SUpL5XGpqqpOiJY9TsH7dZz2dHQmRFSZ2buDuu+9GVlYW9u/fDwDYtm0batWqhW3btpnrJCYmonv37gCAQ4cOoV+/fnjooYdw8OBBrF27Fjt27MALL7xg8/6yLGPQoEHw9fXF7t27sXTpUsyYMcNm3RkzZmDSpEk4cOAAmjRpgiFDhsBgMKBz5854//33ERgYiNTUVKSmpmLSpEkAgKeeegp//vkn1qxZg4MHD+LRRx/FPffcg//++w8AsHv3bjz99NMYM2YMDhw4gJ49e+Ktt96y62szefJkvPzyy9i/fz86d+6MBx54wCopnDJlCubMmYPk5GS0atXK6h4ffPABFixYgPnz5+PgwYPo168fHnjgAXN8BaZOnYpx48YhOTkZ/fr1sys+si0uLg5Hjx5FSkqKxSM3N9eink6nM58r+MOGS51QhdNrTYsSXz7KfVrJ9QgPk5GRIQCIjIwMq3O5ubniyJEjIjc31+rcggULRHh4eImP+++/3+ra+++/365rFyxYUOb31a5dOzF//nwhhBCDBg0Sb7/9ttBoNCIzM1OkpqYKACI5OVkIIcSwYcPEqFGjLK7fvn27UCgU5vdev3598d577wkhhPj555+FSqUSqamp5voJCQkCgNi4caMQQojTp08LAOLzzz831zl8+LDF665YsUIEBQVZvO6JEyeEJEkiJSXForx3795i+vTpQgghhgwZIu655x6L84899pjVvYoqiOedd94xl+n1elG3bl3x7rvvCiGE2Lp1qwAgvvvuO4trZ86cKVq3bm1+HhYWJt5++22LOnfddZcYM2aMxWu9//77xcYjxO2/v8hSeHi4ACAUCoXF/5Eff/zRot7evXstzjdr1kysW7fOSVGTx8jPFmJmoOmRn+3saKwY9Tni+KoG4viqBsKoz7FZJ0cnRL33DKLejETRa36i0OYbKjlKKo3b5S634hg7O2VmZiIlJaXEehEREVZlly9ftuvazMzMMsUGAD169EBiYiImTpyI7du346233sK3336LHTt24MaNGwgODkazZs0AmLqvTpw4gVWrVpmvF0JAlmWcPn0azZs3t7j3sWPHEBERgZCQEHNZ+/btbcZRtMUrNDQUAJCenm5+7Vvt27cPQgg0adLEojw/Px81a9YEACQnJ+PBBx+0ON+pUyeL7tDidOrUyXysUqkQExOD5ORkizoxMTHFXp+ZmYmLFy+iS5cuFuVdunTBP//8Y/d9qGxCQ0NvuyZddHQ016yjimVrL1hH7NPqCoSAZMjGycvcUsydMLGzU2BgIMLDw0usZ2vSQe3ate26NjAwsEyxAabEbtmyZfjnn3+gUCgQFRWF7t27Y9u2bbh+/bq5GxYwda0+99xzGDdunNV96tWrZ1Umbq7mb4+iEwYKrinoIrNFlmUolUokJSVBqbTc0qZgAoMQjv2Bc+t7sWf2763X2PqaOHoWMRE5WVn3gq0qJCVEjY74YhC3FHMnTOzsNHHiREycOLFM1/7www8OjsZawTi7999/H927d4ckSejevTvmzJmD69evY/z48ea67dq1w+HDh9GoUSO77t2sWTOcO3cOly5dQnBwMADTciilpdFoYDRaLuLZtm1bGI1GpKeno1u3bjavi4qKwl9//WVRduvz4vz111+4++67AQAGgwFJSUnFjiW0JTAwEGFhYdixY4f5PoBp8klxrZZE5CYKxtIVpzz7tLoCSQK8aqJ9JLcUcydM7NxEUFAQ2rRpg6+++goffPABAFOy9+ijj0Kv16NHjx7mulOnTkXHjh0xduxYjBw5En5+fkhOTkZCQgI++ugjq3v37dsXDRs2xIgRIzB37lxkZWWZJ0/Y25IHmGbaZmdn47fffkPr1q3h6+uLJk2a4IknnsDw4cOxYMECtG3bFleuXMHvv/+Oli1b4t5778W4cePQuXNnzJ07F4MGDcIvv/xiVzcsACxatAiNGzdG8+bN8d577+H69et4+umn7Y4ZME3AmDlzJho2bIg2bdpgxYoVOHDggEVXNjmWv78/AgICyr3sDJHDTDphWruuqKq6fh25NebobqRnz54wGo3mJK569eqIiopC7dq1LcbNtWrVCtu2bcN///2Hbt26oW3btnjttdfMY+JupVQq8d133yE7Oxt33XUXnn32Wbz66qsAAG9vb7vj69y5M0aPHo3HHnsMtWvXxty5cwEAK1aswPDhw/Hyyy+jadOmeOCBB7B7927zeMWOHTvi888/x0cffYQ2bdrgl19+Mb9+Sd555x28++67aN26NbZv347vv/8etWrVsjtmABg3bhxefvllvPzyy2jZsiW2bNmCH374AY0bNy7Vfch+R48eRWZmJo4ePersUMiTKdRA92mmh3eQac26oo+qntQJGchLw69H0rilmBuRhKMHMLm4zMxMBAUFISMjw2pMW15eHk6fPo3IyMhSJSye6M8//0TXrl1x4sQJNGzY0NnhWDlz5gwiIyOxf/9+l9kejN9fFUsIINfg7CiInE82aHFqg2ky1x0P7YVCZd1drNUD0UsMkC7FAwCOzOoHXw078VzV7XKXW/FTJLts3LgR/v7+aNy4MU6cOIHx48ejS5cuLpnUkecRAnh4HZDENYqJAPgCOGI6XHqbapIEoa6OdqHcUsydMLEju2RlZWHKlCk4f/48atWqhT59+mDBggXODosIgKmljkkdOZokZDSSjwEATiiaQkhuNnpJUiKmZWesf7Tq9ypTISZ2ZJfhw4dj+PDhzg7Dbg0aNHD4MilUeSZPnozr16+jevXqmDdvXqmuTRoJ+HLfS3IEXS5853UEAGgnX6wy+8La0xVbwEfFpM7dMLEjIpezevVqpKSkIDw8vNSJna+aiR05iADga1oo3VcNoIp8X8kS4COZtt/zVQMK/qb3KPy4iYiIbNH4AVNOOTuKCpOnN2Lwkl0AgG+e6wRvNRcpdgdM7Gy43U4JRGXF7ysiciWyEDh4IcN8TO6BiV0RGo0GCoUCFy9eRO3ataHRaEq1AC+RLUII6HQ6XL58GQqFAhqNxtkhERFBo1Rg+ZMx5mNyD0zsilAoFIiMjERqaiouXrzo7HDIzfj6+qJevXpQKPgDlKhK0OcCXz1iOv7fekDt49x4HEylVKBXs2Bnh0EOxsTuFhqNBvXq1YPBYLDa15SorJRKJVQqFVuAiaoSIQNndxQeE1UBTOxskCQJarUaanUVmQJFRERUSkZZYOfJKwCAzg1rQangH57ugIkdERGRmxECyBMaGGVh3hTeYJShM8pQSBK81UrkG4wYtuxvANxSzJ1wsA8REZEbEUJgwsmX8MC/C7H/fIa5PP7wJUTFxWPEclMyp5AkNA8NRPPQQG4p5kaYnhORyxkwYACuXbuGGjVqODsUoionTy/jhiEAAJCrL35soLdaiZ/Hd6ussKiSMLEjIpezZMkSZ4dAVGX5aJT4otks5MoaNL9jn7m8X4tgHJnVj61zbo6JHRERuSVZFsgzmFY3KDp+LN9ghFEWUCkU0KhMI5KEEMjVm+r6qJVWM9h1BhkFS1AWV1dnkGGQZSgVErxUhbs4aHUGAIC3SgmFovR19UYZ+iJj4wrk6owQEPBSKc0TH/RGGfk6I3SyCj4KncWECJVSARXXq3N7/ISJqNJ8/fXXqFu3bomPmJgYZ4dKbiA9Kx9RcfFo9fovFuVvbUpGVFw8Fm09YS7LzDMgKi4eUXHxMMjWuzB88Nt/5mODLMx1M/MM5vJFW08gKi4eb21Ktri21eu/ICouHulZ+eayFX+eRlRcPF7Z8K9F3Q6zf0NUXDzOXtOay1b/fQ5RcfGY+M0Bi7o95m9FVFw8jqZlmsu+25+CO2f9gTfOPnu7Lw25MbbYEVGl0Wq1SElJcXYYRERuSxLCszaIy8zMRFBQEDIyMhAYGOjscIg8ytdff40pU6aUWC8kJAR79+61+75aPdB8sek4eQzgyyUoPZbOIGPFn6cBAE92aQDjzda3MnXF6nKA2WGm+065AI1vQPF14UJdsfk5OLuhHTQKAxoOPgyFyrecX1VyttLkLmyxI6JKM3ToUAwdOtTZYVAFy9MbIQsBTZExXUZZIN9ghAQJPhqlVV21UgF1GereOo7OIMuY8/NRAMCwTvVtrs1WNJEqIEkSfFHQVWqdCBUkgOa6Nu6rUSmgsTHCqbx1i77foop+bYrWVWqU0CgMVufIM3CMHREROdSI5X8jKi4e8Ycvmcv2n7uOqLh49P/gD4u6z3+VhKi4eHy3v7CL/mhaJqLi4tFj/laLuhO/OYCouHis/vucuezsNS2i4uLRYfZvAAClQsLD7eri4XZ1S7+Twuww00N7tXTXEbkQttgRUaU4duwYDAYDVCoVmjZt6uxwyEHy9EY8uHgnAGDjmM4WXYXO4KVSYsHg1o65mcYPuOtZIO1fQM3uTKoaOMaOiCpF3bp1kZKSgvDwcFy4cMGh9+YYO+fR6kyzSYHCbamc2RVbLroc079qX6BguRNDPqDUFD6vAmSDFie/aQEAHGPnJjjGjoiIKlRBkqVUSPi/Z9oDKBy7ZqvVTqmwPS6tvHUVxdS1mz4PWPs/QOMLPLgUUHtbnld5lf3eRE7AxI6IiEpt8JJdOHghA8ufjEGvZsHODqdshACW9QHSDpmeD/rEufEQOQAnTxARkWfSawuTupCWHEdHboEtdkREVKI8vRFPfL4bALDq2Q745rlO5nF0buGpLVVqHB1RcZjYERG5oNIsVFveRW0NRhm6EurKQiDp7HUAgCxE+ScqlJUQppa2ohSqwrFwRc9r/Arr6PMAYbS8TlfkPkzqyE0wsSMickHRb/6KXL0R26f0REQNUxfhl7vO4s1NRzCwTRg+eLytuW7Xd7fiWo4Ov7x0N5oEm3ZHWJ90AdM3HELfqGB8Nrxw790+C7ch5UYuvh/bBa0jqgEANh1MxYS1B9C1US189WwHc90HPt6B/9KzsXpkR9zVoDqWDIsGAOe10gkBLO8HnN9tWX7Xs8CABaZj7VVgXkPT8esZhXU2jgKOfF85cRI5ERM7IiIqkUqpQL8WIc4NQq+1TuocIaIjx9eR2+A6dkRUKbiOXem4WldsqXdxqAhF9m7FpBOmJUqAsnfFFii6bp0b4Dp27ofr2BERVQEFCVnBRvL5BiOmbzgEjVKBNwa2sNrTtLg9Q8u7v6iqyELCJdUtlk4LoJTtBAo1oNKYjmUZMOSaji0SslxAyEVe4yaNr2W9ApJku/zW9emI3BQTOyKqFHv27IHRaIRS6dwtp1xJwY4NSa/2QU1/LxhlgYTDl5CVb0Dc/VFOjq6UPusJXD5aumu6TwN6TjcdXzkGLO4I+NYEppwqrPPVI8DZHY6Lk8jNMbEjokoRGhrq7BBcnq9Ghee634HEY5fh4+Q9V10ax8QRFYtj7IioyquqY+xu7YoFAJ1BhlopmZ+7LJ3W1EoHACO33iys4K7YAm42Js7ROMbO/XCMHRFRKRS3kXy+wQijLKBSKKBRmcagCSGQqy993aLj6N7cdARqpQLT+jezGkdXcK3rE0W6XoXtcW2loVAUMzbOp3z3JfIwTOyIyOyNN97AZ599VmK97t27Y9WqVRZlvXr1wvHjx4u9JiUlBc+PfRFRLe7E08+OKnesRWn15bs+5UYuus3dCh+1Eslv3mMun/n9YazZcx6TYpvghV6NAQDXcnSIfutXAMCZdwaY677z81Gs+PMMxvZsiMn9mgEAcvVG8zi6I7P6wVejglEWWPP3eRhkgcn9mpYvcGdSeQMjNhUeE5FLYGJHRGYZGRlISUkpsd6VK1esyi5dulTitZ8s+giqOs0wT+fYxK4qKRhHt/vUtao9jk6hBCK7OTsKIroFEzsiMgsKCkJ4eHiJ9WrVqmVVFhwcjIyMDBu1TSOvLmUDklcAqt37ZnnDLFZMKOBThp9q4dV8cGRWP6vyNwa2QNz9UVApCrtHa/hpbNad1r8ZJvdralHXR6001y2axI3v3QTq2Cowjq44Rj2QtNJ0HP0koKwigxqJPAAnTxB5sIpcNLioopMbkkZW3OQGH5VpTH2e3ghZCIu13GyNo9MbZXy+/TQ0KgWGd6pvc903j6PLsaOOFpjfyHT8ysXyj68jh+LkCffDyRNE5LJ81RU/a/XF1fuRcOQS5jzUEkPa1wMAnLicjdj3/kANPw32vdYXgCmxe3eLaQLAkPYRTOwA4P2Wpv1WiahKYmJHRB7LV6PCwDZhSLmeW7XHuzkL15MjcjlM7IioysvVGdFn4TYAwK8Tu+OjIW3NXbEFGtX2tzk27t2HW8FLpai6493KS59r2t0BAP63HphwyP5ruZ4ckcthYkdEVZ6AQMqNXPOxj9r6R5tCIdncU9XbU1vqhABko2nx34Itu4TM8XJEVRwTOyKq8rxUSnw/tov5mEogBLC8H9DxeaDZ/cCjK03lSi+nhkVE5cfEjoiqPKVCQuuIas4Oo+rQa4HzuwGjDmgcC7R40NkREZGDcAoYEZGnurjf2REQkYOxxY6IKlWe3ggIAS+VEkqFaeC9wShDZ5ShkCSLMW8F69FplAqobk6EMMoC+QYjJEjw0SjN13+77wK8VErc1yrUXJeIyNM4/aff4sWLERkZCW9vb0RHR2P79u23rZ+fn48ZM2agfv368PLyQsOGDbF8+fJKipaIymvI0p2IiovHzpOF25L98d9lRMXFY/CSXRZ1n/h8N6Li4vHb0XRz2d+nryEqLh4PfLzDXKYzypj67SFMWHsAOqNc8W+CiMhFObXFbu3atZgwYQIWL16MLl26YMmSJejfvz+OHDmCevXq2bxm8ODBuHTpEpYtW4ZGjRohPT0dBoOhkiMncg9fffUV8vPz4eVVtQfN+2pU6NqoFvL0Rq5HR0QezalbinXo0AHt2rXDJ598Yi5r3rw5Bg0ahDlz5ljV37JlCx5//HGcOnUKNWrUKNNrcksxospXdEux/SON8FY5tiu2oK5Hr0dXGrocYHaY6ZhbgrkdbinmfkqTuzitK1an0yEpKQmxsbEW5bGxsdi5c6fNa3744QfExMRg7ty5CA8PR5MmTTBp0iTk5uZWRshEVZoQpoSoKK3OAK3OAFku/PtOb5Sh1RlMY+GKyNUZodUZYCxD3Ty9EbiyE7hq6mr11ajMSR0AqJQK+GpUVmvKeauV8NWoLMbMKW+uR1c0qSuo6xFJnRCmxKzoQy7y9TfqTWX6PMvrLK7RVm7MRFRpnNYVe+XKFRiNRgQHB1uUBwcHIy0tzeY1p06dwo4dO+Dt7Y2NGzfiypUrGDNmDK5du1bsOLv8/Hzk5+ebn2dmZjruTRBVEUIIPPLpLjSo6YcFg1ubyzvM/g1ZeQZsndQDkbVMrTar/z6HuO8P496WIVj8RLS5bo/5W3EpMx8/jeuKFmFBAIDv9qdg8vqD6Nm0NlY81d5ct/8Hf+DMVS3Wj+6EmAY1IAsBQIaky7h5TGVSsP7c+d2W5SM2AZHdTMdJK4HNk4CogcDgLwvrFLTQEZFbc/rkiVv/whZCFPtXtyzLkCQJq1atQvv27XHvvfdi4cKFWLlyZbGtdnPmzEFQUJD5ERER4fD3QOTqcvVGJJ29jm/3XYBWVzgmNfvMP8g9lYS//vyjQl/fV6MC/BpCqKtzDFx5FKw/5yjc65XI7Titxa5WrVpQKpVWrXPp6elWrXgFQkNDER4ejqCgIHNZ8+bNIYTAhQsX0LhxY6trpk+fjokTJ5qfZ2ZmMrkjj6NSKDC9fzPoDDJUisK/53S/foj0lBRM3hmOIQMvAACGtK+HR6LrQnHLH1iJk3pCQFjs7DCobTgGtAq1qvvz+Lut6sI7GPAO8Yzu0sow6QSguZmUqbwLy6OfBNoMBaRbEuhXLlrfg3u9ErkdpyV2Go0G0dHRSEhIwIMPFq56npCQgIEDB9q8pkuXLli3bh2ys7Ph7+8PADh+/DgUCgXq1q1r8xovL68qP+OPqLw0KgWe697QqtzWr3S1UgG1jXXgbh3TVtq6kJzeQVD1CGFqpStQdGycxtf2pAel2vS4FSdIEHkEpy53MnHiRAwbNgwxMTHo1KkTli5dinPnzmH06NEATK1tKSkp+PJL0ziRoUOH4s0338RTTz2FN954A1euXMHkyZPx9NNPw8fHx5lvhYjIsYobT0dEdBtOTewee+wxXL16FbNmzUJqairuvPNObN68GfXr1wcApKam4ty5c+b6/v7+SEhIwIsvvoiYmBjUrFkTgwcPxltvveWst0BUJciyQHqWaRJRnQAvKBTsfqsSHv8a+PN9YOdHluUcG0dExXDqOnbOwHXsyBNpdQZExcUDAI7M6meazACgbt26SElJQXh4OC5cuFBxr19kHbvkMYCvjZ5CKoYux7qMY+PoNriOnfspTe7CvWKJPISKrXSV69bxcfZQ+QAFk1sMOkDWc2wcEZUKEzsiD+CrUeHE7HudHYbnKOv4uDF/AXWam44TZwM73gPuehboNxtQcRIYEZWsTIldTk4O3nnnHfz2229IT0+HLFtuun3q1CmHBEdEVCU5Yr055c1ELu1fQKkpf0xE5BHKlNg9++yz2LZtG4YNG4bQ0FCuS0VEVJTKx9T6ptMCtZvYv9SLqsjs/m4vA13GcTwdEZVKmRK7n3/+GT/99BO6dOni6HiIqALkG4x4a1MyAODV+5pbLhxM9rndmLmiyZchH5ANQI2GgKocLW0qDQC21BFR6ZQpsatevTpq1Kjh6FiIqIIYZYH/++ssAGD6vc3M5RU5E9atlDRmbvJJwK+W6Tj+FWDP50D3aUDP6ZUXIxERyrhX7Jtvvom4uDhotaWc8UVETqFSKDC+d2OM793YYksxspOj92glIqogZWqxW7BgAU6ePIng4GA0aNAAarXlolT79u1zSHBE5BgalQIv9W3i7DDcQ9E9WgsUXSy432yg7yxAwcX6iKjylSmxGzRokIPDICKqIorbo7WAygsAlyYhIucoU2I3c+ZMR8dBRBVICIHMPAMAINBbZZ7J/sYbbyAjIwNBQUH8f01E5AbKtUBxUlISkpOTIUkSoqKi0LZtW0fFRUQOlKs3ovUbvwCw3FLss88+M28pxsSOiKjqK1Nil56ejscffxyJiYmoVq0ahBDIyMhAz549sWbNGtSuXdvRcRIRERFRCco0Pe7FF19EZmYmDh8+jGvXruH69ev4999/kZmZiXHjxjk6RiIqJx+1Ev+93R//vd0fPmquYUdE5K7K1GK3ZcsW/Prrr2jevLm5LCoqCosWLUJsbKzDgiMix5AkCWoldy8oM5U3MGJT4TERkYsqU2Iny7LVEicAoFarrfaNJSLnEwLINdgoL/KvVl9xr1+R964UCiUQ2c3ZURARlahMiV2vXr0wfvx4rF69GmFhYQCAlJQUvPTSS+jdu7dDAySi8hECeHCtjP3/HTMVBDQ17116KRvmf5svdlKARETkMGUaY/fxxx8jKysLDRo0QMOGDdGoUSNERkYiKysLH330kaNjJKJyyDUA+1NlSDmnIOWcAoTzWtVjQgGfcs3FdxKjHtj5EfD3Z6ZjIiIXVaYfsREREdi3bx8SEhJw9OhRCCEQFRWFPn36ODo+InIESQHhdweGtwJejlXg5monaDwPuJgBBPsDyWMqPgwfFSBVxaF+Rh3wy6um4zZDASV3lSAi11Suv5379u2Lvn37OioWIqookgIIbI7p9wK+RXISqci/vsxViqfxA6IGAlmXLLcPIyJyMXYndh9++CFGjRoFb29vfPjhh7etyyVPiKqG7t2748qVK6hVq5azQ3F9Dy41bRdWJZscichTSEIIUXI1IDIyEnv37kXNmjURGRlZ/A0lCadOnXJYgI6WmZmJoKAgZGRkIDAw0NnhEFU4rR5ovkgAEDg4Ggj0ksxbirkVIQC91nRcdC9Xfa5pXKHSC1De/FvWaACM+SXfU6cF5jcyHb9y8fZ7xBK5CNmgxclvWgAAGg4+DIWKrcxVXWlyF7tb7E6fPm3zmIiqAGGEdCkerV+33FLMbQgBLO8HnN8N+NYEphT54/KrR4CzO4BHVwItHjSVHf0RWPekMyIlIqpQZZoVO2vWLGi1Wqvy3NxczJo1q9xBERGVil5rSuoqSkRHjq0joirB7q7YopRKJVJTU1GnTh2L8qtXr6JOnTowGo0OC9DR2BVLnsbcFSsM2P0MEBygcr+uWF0OMNu0piYmnwT8iowZLE9XbAG1L8fWUZXBrlj3UyFdsUUJIWz+Yvjnn39Qo0aNstySiCqSJAGSGoE+lvlJr169cOnSJQQHB+P33393XnyOpPa5/XPAlOAp3aw7mogIpUzsqlevDkkyDbxu0qSJRXJnNBqRnZ2N0aNHOzxIIio/7YF1aNcyDtnZWeay1NRUyLKMjIwMJ0ZGRESOUqrE7v3334cQAk8//TTeeOMNBAUFmc9pNBo0aNAAnTp1cniQRFROQsaNTdNw5YrtGesBAQGVHBAREVWEUiV2I0aMgMFg2km8T58+qFu3boUERUQOJmSIPFOrnEKhQGhoqPlUQEAA3nzzTWdFRkREDlTqQSYqlQpjxoxBcnJyRcRDRBVBkgCFEgAQGhqKCxcuODkgIiKqCGUaPdyhQwfs378f9evXd3Q8RFQRJCWC7nkTk2OyUSPI39nREBFRBSlTYjdmzBi8/PLLuHDhAqKjo+HnZ7kae6tWrRwSHBE5jn/nURg3hnvCEhG5szIldo899hgAyz1hJUkyL4PiyuvYEREREbmrMiV23FLMPQkhIIy5zg6DHEw2AJA1wKVf0GomcODVbvDVKJ0dlmMZcs3b6MiGXEDBxYTJc8kG652hyHOUKbHj2Dr3I4TAhYRHkXclydmhUBE/787BB+tvICdXtiifMqQ67u9SOFbu1EU9RsxOs3kPAQlX5WAIfTZqP/gKdi9/EfVqyDbrVllCIKiOaXX9jI0x3CWCiDxWmZdeP3nyJN5//30kJydDkiQ0b94c48ePR8OGDR0ZH1USYcxlUueCPlh/A6cu6q3Kc3WWOwEaZYFL1283BCIFAHBp1VSM2qrGlnnhjgzT+SQJGdW8nR0FkUvxrh0DSWlj5xVya2VK7OLj4/HAAw+gTZs26NKlC4QQ2LlzJ1q0aIEff/wRffv2dXScVIkiH9rDvQVdRP6UxgAu3lx7LsRcXv/ut9Bw8GPm54ZjxxH+4QCb9xACuJRjasFqGOKPN994DQ0ffrBC4yYi55OUPu63LzSVqEyJ3bRp0/DSSy/hnXfesSqfOnUqE7sqTqHyZWLnMkw/lEtae655iza4cCHF5jmtHmi+2HS8311nxcpG4OTvgMobqN/ZvGYfEZGnUZRcxVpycjKeeeYZq/Knn34aR44cKXdQRORgQgayT2LZjpPQGdxsfB0AGPKAVY8AX9xnOiYi8lBlSuxq166NAwcOWJUfOHAAderUKW9MRORoQoaUdRQL4o/CILtBYqfTAos6mB46LaDxA2o3AyI6Amq2NhOR5ypTV+zIkSMxatQonDp1Cp07d4YkSdixYwfeffddvPzyy46OkchjhYSEWPxbZpIE4VMXDzYDlG6xFIgALh8tPAaAkVsBtQ9nxBKRRytTYvfaa68hICAACxYswPTp0wEAYWFheP311y0WLSai8tmzZw9y9UaolYWN60ZZIN9ghAQJPkXWo8vTGyELAbVSYa4vywJandGU+1RrjdkPAV5lngvv4jRsqSMiKlNXrCRJeOmll3DhwgVkZGQgIyMDFy5cwPjx4zkDh8hBhBB45NNdiIqLx3f7CydGHE3LRFRcPHrM32pRf+I3BxAVF4/Vf58zl529pkXMm/FA+m+VFjcRETlPuf52T09Px7FjxyBJEpo2bYratWs7Ki4ij5dvkBHorTIfExERlUQSQoiSq1nKzMzE2LFjsXr1asg3B2IrlUo89thjWLRoEYKCghweqKNkZmYiKCgIGRkZCAwMdHY4LkM2aHHymxYAgIaDD3O5Exei1RksuldL2xV7LdeI6KUAFCoku8tyJ7ocYHaY6fiVi6bJE0REbqo0uUuZumKfffZZ7N69Gz/99BNu3LiBjIwMbNq0CXv37sXIkSPLFDQRWXvuuecw4okheGHM8+YypUKCr0ZlkdQBgLdaCV+NymI8nuJmXSjcYGCdEKaETpdjmglLRERWyvTT/qeffkJ8fDy6du1qLuvXrx8+++wz3HPPPQ4LjsjT/fTTT0hJSUF4uJttAVZaQgDL+wHndzs7EiIil1amFruaNWva7G4NCgpC9erVyx0UEQG5OiMuZ+cDMC/o4bn0WttJHdetIyKyUKYWu1dffRUTJ07El19+idDQUABAWloaJk+ejNdee82hARJ5KgEBo9HjUzoThRroPs103HE0oNSYjtW+XLeOiKiIMiV2n3zyCU6cOIH69eujXr16AIBz587By8sLly9fxpIlS8x19+3b55hIiTyMl0qJmv4apGcX7BjroXQ5pn+7TwUUZepkICLyGGVK7AYNGuTgMIjoVkqFZDERwmO93xLQXgXG/AXUae7saIiIXFqZEruZM2c6Og4iuoUQhWPrBACtvmz3Ket1TqHPBb56xHT8v/WmLcKIiMhu5VoDISkpCcnJyZAkCVFRUWjbtq2j4iLyaEIAD30j41KWaZ3IS9lA88VODqoyCBk4u6PwGAAmHDL9q2KSR0RUkjIldunp6Xj88ceRmJiIatWqQQiBjIwM9OzZE2vWrOEOFETllGsA9l2UAVnnsHvGhAI+rrqcnRCmma+21qfj4sNERHYr04/5F198EZmZmTh8+DCaNzeNeTly5AhGjBiBcePGYfXq1Q4NksgjSRIgmcbY1fEDkseU73Y+KhedQMo16oiIHKZMid2WLVvw66+/mpM6AIiKisKiRYsQGxvrsOCIPJqkhG/MCDzU4Dpq16zuHluB2WJrjTquT0dEVCZlSuxkWYZabf1bRq1Wm/eOJaLyqz5wHha7y/6u9ph0AtD4cn06IqIyKtNaCr169cL48eNx8eJFc1lKSgpeeukl9O7d22HBEXmqPL0RuLwduLzddOwOCvZ6FUUWXTbkW46r0/iaxtQxqSMiKpMyJXYff/wxsrKy0KBBAzRs2BCNGjVCZGQksrKy8NFHHzk6RiKPIwsByZAJyZAJWbjB7hMF4+hmh5nWpCsQ/wowv5Hz4iIicjNl6oqNiIjAvn37kJCQgKNHj0IIgaioKPTp08fR8RF5JC+VEqJGe/NxlVd0HJ0uB/CrZV2H4+qIiMpNEqJ0zQEGgwHe3t44cOAA7rzzzoqKq8JkZmYiKCgIGRkZCAwMdHY4LkM2aHHymxYAgIaDD0Oh4i9YZ9LqTevWXZzdDD65FxEWFoajR486O6zy0+VYjp8z5AOywXTMcXVERDaVJncpdYudSqVC/fr1YTS6ybgfIhcm8rORlZWF7OxsZ4fiGLeuSafyAuDllFCIiNxRmcbYvfrqq5g+fTquXbvm6HiICIDBKEP792cwZqQ4OxQiIqpCyjTG7sMPP8SJEycQFhaG+vXrw8/P8q/wffv2OSQ4Ik+lM8q4sWWW+XlAQIATo3EAfR6wcZTp+MGlgNrbufEQEbmpMiV2gwYNgiRJKOXwPCKyk0KSIPT55udvvvmmE6NxAGEEjnxvOh70iXNjISJyY6VK7LRaLSZPnozvvvsOer0evXv3xkcffYRatWzMcCOiMvNWKwGFBgAQFh6ORx55xMkRERFRVVCqMXYzZ87EypUrMWDAAAwZMgS//vornn/++YqKjYiIiIhKoVQtdhs2bMCyZcvw+OOPAwCeeOIJdOnSBUajEUqlG6y1RURERFSFlarF7vz58+jWrZv5efv27aFSqSy2FiOi8svTGwFZB8ByBy4iIqLbKVWLndFohEajsbyBSgWDweDQoIg8nSwEasQ+D2HQYf7/Ojo7HCIiqiJKldgJIfDkk0/Cy6twQdG8vDyMHj3aYsmTDRs2OC5CIg+kUSrgc5dp/Op999VxcjRERFRVlKordsSIEahTpw6CgoLMj//9738ICwuzKCuNxYsXIzIyEt7e3oiOjsb27dvtuu7PP/+ESqVCmzZtSvV6RFWBSqkAvEMA7xDTMRERkR1K1WK3YsUKh7742rVrMWHCBCxevBhdunTBkiVL0L9/fxw5cgT16tUr9rqMjAwMHz4cvXv3xqVLlxwaExEREVFV5dSmgIULF+KZZ57Bs88+i+bNm+P9999HREQEPvnk9guYPvfccxg6dCg6depUSZESVS6jLKA7+Rvyj2/B3r17nR0OERFVEU5L7HQ6HZKSkhAbG2tRHhsbi507dxZ73YoVK3Dy5EnMnDnTrtfJz89HZmamxYPI1eUbjLi84jFcWtwfjz8yyNnhEBFRFeG0xO7KlSswGo0IDg62KA8ODkZaWprNa/777z9MmzYNq1atgkplXy/ynDlzLMb/RURElDt2ooomQQIkydlhEBFRFeP0UdnSLb+8hBBWZYBpqZWhQ4fijTfeQJMmTey+//Tp05GRkWF+nD9/vtwxE1U0H40SUJhmn7tFficpgaiBpofExcyJiCpKqSZPOFKtWrWgVCqtWufS09OtWvEAICsrC3v37sX+/fvxwgsvAABkWYYQAiqVCr/88gt69epldZ2Xl5fF8ixEVImEAPRa0/HgL50bCxGRB3Bai51Go0F0dDQSEhIsyhMSEtC5c2er+oGBgTh06BAOHDhgfowePRpNmzbFgQMH0KFDh8oKnYjspb0KzA4zPYiIqMI5rcUOACZOnIhhw4YhJiYGnTp1wtKlS3Hu3DmMHj0agKkbNSUlBV9++SUUCgXuvPNOi+vr1KkDb29vq3Kiqo5bihERUVk4NbF77LHHcPXqVcyaNQupqam48847sXnzZtSvXx8AkJqainPnzjkzRCKnkIUAhOzsMMrPtybwCveSJiKqLJIQntUekJmZiaCgIGRkZCAwMNDZ4bgM2aDFyW9aAAAaDj4MhcrXyRF5tsw8GTWCw2HMTENYWDhSUi5UbgCyDBhyTceawu0Coc+1L+E06oDf3zId95sNqDjOlYiorEqTuzi1xY6IbFMpFYWzR50xK/bKMWBxR1OL25RTheVfPQKc3VG6e/WdBYCJHRFRZXD6cidE5MYiOgJqtv4SEVUWttgRuSCjLBD68i4AArufr1b5AdRqants3P/Wl27sn9rXTRbiIyKqGpjYEbmgfIMRypyDAACNT7/Ke2GDDti+wHTc7WVApbE8r/apvFiIiKjU2BVL5GLWrVuHzu1aImPvJgilj2l7scoi64Ft75gesr7yXpeIiByCiR2Ri4mLi8N/x49Cn5kL1Oll2l6MiIjIDkzsiFxMVlYWACBnzxdOjoSIiKoajrEjKgedQYZBlqFUSPBSFbasaXUGAIC3SgmFwtSVqjfK0BtlKCQJ3urb1wUAZVB4ZbwFIiJyI0zsiMph6R8nMf+X47gjbSuO/7rGXH4pMw9CALUDvKC8maxpdUbkBdXDyDc/xQePtzXXDW3VDTkp/6FWgBdUCgmpqammE8Y8BOTshUK0BcDuWCIiKhkTOyIH0GlzkJKSYlWelm35XKMOsqpjyMmAMfsqLt1SV9L4oHE1HbzUHDFBRET2YWJHVA6j7m6Ip7tG4uMPknFmZ2HXacE+fbfOZ23dpjHefbiVRVmP1g1xQGSa6woA6foAVOv/Or56thMkrgNHRER2YmJHVAZCCJxNuwoIgRr+XpgyeRKmTJ5Upnv9tOlHi+daPdB8semYOR0REZUGEzuiMsjVG9GoSTMYs68iLDwcKRcuODskIiIiLndCRERE5C6Y2BGVga9GhZAgbwDW4+iIiIichYkdkacTAtBpnR0FERE5AMfYEXkyIYDl/YC8DGDsbgASULvZzZNsiyQiqmqY2BGVQb7BiMw8g7PDKD+9Fji/23SsywE0fjcTPCIiqoqY2BGVgVEW0OabEjtRQl2XpvIGRmwCDHmmYyIiqtKY2BGVgUqhgL+3ChnZVbzDUqEEIrs5OwoiInIQTp4gKgONSgF/L/5dREREroW/mYg8mVEPJK00HUc/CSjVzoyGiIjKiYkdURkIIbB2/bfQ6XQI8PVxdjhlZ9QBm29uhdZmKBM7IqIqjokdURnk6o144rsrAIAjszo5ORo7CGGaAXsrrl9HRORWmNiRR1i3bh3i4uKQlZVlUT5kyBDMmzfPoqxZs2bIzs6+7f0EAH3HZ+DbqL2jQ3W8grXqznMZEyIid8fEjjxCXFwcjh49alV+/fp1q7KLFy9aJYC2/N/DzfHQw/3go1Y6JMYKU3StuuJEdATUvpUTDxERVRgmduQRChI1hUKB0NBQc3n16tWt6oaFhZXYYgcA1QL84aupYv+FJp0ANDYSOLUvIFXphVuIiAhM7KiUhBDI1RvhpVJCqTAlAgajDJ1RhkKS4F2k9SpPb4QsBDRKBVRK08o6Rlkg32CEBAk+mvLVVSsVUN+sK8sCeQYjAFgkWwV1C4SGhuLcufM26+YbjDDKAgf/PQKNSmHxfour6zKEAGQjoLwZo9EAGPMB6eaKRr41Tf9qfE27SxARkVviOnZkNyEEHvl0F6Li4rHz5BVz+R//XUZUXDwGL9llUf+Jz3cjKi4evx1NN5f9ffoaouLi8cDHOyzqPvvFXkTFxWPTwVRz2b8pGYiKi0efhdss6r64ej+i4uKxPumCuezE5WxExcWj67tbLepO/fYgouLiodUZzWUpN3IRFReP6Dd/tag78/vDiIqLx9I/TprLruXoEBUXj6i4eIu6b246glav/4J58UehM8i2v2CVpWAM3dEfC8uO/gjMDgO+esSUyE05ZXowqSMicmtM7Mhu+QbZnCDl6Z2czDiZWqmAQRbYfeoa1Eond2EWjKH78wPTfq9EROSxJCGEC/UnVbzMzEwEBQUhIyMDgYGBzg7HZcgGLU5+0wIA0HDwYShUxQ+k1+oMVa4rdvwLY3Dj+nXUqFEDn3zy6W27YlUKhd1dsT5qJSQHj03T6oHmi03HyWMA35KWltPlmFrnAOCVi6ZWuaJdseoqvM4eERGVKnfhGDsqtVsnDKiKJGNFeduYLapUSDYnHJS3rqKEup8tXWpRbquul8r6vpJk+7626lao27XE2VqLTqkqHG9HREQegz/5yWGKWyuuqLi4OIwaNcr8PDU1FXfddZdd9//tt9/QtGlT8/Ovv/4aU6ZMKfG6kJAQ7N27167XcFkFLXJERES3wcSO7JanN2LE8r8BAF883d6q5ay4teKKunUZEaPRiJSUFLte32AwWDzXarV2X+sRuBYdEZHHY2JHdpOFwO7T18zHtypurbii/P39LZ4rlUqEh4fb9foqleW3q6+vr13XhoSE2HV/V+Il8vBezihovgXw8FLT2LmScC06IiKPx8SO7KZRKrBoaDvz8a2aNGmCoKAgBAcH4/fff7frnqGhobhw4ULJFW0YOnQohg4dWqZrXZ0CRgzQfw8cBSA+4TIlRERkFyZ2VKw33ngDn332WYn1unfvjlWrVtmdzFHJ9NDgNZ/5eO1uQKPUODscIiKqIpjYUbEyMjLsGsN25cqVEutQ6RgkNb70HonpMYDGxbeiJSIi18HEjooVFBRkNYZNbzQtTKwu0hVbq1atSo3L7clGdNTvvHncGQAzOyIisg8TOyrWzJkzMXPmTPNzrc5g3lrryKx+Ntd3Iwcw5GFt9n0AAK3hIuDF8XVERGQfbilGFrq9cB5KtR/q1q1rdU6ChAY1fdGgpi8kcPYlERGRq2GTC9nNR6NE4uSezg6DiIiIisHEjqiMhAByDSXXKy2tHuAyw0REVBZM7IjKQAjg4XVAUqrj7+0jTMvXERERlRbH2JHd8vRGPLXibzy14m/k6Y3ODsepcg0Vk9Tdyod/ehERUSnw1wbZTRYCW49dNh+TSdJIwFftwBvqAMwzHXKHMCIiKg0mdmQ3tVKBeY+0Mh+Tia/awYkdc2YiIiojJnZkN7VSgUdjIpwdhvsSAtBrAZ3W2ZEQEVEVxcSOyFVorwLzGjo7CiIiqsKY2JHdjLLA0bRMAECzkEAoFRwAVqEiOgJqLnxCRET2Y2JHFuaPqYWanZfAxzfI6ly+wYgBH+4AwC3FKoRvTeCVi4XP1b6cPUFERKXC38xkoUOUDxrG9oVCZd1SJEFCcKCX+Zhuo2C83O2ofACFAjDkA5snAUoN0G82oPKqnBiJiMjtMLEju/lolNj9Sh9nh+H6hACW9wPO7759vTF/AXWaA7IBOLgOMOQCfWcBYGJHRERlwzUriBxNry05qStK4wd0Gc8xdUREVG5ssSMLu4/k4sQvCfDxDUKPHj2cHU7VN+kEoCkmWVP5FB53exnoMY1j6oiIqFyY2JGFSYuv4NLbgxAeHo4LFy5YnMvTGzHxmwMAgIWD28BbrXRChFWMxtfUIlcSlabiYyEiIrfHrliymywENh9Kw+ZDadxSjIiIyAWxxY7splYqMGtgC/MxERERuRYmdmQ3tVKB4Z0aODsM16fyMc14LTgmIiKqJEzsiBxJCNOyJTUactwcERFVOvankd1kWeD0lRycvpIDWeYYOysF69fNDgO2L3B2NERE5IGY2JHd8gxG9JyfiJ7zE5FnMDo7HNdj1AEhLW8e5zs3FiIi8kjsiqVSCfDmt0yxVF7AgAWm3SMUamdHQ0REHoi/palEOoMMgyxDqZBw6PV+zg7HdQgBH2gBHYCiPdP2rFtHRERUAdgVS2ZCADeM/gBgsU7dij9PIyouHq9s+NdZobkeIfBtVj8cvREG33lhpnF1s8OAxDlAzhXTF5OIiKiSscWOzPKEBuHPfwkjlPj95e7ODse16bWIMdrYD3bnR8D5PcDTWyo/JiIi8nhM7MjMR6HDllbjETroIHy9C7sTn+oSiWGd6kOp4D6mtmgnnICvb5H9YNW+3POViIicgokdWfHVKKEoksRpVApo2GsPyEbAkGc61msLy9V27gdLRERUwZjYEdatW4e4uNdw/dJ5VAtQYHP7s7ijUXNnh+V6zu4EvrgPAOBbQlUiIiJncHozzOLFixEZGQlvb29ER0dj+/btxdbdsGED+vbti9q1ayMwMBCdOnVCfHx8JUbrnuLi4nD06DFcum6E1isMQya+jXnzucCuPfYoO5pa7IiIiFyAUxO7tWvXYsKECZgxYwb279+Pbt26oX///jh37pzN+n/88Qf69u2LzZs3IykpCT179sT999+P/fv3V3Lk7iUrKwsAoJCAi6nZ2PfnNoTVrevkqFyEUQ/8/ZnpUfcu4JWLwCsXoZ18Ec2qXcQjAVs4no6IiFyGJITz1mXo0KED2rVrh08++cRc1rx5cwwaNAhz5syx6x4tWrTAY489hri4OLvqZ2ZmIigoCBkZGQgMDCxT3O6mbt26SElJQXB1JUa++hyqtxiDF3o3h0bl9AZd59PlmJYxAUxJ3c2xdFo90HyxqTh5DODL9YiJiKiClCZ3cdoYO51Oh6SkJEybNs2iPDY2Fjt37rTrHrIsIysrCzVq1Ci2Tn5+PvLzC7d3yszMLFvAHmJ4yGY07D0PCiZ1JpISiBpYeExEROTCnJbYXblyBUajEcHBwRblwcHBSEtLs+seCxYsQE5ODgYPHlxsnTlz5uCNN94oV6zkwdTewOAvnR0FERGRXZzeLCPdMj5JCGFVZsvq1avx+uuvY+3atahTp06x9aZPn46MjAzz4/z58+WO2Z1lG32QmauHE3voiYiIqIyc1mJXq1YtKJVKq9a59PR0q1a8W61duxbPPPMM1q1bhz59+ty2rpeXF7y8vModrycQkPDg4XnA4R04MqsffDVcDQdCmNas4zp1RERUBTitxU6j0SA6OhoJCQkW5QkJCejcuXOx161evRpPPvkkvv76awwYMKCiw/QI3bt3R9++vRHTzMfZobgWIYAl3UyTJ14PMk2kICIicmFObZKZOHEihg0bhpiYGHTq1AlLly7FuXPnMHr0aACmbtSUlBR8+aVpjNPq1asxfPhwfPDBB+jYsaO5tc/HxwdBQUFOex9V3apVqyAbtDixtgWMGIc7HvkHGjUnCkCvBdIOmY5DWnK9OiIicnlOTewee+wxXL16FbNmzUJqairuvPNObN68GfXr1wcApKamWqxpt2TJEhgMBowdOxZjx441l48YMQIrV66s7PDdjiQBKshQKxV2jXP0KE9xvToiInJ9Th9ENWbMGIwZM8bmuVuTtcTExIoPyMMIAeQaANkA5ApTV6xWDyg4dwLQF24dpjVIFgMXtHqnRERERHRbTk/syHmEAB5eBySlAoAvIP4Fso4B888CAU0ByemTpp3KRwBHbx63+wzIZYMdERG5OCZ2HizXYErqLi3qBTnrEhT+dRDy8CQAgPBv7PGJnT1iQgEf/i8iIiIXwV9JBEP6cRgzUlCn+nE8WCsGQY2HYUKsAh6/2okOwDzT4b6RADTWVXxUHHpHRESuw9N/dVMREgTGhK1HwwFvcEsxACgyztBXDYD7wRIRkYvjb28yE5CQK9toliIiIqIqgYkdmV3VB2HD5Z7QG2VuKUZERFQFMbEjCysv3Y+hyw44OwwiIiIqA46xI7Oa6gz8cOdEtHhsHxcoJiIiqoKY2Hk6IQPCAMA0ecJHoXP/pE4I03ZhRWn8Co/1uaavi6QEHl1pKlN6VVp4REREZcXEztMJ2bTtBEyTJ9yeEMDyfsD53YVlvjWBKacKn3/1CHB2hympa/FgpYdIRERUVhxj5+kkCVAoTYfwgAkTeq1lUkdERORG2GLn6SQlgu55E5PaXYPhv/nOjqZyTToBaHyty/+33tSSye5XIiKqYpjYEfw7j8KLo7RI3bjE2aFULo2v5di6Amqfyo+FiIjIAZjYVYJ169YhLi4OWVlZt603YMAALFlimVzFxMQgLS2txNeYO3cuhg4dan5+7Ngx9O7d+7bXCACXsoGQiXsABJX4GkREROTamNhVgri4OBw9erTEeteuXbMqS0tLQ0pKSonXarWWszwNBoNd1wGASEtAmzdrYUOUBj4KnV3XEBERkethYlcJ7rvvPoSHh+O3335DeHh4sfVq1KhhVRYSEmLXa/j6Wo4VU6lUt30toLDFTlJIMMgeMHGCiIjIzTGxqwTz5s0r87V79+4t03VNmzbFhQsXbltHqweaLxKAnI/fnsiF4Vd9mV7LKWytRQfJcjKETgtAACpv88xfGKvQeyQiIiolJnaeTpIApTeCA2WkSlWk1c7WWnQAULsZMLZI2Wc9gctHgRGbgMhuprKklZUWJhERUWXjOnZU9ZRnLbqCWbARHQG1jaVOiIiIqjC22Hk6IQM5p7H8Tz36yEqoFUZnR1Q6FmvR3bJzxsitMHfFFoh+Emgz1JTUufvWaURE5HHYYlcJmjVrhsDAQDRr1szZoVgTMqSso1j460kYoHR2NKVXsBadxs96seGCc4oi70upNpUxqSMiIjfEFrtKkJ2djaysLGRnZzs7FGuSBOFTF4OaGKA0ys6OhoiIiMqBLXaeTlIC1Vrj7UHNoVEYnB0NERERlQMTOyIiIiI3wcSOXJ8QgC4HkNlVTEREdDtM7DydbADS4tHpne3IlTXOjsZawZp1s8OAK8cKy1U+zouJiIjIRTGxI0jCgKx8Fx1fp9cCV08UHgOmWa1dxnMtOiIioltwVqynk5QQtXtg82O5UG1zwe22NH7AlFOmrtiirXTdXgZ6TOOyJUREREUwsfN0kgSo/FC/puQaW4rZ2gNWUhTuGFFA5YLdxkRERE7GxI5cR3F7wNbvCjz1k3NiIiIiqkKY2FWCTz/9FLm5ufDxccEB/0IGtOew+m8dugoFVJITZ56WZw9YIiIiYmJXGe677z5nh1A8IUPKPIy3fwZ+uFMFlaRzdkQmRfeAlTjHh4iIyB5M7DydJEF4h6DfHUYo4YTWOkO+ackVANAVGVtXsM8rERER2Y2JnaeTlED1aCx8VIvUjU5Y8iT+FWDP55X/ukRERG6IiV0lSEpKgk6ng0ajQXR0tLPDcX1cn46IiKhMmNhVgoEDByIlJQVh4eH47/QFZ4djpnXWsnVCANqrpuPYt4G+syzPq325Ph0REVEZMLGrYEIAV3NNx5eygeaLnRuPFWEE0rei10KBZfXV8FZUQran1wLzGpqOX7nIsXREREQOwsSuguUaAL3R2VHchhCQ5HykZwECbCUjIiKqypjYVaI6fkDyGGdHYckoK3HuSlcIOQ+qPyqpb1bjB7yeUTmvRURE5EGY2FUiSQJ81c6O4lYSWoQHQTaocdIVthQjIiKiMmNiR5Xn1n1gObaOiIjIoZjYeTi9UcZ3+1MgZB1aVuSWYrb2gY0aCDy4FFB7V8xrEhEReRgmdh5Ob5Qxef1BABW8pZitfWCzLgEqr4p5PSIiIg/ExM7DKSQJPZvWhhCVuKVYwT6wXK+OiIjIoZjYeThvtRIrnmoP2aDFyW/KsKVY0XFzRcfM6fNMa+QV4D6wREREFY6JXSUInZ4MQGDvSDdsndJeLVxsuOgSJhtHAUe+d05MREREHoqJXSVQeAcAAAICnByIK+A+sERERBWGiZ2Hy9UZ0f+DPyAg8HFoGbYU861p2hbsVg8uBQZ9Yl3OcXVEREQVholdJcvVGSEg4KVSQqkwJTgGowydUYZCkuCtVpapbp7eCFkIaJQKqJQKAIBRFsg3GG9bV0DgzFXT+DcRWkzCdev6cwBg1AG/v2U67jfbenYrlzAhIiKqdEzsKkHm1oWQ8zLxoS4QPxrbIOVGLr4f2wWtI6oBADYdTMWEtQfQtVEtfPVsB/N1D3y8A/+lZ2P1yI7o1LAmAOC3o+l47v+SEF2/Or59vrO57uAlu3DwQgaWPxmDXs2CAQA7T17BsGV/o3loIH4e381cd8Tyv7H79DUsGtoO99wZgvWjO0E25kHzl43WOlvrz92q7ywAXLaEiIjI2ZjYVYKsxIUwZqTgo3/D0eCFL50djgWlQkJMgxqmWbG7bWwpZmv9uaI4Zo6IiMhlSEIIj9ogNDMzE0FBQcjIyEBgYGCFv951rRG1Q8JgzEpHaFg4Tp4+61JdsQV1TcudtAAANBx8GArVzWRNlwPMDjMdF6w/VxTHzBEREVWo0uQubLGrYEYhLNZz89EoreqoiiRYRZWmbtHErYBSIcFXY/0R26oLABAC0q1pviG/8JjrzxEREbk0JnYVTK1UAAo1AMCl27WEQN3zWVDrjZbla4c5Jx4iIiIqNeumH3IotVIBSDdbyFw5s9PnwifPAJVRWO4SUYBj6YiIiFweW+zIRO2Ns/UDIQmgbtGlSv63HhAyx9IRERFVAUzsKpgsCwBOmJ+i05budQ150GmUpuRNKtKQq/ZxeGhERERUMZjYVbA8gxEwmiYgVOr84896ApeP2l1dAaBGDW9cq8XuViIioqqKY+wqQ0V3Yeq0wKIOpoet8XFERETkEdhiV8F8NSpo6nWCMfsy2t5Zu4JeRRRpnbvZLDhyK0rTFSsbcnFtY4zDIyMiIqLKw8SuEtQe+QMAYN2YCnoBlTcwYlPhMWC9kHBJFBInRxAREVVxTOzcgUIJRHYruR4RERG5NSZ2FSxfbwSuH7x53Aq+xe36QERERFROTOwqmFEISHkXbx63rKAX0QNJK03H0U8CSnXFvA4RERG5NCZ2FUSrMwAAVAoJ6d+/B2PONQz791P8vOnH0t9MCEB/m9muOi2weZLpuM1QJnZEREQeioldBYl+81fk6o1ImNgTutSjMGak4KCcXvobCQEs7wec3+34IImIiMitcB07B8g3GDHt24OY9u1B5BuMjr25Xmt/Usf9XImIiDwaW+wcwCgLrNlzHgAQd38UACDptT4AAFk4YLKEb03Tv2P/vv0WX9zPlYiIyKMxsXMAlUKBSbFNzMeAaWFiANDqi1QUAtDlFH8jpRegvPmRGA2mrcgkBTDlVEWETURERG7G6V2xixcvRmRkJLy9vREdHY3t27fftv62bdsQHR0Nb29v3HHHHfj0008rKdLiaVQKvNCrMV7o1Rga1S1fUiFQU1wBAEhZqcDssOIfR4tMrDj6o6nsq0cq8Z0QERFRVebUxG7t2rWYMGECZsyYgf3796Nbt27o378/zp07Z7P+6dOnce+996Jbt27Yv38/XnnlFYwbNw7ffvttJUdeCnot1ELn7CiIiIjIA0hCCPs3FHWwDh06oF27dvjkk0/MZc2bN8egQYMwZ84cq/pTp07FDz/8gOTkZHPZ6NGj8c8//2DXrl12vWZmZiaCgoKQkZGBwMDA8r8JAEIIXMsxJW81/DSQioxz0+bkoEloAFKyBMLCQpFy+r/ib1RcV+ztxtU5iGzQ4uQ3LQAADQcfhkLFSRhERESuoDS5i9Na7HQ6HZKSkhAbG2tRHhsbi507d9q8ZteuXVb1+/Xrh71790Kv19u8pjLk6o2IfutXRL9lWuKkeBKg8Sv+oSwy5FGpMpVVQlJHRERE7sFpkyeuXLkCo9GI4OBgi/Lg4GCkpaXZvCYtLc1mfYPBgCtXriA0NNTqmvz8fOTn55ufZ2RkADBlv46i1Rkg52vN9zVoCr+s2pwcFDSJCiEc+rqOJBu0yNbKAEzvQaEyODkiIiIiAgpzFns6WZ0+K1a6ZXkOIYRVWUn1bZUXmDNnDt544w2r8oiIiNKGapfQ94s/l5qaiqCgoAp5XYcaaZ0gExERkXNlZWWVmEc4LbGrVasWlEqlVetcenq6VatcgZCQEJv1VSoVatasafOa6dOnY+LEiebnsizj7NmzaNOmDc6fP++wcXZUMTIzMxEREcHPysXxc6o6+FlVDfycqo7K+KyEEMjKykJYWFiJdZ2W2Gk0GkRHRyMhIQEPPviguTwhIQEDBw60eU2nTp3w44+We63+8ssviImJgVpte39ULy8veHl5WZQpbq41FxgYyP8wVQQ/q6qBn1PVwc+qauDnVHVU9Gdlb4+fU5c7mThxIj7//HMsX74cycnJeOmll3Du3DmMHj0agKm1bfjw4eb6o0ePxtmzZzFx4kQkJydj+fLlWLZsGSZNmuSst0BERETkMpw6xu6xxx7D1atXMWvWLKSmpuLOO+/E5s2bUb9+fQCmMWlF17SLjIzE5s2b8dJLL2HRokUICwvDhx9+iIcffthZb4GIiIjIZTh98sSYMWMwZswYm+dWrlxpVda9e3fs27evXK/p5eWFmTNnWnXRkuvhZ1U18HOqOvhZVQ38nKoOV/usnLpAMRERERE5jtP3iiUiIiIix2BiR0REROQmmNgRERERuQmPTOwWL16MyMhIeHt7Izo6Gtu3b3d2SB7vjz/+wP3334+wsDBIkoTvvvvO4rwQAq+//jrCwsLg4+ODHj164PDhw84J1kPNmTMHd911FwICAlCnTh0MGjQIx44ds6jDz8k1fPLJJ2jVqpV5Xa1OnTrh559/Np/n5+Sa5syZA0mSMGHCBHMZPyvX8Prrr0OSJItHSEiI+bwrfU4el9itXbsWEyZMwIwZM7B//35069YN/fv3t1hWhSpfTk4OWrdujY8//tjm+blz52LhwoX4+OOPsWfPHoSEhKBv377Iysqq5Eg917Zt2zB27Fj89ddfSEhIgMFgQGxsLHJycsx1+Dm5hrp16+Kdd97B3r17sXfvXvTq1QsDBw40/6Lh5+R69uzZg6VLl6JVq1YW5fysXEeLFi2Qmppqfhw6dMh8zqU+J+Fh2rdvL0aPHm1R1qxZMzFt2jQnRUS3AiA2btxofi7LsggJCRHvvPOOuSwvL08EBQWJTz/91AkRkhBCpKenCwBi27ZtQgh+Tq6uevXq4vPPP+fn5IKysrJE48aNRUJCgujevbsYP368EIL/p1zJzJkzRevWrW2ec7XPyaNa7HQ6HZKSkhAbG2tRHhsbi507dzopKirJ6dOnkZaWZvG5eXl5oXv37vzcnCgjIwMAUKNGDQD8nFyV0WjEmjVrkJOTg06dOvFzckFjx47FgAED0KdPH4tyflau5b///kNYWBgiIyPx+OOP49SpUwBc73Ny+gLFlenKlSswGo0IDg62KA8ODkZaWpqToqKSFHw2tj63s2fPOiMkjyeEwMSJE9G1a1fceeedAPg5uZpDhw6hU6dOyMvLg7+/PzZu3IioqCjzLxp+Tq5hzZo12LdvH/bs2WN1jv+nXEeHDh3w5ZdfokmTJrh06RLeeustdO7cGYcPH3a5z8mjErsCkiRZPBdCWJWR6+Hn5jpeeOEFHDx4EDt27LA6x8/JNTRt2hQHDhzAjRs38O2332LEiBHYtm2b+Tw/J+c7f/48xo8fj19++QXe3t7F1uNn5Xz9+/c3H7ds2RKdOnVCw4YN8cUXX6Bjx44AXOdz8qiu2Fq1akGpVFq1zqWnp1tl2uQ6CmYe8XNzDS+++CJ++OEHbN26FXXr1jWX83NyLRqNBo0aNUJMTAzmzJmD1q1b44MPPuDn5EKSkpKQnp6O6OhoqFQqqFQqbNu2DR9++CFUKpX58+Bn5Xr8/PzQsmVL/Pfffy73f8qjEjuNRoPo6GgkJCRYlCckJKBz585OiopKEhkZiZCQEIvPTafTYdu2bfzcKpEQAi+88AI2bNiA33//HZGRkRbn+Tm5NiEE8vPz+Tm5kN69e+PQoUM4cOCA+RETE4MnnngCBw4cwB133MHPykXl5+cjOTkZoaGhrvd/qtKnazjZmjVrhFqtFsuWLRNHjhwREyZMEH5+fuLMmTPODs2jZWVlif3794v9+/cLAGLhwoVi//794uzZs0IIId555x0RFBQkNmzYIA4dOiSGDBkiQkNDRWZmppMj9xzPP/+8CAoKEomJiSI1NdX80Gq15jr8nFzD9OnTxR9//CFOnz4tDh48KF555RWhUCjEL7/8IoTg5+TKis6KFYKflat4+eWXRWJiojh16pT466+/xH333ScCAgLMuYMrfU4el9gJIcSiRYtE/fr1hUajEe3atTMv10DOs3XrVgHA6jFixAghhGk6+cyZM0VISIjw8vISd999tzh06JBzg/Ywtj4fAGLFihXmOvycXMPTTz9t/hlXu3Zt0bt3b3NSJwQ/J1d2a2LHz8o1PPbYYyI0NFSo1WoRFhYmHnroIXH48GHzeVf6nCQhhKj8dkIiIiIicjSPGmNHRERE5M6Y2BERERG5CSZ2RERERG6CiR0RERGRm2BiR0REROQmmNgRERERuQkmdkRERERugokdERERkZtgYkdERETkJpjYERFVoNzcXPj6+uLo0aPODoWIPAATOyKiCpSQkICIiAg0a9bM2aEQkQdgYkdEHq1Hjx544YUX8MILL6BatWqoWbMmXn31VRRso52fn48pU6YgIiICXl5eaNy4MZYtWwYAuH79Op544gnUrl0bPj4+aNy4MVasWGFx/++//x4PPPAAAOD1119HmzZtsHz5ctSrVw/+/v54/vnnYTQaMXfuXISEhKBOnTp4++23K/eLQERuQ+XsAIiInO2LL77AM888g927d2Pv3r0YNWoU6tevj5EjR2L48OHYtWsXPvzwQ7Ru3RqnT5/GlStXAACvvfYajhw5gp9//hm1atXCiRMnkJuba76vLMvYtGkTvv32W3PZyZMn8fPPP2PLli04efIkHnnkEZw+fRpNmjTBtm3bsHPnTjz99NPo3bs3OnbsWOlfCyKq2pjYEZHHi4iIwHvvvQdJktC0aVMcOnQI7733Hrp3745vvvkGCQkJ6NOnDwDgjjvuMF937tw5tG3bFjExMQCABg0aWNz3r7/+gizL6Ny5s7lMlmUsX74cAQEBiIqKQs+ePXHs2DFs3rwZCoUCTZs2xbvvvovExEQmdkRUauyKJSKP17FjR0iSZH7eqVMn/Pfff9i/fz+USiW6d+9u87rnn38ea9asQZs2bTBlyhTs3LnT4vz333+P++67DwpF4Y/aBg0aICAgwPw8ODgYUVFRFnWCg4ORnp7uqLdHRB6EiR0RUTG8vb1ve75///44e/YsJkyYgIsXL6J3796YNGmS+fwPP/yAgQMHWlyjVqstnkuSZLNMluVyRk9E/9/OHaooEMRxHP8dgqBd0CIWF0yabIJBfAxXDAZBBJsbfARZMAhmQTEp+ADafAGDKLiwVa0274IcHBzHFe+Eme+nTZhhpn3hz66NCDsA1ttut9/W2WxW+Xxe9/tdm83mx72JREL1el2TyUS+72s8HkuSDoeDgiBQtVr907sDwFeEHQDrhWGobrer/X6v6XSq4XCoTqejTCYj13XVaDS0WCx0Op20Xq81n88lSf1+X8vlUsfjUbvdTqvVSrlcTtJjDFupVBSPx1/5NACW4eMJANar1Wq63W4qFouKRCJqt9tqNpuSpNFoJM/z1Gq1dLlclE6n5XmeJCkajarX6ykIAsViMZVKJc1mM0mPsHNd92VvAmCnt/fPnzUBgIXK5bIKhYJ833/amefzWalUSmEYKplMPu1cAPgNo1gAeLLr9arBYEDUAfh3jGIB4Mkcx5HjOK++BgALMYoFAAAwBKNYAAAAQxB2AAAAhiDsAAAADEHYAQAAGIKwAwAAMARhBwAAYAjCDgAAwBCEHQAAgCEIOwAAAEN8APBZOtw/MC2xAAAAAElFTkSuQmCC",
      "application/papermill.record/text/plain": "<Figure size 640x480 with 1 Axes>"
     },
     "metadata": {
      "scrapbook": {
       "mime_prefix": "application/papermill.record/",
       "name": "lake-cumumlative-dist-forecast-prior"
      }
     },
     "output_type": "display_data"
    },
    {
     "data": {
      "application/papermill.record/text/markdown": "Survey total pcs/m 2020 - 2021 v/s 2016 - 2017. All locations considered.",
      "application/papermill.record/text/plain": "<IPython.core.display.Markdown object>"
     },
     "metadata": {
      "scrapbook": {
       "mime_prefix": "application/papermill.record/",
       "name": "caption-histo-l"
      }
     },
     "output_type": "display_data"
    },
    {
     "data": {
      "application/papermill.record/text/html": "<style type=\"text/css\">\n#T_ee443 tr:nth-child(even) {\n  background-color: rgba(139, 69, 19, 0.08);\n}\n#T_ee443 tr:nth-child(odd) {\n  background: #FFF;\n}\n#T_ee443 tr {\n  font-size: 10px;\n}\n#T_ee443 th {\n  background-color: #FFF;\n  font-size: 12px;\n  text-align: left;\n  width: auto;\n  word-break: keep-all;\n}\n#T_ee443 td {\n  padding: 4px;\n  font-size: 12px;\n  text-align: center;\n}\n#T_ee443 caption {\n  caption-side: bottom;\n  font-size: 1em;\n  text-align: left;\n}\n</style>\n<table id=\"T_ee443\">\n  <thead>\n    <tr>\n      <th class=\"blank level0\" >&nbsp;</th>\n      <th id=\"T_ee443_level0_col0\" class=\"col_heading level0 col0\" >% of total</th>\n    </tr>\n    <tr>\n      <th class=\"index_name level0\" >material</th>\n      <th class=\"blank col0\" >&nbsp;</th>\n    </tr>\n  </thead>\n  <tbody>\n    <tr>\n      <th id=\"T_ee443_level0_row0\" class=\"row_heading level0 row0\" >plastic</th>\n      <td id=\"T_ee443_row0_col0\" class=\"data row0 col0\" >96%</td>\n    </tr>\n  </tbody>\n</table>\n",
      "application/papermill.record/text/plain": "<pandas.io.formats.style.Styler at 0x737319df2790>"
     },
     "metadata": {
      "scrapbook": {
       "mime_prefix": "application/papermill.record/",
       "name": "material-report-l"
      }
     },
     "output_type": "display_data"
    },
    {
     "data": {
      "application/papermill.record/text/markdown": "__Given the weighted prior__\n* Average: 17.37\n* HDI 95%: 2.6 - 43.1\n* 90% Range: 2.6 - 42.44",
      "application/papermill.record/text/plain": "<IPython.core.display.Markdown object>"
     },
     "metadata": {
      "scrapbook": {
       "mime_prefix": "application/papermill.record/",
       "name": "forecast-weighted-prior-l"
      }
     },
     "output_type": "display_data"
    },
    {
     "data": {
      "application/papermill.record/text/markdown": "__Given the observed max__\n* Average: 28.62\n* HDI 95%: 0.51 - 50.79\n* 90% Range: 2.58 - 52.21",
      "application/papermill.record/text/plain": "<IPython.core.display.Markdown object>"
     },
     "metadata": {
      "scrapbook": {
       "mime_prefix": "application/papermill.record/",
       "name": "forecast-max-val-l"
      }
     },
     "output_type": "display_data"
    },
    {
     "data": {
      "application/papermill.record/text/markdown": "__Given the 99th percentile__\n* Average: 23.58\n* HDI 95%: 2.6 - 49.3\n* 90% Range: 2.6 - 49.3",
      "application/papermill.record/text/plain": "<IPython.core.display.Markdown object>"
     },
     "metadata": {
      "scrapbook": {
       "mime_prefix": "application/papermill.record/",
       "name": "forecast-99-max-l"
      }
     },
     "output_type": "display_data"
    },
    {
     "data": {
      "application/papermill.record/text/markdown": "__The most common objects account for 93% of all objects__",
      "application/papermill.record/text/plain": "<IPython.core.display.Markdown object>"
     },
     "metadata": {
      "scrapbook": {
       "mime_prefix": "application/papermill.record/",
       "name": "ratio-most-common-l"
      }
     },
     "output_type": "display_data"
    },
    {
     "data": {
      "application/papermill.record/text/html": "<style type=\"text/css\">\n#T_95561 tr:nth-child(even) {\n  background-color: rgba(139, 69, 19, 0.08);\n}\n#T_95561 tr:nth-child(odd) {\n  background: #FFF;\n}\n#T_95561 tr {\n  font-size: 10px;\n}\n#T_95561 th {\n  background-color: #FFF;\n  font-size: 12px;\n  text-align: left;\n  width: auto;\n  word-break: keep-all;\n}\n#T_95561 td {\n  padding: 4px;\n  font-size: 12px;\n  text-align: center;\n}\n#T_95561 caption {\n  caption-side: top;\n  font-size: 1em;\n  text-align: left;\n  margin-bottom: 10px;\n}\n#T_95561 caption {\n  caption-side: top;\n  font-size: .9em;\n  text-align: left;\n  font-style: italic;\n  color: #000;\n}\n#T_95561 td:nth-child(1) {\n  text-align: left;\n}\n</style>\n<table id=\"T_95561\">\n  <thead>\n    <tr>\n      <th id=\"T_95561_level0_col0\" class=\"col_heading level0 col0\" >Object</th>\n      <th id=\"T_95561_level0_col1\" class=\"col_heading level0 col1\" >Quantity</th>\n      <th id=\"T_95561_level0_col2\" class=\"col_heading level0 col2\" >pcs/m</th>\n      <th id=\"T_95561_level0_col3\" class=\"col_heading level0 col3\" >% of total</th>\n      <th id=\"T_95561_level0_col4\" class=\"col_heading level0 col4\" >Fail rate</th>\n    </tr>\n  </thead>\n  <tbody>\n    <tr>\n      <td id=\"T_95561_row0_col0\" class=\"data row0 col0\" >Expanded polystyrene</td>\n      <td id=\"T_95561_row0_col1\" class=\"data row0 col1\" >1'474</td>\n      <td id=\"T_95561_row0_col2\" class=\"data row0 col2\" >4,44</td>\n      <td id=\"T_95561_row0_col3\" class=\"data row0 col3\" >0,19</td>\n      <td id=\"T_95561_row0_col4\" class=\"data row0 col4\" >1,00</td>\n    </tr>\n    <tr>\n      <td id=\"T_95561_row1_col0\" class=\"data row1 col0\" >Fragmented plastics</td>\n      <td id=\"T_95561_row1_col1\" class=\"data row1 col1\" >1'179</td>\n      <td id=\"T_95561_row1_col2\" class=\"data row1 col2\" >3,60</td>\n      <td id=\"T_95561_row1_col3\" class=\"data row1 col3\" >0,16</td>\n      <td id=\"T_95561_row1_col4\" class=\"data row1 col4\" >1,00</td>\n    </tr>\n    <tr>\n      <td id=\"T_95561_row2_col0\" class=\"data row2 col0\" >plastic caps, lid rings: G21, G22, G23, G24</td>\n      <td id=\"T_95561_row2_col1\" class=\"data row2 col1\" >576</td>\n      <td id=\"T_95561_row2_col2\" class=\"data row2 col2\" >1,84</td>\n      <td id=\"T_95561_row2_col3\" class=\"data row2 col3\" >0,08</td>\n      <td id=\"T_95561_row2_col4\" class=\"data row2 col4\" >1,00</td>\n    </tr>\n    <tr>\n      <td id=\"T_95561_row3_col0\" class=\"data row3 col0\" >Industrial sheeting</td>\n      <td id=\"T_95561_row3_col1\" class=\"data row3 col1\" >498</td>\n      <td id=\"T_95561_row3_col2\" class=\"data row3 col2\" >1,81</td>\n      <td id=\"T_95561_row3_col3\" class=\"data row3 col3\" >0,07</td>\n      <td id=\"T_95561_row3_col4\" class=\"data row3 col4\" >1,00</td>\n    </tr>\n    <tr>\n      <td id=\"T_95561_row4_col0\" class=\"data row4 col0\" >Food wrappers; candy, snacks</td>\n      <td id=\"T_95561_row4_col1\" class=\"data row4 col1\" >477</td>\n      <td id=\"T_95561_row4_col2\" class=\"data row4 col2\" >1,72</td>\n      <td id=\"T_95561_row4_col3\" class=\"data row4 col3\" >0,06</td>\n      <td id=\"T_95561_row4_col4\" class=\"data row4 col4\" >0,91</td>\n    </tr>\n    <tr>\n      <td id=\"T_95561_row5_col0\" class=\"data row5 col0\" >Cotton bud/swab sticks</td>\n      <td id=\"T_95561_row5_col1\" class=\"data row5 col1\" >453</td>\n      <td id=\"T_95561_row5_col2\" class=\"data row5 col2\" >1,35</td>\n      <td id=\"T_95561_row5_col3\" class=\"data row5 col3\" >0,06</td>\n      <td id=\"T_95561_row5_col4\" class=\"data row5 col4\" >1,00</td>\n    </tr>\n    <tr>\n      <td id=\"T_95561_row6_col0\" class=\"data row6 col0\" >Foam packaging/insulation/polyurethane</td>\n      <td id=\"T_95561_row6_col1\" class=\"data row6 col1\" >452</td>\n      <td id=\"T_95561_row6_col2\" class=\"data row6 col2\" >0,48</td>\n      <td id=\"T_95561_row6_col3\" class=\"data row6 col3\" >0,06</td>\n      <td id=\"T_95561_row6_col4\" class=\"data row6 col4\" >2,00</td>\n    </tr>\n    <tr>\n      <td id=\"T_95561_row7_col0\" class=\"data row7 col0\" >Plastic construction waste</td>\n      <td id=\"T_95561_row7_col1\" class=\"data row7 col1\" >291</td>\n      <td id=\"T_95561_row7_col2\" class=\"data row7 col2\" >0,87</td>\n      <td id=\"T_95561_row7_col3\" class=\"data row7 col3\" >0,04</td>\n      <td id=\"T_95561_row7_col4\" class=\"data row7 col4\" >1,00</td>\n    </tr>\n    <tr>\n      <td id=\"T_95561_row8_col0\" class=\"data row8 col0\" >Plastic shotgun wadding</td>\n      <td id=\"T_95561_row8_col1\" class=\"data row8 col1\" >218</td>\n      <td id=\"T_95561_row8_col2\" class=\"data row8 col2\" >0,64</td>\n      <td id=\"T_95561_row8_col3\" class=\"data row8 col3\" >0,03</td>\n      <td id=\"T_95561_row8_col4\" class=\"data row8 col4\" >1,00</td>\n    </tr>\n    <tr>\n      <td id=\"T_95561_row9_col0\" class=\"data row9 col0\" >Food containers single use foamed or plastic</td>\n      <td id=\"T_95561_row9_col1\" class=\"data row9 col1\" >175</td>\n      <td id=\"T_95561_row9_col2\" class=\"data row9 col2\" >0,54</td>\n      <td id=\"T_95561_row9_col3\" class=\"data row9 col3\" >0,02</td>\n      <td id=\"T_95561_row9_col4\" class=\"data row9 col4\" >1,00</td>\n    </tr>\n    <tr>\n      <td id=\"T_95561_row10_col0\" class=\"data row10 col0\" >Styrofoam < 5mm</td>\n      <td id=\"T_95561_row10_col1\" class=\"data row10 col1\" >166</td>\n      <td id=\"T_95561_row10_col2\" class=\"data row10 col2\" >0,49</td>\n      <td id=\"T_95561_row10_col3\" class=\"data row10 col3\" >0,02</td>\n      <td id=\"T_95561_row10_col4\" class=\"data row10 col4\" >0,64</td>\n    </tr>\n    <tr>\n      <td id=\"T_95561_row11_col0\" class=\"data row11 col0\" >Tobacco; plastic packaging, containers</td>\n      <td id=\"T_95561_row11_col1\" class=\"data row11 col1\" >133</td>\n      <td id=\"T_95561_row11_col2\" class=\"data row11 col2\" >0,47</td>\n      <td id=\"T_95561_row11_col3\" class=\"data row11 col3\" >0,02</td>\n      <td id=\"T_95561_row11_col4\" class=\"data row11 col4\" >0,82</td>\n    </tr>\n    <tr>\n      <td id=\"T_95561_row12_col0\" class=\"data row12 col0\" >Cups, lids, single use foamed and hard plastic</td>\n      <td id=\"T_95561_row12_col1\" class=\"data row12 col1\" >87</td>\n      <td id=\"T_95561_row12_col2\" class=\"data row12 col2\" >0,27</td>\n      <td id=\"T_95561_row12_col3\" class=\"data row12 col3\" >0,01</td>\n      <td id=\"T_95561_row12_col4\" class=\"data row12 col4\" >1,00</td>\n    </tr>\n    <tr>\n      <td id=\"T_95561_row13_col0\" class=\"data row13 col0\" >Lollypop sticks</td>\n      <td id=\"T_95561_row13_col1\" class=\"data row13 col1\" >85</td>\n      <td id=\"T_95561_row13_col2\" class=\"data row13 col2\" >0,26</td>\n      <td id=\"T_95561_row13_col3\" class=\"data row13 col3\" >0,01</td>\n      <td id=\"T_95561_row13_col4\" class=\"data row13 col4\" >1,00</td>\n    </tr>\n    <tr>\n      <td id=\"T_95561_row14_col0\" class=\"data row14 col0\" >Straws and stirrers</td>\n      <td id=\"T_95561_row14_col1\" class=\"data row14 col1\" >75</td>\n      <td id=\"T_95561_row14_col2\" class=\"data row14 col2\" >0,24</td>\n      <td id=\"T_95561_row14_col3\" class=\"data row14 col3\" >0,01</td>\n      <td id=\"T_95561_row14_col4\" class=\"data row14 col4\" >1,00</td>\n    </tr>\n    <tr>\n      <td id=\"T_95561_row15_col0\" class=\"data row15 col0\" >Cigarette filters</td>\n      <td id=\"T_95561_row15_col1\" class=\"data row15 col1\" >72</td>\n      <td id=\"T_95561_row15_col2\" class=\"data row15 col2\" >0,22</td>\n      <td id=\"T_95561_row15_col3\" class=\"data row15 col3\" >0,01</td>\n      <td id=\"T_95561_row15_col4\" class=\"data row15 col4\" >0,82</td>\n    </tr>\n    <tr>\n      <td id=\"T_95561_row16_col0\" class=\"data row16 col0\" >Toys and party favors</td>\n      <td id=\"T_95561_row16_col1\" class=\"data row16 col1\" >71</td>\n      <td id=\"T_95561_row16_col2\" class=\"data row16 col2\" >0,22</td>\n      <td id=\"T_95561_row16_col3\" class=\"data row16 col3\" >0,01</td>\n      <td id=\"T_95561_row16_col4\" class=\"data row16 col4\" >1,00</td>\n    </tr>\n    <tr>\n      <td id=\"T_95561_row17_col0\" class=\"data row17 col0\" >Biomass holder</td>\n      <td id=\"T_95561_row17_col1\" class=\"data row17 col1\" >46</td>\n      <td id=\"T_95561_row17_col2\" class=\"data row17 col2\" >0,14</td>\n      <td id=\"T_95561_row17_col3\" class=\"data row17 col3\" >0,01</td>\n      <td id=\"T_95561_row17_col4\" class=\"data row17 col4\" >0,91</td>\n    </tr>\n    <tr>\n      <td id=\"T_95561_row18_col0\" class=\"data row18 col0\" >Medical; containers/tubes/ packaging</td>\n      <td id=\"T_95561_row18_col1\" class=\"data row18 col1\" >45</td>\n      <td id=\"T_95561_row18_col2\" class=\"data row18 col2\" >0,14</td>\n      <td id=\"T_95561_row18_col3\" class=\"data row18 col3\" >0,01</td>\n      <td id=\"T_95561_row18_col4\" class=\"data row18 col4\" >0,82</td>\n    </tr>\n    <tr>\n      <td id=\"T_95561_row19_col0\" class=\"data row19 col0\" >Industrial pellets (nurdles)</td>\n      <td id=\"T_95561_row19_col1\" class=\"data row19 col1\" >43</td>\n      <td id=\"T_95561_row19_col2\" class=\"data row19 col2\" >0,14</td>\n      <td id=\"T_95561_row19_col3\" class=\"data row19 col3\" >0,01</td>\n      <td id=\"T_95561_row19_col4\" class=\"data row19 col4\" >0,64</td>\n    </tr>\n    <tr>\n      <td id=\"T_95561_row20_col0\" class=\"data row20 col0\" >Glass drink bottles, pieces</td>\n      <td id=\"T_95561_row20_col1\" class=\"data row20 col1\" >37</td>\n      <td id=\"T_95561_row20_col2\" class=\"data row20 col2\" >0,11</td>\n      <td id=\"T_95561_row20_col3\" class=\"data row20 col3\" >0,00</td>\n      <td id=\"T_95561_row20_col4\" class=\"data row20 col4\" >0,64</td>\n    </tr>\n    <tr>\n      <td id=\"T_95561_row21_col0\" class=\"data row21 col0\" >Labels, bar codes</td>\n      <td id=\"T_95561_row21_col1\" class=\"data row21 col1\" >35</td>\n      <td id=\"T_95561_row21_col2\" class=\"data row21 col2\" >0,13</td>\n      <td id=\"T_95561_row21_col3\" class=\"data row21 col3\" >0,00</td>\n      <td id=\"T_95561_row21_col4\" class=\"data row21 col4\" >0,55</td>\n    </tr>\n    <tr>\n      <td id=\"T_95561_row22_col0\" class=\"data row22 col0\" >Fireworks; rocket caps, exploded parts & packaging</td>\n      <td id=\"T_95561_row22_col1\" class=\"data row22 col1\" >35</td>\n      <td id=\"T_95561_row22_col2\" class=\"data row22 col2\" >0,10</td>\n      <td id=\"T_95561_row22_col3\" class=\"data row22 col3\" >0,00</td>\n      <td id=\"T_95561_row22_col4\" class=\"data row22 col4\" >0,82</td>\n    </tr>\n    <tr>\n      <td id=\"T_95561_row23_col0\" class=\"data row23 col0\" >Plastic flower pots</td>\n      <td id=\"T_95561_row23_col1\" class=\"data row23 col1\" >34</td>\n      <td id=\"T_95561_row23_col2\" class=\"data row23 col2\" >0,12</td>\n      <td id=\"T_95561_row23_col3\" class=\"data row23 col3\" >0,00</td>\n      <td id=\"T_95561_row23_col4\" class=\"data row23 col4\" >0,73</td>\n    </tr>\n    <tr>\n      <td id=\"T_95561_row24_col0\" class=\"data row24 col0\" >Foamed items & pieces (non packaging/insulation) foamed sponge material</td>\n      <td id=\"T_95561_row24_col1\" class=\"data row24 col1\" >32</td>\n      <td id=\"T_95561_row24_col2\" class=\"data row24 col2\" >0,10</td>\n      <td id=\"T_95561_row24_col3\" class=\"data row24 col3\" >0,00</td>\n      <td id=\"T_95561_row24_col4\" class=\"data row24 col4\" >0,55</td>\n    </tr>\n    <tr>\n      <td id=\"T_95561_row25_col0\" class=\"data row25 col0\" >Straps/bands;  hard, plastic package fastener</td>\n      <td id=\"T_95561_row25_col1\" class=\"data row25 col1\" >31</td>\n      <td id=\"T_95561_row25_col2\" class=\"data row25 col2\" >0,11</td>\n      <td id=\"T_95561_row25_col3\" class=\"data row25 col3\" >0,00</td>\n      <td id=\"T_95561_row25_col4\" class=\"data row25 col4\" >0,73</td>\n    </tr>\n    <tr>\n      <td id=\"T_95561_row26_col0\" class=\"data row26 col0\" >Bags; plastic shopping/carrier/grocery and pieces</td>\n      <td id=\"T_95561_row26_col1\" class=\"data row26 col1\" >29</td>\n      <td id=\"T_95561_row26_col2\" class=\"data row26 col2\" >0,11</td>\n      <td id=\"T_95561_row26_col3\" class=\"data row26 col3\" >0,00</td>\n      <td id=\"T_95561_row26_col4\" class=\"data row26 col4\" >0,55</td>\n    </tr>\n    <tr>\n      <td id=\"T_95561_row27_col0\" class=\"data row27 col0\" >Drink bottles < = 0.5L</td>\n      <td id=\"T_95561_row27_col1\" class=\"data row27 col1\" >29</td>\n      <td id=\"T_95561_row27_col2\" class=\"data row27 col2\" >0,08</td>\n      <td id=\"T_95561_row27_col3\" class=\"data row27 col3\" >0,00</td>\n      <td id=\"T_95561_row27_col4\" class=\"data row27 col4\" >0,91</td>\n    </tr>\n    <tr>\n      <td id=\"T_95561_row28_col0\" class=\"data row28 col0\" >Pens, lids, mechanical pencils etc.</td>\n      <td id=\"T_95561_row28_col1\" class=\"data row28 col1\" >27</td>\n      <td id=\"T_95561_row28_col2\" class=\"data row28 col2\" >0,08</td>\n      <td id=\"T_95561_row28_col3\" class=\"data row28 col3\" >0,00</td>\n      <td id=\"T_95561_row28_col4\" class=\"data row28 col4\" >0,73</td>\n    </tr>\n    <tr>\n      <td id=\"T_95561_row29_col0\" class=\"data row29 col0\" >Tape; electrical, insulating</td>\n      <td id=\"T_95561_row29_col1\" class=\"data row29 col1\" >23</td>\n      <td id=\"T_95561_row29_col2\" class=\"data row29 col2\" >0,07</td>\n      <td id=\"T_95561_row29_col3\" class=\"data row29 col3\" >0,00</td>\n      <td id=\"T_95561_row29_col4\" class=\"data row29 col4\" >0,64</td>\n    </tr>\n    <tr>\n      <td id=\"T_95561_row30_col0\" class=\"data row30 col0\" >Corks</td>\n      <td id=\"T_95561_row30_col1\" class=\"data row30 col1\" >23</td>\n      <td id=\"T_95561_row30_col2\" class=\"data row30 col2\" >0,07</td>\n      <td id=\"T_95561_row30_col3\" class=\"data row30 col3\" >0,00</td>\n      <td id=\"T_95561_row30_col4\" class=\"data row30 col4\" >0,73</td>\n    </tr>\n    <tr>\n      <td id=\"T_95561_row31_col0\" class=\"data row31 col0\" >Metal bottle caps, lids & pull tabs from cans</td>\n      <td id=\"T_95561_row31_col1\" class=\"data row31 col1\" >23</td>\n      <td id=\"T_95561_row31_col2\" class=\"data row31 col2\" >0,06</td>\n      <td id=\"T_95561_row31_col3\" class=\"data row31 col3\" >0,00</td>\n      <td id=\"T_95561_row31_col4\" class=\"data row31 col4\" >0,64</td>\n    </tr>\n    <tr>\n      <td id=\"T_95561_row32_col0\" class=\"data row32 col0\" >Small plastic bags; freezer, zip-lock etc.</td>\n      <td id=\"T_95561_row32_col1\" class=\"data row32 col1\" >21</td>\n      <td id=\"T_95561_row32_col2\" class=\"data row32 col2\" >0,08</td>\n      <td id=\"T_95561_row32_col3\" class=\"data row32 col3\" >0,00</td>\n      <td id=\"T_95561_row32_col4\" class=\"data row32 col4\" >0,55</td>\n    </tr>\n    <tr>\n      <td id=\"T_95561_row33_col0\" class=\"data row33 col0\" >Sanitary pads /panty liners/tampons and applicators</td>\n      <td id=\"T_95561_row33_col1\" class=\"data row33 col1\" >21</td>\n      <td id=\"T_95561_row33_col2\" class=\"data row33 col2\" >0,08</td>\n      <td id=\"T_95561_row33_col3\" class=\"data row33 col3\" >0,00</td>\n      <td id=\"T_95561_row33_col4\" class=\"data row33 col4\" >0,64</td>\n    </tr>\n    <tr>\n      <td id=\"T_95561_row34_col0\" class=\"data row34 col0\" >Cigarette lighters</td>\n      <td id=\"T_95561_row34_col1\" class=\"data row34 col1\" >17</td>\n      <td id=\"T_95561_row34_col2\" class=\"data row34 col2\" >0,06</td>\n      <td id=\"T_95561_row34_col3\" class=\"data row34 col3\" >0,00</td>\n      <td id=\"T_95561_row34_col4\" class=\"data row34 col4\" >0,55</td>\n    </tr>\n    <tr>\n      <td id=\"T_95561_row35_col0\" class=\"data row35 col0\" >Paraffin wax</td>\n      <td id=\"T_95561_row35_col1\" class=\"data row35 col1\" >10</td>\n      <td id=\"T_95561_row35_col2\" class=\"data row35 col2\" >0,03</td>\n      <td id=\"T_95561_row35_col3\" class=\"data row35 col3\" >0,00</td>\n      <td id=\"T_95561_row35_col4\" class=\"data row35 col4\" >0,64</td>\n    </tr>\n    <tr>\n      <td id=\"T_95561_row36_col0\" class=\"data row36 col0\" >Rubber bands</td>\n      <td id=\"T_95561_row36_col1\" class=\"data row36 col1\" >8</td>\n      <td id=\"T_95561_row36_col2\" class=\"data row36 col2\" >0,03</td>\n      <td id=\"T_95561_row36_col3\" class=\"data row36 col3\" >0,00</td>\n      <td id=\"T_95561_row36_col4\" class=\"data row36 col4\" >0,55</td>\n    </tr>\n    <tr>\n      <td id=\"T_95561_row37_col0\" class=\"data row37 col0\" >Drink bottles  > 0.5L</td>\n      <td id=\"T_95561_row37_col1\" class=\"data row37 col1\" >8</td>\n      <td id=\"T_95561_row37_col2\" class=\"data row37 col2\" >0,03</td>\n      <td id=\"T_95561_row37_col3\" class=\"data row37 col3\" >0,00</td>\n      <td id=\"T_95561_row37_col4\" class=\"data row37 col4\" >0,55</td>\n    </tr>\n    <tr>\n      <td id=\"T_95561_row38_col0\" class=\"data row38 col0\" >Syringes - needles</td>\n      <td id=\"T_95561_row38_col1\" class=\"data row38 col1\" >8</td>\n      <td id=\"T_95561_row38_col2\" class=\"data row38 col2\" >0,03</td>\n      <td id=\"T_95561_row38_col3\" class=\"data row38 col3\" >0,00</td>\n      <td id=\"T_95561_row38_col4\" class=\"data row38 col4\" >0,55</td>\n    </tr>\n    <tr>\n      <td id=\"T_95561_row39_col0\" class=\"data row39 col0\" >Pheromone baits for vineyards</td>\n      <td id=\"T_95561_row39_col1\" class=\"data row39 col1\" >7</td>\n      <td id=\"T_95561_row39_col2\" class=\"data row39 col2\" >0,02</td>\n      <td id=\"T_95561_row39_col3\" class=\"data row39 col3\" >0,00</td>\n      <td id=\"T_95561_row39_col4\" class=\"data row39 col4\" >0,55</td>\n    </tr>\n  </tbody>\n</table>\n",
      "application/papermill.record/text/plain": "<pandas.io.formats.style.Styler at 0x73731952cf10>"
     },
     "metadata": {
      "scrapbook": {
       "mime_prefix": "application/papermill.record/",
       "name": "most_common_objects-l"
      }
     },
     "output_type": "display_data"
    },
    {
     "data": {
      "application/papermill.record/text/markdown": "<font color=#1e90ff>2020 - 2021 </font>\n* Number of samples: 11\n* Total objects: 7560\n* Average pcs/m: 23.64\n* Standard deviation: 16.12\n* Maximum pcs/m: 52.73\n",
      "application/papermill.record/text/plain": "<IPython.core.display.Markdown object>"
     },
     "metadata": {
      "scrapbook": {
       "mime_prefix": "application/papermill.record/",
       "name": "l-sampling-summary-l"
      }
     },
     "output_type": "display_data"
    },
    {
     "data": {
      "application/papermill.record/text/markdown": "<font color=#daa520>2016 - 2017</font>\n* Number of samples: 2\n* Total objects: 1342\n* Average pcs/m: 24.01\n* Standard deviation: 17.46\n* Maximum pcs/m: 41.47\n",
      "application/papermill.record/text/plain": "<IPython.core.display.Markdown object>"
     },
     "metadata": {
      "scrapbook": {
       "mime_prefix": "application/papermill.record/",
       "name": "prior-sampling-summary-l"
      }
     },
     "output_type": "display_data"
    },
    {
     "data": {
      "application/papermill.record/text/markdown": "2016 - 2021\n* Number of samples: 13\n* Total objects: 8902\n* Average pcs/m: 23.7\n* Standard deviation: 16.34\n* Maximum pcs/m: 52.73\n",
      "application/papermill.record/text/plain": "<IPython.core.display.Markdown object>"
     },
     "metadata": {
      "scrapbook": {
       "mime_prefix": "application/papermill.record/",
       "name": "sampling-summary-l"
      }
     },
     "output_type": "display_data"
    },
    {
     "data": {
      "application/papermill.record/text/markdown": "__Features surveyed__\n* Lakes: 1\n\n",
      "application/papermill.record/text/plain": "<IPython.core.display.Markdown object>"
     },
     "metadata": {
      "scrapbook": {
       "mime_prefix": "application/papermill.record/",
       "name": "feature-inventory-l"
      }
     },
     "output_type": "display_data"
    },
    {
     "data": {
      "application/papermill.record/text/markdown": "__Administrative boundaries__\n* Survey locations: 1\n* Cities: 1\n\n",
      "application/papermill.record/text/plain": "<IPython.core.display.Markdown object>"
     },
     "metadata": {
      "scrapbook": {
       "mime_prefix": "application/papermill.record/",
       "name": "administrative-boundaries-l"
      }
     },
     "output_type": "display_data"
    }
   ],
   "source": [
    "# lakes\n",
    "data = session_config.collect_survey_data()\n",
    "lake_params = {'canton':canton, 'date_range':o_dates, 'feature_type': 'l'}\n",
    "lake_params_p = {'canton':canton, 'date_range':prior_dates, 'feature_type':'l'}\n",
    "\n",
    "# all surveys lakes, rivers combined\n",
    "c_all_l,  _ = gfcast.filter_data(d,{'canton': canton, 'feature_type': 'l',  'date_range': {'start':prior_dates['start'], 'end':o_dates['end']}})\n",
    "call_l_surveys, call_l_land = gfcast.make_report_objects(c_all_l)\n",
    "\n",
    "# summary and labels\n",
    "all_summary_l = call_l_surveys.sampling_results_summary\n",
    "all_labels_l = extract_dates_for_labels_from_summary(all_summary_l)\n",
    "\n",
    "# material proportions all data\n",
    "material_report_l = call_l_surveys.material_report\n",
    "material_report_l = material_report_l.style.set_table_styles(userdisplay.table_css_styles)\n",
    "\n",
    "# prior data does not include locations in canton\n",
    "o_prior_l = d[(d.canton != canton)&(d['date'] <= prior_dates['end'])&(d.feature_type == 'l')].copy()\n",
    "o_report_l, o_land_use_l = gfcast.make_report_objects(o_prior_l)\n",
    "lake_results = gfcast.reports_and_forecast(lake_params,lake_params_p , ldata=d.copy(), logger=logger, other_data=o_land_use_l.df_cat)\n",
    "\n",
    "# prior summary and label\n",
    "p_summary_l = lake_results['prior_report'].sampling_results_summary.copy()\n",
    "prior_labels_l = extract_dates_for_labels_from_summary(p_summary_l)\n",
    "\n",
    "# likelihood summary and label\n",
    "l_summary_l = lake_results['this_report'].sampling_results_summary.copy()\n",
    "likelihood_labels_l = extract_dates_for_labels_from_summary(l_summary_l)\n",
    "\n",
    "# forecasts\n",
    "xii_l = lake_results['posterior_no_limit'].sample_posterior()\n",
    "\n",
    "# limit to the 99th percentile\n",
    "sample_values_l, posterior_l, summary_simple_l = gfcast.dirichlet_posterior(lake_results['posterior_99'])\n",
    "\n",
    "# forecast weighted prior all data\n",
    "weighted_args_l = [lake_results['this_land_use'], session_config.feature_variables, call_l_land.df_cat, lake_results['this_report'].sample_results['pcs/m']]\n",
    "weighted_forecast_l, weighted_posterior_l, weighted_summary_l, _ = gfcast.forecast_weighted_prior(*weighted_args_l)\n",
    "\n",
    "# forecast summaries\n",
    "forecast_99_l = display_forecast_summary(summary_simple_l, '__Given the 99th percentile__')\n",
    "forecast_maxval_l = display_forecast_summary(lake_results['posterior_no_limit'].get_descriptive_statistics(), '__Given the observed max__')\n",
    "forecast_weighted_l = display_forecast_summary(weighted_summary_l, '__Given the weighted prior__')\n",
    "\n",
    "# most common objects all lake data\n",
    "os_l = lake_results['this_report'].object_summary()\n",
    "os_l.reset_index(drop=False, inplace=True)\n",
    "most_common_objects_l, mc_codes_l, proportions_l = userdisplay.most_common(os_l)\n",
    "most_common_objects_l = most_common_objects_l.set_caption(\"\")\n",
    "\n",
    "# display the inventory of features\n",
    "feature_inv_l = call_l_surveys.feature_inventory()\n",
    "feature_inventory_l = format_boundaries_feature_inv(feature_inv_l, ['p', 'r'], userdisplay.feature_inventory)\n",
    "\n",
    "# display the inventory of boundaries\n",
    "aboundaries_l = call_l_surveys.administrative_boundaries().copy()\n",
    "administrative_boundaries_l = format_boundaries_feature_inv(aboundaries_l, ['canton', 'parent_boundary'], userdisplay.boundaries)\n",
    "\n",
    "# display the sampling summaries\n",
    "all_info_l = userdisplay.sampling_result_summary(all_summary_l, session_language='en')[1]\n",
    "all_samp_sum_l = Markdown(f'{all_labels_l}\\n{all_info_l}')\n",
    "\n",
    "p_header_l = f\"<font color=#daa520>{prior_labels}</font>\"\n",
    "p_info_l = userdisplay.sampling_result_summary(p_summary_l, session_language='en')[1]\n",
    "p_samp_sum_l = Markdown(f'{p_header_l}\\n{p_info_l}')\n",
    "\n",
    "l_header_l = f\"<font color=#1e90ff>{likelihood_labels_l} </font>\"\n",
    "l_info_l = userdisplay.sampling_result_summary(l_summary_l, session_language='en')[1]\n",
    "l_samp_sum_l = Markdown(f'{l_header_l}\\n{l_info_l}')\n",
    "\n",
    "ratio_most_common_l = Markdown(f'__The most common objects account for {int(proportions_l*100)}% of all objects__')\n",
    "\n",
    "caption_histo_l = Markdown(f'Survey total pcs/m {likelihood_labels_l} v/s {prior_labels_l}. All locations considered.')\n",
    "\n",
    "fig, ax = plt.subplots()\n",
    "sns.histplot(data=lake_results['this_report'].sample_results, x='pcs/m', stat='probability', label=likelihood_labels_l, ax=ax, color=palette['likelihood'])\n",
    "sns.histplot(data=lake_results['prior_report'].sample_results, x='pcs/m', stat='probability', label=prior_labels_l, ax=ax, color=palette['prior'])\n",
    "ax.legend()\n",
    "plt.tight_layout()\n",
    "glue('lake-prior-likelihood', fig, display=False)\n",
    "plt.close()\n",
    "\n",
    "fig, ax = plt.subplots()\n",
    "sns.ecdfplot(lake_results['prior_report'].sample_results['pcs/m'], label=prior_labels_l, ls='-', ax=ax, c=palette['prior'], zorder=1)\n",
    "sns.ecdfplot(lake_results['this_report'].sample_results['pcs/m'], label=likelihood_labels_l, ls='-', ax=ax, c=palette['likelihood'], zorder=1)\n",
    "sns.ecdfplot(sample_values_l, label='expected 99%', ls=':', zorder=2)\n",
    "sns.ecdfplot(xii_l, label='expected max', ls='-.', zorder=2)\n",
    "sns.ecdfplot(weighted_forecast_l, label='weighted prior', c='black', ls='--', lw=2, ax=ax, zorder=5)\n",
    "ax.set_xlim(-.1, lake_results['this_report'].sample_results['pcs/m'].quantile(.99))\n",
    "ax.legend()\n",
    "plt.tight_layout()\n",
    "glue('lake-cumumlative-dist-forecast-prior', fig, display=False)\n",
    "plt.close()\n",
    "\n",
    "# one_list = Markdown(f'{feature_inventory}\\n{administrative_boundaries}')\n",
    "glue('caption-histo-l', caption_histo_l, display=False)\n",
    "glue('material-report-l', material_report_l, display=False)\n",
    "glue('forecast-weighted-prior-l', forecast_weighted_l, display=False)\n",
    "glue('forecast-max-val-l', forecast_maxval_l, display=False)\n",
    "glue('forecast-99-max-l', forecast_99_l, display=False)\n",
    "glue('ratio-most-common-l', ratio_most_common_l, display=False)\n",
    "glue('most_common_objects-l', most_common_objects_l, display=False)\n",
    "glue('l-sampling-summary-l', l_samp_sum_l, display=False)\n",
    "glue('prior-sampling-summary-l', p_samp_sum_l, display=False)\n",
    "glue('sampling-summary-l', all_samp_sum_l, display=False)\n",
    "glue('feature-inventory-l', feature_inventory_l, display=False)\n",
    "glue('administrative-boundaries-l', administrative_boundaries_l, display=False)"
   ]
  },
  {
   "cell_type": "code",
   "execution_count": 5,
   "id": "c87916f3-af59-42ac-ad71-7049abe00990",
   "metadata": {},
   "outputs": [],
   "source": [
    "def report_and_forecast(args):\n",
    "    results = gfcast.reports_and_forecast(args['likelihood' ], args['prior'], ldata=args['data'], logger=args['logger'], other_data=args['land-use-inventory'])\n",
    "\n",
    "\n",
    "    if results['this_report'] == 'No likelihood':\n",
    "        start = dt.datetime.strftime(args['likelihood']['date_range']['start'], format=session_config.date_format)[:4]\n",
    "        end = dt.datetime.strftime(args['likelihood']['date_range']['end'], format=session_config.date_format)[:4]\n",
    "        likelihood_labels = f\"{start} - {end}\"\n",
    "        l_header = f\"<font color=#1e90ff>{likelihood_labels} </font>\"\n",
    "        l_info = '* No data for the period requested\\n'\n",
    "        l_samp_sum = Markdown(f'{l_header}\\n{l_info}')\n",
    "        if river_results['prior_report'] == 'No prior':\n",
    "            start = dt.datetime.strftime(args['prior']['date_range']['start'], format=session_config.date_format)[:4]\n",
    "            end = dt.datetime.strftime(args['prior']['date_range']['end'], format=session_config.date_format)[:4]  \n",
    "            prior_labels = f\"{start} - {end}\"\n",
    "            p_header = f\"<font color=#daa520>{start} - {end}</font>\"\n",
    "            p_info = '* No data for the period requested\\n'\n",
    "            results.update({'prior_report':'No prior data'})\n",
    "            p_samp_sum = Markdown(f'{p_header}\\n{p_info}')\n",
    "            observedvals = [([0], 'No data', palette['prior']),([0], 'No data', palette['likelihood'])]\n",
    "            forecasts = [([0], 'No data', '-', 'black')]\n",
    "        else:\n",
    "            p_summary = results['prior_report'].sampling_results_summary.copy()\n",
    "            prior_labels = extract_dates_for_labels_from_summary(p_summary)\n",
    "            p_header = f\"<font color=#daa520>{prior_labels}</font>\"\n",
    "            p_info = userdisplay.sampling_result_summary(p_summary, session_language='en')[1]\n",
    "            p_samp_sum = Markdown(f'{p_header}\\n{p_info}')\n",
    "            observedvals = [(results['prior_report'].sample_results['pcs/m'], prior_labels, palette['prior']),([0], 'No data', palette['likelihood'])]\n",
    "            forecasts = [\n",
    "                (results['prior_report'].sample_results['pcs/m'], labels_r, '-', palette['prior']),\n",
    "                ([0],f'{likelihood_labels} - no data', ':', palette['likelihood']),\n",
    "            ]\n",
    "        display_r = {\n",
    "                'weighted-forecast':forecast_weighted,\n",
    "                'observed-max-forecast': forecast_maxval,\n",
    "                'observed-99-forecast' : forecast_99,\n",
    "                'proportion-most-common' : ratio_most_common,\n",
    "                'most-common-objects' : most_common_objects,\n",
    "                'sampling-summary' : l_samp_sum,\n",
    "                'prior-sampling-summary' : p_samp_sum,\n",
    "                'observed-values' : observedvals,\n",
    "                'forecasted-values' : forecasts,\n",
    "                'likelihood-labels' : likelihood_labels,\n",
    "                'prior-labels' :prior_labels ,\n",
    "                \n",
    "            }        \n",
    "          \n",
    "    else:\n",
    "        \n",
    "        l_summary = results['this_report'].sampling_results_summary.copy()\n",
    "        likelihood_labels = extract_dates_for_labels_from_summary(l_summary)\n",
    "        l_header = f\"<font color=#1e90ff>{likelihood_labels} </font>\"\n",
    "        l_info = userdisplay.sampling_result_summary(l_summary, session_language='en')[1]\n",
    "        l_samp_sum = Markdown(f'{l_header}\\n{l_info}')\n",
    "    \n",
    "        # most common objects the likelihood data\n",
    "        object_inventory = results['this_report'].object_summary()\n",
    "        object_inventory.reset_index(drop=False, inplace=True)\n",
    "        most_common_objects, mc_codes, proportions = userdisplay.most_common(object_inventory)\n",
    "        most_common_objects = most_common_objects.set_caption(\"\")\n",
    "        ratio_most_common = Markdown(f'__The most common objects account for {int(proportions*100)}% of all objects__')        \n",
    "        \n",
    "        if results['prior_report'] == 'No prior':\n",
    "            start = args['prior']['date_range']['start'][:4]\n",
    "            end = args['prior']['date_range']['end'][:4]  \n",
    "            prior_labels = f\"{start} - {end}\"\n",
    "            \n",
    "            p_header = f\"<font color=#daa520>{prior_labels}</font>\"\n",
    "            p_info = '* No samples prior to requested dates\\n'\n",
    "            results.update({'prior_report':'see weighted'})\n",
    "            p_samp_sum = Markdown(f'{p_header}\\n{p_info}')\n",
    "            forecast_maxval =  Markdown('__Given the observed max__\\n* No prior data to consider see weighted prior\\n')\n",
    "            forecast_99 = Markdown('__Given the observed 99__\\n* No prior data to consider see weighted prior\\n')\n",
    "            \n",
    "            observedvals =  [\n",
    "                ([0],f'{prior_labels} - no data', palette['prior']),\n",
    "                (results['this_report'].sample_results['pcs/m'], likelihood_labels, palette['likelihood'])\n",
    "            ]\n",
    "    \n",
    "            weighted_args = [results['this_land_use'], session_config.feature_variables, args['land-use-inventory'], results['this_report'].sample_results['pcs/m']]\n",
    "            weighted_forecast, weighted_posterior, weighted_summary, selected = gfcast.forecast_weighted_prior(*weighted_args)\n",
    "            forecast_weighted = display_forecast_summary(weighted_summary, '__Given the weighted prior__')\n",
    "            \n",
    "            forecasts = [\n",
    "                (selected['pcs/m'], 'random weighted samples', '--', palette['prior']),\n",
    "                (results['this_report'].sample_results['pcs/m'], likelihood_labels, '-',palette['likelihood']),\n",
    "               \n",
    "                (weighted_forecast, 'forecast weighted prior', '-.', 'black'),\n",
    "            ]\n",
    "            display_r = {\n",
    "                'weighted-forecast':forecast_weighted,\n",
    "                'observed-max-forecast': forecast_maxval,\n",
    "                'observed-99-forecast' : forecast_99,\n",
    "                'proportion-most-common' : ratio_most_common,\n",
    "                'most-common-objects' : most_common_objects,\n",
    "                'sampling-summary' : l_samp_sum,\n",
    "                'prior-sampling-summary' : p_samp_sum,\n",
    "                'observed-values' : observedvals,\n",
    "                'forecasted-values' : forecasts,\n",
    "                'likelihood-labels' : likelihood_labels,\n",
    "                'prior-labels' :prior_labels ,\n",
    "                \n",
    "            }            \n",
    "            \n",
    "        else:\n",
    "            print(prior_labels)\n",
    "            p_summary = results['prior_report'].sampling_results_summary.copy()\n",
    "            prior_labels = extract_dates_for_labels_from_summary(p_summary)\n",
    "            p_header = f\"<font color=#daa520>{prior_labels}</font>\"\n",
    "            p_info = userdisplay.sampling_result_summary(p_summary, session_language='en')[1]\n",
    "            p_samp_sum = Markdown(f'{p_header_r}\\n{p_info}')\n",
    "            xii = results['posterior_no_limit'].sample_posterior()\n",
    "            forecast_maxval = display_forecast_summary(results['posterior_no_limit'].get_descriptive_statistics(), '__Given the observed max__')\n",
    "            observedvals =  [\n",
    "                \n",
    "                (results['this_report'].sample_results['pcs/m'], likelihood_labels, palette['likelihood'])\n",
    "            ]\n",
    "            # limit to the 99th percentile\n",
    "            sample_values, posterior, summary_simple = gfcast.dirichlet_posterior(results['posterior_99'])\n",
    "            forecast_99 = display_forecast_summary(summary_simple, '__Given the 99th percentile__')    \n",
    "            \n",
    "            weighted_args = [results['this_land_use'], session_config.feature_variables, args['land-use-inventory'], results['this_report'].sample_results['pcs/m']]\n",
    "            weighted_forecast, weighted_posterior, weighted_summary, selectedr = gfcast.forecast_weighted_prior(*weighted_args)\n",
    "            forecast_weighted = display_forecast_summary(weighted_summary, '__Given the weighted prior__')\n",
    "    \n",
    "            forecasts = [\n",
    "                (results['prior_report'].sample_results['pcs/m'], prior_labels, '-',palette['prior']),\n",
    "                (results['this_report'].sample_results['pcs/m'], likelihood_labels, '-',palette['likelihood']),\n",
    "                (sample_values, 'expected 99th', '-', 'blue'),\n",
    "                (xii, 'observed max', ':', 'red'),\n",
    "                (weighted_forecast, 'weighted prior', '-.', 'black')\n",
    "            ]\n",
    "\n",
    "            display_r = {\n",
    "                'weighted-forecast':forecast_weighted,\n",
    "                'observed-max-forecast': forecast_maxval,\n",
    "                'observed-99-forecast' : forecast_99,\n",
    "                'proportion-most-common' : ratio_most_common,\n",
    "                'most-common-objects' : most_common_objects,\n",
    "                'sampling-summary' : l_samp_sum,\n",
    "                'prior-sampling-summary' : p_samp_sum,\n",
    "                'observed-values' : observedvals,\n",
    "                'forecasted-values' : forecasts,\n",
    "                'likelihood-labels' : likelihood_labels,\n",
    "                'prior-labels' :prior_labels ,\n",
    "                \n",
    "            }          \n",
    "\n",
    "    return results, display_r"
   ]
  },
  {
   "cell_type": "code",
   "execution_count": 6,
   "id": "671460d2-c096-49b6-ab55-7cc9a003da78",
   "metadata": {
    "editable": true,
    "slideshow": {
     "slide_type": ""
    },
    "tags": [
     "remove-input"
    ]
   },
   "outputs": [
    {
     "data": {
      "application/papermill.record/text/markdown": "__Administrative boundaries__\n* Survey locations: 4\n* Cities: 4\n\n",
      "application/papermill.record/text/plain": "<IPython.core.display.Markdown object>"
     },
     "metadata": {
      "scrapbook": {
       "mime_prefix": "application/papermill.record/",
       "name": "administrative-boundaries-r"
      }
     },
     "output_type": "display_data"
    },
    {
     "data": {
      "application/papermill.record/text/markdown": "2020 - 2021\n* Number of samples: 4\n* Total objects: 78\n* Average pcs/m: 0.4\n* Standard deviation: 0.37\n* Maximum pcs/m: 1.02\n",
      "application/papermill.record/text/plain": "<IPython.core.display.Markdown object>"
     },
     "metadata": {
      "scrapbook": {
       "mime_prefix": "application/papermill.record/",
       "name": "sampling-summary-r"
      }
     },
     "output_type": "display_data"
    },
    {
     "data": {
      "application/papermill.record/text/markdown": "__Features surveyed__\n* Rivers: 1\n\n",
      "application/papermill.record/text/plain": "<IPython.core.display.Markdown object>"
     },
     "metadata": {
      "scrapbook": {
       "mime_prefix": "application/papermill.record/",
       "name": "feature-inventory-r"
      }
     },
     "output_type": "display_data"
    },
    {
     "data": {
      "application/papermill.record/text/markdown": "__Administrative boundaries__\n* Survey locations: 4\n* Cities: 4\n\n",
      "application/papermill.record/text/plain": "<IPython.core.display.Markdown object>"
     },
     "metadata": {
      "scrapbook": {
       "mime_prefix": "application/papermill.record/",
       "name": "administrative-boundaries-r"
      }
     },
     "output_type": "display_data"
    },
    {
     "data": {
      "application/papermill.record/text/html": "<style type=\"text/css\">\n#T_9af7f tr:nth-child(even) {\n  background-color: rgba(139, 69, 19, 0.08);\n}\n#T_9af7f tr:nth-child(odd) {\n  background: #FFF;\n}\n#T_9af7f tr {\n  font-size: 10px;\n}\n#T_9af7f th {\n  background-color: #FFF;\n  font-size: 12px;\n  text-align: left;\n  width: auto;\n  word-break: keep-all;\n}\n#T_9af7f td {\n  padding: 4px;\n  font-size: 12px;\n  text-align: center;\n}\n#T_9af7f caption {\n  caption-side: bottom;\n  font-size: 1em;\n  text-align: left;\n}\n</style>\n<table id=\"T_9af7f\">\n  <thead>\n    <tr>\n      <th class=\"blank level0\" >&nbsp;</th>\n      <th id=\"T_9af7f_level0_col0\" class=\"col_heading level0 col0\" >% of total</th>\n    </tr>\n    <tr>\n      <th class=\"index_name level0\" >material</th>\n      <th class=\"blank col0\" >&nbsp;</th>\n    </tr>\n  </thead>\n  <tbody>\n    <tr>\n      <th id=\"T_9af7f_level0_row0\" class=\"row_heading level0 row0\" >cloth</th>\n      <td id=\"T_9af7f_row0_col0\" class=\"data row0 col0\" >5%</td>\n    </tr>\n    <tr>\n      <th id=\"T_9af7f_level0_row1\" class=\"row_heading level0 row1\" >metal</th>\n      <td id=\"T_9af7f_row1_col0\" class=\"data row1 col0\" >5%</td>\n    </tr>\n    <tr>\n      <th id=\"T_9af7f_level0_row2\" class=\"row_heading level0 row2\" >plastic</th>\n      <td id=\"T_9af7f_row2_col0\" class=\"data row2 col0\" >88%</td>\n    </tr>\n  </tbody>\n</table>\n",
      "application/papermill.record/text/plain": "<pandas.io.formats.style.Styler at 0x7373b0d97a30>"
     },
     "metadata": {
      "scrapbook": {
       "mime_prefix": "application/papermill.record/",
       "name": "material-report-r"
      }
     },
     "output_type": "display_data"
    },
    {
     "name": "stdout",
     "output_type": "stream",
     "text": [
      "1.0\n",
      "2.0\n",
      "2.0\n",
      "1.0\n",
      "4.0\n",
      "3.0\n",
      "1.0\n",
      "4.0\n",
      "Index(['sample_id', 'location', 'date', 'quantity', 'pcs/m', 'public services',\n",
      "       'streets', 'orchards', 'vineyards', 'buildings', 'forest', 'undefined',\n",
      "       'buildings_public services', 'feature_type'],\n",
      "      dtype='object')\n"
     ]
    },
    {
     "data": {
      "application/papermill.record/text/markdown": "__Given the weighted prior__\n* Average: 1.28\n* HDI 95%: 0.1 - 5.8\n* 90% Range: 0.1 - 5.51",
      "application/papermill.record/text/plain": "<IPython.core.display.Markdown object>"
     },
     "metadata": {
      "scrapbook": {
       "mime_prefix": "application/papermill.record/",
       "name": "forecast-weighted-prior-r"
      }
     },
     "output_type": "display_data"
    },
    {
     "data": {
      "application/papermill.record/text/markdown": "__Given the observed max__\n* No prior data to consider see weighted prior\n",
      "application/papermill.record/text/plain": "<IPython.core.display.Markdown object>"
     },
     "metadata": {
      "scrapbook": {
       "mime_prefix": "application/papermill.record/",
       "name": "forecast-max-val-r"
      }
     },
     "output_type": "display_data"
    },
    {
     "data": {
      "application/papermill.record/text/markdown": "__Given the observed 99__\n* No prior data to consider see weighted prior\n",
      "application/papermill.record/text/plain": "<IPython.core.display.Markdown object>"
     },
     "metadata": {
      "scrapbook": {
       "mime_prefix": "application/papermill.record/",
       "name": "forecast-99-max-r"
      }
     },
     "output_type": "display_data"
    },
    {
     "data": {
      "application/papermill.record/text/markdown": "__The most common objects account for 80% of all objects__",
      "application/papermill.record/text/plain": "<IPython.core.display.Markdown object>"
     },
     "metadata": {
      "scrapbook": {
       "mime_prefix": "application/papermill.record/",
       "name": "ratio-most-common-r"
      }
     },
     "output_type": "display_data"
    },
    {
     "data": {
      "application/papermill.record/text/html": "<style type=\"text/css\">\n#T_79275 tr:nth-child(even) {\n  background-color: rgba(139, 69, 19, 0.08);\n}\n#T_79275 tr:nth-child(odd) {\n  background: #FFF;\n}\n#T_79275 tr {\n  font-size: 10px;\n}\n#T_79275 th {\n  background-color: #FFF;\n  font-size: 12px;\n  text-align: left;\n  width: auto;\n  word-break: keep-all;\n}\n#T_79275 td {\n  padding: 4px;\n  font-size: 12px;\n  text-align: center;\n}\n#T_79275 caption {\n  caption-side: top;\n  font-size: 1em;\n  text-align: left;\n  margin-bottom: 10px;\n}\n#T_79275 caption {\n  caption-side: top;\n  font-size: .9em;\n  text-align: left;\n  font-style: italic;\n  color: #000;\n}\n#T_79275 td:nth-child(1) {\n  text-align: left;\n}\n</style>\n<table id=\"T_79275\">\n  <thead>\n    <tr>\n      <th id=\"T_79275_level0_col0\" class=\"col_heading level0 col0\" >Object</th>\n      <th id=\"T_79275_level0_col1\" class=\"col_heading level0 col1\" >Quantity</th>\n      <th id=\"T_79275_level0_col2\" class=\"col_heading level0 col2\" >pcs/m</th>\n      <th id=\"T_79275_level0_col3\" class=\"col_heading level0 col3\" >% of total</th>\n      <th id=\"T_79275_level0_col4\" class=\"col_heading level0 col4\" >Fail rate</th>\n    </tr>\n  </thead>\n  <tbody>\n    <tr>\n      <td id=\"T_79275_row0_col0\" class=\"data row0 col0\" >Industrial sheeting</td>\n      <td id=\"T_79275_row0_col1\" class=\"data row0 col1\" >18</td>\n      <td id=\"T_79275_row0_col2\" class=\"data row0 col2\" >0,09</td>\n      <td id=\"T_79275_row0_col3\" class=\"data row0 col3\" >0,23</td>\n      <td id=\"T_79275_row0_col4\" class=\"data row0 col4\" >0,50</td>\n    </tr>\n    <tr>\n      <td id=\"T_79275_row1_col0\" class=\"data row1 col0\" >Diapers - wipes</td>\n      <td id=\"T_79275_row1_col1\" class=\"data row1 col1\" >13</td>\n      <td id=\"T_79275_row1_col2\" class=\"data row1 col2\" >0,07</td>\n      <td id=\"T_79275_row1_col3\" class=\"data row1 col3\" >0,17</td>\n      <td id=\"T_79275_row1_col4\" class=\"data row1 col4\" >0,50</td>\n    </tr>\n    <tr>\n      <td id=\"T_79275_row2_col0\" class=\"data row2 col0\" >Bags; plastic shopping/carrier/grocery and pieces</td>\n      <td id=\"T_79275_row2_col1\" class=\"data row2 col1\" >9</td>\n      <td id=\"T_79275_row2_col2\" class=\"data row2 col2\" >0,04</td>\n      <td id=\"T_79275_row2_col3\" class=\"data row2 col3\" >0,12</td>\n      <td id=\"T_79275_row2_col4\" class=\"data row2 col4\" >0,25</td>\n    </tr>\n    <tr>\n      <td id=\"T_79275_row3_col0\" class=\"data row3 col0\" >Sheeting ag. greenhouse film</td>\n      <td id=\"T_79275_row3_col1\" class=\"data row3 col1\" >4</td>\n      <td id=\"T_79275_row3_col2\" class=\"data row3 col2\" >0,02</td>\n      <td id=\"T_79275_row3_col3\" class=\"data row3 col3\" >0,05</td>\n      <td id=\"T_79275_row3_col4\" class=\"data row3 col4\" >0,25</td>\n    </tr>\n    <tr>\n      <td id=\"T_79275_row4_col0\" class=\"data row4 col0\" >Tape-caution for barrier, police, construction etc.</td>\n      <td id=\"T_79275_row4_col1\" class=\"data row4 col1\" >4</td>\n      <td id=\"T_79275_row4_col2\" class=\"data row4 col2\" >0,02</td>\n      <td id=\"T_79275_row4_col3\" class=\"data row4 col3\" >0,05</td>\n      <td id=\"T_79275_row4_col4\" class=\"data row4 col4\" >0,50</td>\n    </tr>\n    <tr>\n      <td id=\"T_79275_row5_col0\" class=\"data row5 col0\" >Plastic construction waste</td>\n      <td id=\"T_79275_row5_col1\" class=\"data row5 col1\" >4</td>\n      <td id=\"T_79275_row5_col2\" class=\"data row5 col2\" >0,02</td>\n      <td id=\"T_79275_row5_col3\" class=\"data row5 col3\" >0,05</td>\n      <td id=\"T_79275_row5_col4\" class=\"data row5 col4\" >0,25</td>\n    </tr>\n    <tr>\n      <td id=\"T_79275_row6_col0\" class=\"data row6 col0\" >Fragmented plastics</td>\n      <td id=\"T_79275_row6_col1\" class=\"data row6 col1\" >4</td>\n      <td id=\"T_79275_row6_col2\" class=\"data row6 col2\" >0,02</td>\n      <td id=\"T_79275_row6_col3\" class=\"data row6 col3\" >0,05</td>\n      <td id=\"T_79275_row6_col4\" class=\"data row6 col4\" >0,50</td>\n    </tr>\n    <tr>\n      <td id=\"T_79275_row7_col0\" class=\"data row7 col0\" >Sanitary pads /panty liners/tampons and applicators</td>\n      <td id=\"T_79275_row7_col1\" class=\"data row7 col1\" >3</td>\n      <td id=\"T_79275_row7_col2\" class=\"data row7 col2\" >0,01</td>\n      <td id=\"T_79275_row7_col3\" class=\"data row7 col3\" >0,04</td>\n      <td id=\"T_79275_row7_col4\" class=\"data row7 col4\" >0,25</td>\n    </tr>\n    <tr>\n      <td id=\"T_79275_row8_col0\" class=\"data row8 col0\" >Cigarette filters</td>\n      <td id=\"T_79275_row8_col1\" class=\"data row8 col1\" >2</td>\n      <td id=\"T_79275_row8_col2\" class=\"data row8 col2\" >0,01</td>\n      <td id=\"T_79275_row8_col3\" class=\"data row8 col3\" >0,03</td>\n      <td id=\"T_79275_row8_col4\" class=\"data row8 col4\" >0,25</td>\n    </tr>\n    <tr>\n      <td id=\"T_79275_row9_col0\" class=\"data row9 col0\" >Expanded polystyrene</td>\n      <td id=\"T_79275_row9_col1\" class=\"data row9 col1\" >2</td>\n      <td id=\"T_79275_row9_col2\" class=\"data row9 col2\" >0,01</td>\n      <td id=\"T_79275_row9_col3\" class=\"data row9 col3\" >0,03</td>\n      <td id=\"T_79275_row9_col4\" class=\"data row9 col4\" >0,50</td>\n    </tr>\n  </tbody>\n</table>\n",
      "application/papermill.record/text/plain": "<pandas.io.formats.style.Styler at 0x73731939a1f0>"
     },
     "metadata": {
      "scrapbook": {
       "mime_prefix": "application/papermill.record/",
       "name": "most_common_objects-r"
      }
     },
     "output_type": "display_data"
    },
    {
     "data": {
      "application/papermill.record/text/markdown": "<font color=#1e90ff>2020 - 2021 </font>\n* Number of samples: 4\n* Total objects: 78\n* Average pcs/m: 0.4\n* Standard deviation: 0.37\n* Maximum pcs/m: 1.02\n",
      "application/papermill.record/text/plain": "<IPython.core.display.Markdown object>"
     },
     "metadata": {
      "scrapbook": {
       "mime_prefix": "application/papermill.record/",
       "name": "l-sampling-summary-r"
      }
     },
     "output_type": "display_data"
    },
    {
     "data": {
      "application/papermill.record/text/markdown": "<font color=#daa520>2015 - 2019</font>\n* No samples prior to requested dates\n",
      "application/papermill.record/text/plain": "<IPython.core.display.Markdown object>"
     },
     "metadata": {
      "scrapbook": {
       "mime_prefix": "application/papermill.record/",
       "name": "prior-sampling-summary-r"
      }
     },
     "output_type": "display_data"
    },
    {
     "data": {
      "application/papermill.record/image/png": "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",
      "application/papermill.record/text/plain": "<Figure size 640x480 with 1 Axes>"
     },
     "metadata": {
      "scrapbook": {
       "mime_prefix": "application/papermill.record/",
       "name": "river-prior-likelihood"
      }
     },
     "output_type": "display_data"
    },
    {
     "data": {
      "application/papermill.record/image/png": "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",
      "application/papermill.record/text/plain": "<Figure size 640x480 with 1 Axes>"
     },
     "metadata": {
      "scrapbook": {
       "mime_prefix": "application/papermill.record/",
       "name": "river-cumumlative-dist-forecast-prior"
      }
     },
     "output_type": "display_data"
    },
    {
     "data": {
      "application/papermill.record/text/markdown": "Survey total pcs/m 2020 - 2021 v/s 2015 - 2019. All locations considered.",
      "application/papermill.record/text/plain": "<IPython.core.display.Markdown object>"
     },
     "metadata": {
      "scrapbook": {
       "mime_prefix": "application/papermill.record/",
       "name": "caption-histo-r"
      }
     },
     "output_type": "display_data"
    }
   ],
   "source": [
    "# rivers\n",
    "# all river surveys\n",
    "c_all_r,  _ = gfcast.filter_data(d,{'canton': canton, 'feature_type': 'r',  'date_range': {'start':prior_dates['start'], 'end':o_dates['end']}})\n",
    "call_r_surveys, call_r_land = gfcast.make_report_objects(c_all_r)\n",
    "\n",
    "# summary and labels\n",
    "all_summary_r = call_r_surveys.sampling_results_summary\n",
    "all_labels_r = extract_dates_for_labels_from_summary(all_summary_r)\n",
    "\n",
    "# material proportions all data\n",
    "material_report_r = call_r_surveys.material_report\n",
    "material_report_r = material_report_r.style.set_table_styles(userdisplay.table_css_styles)\n",
    "\n",
    "# display the inventory of features\n",
    "feature_inv = call_r_surveys.feature_inventory()\n",
    "feature_inventory_r = format_boundaries_feature_inv(feature_inv, ['p', 'l'], userdisplay.feature_inventory)\n",
    "    \n",
    "# display the inventory of boundaries\n",
    "aboundaries_r = call_r_surveys.administrative_boundaries().copy()\n",
    "administrative_boundaries_r = format_boundaries_feature_inv(aboundaries_r, ['canton', 'parent_boundary'], userdisplay.boundaries)\n",
    "    \n",
    "# display the sampling summaries\n",
    "all_info_r = userdisplay.sampling_result_summary(all_summary_r, session_language='en')[1]\n",
    "all_samp_sum_r = Markdown(f'{all_labels_r}\\n{all_info_r}')\n",
    "\n",
    "glue('administrative-boundaries-r', administrative_boundaries_r, display=False)\n",
    "glue('sampling-summary-r', all_samp_sum_r, display=False)\n",
    "glue('feature-inventory-r', feature_inventory_r, display=False)\n",
    "glue('administrative-boundaries-r', administrative_boundaries_r, display=False)\n",
    "glue('material-report-r', material_report_r, display=False)\n",
    "\n",
    "\n",
    "# make complete report\n",
    "river_params = {'canton':canton, 'date_range':o_dates, 'feature_type': 'r'}\n",
    "river_params_p = {'canton':canton, 'date_range':prior_dates, 'feature_type':'r'}\n",
    "\n",
    "o_prior_r = d[(d.canton != canton)&(d['date'] <= o_dates['end'])&(d.feature_type == 'r')].copy()\n",
    "o_report_r, o_land_use_r = gfcast.make_report_objects(o_prior_r)\n",
    "newd = o_land_use_r.df_cat.copy()\n",
    "newd['feature_type'] = 'r'\n",
    "\n",
    "args = {\n",
    "    'likelihood': river_params,\n",
    "    'prior' : river_params_p,\n",
    "    'data' : d,\n",
    "    'logger' : logger,\n",
    "    'land-use-inventory' : newd.copy(),\n",
    "}\n",
    "\n",
    "river_results, display_r = report_and_forecast(args)\n",
    "\n",
    "glue('forecast-weighted-prior-r', display_r['weighted-forecast'], display=False)\n",
    "glue('forecast-max-val-r', display_r['observed-max-forecast'], display=False)\n",
    "glue('forecast-99-max-r',display_r['observed-99-forecast'], display=False)\n",
    "glue('ratio-most-common-r', display_r['proportion-most-common'], display=False)\n",
    "glue('most_common_objects-r',display_r['most-common-objects'], display=False)\n",
    "glue('l-sampling-summary-r', display_r['sampling-summary'], display=False)\n",
    "glue('prior-sampling-summary-r', display_r['prior-sampling-summary'], display=False)            \n",
    "    \n",
    "caption_histo_r = Markdown(f\"Survey total pcs/m {display_r['likelihood-labels']} v/s {display_r['prior-labels']}. All locations considered.\")        \n",
    "\n",
    "fig, ax = plt.subplots()\n",
    "\n",
    "for vals in  display_r['observed-values']:\n",
    "    sns.histplot(data=vals[0], stat='probability', label=vals[1], ax=ax, color=vals[2])\n",
    "ax.legend()\n",
    "plt.tight_layout()\n",
    "glue('river-prior-likelihood', fig, display=False)\n",
    "plt.close()\n",
    "\n",
    "fig, ax = plt.subplots()\n",
    "\n",
    "for vals in display_r['forecasted-values']:\n",
    "    sns.ecdfplot(vals[0], label=vals[1], ls=vals[2], ax=ax, c=vals[3], zorder=1)\n",
    "ax.set_xlim(-.1, 10)\n",
    "ax.legend()\n",
    "plt.tight_layout()\n",
    "glue('river-cumumlative-dist-forecast-prior', fig, display=False)\n",
    "plt.close()\n",
    "\n",
    "glue('caption-histo-r', caption_histo_r, display=False)"
   ]
  },
  {
   "cell_type": "code",
   "execution_count": 7,
   "id": "2164a912-9ebd-481d-bf51-ad31556d77b8",
   "metadata": {},
   "outputs": [],
   "source": [
    "import matplotlib.patches as mpatches\n",
    "gpd.options.io_engine = \"pyogrio\"\n",
    "\n",
    "kanton = gpd.read_file('data/ignorethis/shapes/kantons.shp', where=\"NAME='Valais'\")\n",
    "kanton.rename(columns={'NAME':'canton'}, inplace=True)\n",
    "kantonbuffer = kanton.buffer(40)\n",
    "\n",
    "kbufferbounds = kantonbuffer.total_bounds\n",
    "minxb, minyb, maxxb, maxyb = kbufferbounds\n",
    "bounds = kanton.total_bounds\n",
    "minx, miny, maxx, maxy = bounds\n",
    "cantons_number = kanton.KANTONSNUM.unique()\n",
    "cities = gpd.read_file('data/ignorethis/shapes/municipalities.shp', where=f\"KANTONSNUM='{cantons_number[0]}'\")\n",
    "cities.rename(columns={'NAME':'city'}, inplace=True)\n",
    "landcover = gpd.read_file('data/ignorethis/shapes/landcover.shp', bbox=(minx, miny, maxx, maxy))\n",
    "landcover.rename(columns={'OBJVAL':'land-use'}, inplace=True)\n",
    "trimmedlc = gpd.overlay(landcover, kanton, how='intersection', keep_geom_type=True)\n"
   ]
  },
  {
   "cell_type": "code",
   "execution_count": 8,
   "id": "b4cfe482-c268-4483-82f0-177ffba5b7c3",
   "metadata": {},
   "outputs": [
    {
     "data": {
      "text/plain": [
       "Index(['canton', 'city', 'land-use', 'area_m2', 'area_m2_buffer', 'geometry',\n",
       "       'color'],\n",
       "      dtype='object')"
      ]
     },
     "execution_count": 8,
     "metadata": {},
     "output_type": "execute_result"
    }
   ],
   "source": [
    "\n",
    "rivers = gpd.read_file('data/ignorethis/shapes/rivers.shp', bbox=(minxb, minyb, maxxb, maxyb), where=\"NAMN='Le Rhône'\")\n",
    "rivers.rename(columns={'NAME':'river-name' }, inplace=True)\n",
    "buffer_gdf = gpd.GeoDataFrame(geometry=rivers.buffer(1500), crs=rivers.crs)\n",
    "river_buffer = buffer_gdf.dissolve()\n",
    "lakes = gpd.read_file('data/ignorethis/shapes/lakes.shp', bbox=(minx, miny, maxx, maxy))\n",
    "# Perform spatial join to find polygons that intersect with any polyline\n",
    "river_ctites = gpd.sjoin(cities, rivers, how=\"inner\", predicate=\"intersects\")\n",
    "\n",
    "\n",
    "colors = {\n",
    "    'Wald': 'green',\n",
    "    'Fels': 'gray',\n",
    "    'Geroell': 'gray',\n",
    "    'Gletscher': 'gray',\n",
    "    'Stausee': 'blue',\n",
    "    'See': 'blue',\n",
    "    'Reben': 'green',\n",
    "    'Obstanlage': 'green',\n",
    "    'Siedl': 'black',\n",
    "    'Sumpf': 'yellow'\n",
    "}\n",
    "\n",
    "land_cover_fr = {\n",
    "    'undefined': 'Non défini',\n",
    "    'Siedl': 'Siedl',\n",
    "    'Wald': 'Forêt',\n",
    "    'Reben': 'Vignes',\n",
    "    'Obstanlage': 'Verger'\n",
    "}\n",
    "\n",
    "\n",
    "\n",
    "# unique_values = trimmed_gdf['OBJVAL'].unique()\n",
    "# Perform the intersection operation to get only the parts of the cities within the buffer\n",
    "intersected_gdf = gpd.overlay(river_ctites, river_buffer, how='intersection', keep_geom_type=False)\n",
    "intersected_gdf['area_m2_buffer'] = intersected_gdf.geometry.area\n",
    "\n",
    "# Drop duplicate polygons if necessary\n",
    "# river_ctites = intersected_polygons.drop_duplicates()\n",
    "intersect_landuse = gpd.overlay(trimmedlc, intersected_gdf, how='intersection', keep_geom_type=False)\n",
    "intersect_landuse['color'] = intersect_landuse['land-use'].map(colors)\n",
    "unique_values = intersect_landuse['land-use'].unique()\n",
    "intersect_landuse['area_m2'] = intersect_landuse.geometry.area\n",
    "intersect_landusex = intersect_landuse[['canton', 'city', 'land-use', 'area_m2', 'area_m2_buffer', 'geometry', 'color']].copy()\n",
    "intersect_landusex.columns"
   ]
  },
  {
   "cell_type": "code",
   "execution_count": 9,
   "id": "56231b81-68ed-4cb2-b737-6826735acd84",
   "metadata": {},
   "outputs": [],
   "source": [
    "municipal = intersect_landusex.groupby(['canton' , 'city', 'land-use', 'area_m2_buffer'], as_index=False).area_m2.sum()\n",
    "municipal['rate' ] = municipal.area_m2/municipal.area_m2_buffer\n",
    "municipalx = municipal.pivot(columns='land-use', index='city', values='rate' )\n",
    "municipalx.reset_index(drop=False, inplace=True)"
   ]
  },
  {
   "cell_type": "code",
   "execution_count": 10,
   "id": "1d388265-3c54-49df-b157-d66c9dba4faa",
   "metadata": {},
   "outputs": [
    {
     "data": {
      "text/html": [
       "<div>\n",
       "<style scoped>\n",
       "    .dataframe tbody tr th:only-of-type {\n",
       "        vertical-align: middle;\n",
       "    }\n",
       "\n",
       "    .dataframe tbody tr th {\n",
       "        vertical-align: top;\n",
       "    }\n",
       "\n",
       "    .dataframe thead th {\n",
       "        text-align: right;\n",
       "    }\n",
       "</style>\n",
       "<table border=\"1\" class=\"dataframe\">\n",
       "  <thead>\n",
       "    <tr style=\"text-align: right;\">\n",
       "      <th></th>\n",
       "      <th>canton</th>\n",
       "      <th>city</th>\n",
       "      <th>land-use</th>\n",
       "      <th>area_m2_buffer</th>\n",
       "      <th>area_m2</th>\n",
       "      <th>rate</th>\n",
       "    </tr>\n",
       "  </thead>\n",
       "  <tbody>\n",
       "    <tr>\n",
       "      <th>0</th>\n",
       "      <td>Valais</td>\n",
       "      <td>Ardon</td>\n",
       "      <td>Obstanlage</td>\n",
       "      <td>2.960554e+06</td>\n",
       "      <td>3.332743e+06</td>\n",
       "      <td>1.125716</td>\n",
       "    </tr>\n",
       "    <tr>\n",
       "      <th>1</th>\n",
       "      <td>Valais</td>\n",
       "      <td>Ardon</td>\n",
       "      <td>Reben</td>\n",
       "      <td>2.960554e+06</td>\n",
       "      <td>1.878350e+06</td>\n",
       "      <td>0.634459</td>\n",
       "    </tr>\n",
       "    <tr>\n",
       "      <th>2</th>\n",
       "      <td>Valais</td>\n",
       "      <td>Ardon</td>\n",
       "      <td>Siedl</td>\n",
       "      <td>2.960554e+06</td>\n",
       "      <td>3.538270e+05</td>\n",
       "      <td>0.119514</td>\n",
       "    </tr>\n",
       "    <tr>\n",
       "      <th>3</th>\n",
       "      <td>Valais</td>\n",
       "      <td>Ausserberg</td>\n",
       "      <td>Fels</td>\n",
       "      <td>4.113409e+06</td>\n",
       "      <td>6.623179e+05</td>\n",
       "      <td>0.161014</td>\n",
       "    </tr>\n",
       "    <tr>\n",
       "      <th>4</th>\n",
       "      <td>Valais</td>\n",
       "      <td>Ausserberg</td>\n",
       "      <td>Reben</td>\n",
       "      <td>4.113409e+06</td>\n",
       "      <td>1.819049e+04</td>\n",
       "      <td>0.004422</td>\n",
       "    </tr>\n",
       "  </tbody>\n",
       "</table>\n",
       "</div>"
      ],
      "text/plain": [
       "   canton        city    land-use  area_m2_buffer       area_m2      rate\n",
       "0  Valais       Ardon  Obstanlage    2.960554e+06  3.332743e+06  1.125716\n",
       "1  Valais       Ardon       Reben    2.960554e+06  1.878350e+06  0.634459\n",
       "2  Valais       Ardon       Siedl    2.960554e+06  3.538270e+05  0.119514\n",
       "3  Valais  Ausserberg        Fels    4.113409e+06  6.623179e+05  0.161014\n",
       "4  Valais  Ausserberg       Reben    4.113409e+06  1.819049e+04  0.004422"
      ]
     },
     "execution_count": 10,
     "metadata": {},
     "output_type": "execute_result"
    }
   ],
   "source": [
    "\n",
    "\n",
    "undefined = municipal.groupby(['city','area_m2_buffer'], as_index=False).area_m2.sum()\n",
    "undefined['undefined'] = undefined.area_m2_buffer - undefined.area_m2\n",
    "undefined['rate'] = undefined.undefined/undefined.area_m2_buffer\n",
    "municipalx = municipalx.merge(undefined[['city', 'rate']], left_on='city', right_on='city')\n",
    "municipalx.rename(columns={'rate':'undefined'}, inplace=True)\n",
    "municipalx.fillna(0, inplace=True)\n",
    "municipalx.set_index('city', drop=True, inplace=True)\n",
    "municipalx = municipalx.round(3)\n",
    "municipalx['check'] = municipalx.sum(axis=1)\n",
    "municipal.head()"
   ]
  },
  {
   "cell_type": "code",
   "execution_count": 11,
   "id": "52e32281-a3a7-41f9-ac82-76ef40ba8a45",
   "metadata": {},
   "outputs": [],
   "source": [
    "feature_columns = ['Siedl', 'Wald', 'Obstanlage', 'Reben', 'undefined']\n",
    "municategorized = geospatial.categorize_features(municipalx[['Siedl', 'Wald', 'Obstanlage', 'Reben', 'undefined']].copy(), feature_columns=feature_columns)\n",
    "weights = []\n",
    "for cat in feature_columns:\n",
    "    aweight = municategorized[cat].value_counts()/len(municategorized)\n",
    "    aweight.name = cat\n",
    "    weights.append(aweight)\n",
    "weighted = pd.DataFrame(weights).T\n",
    "weighted.fillna(0, inplace=True)\n",
    "weighted.rename(columns={'Siedl':'buildings', 'Wald':'forest', 'Obstanlage':'orchards', 'Reben':'vineyards', 'Undefined':'undefined'}, inplace=True)"
   ]
  },
  {
   "cell_type": "code",
   "execution_count": 81,
   "id": "610d3852-eff6-41d8-9658-c8bc9eaca62f",
   "metadata": {},
   "outputs": [
    {
     "data": {
      "text/plain": [
       "<matplotlib.legend.Legend at 0x737314d7a5b0>"
      ]
     },
     "execution_count": 81,
     "metadata": {},
     "output_type": "execute_result"
    },
    {
     "data": {
      "image/png": "[encoded data removed]",
      "text/plain": [
       "<Figure size 640x480 with 1 Axes>"
      ]
     },
     "metadata": {},
     "output_type": "display_data"
    }
   ],
   "source": [
    "def a_location_marker(a_location, crs:str = \"EPSG:4326\", to_crs: str = \"EPSG:3857\"):\n",
    "    this_location, these_bounds = userdisplay.map_markers(a_location)\n",
    "    this_geometry = [Point(loc['longitude'], loc['latitude']) for loc in this_location]\n",
    "    this_shape = gpd.GeoDataFrame(this_location, geometry=this_geometry, crs=crs)\n",
    "    this_shape = this_shape.to_crs(to_crs)\n",
    "    return this_shape, these_bounds\n",
    "\n",
    "\n",
    "\n",
    "sresr = river_results['this_report'].sample_results\n",
    "these_locations = sresr.location.unique()\n",
    "a_location = sresr[sresr.location == these_locations[1]].copy()\n",
    "this_shape, these_bounds = a_location_marker(a_location)\n",
    "\n",
    "this_buffer = gpd.GeoDataFrame(geometry=this_shape.buffer(1500), crs=\"epsg:3857\")\n",
    "location_buffer = this_buffer.dissolve()\n",
    "\n",
    "\n",
    "location_landuse = gpd.overlay(landcover.to_crs('epsg:3857'), location_buffer, how='intersection', keep_geom_type=True)\n",
    "location_landuse['color'] = location_landuse['land-use'].map(colors)\n",
    "\n",
    "location_theme = gpd.overlay(rivers, location_buffer, how='intersection', keep_geom_type=True) \n",
    "fig, ax = plt.subplots()\n",
    "\n",
    "location_buffer.plot(color='yellow' , alpha=0.5, edgecolor='black', ax=ax)\n",
    "\n",
    "legend_elements = []\n",
    "for ause in location_landuse['land-use'].unique():\n",
    "    subset = location_landuse[location_landuse['land-use'] == value]\n",
    "    legend_elements.append(mpatches.Patch(color=subset['color'].unique()[0], label=value))\n",
    "    subset.plot(ax=ax, color=subset['color'].unique()[0], label=value, edgecolor='white', alpha=0.2)\n",
    "location_theme.plot(ax=ax, color='blue')\n",
    "    \n",
    "this_shape.plot(ax=ax)    \n",
    "ax.legend(handles=legend_elements)\n"
   ]
  },
  {
   "cell_type": "code",
   "execution_count": 71,
   "id": "5c89b90d-7e6d-4504-91ac-fa307eeede18",
   "metadata": {},
   "outputs": [
    {
     "data": {
      "image/png": "[encoded data removed]",
      "text/plain": [
       "<Figure size 640x480 with 1 Axes>"
      ]
     },
     "metadata": {},
     "output_type": "display_data"
    }
   ],
   "source": [
    "\n",
    "\n",
    "\n",
    "# buffer_gdf = gpd.GeoDataFrame(geometry=rivers.buffer(1500), crs=rivers.crs)\n",
    "# river_buffer = buffer_gdf.dissolve()\n",
    "\n",
    "# sresr = river_results['this_report'].sample_results\n",
    "# # presr = river_results['prior_report'].sample_results\n",
    "\n",
    "# marker_statsa, map_boundsa = userdisplay.map_markers(ares)\n",
    "# geometrya = [Point(loc['longitude'], loc['latitude']) for loc in marker_statsa]\n",
    "# gdfa = gpd.GeoDataFrame(marker_statsa, geometry=geometrya, crs=\"EPSG:4326\")\n",
    "# gdfa = gdfa.to_crs(epsg=3857)\n",
    "\n",
    "\n",
    "# marker_stats, map_bounds = userdisplay.map_markers(sres)\n",
    "# geometry = [Point(loc['longitude'], loc['latitude']) for loc in marker_stats]\n",
    "# gdf = gpd.GeoDataFrame(marker_stats, geometry=geometry, crs=\"EPSG:3857\")\n",
    "\n",
    "# marker_statsp, map_boundsp = userdisplay.map_markers(pres)\n",
    "# geometryp = [Point(loc['longitude'], loc['latitude']) for loc in marker_statsp]\n",
    "# gdfp = gpd.GeoDataFrame(marker_statsp, geometry=geometryp, crs=\"EPSG:3857\")\n",
    "\n",
    "\n",
    "\n",
    "\n",
    "fig, ax = plt.subplots()\n",
    "this_land_use = intersect_landusex[intersect_landusex.city == 'Sion'].copy()\n",
    "this_city = cities[cities.city == 'Sion'].copy()\n",
    "this_river = gpd.overlay(rivers, this_city, keep_geom_type=False)\n",
    "\n",
    "\n",
    "for a_layer in [this_city, this_land_use, this_river, this_shape, kanton, cities, rivers]:\n",
    "\n",
    "    \n",
    "    a_layer.to_crs(epsg=3857, inplace=True)\n",
    "\n",
    "\n",
    "\n",
    "\n",
    "this_city.plot(ax=ax, color='yellow', alpha=0.5)\n",
    "\n",
    "legend_elements = []\n",
    "for value in this_land_use['land-use'].unique():\n",
    "    subset = this_land_use[this_land_use['land-use'] == value]\n",
    "    legend_elements.append(mpatches.Patch(color=subset['color'].unique()[0], label=value))\n",
    "    subset.plot(ax=ax, color=subset['color'].unique()[0], label=value, edgecolor=None, alpha=0.2)\n",
    "this_river.plot(ax=ax, color='blue')\n",
    "this_shape.plot(ax=ax, color='red')\n",
    "location_buffer.plot(ax=ax, color='white', alpha=.2, zorder=10)\n",
    "ax.legend(handles=legend_elements)\n",
    "plt.show()"
   ]
  },
  {
   "cell_type": "code",
   "execution_count": 61,
   "id": "1fd1658e-f74f-45ce-8252-c05ccdbc9a23",
   "metadata": {},
   "outputs": [
    {
     "data": {
      "text/html": [
       "<div>\n",
       "<style scoped>\n",
       "    .dataframe tbody tr th:only-of-type {\n",
       "        vertical-align: middle;\n",
       "    }\n",
       "\n",
       "    .dataframe tbody tr th {\n",
       "        vertical-align: top;\n",
       "    }\n",
       "\n",
       "    .dataframe thead th {\n",
       "        text-align: right;\n",
       "    }\n",
       "</style>\n",
       "<table border=\"1\" class=\"dataframe\">\n",
       "  <thead>\n",
       "    <tr style=\"text-align: right;\">\n",
       "      <th></th>\n",
       "      <th>sample_id</th>\n",
       "      <th>quantity</th>\n",
       "      <th>pcs/m</th>\n",
       "      <th>date</th>\n",
       "      <th>latitude</th>\n",
       "      <th>longitude</th>\n",
       "      <th>location</th>\n",
       "      <th>geometry</th>\n",
       "    </tr>\n",
       "  </thead>\n",
       "  <tbody>\n",
       "    <tr>\n",
       "      <th>0</th>\n",
       "      <td>1</td>\n",
       "      <td>9</td>\n",
       "      <td>0.18</td>\n",
       "      <td>2020-10-15</td>\n",
       "      <td>46.222049</td>\n",
       "      <td>7.361664</td>\n",
       "      <td>les-vieux-ronquoz</td>\n",
       "      <td>POINT (819496.688 5816004.363)</td>\n",
       "    </tr>\n",
       "  </tbody>\n",
       "</table>\n",
       "</div>"
      ],
      "text/plain": [
       "   sample_id  quantity  pcs/m       date   latitude  longitude  \\\n",
       "0          1         9   0.18 2020-10-15  46.222049   7.361664   \n",
       "\n",
       "            location                        geometry  \n",
       "0  les-vieux-ronquoz  POINT (819496.688 5816004.363)  "
      ]
     },
     "execution_count": 61,
     "metadata": {},
     "output_type": "execute_result"
    }
   ],
   "source": [
    "this_shape"
   ]
  },
  {
   "cell_type": "code",
   "execution_count": 50,
   "id": "0837ee84-7ae2-4ee6-a02a-5cbf2619812c",
   "metadata": {},
   "outputs": [
    {
     "data": {
      "text/html": [
       "<div>\n",
       "<style scoped>\n",
       "    .dataframe tbody tr th:only-of-type {\n",
       "        vertical-align: middle;\n",
       "    }\n",
       "\n",
       "    .dataframe tbody tr th {\n",
       "        vertical-align: top;\n",
       "    }\n",
       "\n",
       "    .dataframe thead th {\n",
       "        text-align: right;\n",
       "    }\n",
       "</style>\n",
       "<table border=\"1\" class=\"dataframe\">\n",
       "  <thead>\n",
       "    <tr style=\"text-align: right;\">\n",
       "      <th></th>\n",
       "      <th>sample_id</th>\n",
       "      <th>location</th>\n",
       "      <th>date</th>\n",
       "      <th>quantity</th>\n",
       "      <th>pcs/m</th>\n",
       "    </tr>\n",
       "  </thead>\n",
       "  <tbody>\n",
       "    <tr>\n",
       "      <th>0</th>\n",
       "      <td>('grand-clos', '2016-09-21')</td>\n",
       "      <td>grand-clos</td>\n",
       "      <td>2016-09-21</td>\n",
       "      <td>1159</td>\n",
       "      <td>41.47</td>\n",
       "    </tr>\n",
       "    <tr>\n",
       "      <th>1</th>\n",
       "      <td>('grand-clos', '2017-10-22')</td>\n",
       "      <td>grand-clos</td>\n",
       "      <td>2017-10-22</td>\n",
       "      <td>183</td>\n",
       "      <td>6.55</td>\n",
       "    </tr>\n",
       "  </tbody>\n",
       "</table>\n",
       "</div>"
      ],
      "text/plain": [
       "                      sample_id    location       date  quantity  pcs/m\n",
       "0  ('grand-clos', '2016-09-21')  grand-clos 2016-09-21      1159  41.47\n",
       "1  ('grand-clos', '2017-10-22')  grand-clos 2017-10-22       183   6.55"
      ]
     },
     "execution_count": 50,
     "metadata": {},
     "output_type": "execute_result"
    }
   ],
   "source": [
    "pres"
   ]
  },
  {
   "cell_type": "code",
   "execution_count": 49,
   "id": "0d419dbe-8dca-4816-88ec-237af0b44d0c",
   "metadata": {},
   "outputs": [
    {
     "data": {
      "text/html": [
       "<div>\n",
       "<style scoped>\n",
       "    .dataframe tbody tr th:only-of-type {\n",
       "        vertical-align: middle;\n",
       "    }\n",
       "\n",
       "    .dataframe tbody tr th {\n",
       "        vertical-align: top;\n",
       "    }\n",
       "\n",
       "    .dataframe thead th {\n",
       "        text-align: right;\n",
       "    }\n",
       "</style>\n",
       "<table border=\"1\" class=\"dataframe\">\n",
       "  <thead>\n",
       "    <tr style=\"text-align: right;\">\n",
       "      <th></th>\n",
       "      <th>sample_id</th>\n",
       "      <th>location</th>\n",
       "      <th>date</th>\n",
       "      <th>quantity</th>\n",
       "      <th>pcs/m</th>\n",
       "    </tr>\n",
       "  </thead>\n",
       "  <tbody>\n",
       "    <tr>\n",
       "      <th>0</th>\n",
       "      <td>('grand-clos', '2016-09-21')</td>\n",
       "      <td>grand-clos</td>\n",
       "      <td>2016-09-21</td>\n",
       "      <td>1159</td>\n",
       "      <td>41.47</td>\n",
       "    </tr>\n",
       "    <tr>\n",
       "      <th>1</th>\n",
       "      <td>('grand-clos', '2017-10-22')</td>\n",
       "      <td>grand-clos</td>\n",
       "      <td>2017-10-22</td>\n",
       "      <td>183</td>\n",
       "      <td>6.55</td>\n",
       "    </tr>\n",
       "    <tr>\n",
       "      <th>2</th>\n",
       "      <td>('grand-clos', '2020-05-07')</td>\n",
       "      <td>grand-clos</td>\n",
       "      <td>2020-05-07</td>\n",
       "      <td>510</td>\n",
       "      <td>15.92</td>\n",
       "    </tr>\n",
       "    <tr>\n",
       "      <th>3</th>\n",
       "      <td>('grand-clos', '2020-06-09')</td>\n",
       "      <td>grand-clos</td>\n",
       "      <td>2020-06-09</td>\n",
       "      <td>538</td>\n",
       "      <td>15.88</td>\n",
       "    </tr>\n",
       "    <tr>\n",
       "      <th>4</th>\n",
       "      <td>('grand-clos', '2020-07-07')</td>\n",
       "      <td>grand-clos</td>\n",
       "      <td>2020-07-07</td>\n",
       "      <td>1475</td>\n",
       "      <td>52.73</td>\n",
       "    </tr>\n",
       "    <tr>\n",
       "      <th>5</th>\n",
       "      <td>('grand-clos', '2020-08-06')</td>\n",
       "      <td>grand-clos</td>\n",
       "      <td>2020-08-06</td>\n",
       "      <td>1099</td>\n",
       "      <td>42.31</td>\n",
       "    </tr>\n",
       "    <tr>\n",
       "      <th>6</th>\n",
       "      <td>('grand-clos', '2020-09-08')</td>\n",
       "      <td>grand-clos</td>\n",
       "      <td>2020-09-08</td>\n",
       "      <td>616</td>\n",
       "      <td>13.63</td>\n",
       "    </tr>\n",
       "    <tr>\n",
       "      <th>7</th>\n",
       "      <td>('grand-clos', '2020-10-06')</td>\n",
       "      <td>grand-clos</td>\n",
       "      <td>2020-10-06</td>\n",
       "      <td>581</td>\n",
       "      <td>20.78</td>\n",
       "    </tr>\n",
       "    <tr>\n",
       "      <th>8</th>\n",
       "      <td>('grand-clos', '2020-12-08')</td>\n",
       "      <td>grand-clos</td>\n",
       "      <td>2020-12-08</td>\n",
       "      <td>716</td>\n",
       "      <td>23.03</td>\n",
       "    </tr>\n",
       "    <tr>\n",
       "      <th>9</th>\n",
       "      <td>('grand-clos', '2021-01-07')</td>\n",
       "      <td>grand-clos</td>\n",
       "      <td>2021-01-07</td>\n",
       "      <td>433</td>\n",
       "      <td>6.25</td>\n",
       "    </tr>\n",
       "    <tr>\n",
       "      <th>10</th>\n",
       "      <td>('grand-clos', '2021-02-09')</td>\n",
       "      <td>grand-clos</td>\n",
       "      <td>2021-02-09</td>\n",
       "      <td>156</td>\n",
       "      <td>2.58</td>\n",
       "    </tr>\n",
       "    <tr>\n",
       "      <th>11</th>\n",
       "      <td>('grand-clos', '2021-03-09')</td>\n",
       "      <td>grand-clos</td>\n",
       "      <td>2021-03-09</td>\n",
       "      <td>885</td>\n",
       "      <td>49.24</td>\n",
       "    </tr>\n",
       "    <tr>\n",
       "      <th>12</th>\n",
       "      <td>('grand-clos', '2021-04-10')</td>\n",
       "      <td>grand-clos</td>\n",
       "      <td>2021-04-10</td>\n",
       "      <td>551</td>\n",
       "      <td>17.71</td>\n",
       "    </tr>\n",
       "    <tr>\n",
       "      <th>13</th>\n",
       "      <td>('les-glariers', '2020-12-01')</td>\n",
       "      <td>les-glariers</td>\n",
       "      <td>2020-12-01</td>\n",
       "      <td>3</td>\n",
       "      <td>0.09</td>\n",
       "    </tr>\n",
       "    <tr>\n",
       "      <th>14</th>\n",
       "      <td>('les-vieux-ronquoz', '2020-10-15')</td>\n",
       "      <td>les-vieux-ronquoz</td>\n",
       "      <td>2020-10-15</td>\n",
       "      <td>9</td>\n",
       "      <td>0.18</td>\n",
       "    </tr>\n",
       "    <tr>\n",
       "      <th>15</th>\n",
       "      <td>('leuk-mattenstrasse', '2021-02-14')</td>\n",
       "      <td>leuk-mattenstrasse</td>\n",
       "      <td>2021-02-14</td>\n",
       "      <td>15</td>\n",
       "      <td>0.30</td>\n",
       "    </tr>\n",
       "    <tr>\n",
       "      <th>16</th>\n",
       "      <td>('tschilljus', '2020-11-12')</td>\n",
       "      <td>tschilljus</td>\n",
       "      <td>2020-11-12</td>\n",
       "      <td>51</td>\n",
       "      <td>1.02</td>\n",
       "    </tr>\n",
       "  </tbody>\n",
       "</table>\n",
       "</div>"
      ],
      "text/plain": [
       "                               sample_id            location       date  \\\n",
       "0           ('grand-clos', '2016-09-21')          grand-clos 2016-09-21   \n",
       "1           ('grand-clos', '2017-10-22')          grand-clos 2017-10-22   \n",
       "2           ('grand-clos', '2020-05-07')          grand-clos 2020-05-07   \n",
       "3           ('grand-clos', '2020-06-09')          grand-clos 2020-06-09   \n",
       "4           ('grand-clos', '2020-07-07')          grand-clos 2020-07-07   \n",
       "5           ('grand-clos', '2020-08-06')          grand-clos 2020-08-06   \n",
       "6           ('grand-clos', '2020-09-08')          grand-clos 2020-09-08   \n",
       "7           ('grand-clos', '2020-10-06')          grand-clos 2020-10-06   \n",
       "8           ('grand-clos', '2020-12-08')          grand-clos 2020-12-08   \n",
       "9           ('grand-clos', '2021-01-07')          grand-clos 2021-01-07   \n",
       "10          ('grand-clos', '2021-02-09')          grand-clos 2021-02-09   \n",
       "11          ('grand-clos', '2021-03-09')          grand-clos 2021-03-09   \n",
       "12          ('grand-clos', '2021-04-10')          grand-clos 2021-04-10   \n",
       "13        ('les-glariers', '2020-12-01')        les-glariers 2020-12-01   \n",
       "14   ('les-vieux-ronquoz', '2020-10-15')   les-vieux-ronquoz 2020-10-15   \n",
       "15  ('leuk-mattenstrasse', '2021-02-14')  leuk-mattenstrasse 2021-02-14   \n",
       "16          ('tschilljus', '2020-11-12')          tschilljus 2020-11-12   \n",
       "\n",
       "    quantity  pcs/m  \n",
       "0       1159  41.47  \n",
       "1        183   6.55  \n",
       "2        510  15.92  \n",
       "3        538  15.88  \n",
       "4       1475  52.73  \n",
       "5       1099  42.31  \n",
       "6        616  13.63  \n",
       "7        581  20.78  \n",
       "8        716  23.03  \n",
       "9        433   6.25  \n",
       "10       156   2.58  \n",
       "11       885  49.24  \n",
       "12       551  17.71  \n",
       "13         3   0.09  \n",
       "14         9   0.18  \n",
       "15        15   0.30  \n",
       "16        51   1.02  "
      ]
     },
     "execution_count": 49,
     "metadata": {},
     "output_type": "execute_result"
    }
   ],
   "source": [
    "ares"
   ]
  },
  {
   "cell_type": "code",
   "execution_count": 48,
   "id": "04a67271-09a8-4084-a2b1-cdd865237b7e",
   "metadata": {},
   "outputs": [
    {
     "data": {
      "text/html": [
       "<div>\n",
       "<style scoped>\n",
       "    .dataframe tbody tr th:only-of-type {\n",
       "        vertical-align: middle;\n",
       "    }\n",
       "\n",
       "    .dataframe tbody tr th {\n",
       "        vertical-align: top;\n",
       "    }\n",
       "\n",
       "    .dataframe thead th {\n",
       "        text-align: right;\n",
       "    }\n",
       "</style>\n",
       "<table border=\"1\" class=\"dataframe\">\n",
       "  <thead>\n",
       "    <tr style=\"text-align: right;\">\n",
       "      <th></th>\n",
       "      <th>sample_id</th>\n",
       "      <th>location</th>\n",
       "      <th>date</th>\n",
       "      <th>quantity</th>\n",
       "      <th>pcs/m</th>\n",
       "    </tr>\n",
       "  </thead>\n",
       "  <tbody>\n",
       "    <tr>\n",
       "      <th>0</th>\n",
       "      <td>('grand-clos', '2020-05-07')</td>\n",
       "      <td>grand-clos</td>\n",
       "      <td>2020-05-07</td>\n",
       "      <td>510</td>\n",
       "      <td>15.92</td>\n",
       "    </tr>\n",
       "    <tr>\n",
       "      <th>1</th>\n",
       "      <td>('grand-clos', '2020-06-09')</td>\n",
       "      <td>grand-clos</td>\n",
       "      <td>2020-06-09</td>\n",
       "      <td>538</td>\n",
       "      <td>15.88</td>\n",
       "    </tr>\n",
       "    <tr>\n",
       "      <th>2</th>\n",
       "      <td>('grand-clos', '2020-07-07')</td>\n",
       "      <td>grand-clos</td>\n",
       "      <td>2020-07-07</td>\n",
       "      <td>1475</td>\n",
       "      <td>52.73</td>\n",
       "    </tr>\n",
       "    <tr>\n",
       "      <th>3</th>\n",
       "      <td>('grand-clos', '2020-08-06')</td>\n",
       "      <td>grand-clos</td>\n",
       "      <td>2020-08-06</td>\n",
       "      <td>1099</td>\n",
       "      <td>42.31</td>\n",
       "    </tr>\n",
       "    <tr>\n",
       "      <th>4</th>\n",
       "      <td>('grand-clos', '2020-09-08')</td>\n",
       "      <td>grand-clos</td>\n",
       "      <td>2020-09-08</td>\n",
       "      <td>616</td>\n",
       "      <td>13.63</td>\n",
       "    </tr>\n",
       "    <tr>\n",
       "      <th>5</th>\n",
       "      <td>('grand-clos', '2020-10-06')</td>\n",
       "      <td>grand-clos</td>\n",
       "      <td>2020-10-06</td>\n",
       "      <td>581</td>\n",
       "      <td>20.78</td>\n",
       "    </tr>\n",
       "    <tr>\n",
       "      <th>6</th>\n",
       "      <td>('grand-clos', '2020-12-08')</td>\n",
       "      <td>grand-clos</td>\n",
       "      <td>2020-12-08</td>\n",
       "      <td>716</td>\n",
       "      <td>23.03</td>\n",
       "    </tr>\n",
       "    <tr>\n",
       "      <th>7</th>\n",
       "      <td>('grand-clos', '2021-01-07')</td>\n",
       "      <td>grand-clos</td>\n",
       "      <td>2021-01-07</td>\n",
       "      <td>433</td>\n",
       "      <td>6.25</td>\n",
       "    </tr>\n",
       "    <tr>\n",
       "      <th>8</th>\n",
       "      <td>('grand-clos', '2021-02-09')</td>\n",
       "      <td>grand-clos</td>\n",
       "      <td>2021-02-09</td>\n",
       "      <td>156</td>\n",
       "      <td>2.58</td>\n",
       "    </tr>\n",
       "    <tr>\n",
       "      <th>9</th>\n",
       "      <td>('grand-clos', '2021-03-09')</td>\n",
       "      <td>grand-clos</td>\n",
       "      <td>2021-03-09</td>\n",
       "      <td>885</td>\n",
       "      <td>49.24</td>\n",
       "    </tr>\n",
       "    <tr>\n",
       "      <th>10</th>\n",
       "      <td>('grand-clos', '2021-04-10')</td>\n",
       "      <td>grand-clos</td>\n",
       "      <td>2021-04-10</td>\n",
       "      <td>551</td>\n",
       "      <td>17.71</td>\n",
       "    </tr>\n",
       "  </tbody>\n",
       "</table>\n",
       "</div>"
      ],
      "text/plain": [
       "                       sample_id    location       date  quantity  pcs/m\n",
       "0   ('grand-clos', '2020-05-07')  grand-clos 2020-05-07       510  15.92\n",
       "1   ('grand-clos', '2020-06-09')  grand-clos 2020-06-09       538  15.88\n",
       "2   ('grand-clos', '2020-07-07')  grand-clos 2020-07-07      1475  52.73\n",
       "3   ('grand-clos', '2020-08-06')  grand-clos 2020-08-06      1099  42.31\n",
       "4   ('grand-clos', '2020-09-08')  grand-clos 2020-09-08       616  13.63\n",
       "5   ('grand-clos', '2020-10-06')  grand-clos 2020-10-06       581  20.78\n",
       "6   ('grand-clos', '2020-12-08')  grand-clos 2020-12-08       716  23.03\n",
       "7   ('grand-clos', '2021-01-07')  grand-clos 2021-01-07       433   6.25\n",
       "8   ('grand-clos', '2021-02-09')  grand-clos 2021-02-09       156   2.58\n",
       "9   ('grand-clos', '2021-03-09')  grand-clos 2021-03-09       885  49.24\n",
       "10  ('grand-clos', '2021-04-10')  grand-clos 2021-04-10       551  17.71"
      ]
     },
     "execution_count": 48,
     "metadata": {},
     "output_type": "execute_result"
    }
   ],
   "source": [
    "sres"
   ]
  },
  {
   "cell_type": "code",
   "execution_count": 53,
   "id": "305e8e52-18c2-487a-a694-dc6a69e3e112",
   "metadata": {},
   "outputs": [],
   "source": [
    "sres = lake_results['this_report'].sample_results\n",
    "pres = lake_results['prior_report'].sample_results\n",
    "ares = call_surveys.sample_results\n",
    "\n",
    "these_locations = sresr.location.unique()\n",
    "\n",
    "\n",
    "these_markers = [sresr[sresr.location == x] for x in these_locations]\n",
    "\n",
    "\n"
   ]
  },
  {
   "cell_type": "code",
   "execution_count": 67,
   "id": "089b955c-cefd-4e52-8709-4a848277e194",
   "metadata": {},
   "outputs": [
    {
     "name": "stdout",
     "output_type": "stream",
     "text": [
      "EPSG:3857\n",
      "EPSG:3857\n",
      "EPSG:3857\n",
      "EPSG:3857\n"
     ]
    },
    {
     "data": {
      "text/plain": [
       "<Axes: >"
      ]
     },
     "execution_count": 67,
     "metadata": {},
     "output_type": "execute_result"
    },
    {
     "data": {
      "image/png": "[encoded data removed]",
      "text/plain": [
       "<Figure size 640x480 with 1 Axes>"
      ]
     },
     "metadata": {},
     "output_type": "display_data"
    }
   ],
   "source": [
    "fig, ax = plt.subplots()\n",
    "# sion.plot(ax=ax, color='yellow', label='Sion', edgecolor='black', alpha=0.2)\n",
    "\n",
    "\n",
    "\n",
    "kanton.plot(ax=ax, edgecolor='black',color='white')\n",
    "# trimmedlc.plot(ax=ax, facecolor='green', alpha=.5)\n",
    "cities.plot(ax=ax, edgecolor='black', color='white', linewidth=.4)\n",
    "# river_buffer.plot(ax=ax, edgecolor='white', facecolor=None)\n",
    "this_city.plot(ax=ax, edgecolor='black', color='blue', linewidth=1)\n",
    "# intersected_gdf.plot(ax=ax, color='white', edgecolor='black')\n",
    "# intersect_landuse.plot(ax=ax, edgecolor='black', color='green', alpha=.2,linewidth=.4)\n",
    "rivers.plot(ax=ax, edgecolor='blue')\n",
    "for thislocation in these_markers:\n",
    "    amarker, _ = a_location_marker(thislocation)\n",
    "\n",
    "    if len(amarker) > 0:\n",
    "        print(amarker.crs)\n",
    "        \n",
    "        amarker.plot(ax=ax, color='red', zorder=5)\n",
    "    else:\n",
    "        pass\n",
    "location_buffer.plot(ax=ax, color='yellow', zorder=10)"
   ]
  },
  {
   "cell_type": "code",
   "execution_count": 14,
   "id": "4de012a6-293e-4b8e-9855-e3f1863491f8",
   "metadata": {},
   "outputs": [
    {
     "ename": "NameError",
     "evalue": "name 'thesecities' is not defined",
     "output_type": "error",
     "traceback": [
      "\u001b[0;31m---------------------------------------------------------------------------\u001b[0m",
      "\u001b[0;31mNameError\u001b[0m                                 Traceback (most recent call last)",
      "Cell \u001b[0;32mIn[14], line 53\u001b[0m\n\u001b[1;32m     49\u001b[0m     \u001b[38;5;28;01mreturn\u001b[39;00m pd\u001b[38;5;241m.\u001b[39mconcat(res)\n\u001b[1;32m     52\u001b[0m chance_of1 \u001b[38;5;241m=\u001b[39m what_is_the_posterior_percity(newd\u001b[38;5;241m.\u001b[39mcopy(), prior, lh, rate, uniques\u001b[38;5;241m.\u001b[39mvalues, municategorized)\n\u001b[0;32m---> 53\u001b[0m thc \u001b[38;5;241m=\u001b[39m \u001b[43mthesecities\u001b[49m[thesecities\u001b[38;5;241m.\u001b[39mNAME\u001b[38;5;241m.\u001b[39misin(intersected_gdf\u001b[38;5;241m.\u001b[39mNAME\u001b[38;5;241m.\u001b[39munique())]\u001b[38;5;241m.\u001b[39mmerge(chance_of1, right_index\u001b[38;5;241m=\u001b[39m\u001b[38;5;28;01mTrue\u001b[39;00m, left_on\u001b[38;5;241m=\u001b[39m\u001b[38;5;124m'\u001b[39m\u001b[38;5;124mNAME\u001b[39m\u001b[38;5;124m'\u001b[39m)\n",
      "\u001b[0;31mNameError\u001b[0m: name 'thesecities' is not defined"
     ]
    }
   ],
   "source": [
    "municategorized.rename(columns={'Siedl':'buildings', 'Wald':'forest', 'Obstanlage':'orchards', 'Reben':'vineyards', 'Undefined':'undefined'}, inplace=True)\n",
    "\n",
    "uniques = municategorized.drop_duplicates(['buildings', 'forest', 'orchards', 'vineyards', 'undefined'])\n",
    "\n",
    "\n",
    "o_prior_r = d[(d.canton != canton)&(d['date'] <= o_dates['end'])&(d.feature_type == 'r')].copy()\n",
    "o_report_r, o_land_use_r = gfcast.make_report_objects(o_prior_r)\n",
    "newd = o_land_use_r.df_cat.copy()\n",
    "\n",
    "rate = 1\n",
    "\n",
    "prior = ((newd['pcs/m'] >= rate)&(newd['date'] < o_dates['end'])).sum()/len(newd[newd['date'] < o_dates['end']])\n",
    "\n",
    "lhx = d[(d['canton'] == canton)&(d['feature_type'] == 'r')].groupby(['sample_id', 'date'], as_index=False)['pcs/m'].sum()\n",
    "lh = (lhx['pcs/m'] >= rate).sum()/len(lhx)\n",
    "\n",
    "def find_matching_records(data, args):\n",
    "    matches = data[(data[['buildings', 'forest', 'orchards', 'vineyards', 'undefined']] == args).all(axis=1)].copy()\n",
    "    return matches\n",
    "\n",
    "# matches = find_matching_records(newd, uniques.values[0])\n",
    "\n",
    "def what_is_the_binomial_mle(rate, data):\n",
    "    mle = (data['pcs/m'] >= rate).sum()/len(data)\n",
    "    return mle\n",
    "\n",
    "def what_is_the_posterior(data, prior, lh, rate, landuse):\n",
    "    m = find_matching_records(data, landuse)\n",
    "    if len(m) > 0:\n",
    "        p = what_is_the_binomial_mle(rate, m)\n",
    "        prior_X_mle = lh*p\n",
    "        failed = (1-lh)*(1-p)\n",
    "        \n",
    "        posterior = prior_X_mle/(failed+prior_X_mle)\n",
    "    else:\n",
    "        mle_X_prior = lh*prior\n",
    "        failed = (1-lh)*(1-prior)\n",
    "        posterior = mle_X_prior/(mle_X_prior+failed)\n",
    "    return landuse, posterior\n",
    "\n",
    "def what_is_the_posterior_percity(data, prior, lh, rate, landuses, muni):\n",
    "    \n",
    "    res = []\n",
    "    for landuse in landuses:\n",
    "        lu, posterior = what_is_the_posterior(data, prior, lh, rate, landuse)\n",
    "        mu = muni[(muni[['buildings', 'forest', 'orchards', 'vineyards', 'undefined']] == lu).all(axis=1)].copy()\n",
    "        mu['chance'] = posterior\n",
    "        res.append(mu)\n",
    "    return pd.concat(res)\n",
    "    \n",
    "\n",
    "chance_of1 = what_is_the_posterior_percity(newd.copy(), prior, lh, rate, uniques.values, municategorized)\n",
    "thc = thesecities[thesecities.NAME.isin(intersected_gdf.NAME.unique())].merge(chance_of1, right_index=True, left_on='NAME')"
   ]
  },
  {
   "cell_type": "code",
   "execution_count": null,
   "id": "12c52a87-8340-419f-bfd9-75ca85260a97",
   "metadata": {
    "editable": true,
    "slideshow": {
     "slide_type": ""
    },
    "tags": [
     "remove-input"
    ]
   },
   "outputs": [],
   "source": [
    "# points\n",
    "\n",
    "\n",
    "\n",
    "\n",
    "\n",
    "\n",
    "\n",
    "# Plot the data\n",
    "fig, ax = plt.subplots(figsize=(16, 9))\n",
    "\n",
    "bbox = gpd.GeoDataFrame({\"geometry\": [box( minx,miny,  maxx, maxy,)]}, crs=\"EPSG:3857\")\n",
    "dbc.plot(ax=ax, facecolor='black')\n",
    "\n",
    "thesecities.plot(ax=ax, edgecolor='white', facecolor='None', linewidth=1)\n",
    "intersected_polygons.plot(ax=ax, facecolor='yellow')\n",
    "river_buffer.plot(ax=ax, color='blue')\n",
    "\n",
    "# gdfr.plot(ax=ax, color='yellow', markersize=50, zorder=5)\n",
    "\n",
    "plt.show()\n",
    "\n"
   ]
  },
  {
   "cell_type": "markdown",
   "id": "720e6d85-e449-48cd-8412-3e243934e678",
   "metadata": {
    "editable": true,
    "jp-MarkdownHeadingCollapsed": true,
    "slideshow": {
     "slide_type": ""
    },
    "tags": []
   },
   "source": [
    "# Canton Valais\n",
    "\n",
    "__Density of trash along lakes and rivers__\n",
    "\n",
    "This is a sample cantonal report. The structure and the format are based off of the federal report, ([IQAASL](https://hammerdirt-analyst.github.io/IQAASL-End-0f-Sampling-2021/)). This version is intended for use as a decsion support tool. Thus, the user is expected to be familiar with the results in the federal report and the methods described in the _Guide for Monitoring Marine Litter on European Seas_ \n",
    "([The guide](https://mcc.jrc.ec.europa.eu/main/dev.py?N=41&O=439&titre_chap=TG%20Litter&titre_page=Guidance%20for%20the%20Monitoring%20of%20Marine%20Litter)).\n",
    "\n",
    "\n",
    ":::{dropdown} Initial assessment: stakeholder discussion and priorities.\n",
    "\n",
    "Stakeholders should consider the following questions while consulting the report:\n",
    "\n",
    "1. Are the major rivers and lakes included?\n",
    "2. Was their more or less observed in 2021 vs the prior results?\n",
    "3. __How do these results compare to assessments from other sources (EAWAG, EMPA, Internal reports)?__\n",
    "   * This includes reports from NGOS in the region\n",
    "   * Is the data comparable?\n",
    "4. Are the objects identified as the _most common_ currently the focus of reduction or prevention campaigns?\n",
    "   * __How does the canton decide priorties in this regard?__\n",
    "   * __Did or does the object appear in any regional action plan or strategy?__\n",
    "5. For objects that have been the focus of prevention or reduction campaigns in the past: are they on the _most common objects_ list now?\n",
    "   * If the objects are on the most common list, is this inline with expectations ?\n",
    "   * What excatly was the mechanism or process that was intended to reduce the presence of the object?\n",
    "   * __With respect to the amount of resources attributed to prevention and mitigation:__ Do the attributed amounts reflect the importance of the object in terms of total amount found and frequency of occurence?\n",
    "6. __Does the sampling distribution reflect the topography and land-use of the canton?__\n",
    "7. Do the municipalities with elevated pcs/m have common land-use attributes?\n",
    "8. __Are the municipalities of strategic importance to the canton included?__\n",
    "9. Are their locations in the canton that should have been surveyed, according to cantonal priorities?\n",
    "10. Are their products of regional interest that should be included in the cantonal report?\n",
    ":::\n",
    "\n",
    ":::::{dropdown} Map of survey locations\n",
    "\n",
    "\n",
    "\n",
    "::::{grid}\n",
    ":padding: 2\n",
    "\n",
    ":::{grid-item-card}\n",
    "\n",
    "```{glue} map-of-survey-locations\n",
    "```\n",
    "\n",
    ":::\n",
    "::::\n",
    ":::::\n",
    "## Vital statistics\n",
    "\n",
    "::::::::::{tab-set}\n",
    "\n",
    ":::::::::{tab-item} All data\n",
    "\n",
    "::::::::{grid} 2 2 2 2\n",
    ":gutter: 1\n",
    "\n",
    ":::::::{grid-item}\n",
    ":columns: 12 4 4 4\n",
    "\n",
    "```{glue} feature-inventory\n",
    "```\n",
    "```{glue} administrative-boundaries\n",
    "```\n",
    "__Material composition__\n",
    "\n",
    "```{glue} material-report\n",
    "```\n",
    ":::::::\n",
    "\n",
    ":::::::{grid-item-card}\n",
    ":columns: 12 8 8 8\n",
    ":shadow: none\n",
    "\n",
    "```{glue} prior-likelihood\n",
    "```\n",
    "\n",
    "+++\n",
    "```{glue} caption-histo\n",
    "```\n",
    ":::::::\n",
    "::::::::\n",
    "\n",
    "::::::::{grid} 3 3 3 3 \n",
    "\n",
    ":::::::{grid-item-card}\n",
    ":shadow: none\n",
    ":padding: 1\n",
    "\n",
    "```{glue} sampling-summary\n",
    "```\n",
    ":::::::\n",
    "\n",
    ":::::::{grid-item-card}\n",
    ":shadow: none\n",
    ":padding: 1\n",
    "\n",
    "```{glue} l-sampling-summary\n",
    "```\n",
    ":::::::\n",
    "\n",
    ":::::::{grid-item-card}\n",
    ":shadow: none\n",
    ":padding: 1\n",
    "\n",
    "```{glue} prior-sampling-summary\n",
    "```\n",
    ":::::::\n",
    "\n",
    "::::::::\n",
    "\n",
    ":::::::::\n",
    "\n",
    ":::::::::{tab-item} Lakes\n",
    "\n",
    "::::::::{grid} 2 2 2 2\n",
    ":gutter: 1\n",
    "\n",
    ":::::::{grid-item}\n",
    ":columns: 12 4 4 4\n",
    "\n",
    "```{glue} feature-inventory-l\n",
    "```\n",
    "```{glue} administrative-boundaries-l\n",
    "```\n",
    "__Material composition__\n",
    "\n",
    "```{glue} material-report-l\n",
    "```\n",
    ":::::::\n",
    "\n",
    ":::::::{grid-item-card}\n",
    ":columns: 12 8 8 8\n",
    ":shadow: none\n",
    "\n",
    "```{glue} lake-prior-likelihood\n",
    "```\n",
    "\n",
    "+++\n",
    "```{glue} caption-histo-l\n",
    "```\n",
    ":::::::\n",
    "::::::::\n",
    "\n",
    "::::::::{grid} 3 3 3 3 \n",
    "\n",
    ":::::::{grid-item-card}\n",
    ":shadow: none\n",
    ":padding: 1\n",
    "\n",
    "```{glue} sampling-summary-l\n",
    "```\n",
    ":::::::\n",
    "\n",
    ":::::::{grid-item-card}\n",
    ":shadow: none\n",
    ":padding: 1\n",
    "\n",
    "```{glue} l-sampling-summary-l\n",
    "```\n",
    ":::::::\n",
    "\n",
    ":::::::{grid-item-card}\n",
    ":shadow: none\n",
    ":padding: 1\n",
    "\n",
    "```{glue} prior-sampling-summary-l\n",
    "```\n",
    ":::::::\n",
    "\n",
    "::::::::\n",
    "\n",
    ":::::::::\n",
    "\n",
    ":::::::::{tab-item} Rivers\n",
    "\n",
    "::::::::{grid} 2 2 2 2\n",
    ":gutter: 1\n",
    "\n",
    ":::::::{grid-item}\n",
    ":columns: 12 4 4 4\n",
    "\n",
    "```{glue} feature-inventory-r\n",
    "```\n",
    "```{glue} administrative-boundaries-r\n",
    "```\n",
    "__Material composition__\n",
    "\n",
    "```{glue} material-report-r\n",
    "```\n",
    ":::::::\n",
    "\n",
    ":::::::{grid-item-card}\n",
    ":columns: 12 8 8 8\n",
    ":shadow: none\n",
    "\n",
    "```{glue} river-prior-likelihood\n",
    "```\n",
    "\n",
    "+++\n",
    "```{glue} caption-histo-r\n",
    "```\n",
    ":::::::\n",
    "::::::::\n",
    "\n",
    "::::::::{grid} 3 3 3 3 \n",
    "\n",
    ":::::::{grid-item-card}\n",
    ":shadow: none\n",
    ":padding: 1\n",
    "\n",
    "```{glue} sampling-summary-r\n",
    "```\n",
    ":::::::\n",
    "\n",
    ":::::::{grid-item-card}\n",
    ":shadow: none\n",
    ":padding: 1\n",
    "\n",
    "```{glue} l-sampling-summary-r\n",
    "```\n",
    ":::::::\n",
    "\n",
    ":::::::{grid-item-card}\n",
    ":shadow: none\n",
    ":padding: 1\n",
    "\n",
    "```{glue} prior-sampling-summary-r\n",
    "```\n",
    ":::::::\n",
    "\n",
    "::::::::\n",
    "\n",
    ":::::::::\n",
    "\n",
    "::::::::::\n",
    "\n",
    ":::::{dropdown}  How did we get this data ?\n",
    "\n",
    "\n",
    "\n",
    "::::{grid}\n",
    ":padding: 2\n",
    "\n",
    ":::{grid-item-card}\n",
    "\n",
    "```{glue} scatter-prior-likelihood\n",
    "```\n",
    "+++\n",
    "The data is a combination of observations from variety of groups in Switerland since 2015. The observations were recorded using an interpretation of the _Guide for Monitoring Marine Litter on European Seas_ [The guide](https://mcc.jrc.ec.europa.eu/main/dev.py?N=41&O=439&titre_chap=TG%20Litter&titre_page=Guidance%20for%20the%20Monitoring%20of%20Marine%20Litter). The guide and the monitoring of beach litter are part of decades of research, here is the brief history [A Brief History of Marine Litter Research](https://link.springer.com/chapter/10.1007/978-3-319-16510-3_1).\n",
    ":::\n",
    "::::\n",
    "\n",
    "__Common sense guidance:__\n",
    "\n",
    "1. The data should be considered as a reasonable estimate of the minimum amount of trash on the ground at the time of the survey.\n",
    "2. There are many sources of variance. We have considered the following:\n",
    "   * litter density between sampling groups.\n",
    "   * litter density with respect to topographical features.\n",
    "3. There are differences in detect-ability and appearance for items of the same classification that are due to the effects of decomposition.\n",
    "4. Many surveyors are volunteers and have different levels of experience or physical constraints that limit what will actually be collected and counted.\n",
    ":::::\n",
    "\n",
    ":::{dropdown} How to make a report\n",
    "\n",
    "__Survey and Land use__\n",
    "\n",
    "A report is the implementation of a `SurveyReport` and a `LandUseReport`. The `SurveyReport` is the basic \n",
    "element and does the initial aggregating and descriptive statistics for a query.\n",
    "\n",
    "The land-use-report accepts `SurveyReport.sample_results` and assigns the land-use attributes to the record. The \n",
    "land-use-report provides the baseline assessment of litter density with reference to the surrounding environment. \n",
    "\n",
    "The assessment accepts as variables the proportion of available space that a topographical feature occupies in a \n",
    "circle of $\\pi r² \\text{ where r = 1 500 meters}$ and the center of that circle is the survey location. \n",
    "These proportions are compared to the `average pieces per meter` for an object or group of objects.\n",
    "\n",
    "\n",
    "__Create a report__\n",
    "\n",
    "A report can be intiated by providing the name of the canton. If your canton does not appear this is because we have no data. The prior dates will be calculated automatically, by taking all data prior to the start date of the querry.\n",
    "\n",
    "```{code} python\n",
    "\n",
    "import reports\n",
    "import geospatial\n",
    "import gridforecast\n",
    "\n",
    "# suppose you have defined your data into df\n",
    "observed_dates = {'start':'2020-01-01', 'end':'2021-12-31'}\n",
    "\n",
    "# everything that was seen before\n",
    "prior_dates = {'start':'2015-11-15', 'end':'2019-12-31'}\n",
    "\n",
    "# name the canton\n",
    "canton = 'Bern'\n",
    "\n",
    "# define the data of interest\n",
    "data_of_interest = {'canton':canton, 'date_range':observed_dates}\n",
    "\n",
    "# load the data\n",
    "df = session_config.collect_survey_data()\n",
    "\n",
    "# filter the data. \n",
    "filtered_data, locations = gridforeacast.filter_data(df, data_of_interest)\n",
    "\n",
    "# make a survey report\n",
    "this_report = reports.SurveyReport(dfc=filtered_data)\n",
    "\n",
    "# generate the parameters for the landuse report\n",
    "target_df = this_report.sample_results\n",
    "features = geospatial.collect_topo_data(locations=target_df.location.unique())\n",
    "\n",
    "# make a landuse report\n",
    "this_land_use = geospatial.LandUseReport(target_df, features)\n",
    "```\n",
    "\n",
    "Each report and the inference method are documented: [SurveyReport](surveyreporter), [LandUseReport](landusereporter), [GridForecaster](gridforecaster)\n",
    ":::\n"
   ]
  },
  {
   "cell_type": "markdown",
   "id": "160aae5f-e9ed-4754-86a8-a76af4616553",
   "metadata": {
    "editable": true,
    "slideshow": {
     "slide_type": ""
    },
    "tags": [
     "remove-input"
    ]
   },
   "source": [
    "## Most common objects 2020 - 2021\n",
    "\n",
    "::::::::::{tab-set}\n",
    "\n",
    ":::::::::{tab-item} All data\n",
    "::::{grid} 2 2 2 2 \n",
    ":::{grid-item}\n",
    ":columns: 4\n",
    "\n",
    "```{glue} ratio-most-common\n",
    "```\n",
    "\n",
    "The most common objects from the selected data. The most common objects are a combination of the top ten most abundant objects and those objects that are found in more than 50% of the samples. Some objects are found frequently but at low quantities.Other objects are found in fewer samples but at higher quantities.\n",
    "\n",
    "\n",
    ":::\n",
    "\n",
    ":::{grid-item-card}\n",
    ":columns: 8\n",
    ":shadow: none\n",
    "\n",
    "```{glue} most_common_objects\n",
    ":::\n",
    "::::\n",
    ":::::::::\n",
    "\n",
    ":::::::::{tab-item} Lakes\n",
    "::::{grid} 2 2 2 2 \n",
    ":::{grid-item}\n",
    ":columns: 4\n",
    "\n",
    "```{glue} ratio-most-common-l\n",
    "```\n",
    "\n",
    "The most common objects from the selected data. The most common objects are a combination of the top ten most abundant objects and those objects that are found in more than 50% of the samples. Some objects are found frequently but at low quantities.Other objects are found in fewer samples but at higher quantities.\n",
    "\n",
    "\n",
    ":::\n",
    "\n",
    ":::{grid-item-card}\n",
    ":columns: 8\n",
    ":shadow: none\n",
    "\n",
    "```{glue} most_common_objects-l\n",
    ":::\n",
    "::::\n",
    ":::::::::\n",
    "\n",
    ":::::::::{tab-item} Rivers\n",
    "::::{grid} 2 2 2 2 \n",
    ":::{grid-item}\n",
    ":columns: 4\n",
    "\n",
    "```{glue} ratio-most-common-r\n",
    "```\n",
    "\n",
    "The most common objects from the selected data. The most common objects are a combination of the top ten most abundant objects and those objects that are found in more than 50% of the samples. Some objects are found frequently but at low quantities.Other objects are found in fewer samples but at higher quantities.\n",
    "\n",
    "\n",
    ":::\n",
    "\n",
    ":::{grid-item-card}\n",
    ":columns: 8\n",
    ":shadow: none\n",
    "\n",
    "```{glue} most_common_objects-r\n",
    ":::\n",
    "::::\n",
    ":::::::::\n",
    "\n",
    "::::::::::\n",
    "\n",
    ":::{dropdown} Defining the most common objects\n",
    "\n",
    "The default method for defining _the most common objects_ is based on the number of items collected and the number of times that at least one of an object was found with respect to the number of surveys in the query, the _fail rate_.\n",
    "\n",
    "Adjusting the fail rate will increase or decrease the number of the most common objects. The fail rate is included with the object inventory. \n",
    "\n",
    "```{code} python\n",
    "\n",
    "# the most common objects are accesible in the survey report\n",
    "# the report.object_summary method aggregates the data to code\n",
    "# and attaches the fail rate and % of total\n",
    "inventory = this_report.object_summary()\n",
    "\n",
    "# userdisplay.most_common, takes the 10 most abundant and filters\n",
    "# the data for fail rate >= 0.5. The method returns a formatted table,\n",
    "# a list of the codes and the ratio of the quantity of the most common to the whole \n",
    "mostcommon, codes, ratio = userdisplay.most_common(inventory)\n",
    "\n",
    "```\n",
    "\n",
    "\n",
    ":::"
   ]
  },
  {
   "cell_type": "markdown",
   "id": "1153176b-fd0c-4e93-8928-6c89886b9525",
   "metadata": {
    "editable": true,
    "slideshow": {
     "slide_type": ""
    },
    "tags": []
   },
   "source": [
    "## Land use\n",
    "\n",
    "\n",
    "Land use refers to the measurable topographic features within a cirlce of r = 1 500 m and area = $\\pi r²$ with the survey location in the middle. The features, measured in meters squared, are given as a ratio $\\frac{\\text{area of feature}}{\\text{area of circle}}$. Thus a location with high percentage of buildings will have a rating or value between 60% and 100%. The pcs/m rating is the average of all locations with a land-use profile of the same rating."
   ]
  },
  {
   "cell_type": "code",
   "execution_count": null,
   "id": "fa022a3b-f3bd-41c8-aa11-816ff202eda3",
   "metadata": {
    "editable": true,
    "jupyter": {
     "source_hidden": true
    },
    "slideshow": {
     "slide_type": ""
    },
    "tags": [
     "remove-input"
    ]
   },
   "outputs": [],
   "source": [
    "g = results['this_land_use'].n_samples_per_feature().copy()\n",
    "g = userdisplay.landuse_profile(g[session_config.feature_variables[:-1]], nsamples=results['this_report'].number_of_samples)\n",
    "g = g.set_caption(\"\")\n",
    "\n",
    "gt = results['this_land_use'].rate_per_feature().copy()\n",
    "gt = userdisplay.litter_rates_per_feature(gt.loc[session_config.feature_variables[:-1]])\n",
    "gt = gt.set_caption(\"\")\n",
    "\n",
    "glue('rate-per-feature', gt, display=False)\n",
    "glue('sampling-profile', g, display=False)"
   ]
  },
  {
   "cell_type": "code",
   "execution_count": null,
   "id": "e2bf0a4b-fc49-420b-bfc1-3e21e0a11cb9",
   "metadata": {
    "editable": true,
    "jupyter": {
     "source_hidden": true
    },
    "slideshow": {
     "slide_type": ""
    },
    "tags": [
     "remove-input"
    ]
   },
   "outputs": [],
   "source": [
    "streets = results['this_land_use'].n_samples_per_feature().copy()\n",
    "streets = streets[[session_config.feature_variables[-1]]].copy()\n",
    "streets = userdisplay.street_profile(streets.T, nsamples=results['this_report'].number_of_samples)\n",
    "caption = \"\"\n",
    "streets = streets.set_caption(caption)\n",
    "\n",
    "streets_r = results['this_land_use'].rate_per_feature().copy()\n",
    "streets_r = streets_r.loc[[session_config.feature_variables[-1]]].copy()\n",
    "streets_r = userdisplay.street_profile(streets_r, nsamples=results['this_report'].number_of_samples, caption='rate')\n",
    "caption = \"\"\n",
    "streets_r = streets_r.set_caption(caption)\n",
    "\n",
    "glue('street-profile', streets, display=False)\n",
    "glue('street-rates-feature', streets_r, display=False)"
   ]
  },
  {
   "cell_type": "code",
   "execution_count": null,
   "id": "ef975bf2-e403-4ca2-b9b3-dd80a14c3a86",
   "metadata": {
    "editable": true,
    "jupyter": {
     "source_hidden": true
    },
    "slideshow": {
     "slide_type": ""
    },
    "tags": [
     "remove-input"
    ]
   },
   "outputs": [],
   "source": [
    "gl = lake_results['this_land_use'].n_samples_per_feature().copy()\n",
    "gl = userdisplay.landuse_profile(gl[session_config.feature_variables[:-1]], nsamples=lake_results['this_report'].number_of_samples)\n",
    "gl = gl.set_caption(\"\")\n",
    "\n",
    "gtl = lake_results['this_land_use'].rate_per_feature().copy()\n",
    "\n",
    "gtl = userdisplay.litter_rates_per_feature(gtl.loc[session_config.feature_variables[:-1]])\n",
    "gtl = gtl.set_caption(\"\")\n",
    "\n",
    "glue('lake-rate-per-feature', gtl, display=False)\n",
    "glue('lake-sampling-profile', gl, display=False)"
   ]
  },
  {
   "cell_type": "code",
   "execution_count": null,
   "id": "2fc10d30-4cc2-456a-aa5e-65365b829ef3",
   "metadata": {
    "editable": true,
    "jupyter": {
     "source_hidden": true
    },
    "slideshow": {
     "slide_type": ""
    },
    "tags": [
     "remove-input"
    ]
   },
   "outputs": [],
   "source": [
    "streets_p = lake_results['this_land_use'].n_samples_per_feature().copy()\n",
    "streets_p = streets_p[[session_config.feature_variables[-1]]].copy()\n",
    "streets_p = userdisplay.street_profile(streets_p.T, nsamples=lake_results['this_report'].number_of_samples)\n",
    "caption = \"\"\n",
    "streets_p = streets_p.set_caption(caption)\n",
    "\n",
    "streets_r_l = lake_results['this_land_use'].rate_per_feature().copy()\n",
    "streets_r_l = streets_r_l.loc[[session_config.feature_variables[-1]]].copy()\n",
    "streets_r_l = userdisplay.street_profile(streets_r_l, nsamples=lake_results['this_report'].number_of_samples, caption='rate')\n",
    "caption = \"\"\n",
    "streets_r_l = streets_r_l.set_caption(caption)\n",
    "\n",
    "\n",
    "glue('lake-street-profile', streets_p, display=False)\n",
    "glue('lake-street-rates-feature', streets_r_l, display=False)"
   ]
  },
  {
   "cell_type": "code",
   "execution_count": null,
   "id": "82f55461-c497-483a-8c38-fbd509809afb",
   "metadata": {
    "editable": true,
    "jupyter": {
     "source_hidden": true
    },
    "slideshow": {
     "slide_type": ""
    },
    "tags": [
     "remove-input"
    ]
   },
   "outputs": [],
   "source": [
    "gr = river_results['this_land_use'].n_samples_per_feature().copy()\n",
    "gr = userdisplay.landuse_profile(gr[session_config.feature_variables[:-1]], nsamples=river_results['this_report'].number_of_samples)\n",
    "gr = gr.set_caption(\"\")\n",
    "\n",
    "gtlr = river_results['this_land_use'].rate_per_feature().copy()\n",
    "\n",
    "gtlr = userdisplay.litter_rates_per_feature(gtlr.loc[session_config.feature_variables[:-1]])\n",
    "gtlr = gtlr.set_caption(\"\")\n",
    "\n",
    "\n",
    "glue('river-rate-per-feature', gtlr, display=False)\n",
    "glue('river-sampling-profile', gr, display=False)"
   ]
  },
  {
   "cell_type": "code",
   "execution_count": null,
   "id": "9b396025-1fa6-4661-9116-593fa1ed741d",
   "metadata": {
    "editable": true,
    "jupyter": {
     "source_hidden": true
    },
    "slideshow": {
     "slide_type": ""
    },
    "tags": [
     "remove-input"
    ]
   },
   "outputs": [],
   "source": [
    "streets_p_r = river_results['this_land_use'].n_samples_per_feature().copy()\n",
    "streets_p_r = streets_p_r[[session_config.feature_variables[-1]]].copy()\n",
    "streets_p_r = userdisplay.street_profile(streets_p_r.T, nsamples=river_results['this_report'].number_of_samples)\n",
    "caption = \"\"\n",
    "streets_p_r = streets_p_r.set_caption(caption)\n",
    "\n",
    "streets_r_r = river_results['this_land_use'].rate_per_feature().copy()\n",
    "streets_r_r = streets_r_r.loc[[session_config.feature_variables[-1]]].copy()\n",
    "streets_r_r = userdisplay.street_profile(streets_r_r, nsamples=river_results['this_report'].number_of_samples, caption='rate')\n",
    "caption = \"\"\n",
    "streets_r_r = streets_r_r.set_caption(caption)\n",
    "\n",
    "\n",
    "glue('river-street-profile', streets_p_r, display=False)\n",
    "glue('river-street-rates-feature', streets_r_r, display=False)"
   ]
  },
  {
   "cell_type": "markdown",
   "id": "e45988a7-3442-434a-acab-c0b13cbfcd42",
   "metadata": {
    "editable": true,
    "slideshow": {
     "slide_type": ""
    },
    "tags": []
   },
   "source": [
    "1. The rate per feature refers to the average pcs/m observed at a particular land use rate\n",
    "   * Under what conditions is the pcs/m elevated? Where is it the least?\n",
    "2. The sampling profile refers to the ratio of samples that were taken at a particular land use rate\n",
    "   * Does the sampling profile reflect the topography of the region?\n",
    "\n",
    "\n",
    "\n",
    "### Rate per feature 2020 - 2021\n",
    "\n",
    "::::{tab-set}\n",
    ":::{tab-item} All lakes and rivers\n",
    "\n",
    "__Land use__\n",
    "\n",
    "```{glue} rate-per-feature\n",
    "```\n",
    "\n",
    "__Streets__\n",
    "\n",
    "The streets are measured as the length of the road network in the cirlce with r= 1 500 m and area $\\pi r²$ and the survey location in the middle. The lenghts for each location are normalized from 0 - 1. Thus in the table below, the locations that have the shortest road net work will be in category 1, the those with a more dense network will be higher.\n",
    "<br></br>\n",
    "\n",
    "```{glue} street-rates-feature\n",
    "``` \n",
    ":::\n",
    "\n",
    ":::{tab-item} Lakes\n",
    "\n",
    "__Land use__\n",
    "\n",
    "```{glue} lake-rate-per-feature\n",
    "```\n",
    "\n",
    "__Streets__\n",
    "\n",
    "The streets are measured as the length of the road network in the cirlce with r= 1 500 m and area $\\pi r²$ and the survey location in the middle. The lenghts for each location are normalized from 0 - 1. Thus in the table below, the locations that have the shortest road net work will be in category 1, the those with a more dense network will be higher.\n",
    "<br></br>\n",
    "\n",
    "```{glue} lake-street-rates-feature\n",
    "```\n",
    ":::\n",
    "\n",
    ":::{tab-item} Rivers\n",
    "\n",
    "__Land use__\n",
    "\n",
    "```{glue} river-rate-per-feature\n",
    "```\n",
    "\n",
    "__Streets__\n",
    "\n",
    "The streets are measured as the length of the road network in the cirlce with r= 1 500 m and area $\\pi r²$ and the survey location in the middle. The lenghts for each location are normalized from 0 - 1. Thus in the table below, the locations that have the shortest road net work will be in category 1, the those with a more dense network will be higher.\n",
    "<br></br>\n",
    "\n",
    "```{glue} river-street-rates-feature\n",
    "``` \n",
    ":::\n",
    "\n",
    "::::\n",
    "\n",
    "### Sampling profile 2020 - 2021\n",
    "\n",
    "::::{tab-set}\n",
    ":::{tab-item} All lakes and rivers\n",
    "\n",
    "__Land use__\n",
    "\n",
    "\n",
    "```{glue} sampling-profile\n",
    "```\n",
    "\n",
    "__Streets__\n",
    "\n",
    "The streets are measured as the length of the road network in the cirlce with r= 1 500 m and area $\\pi r²$ and the survey location in the middle. The lengths for each location are normalized from 0 - 1. Thus in the table below, the locations that have the shortest road net work will be in category 1, the those with a more dense network will be higher.\n",
    "<br></br>\n",
    "\n",
    "```{glue} street-profile\n",
    "``` \n",
    ":::\n",
    "\n",
    ":::{tab-item} Lakes\n",
    "\n",
    "__Land use__\n",
    "\n",
    "```{glue} lake-sampling-profile\n",
    "```\n",
    "\n",
    "__Streets__\n",
    "\n",
    "The streets are measured as the length of the road network in the cirlce with r= 1 500 m and area $\\pi r²$ and the survey location in the middle. The lenghts for each location are normalized from 0 - 1. Thus in the table below, the locations that have the shortest road net work will be in category 1, the those with a more dense network will be higher.\n",
    "<br></br>\n",
    "\n",
    "```{glue} lake-street-profile\n",
    ":::\n",
    "\n",
    ":::{tab-item} Rivers\n",
    "\n",
    "__Land use__\n",
    "\n",
    "```{glue} river-sampling-profile\n",
    "```\n",
    "\n",
    "__Streets__\n",
    "\n",
    "The streets are measured as the length of the road network in the cirlce with r= 1 500 m and area $\\pi r²$ and the survey location in the middle. The lenghts for each location are normalized from 0 - 1. Thus in the table below, the locations that have the shortest road net work will be in category 1, the those with a more dense network will be higher.\n",
    "<b></b>\n",
    "\n",
    "```{glue} river-street-profile\n",
    "``` \n",
    ":::\n",
    "\n",
    "::::\n",
    "\n",
    ":::{dropdown} Defining land use\n",
    "\n",
    "__Land cover__\n",
    "\n",
    "These measured land-use attributes are the labeled polygons from the map layer Landcover defined here ([swissTLMRegio product information](https://www.swisstopo.admin.ch/fr/modele-du-territoire-swisstlm3d#dokumente)), they are extracted using vector overlay techniques in QGIS ([QGIS](https://qgis.org/en/site/)).\n",
    "\n",
    "* Buildings: built up, urbanized\n",
    "* Woods: not a park, harvesting of trees may be active\n",
    "* Vineyards: does not include any other type of agriculture\n",
    "* Orchards: not vineyards\n",
    "* Undefined: areas of the map with no predefined label\n",
    "\n",
    "\n",
    "```{code}\n",
    "\n",
    "# the land use is summarized using a LandUseReport object\n",
    "# the average pieces per meter by land use category\n",
    "rate_per_feature = this_land_use.n_pieces_per_feature()\n",
    "\n",
    "# the sampling distribution\n",
    "samples_per_feature = this_land_use.n_samples_per_feature()\n",
    "\n",
    "# the variety of locations per feature\n",
    "locations_per_feature = this_land_use.locations_per_feature()\n",
    "\n",
    "# format for display .html\n",
    "styled_rate_per_feature = userdisplay.litter_rates_per_feature(rate_per_feature)\n",
    "```\n",
    "\n",
    "__Public services__\n",
    "\n",
    "Public services are the labled polygons from the Freizeitareal and Nutzungsareal map layers, defined in ([swissTLMRegio product information](https://www.swisstopo.admin.ch/fr/modele-du-territoire-swisstlm3d#dokumente)). Both layers represent areas used for specific activities. Freizeitareal identifies areas used for recreational purposes and Nutzungsareal represents areas such as hospitals, cemeteries, historical sites or incineration plants. As a ratio of the available dry-land in a hex, these features are relatively small (less than 10%) of the total dry-land. For identified features within a bounding hex the magnitude in meters² of these variables is scaled between 0 and 1, thus the scaled value represents the size of the feature in relation to all other measured values for that feature from all other hexagons.\n",
    "\n",
    "* Recreation: parks, sports fields, attractions\n",
    "* Infrastructure: Schools, Hospitals, cemeteries, powerplants\n",
    "\n",
    "__Streets and roads__\n",
    "\n",
    "Streets and roads are the labled polylines from the TLM Strasse map layer defined in ([swissTLMRegio product information](https://www.swisstopo.admin.ch/fr/modele-du-territoire-swisstlm3d#dokumente)). All polyines from the map layer within a bounding hex are merged (disolved in QGIS commands) and the combined length of the polylines, in meters, is the magnitude of the variable for the bounding hex.\n",
    ":::"
   ]
  },
  {
   "cell_type": "markdown",
   "id": "501575a0-10d5-4609-8550-8d80807fda4d",
   "metadata": {
    "editable": true,
    "slideshow": {
     "slide_type": ""
    },
    "tags": []
   },
   "source": [
    "## Forecast\n",
    "\n",
    "::::::::::{tab-set}\n",
    "\n",
    ":::::::::{tab-item} All data\n",
    "::::{grid} 1 1 2 2\n",
    "\n",
    ":::{grid-item-card}\n",
    ":columns: 12 5 5 5 \n",
    "\n",
    "Minimum expected survey results 2025\n",
    "^^^\n",
    "\n",
    "\n",
    "```{glue} forecast-99-max\n",
    "```\n",
    "```{glue} forecast-weighted-prior\n",
    "```\n",
    "\n",
    "```{glue} forecast-max-val\n",
    "```\n",
    "\n",
    ":::\n",
    "\n",
    ":::{grid-item-card}\n",
    ":columns: 12 7 7 7 \n",
    ":shadow: none\n",
    "```{glue} cumumlative-dist-forecast-prior\n",
    "```\n",
    "+++\n",
    "Cumulative distribution of observed, sampling history and forecasts using to different priors.\n",
    ":::\n",
    "::::\n",
    ":::::::::\n",
    "\n",
    ":::::::::{tab-item} Lakes\n",
    "::::{grid} 1 1 2 2\n",
    "\n",
    ":::{grid-item-card}\n",
    ":columns: 12 5 5 5 \n",
    "\n",
    "Minimum expected survey results 2025\n",
    "^^^\n",
    "\n",
    "\n",
    "```{glue} forecast-99-max-l\n",
    "```\n",
    "\n",
    "```{glue} forecast-weighted-prior-l\n",
    "```\n",
    "\n",
    "```{glue} forecast-max-val-l\n",
    "```\n",
    "\n",
    "\n",
    ":::\n",
    "\n",
    ":::{grid-item-card}\n",
    ":columns: 12 7 7 7 \n",
    ":shadow: none\n",
    "```{glue} lake-cumumlative-dist-forecast-prior\n",
    "```\n",
    "+++\n",
    "Cumulative distribution of observed, sampling history and forecasts using to different priors.\n",
    ":::\n",
    "::::\n",
    ":::::::::\n",
    "\n",
    ":::::::::{tab-item} Rivers\n",
    "::::{grid} 1 1 2 2\n",
    "\n",
    ":::{grid-item-card}\n",
    ":columns: 12 5 5 5 \n",
    "\n",
    "Minimum expected survey results 2025\n",
    "^^^\n",
    "\n",
    "\n",
    "```{glue} forecast-99-max-r\n",
    "```\n",
    "\n",
    "```{glue} forecast-weighted-prior-r\n",
    "```\n",
    "\n",
    "```{glue} forecast-max-val-r\n",
    "```\n",
    "\n",
    "\n",
    ":::\n",
    "\n",
    ":::{grid-item-card}\n",
    ":columns: 12 7 7 7 \n",
    ":shadow: none\n",
    "```{glue} river-cumumlative-dist-forecast-prior\n",
    "```\n",
    "+++\n",
    "Cumulative distribution of observed, sampling history and forecasts using to different priors.\n",
    ":::\n",
    "::::\n",
    ":::::::::\n",
    "\n",
    "::::::::::\n",
    "\n",
    ":::{dropdown} Forecast methods\n",
    "\n",
    "The applied method would best be classified as Empirical Bayes, in the sense that the prior is derived from the data ([Bayesian Filtering and Smoothing](https://users.aalto.fi/~ssarkka/pub/cup_book_online_20131111.pdf) or [Empirical Bayes methods in classical and Bayesian inference](https://hannig.cloudapps.unc.edu/STOR757Bayes/handouts/PetroneEtAl2014.pdf)). However, we share the concerns of Davidson-Pillon [Bayesian methods for hackers](https://dataorigami.net/Probabilistic-Programming-and-Bayesian-Methods-for-Hackers/#contents) about double counting and eliminate it the possibility as part of the formulation of the prior. \n",
    "\n",
    "__Model assumptions__\n",
    "\n",
    "1. Locations with similar land use attributes will have similar litter density rates\n",
    "2. The data is a best estimate of what was present on the day of the survey\n",
    "3. There are regional differences with respect to the density of specific objects\n",
    "4. The locations surveyed are maintained by a public administration\n",
    "\n",
    "The choice of land use features was a natural choice but was further explored in [Near or Far](https://hammerdirt-analyst.github.io/landuse/titlepage.html).\n",
    "\n",
    "Our parameter estimates are thus derived from the data and they remain testable and quantifiable according to [Prior Probabilities, E T Jaynes](https://bayes.wustl.edu/etj/articles/prior.pdf). This makes our calculation very repetetive but also very well understood. It can be defined in a few lines of code for any set of survey results.\n",
    "\n",
    "```{code} python\n",
    "\n",
    "# standared libaries\n",
    "import numpy as np\n",
    "from scipy.stats import dirichlet, multinomial\n",
    "\n",
    "# collect the data of interest\n",
    "h = array of survey values\n",
    "\n",
    "# count the number of times that each survey values exceed a value on the gird\n",
    "counts = np.array([np.sum((h > x) & (h <= x + .1)) for x in grid_range])\n",
    "\n",
    "# use the dirichlet dist to estimate p(Y >= x) for each x on the grid\n",
    "# and sample from the estimation\n",
    "adist = dirichlet(counts)\n",
    "this_dist = adist.rvs(1-[0]\n",
    "\n",
    "# draw samples from the conjugate\n",
    "posterior_samples = multinomial.rvs(nsamples, p=this_dist)\n",
    "\n",
    "```\n",
    ":::"
   ]
  },
  {
   "cell_type": "code",
   "execution_count": null,
   "id": "b0bda4c0-1b4a-4011-9ad1-fb3a52aac885",
   "metadata": {
    "editable": true,
    "slideshow": {
     "slide_type": ""
    },
    "tags": [
     "remove-input"
    ]
   },
   "outputs": [],
   "source": [
    "dxl = call_l_surveys.df\n",
    "dxf = call_l_land.df_cont\n",
    "\n",
    "dxlc = dxl[['location', 'city', 'feature_type']].drop_duplicates('location')\n",
    "dxlc.set_index(['location'], inplace=True, drop=True)\n",
    "dxf['city'] = dxf.location.apply(lambda x : dxlc.loc[x, 'city'])\n",
    "sumlu = {x:'sum' for x in session_config.feature_variables}\n",
    "dxf = dxf.groupby(['sample_id', 'city', *session_config.feature_variables], as_index=False).agg(session_config.unit_agg)\n",
    "\n",
    "dxf = dxf.groupby(['city']).agg({'quantity':'sum', 'pcs/m':'mean', 'sample_id':'nunique', **sumlu})\n",
    "\n",
    "for alabel in session_config.feature_variables:\n",
    "    dxf[alabel] = dxf[alabel]/dxf.sample_id\n",
    "    \n",
    "dxf['check'] = dxf[session_config.feature_variables[:-1]].sum(axis=1)\n",
    "dxfc = geospatial.categorize_features(dxf, feature_columns=session_config.feature_variables)\n",
    "dxfc.rename(columns={'sample_id':'samples'}, inplace=True)\n",
    "dxfc.drop('check', axis=1, inplace=True)\n",
    "dxfc = dxfc.style.set_table_styles(userdisplay.table_css_styles)\n",
    "dxfc = dxfc.apply(highlight_max, arg=lake_results['this_report'].sampling_results_summary['average'], subset=pd.IndexSlice[:, ['pcs/m']])\n",
    "dxfc = dxfc.format(userdisplay.format_kwargs, precision=2)\n",
    "\n",
    "glue('lake-municipal-results', dxfc , display=False)"
   ]
  },
  {
   "cell_type": "code",
   "execution_count": null,
   "id": "abc83f2f-6eb7-49c5-8617-4e4df3b5cc8e",
   "metadata": {
    "editable": true,
    "jupyter": {
     "source_hidden": true
    },
    "slideshow": {
     "slide_type": ""
    },
    "tags": [
     "remove-input"
    ]
   },
   "outputs": [],
   "source": [
    "dxl = call_r_surveys.df\n",
    "dxf = call_r_land.df_cont\n",
    "\n",
    "dxlc = dxl[['location', 'city', 'feature_type']].drop_duplicates('location')\n",
    "dxlc.set_index(['location'], inplace=True, drop=True)\n",
    "dxf['city'] = dxf.location.apply(lambda x : dxlc.loc[x, 'city'])\n",
    "sumlu = {x:'sum' for x in session_config.feature_variables}\n",
    "dxf = dxf.groupby(['sample_id', 'city', *session_config.feature_variables], as_index=False).agg(session_config.unit_agg)\n",
    "\n",
    "dxf = dxf.groupby(['city']).agg({'quantity':'sum', 'pcs/m':'mean', 'sample_id':'nunique', **sumlu})\n",
    "\n",
    "for alabel in session_config.feature_variables:\n",
    "    dxf[alabel] = dxf[alabel]/dxf.sample_id\n",
    "    \n",
    "dxf['check'] = dxf[session_config.feature_variables[:-1]].sum(axis=1)\n",
    "dxfcr = geospatial.categorize_features(dxf, feature_columns=session_config.feature_variables)\n",
    "dxfcr.rename(columns={'sample_id':'samples'}, inplace=True)\n",
    "dxfcr.drop('check', axis=1, inplace=True)\n",
    "dxfcr = dxfcr.style.set_table_styles(userdisplay.table_css_styles)\n",
    "dxfcr = dxfcr.apply(highlight_max, arg=lake_results['this_report'].sampling_results_summary['average'], subset=pd.IndexSlice[:, ['pcs/m']])\n",
    "dxfcr = dxfcr.format(userdisplay.format_kwargs, precision=2)\n",
    "# glue('all-data-municipal-results', i , display=False)\n",
    "glue('river-municipal-results', dxfcr, display=False)\n"
   ]
  },
  {
   "cell_type": "code",
   "execution_count": null,
   "id": "2d5b8904-044b-4aed-916c-5e36018f4087",
   "metadata": {
    "editable": true,
    "jupyter": {
     "source_hidden": true
    },
    "slideshow": {
     "slide_type": ""
    },
    "tags": [
     "remove-input"
    ]
   },
   "outputs": [],
   "source": [
    "summardata = alldata_ofinterest.groupby(['sample_id', 'feature_type','feature_name'], as_index=False).agg({'pcs/m':'sum'})\n",
    "# lakes\n",
    "feature_individual_summary = summardata.groupby(['feature_type','feature_name'], as_index=False).agg({'sample_id':'nunique', 'pcs/m':'mean'})\n",
    "\n",
    "lakes_individual_summary = feature_individual_summary[feature_individual_summary.feature_type == 'l'].copy()\n",
    "rivers_individual_summary = feature_individual_summary[feature_individual_summary.feature_type == 'r'].copy()\n",
    "\n",
    "\n",
    "    \n",
    "lakes_i_sum = format_river_lake_summary(lakes_individual_summary).style.set_table_styles(userdisplay.table_css_styles).format(precision=2)\n",
    "rivers_i_sum = format_river_lake_summary(rivers_individual_summary).style.set_table_styles(userdisplay.table_css_styles).format(precision=2)\n",
    "\n",
    "glue('lakes-i-summary', lakes_i_sum, display=False)\n",
    "glue('rivers-i-summary', rivers_i_sum, display=False)"
   ]
  },
  {
   "cell_type": "markdown",
   "id": "b6d8a919-cdad-4915-99d0-8ffd21a40e98",
   "metadata": {
    "editable": true,
    "slideshow": {
     "slide_type": ""
    },
    "tags": []
   },
   "source": [
    "## Lakes and rivers sampled - all data\n",
    "\n",
    "::::{grid} 2 2 2 2\n",
    "\n",
    ":::{grid-item}\n",
    "**Lakes sampled**\n",
    "\n",
    "```{glue} lakes-i-summary\n",
    "```\n",
    "\n",
    ":::\n",
    "\n",
    ":::{grid-item}\n",
    "**Rivers sampled**\n",
    "\n",
    "```{glue} rivers-i-summary\n",
    "```\n",
    ":::\n",
    "::::\n",
    "\n",
    "## Municipal Results - all data\n",
    "\n",
    "The average pieces per meter and the combined land use classification for each city.\n",
    "\n",
    "::::::::::{tab-set}\n",
    "\n",
    ":::::::::{tab-item} Lakes\n",
    "```{glue} lake-municipal-results\n",
    "```\n",
    ":::::::::\n",
    "\n",
    ":::::::::{tab-item} Rivers\n",
    "```{glue} river-municipal-results\n",
    "``` \n",
    ":::::::::\n",
    "\n",
    "::::::::::"
   ]
  }
 ],
 "metadata": {
  "kernelspec": {
   "display_name": "Python 3 (ipykernel)",
   "language": "python",
   "name": "python3"
  },
  "language_info": {
   "codemirror_mode": {
    "name": "ipython",
    "version": 3
   },
   "file_extension": ".py",
   "mimetype": "text/x-python",
   "name": "python",
   "nbconvert_exporter": "python",
   "pygments_lexer": "ipython3",
   "version": "3.9.19"
  }
 },
 "nbformat": 4,
 "nbformat_minor": 5
}
