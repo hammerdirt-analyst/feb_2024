{
 "cells": [
  {
   "cell_type": "markdown",
   "id": "201e277f-7f89-4346-be9a-fa212a6d7565",
   "metadata": {},
   "source": [
    "# Langchain agents\n"
   ]
  },
  {
   "cell_type": "code",
   "execution_count": null,
   "id": "f19a9a24-c0e1-4a63-858a-b44b807f63ce",
   "metadata": {},
   "outputs": [],
   "source": []
  }
 ],
 "metadata": {
  "kernelspec": {
   "display_name": "Python 3 (ipykernel)",
   "language": "python",
   "name": "python3"
  },
  "language_info": {
   "codemirror_mode": {
    "name": "ipython",
    "version": 3
   },
   "file_extension": ".py",
   "mimetype": "text/x-python",
   "name": "python",
   "nbconvert_exporter": "python",
   "pygments_lexer": "ipython3",
   "version": "3.12.5"
  }
 },
 "nbformat": 4,
 "nbformat_minor": 5
}
