{
 "cells": [
  {
   "cell_type": "markdown",
   "id": "2d23afe6-25c0-45d6-8291-92f96e894748",
   "metadata": {},
   "source": [
    "# Prompts and agent tools"
   ]
  },
  {
   "cell_type": "code",
   "execution_count": null,
   "id": "a0eada99-7c94-4923-b19e-f6036e72759d",
   "metadata": {},
   "outputs": [],
   "source": []
  }
 ],
 "metadata": {
  "kernelspec": {
   "display_name": "Python 3 (ipykernel)",
   "language": "python",
   "name": "python3"
  },
  "language_info": {
   "codemirror_mode": {
    "name": "ipython",
    "version": 3
   },
   "file_extension": ".py",
   "mimetype": "text/x-python",
   "name": "python",
   "nbconvert_exporter": "python",
   "pygments_lexer": "ipython3",
   "version": "3.12.5"
  }
 },
 "nbformat": 4,
 "nbformat_minor": 5
}
