{
 "cells": [
  {
   "cell_type": "code",
   "execution_count": 1,
   "id": "64c16819-72da-4b47-a3aa-988d3f5a8203",
   "metadata": {
    "editable": true,
    "pycharm": {
     "name": "#%%\n"
    },
    "slideshow": {
     "slide_type": ""
    },
    "tags": [
     "hide-input"
    ]
   },
   "source": [
    "%load_ext watermark\n",
    "\n",
    "import session_config\n",
    "import reports\n",
    "import pandas as pd\n",
    "import numpy as np\n",
    "import matplotlib.pyplot as plt\n",
    "import matplotlib as mpl\n",
    "import seaborn as sns"
   ],
   "outputs": []
  },
  {
   "cell_type": "markdown",
   "id": "64253a93-aae9-40d7-b29f-1aa216d30186",
   "metadata": {
    "editable": true,
    "slideshow": {
     "slide_type": ""
    },
    "tags": []
   },
   "source": [
    "(surveyreporter)=\n",
    "# Survey report class\n",
    "\n",
    "The `SurveyReport` class is used to generate descriptive statistics and identify objects of interest from a query defined by geographic, adminsitrative and/or temporal bounds.\n",
    "\n",
    "The `SurveyReport` class expects a dataframe as described in the [annex](the_survey_data). Therefore any subset of the survey data will produce a report.\n",
    "\n",
    "```{note}\n",
    "\n",
    "The best reports are focussed. Select a lake or municipality of interest. Selecting specific codes or groups of codes based on use case is another way to produce a report that is tailored to a specific situation.\n",
    "\n",
    "```\n",
    "\n",
    "## Make a report class\n",
    "\n",
    "Define the boundaries of your search (canton, lake, river, city) and filter the data. Simply call the `SurveyReport` class with the filtered data as the argument.\n",
    "\n",
    "```python\n",
    "import session_config\n",
    "import reports\n",
    "\n",
    "# available data\n",
    "surveys = session_config.collect_survey_data()\n",
    "\n",
    "# boundaries / search parameters\n",
    "feature_type = 'canton'\n",
    "feature_name = 'Vaud'\n",
    "\n",
    "df = surveys[surveys[feature_type] == feature_name].copy()\n",
    "vaud_report = reports.SurveyReport(dfc=df)\n",
    "```"
   ]
  },
  {
   "cell_type": "code",
   "execution_count": 2,
   "id": "556ba2a8-f939-4607-aa22-e32ced9f70d8",
   "metadata": {
    "editable": true,
    "slideshow": {
     "slide_type": ""
    },
    "tags": [
     "remove-input"
    ]
   },
   "source": [
    "surveys = session_config.collect_survey_data()\n",
    "feature_type = 'canton'\n",
    "feature_name = 'Vaud'\n",
    "\n",
    "df = surveys[surveys[feature_type] == feature_name].copy()\n",
    "vaud_report = reports.SurveyReport(dfc=df)"
   ],
   "outputs": []
  },
  {
   "cell_type": "markdown",
   "id": "e4a858c7-ea3e-4864-9f6e-b2e1c2babf5e",
   "metadata": {
    "editable": true,
    "slideshow": {
     "slide_type": ""
    },
    "tags": []
   },
   "source": [
    "## Report contents\n",
    "\n",
    "The report summarizes the survey results and provides the metadata necesary to describe the geographic and administrative extent of the survey results.\n",
    "\n",
    "1. Administrative boundaries: The number and name of municipalities and cantons included in the report\n",
    "2. Feature inventory: The number and name of lakes, rivers and parks included in the report\n",
    "3. The date range of the data\n",
    "4. A complete inventory of the objects found, including summary statistics for each object type\n",
    "5. Total quantity: the total number of objects found\n",
    "6. Number of samples\n",
    "7. Fail rate: the probability of finding at least one of the specified object at a sample\n",
    "8. Sample results: the sample total for each sample\n",
    "9. Sampling results summary: the distribution of the sample total for all samples\n",
    "10. Object summary: the complete inventory and fail rate for each object in one table\n",
    "11. Sampling conditions\n",
    "\n",
    "\n",
    "### Administrative boundaries\n",
    "\n",
    "The administrative boundaries can be displayed using `SurveyReport.administrative_boundaries()`. The resulting dictionary contains the number and names of each type of boundary:\n",
    "\n",
    "__What cities are considered in this report ?__\n",
    "\n",
    "```python\n",
    "# collect the boundaries report\n",
    "admin_boundaries = vaud_report.administrative_boundaries()\n",
    "admin_boundaries['city']\n",
    "```\n",
    "There are sixteen different cities:"
   ]
  },
  {
   "cell_type": "code",
   "execution_count": 3,
   "id": "6174d54f-f481-48b9-b831-7f80c4453f47",
   "metadata": {
    "editable": true,
    "jupyter": {
     "source_hidden": true
    },
    "slideshow": {
     "slide_type": ""
    },
    "tags": [
     "remove-input"
    ]
   },
   "source": [
    "admin_boundaries = vaud_report.administrative_boundaries()\n",
    "print(admin_boundaries['city'])"
   ],
   "outputs": []
  },
  {
   "cell_type": "markdown",
   "id": "e9d9e1b3-c838-40f9-8a36-31fc8cb1ec45",
   "metadata": {
    "editable": true,
    "slideshow": {
     "slide_type": ""
    },
    "tags": []
   },
   "source": [
    "<br />\n",
    "\n",
    "__What river basins are considered in this report ?__\n",
    "\n",
    "```python\n",
    "# collect the boundaries report\n",
    "admin_boundaries['parent_boundary']\n",
    "```\n",
    "There are two river basins:"
   ]
  },
  {
   "cell_type": "code",
   "execution_count": 4,
   "id": "f8d1f858-887c-4889-9968-44386be41c34",
   "metadata": {
    "editable": true,
    "slideshow": {
     "slide_type": ""
    },
    "tags": [
     "remove-input"
    ]
   },
   "source": [
    "print(admin_boundaries['parent_boundary'])"
   ],
   "outputs": []
  },
  {
   "cell_type": "markdown",
   "id": "40aae8e3-d622-47f5-8cb0-1d7076c1da6b",
   "metadata": {
    "editable": true,
    "slideshow": {
     "slide_type": ""
    },
    "tags": []
   },
   "source": [
    "### Feature inventory\n",
    "\n",
    "The number and name of lakes, rivers or parks in the data can be accessed usin `SurveyReport.feature_inventory()`.\n",
    "\n",
    "__Which lakes are included in this report ?__\n",
    "\n",
    "```python\n",
    "# call the feature inventory\n",
    "vaud_features = vaud_report.feature_inventory()\n",
    "vaud_features['l']\n",
    "```\n",
    "There are two lakes in this report"
   ]
  },
  {
   "cell_type": "code",
   "execution_count": 5,
   "id": "8c5f9347-d7dd-4ca3-b96e-a9426016563f",
   "metadata": {
    "editable": true,
    "slideshow": {
     "slide_type": ""
    },
    "tags": [
     "remove-input"
    ]
   },
   "source": [
    "vaud_features = vaud_report.feature_inventory()\n",
    "vaud_features['l']"
   ],
   "outputs": []
  },
  {
   "cell_type": "markdown",
   "id": "037cdb71-0c01-426d-b62a-ee4c5f44708b",
   "metadata": {
    "editable": true,
    "slideshow": {
     "slide_type": ""
    },
    "tags": []
   },
   "source": [
    "### Date range, number of samples, total quantity\n",
    "\n",
    "These three attributes are avaialble directly:\n",
    "\n",
    "```python\n",
    "dates = vaud_report.date_range\n",
    "qty = vaud_report.total_quantity\n",
    "nsamps = vaud_report.number_of_samples\n",
    "```\n",
    "\n"
   ]
  },
  {
   "cell_type": "code",
   "execution_count": 6,
   "id": "0bbbac6b-c02d-4b05-b1d5-83476ae11fc4",
   "metadata": {
    "editable": true,
    "jupyter": {
     "source_hidden": true
    },
    "slideshow": {
     "slide_type": ""
    },
    "tags": [
     "remove-input"
    ]
   },
   "source": [
    "dates = vaud_report.date_range\n",
    "qty = vaud_report.total_quantity\n",
    "nsamps = vaud_report.number_of_samples\n",
    "\n",
    "\n",
    "print(f'date range : {dates}\\nquantity : {qty}\\nnumber of samples: {nsamps}')"
   ],
   "outputs": []
  },
  {
   "cell_type": "markdown",
   "id": "d29325ec-aad9-4781-aba2-58d5626261c4",
   "metadata": {
    "editable": true,
    "slideshow": {
     "slide_type": ""
    },
    "tags": []
   },
   "source": [
    "### Fail rate\n",
    "\n",
    "The fail rate is best understood as the chance of finding at lease one of a particular object at a survey:\n",
    "\n",
    "__What is the chance of finding at least one candy wrapper at an inventory ?__\n",
    "\n",
    "```python\n",
    "fail_rate = vaud_report.fail_rate()\n",
    "fail_rate.loc['G30']\n",
    "```\n",
    "\n",
    "The fail rate (the chance of finding at leas one) for snack wrappers is 91%, there were 233 samples and there was at least one wrapper at 214 samples:"
   ]
  },
  {
   "cell_type": "code",
   "execution_count": 7,
   "id": "f205f754-a21b-48b7-a33b-723d9a637371",
   "metadata": {
    "editable": true,
    "jupyter": {
     "source_hidden": true
    },
    "slideshow": {
     "slide_type": ""
    },
    "tags": [
     "remove-input"
    ]
   },
   "source": [
    "fail_rate = vaud_report.fail_rate()\n",
    "fail_rate.loc['G30']"
   ],
   "outputs": []
  },
  {
   "cell_type": "markdown",
   "id": "89efab4a-124f-4218-8367-3c679d6ce306",
   "metadata": {
    "editable": true,
    "slideshow": {
     "slide_type": ""
    },
    "tags": []
   },
   "source": [
    "### Sample results\n",
    "\n",
    "The sample results are the aggregated daily totals for all samples. All statistics will originate from here.\n",
    "\n",
    "```python\n",
    "vaud_samples = vaud_report.sample_results\n",
    "```\n",
    "\n",
    "The sample results are best viewed in a scatterplot"
   ]
  },
  {
   "cell_type": "code",
   "execution_count": 8,
   "id": "64b29bcb-8fe0-48c7-8c39-310d9489e8d2",
   "metadata": {
    "editable": true,
    "jupyter": {
     "source_hidden": true
    },
    "slideshow": {
     "slide_type": ""
    },
    "tags": [
     "remove-input"
    ]
   },
   "source": [
    "import matplotlib.dates as mdates\n",
    "vaud_samples = vaud_report.sample_results\n",
    "vaud_samples['date'] = pd.to_datetime(vaud_samples['date'])\n",
    "\n",
    "fig, ax = plt.subplots()\n",
    "\n",
    "ax.xaxis.set_minor_locator(mdates.MonthLocator(interval=3))\n",
    "ax.xaxis.set_major_locator(mdates.YearLocator())\n",
    "\n",
    "sns.scatterplot(data=vaud_samples,x='date', y='pcs/m')\n",
    "ax.set_title(\"Sample results method of SurveyClass\", loc='left')\n",
    "\n",
    "plt.show()"
   ],
   "outputs": []
  },
  {
   "cell_type": "markdown",
   "id": "70e41b0a-f3d2-442f-a0f9-fc26a38e34c3",
   "metadata": {
    "editable": true,
    "slideshow": {
     "slide_type": ""
    },
    "tags": []
   },
   "source": [
    "### Sample results summary\n",
    "\n",
    "The sample results summary returns the quintiles of the survey totals, the average, the date range and the number of samples in one dictionary.\n",
    "\n",
    "```python\n",
    "sampling_summary = vaud_report.sampling_results_summary\n",
    "```\n",
    "The average in the Canton of Vaud was 7.69 pcs/m."
   ]
  },
  {
   "cell_type": "code",
   "execution_count": 9,
   "id": "6c241f9f-0b3a-487a-9a41-651de17711f0",
   "metadata": {
    "editable": true,
    "slideshow": {
     "slide_type": ""
    },
    "tags": [
     "remove-input"
    ]
   },
   "source": [
    "sampling_summary = vaud_report.sampling_results_summary\n",
    "sampling_summary"
   ],
   "outputs": []
  },
  {
   "cell_type": "markdown",
   "id": "91ec8e58-1694-4662-8766-be71d5498688",
   "metadata": {
    "editable": true,
    "slideshow": {
     "slide_type": ""
    },
    "tags": []
   },
   "source": [
    "### Object summary\n",
    "\n",
    "The object summary is the detailed inventory with % of total, fail-rate and average pcs/m for each object.\n",
    "\n",
    "```python\n",
    "object_summary = vaud_report.object_summary()\n",
    "```\n",
    "The five most abundant objects. G27, cigarette ends, are 19% of the total with an average density of 1.34 pcs/m. The fail rate for cigarette ends is less than the fail rate for candy wrappers (G30) and fragmented plastics (Gfrags)."
   ]
  },
  {
   "cell_type": "code",
   "execution_count": 10,
   "id": "6ddd4e7f-e57b-4149-803b-18606fc74d75",
   "metadata": {
    "editable": true,
    "slideshow": {
     "slide_type": ""
    },
    "tags": [
     "remove-input"
    ]
   },
   "source": [
    "object_summary = vaud_report.object_summary()\n",
    "object_summary.sort_values('quantity', ascending=False).head()"
   ],
   "outputs": []
  },
  {
   "cell_type": "code",
   "execution_count": 12,
   "id": "54fba949-faaf-45c5-a4b7-f0111a5c8872",
   "metadata": {
    "editable": true,
    "jupyter": {
     "source_hidden": true
    },
    "pycharm": {
     "name": "#%%\n"
    },
    "slideshow": {
     "slide_type": ""
    },
    "tags": [
     "remove-input"
    ]
   },
   "source": [
    "%watermark -a hammerdirt-analyst -co --iversions"
   ],
   "outputs": []
  },
  {
   "cell_type": "code",
   "execution_count": null,
   "id": "1271b638-c1bc-4763-ab43-758fbdbfddb0",
   "metadata": {
    "editable": true,
    "jupyter": {
     "source_hidden": true
    },
    "pycharm": {
     "name": "#%%\n"
    },
    "slideshow": {
     "slide_type": ""
    },
    "tags": []
   },
   "source": [],
   "outputs": []
  }
 ],
 "metadata": {
  "kernelspec": {
   "display_name": "Python 3 (ipykernel)",
   "language": "python",
   "name": "python3"
  },
  "language_info": {
   "codemirror_mode": {
    "name": "ipython",
    "version": 3
   },
   "file_extension": ".py",
   "mimetype": "text/x-python",
   "name": "python",
   "nbconvert_exporter": "python",
   "pygments_lexer": "ipython3",
   "version": "3.9.17"
  }
 },
 "nbformat": 4,
 "nbformat_minor": 5
}
