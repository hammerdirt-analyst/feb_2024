{
 "cells": [
  {
   "cell_type": "code",
   "execution_count": 1,
   "id": "64c16819-72da-4b47-a3aa-988d3f5a8203",
   "metadata": {},
   "outputs": [],
   "source": [
    "%load_ext watermark\n",
    "import pandas as pd\n",
    "import numpy as np\n",
    "\n",
    "from review_methods_tests import collect_vitals, find_missing, find_missing_loc_dates, indexed_feature_data\n",
    "from review_methods_tests import use_gfrags_gfoams_gcaps, make_a_summary,combine_survey_files"
   ]
  },
  {
   "cell_type": "markdown",
   "id": "7bca0862-a1e5-4fd3-ae17-65ac2fd7cd0a",
   "metadata": {},
   "source": [
    "# Testing data models\n",
    "\n",
    "The methods used in the version of the federal report were tested, but their was not a specific set of validation criteria beforehand. Test were done as the work progressed. This wasted alot of time\n",
    "\n",
    "here we test the land use and survey data models.\n",
    "\n",
    "1. is the land use data complete for each survey location?\n",
    "2. does the survey data aggregate correctly to sample level?\n",
    "   * what happens to objects with a quantity of zero?\n",
    "   * aggregating to cantonal, municipal or survey area\n",
    "     * are all locations included?\n",
    "     * are lakes and rivers distinguished?\n",
    "3. Does the aggregated data for iqaasl match the federal report?\n",
    "\n",
    "### Gfoams, Gfrags, Gcaps\n",
    "\n",
    "These are aggregate groups. It is difficult to infer how well a participant differentiates between size or use of the following codes.\n",
    "\n",
    "1. Gfrags: G79, G78, G75\n",
    "2. Gfoams: G81, G82, G76\n",
    "3. Gcaps: G21, G22, G23, G24\n",
    "\n",
    "These aggregate groups are used when comparing values between sampling campaigns.\n",
    "\n",
    "### Sampling campaigns\n",
    "\n",
    "The dates of the sampling campaigns are expanded to include the surveys that happened between large organized campaigns. The start and end dates are defined below.\n",
    "\n",
    "__Attention!!__ The codes used for each survey campaign are different. Different groups organized and conducted surveys using the MLW protocol. The data was then sent to us.\n",
    "\n",
    "__MCBP:__ November 2015 - November 2016. The initial sampling campaign. Fragmented plastics (Gfrags/G79/G78/G76) were not sorted by size. All unidentified hard plastic items were classified in this manner.\n",
    "\n",
    "* start_date = 2015-11-15\n",
    "* end_date = 2017-03-31\n",
    "\n",
    "__SLR:__ April 2017 - May 2018. Sampling campaign by the WWF. Objects less than 2.5 cm were not counted.\n",
    "\n",
    "* start_date = 2017-04-01\n",
    "* end_date = 2020-03-31\n",
    "\n",
    "__IQAASL:__ April 2020 - May 2021. Sampling campaign mandated by the Swiss confederation. Additional codes were added for regional objects.\n",
    "\n",
    "* start_date = 2020-04-01\n",
    "* end_date = 2021-05-31\n",
    "\n",
    "__Plastock (not added yet):__ January 2022 - December 2022. Sampling campaign from the Association pour la Sauvegarde du Léman. Not all objects were counted, They only identified a limited number of objects.\n",
    "\n",
    "### Feature type\n",
    "\n",
    "The feature type is a label that applies to general conditions of use for the location and other locations in the region\n",
    "\n",
    "* r: rivers: surveys on river banks\n",
    "* l: lake: surveys on the lake shore\n",
    "* p: parcs: surveys in recreational areas\n",
    "\n",
    "### Parent boundary\n",
    "\n",
    "Designates the larger geographic region of the survey location. For lakes and rivers it is the name of the catchment area or river basin. For parcs it is the the type of park ie.. les Alpes. Recall that each feature has a name, for example Alpes Lépontines is the the name of a feature in the geographic region of _Les Alpes_."
   ]
  },
  {
   "cell_type": "code",
   "execution_count": 2,
   "id": "54148c36-ff96-4891-b230-479c5598f430",
   "metadata": {},
   "outputs": [],
   "source": [
    "# period dates\n",
    "period_dates = {\n",
    "    \"mcbp\":[\"2015-11-15\", \"2017-03-31\"],\n",
    "    \"slr\": [\"2017-04-01\", \"2020-02-28\"],\n",
    "    \"iqaasl\": [\"2020-03-01\", \"2021-05-31\"],\n",
    "    \"2022\": [\"2021-06-01\", \"2022-12-01\"]\n",
    "}\n",
    "code_cols = ['material', 'description', 'source', 'parent_code', 'single_use', 'groupname']\n",
    "\n",
    "group_by_columns = [\n",
    "    'loc_date', \n",
    "    'date', \n",
    "    'feature_name', \n",
    "    'slug',     \n",
    "    'parent_boundary',\n",
    "    'length',\n",
    "    'groupname',\n",
    "    'city',\n",
    "    'code', \n",
    "]\n",
    "agg_this = {\n",
    "    \"quantity\":\"sum\",\n",
    "    \"pcs_m\": \"sum\"\n",
    "}\n",
    "\n",
    "survey_data = [\n",
    "    \"data/end_process/after_may_2021.csv\",\n",
    "    \"data/end_process/iqaasl.csv\",\n",
    "    \"data/end_process/mcbp.csv\",\n",
    "    \"data/end_process/slr.csv\",\n",
    "]\n",
    "\n",
    "code_data =  \"data/end_process/codes.csv\"\n",
    "beach_data = \"data/end_process/beaches.csv\"\n",
    "land_cover_data = \"data/end_process/land_cover.csv\"\n",
    "land_use_data = \"data/end_process/land_use.csv\"\n",
    "street_data = \"data/end_process/streets.csv\"\n",
    "intersection_attributes = \"data/end_process/river_intersect_lakes.csv\"\n",
    "surveys = combine_survey_files(survey_data)\n",
    "codes = indexed_feature_data(code_data, index=\"code\")\n",
    "beaches = indexed_feature_data(beach_data, index=\"slug\")\n",
    "land_cover = pd.read_csv(land_cover_data)\n",
    "land_use = pd.read_csv(land_use_data)\n",
    "streets = pd.read_csv(street_data)\n",
    "river_intersect_lakes = pd.read_csv(intersection_attributes)"
   ]
  },
  {
   "cell_type": "code",
   "execution_count": 3,
   "id": "1d8cad59-357b-4893-8a26-86b7150c24a7",
   "metadata": {},
   "outputs": [],
   "source": [
    "# # assign the new code values to the results\n",
    "# g_frag_foam = use_gfrags_gfoams_gcaps(surveys, codes)\n",
    "\n",
    "# # separate the values greater than zero and the new code values\n",
    "# gthan_zero = g_frag_foam[(g_frag_foam.quantity > 0) | (g_frag_foam.code.isin([\"Gfrags\", \"Gfoams\", \"Gcaps\"]))].copy()\n",
    "\n",
    "# # separate the values = to zero and the codes that are not being changed\n",
    "# t_t0 = g_frag_foam[(g_frag_foam.quantity == 0) & (~g_frag_foam.code.isin([\"Gfrags\", \"Gfoams\", \"Gcaps\"]))].copy()\n",
    "\n",
    "# # group the codes that have a value greater\n",
    "# t_ti = gthan_zero.groupby(group_by_columns, as_index=False).agg(agg_this)\n",
    "\n",
    "# t_th = pd.concat([t_t0, t_ti])"
   ]
  },
  {
   "cell_type": "code",
   "execution_count": 4,
   "id": "5014343c-818d-45f6-b9ea-ddee794f60bd",
   "metadata": {},
   "outputs": [
    {
     "data": {
      "text/plain": [
       "material                                             plastic\n",
       "en                     Plastic/foamed polystyrene 2.5 > < 50\n",
       "source                                             Undefined\n",
       "parent_code                                           Gfrags\n",
       "single_use                                             False\n",
       "groupname                                     plastic pieces\n",
       "fr                  Plastique/polystyrène expansé 2,5 > < 50\n",
       "de             Objekte aus Kunststoff/Polystyrol 2,5 - 50 cm\n",
       "Name: G76, dtype: object"
      ]
     },
     "execution_count": 4,
     "metadata": {},
     "output_type": "execute_result"
    }
   ],
   "source": [
    "codes.loc[\"G76\"]\n",
    "# codes.to_csv(\"data/end_process/codes.csv\", index=True)"
   ]
  },
  {
   "cell_type": "markdown",
   "id": "5e61c05f-baa2-4e9f-91ab-4d6840198579",
   "metadata": {},
   "source": [
    "## Aggregate a set of data by sample (location and date)\n",
    "\n",
    "Use the loc_date column in the survey data. Use the IQAASL period and test against the federal report\n",
    "\n",
    "### Before aggregating does the number of locations, cities, samples and quantity match the federal report?\n",
    "\n",
    "__The feature types include lakes and rivers, alpes were condsidered separately__\n",
    "\n",
    "From https://hammerdirt-analyst.github.io/IQAASL-End-0f-Sampling-2021/lakes_rivers.html#\n",
    "\n",
    "1. cities = yes\n",
    "2. samples = yes\n",
    "3. locations = yes\n",
    "4. quantity = No it is short 50 pieces"
   ]
  },
  {
   "cell_type": "code",
   "execution_count": 5,
   "id": "71bbcc2e-7fe7-4e21-9dbf-5eb58ed53187",
   "metadata": {},
   "outputs": [],
   "source": [
    "period = \"iqaasl\"\n",
    "survey_areas = [\"rhone\", \"ticino\", \"linth\", \"aare\"]\n",
    "start, end = [*period_dates[period]]\n",
    "survey_data = surveys[surveys.parent_boundary.isin(survey_areas)].copy()\n",
    "\n",
    "def slice_data_by_date(data, start, end):\n",
    "    mask = (data.date >= start) & (data.date <= end)\n",
    "    return data[mask]\n",
    "\n",
    "feature_d = slice_data_by_date(survey_data.copy(), start, end)\n",
    "feature_d[feature_d.code.isin("
   ]
  },
  {
   "cell_type": "code",
   "execution_count": 6,
   "id": "5e7053b7-1b8d-4ba1-9071-9c0df0275792",
   "metadata": {},
   "outputs": [
    {
     "name": "stdout",
     "output_type": "stream",
     "text": [
      "\n",
      "    Number of objects: 54694\n",
      "    \n",
      "    Median pieces/meter: 0.0\n",
      "    \n",
      "    Number of samples: 386\n",
      "    \n",
      "    Number of unique codes: 226\n",
      "    \n",
      "    Number of sample locations: 143\n",
      "    \n",
      "    Number of features: 28\n",
      "    \n",
      "    Number of cities: 77\n",
      "    \n",
      "    Start date: 2020-03-08\n",
      "    \n",
      "    End date: 2021-05-12\n",
      "    \n",
      "    \n"
     ]
    }
   ],
   "source": [
    "feature_data = use_gfrags_gfoams_gcaps(feature_d, codes)\n",
    "feature_vitals = collect_vitals(feature_d)\n",
    "print(make_a_summary(feature_vitals))"
   ]
  },
  {
   "cell_type": "markdown",
   "id": "cec69cc1-b826-47a6-a2fc-abe599e4481c",
   "metadata": {},
   "source": [
    "### aggregate to sample\n",
    "\n",
    "The assessments are made on a per sample basis. That means that we can look at an individual object value at each sample. The sum of all the individual objects in a survey is the total for that survey. Dividing the totals by the length of the survey gives the assessment metric: _pieces of trash per meter_.\n",
    "\n",
    "1. Are the quantiles of the current data  = to the federal report? Yes\n",
    "2. Are the material totals = to the federal report? No,plastics if off by 50 pcs"
   ]
  },
  {
   "cell_type": "code",
   "execution_count": 7,
   "id": "cfec738d-1a5b-4e14-98a5-765cd0a285b9",
   "metadata": {},
   "outputs": [
    {
     "data": {
      "text/plain": [
       "count    386.000000\n",
       "mean       3.952073\n",
       "std        7.063422\n",
       "min        0.020000\n",
       "25%        0.822500\n",
       "50%        1.895000\n",
       "75%        3.865000\n",
       "max       66.170000\n",
       "Name: pcs_m, dtype: float64"
      ]
     },
     "execution_count": 7,
     "metadata": {},
     "output_type": "execute_result"
    }
   ],
   "source": [
    "import pandas as pd\n",
    "from typing import Type, Optional\n",
    "from typing import List, Dict, Union\n",
    "\n",
    "def aggregate_dataframe(\n",
    "    df: pd.DataFrame, \n",
    "    groupby_columns: List[str], \n",
    "    aggregation_functions: Dict[str, Union[str, callable]],\n",
    "    index: bool = False\n",
    ") -> pd.DataFrame:\n",
    "    \"\"\"\n",
    "    Aggregate specified columns in a Pandas DataFrame using given aggregation functions.\n",
    "\n",
    "    Args:\n",
    "        df (pd.DataFrame): The input DataFrame.\n",
    "        groupby_columns (List[str]): List of column names to group by.\n",
    "        aggregation_functions (Dict[str, Union[str, callable]]): \n",
    "            A dictionary where keys are column names to aggregate, \n",
    "            and values are either aggregation functions (e.g., 'sum', 'mean', 'max', 'min')\n",
    "            or custom aggregation functions (callable functions).\n",
    "        index (bool, optional): Whether to use the groupby columns as an index.\n",
    "            Default is False.\n",
    "\n",
    "    Returns:\n",
    "        pd.DataFrame: A new DataFrame with aggregated values.\n",
    "    \"\"\"\n",
    "    grouped = df.groupby(groupby_columns, as_index=index).agg(aggregation_functions)\n",
    "    \n",
    "    return grouped\n",
    "    \n",
    "def merge_dataframes_on_column_and_index(\n",
    "    left_df: pd.DataFrame, \n",
    "    right_df: pd.DataFrame, \n",
    "    left_column: str, \n",
    "    how: str = 'inner',\n",
    "    validate: str = 'many_to_one'\n",
    ") -> pd.DataFrame:\n",
    "    \"\"\"\n",
    "    Merge two DataFrames where the left DataFrame is merged on a specified column and \n",
    "    the right DataFrame is merged on its index.\n",
    "\n",
    "    Args:\n",
    "        left_df (pd.DataFrame): The left DataFrame to be merged.\n",
    "        right_df (pd.DataFrame): The right DataFrame to be merged on its index.\n",
    "        left_column (str): The column in the left DataFrame to merge on.\n",
    "        how (str, optional): The type of merge to be performed ('left', 'right', 'outer', or 'inner'). \n",
    "            Default is 'inner'.\n",
    "        validate (str, optional): Whether to perform merge validation checks. \n",
    "            Default is 'many_to_one'.\n",
    "\n",
    "    Returns:\n",
    "        pd.DataFrame: A new DataFrame resulting from the merge operation.\n",
    "    \"\"\"\n",
    "  \n",
    "    merged_df = left_df.merge(right_df, left_on=left_column, right_index=True, how=how)\n",
    "    return merged_df\n",
    "\n",
    "code_result_df = aggregate_dataframe(feature_data.copy(), group_by_columns, agg_this)\n",
    "sample_totals = aggregate_dataframe(code_result_df.copy(), [\"loc_date\", \"slug\", \"parent_boundary\"], agg_this)\n",
    "sample_totals.pcs_m.describe()"
   ]
  },
  {
   "cell_type": "code",
   "execution_count": 8,
   "id": "92698c51-4640-41d1-be48-466c177d65f9",
   "metadata": {},
   "outputs": [],
   "source": [
    "merged_result = merge_dataframes_on_column_and_index(code_result_df.copy(), codes[\"material\"], 'code', how='inner', validate=True)\n",
    "materials = aggregate_dataframe(merged_result.copy(), [\"material\"], {\"quantity\":\"sum\"})"
   ]
  },
  {
   "cell_type": "code",
   "execution_count": 9,
   "id": "0651eb12-de4d-4d39-8229-3ed011028f1e",
   "metadata": {},
   "outputs": [
    {
     "name": "stdout",
     "output_type": "stream",
     "text": [
      "       code  quantity\n",
      "111     G27      8485\n",
      "225  Gfrags      7289\n",
      "224  Gfoams      5670\n",
      "115     G30      3325\n",
      "147     G67      2534\n",
      "97     G200      2136\n",
      "14     G112      1968\n",
      "223   Gcaps      1844\n",
      "165     G74      1656\n",
      "217     G95      1406\n"
     ]
    }
   ],
   "source": [
    "def get_top_x_records_with_max_quantity(df, quantity_column, id_column, x):\n",
    "    \"\"\"\n",
    "    Get the top x records with the greatest quantity and their associated ID from a DataFrame.\n",
    "\n",
    "    Args:\n",
    "        df (pd.DataFrame): The input DataFrame.\n",
    "        quantity_column (str): The name of the quantity column.\n",
    "        id_column (str): The name of the ID column.\n",
    "        x (int): The number of records to return.\n",
    "\n",
    "    Returns:\n",
    "        pd.DataFrame: A DataFrame with the top x records having the greatest quantity and the associated ID.\n",
    "    \"\"\"\n",
    "    # Sort the DataFrame by the quantity column in descending order, take the top x records, and select the ID column\n",
    "    top_x_records = df.nlargest(x, quantity_column)[[id_column, quantity_column]]\n",
    "    return top_x_records\n",
    "\n",
    "\n",
    "\n",
    "code_totals = aggregate_dataframe(code_result_df.copy(), [\"code\"], {\"quantity\":\"sum\"})\n",
    "result = get_top_x_records_with_max_quantity(code_totals.copy(), \"quantity\", \"code\", 10)\n",
    "print(result)\n"
   ]
  },
  {
   "cell_type": "code",
   "execution_count": 10,
   "id": "2fef30b9-2789-4221-b37d-5f27cb7999b7",
   "metadata": {},
   "outputs": [
    {
     "data": {
      "text/html": [
       "<div>\n",
       "<style scoped>\n",
       "    .dataframe tbody tr th:only-of-type {\n",
       "        vertical-align: middle;\n",
       "    }\n",
       "\n",
       "    .dataframe tbody tr th {\n",
       "        vertical-align: top;\n",
       "    }\n",
       "\n",
       "    .dataframe thead th {\n",
       "        text-align: right;\n",
       "    }\n",
       "</style>\n",
       "<table border=\"1\" class=\"dataframe\">\n",
       "  <thead>\n",
       "    <tr style=\"text-align: right;\">\n",
       "      <th></th>\n",
       "      <th>code</th>\n",
       "      <th>material</th>\n",
       "      <th>description</th>\n",
       "      <th>source</th>\n",
       "      <th>source_two</th>\n",
       "      <th>source_three</th>\n",
       "      <th>parent_code</th>\n",
       "      <th>direct</th>\n",
       "      <th>single_use</th>\n",
       "      <th>micro</th>\n",
       "      <th>ospar_code</th>\n",
       "      <th>groupname</th>\n",
       "    </tr>\n",
       "  </thead>\n",
       "  <tbody>\n",
       "    <tr>\n",
       "      <th>183</th>\n",
       "      <td>G75</td>\n",
       "      <td>Plastic</td>\n",
       "      <td>Plastic/polystyrene pcs 0.5 - 2.5 cm</td>\n",
       "      <td>Undefined</td>\n",
       "      <td>Where does it come from</td>\n",
       "      <td>none</td>\n",
       "      <td>Parent code</td>\n",
       "      <td>True</td>\n",
       "      <td>False</td>\n",
       "      <td>False</td>\n",
       "      <td>117</td>\n",
       "      <td>plastic pieces</td>\n",
       "    </tr>\n",
       "    <tr>\n",
       "      <th>186</th>\n",
       "      <td>G78</td>\n",
       "      <td>Plastic</td>\n",
       "      <td>Plastic pieces 0.5cm - 2.5cm</td>\n",
       "      <td>Undefined</td>\n",
       "      <td>Where does it come from</td>\n",
       "      <td>none</td>\n",
       "      <td>Parent code</td>\n",
       "      <td>True</td>\n",
       "      <td>False</td>\n",
       "      <td>False</td>\n",
       "      <td>117</td>\n",
       "      <td>plastic pieces</td>\n",
       "    </tr>\n",
       "    <tr>\n",
       "      <th>187</th>\n",
       "      <td>G79</td>\n",
       "      <td>Plastic</td>\n",
       "      <td>Plastic pieces 2.5cm - 50cm</td>\n",
       "      <td>Undefined</td>\n",
       "      <td>NaN</td>\n",
       "      <td>NaN</td>\n",
       "      <td>Parent code</td>\n",
       "      <td>True</td>\n",
       "      <td>False</td>\n",
       "      <td>False</td>\n",
       "      <td>46</td>\n",
       "      <td>plastic pieces</td>\n",
       "    </tr>\n",
       "    <tr>\n",
       "      <th>189</th>\n",
       "      <td>G80</td>\n",
       "      <td>Plastic</td>\n",
       "      <td>Plastic pieces &gt; 50cm</td>\n",
       "      <td>Undefined</td>\n",
       "      <td>Where does it come from</td>\n",
       "      <td>NaN</td>\n",
       "      <td>Parent code</td>\n",
       "      <td>True</td>\n",
       "      <td>False</td>\n",
       "      <td>False</td>\n",
       "      <td>NaN</td>\n",
       "      <td>plastic pieces</td>\n",
       "    </tr>\n",
       "    <tr>\n",
       "      <th>273</th>\n",
       "      <td>Gfrags</td>\n",
       "      <td>Plastic</td>\n",
       "      <td>Fragmented plastics</td>\n",
       "      <td>Undefined</td>\n",
       "      <td>NaN</td>\n",
       "      <td>NaN</td>\n",
       "      <td>Parent code</td>\n",
       "      <td>True</td>\n",
       "      <td>False</td>\n",
       "      <td>False</td>\n",
       "      <td>46</td>\n",
       "      <td>plastic pieces</td>\n",
       "    </tr>\n",
       "  </tbody>\n",
       "</table>\n",
       "</div>"
      ],
      "text/plain": [
       "       code material                           description     source  \\\n",
       "183     G75  Plastic  Plastic/polystyrene pcs 0.5 - 2.5 cm  Undefined   \n",
       "186     G78  Plastic          Plastic pieces 0.5cm - 2.5cm  Undefined   \n",
       "187     G79  Plastic           Plastic pieces 2.5cm - 50cm  Undefined   \n",
       "189     G80  Plastic                 Plastic pieces > 50cm  Undefined   \n",
       "273  Gfrags  Plastic                   Fragmented plastics  Undefined   \n",
       "\n",
       "                  source_two source_three  parent_code  direct  single_use  \\\n",
       "183  Where does it come from         none  Parent code    True       False   \n",
       "186  Where does it come from         none  Parent code    True       False   \n",
       "187                      NaN          NaN  Parent code    True       False   \n",
       "189  Where does it come from          NaN  Parent code    True       False   \n",
       "273                      NaN          NaN  Parent code    True       False   \n",
       "\n",
       "     micro ospar_code       groupname  \n",
       "183  False        117  plastic pieces  \n",
       "186  False        117  plastic pieces  \n",
       "187  False         46  plastic pieces  \n",
       "189  False        NaN  plastic pieces  \n",
       "273  False         46  plastic pieces  "
      ]
     },
     "execution_count": 10,
     "metadata": {},
     "output_type": "execute_result"
    }
   ],
   "source": [
    "cx = pd.read_csv(\"data/from_prev/codes_with_group_names_2015.csv\")\n",
    "cx[cx.code.isin(['G75', 'G78', 'G79', 'G80', 'Gfrags'])]"
   ]
  },
  {
   "cell_type": "code",
   "execution_count": 11,
   "id": "d6f3348d-8166-4bdf-9d3b-e04265109353",
   "metadata": {},
   "outputs": [
    {
     "data": {
      "text/html": [
       "<div>\n",
       "<style scoped>\n",
       "    .dataframe tbody tr th:only-of-type {\n",
       "        vertical-align: middle;\n",
       "    }\n",
       "\n",
       "    .dataframe tbody tr th {\n",
       "        vertical-align: top;\n",
       "    }\n",
       "\n",
       "    .dataframe thead th {\n",
       "        text-align: right;\n",
       "    }\n",
       "</style>\n",
       "<table border=\"1\" class=\"dataframe\">\n",
       "  <thead>\n",
       "    <tr style=\"text-align: right;\">\n",
       "      <th></th>\n",
       "      <th>code</th>\n",
       "      <th>material</th>\n",
       "      <th>description</th>\n",
       "      <th>source</th>\n",
       "      <th>source_two</th>\n",
       "      <th>source_three</th>\n",
       "      <th>parent_code</th>\n",
       "      <th>direct</th>\n",
       "      <th>single_use</th>\n",
       "      <th>micro</th>\n",
       "      <th>ospar_code</th>\n",
       "      <th>groupname</th>\n",
       "    </tr>\n",
       "  </thead>\n",
       "  <tbody>\n",
       "    <tr>\n",
       "      <th>184</th>\n",
       "      <td>G76</td>\n",
       "      <td>Plastic</td>\n",
       "      <td>Plastic/foamed polystyrene 2.5 &gt; &lt; 50</td>\n",
       "      <td>Undefined</td>\n",
       "      <td>Where does it come from</td>\n",
       "      <td>Indirect</td>\n",
       "      <td>Parent code</td>\n",
       "      <td>True</td>\n",
       "      <td>False</td>\n",
       "      <td>False</td>\n",
       "      <td>46</td>\n",
       "      <td>plastic pieces</td>\n",
       "    </tr>\n",
       "    <tr>\n",
       "      <th>190</th>\n",
       "      <td>G81</td>\n",
       "      <td>Plastic</td>\n",
       "      <td>Foamed polystyrene pieces 0.5cm - 2.5cm</td>\n",
       "      <td>Packaging</td>\n",
       "      <td>Construction</td>\n",
       "      <td>NaN</td>\n",
       "      <td>Parent code</td>\n",
       "      <td>False</td>\n",
       "      <td>False</td>\n",
       "      <td>False</td>\n",
       "      <td>117</td>\n",
       "      <td>infrastructure</td>\n",
       "    </tr>\n",
       "    <tr>\n",
       "      <th>191</th>\n",
       "      <td>G82</td>\n",
       "      <td>Plastic</td>\n",
       "      <td>Foam polystyrene  2.5 - 50cm</td>\n",
       "      <td>Undefined</td>\n",
       "      <td>Packaging</td>\n",
       "      <td>Construction</td>\n",
       "      <td>Parent code</td>\n",
       "      <td>False</td>\n",
       "      <td>False</td>\n",
       "      <td>False</td>\n",
       "      <td>46</td>\n",
       "      <td>infrastructure</td>\n",
       "    </tr>\n",
       "    <tr>\n",
       "      <th>192</th>\n",
       "      <td>G83</td>\n",
       "      <td>Plastic</td>\n",
       "      <td>Polystyrene pieces &gt; 50cm</td>\n",
       "      <td>Undefined</td>\n",
       "      <td>Where does it come from</td>\n",
       "      <td>NaN</td>\n",
       "      <td>Parent code</td>\n",
       "      <td>True</td>\n",
       "      <td>False</td>\n",
       "      <td>False</td>\n",
       "      <td>NaN</td>\n",
       "      <td>infrastructure</td>\n",
       "    </tr>\n",
       "  </tbody>\n",
       "</table>\n",
       "</div>"
      ],
      "text/plain": [
       "    code material                              description     source  \\\n",
       "184  G76  Plastic    Plastic/foamed polystyrene 2.5 > < 50  Undefined   \n",
       "190  G81  Plastic  Foamed polystyrene pieces 0.5cm - 2.5cm  Packaging   \n",
       "191  G82  Plastic             Foam polystyrene  2.5 - 50cm  Undefined   \n",
       "192  G83  Plastic                Polystyrene pieces > 50cm  Undefined   \n",
       "\n",
       "                  source_two  source_three  parent_code  direct  single_use  \\\n",
       "184  Where does it come from      Indirect  Parent code    True       False   \n",
       "190             Construction           NaN  Parent code   False       False   \n",
       "191                Packaging  Construction  Parent code   False       False   \n",
       "192  Where does it come from           NaN  Parent code    True       False   \n",
       "\n",
       "     micro ospar_code       groupname  \n",
       "184  False         46  plastic pieces  \n",
       "190  False        117  infrastructure  \n",
       "191  False         46  infrastructure  \n",
       "192  False        NaN  infrastructure  "
      ]
     },
     "execution_count": 11,
     "metadata": {},
     "output_type": "execute_result"
    }
   ],
   "source": [
    "cx[cx.code.isin(['G76', 'G81', 'G82', 'G83'])]"
   ]
  },
  {
   "cell_type": "code",
   "execution_count": 12,
   "id": "54fba949-faaf-45c5-a4b7-f0111a5c8872",
   "metadata": {},
   "outputs": [
    {
     "name": "stdout",
     "output_type": "stream",
     "text": [
      "Author: hammerdirt-analyst\n",
      "\n",
      "conda environment: cantonal_report\n",
      "\n",
      "pandas: 2.0.3\n",
      "numpy : 1.25.2\n",
      "\n"
     ]
    }
   ],
   "source": [
    "%watermark -a hammerdirt-analyst -co --iversions"
   ]
  },
  {
   "cell_type": "code",
   "execution_count": 13,
   "id": "ba4090bf-97d6-42aa-8cfe-e2d6122df11e",
   "metadata": {},
   "outputs": [
    {
     "data": {
      "text/plain": [
       "50"
      ]
     },
     "execution_count": 13,
     "metadata": {},
     "output_type": "execute_result"
    }
   ],
   "source": [
    "54744-54694"
   ]
  },
  {
   "cell_type": "code",
   "execution_count": 14,
   "id": "f6e62bf2-6faa-4d92-b228-0c0d656a3d0c",
   "metadata": {},
   "outputs": [
    {
     "data": {
      "text/plain": [
       "107"
      ]
     },
     "execution_count": 14,
     "metadata": {},
     "output_type": "execute_result"
    }
   ],
   "source": [
    "5670-5563"
   ]
  },
  {
   "cell_type": "code",
   "execution_count": 15,
   "id": "fbc88405-5b2c-480c-96f1-16c900c5da4b",
   "metadata": {},
   "outputs": [
    {
     "data": {
      "text/plain": [
       "7396"
      ]
     },
     "execution_count": 15,
     "metadata": {},
     "output_type": "execute_result"
    }
   ],
   "source": [
    "7289 + 107"
   ]
  },
  {
   "cell_type": "code",
   "execution_count": 16,
   "id": "62f41364-2b90-4e53-a036-3493039b70ec",
   "metadata": {},
   "outputs": [
    {
     "data": {
      "text/plain": [
       "Index(['G75', 'G76', 'G78', 'G79', 'G80', 'Gfrags'], dtype='object', name='code')"
      ]
     },
     "execution_count": 16,
     "metadata": {},
     "output_type": "execute_result"
    }
   ],
   "source": [
    "codes[codes.parent_code == \"Gfrags\"].index"
   ]
  },
  {
   "cell_type": "code",
   "execution_count": 17,
   "id": "4ec6d8ab-e856-4cc3-b959-8e3331b86edf",
   "metadata": {},
   "outputs": [
    {
     "data": {
      "text/plain": [
       "Index(['G81', 'G82', 'G83', 'Gfoams'], dtype='object', name='code')"
      ]
     },
     "execution_count": 17,
     "metadata": {},
     "output_type": "execute_result"
    }
   ],
   "source": [
    "codes[codes.parent_code == \"Gfoams\"].index"
   ]
  },
  {
   "cell_type": "code",
   "execution_count": 18,
   "id": "685be02f-2e72-403b-8cd0-49cbc8bfe5eb",
   "metadata": {},
   "outputs": [
    {
     "data": {
      "text/plain": [
       "Series([], Name: quantity, dtype: int64)"
      ]
     },
     "execution_count": 18,
     "metadata": {},
     "output_type": "execute_result"
    }
   ],
   "source": [
    "feature_data[feature_data.code.isin(['G76', 'G81', 'G82', 'G83'])].groupby(\"code\").quantity.sum()"
   ]
  },
  {
   "cell_type": "code",
   "execution_count": null,
   "id": "61a947ae-9ba8-425e-bcf0-47c8207dfb8d",
   "metadata": {},
   "outputs": [],
   "source": []
  }
 ],
 "metadata": {
  "kernelspec": {
   "display_name": "Python 3 (ipykernel)",
   "language": "python",
   "name": "python3"
  },
  "language_info": {
   "codemirror_mode": {
    "name": "ipython",
    "version": 3
   },
   "file_extension": ".py",
   "mimetype": "text/x-python",
   "name": "python",
   "nbconvert_exporter": "python",
   "pygments_lexer": "ipython3",
   "version": "3.9.17"
  }
 },
 "nbformat": 4,
 "nbformat_minor": 5
}
