{
 "cells": [
  {
   "cell_type": "code",
   "execution_count": 1,
   "id": "6efe019a-583d-4557-adb0-071461b7e000",
   "metadata": {},
   "outputs": [],
   "source": [
    "from dotenv import load_dotenv\n",
    "from langchain_chroma import Chroma\n",
    "from langchain_core.runnables import RunnablePassthrough\n",
    "from langchain_openai import OpenAIEmbeddings, ChatOpenAI\n",
    "from langchain_text_splitters import MarkdownHeaderTextSplitter\n",
    "from IPython.display import Markdown\n",
    "import os"
   ]
  },
  {
   "cell_type": "code",
   "execution_count": 2,
   "id": "5ffde431-76f6-4ad1-a5fb-989d81fa6627",
   "metadata": {},
   "outputs": [],
   "source": [
    "context_r = f\"\"\"\n",
    "\n",
    "## Litter surveys in Switzerland 2020-2021 - IQAASL\n",
    "\n",
    "Identification, quantification and analysis of anthropogenic Swiss litter (IQAASL) is a project commissioned by the Swiss \n",
    "Federal Office for the Environment to collect data concerning visible pollutants along Swiss lakes and rivers. All \n",
    "discarded materials were collected and identified using litter survey techniques. in total there were 406 samples from 163 \n",
    "locations in 95 municipalities.\n",
    "\n",
    "This report is a summary and analysis of the litter surveys conducted and the methods employed in Switzerland from March\n",
    "2020 through August 2021. This sampling phase overlaps with the Swiss Litter Report (SLR) survey period, which ran\n",
    "from April 2017 to March 2018. The SLR was the first project on a national level to use the standard protocol described in \n",
    "the Guide to monitoring beach litter or any other comparable method. This overlap allows the results of the \n",
    "present study to be compared with those of the SLR.\n",
    "\n",
    "## Lakes and rivers\n",
    "\n",
    "The lakes and rivers were sampled from 2020-03 through 2021-05, a total of 54,744 objects were removed and classified over \n",
    "the course of 386 surveys. The survey locations were divided into survey areas for regional analysis and defined by the Aare, \n",
    "Rhône, Ticino and Linth/Limmat rivers. Surveys were conducted at 143 different locations, representing 77 municipalities. \n",
    "The total linear distance surveyed was 20 km with a surface area of 9 hectares and a total municipal population of 1.7 million.\n",
    "\n",
    "Most surveys were along lake shorelines (331 samples) as lakes offer more consistent and safe year-round access with \n",
    "respect to rivers. Additionally, lakes are large areas of reduced flow that receive input from multiple rivers, streams \n",
    "and drainage systems providing ideal locations to assess the variety of objects in and around the water bodies.\n",
    "\n",
    "In total 316 samples came from seven principal lakes in 3 major river basins. Twenty locations were selected to sample \n",
    "monthly for a twelve-month period with the exception of Lago Maggiore, which was sampled every three months. \n",
    "Surveys were also conducted on Lago di Lugano, Lac des Quatre cantons, Brienzersee and Zugersee. In addition, there \n",
    "were 55 surveys on 16 rivers.\n",
    "\n",
    "### The sampling locations - type and description\n",
    "\n",
    "The land use is reported as the percent of total area attributed to each land use category within a 1500m radius of the \n",
    "survey location. The ratio of the number of samples completed at the different land use profiles is an indicator of the \n",
    "environmental and economic conditions around the survey locations.\n",
    "\n",
    "The land use around the survey locations had a higher attribution to buildings as opposed to agriculture and woods. For \n",
    "example, half of all the surveys had at least 37% of land use devoted to buildings as opposed to 19% for agriculture or \n",
    "13% to woods. Land use devoted to recreation was at least 6% for half of all samples.\n",
    "\n",
    "The length of the road network within the buffer zone differentiates between locations that have other wise similar land \n",
    "use characteristics. The length of road per buffer ranges from 13km to 212km, 50% of the surveys had less than 67km of road network.\n",
    "\n",
    "The number of intersections ranges from zero to 23, 50% of the surveys had 3 or fewer intersections within 1500m of the \n",
    "survey location. The size of the intersecting river or canal was not taken into consideration. Survey locations on rivers \n",
    "have zero intersections.\n",
    "\n",
    "The population (not shown) is taken from statpop 2018 and represents the population of the municipality surrounding the \n",
    "survey location. The smallest population was 442 and the maximum was 415,367, 50% of the surveys come from \n",
    "municipalities with a population of at least 12,812.\n",
    "\n",
    "Overall, surveys at locations with more buildings and more recreation sites were more likely to facilitate the accumulation \n",
    "of trash on the shoreline. When the most common objects are considered, only four of the twelve were found at higher rates \n",
    "in the presence of more buildings. All of those objects are likely related to food or tobacco consumption near the location. \n",
    "Suggesting that there are still gains to be made in prevention and attenuation efforts in areas of high traffic near the water.\n",
    "\n",
    "However, six of the twelve objects have no positive association to land use attributed to buildings but were found in at \n",
    "least 50% of all the surveys. These objects are generally associated with professional use or in the case of cotton swabs \n",
    "personal hygiene:\n",
    "\n",
    "* plastic construction waste\n",
    "* fragmented plastics\n",
    "* industrial sheeting\n",
    "* expanded polystyrene\n",
    "* cotton bud/swabs\n",
    "* insulation, includes spray foams\n",
    "\n",
    "Furthermore, compared to products related to tobacco or food consumption these objects have fewer positive associations in \n",
    "general. Indicating that the appropriate land use feature is not currently accounted for and/or these objects are found \n",
    "at similar quantities indifferent of the land use features. Suggesting that these objects are ubiquitous in the environment.\n",
    "\n",
    "Finally, two of the twelve most common objects were found in less than 50% of the surveys and have few positive associations:\n",
    "\n",
    "* industrial pellets\n",
    "* expanded foams < 5mm\n",
    "\n",
    "These objects are found in large quantities sporadically at specific locations. They have been found in all survey areas \n",
    "and in all lakes. Industrial pellets have a very specific use and client base making it possible to find partners based \n",
    "on the density of the pellets found and the location of the nearest consumer or producer of pellets, see Shared responsibility.\n",
    "\n",
    "### Median survey total\n",
    "\n",
    "The results are in units of pieces of litter per 100 meters (p/100m). The median survey result of all data was approximately\n",
    "189 p/100m. The maximum recorded value was 6,617 p/100m (Rhône survey area) and the minimum recorded was 2p/100m (Aare survey area).\n",
    "The Rhône survey area had the highest median survey total of 442p/100m, this can in part be explained by the high number\n",
    "of urban survey locations with respect to the other survey areas and the deposition of fragmented plastics and foamed \n",
    "plastics at the Rhône River out flow in the upper lake region.\n",
    "\n",
    "A reference value was calculated excluding the results from samples that were less than 10m and objects less than 2.5cm. \n",
    "This method, described in EU Marine Beach Litter Baselines was used to calculate the reference and threshold \n",
    "values for all European beaches in 2015 and 2016 resulting in a median value of 131 p/100m. The results from the European \n",
    "baseline value lie outside the 95% confidence interval (CI) of 147 - 213p/100m established using the data from IQAASL.\n",
    "\n",
    "Surveys in Switzerland were on average, smaller scale than in marine environments and in locations that would be \n",
    "considered urban under most circumstances. To date monitoring of lakes and rivers upstream of coastal regions has \n",
    "not generalized on the European continent. However, there is a concerted effort by a group of associations in \n",
    "Switzerland and France to establish a common monitoring and data exchange protocol for the Rhône basin. Additionally, \n",
    "the Wageningen University & Research has begun analyzing data collected in the Meusse - Rhine delta using \n",
    "protocols like those in IQAASL.\n",
    "\n",
    "### The most common objects\n",
    "\n",
    "The most common objects are defined as those objects identified in at least 50% of all surveys and/or are among the ten \n",
    "most abundant by quantity. As a group the most common objects represent 68% of all objects identified in the sampling period. \n",
    "Of the most common items 27% are food, drink and tobacco related and 24% are infrastructure and agriculture related.\n",
    "\n",
    "Objects related to food, drink and tobacco are identified at higher rates at survey locations with a greater percentage \n",
    "of land attributed to buildings or fixed infrastructure, the inverse is true of the locations with a higher percentage \n",
    "of land attributed to woods or agriculture. However, infrastructure material and fragmented plastics, are found at similar \n",
    "rates throughout all survey areas indifferent of land use surrounding the survey locations.\n",
    "\n",
    "The most common objects identified in the surveys were:\n",
    "\n",
    "* cigarette ends: total 8'485, % of all objects 15.5%, fail-rate 87%, p/100m 20\n",
    "* fragmented plastics: total 7'400, 13% of all objects, fail-rate 86%, p/100m 18\n",
    "* expanded polystyrene: total 5'563, 10% of all objects, fail-rate 68%, p/100m ,\n",
    "* snack wrappers: total 3'325, 6% of all objects, fail-rate 85%, p/100m 9\n",
    "* industrial sheeting: total 2'534, 4% of all objects, fail-rate 69%, p/100m 5\n",
    "* glass drink bottles, pieces: total 2'136, 3% of all objects, fail-rate 65%, p/100m 3\n",
    "* industrial pellets: total 1'968, 3% of all objects, fail-rate 30%, p/100m 4\n",
    "* insulation, includes spray foams: total 1'702, 3% of all objects, fail-rate 53%, p/100m 1\n",
    "* cotton bud/swabs: total 1'406, 2% of all objects, fail-rate 50%, p/100m 1\n",
    "* expanded foams < 5mm: total 1'209, 2% of all objects, fail-rate 25%, p/100m 0\n",
    "* plastic construction waste: total 992, 1% of all objects, fail-rate 52%, p/100m 1\n",
    "* metal bottle caps: total 700, 1% of all objects, fail-rate 52%, p/100m 1\n",
    "\n",
    "\n",
    "\n",
    "Industrial pellets and expanded foams < 5mm both occurred in significant quantities but identified in less than 50% of \n",
    "the surveys (median of 0), indicating high counts at specific locations. While both are micro plastics, their use, \n",
    "origin and rate of occurrence are different depending on the survey area region. Industrial pellets are raw materials \n",
    "used in injection molding processes whereas foamed plastic beads are the result of fragmentation of expanded polystyrene.\n",
    "\n",
    "### Conclusions\n",
    "\n",
    "At the national level, the IQAASL results are stable compared to the surveys that were carried out in 2017 as part of the \n",
    "SLR study. However, there was a general decrease in the quantity of food, drink and tobacco objects. Infrastructure \n",
    "objects and fragmented plastics and foams did not decline and some locations may have experienced sharp increases. \n",
    "Pandemic restrictions limiting large outdoor gatherings may have had a beneficial effect on the reduction of food, drink \n",
    "and tobacco items. The greatest increases in infrastructure related objects were in Valais, Vaud and Brienz, which are \n",
    "locations near the Rhône and Aare rivers discharge points.\n",
    "\n",
    "The land use around a survey location has a measurable effect on the deposition of certain objects. The more buildings \n",
    "and fixed infrastructure there are the more tobacco and food products are found. Objects like fragmented plastics and \n",
    "industrial sheeting do not have the same association and are identified at approximately equal rates indifferent of the \n",
    "land use with increases near river/canal discharge points.\n",
    "\n",
    "Currently three of the four survey areas in the IQAASL are actively monitored by research and governmental agencies \n",
    "downstream of Switzerland using similar methods presented in this report. Additionally, regional associations in \n",
    "Switzerland are actively pursuing a standardization of reporting and protocols with partner organizations in the EU.\n",
    "\n",
    "The IQAASL is a citizen-science project that only uses open-source tools and shares data on GNU public license, \n",
    "enabling collaboration with stakeholders. At the end of the mandate, December 31, 2021, Hammerdirt will assume the \n",
    "responsibility of maintaining the code and data repository which is hosted publicly on Github.\n",
    "\n",
    "The associations that participated in the IQAASL are actively seeking ways to incorporate the data collection process \n",
    "and/or the results into their own business model. However, there is a shortage of data scientists within many regional \n",
    "associations which may lengthen the process of integration and stifle the rate of innovation at the level where it is needed most.\n",
    "\"\"\"\n"
   ]
  },
  {
   "cell_type": "code",
   "execution_count": 27,
   "id": "29ee0608-8be7-441d-b933-5cd2bc20f6c7",
   "metadata": {},
   "outputs": [],
   "source": [
    "from langchain_chroma import Chroma\n",
    "from langchain.chains import create_retrieval_chain\n",
    "from langchain.chains.combine_documents import create_stuff_documents_chain\n",
    "from langchain_core.prompts import ChatPromptTemplate\n",
    "\n",
    "\n",
    "\n",
    "\n",
    "load_dotenv()\n",
    "api_key = os.getenv('OPENAI_API_KEY')\n",
    "client = ChatOpenAI(model='gpt-4o-mini')\n",
    "\n",
    "# a report\n",
    "with open('report_results.md', 'r') as file:\n",
    "    new_file = file.read()\n",
    "\n",
    "iqaasl_headers =[\n",
    "    ('##', \"Header 2\")\n",
    "]\n",
    "\n",
    "context_splitter =  MarkdownHeaderTextSplitter(headers_to_split_on=iqaasl_headers)\n",
    "iq_header_splits = context_splitter.split_text(context_r)\n",
    "\n",
    "headers_to_split_on = [\n",
    "    (\"#\", \"Header 1\"),\n",
    "    (\"##\", \"Header 2\"),\n",
    "   \n",
    "]\n",
    "\n",
    "markdown_splitter = MarkdownHeaderTextSplitter(headers_to_split_on=headers_to_split_on)\n",
    "md_header_splits = markdown_splitter.split_text(new_file)\n",
    "\n",
    "\n",
    "\n",
    "\n",
    "embeddings = OpenAIEmbeddings()\n",
    "vectorstore = Chroma(collection_name=\"my_collection\", embedding_function=embeddings)\n",
    "vectorstore.add_documents(md_header_splits)\n",
    "vectorstore.add_documents(iq_header_splits)\n",
    "default_retriever_args = {'search_type':\"similarity_score_threshold\", 'search_kwargs':{\"score_threshold\": 0.5, \"k\": 4}} \n",
    "retriever = vectorstore.as_retriever(**default_retriever_args)\n",
    "# query = 'Feature importance Bern'\n",
    "# relevant_docs = retriever.invoke(query)\n",
    "\n",
    "\n",
    "system_prompt = (\n",
    "    \"You are an assistant for question-answering tasks. You have been\"\n",
    "    \"assigned the task of presenting beach-litter survey data from lakes\"\n",
    "    \"in the Canton of Bern. Use the following pieces of retrieved context to answer \"\n",
    "    \"the question.\" \n",
    "    \"If you don't know the answer, say that you \"\n",
    "    \"don't know.\"\n",
    "    \"\\n\\n\"\n",
    "    \"{context}\"\n",
    ")\n",
    "\n",
    "promptx = ChatPromptTemplate.from_messages(\n",
    "    [\n",
    "        (\"system\", system_prompt),\n",
    "        (\"human\", \"{input}\"),\n",
    "    ]\n",
    ")\n",
    "\n",
    "question_answer_chain = create_stuff_documents_chain(client, promptx)\n",
    "data_chain = create_retrieval_chain(retriever, question_answer_chain)"
   ]
  },
  {
   "cell_type": "code",
   "execution_count": 30,
   "id": "274b15b0-0a90-428d-9561-fbdddc08734e",
   "metadata": {},
   "outputs": [
    {
     "data": {
      "text/plain": [
       "[Document(metadata={'Header 1': 'Survey report Bern 2015-11-15 2021-12-31', 'Header 2': 'Land use profile Bern 2015-11-15 2021-12-31'}, page_content='__Bern: The landuse profile of the surveys.__  \\nIn the distribution of samples according to the proportion of the buffer area attributed to various topographical features, for the index of 1 (0-20%), buildings accounted for 0.310811, wetlands for 1, forest for 0.243243, public services for 1, recreation for 1, undefined for 0.351351, streets for 0, vineyards for 1, and orchards for 1. For the index of 2 (20-40%), buildings represented 0.378378, wetlands for 0, forest for 0.662162, public services for 0, recreation for 0, undefined for 0.0810811, streets for 0, vineyards for 0, and orchards for 0. In the index of 3 (40-60%), buildings had a value of 0.216216, wetlands for 0, forest for 0.0945946, public services for 0, recreation for 0, undefined for 0.567568, streets for 0, vineyards for 0, and orchards for 0. At index 4 (60-80%), buildings accounted for 0.0675676, wetlands for 0, forest for 0, public services for 0, recreation for 0, undefined for 0, streets for 0, vineyards for 0, and orchards for 0. Finally, for index 5 (80-100%), buildings represented 0.027027, wetlands for 0, forest for 0, public services for 0, recreation for 0, undefined for 0, streets for 0, vineyards for 0, and orchards for 0.  \\n|    |   buildings |   wetlands |    forest |   public-services |   recreation |   undefined |   streets |   vineyards |   orchards |\\n|---:|------------:|-----------:|----------:|------------------:|-------------:|------------:|----------:|------------:|-----------:|\\n|  1 |   0.310811  |          1 | 0.243243  |                 1 |            1 |   0.351351  |         0 |           1 |          1 |\\n|  2 |   0.378378  |          0 | 0.662162  |                 0 |            0 |   0.0810811 |         0 |           0 |          0 |\\n|  3 |   0.216216  |          0 | 0.0945946 |                 0 |            0 |   0.567568  |         0 |           0 |          0 |\\n|  4 |   0.0675676 |          0 | 0         |                 0 |            0 |   0         |         0 |           0 |          0 |\\n|  5 |   0.027027  |          0 | 0         |                 0 |            0 |   0         |         0 |           0 |          0 |'),\n",
       " Document(metadata={'Header 1': 'Survey report Bern 2015-11-15 2021-12-31', 'Header 2': 'Land use profile Bern 2015-11-15 2021-12-31'}, page_content='__Bern: The landuse profile of the surveys.__  \\nIn the distribution of samples according to the proportion of the buffer area attributed to various topographical features, for the index of 1 (0-20%), buildings accounted for 0.310811, wetlands for 1, forest for 0.243243, public services for 1, recreation for 1, undefined for 0.351351, streets for 0, vineyards for 1, and orchards for 1. For the index of 2 (20-40%), buildings represented 0.378378, wetlands for 0, forest for 0.662162, public services for 0, recreation for 0, undefined for 0.0810811, streets for 0, vineyards for 0, and orchards for 0. In the index of 3 (40-60%), buildings had a value of 0.216216, wetlands for 0, forest for 0.0945946, public services for 0, recreation for 0, undefined for 0.567568, streets for 0, vineyards for 0, and orchards for 0. At index 4 (60-80%), buildings accounted for 0.0675676, wetlands for 0, forest for 0, public services for 0, recreation for 0, undefined for 0, streets for 0, vineyards for 0, and orchards for 0. Finally, for index 5 (80-100%), buildings represented 0.027027, wetlands for 0, forest for 0, public services for 0, recreation for 0, undefined for 0, streets for 0, vineyards for 0, and orchards for 0.  \\n|    |   buildings |   wetlands |    forest |   public-services |   recreation |   undefined |   streets |   vineyards |   orchards |\\n|---:|------------:|-----------:|----------:|------------------:|-------------:|------------:|----------:|------------:|-----------:|\\n|  1 |   0.310811  |          1 | 0.243243  |                 1 |            1 |   0.351351  |         0 |           1 |          1 |\\n|  2 |   0.378378  |          0 | 0.662162  |                 0 |            0 |   0.0810811 |         0 |           0 |          0 |\\n|  3 |   0.216216  |          0 | 0.0945946 |                 0 |            0 |   0.567568  |         0 |           0 |          0 |\\n|  4 |   0.0675676 |          0 | 0         |                 0 |            0 |   0         |         0 |           0 |          0 |\\n|  5 |   0.027027  |          0 | 0         |                 0 |            0 |   0         |         0 |           0 |          0 |'),\n",
       " Document(metadata={'Header 1': 'Survey report Bern 2015-11-15 2021-12-31', 'Header 2': 'Administrative boundaries Bern 2015-11-15 2021-12-31'}, page_content=\"__Bern: Political boundaries and survey locations__  \\nThe analysis encompasses a total of 19 survey locations, predominantly situated across 13 cities. Notably, all these locations are nested within the canton of Bern, and fall under a singular survey area labeled 'aare'. The cities represented in the data include Spiez, Vinelz, Thun, Erlach, Gals, Bönigen, Ligerz, Lüscherz, Biel/Bienne, Nidau, Brienz (BE), Beatenberg, and Unterseen.  \\n|              |   count |\\n|:-------------|--------:|\\n| location     |      19 |\\n| city         |      13 |\\n| canton       |       1 |\\n| survey areas |       1 |\"),\n",
       " Document(metadata={'Header 1': 'Survey report Bern 2015-11-15 2021-12-31', 'Header 2': 'Administrative boundaries Bern 2015-11-15 2021-12-31'}, page_content=\"__Bern: Political boundaries and survey locations__  \\nThe analysis encompasses a total of 19 survey locations, predominantly situated across 13 cities. Notably, all these locations are nested within the canton of Bern, and fall under a singular survey area labeled 'aare'. The cities represented in the data include Spiez, Vinelz, Thun, Erlach, Gals, Bönigen, Ligerz, Lüscherz, Biel/Bienne, Nidau, Brienz (BE), Beatenberg, and Unterseen.  \\n|              |   count |\\n|:-------------|--------:|\\n| location     |      19 |\\n| city         |      13 |\\n| canton       |       1 |\\n| survey areas |       1 |\")]"
      ]
     },
     "execution_count": 30,
     "metadata": {},
     "output_type": "execute_result"
    }
   ],
   "source": [
    "retriever.invoke(\"land use profile Bern\")"
   ]
  },
  {
   "cell_type": "code",
   "execution_count": 31,
   "id": "7ca45d13-ad03-48fd-9414-36334a45f365",
   "metadata": {},
   "outputs": [],
   "source": [
    "from langchain_community.document_loaders import PDFPlumberLoader\n",
    "\n",
    "land_use_loader = PDFPlumberLoader('resources/revealing_the_role_of_landuse.pdf')\n",
    "land_use_def = land_use_loader.load()\n"
   ]
  },
  {
   "cell_type": "code",
   "execution_count": 32,
   "id": "f63b53d0-71c8-41e0-8851-767fc288d745",
   "metadata": {},
   "outputs": [],
   "source": [
    "# from langchain_community.document_loaders import WebBaseLoader\n",
    "# from langchain_community.vectorstores import Chroma\n",
    "# from langchain_openai import OpenAIEmbeddings\n",
    "# from langchain_text_splitters import RecursiveCharacterTextSplitter\n",
    "\n",
    "# urls = [\n",
    "#     \"https://lilianweng.github.io/posts/2023-06-23-agent/\",\n",
    "#     \"https://lilianweng.github.io/posts/2023-03-15-prompt-engineering/\",\n",
    "#     \"https://lilianweng.github.io/posts/2023-10-25-adv-attack-llm/\",\n",
    "# ]\n",
    "\n",
    "# docs = [WebBaseLoader(url).load() for url in urls]\n",
    "# docs_list = [item for sublist in docs for item in sublist]\n",
    "\n",
    "# text_splitter = RecursiveCharacterTextSplitter.from_tiktoken_encoder(\n",
    "#     chunk_size=100, chunk_overlap=50\n",
    "# )\n",
    "# doc_splits = text_splitter.split_documents(docs_list)\n",
    "\n",
    "# # Add to vectorDB\n",
    "# vectorstore = Chroma.from_documents(\n",
    "#     documents=doc_splits,\n",
    "#     collection_name=\"rag-chroma\",\n",
    "#     embedding=OpenAIEmbeddings(),\n",
    "# )\n",
    "# retriever = vectorstore.as_retriever()"
   ]
  },
  {
   "cell_type": "code",
   "execution_count": 68,
   "id": "e61b2083-06f5-4020-9e0b-7523cb9749bb",
   "metadata": {},
   "outputs": [],
   "source": [
    "from langchain.retrievers import ParentDocumentRetriever \n",
    "from langchain_community.document_loaders import TextLoader\n",
    "from langchain_text_splitters import RecursiveCharacterTextSplitter\n",
    "from langchain.storage import InMemoryStore\n",
    "from langchain.tools.retriever import create_retriever_tool\n",
    "from langchain.agents import AgentExecutor, create_openai_tools_agent\n",
    "\n",
    "parent_splitter = RecursiveCharacterTextSplitter(chunk_size=2000)\n",
    "child_splitter = RecursiveCharacterTextSplitter(chunk_size=400)\n",
    "# The vectorstore to use to index the child chunks\n",
    "text_vectorstore = Chroma(\n",
    "    collection_name=\"split_parents\", embedding_function=OpenAIEmbeddings()\n",
    ")\n",
    "\n",
    "text_store = InMemoryStore()\n",
    "\n",
    "text_retriever = ParentDocumentRetriever(\n",
    "    vectorstore=text_vectorstore,\n",
    "    docstore=text_store,\n",
    "    child_splitter=child_splitter,\n",
    "    parent_splitter=parent_splitter,\n",
    ")\n",
    "text_retriever.add_documents(land_use_def, ids=None)\n",
    "# text_retriever.add_documents(md_header_splits, ids=None)\n",
    "\n",
    "text_retriever_tool = create_retriever_tool(\n",
    "    text_retriever.vectorstore.as_retriever(),\n",
    "    \"summarize_content\",\n",
    "    \"Search and return information about land use features, land use profile, definitions and applications.\",\n",
    ")\n",
    "\n",
    "data_retriever_tool = create_retriever_tool(\n",
    "    retriever,\n",
    "    \"retrieve_survey_results\",\n",
    "    \"Retireve the requested values from a survey report\",\n",
    ")\n",
    "\n",
    "tools = [text_retriever_tool, data_retriever_tool]"
   ]
  },
  {
   "cell_type": "code",
   "execution_count": 69,
   "id": "c543bedc-5e9c-4d5e-907c-7c64e2638abb",
   "metadata": {},
   "outputs": [
    {
     "data": {
      "text/plain": [
       "'__Bern: The landuse profile of the surveys.__\\n\\n__Bern: The landuse profile of the surveys.__\\n\\n__Bern: The landuse profile of the surveys.__\\n\\n__Bern: The landuse profile of the surveys.__'"
      ]
     },
     "execution_count": 69,
     "metadata": {},
     "output_type": "execute_result"
    }
   ],
   "source": [
    "text_retriever_tool.invoke('land use profile Bern')"
   ]
  },
  {
   "cell_type": "code",
   "execution_count": 70,
   "id": "93f5a9d9-9b65-40ef-80fd-1b91c86e1be5",
   "metadata": {},
   "outputs": [
    {
     "data": {
      "text/plain": [
       "\"__Bern: The landuse profile of the surveys.__  \\nIn the distribution of samples according to the proportion of the buffer area attributed to various topographical features, for the index of 1 (0-20%), buildings accounted for 0.310811, wetlands for 1, forest for 0.243243, public services for 1, recreation for 1, undefined for 0.351351, streets for 0, vineyards for 1, and orchards for 1. For the index of 2 (20-40%), buildings represented 0.378378, wetlands for 0, forest for 0.662162, public services for 0, recreation for 0, undefined for 0.0810811, streets for 0, vineyards for 0, and orchards for 0. In the index of 3 (40-60%), buildings had a value of 0.216216, wetlands for 0, forest for 0.0945946, public services for 0, recreation for 0, undefined for 0.567568, streets for 0, vineyards for 0, and orchards for 0. At index 4 (60-80%), buildings accounted for 0.0675676, wetlands for 0, forest for 0, public services for 0, recreation for 0, undefined for 0, streets for 0, vineyards for 0, and orchards for 0. Finally, for index 5 (80-100%), buildings represented 0.027027, wetlands for 0, forest for 0, public services for 0, recreation for 0, undefined for 0, streets for 0, vineyards for 0, and orchards for 0.  \\n|    |   buildings |   wetlands |    forest |   public-services |   recreation |   undefined |   streets |   vineyards |   orchards |\\n|---:|------------:|-----------:|----------:|------------------:|-------------:|------------:|----------:|------------:|-----------:|\\n|  1 |   0.310811  |          1 | 0.243243  |                 1 |            1 |   0.351351  |         0 |           1 |          1 |\\n|  2 |   0.378378  |          0 | 0.662162  |                 0 |            0 |   0.0810811 |         0 |           0 |          0 |\\n|  3 |   0.216216  |          0 | 0.0945946 |                 0 |            0 |   0.567568  |         0 |           0 |          0 |\\n|  4 |   0.0675676 |          0 | 0         |                 0 |            0 |   0         |         0 |           0 |          0 |\\n|  5 |   0.027027  |          0 | 0         |                 0 |            0 |   0         |         0 |           0 |          0 |\\n\\n__Bern: The landuse profile of the surveys.__  \\nIn the distribution of samples according to the proportion of the buffer area attributed to various topographical features, for the index of 1 (0-20%), buildings accounted for 0.310811, wetlands for 1, forest for 0.243243, public services for 1, recreation for 1, undefined for 0.351351, streets for 0, vineyards for 1, and orchards for 1. For the index of 2 (20-40%), buildings represented 0.378378, wetlands for 0, forest for 0.662162, public services for 0, recreation for 0, undefined for 0.0810811, streets for 0, vineyards for 0, and orchards for 0. In the index of 3 (40-60%), buildings had a value of 0.216216, wetlands for 0, forest for 0.0945946, public services for 0, recreation for 0, undefined for 0.567568, streets for 0, vineyards for 0, and orchards for 0. At index 4 (60-80%), buildings accounted for 0.0675676, wetlands for 0, forest for 0, public services for 0, recreation for 0, undefined for 0, streets for 0, vineyards for 0, and orchards for 0. Finally, for index 5 (80-100%), buildings represented 0.027027, wetlands for 0, forest for 0, public services for 0, recreation for 0, undefined for 0, streets for 0, vineyards for 0, and orchards for 0.  \\n|    |   buildings |   wetlands |    forest |   public-services |   recreation |   undefined |   streets |   vineyards |   orchards |\\n|---:|------------:|-----------:|----------:|------------------:|-------------:|------------:|----------:|------------:|-----------:|\\n|  1 |   0.310811  |          1 | 0.243243  |                 1 |            1 |   0.351351  |         0 |           1 |          1 |\\n|  2 |   0.378378  |          0 | 0.662162  |                 0 |            0 |   0.0810811 |         0 |           0 |          0 |\\n|  3 |   0.216216  |          0 | 0.0945946 |                 0 |            0 |   0.567568  |         0 |           0 |          0 |\\n|  4 |   0.0675676 |          0 | 0         |                 0 |            0 |   0         |         0 |           0 |          0 |\\n|  5 |   0.027027  |          0 | 0         |                 0 |            0 |   0         |         0 |           0 |          0 |\\n\\n__Bern: Political boundaries and survey locations__  \\nThe analysis encompasses a total of 19 survey locations, predominantly situated across 13 cities. Notably, all these locations are nested within the canton of Bern, and fall under a singular survey area labeled 'aare'. The cities represented in the data include Spiez, Vinelz, Thun, Erlach, Gals, Bönigen, Ligerz, Lüscherz, Biel/Bienne, Nidau, Brienz (BE), Beatenberg, and Unterseen.  \\n|              |   count |\\n|:-------------|--------:|\\n| location     |      19 |\\n| city         |      13 |\\n| canton       |       1 |\\n| survey areas |       1 |\\n\\n__Bern: Political boundaries and survey locations__  \\nThe analysis encompasses a total of 19 survey locations, predominantly situated across 13 cities. Notably, all these locations are nested within the canton of Bern, and fall under a singular survey area labeled 'aare'. The cities represented in the data include Spiez, Vinelz, Thun, Erlach, Gals, Bönigen, Ligerz, Lüscherz, Biel/Bienne, Nidau, Brienz (BE), Beatenberg, and Unterseen.  \\n|              |   count |\\n|:-------------|--------:|\\n| location     |      19 |\\n| city         |      13 |\\n| canton       |       1 |\\n| survey areas |       1 |\""
      ]
     },
     "execution_count": 70,
     "metadata": {},
     "output_type": "execute_result"
    }
   ],
   "source": [
    "data_retriever_tool.invoke('land use profile Bern')"
   ]
  },
  {
   "cell_type": "code",
   "execution_count": 71,
   "id": "0d592a63-b62f-4702-97a6-c16b19e329f1",
   "metadata": {},
   "outputs": [],
   "source": [
    "from typing import Annotated, Literal, Sequence, TypedDict\n",
    "\n",
    "from langchain_core.messages import BaseMessage, HumanMessage\n",
    "\n",
    "from langgraph.graph.message import add_messages\n",
    "\n",
    "from langchain import hub\n",
    "\n",
    "from langchain_core.output_parsers import StrOutputParser\n",
    "from langchain_core.prompts import PromptTemplate\n",
    "from langchain_core.pydantic_v1 import BaseModel, Field\n",
    "\n",
    "\n",
    "from langgraph.prebuilt import tools_condition\n",
    "\n",
    "\n",
    "class AgentState(TypedDict):\n",
    "    # The add_messages function defines how an update should be processed\n",
    "    # Default is to replace. add_messages says \"append\"\n",
    "    messages: Annotated[Sequence[BaseMessage], add_messages]\n"
   ]
  },
  {
   "cell_type": "code",
   "execution_count": null,
   "id": "6403b0cf-5274-44f2-9b0f-88924bbb1e1c",
   "metadata": {},
   "outputs": [],
   "source": [
    "= \"\"\"You are a teacher grading a quiz. You will be given: \n",
    "    1/ a QUESTION\n",
    "    2/ A FACT provided by the student\n",
    "    \n",
    "    You are grading RELEVANCE RECALL:\n",
    "    A score of 1 means that ANY of the statements in the FACT are relevant to the QUESTION. \n",
    "    A score of 0 means that NONE of the statements in the FACT are relevant to the QUESTION. \n",
    "    1 is the highest (best) score. 0 is the lowest score you can give. \n",
    "    \n",
    "    Explain your reasoning in a step-by-step manner. Ensure your reasoning and conclusion are correct. \n",
    "    \n",
    "    Avoid simply stating the correct answer at the outset.\n",
    "    \n",
    "    Question: {question} \\n\n",
    "    Fact: \\n\\n {context} \\n\\n\n",
    "    \n",
    "    Give a binary score 'yes' or 'no' score to indicate whether the document is relevant to the question. \\n\n",
    "    Provide the binary score as a JSON with a single key 'score' and no premable or explanation.\n",
    "    \"\"\","
   ]
  },
  {
   "cell_type": "code",
   "execution_count": 98,
   "id": "4c9a8310-b13c-49b0-a8c2-f525d2f0c47a",
   "metadata": {},
   "outputs": [],
   "source": [
    "class Grade(BaseModel):\n",
    "        \"\"\"Binary score for relevance check.\"\"\"\n",
    "\n",
    "        binary_score: str = Field(description=\"Relevance score 'yes' or 'no'\")\n",
    "\n",
    "api_model = 'gpt-4o-mini'\n",
    "### Edges\n",
    "\n",
    "\n",
    "def grade_documents(state) -> Literal[\"generate\", \"rewrite\"]:\n",
    "    \"\"\"\n",
    "    Determines whether the retrieved documents are relevant to the question.\n",
    "\n",
    "    Args:\n",
    "        state (messages): The current state\n",
    "\n",
    "    Returns:\n",
    "        str: A decision for whether the documents are relevant or not\n",
    "    \"\"\"\n",
    "\n",
    "    print(\"---CHECK RELEVANCE---\")\n",
    "\n",
    "    # Data model\n",
    "    \n",
    "    # LLM\n",
    "    model = ChatOpenAI(temperature=0, model=api_model, streaming=True)\n",
    "\n",
    "    # LLM with tool and validation\n",
    "    llm_with_tool = model.with_structured_output(Grade)\n",
    "\n",
    "    # Prompt\n",
    "    temp = \"\"\"You are a teacher grading a quiz. You will be given: \n",
    "    1/ a QUESTION\n",
    "    2/ A FACT provided by the student\n",
    "    \n",
    "    You are grading RELEVANCE RECALL:\n",
    "    A score of 1 means that ANY of the statements in the FACT are relevant to the QUESTION. \n",
    "    A score of 0 means that NONE of the statements in the FACT are relevant to the QUESTION. \n",
    "    1 is the highest (best) score. 0 is the lowest score you can give. \n",
    "    \n",
    "    Explain your reasoning in a step-by-step manner. Ensure your reasoning and conclusion are correct. \n",
    "    \n",
    "    Avoid simply stating the correct answer at the outset.\n",
    "    \n",
    "    Question: {question} \\n\n",
    "    Fact: \\n\\n {context} \\n\\n\n",
    "    \n",
    "    Give a binary score 'yes' or 'no' score to indicate whether the document is relevant to the question. \\n\n",
    "    \"\"\"\n",
    "    # \"\"\"You are a grader assessing relevance of a retrieved document to a user question. \\n \n",
    "    #     Here is the retrieved document: \\n\\n {context} \\n\\n\n",
    "    #     Here is the user question: {question} \\n\n",
    "    #     If the document contains keyword(s) or semantic meaning related to the user question, grade it as relevant. \\n\n",
    "    #     Give a binary score 'yes' or 'no' score to indicate whether the document is relevant to the question.\"\"\"\n",
    "    prompt = PromptTemplate(\n",
    "        template= temp,\n",
    "        input_variables=[\"context\", \"question\"],\n",
    "    )\n",
    "\n",
    "    # Chain\n",
    "    chain = prompt | llm_with_tool\n",
    "\n",
    "    messages = state[\"messages\"]\n",
    "    last_message = messages[-1]\n",
    "\n",
    "    question = messages[0].content\n",
    "    docs = last_message.content\n",
    "\n",
    "    scored_result = chain.invoke({\"question\": question, \"context\": docs})\n",
    "\n",
    "    score = scored_result.binary_score\n",
    "\n",
    "    if score == \"yes\":\n",
    "        print(\"---DECISION: DOCS RELEVANT---\")\n",
    "        return \"generate\"\n",
    "\n",
    "    else:\n",
    "        print(\"---DECISION: DOCS NOT RELEVANT---\")\n",
    "        print(score)\n",
    "        return \"rewrite\"\n",
    "\n",
    "\n",
    "### Nodes\n",
    "\n",
    "\n",
    "def agent(state):\n",
    "    \"\"\"\n",
    "    Invokes the agent model to generate a response based on the current state. Given\n",
    "    the question, it will decide to retrieve using the retriever tool, or simply end.\n",
    "\n",
    "    Args:\n",
    "        state (messages): The current state\n",
    "\n",
    "    Returns:\n",
    "        dict: The updated state with the agent response appended to messages\n",
    "    \"\"\"\n",
    "    print(\"---CALL AGENT---\")\n",
    "    messages = state[\"messages\"]\n",
    "    model = ChatOpenAI(streaming=True, model=api_model)\n",
    "    #  print(tools[0])\n",
    "    model = model.bind_tools(tools)\n",
    "    response = model.invoke(messages)\n",
    "    # We return a list, because this will get added to the existing list\n",
    "    return {\"messages\": [response]}\n",
    "\n",
    "\n",
    "def rewrite(state):\n",
    "    \"\"\"\n",
    "    Transform the query to produce a better question.\n",
    "\n",
    "    Args:\n",
    "        state (messages): The current state\n",
    "\n",
    "    Returns:\n",
    "        dict: The updated state with re-phrased question\n",
    "    \"\"\"\n",
    "\n",
    "    print(\"---TRANSFORM QUERY---\")\n",
    "    messages = state[\"messages\"]\n",
    "    question = messages[0].content\n",
    "\n",
    "    msg = [\n",
    "        HumanMessage(\n",
    "            content=f\"\"\" \\n \n",
    "    Look at the input and try to reason about the underlying semantic intent / meaning. \\n \n",
    "    Here is the initial question:\n",
    "    \\n ------- \\n\n",
    "    {question} \n",
    "    \\n ------- \\n\n",
    "    Formulate an improved question: \"\"\",\n",
    "        )\n",
    "    ]\n",
    "\n",
    "    # Grader\n",
    "    model = ChatOpenAI(temperature=0, model=api_model, streaming=True)\n",
    "    response = model.invoke(msg)\n",
    "    return {\"messages\": [response]}\n",
    "\n",
    "\n",
    "def generate(state):\n",
    "    \"\"\"\n",
    "    Generate answer\n",
    "\n",
    "    Args:\n",
    "        state (messages): The current state\n",
    "\n",
    "    Returns:\n",
    "         dict: The updated state with re-phrased question\n",
    "    \"\"\"\n",
    "    print(\"---GENERATE---\")\n",
    "    messages = state[\"messages\"]\n",
    "    question = messages[0].content\n",
    "    last_message = messages[-1]\n",
    "\n",
    "    question = messages[0].content\n",
    "    docs = last_message.content\n",
    "\n",
    "    # Prompt\n",
    "    prompt = hub.pull(\"rlm/rag-prompt\")\n",
    "       \n",
    "    p = (\n",
    "    \"You are an assistant for question-answering tasks. You have been\"\n",
    "    \"assigned the task of presenting beach-litter survey data from lakes\"\n",
    "    \"in the Canton of Bern. Use the following pieces of retrieved context to answer \"\n",
    "    \"the question. \" \n",
    "    \"If you don't know the answer, just say that you don't know. \\nQuestion: {question} \\nContext: {context} \\nAnswer:\"\n",
    "    )\n",
    "\n",
    "    prompt.messages[0].prompt.template = p\n",
    "\n",
    "    print(prompt.messages[0].prompt.template)\n",
    "    \n",
    "\n",
    "    # LLM\n",
    "    llm = ChatOpenAI(model_name=api_model, temperature=0, streaming=True)\n",
    "\n",
    "    # Post-processing\n",
    "    def format_docs(docs):\n",
    "        return \"\\n\\n\".join(doc.page_content for doc in docs)\n",
    "\n",
    "    # Chain\n",
    "    rag_chain = prompt | llm | StrOutputParser()\n",
    "\n",
    "    # Run\n",
    "    response = rag_chain.invoke({\"context\": docs, \"question\": question})\n",
    "    return {\"messages\": [response]}\n"
   ]
  },
  {
   "cell_type": "code",
   "execution_count": 99,
   "id": "84ddbddc-e92b-4504-bb10-f1916e1f69c5",
   "metadata": {},
   "outputs": [],
   "source": [
    "from langgraph.graph import END, StateGraph, START\n",
    "from langgraph.prebuilt import ToolNode\n",
    "\n",
    "# Define a new graph\n",
    "workflow = StateGraph(AgentState)\n",
    "\n",
    "# Define the nodes we will cycle between\n",
    "workflow.add_node(\"agent\", agent)  # agent\n",
    "retrieve = ToolNode(tools)\n",
    "workflow.add_node(\"retrieve\", retrieve)  # retrieval\n",
    "workflow.add_node(\"rewrite\", rewrite)  # Re-writing the question\n",
    "workflow.add_node(\n",
    "    \"generate\", generate\n",
    ")  # Generating a response after we know the documents are relevant\n",
    "# Call agent node to decide to retrieve or not\n",
    "workflow.add_edge(START, \"agent\")\n",
    "\n",
    "# Decide whether to retrieve\n",
    "workflow.add_conditional_edges(\n",
    "    \"agent\",\n",
    "    # Assess agent decision\n",
    "    tools_condition,\n",
    "    {\n",
    "        # Translate the condition outputs to nodes in our graph\n",
    "        \"tools\": \"retrieve\",\n",
    "        END: END,\n",
    "    },\n",
    ")\n",
    "\n",
    "# Edges taken after the `action` node is called.\n",
    "workflow.add_conditional_edges(\n",
    "    \"retrieve\",\n",
    "    # Assess agent decision\n",
    "    grade_documents,\n",
    ")\n",
    "workflow.add_edge(\"generate\", END)\n",
    "workflow.add_edge(\"rewrite\", \"agent\")\n",
    "\n",
    "# Compile\n",
    "graph = workflow.compile()"
   ]
  },
  {
   "cell_type": "code",
   "execution_count": 100,
   "id": "4cafa634-8184-426e-b300-edcef0ab9bb4",
   "metadata": {},
   "outputs": [
    {
     "data": {
      "image/jpeg": "[encoded data removed]",
      "text/plain": [
       "<IPython.core.display.Image object>"
      ]
     },
     "metadata": {},
     "output_type": "display_data"
    }
   ],
   "source": [
    "\n",
    "\n",
    "from IPython.display import Image, display\n",
    "\n",
    "try:\n",
    "    display(Image(graph.get_graph(xray=True).draw_mermaid_png()))\n",
    "except Exception:\n",
    "    # This requires some extra dependencies and is optional\n",
    "    pass\n"
   ]
  },
  {
   "cell_type": "code",
   "execution_count": 102,
   "id": "377d9288-129d-4e64-b4e5-17de42a0bdb7",
   "metadata": {},
   "outputs": [
    {
     "name": "stdout",
     "output_type": "stream",
     "text": [
      "---CALL AGENT---\n",
      "content='' additional_kwargs={'tool_calls': [{'index': 0, 'id': 'call_DzJeCtVU3Eex4R6xrDh58Wrh', 'function': {'arguments': '{\"query\":\"land use in the context of beach litter\"}', 'name': 'summarize_content'}, 'type': 'function'}]} response_metadata={'finish_reason': 'tool_calls', 'model_name': 'gpt-4o-mini-2024-07-18', 'system_fingerprint': 'fp_48196bc67a'} id='run-8ea3115a-ca86-45aa-82bd-2618f08ad063-0' tool_calls=[{'name': 'summarize_content', 'args': {'query': 'land use in the context of beach litter'}, 'id': 'call_DzJeCtVU3Eex4R6xrDh58Wrh', 'type': 'tool_call'}]\n",
      "---CHECK RELEVANCE---\n",
      "---DECISION: DOCS RELEVANT---\n",
      "content='79\\naccumulation in coastal, marine and land environments (Aydin et al., 2016;\\n80\\nGrelaud and Ziveri, 2021; Harris et al., 2021; Pietz et al., 2021) but no such\\n81\\nt\\nstudies have been conducted for freshwater systems. The proximity of land-\\n82\\no\\nbased litter sources, such as recreational and urban areas might be an in-\\n83\\n\\n79\\naccumulation in coastal, marine and land environments (Aydin et al., 2016;\\n80\\nGrelaud and Ziveri, 2021; Harris et al., 2021; Pietz et al., 2021) but no such\\n81\\nt\\nstudies have been conducted for freshwater systems. The proximity of land-\\n82\\no\\nbased litter sources, such as recreational and urban areas might be an in-\\n83\\n\\n79\\naccumulation in coastal, marine and land environments (Aydin et al., 2016;\\n80\\nGrelaud and Ziveri, 2021; Harris et al., 2021; Pietz et al., 2021) but no such\\n81\\nt\\nstudies have been conducted for freshwater systems. The proximity of land-\\n82\\no\\nbased litter sources, such as recreational and urban areas might be an in-\\n83\\n\\n79\\naccumulation in coastal, marine and land environments (Aydin et al., 2016;\\n80\\nGrelaud and Ziveri, 2021; Harris et al., 2021; Pietz et al., 2021) but no such\\n81\\nt\\nstudies have been conducted for freshwater systems. The proximity of land-\\n82\\no\\nbased litter sources, such as recreational and urban areas might be an in-\\n83' name='summarize_content' id='d58d2f9d-8a37-4ca6-9c73-1e39c25017c7' tool_call_id='call_DzJeCtVU3Eex4R6xrDh58Wrh'\n",
      "---GENERATE---\n",
      "You are an assistant for question-answering tasks. You have beenassigned the task of presenting beach-litter survey data from lakesin the Canton of Bern. Use the following pieces of retrieved context to answer the question. If you don't know the answer, just say that you don't know. \n",
      "Question: {question} \n",
      "Context: {context} \n",
      "Answer:\n",
      "In the context of beach litter, land use refers to the various ways in which land is utilized in proximity to water bodies, such as lakes. This includes areas designated for recreational activities and urban development, which can be sources of litter that accumulate in freshwater systems. The proximity of these land-based litter sources is significant as it may influence the amount and type of litter found on beaches. \n",
      "\n",
      "Relevant references include:\n",
      "- Aydin et al., 2016\n",
      "- Grelaud and Ziveri, 2021\n",
      "- Harris et al., 2021\n",
      "- Pietz et al., 2021\n"
     ]
    }
   ],
   "source": [
    "inputs = {\n",
    "    \"messages\": [\n",
    "        (\"user\", \"What is land use in the context of beach litter?, please provide the relevant references.\"),\n",
    "    ]\n",
    "}\n",
    "for output in graph.stream(inputs):\n",
    "    for key, value in output.items():\n",
    "        # print(key[0])\n",
    "        # print('\\n\\n')\n",
    "        print(value['messages'][0])\n",
    "       \n"
   ]
  },
  {
   "cell_type": "markdown",
   "id": "25edbff7-dc25-44f9-951c-e59d8ce2f7db",
   "metadata": {},
   "source": [
    "# Canton Bern\n",
    "\n",
    "## Vital Statistics\n",
    "\n",
    "__Administrative boundaries__"
   ]
  },
  {
   "cell_type": "code",
   "execution_count": 109,
   "id": "5d4a8033-cd36-455c-a1fd-8f36d40fd8fb",
   "metadata": {},
   "outputs": [
    {
     "data": {
      "text/markdown": [
       "The survey report from Bern includes three lakes: Thunersee, Bielersee, and Brienzersee. It also encompasses a total of 19 survey locations across 13 cities within the canton of Bern. The cities represented in the data are Spiez, Vinelz, Thun, Erlach, Gals, Bönigen, Ligerz, Lüscherz, Biel/Bienne, Nidau, Brienz (BE), Beatenberg, and Unterseen."
      ],
      "text/plain": [
       "<IPython.core.display.Markdown object>"
      ]
     },
     "execution_count": 109,
     "metadata": {},
     "output_type": "execute_result"
    }
   ],
   "source": [
    "def question_answer(question, chain, this_input: {} = None, meta_data_filter: {} = None, k: {} = {'k':4}):\n",
    "    if meta_data_filter:\n",
    "        new_retriever_args = {'search_search_kwargs': {**meta_data_filter, **k,'search_type':'mmr'}} \n",
    "        retriever = vectorstore.as_retriever(**new_retriever_args)\n",
    "        rag_chain = create_retrieval_chain(retriever, question_answer_chain)\n",
    "        response = rag_chain.invoke({'input': question},)\n",
    "        return response, Markdown(response['answer']), rag_chain\n",
    "        \n",
    "    if this_input:\n",
    "        response = chain.invoke(**this_input)\n",
    "        return response, Markdown(response['answer'])\n",
    "\n",
    "    else:\n",
    "        response = chain.invoke({'input': question})\n",
    "        return response, Markdown(response['answer']), \n",
    "        \n",
    "    \n",
    "admin_question = 'Can you tell me about the cities and lakes in the survey report from bern?'\n",
    "meta_data_filter = {'Header 1': 'Survey report Bern 2015-11-15 2021-12-31', 'Header 2':'Administrative boundaries Bern 2015-11-15 2021-12-31'}\n",
    "admin_boundaries, admin_reply, rag_chain = question_answer(admin_question, data_chain, meta_data_filter=meta_data_filter)\n",
    "admin_reply"
   ]
  },
  {
   "cell_type": "markdown",
   "id": "0a23a44a-d181-4410-be4d-eed0d9b23d8c",
   "metadata": {},
   "source": [
    "__Summary statistics__\n"
   ]
  },
  {
   "cell_type": "code",
   "execution_count": 113,
   "id": "e85f6cca-6ae4-4bca-ada7-2c92e90faf90",
   "metadata": {},
   "outputs": [
    {
     "data": {
      "text/markdown": [
       "A total of 4,794 objects were identified in the beach-litter survey conducted in Bern. The average number of littered items recorded per meter was approximately 1.75.\n",
       "\n",
       "Here is a summary of the sample totals in a table:\n",
       "\n",
       "|     Metric       |    Value     |\n",
       "|------------------|--------------|\n",
       "| Total Objects     |    4,794     |\n",
       "| Number of Samples |      74      |\n",
       "| Average per Meter |   1.75       |\n",
       "| 5th Percentile    |   0.11       |\n",
       "| 25th Percentile   |   0.46       |\n",
       "| Median (50th)     |   1.12       |\n",
       "| 75th Percentile   |   2.59       |\n",
       "| 95th Percentile   |   5.73       |\n",
       "| Standard Deviation |   1.76       |\n",
       "| Maximum           |   7.75       |\n",
       "| Survey Period     | January 26, 2020 - April 8, 2021 |"
      ],
      "text/plain": [
       "<IPython.core.display.Markdown object>"
      ]
     },
     "execution_count": 113,
     "metadata": {},
     "output_type": "execute_result"
    }
   ],
   "source": [
    "stats_questions = \"how many objects were found in Bern, what was the average per meter in Bern? Can you summarize the sample totals in a table?\"\n",
    "meta_data_filter = {'Header 2':'Summary statistics Bern 2015-11-15 2021-12-31'}\n",
    "stats_results, stats_reply, rag_chain = question_answer(stats_questions, rag_chain, meta_data_filter=meta_data_filter)\n",
    "stats_reply"
   ]
  },
  {
   "cell_type": "markdown",
   "id": "0b4e1b40-f046-400e-80f7-8e94c5531ff1",
   "metadata": {},
   "source": [
    "## Land use"
   ]
  },
  {
   "cell_type": "code",
   "execution_count": 78,
   "id": "9b37dd85-616d-4d56-84f6-572f0e705ff8",
   "metadata": {},
   "outputs": [
    {
     "data": {
      "text/markdown": [
       "The land use profile around the survey locations in the Canton of Bern indicates varying proportions of different topographical features within a 1500m radius. The data is organized into indices that represent different ranges of land use proportions. The findings show a higher attribution to buildings compared to agriculture and woodland, with a notable presence of recreation areas as well. The table below summarizes the values for each index:\n",
       "\n",
       "| Index | Buildings | Wetlands | Forest | Public Services | Recreation | Undefined | Streets | Vineyards | Orchards |\n",
       "|-------|-----------|----------|--------|------------------|------------|------------|---------|-----------|----------|\n",
       "| 1     | 0.310811  | 1        | 0.243243| 1                | 1          | 0.351351   | 0       | 1         | 1        |\n",
       "| 2     | 0.378378  | 0        | 0.662162| 0                | 0          | 0.0810811  | 0       | 0         | 0        |\n",
       "| 3     | 0.216216  | 0        | 0.0945946| 0               | 0          | 0.567568   | 0       | 0         | 0        |\n",
       "| 4     | 0.0675676 | 0        | 0      | 0                | 0          | 0          | 0       | 0         | 0        |\n",
       "| 5     | 0.027027  | 0        | 0      | 0                | 0          | 0          | 0       | 0         | 0        |\n",
       "\n",
       "In the land use profile, the first index (0-20%) shows that buildings accounted for approximately 31%, wetlands for 100%, and forests for around 24%, indicating a diverse environment with significant recreational and public service areas. As the indices increase, the representation of buildings tends to vary, peaking at index two with nearly 38% but declining in subsequent indices, while wetlands and forests show varying proportions. Notably, there are no contributions from public services, recreation, streets, vineyards, or orchards in higher indices, suggesting a shift towards less developed land use as the index increases. Overall, the analysis of land use characteristics suggests that survey locations are predominantly influenced by urban development, with significant implications for litter accumulation along shorelines."
      ],
      "text/plain": [
       "<IPython.core.display.Markdown object>"
      ]
     },
     "execution_count": 78,
     "metadata": {},
     "output_type": "execute_result"
    }
   ],
   "source": [
    "land_use_profile_questions = \"What was the land use profile ? Can you please provide a table of values in addition to a narrative paragraph.\"\n",
    "cluster_analysis_conc, cluster_analysis_conc_reply, rag_chain = question_answer(land_use_profile_questions, rag_chain, meta_data_filter={'Header 2': 'Land use profile Bern 2015-11-15 2021-12-31'})\n",
    "cluster_analysis_conc_reply"
   ]
  },
  {
   "cell_type": "markdown",
   "id": "3b6d59db-488d-4a74-9308-419b13bfaf67",
   "metadata": {},
   "source": [
    "### Cluster analysis"
   ]
  },
  {
   "cell_type": "code",
   "execution_count": 42,
   "id": "a64b5fb7-bd98-44fa-885d-b80277012ee2",
   "metadata": {},
   "outputs": [
    {
     "data": {
      "text/markdown": [
       "The cluster analysis of beach-litter survey data from lakes in the Canton of Bern resulted in the identification of six distinct clusters, each characterized by varying proportions of land use types, including public services, buildings, forest, undefined land, vineyards, streets, and recreation. Additionally, each cluster exhibited different average densities of litter measured in objects per meter of beach.\n",
       "\n",
       "Below is a table summarizing the composition of each cluster along with their average densities:\n",
       "\n",
       "| Cluster | Public Services | Buildings | Forest | Undefined Land | Vineyards | Streets | Recreation | Average Density (objects/m) |\n",
       "|---------|-----------------|-----------|--------|----------------|-----------|---------|------------|------------------------------|\n",
       "| 0       | 0.024           | 0.591     | 0.22   | 0.189          | 0         | 0.363896| 0.005      | 2.39038                      |\n",
       "| 1       | 0.007           | 0.159     | 0.537  | 0.245          | 0         | 0.0845193| 0.005      | 0.378571                     |\n",
       "| 2       | 0.061           | 0.309     | 0.107  | 0.541          | 0.02      | 0.49708 | 0.025      | 2.21333                      |\n",
       "| 3       | 0.003           | 0.047     | 0.271  | 0.55           | 0         | 0       | 0.155      | 1.23667                      |\n",
       "| 4       | 0.044           | 0.682     | 0.153  | 0.149          | 0.015     | 0.251846| 0.005      | 0.884                        |\n",
       "| 5       | 0.188           | 0.14      | 0.308  | 0.297          | 0.192     | 0.273278| 0.014      | 4.945                        |\n",
       "\n",
       "**Table 1: Composition of Clusters and Average Density of Beach Litter**\n",
       "\n",
       "The data reveals significant diversity among the clusters. Cluster 0 and Cluster 2 exhibit relatively high average densities of litter, at 2.39038 and 2.21333 objects per meter, respectively. In contrast, Cluster 1 shows a notably low average density of 0.378571 objects per meter. Cluster 5 stands out with the highest density of 4.945 objects per meter, indicating a high concentration of litter in this cluster. The composition of land use varies considerably, with clusters such as Cluster 4 having a high proportion of buildings (0.682) and Cluster 1 having a higher proportion of forest (0.537). This analysis provides insight into the distribution and characteristics of litter across different beach environments, highlighting areas that may require more focused waste management efforts."
      ],
      "text/plain": [
       "<IPython.core.display.Markdown object>"
      ]
     },
     "execution_count": 42,
     "metadata": {},
     "output_type": "execute_result"
    }
   ],
   "source": [
    "cluster_analysis_questions = \"What were the results of the cluster analysis (composition of clusters)? What was the average density per cluster ? Can you please provide a table of values with a caption in addition to a narrative paragraph.\"\n",
    "cluster_analysis_conc, cluster_analysis_conc_reply, rag_chain = question_answer(cluster_analysis_questions, rag_chain, meta_data_filter={'Header 2': 'Cluster analysis Bern 2015-11-15 2021-12-31'})\n",
    "cluster_analysis_conc_reply"
   ]
  },
  {
   "cell_type": "markdown",
   "id": "7d2251db-0024-4c30-9ac7-d2ed6b2c745c",
   "metadata": {},
   "source": [
    "## Regression Analysis"
   ]
  },
  {
   "cell_type": "code",
   "execution_count": 43,
   "id": "9a48f4fe-5259-4b8b-bb2a-fa0e9706fecd",
   "metadata": {},
   "outputs": [
    {
     "data": {
      "text/markdown": [
       "### Regression Results Overview\n",
       "\n",
       "In our analysis of the beach-litter survey data, we evaluated several regression models to determine their effectiveness in predicting outcomes. The results of the various models are summarized in the table below:\n",
       "\n",
       "|    | Model                        |       R² |      MSE |\n",
       "|---:|:-----------------------------|---------:|---------:|\n",
       "|  0 | Linear Regression            | 0.354129 | 0.316131 |\n",
       "|  1 | Random Forest Regression     | 0.034878 | 0.472393 |\n",
       "|  2 | Gradient Boosting Regression | 0.244038 | 0.370016 |\n",
       "|  3 | Theil-Sen Regressor         | 0.385913 | 0.300574 |\n",
       "|  4 | Bagging: Theil-Sen Regressor| 0.369834 | 0.308444 |\n",
       "|  5 | Voting                       | 0.28676  | 0.349106 |\n",
       "\n",
       "### Best Performing Model\n",
       "\n",
       "Among the models assessed, the Theil-Sen Regressor emerged as the most effective, achieving an R² value of 0.385913 alongside a mean squared error (MSE) of 0.300574. This indicates that the model was able to explain a significant proportion of the variance in the data, outperforming other models in the analysis. The Bagging: Theil-Sen Regressor also performed well, with an R² of 0.369834 and an MSE of 0.308444, making it a viable alternative.\n",
       "\n",
       "### Performance of Other Models\n",
       "\n",
       "The Linear Regression model yielded a respectable R² value of 0.354129 and an MSE of 0.316131, showing moderate predictive capability. Conversely, the Random Forest Regression significantly underperformed with an R² of just 0.034878 and an MSE of 0.472393, suggesting it was not suitable for this dataset. The Gradient Boosting Regression yielded an R² of 0.244038 and an MSE of 0.370016, while the Voting model had an R² of 0.28676 and an MSE of 0.349106, indicating that both models had limited effectiveness compared to the top-performing options."
      ],
      "text/plain": [
       "<IPython.core.display.Markdown object>"
      ]
     },
     "execution_count": 43,
     "metadata": {},
     "output_type": "execute_result"
    }
   ],
   "source": [
    "regression_questions = \"What were the regression results? Can provide these in paragraph format with tables of values. Please label each paragraph according to use.\"\n",
    "regression_questions, regression_questions_reply, rag_chain = question_answer(regression_questions, rag_chain, meta_data_filter={'Header 2': 'Regression results Bern'})\n",
    "regression_questions_reply"
   ]
  },
  {
   "cell_type": "markdown",
   "id": "bc732c40-a462-494b-ab2f-9cefc78f0303",
   "metadata": {},
   "source": [
    "### Regression observations"
   ]
  },
  {
   "cell_type": "code",
   "execution_count": 44,
   "id": "6be98646-3dfd-4228-ada9-6b704ce4c470",
   "metadata": {},
   "outputs": [
    {
     "data": {
      "text/markdown": [
       "The analysis of the regression results indicates that the Theil-Sen Regressor is the top-performing model, achieving the highest R² value of 0.385913 and a mean squared error (MSE) of 0.300574. This suggests that the model explains approximately 38.59% of the variance in the object density, which indicates a moderate level of explanatory power. However, it also implies that a significant portion (over 61%) of the variance is not explained by the model.\n",
       "\n",
       "The MSE of 0.300574 indicates the average squared difference between the predicted values and the actual values. While a lower MSE suggests better predictions, the context of the data and the specific application would determine how acceptable this level of prediction error is.\n",
       "\n",
       "Regarding the effect of the feature variables on object density, the feature importance analysis reveals that streets have the highest importance coefficient (0.480289), suggesting that they have a substantial impact on object density. Other important features include public-services (0.213802), recreation (0.204981), and forest (0.137992). Conversely, vineyards and buildings have negative or minimal importance coefficients, indicating that they may have negligible effects on object density.\n",
       "\n",
       "In summary, while the Theil-Sen Regressor provides some insights into the effect of feature variables on object density, the moderate R² value and the MSE suggest that predictions may not be highly reliable. Further analysis, possibly incorporating additional features or different modeling techniques, could enhance predictive power and provide a clearer understanding of the effects of the features on object density."
      ],
      "text/plain": [
       "<IPython.core.display.Markdown object>"
      ]
     },
     "execution_count": 44,
     "metadata": {},
     "output_type": "execute_result"
    }
   ],
   "source": [
    "regression_questions = \"Considereing the regression results and the top performing model. Can we make any conclusions about the effect of the feature variables on object density? Given the r² and MSE how reliable would predictions be?\"\n",
    "regression_questions, regression_questions_reply, rag_chain = question_answer(regression_questions, rag_chain, meta_data_filter={'Header 2': 'Summary of regression results Bern 2015-11-15 2021-12-31'})\n",
    "regression_questions_reply"
   ]
  },
  {
   "cell_type": "markdown",
   "id": "9c6657d1-2d89-435e-b7ea-009a21d19c0b",
   "metadata": {},
   "source": [
    "## Most Common"
   ]
  },
  {
   "cell_type": "code",
   "execution_count": 45,
   "id": "8c68dba4-f3d8-4c7d-90af-c04e2cba3150",
   "metadata": {},
   "outputs": [
    {
     "data": {
      "text/markdown": [
       "I don't know."
      ],
      "text/plain": [
       "<IPython.core.display.Markdown object>"
      ]
     },
     "execution_count": 45,
     "metadata": {},
     "output_type": "execute_result"
    }
   ],
   "source": [
    "most_common_questions = \"According to survey results, what were the most important inventory items from Bern?\"\n",
    "most_common, most_common_reply, rag_chain = question_answer(most_common_questions, rag_chain, meta_data_filter={'Header 1':'Survey report Bern 2015-11-15 2021-12-31', 'Header 2': 'Inventory items Bern 2015-11-15 2021-12-31'})\n",
    "most_common_reply"
   ]
  },
  {
   "cell_type": "code",
   "execution_count": 46,
   "id": "e8e74ec7-19cc-4f86-aa1f-b3513dc3e067",
   "metadata": {},
   "outputs": [
    {
     "data": {
      "text/markdown": [
       "Here is the table of inventory items collected in Bern, including the object name, % of total, quantity, fail rate, and pcs/m:\n",
       "\n",
       "| Object Name                                                           | % of Total | Quantity | Fail Rate  | pcs/m       |\n",
       "|----------------------------------------------------------------------|------------|----------|------------|-------------|\n",
       "| Cigarette filters                                                     | 32.6%      | 1,563    | 0.837838   | 0.475676    |\n",
       "| Fragmented plastics                                                  | 26.7%      | 1,283    | 0.945946   | 0.535676    |\n",
       "| Food wrappers; candy, snacks                                         | 11.8%      | 565      | 0.824324   | 0.21527     |\n",
       "| Industrial sheeting                                                 | 13.8%      | 661      | 0.864865   | 0.272432    |\n",
       "| Foam packaging/insulation/polyurethane                               | 4.7%       | 227      | 0.891892   | 0.0363971   |\n",
       "| Industrial pellets (nurdles)                                        | 3.9%       | 186      | 0.364865   | 0.0618919   |\n",
       "| Straws and stirrers                                                 | 1.1%       | 52       | 0.391892   | 0.02        |\n",
       "| Bags/sacks heavy duty plastic for 25 Kg or more; animal feed, etc. | 0.0004%    | 2        | 0.027027   | 0.00148649  |\n",
       "| Coverings; plastic packaging, sheeting for protecting large cargo    | 0.0006%    | 3        | 0.0405405  | 0.00189189  |\n",
       "| Glove industrial/professional                                        | 0.0002%    | 1        | 0.0135135  | 0.00027027  |\n",
       "| Tags fishing or industry (security tags, seals)                     | 0.0004%    | 2        | 0.027027   | 0.000810811 |\n",
       "| Buckets                                                             | 0.0017%    | 8        | 0.0405405  | 0.00162162  |\n",
       "| Straps/bands; hard, plastic package fastener                        | 0.006%     | 29       | 0.297297   | 0.0101351   |\n",
       "| Fiberglass fragments                                                 | 0.001%     | 5        | 0.0675676  | 0.00256757  |\n",
       "| Tape, masking/duct/packing                                           | 0.007%     | 32       | 0.22973    | 0.0101351   |\n",
       "| Plastic construction waste                                           | 0.033%     | 159      | 0.608108   | 0.0677027   |\n",
       "| Cable ties; steggel, zip, zap straps                                 | 0.003%     | 16       | 0.148649   | 0.00959459  |\n",
       "| Injection gun cartridge                                              | 0%         | 0        | 0          | 0           |\n",
       "| Car parts                                                           | 0%         | 0        | 0          | 0           |\n",
       "\n",
       "This table summarizes the collected litter items along with their associated metrics."
      ],
      "text/plain": [
       "<IPython.core.display.Markdown object>"
      ]
     },
     "execution_count": 46,
     "metadata": {},
     "output_type": "execute_result"
    }
   ],
   "source": [
    "most_common_questions = \"What were the Inventory items in Bern? Please provide a table of values with the object name. Include the % of  total, the quantity, fail rate and pcs/m\"\n",
    "most_common, most_common_reply, rag_chain = question_answer(most_common_questions, rag_chain, meta_data_filter={'Header 1':'Survey report Bern 2015-11-15 2021-12-31', 'Header 2': 'Inventory items Bern 2015-11-15 2021-12-31'})\n",
    "most_common_reply"
   ]
  },
  {
   "cell_type": "code",
   "execution_count": null,
   "id": "b7aca38d-1e33-4d24-bb75-9e4a1e3444d0",
   "metadata": {},
   "outputs": [],
   "source": []
  },
  {
   "cell_type": "code",
   "execution_count": null,
   "id": "bd3ea5ef-206c-459a-b01b-4426aa5b24cc",
   "metadata": {},
   "outputs": [],
   "source": []
  }
 ],
 "metadata": {
  "kernelspec": {
   "display_name": "Python 3 (ipykernel)",
   "language": "python",
   "name": "python3"
  },
  "language_info": {
   "codemirror_mode": {
    "name": "ipython",
    "version": 3
   },
   "file_extension": ".py",
   "mimetype": "text/x-python",
   "name": "python",
   "nbconvert_exporter": "python",
   "pygments_lexer": "ipython3",
   "version": "3.9.19"
  }
 },
 "nbformat": 4,
 "nbformat_minor": 5
}
