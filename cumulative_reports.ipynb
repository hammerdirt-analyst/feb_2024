{
 "cells": [
  {
   "cell_type": "code",
   "execution_count": 1,
   "id": "64c16819-72da-4b47-a3aa-988d3f5a8203",
   "metadata": {
    "editable": true,
    "pycharm": {
     "name": "#%%\n"
    },
    "slideshow": {
     "slide_type": ""
    },
    "tags": [
     "hide-input"
    ]
   },
   "outputs": [],
   "source": [
    "%load_ext watermark\n",
    "import pandas as pd\n",
    "import numpy as np\n",
    "\n",
    "import matplotlib.pyplot as plt\n",
    "import matplotlib as mpl\n",
    "import matplotlib.colors\n",
    "from matplotlib.colors import LinearSegmentedColormap, ListedColormap\n",
    "import seaborn as sns\n",
    "\n",
    "import session_config\n",
    "import reports\n",
    "import geospatial\n",
    "import display as disp\n",
    "from myst_nb import glue\n",
    "from IPython.display import display, Markdown\n",
    "\n",
    "# available data\n",
    "surveys = session_config.collect_survey_data()\n",
    "\n",
    "# boundaries / search parameters\n",
    "feature_type = 'feature_name'\n",
    "feature_name = 'lac-leman'\n",
    "\n",
    "df = surveys[surveys[feature_type] == feature_name].copy()\n",
    "vaud_report = reports.SurveyReport(dfc=df)\n",
    "\n",
    "# the parameters for the landuse report\n",
    "target_df = vaud_report.sample_results\n",
    "features = geospatial.collect_topo_data(locations=target_df.location.unique())\n",
    "land_use_report = geospatial.LandUseReport(target_df, features)\n",
    "\n",
    "# creates an array of tuples of the correlated pairs\n",
    "correlated_pairs = land_use_report.correlated_pairs()\n",
    "\n",
    "# pass the correlated pairs to combine features method\n",
    "# this will categorize the features and combine the correlated pairs\n",
    "# into new columns\n",
    "land_use_report.combine_features(correlated_pairs)"
   ]
  },
  {
   "cell_type": "markdown",
   "id": "8e3e8dd7-00b7-4cd7-9536-6739b92c5812",
   "metadata": {
    "editable": true,
    "pycharm": {
     "name": "#%% md\n"
    },
    "slideshow": {
     "slide_type": ""
    },
    "tags": []
   },
   "source": [
    "# Display reports\n",
    "\n",
    "Cumulative reports display the test statistic of sample results between elements of a geographic or administrative region. Cumulative reports are visualized with heat maps. The starting point for cumulative reports is a valid `ReportClass` object. The granularity of the results are at a minimum the municipal level. The lowest recognized administrative unit.\n",
    "\n",
    "## A top level description\n",
    "\n",
    "A short and detailed summary of the report can be created by synthesising or displaying four tables from the `SurveyReport`. The sampling result summary returns the components of the quantiles and the descriptive statistics.\n",
    "\n",
    "```python\n",
    "sampling_summary = vaud_report.sampling_results_summary\n",
    "a, b, c, d = disp.sampling_result_summary(sampling_summary, 'en')\n",
    "\n",
    "vaud_boundaries = vaud_report.administrative_boundaries()\n",
    "disp.boundaries(vaud_boundaries, 'en')\n",
    "\n",
    "vaud_features = vaud_report.feature_inventory()\n",
    "disp.feature_inventory(vaud_features, 'en')\n",
    "``` "
   ]
  },
  {
   "cell_type": "code",
   "execution_count": 2,
   "id": "ca2fc365-273e-4d7e-910b-8afcaab8d30b",
   "metadata": {
    "editable": true,
    "pycharm": {
     "name": "#%%\n"
    },
    "slideshow": {
     "slide_type": ""
    },
    "tags": [
     "remove-input"
    ]
   },
   "outputs": [
    {
     "data": {
      "application/papermill.record/text/markdown": "__Summary of selected data__\n* Number of samples: 251\n* Total number of objects: 80016\n* Average sample count: 8.92\n* Date of first sample: 2015-11-23\n* Date of last sample: 2022-10-06\n",
      "application/papermill.record/text/plain": "<IPython.core.display.Markdown object>"
     },
     "metadata": {
      "scrapbook": {
       "mime_prefix": "application/papermill.record/",
       "name": "summary"
      }
     },
     "output_type": "display_data"
    },
    {
     "data": {
      "application/papermill.record/text/markdown": "__Observed distribution of pcs/m__\n* 5%: 0.86\n* 25%: 2.69\n* 50%: 5.39\n* 75%: 10.32\n* 95%: 30.06\n",
      "application/papermill.record/text/plain": "<IPython.core.display.Markdown object>"
     },
     "metadata": {
      "scrapbook": {
       "mime_prefix": "application/papermill.record/",
       "name": "dist"
      }
     },
     "output_type": "display_data"
    },
    {
     "data": {
      "application/papermill.record/text/markdown": "__Administrative boundaries__\n* Survey locations: 38\n* Cities: 15\n* Cantons: 3\n* River basins or Parks: 1\n\n",
      "application/papermill.record/text/plain": "<IPython.core.display.Markdown object>"
     },
     "metadata": {
      "scrapbook": {
       "mime_prefix": "application/papermill.record/",
       "name": "boundaries"
      }
     },
     "output_type": "display_data"
    },
    {
     "data": {
      "application/papermill.record/text/markdown": "__Features surveyed__\n* Rivers: 0\n* Lakes: 1\n* Parks: 0\n\n",
      "application/papermill.record/text/plain": "<IPython.core.display.Markdown object>"
     },
     "metadata": {
      "scrapbook": {
       "mime_prefix": "application/papermill.record/",
       "name": "features"
      }
     },
     "output_type": "display_data"
    }
   ],
   "source": [
    "sampling_summary = vaud_report.sampling_results_summary\n",
    "a, b, c, d = disp.sampling_result_summary(sampling_summary, 'en')\n",
    "\n",
    "glue('summary', Markdown(f'{a}\\n{b}'), display=False)\n",
    "\n",
    "glue('dist', Markdown(f'{c}\\n{d}'), display=False)\n",
    "\n",
    "vaud_boundaries = vaud_report.administrative_boundaries()\n",
    "glue('boundaries', Markdown(disp.boundaries(vaud_boundaries, 'en')), display=False)\n",
    "\n",
    "vaud_features = vaud_report.feature_inventory()\n",
    "glue('features', Markdown(disp.feature_inventory(vaud_features, 'en')), display=False)"
   ]
  },
  {
   "cell_type": "markdown",
   "id": "ec501f2c-10b6-459e-ade2-d283cfcbb88c",
   "metadata": {
    "editable": true,
    "slideshow": {
     "slide_type": ""
    },
    "tags": []
   },
   "source": [
    "::::{grid} 1 2 2 2\n",
    "\n",
    ":::{grid-item}\n",
    "\n",
    "_Summary of samples_\n",
    "\n",
    "```{glue:} summary\n",
    "```\n",
    ":::\n",
    "\n",
    ":::{grid-item}\n",
    "\n",
    "_Distribution of sample totals_\n",
    "\n",
    "```{glue:} dist\n",
    "```\n",
    ":::\n",
    "\n",
    ":::{grid-item}\n",
    "\n",
    "_The administrative boundaries_\n",
    "\n",
    "```{glue:} boundaries\n",
    "```\n",
    ":::\n",
    "\n",
    ":::{grid-item}\n",
    "\n",
    "_The rivers lakes and parks_\n",
    "\n",
    "```{glue:} features\n",
    "```\n",
    ":::\n",
    "\n",
    "::::\n",
    "\n",
    "__Recall:__ the place names can always be printed.\n"
   ]
  },
  {
   "cell_type": "markdown",
   "id": "c670a37a-de30-4256-a7eb-1b2bf84b182f",
   "metadata": {
    "editable": true,
    "slideshow": {
     "slide_type": ""
    },
    "tags": []
   },
   "source": [
    "## The most common objects\n",
    "\n",
    "The most common objects are a combination of the top ten most abundant objects and those objects that are found in more than 50% of the samples. \n",
    "\n",
    "```python\n",
    "\n",
    "vaud_most_common = vaud_report.object_summary().reset_index()\n",
    "df, weight = disp.most_common(vaud_most_common)\n",
    "\n",
    "```"
   ]
  },
  {
   "cell_type": "code",
   "execution_count": 3,
   "id": "c7a2c87a-5fcc-4b43-99f6-f7fd554572b8",
   "metadata": {
    "editable": true,
    "slideshow": {
     "slide_type": ""
    },
    "tags": [
     "remove-input"
    ]
   },
   "outputs": [
    {
     "data": {
      "text/html": [
       "<style type=\"text/css\">\n",
       "#T_49649 tr:nth-child(even) {\n",
       "  background-color: rgba(139, 69, 19, 0.08);\n",
       "}\n",
       "#T_49649 tr:nth-child(odd) {\n",
       "  background: #FFF;\n",
       "}\n",
       "#T_49649 tr {\n",
       "  font-size: 10px;\n",
       "}\n",
       "#T_49649 th {\n",
       "  background-color: #FFF;\n",
       "  font-size: 12px;\n",
       "  text-align: left;\n",
       "  width: auto;\n",
       "  word-break: keep-all;\n",
       "}\n",
       "#T_49649 td {\n",
       "  padding: 4px;\n",
       "  font-size: 12px;\n",
       "  text-align: center;\n",
       "}\n",
       "#T_49649 caption {\n",
       "  caption-side: top;\n",
       "  font-size: 1em;\n",
       "  text-align: left;\n",
       "  margin-bottom: 10px;\n",
       "}\n",
       "#T_49649 caption {\n",
       "  caption-side: top;\n",
       "  font-size: .9em;\n",
       "  text-align: left;\n",
       "  font-style: italic;\n",
       "  color: #000;\n",
       "}\n",
       "#T_49649 td:nth-child(1) {\n",
       "  text-align: left;\n",
       "}\n",
       "</style>\n",
       "<table id=\"T_49649\">\n",
       "  <caption><b>The most common objects from the selected data.</b> The most common objects are a combination of the top ten most abundant objects and those objects that are found in more than 50% of the samples. Some objects are found frequently but at low quantities.Other objects are found in fewer samples but at higher quantities.</caption>\n",
       "  <thead>\n",
       "    <tr>\n",
       "      <th id=\"T_49649_level0_col0\" class=\"col_heading level0 col0\" >Object</th>\n",
       "      <th id=\"T_49649_level0_col1\" class=\"col_heading level0 col1\" >Quantity</th>\n",
       "      <th id=\"T_49649_level0_col2\" class=\"col_heading level0 col2\" >pcs/m</th>\n",
       "      <th id=\"T_49649_level0_col3\" class=\"col_heading level0 col3\" >% of total</th>\n",
       "      <th id=\"T_49649_level0_col4\" class=\"col_heading level0 col4\" >Fail rate</th>\n",
       "    </tr>\n",
       "  </thead>\n",
       "  <tbody>\n",
       "    <tr>\n",
       "      <td id=\"T_49649_row0_col0\" class=\"data row0 col0\" >Cigarette filters</td>\n",
       "      <td id=\"T_49649_row0_col1\" class=\"data row0 col1\" >13'943</td>\n",
       "      <td id=\"T_49649_row0_col2\" class=\"data row0 col2\" >1,34</td>\n",
       "      <td id=\"T_49649_row0_col3\" class=\"data row0 col3\" >0,17</td>\n",
       "      <td id=\"T_49649_row0_col4\" class=\"data row0 col4\" >0,92</td>\n",
       "    </tr>\n",
       "    <tr>\n",
       "      <td id=\"T_49649_row1_col0\" class=\"data row1 col0\" >Expanded polystyrene</td>\n",
       "      <td id=\"T_49649_row1_col1\" class=\"data row1 col1\" >11'482</td>\n",
       "      <td id=\"T_49649_row1_col2\" class=\"data row1 col2\" >1,27</td>\n",
       "      <td id=\"T_49649_row1_col3\" class=\"data row1 col3\" >0,14</td>\n",
       "      <td id=\"T_49649_row1_col4\" class=\"data row1 col4\" >0,87</td>\n",
       "    </tr>\n",
       "    <tr>\n",
       "      <td id=\"T_49649_row2_col0\" class=\"data row2 col0\" >Fragmented plastics</td>\n",
       "      <td id=\"T_49649_row2_col1\" class=\"data row2 col1\" >11'233</td>\n",
       "      <td id=\"T_49649_row2_col2\" class=\"data row2 col2\" >1,42</td>\n",
       "      <td id=\"T_49649_row2_col3\" class=\"data row2 col3\" >0,14</td>\n",
       "      <td id=\"T_49649_row2_col4\" class=\"data row2 col4\" >0,96</td>\n",
       "    </tr>\n",
       "    <tr>\n",
       "      <td id=\"T_49649_row3_col0\" class=\"data row3 col0\" >Food wrappers; candy, snacks</td>\n",
       "      <td id=\"T_49649_row3_col1\" class=\"data row3 col1\" >5'490</td>\n",
       "      <td id=\"T_49649_row3_col2\" class=\"data row3 col2\" >0,63</td>\n",
       "      <td id=\"T_49649_row3_col3\" class=\"data row3 col3\" >0,07</td>\n",
       "      <td id=\"T_49649_row3_col4\" class=\"data row3 col4\" >0,94</td>\n",
       "    </tr>\n",
       "    <tr>\n",
       "      <td id=\"T_49649_row4_col0\" class=\"data row4 col0\" >Cotton bud/swab sticks</td>\n",
       "      <td id=\"T_49649_row4_col1\" class=\"data row4 col1\" >4'281</td>\n",
       "      <td id=\"T_49649_row4_col2\" class=\"data row4 col2\" >0,49</td>\n",
       "      <td id=\"T_49649_row4_col3\" class=\"data row4 col3\" >0,05</td>\n",
       "      <td id=\"T_49649_row4_col4\" class=\"data row4 col4\" >0,88</td>\n",
       "    </tr>\n",
       "    <tr>\n",
       "      <td id=\"T_49649_row5_col0\" class=\"data row5 col0\" >plastic caps, lid rings: G21, G22, G23, G24</td>\n",
       "      <td id=\"T_49649_row5_col1\" class=\"data row5 col1\" >3'917</td>\n",
       "      <td id=\"T_49649_row5_col2\" class=\"data row5 col2\" >0,43</td>\n",
       "      <td id=\"T_49649_row5_col3\" class=\"data row5 col3\" >0,05</td>\n",
       "      <td id=\"T_49649_row5_col4\" class=\"data row5 col4\" >0,92</td>\n",
       "    </tr>\n",
       "    <tr>\n",
       "      <td id=\"T_49649_row6_col0\" class=\"data row6 col0\" >Industrial sheeting</td>\n",
       "      <td id=\"T_49649_row6_col1\" class=\"data row6 col1\" >3'317</td>\n",
       "      <td id=\"T_49649_row6_col2\" class=\"data row6 col2\" >0,40</td>\n",
       "      <td id=\"T_49649_row6_col3\" class=\"data row6 col3\" >0,04</td>\n",
       "      <td id=\"T_49649_row6_col4\" class=\"data row6 col4\" >0,75</td>\n",
       "    </tr>\n",
       "    <tr>\n",
       "      <td id=\"T_49649_row7_col0\" class=\"data row7 col0\" >Glass drink bottles, pieces</td>\n",
       "      <td id=\"T_49649_row7_col1\" class=\"data row7 col1\" >2'640</td>\n",
       "      <td id=\"T_49649_row7_col2\" class=\"data row7 col2\" >0,26</td>\n",
       "      <td id=\"T_49649_row7_col3\" class=\"data row7 col3\" >0,03</td>\n",
       "      <td id=\"T_49649_row7_col4\" class=\"data row7 col4\" >0,58</td>\n",
       "    </tr>\n",
       "    <tr>\n",
       "      <td id=\"T_49649_row8_col0\" class=\"data row8 col0\" >Plastic construction waste</td>\n",
       "      <td id=\"T_49649_row8_col1\" class=\"data row8 col1\" >1'571</td>\n",
       "      <td id=\"T_49649_row8_col2\" class=\"data row8 col2\" >0,16</td>\n",
       "      <td id=\"T_49649_row8_col3\" class=\"data row8 col3\" >0,02</td>\n",
       "      <td id=\"T_49649_row8_col4\" class=\"data row8 col4\" >0,59</td>\n",
       "    </tr>\n",
       "    <tr>\n",
       "      <td id=\"T_49649_row9_col0\" class=\"data row9 col0\" >Industrial pellets (nurdles)</td>\n",
       "      <td id=\"T_49649_row9_col1\" class=\"data row9 col1\" >1'458</td>\n",
       "      <td id=\"T_49649_row9_col2\" class=\"data row9 col2\" >0,17</td>\n",
       "      <td id=\"T_49649_row9_col3\" class=\"data row9 col3\" >0,02</td>\n",
       "      <td id=\"T_49649_row9_col4\" class=\"data row9 col4\" >0,20</td>\n",
       "    </tr>\n",
       "    <tr>\n",
       "      <td id=\"T_49649_row10_col0\" class=\"data row10 col0\" >Foam packaging/insulation/polyurethane</td>\n",
       "      <td id=\"T_49649_row10_col1\" class=\"data row10 col1\" >1'143</td>\n",
       "      <td id=\"T_49649_row10_col2\" class=\"data row10 col2\" >0,10</td>\n",
       "      <td id=\"T_49649_row10_col3\" class=\"data row10 col3\" >0,01</td>\n",
       "      <td id=\"T_49649_row10_col4\" class=\"data row10 col4\" >0,52</td>\n",
       "    </tr>\n",
       "    <tr>\n",
       "      <td id=\"T_49649_row11_col0\" class=\"data row11 col0\" >Metal bottle caps, lids & pull tabs from cans</td>\n",
       "      <td id=\"T_49649_row11_col1\" class=\"data row11 col1\" >1'027</td>\n",
       "      <td id=\"T_49649_row11_col2\" class=\"data row11 col2\" >0,10</td>\n",
       "      <td id=\"T_49649_row11_col3\" class=\"data row11 col3\" >0,01</td>\n",
       "      <td id=\"T_49649_row11_col4\" class=\"data row11 col4\" >0,73</td>\n",
       "    </tr>\n",
       "    <tr>\n",
       "      <td id=\"T_49649_row12_col0\" class=\"data row12 col0\" >Plastic shotgun wadding</td>\n",
       "      <td id=\"T_49649_row12_col1\" class=\"data row12 col1\" >941</td>\n",
       "      <td id=\"T_49649_row12_col2\" class=\"data row12 col2\" >0,10</td>\n",
       "      <td id=\"T_49649_row12_col3\" class=\"data row12 col3\" >0,01</td>\n",
       "      <td id=\"T_49649_row12_col4\" class=\"data row12 col4\" >0,55</td>\n",
       "    </tr>\n",
       "    <tr>\n",
       "      <td id=\"T_49649_row13_col0\" class=\"data row13 col0\" >Tobacco; plastic packaging, containers</td>\n",
       "      <td id=\"T_49649_row13_col1\" class=\"data row13 col1\" >841</td>\n",
       "      <td id=\"T_49649_row13_col2\" class=\"data row13 col2\" >0,09</td>\n",
       "      <td id=\"T_49649_row13_col3\" class=\"data row13 col3\" >0,01</td>\n",
       "      <td id=\"T_49649_row13_col4\" class=\"data row13 col4\" >0,60</td>\n",
       "    </tr>\n",
       "    <tr>\n",
       "      <td id=\"T_49649_row14_col0\" class=\"data row14 col0\" >Straws and stirrers</td>\n",
       "      <td id=\"T_49649_row14_col1\" class=\"data row14 col1\" >792</td>\n",
       "      <td id=\"T_49649_row14_col2\" class=\"data row14 col2\" >0,08</td>\n",
       "      <td id=\"T_49649_row14_col3\" class=\"data row14 col3\" >0,01</td>\n",
       "      <td id=\"T_49649_row14_col4\" class=\"data row14 col4\" >0,67</td>\n",
       "    </tr>\n",
       "    <tr>\n",
       "      <td id=\"T_49649_row15_col0\" class=\"data row15 col0\" >Lollypop sticks</td>\n",
       "      <td id=\"T_49649_row15_col1\" class=\"data row15 col1\" >670</td>\n",
       "      <td id=\"T_49649_row15_col2\" class=\"data row15 col2\" >0,08</td>\n",
       "      <td id=\"T_49649_row15_col3\" class=\"data row15 col3\" >0,01</td>\n",
       "      <td id=\"T_49649_row15_col4\" class=\"data row15 col4\" >0,64</td>\n",
       "    </tr>\n",
       "    <tr>\n",
       "      <td id=\"T_49649_row16_col0\" class=\"data row16 col0\" >Foil wrappers, aluminum foil</td>\n",
       "      <td id=\"T_49649_row16_col1\" class=\"data row16 col1\" >664</td>\n",
       "      <td id=\"T_49649_row16_col2\" class=\"data row16 col2\" >0,07</td>\n",
       "      <td id=\"T_49649_row16_col3\" class=\"data row16 col3\" >0,01</td>\n",
       "      <td id=\"T_49649_row16_col4\" class=\"data row16 col4\" >0,63</td>\n",
       "    </tr>\n",
       "    <tr>\n",
       "      <td id=\"T_49649_row17_col0\" class=\"data row17 col0\" >Cups, lids, single use foamed and hard plastic</td>\n",
       "      <td id=\"T_49649_row17_col1\" class=\"data row17 col1\" >612</td>\n",
       "      <td id=\"T_49649_row17_col2\" class=\"data row17 col2\" >0,07</td>\n",
       "      <td id=\"T_49649_row17_col3\" class=\"data row17 col3\" >0,01</td>\n",
       "      <td id=\"T_49649_row17_col4\" class=\"data row17 col4\" >0,55</td>\n",
       "    </tr>\n",
       "    <tr>\n",
       "      <td id=\"T_49649_row18_col0\" class=\"data row18 col0\" >Medical; containers/tubes/ packaging</td>\n",
       "      <td id=\"T_49649_row18_col1\" class=\"data row18 col1\" >576</td>\n",
       "      <td id=\"T_49649_row18_col2\" class=\"data row18 col2\" >0,07</td>\n",
       "      <td id=\"T_49649_row18_col3\" class=\"data row18 col3\" >0,01</td>\n",
       "      <td id=\"T_49649_row18_col4\" class=\"data row18 col4\" >0,62</td>\n",
       "    </tr>\n",
       "    <tr>\n",
       "      <td id=\"T_49649_row19_col0\" class=\"data row19 col0\" >Toys and party favors</td>\n",
       "      <td id=\"T_49649_row19_col1\" class=\"data row19 col1\" >563</td>\n",
       "      <td id=\"T_49649_row19_col2\" class=\"data row19 col2\" >0,07</td>\n",
       "      <td id=\"T_49649_row19_col3\" class=\"data row19 col3\" >0,01</td>\n",
       "      <td id=\"T_49649_row19_col4\" class=\"data row19 col4\" >0,57</td>\n",
       "    </tr>\n",
       "  </tbody>\n",
       "</table>\n"
      ],
      "text/plain": [
       "<pandas.io.formats.style.Styler at 0x7196c94bc9d0>"
      ]
     },
     "execution_count": 3,
     "metadata": {},
     "output_type": "execute_result"
    }
   ],
   "source": [
    "vaud_most_common = vaud_report.object_summary().reset_index()\n",
    "df, weight = disp.most_common(vaud_most_common)\n",
    "df"
   ]
  },
  {
   "cell_type": "markdown",
   "id": "6293045e-31fc-46ee-b363-610e52333be6",
   "metadata": {
    "editable": true,
    "slideshow": {
     "slide_type": ""
    },
    "tags": []
   },
   "source": [
    "## Correlation matrix\n",
    "\n",
    "```python\n",
    "amatrix = land_use_report.correlation_matrix()\n",
    "disp.correlation_matrix(amatrix)\n",
    "```"
   ]
  },
  {
   "cell_type": "code",
   "execution_count": 4,
   "id": "bc376357-861f-4c56-b1ff-3a7424278028",
   "metadata": {
    "editable": true,
    "slideshow": {
     "slide_type": ""
    },
    "tags": [
     "remove-input"
    ]
   },
   "outputs": [
    {
     "data": {
      "text/html": [
       "<style type=\"text/css\">\n",
       "#T_f9134 tr {\n",
       "  font-size: 10px;\n",
       "}\n",
       "#T_f9134_row0_col1, #T_f9134_row0_col4, #T_f9134_row1_col0, #T_f9134_row4_col0 {\n",
       "  opacity: 20%;\n",
       "}\n",
       "#T_f9134_row0_col2, #T_f9134_row0_col3, #T_f9134_row0_col5, #T_f9134_row0_col6, #T_f9134_row1_col2, #T_f9134_row1_col3, #T_f9134_row1_col4, #T_f9134_row1_col5, #T_f9134_row1_col6, #T_f9134_row2_col0, #T_f9134_row2_col1, #T_f9134_row3_col0, #T_f9134_row3_col1, #T_f9134_row4_col1, #T_f9134_row5_col0, #T_f9134_row5_col1, #T_f9134_row6_col0, #T_f9134_row6_col1 {\n",
       "  color: red;\n",
       "  opacity: 20%;\n",
       "}\n",
       "#T_f9134_row2_col3, #T_f9134_row2_col4, #T_f9134_row3_col2, #T_f9134_row3_col5, #T_f9134_row3_col6, #T_f9134_row4_col2, #T_f9134_row4_col5, #T_f9134_row4_col6, #T_f9134_row5_col3, #T_f9134_row5_col4, #T_f9134_row6_col3, #T_f9134_row6_col4 {\n",
       "  color: red;\n",
       "}\n",
       "</style>\n",
       "<table id=\"T_f9134\">\n",
       "  <thead>\n",
       "    <tr>\n",
       "      <th class=\"blank level0\" >&nbsp;</th>\n",
       "      <th id=\"T_f9134_level0_col0\" class=\"col_heading level0 col0\" >orchards</th>\n",
       "      <th id=\"T_f9134_level0_col1\" class=\"col_heading level0 col1\" >vineyards</th>\n",
       "      <th id=\"T_f9134_level0_col2\" class=\"col_heading level0 col2\" >buildings</th>\n",
       "      <th id=\"T_f9134_level0_col3\" class=\"col_heading level0 col3\" >forest</th>\n",
       "      <th id=\"T_f9134_level0_col4\" class=\"col_heading level0 col4\" >undefined</th>\n",
       "      <th id=\"T_f9134_level0_col5\" class=\"col_heading level0 col5\" >public services</th>\n",
       "      <th id=\"T_f9134_level0_col6\" class=\"col_heading level0 col6\" >streets</th>\n",
       "    </tr>\n",
       "  </thead>\n",
       "  <tbody>\n",
       "    <tr>\n",
       "      <th id=\"T_f9134_level0_row0\" class=\"row_heading level0 row0\" >orchards</th>\n",
       "      <td id=\"T_f9134_row0_col0\" class=\"data row0 col0\" >1.000000</td>\n",
       "      <td id=\"T_f9134_row0_col1\" class=\"data row0 col1\" >0.215632</td>\n",
       "      <td id=\"T_f9134_row0_col2\" class=\"data row0 col2\" >-0.232329</td>\n",
       "      <td id=\"T_f9134_row0_col3\" class=\"data row0 col3\" >-0.044311</td>\n",
       "      <td id=\"T_f9134_row0_col4\" class=\"data row0 col4\" >0.205992</td>\n",
       "      <td id=\"T_f9134_row0_col5\" class=\"data row0 col5\" >-0.195685</td>\n",
       "      <td id=\"T_f9134_row0_col6\" class=\"data row0 col6\" >-0.087427</td>\n",
       "    </tr>\n",
       "    <tr>\n",
       "      <th id=\"T_f9134_level0_row1\" class=\"row_heading level0 row1\" >vineyards</th>\n",
       "      <td id=\"T_f9134_row1_col0\" class=\"data row1 col0\" >0.215632</td>\n",
       "      <td id=\"T_f9134_row1_col1\" class=\"data row1 col1\" >1.000000</td>\n",
       "      <td id=\"T_f9134_row1_col2\" class=\"data row1 col2\" >-0.100630</td>\n",
       "      <td id=\"T_f9134_row1_col3\" class=\"data row1 col3\" >-0.190298</td>\n",
       "      <td id=\"T_f9134_row1_col4\" class=\"data row1 col4\" >-0.057757</td>\n",
       "      <td id=\"T_f9134_row1_col5\" class=\"data row1 col5\" >-0.215319</td>\n",
       "      <td id=\"T_f9134_row1_col6\" class=\"data row1 col6\" >-0.155203</td>\n",
       "    </tr>\n",
       "    <tr>\n",
       "      <th id=\"T_f9134_level0_row2\" class=\"row_heading level0 row2\" >buildings</th>\n",
       "      <td id=\"T_f9134_row2_col0\" class=\"data row2 col0\" >-0.232329</td>\n",
       "      <td id=\"T_f9134_row2_col1\" class=\"data row2 col1\" >-0.100630</td>\n",
       "      <td id=\"T_f9134_row2_col2\" class=\"data row2 col2\" >1.000000</td>\n",
       "      <td id=\"T_f9134_row2_col3\" class=\"data row2 col3\" >-0.872981</td>\n",
       "      <td id=\"T_f9134_row2_col4\" class=\"data row2 col4\" >-0.946109</td>\n",
       "      <td id=\"T_f9134_row2_col5\" class=\"data row2 col5\" >0.480962</td>\n",
       "      <td id=\"T_f9134_row2_col6\" class=\"data row2 col6\" >0.532584</td>\n",
       "    </tr>\n",
       "    <tr>\n",
       "      <th id=\"T_f9134_level0_row3\" class=\"row_heading level0 row3\" >forest</th>\n",
       "      <td id=\"T_f9134_row3_col0\" class=\"data row3 col0\" >-0.044311</td>\n",
       "      <td id=\"T_f9134_row3_col1\" class=\"data row3 col1\" >-0.190298</td>\n",
       "      <td id=\"T_f9134_row3_col2\" class=\"data row3 col2\" >-0.872981</td>\n",
       "      <td id=\"T_f9134_row3_col3\" class=\"data row3 col3\" >1.000000</td>\n",
       "      <td id=\"T_f9134_row3_col4\" class=\"data row3 col4\" >0.767505</td>\n",
       "      <td id=\"T_f9134_row3_col5\" class=\"data row3 col5\" >-0.367753</td>\n",
       "      <td id=\"T_f9134_row3_col6\" class=\"data row3 col6\" >-0.538793</td>\n",
       "    </tr>\n",
       "    <tr>\n",
       "      <th id=\"T_f9134_level0_row4\" class=\"row_heading level0 row4\" >undefined</th>\n",
       "      <td id=\"T_f9134_row4_col0\" class=\"data row4 col0\" >0.205992</td>\n",
       "      <td id=\"T_f9134_row4_col1\" class=\"data row4 col1\" >-0.057757</td>\n",
       "      <td id=\"T_f9134_row4_col2\" class=\"data row4 col2\" >-0.946109</td>\n",
       "      <td id=\"T_f9134_row4_col3\" class=\"data row4 col3\" >0.767505</td>\n",
       "      <td id=\"T_f9134_row4_col4\" class=\"data row4 col4\" >1.000000</td>\n",
       "      <td id=\"T_f9134_row4_col5\" class=\"data row4 col5\" >-0.425264</td>\n",
       "      <td id=\"T_f9134_row4_col6\" class=\"data row4 col6\" >-0.412409</td>\n",
       "    </tr>\n",
       "    <tr>\n",
       "      <th id=\"T_f9134_level0_row5\" class=\"row_heading level0 row5\" >public services</th>\n",
       "      <td id=\"T_f9134_row5_col0\" class=\"data row5 col0\" >-0.195685</td>\n",
       "      <td id=\"T_f9134_row5_col1\" class=\"data row5 col1\" >-0.215319</td>\n",
       "      <td id=\"T_f9134_row5_col2\" class=\"data row5 col2\" >0.480962</td>\n",
       "      <td id=\"T_f9134_row5_col3\" class=\"data row5 col3\" >-0.367753</td>\n",
       "      <td id=\"T_f9134_row5_col4\" class=\"data row5 col4\" >-0.425264</td>\n",
       "      <td id=\"T_f9134_row5_col5\" class=\"data row5 col5\" >1.000000</td>\n",
       "      <td id=\"T_f9134_row5_col6\" class=\"data row5 col6\" >0.542128</td>\n",
       "    </tr>\n",
       "    <tr>\n",
       "      <th id=\"T_f9134_level0_row6\" class=\"row_heading level0 row6\" >streets</th>\n",
       "      <td id=\"T_f9134_row6_col0\" class=\"data row6 col0\" >-0.087427</td>\n",
       "      <td id=\"T_f9134_row6_col1\" class=\"data row6 col1\" >-0.155203</td>\n",
       "      <td id=\"T_f9134_row6_col2\" class=\"data row6 col2\" >0.532584</td>\n",
       "      <td id=\"T_f9134_row6_col3\" class=\"data row6 col3\" >-0.538793</td>\n",
       "      <td id=\"T_f9134_row6_col4\" class=\"data row6 col4\" >-0.412409</td>\n",
       "      <td id=\"T_f9134_row6_col5\" class=\"data row6 col5\" >0.542128</td>\n",
       "      <td id=\"T_f9134_row6_col6\" class=\"data row6 col6\" >1.000000</td>\n",
       "    </tr>\n",
       "  </tbody>\n",
       "</table>\n"
      ],
      "text/plain": [
       "<pandas.io.formats.style.Styler at 0x7196f7b76ee0>"
      ]
     },
     "execution_count": 4,
     "metadata": {},
     "output_type": "execute_result"
    }
   ],
   "source": [
    "amatrix = land_use_report.correlation_matrix()\n",
    "disp.correlation_matrix(amatrix)"
   ]
  },
  {
   "cell_type": "markdown",
   "id": "9311c04a-10da-4441-9529-34348caed9cd",
   "metadata": {
    "editable": true,
    "slideshow": {
     "slide_type": ""
    },
    "tags": []
   },
   "source": [
    "## Land use profile"
   ]
  },
  {
   "cell_type": "code",
   "execution_count": 5,
   "id": "82be7763-d565-41dd-ab3b-c0cfd88f8c8c",
   "metadata": {
    "editable": true,
    "slideshow": {
     "slide_type": ""
    },
    "tags": []
   },
   "outputs": [
    {
     "data": {
      "text/html": [
       "<style type=\"text/css\">\n",
       "#T_26bd5 caption {\n",
       "  caption-side: top;\n",
       "  font-size: 1em;\n",
       "  text-align: left;\n",
       "  margin-bottom: 10px;\n",
       "}\n",
       "#T_26bd5 caption {\n",
       "  caption-side: top;\n",
       "  font-size: .9em;\n",
       "  text-align: left;\n",
       "  font-style: italic;\n",
       "  color: #000;\n",
       "}\n",
       "#T_26bd5_row0_col0, #T_26bd5_row1_col0, #T_26bd5_row2_col4, #T_26bd5_row3_col0, #T_26bd5_row4_col0, #T_26bd5_row5_col0 {\n",
       "  background-color: #FAE8E8;\n",
       "}\n",
       "</style>\n",
       "<table id=\"T_26bd5\">\n",
       "  <caption><b>The land use profile and the proportion of samples per landuse feature.</b> The highlighted cell is the maximum value in the row. Each cell represents the proportion of samples that were conducted in the land use category.</caption>\n",
       "  <thead>\n",
       "    <tr>\n",
       "      <th class=\"blank level0\" >&nbsp;</th>\n",
       "      <th id=\"T_26bd5_level0_col0\" class=\"col_heading level0 col0\" >0 - 20%</th>\n",
       "      <th id=\"T_26bd5_level0_col1\" class=\"col_heading level0 col1\" >20 - 40%</th>\n",
       "      <th id=\"T_26bd5_level0_col2\" class=\"col_heading level0 col2\" >40 - 60%</th>\n",
       "      <th id=\"T_26bd5_level0_col3\" class=\"col_heading level0 col3\" >60 - 80%</th>\n",
       "      <th id=\"T_26bd5_level0_col4\" class=\"col_heading level0 col4\" >80 - 100%</th>\n",
       "    </tr>\n",
       "  </thead>\n",
       "  <tbody>\n",
       "    <tr>\n",
       "      <th id=\"T_26bd5_level0_row0\" class=\"row_heading level0 row0\" >Orchards</th>\n",
       "      <td id=\"T_26bd5_row0_col0\" class=\"data row0 col0\" >100%</td>\n",
       "      <td id=\"T_26bd5_row0_col1\" class=\"data row0 col1\" >0%</td>\n",
       "      <td id=\"T_26bd5_row0_col2\" class=\"data row0 col2\" >0%</td>\n",
       "      <td id=\"T_26bd5_row0_col3\" class=\"data row0 col3\" >0%</td>\n",
       "      <td id=\"T_26bd5_row0_col4\" class=\"data row0 col4\" >0%</td>\n",
       "    </tr>\n",
       "    <tr>\n",
       "      <th id=\"T_26bd5_level0_row1\" class=\"row_heading level0 row1\" >Vineyards</th>\n",
       "      <td id=\"T_26bd5_row1_col0\" class=\"data row1 col0\" >99%</td>\n",
       "      <td id=\"T_26bd5_row1_col1\" class=\"data row1 col1\" >0%</td>\n",
       "      <td id=\"T_26bd5_row1_col2\" class=\"data row1 col2\" >1%</td>\n",
       "      <td id=\"T_26bd5_row1_col3\" class=\"data row1 col3\" >0%</td>\n",
       "      <td id=\"T_26bd5_row1_col4\" class=\"data row1 col4\" >0%</td>\n",
       "    </tr>\n",
       "    <tr>\n",
       "      <th id=\"T_26bd5_level0_row2\" class=\"row_heading level0 row2\" >Buildings</th>\n",
       "      <td id=\"T_26bd5_row2_col0\" class=\"data row2 col0\" >10%</td>\n",
       "      <td id=\"T_26bd5_row2_col1\" class=\"data row2 col1\" >7%</td>\n",
       "      <td id=\"T_26bd5_row2_col2\" class=\"data row2 col2\" >0%</td>\n",
       "      <td id=\"T_26bd5_row2_col3\" class=\"data row2 col3\" >20%</td>\n",
       "      <td id=\"T_26bd5_row2_col4\" class=\"data row2 col4\" >63%</td>\n",
       "    </tr>\n",
       "    <tr>\n",
       "      <th id=\"T_26bd5_level0_row3\" class=\"row_heading level0 row3\" >Forest</th>\n",
       "      <td id=\"T_26bd5_row3_col0\" class=\"data row3 col0\" >86%</td>\n",
       "      <td id=\"T_26bd5_row3_col1\" class=\"data row3 col1\" >9%</td>\n",
       "      <td id=\"T_26bd5_row3_col2\" class=\"data row3 col2\" >5%</td>\n",
       "      <td id=\"T_26bd5_row3_col3\" class=\"data row3 col3\" >0%</td>\n",
       "      <td id=\"T_26bd5_row3_col4\" class=\"data row3 col4\" >0%</td>\n",
       "    </tr>\n",
       "    <tr>\n",
       "      <th id=\"T_26bd5_level0_row4\" class=\"row_heading level0 row4\" >Undefined</th>\n",
       "      <td id=\"T_26bd5_row4_col0\" class=\"data row4 col0\" >83%</td>\n",
       "      <td id=\"T_26bd5_row4_col1\" class=\"data row4 col1\" >7%</td>\n",
       "      <td id=\"T_26bd5_row4_col2\" class=\"data row4 col2\" >10%</td>\n",
       "      <td id=\"T_26bd5_row4_col3\" class=\"data row4 col3\" >0%</td>\n",
       "      <td id=\"T_26bd5_row4_col4\" class=\"data row4 col4\" >0%</td>\n",
       "    </tr>\n",
       "    <tr>\n",
       "      <th id=\"T_26bd5_level0_row5\" class=\"row_heading level0 row5\" >Public Services</th>\n",
       "      <td id=\"T_26bd5_row5_col0\" class=\"data row5 col0\" >80%</td>\n",
       "      <td id=\"T_26bd5_row5_col1\" class=\"data row5 col1\" >20%</td>\n",
       "      <td id=\"T_26bd5_row5_col2\" class=\"data row5 col2\" >0%</td>\n",
       "      <td id=\"T_26bd5_row5_col3\" class=\"data row5 col3\" >0%</td>\n",
       "      <td id=\"T_26bd5_row5_col4\" class=\"data row5 col4\" >0%</td>\n",
       "    </tr>\n",
       "  </tbody>\n",
       "</table>\n"
      ],
      "text/plain": [
       "<pandas.io.formats.style.Styler at 0x7196c944bd60>"
      ]
     },
     "execution_count": 5,
     "metadata": {},
     "output_type": "execute_result"
    }
   ],
   "source": [
    "lprofile = land_use_report.n_samples_per_feature()\n",
    "disp.landuse_profile(lprofile[session_config.feature_variables[:-1]], nsamples=vaud_report.number_of_samples)"
   ]
  },
  {
   "cell_type": "markdown",
   "id": "4fa5eab8-05ad-4fd3-99aa-887f76ce1be0",
   "metadata": {
    "editable": true,
    "slideshow": {
     "slide_type": ""
    },
    "tags": []
   },
   "source": [
    "## Litter rate per feature"
   ]
  },
  {
   "cell_type": "code",
   "execution_count": 6,
   "id": "47278e91-bd6f-434e-a952-70c0ee02486c",
   "metadata": {
    "editable": true,
    "slideshow": {
     "slide_type": ""
    },
    "tags": []
   },
   "outputs": [
    {
     "data": {
      "text/html": [
       "<style type=\"text/css\">\n",
       "#T_81e38 caption {\n",
       "  caption-side: top;\n",
       "  font-size: 1em;\n",
       "  text-align: left;\n",
       "  margin-bottom: 10px;\n",
       "}\n",
       "#T_81e38 caption {\n",
       "  caption-side: top;\n",
       "  font-size: .9em;\n",
       "  text-align: left;\n",
       "  font-style: italic;\n",
       "  color: #000;\n",
       "}\n",
       "#T_81e38_row0_col0, #T_81e38_row1_col1, #T_81e38_row2_col1, #T_81e38_row3_col2, #T_81e38_row4_col1, #T_81e38_row5_col1 {\n",
       "  background-color: #FAE8E8;\n",
       "}\n",
       "</style>\n",
       "<table id=\"T_81e38\">\n",
       "  <caption><b>The land use profile and the observed average litter rates per feature.</b> The highlighted cell is the maximum value in the row. Each cell represents the average observed trash per meter in the land use category.</caption>\n",
       "  <thead>\n",
       "    <tr>\n",
       "      <th class=\"blank level0\" >&nbsp;</th>\n",
       "      <th id=\"T_81e38_level0_col0\" class=\"col_heading level0 col0\" >0 - 20%</th>\n",
       "      <th id=\"T_81e38_level0_col1\" class=\"col_heading level0 col1\" >20 - 40%</th>\n",
       "      <th id=\"T_81e38_level0_col2\" class=\"col_heading level0 col2\" >40 - 60%</th>\n",
       "      <th id=\"T_81e38_level0_col3\" class=\"col_heading level0 col3\" >60 - 80%</th>\n",
       "      <th id=\"T_81e38_level0_col4\" class=\"col_heading level0 col4\" >80 - 100%</th>\n",
       "    </tr>\n",
       "  </thead>\n",
       "  <tbody>\n",
       "    <tr>\n",
       "      <th id=\"T_81e38_level0_row0\" class=\"row_heading level0 row0\" >Orchards</th>\n",
       "      <td id=\"T_81e38_row0_col0\" class=\"data row0 col0\" >8.92</td>\n",
       "      <td id=\"T_81e38_row0_col1\" class=\"data row0 col1\" >0.00</td>\n",
       "      <td id=\"T_81e38_row0_col2\" class=\"data row0 col2\" >0.00</td>\n",
       "      <td id=\"T_81e38_row0_col3\" class=\"data row0 col3\" >0.00</td>\n",
       "      <td id=\"T_81e38_row0_col4\" class=\"data row0 col4\" >0.00</td>\n",
       "    </tr>\n",
       "    <tr>\n",
       "      <th id=\"T_81e38_level0_row1\" class=\"row_heading level0 row1\" >Vineyards</th>\n",
       "      <td id=\"T_81e38_row1_col0\" class=\"data row1 col0\" >8.95</td>\n",
       "      <td id=\"T_81e38_row1_col1\" class=\"data row1 col1\" >9.75</td>\n",
       "      <td id=\"T_81e38_row1_col2\" class=\"data row1 col2\" >5.01</td>\n",
       "      <td id=\"T_81e38_row1_col3\" class=\"data row1 col3\" >0.00</td>\n",
       "      <td id=\"T_81e38_row1_col4\" class=\"data row1 col4\" >0.00</td>\n",
       "    </tr>\n",
       "    <tr>\n",
       "      <th id=\"T_81e38_level0_row2\" class=\"row_heading level0 row2\" >Buildings</th>\n",
       "      <td id=\"T_81e38_row2_col0\" class=\"data row2 col0\" >4.61</td>\n",
       "      <td id=\"T_81e38_row2_col1\" class=\"data row2 col1\" >19.01</td>\n",
       "      <td id=\"T_81e38_row2_col2\" class=\"data row2 col2\" >5.35</td>\n",
       "      <td id=\"T_81e38_row2_col3\" class=\"data row2 col3\" >5.56</td>\n",
       "      <td id=\"T_81e38_row2_col4\" class=\"data row2 col4\" >9.60</td>\n",
       "    </tr>\n",
       "    <tr>\n",
       "      <th id=\"T_81e38_level0_row3\" class=\"row_heading level0 row3\" >Forest</th>\n",
       "      <td id=\"T_81e38_row3_col0\" class=\"data row3 col0\" >8.51</td>\n",
       "      <td id=\"T_81e38_row3_col1\" class=\"data row3 col1\" >4.26</td>\n",
       "      <td id=\"T_81e38_row3_col2\" class=\"data row3 col2\" >23.70</td>\n",
       "      <td id=\"T_81e38_row3_col3\" class=\"data row3 col3\" >0.00</td>\n",
       "      <td id=\"T_81e38_row3_col4\" class=\"data row3 col4\" >0.00</td>\n",
       "    </tr>\n",
       "    <tr>\n",
       "      <th id=\"T_81e38_level0_row4\" class=\"row_heading level0 row4\" >Undefined</th>\n",
       "      <td id=\"T_81e38_row4_col0\" class=\"data row4 col0\" >8.63</td>\n",
       "      <td id=\"T_81e38_row4_col1\" class=\"data row4 col1\" >18.25</td>\n",
       "      <td id=\"T_81e38_row4_col2\" class=\"data row4 col2\" >4.61</td>\n",
       "      <td id=\"T_81e38_row4_col3\" class=\"data row4 col3\" >0.00</td>\n",
       "      <td id=\"T_81e38_row4_col4\" class=\"data row4 col4\" >0.00</td>\n",
       "    </tr>\n",
       "    <tr>\n",
       "      <th id=\"T_81e38_level0_row5\" class=\"row_heading level0 row5\" >Public Services</th>\n",
       "      <td id=\"T_81e38_row5_col0\" class=\"data row5 col0\" >7.85</td>\n",
       "      <td id=\"T_81e38_row5_col1\" class=\"data row5 col1\" >13.14</td>\n",
       "      <td id=\"T_81e38_row5_col2\" class=\"data row5 col2\" >0.00</td>\n",
       "      <td id=\"T_81e38_row5_col3\" class=\"data row5 col3\" >0.00</td>\n",
       "      <td id=\"T_81e38_row5_col4\" class=\"data row5 col4\" >0.00</td>\n",
       "    </tr>\n",
       "  </tbody>\n",
       "</table>\n"
      ],
      "text/plain": [
       "<pandas.io.formats.style.Styler at 0x7196f7b360d0>"
      ]
     },
     "execution_count": 6,
     "metadata": {},
     "output_type": "execute_result"
    }
   ],
   "source": [
    "rpf = land_use_report.rate_per_feature()\n",
    "disp.litter_rates_per_feature(rpf.loc[session_config.feature_variables[:-1]])"
   ]
  },
  {
   "cell_type": "markdown",
   "id": "8f7160c3-9e43-4768-b63d-f989f209fd7f",
   "metadata": {
    "editable": true,
    "slideshow": {
     "slide_type": ""
    },
    "tags": []
   },
   "source": [
    "## Streets profile"
   ]
  },
  {
   "cell_type": "code",
   "execution_count": 7,
   "id": "cea80c34-0afc-4191-8aa9-3135cf20335d",
   "metadata": {
    "editable": true,
    "slideshow": {
     "slide_type": ""
    },
    "tags": []
   },
   "outputs": [
    {
     "data": {
      "text/html": [
       "<style type=\"text/css\">\n",
       "#T_f0f03 caption {\n",
       "  caption-side: top;\n",
       "  font-size: 1em;\n",
       "  text-align: left;\n",
       "  margin-bottom: 10px;\n",
       "}\n",
       "#T_f0f03 caption {\n",
       "  caption-side: top;\n",
       "  font-size: .9em;\n",
       "  text-align: left;\n",
       "  font-style: italic;\n",
       "  color: #000;\n",
       "}\n",
       "#T_f0f03_row0_col1 {\n",
       "  background-color: #FAE8E8;\n",
       "}\n",
       "</style>\n",
       "<table id=\"T_f0f03\">\n",
       "  <caption><b>The proportion of samples by density of streets.</b> The distribtuion of samples by the density of streets. The length of the streets in each buffer is scaled from zero to one.The highlighted cell is the % of samples at the denisty given by the column name.</caption>\n",
       "  <thead>\n",
       "    <tr>\n",
       "      <th class=\"blank level0\" >&nbsp;</th>\n",
       "      <th id=\"T_f0f03_level0_col0\" class=\"col_heading level0 col0\" >1</th>\n",
       "      <th id=\"T_f0f03_level0_col1\" class=\"col_heading level0 col1\" >2</th>\n",
       "      <th id=\"T_f0f03_level0_col2\" class=\"col_heading level0 col2\" >3</th>\n",
       "      <th id=\"T_f0f03_level0_col3\" class=\"col_heading level0 col3\" >4</th>\n",
       "      <th id=\"T_f0f03_level0_col4\" class=\"col_heading level0 col4\" >5</th>\n",
       "    </tr>\n",
       "  </thead>\n",
       "  <tbody>\n",
       "    <tr>\n",
       "      <th id=\"T_f0f03_level0_row0\" class=\"row_heading level0 row0\" >streets</th>\n",
       "      <td id=\"T_f0f03_row0_col0\" class=\"data row0 col0\" >18%</td>\n",
       "      <td id=\"T_f0f03_row0_col1\" class=\"data row0 col1\" >64%</td>\n",
       "      <td id=\"T_f0f03_row0_col2\" class=\"data row0 col2\" >18%</td>\n",
       "      <td id=\"T_f0f03_row0_col3\" class=\"data row0 col3\" >0%</td>\n",
       "      <td id=\"T_f0f03_row0_col4\" class=\"data row0 col4\" >0%</td>\n",
       "    </tr>\n",
       "  </tbody>\n",
       "</table>\n"
      ],
      "text/plain": [
       "<pandas.io.formats.style.Styler at 0x7196f7b36d00>"
      ]
     },
     "execution_count": 7,
     "metadata": {},
     "output_type": "execute_result"
    }
   ],
   "source": [
    "disp.street_profile(lprofile[['streets']].T, session_language='en', nsamples=vaud_report.number_of_samples)"
   ]
  },
  {
   "cell_type": "code",
   "execution_count": 8,
   "id": "7d7e71b3-229f-4031-abb7-f328d475ea89",
   "metadata": {
    "editable": true,
    "slideshow": {
     "slide_type": ""
    },
    "tags": []
   },
   "outputs": [
    {
     "data": {
      "text/html": [
       "<style type=\"text/css\">\n",
       "#T_5d1c2 caption {\n",
       "  caption-side: top;\n",
       "  font-size: 1em;\n",
       "  text-align: left;\n",
       "  margin-bottom: 10px;\n",
       "}\n",
       "#T_5d1c2 caption {\n",
       "  caption-side: top;\n",
       "  font-size: .9em;\n",
       "  text-align: left;\n",
       "  font-style: italic;\n",
       "  color: #000;\n",
       "}\n",
       "#T_5d1c2_row0_col2 {\n",
       "  background-color: #FAE8E8;\n",
       "}\n",
       "</style>\n",
       "<table id=\"T_5d1c2\">\n",
       "  <caption><b>The average number of objects per meter of street in the buffer.</b> The average number of objects per meter of street in the buffer. The highlighted cell is the maximum value in the row.</caption>\n",
       "  <thead>\n",
       "    <tr>\n",
       "      <th class=\"blank level0\" >&nbsp;</th>\n",
       "      <th id=\"T_5d1c2_level0_col0\" class=\"col_heading level0 col0\" >1</th>\n",
       "      <th id=\"T_5d1c2_level0_col1\" class=\"col_heading level0 col1\" >2</th>\n",
       "      <th id=\"T_5d1c2_level0_col2\" class=\"col_heading level0 col2\" >3</th>\n",
       "      <th id=\"T_5d1c2_level0_col3\" class=\"col_heading level0 col3\" >4</th>\n",
       "      <th id=\"T_5d1c2_level0_col4\" class=\"col_heading level0 col4\" >5</th>\n",
       "    </tr>\n",
       "  </thead>\n",
       "  <tbody>\n",
       "    <tr>\n",
       "      <th id=\"T_5d1c2_level0_row0\" class=\"row_heading level0 row0\" >streets</th>\n",
       "      <td id=\"T_5d1c2_row0_col0\" class=\"data row0 col0\" >11.50</td>\n",
       "      <td id=\"T_5d1c2_row0_col1\" class=\"data row0 col1\" >7.27</td>\n",
       "      <td id=\"T_5d1c2_row0_col2\" class=\"data row0 col2\" >12.14</td>\n",
       "      <td id=\"T_5d1c2_row0_col3\" class=\"data row0 col3\" >0.00</td>\n",
       "      <td id=\"T_5d1c2_row0_col4\" class=\"data row0 col4\" >0.00</td>\n",
       "    </tr>\n",
       "  </tbody>\n",
       "</table>\n"
      ],
      "text/plain": [
       "<pandas.io.formats.style.Styler at 0x7196c944fb50>"
      ]
     },
     "execution_count": 8,
     "metadata": {},
     "output_type": "execute_result"
    }
   ],
   "source": [
    "disp.street_profile(rpf.loc[['streets']], session_language='en', caption='rate')"
   ]
  },
  {
   "cell_type": "code",
   "execution_count": 9,
   "id": "dd733cf1-e618-42eb-9195-8c0c0cc1a1f0",
   "metadata": {
    "editable": true,
    "slideshow": {
     "slide_type": ""
    },
    "tags": []
   },
   "outputs": [],
   "source": [
    "df_l = land_use_report.df_cat"
   ]
  },
  {
   "cell_type": "code",
   "execution_count": 10,
   "id": "a522fb7a-c3e2-470a-b446-af6077914b35",
   "metadata": {
    "editable": true,
    "slideshow": {
     "slide_type": ""
    },
    "tags": []
   },
   "outputs": [],
   "source": [
    "the_grid = np.arange(0, 50, step=.2)\n",
    "my_grids = pd.DataFrame(index=the_grid)\n",
    "codes = vaud_most_common.sort_values('quantity', ascending=False)[:10].code"
   ]
  },
  {
   "cell_type": "code",
   "execution_count": 11,
   "id": "d8bb1c27-7ec5-41e3-8855-2e585422d728",
   "metadata": {
    "editable": true,
    "slideshow": {
     "slide_type": ""
    },
    "tags": []
   },
   "outputs": [
    {
     "ename": "SyntaxError",
     "evalue": "invalid syntax (3930741335.py, line 1)",
     "output_type": "error",
     "traceback": [
      "\u001b[0;36m  Cell \u001b[0;32mIn[11], line 1\u001b[0;36m\u001b[0m\n\u001b[0;31m    my_grids[\"G27\"] =\u001b[0m\n\u001b[0m                      ^\u001b[0m\n\u001b[0;31mSyntaxError\u001b[0m\u001b[0;31m:\u001b[0m invalid syntax\n"
     ]
    }
   ],
   "source": [
    "my_grids[\"G27\"] = "
   ]
  },
  {
   "cell_type": "code",
   "execution_count": null,
   "id": "2d076bd3-2eeb-4658-a45f-27b8fc8da5ad",
   "metadata": {
    "editable": true,
    "slideshow": {
     "slide_type": ""
    },
    "tags": []
   },
   "outputs": [],
   "source": [
    "def calculate_exceedance_matrix(pcs_values, index_range, categories):\n",
    "    # Initialize an array to store results for the categories\n",
    "    result_array = np.zeros((len(index_range), len(categories)))\n",
    "    \n",
    "    for i, category_pcs_values in enumerate(pcs_values):\n",
    "        # Total samples for the current category\n",
    "        total_samples = len(category_pcs_values)\n",
    "        if total_samples == 0:\n",
    "            # Handle case with no samples to avoid division by zero\n",
    "            continue\n",
    "        # Use broadcasting to compare pcs_values against all index values at once\n",
    "        exceedance_matrix = category_pcs_values[:, np.newaxis] > index_range\n",
    "        # Sum over rows to count the exceedances for each index value and normalize\n",
    "        exceedance_counts = exceedance_matrix.sum(axis=0) / total_samples\n",
    "        # Store in the result array\n",
    "        result_array[:, i] = exceedance_counts\n",
    "    \n",
    "    return result_array\n",
    "\n",
    "# Define the index range and categories\n",
    "index_range = np.arange(0, 50.1, 0.2)\n",
    "categories = range(1, 6)\n",
    "\n",
    "# Prepare an array of pcs/m values for each category of 'buildings'\n",
    "category_pcs_values = [df_l[df_l['buildings'] == i]['pcs/m'].values for i in range(1, 6)]\n",
    "\n",
    "# Example usage with the new function signature\n",
    "buildings_matrix = calculate_exceedance_matrix(category_pcs_values, index_range, categories)\n",
    "# buildings_matrix[:5, :]  # Show the first 5 rows\n",
    "\n",
    "\n",
    "# # To demonstrate, let's manually prepare an array of pcs/m values for each category of 'buildings'\n",
    "# category_pcs_values = [df_l[df_l['buildings'] == i]['pcs/m'].values for i in range(1, 6)]\n",
    "\n",
    "# buildings_matrix = feature_rate_matrix(category_pcs_values)\n",
    "# # buildings_matrix[:5, :]  # Show the first 5 rows\n"
   ]
  },
  {
   "cell_type": "code",
   "execution_count": null,
   "id": "ae3a95b3-9fe2-469c-aad3-07fce0388b75",
   "metadata": {
    "editable": true,
    "slideshow": {
     "slide_type": ""
    },
    "tags": []
   },
   "outputs": [],
   "source": [
    "def create_prior_matrix(index_range, categories, threshold=10):\n",
    "    # Initialize the matrix\n",
    "    prior_matrix = np.zeros((len(index_range), len(categories)))\n",
    "    \n",
    "    # Define the exponential decay rates\n",
    "    decay_rate_pre_threshold = 0.05\n",
    "    decay_rate_post_threshold = 0.5\n",
    "    \n",
    "    # Fill the matrix with the prior probabilities\n",
    "    for i, x in enumerate(index_range):\n",
    "        if x <= threshold:\n",
    "            decay_rate = decay_rate_pre_threshold\n",
    "        else:\n",
    "            decay_rate = decay_rate_post_threshold\n",
    "        # Exponential decay formula\n",
    "        prior = np.exp(-decay_rate * (x - threshold)) if x > threshold else np.exp(-decay_rate * x)\n",
    "        # Assign this value to all categories for this index\n",
    "        prior_matrix[i, :] = prior\n",
    "    \n",
    "    return prior_matrix\n",
    "\n",
    "# Example usage with the index_range and categories defined earlier\n",
    "prior_matrix = create_prior_matrix(index_range, categories)\n",
    "prior_matrix[15:25, :]  # Show the first 5 rows\n"
   ]
  },
  {
   "cell_type": "code",
   "execution_count": null,
   "id": "eb97f6b2-0c65-4670-88f6-532343218e49",
   "metadata": {
    "editable": true,
    "slideshow": {
     "slide_type": ""
    },
    "tags": []
   },
   "outputs": [],
   "source": [
    "def create_jeffreys_prior_matrix(index_range, categories, epsilon=0.01):\n",
    "    # Initialize the matrix\n",
    "    jeffreys_prior_matrix = np.zeros((len(index_range), len(categories)))\n",
    "    \n",
    "    # Calculate Jeffreys prior values using the modified formula\n",
    "    for i, x in enumerate(index_range):\n",
    "        prior = 1 / (x + epsilon)  # Adding epsilon to avoid division by zero\n",
    "        # Assign this value to all categories for this index\n",
    "        jeffreys_prior_matrix[i, :] = prior\n",
    "    \n",
    "    return jeffreys_prior_matrix\n",
    "\n",
    "prior = create_jeffreys_prior_matrix(index_range, categories)\n",
    "f = pd.DataFrame(prior, columns=categories, index=index_range)"
   ]
  },
  {
   "cell_type": "code",
   "execution_count": null,
   "id": "e37fa3a9-5476-4953-8ae7-41e05f2b06a2",
   "metadata": {
    "editable": true,
    "slideshow": {
     "slide_type": ""
    },
    "tags": []
   },
   "outputs": [],
   "source": [
    "from scipy.stats import weibull_min\n",
    "from scipy.optimize import root_scalar\n",
    "\n",
    "# Given percentiles and their values\n",
    "p75 = 8.92\n",
    "p95 = 25\n",
    "scale_max = 50  # The range to model\n",
    "\n",
    "# Function to estimate Weibull parameters based on percentiles\n",
    "def estimate_weibull_params(p75, p95):\n",
    "    # Function to find k given p75 and p95\n",
    "    def equations(k):\n",
    "        cdf75 = weibull_min.cdf(p75, k, scale=p75 / (np.log(4)))  # 75th percentile\n",
    "        cdf95 = weibull_min.cdf(p95, k, scale=p75 / (np.log(4)))  # 95th percentile\n",
    "        return cdf75 - 0.75, cdf95 - 0.95\n",
    "\n",
    "    # Solve for k that matches the 75th percentile to 0.75\n",
    "    k_result = root_scalar(lambda k: equations(k)[0], bracket=[0.1, 10], method='brentq')\n",
    "    k = k_result.root\n",
    "    scale = p75 / weibull_min.ppf(0.75, k)\n",
    "\n",
    "    return k, scale\n",
    "\n",
    "# Calculate parameters\n",
    "k, scale = estimate_weibull_params(p75, p95)\n",
    "\n",
    "# Create the prior grid\n",
    "index_range = np.arange(0, scale_max + 0.1, 0.2)\n",
    "prior_pdf = weibull_min.pdf(index_range, k, scale=scale)\n",
    "\n",
    "# Normalize the prior grid\n",
    "prior_pdf /= prior_pdf.max()\n",
    "\n",
    "prior_pdf.shape\n"
   ]
  },
  {
   "cell_type": "code",
   "execution_count": null,
   "id": "9e515474-aa09-4779-ab6b-e85026c8839c",
   "metadata": {
    "editable": true,
    "slideshow": {
     "slide_type": ""
    },
    "tags": []
   },
   "outputs": [],
   "source": [
    "buildings_matrix[:, 0]"
   ]
  },
  {
   "cell_type": "code",
   "execution_count": null,
   "id": "92e4242f-972f-421a-8e20-8bc8d03f5a35",
   "metadata": {
    "editable": true,
    "slideshow": {
     "slide_type": ""
    },
    "tags": []
   },
   "outputs": [],
   "source": [
    "fig, ax = plt.subplots()\n",
    "\n",
    "sns.scatterplot(x=index_range, y = prior_pdf, ax=ax)\n",
    "sns.scatterplot(x=index_range, y = buildings_matrix[:, 0], ax=ax)\n",
    "\n",
    "plt.show()"
   ]
  },
  {
   "cell_type": "code",
   "execution_count": null,
   "id": "8850b60b-fa3d-4b2d-bf56-1b4610dad068",
   "metadata": {
    "editable": true,
    "slideshow": {
     "slide_type": ""
    },
    "tags": []
   },
   "outputs": [],
   "source": [
    "ogonnaz = intersects[intersects.location == 'oyonne']\n",
    "intersects.groupby([\"size\"], as_index=False).agg({'pcs/m': 'mean', 'sample_id': 'nunique'})"
   ]
  },
  {
   "cell_type": "code",
   "execution_count": null,
   "id": "7cfe6455-c45c-447d-b974-0d6022532a08",
   "metadata": {
    "editable": true,
    "slideshow": {
     "slide_type": ""
    },
    "tags": []
   },
   "outputs": [],
   "source": [
    "intersects.groupby([\"class\"], as_index=False).agg({'pcs/m': 'mean', 'sample_id': 'nunique'})"
   ]
  },
  {
   "cell_type": "code",
   "execution_count": null,
   "id": "0bd24507-a5bd-43aa-9b9c-5667c39caef5",
   "metadata": {
    "editable": true,
    "slideshow": {
     "slide_type": ""
    },
    "tags": []
   },
   "outputs": [],
   "source": [
    "prior_pdf"
   ]
  },
  {
   "cell_type": "code",
   "execution_count": null,
   "id": "7a56a2ec-dc94-4f00-8e78-bc47a5bef388",
   "metadata": {
    "editable": true,
    "slideshow": {
     "slide_type": ""
    },
    "tags": []
   },
   "outputs": [],
   "source": [
    "gfx =land_use_report.df_cat\n",
    "gfx[['sample_id', 'pcs/m'"
   ]
  },
  {
   "cell_type": "code",
   "execution_count": null,
   "id": "8751c935-ef5d-4854-9d3b-31f0667b85cb",
   "metadata": {
    "editable": true,
    "slideshow": {
     "slide_type": ""
    },
    "tags": []
   },
   "outputs": [],
   "source": [
    "len(gfx)"
   ]
  },
  {
   "cell_type": "code",
   "execution_count": null,
   "id": "4b11a821-9ff9-4b61-8299-ccf7cbbf74bd",
   "metadata": {
    "editable": true,
    "slideshow": {
     "slide_type": ""
    },
    "tags": []
   },
   "outputs": [],
   "source": [
    "fig, ax = plt.subplots()\n",
    "\n",
    "sns.boxplot(data=intersects, x='size', y='pcs/m')"
   ]
  },
  {
   "cell_type": "code",
   "execution_count": null,
   "id": "cb620f3a-63a8-4010-ad8f-e048ede015b2",
   "metadata": {
    "editable": true,
    "slideshow": {
     "slide_type": ""
    },
    "tags": []
   },
   "outputs": [],
   "source": [
    "sns.boxplot(data=intersects, x='class', y='pcs/m')"
   ]
  },
  {
   "cell_type": "code",
   "execution_count": null,
   "id": "10dd2d1a-ad0c-4040-8dfa-24704295e2c9",
   "metadata": {
    "editable": true,
    "slideshow": {
     "slide_type": ""
    },
    "tags": []
   },
   "outputs": [],
   "source": [
    "intersects.groupby(['river_name', 'size', 'class'], as_index=False).agg({\"pcs/m\":\"mean\", \"sample_id\":\"nunique\", \"distance\":\"mean\"})"
   ]
  },
  {
   "cell_type": "code",
   "execution_count": null,
   "id": "a250a03b-4a79-4f53-9bd6-c800251bfb4b",
   "metadata": {
    "editable": true,
    "slideshow": {
     "slide_type": ""
    },
    "tags": []
   },
   "outputs": [],
   "source": []
  },
  {
   "cell_type": "code",
   "execution_count": null,
   "id": "ffeca195-65da-4eb2-955c-e17006f51922",
   "metadata": {
    "editable": true,
    "slideshow": {
     "slide_type": ""
    },
    "tags": []
   },
   "outputs": [],
   "source": [
    "fig, ax = plt.subplots()\n",
    "\n",
    "sns.scatterplot(data=intersects, x='distance', y='pcs/m', palette='tab20', hue='size')\n",
    "\n",
    "plt.show()"
   ]
  },
  {
   "cell_type": "code",
   "execution_count": null,
   "id": "4ceff317-fd21-4f21-b8fc-9acb0d1fccd2",
   "metadata": {
    "editable": true,
    "slideshow": {
     "slide_type": ""
    },
    "tags": []
   },
   "outputs": [],
   "source": []
  }
 ],
 "metadata": {
  "kernelspec": {
   "display_name": "Python 3 (ipykernel)",
   "language": "python",
   "name": "python3"
  },
  "language_info": {
   "codemirror_mode": {
    "name": "ipython",
    "version": 3
   },
   "file_extension": ".py",
   "mimetype": "text/x-python",
   "name": "python",
   "nbconvert_exporter": "python",
   "pygments_lexer": "ipython3",
   "version": "3.11.8"
  }
 },
 "nbformat": 4,
 "nbformat_minor": 5
}
