{
 "cells": [
  {
   "cell_type": "code",
   "execution_count": 1,
   "id": "64c16819-72da-4b47-a3aa-988d3f5a8203",
   "metadata": {},
   "outputs": [],
   "source": [
    "import pandas as pd\n",
    "import numpy as np"
   ]
  },
  {
   "cell_type": "markdown",
   "id": "7bca0862-a1e5-4fd3-ae17-65ac2fd7cd0a",
   "metadata": {},
   "source": [
    "# Aggregating all previous data\n",
    "\n",
    "## Notes\n",
    "\n",
    "Taking another look at the data prior to writing the software. This also defines the methods of collecting the data from the app-dev standpoint. For the moment we can use the contents of <data/from_prev/u_all_data.csv> as a proposed data model."
   ]
  },
  {
   "cell_type": "markdown",
   "id": "a3441f6a-f65b-4a26-9af0-59cae33e9a29",
   "metadata": {},
   "source": [
    "### quantity"
   ]
  },
  {
   "cell_type": "code",
   "execution_count": 2,
   "id": "c26b3b28-810e-4c45-aa5b-3defe8b201ef",
   "metadata": {},
   "outputs": [],
   "source": [
    "a = pd.read_csv(\"data/from_prev/agg_results_with_land_use_2015.csv\")\n",
    "not_these = [\n",
    "    'sihlsee_einsiedeln_schilligerllacherl',\n",
    "    'schiffenensee_duedingen_hirschij',\n",
    "    'lac-leman-hammerdirt'\n",
    "]\n",
    "    \n",
    "a = a[~a.location.isin(not_these)].copy()\n",
    "a_cols = [\n",
    "    'loc_date',\n",
    "    'date',\n",
    "    'water_name_slug',\n",
    "    'location',\n",
    "    'code',\n",
    "    'pcs_m',\n",
    "    'quantity',\n",
    "    'river_bassin',\n",
    "    'length', \n",
    "    'groupname',\n",
    "    'city']\n",
    "\n",
    "a_c = a[a_cols].copy()"
   ]
  },
  {
   "cell_type": "code",
   "execution_count": 3,
   "id": "da1535f2-a84e-4a1c-8af4-869cf8963549",
   "metadata": {},
   "outputs": [
    {
     "data": {
      "text/plain": [
       "(192380, 0.0, 1432, 228, 232, 54)"
      ]
     },
     "execution_count": 3,
     "metadata": {},
     "output_type": "execute_result"
    }
   ],
   "source": [
    "def collect_vitals(data):\n",
    "    total = data.quantity.sum()\n",
    "    median = data.pcs_m.median()\n",
    "    samples = data.loc_date.nunique()\n",
    "    ncodes = data.code.nunique()\n",
    "    nlocations = data.location.nunique()\n",
    "    nbodies = data.water_name_slug.nunique()\n",
    "    return total, median, samples, ncodes, nlocations, nbodies\n",
    "\n",
    "b = pd.read_csv(\"data/from_prev/u_all_data.csv\")\n",
    "b = b[~b.loc_date.isin(not_these)].copy()\n",
    "b_vitals = collect_vitals(b)\n",
    "b_vitals"
   ]
  },
  {
   "cell_type": "code",
   "execution_count": 4,
   "id": "a9c4aa42-e628-4025-9731-9a6790268155",
   "metadata": {},
   "outputs": [
    {
     "data": {
      "text/plain": [
       "(198824, 0.0, 1449, 184, 252, 61)"
      ]
     },
     "execution_count": 4,
     "metadata": {},
     "output_type": "execute_result"
    }
   ],
   "source": [
    "a_c_vitals = collect_vitals(a_c)\n",
    "a_c_vitals"
   ]
  },
  {
   "cell_type": "code",
   "execution_count": 5,
   "id": "a76d6887-7059-4fc4-bc65-da55a7a4aa0c",
   "metadata": {},
   "outputs": [],
   "source": [
    "def find_missing(more_than, less_than):\n",
    "    return np.setdiff1d(more_than, less_than)\n",
    "\n",
    "missing = find_missing(a_c.loc_date.unique(), b.loc_date.unique())\n",
    "matched_a_b = a_c[~a_c.loc_date.isin(missing)].copy()\n",
    "diff_a_b = a_c[a_c.loc_date.isin(missing)]"
   ]
  },
  {
   "cell_type": "code",
   "execution_count": 6,
   "id": "d543912e-b0a8-4ad4-86fe-85eddf67c51b",
   "metadata": {},
   "outputs": [
    {
     "data": {
      "text/plain": [
       "(191048, 0.0, 1429, 184, 232, 54)"
      ]
     },
     "execution_count": 6,
     "metadata": {},
     "output_type": "execute_result"
    }
   ],
   "source": [
    "matched_vitals = collect_vitals(matched_a_b)\n",
    "matched_vitals"
   ]
  },
  {
   "cell_type": "code",
   "execution_count": 7,
   "id": "fa67202e-04f5-4dba-9926-6e1219a5ad31",
   "metadata": {},
   "outputs": [],
   "source": [
    "missing_m = find_missing(b.loc_date.unique(), matched_a_b.loc_date.unique())\n",
    "missing_matched = b[b.loc_date.isin(missing_m)].copy()\n",
    "matched_b_vitals = collect_vitals(missing_matched)"
   ]
  },
  {
   "cell_type": "code",
   "execution_count": 8,
   "id": "9f5ea201-5fb2-456d-ae5e-2c3723d73ec4",
   "metadata": {},
   "outputs": [
    {
     "data": {
      "text/plain": [
       "0"
      ]
     },
     "execution_count": 8,
     "metadata": {},
     "output_type": "execute_result"
    }
   ],
   "source": [
    "matched_vitals[0] + matched_b_vitals[0] - b_vitals[0]"
   ]
  },
  {
   "cell_type": "markdown",
   "id": "75748761-f120-4b80-9d59-8159202042de",
   "metadata": {},
   "source": [
    "### codes"
   ]
  },
  {
   "cell_type": "code",
   "execution_count": 9,
   "id": "ace46be2-036b-4206-af2c-667ef724b23e",
   "metadata": {},
   "outputs": [],
   "source": [
    "dfCodes = pd.read_csv(\"data/end_process/codes.csv\")\n",
    "b_all_match = b[~b.loc_date.isin(missing_m)]\n",
    "b_a_m_vitals = collect_vitals(b_all_match)\n",
    "a_codes = matched_a_b.code.unique()\n",
    "b_codes = b_all_match.code.unique()\n",
    "\n",
    "# these are codes from the alpes and other codes established after 2020\n",
    "# these codes are in b and not in a\n",
    "not_in_a = find_missing(b_codes, a_codes)"
   ]
  },
  {
   "cell_type": "code",
   "execution_count": 10,
   "id": "d14ad35c-9d42-4fc2-bfa9-12fa529fb63c",
   "metadata": {},
   "outputs": [],
   "source": [
    "# these codes are in a not in b\n",
    "# these are the aggregated codes for Gfoam, Gfrags and Gcaps\n",
    "not_in_b = find_missing(a_codes, b_codes)"
   ]
  },
  {
   "cell_type": "code",
   "execution_count": 11,
   "id": "086cbc68-2525-4872-b87a-a5d459f5fa52",
   "metadata": {},
   "outputs": [
    {
     "data": {
      "text/plain": [
       "(191048, 0.0, 1429, 176, 232, 54)"
      ]
     },
     "execution_count": 11,
     "metadata": {},
     "output_type": "execute_result"
    }
   ],
   "source": [
    "b_a_m_vitals"
   ]
  },
  {
   "cell_type": "code",
   "execution_count": 12,
   "id": "90e45f77-5810-466d-a5bb-ff0cb69baed8",
   "metadata": {},
   "outputs": [
    {
     "data": {
      "text/plain": [
       "(191048, 0.0, 1429, 184, 232, 54)"
      ]
     },
     "execution_count": 12,
     "metadata": {},
     "output_type": "execute_result"
    }
   ],
   "source": [
    "matched_vitals"
   ]
  },
  {
   "cell_type": "code",
   "execution_count": 13,
   "id": "95e3ed6e-d9d3-4aa9-829c-bc24942c2523",
   "metadata": {},
   "outputs": [],
   "source": [
    "columns = ['code', 'material', 'description', 'source', 'parent_code', 'single_use', 'groupname']"
   ]
  },
  {
   "cell_type": "code",
   "execution_count": null,
   "id": "00372f89-82e5-49d6-9d63-f9f32732979d",
   "metadata": {},
   "outputs": [],
   "source": []
  },
  {
   "cell_type": "code",
   "execution_count": 14,
   "id": "c8eecb37-7a41-46cc-9ebb-5706290cdc9d",
   "metadata": {},
   "outputs": [],
   "source": [
    "dfCodes = dfCodes[columns].copy()\n",
    "dfCodes = dfCodes.set_index(\"code\", drop=True)"
   ]
  },
  {
   "cell_type": "code",
   "execution_count": 15,
   "id": "7ec9409e-0a09-483d-be82-9700ff59695f",
   "metadata": {},
   "outputs": [
    {
     "data": {
      "text/plain": [
       "array(['G21', 'G23', 'G24', 'G75', 'G76', 'G78', 'G79', 'G80', 'G81',\n",
       "       'G82', 'G83'], dtype=object)"
      ]
     },
     "execution_count": 15,
     "metadata": {},
     "output_type": "execute_result"
    }
   ],
   "source": [
    "not_in_b"
   ]
  },
  {
   "cell_type": "code",
   "execution_count": 16,
   "id": "0e4bb170-b3a8-4239-af08-0314695ac4dd",
   "metadata": {},
   "outputs": [
    {
     "data": {
      "text/plain": [
       "array(['Gcaps', 'Gfoam', 'Gfrags'], dtype=object)"
      ]
     },
     "execution_count": 16,
     "metadata": {},
     "output_type": "execute_result"
    }
   ],
   "source": [
    "not_in_a"
   ]
  },
  {
   "cell_type": "code",
   "execution_count": 17,
   "id": "81cad56c-f0ee-44b3-852a-b7383c58ff0f",
   "metadata": {},
   "outputs": [
    {
     "data": {
      "text/html": [
       "<div>\n",
       "<style scoped>\n",
       "    .dataframe tbody tr th:only-of-type {\n",
       "        vertical-align: middle;\n",
       "    }\n",
       "\n",
       "    .dataframe tbody tr th {\n",
       "        vertical-align: top;\n",
       "    }\n",
       "\n",
       "    .dataframe thead th {\n",
       "        text-align: right;\n",
       "    }\n",
       "</style>\n",
       "<table border=\"1\" class=\"dataframe\">\n",
       "  <thead>\n",
       "    <tr style=\"text-align: right;\">\n",
       "      <th></th>\n",
       "      <th>material</th>\n",
       "      <th>description</th>\n",
       "      <th>source</th>\n",
       "      <th>parent_code</th>\n",
       "      <th>single_use</th>\n",
       "      <th>groupname</th>\n",
       "    </tr>\n",
       "    <tr>\n",
       "      <th>code</th>\n",
       "      <th></th>\n",
       "      <th></th>\n",
       "      <th></th>\n",
       "      <th></th>\n",
       "      <th></th>\n",
       "      <th></th>\n",
       "    </tr>\n",
       "  </thead>\n",
       "  <tbody>\n",
       "    <tr>\n",
       "      <th>G708</th>\n",
       "      <td>Metal</td>\n",
       "      <td>Batons de ski</td>\n",
       "      <td>Usagers</td>\n",
       "      <td>G199</td>\n",
       "      <td>False</td>\n",
       "      <td>recreation</td>\n",
       "    </tr>\n",
       "    <tr>\n",
       "      <th>G212</th>\n",
       "      <td>Chemicals</td>\n",
       "      <td>Oil nodules or coal fragments -- not from a BBQ</td>\n",
       "      <td>Undefined</td>\n",
       "      <td>Parent code</td>\n",
       "      <td>False</td>\n",
       "      <td>unclassified</td>\n",
       "    </tr>\n",
       "    <tr>\n",
       "      <th>G213</th>\n",
       "      <td>Chemicals</td>\n",
       "      <td>Paraffin wax</td>\n",
       "      <td>Undefined</td>\n",
       "      <td>Parent code</td>\n",
       "      <td>False</td>\n",
       "      <td>recreation</td>\n",
       "    </tr>\n",
       "    <tr>\n",
       "      <th>G214</th>\n",
       "      <td>Chemicals</td>\n",
       "      <td>Oil/tar</td>\n",
       "      <td>Construction</td>\n",
       "      <td>Parent code</td>\n",
       "      <td>False</td>\n",
       "      <td>infrastructure</td>\n",
       "    </tr>\n",
       "    <tr>\n",
       "      <th>G135</th>\n",
       "      <td>Cloth</td>\n",
       "      <td>Clothes, footware, headware, gloves</td>\n",
       "      <td>Clothing</td>\n",
       "      <td>Parent code</td>\n",
       "      <td>False</td>\n",
       "      <td>personal items</td>\n",
       "    </tr>\n",
       "  </tbody>\n",
       "</table>\n",
       "</div>"
      ],
      "text/plain": [
       "       material                                      description  \\\n",
       "code                                                               \n",
       "G708      Metal                                    Batons de ski   \n",
       "G212  Chemicals  Oil nodules or coal fragments -- not from a BBQ   \n",
       "G213  Chemicals                                     Paraffin wax   \n",
       "G214  Chemicals                                          Oil/tar   \n",
       "G135      Cloth              Clothes, footware, headware, gloves   \n",
       "\n",
       "            source  parent_code  single_use       groupname  \n",
       "code                                                         \n",
       "G708       Usagers         G199       False      recreation  \n",
       "G212     Undefined  Parent code       False    unclassified  \n",
       "G213     Undefined  Parent code       False      recreation  \n",
       "G214  Construction  Parent code       False  infrastructure  \n",
       "G135      Clothing  Parent code       False  personal items  "
      ]
     },
     "execution_count": 17,
     "metadata": {},
     "output_type": "execute_result"
    }
   ],
   "source": [
    "dfCodes.head()"
   ]
  },
  {
   "cell_type": "code",
   "execution_count": 18,
   "id": "a77306c8-7676-4f65-a60f-e6f7e9b094f9",
   "metadata": {},
   "outputs": [],
   "source": [
    "# dfCodes.loc[['G21', 'G22','G23', 'G24'], \"parent_code\"] = \"Gcaps\"\n",
    "\n",
    "# dfCodes.loc[['G75', 'G78', 'G79',\"G80\"], \"parent_code\"] = \"Gfrags\"\n",
    "# dfCodes.loc[['G76','G81','G82', 'G83'], \"parent_code\"] = \"Gfoams\"\n",
    "\n",
    "def aggregate_gcaps_gfoams_gfrags(data, codes,columns=[\"Gfoams\", \"Gfrags\", \"Gcaps\"]):\n",
    "    for col in columns:\n",
    "        change = codes.loc[codes.parent_code == col].index\n",
    "        data.loc[data.code.isin(change), \"code\"] = col\n",
    "        \n",
    "    return data\n",
    "\n",
    "matched_a_b_aggregated = aggregate_gcaps_gfoams_gfrags(matched_a_b.copy(), dfCodes)"
   ]
  },
  {
   "cell_type": "code",
   "execution_count": 19,
   "id": "7bb827a9-7a1d-48f6-a860-4172c309cb7a",
   "metadata": {},
   "outputs": [],
   "source": [
    "code_cols = ['material', 'description', 'source', 'parent_code', 'single_use', 'groupname']\n",
    "\n"
   ]
  },
  {
   "cell_type": "code",
   "execution_count": 20,
   "id": "f8446e91-1dc8-43d6-9e1a-65ab1366cfb3",
   "metadata": {},
   "outputs": [
    {
     "data": {
      "text/html": [
       "<div>\n",
       "<style scoped>\n",
       "    .dataframe tbody tr th:only-of-type {\n",
       "        vertical-align: middle;\n",
       "    }\n",
       "\n",
       "    .dataframe tbody tr th {\n",
       "        vertical-align: top;\n",
       "    }\n",
       "\n",
       "    .dataframe thead th {\n",
       "        text-align: right;\n",
       "    }\n",
       "</style>\n",
       "<table border=\"1\" class=\"dataframe\">\n",
       "  <thead>\n",
       "    <tr style=\"text-align: right;\">\n",
       "      <th></th>\n",
       "      <th>loc_date</th>\n",
       "      <th>date</th>\n",
       "      <th>water_name_slug</th>\n",
       "      <th>location</th>\n",
       "      <th>code</th>\n",
       "      <th>pcs_m</th>\n",
       "      <th>quantity</th>\n",
       "      <th>river_bassin</th>\n",
       "      <th>length</th>\n",
       "      <th>groupname</th>\n",
       "      <th>city</th>\n",
       "    </tr>\n",
       "  </thead>\n",
       "  <tbody>\n",
       "    <tr>\n",
       "      <th>9</th>\n",
       "      <td>('aabach', '2020-10-22')</td>\n",
       "      <td>2020-10-22</td>\n",
       "      <td>zurichsee</td>\n",
       "      <td>aabach</td>\n",
       "      <td>G78</td>\n",
       "      <td>0.20</td>\n",
       "      <td>6</td>\n",
       "      <td>linth</td>\n",
       "      <td>30.000000</td>\n",
       "      <td>plastic pieces</td>\n",
       "      <td>Schmerikon</td>\n",
       "    </tr>\n",
       "    <tr>\n",
       "      <th>10</th>\n",
       "      <td>('aabach', '2020-10-22')</td>\n",
       "      <td>2020-10-22</td>\n",
       "      <td>zurichsee</td>\n",
       "      <td>aabach</td>\n",
       "      <td>G79</td>\n",
       "      <td>0.03</td>\n",
       "      <td>1</td>\n",
       "      <td>linth</td>\n",
       "      <td>30.000000</td>\n",
       "      <td>plastic pieces</td>\n",
       "      <td>Schmerikon</td>\n",
       "    </tr>\n",
       "    <tr>\n",
       "      <th>28</th>\n",
       "      <td>('aare-limmatspitz', '2020-07-13')</td>\n",
       "      <td>2020-07-13</td>\n",
       "      <td>aare</td>\n",
       "      <td>aare-limmatspitz</td>\n",
       "      <td>G78</td>\n",
       "      <td>0.04</td>\n",
       "      <td>5</td>\n",
       "      <td>aare</td>\n",
       "      <td>120.000000</td>\n",
       "      <td>plastic pieces</td>\n",
       "      <td>Gebenstorf</td>\n",
       "    </tr>\n",
       "    <tr>\n",
       "      <th>29</th>\n",
       "      <td>('aare-limmatspitz', '2020-07-13')</td>\n",
       "      <td>2020-07-13</td>\n",
       "      <td>aare</td>\n",
       "      <td>aare-limmatspitz</td>\n",
       "      <td>G79</td>\n",
       "      <td>0.03</td>\n",
       "      <td>4</td>\n",
       "      <td>aare</td>\n",
       "      <td>120.000000</td>\n",
       "      <td>plastic pieces</td>\n",
       "      <td>Gebenstorf</td>\n",
       "    </tr>\n",
       "    <tr>\n",
       "      <th>52</th>\n",
       "      <td>('aare-port', '2021-04-23')</td>\n",
       "      <td>2021-04-23</td>\n",
       "      <td>aarenidau-buren-kanal</td>\n",
       "      <td>aare-port</td>\n",
       "      <td>G78</td>\n",
       "      <td>0.12</td>\n",
       "      <td>5</td>\n",
       "      <td>aare</td>\n",
       "      <td>40.000000</td>\n",
       "      <td>plastic pieces</td>\n",
       "      <td>Port</td>\n",
       "    </tr>\n",
       "    <tr>\n",
       "      <th>...</th>\n",
       "      <td>...</td>\n",
       "      <td>...</td>\n",
       "      <td>...</td>\n",
       "      <td>...</td>\n",
       "      <td>...</td>\n",
       "      <td>...</td>\n",
       "      <td>...</td>\n",
       "      <td>...</td>\n",
       "      <td>...</td>\n",
       "      <td>...</td>\n",
       "      <td>...</td>\n",
       "    </tr>\n",
       "    <tr>\n",
       "      <th>268380</th>\n",
       "      <td>('jardin-botanique', '2016-04-24')</td>\n",
       "      <td>2016-04-24</td>\n",
       "      <td>lac-leman</td>\n",
       "      <td>jardin-botanique</td>\n",
       "      <td>G80</td>\n",
       "      <td>0.00</td>\n",
       "      <td>0</td>\n",
       "      <td>rhone</td>\n",
       "      <td>13.019391</td>\n",
       "      <td>plastic pieces</td>\n",
       "      <td>Genève</td>\n",
       "    </tr>\n",
       "    <tr>\n",
       "      <th>268404</th>\n",
       "      <td>('jardin-botanique', '2016-04-24')</td>\n",
       "      <td>2016-04-24</td>\n",
       "      <td>lac-leman</td>\n",
       "      <td>jardin-botanique</td>\n",
       "      <td>G75</td>\n",
       "      <td>0.00</td>\n",
       "      <td>0</td>\n",
       "      <td>rhone</td>\n",
       "      <td>13.019391</td>\n",
       "      <td>plastic pieces</td>\n",
       "      <td>Genève</td>\n",
       "    </tr>\n",
       "    <tr>\n",
       "      <th>268485</th>\n",
       "      <td>('le-port', '2016-04-19')</td>\n",
       "      <td>2016-04-19</td>\n",
       "      <td>lac-leman</td>\n",
       "      <td>le-port</td>\n",
       "      <td>G78</td>\n",
       "      <td>0.00</td>\n",
       "      <td>0</td>\n",
       "      <td>rhone</td>\n",
       "      <td>13.019391</td>\n",
       "      <td>plastic pieces</td>\n",
       "      <td>La Tour-de-Peilz</td>\n",
       "    </tr>\n",
       "    <tr>\n",
       "      <th>268526</th>\n",
       "      <td>('le-port', '2016-04-19')</td>\n",
       "      <td>2016-04-19</td>\n",
       "      <td>lac-leman</td>\n",
       "      <td>le-port</td>\n",
       "      <td>G80</td>\n",
       "      <td>0.00</td>\n",
       "      <td>0</td>\n",
       "      <td>rhone</td>\n",
       "      <td>13.019391</td>\n",
       "      <td>plastic pieces</td>\n",
       "      <td>La Tour-de-Peilz</td>\n",
       "    </tr>\n",
       "    <tr>\n",
       "      <th>268562</th>\n",
       "      <td>('le-port', '2016-04-19')</td>\n",
       "      <td>2016-04-19</td>\n",
       "      <td>lac-leman</td>\n",
       "      <td>le-port</td>\n",
       "      <td>G75</td>\n",
       "      <td>0.00</td>\n",
       "      <td>0</td>\n",
       "      <td>rhone</td>\n",
       "      <td>13.019391</td>\n",
       "      <td>plastic pieces</td>\n",
       "      <td>La Tour-de-Peilz</td>\n",
       "    </tr>\n",
       "  </tbody>\n",
       "</table>\n",
       "<p>5716 rows × 11 columns</p>\n",
       "</div>"
      ],
      "text/plain": [
       "                                  loc_date        date        water_name_slug  \\\n",
       "9                 ('aabach', '2020-10-22')  2020-10-22              zurichsee   \n",
       "10                ('aabach', '2020-10-22')  2020-10-22              zurichsee   \n",
       "28      ('aare-limmatspitz', '2020-07-13')  2020-07-13                   aare   \n",
       "29      ('aare-limmatspitz', '2020-07-13')  2020-07-13                   aare   \n",
       "52             ('aare-port', '2021-04-23')  2021-04-23  aarenidau-buren-kanal   \n",
       "...                                    ...         ...                    ...   \n",
       "268380  ('jardin-botanique', '2016-04-24')  2016-04-24              lac-leman   \n",
       "268404  ('jardin-botanique', '2016-04-24')  2016-04-24              lac-leman   \n",
       "268485           ('le-port', '2016-04-19')  2016-04-19              lac-leman   \n",
       "268526           ('le-port', '2016-04-19')  2016-04-19              lac-leman   \n",
       "268562           ('le-port', '2016-04-19')  2016-04-19              lac-leman   \n",
       "\n",
       "                location code  pcs_m  quantity river_bassin      length  \\\n",
       "9                 aabach  G78   0.20         6        linth   30.000000   \n",
       "10                aabach  G79   0.03         1        linth   30.000000   \n",
       "28      aare-limmatspitz  G78   0.04         5         aare  120.000000   \n",
       "29      aare-limmatspitz  G79   0.03         4         aare  120.000000   \n",
       "52             aare-port  G78   0.12         5         aare   40.000000   \n",
       "...                  ...  ...    ...       ...          ...         ...   \n",
       "268380  jardin-botanique  G80   0.00         0        rhone   13.019391   \n",
       "268404  jardin-botanique  G75   0.00         0        rhone   13.019391   \n",
       "268485           le-port  G78   0.00         0        rhone   13.019391   \n",
       "268526           le-port  G80   0.00         0        rhone   13.019391   \n",
       "268562           le-port  G75   0.00         0        rhone   13.019391   \n",
       "\n",
       "             groupname              city  \n",
       "9       plastic pieces        Schmerikon  \n",
       "10      plastic pieces        Schmerikon  \n",
       "28      plastic pieces        Gebenstorf  \n",
       "29      plastic pieces        Gebenstorf  \n",
       "52      plastic pieces              Port  \n",
       "...                ...               ...  \n",
       "268380  plastic pieces            Genève  \n",
       "268404  plastic pieces            Genève  \n",
       "268485  plastic pieces  La Tour-de-Peilz  \n",
       "268526  plastic pieces  La Tour-de-Peilz  \n",
       "268562  plastic pieces  La Tour-de-Peilz  \n",
       "\n",
       "[5716 rows x 11 columns]"
      ]
     },
     "execution_count": 20,
     "metadata": {},
     "output_type": "execute_result"
    }
   ],
   "source": [
    "matched_a_b.loc[matched_a_b.code.isin(['G75', 'G78', 'G79',\"G80\"])]"
   ]
  },
  {
   "cell_type": "code",
   "execution_count": 21,
   "id": "a921c41b-a630-4a19-a1ec-509fcc9100c4",
   "metadata": {},
   "outputs": [
    {
     "data": {
      "text/plain": [
       "(191048, 0.0, 1429, 175, 232, 54)"
      ]
     },
     "execution_count": 21,
     "metadata": {},
     "output_type": "execute_result"
    }
   ],
   "source": [
    "collect_vitals(matched_a_b_aggregated)"
   ]
  },
  {
   "cell_type": "code",
   "execution_count": 22,
   "id": "d14635f4-85c4-4c6b-ac37-c0a654e73980",
   "metadata": {},
   "outputs": [
    {
     "data": {
      "text/plain": [
       "(191048, 0.0, 1429, 184, 232, 54)"
      ]
     },
     "execution_count": 22,
     "metadata": {},
     "output_type": "execute_result"
    }
   ],
   "source": [
    "collect_vitals(matched_a_b)"
   ]
  },
  {
   "cell_type": "code",
   "execution_count": 23,
   "id": "bc9a27cd-b239-477b-8cd2-a987fa96f8a5",
   "metadata": {},
   "outputs": [
    {
     "data": {
      "text/plain": [
       "(191048, 0.0, 1429, 176, 232, 54)"
      ]
     },
     "execution_count": 23,
     "metadata": {},
     "output_type": "execute_result"
    }
   ],
   "source": [
    "collect_vitals(b_all_match)"
   ]
  },
  {
   "cell_type": "code",
   "execution_count": 24,
   "id": "85a1b4c9-b2cb-4f7e-9c6a-7ec367c1dac7",
   "metadata": {},
   "outputs": [
    {
     "data": {
      "text/plain": [
       "array(['G22', 'Gfoam'], dtype=object)"
      ]
     },
     "execution_count": 24,
     "metadata": {},
     "output_type": "execute_result"
    }
   ],
   "source": [
    "cone = b_all_match.code.unique()\n",
    "ctwo = matched_a_b_aggregated.code.unique()\n",
    "\n",
    "find_missing(cone, ctwo)"
   ]
  },
  {
   "cell_type": "code",
   "execution_count": 25,
   "id": "530e9321-99fa-4f64-8f1d-676cb11cd5f1",
   "metadata": {},
   "outputs": [
    {
     "data": {
      "text/html": [
       "<div>\n",
       "<style scoped>\n",
       "    .dataframe tbody tr th:only-of-type {\n",
       "        vertical-align: middle;\n",
       "    }\n",
       "\n",
       "    .dataframe tbody tr th {\n",
       "        vertical-align: top;\n",
       "    }\n",
       "\n",
       "    .dataframe thead th {\n",
       "        text-align: right;\n",
       "    }\n",
       "</style>\n",
       "<table border=\"1\" class=\"dataframe\">\n",
       "  <thead>\n",
       "    <tr style=\"text-align: right;\">\n",
       "      <th></th>\n",
       "      <th>loc_date</th>\n",
       "      <th>date</th>\n",
       "      <th>water_name_slug</th>\n",
       "      <th>location</th>\n",
       "      <th>code</th>\n",
       "      <th>pcs_m</th>\n",
       "      <th>quantity</th>\n",
       "      <th>river_bassin</th>\n",
       "      <th>length</th>\n",
       "      <th>groupname</th>\n",
       "      <th>city</th>\n",
       "    </tr>\n",
       "  </thead>\n",
       "  <tbody>\n",
       "  </tbody>\n",
       "</table>\n",
       "</div>"
      ],
      "text/plain": [
       "Empty DataFrame\n",
       "Columns: [loc_date, date, water_name_slug, location, code, pcs_m, quantity, river_bassin, length, groupname, city]\n",
       "Index: []"
      ]
     },
     "execution_count": 25,
     "metadata": {},
     "output_type": "execute_result"
    }
   ],
   "source": [
    "matched_a_b_aggregated[matched_a_b_aggregated.code.isin(['G75', 'G78', 'G79',\"G80\"])]"
   ]
  },
  {
   "cell_type": "markdown",
   "id": "3afb0be9-20c9-4b40-b8a2-3f072b990395",
   "metadata": {},
   "source": [
    "### survey areas"
   ]
  },
  {
   "cell_type": "code",
   "execution_count": 26,
   "id": "d32d1dad-26ee-4958-9378-0705cd1865c2",
   "metadata": {},
   "outputs": [
    {
     "data": {
      "text/plain": [
       "(7776, 0.0, 20, 184, 20, 7)"
      ]
     },
     "execution_count": 26,
     "metadata": {},
     "output_type": "execute_result"
    }
   ],
   "source": [
    "collect_vitals(diff_a_b)"
   ]
  },
  {
   "cell_type": "code",
   "execution_count": 27,
   "id": "5eec024a-103f-4cd6-9388-5caf8f4d907a",
   "metadata": {},
   "outputs": [
    {
     "data": {
      "text/plain": [
       "(7776, 0.0, 20, 230, 20, 7)"
      ]
     },
     "execution_count": 27,
     "metadata": {},
     "output_type": "execute_result"
    }
   ],
   "source": [
    "f = pd.read_csv(\"data/from_prev/checked_alpes_survey_data.csv\")\n",
    "collect_vitals(f)"
   ]
  },
  {
   "cell_type": "code",
   "execution_count": 28,
   "id": "2177ea50-78a6-458c-b1c5-e16fe1e1a950",
   "metadata": {},
   "outputs": [
    {
     "data": {
      "text/plain": [
       "array(['G702', 'G703', 'G704', 'G705', 'G706', 'G707', 'G708', 'G709',\n",
       "       'G710', 'G711', 'G712', 'G713', 'G900', 'G901', 'G902', 'G903',\n",
       "       'G904', 'G905', 'G906', 'G907', 'G908', 'G913', 'G914', 'G915',\n",
       "       'G916', 'G917', 'G918', 'G919', 'G921', 'G922', 'G923', 'G925',\n",
       "       'G926', 'G927', 'G928', 'G929', 'G930', 'G931', 'G932', 'G933',\n",
       "       'G934', 'G935', 'G936', 'G937', 'G938', 'G939', 'G940', 'G941',\n",
       "       'G942', 'G943', 'G944', 'G945', 'Gfoam', 'Gfrags'], dtype=object)"
      ]
     },
     "execution_count": 28,
     "metadata": {},
     "output_type": "execute_result"
    }
   ],
   "source": [
    "cmore = f.code.unique()\n",
    "cless = diff_a_b.code.unique()\n",
    "\n",
    "find_missing(cmore, cless)"
   ]
  },
  {
   "cell_type": "code",
   "execution_count": 29,
   "id": "98e813af-97e3-4dbf-9c5e-070402b21b01",
   "metadata": {},
   "outputs": [
    {
     "data": {
      "text/html": [
       "<div>\n",
       "<style scoped>\n",
       "    .dataframe tbody tr th:only-of-type {\n",
       "        vertical-align: middle;\n",
       "    }\n",
       "\n",
       "    .dataframe tbody tr th {\n",
       "        vertical-align: top;\n",
       "    }\n",
       "\n",
       "    .dataframe thead th {\n",
       "        text-align: right;\n",
       "    }\n",
       "</style>\n",
       "<table border=\"1\" class=\"dataframe\">\n",
       "  <thead>\n",
       "    <tr style=\"text-align: right;\">\n",
       "      <th></th>\n",
       "      <th>loc_date</th>\n",
       "      <th>date</th>\n",
       "      <th>water_name_slug</th>\n",
       "      <th>location</th>\n",
       "      <th>code</th>\n",
       "      <th>pcs_m</th>\n",
       "      <th>quantity</th>\n",
       "      <th>river_bassin</th>\n",
       "      <th>length</th>\n",
       "      <th>groupname</th>\n",
       "      <th>city</th>\n",
       "    </tr>\n",
       "  </thead>\n",
       "  <tbody>\n",
       "    <tr>\n",
       "      <th>0</th>\n",
       "      <td>(cabanes-des-diablerets, 2021-08-28)</td>\n",
       "      <td>2021-08-28</td>\n",
       "      <td>alpes-vaudoises</td>\n",
       "      <td>cabanes-des-diablerets</td>\n",
       "      <td>G200</td>\n",
       "      <td>1.33</td>\n",
       "      <td>16</td>\n",
       "      <td>les-alpes</td>\n",
       "      <td>12.0</td>\n",
       "      <td>food and drink</td>\n",
       "      <td>Ormont-Dessus</td>\n",
       "    </tr>\n",
       "    <tr>\n",
       "      <th>1</th>\n",
       "      <td>(cabanes-des-diablerets, 2021-08-28)</td>\n",
       "      <td>2021-08-28</td>\n",
       "      <td>alpes-vaudoises</td>\n",
       "      <td>cabanes-des-diablerets</td>\n",
       "      <td>G48</td>\n",
       "      <td>0.42</td>\n",
       "      <td>5</td>\n",
       "      <td>les-alpes</td>\n",
       "      <td>12.0</td>\n",
       "      <td>recreation</td>\n",
       "      <td>Ormont-Dessus</td>\n",
       "    </tr>\n",
       "    <tr>\n",
       "      <th>2</th>\n",
       "      <td>(cabanes-des-diablerets, 2021-08-28)</td>\n",
       "      <td>2021-08-28</td>\n",
       "      <td>alpes-vaudoises</td>\n",
       "      <td>cabanes-des-diablerets</td>\n",
       "      <td>G170</td>\n",
       "      <td>0.83</td>\n",
       "      <td>10</td>\n",
       "      <td>les-alpes</td>\n",
       "      <td>12.0</td>\n",
       "      <td>agriculture</td>\n",
       "      <td>Ormont-Dessus</td>\n",
       "    </tr>\n",
       "    <tr>\n",
       "      <th>3</th>\n",
       "      <td>(cabanes-des-diablerets, 2021-08-28)</td>\n",
       "      <td>2021-08-28</td>\n",
       "      <td>alpes-vaudoises</td>\n",
       "      <td>cabanes-des-diablerets</td>\n",
       "      <td>G27</td>\n",
       "      <td>0.75</td>\n",
       "      <td>9</td>\n",
       "      <td>les-alpes</td>\n",
       "      <td>12.0</td>\n",
       "      <td>tobacco</td>\n",
       "      <td>Ormont-Dessus</td>\n",
       "    </tr>\n",
       "    <tr>\n",
       "      <th>4</th>\n",
       "      <td>(cabanes-des-diablerets, 2021-08-28)</td>\n",
       "      <td>2021-08-28</td>\n",
       "      <td>alpes-vaudoises</td>\n",
       "      <td>cabanes-des-diablerets</td>\n",
       "      <td>G709</td>\n",
       "      <td>0.17</td>\n",
       "      <td>2</td>\n",
       "      <td>les-alpes</td>\n",
       "      <td>12.0</td>\n",
       "      <td>recreation</td>\n",
       "      <td>Ormont-Dessus</td>\n",
       "    </tr>\n",
       "  </tbody>\n",
       "</table>\n",
       "</div>"
      ],
      "text/plain": [
       "                               loc_date        date  water_name_slug  \\\n",
       "0  (cabanes-des-diablerets, 2021-08-28)  2021-08-28  alpes-vaudoises   \n",
       "1  (cabanes-des-diablerets, 2021-08-28)  2021-08-28  alpes-vaudoises   \n",
       "2  (cabanes-des-diablerets, 2021-08-28)  2021-08-28  alpes-vaudoises   \n",
       "3  (cabanes-des-diablerets, 2021-08-28)  2021-08-28  alpes-vaudoises   \n",
       "4  (cabanes-des-diablerets, 2021-08-28)  2021-08-28  alpes-vaudoises   \n",
       "\n",
       "                 location  code  pcs_m  quantity river_bassin  length  \\\n",
       "0  cabanes-des-diablerets  G200   1.33        16    les-alpes    12.0   \n",
       "1  cabanes-des-diablerets   G48   0.42         5    les-alpes    12.0   \n",
       "2  cabanes-des-diablerets  G170   0.83        10    les-alpes    12.0   \n",
       "3  cabanes-des-diablerets   G27   0.75         9    les-alpes    12.0   \n",
       "4  cabanes-des-diablerets  G709   0.17         2    les-alpes    12.0   \n",
       "\n",
       "        groupname           city  \n",
       "0  food and drink  Ormont-Dessus  \n",
       "1      recreation  Ormont-Dessus  \n",
       "2     agriculture  Ormont-Dessus  \n",
       "3         tobacco  Ormont-Dessus  \n",
       "4      recreation  Ormont-Dessus  "
      ]
     },
     "execution_count": 29,
     "metadata": {},
     "output_type": "execute_result"
    }
   ],
   "source": [
    "f = f[a_cols].copy()\n",
    "f[\"loc_date\"] = list(zip(f.location, f.date))\n",
    "f.head()"
   ]
  },
  {
   "cell_type": "code",
   "execution_count": 30,
   "id": "b3b38a8b-b136-484b-9224-25d5a203e9fd",
   "metadata": {},
   "outputs": [
    {
     "data": {
      "text/html": [
       "<div>\n",
       "<style scoped>\n",
       "    .dataframe tbody tr th:only-of-type {\n",
       "        vertical-align: middle;\n",
       "    }\n",
       "\n",
       "    .dataframe tbody tr th {\n",
       "        vertical-align: top;\n",
       "    }\n",
       "\n",
       "    .dataframe thead th {\n",
       "        text-align: right;\n",
       "    }\n",
       "</style>\n",
       "<table border=\"1\" class=\"dataframe\">\n",
       "  <thead>\n",
       "    <tr style=\"text-align: right;\">\n",
       "      <th></th>\n",
       "      <th>loc_date</th>\n",
       "      <th>date</th>\n",
       "      <th>water_name_slug</th>\n",
       "      <th>location</th>\n",
       "      <th>code</th>\n",
       "      <th>pcs_m</th>\n",
       "      <th>quantity</th>\n",
       "      <th>river_bassin</th>\n",
       "      <th>length</th>\n",
       "      <th>groupname</th>\n",
       "      <th>city</th>\n",
       "    </tr>\n",
       "  </thead>\n",
       "  <tbody>\n",
       "    <tr>\n",
       "      <th>0</th>\n",
       "      <td>('aabach', '2020-10-22')</td>\n",
       "      <td>2020-10-22</td>\n",
       "      <td>zurichsee</td>\n",
       "      <td>aabach</td>\n",
       "      <td>G112</td>\n",
       "      <td>0.23</td>\n",
       "      <td>7</td>\n",
       "      <td>linth</td>\n",
       "      <td>30.0</td>\n",
       "      <td>micro plastics (&lt; 5mm)</td>\n",
       "      <td>Schmerikon</td>\n",
       "    </tr>\n",
       "    <tr>\n",
       "      <th>1</th>\n",
       "      <td>('aabach', '2020-10-22')</td>\n",
       "      <td>2020-10-22</td>\n",
       "      <td>zurichsee</td>\n",
       "      <td>aabach</td>\n",
       "      <td>G124</td>\n",
       "      <td>0.06</td>\n",
       "      <td>2</td>\n",
       "      <td>linth</td>\n",
       "      <td>30.0</td>\n",
       "      <td>unclassified</td>\n",
       "      <td>Schmerikon</td>\n",
       "    </tr>\n",
       "    <tr>\n",
       "      <th>2</th>\n",
       "      <td>('aabach', '2020-10-22')</td>\n",
       "      <td>2020-10-22</td>\n",
       "      <td>zurichsee</td>\n",
       "      <td>aabach</td>\n",
       "      <td>G23</td>\n",
       "      <td>0.03</td>\n",
       "      <td>1</td>\n",
       "      <td>linth</td>\n",
       "      <td>30.0</td>\n",
       "      <td>packaging non food</td>\n",
       "      <td>Schmerikon</td>\n",
       "    </tr>\n",
       "    <tr>\n",
       "      <th>3</th>\n",
       "      <td>('aabach', '2020-10-22')</td>\n",
       "      <td>2020-10-22</td>\n",
       "      <td>zurichsee</td>\n",
       "      <td>aabach</td>\n",
       "      <td>G27</td>\n",
       "      <td>0.23</td>\n",
       "      <td>7</td>\n",
       "      <td>linth</td>\n",
       "      <td>30.0</td>\n",
       "      <td>tobacco</td>\n",
       "      <td>Schmerikon</td>\n",
       "    </tr>\n",
       "    <tr>\n",
       "      <th>4</th>\n",
       "      <td>('aabach', '2020-10-22')</td>\n",
       "      <td>2020-10-22</td>\n",
       "      <td>zurichsee</td>\n",
       "      <td>aabach</td>\n",
       "      <td>G30</td>\n",
       "      <td>0.10</td>\n",
       "      <td>3</td>\n",
       "      <td>linth</td>\n",
       "      <td>30.0</td>\n",
       "      <td>food and drink</td>\n",
       "      <td>Schmerikon</td>\n",
       "    </tr>\n",
       "  </tbody>\n",
       "</table>\n",
       "</div>"
      ],
      "text/plain": [
       "                   loc_date        date water_name_slug location  code  pcs_m  \\\n",
       "0  ('aabach', '2020-10-22')  2020-10-22       zurichsee   aabach  G112   0.23   \n",
       "1  ('aabach', '2020-10-22')  2020-10-22       zurichsee   aabach  G124   0.06   \n",
       "2  ('aabach', '2020-10-22')  2020-10-22       zurichsee   aabach   G23   0.03   \n",
       "3  ('aabach', '2020-10-22')  2020-10-22       zurichsee   aabach   G27   0.23   \n",
       "4  ('aabach', '2020-10-22')  2020-10-22       zurichsee   aabach   G30   0.10   \n",
       "\n",
       "   quantity river_bassin  length               groupname        city  \n",
       "0         7        linth    30.0  micro plastics (< 5mm)  Schmerikon  \n",
       "1         2        linth    30.0            unclassified  Schmerikon  \n",
       "2         1        linth    30.0      packaging non food  Schmerikon  \n",
       "3         7        linth    30.0                 tobacco  Schmerikon  \n",
       "4         3        linth    30.0          food and drink  Schmerikon  "
      ]
     },
     "execution_count": 30,
     "metadata": {},
     "output_type": "execute_result"
    }
   ],
   "source": [
    "matched_a_b[a_cols].head()"
   ]
  },
  {
   "cell_type": "code",
   "execution_count": 31,
   "id": "24818381-df53-4435-91f7-198b52142b9a",
   "metadata": {},
   "outputs": [],
   "source": [
    "merge_cols = a_cols.copy()"
   ]
  },
  {
   "cell_type": "code",
   "execution_count": 32,
   "id": "dad513ce-6b9f-4994-84e8-983bf04528ab",
   "metadata": {},
   "outputs": [],
   "source": [
    "alr = alpes_and_lakes_and_rivers = pd.concat([f[merge_cols], matched_a_b[merge_cols]])"
   ]
  },
  {
   "cell_type": "code",
   "execution_count": 33,
   "id": "e926ced1-0652-47d1-9082-8c20bfe32518",
   "metadata": {},
   "outputs": [],
   "source": [
    "alr['date'] = pd.to_datetime(alr[\"date\"])"
   ]
  },
  {
   "cell_type": "code",
   "execution_count": 34,
   "id": "f196c1a4-c3fe-4899-aadf-986e81bdb5c8",
   "metadata": {},
   "outputs": [
    {
     "data": {
      "text/plain": [
       "Timestamp('2021-08-28 00:00:00')"
      ]
     },
     "execution_count": 34,
     "metadata": {},
     "output_type": "execute_result"
    }
   ],
   "source": [
    "alr['date'].max()"
   ]
  },
  {
   "cell_type": "code",
   "execution_count": 35,
   "id": "90d05378-87a6-4879-a454-ac38f5c17a3c",
   "metadata": {},
   "outputs": [
    {
     "data": {
      "text/plain": [
       "array(['les-alpes', 'linth', 'aare', 'rhone', 'ticino', 'rhine'],\n",
       "      dtype=object)"
      ]
     },
     "execution_count": 35,
     "metadata": {},
     "output_type": "execute_result"
    }
   ],
   "source": [
    "alr[\"river_bassin\"].unique()"
   ]
  },
  {
   "cell_type": "code",
   "execution_count": 36,
   "id": "c2d51b77-d8a8-46f1-a57f-db219c5b8284",
   "metadata": {},
   "outputs": [
    {
     "data": {
      "text/html": [
       "<div>\n",
       "<style scoped>\n",
       "    .dataframe tbody tr th:only-of-type {\n",
       "        vertical-align: middle;\n",
       "    }\n",
       "\n",
       "    .dataframe tbody tr th {\n",
       "        vertical-align: top;\n",
       "    }\n",
       "\n",
       "    .dataframe thead th {\n",
       "        text-align: right;\n",
       "    }\n",
       "</style>\n",
       "<table border=\"1\" class=\"dataframe\">\n",
       "  <thead>\n",
       "    <tr style=\"text-align: right;\">\n",
       "      <th></th>\n",
       "      <th>loc_date</th>\n",
       "      <th>date</th>\n",
       "      <th>water_name_slug</th>\n",
       "      <th>location</th>\n",
       "      <th>code</th>\n",
       "      <th>pcs_m</th>\n",
       "      <th>quantity</th>\n",
       "      <th>river_bassin</th>\n",
       "      <th>length</th>\n",
       "      <th>groupname</th>\n",
       "      <th>city</th>\n",
       "    </tr>\n",
       "  </thead>\n",
       "  <tbody>\n",
       "    <tr>\n",
       "      <th>0</th>\n",
       "      <td>(cabanes-des-diablerets, 2021-08-28)</td>\n",
       "      <td>2021-08-28</td>\n",
       "      <td>alpes-vaudoises</td>\n",
       "      <td>cabanes-des-diablerets</td>\n",
       "      <td>G200</td>\n",
       "      <td>1.33</td>\n",
       "      <td>16</td>\n",
       "      <td>les-alpes</td>\n",
       "      <td>12.0</td>\n",
       "      <td>food and drink</td>\n",
       "      <td>Ormont-Dessus</td>\n",
       "    </tr>\n",
       "    <tr>\n",
       "      <th>1</th>\n",
       "      <td>(cabanes-des-diablerets, 2021-08-28)</td>\n",
       "      <td>2021-08-28</td>\n",
       "      <td>alpes-vaudoises</td>\n",
       "      <td>cabanes-des-diablerets</td>\n",
       "      <td>G48</td>\n",
       "      <td>0.42</td>\n",
       "      <td>5</td>\n",
       "      <td>les-alpes</td>\n",
       "      <td>12.0</td>\n",
       "      <td>recreation</td>\n",
       "      <td>Ormont-Dessus</td>\n",
       "    </tr>\n",
       "    <tr>\n",
       "      <th>2</th>\n",
       "      <td>(cabanes-des-diablerets, 2021-08-28)</td>\n",
       "      <td>2021-08-28</td>\n",
       "      <td>alpes-vaudoises</td>\n",
       "      <td>cabanes-des-diablerets</td>\n",
       "      <td>G170</td>\n",
       "      <td>0.83</td>\n",
       "      <td>10</td>\n",
       "      <td>les-alpes</td>\n",
       "      <td>12.0</td>\n",
       "      <td>agriculture</td>\n",
       "      <td>Ormont-Dessus</td>\n",
       "    </tr>\n",
       "    <tr>\n",
       "      <th>3</th>\n",
       "      <td>(cabanes-des-diablerets, 2021-08-28)</td>\n",
       "      <td>2021-08-28</td>\n",
       "      <td>alpes-vaudoises</td>\n",
       "      <td>cabanes-des-diablerets</td>\n",
       "      <td>G27</td>\n",
       "      <td>0.75</td>\n",
       "      <td>9</td>\n",
       "      <td>les-alpes</td>\n",
       "      <td>12.0</td>\n",
       "      <td>tobacco</td>\n",
       "      <td>Ormont-Dessus</td>\n",
       "    </tr>\n",
       "    <tr>\n",
       "      <th>4</th>\n",
       "      <td>(cabanes-des-diablerets, 2021-08-28)</td>\n",
       "      <td>2021-08-28</td>\n",
       "      <td>alpes-vaudoises</td>\n",
       "      <td>cabanes-des-diablerets</td>\n",
       "      <td>G709</td>\n",
       "      <td>0.17</td>\n",
       "      <td>2</td>\n",
       "      <td>les-alpes</td>\n",
       "      <td>12.0</td>\n",
       "      <td>recreation</td>\n",
       "      <td>Ormont-Dessus</td>\n",
       "    </tr>\n",
       "  </tbody>\n",
       "</table>\n",
       "</div>"
      ],
      "text/plain": [
       "                               loc_date       date  water_name_slug  \\\n",
       "0  (cabanes-des-diablerets, 2021-08-28) 2021-08-28  alpes-vaudoises   \n",
       "1  (cabanes-des-diablerets, 2021-08-28) 2021-08-28  alpes-vaudoises   \n",
       "2  (cabanes-des-diablerets, 2021-08-28) 2021-08-28  alpes-vaudoises   \n",
       "3  (cabanes-des-diablerets, 2021-08-28) 2021-08-28  alpes-vaudoises   \n",
       "4  (cabanes-des-diablerets, 2021-08-28) 2021-08-28  alpes-vaudoises   \n",
       "\n",
       "                 location  code  pcs_m  quantity river_bassin  length  \\\n",
       "0  cabanes-des-diablerets  G200   1.33        16    les-alpes    12.0   \n",
       "1  cabanes-des-diablerets   G48   0.42         5    les-alpes    12.0   \n",
       "2  cabanes-des-diablerets  G170   0.83        10    les-alpes    12.0   \n",
       "3  cabanes-des-diablerets   G27   0.75         9    les-alpes    12.0   \n",
       "4  cabanes-des-diablerets  G709   0.17         2    les-alpes    12.0   \n",
       "\n",
       "        groupname           city  \n",
       "0  food and drink  Ormont-Dessus  \n",
       "1      recreation  Ormont-Dessus  \n",
       "2     agriculture  Ormont-Dessus  \n",
       "3         tobacco  Ormont-Dessus  \n",
       "4      recreation  Ormont-Dessus  "
      ]
     },
     "execution_count": 36,
     "metadata": {},
     "output_type": "execute_result"
    }
   ],
   "source": [
    "alr.head()"
   ]
  },
  {
   "cell_type": "code",
   "execution_count": 37,
   "id": "161115b7-764c-4168-9466-4d730b018047",
   "metadata": {},
   "outputs": [
    {
     "data": {
      "text/plain": [
       "loc_date           False\n",
       "date               False\n",
       "water_name_slug    False\n",
       "location           False\n",
       "code               False\n",
       "pcs_m              False\n",
       "quantity           False\n",
       "river_bassin       False\n",
       "length             False\n",
       "groupname          False\n",
       "city               False\n",
       "dtype: bool"
      ]
     },
     "execution_count": 37,
     "metadata": {},
     "output_type": "execute_result"
    }
   ],
   "source": [
    "# alr = alr.fillna(\"hello\")\n",
    "alr.isna().any()"
   ]
  },
  {
   "cell_type": "markdown",
   "id": "9d3723e3-cceb-4034-abc6-17df47f9aac4",
   "metadata": {},
   "source": [
    "### after august 2021"
   ]
  },
  {
   "cell_type": "code",
   "execution_count": 38,
   "id": "0549c576-a399-455c-8cb1-df07f0c35035",
   "metadata": {},
   "outputs": [],
   "source": [
    "\n",
    "# dfCodes.loc[[\"Gfrags\", \"Gfoam\"]]\n",
    "\n",
    "# gcaps = {\"material\":\"plastic\", \"description\":\"plastic caps, lid rings: G21, G22, G23, G24\", \"source\":'Usagers',\n",
    "#          \"parent_code\":\"Parent code\", \"single_use\":\"False\", \"groupname\": \"packaging non food\"}\n",
    "\n",
    "# dfCodes.loc[\"Gcaps\", :] = gcaps\n",
    "# dfCodes.loc[\"Gfoams\", :] = dfCodes.loc[\"Gfoam\"]\n",
    "# dfCodes.drop(\"Gfoam\", inplace=True)"
   ]
  },
  {
   "cell_type": "code",
   "execution_count": 39,
   "id": "db0f2d27-4dc1-477c-b929-29fcf06767ec",
   "metadata": {},
   "outputs": [
    {
     "data": {
      "text/plain": [
       "material                                           plastic\n",
       "description    plastic caps, lid rings: G21, G22, G23, G24\n",
       "source                                             Usagers\n",
       "parent_code                                    Parent code\n",
       "single_use                                           False\n",
       "groupname                               packaging non food\n",
       "Name: Gcaps, dtype: object"
      ]
     },
     "execution_count": 39,
     "metadata": {},
     "output_type": "execute_result"
    }
   ],
   "source": [
    "dfCodes.loc[\"Gcaps\"]"
   ]
  },
  {
   "cell_type": "code",
   "execution_count": 40,
   "id": "df0374bc-3b74-41d1-a929-49bfadbded98",
   "metadata": {},
   "outputs": [],
   "source": [
    "# dfCodes[code_cols].to_csv(\"data/end_process/codes.csv\", index=True)"
   ]
  },
  {
   "cell_type": "code",
   "execution_count": 44,
   "id": "c2234578-3978-4fd5-b1ca-ce2b097e886f",
   "metadata": {},
   "outputs": [
    {
     "data": {
      "text/plain": [
       "(2938, 0.0, 6, 228, 5, 1)"
      ]
     },
     "execution_count": 44,
     "metadata": {},
     "output_type": "execute_result"
    }
   ],
   "source": [
    "f = pd.read_csv(\"data/from_prev/u_sup_after.csv\")\n",
    "f.rename(columns={\"pcs/m\":\"pcs_m\"}, inplace=True)\n",
    "\n",
    "f[\"length\"] = (f.quantity/f.pcs_m)\n",
    "collect_vitals(f)"
   ]
  },
  {
   "cell_type": "code",
   "execution_count": 46,
   "id": "86f67357-bf84-415b-9046-5d41f3a9c0d7",
   "metadata": {},
   "outputs": [
    {
     "data": {
      "text/html": [
       "<div>\n",
       "<style scoped>\n",
       "    .dataframe tbody tr th:only-of-type {\n",
       "        vertical-align: middle;\n",
       "    }\n",
       "\n",
       "    .dataframe tbody tr th {\n",
       "        vertical-align: top;\n",
       "    }\n",
       "\n",
       "    .dataframe thead th {\n",
       "        text-align: right;\n",
       "    }\n",
       "</style>\n",
       "<table border=\"1\" class=\"dataframe\">\n",
       "  <thead>\n",
       "    <tr style=\"text-align: right;\">\n",
       "      <th></th>\n",
       "      <th>loc_date</th>\n",
       "      <th>length</th>\n",
       "    </tr>\n",
       "  </thead>\n",
       "  <tbody>\n",
       "    <tr>\n",
       "      <th>1</th>\n",
       "      <td>('maladaire', '2021-06-02')</td>\n",
       "      <td>63.636364</td>\n",
       "    </tr>\n",
       "    <tr>\n",
       "      <th>2</th>\n",
       "      <td>('maladaire', '2021-06-02')</td>\n",
       "      <td>66.666667</td>\n",
       "    </tr>\n",
       "    <tr>\n",
       "      <th>25</th>\n",
       "      <td>('maladaire', '2021-06-02')</td>\n",
       "      <td>53.846154</td>\n",
       "    </tr>\n",
       "    <tr>\n",
       "      <th>34</th>\n",
       "      <td>('maladaire', '2021-06-02')</td>\n",
       "      <td>50.000000</td>\n",
       "    </tr>\n",
       "    <tr>\n",
       "      <th>60</th>\n",
       "      <td>('maladaire', '2021-06-02')</td>\n",
       "      <td>60.000000</td>\n",
       "    </tr>\n",
       "    <tr>\n",
       "      <th>76</th>\n",
       "      <td>('maladaire', '2021-06-02')</td>\n",
       "      <td>62.500000</td>\n",
       "    </tr>\n",
       "    <tr>\n",
       "      <th>77</th>\n",
       "      <td>('maladaire', '2021-06-02')</td>\n",
       "      <td>57.142857</td>\n",
       "    </tr>\n",
       "    <tr>\n",
       "      <th>98</th>\n",
       "      <td>('maladaire', '2021-06-02')</td>\n",
       "      <td>61.538462</td>\n",
       "    </tr>\n",
       "    <tr>\n",
       "      <th>113</th>\n",
       "      <td>('maladaire', '2021-06-02')</td>\n",
       "      <td>60.824742</td>\n",
       "    </tr>\n",
       "    <tr>\n",
       "      <th>152</th>\n",
       "      <td>('maladaire', '2021-06-02')</td>\n",
       "      <td>61.111111</td>\n",
       "    </tr>\n",
       "    <tr>\n",
       "      <th>155</th>\n",
       "      <td>('maladaire', '2021-06-02')</td>\n",
       "      <td>60.606061</td>\n",
       "    </tr>\n",
       "    <tr>\n",
       "      <th>167</th>\n",
       "      <td>('maladaire', '2021-06-02')</td>\n",
       "      <td>61.904762</td>\n",
       "    </tr>\n",
       "    <tr>\n",
       "      <th>175</th>\n",
       "      <td>('maladaire', '2021-06-02')</td>\n",
       "      <td>61.224490</td>\n",
       "    </tr>\n",
       "    <tr>\n",
       "      <th>177</th>\n",
       "      <td>('tiger-duck-beach', '2021-10-07')</td>\n",
       "      <td>28.571429</td>\n",
       "    </tr>\n",
       "    <tr>\n",
       "      <th>178</th>\n",
       "      <td>('tiger-duck-beach', '2021-10-07')</td>\n",
       "      <td>30.000000</td>\n",
       "    </tr>\n",
       "    <tr>\n",
       "      <th>190</th>\n",
       "      <td>('tiger-duck-beach', '2021-10-07')</td>\n",
       "      <td>30.000000</td>\n",
       "    </tr>\n",
       "    <tr>\n",
       "      <th>201</th>\n",
       "      <td>('tiger-duck-beach', '2021-10-07')</td>\n",
       "      <td>29.411765</td>\n",
       "    </tr>\n",
       "    <tr>\n",
       "      <th>211</th>\n",
       "      <td>('tiger-duck-beach', '2021-10-07')</td>\n",
       "      <td>33.333333</td>\n",
       "    </tr>\n",
       "    <tr>\n",
       "      <th>289</th>\n",
       "      <td>('tiger-duck-beach', '2021-10-07')</td>\n",
       "      <td>29.931973</td>\n",
       "    </tr>\n",
       "    <tr>\n",
       "      <th>325</th>\n",
       "      <td>('tiger-duck-beach', '2021-10-07')</td>\n",
       "      <td>30.434783</td>\n",
       "    </tr>\n",
       "    <tr>\n",
       "      <th>390</th>\n",
       "      <td>('tiger-duck-beach', '2021-10-07')</td>\n",
       "      <td>29.787234</td>\n",
       "    </tr>\n",
       "    <tr>\n",
       "      <th>395</th>\n",
       "      <td>('tiger-duck-beach', '2021-10-07')</td>\n",
       "      <td>29.850746</td>\n",
       "    </tr>\n",
       "    <tr>\n",
       "      <th>403</th>\n",
       "      <td>('tiger-duck-beach', '2021-10-07')</td>\n",
       "      <td>29.987760</td>\n",
       "    </tr>\n",
       "    <tr>\n",
       "      <th>405</th>\n",
       "      <td>('villa-barton', '2021-11-14')</td>\n",
       "      <td>50.000000</td>\n",
       "    </tr>\n",
       "    <tr>\n",
       "      <th>406</th>\n",
       "      <td>('villa-barton', '2021-11-14')</td>\n",
       "      <td>66.666667</td>\n",
       "    </tr>\n",
       "    <tr>\n",
       "      <th>412</th>\n",
       "      <td>('villa-barton', '2021-11-14')</td>\n",
       "      <td>57.142857</td>\n",
       "    </tr>\n",
       "    <tr>\n",
       "      <th>413</th>\n",
       "      <td>('villa-barton', '2021-11-14')</td>\n",
       "      <td>62.500000</td>\n",
       "    </tr>\n",
       "    <tr>\n",
       "      <th>447</th>\n",
       "      <td>('villa-barton', '2021-11-14')</td>\n",
       "      <td>60.000000</td>\n",
       "    </tr>\n",
       "    <tr>\n",
       "      <th>502</th>\n",
       "      <td>('villa-barton', '2021-11-14')</td>\n",
       "      <td>58.333333</td>\n",
       "    </tr>\n",
       "    <tr>\n",
       "      <th>521</th>\n",
       "      <td>('villa-barton', '2021-11-14')</td>\n",
       "      <td>59.130435</td>\n",
       "    </tr>\n",
       "    <tr>\n",
       "      <th>553</th>\n",
       "      <td>('villa-barton', '2021-11-14')</td>\n",
       "      <td>59.183673</td>\n",
       "    </tr>\n",
       "    <tr>\n",
       "      <th>576</th>\n",
       "      <td>('villa-barton', '2021-11-14')</td>\n",
       "      <td>59.090909</td>\n",
       "    </tr>\n",
       "    <tr>\n",
       "      <th>629</th>\n",
       "      <td>('villa-barton', '2021-11-14')</td>\n",
       "      <td>58.823529</td>\n",
       "    </tr>\n",
       "    <tr>\n",
       "      <th>630</th>\n",
       "      <td>('villa-barton', '2021-11-14')</td>\n",
       "      <td>57.894737</td>\n",
       "    </tr>\n",
       "    <tr>\n",
       "      <th>631</th>\n",
       "      <td>('villa-barton', '2021-11-14')</td>\n",
       "      <td>59.032258</td>\n",
       "    </tr>\n",
       "    <tr>\n",
       "      <th>807</th>\n",
       "      <td>('plage-de-st-sulpice', '2022-10-06')</td>\n",
       "      <td>4111.111111</td>\n",
       "    </tr>\n",
       "    <tr>\n",
       "      <th>808</th>\n",
       "      <td>('plage-de-st-sulpice', '2022-10-06')</td>\n",
       "      <td>5000.000000</td>\n",
       "    </tr>\n",
       "    <tr>\n",
       "      <th>809</th>\n",
       "      <td>('plage-de-st-sulpice', '2022-10-06')</td>\n",
       "      <td>3666.666667</td>\n",
       "    </tr>\n",
       "    <tr>\n",
       "      <th>812</th>\n",
       "      <td>('plage-de-st-sulpice', '2022-10-06')</td>\n",
       "      <td>4000.000000</td>\n",
       "    </tr>\n",
       "    <tr>\n",
       "      <th>816</th>\n",
       "      <td>('plage-de-st-sulpice', '2022-10-06')</td>\n",
       "      <td>4285.714286</td>\n",
       "    </tr>\n",
       "    <tr>\n",
       "      <th>818</th>\n",
       "      <td>('plage-de-st-sulpice', '2022-10-06')</td>\n",
       "      <td>3000.000000</td>\n",
       "    </tr>\n",
       "    <tr>\n",
       "      <th>819</th>\n",
       "      <td>('plage-de-st-sulpice', '2022-10-06')</td>\n",
       "      <td>inf</td>\n",
       "    </tr>\n",
       "    <tr>\n",
       "      <th>823</th>\n",
       "      <td>('plage-de-st-sulpice', '2022-10-06')</td>\n",
       "      <td>4500.000000</td>\n",
       "    </tr>\n",
       "    <tr>\n",
       "      <th>824</th>\n",
       "      <td>('plage-de-st-sulpice', '2022-10-06')</td>\n",
       "      <td>3500.000000</td>\n",
       "    </tr>\n",
       "    <tr>\n",
       "      <th>827</th>\n",
       "      <td>('plage-de-st-sulpice', '2022-10-06')</td>\n",
       "      <td>41.071429</td>\n",
       "    </tr>\n",
       "    <tr>\n",
       "      <th>830</th>\n",
       "      <td>('parc-des-pierrettes', '2022-10-06')</td>\n",
       "      <td>inf</td>\n",
       "    </tr>\n",
       "    <tr>\n",
       "      <th>842</th>\n",
       "      <td>('parc-des-pierrettes', '2022-10-06')</td>\n",
       "      <td>50.000000</td>\n",
       "    </tr>\n",
       "    <tr>\n",
       "      <th>854</th>\n",
       "      <td>('parc-des-pierrettes', '2022-10-06')</td>\n",
       "      <td>30.000000</td>\n",
       "    </tr>\n",
       "    <tr>\n",
       "      <th>945</th>\n",
       "      <td>('parc-des-pierrettes', '2022-10-06')</td>\n",
       "      <td>40.909091</td>\n",
       "    </tr>\n",
       "    <tr>\n",
       "      <th>946</th>\n",
       "      <td>('parc-des-pierrettes', '2022-10-06')</td>\n",
       "      <td>35.000000</td>\n",
       "    </tr>\n",
       "    <tr>\n",
       "      <th>1012</th>\n",
       "      <td>('parc-des-pierrettes', '2022-10-06')</td>\n",
       "      <td>40.000000</td>\n",
       "    </tr>\n",
       "    <tr>\n",
       "      <th>1054</th>\n",
       "      <td>('parc-des-pierrettes', '2022-10-06')</td>\n",
       "      <td>40.909091</td>\n",
       "    </tr>\n",
       "    <tr>\n",
       "      <th>1055</th>\n",
       "      <td>('plage-de-st-sulpice', '2021-10-07')</td>\n",
       "      <td>50.000000</td>\n",
       "    </tr>\n",
       "    <tr>\n",
       "      <th>1057</th>\n",
       "      <td>('plage-de-st-sulpice', '2021-10-07')</td>\n",
       "      <td>48.888889</td>\n",
       "    </tr>\n",
       "    <tr>\n",
       "      <th>1058</th>\n",
       "      <td>('plage-de-st-sulpice', '2021-10-07')</td>\n",
       "      <td>51.428571</td>\n",
       "    </tr>\n",
       "    <tr>\n",
       "      <th>1061</th>\n",
       "      <td>('plage-de-st-sulpice', '2021-10-07')</td>\n",
       "      <td>70.000000</td>\n",
       "    </tr>\n",
       "    <tr>\n",
       "      <th>1064</th>\n",
       "      <td>('plage-de-st-sulpice', '2021-10-07')</td>\n",
       "      <td>40.000000</td>\n",
       "    </tr>\n",
       "    <tr>\n",
       "      <th>1065</th>\n",
       "      <td>('plage-de-st-sulpice', '2021-10-07')</td>\n",
       "      <td>30.000000</td>\n",
       "    </tr>\n",
       "    <tr>\n",
       "      <th>1067</th>\n",
       "      <td>('plage-de-st-sulpice', '2021-10-07')</td>\n",
       "      <td>inf</td>\n",
       "    </tr>\n",
       "    <tr>\n",
       "      <th>1271</th>\n",
       "      <td>('plage-de-st-sulpice', '2021-10-07')</td>\n",
       "      <td>53.333333</td>\n",
       "    </tr>\n",
       "  </tbody>\n",
       "</table>\n",
       "</div>"
      ],
      "text/plain": [
       "                                   loc_date       length\n",
       "1               ('maladaire', '2021-06-02')    63.636364\n",
       "2               ('maladaire', '2021-06-02')    66.666667\n",
       "25              ('maladaire', '2021-06-02')    53.846154\n",
       "34              ('maladaire', '2021-06-02')    50.000000\n",
       "60              ('maladaire', '2021-06-02')    60.000000\n",
       "76              ('maladaire', '2021-06-02')    62.500000\n",
       "77              ('maladaire', '2021-06-02')    57.142857\n",
       "98              ('maladaire', '2021-06-02')    61.538462\n",
       "113             ('maladaire', '2021-06-02')    60.824742\n",
       "152             ('maladaire', '2021-06-02')    61.111111\n",
       "155             ('maladaire', '2021-06-02')    60.606061\n",
       "167             ('maladaire', '2021-06-02')    61.904762\n",
       "175             ('maladaire', '2021-06-02')    61.224490\n",
       "177      ('tiger-duck-beach', '2021-10-07')    28.571429\n",
       "178      ('tiger-duck-beach', '2021-10-07')    30.000000\n",
       "190      ('tiger-duck-beach', '2021-10-07')    30.000000\n",
       "201      ('tiger-duck-beach', '2021-10-07')    29.411765\n",
       "211      ('tiger-duck-beach', '2021-10-07')    33.333333\n",
       "289      ('tiger-duck-beach', '2021-10-07')    29.931973\n",
       "325      ('tiger-duck-beach', '2021-10-07')    30.434783\n",
       "390      ('tiger-duck-beach', '2021-10-07')    29.787234\n",
       "395      ('tiger-duck-beach', '2021-10-07')    29.850746\n",
       "403      ('tiger-duck-beach', '2021-10-07')    29.987760\n",
       "405          ('villa-barton', '2021-11-14')    50.000000\n",
       "406          ('villa-barton', '2021-11-14')    66.666667\n",
       "412          ('villa-barton', '2021-11-14')    57.142857\n",
       "413          ('villa-barton', '2021-11-14')    62.500000\n",
       "447          ('villa-barton', '2021-11-14')    60.000000\n",
       "502          ('villa-barton', '2021-11-14')    58.333333\n",
       "521          ('villa-barton', '2021-11-14')    59.130435\n",
       "553          ('villa-barton', '2021-11-14')    59.183673\n",
       "576          ('villa-barton', '2021-11-14')    59.090909\n",
       "629          ('villa-barton', '2021-11-14')    58.823529\n",
       "630          ('villa-barton', '2021-11-14')    57.894737\n",
       "631          ('villa-barton', '2021-11-14')    59.032258\n",
       "807   ('plage-de-st-sulpice', '2022-10-06')  4111.111111\n",
       "808   ('plage-de-st-sulpice', '2022-10-06')  5000.000000\n",
       "809   ('plage-de-st-sulpice', '2022-10-06')  3666.666667\n",
       "812   ('plage-de-st-sulpice', '2022-10-06')  4000.000000\n",
       "816   ('plage-de-st-sulpice', '2022-10-06')  4285.714286\n",
       "818   ('plage-de-st-sulpice', '2022-10-06')  3000.000000\n",
       "819   ('plage-de-st-sulpice', '2022-10-06')          inf\n",
       "823   ('plage-de-st-sulpice', '2022-10-06')  4500.000000\n",
       "824   ('plage-de-st-sulpice', '2022-10-06')  3500.000000\n",
       "827   ('plage-de-st-sulpice', '2022-10-06')    41.071429\n",
       "830   ('parc-des-pierrettes', '2022-10-06')          inf\n",
       "842   ('parc-des-pierrettes', '2022-10-06')    50.000000\n",
       "854   ('parc-des-pierrettes', '2022-10-06')    30.000000\n",
       "945   ('parc-des-pierrettes', '2022-10-06')    40.909091\n",
       "946   ('parc-des-pierrettes', '2022-10-06')    35.000000\n",
       "1012  ('parc-des-pierrettes', '2022-10-06')    40.000000\n",
       "1054  ('parc-des-pierrettes', '2022-10-06')    40.909091\n",
       "1055  ('plage-de-st-sulpice', '2021-10-07')    50.000000\n",
       "1057  ('plage-de-st-sulpice', '2021-10-07')    48.888889\n",
       "1058  ('plage-de-st-sulpice', '2021-10-07')    51.428571\n",
       "1061  ('plage-de-st-sulpice', '2021-10-07')    70.000000\n",
       "1064  ('plage-de-st-sulpice', '2021-10-07')    40.000000\n",
       "1065  ('plage-de-st-sulpice', '2021-10-07')    30.000000\n",
       "1067  ('plage-de-st-sulpice', '2021-10-07')          inf\n",
       "1271  ('plage-de-st-sulpice', '2021-10-07')    53.333333"
      ]
     },
     "execution_count": 46,
     "metadata": {},
     "output_type": "execute_result"
    }
   ],
   "source": [
    "fill_in_length = f[[\"loc_date\",\"length\"]].drop_duplicates([\"loc_date\", \"length\"]).dropna()\n",
    "# fill_in_length = fill_in_length.groupby(\"loc_date\").length.mean().astype(\"int\")\n",
    "fill_in_length"
   ]
  },
  {
   "cell_type": "code",
   "execution_count": null,
   "id": "2833061b-cdc8-4ba2-964b-d7ce0124f02b",
   "metadata": {},
   "outputs": [],
   "source": [
    "f['length'] =f.loc_date.apply(lambda x: fill_in_length.loc[x])\n",
    "f.loc[f.code == \"Gfoam\",  \"code\"] = \"Gfoams\""
   ]
  },
  {
   "cell_type": "code",
   "execution_count": null,
   "id": "8c698510-3de0-41b1-be06-0d8ae605a52f",
   "metadata": {},
   "outputs": [],
   "source": [
    "f[\"groupname\"] = f.code.apply(lambda x: dfCodes[\"groupname\"].loc[x])"
   ]
  },
  {
   "cell_type": "code",
   "execution_count": null,
   "id": "663fcb24-7ea6-4303-8a19-2a1e0a599c5c",
   "metadata": {},
   "outputs": [],
   "source": [
    "f.isna().any()"
   ]
  },
  {
   "cell_type": "code",
   "execution_count": null,
   "id": "50f520cb-58af-4e06-b317-0684e266dcb1",
   "metadata": {},
   "outputs": [],
   "source": [
    "# alr_pm = alr_plus_missing = pd.concat([alr[merge_cols], missing_matched[merge_cols]])"
   ]
  },
  {
   "cell_type": "code",
   "execution_count": null,
   "id": "a340ac7c-fb1e-4663-bb32-c293a86e0e17",
   "metadata": {},
   "outputs": [],
   "source": [
    "alr_pm.head()"
   ]
  },
  {
   "cell_type": "code",
   "execution_count": null,
   "id": "429675f4-2757-4e93-b94f-5a6ac309e7d4",
   "metadata": {},
   "outputs": [],
   "source": []
  },
  {
   "cell_type": "code",
   "execution_count": null,
   "id": "3b1092de-b7d5-42df-9d69-be9a4a834430",
   "metadata": {},
   "outputs": [],
   "source": [
    "collect_vitals(missing_matched)"
   ]
  },
  {
   "cell_type": "code",
   "execution_count": null,
   "id": "bb949d2d-eea4-4812-bdfb-e42a52a3924f",
   "metadata": {},
   "outputs": [],
   "source": [
    "missing_matched.loc_date.unique()"
   ]
  },
  {
   "cell_type": "code",
   "execution_count": null,
   "id": "90737894-34e4-48fe-93a7-f214a2b18d20",
   "metadata": {},
   "outputs": [],
   "source": [
    "f.loc_date.unique()"
   ]
  },
  {
   "cell_type": "code",
   "execution_count": null,
   "id": "2968a6f7-b2d3-4579-9221-90e49b7f26e2",
   "metadata": {},
   "outputs": [],
   "source": []
  }
 ],
 "metadata": {
  "kernelspec": {
   "display_name": "Python 3 (ipykernel)",
   "language": "python",
   "name": "python3"
  },
  "language_info": {
   "codemirror_mode": {
    "name": "ipython",
    "version": 3
   },
   "file_extension": ".py",
   "mimetype": "text/x-python",
   "name": "python",
   "nbconvert_exporter": "python",
   "pygments_lexer": "ipython3",
   "version": "3.9.17"
  }
 },
 "nbformat": 4,
 "nbformat_minor": 5
}
