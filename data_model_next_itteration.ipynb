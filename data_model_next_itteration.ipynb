{
 "cells": [
  {
   "cell_type": "code",
   "execution_count": 37,
   "id": "64c16819-72da-4b47-a3aa-988d3f5a8203",
   "metadata": {},
   "outputs": [
    {
     "name": "stdout",
     "output_type": "stream",
     "text": [
      "The watermark extension is already loaded. To reload it, use:\n",
      "  %reload_ext watermark\n"
     ]
    }
   ],
   "source": [
    "%load_ext watermark\n",
    "\n",
    "import pandas as pd\n",
    "import numpy as np\n",
    "\n",
    "from review_methods_tests import collect_vitals, find_missing, find_missing_loc_dates\n",
    "from review_methods_tests import use_gfrags_gfoams_gcaps, make_a_summary,combine_survey_files"
   ]
  },
  {
   "cell_type": "markdown",
   "id": "7bca0862-a1e5-4fd3-ae17-65ac2fd7cd0a",
   "metadata": {},
   "source": [
    "# Review of previous data \n",
    "\n",
    "## Notes\n",
    "\n",
    "After the end of the IQAASL project the data was stored separately and other surveys were conducted. Those results were stored in separate places. The codes used for the different projects were not all the same.\n",
    "\n",
    "Here we standardize, indentify locations or records that cannot be verified and define the set of codes used since 2015. The results will be used to define the data model for the next itteration.\n",
    "\n",
    "This work considers the results from experiences with the Solid-Waste-Team, Wagenigen Research and Univeristy, the previous collaboration with OFEV and current projects with the ASL.\n",
    "\n",
    "### Eliminated survey locations\n",
    "\n",
    "The following locations were either duplicated or the length of the shoreline could not be verified.\n",
    "\n",
    "```python\n",
    "\n",
    "not_these = [\n",
    "    'sihlsee_einsiedeln_schilligerllacherl',\n",
    "    'schiffenensee_duedingen_hirschij',\n",
    "    'lac-leman-hammerdirt',\n",
    "    'thur_schoenenberg_schaera',\n",
    "    'katzenbach_zuerich_sanesim',\n",
    "    'inn_pradella_kohlt',\n",
    "    'emme_luterbach_huggenbergerk',\n",
    "    'lotschebach_bern_scheurerk',\n",
    "    'mammern-swisslitterreport',\n",
    "    'berlingen-swisslitterreport'    \n",
    "]\n",
    "```\n",
    "\n",
    "### Eliminated codes\n",
    "\n",
    "The codes G909, G910, G911 and G912 were eliminated. The recorded value was placed under the parent code:\n",
    "\n",
    "1. G909, G910 => G74\n",
    "2. G911 => G81\n",
    "3. G912 => G82\n",
    "\n",
    "### Gfoams, Gfrags, Gcaps\n",
    "\n",
    "These are aggregate groups. It is difficult to infer how well a participant differentiates between size or use of the following codes.\n",
    "\n",
    "1. Gfrags: G80, G79, G78, G75, G76, G77\n",
    "2. Gfoams: G83, G82, G81\n",
    "3. Gcaps: G21, G22, G23, G24\n",
    "\n",
    "These aggregate groups are used when comparing values between sampling campaigns.\n",
    "\n",
    "### Sampling campaigns\n",
    "\n",
    "The dates of the sampling campaigns are expanded to include the surveys that happened between large organized campaigns. The start and end dates are defined below.\n",
    "\n",
    "__Attention!!__ The codes used for each survey campaign are different. Different groups organized and conducted surveys using the MLW protocol. The data was then sent to us.\n",
    "\n",
    "__MCBP:__ November 2015 - November 2016. The initial sampling campaign. Fragmented plastics (Gfrags/G79/G78/G76) were not sorted by size. All unidentified hard plastic items were classified in this manner.\n",
    "\n",
    "* start_date = 2015-11-15\n",
    "* end_date = 2017-03-31\n",
    "\n",
    "__SLR:__ April 2017 - May 2018. Sampling campaign by the WWF. Objects less than 2.5 cm were not counted.\n",
    "\n",
    "* start_date = 2017-04-01\n",
    "* end_date = 2020-03-31\n",
    "\n",
    "__IQAASL:__ April 2020 - May 2021. Sampling campaign mandated by the Swiss confederation. Additional codes were added for regional objects.\n",
    "\n",
    "* start_date = 2020-04-01\n",
    "* end_date = 2021-05-31\n",
    "\n",
    "__Plastock (not added yet):__ January 2022 - December 2022. Sampling campaign from the Association pour la Sauvegarde du Léman. Not all objects were counted, They only identified a limited number of objects.\n",
    "\n",
    "### Feature type\n",
    "\n",
    "The feature type is a label that applies to general conditions of use for the location and other locations in the region\n",
    "\n",
    "* r: rivers: surveys on river banks\n",
    "* l: lake: surveys on the lake shore\n",
    "* p: parcs: surveys in recreational areas\n",
    "\n",
    "### Parent boundary\n",
    "\n",
    "Designates the larger geographic region of the survey location. For lakes and rivers it is the name of the catchment area or river basin. For parcs it is the the type of park ie.. les Alpes. Recall that each feature has a name, for example Alpes Lépontines is the the name of a feature in the geographic region of _Les Alpes_.\n",
    "\n",
    "### Language\n",
    "\n",
    "The code descriptions are available in three languages\n",
    "\n",
    "* en: english\n",
    "* fr: french\n",
    "* de: german"
   ]
  },
  {
   "cell_type": "code",
   "execution_count": 38,
   "id": "54148c36-ff96-4891-b230-479c5598f430",
   "metadata": {},
   "outputs": [],
   "source": [
    "group_by_columns = [\n",
    "    'loc_date', \n",
    "    'date', \n",
    "    'feature_name',\n",
    "    'feature_type',\n",
    "    'slug',     \n",
    "    'parent_boundary',\n",
    "    'length',\n",
    "    'groupname',\n",
    "    'city',\n",
    "    'code', \n",
    "]\n",
    "agg_this = {\n",
    "    \"quantity\":\"sum\",\n",
    "    \"pcs_m\": \"sum\"\n",
    "}\n",
    "\n",
    "codes = pd.read_csv(\"data/end_process/codes.csv\")\n",
    "codes.set_index(\"code\", drop=True, inplace=True)\n",
    "\n",
    "\n",
    "data_sources = [\n",
    "    \"data/end_process/after_may_2021.csv\",\n",
    "    \"data/end_process/iqaasl.csv\",\n",
    "    \"data/end_process/mcbp.csv\",\n",
    "    \"data/end_process/slr.csv\",\n",
    "]\n",
    "\n",
    "data_source = [\n",
    "    \"data/end_process/new_allx.csv\"\n",
    "]\n",
    "\n",
    "old_surveys = combine_survey_files(data_source)\n",
    "new_surveys = combine_survey_files(data_sources)"
   ]
  },
  {
   "cell_type": "code",
   "execution_count": 58,
   "id": "d8359424-9175-44f9-a1f4-b88de192575d",
   "metadata": {},
   "outputs": [],
   "source": [
    "codes.loc[\"G76\", \"parent_code\"] = \"Gfrags\""
   ]
  },
  {
   "cell_type": "code",
   "execution_count": 59,
   "id": "13baf904-5517-422e-86cf-24282aef10ff",
   "metadata": {},
   "outputs": [],
   "source": [
    "codes.loc[\"G77\", \"parent_code\"] = \"Gfrags\""
   ]
  },
  {
   "cell_type": "code",
   "execution_count": 60,
   "id": "3e0cedce-ddcc-4e97-b04e-a123a1f392ba",
   "metadata": {},
   "outputs": [],
   "source": [
    "codes.to_csv(\"data/end_process/codes.csv\", index=True)"
   ]
  },
  {
   "cell_type": "code",
   "execution_count": 40,
   "id": "95537ace-65d1-4467-a596-2eff35312f16",
   "metadata": {},
   "outputs": [],
   "source": [
    "olds = old_surveys.loc_date.unique()\n",
    "news = new_surveys.loc_date.unique()\n",
    "fmap = new_surveys[[\"slug\", \"feature_type\"]].drop_duplicates().set_index(\"slug\")"
   ]
  },
  {
   "cell_type": "code",
   "execution_count": 41,
   "id": "31c9c372-bcc4-4d4d-b71b-e44be762f535",
   "metadata": {},
   "outputs": [],
   "source": [
    "old_surveys[\"feature_type\"] = old_surveys.location.apply(lambda x: fmap.loc[x, \"feature_type\"])"
   ]
  },
  {
   "cell_type": "code",
   "execution_count": 42,
   "id": "730352bc-41db-4309-8b7c-20880a7fec9e",
   "metadata": {},
   "outputs": [],
   "source": [
    "old_surveys.rename(columns={\"water_name_slug\":\"feature_name\", \"location\":\"slug\", \"river_bassin\":\"parent_boundary\"}, inplace=True)\n",
    "old_surveys['length'] = old_surveys.length.astype(\"int\")"
   ]
  },
  {
   "cell_type": "code",
   "execution_count": 43,
   "id": "3ca97583-8956-47a7-be4e-27df0b7ea2f5",
   "metadata": {},
   "outputs": [
    {
     "data": {
      "text/plain": [
       "['G82',\n",
       " 'G76',\n",
       " 'G81',\n",
       " 'G83',\n",
       " 'G80',\n",
       " 'G79',\n",
       " 'G75',\n",
       " 'G21',\n",
       " 'G23',\n",
       " 'G22',\n",
       " 'G24',\n",
       " 'G78']"
      ]
     },
     "execution_count": 43,
     "metadata": {},
     "output_type": "execute_result"
    }
   ],
   "source": [
    "[x for x in old_surveys.code.unique() if x not in new_surveys.code.unique()]"
   ]
  },
  {
   "cell_type": "code",
   "execution_count": 44,
   "id": "2d38ee0c-858a-40aa-bac3-a2b0c4ea4b6d",
   "metadata": {},
   "outputs": [
    {
     "name": "stdout",
     "output_type": "stream",
     "text": [
      "<class 'pandas.core.frame.DataFrame'>\n",
      "RangeIndex: 318478 entries, 0 to 318477\n",
      "Data columns (total 12 columns):\n",
      " #   Column           Non-Null Count   Dtype  \n",
      "---  ------           --------------   -----  \n",
      " 0   loc_date         318478 non-null  object \n",
      " 1   date             318478 non-null  object \n",
      " 2   feature_name     318478 non-null  object \n",
      " 3   slug             318478 non-null  object \n",
      " 4   code             318478 non-null  object \n",
      " 5   pcs_m            318478 non-null  float64\n",
      " 6   quantity         318478 non-null  int64  \n",
      " 7   parent_boundary  318478 non-null  object \n",
      " 8   length           318478 non-null  int64  \n",
      " 9   groupname        318478 non-null  object \n",
      " 10  city             318478 non-null  object \n",
      " 11  feature_type     318478 non-null  object \n",
      "dtypes: float64(1), int64(2), object(9)\n",
      "memory usage: 29.2+ MB\n"
     ]
    }
   ],
   "source": [
    "old_surveys.info()"
   ]
  },
  {
   "cell_type": "code",
   "execution_count": 45,
   "id": "6e8482b9-b226-40ee-be5b-eb41e743928c",
   "metadata": {},
   "outputs": [
    {
     "name": "stdout",
     "output_type": "stream",
     "text": [
      "<class 'pandas.core.frame.DataFrame'>\n",
      "Index: 318478 entries, 0 to 200785\n",
      "Data columns (total 12 columns):\n",
      " #   Column           Non-Null Count   Dtype  \n",
      "---  ------           --------------   -----  \n",
      " 0   loc_date         318478 non-null  object \n",
      " 1   date             318478 non-null  object \n",
      " 2   feature_name     318478 non-null  object \n",
      " 3   slug             318478 non-null  object \n",
      " 4   code             318478 non-null  object \n",
      " 5   pcs_m            318478 non-null  float64\n",
      " 6   quantity         318478 non-null  int64  \n",
      " 7   parent_boundary  318478 non-null  object \n",
      " 8   length           318478 non-null  int64  \n",
      " 9   groupname        318478 non-null  object \n",
      " 10  city             318478 non-null  object \n",
      " 11  feature_type     318478 non-null  object \n",
      "dtypes: float64(1), int64(2), object(9)\n",
      "memory usage: 31.6+ MB\n"
     ]
    }
   ],
   "source": [
    "new_surveys.info()"
   ]
  },
  {
   "cell_type": "code",
   "execution_count": 46,
   "id": "49b4b5d7-f4bf-4d5f-a686-f38be299eb53",
   "metadata": {},
   "outputs": [
    {
     "data": {
      "text/plain": [
       "318478"
      ]
     },
     "execution_count": 46,
     "metadata": {},
     "output_type": "execute_result"
    }
   ],
   "source": [
    "len(new_surveys)"
   ]
  },
  {
   "cell_type": "code",
   "execution_count": 47,
   "id": "0621c61e-3b12-4200-b8ca-de0645684f69",
   "metadata": {},
   "outputs": [
    {
     "data": {
      "text/plain": [
       "318478"
      ]
     },
     "execution_count": 47,
     "metadata": {},
     "output_type": "execute_result"
    }
   ],
   "source": [
    "len(old_surveys)"
   ]
  },
  {
   "cell_type": "markdown",
   "id": "03fa132a-c1ad-45e9-88f9-691f5997245b",
   "metadata": {},
   "source": [
    "## Survey data"
   ]
  },
  {
   "cell_type": "code",
   "execution_count": 48,
   "id": "f5bb5697-a586-4a7b-8ef2-58c35cfed825",
   "metadata": {},
   "outputs": [
    {
     "ename": "NameError",
     "evalue": "name 'surveys' is not defined",
     "output_type": "error",
     "traceback": [
      "\u001b[0;31m---------------------------------------------------------------------------\u001b[0m",
      "\u001b[0;31mNameError\u001b[0m                                 Traceback (most recent call last)",
      "Cell \u001b[0;32mIn[48], line 6\u001b[0m\n\u001b[1;32m      1\u001b[0m \u001b[38;5;66;03m# aggregate to object totals per day per sample\u001b[39;00m\n\u001b[1;32m      2\u001b[0m \u001b[38;5;66;03m# groupby eliminates the objects with a quantity of zero\u001b[39;00m\n\u001b[1;32m      3\u001b[0m \u001b[38;5;66;03m# split the data into two parts\u001b[39;00m\n\u001b[1;32m      4\u001b[0m \n\u001b[1;32m      5\u001b[0m \u001b[38;5;66;03m# assign the new code values to the results\u001b[39;00m\n\u001b[0;32m----> 6\u001b[0m g_frag_foam \u001b[38;5;241m=\u001b[39m use_gfrags_gfoams_gcaps(\u001b[43msurveys\u001b[49m, codes)\n\u001b[1;32m      8\u001b[0m \u001b[38;5;66;03m# separate the values greater than zero and the new code values\u001b[39;00m\n\u001b[1;32m      9\u001b[0m gthan_zero \u001b[38;5;241m=\u001b[39m g_frag_foam[(g_frag_foam\u001b[38;5;241m.\u001b[39mquantity \u001b[38;5;241m>\u001b[39m \u001b[38;5;241m0\u001b[39m) \u001b[38;5;241m|\u001b[39m (g_frag_foam\u001b[38;5;241m.\u001b[39mcode\u001b[38;5;241m.\u001b[39misin([\u001b[38;5;124m\"\u001b[39m\u001b[38;5;124mGfrags\u001b[39m\u001b[38;5;124m\"\u001b[39m, \u001b[38;5;124m\"\u001b[39m\u001b[38;5;124mGfoams\u001b[39m\u001b[38;5;124m\"\u001b[39m, \u001b[38;5;124m\"\u001b[39m\u001b[38;5;124mGcaps\u001b[39m\u001b[38;5;124m\"\u001b[39m]))]\u001b[38;5;241m.\u001b[39mcopy()\n",
      "\u001b[0;31mNameError\u001b[0m: name 'surveys' is not defined"
     ]
    }
   ],
   "source": [
    "# aggregate to object totals per day per sample\n",
    "# groupby eliminates the objects with a quantity of zero\n",
    "# split the data into two parts\n",
    "\n",
    "# assign the new code values to the results\n",
    "g_frag_foam = use_gfrags_gfoams_gcaps(surveys, codes)\n",
    "\n",
    "# separate the values greater than zero and the new code values\n",
    "gthan_zero = g_frag_foam[(g_frag_foam.quantity > 0) | (g_frag_foam.code.isin([\"Gfrags\", \"Gfoams\", \"Gcaps\"]))].copy()\n",
    "\n",
    "# separate the values = to zero and the codes that are not being changed\n",
    "t_t0 = g_frag_foam[(g_frag_foam.quantity == 0) & (~g_frag_foam.code.isin([\"Gfrags\", \"Gfoams\", \"Gcaps\"]))].copy()\n",
    "\n",
    "# group the codes that have a value greater\n",
    "t_ti = gthan_zero.groupby(group_by_columns, as_index=False).agg(agg_this)\n",
    "\n",
    "t_th = pd.concat([t_t0, t_ti])"
   ]
  },
  {
   "cell_type": "markdown",
   "id": "4961586f-4b6f-47c1-ae50-67ea20fb9f0c",
   "metadata": {},
   "source": [
    "### Summary all data"
   ]
  },
  {
   "cell_type": "code",
   "execution_count": 49,
   "id": "e95cbf8b-eaac-46d7-8344-38df20313bc7",
   "metadata": {},
   "outputs": [
    {
     "name": "stdout",
     "output_type": "stream",
     "text": [
      "\n",
      "    Number of objects: 196842\n",
      "    \n",
      "    Median pieces/meter: 0.0\n",
      "    \n",
      "    Number of samples: 1352\n",
      "    \n",
      "    Number of unique codes: 227\n",
      "    \n",
      "    Number of sample locations: 245\n",
      "    \n",
      "    Number of features: 59\n",
      "    \n",
      "    Number of cities: 142\n",
      "    \n",
      "    Start date: 2015-11-23\n",
      "    \n",
      "    End date: 2022-10-06\n",
      "    \n",
      "    \n"
     ]
    }
   ],
   "source": [
    "vitals_all = collect_vitals(new_surveys)\n",
    "print(make_a_summary(vitals_all))"
   ]
  },
  {
   "cell_type": "code",
   "execution_count": 50,
   "id": "c26648db-e325-4d06-9628-85a2a5fb5a31",
   "metadata": {},
   "outputs": [
    {
     "name": "stdout",
     "output_type": "stream",
     "text": [
      "\n",
      "    Number of objects: 196842\n",
      "    \n",
      "    Median pieces/meter: 0.0\n",
      "    \n",
      "    Number of samples: 1352\n",
      "    \n",
      "    Number of unique codes: 239\n",
      "    \n",
      "    Number of sample locations: 245\n",
      "    \n",
      "    Number of features: 59\n",
      "    \n",
      "    Number of cities: 142\n",
      "    \n",
      "    Start date: 2015-11-23\n",
      "    \n",
      "    End date: 2022-10-06\n",
      "    \n",
      "    \n"
     ]
    }
   ],
   "source": [
    "vitals_old = collect_vitals(old_surveys)\n",
    "print(make_a_summary(vitals_old))"
   ]
  },
  {
   "cell_type": "markdown",
   "id": "b194eb18-fb3c-4eb3-84f1-9ad920e9f742",
   "metadata": {},
   "source": [
    "### Summary MCBP\n",
    "\n",
    "start_date = 2015-11-15\n",
    "\n",
    "end_date = 2017-03-31"
   ]
  },
  {
   "cell_type": "code",
   "execution_count": 51,
   "id": "3ce1a226-8ee2-4fd4-bb93-ec0545589b8e",
   "metadata": {},
   "outputs": [
    {
     "name": "stdout",
     "output_type": "stream",
     "text": [
      "\n",
      "        Summary name = MCBPn\n",
      "\n",
      "        \n",
      "    Number of objects: 35837\n",
      "    \n",
      "    Median pieces/meter: 0.0\n",
      "    \n",
      "    Number of samples: 94\n",
      "    \n",
      "    Number of unique codes: 226\n",
      "    \n",
      "    Number of sample locations: 21\n",
      "    \n",
      "    Number of features: 1\n",
      "    \n",
      "    Number of cities: 9\n",
      "    \n",
      "    Start date: 2015-11-23\n",
      "    \n",
      "    End date: 2017-03-20\n",
      "    \n",
      "    \n",
      "        \n"
     ]
    }
   ],
   "source": [
    "mcbpn = new_surveys[(new_surveys[\"date\"] >= \"2015-11-15\")&(new_surveys[\"date\"] <= \"2017-03-31\")].copy()\n",
    "# mcbpn.to_csv(\"data/end_process/mcbp.csv\", index=False)\n",
    "vitals_mcbpn = collect_vitals(mcbpn)\n",
    "print(make_a_summary(vitals_mcbpn, add_summary_name=\"MCBPn\"))"
   ]
  },
  {
   "cell_type": "code",
   "execution_count": 52,
   "id": "376a3729-ede8-4572-95f6-358344a9ad14",
   "metadata": {},
   "outputs": [
    {
     "name": "stdout",
     "output_type": "stream",
     "text": [
      "\n",
      "        Summary name = MCBPl\n",
      "\n",
      "        \n",
      "    Number of objects: 35837\n",
      "    \n",
      "    Median pieces/meter: 0.0\n",
      "    \n",
      "    Number of samples: 94\n",
      "    \n",
      "    Number of unique codes: 235\n",
      "    \n",
      "    Number of sample locations: 21\n",
      "    \n",
      "    Number of features: 1\n",
      "    \n",
      "    Number of cities: 9\n",
      "    \n",
      "    Start date: 2015-11-23\n",
      "    \n",
      "    End date: 2017-03-20\n",
      "    \n",
      "    \n",
      "        \n"
     ]
    }
   ],
   "source": [
    "mcbpo = old_surveys[(old_surveys[\"date\"] >= \"2015-11-15\")&(old_surveys[\"date\"] <= \"2017-03-31\")].copy()\n",
    "mcbpo.to_csv(\"data/end_process/mcbp.csv\", index=False)\n",
    "vitals_mcbpo = collect_vitals(mcbpo)\n",
    "print(make_a_summary(vitals_mcbpo, add_summary_name=\"MCBPl\"))"
   ]
  },
  {
   "cell_type": "markdown",
   "id": "2cc6538f-4b2a-43f4-911c-e4d626b0cfc2",
   "metadata": {},
   "source": [
    "### Summary SLR\n",
    "\n",
    "start_date = 2017-04-01\n",
    "\n",
    "end_date = 2018-05-31"
   ]
  },
  {
   "cell_type": "code",
   "execution_count": 53,
   "id": "5897bf8b-a1c4-420b-becc-03323e197c3e",
   "metadata": {},
   "outputs": [
    {
     "name": "stdout",
     "output_type": "stream",
     "text": [
      "\n",
      "        Summary name = SLRn\n",
      "\n",
      "        \n",
      "    Number of objects: 96851\n",
      "    \n",
      "    Median pieces/meter: 0.0\n",
      "    \n",
      "    Number of samples: 853\n",
      "    \n",
      "    Number of unique codes: 226\n",
      "    \n",
      "    Number of sample locations: 114\n",
      "    \n",
      "    Number of features: 38\n",
      "    \n",
      "    Number of cities: 79\n",
      "    \n",
      "    Start date: 2017-04-02\n",
      "    \n",
      "    End date: 2020-03-20\n",
      "    \n",
      "    \n",
      "        \n"
     ]
    }
   ],
   "source": [
    "slrn = new_surveys[(new_surveys[\"date\"] >= \"2017-04-01\")&(new_surveys[\"date\"] <= \"2020-03-31\")].copy()\n",
    "# slrn.to_csv(\"data/end_process/slr.csv\", index=False)\n",
    "vitals_slrn = collect_vitals(slrn)\n",
    "print(make_a_summary(vitals_slrn, add_summary_name=\"SLRn\"))"
   ]
  },
  {
   "cell_type": "code",
   "execution_count": 54,
   "id": "ab3b7c4c-af23-4bee-94aa-a3d3c91b5a71",
   "metadata": {},
   "outputs": [
    {
     "name": "stdout",
     "output_type": "stream",
     "text": [
      "\n",
      "        Summary name = SLRo\n",
      "\n",
      "        \n",
      "    Number of objects: 96851\n",
      "    \n",
      "    Median pieces/meter: 0.0\n",
      "    \n",
      "    Number of samples: 853\n",
      "    \n",
      "    Number of unique codes: 235\n",
      "    \n",
      "    Number of sample locations: 114\n",
      "    \n",
      "    Number of features: 38\n",
      "    \n",
      "    Number of cities: 79\n",
      "    \n",
      "    Start date: 2017-04-02\n",
      "    \n",
      "    End date: 2020-03-20\n",
      "    \n",
      "    \n",
      "        \n"
     ]
    }
   ],
   "source": [
    "slro = old_surveys[(old_surveys[\"date\"] >= \"2017-04-01\")&(old_surveys[\"date\"] <= \"2020-03-31\")].copy()\n",
    "slro.to_csv(\"data/end_process/slr.csv\", index=False)\n",
    "vitals_slro = collect_vitals(slro)\n",
    "print(make_a_summary(vitals_slro, add_summary_name=\"SLRo\"))"
   ]
  },
  {
   "cell_type": "markdown",
   "id": "04a2b9f0-6cf7-487e-8e61-1cbd9d23c7af",
   "metadata": {},
   "source": [
    "### summary IQAASL\n",
    "\n",
    "start_date = 2020-04-01\n",
    "\n",
    "end_date = 2021-05-31\n"
   ]
  },
  {
   "cell_type": "code",
   "execution_count": 55,
   "id": "9d838932-739e-4455-ac2e-5a49809590b7",
   "metadata": {},
   "outputs": [
    {
     "name": "stdout",
     "output_type": "stream",
     "text": [
      "\n",
      "        Summary name = IQAASLn\n",
      "\n",
      "        \n",
      "    Number of objects: 54773\n",
      "    \n",
      "    Median pieces/meter: 0.0\n",
      "    \n",
      "    Number of samples: 387\n",
      "    \n",
      "    Number of unique codes: 227\n",
      "    \n",
      "    Number of sample locations: 149\n",
      "    \n",
      "    Number of features: 34\n",
      "    \n",
      "    Number of cities: 83\n",
      "    \n",
      "    Start date: 2020-04-09\n",
      "    \n",
      "    End date: 2021-05-29\n",
      "    \n",
      "    \n",
      "        \n"
     ]
    }
   ],
   "source": [
    "iqaasln = new_surveys[(new_surveys[\"date\"] >= \"2020-04-01\")&(new_surveys[\"date\"] <= \"2021-05-31\")].copy()\n",
    "# iqaasln.to_csv(\"data/end_process/iqaasln.csv\", index=False)\n",
    "\n",
    "# the_rest = surveys[(surveys[\"date\"] > \"2021-05-31\")]\n",
    "# the_rest.to_csv(\"data/end_process/after_may_2021.csv\", index=False)\n",
    "vitals_iqaasln = collect_vitals(iqaasln)\n",
    "print(make_a_summary(vitals_iqaasln, add_summary_name=\"IQAASLn\"))"
   ]
  },
  {
   "cell_type": "code",
   "execution_count": 57,
   "id": "d48f098e-00de-446d-851f-cd35f4cdc6fa",
   "metadata": {},
   "outputs": [
    {
     "name": "stdout",
     "output_type": "stream",
     "text": [
      "\n",
      "        Summary name = IQAASLo\n",
      "\n",
      "        \n",
      "    Number of objects: 54773\n",
      "    \n",
      "    Median pieces/meter: 0.0\n",
      "    \n",
      "    Number of samples: 387\n",
      "    \n",
      "    Number of unique codes: 238\n",
      "    \n",
      "    Number of sample locations: 149\n",
      "    \n",
      "    Number of features: 34\n",
      "    \n",
      "    Number of cities: 83\n",
      "    \n",
      "    Start date: 2020-04-09\n",
      "    \n",
      "    End date: 2021-05-29\n",
      "    \n",
      "    \n",
      "        \n"
     ]
    }
   ],
   "source": [
    "iqaaslo = old_surveys[(old_surveys[\"date\"] >= \"2020-04-01\")&(old_surveys[\"date\"] <= \"2021-05-31\")].copy()\n",
    "iqaaslo.to_csv(\"data/end_process/iqaasl.csv\", index=False)\n",
    "\n",
    "the_rest = old_surveys[(old_surveys[\"date\"] > \"2021-05-31\")]\n",
    "the_rest.to_csv(\"data/end_process/after_may_2021.csv\", index=False)\n",
    "vitals_iqaaslo = collect_vitals(iqaaslo)\n",
    "print(make_a_summary(vitals_iqaaslo, add_summary_name=\"IQAASLo\"))"
   ]
  },
  {
   "cell_type": "markdown",
   "id": "30eea0f8-3c8c-4812-9a6f-b430dce553f2",
   "metadata": {},
   "source": [
    "### Summary parent-boundary"
   ]
  },
  {
   "cell_type": "code",
   "execution_count": 34,
   "id": "48af4063-cdb5-4d60-a572-be48a60bdfe5",
   "metadata": {},
   "outputs": [
    {
     "name": "stdout",
     "output_type": "stream",
     "text": [
      "\n",
      "        Summary name = Aaren\n",
      "\n",
      "        \n",
      "    Number of objects: 33446\n",
      "    \n",
      "    Median pieces/meter: 0.0\n",
      "    \n",
      "    Number of samples: 363\n",
      "    \n",
      "    Number of unique codes: 226\n",
      "    \n",
      "    Number of sample locations: 70\n",
      "    \n",
      "    Number of features: 15\n",
      "    \n",
      "    Number of cities: 48\n",
      "    \n",
      "    Start date: 2017-04-02\n",
      "    \n",
      "    End date: 2021-04-23\n",
      "    \n",
      "    \n",
      "        \n"
     ]
    }
   ],
   "source": [
    "parent_boundary = \"aare\"\n",
    "\n",
    "aaren = new_surveys[new_surveys.parent_boundary == \"aare\"].copy()\n",
    "vitals_aaren = collect_vitals(aaren)\n",
    "print(make_a_summary(vitals_aaren, add_summary_name=\"Aaren\"))"
   ]
  },
  {
   "cell_type": "code",
   "execution_count": 35,
   "id": "15a85bd0-3f64-42f2-89b2-12943a309400",
   "metadata": {},
   "outputs": [
    {
     "name": "stdout",
     "output_type": "stream",
     "text": [
      "\n",
      "        Summary name = Aareo\n",
      "\n",
      "        \n",
      "    Number of objects: 33446\n",
      "    \n",
      "    Median pieces/meter: 0.0\n",
      "    \n",
      "    Number of samples: 363\n",
      "    \n",
      "    Number of unique codes: 235\n",
      "    \n",
      "    Number of sample locations: 70\n",
      "    \n",
      "    Number of features: 15\n",
      "    \n",
      "    Number of cities: 48\n",
      "    \n",
      "    Start date: 2017-04-02\n",
      "    \n",
      "    End date: 2021-04-23\n",
      "    \n",
      "    \n",
      "        \n"
     ]
    }
   ],
   "source": [
    "parent_boundary = \"aare\"\n",
    "\n",
    "aareo = old_surveys[old_surveys.parent_boundary == \"aare\"].copy()\n",
    "vitals_aareo = collect_vitals(aareo)\n",
    "print(make_a_summary(vitals_aareo, add_summary_name=\"Aareo\"))"
   ]
  },
  {
   "cell_type": "markdown",
   "id": "1e749898-0c1c-4042-9771-2f02b8d89583",
   "metadata": {},
   "source": [
    "## Location data"
   ]
  },
  {
   "cell_type": "code",
   "execution_count": 36,
   "id": "3ea4ff85-3a77-488c-8e9a-ec780af54034",
   "metadata": {},
   "outputs": [
    {
     "data": {
      "text/html": [
       "<div>\n",
       "<style scoped>\n",
       "    .dataframe tbody tr th:only-of-type {\n",
       "        vertical-align: middle;\n",
       "    }\n",
       "\n",
       "    .dataframe tbody tr th {\n",
       "        vertical-align: top;\n",
       "    }\n",
       "\n",
       "    .dataframe thead th {\n",
       "        text-align: right;\n",
       "    }\n",
       "</style>\n",
       "<table border=\"1\" class=\"dataframe\">\n",
       "  <thead>\n",
       "    <tr style=\"text-align: right;\">\n",
       "      <th></th>\n",
       "      <th>slug</th>\n",
       "      <th>latitude</th>\n",
       "      <th>longitude</th>\n",
       "      <th>country</th>\n",
       "      <th>feature_type</th>\n",
       "      <th>display_feature_name</th>\n",
       "      <th>city_slug</th>\n",
       "      <th>feature_name</th>\n",
       "      <th>city</th>\n",
       "      <th>parent_boundary</th>\n",
       "      <th>canton</th>\n",
       "    </tr>\n",
       "  </thead>\n",
       "  <tbody>\n",
       "    <tr>\n",
       "      <th>0</th>\n",
       "      <td>aabach</td>\n",
       "      <td>47.220989</td>\n",
       "      <td>8.940365</td>\n",
       "      <td>CH</td>\n",
       "      <td>l</td>\n",
       "      <td>Zürichsee</td>\n",
       "      <td>schmerikon</td>\n",
       "      <td>zurichsee</td>\n",
       "      <td>Schmerikon</td>\n",
       "      <td>linth</td>\n",
       "      <td>St. Gallen</td>\n",
       "    </tr>\n",
       "    <tr>\n",
       "      <th>1</th>\n",
       "      <td>aare-limmatspitz</td>\n",
       "      <td>47.501060</td>\n",
       "      <td>8.237371</td>\n",
       "      <td>CH</td>\n",
       "      <td>r</td>\n",
       "      <td>Aare</td>\n",
       "      <td>gebenstorf</td>\n",
       "      <td>aare</td>\n",
       "      <td>Gebenstorf</td>\n",
       "      <td>aare</td>\n",
       "      <td>Aargau</td>\n",
       "    </tr>\n",
       "    <tr>\n",
       "      <th>2</th>\n",
       "      <td>aare-port</td>\n",
       "      <td>47.116170</td>\n",
       "      <td>7.269550</td>\n",
       "      <td>CH</td>\n",
       "      <td>r</td>\n",
       "      <td>Nidau-Büren-Kanal</td>\n",
       "      <td>port</td>\n",
       "      <td>aarenidau-buren-kanal</td>\n",
       "      <td>Port</td>\n",
       "      <td>aare</td>\n",
       "      <td>Bern</td>\n",
       "    </tr>\n",
       "    <tr>\n",
       "      <th>3</th>\n",
       "      <td>aare-solothurn-lido-strand</td>\n",
       "      <td>47.196949</td>\n",
       "      <td>7.521643</td>\n",
       "      <td>CH</td>\n",
       "      <td>r</td>\n",
       "      <td>Aare</td>\n",
       "      <td>solothurn</td>\n",
       "      <td>aare</td>\n",
       "      <td>Solothurn</td>\n",
       "      <td>aare</td>\n",
       "      <td>Solothurn</td>\n",
       "    </tr>\n",
       "    <tr>\n",
       "      <th>4</th>\n",
       "      <td>aare_bern_caveltin</td>\n",
       "      <td>46.923579</td>\n",
       "      <td>7.473319</td>\n",
       "      <td>CH</td>\n",
       "      <td>r</td>\n",
       "      <td>Aare</td>\n",
       "      <td>muri-bei-bern</td>\n",
       "      <td>aare</td>\n",
       "      <td>Muri bei Bern</td>\n",
       "      <td>aare</td>\n",
       "      <td>Bern</td>\n",
       "    </tr>\n",
       "  </tbody>\n",
       "</table>\n",
       "</div>"
      ],
      "text/plain": [
       "                         slug   latitude  longitude country feature_type  \\\n",
       "0                      aabach  47.220989   8.940365      CH            l   \n",
       "1            aare-limmatspitz  47.501060   8.237371      CH            r   \n",
       "2                   aare-port  47.116170   7.269550      CH            r   \n",
       "3  aare-solothurn-lido-strand  47.196949   7.521643      CH            r   \n",
       "4          aare_bern_caveltin  46.923579   7.473319      CH            r   \n",
       "\n",
       "  display_feature_name      city_slug           feature_name           city  \\\n",
       "0            Zürichsee     schmerikon              zurichsee     Schmerikon   \n",
       "1                 Aare     gebenstorf                   aare     Gebenstorf   \n",
       "2    Nidau-Büren-Kanal           port  aarenidau-buren-kanal           Port   \n",
       "3                 Aare      solothurn                   aare      Solothurn   \n",
       "4                 Aare  muri-bei-bern                   aare  Muri bei Bern   \n",
       "\n",
       "  parent_boundary      canton  \n",
       "0           linth  St. Gallen  \n",
       "1            aare      Aargau  \n",
       "2            aare        Bern  \n",
       "3            aare   Solothurn  \n",
       "4            aare        Bern  "
      ]
     },
     "execution_count": 36,
     "metadata": {},
     "output_type": "execute_result"
    }
   ],
   "source": [
    "beaches = pd.read_csv(\"data/end_process/beaches.csv\")\n",
    "beaches.head()"
   ]
  },
  {
   "cell_type": "markdown",
   "id": "9d3c001f-d7a6-4cb8-bd5c-1dd9e5a179a8",
   "metadata": {},
   "source": [
    "### Summary by feature type"
   ]
  },
  {
   "cell_type": "code",
   "execution_count": 14,
   "id": "5f8f32fb-057c-4192-b1c0-196447c1c396",
   "metadata": {},
   "outputs": [
    {
     "name": "stdout",
     "output_type": "stream",
     "text": [
      "\n",
      "        Summary name = Rivers\n",
      "\n",
      "        \n",
      "    Number of objects: 42073\n",
      "    \n",
      "    Median pieces/meter: 0.0\n",
      "    \n",
      "    Number of samples: 574\n",
      "    \n",
      "    Number of unique codes: 226\n",
      "    \n",
      "    Number of sample locations: 98\n",
      "    \n",
      "    Number of features: 36\n",
      "    \n",
      "    Number of cities: 69\n",
      "    \n",
      "    Start date: 2017-04-02\n",
      "    \n",
      "    End date: 2021-05-06\n",
      "    \n",
      "    \n",
      "        \n"
     ]
    }
   ],
   "source": [
    "r_summary = t_th[t_th.feature_type == \"r\"].copy()\n",
    "vitals_r = collect_vitals(r_summary)\n",
    "print(make_a_summary(vitals_r, add_summary_name=\"Rivers\"))"
   ]
  },
  {
   "cell_type": "code",
   "execution_count": 15,
   "id": "e31076d9-8771-414b-895c-592fd4ac29b7",
   "metadata": {},
   "outputs": [
    {
     "name": "stdout",
     "output_type": "stream",
     "text": [
      "\n",
      "        Summary name = lake\n",
      "\n",
      "        \n",
      "    Number of objects: 146993\n",
      "    \n",
      "    Median pieces/meter: 0.0\n",
      "    \n",
      "    Number of samples: 758\n",
      "    \n",
      "    Number of unique codes: 227\n",
      "    \n",
      "    Number of sample locations: 127\n",
      "    \n",
      "    Number of features: 17\n",
      "    \n",
      "    Number of cities: 68\n",
      "    \n",
      "    Start date: 2015-11-23\n",
      "    \n",
      "    End date: 2022-10-06\n",
      "    \n",
      "    \n",
      "        \n"
     ]
    }
   ],
   "source": [
    "l_summary = t_th[t_th.feature_type == \"l\"].copy()\n",
    "vitals_l = collect_vitals(l_summary)\n",
    "print(make_a_summary(vitals_l, add_summary_name=\"lake\"))"
   ]
  },
  {
   "cell_type": "code",
   "execution_count": 16,
   "id": "fe990362-20fd-428b-a9f1-1438bb099668",
   "metadata": {},
   "outputs": [
    {
     "name": "stdout",
     "output_type": "stream",
     "text": [
      "\n",
      "        Summary name = parcs\n",
      "\n",
      "        \n",
      "    Number of objects: 7776\n",
      "    \n",
      "    Median pieces/meter: 0.0\n",
      "    \n",
      "    Number of samples: 20\n",
      "    \n",
      "    Number of unique codes: 227\n",
      "    \n",
      "    Number of sample locations: 20\n",
      "    \n",
      "    Number of features: 7\n",
      "    \n",
      "    Number of cities: 18\n",
      "    \n",
      "    Start date: 2021-04-24\n",
      "    \n",
      "    End date: 2021-08-28\n",
      "    \n",
      "    \n",
      "        \n"
     ]
    }
   ],
   "source": [
    "p_summary = t_th[t_th.feature_type == \"p\"].copy()\n",
    "vitals_p = collect_vitals(p_summary)\n",
    "print(make_a_summary(vitals_p, add_summary_name=\"parcs\"))"
   ]
  },
  {
   "cell_type": "code",
   "execution_count": 17,
   "id": "31bac9cd-e95e-4d9c-83c3-aa9c4e4d8203",
   "metadata": {},
   "outputs": [
    {
     "data": {
      "text/plain": [
       "[196842, 1352, 245, 60, 155]"
      ]
     },
     "execution_count": 17,
     "metadata": {},
     "output_type": "execute_result"
    }
   ],
   "source": [
    "def vitals_to_sum(vitals):\n",
    "    return np.array([vitals[0], vitals[2], vitals[4], vitals[5], vitals[6]])\n",
    "\n",
    "t = vitals_to_sum(vitals_l) + vitals_to_sum(vitals_r) + vitals_to_sum(vitals_p)\n",
    "list(t)"
   ]
  },
  {
   "cell_type": "code",
   "execution_count": 18,
   "id": "64b0da9a-3fe4-45e8-b4c1-98f4769944ac",
   "metadata": {},
   "outputs": [
    {
     "name": "stdout",
     "output_type": "stream",
     "text": [
      "\n",
      "    Number of objects: 196842\n",
      "    \n",
      "    Median pieces/meter: 0.0\n",
      "    \n",
      "    Number of samples: 1352\n",
      "    \n",
      "    Number of unique codes: 227\n",
      "    \n",
      "    Number of sample locations: 245\n",
      "    \n",
      "    Number of features: 59\n",
      "    \n",
      "    Number of cities: 142\n",
      "    \n",
      "    Start date: 2015-11-23\n",
      "    \n",
      "    End date: 2022-10-06\n",
      "    \n",
      "    \n"
     ]
    }
   ],
   "source": [
    "print(make_a_summary(vitals_all))"
   ]
  },
  {
   "cell_type": "markdown",
   "id": "92711420-398a-4ddf-a8de-ac0a13b4f870",
   "metadata": {},
   "source": [
    "## Codes"
   ]
  },
  {
   "cell_type": "code",
   "execution_count": 19,
   "id": "554b8682-8876-4f30-af9a-932e84b11c32",
   "metadata": {},
   "outputs": [
    {
     "data": {
      "text/html": [
       "<div>\n",
       "<style scoped>\n",
       "    .dataframe tbody tr th:only-of-type {\n",
       "        vertical-align: middle;\n",
       "    }\n",
       "\n",
       "    .dataframe tbody tr th {\n",
       "        vertical-align: top;\n",
       "    }\n",
       "\n",
       "    .dataframe thead th {\n",
       "        text-align: right;\n",
       "    }\n",
       "</style>\n",
       "<table border=\"1\" class=\"dataframe\">\n",
       "  <thead>\n",
       "    <tr style=\"text-align: right;\">\n",
       "      <th></th>\n",
       "      <th>material</th>\n",
       "      <th>en</th>\n",
       "      <th>source</th>\n",
       "      <th>parent_code</th>\n",
       "      <th>single_use</th>\n",
       "      <th>groupname</th>\n",
       "      <th>fr</th>\n",
       "      <th>de</th>\n",
       "    </tr>\n",
       "    <tr>\n",
       "      <th>code</th>\n",
       "      <th></th>\n",
       "      <th></th>\n",
       "      <th></th>\n",
       "      <th></th>\n",
       "      <th></th>\n",
       "      <th></th>\n",
       "      <th></th>\n",
       "      <th></th>\n",
       "    </tr>\n",
       "  </thead>\n",
       "  <tbody>\n",
       "    <tr>\n",
       "      <th>G708</th>\n",
       "      <td>metal</td>\n",
       "      <td>Batons de ski</td>\n",
       "      <td>Usagers</td>\n",
       "      <td>G199</td>\n",
       "      <td>False</td>\n",
       "      <td>recreation</td>\n",
       "      <td>Batons de ski</td>\n",
       "      <td>Skistöcke</td>\n",
       "    </tr>\n",
       "    <tr>\n",
       "      <th>G712</th>\n",
       "      <td>cloth</td>\n",
       "      <td>Gants de ski</td>\n",
       "      <td>Usagers</td>\n",
       "      <td>G135</td>\n",
       "      <td>False</td>\n",
       "      <td>recreation</td>\n",
       "      <td>Gants de ski</td>\n",
       "      <td>Skihandschuhe</td>\n",
       "    </tr>\n",
       "    <tr>\n",
       "      <th>G902</th>\n",
       "      <td>cloth</td>\n",
       "      <td>Mask medical, cloth</td>\n",
       "      <td>Personal hygiene</td>\n",
       "      <td>G145</td>\n",
       "      <td>False</td>\n",
       "      <td>personal items</td>\n",
       "      <td>Masque médical, tissu réutilisable</td>\n",
       "      <td>Medizinische Masken, Stoff</td>\n",
       "    </tr>\n",
       "    <tr>\n",
       "      <th>G917</th>\n",
       "      <td>glass</td>\n",
       "      <td>Terracotta balls</td>\n",
       "      <td>Utility items</td>\n",
       "      <td>G210</td>\n",
       "      <td>False</td>\n",
       "      <td>unclassified</td>\n",
       "      <td>Boules de terre cuite</td>\n",
       "      <td>Blähton</td>\n",
       "    </tr>\n",
       "    <tr>\n",
       "      <th>G921</th>\n",
       "      <td>glass</td>\n",
       "      <td>Ceramic tile and pieces</td>\n",
       "      <td>Construction</td>\n",
       "      <td>G204</td>\n",
       "      <td>False</td>\n",
       "      <td>infrastructure</td>\n",
       "      <td>Carreaux et pièces de céramique</td>\n",
       "      <td>Keramikfliesen und Bruchstücke</td>\n",
       "    </tr>\n",
       "  </tbody>\n",
       "</table>\n",
       "</div>"
      ],
      "text/plain": [
       "     material                       en            source parent_code  \\\n",
       "code                                                                   \n",
       "G708    metal            Batons de ski           Usagers        G199   \n",
       "G712    cloth             Gants de ski           Usagers        G135   \n",
       "G902    cloth      Mask medical, cloth  Personal hygiene        G145   \n",
       "G917    glass         Terracotta balls     Utility items        G210   \n",
       "G921    glass  Ceramic tile and pieces      Construction        G204   \n",
       "\n",
       "      single_use       groupname                                  fr  \\\n",
       "code                                                                   \n",
       "G708       False      recreation                       Batons de ski   \n",
       "G712       False      recreation                        Gants de ski   \n",
       "G902       False  personal items  Masque médical, tissu réutilisable   \n",
       "G917       False    unclassified               Boules de terre cuite   \n",
       "G921       False  infrastructure     Carreaux et pièces de céramique   \n",
       "\n",
       "                                  de  \n",
       "code                                  \n",
       "G708                       Skistöcke  \n",
       "G712                   Skihandschuhe  \n",
       "G902      Medizinische Masken, Stoff  \n",
       "G917                         Blähton  \n",
       "G921  Keramikfliesen und Bruchstücke  "
      ]
     },
     "execution_count": 19,
     "metadata": {},
     "output_type": "execute_result"
    }
   ],
   "source": [
    "codes.head()"
   ]
  },
  {
   "cell_type": "code",
   "execution_count": 20,
   "id": "715f5aa6-426a-4670-bc87-f01e812c68f1",
   "metadata": {},
   "outputs": [
    {
     "data": {
      "text/plain": [
       "'Plastiques fragmentés x > 25mm'"
      ]
     },
     "execution_count": 20,
     "metadata": {},
     "output_type": "execute_result"
    }
   ],
   "source": [
    "# language\n",
    "\n",
    "codes.loc[\"G79\", \"fr\"]"
   ]
  },
  {
   "cell_type": "code",
   "execution_count": 21,
   "id": "b6404c16-110f-4709-962b-4c7b26f7d98f",
   "metadata": {},
   "outputs": [
    {
     "data": {
      "text/plain": [
       "'Objekte aus Kunststoff 2,5 - 50 cm'"
      ]
     },
     "execution_count": 21,
     "metadata": {},
     "output_type": "execute_result"
    }
   ],
   "source": [
    "codes.loc[\"G79\", \"de\"]"
   ]
  },
  {
   "cell_type": "code",
   "execution_count": 22,
   "id": "1d09e2c7-05af-414e-be79-3ac54361e446",
   "metadata": {},
   "outputs": [],
   "source": [
    "codes.rename(columns={\"description\":\"en\"}, inplace=True)"
   ]
  },
  {
   "cell_type": "code",
   "execution_count": 23,
   "id": "bb43b116-988c-4367-9dae-d6fe58b40f71",
   "metadata": {},
   "outputs": [
    {
     "data": {
      "text/plain": [
       "'Plastic pieces 2.5cm - 50cm'"
      ]
     },
     "execution_count": 23,
     "metadata": {},
     "output_type": "execute_result"
    }
   ],
   "source": [
    "codes.loc[\"G79\", \"en\"]"
   ]
  },
  {
   "cell_type": "code",
   "execution_count": 24,
   "id": "54fba949-faaf-45c5-a4b7-f0111a5c8872",
   "metadata": {},
   "outputs": [
    {
     "name": "stdout",
     "output_type": "stream",
     "text": [
      "Author: hammerdirt-analyst\n",
      "\n",
      "conda environment: cantonal_report\n",
      "\n",
      "numpy : 1.25.2\n",
      "pandas: 2.0.3\n",
      "\n"
     ]
    }
   ],
   "source": [
    "%watermark -a hammerdirt-analyst -co --iversions"
   ]
  }
 ],
 "metadata": {
  "kernelspec": {
   "display_name": "Python 3 (ipykernel)",
   "language": "python",
   "name": "python3"
  },
  "language_info": {
   "codemirror_mode": {
    "name": "ipython",
    "version": 3
   },
   "file_extension": ".py",
   "mimetype": "text/x-python",
   "name": "python",
   "nbconvert_exporter": "python",
   "pygments_lexer": "ipython3",
   "version": "3.9.17"
  }
 },
 "nbformat": 4,
 "nbformat_minor": 5
}
