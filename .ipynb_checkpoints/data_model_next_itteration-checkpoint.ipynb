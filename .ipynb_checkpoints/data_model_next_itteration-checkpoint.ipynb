{
 "cells": [
  {
   "cell_type": "code",
   "execution_count": 1,
   "id": "64c16819-72da-4b47-a3aa-988d3f5a8203",
   "metadata": {},
   "outputs": [],
   "source": [
    "import pandas as pd\n",
    "import numpy as np"
   ]
  },
  {
   "cell_type": "markdown",
   "id": "7bca0862-a1e5-4fd3-ae17-65ac2fd7cd0a",
   "metadata": {},
   "source": [
    "# Review of previous data\n",
    "\n",
    "## Notes\n",
    "\n",
    "After the end of the IQAASL project the stored separately and other surveys were conducted. Those results were stored in separate places. The codes used for the different projects were not all the same.\n",
    "\n",
    "Here we standardize, indentify locations or records that cannot be verified and define the set of codes used since 2015.\n",
    "\n",
    "### Eliminated survey locations\n",
    "\n",
    "The following locations were either duplicated or the length of the shoreline could not be verified.\n",
    "\n",
    "```python\n",
    "\n",
    "not_these = [\n",
    "    'sihlsee_einsiedeln_schilligerllacherl',\n",
    "    'schiffenensee_duedingen_hirschij',\n",
    "    'lac-leman-hammerdirt',\n",
    "    'thur_schoenenberg_schaera',\n",
    "    'katzenbach_zuerich_sanesim',\n",
    "    'inn_pradella_kohlt',\n",
    "    'emme_luterbach_huggenbergerk',\n",
    "    'lotschebach_bern_scheurerk',\n",
    "    'mammern-swisslitterreport',\n",
    "    'berlingen-swisslitterreport'    \n",
    "]\n",
    "```\n",
    "\n",
    "### Eliminated codes\n",
    "\n",
    "The codes G909, G910, G911 and G912 were eliminated. The recorded value was placed under the parent code:\n",
    "\n",
    "1. G909, G910 => G74\n",
    "2. G911 => G81\n",
    "3. G912 => G82"
   ]
  },
  {
   "cell_type": "markdown",
   "id": "a3441f6a-f65b-4a26-9af0-59cae33e9a29",
   "metadata": {},
   "source": [
    "### quantity"
   ]
  },
  {
   "cell_type": "code",
   "execution_count": null,
   "id": "54148c36-ff96-4891-b230-479c5598f430",
   "metadata": {},
   "outputs": [],
   "source": [
    "test_this = pd.read_csv(\"data/end_process/new_all.csv\")\n",
    "t_t = test_this.groupby(c_cols, as_index=False).agg(agg_this)\n"
   ]
  },
  {
   "cell_type": "code",
   "execution_count": 2,
   "id": "c26b3b28-810e-4c45-aa5b-3defe8b201ef",
   "metadata": {},
   "outputs": [],
   "source": [
    "def collect_vitals(data):\n",
    "    total = data.quantity.sum()\n",
    "    median = data.pcs_m.median()\n",
    "    samples = data.loc_date.nunique()\n",
    "    ncodes = data.code.nunique()\n",
    "    nlocations = data.location.nunique()\n",
    "    nbodies = data.water_name_slug.nunique()\n",
    "    max_date = data[\"date\"].max()\n",
    "    min_date = data[\"date\"].min()\n",
    "    return total, median, samples, ncodes, nlocations, nbodies, max_date, min_date\n",
    "\n",
    "def find_missing(more_than, less_than):\n",
    "    return np.setdiff1d(more_than, less_than)\n",
    "def find_missing_loc_dates(done, dtwo):\n",
    "    locs_one = done.loc_date.unique()\n",
    "    locs_two = dtwo.loc_date.unique()\n",
    "    return find_missing(locs_one, locs_two)\n",
    "\n",
    "def aggregate_gcaps_gfoams_gfrags(data, codes,columns=[\"Gfoams\", \"Gfrags\", \"Gcaps\"]):\n",
    "    for col in columns:\n",
    "        change = codes.loc[codes.parent_code == col].index\n",
    "        data.loc[data.code.isin(change), \"code\"] = col\n",
    "        \n",
    "    return data\n",
    "dfCodes = pd.read_csv(\"data/end_process/codes.csv\")\n",
    "code_cols = ['material', 'description', 'source', 'parent_code', 'single_use', 'groupname']\n",
    "# dfCodes = dfCodes[columns].copy()\n",
    "dfCodes = dfCodes.set_index(\"code\", drop=True)\n",
    "\n",
    "not_these = [\n",
    "    'sihlsee_einsiedeln_schilligerllacherl',\n",
    "    'schiffenensee_duedingen_hirschij',\n",
    "    'lac-leman-hammerdirt',\n",
    "    'thur_schoenenberg_schaera',\n",
    "    'katzenbach_zuerich_sanesim',\n",
    "    'inn_pradella_kohlt',\n",
    "    'emme_luterbach_huggenbergerk',\n",
    "    'lotschebach_bern_scheurerk',\n",
    "    'mammern-swisslitterreport',\n",
    "    'berlingen-swisslitterreport'\n",
    "    \n",
    "]\n",
    "\n",
    "\n",
    "\n",
    "\n",
    "a_cols = [\n",
    "    'loc_date',\n",
    "    'date',\n",
    "    'water_name_slug',\n",
    "    'location',\n",
    "    'code',\n",
    "    'pcs_m',\n",
    "    'quantity',\n",
    "    'river_bassin',\n",
    "    'length', \n",
    "    'groupname',\n",
    "    'city']\n",
    "agg_this = {\n",
    "    \"quantity\":\"sum\",\n",
    "    \"pcs_m\": \"sum\"\n",
    "}\n",
    "    \n",
    "\n",
    "\n",
    "a = pd.read_csv(\"data/from_prev/agg_results_with_land_use_2015.csv\")\n",
    "\n",
    "    \n",
    "a = a[~a.location.isin(not_these)].copy()\n",
    "a_cols = [\n",
    "    'loc_date',\n",
    "    'date',\n",
    "    'water_name_slug',\n",
    "    'location',\n",
    "    'code',\n",
    "    'pcs_m',\n",
    "    'quantity',\n",
    "    'river_bassin',\n",
    "    'length', \n",
    "    'groupname',\n",
    "    'city']\n",
    "\n",
    "c_cols = [\n",
    "    'loc_date',\n",
    "    'location',\n",
    "    'date',\n",
    "    'water_name_slug',     \n",
    "    'river_bassin',\n",
    "    'length', \n",
    "    'groupname',\n",
    "    'city',\n",
    "    'code',\n",
    "]\n",
    "\n",
    "a_c = a[a_cols].copy()\n",
    "a_c = a_c.drop_duplicates([\"loc_date\", \"location\", \"code\", \"quantity\"])\n",
    "a_c.loc[a_c.code.isin([\"G909\", \"G910\"]), \"code\"] = \"G74\"\n",
    "a_c.loc[a_c.code == \"G911\", \"code\"] = \"G81\"\n",
    "a_c.loc[a_c.code == \"G912\", \"code\"] = \"G82\"\n",
    "loc_dates_a = a_c.loc_date.unique()"
   ]
  },
  {
   "cell_type": "code",
   "execution_count": 3,
   "id": "4d8da150-f6c6-4024-b8d1-87b631eef2e4",
   "metadata": {},
   "outputs": [
    {
     "data": {
      "text/plain": [
       "(196842, 0.0, 1352, 239, 245, 59, '2022-10-06', '2015-11-23')"
      ]
     },
     "execution_count": 3,
     "metadata": {},
     "output_type": "execute_result"
    }
   ],
   "source": [
    "test_this = pd.read_csv(\"data/end_process/new_all.csv\")\n",
    "t_t = test_this.groupby(c_cols, as_index=False).agg(agg_this)\n",
    "collect_vitals(t_t)"
   ]
  },
  {
   "cell_type": "code",
   "execution_count": 4,
   "id": "3bdc5a64-849d-4d48-941f-83e6c7f46289",
   "metadata": {},
   "outputs": [
    {
     "data": {
      "text/plain": [
       "(194965, 0.0, 1348, 184, 245, 59, '2021-08-28', '2015-11-23')"
      ]
     },
     "execution_count": 4,
     "metadata": {},
     "output_type": "execute_result"
    }
   ],
   "source": [
    "a_c_vitals = collect_vitals(a_c)\n",
    "a_c_vitals"
   ]
  },
  {
   "cell_type": "code",
   "execution_count": 5,
   "id": "93cdb4a4-3727-43e3-b46d-ec1b0f165b0e",
   "metadata": {},
   "outputs": [
    {
     "data": {
      "text/plain": [
       "array([\"('parc-des-pierrettes', '2022-10-06')\",\n",
       "       \"('plage-de-st-sulpice', '2021-10-07')\",\n",
       "       \"('plage-de-st-sulpice', '2022-10-06')\",\n",
       "       \"('tiger-duck-beach', '2021-10-07')\",\n",
       "       \"('villa-barton', '2021-11-14')\"], dtype=object)"
      ]
     },
     "execution_count": 5,
     "metadata": {},
     "output_type": "execute_result"
    }
   ],
   "source": [
    "find_missing_loc_dates(t_t, a_c)"
   ]
  },
  {
   "cell_type": "code",
   "execution_count": 6,
   "id": "79f7af6b-7cf7-4cd2-ba99-7fcba539709f",
   "metadata": {},
   "outputs": [
    {
     "data": {
      "text/plain": [
       "array([\"('maladaire', '2021-06-02')\"], dtype=object)"
      ]
     },
     "execution_count": 6,
     "metadata": {},
     "output_type": "execute_result"
    }
   ],
   "source": [
    "find_missing_loc_dates(a_c, t_t)"
   ]
  },
  {
   "cell_type": "code",
   "execution_count": 7,
   "id": "5d3612bc-dad9-43c0-b312-d47ba08dd739",
   "metadata": {},
   "outputs": [
    {
     "data": {
      "text/plain": [
       "(193826, 0.0, 1341, 235, 238, 57, '2021-08-28', '2015-11-23')"
      ]
     },
     "execution_count": 7,
     "metadata": {},
     "output_type": "execute_result"
    }
   ],
   "source": [
    "c = pd.read_csv(\"data/from_prev/all_the_data_eos_not_aggregated.csv\")\n",
    "\n",
    "c = c[~c.location.isin(not_these)].copy()\n",
    "\n",
    "\n",
    "c_c = c[a_cols].copy()\n",
    "c_c = c_c.drop_duplicates([\"loc_date\", \"location\", \"code\", \"quantity\"])\n",
    "c_c.loc[c_c.code.isin([\"G909\", \"G910\"]), \"code\"] = \"G74\"\n",
    "c_c.loc[c_c.code == \"G911\", \"code\"] = \"G81\"\n",
    "c_c.loc[c_c.code == \"G912\", \"code\"] = \"G82\"\n",
    "loc_dates_c = c_c.loc_date.unique()\n",
    "collect_vitals(c_c)"
   ]
  },
  {
   "cell_type": "code",
   "execution_count": 8,
   "id": "4d98cc9c-ee21-438a-9006-9ceb68961248",
   "metadata": {},
   "outputs": [
    {
     "data": {
      "text/plain": [
       "array([\"('clean-up-tour-airolo', '2021-08-05')\",\n",
       "       \"('clean-up-tour-charmey', '2021-05-08')\",\n",
       "       \"('clean-up-tour-grindelwald', '2021-05-29')\",\n",
       "       \"('clean-up-tour-les-diablerets', '2021-05-15')\",\n",
       "       \"('clean-up-tour-san-bernardino', '2021-08-06')\",\n",
       "       \"('clean-up-tour-val-calanca', '2021-08-07')\",\n",
       "       \"('monte-generoso', '2021-05-02')\",\n",
       "       \"('parc-des-pierrettes', '2022-10-06')\",\n",
       "       \"('plage-de-st-sulpice', '2021-10-07')\",\n",
       "       \"('plage-de-st-sulpice', '2022-10-06')\",\n",
       "       \"('tiger-duck-beach', '2021-10-07')\",\n",
       "       \"('villa-barton', '2021-11-14')\"], dtype=object)"
      ]
     },
     "execution_count": 8,
     "metadata": {},
     "output_type": "execute_result"
    }
   ],
   "source": [
    "find_missing_loc_dates(t_t, c_c)"
   ]
  },
  {
   "cell_type": "code",
   "execution_count": 9,
   "id": "d989a3fe-664d-4791-912b-74048e4a2f92",
   "metadata": {},
   "outputs": [
    {
     "data": {
      "text/plain": [
       "20"
      ]
     },
     "execution_count": 9,
     "metadata": {},
     "output_type": "execute_result"
    }
   ],
   "source": [
    "alp_c = pd.read_csv(\"data/from_prev/checked_alpes_survey_data.csv\")\n",
    "alp_c = alp_c.drop_duplicates([\"loc_date\", \"location\", \"code\", \"quantity\"])\n",
    "len(alp_c.location.unique())"
   ]
  },
  {
   "cell_type": "code",
   "execution_count": 10,
   "id": "85f5e7e6-d57f-4899-97ab-f17df3d28ae1",
   "metadata": {},
   "outputs": [
    {
     "data": {
      "text/plain": [
       "(7776, 0.0, 20, 230, 20, 7, '2021-08-28', '2021-04-24')"
      ]
     },
     "execution_count": 10,
     "metadata": {},
     "output_type": "execute_result"
    }
   ],
   "source": [
    "tgh = find_missing(loc_dates_a, loc_dates_c)\n",
    "m_alpes = alp_c.copy()\n",
    "m_alpes.loc[m_alpes.code.isin([\"G909\", \"G910\"]), \"code\"] = \"G74\"\n",
    "m_alpes.loc[m_alpes.code == \"G911\", \"code\"] = \"G81\"\n",
    "m_alpes.loc[m_alpes.code == \"G912\", \"code\"] = \"G82\"\n",
    "m_alpes.loc[m_alpes.code.isin([\"G909\", \"G910\"]), \"code\"] = \"G74\"\n",
    "collect_vitals(m_alpes)"
   ]
  },
  {
   "cell_type": "code",
   "execution_count": 11,
   "id": "7e3059dd-56e9-46be-837e-1dc98c6948db",
   "metadata": {},
   "outputs": [
    {
     "data": {
      "text/plain": [
       "array([], dtype=object)"
      ]
     },
     "execution_count": 11,
     "metadata": {},
     "output_type": "execute_result"
    }
   ],
   "source": [
    "find_missing_loc_dates(m_alpes, t_t)"
   ]
  },
  {
   "cell_type": "code",
   "execution_count": 12,
   "id": "159b5656-aa9a-43e5-a83e-af77ce612370",
   "metadata": {},
   "outputs": [
    {
     "data": {
      "text/plain": [
       "array([\"('aabach', '2020-10-22')\", \"('aare-limmatspitz', '2020-07-13')\",\n",
       "       \"('aare-port', '2021-04-23')\", ...,\n",
       "       \"('zurichsee_wollishofen_langendorfm', '2020-12-10')\",\n",
       "       \"('zurichsee_wollishofen_langendorfm', '2021-01-10')\",\n",
       "       \"('zurichsee_wollishofen_langendorfm', '2021-02-12')\"],\n",
       "      dtype=object)"
      ]
     },
     "execution_count": 12,
     "metadata": {},
     "output_type": "execute_result"
    }
   ],
   "source": [
    "find_missing_loc_dates(t_t, m_alpes)"
   ]
  },
  {
   "cell_type": "code",
   "execution_count": 13,
   "id": "64995a03-3a5c-46c2-ab38-d27ea866c6e7",
   "metadata": {},
   "outputs": [
    {
     "data": {
      "text/plain": [
       "(194915, 0.0, 1348, 238, 245, 59, '2021-08-28', '2015-11-23')"
      ]
     },
     "execution_count": 13,
     "metadata": {},
     "output_type": "execute_result"
    }
   ],
   "source": [
    "mm = pd.concat([m_alpes[a_cols], c_c[c_c.river_bassin != \"les-alpes\"][a_cols]])\n",
    "mm =mm.drop_duplicates([\"loc_date\", \"location\", \"code\", \"quantity\"])\n",
    "collect_vitals(mm)"
   ]
  },
  {
   "cell_type": "code",
   "execution_count": 14,
   "id": "57dd0c1c-18d4-4ce2-9074-57edfd952927",
   "metadata": {},
   "outputs": [
    {
     "data": {
      "text/plain": [
       "array([\"('parc-des-pierrettes', '2022-10-06')\",\n",
       "       \"('plage-de-st-sulpice', '2021-10-07')\",\n",
       "       \"('plage-de-st-sulpice', '2022-10-06')\",\n",
       "       \"('tiger-duck-beach', '2021-10-07')\",\n",
       "       \"('villa-barton', '2021-11-14')\"], dtype=object)"
      ]
     },
     "execution_count": 14,
     "metadata": {},
     "output_type": "execute_result"
    }
   ],
   "source": [
    "find_missing_loc_dates(t_t, mm)"
   ]
  },
  {
   "cell_type": "code",
   "execution_count": 15,
   "id": "d6f47a8c-09a7-4e61-b119-24582440f217",
   "metadata": {},
   "outputs": [],
   "source": [
    "dfCodesx = pd.read_csv(\"data/from_prev/codes_with_group_names_2015 (1).csv\")\n",
    "code_cols = ['material', 'description', 'source', 'parent_code', 'single_use', 'groupname']\n",
    "# dfCodes = dfCodes[columns].copy()\n",
    "dfCodesx = dfCodesx.set_index(\"code\", drop=True)"
   ]
  },
  {
   "cell_type": "code",
   "execution_count": 16,
   "id": "0f11463d-4fc8-480a-936e-6c05ac2a18b3",
   "metadata": {},
   "outputs": [
    {
     "data": {
      "text/plain": [
       "array([], dtype=object)"
      ]
     },
     "execution_count": 16,
     "metadata": {},
     "output_type": "execute_result"
    }
   ],
   "source": [
    "mmlocd = mm.loc_date.unique()\n",
    "find_missing(loc_dates_a, mmlocd)"
   ]
  },
  {
   "cell_type": "code",
   "execution_count": 17,
   "id": "3d2fbfd2-1126-4152-961a-3d077e14183c",
   "metadata": {},
   "outputs": [
    {
     "data": {
      "text/plain": [
       "array([\"('clean-up-tour-airolo', '2021-08-05')\",\n",
       "       \"('clean-up-tour-charmey', '2021-05-08')\",\n",
       "       \"('clean-up-tour-grindelwald', '2021-05-29')\",\n",
       "       \"('clean-up-tour-les-diablerets', '2021-05-15')\",\n",
       "       \"('clean-up-tour-san-bernardino', '2021-08-06')\",\n",
       "       \"('clean-up-tour-val-calanca', '2021-08-07')\",\n",
       "       \"('monte-generoso', '2021-05-02')\"], dtype=object)"
      ]
     },
     "execution_count": 17,
     "metadata": {},
     "output_type": "execute_result"
    }
   ],
   "source": [
    "find_missing(mmlocd, loc_dates_c)"
   ]
  },
  {
   "cell_type": "code",
   "execution_count": 18,
   "id": "da1535f2-a84e-4a1c-8af4-869cf8963549",
   "metadata": {},
   "outputs": [
    {
     "data": {
      "text/plain": [
       "(188521, 0.0, 1331, 228, 225, 52, '2021-11-14', '2015-11-23')"
      ]
     },
     "execution_count": 18,
     "metadata": {},
     "output_type": "execute_result"
    }
   ],
   "source": [
    "b = pd.read_csv(\"data/from_prev/u_all_data.csv\")\n",
    "b = b[~b.location.isin(not_these)].copy()\n",
    "b = b.drop_duplicates([\"loc_date\", \"location\", \"code\", \"quantity\"])\n",
    "b = b[~b.loc_date.isin(not_these)].copy()\n",
    "b_vitals = collect_vitals(b)\n",
    "b_vitals"
   ]
  },
  {
   "cell_type": "code",
   "execution_count": 19,
   "id": "a76d6887-7059-4fc4-bc65-da55a7a4aa0c",
   "metadata": {},
   "outputs": [],
   "source": [
    "missingx = find_missing(alp_c.loc_date.unique(), b.loc_date.unique())\n",
    "missingxb = find_missing(loc_dates_a, b.loc_date.unique())\n",
    "missingxc = find_missing(mm.loc_date.unique(), b.loc_date.unique())\n",
    "missingbm = find_missing(b.loc_date.unique(), mm.loc_date.unique())"
   ]
  },
  {
   "cell_type": "code",
   "execution_count": 20,
   "id": "8c7af6d3-6b04-4cba-8916-ead19ee8890d",
   "metadata": {},
   "outputs": [
    {
     "data": {
      "text/plain": [
       "array([\"('clean-up-tour-airolo', '2021-08-05')\",\n",
       "       \"('clean-up-tour-andermatt', '2021-06-19')\",\n",
       "       \"('clean-up-tour-cabanes-des-diablerets', '2021-08-28')\",\n",
       "       \"('clean-up-tour-charmey', '2021-05-08')\",\n",
       "       \"('clean-up-tour-crans-montana', '2021-06-12')\",\n",
       "       \"('clean-up-tour-grindelwald', '2021-05-29')\",\n",
       "       \"('clean-up-tour-la-berra', '2021-06-05')\",\n",
       "       \"('clean-up-tour-la-robella', '2021-05-15')\",\n",
       "       \"('clean-up-tour-la-tzoumaz', '2021-05-22')\",\n",
       "       \"('clean-up-tour-les-crosets', '2021-06-06')\",\n",
       "       \"('clean-up-tour-les-diablerets', '2021-05-15')\",\n",
       "       \"('clean-up-tour-les-paccots', '2021-04-24')\",\n",
       "       \"('clean-up-tour-morgins', '2021-06-05')\",\n",
       "       \"('clean-up-tour-nendaz', '2021-07-04')\",\n",
       "       \"('clean-up-tour-san-bernardino', '2021-08-06')\",\n",
       "       \"('clean-up-tour-val-calanca', '2021-08-07')\",\n",
       "       \"('clean-up-tour-verbier', '2021-06-13')\",\n",
       "       \"('clean-up-tour-veysonnaz', '2021-07-03')\",\n",
       "       \"('clean-up-tour-villars', '2021-06-12')\",\n",
       "       \"('monte-generoso', '2021-05-02')\",\n",
       "       \"('parc-des-pierrettes', '2022-10-06')\",\n",
       "       \"('plage-de-st-sulpice', '2022-10-06')\"], dtype=object)"
      ]
     },
     "execution_count": 20,
     "metadata": {},
     "output_type": "execute_result"
    }
   ],
   "source": [
    "find_missing_loc_dates(t_t, b)"
   ]
  },
  {
   "cell_type": "code",
   "execution_count": 21,
   "id": "5a3eac05-6d55-4f26-b541-2d3fdcc5a63f",
   "metadata": {},
   "outputs": [
    {
     "data": {
      "text/plain": [
       "array([\"('maladaire', '2021-06-02')\"], dtype=object)"
      ]
     },
     "execution_count": 21,
     "metadata": {},
     "output_type": "execute_result"
    }
   ],
   "source": [
    "find_missing_loc_dates(b, t_t)"
   ]
  },
  {
   "cell_type": "markdown",
   "id": "75748761-f120-4b80-9d59-8159202042de",
   "metadata": {},
   "source": [
    "### codes"
   ]
  },
  {
   "cell_type": "code",
   "execution_count": 22,
   "id": "81cad56c-f0ee-44b3-852a-b7383c58ff0f",
   "metadata": {},
   "outputs": [
    {
     "data": {
      "text/html": [
       "<div>\n",
       "<style scoped>\n",
       "    .dataframe tbody tr th:only-of-type {\n",
       "        vertical-align: middle;\n",
       "    }\n",
       "\n",
       "    .dataframe tbody tr th {\n",
       "        vertical-align: top;\n",
       "    }\n",
       "\n",
       "    .dataframe thead th {\n",
       "        text-align: right;\n",
       "    }\n",
       "</style>\n",
       "<table border=\"1\" class=\"dataframe\">\n",
       "  <thead>\n",
       "    <tr style=\"text-align: right;\">\n",
       "      <th></th>\n",
       "      <th>material</th>\n",
       "      <th>description</th>\n",
       "      <th>source</th>\n",
       "      <th>parent_code</th>\n",
       "      <th>single_use</th>\n",
       "      <th>groupname</th>\n",
       "    </tr>\n",
       "    <tr>\n",
       "      <th>code</th>\n",
       "      <th></th>\n",
       "      <th></th>\n",
       "      <th></th>\n",
       "      <th></th>\n",
       "      <th></th>\n",
       "      <th></th>\n",
       "    </tr>\n",
       "  </thead>\n",
       "  <tbody>\n",
       "    <tr>\n",
       "      <th>G708</th>\n",
       "      <td>Metal</td>\n",
       "      <td>Batons de ski</td>\n",
       "      <td>Usagers</td>\n",
       "      <td>G199</td>\n",
       "      <td>False</td>\n",
       "      <td>recreation</td>\n",
       "    </tr>\n",
       "    <tr>\n",
       "      <th>G712</th>\n",
       "      <td>Cloth</td>\n",
       "      <td>Gants de ski</td>\n",
       "      <td>Usagers</td>\n",
       "      <td>G135</td>\n",
       "      <td>False</td>\n",
       "      <td>recreation</td>\n",
       "    </tr>\n",
       "    <tr>\n",
       "      <th>G902</th>\n",
       "      <td>Cloth</td>\n",
       "      <td>Mask medical, cloth</td>\n",
       "      <td>Personal hygiene</td>\n",
       "      <td>G145</td>\n",
       "      <td>False</td>\n",
       "      <td>personal items</td>\n",
       "    </tr>\n",
       "    <tr>\n",
       "      <th>G917</th>\n",
       "      <td>Glass</td>\n",
       "      <td>Terracotta balls</td>\n",
       "      <td>Utility items</td>\n",
       "      <td>G210</td>\n",
       "      <td>False</td>\n",
       "      <td>unclassified</td>\n",
       "    </tr>\n",
       "    <tr>\n",
       "      <th>G921</th>\n",
       "      <td>Glass</td>\n",
       "      <td>Ceramic tile and pieces</td>\n",
       "      <td>Construction</td>\n",
       "      <td>G204</td>\n",
       "      <td>False</td>\n",
       "      <td>infrastructure</td>\n",
       "    </tr>\n",
       "  </tbody>\n",
       "</table>\n",
       "</div>"
      ],
      "text/plain": [
       "     material              description            source parent_code  \\\n",
       "code                                                                   \n",
       "G708    Metal            Batons de ski           Usagers        G199   \n",
       "G712    Cloth             Gants de ski           Usagers        G135   \n",
       "G902    Cloth      Mask medical, cloth  Personal hygiene        G145   \n",
       "G917    Glass         Terracotta balls     Utility items        G210   \n",
       "G921    Glass  Ceramic tile and pieces      Construction        G204   \n",
       "\n",
       "      single_use       groupname  \n",
       "code                              \n",
       "G708       False      recreation  \n",
       "G712       False      recreation  \n",
       "G902       False  personal items  \n",
       "G917       False    unclassified  \n",
       "G921       False  infrastructure  "
      ]
     },
     "execution_count": 22,
     "metadata": {},
     "output_type": "execute_result"
    }
   ],
   "source": [
    "dfCodes.head()"
   ]
  },
  {
   "cell_type": "markdown",
   "id": "3afb0be9-20c9-4b40-b8a2-3f072b990395",
   "metadata": {},
   "source": [
    "### survey areas"
   ]
  },
  {
   "cell_type": "markdown",
   "id": "9d3723e3-cceb-4034-abc6-17df47f9aac4",
   "metadata": {},
   "source": [
    "### after august 2021"
   ]
  },
  {
   "cell_type": "code",
   "execution_count": 23,
   "id": "db0f2d27-4dc1-477c-b929-29fcf06767ec",
   "metadata": {},
   "outputs": [
    {
     "data": {
      "text/plain": [
       "material                                           plastic\n",
       "description    plastic caps, lid rings: G21, G22, G23, G24\n",
       "source                                             Usagers\n",
       "parent_code                                          Gcaps\n",
       "single_use                                           False\n",
       "groupname                               packaging non food\n",
       "Name: Gcaps, dtype: object"
      ]
     },
     "execution_count": 23,
     "metadata": {},
     "output_type": "execute_result"
    }
   ],
   "source": [
    "dfCodes.loc[\"Gcaps\"]"
   ]
  },
  {
   "cell_type": "code",
   "execution_count": 24,
   "id": "c2234578-3978-4fd5-b1ca-ce2b097e886f",
   "metadata": {},
   "outputs": [],
   "source": [
    "f = pd.read_csv(\"data/from_prev/u_sup_after.csv\")\n",
    "f.rename(columns={\"pcs/m\":\"pcs_m\"}, inplace=True)\n",
    "f = f.drop_duplicates([\"loc_date\", \"location\", \"code\", \"quantity\"])\n",
    "after_locs = f.loc_date.unique()"
   ]
  },
  {
   "cell_type": "code",
   "execution_count": 25,
   "id": "10d9a892-b19f-4c8d-b544-e308529cc747",
   "metadata": {},
   "outputs": [
    {
     "name": "stdout",
     "output_type": "stream",
     "text": [
      "42.50992063492071\n"
     ]
    }
   ],
   "source": [
    "fpp = f[f.loc_date == \"('plage-de-st-sulpice', '2022-10-06')\"].copy()\n",
    "fpgf = fpp[fpp.code == \"Gfrags\"].copy()\n",
    "fpp = fpp[fpp.code != \"Gfrags\"].copy()\n",
    "\n",
    "fpp[\"pcs_m\"] = fpp.pcs_m*100\n",
    "vals = fpp[fpp.pcs_m >0].pcs_m/fpp[fpp.pcs_m > 0].quantity\n",
    "vmean = np.mean(1/vals)\n",
    "print(vmean)\n",
    "fpp = pd.concat([fpp, fpgf])\n",
    "# fpp[\"length\"] = 1/(fpp.pcs_m/fpp.quantity)\n",
    "# av_len = np.mean([x for x in fpp.length.values if isinstance(x, float)])\n",
    "# fpp[\"length\"] = vmean.astype(int)\n",
    "f = pd.concat([f[f.loc_date != \"('plage-de-st-sulpice', '2022-10-06')\"].copy(), fpp])"
   ]
  },
  {
   "cell_type": "code",
   "execution_count": 26,
   "id": "3478f564-fa6c-4ba2-9a82-62d9972e3f00",
   "metadata": {},
   "outputs": [
    {
     "data": {
      "text/plain": [
       "loc_date\n",
       "('maladaire', '2021-06-02')              58\n",
       "('parc-des-pierrettes', '2022-10-06')    40\n",
       "('plage-de-st-sulpice', '2021-10-07')    49\n",
       "('plage-de-st-sulpice', '2022-10-06')    42\n",
       "('tiger-duck-beach', '2021-10-07')       30\n",
       "('villa-barton', '2021-11-14')           58\n",
       "Name: length, dtype: int64"
      ]
     },
     "execution_count": 26,
     "metadata": {},
     "output_type": "execute_result"
    }
   ],
   "source": [
    "fif = f[f.pcs_m > 0.01][[\"loc_date\",\"quantity\", \"pcs_m\"]].copy()\n",
    "fif[\"length\"] = 1/(fif.pcs_m/fif.quantity)\n",
    "\n",
    "# fif.set_index(\"loc_date\", inplace=True, drop=True)\n",
    "fill_map = fif.groupby([\"loc_date\"]).length.mean().astype(\"int\")\n",
    "fill_map"
   ]
  },
  {
   "cell_type": "code",
   "execution_count": 27,
   "id": "2833061b-cdc8-4ba2-964b-d7ce0124f02b",
   "metadata": {},
   "outputs": [],
   "source": [
    "f['length'] =f.loc_date.apply(lambda x: fill_map.loc[x])\n",
    "f.loc[f.code == \"Gfoam\",  \"code\"] = \"Gfoams\"\n",
    "f[\"groupname\"] = f.code.apply(lambda x: dfCodes[\"groupname\"].loc[x])"
   ]
  },
  {
   "cell_type": "code",
   "execution_count": 28,
   "id": "6c6b440b-feaf-4dd0-bc39-90e91878b203",
   "metadata": {},
   "outputs": [
    {
     "data": {
      "text/html": [
       "<div>\n",
       "<style scoped>\n",
       "    .dataframe tbody tr th:only-of-type {\n",
       "        vertical-align: middle;\n",
       "    }\n",
       "\n",
       "    .dataframe tbody tr th {\n",
       "        vertical-align: top;\n",
       "    }\n",
       "\n",
       "    .dataframe thead th {\n",
       "        text-align: right;\n",
       "    }\n",
       "</style>\n",
       "<table border=\"1\" class=\"dataframe\">\n",
       "  <thead>\n",
       "    <tr style=\"text-align: right;\">\n",
       "      <th></th>\n",
       "      <th>loc_date</th>\n",
       "      <th>location</th>\n",
       "      <th>date</th>\n",
       "      <th>doy</th>\n",
       "      <th>water_name_slug</th>\n",
       "      <th>water</th>\n",
       "      <th>river_bassin</th>\n",
       "      <th>city</th>\n",
       "      <th>code</th>\n",
       "      <th>quantity</th>\n",
       "      <th>pcs_m</th>\n",
       "      <th>slug</th>\n",
       "      <th>Project</th>\n",
       "      <th>length</th>\n",
       "      <th>groupname</th>\n",
       "    </tr>\n",
       "  </thead>\n",
       "  <tbody>\n",
       "    <tr>\n",
       "      <th>0</th>\n",
       "      <td>('maladaire', '2021-06-02')</td>\n",
       "      <td>maladaire</td>\n",
       "      <td>2021-06-02</td>\n",
       "      <td>153</td>\n",
       "      <td>lac-leman</td>\n",
       "      <td>l</td>\n",
       "      <td>rhone</td>\n",
       "      <td>La Tour-de-Peilz</td>\n",
       "      <td>G1</td>\n",
       "      <td>0</td>\n",
       "      <td>0.00</td>\n",
       "      <td>maladaire</td>\n",
       "      <td>Testing</td>\n",
       "      <td>58</td>\n",
       "      <td>food and drink</td>\n",
       "    </tr>\n",
       "    <tr>\n",
       "      <th>1</th>\n",
       "      <td>('maladaire', '2021-06-02')</td>\n",
       "      <td>maladaire</td>\n",
       "      <td>2021-06-02</td>\n",
       "      <td>153</td>\n",
       "      <td>lac-leman</td>\n",
       "      <td>l</td>\n",
       "      <td>rhone</td>\n",
       "      <td>La Tour-de-Peilz</td>\n",
       "      <td>G10</td>\n",
       "      <td>7</td>\n",
       "      <td>0.11</td>\n",
       "      <td>maladaire</td>\n",
       "      <td>Testing</td>\n",
       "      <td>58</td>\n",
       "      <td>food and drink</td>\n",
       "    </tr>\n",
       "    <tr>\n",
       "      <th>2</th>\n",
       "      <td>('maladaire', '2021-06-02')</td>\n",
       "      <td>maladaire</td>\n",
       "      <td>2021-06-02</td>\n",
       "      <td>153</td>\n",
       "      <td>lac-leman</td>\n",
       "      <td>l</td>\n",
       "      <td>rhone</td>\n",
       "      <td>La Tour-de-Peilz</td>\n",
       "      <td>G100</td>\n",
       "      <td>2</td>\n",
       "      <td>0.03</td>\n",
       "      <td>maladaire</td>\n",
       "      <td>Testing</td>\n",
       "      <td>58</td>\n",
       "      <td>waste water</td>\n",
       "    </tr>\n",
       "    <tr>\n",
       "      <th>3</th>\n",
       "      <td>('maladaire', '2021-06-02')</td>\n",
       "      <td>maladaire</td>\n",
       "      <td>2021-06-02</td>\n",
       "      <td>153</td>\n",
       "      <td>lac-leman</td>\n",
       "      <td>l</td>\n",
       "      <td>rhone</td>\n",
       "      <td>La Tour-de-Peilz</td>\n",
       "      <td>G101</td>\n",
       "      <td>0</td>\n",
       "      <td>0.00</td>\n",
       "      <td>maladaire</td>\n",
       "      <td>Testing</td>\n",
       "      <td>58</td>\n",
       "      <td>personal items</td>\n",
       "    </tr>\n",
       "    <tr>\n",
       "      <th>4</th>\n",
       "      <td>('maladaire', '2021-06-02')</td>\n",
       "      <td>maladaire</td>\n",
       "      <td>2021-06-02</td>\n",
       "      <td>153</td>\n",
       "      <td>lac-leman</td>\n",
       "      <td>l</td>\n",
       "      <td>rhone</td>\n",
       "      <td>La Tour-de-Peilz</td>\n",
       "      <td>G102</td>\n",
       "      <td>0</td>\n",
       "      <td>0.00</td>\n",
       "      <td>maladaire</td>\n",
       "      <td>Testing</td>\n",
       "      <td>58</td>\n",
       "      <td>personal items</td>\n",
       "    </tr>\n",
       "  </tbody>\n",
       "</table>\n",
       "</div>"
      ],
      "text/plain": [
       "                      loc_date   location        date  doy water_name_slug  \\\n",
       "0  ('maladaire', '2021-06-02')  maladaire  2021-06-02  153       lac-leman   \n",
       "1  ('maladaire', '2021-06-02')  maladaire  2021-06-02  153       lac-leman   \n",
       "2  ('maladaire', '2021-06-02')  maladaire  2021-06-02  153       lac-leman   \n",
       "3  ('maladaire', '2021-06-02')  maladaire  2021-06-02  153       lac-leman   \n",
       "4  ('maladaire', '2021-06-02')  maladaire  2021-06-02  153       lac-leman   \n",
       "\n",
       "  water river_bassin              city  code  quantity  pcs_m       slug  \\\n",
       "0     l        rhone  La Tour-de-Peilz    G1         0   0.00  maladaire   \n",
       "1     l        rhone  La Tour-de-Peilz   G10         7   0.11  maladaire   \n",
       "2     l        rhone  La Tour-de-Peilz  G100         2   0.03  maladaire   \n",
       "3     l        rhone  La Tour-de-Peilz  G101         0   0.00  maladaire   \n",
       "4     l        rhone  La Tour-de-Peilz  G102         0   0.00  maladaire   \n",
       "\n",
       "   Project  length       groupname  \n",
       "0  Testing      58  food and drink  \n",
       "1  Testing      58  food and drink  \n",
       "2  Testing      58     waste water  \n",
       "3  Testing      58  personal items  \n",
       "4  Testing      58  personal items  "
      ]
     },
     "execution_count": 28,
     "metadata": {},
     "output_type": "execute_result"
    }
   ],
   "source": [
    "# fm = f[(f.loc_date == \"('maladaire', '2021-06-02')\")].copy()\n",
    "# fm = fm.drop_duplicates([\"loc_date\", \"location\", \"code\"])\n",
    "# # fmx = fmx[~fmx.code.isin([\"Gcaps\", \"Gfoam\", \"Gcaps\"])]\n",
    "# fnm = f[f.loc_date != \"('maladaire', '2021-06-02')\"].copy()\n",
    "# f = pd.concat([fnm, fm])\n",
    "f.head()"
   ]
  },
  {
   "cell_type": "code",
   "execution_count": 29,
   "id": "fd4fa279-43cd-478b-a415-873f834e2788",
   "metadata": {},
   "outputs": [
    {
     "data": {
      "text/plain": [
       "array([\"('parc-des-pierrettes', '2022-10-06')\",\n",
       "       \"('plage-de-st-sulpice', '2021-10-07')\",\n",
       "       \"('plage-de-st-sulpice', '2022-10-06')\",\n",
       "       \"('tiger-duck-beach', '2021-10-07')\",\n",
       "       \"('villa-barton', '2021-11-14')\"], dtype=object)"
      ]
     },
     "execution_count": 29,
     "metadata": {},
     "output_type": "execute_result"
    }
   ],
   "source": [
    "add_to_m = find_missing(f.loc_date.unique(), mm.loc_date.unique())\n",
    "add_to_m"
   ]
  },
  {
   "cell_type": "code",
   "execution_count": 30,
   "id": "62191212-46d5-4475-970e-f6807cbd3312",
   "metadata": {},
   "outputs": [
    {
     "data": {
      "text/html": [
       "<div>\n",
       "<style scoped>\n",
       "    .dataframe tbody tr th:only-of-type {\n",
       "        vertical-align: middle;\n",
       "    }\n",
       "\n",
       "    .dataframe tbody tr th {\n",
       "        vertical-align: top;\n",
       "    }\n",
       "\n",
       "    .dataframe thead th {\n",
       "        text-align: right;\n",
       "    }\n",
       "</style>\n",
       "<table border=\"1\" class=\"dataframe\">\n",
       "  <thead>\n",
       "    <tr style=\"text-align: right;\">\n",
       "      <th></th>\n",
       "      <th>loc_date</th>\n",
       "      <th>date</th>\n",
       "      <th>water_name_slug</th>\n",
       "      <th>location</th>\n",
       "      <th>code</th>\n",
       "      <th>pcs_m</th>\n",
       "      <th>quantity</th>\n",
       "      <th>river_bassin</th>\n",
       "      <th>length</th>\n",
       "      <th>groupname</th>\n",
       "      <th>city</th>\n",
       "    </tr>\n",
       "  </thead>\n",
       "  <tbody>\n",
       "    <tr>\n",
       "      <th>0</th>\n",
       "      <td>('clean-up-tour-cabanes-des-diablerets', '2021...</td>\n",
       "      <td>2021-08-28</td>\n",
       "      <td>alpes-vaudoises</td>\n",
       "      <td>cabanes-des-diablerets</td>\n",
       "      <td>G200</td>\n",
       "      <td>1.33</td>\n",
       "      <td>16</td>\n",
       "      <td>les-alpes</td>\n",
       "      <td>12.0</td>\n",
       "      <td>food and drink</td>\n",
       "      <td>Ormont-Dessus</td>\n",
       "    </tr>\n",
       "    <tr>\n",
       "      <th>1</th>\n",
       "      <td>('clean-up-tour-cabanes-des-diablerets', '2021...</td>\n",
       "      <td>2021-08-28</td>\n",
       "      <td>alpes-vaudoises</td>\n",
       "      <td>cabanes-des-diablerets</td>\n",
       "      <td>G48</td>\n",
       "      <td>0.42</td>\n",
       "      <td>5</td>\n",
       "      <td>les-alpes</td>\n",
       "      <td>12.0</td>\n",
       "      <td>recreation</td>\n",
       "      <td>Ormont-Dessus</td>\n",
       "    </tr>\n",
       "    <tr>\n",
       "      <th>2</th>\n",
       "      <td>('clean-up-tour-cabanes-des-diablerets', '2021...</td>\n",
       "      <td>2021-08-28</td>\n",
       "      <td>alpes-vaudoises</td>\n",
       "      <td>cabanes-des-diablerets</td>\n",
       "      <td>G170</td>\n",
       "      <td>0.83</td>\n",
       "      <td>10</td>\n",
       "      <td>les-alpes</td>\n",
       "      <td>12.0</td>\n",
       "      <td>agriculture</td>\n",
       "      <td>Ormont-Dessus</td>\n",
       "    </tr>\n",
       "    <tr>\n",
       "      <th>3</th>\n",
       "      <td>('clean-up-tour-cabanes-des-diablerets', '2021...</td>\n",
       "      <td>2021-08-28</td>\n",
       "      <td>alpes-vaudoises</td>\n",
       "      <td>cabanes-des-diablerets</td>\n",
       "      <td>G27</td>\n",
       "      <td>0.75</td>\n",
       "      <td>9</td>\n",
       "      <td>les-alpes</td>\n",
       "      <td>12.0</td>\n",
       "      <td>tobacco</td>\n",
       "      <td>Ormont-Dessus</td>\n",
       "    </tr>\n",
       "    <tr>\n",
       "      <th>4</th>\n",
       "      <td>('clean-up-tour-cabanes-des-diablerets', '2021...</td>\n",
       "      <td>2021-08-28</td>\n",
       "      <td>alpes-vaudoises</td>\n",
       "      <td>cabanes-des-diablerets</td>\n",
       "      <td>G709</td>\n",
       "      <td>0.17</td>\n",
       "      <td>2</td>\n",
       "      <td>les-alpes</td>\n",
       "      <td>12.0</td>\n",
       "      <td>recreation</td>\n",
       "      <td>Ormont-Dessus</td>\n",
       "    </tr>\n",
       "  </tbody>\n",
       "</table>\n",
       "</div>"
      ],
      "text/plain": [
       "                                            loc_date        date  \\\n",
       "0  ('clean-up-tour-cabanes-des-diablerets', '2021...  2021-08-28   \n",
       "1  ('clean-up-tour-cabanes-des-diablerets', '2021...  2021-08-28   \n",
       "2  ('clean-up-tour-cabanes-des-diablerets', '2021...  2021-08-28   \n",
       "3  ('clean-up-tour-cabanes-des-diablerets', '2021...  2021-08-28   \n",
       "4  ('clean-up-tour-cabanes-des-diablerets', '2021...  2021-08-28   \n",
       "\n",
       "   water_name_slug                location  code  pcs_m  quantity  \\\n",
       "0  alpes-vaudoises  cabanes-des-diablerets  G200   1.33        16   \n",
       "1  alpes-vaudoises  cabanes-des-diablerets   G48   0.42         5   \n",
       "2  alpes-vaudoises  cabanes-des-diablerets  G170   0.83        10   \n",
       "3  alpes-vaudoises  cabanes-des-diablerets   G27   0.75         9   \n",
       "4  alpes-vaudoises  cabanes-des-diablerets  G709   0.17         2   \n",
       "\n",
       "  river_bassin  length       groupname           city  \n",
       "0    les-alpes    12.0  food and drink  Ormont-Dessus  \n",
       "1    les-alpes    12.0      recreation  Ormont-Dessus  \n",
       "2    les-alpes    12.0     agriculture  Ormont-Dessus  \n",
       "3    les-alpes    12.0         tobacco  Ormont-Dessus  \n",
       "4    les-alpes    12.0      recreation  Ormont-Dessus  "
      ]
     },
     "execution_count": 30,
     "metadata": {},
     "output_type": "execute_result"
    }
   ],
   "source": [
    "mm = mm[mm.loc_date != \"('maladaire', '2021-06-02')\"]\n",
    "mm.head()"
   ]
  },
  {
   "cell_type": "code",
   "execution_count": 31,
   "id": "0e65e92e-b1f8-4eff-9c09-1f000d640897",
   "metadata": {},
   "outputs": [
    {
     "data": {
      "text/plain": [
       "(196842, 0.0, 1352, 239, 245, 59, '2022-10-06', '2015-11-23')"
      ]
     },
     "execution_count": 31,
     "metadata": {},
     "output_type": "execute_result"
    }
   ],
   "source": [
    "mmx = pd.concat([f[f.loc_date.isin(add_to_m)][a_cols], mm[a_cols]])\n",
    "mmx.drop_duplicates([\"loc_date\", \"location\", \"code\", \"quantity\"])\n",
    "mmx.loc[mmx.code.isin([\"G909\", \"G910\"]), \"code\"] = \"G74\"\n",
    "mmx.loc[mmx.code == \"G911\", \"code\"] = \"G81\"\n",
    "mmx.loc[mmx.code == \"G912\", \"code\"] = \"G82\"\n",
    "mmx.loc[mmx.code == \"Gfoam\", \"code\"] = \"Gfoams\"\n",
    "# mmx.loc[mmx.code.isin([\"G909\", \"G910\"]), \"code\"] = \"G74\"\n",
    "mmx_ncodes = mmx.groupby(\"loc_date\").code.nunique()\n",
    "mmx_ncodes.unique()\n",
    "collect_vitals(mmx)"
   ]
  },
  {
   "cell_type": "code",
   "execution_count": 32,
   "id": "8d34dc1d-4da3-40a8-a3b7-b4a0761196b9",
   "metadata": {},
   "outputs": [
    {
     "data": {
      "text/plain": [
       "(196842, 0.04, 1352, 239, 245, 59, '2022-10-06', '2015-11-23')"
      ]
     },
     "execution_count": 32,
     "metadata": {},
     "output_type": "execute_result"
    }
   ],
   "source": [
    "collected = mmx.groupby(c_cols, as_index=False).agg({\"quantity\":\"sum\", \"pcs_m\":\"sum\"})\n",
    "collect_vitals(collected)"
   ]
  },
  {
   "cell_type": "code",
   "execution_count": null,
   "id": "e9923567-6f97-4480-bd23-0fb4a5eaa760",
   "metadata": {},
   "outputs": [],
   "source": []
  },
  {
   "cell_type": "code",
   "execution_count": 33,
   "id": "b4be0691-aff8-4200-9c08-cc4285f26b8c",
   "metadata": {},
   "outputs": [
    {
     "data": {
      "text/html": [
       "<div>\n",
       "<style scoped>\n",
       "    .dataframe tbody tr th:only-of-type {\n",
       "        vertical-align: middle;\n",
       "    }\n",
       "\n",
       "    .dataframe tbody tr th {\n",
       "        vertical-align: top;\n",
       "    }\n",
       "\n",
       "    .dataframe thead th {\n",
       "        text-align: right;\n",
       "    }\n",
       "</style>\n",
       "<table border=\"1\" class=\"dataframe\">\n",
       "  <thead>\n",
       "    <tr style=\"text-align: right;\">\n",
       "      <th></th>\n",
       "      <th>loc_date</th>\n",
       "      <th>location</th>\n",
       "      <th>date</th>\n",
       "      <th>water_name_slug</th>\n",
       "      <th>river_bassin</th>\n",
       "      <th>length</th>\n",
       "      <th>groupname</th>\n",
       "      <th>city</th>\n",
       "      <th>code</th>\n",
       "      <th>quantity</th>\n",
       "      <th>pcs_m</th>\n",
       "    </tr>\n",
       "  </thead>\n",
       "  <tbody>\n",
       "    <tr>\n",
       "      <th>6</th>\n",
       "      <td>('aabach', '2020-10-22')</td>\n",
       "      <td>aabach</td>\n",
       "      <td>2020-10-22</td>\n",
       "      <td>zurichsee</td>\n",
       "      <td>linth</td>\n",
       "      <td>33.333333</td>\n",
       "      <td>infrastructure</td>\n",
       "      <td>Schmerikon</td>\n",
       "      <td>G81</td>\n",
       "      <td>1</td>\n",
       "      <td>0.03</td>\n",
       "    </tr>\n",
       "  </tbody>\n",
       "</table>\n",
       "</div>"
      ],
      "text/plain": [
       "                   loc_date location        date water_name_slug river_bassin  \\\n",
       "6  ('aabach', '2020-10-22')   aabach  2020-10-22       zurichsee        linth   \n",
       "\n",
       "      length       groupname        city code  quantity  pcs_m  \n",
       "6  33.333333  infrastructure  Schmerikon  G81         1   0.03  "
      ]
     },
     "execution_count": 33,
     "metadata": {},
     "output_type": "execute_result"
    }
   ],
   "source": [
    "collected[(collected.loc_date == \"('aabach', '2020-10-22')\")&(collected.code ==\"G81\")]"
   ]
  },
  {
   "cell_type": "code",
   "execution_count": 34,
   "id": "00608ffd-06fb-4245-a320-f9b8e2725690",
   "metadata": {},
   "outputs": [
    {
     "data": {
      "text/html": [
       "<div>\n",
       "<style scoped>\n",
       "    .dataframe tbody tr th:only-of-type {\n",
       "        vertical-align: middle;\n",
       "    }\n",
       "\n",
       "    .dataframe tbody tr th {\n",
       "        vertical-align: top;\n",
       "    }\n",
       "\n",
       "    .dataframe thead th {\n",
       "        text-align: right;\n",
       "    }\n",
       "</style>\n",
       "<table border=\"1\" class=\"dataframe\">\n",
       "  <thead>\n",
       "    <tr style=\"text-align: right;\">\n",
       "      <th></th>\n",
       "      <th>loc_date</th>\n",
       "      <th>location</th>\n",
       "      <th>date</th>\n",
       "      <th>water_name_slug</th>\n",
       "      <th>river_bassin</th>\n",
       "      <th>length</th>\n",
       "      <th>groupname</th>\n",
       "      <th>city</th>\n",
       "      <th>code</th>\n",
       "      <th>quantity</th>\n",
       "      <th>pcs_m</th>\n",
       "    </tr>\n",
       "  </thead>\n",
       "  <tbody>\n",
       "    <tr>\n",
       "      <th>0</th>\n",
       "      <td>('aabach', '2020-10-22')</td>\n",
       "      <td>aabach</td>\n",
       "      <td>2020-10-22</td>\n",
       "      <td>zurichsee</td>\n",
       "      <td>linth</td>\n",
       "      <td>33.333333</td>\n",
       "      <td>infrastructure</td>\n",
       "      <td>Schmerikon</td>\n",
       "      <td>G81</td>\n",
       "      <td>1</td>\n",
       "      <td>0.03</td>\n",
       "    </tr>\n",
       "  </tbody>\n",
       "</table>\n",
       "</div>"
      ],
      "text/plain": [
       "                   loc_date location        date water_name_slug river_bassin  \\\n",
       "0  ('aabach', '2020-10-22')   aabach  2020-10-22       zurichsee        linth   \n",
       "\n",
       "      length       groupname        city code  quantity  pcs_m  \n",
       "0  33.333333  infrastructure  Schmerikon  G81         1   0.03  "
      ]
     },
     "execution_count": 34,
     "metadata": {},
     "output_type": "execute_result"
    }
   ],
   "source": [
    "cl_ncodes = collected.groupby(\"loc_date\").code.nunique()\n",
    "mmx[(mmx.loc_date == \"('aabach', '2020-10-22')\")&(mmx.code.isin([\"G81\"]))].groupby(c_cols, as_index=False).agg({\"quantity\":\"sum\", \"pcs_m\":\"sum\"})"
   ]
  },
  {
   "cell_type": "code",
   "execution_count": 35,
   "id": "813c1c25-d58a-41de-8323-1e3dec4d66f2",
   "metadata": {},
   "outputs": [],
   "source": [
    "samp_one = b.loc_date.unique()\n",
    "samps = list(set([*samp_one, *after_locs, *a_c.loc_date.unique()]))"
   ]
  },
  {
   "cell_type": "code",
   "execution_count": 36,
   "id": "30099a9c-8b56-4d2f-8c26-c58bc60a0593",
   "metadata": {},
   "outputs": [
    {
     "data": {
      "text/plain": [
       "array([], dtype=object)"
      ]
     },
     "execution_count": 36,
     "metadata": {},
     "output_type": "execute_result"
    }
   ],
   "source": [
    "find_missing(mmx.loc_date.unique(), samps)"
   ]
  },
  {
   "cell_type": "code",
   "execution_count": 37,
   "id": "17e91d2c-648b-4624-891f-2b7736d1e45f",
   "metadata": {},
   "outputs": [
    {
     "data": {
      "text/plain": [
       "array(['cabanes-des-diablerets', 'val-calanca', 'san-bernardino',\n",
       "       'airolo', 'nendaz', 'veysonnaz', 'andermatt', 'verbier',\n",
       "       'crans-montana', 'villars', 'les-crosets', 'morgins', 'la-berra',\n",
       "       'grindelwald', 'la-tzoumaz', 'la-robella', 'les-diablerets',\n",
       "       'charmey', 'monte-generoso', 'les-paccots'], dtype=object)"
      ]
     },
     "execution_count": 37,
     "metadata": {},
     "output_type": "execute_result"
    }
   ],
   "source": [
    "mmx[mmx.river_bassin == 'les-alpes'].location.unique()"
   ]
  },
  {
   "cell_type": "code",
   "execution_count": 38,
   "id": "fca3b014-e2f2-4ceb-a5a4-16bf18dbeb3a",
   "metadata": {},
   "outputs": [
    {
     "data": {
      "text/plain": [
       "array([235, 230, 228, 215,  22])"
      ]
     },
     "execution_count": 38,
     "metadata": {},
     "output_type": "execute_result"
    }
   ],
   "source": [
    "mmx_ncodes = mmx.groupby(\"loc_date\").code.nunique()\n",
    "mmx_ncodes.unique()"
   ]
  },
  {
   "cell_type": "code",
   "execution_count": 39,
   "id": "561ecb08-66c1-40ed-b1bc-6f3e3c3ae82a",
   "metadata": {},
   "outputs": [
    {
     "data": {
      "text/plain": [
       "loc_date\n",
       "('aabach', '2020-10-22')    235\n",
       "Name: code, dtype: int64"
      ]
     },
     "execution_count": 39,
     "metadata": {},
     "output_type": "execute_result"
    }
   ],
   "source": [
    "mmx_ncodes[mmx_ncodes == 235][:1]"
   ]
  },
  {
   "cell_type": "code",
   "execution_count": 40,
   "id": "c4ba445e-0eef-4137-8c22-e62a3421cb03",
   "metadata": {},
   "outputs": [
    {
     "data": {
      "text/plain": [
       "loc_date\n",
       "('clean-up-tour-airolo', '2021-08-05')    230\n",
       "Name: code, dtype: int64"
      ]
     },
     "execution_count": 40,
     "metadata": {},
     "output_type": "execute_result"
    }
   ],
   "source": [
    "mmx_ncodes[mmx_ncodes == 230][:1]"
   ]
  },
  {
   "cell_type": "code",
   "execution_count": 41,
   "id": "78a06335-124a-485c-be87-dc25a3092b90",
   "metadata": {},
   "outputs": [
    {
     "data": {
      "text/plain": [
       "loc_date\n",
       "('parc-des-pierrettes', '2022-10-06')    228\n",
       "Name: code, dtype: int64"
      ]
     },
     "execution_count": 41,
     "metadata": {},
     "output_type": "execute_result"
    }
   ],
   "source": [
    "mmx_ncodes[mmx_ncodes == 228][:1]"
   ]
  },
  {
   "cell_type": "code",
   "execution_count": 42,
   "id": "6ba853a6-ab72-46cd-8f2a-54cd9e466fb7",
   "metadata": {},
   "outputs": [
    {
     "data": {
      "text/plain": [
       "loc_date\n",
       "('plage-de-st-sulpice', '2021-10-07')    215\n",
       "Name: code, dtype: int64"
      ]
     },
     "execution_count": 42,
     "metadata": {},
     "output_type": "execute_result"
    }
   ],
   "source": [
    "mmx_ncodes[mmx_ncodes == 215][:1]"
   ]
  },
  {
   "cell_type": "code",
   "execution_count": 43,
   "id": "28fd002d-6d8f-419a-b0c2-dc46487ed22a",
   "metadata": {},
   "outputs": [
    {
     "data": {
      "text/plain": [
       "loc_date\n",
       "('plage-de-st-sulpice', '2022-10-06')    22\n",
       "Name: code, dtype: int64"
      ]
     },
     "execution_count": 43,
     "metadata": {},
     "output_type": "execute_result"
    }
   ],
   "source": [
    "mmx_ncodes[mmx_ncodes == 22][:1]"
   ]
  },
  {
   "cell_type": "code",
   "execution_count": 44,
   "id": "3fffd60a-be7b-4d7f-afc0-cbbf28a15bfa",
   "metadata": {},
   "outputs": [
    {
     "data": {
      "text/plain": [
       "loc_date\n",
       "('aabach', '2020-10-22')    235\n",
       "Name: code, dtype: int64"
      ]
     },
     "execution_count": 44,
     "metadata": {},
     "output_type": "execute_result"
    }
   ],
   "source": [
    "mmx_ncodes[mmx_ncodes == 235][:1]"
   ]
  },
  {
   "cell_type": "code",
   "execution_count": 45,
   "id": "b296ac4d-9351-4c30-b51b-5131ec420a62",
   "metadata": {},
   "outputs": [
    {
     "data": {
      "text/plain": [
       "array(['G75', 'G76', 'G78', 'G79', 'G80', 'G81', 'G82', 'G83'],\n",
       "      dtype=object)"
      ]
     },
     "execution_count": 45,
     "metadata": {},
     "output_type": "execute_result"
    }
   ],
   "source": [
    "two_three_five = mmx[mmx.loc_date ==\"('aabach', '2020-10-22')\"].code.unique()\n",
    "two_three = mmx[mmx.loc_date ==\"('clean-up-tour-airolo', '2021-08-05')\"].code.unique()\n",
    "two_two_eight = mmx[mmx.loc_date == \"('parc-des-pierrettes', '2022-10-06')\"].code.unique()\n",
    "two_one_five = mmx[mmx.loc_date == \"('plage-de-st-sulpice', '2021-10-07')\"].code.unique()\n",
    "find_missing(two_three_five, two_three)"
   ]
  },
  {
   "cell_type": "code",
   "execution_count": 46,
   "id": "98a44de4-330f-4055-8462-88fe208bf30d",
   "metadata": {},
   "outputs": [
    {
     "data": {
      "text/plain": [
       "array(['G21', 'G23', 'G24', 'G75', 'G76', 'G78', 'G79', 'G80', 'G81',\n",
       "       'G82', 'G83'], dtype=object)"
      ]
     },
     "execution_count": 46,
     "metadata": {},
     "output_type": "execute_result"
    }
   ],
   "source": [
    "find_missing(two_three_five, two_two_eight)"
   ]
  },
  {
   "cell_type": "code",
   "execution_count": 47,
   "id": "d2687b1d-2d7d-452b-a72c-625620bdeb44",
   "metadata": {},
   "outputs": [
    {
     "data": {
      "text/plain": [
       "array(['G124', 'G131', 'G137', 'G194', 'G21', 'G211', 'G23', 'G24', 'G3',\n",
       "       'G50', 'G74', 'G75', 'G76', 'G78', 'G79', 'G80', 'G81', 'G82',\n",
       "       'G83', 'G89', 'G90', 'G913', 'G93', 'G99'], dtype=object)"
      ]
     },
     "execution_count": 47,
     "metadata": {},
     "output_type": "execute_result"
    }
   ],
   "source": [
    "find_missing(two_three_five, two_one_five)"
   ]
  },
  {
   "cell_type": "code",
   "execution_count": 48,
   "id": "a30fdad4-0b0d-454c-a183-5f8bed8f3462",
   "metadata": {},
   "outputs": [
    {
     "data": {
      "text/html": [
       "<div>\n",
       "<style scoped>\n",
       "    .dataframe tbody tr th:only-of-type {\n",
       "        vertical-align: middle;\n",
       "    }\n",
       "\n",
       "    .dataframe tbody tr th {\n",
       "        vertical-align: top;\n",
       "    }\n",
       "\n",
       "    .dataframe thead th {\n",
       "        text-align: right;\n",
       "    }\n",
       "</style>\n",
       "<table border=\"1\" class=\"dataframe\">\n",
       "  <thead>\n",
       "    <tr style=\"text-align: right;\">\n",
       "      <th></th>\n",
       "      <th>loc_date</th>\n",
       "      <th>date</th>\n",
       "      <th>water_name_slug</th>\n",
       "      <th>location</th>\n",
       "      <th>code</th>\n",
       "      <th>pcs_m</th>\n",
       "      <th>quantity</th>\n",
       "      <th>river_bassin</th>\n",
       "      <th>length</th>\n",
       "      <th>groupname</th>\n",
       "      <th>city</th>\n",
       "    </tr>\n",
       "  </thead>\n",
       "  <tbody>\n",
       "    <tr>\n",
       "      <th>176</th>\n",
       "      <td>('tiger-duck-beach', '2021-10-07')</td>\n",
       "      <td>2021-10-07</td>\n",
       "      <td>lac-leman</td>\n",
       "      <td>tiger-duck-beach</td>\n",
       "      <td>G1</td>\n",
       "      <td>0.00</td>\n",
       "      <td>0</td>\n",
       "      <td>rhone</td>\n",
       "      <td>30.0</td>\n",
       "      <td>food and drink</td>\n",
       "      <td>Saint-Sulpice (VD)</td>\n",
       "    </tr>\n",
       "    <tr>\n",
       "      <th>177</th>\n",
       "      <td>('tiger-duck-beach', '2021-10-07')</td>\n",
       "      <td>2021-10-07</td>\n",
       "      <td>lac-leman</td>\n",
       "      <td>tiger-duck-beach</td>\n",
       "      <td>G10</td>\n",
       "      <td>0.07</td>\n",
       "      <td>2</td>\n",
       "      <td>rhone</td>\n",
       "      <td>30.0</td>\n",
       "      <td>food and drink</td>\n",
       "      <td>Saint-Sulpice (VD)</td>\n",
       "    </tr>\n",
       "    <tr>\n",
       "      <th>178</th>\n",
       "      <td>('tiger-duck-beach', '2021-10-07')</td>\n",
       "      <td>2021-10-07</td>\n",
       "      <td>lac-leman</td>\n",
       "      <td>tiger-duck-beach</td>\n",
       "      <td>G100</td>\n",
       "      <td>0.30</td>\n",
       "      <td>9</td>\n",
       "      <td>rhone</td>\n",
       "      <td>30.0</td>\n",
       "      <td>waste water</td>\n",
       "      <td>Saint-Sulpice (VD)</td>\n",
       "    </tr>\n",
       "    <tr>\n",
       "      <th>179</th>\n",
       "      <td>('tiger-duck-beach', '2021-10-07')</td>\n",
       "      <td>2021-10-07</td>\n",
       "      <td>lac-leman</td>\n",
       "      <td>tiger-duck-beach</td>\n",
       "      <td>G101</td>\n",
       "      <td>0.00</td>\n",
       "      <td>0</td>\n",
       "      <td>rhone</td>\n",
       "      <td>30.0</td>\n",
       "      <td>personal items</td>\n",
       "      <td>Saint-Sulpice (VD)</td>\n",
       "    </tr>\n",
       "    <tr>\n",
       "      <th>180</th>\n",
       "      <td>('tiger-duck-beach', '2021-10-07')</td>\n",
       "      <td>2021-10-07</td>\n",
       "      <td>lac-leman</td>\n",
       "      <td>tiger-duck-beach</td>\n",
       "      <td>G102</td>\n",
       "      <td>0.00</td>\n",
       "      <td>0</td>\n",
       "      <td>rhone</td>\n",
       "      <td>30.0</td>\n",
       "      <td>personal items</td>\n",
       "      <td>Saint-Sulpice (VD)</td>\n",
       "    </tr>\n",
       "  </tbody>\n",
       "</table>\n",
       "</div>"
      ],
      "text/plain": [
       "                               loc_date        date water_name_slug  \\\n",
       "176  ('tiger-duck-beach', '2021-10-07')  2021-10-07       lac-leman   \n",
       "177  ('tiger-duck-beach', '2021-10-07')  2021-10-07       lac-leman   \n",
       "178  ('tiger-duck-beach', '2021-10-07')  2021-10-07       lac-leman   \n",
       "179  ('tiger-duck-beach', '2021-10-07')  2021-10-07       lac-leman   \n",
       "180  ('tiger-duck-beach', '2021-10-07')  2021-10-07       lac-leman   \n",
       "\n",
       "             location  code  pcs_m  quantity river_bassin  length  \\\n",
       "176  tiger-duck-beach    G1   0.00         0        rhone    30.0   \n",
       "177  tiger-duck-beach   G10   0.07         2        rhone    30.0   \n",
       "178  tiger-duck-beach  G100   0.30         9        rhone    30.0   \n",
       "179  tiger-duck-beach  G101   0.00         0        rhone    30.0   \n",
       "180  tiger-duck-beach  G102   0.00         0        rhone    30.0   \n",
       "\n",
       "          groupname                city  \n",
       "176  food and drink  Saint-Sulpice (VD)  \n",
       "177  food and drink  Saint-Sulpice (VD)  \n",
       "178     waste water  Saint-Sulpice (VD)  \n",
       "179  personal items  Saint-Sulpice (VD)  \n",
       "180  personal items  Saint-Sulpice (VD)  "
      ]
     },
     "execution_count": 48,
     "metadata": {},
     "output_type": "execute_result"
    }
   ],
   "source": [
    "mmx.head()"
   ]
  },
  {
   "cell_type": "code",
   "execution_count": 49,
   "id": "6bf671c4-fedd-430f-b6df-e28471f38df9",
   "metadata": {},
   "outputs": [
    {
     "data": {
      "text/plain": [
       "array(['G942', 'G23', 'G35', 'G70', 'G89', 'G941', 'G112', 'G30', 'G67',\n",
       "       'G79', 'G93', 'G95', 'G27', 'G38', 'G78', 'G81', 'G200', 'G48',\n",
       "       'G170', 'G709', 'G100', 'G204', 'G705', 'G919', 'G178', 'G24',\n",
       "       'G122', 'G915', 'G146', 'G922', 'G208', 'G74', 'G142', 'G921',\n",
       "       'G198', 'G931', 'G25', 'G33', 'G87', 'G124', 'G916', 'G936',\n",
       "       'G703', 'G707', 'G139', 'G152', 'G75', 'G20', 'G905', 'G704',\n",
       "       'G711', 'G191', 'G934', 'G158', 'G210', 'G7', 'G926', 'G923',\n",
       "       'G702', 'G177', 'G706', 'G34', 'G712', 'G159', 'G901', 'G710',\n",
       "       'G65', 'G708', 'G145', 'G175', 'G211', 'G12', 'G171', 'G8', 'G156',\n",
       "       'G26', 'G943', 'G155', 'G3', 'G929', 'G28', 'G194', 'G90', 'G101',\n",
       "       'G82', 'G91', 'G134', 'G939', 'G22', 'G149', 'G165', 'G31', 'G201',\n",
       "       'G938', 'G137', 'G213', 'G76', 'G98', 'G10', 'G66', 'G935', 'G135',\n",
       "       'G21', 'G144', 'G154', 'G904', 'G32', 'G51', 'G940', 'G157',\n",
       "       'G182', 'G126', 'G73', 'G96', 'G148', 'G933', 'G914', 'G147',\n",
       "       'G131', 'G203', 'G11', 'G937', 'G193', 'G918', 'G13', 'G930',\n",
       "       'G153', 'G83', 'G125', 'G106', 'G103', 'G50', 'G99', 'G97', 'G9',\n",
       "       'G4', 'G5', 'G151', 'G179', 'G62', 'G181', 'G713', 'G108', 'G107',\n",
       "       'G173', 'G43', 'G928', 'G128', 'G908', 'G117', 'G64', 'G907',\n",
       "       'G917', 'G2', 'G900', 'G202', 'G115', 'G906', 'G197', 'G186',\n",
       "       'G167', 'G136', 'G903', 'G132', 'G927', 'G36', 'G902', 'G129',\n",
       "       'G6', 'G53', 'G92', 'G37', 'G199', 'G71', 'G133', 'G138', 'G80',\n",
       "       'G190', 'G59', 'G39', 'G29', 'G68', 'G161', 'G14', 'G183', 'G61',\n",
       "       'G105', 'G113', 'G104', 'G55', 'G109', 'G123', 'G150', 'G114',\n",
       "       'G140', 'G195', 'G118', 'G176', 'G925', 'G17', 'G116', 'G63',\n",
       "       'G913', 'G19', 'G102', 'G49', 'G944', 'G111', 'G945', 'G60',\n",
       "       'G119', 'G52', 'G172', 'G143', 'G41', 'G188', 'G162', 'G40',\n",
       "       'G999', 'G141', 'G207', 'G174', 'G160', 'G84', 'G94', 'G196',\n",
       "       'G185', 'G932', 'G214', 'G1', 'G166', 'G180', 'G56', 'G88', 'G205'],\n",
       "      dtype=object)"
      ]
     },
     "execution_count": 49,
     "metadata": {},
     "output_type": "execute_result"
    }
   ],
   "source": [
    "two_three_five"
   ]
  },
  {
   "cell_type": "code",
   "execution_count": 50,
   "id": "ac383197-c442-47f0-8887-1db4e2152d1f",
   "metadata": {},
   "outputs": [
    {
     "data": {
      "text/plain": [
       "loc_date\n",
       "('gasi-strand', '2021-03-23')             153\n",
       "('rhein-beach-tinguely', '2017-04-22')    184\n",
       "('rhein-beach-tinguely', '2017-05-20')    179\n",
       "('rhein-beach-tinguely', '2017-06-24')    183\n",
       "('rhein-beach-tinguely', '2017-07-22')    179\n",
       "('rhein-beach-tinguely', '2017-08-19')    178\n",
       "('rhein-beach-tinguely', '2017-09-23')    180\n",
       "('rhein-beach-tinguely', '2017-10-21')    180\n",
       "('rhein-beach-tinguely', '2017-11-25')    180\n",
       "('rhein-beach-tinguely', '2017-12-16')    175\n",
       "('rhein-beach-tinguely', '2018-01-20')    182\n",
       "('rhein-beach-tinguely', '2018-02-24')    188\n",
       "('rhein-beach-tinguely', '2018-03-24')    175\n",
       "('versoix', '2016-11-17')                 165\n",
       "Name: length, dtype: int64"
      ]
     },
     "execution_count": 50,
     "metadata": {},
     "output_type": "execute_result"
    }
   ],
   "source": [
    "lq = mmx[mmx.length.isnull()].copy()\n",
    "lx = mmx[mmx.pcs_m > 0.01][[\"loc_date\",\"quantity\", \"pcs_m\"]].copy()\n",
    "\n",
    "fif = lx[lx.pcs_m > 0.01][[\"loc_date\",\"quantity\", \"pcs_m\"]].copy()\n",
    "fif[\"length\"] = 1/(fif.pcs_m/fif.quantity)\n",
    "\n",
    "# fif.set_index(\"loc_date\", inplace=True, drop=True)\n",
    "fill_map = fif.groupby([\"loc_date\"]).length.mean().astype(\"int\")\n",
    "fill_map[fill_map > 150]"
   ]
  },
  {
   "cell_type": "code",
   "execution_count": 51,
   "id": "4bdfd92c-2812-4cfd-b456-332f96b93f69",
   "metadata": {},
   "outputs": [
    {
     "data": {
      "text/plain": [
       "loc_date           False\n",
       "date               False\n",
       "water_name_slug    False\n",
       "location           False\n",
       "code               False\n",
       "pcs_m              False\n",
       "quantity           False\n",
       "river_bassin       False\n",
       "length             False\n",
       "groupname          False\n",
       "city               False\n",
       "dtype: bool"
      ]
     },
     "execution_count": 51,
     "metadata": {},
     "output_type": "execute_result"
    }
   ],
   "source": [
    "li = mmx[~mmx.length.isnull()].copy()\n",
    "li.isna().any()"
   ]
  },
  {
   "cell_type": "code",
   "execution_count": 52,
   "id": "57efd99c-ff44-48b1-a7ff-aeb58bfeb703",
   "metadata": {},
   "outputs": [
    {
     "data": {
      "text/plain": [
       "array([], dtype=object)"
      ]
     },
     "execution_count": 52,
     "metadata": {},
     "output_type": "execute_result"
    }
   ],
   "source": [
    "find_missing(lq.loc_date.unique(), fill_map.index)"
   ]
  },
  {
   "cell_type": "code",
   "execution_count": 53,
   "id": "23493fc0-67d0-426a-9395-c262736e0ec8",
   "metadata": {},
   "outputs": [
    {
     "data": {
      "text/plain": [
       "loc_date           False\n",
       "date               False\n",
       "water_name_slug    False\n",
       "location           False\n",
       "code               False\n",
       "pcs_m              False\n",
       "quantity           False\n",
       "river_bassin       False\n",
       "length             False\n",
       "groupname          False\n",
       "city               False\n",
       "dtype: bool"
      ]
     },
     "execution_count": 53,
     "metadata": {},
     "output_type": "execute_result"
    }
   ],
   "source": [
    "lq[\"length\"] = lq.loc_date.apply(lambda x: fill_map.loc[x])\n",
    "lq.isna().any()"
   ]
  },
  {
   "cell_type": "code",
   "execution_count": 54,
   "id": "288d14e2-1a7b-409a-abca-155be874388d",
   "metadata": {},
   "outputs": [
    {
     "data": {
      "text/plain": [
       "(196842, 0.0, 1352, 239, 245, 59, '2022-10-06', '2015-11-23')"
      ]
     },
     "execution_count": 54,
     "metadata": {},
     "output_type": "execute_result"
    }
   ],
   "source": [
    "new_all = pd.concat([lq, li])\n",
    "new_all = new_all.drop_duplicates([\"loc_date\", \"location\", \"code\", \"quantity\"])\n",
    "collect_vitals(new_all)"
   ]
  },
  {
   "cell_type": "code",
   "execution_count": 55,
   "id": "313272bb-f045-448f-9a16-f85664ffd370",
   "metadata": {},
   "outputs": [
    {
     "data": {
      "text/plain": [
       "(196842, 0.0, 1352, 239, 245, 59, '2022-10-06', '2015-11-23')"
      ]
     },
     "execution_count": 55,
     "metadata": {},
     "output_type": "execute_result"
    }
   ],
   "source": [
    "collect_vitals(t_t)"
   ]
  },
  {
   "cell_type": "code",
   "execution_count": 56,
   "id": "be648886-aee5-495f-8609-2c10f4024ede",
   "metadata": {},
   "outputs": [
    {
     "data": {
      "text/plain": [
       "loc_date           False\n",
       "date               False\n",
       "water_name_slug    False\n",
       "location           False\n",
       "code               False\n",
       "pcs_m              False\n",
       "quantity           False\n",
       "river_bassin       False\n",
       "length             False\n",
       "groupname          False\n",
       "city               False\n",
       "dtype: bool"
      ]
     },
     "execution_count": 56,
     "metadata": {},
     "output_type": "execute_result"
    }
   ],
   "source": [
    "new_all.isnull().any()"
   ]
  },
  {
   "cell_type": "code",
   "execution_count": 57,
   "id": "ef737bf6-5e10-4ecb-ba41-ec6ab44d4144",
   "metadata": {},
   "outputs": [
    {
     "data": {
      "text/plain": [
       "loc_date           False\n",
       "date               False\n",
       "water_name_slug    False\n",
       "location           False\n",
       "code               False\n",
       "pcs_m              False\n",
       "quantity           False\n",
       "river_bassin       False\n",
       "length             False\n",
       "groupname          False\n",
       "city               False\n",
       "dtype: bool"
      ]
     },
     "execution_count": 57,
     "metadata": {},
     "output_type": "execute_result"
    }
   ],
   "source": [
    "new_all.isna().any()"
   ]
  },
  {
   "cell_type": "code",
   "execution_count": 58,
   "id": "ba7b8a66-3db0-4f55-a73f-2405d0184942",
   "metadata": {},
   "outputs": [
    {
     "data": {
      "text/html": [
       "<div>\n",
       "<style scoped>\n",
       "    .dataframe tbody tr th:only-of-type {\n",
       "        vertical-align: middle;\n",
       "    }\n",
       "\n",
       "    .dataframe tbody tr th {\n",
       "        vertical-align: top;\n",
       "    }\n",
       "\n",
       "    .dataframe thead th {\n",
       "        text-align: right;\n",
       "    }\n",
       "</style>\n",
       "<table border=\"1\" class=\"dataframe\">\n",
       "  <thead>\n",
       "    <tr style=\"text-align: right;\">\n",
       "      <th></th>\n",
       "      <th>loc_date</th>\n",
       "      <th>date</th>\n",
       "      <th>water_name_slug</th>\n",
       "      <th>location</th>\n",
       "      <th>code</th>\n",
       "      <th>pcs_m</th>\n",
       "      <th>quantity</th>\n",
       "      <th>river_bassin</th>\n",
       "      <th>length</th>\n",
       "      <th>groupname</th>\n",
       "      <th>city</th>\n",
       "    </tr>\n",
       "  </thead>\n",
       "  <tbody>\n",
       "  </tbody>\n",
       "</table>\n",
       "</div>"
      ],
      "text/plain": [
       "Empty DataFrame\n",
       "Columns: [loc_date, date, water_name_slug, location, code, pcs_m, quantity, river_bassin, length, groupname, city]\n",
       "Index: []"
      ]
     },
     "execution_count": 58,
     "metadata": {},
     "output_type": "execute_result"
    }
   ],
   "source": [
    "new_all[new_all.code.isin([\"G909\", \"G910\", \"G911\", \"G912\"])]"
   ]
  },
  {
   "cell_type": "code",
   "execution_count": 59,
   "id": "5a5c696b-acb4-4c86-93d6-26c9ae969e0e",
   "metadata": {},
   "outputs": [
    {
     "data": {
      "text/plain": [
       "array(['gasi-strand', 'versoix', 'rhein-beach-tinguely',\n",
       "       'walensee_walenstadt_wysse', 'thunersee_spiez_meierd_1',\n",
       "       'rocky-plage', 'greifensee_fallanden_simmenc'], dtype=object)"
      ]
     },
     "execution_count": 59,
     "metadata": {},
     "output_type": "execute_result"
    }
   ],
   "source": [
    "new_all[new_all.length > 150].location.unique()"
   ]
  },
  {
   "cell_type": "code",
   "execution_count": 60,
   "id": "16a72fe1-2726-4692-9409-5fb05922ccea",
   "metadata": {},
   "outputs": [],
   "source": [
    "# new_all.to_csv(\"data/end_process/new_all.csv\", index=False)"
   ]
  },
  {
   "cell_type": "code",
   "execution_count": 61,
   "id": "0fc572bf-d604-4e60-9d37-fa81bc4e76b5",
   "metadata": {},
   "outputs": [
    {
     "data": {
      "text/plain": [
       "(196842, 0.0, 1352, 227, 245, 59, '2022-10-06', '2015-11-23')"
      ]
     },
     "execution_count": 61,
     "metadata": {},
     "output_type": "execute_result"
    }
   ],
   "source": [
    "xi = aggregate_gcaps_gfoams_gfrags(new_all.copy(), dfCodes)\n",
    "collect_vitals(xi)"
   ]
  },
  {
   "cell_type": "code",
   "execution_count": 62,
   "id": "08cc14f2-45ce-4c1e-ac53-9cbbbb9a6184",
   "metadata": {},
   "outputs": [
    {
     "data": {
      "text/plain": [
       "(196842, 0.0, 1352, 227, 245, 59, '2022-10-06', '2015-11-23')"
      ]
     },
     "execution_count": 62,
     "metadata": {},
     "output_type": "execute_result"
    }
   ],
   "source": [
    "xii = aggregate_gcaps_gfoams_gfrags(t_t.copy(), dfCodes)\n",
    "collect_vitals(xii)"
   ]
  },
  {
   "cell_type": "code",
   "execution_count": 63,
   "id": "17a590b1-71e8-4b9c-bfb8-58cfcf0472ac",
   "metadata": {},
   "outputs": [
    {
     "data": {
      "text/plain": [
       "(194965, 0.0, 1348, 184, 245, 59, '2021-08-28', '2015-11-23')"
      ]
     },
     "execution_count": 63,
     "metadata": {},
     "output_type": "execute_result"
    }
   ],
   "source": [
    "a_c_vitals = collect_vitals(a_c)\n",
    "a_c_vitals"
   ]
  },
  {
   "cell_type": "code",
   "execution_count": 64,
   "id": "5043bf45-ece9-45f3-be55-ccc21fcb4fee",
   "metadata": {},
   "outputs": [
    {
     "data": {
      "text/plain": [
       "(196842, 0.0, 1352, 239, 245, 59, '2022-10-06', '2015-11-23')"
      ]
     },
     "execution_count": 64,
     "metadata": {},
     "output_type": "execute_result"
    }
   ],
   "source": [
    "collect_vitals(test_this)"
   ]
  },
  {
   "cell_type": "code",
   "execution_count": 65,
   "id": "8c005702-ca7c-4d54-9f36-a8c63e7cc709",
   "metadata": {},
   "outputs": [
    {
     "data": {
      "text/plain": [
       "(196842, 0.0, 1352, 227, 245, 59, '2022-10-06', '2015-11-23')"
      ]
     },
     "execution_count": 65,
     "metadata": {},
     "output_type": "execute_result"
    }
   ],
   "source": [
    "collect_vitals(aggregate_gcaps_gfoams_gfrags(test_this.copy(), dfCodes))"
   ]
  },
  {
   "cell_type": "code",
   "execution_count": 66,
   "id": "da26cfb3-6578-43f7-9189-e9eaaa6c9d1e",
   "metadata": {},
   "outputs": [
    {
     "data": {
      "text/plain": [
       "material                   Plastic\n",
       "description    Fragmented plastics\n",
       "source                   Undefined\n",
       "parent_code                 Gfrags\n",
       "single_use                   False\n",
       "groupname           plastic pieces\n",
       "Name: Gfrags, dtype: object"
      ]
     },
     "execution_count": 66,
     "metadata": {},
     "output_type": "execute_result"
    }
   ],
   "source": [
    "dfCodes.loc[\"Gfrags\"]"
   ]
  },
  {
   "cell_type": "code",
   "execution_count": 67,
   "id": "7f80bbdf-c365-459d-af4c-0729606fb7e0",
   "metadata": {},
   "outputs": [],
   "source": [
    "t_tx = aggregate_gcaps_gfoams_gfrags(t_t.copy(), dfCodes)\n",
    "lengths = t_tx.groupby(\"loc_date\").length.mean()\n",
    "t_t[\"length\"] = t_t.loc_date.apply(lambda x: lengths.loc[x])\n",
    "test_this[\"length\"] = test_this.loc_date.apply(lambda x: lengths.loc[x])\n",
    "t_txi = test_this.groupby(c_cols, as_index=False).agg(agg_this)"
   ]
  },
  {
   "cell_type": "code",
   "execution_count": 68,
   "id": "0458d2f1-1d9b-460b-a0d6-2d1dbac51f2a",
   "metadata": {},
   "outputs": [
    {
     "data": {
      "text/plain": [
       "0.47"
      ]
     },
     "execution_count": 68,
     "metadata": {},
     "output_type": "execute_result"
    }
   ],
   "source": [
    "start_date = \"2020-04-01\"\n",
    "end_date = \"2021-05-31\"\n",
    "\n",
    "\n",
    "\n",
    "\n",
    "t_tx = t_tx[(t_tx[\"date\"] > start_date) & (t_tx[\"date\"]<end_date)].copy()\n",
    "t_tx = t_tx[t_tx.water_name_slug == \"lac-leman\"].copy()\n",
    "\n",
    "tii = t_tx[t_tx.code.isin([\"G27\"])]\n",
    "ti2 = tii.groupby(\"loc_date\", as_index=False).agg(agg_this)\n",
    "ti2.pcs_m.median()"
   ]
  },
  {
   "cell_type": "code",
   "execution_count": 69,
   "id": "a512acee-b4cf-4d79-9fde-a0c920223ba6",
   "metadata": {},
   "outputs": [
    {
     "data": {
      "text/plain": [
       "0.215"
      ]
     },
     "execution_count": 69,
     "metadata": {},
     "output_type": "execute_result"
    }
   ],
   "source": [
    "td = t_tx = aggregate_gcaps_gfoams_gfrags(t_txi.copy(), dfCodes)\n",
    "t_txii = td[(td[\"date\"] > start_date) & (td[\"date\"]<end_date)].copy()\n",
    "t_txii = t_txii[t_txii.water_name_slug == \"lac-leman\"].copy()\n",
    "\n",
    "tii2 = t_txii[t_txii.code.isin([\"G30\"])]\n",
    "tii2 = tii2.groupby(\"loc_date\", as_index=False).agg(agg_this)\n",
    "tii2.pcs_m.median()"
   ]
  },
  {
   "cell_type": "code",
   "execution_count": null,
   "id": "c77addcb-cb64-453d-9e38-e6a021e791a9",
   "metadata": {},
   "outputs": [],
   "source": []
  },
  {
   "cell_type": "code",
   "execution_count": 70,
   "id": "9c0f92d5-4849-44b5-a4ad-11d6dc52364e",
   "metadata": {},
   "outputs": [],
   "source": [
    "test_this.loc[test_this.location == \"cully\", \"city\"] = 'Bourg-en-Lavaux'"
   ]
  },
  {
   "cell_type": "code",
   "execution_count": 72,
   "id": "23e1d8d6-883e-4b16-8e9d-328efbb04072",
   "metadata": {},
   "outputs": [],
   "source": [
    "test_this.to_csv(\"data/end_process/new_all.csv\", index=False)"
   ]
  },
  {
   "cell_type": "code",
   "execution_count": 74,
   "id": "800f50a0-bbc7-490d-9c6e-977f03a362f4",
   "metadata": {},
   "outputs": [],
   "source": [
    "ic = dfCodes.index"
   ]
  },
  {
   "cell_type": "code",
   "execution_count": 71,
   "id": "16c0907a-0bf7-4cec-b832-32a9ea5a0664",
   "metadata": {},
   "outputs": [
    {
     "ename": "SyntaxError",
     "evalue": "'break' outside loop (668683560.py, line 1)",
     "output_type": "error",
     "traceback": [
      "\u001b[0;36m  Cell \u001b[0;32mIn[71], line 1\u001b[0;36m\u001b[0m\n\u001b[0;31m    break\u001b[0m\n\u001b[0m    ^\u001b[0m\n\u001b[0;31mSyntaxError\u001b[0m\u001b[0;31m:\u001b[0m 'break' outside loop\n"
     ]
    }
   ],
   "source": [
    "break"
   ]
  },
  {
   "cell_type": "markdown",
   "id": "2f380b3c-b977-4b58-9e87-a58f7aef0d12",
   "metadata": {},
   "source": [
    "### Plastock"
   ]
  },
  {
   "cell_type": "code",
   "execution_count": null,
   "id": "113ca58d-b23a-4a5c-bf30-dd62bd3057f5",
   "metadata": {},
   "outputs": [],
   "source": [
    "ps = pd.read_csv(\"data/from_prev/u_pstk.csv\")\n",
    "ps.rename(columns={\"pcs/m\":\"pcs_m\"}, inplace=True)\n",
    "ps.head()"
   ]
  },
  {
   "cell_type": "code",
   "execution_count": null,
   "id": "0bce41bd-471c-4ee7-80d4-ad83e2775dac",
   "metadata": {},
   "outputs": [],
   "source": [
    "ps.location.unique()"
   ]
  },
  {
   "cell_type": "code",
   "execution_count": null,
   "id": "3821a709-a949-47c7-a3f8-634eacebc880",
   "metadata": {},
   "outputs": [],
   "source": [
    "change_me = {\"vidy\":\"vidy-p\", \"tolochenaz\":\"tolochenaz-p\", \"preverenges\":\"preverenges-p\"}\n",
    "\n",
    "ps.loc[ps.location == \"vidy\", \"location\"] = \"vidy-p\"\n",
    "ps.loc[ps.location == \"tolochenaz\", \"location\"] = \"tolochenaz-p\"\n",
    "ps.loc[ps.location == \"preverenges\", \"location\"] = \"preverenges-p\"\n",
    "ps.location.unique()"
   ]
  },
  {
   "cell_type": "code",
   "execution_count": null,
   "id": "dba74a73-b6c6-4b08-b554-a801e025dc36",
   "metadata": {},
   "outputs": [],
   "source": [
    "dfCodes.head()"
   ]
  },
  {
   "cell_type": "code",
   "execution_count": null,
   "id": "f64d7b54-fc58-4e15-80d3-4c24e6223e95",
   "metadata": {},
   "outputs": [],
   "source": [
    "ps[\"river_bassin\"] = \"lac-leman\"\n",
    "\n",
    "# g216 = {\n",
    "#     \"material\":\"undefined\",\n",
    "#     \"description\" : \"various rubbish (worked wood, metal parts)\",\n",
    "#     \"source\":\"Undefined\",\n",
    "#     \"parent_code\":\"Parent code\",\n",
    "#     \"single_use\":False,\n",
    "#     \"groupname\":\"unclassified\",\n",
    "# }\n",
    "\n",
    "# dfCodes.loc[\"G216\"] = g216\n",
    "ps.loc[ps.code == \"Gfoam\",\"code\"] = \"Gfoams\"\n",
    "ps[\"groupname\"] = ps.code.apply(lambda x: dfCodes[\"groupname\"].loc[x])\n",
    "ps[\"water_name_slug\"] = ps.river_bassin\n",
    "ps[\"river_bassin\"] = \"rhone\"\n",
    "ps.head()"
   ]
  },
  {
   "cell_type": "code",
   "execution_count": null,
   "id": "43930725-f94a-4794-b141-d5eecd5f1c4f",
   "metadata": {},
   "outputs": [],
   "source": [
    "alr_pm.loc[alr_pm.code == \"Gfoam\", \"code\"] = \"Gfoams\""
   ]
  },
  {
   "cell_type": "code",
   "execution_count": null,
   "id": "8e5e934e-5723-4c3a-8e43-bb6912ce563e",
   "metadata": {},
   "outputs": [],
   "source": [
    "alr_pm[alr_pm.city.isin([\"Bourg-en-Lavaux\", \"Tolochenaz\", \"Lausanne\", \"Versoix\", \"Genève\"])].location.unique()"
   ]
  },
  {
   "cell_type": "code",
   "execution_count": null,
   "id": "d5265949-474a-4e0a-a46b-f261f74f39d3",
   "metadata": {},
   "outputs": [],
   "source": [
    "alr_pm.head()"
   ]
  },
  {
   "cell_type": "code",
   "execution_count": null,
   "id": "e77f5590-a532-4c26-9321-b78c8bd3079b",
   "metadata": {},
   "outputs": [],
   "source": [
    "alr_pm_ps = pd.concat([alr_pm[merge_cols], ps[merge_cols]])"
   ]
  },
  {
   "cell_type": "code",
   "execution_count": null,
   "id": "811dd844-c7a4-4c85-a3f3-172e0321688c",
   "metadata": {},
   "outputs": [],
   "source": [
    "alr_pm_ps.loc[alr_pm_ps.location == \"cully-plage\"].city.unique()"
   ]
  },
  {
   "cell_type": "code",
   "execution_count": null,
   "id": "1d8af221-2e8e-4af1-99f4-b3d8d7a29c90",
   "metadata": {},
   "outputs": [],
   "source": [
    "alr_pm_ps.loc[alr_pm_ps.location == \"cully\", \"city\"] = 'Bourg-en-Lavaux'"
   ]
  },
  {
   "cell_type": "code",
   "execution_count": null,
   "id": "7f8abab9-9241-4f97-92ae-ce18d5287b7d",
   "metadata": {},
   "outputs": [],
   "source": [
    "alr_pm_ps.loc[alr_pm_ps.location == \"vidy-p\", \"city\"] = \"Lausanne\""
   ]
  },
  {
   "cell_type": "code",
   "execution_count": null,
   "id": "b41751f4-04d8-4133-ad3d-9c7f8ecdc36b",
   "metadata": {},
   "outputs": [],
   "source": [
    "codes = alr_pm_ps.groupby(\"loc_date\", as_index=False).code.nunique()\n",
    "codes.code.unique()"
   ]
  },
  {
   "cell_type": "code",
   "execution_count": null,
   "id": "f53c153b-ecdb-4cf7-a601-ea675de9ba6a",
   "metadata": {},
   "outputs": [],
   "source": [
    "# pcode = dfCodes[dfCodes.parent_code == \"Parent code\"].copy()\n",
    "# pcode[\"parent_code\"] = pcode.index"
   ]
  },
  {
   "cell_type": "code",
   "execution_count": null,
   "id": "70ec5890-c0af-4255-a476-9fae35a5c34b",
   "metadata": {},
   "outputs": [],
   "source": [
    "dfCodes.loc[\"G710\", \"parent_code\"] = \"G124\""
   ]
  },
  {
   "cell_type": "code",
   "execution_count": null,
   "id": "f758bac5-1d27-4a87-9f3a-5d48c5656b13",
   "metadata": {},
   "outputs": [],
   "source": [
    "dfCodes.loc[\"G79\"]"
   ]
  },
  {
   "cell_type": "code",
   "execution_count": null,
   "id": "ce9b3f9d-fa35-4565-a245-01da994b6061",
   "metadata": {},
   "outputs": [],
   "source": [
    "gh = dfCodes[\"parent_code\"]\n",
    "gh.loc[\"G79\"]"
   ]
  },
  {
   "cell_type": "code",
   "execution_count": null,
   "id": "f8cda9e5-2622-4440-ac87-22d0ef7f7bb2",
   "metadata": {},
   "outputs": [],
   "source": [
    "# wpcode = dfCodes[dfCodes.parent_code != \"Parent code\"].copy()\n",
    "# new_codes = pd.concat([wpcode, pcode])\n",
    "# new_codes.to_csv(\"data/end_process/codes.csv\", index=\"code\")"
   ]
  },
  {
   "cell_type": "code",
   "execution_count": null,
   "id": "59eab9cf-13cc-4dd0-8efc-d47319039674",
   "metadata": {},
   "outputs": [],
   "source": [
    "\n",
    "def assign_to_parent_code(data, codes):\n",
    "    keys = codes[\"parent_code\"]\n",
    "    for acode in keys.index:\n",
    "        # print(keys.loc[acode])\n",
    "        data.loc[data.code == acode, \"new_code\"] = keys.loc[acode]\n",
    "        \n",
    "    data[\"code\"] = data[\"new_code\"]\n",
    "    \n",
    "    return data[~data.loc_date.isna()]\n",
    "    \n",
    "\n",
    "x = assign_to_parent_code(alr_pm_ps.copy(), dfCodes)"
   ]
  },
  {
   "cell_type": "code",
   "execution_count": null,
   "id": "edf7a917-b532-4501-b6e0-14eac6a99c15",
   "metadata": {},
   "outputs": [],
   "source": [
    "codes = x.groupby(\"loc_date\", as_index=False).code.nunique()\n",
    "codes.code.unique()"
   ]
  },
  {
   "cell_type": "code",
   "execution_count": null,
   "id": "24febe9b-241e-4288-adef-cbc9d2b0ea4f",
   "metadata": {},
   "outputs": [],
   "source": [
    "codes[codes.code == 164]"
   ]
  },
  {
   "cell_type": "code",
   "execution_count": null,
   "id": "6668fb7e-8787-436a-bed2-23642c6d7b67",
   "metadata": {},
   "outputs": [],
   "source": [
    "collect_vitals(x)"
   ]
  },
  {
   "cell_type": "code",
   "execution_count": null,
   "id": "8af79025-fc60-45a6-ae55-ae3391469132",
   "metadata": {},
   "outputs": [],
   "source": [
    "collect_vitals(alr_pm_ps)"
   ]
  },
  {
   "cell_type": "code",
   "execution_count": null,
   "id": "4fb8affb-64d3-4aa7-b9de-1dc86cd0e4c0",
   "metadata": {},
   "outputs": [],
   "source": [
    "\n"
   ]
  },
  {
   "cell_type": "code",
   "execution_count": null,
   "id": "07b6b685-19ec-4e3d-b716-10e57ec11d99",
   "metadata": {},
   "outputs": [],
   "source": [
    "# idnm = alr_pm_ps[alr_pm_ps.loc_date ==  \"('maladaire', '2021-06-02')\"]\n",
    "# idnm_c = idnm.code.unique()\n",
    "# not_these_one = idnm[~idnm.code.isin([\"Gfrags\", \"Gfoams\", \"Gcaps\"])]\n",
    "\n",
    "# ty = alr_pm_ps[alr_pm_ps.loc_date !=  \"('maladaire', '2021-06-02')\"]\n",
    "\n",
    "# alr_pm_x = pd.concat([ty, not_these_one])\n",
    "codes = alr_pm_ps.groupby(\"loc_date\", as_index=False).code.nunique()\n",
    "codes.code.unique()"
   ]
  },
  {
   "cell_type": "code",
   "execution_count": null,
   "id": "639cb5cb-e930-4b8f-85e8-24ef24ef3153",
   "metadata": {},
   "outputs": [],
   "source": [
    "codes[codes.code == 228]"
   ]
  },
  {
   "cell_type": "code",
   "execution_count": null,
   "id": "c1344d56-7496-4f68-b100-d74450403d27",
   "metadata": {},
   "outputs": [],
   "source": [
    "codes[codes.code == 184].head()"
   ]
  },
  {
   "cell_type": "code",
   "execution_count": null,
   "id": "15950470-a5dd-48dd-a978-19232813ec19",
   "metadata": {},
   "outputs": [],
   "source": [
    "idn = alr_pm_ps[alr_pm_ps.loc_date == \"('parc-des-pierrettes', '2022-10-06')\"]"
   ]
  },
  {
   "cell_type": "code",
   "execution_count": null,
   "id": "a43bedc1-799c-4750-94f9-54d73a980689",
   "metadata": {},
   "outputs": [],
   "source": [
    "hmm = alr_pm_ps[alr_pm_ps.loc_date == \"('aabach', '2020-10-22')\"]"
   ]
  },
  {
   "cell_type": "code",
   "execution_count": null,
   "id": "ac649dbf-843c-4da7-a0a8-9b6161b544b1",
   "metadata": {},
   "outputs": [],
   "source": [
    "these_are_missing = find_missing(idn.code.unique(), hmm.code.unique())\n",
    "idn[idn.code.isin(these_are_missing)]"
   ]
  },
  {
   "cell_type": "code",
   "execution_count": null,
   "id": "abda9903-bcb1-4cc7-a96f-6f4c1ca4ca09",
   "metadata": {},
   "outputs": [],
   "source": [
    "these = [\"('parc-des-pierrettes', '2022-10-06')\",\n",
    "       \"('tiger-duck-beach', '2021-10-07')\",\n",
    "       \"('villa-barton', '2021-11-14')\"]\n",
    "\n",
    "chx = alr_pm_x[alr_pm_x.loc_date.isin(these)].copy()\n",
    "ok = [x for x in chx.code.unique() if x not in not_these_one.code.unique()]"
   ]
  },
  {
   "cell_type": "code",
   "execution_count": null,
   "id": "bfdd8710-38ed-4c02-aa69-afdd5a3486e6",
   "metadata": {},
   "outputs": [],
   "source": [
    "x[x.code == \"G79\"]"
   ]
  },
  {
   "cell_type": "code",
   "execution_count": null,
   "id": "98fad9d7-248c-4971-97a2-c888dc205b18",
   "metadata": {},
   "outputs": [],
   "source": [
    "dfCodes.head()"
   ]
  },
  {
   "cell_type": "code",
   "execution_count": null,
   "id": "e6eda97a-86c9-405c-8967-05d358f9c26a",
   "metadata": {},
   "outputs": [],
   "source": [
    "collect_vitals(alr_pm_x)"
   ]
  },
  {
   "cell_type": "code",
   "execution_count": null,
   "id": "11f1f594-9ca8-4f50-97fc-c620cd7026c6",
   "metadata": {},
   "outputs": [],
   "source": [
    "collect_vitals(alr_pm_ps)"
   ]
  },
  {
   "cell_type": "code",
   "execution_count": null,
   "id": "f7a405ed-e74a-4866-918e-dfcaff426857",
   "metadata": {},
   "outputs": [],
   "source": [
    "codes_after = x.groupby(\"loc_date\", as_index=False).code.nunique()"
   ]
  },
  {
   "cell_type": "code",
   "execution_count": null,
   "id": "94ee7452-0d00-48bc-831e-5af2dca5e056",
   "metadata": {},
   "outputs": [],
   "source": [
    "codes_after.code.unique()"
   ]
  },
  {
   "cell_type": "code",
   "execution_count": null,
   "id": "07268973-e5f8-41ec-b5cd-80253e787834",
   "metadata": {},
   "outputs": [],
   "source": [
    "codes_after[codes_after.code == ]"
   ]
  },
  {
   "cell_type": "markdown",
   "id": "307824ab-be9b-4b6d-a9a1-7c26f2ed56dd",
   "metadata": {},
   "source": []
  }
 ],
 "metadata": {
  "kernelspec": {
   "display_name": "Python 3 (ipykernel)",
   "language": "python",
   "name": "python3"
  },
  "language_info": {
   "codemirror_mode": {
    "name": "ipython",
    "version": 3
   },
   "file_extension": ".py",
   "mimetype": "text/x-python",
   "name": "python",
   "nbconvert_exporter": "python",
   "pygments_lexer": "ipython3",
   "version": "3.9.17"
  }
 },
 "nbformat": 4,
 "nbformat_minor": 5
}
