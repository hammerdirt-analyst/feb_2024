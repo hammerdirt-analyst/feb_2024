{
 "cells": [
  {
   "cell_type": "code",
   "execution_count": 77,
   "id": "64c16819-72da-4b47-a3aa-988d3f5a8203",
   "metadata": {},
   "outputs": [],
   "source": [
    "import pandas as pd\n",
    "import numpy as np"
   ]
  },
  {
   "cell_type": "markdown",
   "id": "7bca0862-a1e5-4fd3-ae17-65ac2fd7cd0a",
   "metadata": {},
   "source": [
    "# Aggregating all previous data\n",
    "\n",
    "## Notes\n",
    "\n",
    "Taking another look at the data prior to writing the software. This also defines the methods of collecting the data from the app-dev standpoint. For the moment we can use the contents of <data/from_prev/u_all_data.csv> as a proposed data model."
   ]
  },
  {
   "cell_type": "markdown",
   "id": "a3441f6a-f65b-4a26-9af0-59cae33e9a29",
   "metadata": {},
   "source": [
    "### quantity"
   ]
  },
  {
   "cell_type": "code",
   "execution_count": 78,
   "id": "c26b3b28-810e-4c45-aa5b-3defe8b201ef",
   "metadata": {},
   "outputs": [],
   "source": [
    "a = pd.read_csv(\"data/from_prev/agg_results_with_land_use_2015.csv\")\n",
    "not_these = [\n",
    "    'sihlsee_einsiedeln_schilligerllacherl',\n",
    "    'schiffenensee_duedingen_hirschij',\n",
    "    'lac-leman-hammerdirt'\n",
    "]\n",
    "    \n",
    "a = a[~a.location.isin(not_these)].copy()\n",
    "a_cols = [\n",
    "    'loc_date',\n",
    "    'date',\n",
    "    'water_name_slug',\n",
    "    'location',\n",
    "    'code',\n",
    "    'pcs_m',\n",
    "    'quantity',\n",
    "    'river_bassin',\n",
    "    'length', \n",
    "    'groupname',\n",
    "    'city']\n",
    "\n",
    "a_c = a[a_cols].copy()"
   ]
  },
  {
   "cell_type": "code",
   "execution_count": 79,
   "id": "da1535f2-a84e-4a1c-8af4-869cf8963549",
   "metadata": {},
   "outputs": [
    {
     "data": {
      "text/plain": [
       "(192380, 0.0, 1432, 228, 232, 54)"
      ]
     },
     "execution_count": 79,
     "metadata": {},
     "output_type": "execute_result"
    }
   ],
   "source": [
    "def collect_vitals(data):\n",
    "    total = data.quantity.sum()\n",
    "    median = data.pcs_m.median()\n",
    "    samples = data.loc_date.nunique()\n",
    "    ncodes = data.code.nunique()\n",
    "    nlocations = data.location.nunique()\n",
    "    nbodies = data.water_name_slug.nunique()\n",
    "    return total, median, samples, ncodes, nlocations, nbodies\n",
    "\n",
    "b = pd.read_csv(\"data/from_prev/u_all_data.csv\")\n",
    "b = b[~b.loc_date.isin(not_these)].copy()\n",
    "b_vitals = collect_vitals(b)\n",
    "b_vitals"
   ]
  },
  {
   "cell_type": "code",
   "execution_count": 80,
   "id": "a9c4aa42-e628-4025-9731-9a6790268155",
   "metadata": {},
   "outputs": [
    {
     "data": {
      "text/plain": [
       "(198824, 0.0, 1449, 184, 252, 61)"
      ]
     },
     "execution_count": 80,
     "metadata": {},
     "output_type": "execute_result"
    }
   ],
   "source": [
    "a_c_vitals = collect_vitals(a_c)\n",
    "a_c_vitals"
   ]
  },
  {
   "cell_type": "code",
   "execution_count": 81,
   "id": "a76d6887-7059-4fc4-bc65-da55a7a4aa0c",
   "metadata": {},
   "outputs": [],
   "source": [
    "def find_missing(more_than, less_than):\n",
    "    return np.setdiff1d(more_than, less_than)\n",
    "\n",
    "missing = find_missing(a_c.loc_date.unique(), b.loc_date.unique())\n",
    "matched_a_b = a_c[~a_c.loc_date.isin(missing)].copy()\n",
    "diff_a_b = a_c[a_c.loc_date.isin(missing)]"
   ]
  },
  {
   "cell_type": "code",
   "execution_count": 82,
   "id": "d543912e-b0a8-4ad4-86fe-85eddf67c51b",
   "metadata": {},
   "outputs": [
    {
     "data": {
      "text/plain": [
       "(191048, 0.0, 1429, 184, 232, 54)"
      ]
     },
     "execution_count": 82,
     "metadata": {},
     "output_type": "execute_result"
    }
   ],
   "source": [
    "matched_vitals = collect_vitals(matched_a_b)\n",
    "matched_vitals"
   ]
  },
  {
   "cell_type": "code",
   "execution_count": 83,
   "id": "fa67202e-04f5-4dba-9926-6e1219a5ad31",
   "metadata": {},
   "outputs": [],
   "source": [
    "missing_m = find_missing(b.loc_date.unique(), matched_a_b.loc_date.unique())\n",
    "missing_matched = b[b.loc_date.isin(missing_m)]\n",
    "matched_b_vitals = collect_vitals(missing_matched)"
   ]
  },
  {
   "cell_type": "code",
   "execution_count": 85,
   "id": "9f5ea201-5fb2-456d-ae5e-2c3723d73ec4",
   "metadata": {},
   "outputs": [
    {
     "data": {
      "text/plain": [
       "0"
      ]
     },
     "execution_count": 85,
     "metadata": {},
     "output_type": "execute_result"
    }
   ],
   "source": [
    "matched_vitals[0] + matched_b_vitals[0] - b_vitals[0]"
   ]
  },
  {
   "cell_type": "markdown",
   "id": "75748761-f120-4b80-9d59-8159202042de",
   "metadata": {},
   "source": [
    "### codes"
   ]
  },
  {
   "cell_type": "code",
   "execution_count": 120,
   "id": "ace46be2-036b-4206-af2c-667ef724b23e",
   "metadata": {},
   "outputs": [],
   "source": [
    "dfCodes = pd.read_csv(\"data/from_prev/codes_with_group_names_2015.csv\")\n",
    "a_codes = matched_a_b.code.unique()\n",
    "b_codes = b_all_match.code.unique()\n",
    "\n",
    "# these are codes from the alpes and other codes established after 2020\n",
    "# these codes are in b and not in a\n",
    "not_in_a = find_missing(b_codes, a_codes)"
   ]
  },
  {
   "cell_type": "code",
   "execution_count": 121,
   "id": "d14ad35c-9d42-4fc2-bfa9-12fa529fb63c",
   "metadata": {},
   "outputs": [],
   "source": [
    "# these codes are in a not in b\n",
    "# these are the aggregated codes for Gfoam, Gfrags and Gcaps\n",
    "not_in_b = find_missing(a_codes, b_codes)"
   ]
  },
  {
   "cell_type": "code",
   "execution_count": 122,
   "id": "086cbc68-2525-4872-b87a-a5d459f5fa52",
   "metadata": {},
   "outputs": [
    {
     "data": {
      "text/plain": [
       "(191048, 0.0, 1429, 176, 232, 54)"
      ]
     },
     "execution_count": 122,
     "metadata": {},
     "output_type": "execute_result"
    }
   ],
   "source": [
    "b_all_match = b[~b.loc_date.isin(missing_m)]\n",
    "b_a_m_vitals = collect_vitals(b_all_match)\n",
    "b_a_m_vitals\n",
    "b_a_m_vitals"
   ]
  },
  {
   "cell_type": "code",
   "execution_count": 123,
   "id": "90e45f77-5810-466d-a5bb-ff0cb69baed8",
   "metadata": {},
   "outputs": [
    {
     "data": {
      "text/plain": [
       "(191048, 0.0, 1429, 184, 232, 54)"
      ]
     },
     "execution_count": 123,
     "metadata": {},
     "output_type": "execute_result"
    }
   ],
   "source": [
    "matched_vitals"
   ]
  },
  {
   "cell_type": "code",
   "execution_count": 124,
   "id": "95e3ed6e-d9d3-4aa9-829c-bc24942c2523",
   "metadata": {},
   "outputs": [],
   "source": [
    "columns = ['code', 'material', 'description', 'source', 'source_two',\n",
    "       'source_three', 'parent_code', 'single_use', 'groupname']"
   ]
  },
  {
   "cell_type": "code",
   "execution_count": null,
   "id": "00372f89-82e5-49d6-9d63-f9f32732979d",
   "metadata": {},
   "outputs": [],
   "source": []
  },
  {
   "cell_type": "code",
   "execution_count": 125,
   "id": "c8eecb37-7a41-46cc-9ebb-5706290cdc9d",
   "metadata": {},
   "outputs": [],
   "source": [
    "dfCodes = dfCodes[columns].copy()\n",
    "dfCodes = dfCodes.set_index(\"code\", drop=True)"
   ]
  },
  {
   "cell_type": "code",
   "execution_count": 126,
   "id": "7ec9409e-0a09-483d-be82-9700ff59695f",
   "metadata": {},
   "outputs": [
    {
     "data": {
      "text/plain": [
       "array(['G21', 'G23', 'G24', 'G75', 'G76', 'G78', 'G79', 'G80', 'G81',\n",
       "       'G82', 'G83'], dtype=object)"
      ]
     },
     "execution_count": 126,
     "metadata": {},
     "output_type": "execute_result"
    }
   ],
   "source": [
    "not_in_b"
   ]
  },
  {
   "cell_type": "code",
   "execution_count": 127,
   "id": "0e4bb170-b3a8-4239-af08-0314695ac4dd",
   "metadata": {},
   "outputs": [
    {
     "data": {
      "text/plain": [
       "array(['Gcaps', 'Gfoam', 'Gfrags'], dtype=object)"
      ]
     },
     "execution_count": 127,
     "metadata": {},
     "output_type": "execute_result"
    }
   ],
   "source": [
    "not_in_a"
   ]
  },
  {
   "cell_type": "code",
   "execution_count": 128,
   "id": "81cad56c-f0ee-44b3-852a-b7383c58ff0f",
   "metadata": {},
   "outputs": [
    {
     "data": {
      "text/html": [
       "<div>\n",
       "<style scoped>\n",
       "    .dataframe tbody tr th:only-of-type {\n",
       "        vertical-align: middle;\n",
       "    }\n",
       "\n",
       "    .dataframe tbody tr th {\n",
       "        vertical-align: top;\n",
       "    }\n",
       "\n",
       "    .dataframe thead th {\n",
       "        text-align: right;\n",
       "    }\n",
       "</style>\n",
       "<table border=\"1\" class=\"dataframe\">\n",
       "  <thead>\n",
       "    <tr style=\"text-align: right;\">\n",
       "      <th></th>\n",
       "      <th>material</th>\n",
       "      <th>description</th>\n",
       "      <th>source</th>\n",
       "      <th>source_two</th>\n",
       "      <th>source_three</th>\n",
       "      <th>parent_code</th>\n",
       "      <th>single_use</th>\n",
       "      <th>groupname</th>\n",
       "    </tr>\n",
       "    <tr>\n",
       "      <th>code</th>\n",
       "      <th></th>\n",
       "      <th></th>\n",
       "      <th></th>\n",
       "      <th></th>\n",
       "      <th></th>\n",
       "      <th></th>\n",
       "      <th></th>\n",
       "      <th></th>\n",
       "    </tr>\n",
       "  </thead>\n",
       "  <tbody>\n",
       "    <tr>\n",
       "      <th>G708</th>\n",
       "      <td>Metal</td>\n",
       "      <td>Batons de ski</td>\n",
       "      <td>Usagers</td>\n",
       "      <td>Where does it come from</td>\n",
       "      <td>Where does it come from</td>\n",
       "      <td>G199</td>\n",
       "      <td>False</td>\n",
       "      <td>recreation</td>\n",
       "    </tr>\n",
       "    <tr>\n",
       "      <th>G212</th>\n",
       "      <td>Chemicals</td>\n",
       "      <td>Oil nodules or coal fragments -- not from a BBQ</td>\n",
       "      <td>Undefined</td>\n",
       "      <td>Where does it come from</td>\n",
       "      <td>none</td>\n",
       "      <td>Parent code</td>\n",
       "      <td>False</td>\n",
       "      <td>unclassified</td>\n",
       "    </tr>\n",
       "    <tr>\n",
       "      <th>G213</th>\n",
       "      <td>Chemicals</td>\n",
       "      <td>Paraffin wax</td>\n",
       "      <td>Undefined</td>\n",
       "      <td>Where does it come from</td>\n",
       "      <td>none</td>\n",
       "      <td>Parent code</td>\n",
       "      <td>False</td>\n",
       "      <td>recreation</td>\n",
       "    </tr>\n",
       "    <tr>\n",
       "      <th>G214</th>\n",
       "      <td>Chemicals</td>\n",
       "      <td>Oil/tar</td>\n",
       "      <td>Construction</td>\n",
       "      <td>Where does it come from</td>\n",
       "      <td>none</td>\n",
       "      <td>Parent code</td>\n",
       "      <td>False</td>\n",
       "      <td>infrastructure</td>\n",
       "    </tr>\n",
       "    <tr>\n",
       "      <th>G135</th>\n",
       "      <td>Cloth</td>\n",
       "      <td>Clothes, footware, headware, gloves</td>\n",
       "      <td>Clothing</td>\n",
       "      <td>Where does it come from</td>\n",
       "      <td>none</td>\n",
       "      <td>Parent code</td>\n",
       "      <td>False</td>\n",
       "      <td>personal items</td>\n",
       "    </tr>\n",
       "  </tbody>\n",
       "</table>\n",
       "</div>"
      ],
      "text/plain": [
       "       material                                      description  \\\n",
       "code                                                               \n",
       "G708      Metal                                    Batons de ski   \n",
       "G212  Chemicals  Oil nodules or coal fragments -- not from a BBQ   \n",
       "G213  Chemicals                                     Paraffin wax   \n",
       "G214  Chemicals                                          Oil/tar   \n",
       "G135      Cloth              Clothes, footware, headware, gloves   \n",
       "\n",
       "            source               source_two             source_three  \\\n",
       "code                                                                   \n",
       "G708       Usagers  Where does it come from  Where does it come from   \n",
       "G212     Undefined  Where does it come from                     none   \n",
       "G213     Undefined  Where does it come from                     none   \n",
       "G214  Construction  Where does it come from                     none   \n",
       "G135      Clothing  Where does it come from                     none   \n",
       "\n",
       "      parent_code  single_use       groupname  \n",
       "code                                           \n",
       "G708         G199       False      recreation  \n",
       "G212  Parent code       False    unclassified  \n",
       "G213  Parent code       False      recreation  \n",
       "G214  Parent code       False  infrastructure  \n",
       "G135  Parent code       False  personal items  "
      ]
     },
     "execution_count": 128,
     "metadata": {},
     "output_type": "execute_result"
    }
   ],
   "source": [
    "dfCodes.head()"
   ]
  },
  {
   "cell_type": "code",
   "execution_count": 129,
   "id": "a77306c8-7676-4f65-a60f-e6f7e9b094f9",
   "metadata": {},
   "outputs": [
    {
     "ename": "AttributeError",
     "evalue": "'DataFrame' object has no attribute 'pare'",
     "output_type": "error",
     "traceback": [
      "\u001b[0;31m---------------------------------------------------------------------------\u001b[0m",
      "\u001b[0;31mAttributeError\u001b[0m                            Traceback (most recent call last)",
      "\u001b[0;32m/tmp/ipykernel_15072/335543324.py\u001b[0m in \u001b[0;36m?\u001b[0;34m()\u001b[0m\n\u001b[0;32m----> 6\u001b[0;31m \u001b[0mdfCodes\u001b[0m\u001b[0;34m.\u001b[0m\u001b[0mloc\u001b[0m\u001b[0;34m[\u001b[0m\u001b[0;34m[\u001b[0m\u001b[0;34m'G21'\u001b[0m\u001b[0;34m,\u001b[0m \u001b[0;34m'G22'\u001b[0m\u001b[0;34m,\u001b[0m\u001b[0;34m'G23'\u001b[0m\u001b[0;34m,\u001b[0m \u001b[0;34m'G24'\u001b[0m\u001b[0;34m]\u001b[0m\u001b[0;34m,\u001b[0m \u001b[0;34m\"parent_code\"\u001b[0m\u001b[0;34m]\u001b[0m \u001b[0;34m=\u001b[0m \u001b[0;34m\"Gcaps\"\u001b[0m\u001b[0;34m\u001b[0m\u001b[0;34m\u001b[0m\u001b[0m\n\u001b[0m\u001b[1;32m      7\u001b[0m \u001b[0;34m\u001b[0m\u001b[0m\n\u001b[1;32m      8\u001b[0m \u001b[0mdfCodes\u001b[0m\u001b[0;34m.\u001b[0m\u001b[0mloc\u001b[0m\u001b[0;34m[\u001b[0m\u001b[0;34m[\u001b[0m\u001b[0;34m'G75'\u001b[0m\u001b[0;34m,\u001b[0m \u001b[0;34m'G78'\u001b[0m\u001b[0;34m,\u001b[0m \u001b[0;34m'G79'\u001b[0m\u001b[0;34m,\u001b[0m\u001b[0;34m\"G80\"\u001b[0m\u001b[0;34m]\u001b[0m\u001b[0;34m,\u001b[0m \u001b[0;34m\"parent_code\"\u001b[0m\u001b[0;34m]\u001b[0m \u001b[0;34m=\u001b[0m \u001b[0;34m\"Gfrags\"\u001b[0m\u001b[0;34m\u001b[0m\u001b[0;34m\u001b[0m\u001b[0m\n\u001b[1;32m      9\u001b[0m \u001b[0mdfCodes\u001b[0m\u001b[0;34m.\u001b[0m\u001b[0mloc\u001b[0m\u001b[0;34m[\u001b[0m\u001b[0;34m[\u001b[0m\u001b[0;34m'G76'\u001b[0m\u001b[0;34m,\u001b[0m\u001b[0;34m'G81'\u001b[0m\u001b[0;34m,\u001b[0m\u001b[0;34m'G82'\u001b[0m\u001b[0;34m,\u001b[0m \u001b[0;34m'G83'\u001b[0m\u001b[0;34m]\u001b[0m\u001b[0;34m,\u001b[0m \u001b[0;34m\"parent_code\"\u001b[0m\u001b[0;34m]\u001b[0m \u001b[0;34m=\u001b[0m \u001b[0;34m\"Gfoams\"\u001b[0m\u001b[0;34m\u001b[0m\u001b[0;34m\u001b[0m\u001b[0m\n",
      "\u001b[0;32m~/anaconda3/envs/cantonal_report/lib/python3.9/site-packages/pandas/core/generic.py\u001b[0m in \u001b[0;36m?\u001b[0;34m(self, name)\u001b[0m\n\u001b[1;32m   5985\u001b[0m             \u001b[0;32mand\u001b[0m \u001b[0mname\u001b[0m \u001b[0;32mnot\u001b[0m \u001b[0;32min\u001b[0m \u001b[0mself\u001b[0m\u001b[0;34m.\u001b[0m\u001b[0m_accessors\u001b[0m\u001b[0;34m\u001b[0m\u001b[0;34m\u001b[0m\u001b[0m\n\u001b[1;32m   5986\u001b[0m             \u001b[0;32mand\u001b[0m \u001b[0mself\u001b[0m\u001b[0;34m.\u001b[0m\u001b[0m_info_axis\u001b[0m\u001b[0;34m.\u001b[0m\u001b[0m_can_hold_identifiers_and_holds_name\u001b[0m\u001b[0;34m(\u001b[0m\u001b[0mname\u001b[0m\u001b[0;34m)\u001b[0m\u001b[0;34m\u001b[0m\u001b[0;34m\u001b[0m\u001b[0m\n\u001b[1;32m   5987\u001b[0m         ):\n\u001b[1;32m   5988\u001b[0m             \u001b[0;32mreturn\u001b[0m \u001b[0mself\u001b[0m\u001b[0;34m[\u001b[0m\u001b[0mname\u001b[0m\u001b[0;34m]\u001b[0m\u001b[0;34m\u001b[0m\u001b[0;34m\u001b[0m\u001b[0m\n\u001b[0;32m-> 5989\u001b[0;31m         \u001b[0;32mreturn\u001b[0m \u001b[0mobject\u001b[0m\u001b[0;34m.\u001b[0m\u001b[0m__getattribute__\u001b[0m\u001b[0;34m(\u001b[0m\u001b[0mself\u001b[0m\u001b[0;34m,\u001b[0m \u001b[0mname\u001b[0m\u001b[0;34m)\u001b[0m\u001b[0;34m\u001b[0m\u001b[0;34m\u001b[0m\u001b[0m\n\u001b[0m",
      "\u001b[0;31mAttributeError\u001b[0m: 'DataFrame' object has no attribute 'pare'"
     ]
    }
   ],
   "source": [
    "dfCodes.loc[['G21', 'G22','G23', 'G24'], \"parent_code\"] = \"Gcaps\"\n",
    "\n",
    "dfCodes.loc[['G75', 'G78', 'G79',\"G80\"], \"parent_code\"] = \"Gfrags\"\n",
    "dfCodes.loc[['G76','G81','G82', 'G83'], \"parent_code\"] = \"Gfoams\"\n",
    "\n",
    "dfCodes[\"test\"] = dfCodes.parent_code.wher"
   ]
  },
  {
   "cell_type": "code",
   "execution_count": null,
   "id": "f8446e91-1dc8-43d6-9e1a-65ab1366cfb3",
   "metadata": {},
   "outputs": [],
   "source": []
  }
 ],
 "metadata": {
  "kernelspec": {
   "display_name": "Python 3 (ipykernel)",
   "language": "python",
   "name": "python3"
  },
  "language_info": {
   "codemirror_mode": {
    "name": "ipython",
    "version": 3
   },
   "file_extension": ".py",
   "mimetype": "text/x-python",
   "name": "python",
   "nbconvert_exporter": "python",
   "pygments_lexer": "ipython3",
   "version": "3.9.17"
  }
 },
 "nbformat": 4,
 "nbformat_minor": 5
}
