{
 "cells": [
  {
   "cell_type": "code",
   "execution_count": 1,
   "id": "64c16819-72da-4b47-a3aa-988d3f5a8203",
   "metadata": {
    "editable": true,
    "pycharm": {
     "name": "#%%\n"
    },
    "slideshow": {
     "slide_type": ""
    },
    "tags": [
     "hide-input"
    ]
   },
   "outputs": [],
   "source": [
    "%load_ext watermark\n",
    "\n",
    "import session_config\n",
    "import reports\n",
    "import pandas as pd\n",
    "import numpy as np\n",
    "import matplotlib.pyplot as plt\n",
    "import matplotlib as mpl\n",
    "import seaborn as sns"
   ]
  },
  {
   "cell_type": "markdown",
   "id": "64253a93-aae9-40d7-b29f-1aa216d30186",
   "metadata": {
    "editable": true,
    "slideshow": {
     "slide_type": ""
    },
    "tags": []
   },
   "source": [
    "(reporting)=\n",
    "# Survey report class\n",
    "\n",
    "The `SurveyReport` class is used to generate descriptive statistics and identify objects of interest from a query defined by geographic, adminsitrative and/or temporal bounds.\n",
    "\n",
    "The `SurveyReport` class expects a dataframe as described in the [annex](the_survey_data). Therefore any subset of the survey data will produce a report.\n",
    "\n",
    "```{note}\n",
    "\n",
    "The best reports are focussed. Select a lake or municipality of interest. Selecting specific codes or groups of codes based on use case is another way to produce a report that is tailored to a specific situation.\n",
    "\n",
    "```\n",
    "\n",
    "## Make a report class\n",
    "\n",
    "Define the boundaries of your search (canton, lake, river, city) and filter the data. Simply call the `SurveyReport` class with the filtered data as the argument.\n",
    "\n",
    "```python\n",
    "import session_config\n",
    "import reports\n",
    "\n",
    "# available data\n",
    "surveys = session_config.collect_survey_data()\n",
    "\n",
    "# boundaries / search parameters\n",
    "feature_type = 'canton'\n",
    "feature_name = 'Vaud'\n",
    "\n",
    "df = surveys[surveys[feature_type] == feature_name].copy()\n",
    "vaud_report = reports.SurveyReport(dfc=df)\n",
    "```"
   ]
  },
  {
   "cell_type": "code",
   "execution_count": 2,
   "id": "556ba2a8-f939-4607-aa22-e32ced9f70d8",
   "metadata": {
    "editable": true,
    "slideshow": {
     "slide_type": ""
    },
    "tags": [
     "remove-input"
    ]
   },
   "outputs": [],
   "source": [
    "surveys = session_config.collect_survey_data()\n",
    "feature_type = 'canton'\n",
    "feature_name = 'Vaud'\n",
    "\n",
    "df = surveys[surveys[feature_type] == feature_name].copy()\n",
    "vaud_report = reports.SurveyReport(dfc=df)"
   ]
  },
  {
   "cell_type": "markdown",
   "id": "e4a858c7-ea3e-4864-9f6e-b2e1c2babf5e",
   "metadata": {
    "editable": true,
    "slideshow": {
     "slide_type": ""
    },
    "tags": []
   },
   "source": [
    "## Report contents\n",
    "\n",
    "The report summarizes the survey results and provides the metadata necesary to describe the geographic and administrative extent of the survey results.\n",
    "\n",
    "1. Administrative boundaries: The number and name of municipalities and cantons included in the report\n",
    "2. Feature inventory: The number and name of lakes, rivers and parks included in the report\n",
    "3. The date range of the data\n",
    "4. A complete inventory of the objects found, including summary statistics for each object type\n",
    "5. Total quantity: the total number of objects found\n",
    "6. Number of samples\n",
    "7. Fail rate: the probability of finding at least one of the specified object at a sample\n",
    "8. Sample results: the sample total for each sample\n",
    "9. Sampling results summary: the distribution of the sample total for all samples\n",
    "10. Object summary: the complete inventory and fail rate for each object in one table\n",
    "11. Sampling conditions\n",
    "\n",
    "\n",
    "### Administrative boundaries\n",
    "\n",
    "The administrative boundaries can be displayed using `SurveyReport.administrative_boundaries()`. The resulting dictionary contains the number and names of each type of boundary:\n",
    "\n",
    "__What cities are considered in this report ?__\n",
    "\n",
    "```python\n",
    "# collect the boundaries report\n",
    "admin_boundaries = vaud_report.administrative_boundaries()\n",
    "admin_boundaries['city']\n",
    "```\n",
    "There are sixteen different cities:"
   ]
  },
  {
   "cell_type": "code",
   "execution_count": 3,
   "id": "6174d54f-f481-48b9-b831-7f80c4453f47",
   "metadata": {
    "editable": true,
    "jupyter": {
     "source_hidden": true
    },
    "slideshow": {
     "slide_type": ""
    },
    "tags": [
     "remove-input"
    ]
   },
   "outputs": [
    {
     "name": "stdout",
     "output_type": "stream",
     "text": [
      "{'count': 16, 'names': array(['La Tour-de-Peilz', 'Vevey', 'Montreux', 'Tolochenaz', 'Morges',\n",
      "       'Gland', 'Lausanne', 'Cudrefin', 'Saint-Sulpice (VD)',\n",
      "       'Préverenges', 'Rolle', 'Bourg-en-Lavaux', 'Allaman',\n",
      "       'Yverdon-les-Bains', 'Lavey-Morcles', 'Grandson'], dtype=object)}\n"
     ]
    }
   ],
   "source": [
    "admin_boundaries = vaud_report.administrative_boundaries()\n",
    "print(admin_boundaries['city'])"
   ]
  },
  {
   "cell_type": "markdown",
   "id": "e9d9e1b3-c838-40f9-8a36-31fc8cb1ec45",
   "metadata": {
    "editable": true,
    "slideshow": {
     "slide_type": ""
    },
    "tags": []
   },
   "source": [
    "<br />\n",
    "\n",
    "__What river basins are considered in this report ?__\n",
    "\n",
    "```python\n",
    "# collect the boundaries report\n",
    "admin_boundaries['parent_boundary']\n",
    "```\n",
    "There are two river basins:"
   ]
  },
  {
   "cell_type": "code",
   "execution_count": 4,
   "id": "f8d1f858-887c-4889-9968-44386be41c34",
   "metadata": {
    "editable": true,
    "slideshow": {
     "slide_type": ""
    },
    "tags": [
     "remove-input"
    ]
   },
   "outputs": [
    {
     "name": "stdout",
     "output_type": "stream",
     "text": [
      "{'count': 2, 'names': array(['rhone', 'aare'], dtype=object)}\n"
     ]
    }
   ],
   "source": [
    "print(admin_boundaries['parent_boundary'])"
   ]
  },
  {
   "cell_type": "markdown",
   "id": "40aae8e3-d622-47f5-8cb0-1d7076c1da6b",
   "metadata": {
    "editable": true,
    "slideshow": {
     "slide_type": ""
    },
    "tags": []
   },
   "source": [
    "### Feature inventory\n",
    "\n",
    "The number and name of lakes, rivers or parks in the data can be accessed usin `SurveyReport.feature_inventory()`.\n",
    "\n",
    "__Which lakes are included in this report ?__\n",
    "\n",
    "```python\n",
    "# call the feature inventory\n",
    "vaud_features = vaud_report.feature_inventory()\n",
    "vaud_features['l']\n",
    "```\n",
    "There are two lakes in this report"
   ]
  },
  {
   "cell_type": "code",
   "execution_count": 5,
   "id": "8c5f9347-d7dd-4ca3-b96e-a9426016563f",
   "metadata": {
    "editable": true,
    "slideshow": {
     "slide_type": ""
    },
    "tags": [
     "remove-input"
    ]
   },
   "outputs": [
    {
     "data": {
      "text/plain": [
       "{'count': 2, 'names': ['lac-leman', 'neuenburgersee']}"
      ]
     },
     "execution_count": 5,
     "metadata": {},
     "output_type": "execute_result"
    }
   ],
   "source": [
    "vaud_features = vaud_report.feature_inventory()\n",
    "vaud_features['l']"
   ]
  },
  {
   "cell_type": "markdown",
   "id": "037cdb71-0c01-426d-b62a-ee4c5f44708b",
   "metadata": {
    "editable": true,
    "slideshow": {
     "slide_type": ""
    },
    "tags": []
   },
   "source": [
    "### Date range, number of samples, total quantity\n",
    "\n",
    "These three attributes are avaialble directly:\n",
    "\n",
    "```python\n",
    "dates = vaud_report.date_range\n",
    "qty = vaud_report.total_quantity\n",
    "nsamps = vaud_report.number_of_samples\n",
    "```\n",
    "\n"
   ]
  },
  {
   "cell_type": "code",
   "execution_count": 6,
   "id": "0bbbac6b-c02d-4b05-b1d5-83476ae11fc4",
   "metadata": {
    "editable": true,
    "jupyter": {
     "source_hidden": true
    },
    "slideshow": {
     "slide_type": ""
    },
    "tags": [
     "remove-input"
    ]
   },
   "outputs": [
    {
     "name": "stdout",
     "output_type": "stream",
     "text": [
      "date range : {'start': '2015-11-23', 'end': '2022-10-06'}\n",
      "quantity : 64052\n",
      "number of samples: 233\n"
     ]
    }
   ],
   "source": [
    "dates = vaud_report.date_range\n",
    "qty = vaud_report.total_quantity\n",
    "nsamps = vaud_report.number_of_samples\n",
    "\n",
    "\n",
    "print(f'date range : {dates}\\nquantity : {qty}\\nnumber of samples: {nsamps}')"
   ]
  },
  {
   "cell_type": "markdown",
   "id": "d29325ec-aad9-4781-aba2-58d5626261c4",
   "metadata": {
    "editable": true,
    "slideshow": {
     "slide_type": ""
    },
    "tags": []
   },
   "source": [
    "### Fail rate\n",
    "\n",
    "The fail rate is best understood as the chance of finding at lease one of a particular object at a survey:\n",
    "\n",
    "__What is the chance of finding at least one candy wrapper at an inventory ?__\n",
    "\n",
    "```python\n",
    "fail_rate = vaud_report.fail_rate()\n",
    "fail_rate.loc['G30']\n",
    "```\n",
    "\n",
    "The fail rate (the chance of finding at leas one) for snack wrappers is 91%, there were 233 samples and there was at least one wrapper at 214 samples:"
   ]
  },
  {
   "cell_type": "code",
   "execution_count": 7,
   "id": "f205f754-a21b-48b7-a33b-723d9a637371",
   "metadata": {
    "editable": true,
    "jupyter": {
     "source_hidden": true
    },
    "slideshow": {
     "slide_type": ""
    },
    "tags": [
     "remove-input"
    ]
   },
   "outputs": [
    {
     "data": {
      "text/plain": [
       "sample_id    233.000000\n",
       "fails        214.000000\n",
       "rate           0.918455\n",
       "Name: G30, dtype: float64"
      ]
     },
     "execution_count": 7,
     "metadata": {},
     "output_type": "execute_result"
    }
   ],
   "source": [
    "fail_rate = vaud_report.fail_rate()\n",
    "fail_rate.loc['G30']"
   ]
  },
  {
   "cell_type": "markdown",
   "id": "89efab4a-124f-4218-8367-3c679d6ce306",
   "metadata": {
    "editable": true,
    "slideshow": {
     "slide_type": ""
    },
    "tags": []
   },
   "source": [
    "### Sample results\n",
    "\n",
    "The sample results are the aggregated daily totals for all samples. All statistics will originate from here.\n",
    "\n",
    "```python\n",
    "vaud_samples = vaud_report.sample_results\n",
    "```\n",
    "\n",
    "The sample results are best viewed in a scatterplot"
   ]
  },
  {
   "cell_type": "code",
   "execution_count": 8,
   "id": "64b29bcb-8fe0-48c7-8c39-310d9489e8d2",
   "metadata": {
    "editable": true,
    "jupyter": {
     "source_hidden": true
    },
    "slideshow": {
     "slide_type": ""
    },
    "tags": [
     "remove-input"
    ]
   },
   "outputs": [
    {
     "data": {
      "image/png": "[encoded data removed]",
      "text/plain": [
       "<Figure size 640x480 with 1 Axes>"
      ]
     },
     "metadata": {},
     "output_type": "display_data"
    }
   ],
   "source": [
    "import matplotlib.dates as mdates\n",
    "vaud_samples = vaud_report.sample_results\n",
    "vaud_samples['date'] = pd.to_datetime(vaud_samples['date'])\n",
    "\n",
    "fig, ax = plt.subplots()\n",
    "\n",
    "ax.xaxis.set_minor_locator(mdates.MonthLocator(interval=3))\n",
    "ax.xaxis.set_major_locator(mdates.YearLocator())\n",
    "\n",
    "sns.scatterplot(data=vaud_samples,x='date', y='pcs/m')\n",
    "ax.set_title(\"Sample results method of SurveyClass\", loc='left')\n",
    "\n",
    "plt.show()"
   ]
  },
  {
   "cell_type": "markdown",
   "id": "70e41b0a-f3d2-442f-a0f9-fc26a38e34c3",
   "metadata": {
    "editable": true,
    "slideshow": {
     "slide_type": ""
    },
    "tags": []
   },
   "source": [
    "### Sample results summary\n",
    "\n",
    "The sample results summary returns the quintiles of the survey totals, the average, the date range and the number of samples in one dictionary.\n",
    "\n",
    "```python\n",
    "sampling_summary = vaud_report.sampling_results_summary\n",
    "```\n",
    "The average in the Canton of Vaud was 7.69 pcs/m."
   ]
  },
  {
   "cell_type": "code",
   "execution_count": 9,
   "id": "6c241f9f-0b3a-487a-9a41-651de17711f0",
   "metadata": {
    "editable": true,
    "slideshow": {
     "slide_type": ""
    },
    "tags": [
     "remove-input"
    ]
   },
   "outputs": [
    {
     "data": {
      "text/plain": [
       "{'total': 64052,\n",
       " 'nsamples': 233,\n",
       " 'average': 7.687682403433477,\n",
       " 'quantiles': array([ 0.728,  2.4  ,  4.6  ,  8.92 , 25.494]),\n",
       " 'start': '2015-11-23',\n",
       " 'end': '2022-10-06'}"
      ]
     },
     "execution_count": 9,
     "metadata": {},
     "output_type": "execute_result"
    }
   ],
   "source": [
    "sampling_summary = vaud_report.sampling_results_summary\n",
    "sampling_summary"
   ]
  },
  {
   "cell_type": "markdown",
   "id": "91ec8e58-1694-4662-8766-be71d5498688",
   "metadata": {
    "editable": true,
    "slideshow": {
     "slide_type": ""
    },
    "tags": []
   },
   "source": [
    "### Object summary\n",
    "\n",
    "The object summary is the detailed inventory with % of total, fail-rate and average pcs/m for each object.\n",
    "\n",
    "```python\n",
    "object_summary = vaud_report.object_summary()\n",
    "```\n",
    "The five most abundant objects. G27, cigarette ends, are 19% of the total with an average density of 1.34 pcs/m. The fail rate for cigarette ends is less than the fail rate for candy wrappers (G30) and fragmented plastics (Gfrags)."
   ]
  },
  {
   "cell_type": "code",
   "execution_count": 10,
   "id": "6ddd4e7f-e57b-4149-803b-18606fc74d75",
   "metadata": {
    "editable": true,
    "slideshow": {
     "slide_type": ""
    },
    "tags": [
     "remove-input"
    ]
   },
   "outputs": [
    {
     "data": {
      "text/html": [
       "<div>\n",
       "<style scoped>\n",
       "    .dataframe tbody tr th:only-of-type {\n",
       "        vertical-align: middle;\n",
       "    }\n",
       "\n",
       "    .dataframe tbody tr th {\n",
       "        vertical-align: top;\n",
       "    }\n",
       "\n",
       "    .dataframe thead th {\n",
       "        text-align: right;\n",
       "    }\n",
       "</style>\n",
       "<table border=\"1\" class=\"dataframe\">\n",
       "  <thead>\n",
       "    <tr style=\"text-align: right;\">\n",
       "      <th></th>\n",
       "      <th>quantity</th>\n",
       "      <th>pcs/m</th>\n",
       "      <th>% of total</th>\n",
       "      <th>sample_id</th>\n",
       "      <th>fails</th>\n",
       "      <th>rate</th>\n",
       "    </tr>\n",
       "    <tr>\n",
       "      <th>code</th>\n",
       "      <th></th>\n",
       "      <th></th>\n",
       "      <th></th>\n",
       "      <th></th>\n",
       "      <th></th>\n",
       "      <th></th>\n",
       "    </tr>\n",
       "  </thead>\n",
       "  <tbody>\n",
       "    <tr>\n",
       "      <th>G27</th>\n",
       "      <td>12673</td>\n",
       "      <td>1.342618</td>\n",
       "      <td>0.197855</td>\n",
       "      <td>233</td>\n",
       "      <td>209.0</td>\n",
       "      <td>0.896996</td>\n",
       "    </tr>\n",
       "    <tr>\n",
       "      <th>Gfoams</th>\n",
       "      <td>8811</td>\n",
       "      <td>0.993348</td>\n",
       "      <td>0.137560</td>\n",
       "      <td>233</td>\n",
       "      <td>199.0</td>\n",
       "      <td>0.854077</td>\n",
       "    </tr>\n",
       "    <tr>\n",
       "      <th>Gfrags</th>\n",
       "      <td>8439</td>\n",
       "      <td>1.216266</td>\n",
       "      <td>0.131752</td>\n",
       "      <td>233</td>\n",
       "      <td>222.0</td>\n",
       "      <td>0.952790</td>\n",
       "    </tr>\n",
       "    <tr>\n",
       "      <th>G30</th>\n",
       "      <td>4314</td>\n",
       "      <td>0.528455</td>\n",
       "      <td>0.067352</td>\n",
       "      <td>233</td>\n",
       "      <td>214.0</td>\n",
       "      <td>0.918455</td>\n",
       "    </tr>\n",
       "    <tr>\n",
       "      <th>G95</th>\n",
       "      <td>3454</td>\n",
       "      <td>0.431545</td>\n",
       "      <td>0.053925</td>\n",
       "      <td>233</td>\n",
       "      <td>194.0</td>\n",
       "      <td>0.832618</td>\n",
       "    </tr>\n",
       "  </tbody>\n",
       "</table>\n",
       "</div>"
      ],
      "text/plain": [
       "        quantity     pcs/m  % of total  sample_id  fails      rate\n",
       "code                                                              \n",
       "G27        12673  1.342618    0.197855        233  209.0  0.896996\n",
       "Gfoams      8811  0.993348    0.137560        233  199.0  0.854077\n",
       "Gfrags      8439  1.216266    0.131752        233  222.0  0.952790\n",
       "G30         4314  0.528455    0.067352        233  214.0  0.918455\n",
       "G95         3454  0.431545    0.053925        233  194.0  0.832618"
      ]
     },
     "execution_count": 10,
     "metadata": {},
     "output_type": "execute_result"
    }
   ],
   "source": [
    "object_summary = vaud_report.object_summary()\n",
    "object_summary.sort_values('quantity', ascending=False).head()"
   ]
  },
  {
   "cell_type": "markdown",
   "id": "bef31abe-4c00-4688-8518-40a7cb00b86e",
   "metadata": {
    "editable": true,
    "slideshow": {
     "slide_type": ""
    },
    "tags": []
   },
   "source": [
    "### Sampling conditions\n",
    "\n",
    "The sampling conditions are the topographical features within 1 500 meters of the sampling location. They represent the landuse adjacent to the survey location. The land use for each location and category can accessed\n",
    "\n",
    "```python\n",
    "conditions = vaud_report.sampling_conditions()\n",
    "```\n",
    "For example at the survey location _aabach_ public services account for 35'000 m² of the land next to the survey location."
   ]
  },
  {
   "cell_type": "code",
   "execution_count": 11,
   "id": "3f5a2d86-f690-4b1a-8946-8db106df2515",
   "metadata": {
    "editable": true,
    "slideshow": {
     "slide_type": ""
    },
    "tags": [
     "remove-input"
    ]
   },
   "outputs": [
    {
     "name": "stdout",
     "output_type": "stream",
     "text": [
      "Location: aabach\n",
      "Public services : 35010m²\n"
     ]
    }
   ],
   "source": [
    "conditions = vaud_report.sampling_conditions()\n",
    "print(f\"Location: aabach\\nPublic services : {conditions['public services'].loc['aabach', 'area']}m²\")"
   ]
  },
  {
   "cell_type": "code",
   "execution_count": 12,
   "id": "54fba949-faaf-45c5-a4b7-f0111a5c8872",
   "metadata": {
    "editable": true,
    "jupyter": {
     "source_hidden": true
    },
    "pycharm": {
     "name": "#%%\n"
    },
    "slideshow": {
     "slide_type": ""
    },
    "tags": [
     "remove-input"
    ]
   },
   "outputs": [
    {
     "name": "stdout",
     "output_type": "stream",
     "text": [
      "Author: hammerdirt-analyst\n",
      "\n",
      "conda environment: cantonal_report\n",
      "\n",
      "numpy     : 1.25.2\n",
      "matplotlib: 3.7.1\n",
      "pandas    : 2.0.3\n",
      "seaborn   : 0.12.2\n",
      "\n"
     ]
    }
   ],
   "source": [
    "%watermark -a hammerdirt-analyst -co --iversions"
   ]
  },
  {
   "cell_type": "code",
   "execution_count": null,
   "id": "4fd69650-562e-4b45-8328-d62c511fa269",
   "metadata": {
    "editable": true,
    "pycharm": {
     "name": "#%%\n"
    },
    "slideshow": {
     "slide_type": ""
    },
    "tags": []
   },
   "outputs": [],
   "source": []
  },
  {
   "cell_type": "code",
   "execution_count": null,
   "id": "1271b638-c1bc-4763-ab43-758fbdbfddb0",
   "metadata": {
    "editable": true,
    "jupyter": {
     "source_hidden": true
    },
    "pycharm": {
     "name": "#%%\n"
    },
    "slideshow": {
     "slide_type": ""
    },
    "tags": []
   },
   "outputs": [],
   "source": []
  }
 ],
 "metadata": {
  "kernelspec": {
   "display_name": "Python 3 (ipykernel)",
   "language": "python",
   "name": "python3"
  },
  "language_info": {
   "codemirror_mode": {
    "name": "ipython",
    "version": 3
   },
   "file_extension": ".py",
   "mimetype": "text/x-python",
   "name": "python",
   "nbconvert_exporter": "python",
   "pygments_lexer": "ipython3",
   "version": "3.9.17"
  }
 },
 "nbformat": 4,
 "nbformat_minor": 5
}
