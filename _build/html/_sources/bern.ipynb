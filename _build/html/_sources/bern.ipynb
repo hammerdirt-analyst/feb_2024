{
 "cells": [
  {
   "cell_type": "code",
   "execution_count": 1,
   "id": "5bf92247-ef77-4aae-b62f-9388cba6765e",
   "metadata": {
    "editable": true,
    "slideshow": {
     "slide_type": ""
    },
    "tags": [
     "remove-input"
    ]
   },
   "outputs": [],
   "source": [
    "import session_config\n",
    "import reports\n",
    "import userdisplay\n",
    "import geospatial\n",
    "import gridforecast as gfcast\n",
    "\n",
    "import logging\n",
    "\n",
    "import pandas as pd\n",
    "import numpy as np\n",
    "import matplotlib.pyplot as plt\n",
    "import matplotlib as mpl\n",
    "import matplotlib.colors\n",
    "from matplotlib.colors import LinearSegmentedColormap, ListedColormap\n",
    "import seaborn as sns\n",
    "\n",
    "from myst_nb import glue\n",
    "from IPython.display import display, Markdown\n",
    "\n",
    "logging.basicConfig(\n",
    "    filename='app.log', \n",
    "    level=logging.DEBUG,\n",
    "    format='%(asctime)s - %(name)s - %(levelname)s - %(message)s'\n",
    ")\n",
    "\n",
    "logger = logging.getLogger(__name__)"
   ]
  },
  {
   "cell_type": "markdown",
   "id": "d2d5a3de-1688-4113-95ce-bf614dbf9695",
   "metadata": {
    "editable": true,
    "slideshow": {
     "slide_type": ""
    },
    "tags": []
   },
   "source": [
    "# Canton - sample\n",
    "\n",
    "\n",
    ":::{dropdown} How to make a report\n",
    "A report is the implementation of a `SurveyReport`, `LandUseReport` and a  `GridForecaster`. The default method for a survey-report is `discovery`. In this method the objects of interest are _discovered_ by indentifying the objects that appear often (frequence) and in abundance (highest absolute count). Often is defined as identified in 50% of the surveys. Abundance is the sum of all the counts for a particular object, the ten most _abundant_ objects are considered important.\n",
    "\n",
    "The land-use-report accepts the `SurveyReport.sample_results` and assigns the land-use attributes to the record. The land-use-report provides the baseline assessement of litter density in reference to the surrounding environment. The assessment accepts as variables the proportion of available space that a topographical feature occupies in a circle of $\\pi r² \\text{ where r = 1 500 meters}$ and the center of that circle is the survey location. These proportions are compared to the `average pieces per meter` for an object or group of objects.\n",
    "\n",
    "The GridForecaster accepts as variables the `SurveyReport.sample_results` from two reports, the prior and the likelihood. Here is where the prior and likelihood are defined for the rest of the forecasting grid. The default inference pipepline is an implementation of conditional probability using the mutlinomial-dirichlet conjugate relationship with two priors. The first prior considers all the data within the limits of the query parameters and if possible the data prior to the temporal window of the query. The second prior is wieghted according to the land-use characteristics of the data considered under the query parameters and prior to the temporal range.\n",
    "\n",
    "Each report and the inference method are documented: [SurveyReport](surveyreporter), [LandUseReport](landusereporter), [GridForecaster](gridforecaster)\n",
    "\n",
    "__Create a report__\n",
    "\n",
    "A report can be intiated by providing the name of the canton. If your canton does not appear this is because we have no data. The prior dates will be calculated automatically, by taking all data prior to the start date of the querry.\n",
    "\n",
    "```{code} python\n",
    "\n",
    "# the dates i am interested in, the most recent sampling camapaign\n",
    "observed_dates = {'start':'2020-01-01', 'end':'2021-12-31'}\n",
    "\n",
    "# everything that was seen before\n",
    "prior_dates = {'start':'2015-11-15', 'end':'2019-12-31'}\n",
    "\n",
    "# name the canton\n",
    "canton = 'Bern'\n",
    "\n",
    "# define the dates of interest\n",
    "data_of_interest = {'canton':canton, 'date_range':observed_dates}\n",
    "sampling_history = {'canton':canton, 'date_range':prior_dates}\n",
    "\n",
    "# make report\n",
    "results = gridforecast.reports_and_forecast(data_of_interest, sampling_history, ldata=data, logger=logger)\n",
    "```\n",
    ":::\n",
    "\n"
   ]
  },
  {
   "cell_type": "code",
   "execution_count": 2,
   "id": "c7e72a1c-a3e1-4407-8b87-745b94b6f76a",
   "metadata": {
    "editable": true,
    "slideshow": {
     "slide_type": ""
    },
    "tags": [
     "remove-input"
    ]
   },
   "outputs": [],
   "source": [
    "data = session_config.collect_survey_data()\n",
    "o_dates = {'start':'2020-01-01', 'end':'2021-12-31'}\n",
    "prior_dates = {'start':'2015-11-15', 'end':'2019-12-31'}\n",
    "\n",
    "canton = 'Bern'\n",
    "d= data.reset_index(drop=True)"
   ]
  },
  {
   "cell_type": "code",
   "execution_count": 3,
   "id": "e10d3041-f202-46cb-b324-66b4f66b032c",
   "metadata": {
    "editable": true,
    "slideshow": {
     "slide_type": ""
    },
    "tags": [
     "remove-input"
    ]
   },
   "outputs": [],
   "source": [
    "# likelihood_data, l_locations, l_message = gfcast.check_params({'canton':canton, 'date_range':o_dates}, d, logger)\n",
    "# prior_data, p_locations, p_message = gfcast.check_params({'canton':canton, 'date_range':prior_dates}, d, logger)\n",
    "results = gfcast.reports_and_forecast({'canton':canton, 'date_range':o_dates}, {'canton':canton, 'date_range':prior_dates}, ldata=d.copy(), logger=logger)\n",
    "# collect the results from the prior and the likelihood\n",
    "prr = results['prior_report'].sample_results.groupby('sample_id')['pcs/m'].sum()\n",
    "lkl = results['this_report'].sample_results.groupby('sample_id')['pcs/m'].sum()\n",
    "\n",
    "# consider all values\n",
    "xii = results['posterior_no_limit'].sample_posterior()\n",
    "\n",
    "# limit to the 99th percentile\n",
    "sample_values, posterior, summary_simple = gfcast.dirichlet_posterior(results['posterior_99'])"
   ]
  },
  {
   "cell_type": "code",
   "execution_count": 4,
   "id": "968f5987-6cda-4e69-ae20-a093a06318d8",
   "metadata": {
    "editable": true,
    "slideshow": {
     "slide_type": ""
    },
    "tags": [
     "remove-input"
    ]
   },
   "outputs": [],
   "source": [
    "t = results['this_report'].inventory()\n",
    "t['material'] = t.index.map(lambda x: userdisplay.code_material.loc[x, 'material'])\n",
    "material_report = t.groupby(['material']).quantity.sum()\n",
    "mr = material_report/sum(material_report)\n",
    "mr = (mr*100).astype(int)\n",
    "mr = pd.DataFrame(mr[mr > 1])\n",
    "mr['% of total'] = mr.quantity.apply(lambda x: f'{x}%')\n",
    "mr = mr[['% of total']].T\n",
    "mr = mr.style.set_table_styles(userdisplay.table_css_styles)\n"
   ]
  },
  {
   "cell_type": "code",
   "execution_count": 5,
   "id": "afc970a2-f8e5-49f5-9c90-2faeace72ba9",
   "metadata": {
    "editable": true,
    "slideshow": {
     "slide_type": ""
    },
    "tags": [
     "remove-input"
    ]
   },
   "outputs": [
    {
     "data": {
      "application/papermill.record/image/png": "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",
      "application/papermill.record/text/plain": "<Figure size 640x480 with 1 Axes>"
     },
     "metadata": {
      "scrapbook": {
       "mime_prefix": "application/papermill.record/",
       "name": "prior-likelihood"
      }
     },
     "output_type": "display_data"
    }
   ],
   "source": [
    "fig, ax = plt.subplots()\n",
    "\n",
    "o_surveys = results['this_report'].sample_results\n",
    "p_surveys = results['prior_report'] .sample_results\n",
    "\n",
    "sns.histplot(data=o_surveys, x='pcs/m', stat='probability', label='observed', ax=ax)\n",
    "sns.histplot(data=p_surveys, x='pcs/m', stat='probability', label='prior',ax=ax)\n",
    "ax.legend()\n",
    "plt.tight_layout()\n",
    "glue('prior-likelihood', fig, display=False)\n",
    "plt.close()"
   ]
  },
  {
   "cell_type": "code",
   "execution_count": 6,
   "id": "e04e4514-4926-445c-858c-857e5c4c5ca4",
   "metadata": {
    "editable": true,
    "slideshow": {
     "slide_type": ""
    },
    "tags": [
     "remove-input"
    ]
   },
   "outputs": [
    {
     "data": {
      "application/papermill.record/image/png": "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",
      "application/papermill.record/text/plain": "<Figure size 640x480 with 1 Axes>"
     },
     "metadata": {
      "scrapbook": {
       "mime_prefix": "application/papermill.record/",
       "name": "cumumlative-dist-forecast-prior"
      }
     },
     "output_type": "display_data"
    }
   ],
   "source": [
    "fig, ax = plt.subplots()\n",
    "\n",
    "sns.ecdfplot(prr, label='prior', ls='-', ax=ax)\n",
    "sns.ecdfplot(lkl, label='observed', ls='-', ax=ax)\n",
    "sns.ecdfplot(sample_values, label='expected 99%', ls=':')\n",
    "sns.ecdfplot(xii, label='expected max', ls='-.')\n",
    "ax.set_xlim(-.1, 10)\n",
    "ax.legend()\n",
    "plt.tight_layout()\n",
    "glue('cumumlative-dist-forecast-prior', fig, display=False)\n",
    "plt.close()"
   ]
  },
  {
   "cell_type": "code",
   "execution_count": 7,
   "id": "ae5f4dec-5dfd-48e2-ab12-703e5b00200b",
   "metadata": {
    "editable": true,
    "slideshow": {
     "slide_type": ""
    },
    "tags": [
     "remove-input"
    ]
   },
   "outputs": [],
   "source": [
    "os = results['this_report'].object_summary()\n",
    "os.reset_index(drop=False, inplace=True)\n",
    "\n",
    "# mostcommon objects\n",
    "most_common_objects, mc_codes, proportions = userdisplay.most_common(os)\n",
    "most_common_objects = most_common_objects.set_caption(\"\")"
   ]
  },
  {
   "cell_type": "code",
   "execution_count": 8,
   "id": "7ed7ca4e-dba6-4553-ac66-0e0c14d55e0b",
   "metadata": {
    "editable": true,
    "slideshow": {
     "slide_type": ""
    },
    "tags": [
     "remove-input"
    ]
   },
   "outputs": [],
   "source": [
    "def display_forecast(fcast_summary):\n",
    "    average = fcast_summary['average']\n",
    "    hdi_min, hdi_max = fcast_summary['hdi'][0], fcast_summary['hdi'][1]\n",
    "    \n",
    "    range_90_min, range_90_max= fcast_summary['range'][0], fcast_summary['range'][-1]\n",
    "    alist = f'\\n* Average: {round(average, 2)}\\n* HDI 95%: {round(hdi_min, 2)} - {round(hdi_max, 2)}\\n* 90% Range: {round(range_90_min, 2)} - {round(range_90_max,2)}'\n",
    "    return alist\n",
    "new_list = display_forecast(summary_simple)\n",
    "new_list2 = display_forecast(results['posterior_no_limit'].get_descriptive_statistics())\n",
    "new_list1 = Markdown('__Given the 99th percentile of all observed samples__' + new_list)\n",
    "new_list2 = Markdown('__Given the observed max__' + new_list2)\n"
   ]
  },
  {
   "cell_type": "code",
   "execution_count": 9,
   "id": "e52801ed-c5a4-43d9-93f4-e0494702c56b",
   "metadata": {
    "editable": true,
    "slideshow": {
     "slide_type": ""
    },
    "tags": [
     "remove-input"
    ]
   },
   "outputs": [
    {
     "data": {
      "application/papermill.record/text/html": "<style type=\"text/css\">\n#T_bf20f tr:nth-child(even) {\n  background-color: rgba(139, 69, 19, 0.08);\n}\n#T_bf20f tr:nth-child(odd) {\n  background: #FFF;\n}\n#T_bf20f tr {\n  font-size: 10px;\n}\n#T_bf20f th {\n  background-color: #FFF;\n  font-size: 12px;\n  text-align: left;\n  width: auto;\n  word-break: keep-all;\n}\n#T_bf20f td {\n  padding: 4px;\n  font-size: 12px;\n  text-align: center;\n}\n#T_bf20f caption {\n  caption-side: bottom;\n  font-size: 1em;\n  text-align: left;\n}\n</style>\n<table id=\"T_bf20f\">\n  <thead>\n    <tr>\n      <th class=\"index_name level0\" >material</th>\n      <th id=\"T_bf20f_level0_col0\" class=\"col_heading level0 col0\" >glass</th>\n      <th id=\"T_bf20f_level0_col1\" class=\"col_heading level0 col1\" >metal</th>\n      <th id=\"T_bf20f_level0_col2\" class=\"col_heading level0 col2\" >paper</th>\n      <th id=\"T_bf20f_level0_col3\" class=\"col_heading level0 col3\" >plastic</th>\n    </tr>\n  </thead>\n  <tbody>\n    <tr>\n      <th id=\"T_bf20f_level0_row0\" class=\"row_heading level0 row0\" >% of total</th>\n      <td id=\"T_bf20f_row0_col0\" class=\"data row0 col0\" >5%</td>\n      <td id=\"T_bf20f_row0_col1\" class=\"data row0 col1\" >3%</td>\n      <td id=\"T_bf20f_row0_col2\" class=\"data row0 col2\" >2%</td>\n      <td id=\"T_bf20f_row0_col3\" class=\"data row0 col3\" >85%</td>\n    </tr>\n  </tbody>\n</table>\n",
      "application/papermill.record/text/plain": "<pandas.io.formats.style.Styler at 0x756f18199d60>"
     },
     "metadata": {
      "scrapbook": {
       "mime_prefix": "application/papermill.record/",
       "name": "material-report"
      }
     },
     "output_type": "display_data"
    },
    {
     "data": {
      "application/papermill.record/text/markdown": "__Given the observed max__\n* Average: 2.53\n* HDI 95%: 0.04 - 11.41\n* 90% Range: 0.06 - 9.68",
      "application/papermill.record/text/plain": "<IPython.core.display.Markdown object>"
     },
     "metadata": {
      "scrapbook": {
       "mime_prefix": "application/papermill.record/",
       "name": "forecast-weighted-prior"
      }
     },
     "output_type": "display_data"
    },
    {
     "data": {
      "application/papermill.record/text/markdown": "__Given the 99th percentile of all observed samples__\n* Average: 1.8\n* HDI 95%: 0.1 - 6.4\n* 90% Range: 0.1 - 6.4",
      "application/papermill.record/text/plain": "<IPython.core.display.Markdown object>"
     },
     "metadata": {
      "scrapbook": {
       "mime_prefix": "application/papermill.record/",
       "name": "forecast-all-prior"
      }
     },
     "output_type": "display_data"
    },
    {
     "data": {
      "application/papermill.record/text/markdown": "The most common objects account for 68% of all objects",
      "application/papermill.record/text/plain": "<IPython.core.display.Markdown object>"
     },
     "metadata": {
      "scrapbook": {
       "mime_prefix": "application/papermill.record/",
       "name": "ratio-most-common"
      }
     },
     "output_type": "display_data"
    },
    {
     "data": {
      "application/papermill.record/text/html": "<style type=\"text/css\">\n#T_07dd0 tr:nth-child(even) {\n  background-color: rgba(139, 69, 19, 0.08);\n}\n#T_07dd0 tr:nth-child(odd) {\n  background: #FFF;\n}\n#T_07dd0 tr {\n  font-size: 10px;\n}\n#T_07dd0 th {\n  background-color: #FFF;\n  font-size: 12px;\n  text-align: left;\n  width: auto;\n  word-break: keep-all;\n}\n#T_07dd0 td {\n  padding: 4px;\n  font-size: 12px;\n  text-align: center;\n}\n#T_07dd0 caption {\n  caption-side: top;\n  font-size: 1em;\n  text-align: left;\n  margin-bottom: 10px;\n}\n#T_07dd0 caption {\n  caption-side: top;\n  font-size: .9em;\n  text-align: left;\n  font-style: italic;\n  color: #000;\n}\n#T_07dd0 td:nth-child(1) {\n  text-align: left;\n}\n</style>\n<table id=\"T_07dd0\">\n  <thead>\n    <tr>\n      <th id=\"T_07dd0_level0_col0\" class=\"col_heading level0 col0\" >Object</th>\n      <th id=\"T_07dd0_level0_col1\" class=\"col_heading level0 col1\" >Quantity</th>\n      <th id=\"T_07dd0_level0_col2\" class=\"col_heading level0 col2\" >pcs/m</th>\n      <th id=\"T_07dd0_level0_col3\" class=\"col_heading level0 col3\" >% of total</th>\n      <th id=\"T_07dd0_level0_col4\" class=\"col_heading level0 col4\" >Fail rate</th>\n    </tr>\n  </thead>\n  <tbody>\n    <tr>\n      <td id=\"T_07dd0_row0_col0\" class=\"data row0 col0\" >Cigarette filters</td>\n      <td id=\"T_07dd0_row0_col1\" class=\"data row0 col1\" >1'671</td>\n      <td id=\"T_07dd0_row0_col2\" class=\"data row0 col2\" >0,42</td>\n      <td id=\"T_07dd0_row0_col3\" class=\"data row0 col3\" >0,19</td>\n      <td id=\"T_07dd0_row0_col4\" class=\"data row0 col4\" >0,81</td>\n    </tr>\n    <tr>\n      <td id=\"T_07dd0_row1_col0\" class=\"data row1 col0\" >Fragmented plastics</td>\n      <td id=\"T_07dd0_row1_col1\" class=\"data row1 col1\" >1'323</td>\n      <td id=\"T_07dd0_row1_col2\" class=\"data row1 col2\" >0,46</td>\n      <td id=\"T_07dd0_row1_col3\" class=\"data row1 col3\" >0,15</td>\n      <td id=\"T_07dd0_row1_col4\" class=\"data row1 col4\" >0,89</td>\n    </tr>\n    <tr>\n      <td id=\"T_07dd0_row2_col0\" class=\"data row2 col0\" >Industrial sheeting</td>\n      <td id=\"T_07dd0_row2_col1\" class=\"data row2 col1\" >686</td>\n      <td id=\"T_07dd0_row2_col2\" class=\"data row2 col2\" >0,24</td>\n      <td id=\"T_07dd0_row2_col3\" class=\"data row2 col3\" >0,08</td>\n      <td id=\"T_07dd0_row2_col4\" class=\"data row2 col4\" >0,78</td>\n    </tr>\n    <tr>\n      <td id=\"T_07dd0_row3_col0\" class=\"data row3 col0\" >Food wrappers; candy, snacks</td>\n      <td id=\"T_07dd0_row3_col1\" class=\"data row3 col1\" >589</td>\n      <td id=\"T_07dd0_row3_col2\" class=\"data row3 col2\" >0,19</td>\n      <td id=\"T_07dd0_row3_col3\" class=\"data row3 col3\" >0,07</td>\n      <td id=\"T_07dd0_row3_col4\" class=\"data row3 col4\" >0,80</td>\n    </tr>\n    <tr>\n      <td id=\"T_07dd0_row4_col0\" class=\"data row4 col0\" >Expanded polystyrene</td>\n      <td id=\"T_07dd0_row4_col1\" class=\"data row4 col1\" >474</td>\n      <td id=\"T_07dd0_row4_col2\" class=\"data row4 col2\" >0,12</td>\n      <td id=\"T_07dd0_row4_col3\" class=\"data row4 col3\" >0,05</td>\n      <td id=\"T_07dd0_row4_col4\" class=\"data row4 col4\" >0,62</td>\n    </tr>\n    <tr>\n      <td id=\"T_07dd0_row5_col0\" class=\"data row5 col0\" >Glass drink bottles, pieces</td>\n      <td id=\"T_07dd0_row5_col1\" class=\"data row5 col1\" >348</td>\n      <td id=\"T_07dd0_row5_col2\" class=\"data row5 col2\" >0,12</td>\n      <td id=\"T_07dd0_row5_col3\" class=\"data row5 col3\" >0,04</td>\n      <td id=\"T_07dd0_row5_col4\" class=\"data row5 col4\" >0,65</td>\n    </tr>\n    <tr>\n      <td id=\"T_07dd0_row6_col0\" class=\"data row6 col0\" >Packaging films nonfood or unknown</td>\n      <td id=\"T_07dd0_row6_col1\" class=\"data row6 col1\" >261</td>\n      <td id=\"T_07dd0_row6_col2\" class=\"data row6 col2\" >0,09</td>\n      <td id=\"T_07dd0_row6_col3\" class=\"data row6 col3\" >0,03</td>\n      <td id=\"T_07dd0_row6_col4\" class=\"data row6 col4\" >0,49</td>\n    </tr>\n    <tr>\n      <td id=\"T_07dd0_row7_col0\" class=\"data row7 col0\" >Foam packaging/insulation/polyurethane</td>\n      <td id=\"T_07dd0_row7_col1\" class=\"data row7 col1\" >240</td>\n      <td id=\"T_07dd0_row7_col2\" class=\"data row7 col2\" >0,03</td>\n      <td id=\"T_07dd0_row7_col3\" class=\"data row7 col3\" >0,03</td>\n      <td id=\"T_07dd0_row7_col4\" class=\"data row7 col4\" >0,78</td>\n    </tr>\n    <tr>\n      <td id=\"T_07dd0_row8_col0\" class=\"data row8 col0\" >plastic caps, lid rings: G21, G22, G23, G24</td>\n      <td id=\"T_07dd0_row8_col1\" class=\"data row8 col1\" >227</td>\n      <td id=\"T_07dd0_row8_col2\" class=\"data row8 col2\" >0,07</td>\n      <td id=\"T_07dd0_row8_col3\" class=\"data row8 col3\" >0,03</td>\n      <td id=\"T_07dd0_row8_col4\" class=\"data row8 col4\" >0,60</td>\n    </tr>\n    <tr>\n      <td id=\"T_07dd0_row9_col0\" class=\"data row9 col0\" >Industrial pellets (nurdles)</td>\n      <td id=\"T_07dd0_row9_col1\" class=\"data row9 col1\" >196</td>\n      <td id=\"T_07dd0_row9_col2\" class=\"data row9 col2\" >0,05</td>\n      <td id=\"T_07dd0_row9_col3\" class=\"data row9 col3\" >0,02</td>\n      <td id=\"T_07dd0_row9_col4\" class=\"data row9 col4\" >0,33</td>\n    </tr>\n    <tr>\n      <td id=\"T_07dd0_row10_col0\" class=\"data row10 col0\" >Plastic construction waste</td>\n      <td id=\"T_07dd0_row10_col1\" class=\"data row10 col1\" >160</td>\n      <td id=\"T_07dd0_row10_col2\" class=\"data row10 col2\" >0,06</td>\n      <td id=\"T_07dd0_row10_col3\" class=\"data row10 col3\" >0,02</td>\n      <td id=\"T_07dd0_row10_col4\" class=\"data row10 col4\" >0,52</td>\n    </tr>\n  </tbody>\n</table>\n",
      "application/papermill.record/text/plain": "<pandas.io.formats.style.Styler at 0x756f0e7f2f10>"
     },
     "metadata": {
      "scrapbook": {
       "mime_prefix": "application/papermill.record/",
       "name": "most_common_objects"
      }
     },
     "output_type": "display_data"
    },
    {
     "data": {
      "application/papermill.record/text/markdown": "__Summary of selected data__\n* Number of samples: 106\n* Total number of objects: 4562\n* Average sample count: 1.39\n* Date of first sample: 2017-04-02\n* Date of last sample: 2019-07-19\n",
      "application/papermill.record/text/plain": "<IPython.core.display.Markdown object>"
     },
     "metadata": {
      "scrapbook": {
       "mime_prefix": "application/papermill.record/",
       "name": "prior-sampling-summary"
      }
     },
     "output_type": "display_data"
    },
    {
     "data": {
      "application/papermill.record/text/markdown": "__Summary of selected data__\n* Number of samples: 89\n* Total number of objects: 9028\n* Average sample count: 2.76\n* Date of first sample: 2020-01-26\n* Date of last sample: 2021-04-23\n",
      "application/papermill.record/text/plain": "<IPython.core.display.Markdown object>"
     },
     "metadata": {
      "scrapbook": {
       "mime_prefix": "application/papermill.record/",
       "name": "sampling-summary"
      }
     },
     "output_type": "display_data"
    },
    {
     "data": {
      "application/papermill.record/text/markdown": "__Features surveyed__\n* Rivers: 4\n* Lakes: 4\n\n",
      "application/papermill.record/text/plain": "<IPython.core.display.Markdown object>"
     },
     "metadata": {
      "scrapbook": {
       "mime_prefix": "application/papermill.record/",
       "name": "feature-inventory"
      }
     },
     "output_type": "display_data"
    },
    {
     "data": {
      "application/papermill.record/text/markdown": "__Administrative boundaries__\n* Survey locations: 33\n* Cities: 21\n\n",
      "application/papermill.record/text/plain": "<IPython.core.display.Markdown object>"
     },
     "metadata": {
      "scrapbook": {
       "mime_prefix": "application/papermill.record/",
       "name": "administrative-boundaries"
      }
     },
     "output_type": "display_data"
    }
   ],
   "source": [
    "feature_inv = results['this_report'].feature_inventory()\n",
    "feature_inv.pop('p')\n",
    "\n",
    "\n",
    "feature_inventory = Markdown(userdisplay.feature_inventory(feature_inv, session_language='en'))\n",
    "\n",
    "aboundaries = results['this_report'].administrative_boundaries().copy()\n",
    "aboundaries.pop('canton')\n",
    "aboundaries.pop('parent_boundary')\n",
    "\n",
    "administrative_boundaries = Markdown(userdisplay.boundaries(aboundaries, session_language='en'))\n",
    "\n",
    "\n",
    "header = userdisplay.sampling_result_summary(results['this_report'].sampling_results_summary, session_language='en')[0]\n",
    "info = userdisplay.sampling_result_summary(results['this_report'].sampling_results_summary, session_language='en')[1]\n",
    "samp_sum = Markdown(f'{header}\\n{info}')\n",
    "\n",
    "prior_header = userdisplay.sampling_result_summary(results['prior_report'].sampling_results_summary, session_language='en')[0]\n",
    "prior_info = userdisplay.sampling_result_summary(results['prior_report'].sampling_results_summary, session_language='en')[1]\n",
    "prior_samp_sum = Markdown(f'{prior_header}\\n{prior_info}')\n",
    "\n",
    "ratio_most_common = Markdown(f'The most common objects account for {int(proportions*100)}% of all objects')\n",
    "\n",
    "# one_list = Markdown(f'{feature_inventory}\\n{administrative_boundaries}')\n",
    "glue('material-report', mr, display=False)\n",
    "glue('forecast-weighted-prior', new_list2, display=False)\n",
    "glue('forecast-all-prior', new_list1, display=False)\n",
    "glue('ratio-most-common', ratio_most_common, display=False)\n",
    "glue('most_common_objects', most_common_objects, display=False)\n",
    "glue('prior-sampling-summary', prior_samp_sum, display=False)\n",
    "glue('sampling-summary', samp_sum, display=False)\n",
    "glue('feature-inventory', feature_inventory, display=False)\n",
    "glue('administrative-boundaries', administrative_boundaries, display=False)\n"
   ]
  },
  {
   "cell_type": "code",
   "execution_count": null,
   "id": "edd0bcc0-cf3b-4fca-ab40-35374c54f7a9",
   "metadata": {
    "editable": true,
    "slideshow": {
     "slide_type": ""
    },
    "tags": []
   },
   "outputs": [],
   "source": [
    "\n"
   ]
  },
  {
   "cell_type": "markdown",
   "id": "720e6d85-e449-48cd-8412-3e243934e678",
   "metadata": {
    "editable": true,
    "slideshow": {
     "slide_type": ""
    },
    "tags": []
   },
   "source": [
    "## Bern\n",
    "\n",
    "### Vital statistics\n",
    "\n",
    "::::{grid} 2 2 2 2\n",
    ":::{grid-item}\n",
    ":columns: 12 5 5 5\n",
    "```{glue} feature-inventory\n",
    "```\n",
    "```{glue} administrative-boundaries\n",
    "```\n",
    "```{glue} sampling-summary\n",
    "```\n",
    "__Material composition__\n",
    "\n",
    "```{glue} material-report\n",
    "```\n",
    ":::\n",
    ":::{grid-item-card}\n",
    ":columns: 12 7 7 7\n",
    "```{glue} prior-likelihood\n",
    "```\n",
    "+++\n",
    "Observed samples most recent campaign and sampling history\n",
    ":::\n",
    "::::"
   ]
  },
  {
   "cell_type": "markdown",
   "id": "501575a0-10d5-4609-8550-8d80807fda4d",
   "metadata": {
    "editable": true,
    "slideshow": {
     "slide_type": ""
    },
    "tags": []
   },
   "source": [
    "### Forecast\n",
    "\n",
    "::::{grid} 1 1 2 2\n",
    ":::{grid-item-card}\n",
    "\n",
    "Minimum expected survey results 2025\n",
    "^^^\n",
    "\n",
    "\n",
    "```{glue} forecast-all-prior\n",
    "```\n",
    "```{glue} forecast-weighted-prior\n",
    "```\n",
    "\n",
    ":::\n",
    "\n",
    ":::{grid-item-card}\n",
    ":shadow: none\n",
    "```{glue} cumumlative-dist-forecast-prior\n",
    "```\n",
    "+++\n",
    "Cumulative distribution of observed, sampling history and forecasts using to different priors.\n",
    ":::\n",
    "::::"
   ]
  },
  {
   "cell_type": "markdown",
   "id": "eb28db66-53c9-4875-83e4-c13a8d7167e5",
   "metadata": {
    "editable": true,
    "slideshow": {
     "slide_type": ""
    },
    "tags": [
     "remove-input"
    ]
   },
   "source": [
    "### Most common objects\n",
    "::::{grid} 2 2 2 2 \n",
    ":::{grid-item}\n",
    ":columns: 4\n",
    "\n",
    "The most common objects from the selected data. The most common objects are a combination of the top ten most abundant objects and those objects that are found in more than 50% of the samples. Some objects are found frequently but at low quantities.Other objects are found in fewer samples but at higher quantities.\n",
    "\n",
    "```{glue} ratio-most-common\n",
    "```\n",
    ":::\n",
    "\n",
    ":::{grid-item-card}\n",
    ":columns: 8\n",
    ":shadow: none\n",
    "\n",
    "```{glue} most_common_objects\n",
    ":::\n",
    "::::"
   ]
  },
  {
   "cell_type": "markdown",
   "id": "8da78666-9028-4d7c-8401-6e12f4f66fc7",
   "metadata": {
    "editable": true,
    "slideshow": {
     "slide_type": ""
    },
    "tags": []
   },
   "source": [
    "### Municipal Results\n",
    "\n",
    "The average pieces per meter of the most common objects for each city."
   ]
  },
  {
   "cell_type": "code",
   "execution_count": 10,
   "id": "abc83f2f-6eb7-49c5-8617-4e4df3b5cc8e",
   "metadata": {
    "editable": true,
    "jupyter": {
     "source_hidden": true
    },
    "slideshow": {
     "slide_type": ""
    },
    "tags": [
     "remove-input"
    ]
   },
   "outputs": [
    {
     "data": {
      "text/html": [
       "<style type=\"text/css\">\n",
       "#T_b61e9 tr:nth-child(even) {\n",
       "  background-color: rgba(139, 69, 19, 0.08);\n",
       "}\n",
       "#T_b61e9 tr:nth-child(odd) {\n",
       "  background: #FFF;\n",
       "}\n",
       "#T_b61e9 tr {\n",
       "  font-size: 10px;\n",
       "}\n",
       "#T_b61e9 th {\n",
       "  background-color: #FFF;\n",
       "  font-size: 12px;\n",
       "  text-align: left;\n",
       "  width: auto;\n",
       "  word-break: keep-all;\n",
       "}\n",
       "#T_b61e9 td {\n",
       "  padding: 4px;\n",
       "  font-size: 12px;\n",
       "  text-align: center;\n",
       "}\n",
       "#T_b61e9 caption {\n",
       "  caption-side: bottom;\n",
       "  font-size: 1em;\n",
       "  text-align: left;\n",
       "}\n",
       "#T_b61e9_row0_col0, #T_b61e9_row0_col1, #T_b61e9_row0_col6, #T_b61e9_row0_col10, #T_b61e9_row0_col14, #T_b61e9_row0_col18, #T_b61e9_row2_col20, #T_b61e9_row3_col15, #T_b61e9_row4_col7, #T_b61e9_row4_col8, #T_b61e9_row4_col12, #T_b61e9_row4_col13, #T_b61e9_row4_col17, #T_b61e9_row4_col19, #T_b61e9_row5_col4, #T_b61e9_row5_col16, #T_b61e9_row7_col3, #T_b61e9_row7_col5, #T_b61e9_row7_col9 {\n",
       "  color: red;\n",
       "}\n",
       "#T_b61e9_row0_col2, #T_b61e9_row4_col11 {\n",
       "  color: red;\n",
       "  background-color: yellow;\n",
       "}\n",
       "#T_b61e9_row1_col3, #T_b61e9_row2_col0, #T_b61e9_row3_col11, #T_b61e9_row5_col11, #T_b61e9_row6_col3, #T_b61e9_row7_col11, #T_b61e9_row8_col11, #T_b61e9_row9_col19, #T_b61e9_row10_col3 {\n",
       "  background-color: yellow;\n",
       "}\n",
       "</style>\n",
       "<table id=\"T_b61e9\">\n",
       "  <thead>\n",
       "    <tr>\n",
       "      <th class=\"index_name level0\" >city</th>\n",
       "      <th id=\"T_b61e9_level0_col0\" class=\"col_heading level0 col0\" >Beatenberg</th>\n",
       "      <th id=\"T_b61e9_level0_col1\" class=\"col_heading level0 col1\" >Bern</th>\n",
       "      <th id=\"T_b61e9_level0_col2\" class=\"col_heading level0 col2\" >Biel/Bienne</th>\n",
       "      <th id=\"T_b61e9_level0_col3\" class=\"col_heading level0 col3\" >Brienz (BE)</th>\n",
       "      <th id=\"T_b61e9_level0_col4\" class=\"col_heading level0 col4\" >Brügg</th>\n",
       "      <th id=\"T_b61e9_level0_col5\" class=\"col_heading level0 col5\" >Burgdorf</th>\n",
       "      <th id=\"T_b61e9_level0_col6\" class=\"col_heading level0 col6\" >Bönigen</th>\n",
       "      <th id=\"T_b61e9_level0_col7\" class=\"col_heading level0 col7\" >Erlach</th>\n",
       "      <th id=\"T_b61e9_level0_col8\" class=\"col_heading level0 col8\" >Gals</th>\n",
       "      <th id=\"T_b61e9_level0_col9\" class=\"col_heading level0 col9\" >Kallnach</th>\n",
       "      <th id=\"T_b61e9_level0_col10\" class=\"col_heading level0 col10\" >Köniz</th>\n",
       "      <th id=\"T_b61e9_level0_col11\" class=\"col_heading level0 col11\" >Ligerz</th>\n",
       "      <th id=\"T_b61e9_level0_col12\" class=\"col_heading level0 col12\" >Lüscherz</th>\n",
       "      <th id=\"T_b61e9_level0_col13\" class=\"col_heading level0 col13\" >Nidau</th>\n",
       "      <th id=\"T_b61e9_level0_col14\" class=\"col_heading level0 col14\" >Port</th>\n",
       "      <th id=\"T_b61e9_level0_col15\" class=\"col_heading level0 col15\" >Rubigen</th>\n",
       "      <th id=\"T_b61e9_level0_col16\" class=\"col_heading level0 col16\" >Spiez</th>\n",
       "      <th id=\"T_b61e9_level0_col17\" class=\"col_heading level0 col17\" >Thun</th>\n",
       "      <th id=\"T_b61e9_level0_col18\" class=\"col_heading level0 col18\" >Unterseen</th>\n",
       "      <th id=\"T_b61e9_level0_col19\" class=\"col_heading level0 col19\" >Vinelz</th>\n",
       "      <th id=\"T_b61e9_level0_col20\" class=\"col_heading level0 col20\" >Walperswil</th>\n",
       "    </tr>\n",
       "    <tr>\n",
       "      <th class=\"index_name level0\" >description</th>\n",
       "      <th class=\"blank col0\" >&nbsp;</th>\n",
       "      <th class=\"blank col1\" >&nbsp;</th>\n",
       "      <th class=\"blank col2\" >&nbsp;</th>\n",
       "      <th class=\"blank col3\" >&nbsp;</th>\n",
       "      <th class=\"blank col4\" >&nbsp;</th>\n",
       "      <th class=\"blank col5\" >&nbsp;</th>\n",
       "      <th class=\"blank col6\" >&nbsp;</th>\n",
       "      <th class=\"blank col7\" >&nbsp;</th>\n",
       "      <th class=\"blank col8\" >&nbsp;</th>\n",
       "      <th class=\"blank col9\" >&nbsp;</th>\n",
       "      <th class=\"blank col10\" >&nbsp;</th>\n",
       "      <th class=\"blank col11\" >&nbsp;</th>\n",
       "      <th class=\"blank col12\" >&nbsp;</th>\n",
       "      <th class=\"blank col13\" >&nbsp;</th>\n",
       "      <th class=\"blank col14\" >&nbsp;</th>\n",
       "      <th class=\"blank col15\" >&nbsp;</th>\n",
       "      <th class=\"blank col16\" >&nbsp;</th>\n",
       "      <th class=\"blank col17\" >&nbsp;</th>\n",
       "      <th class=\"blank col18\" >&nbsp;</th>\n",
       "      <th class=\"blank col19\" >&nbsp;</th>\n",
       "      <th class=\"blank col20\" >&nbsp;</th>\n",
       "    </tr>\n",
       "  </thead>\n",
       "  <tbody>\n",
       "    <tr>\n",
       "      <th id=\"T_b61e9_level0_row0\" class=\"row_heading level0 row0\" >Cigarette filters</th>\n",
       "      <td id=\"T_b61e9_row0_col0\" class=\"data row0 col0\" >0.55</td>\n",
       "      <td id=\"T_b61e9_row0_col1\" class=\"data row0 col1\" >0.05</td>\n",
       "      <td id=\"T_b61e9_row0_col2\" class=\"data row0 col2\" >1.23</td>\n",
       "      <td id=\"T_b61e9_row0_col3\" class=\"data row0 col3\" >0.02</td>\n",
       "      <td id=\"T_b61e9_row0_col4\" class=\"data row0 col4\" >0.28</td>\n",
       "      <td id=\"T_b61e9_row0_col5\" class=\"data row0 col5\" >0.07</td>\n",
       "      <td id=\"T_b61e9_row0_col6\" class=\"data row0 col6\" >1.19</td>\n",
       "      <td id=\"T_b61e9_row0_col7\" class=\"data row0 col7\" >0.44</td>\n",
       "      <td id=\"T_b61e9_row0_col8\" class=\"data row0 col8\" >0.09</td>\n",
       "      <td id=\"T_b61e9_row0_col9\" class=\"data row0 col9\" >0.00</td>\n",
       "      <td id=\"T_b61e9_row0_col10\" class=\"data row0 col10\" >0.09</td>\n",
       "      <td id=\"T_b61e9_row0_col11\" class=\"data row0 col11\" >0.76</td>\n",
       "      <td id=\"T_b61e9_row0_col12\" class=\"data row0 col12\" >0.04</td>\n",
       "      <td id=\"T_b61e9_row0_col13\" class=\"data row0 col13\" >0.00</td>\n",
       "      <td id=\"T_b61e9_row0_col14\" class=\"data row0 col14\" >0.63</td>\n",
       "      <td id=\"T_b61e9_row0_col15\" class=\"data row0 col15\" >0.06</td>\n",
       "      <td id=\"T_b61e9_row0_col16\" class=\"data row0 col16\" >0.06</td>\n",
       "      <td id=\"T_b61e9_row0_col17\" class=\"data row0 col17\" >0.21</td>\n",
       "      <td id=\"T_b61e9_row0_col18\" class=\"data row0 col18\" >0.58</td>\n",
       "      <td id=\"T_b61e9_row0_col19\" class=\"data row0 col19\" >0.05</td>\n",
       "      <td id=\"T_b61e9_row0_col20\" class=\"data row0 col20\" >0.00</td>\n",
       "    </tr>\n",
       "    <tr>\n",
       "      <th id=\"T_b61e9_level0_row1\" class=\"row_heading level0 row1\" >Expanded polystyrene</th>\n",
       "      <td id=\"T_b61e9_row1_col0\" class=\"data row1 col0\" >0.18</td>\n",
       "      <td id=\"T_b61e9_row1_col1\" class=\"data row1 col1\" >0.00</td>\n",
       "      <td id=\"T_b61e9_row1_col2\" class=\"data row1 col2\" >0.26</td>\n",
       "      <td id=\"T_b61e9_row1_col3\" class=\"data row1 col3\" >0.34</td>\n",
       "      <td id=\"T_b61e9_row1_col4\" class=\"data row1 col4\" >0.00</td>\n",
       "      <td id=\"T_b61e9_row1_col5\" class=\"data row1 col5\" >0.00</td>\n",
       "      <td id=\"T_b61e9_row1_col6\" class=\"data row1 col6\" >0.07</td>\n",
       "      <td id=\"T_b61e9_row1_col7\" class=\"data row1 col7\" >0.02</td>\n",
       "      <td id=\"T_b61e9_row1_col8\" class=\"data row1 col8\" >0.00</td>\n",
       "      <td id=\"T_b61e9_row1_col9\" class=\"data row1 col9\" >0.14</td>\n",
       "      <td id=\"T_b61e9_row1_col10\" class=\"data row1 col10\" >0.00</td>\n",
       "      <td id=\"T_b61e9_row1_col11\" class=\"data row1 col11\" >0.06</td>\n",
       "      <td id=\"T_b61e9_row1_col12\" class=\"data row1 col12\" >0.00</td>\n",
       "      <td id=\"T_b61e9_row1_col13\" class=\"data row1 col13\" >0.04</td>\n",
       "      <td id=\"T_b61e9_row1_col14\" class=\"data row1 col14\" >0.00</td>\n",
       "      <td id=\"T_b61e9_row1_col15\" class=\"data row1 col15\" >0.00</td>\n",
       "      <td id=\"T_b61e9_row1_col16\" class=\"data row1 col16\" >0.11</td>\n",
       "      <td id=\"T_b61e9_row1_col17\" class=\"data row1 col17\" >0.11</td>\n",
       "      <td id=\"T_b61e9_row1_col18\" class=\"data row1 col18\" >0.11</td>\n",
       "      <td id=\"T_b61e9_row1_col19\" class=\"data row1 col19\" >0.10</td>\n",
       "      <td id=\"T_b61e9_row1_col20\" class=\"data row1 col20\" >0.00</td>\n",
       "    </tr>\n",
       "    <tr>\n",
       "      <th id=\"T_b61e9_level0_row2\" class=\"row_heading level0 row2\" >Foam packaging/insulation/polyurethane</th>\n",
       "      <td id=\"T_b61e9_row2_col0\" class=\"data row2 col0\" >0.42</td>\n",
       "      <td id=\"T_b61e9_row2_col1\" class=\"data row2 col1\" >0.00</td>\n",
       "      <td id=\"T_b61e9_row2_col2\" class=\"data row2 col2\" >0.09</td>\n",
       "      <td id=\"T_b61e9_row2_col3\" class=\"data row2 col3\" >0.03</td>\n",
       "      <td id=\"T_b61e9_row2_col4\" class=\"data row2 col4\" >0.00</td>\n",
       "      <td id=\"T_b61e9_row2_col5\" class=\"data row2 col5\" >0.00</td>\n",
       "      <td id=\"T_b61e9_row2_col6\" class=\"data row2 col6\" >0.10</td>\n",
       "      <td id=\"T_b61e9_row2_col7\" class=\"data row2 col7\" >0.00</td>\n",
       "      <td id=\"T_b61e9_row2_col8\" class=\"data row2 col8\" >0.00</td>\n",
       "      <td id=\"T_b61e9_row2_col9\" class=\"data row2 col9\" >0.00</td>\n",
       "      <td id=\"T_b61e9_row2_col10\" class=\"data row2 col10\" >0.00</td>\n",
       "      <td id=\"T_b61e9_row2_col11\" class=\"data row2 col11\" >0.21</td>\n",
       "      <td id=\"T_b61e9_row2_col12\" class=\"data row2 col12\" >0.00</td>\n",
       "      <td id=\"T_b61e9_row2_col13\" class=\"data row2 col13\" >0.00</td>\n",
       "      <td id=\"T_b61e9_row2_col14\" class=\"data row2 col14\" >0.01</td>\n",
       "      <td id=\"T_b61e9_row2_col15\" class=\"data row2 col15\" >0.00</td>\n",
       "      <td id=\"T_b61e9_row2_col16\" class=\"data row2 col16\" >0.01</td>\n",
       "      <td id=\"T_b61e9_row2_col17\" class=\"data row2 col17\" >0.00</td>\n",
       "      <td id=\"T_b61e9_row2_col18\" class=\"data row2 col18\" >0.11</td>\n",
       "      <td id=\"T_b61e9_row2_col19\" class=\"data row2 col19\" >0.03</td>\n",
       "      <td id=\"T_b61e9_row2_col20\" class=\"data row2 col20\" >0.19</td>\n",
       "    </tr>\n",
       "    <tr>\n",
       "      <th id=\"T_b61e9_level0_row3\" class=\"row_heading level0 row3\" >Food wrappers; candy, snacks</th>\n",
       "      <td id=\"T_b61e9_row3_col0\" class=\"data row3 col0\" >0.12</td>\n",
       "      <td id=\"T_b61e9_row3_col1\" class=\"data row3 col1\" >0.01</td>\n",
       "      <td id=\"T_b61e9_row3_col2\" class=\"data row3 col2\" >0.39</td>\n",
       "      <td id=\"T_b61e9_row3_col3\" class=\"data row3 col3\" >0.44</td>\n",
       "      <td id=\"T_b61e9_row3_col4\" class=\"data row3 col4\" >0.00</td>\n",
       "      <td id=\"T_b61e9_row3_col5\" class=\"data row3 col5\" >0.02</td>\n",
       "      <td id=\"T_b61e9_row3_col6\" class=\"data row3 col6\" >0.06</td>\n",
       "      <td id=\"T_b61e9_row3_col7\" class=\"data row3 col7\" >0.05</td>\n",
       "      <td id=\"T_b61e9_row3_col8\" class=\"data row3 col8\" >0.12</td>\n",
       "      <td id=\"T_b61e9_row3_col9\" class=\"data row3 col9\" >0.08</td>\n",
       "      <td id=\"T_b61e9_row3_col10\" class=\"data row3 col10\" >0.00</td>\n",
       "      <td id=\"T_b61e9_row3_col11\" class=\"data row3 col11\" >0.78</td>\n",
       "      <td id=\"T_b61e9_row3_col12\" class=\"data row3 col12\" >0.02</td>\n",
       "      <td id=\"T_b61e9_row3_col13\" class=\"data row3 col13\" >0.60</td>\n",
       "      <td id=\"T_b61e9_row3_col14\" class=\"data row3 col14\" >0.07</td>\n",
       "      <td id=\"T_b61e9_row3_col15\" class=\"data row3 col15\" >0.11</td>\n",
       "      <td id=\"T_b61e9_row3_col16\" class=\"data row3 col16\" >0.02</td>\n",
       "      <td id=\"T_b61e9_row3_col17\" class=\"data row3 col17\" >0.10</td>\n",
       "      <td id=\"T_b61e9_row3_col18\" class=\"data row3 col18\" >0.11</td>\n",
       "      <td id=\"T_b61e9_row3_col19\" class=\"data row3 col19\" >0.28</td>\n",
       "      <td id=\"T_b61e9_row3_col20\" class=\"data row3 col20\" >0.00</td>\n",
       "    </tr>\n",
       "    <tr>\n",
       "      <th id=\"T_b61e9_level0_row4\" class=\"row_heading level0 row4\" >Fragmented plastics</th>\n",
       "      <td id=\"T_b61e9_row4_col0\" class=\"data row4 col0\" >0.44</td>\n",
       "      <td id=\"T_b61e9_row4_col1\" class=\"data row4 col1\" >0.02</td>\n",
       "      <td id=\"T_b61e9_row4_col2\" class=\"data row4 col2\" >0.62</td>\n",
       "      <td id=\"T_b61e9_row4_col3\" class=\"data row4 col3\" >0.40</td>\n",
       "      <td id=\"T_b61e9_row4_col4\" class=\"data row4 col4\" >0.03</td>\n",
       "      <td id=\"T_b61e9_row4_col5\" class=\"data row4 col5\" >0.02</td>\n",
       "      <td id=\"T_b61e9_row4_col6\" class=\"data row4 col6\" >1.01</td>\n",
       "      <td id=\"T_b61e9_row4_col7\" class=\"data row4 col7\" >0.49</td>\n",
       "      <td id=\"T_b61e9_row4_col8\" class=\"data row4 col8\" >0.28</td>\n",
       "      <td id=\"T_b61e9_row4_col9\" class=\"data row4 col9\" >0.12</td>\n",
       "      <td id=\"T_b61e9_row4_col10\" class=\"data row4 col10\" >0.00</td>\n",
       "      <td id=\"T_b61e9_row4_col11\" class=\"data row4 col11\" >1.94</td>\n",
       "      <td id=\"T_b61e9_row4_col12\" class=\"data row4 col12\" >0.12</td>\n",
       "      <td id=\"T_b61e9_row4_col13\" class=\"data row4 col13\" >0.64</td>\n",
       "      <td id=\"T_b61e9_row4_col14\" class=\"data row4 col14\" >0.22</td>\n",
       "      <td id=\"T_b61e9_row4_col15\" class=\"data row4 col15\" >0.00</td>\n",
       "      <td id=\"T_b61e9_row4_col16\" class=\"data row4 col16\" >0.09</td>\n",
       "      <td id=\"T_b61e9_row4_col17\" class=\"data row4 col17\" >0.23</td>\n",
       "      <td id=\"T_b61e9_row4_col18\" class=\"data row4 col18\" >0.23</td>\n",
       "      <td id=\"T_b61e9_row4_col19\" class=\"data row4 col19\" >1.18</td>\n",
       "      <td id=\"T_b61e9_row4_col20\" class=\"data row4 col20\" >0.00</td>\n",
       "    </tr>\n",
       "    <tr>\n",
       "      <th id=\"T_b61e9_level0_row5\" class=\"row_heading level0 row5\" >Glass drink bottles, pieces</th>\n",
       "      <td id=\"T_b61e9_row5_col0\" class=\"data row5 col0\" >0.02</td>\n",
       "      <td id=\"T_b61e9_row5_col1\" class=\"data row5 col1\" >0.01</td>\n",
       "      <td id=\"T_b61e9_row5_col2\" class=\"data row5 col2\" >0.16</td>\n",
       "      <td id=\"T_b61e9_row5_col3\" class=\"data row5 col3\" >0.01</td>\n",
       "      <td id=\"T_b61e9_row5_col4\" class=\"data row5 col4\" >0.36</td>\n",
       "      <td id=\"T_b61e9_row5_col5\" class=\"data row5 col5\" >0.00</td>\n",
       "      <td id=\"T_b61e9_row5_col6\" class=\"data row5 col6\" >0.00</td>\n",
       "      <td id=\"T_b61e9_row5_col7\" class=\"data row5 col7\" >0.02</td>\n",
       "      <td id=\"T_b61e9_row5_col8\" class=\"data row5 col8\" >0.07</td>\n",
       "      <td id=\"T_b61e9_row5_col9\" class=\"data row5 col9\" >0.00</td>\n",
       "      <td id=\"T_b61e9_row5_col10\" class=\"data row5 col10\" >0.00</td>\n",
       "      <td id=\"T_b61e9_row5_col11\" class=\"data row5 col11\" >1.00</td>\n",
       "      <td id=\"T_b61e9_row5_col12\" class=\"data row5 col12\" >0.12</td>\n",
       "      <td id=\"T_b61e9_row5_col13\" class=\"data row5 col13\" >0.12</td>\n",
       "      <td id=\"T_b61e9_row5_col14\" class=\"data row5 col14\" >0.01</td>\n",
       "      <td id=\"T_b61e9_row5_col15\" class=\"data row5 col15\" >0.00</td>\n",
       "      <td id=\"T_b61e9_row5_col16\" class=\"data row5 col16\" >0.14</td>\n",
       "      <td id=\"T_b61e9_row5_col17\" class=\"data row5 col17\" >0.03</td>\n",
       "      <td id=\"T_b61e9_row5_col18\" class=\"data row5 col18\" >0.03</td>\n",
       "      <td id=\"T_b61e9_row5_col19\" class=\"data row5 col19\" >0.20</td>\n",
       "      <td id=\"T_b61e9_row5_col20\" class=\"data row5 col20\" >0.00</td>\n",
       "    </tr>\n",
       "    <tr>\n",
       "      <th id=\"T_b61e9_level0_row6\" class=\"row_heading level0 row6\" >Industrial pellets (nurdles)</th>\n",
       "      <td id=\"T_b61e9_row6_col0\" class=\"data row6 col0\" >0.03</td>\n",
       "      <td id=\"T_b61e9_row6_col1\" class=\"data row6 col1\" >0.00</td>\n",
       "      <td id=\"T_b61e9_row6_col2\" class=\"data row6 col2\" >0.06</td>\n",
       "      <td id=\"T_b61e9_row6_col3\" class=\"data row6 col3\" >0.60</td>\n",
       "      <td id=\"T_b61e9_row6_col4\" class=\"data row6 col4\" >0.00</td>\n",
       "      <td id=\"T_b61e9_row6_col5\" class=\"data row6 col5\" >0.00</td>\n",
       "      <td id=\"T_b61e9_row6_col6\" class=\"data row6 col6\" >0.04</td>\n",
       "      <td id=\"T_b61e9_row6_col7\" class=\"data row6 col7\" >0.00</td>\n",
       "      <td id=\"T_b61e9_row6_col8\" class=\"data row6 col8\" >0.00</td>\n",
       "      <td id=\"T_b61e9_row6_col9\" class=\"data row6 col9\" >0.10</td>\n",
       "      <td id=\"T_b61e9_row6_col10\" class=\"data row6 col10\" >0.00</td>\n",
       "      <td id=\"T_b61e9_row6_col11\" class=\"data row6 col11\" >0.00</td>\n",
       "      <td id=\"T_b61e9_row6_col12\" class=\"data row6 col12\" >0.01</td>\n",
       "      <td id=\"T_b61e9_row6_col13\" class=\"data row6 col13\" >0.08</td>\n",
       "      <td id=\"T_b61e9_row6_col14\" class=\"data row6 col14\" >0.01</td>\n",
       "      <td id=\"T_b61e9_row6_col15\" class=\"data row6 col15\" >0.00</td>\n",
       "      <td id=\"T_b61e9_row6_col16\" class=\"data row6 col16\" >0.00</td>\n",
       "      <td id=\"T_b61e9_row6_col17\" class=\"data row6 col17\" >0.00</td>\n",
       "      <td id=\"T_b61e9_row6_col18\" class=\"data row6 col18\" >0.00</td>\n",
       "      <td id=\"T_b61e9_row6_col19\" class=\"data row6 col19\" >0.13</td>\n",
       "      <td id=\"T_b61e9_row6_col20\" class=\"data row6 col20\" >0.00</td>\n",
       "    </tr>\n",
       "    <tr>\n",
       "      <th id=\"T_b61e9_level0_row7\" class=\"row_heading level0 row7\" >Industrial sheeting</th>\n",
       "      <td id=\"T_b61e9_row7_col0\" class=\"data row7 col0\" >0.03</td>\n",
       "      <td id=\"T_b61e9_row7_col1\" class=\"data row7 col1\" >0.03</td>\n",
       "      <td id=\"T_b61e9_row7_col2\" class=\"data row7 col2\" >0.26</td>\n",
       "      <td id=\"T_b61e9_row7_col3\" class=\"data row7 col3\" >0.72</td>\n",
       "      <td id=\"T_b61e9_row7_col4\" class=\"data row7 col4\" >0.00</td>\n",
       "      <td id=\"T_b61e9_row7_col5\" class=\"data row7 col5\" >0.22</td>\n",
       "      <td id=\"T_b61e9_row7_col6\" class=\"data row7 col6\" >0.15</td>\n",
       "      <td id=\"T_b61e9_row7_col7\" class=\"data row7 col7\" >0.00</td>\n",
       "      <td id=\"T_b61e9_row7_col8\" class=\"data row7 col8\" >0.03</td>\n",
       "      <td id=\"T_b61e9_row7_col9\" class=\"data row7 col9\" >0.32</td>\n",
       "      <td id=\"T_b61e9_row7_col10\" class=\"data row7 col10\" >0.00</td>\n",
       "      <td id=\"T_b61e9_row7_col11\" class=\"data row7 col11\" >1.19</td>\n",
       "      <td id=\"T_b61e9_row7_col12\" class=\"data row7 col12\" >0.05</td>\n",
       "      <td id=\"T_b61e9_row7_col13\" class=\"data row7 col13\" >0.40</td>\n",
       "      <td id=\"T_b61e9_row7_col14\" class=\"data row7 col14\" >0.00</td>\n",
       "      <td id=\"T_b61e9_row7_col15\" class=\"data row7 col15\" >0.00</td>\n",
       "      <td id=\"T_b61e9_row7_col16\" class=\"data row7 col16\" >0.03</td>\n",
       "      <td id=\"T_b61e9_row7_col17\" class=\"data row7 col17\" >0.21</td>\n",
       "      <td id=\"T_b61e9_row7_col18\" class=\"data row7 col18\" >0.16</td>\n",
       "      <td id=\"T_b61e9_row7_col19\" class=\"data row7 col19\" >0.61</td>\n",
       "      <td id=\"T_b61e9_row7_col20\" class=\"data row7 col20\" >0.00</td>\n",
       "    </tr>\n",
       "    <tr>\n",
       "      <th id=\"T_b61e9_level0_row8\" class=\"row_heading level0 row8\" >Packaging films nonfood or unknown</th>\n",
       "      <td id=\"T_b61e9_row8_col0\" class=\"data row8 col0\" >0.04</td>\n",
       "      <td id=\"T_b61e9_row8_col1\" class=\"data row8 col1\" >0.00</td>\n",
       "      <td id=\"T_b61e9_row8_col2\" class=\"data row8 col2\" >0.13</td>\n",
       "      <td id=\"T_b61e9_row8_col3\" class=\"data row8 col3\" >0.05</td>\n",
       "      <td id=\"T_b61e9_row8_col4\" class=\"data row8 col4\" >0.00</td>\n",
       "      <td id=\"T_b61e9_row8_col5\" class=\"data row8 col5\" >0.11</td>\n",
       "      <td id=\"T_b61e9_row8_col6\" class=\"data row8 col6\" >0.00</td>\n",
       "      <td id=\"T_b61e9_row8_col7\" class=\"data row8 col7\" >0.02</td>\n",
       "      <td id=\"T_b61e9_row8_col8\" class=\"data row8 col8\" >0.00</td>\n",
       "      <td id=\"T_b61e9_row8_col9\" class=\"data row8 col9\" >0.01</td>\n",
       "      <td id=\"T_b61e9_row8_col10\" class=\"data row8 col10\" >0.00</td>\n",
       "      <td id=\"T_b61e9_row8_col11\" class=\"data row8 col11\" >0.88</td>\n",
       "      <td id=\"T_b61e9_row8_col12\" class=\"data row8 col12\" >0.01</td>\n",
       "      <td id=\"T_b61e9_row8_col13\" class=\"data row8 col13\" >0.24</td>\n",
       "      <td id=\"T_b61e9_row8_col14\" class=\"data row8 col14\" >0.04</td>\n",
       "      <td id=\"T_b61e9_row8_col15\" class=\"data row8 col15\" >0.00</td>\n",
       "      <td id=\"T_b61e9_row8_col16\" class=\"data row8 col16\" >0.00</td>\n",
       "      <td id=\"T_b61e9_row8_col17\" class=\"data row8 col17\" >0.03</td>\n",
       "      <td id=\"T_b61e9_row8_col18\" class=\"data row8 col18\" >0.05</td>\n",
       "      <td id=\"T_b61e9_row8_col19\" class=\"data row8 col19\" >0.19</td>\n",
       "      <td id=\"T_b61e9_row8_col20\" class=\"data row8 col20\" >0.00</td>\n",
       "    </tr>\n",
       "    <tr>\n",
       "      <th id=\"T_b61e9_level0_row9\" class=\"row_heading level0 row9\" >Plastic construction waste</th>\n",
       "      <td id=\"T_b61e9_row9_col0\" class=\"data row9 col0\" >0.00</td>\n",
       "      <td id=\"T_b61e9_row9_col1\" class=\"data row9 col1\" >0.01</td>\n",
       "      <td id=\"T_b61e9_row9_col2\" class=\"data row9 col2\" >0.08</td>\n",
       "      <td id=\"T_b61e9_row9_col3\" class=\"data row9 col3\" >0.11</td>\n",
       "      <td id=\"T_b61e9_row9_col4\" class=\"data row9 col4\" >0.00</td>\n",
       "      <td id=\"T_b61e9_row9_col5\" class=\"data row9 col5\" >0.00</td>\n",
       "      <td id=\"T_b61e9_row9_col6\" class=\"data row9 col6\" >0.04</td>\n",
       "      <td id=\"T_b61e9_row9_col7\" class=\"data row9 col7\" >0.02</td>\n",
       "      <td id=\"T_b61e9_row9_col8\" class=\"data row9 col8\" >0.00</td>\n",
       "      <td id=\"T_b61e9_row9_col9\" class=\"data row9 col9\" >0.00</td>\n",
       "      <td id=\"T_b61e9_row9_col10\" class=\"data row9 col10\" >0.00</td>\n",
       "      <td id=\"T_b61e9_row9_col11\" class=\"data row9 col11\" >0.00</td>\n",
       "      <td id=\"T_b61e9_row9_col12\" class=\"data row9 col12\" >0.02</td>\n",
       "      <td id=\"T_b61e9_row9_col13\" class=\"data row9 col13\" >0.04</td>\n",
       "      <td id=\"T_b61e9_row9_col14\" class=\"data row9 col14\" >0.00</td>\n",
       "      <td id=\"T_b61e9_row9_col15\" class=\"data row9 col15\" >0.00</td>\n",
       "      <td id=\"T_b61e9_row9_col16\" class=\"data row9 col16\" >0.01</td>\n",
       "      <td id=\"T_b61e9_row9_col17\" class=\"data row9 col17\" >0.01</td>\n",
       "      <td id=\"T_b61e9_row9_col18\" class=\"data row9 col18\" >0.03</td>\n",
       "      <td id=\"T_b61e9_row9_col19\" class=\"data row9 col19\" >0.21</td>\n",
       "      <td id=\"T_b61e9_row9_col20\" class=\"data row9 col20\" >0.00</td>\n",
       "    </tr>\n",
       "    <tr>\n",
       "      <th id=\"T_b61e9_level0_row10\" class=\"row_heading level0 row10\" >plastic caps, lid rings: G21, G22, G23, G24</th>\n",
       "      <td id=\"T_b61e9_row10_col0\" class=\"data row10 col0\" >0.12</td>\n",
       "      <td id=\"T_b61e9_row10_col1\" class=\"data row10 col1\" >0.00</td>\n",
       "      <td id=\"T_b61e9_row10_col2\" class=\"data row10 col2\" >0.12</td>\n",
       "      <td id=\"T_b61e9_row10_col3\" class=\"data row10 col3\" >0.24</td>\n",
       "      <td id=\"T_b61e9_row10_col4\" class=\"data row10 col4\" >0.00</td>\n",
       "      <td id=\"T_b61e9_row10_col5\" class=\"data row10 col5\" >0.00</td>\n",
       "      <td id=\"T_b61e9_row10_col6\" class=\"data row10 col6\" >0.04</td>\n",
       "      <td id=\"T_b61e9_row10_col7\" class=\"data row10 col7\" >0.06</td>\n",
       "      <td id=\"T_b61e9_row10_col8\" class=\"data row10 col8\" >0.00</td>\n",
       "      <td id=\"T_b61e9_row10_col9\" class=\"data row10 col9\" >0.06</td>\n",
       "      <td id=\"T_b61e9_row10_col10\" class=\"data row10 col10\" >0.00</td>\n",
       "      <td id=\"T_b61e9_row10_col11\" class=\"data row10 col11\" >0.06</td>\n",
       "      <td id=\"T_b61e9_row10_col12\" class=\"data row10 col12\" >0.01</td>\n",
       "      <td id=\"T_b61e9_row10_col13\" class=\"data row10 col13\" >0.04</td>\n",
       "      <td id=\"T_b61e9_row10_col14\" class=\"data row10 col14\" >0.03</td>\n",
       "      <td id=\"T_b61e9_row10_col15\" class=\"data row10 col15\" >0.06</td>\n",
       "      <td id=\"T_b61e9_row10_col16\" class=\"data row10 col16\" >0.01</td>\n",
       "      <td id=\"T_b61e9_row10_col17\" class=\"data row10 col17\" >0.03</td>\n",
       "      <td id=\"T_b61e9_row10_col18\" class=\"data row10 col18\" >0.04</td>\n",
       "      <td id=\"T_b61e9_row10_col19\" class=\"data row10 col19\" >0.13</td>\n",
       "      <td id=\"T_b61e9_row10_col20\" class=\"data row10 col20\" >0.03</td>\n",
       "    </tr>\n",
       "  </tbody>\n",
       "</table>\n"
      ],
      "text/plain": [
       "<pandas.io.formats.style.Styler at 0x756f0e7cdb20>"
      ]
     },
     "execution_count": 10,
     "metadata": {},
     "output_type": "execute_result"
    }
   ],
   "source": [
    "dx = results['this_report'].df\n",
    "dx = dx[dx.code.isin(mc_codes)]\n",
    "dct = dx.groupby(['sample_id','city', 'code'], as_index=False).agg(session_config.unit_agg)\n",
    "dct = dct.groupby(['city', 'code'], as_index=False).agg(session_config.agg_groups)\n",
    "cities = dct.city.unique()\n",
    "\n",
    "new_df = []\n",
    "for city in cities:\n",
    "    x = dct[dct.city == city][['city','code', 'pcs/m']]\n",
    "    new_df.append(x)\n",
    "\n",
    "i = pd.concat(new_df)\n",
    "\n",
    "i['description'] = userdisplay.code_definitions(i.code)\n",
    "i = i.pivot(index='description', columns='city', values='pcs/m')\n",
    "hmax = userdisplay.highlight_max\n",
    "ncities = len(i.columns)\n",
    "i = i.style.apply(hmax, props='color: red')\n",
    "i = i.highlight_max(color='yellow', axis=1)\n",
    "i = i.set_table_styles(userdisplay.table_css_styles).format(precision=2)\n",
    "i"
   ]
  },
  {
   "cell_type": "markdown",
   "id": "60f18d8c-11e2-44a6-874b-d6b7e8b506f6",
   "metadata": {
    "editable": true,
    "slideshow": {
     "slide_type": ""
    },
    "tags": []
   },
   "source": [
    "### Land use profile\n",
    "\n",
    "The proportion of samples by the magnitude of the land-use and and the average pieces per meter for that land use configuration\n",
    "\n",
    "#### Sampling profile"
   ]
  },
  {
   "cell_type": "code",
   "execution_count": 11,
   "id": "fa022a3b-f3bd-41c8-aa11-816ff202eda3",
   "metadata": {
    "editable": true,
    "slideshow": {
     "slide_type": ""
    },
    "tags": [
     "remove-input"
    ]
   },
   "outputs": [
    {
     "data": {
      "text/html": [
       "<style type=\"text/css\">\n",
       "#T_d9e24 caption {\n",
       "  caption-side: top;\n",
       "  font-size: 1em;\n",
       "  text-align: left;\n",
       "  margin-bottom: 10px;\n",
       "}\n",
       "#T_d9e24 caption {\n",
       "  caption-side: top;\n",
       "  font-size: .9em;\n",
       "  text-align: left;\n",
       "  font-style: italic;\n",
       "  color: #000;\n",
       "}\n",
       "#T_d9e24_row0_col0, #T_d9e24_row1_col0, #T_d9e24_row2_col1, #T_d9e24_row3_col1, #T_d9e24_row4_col2, #T_d9e24_row5_col0 {\n",
       "  background-color: #FAE8E8;\n",
       "}\n",
       "</style>\n",
       "<table id=\"T_d9e24\">\n",
       "  <caption><b>The land use profile and the proportion of samples per landuse feature.</b> The highlighted cell is the maximum value in the row. Each cell represents the proportion of samples that were conducted in the land use category.</caption>\n",
       "  <thead>\n",
       "    <tr>\n",
       "      <th class=\"blank level0\" >&nbsp;</th>\n",
       "      <th id=\"T_d9e24_level0_col0\" class=\"col_heading level0 col0\" >0 - 20%</th>\n",
       "      <th id=\"T_d9e24_level0_col1\" class=\"col_heading level0 col1\" >20 - 40%</th>\n",
       "      <th id=\"T_d9e24_level0_col2\" class=\"col_heading level0 col2\" >40 - 60%</th>\n",
       "      <th id=\"T_d9e24_level0_col3\" class=\"col_heading level0 col3\" >60 - 80%</th>\n",
       "      <th id=\"T_d9e24_level0_col4\" class=\"col_heading level0 col4\" >80 - 100%</th>\n",
       "    </tr>\n",
       "  </thead>\n",
       "  <tbody>\n",
       "    <tr>\n",
       "      <th id=\"T_d9e24_level0_row0\" class=\"row_heading level0 row0\" >Orchards</th>\n",
       "      <td id=\"T_d9e24_row0_col0\" class=\"data row0 col0\" >100%</td>\n",
       "      <td id=\"T_d9e24_row0_col1\" class=\"data row0 col1\" >0%</td>\n",
       "      <td id=\"T_d9e24_row0_col2\" class=\"data row0 col2\" >0%</td>\n",
       "      <td id=\"T_d9e24_row0_col3\" class=\"data row0 col3\" >0%</td>\n",
       "      <td id=\"T_d9e24_row0_col4\" class=\"data row0 col4\" >0%</td>\n",
       "    </tr>\n",
       "    <tr>\n",
       "      <th id=\"T_d9e24_level0_row1\" class=\"row_heading level0 row1\" >Vineyards</th>\n",
       "      <td id=\"T_d9e24_row1_col0\" class=\"data row1 col0\" >100%</td>\n",
       "      <td id=\"T_d9e24_row1_col1\" class=\"data row1 col1\" >0%</td>\n",
       "      <td id=\"T_d9e24_row1_col2\" class=\"data row1 col2\" >0%</td>\n",
       "      <td id=\"T_d9e24_row1_col3\" class=\"data row1 col3\" >0%</td>\n",
       "      <td id=\"T_d9e24_row1_col4\" class=\"data row1 col4\" >0%</td>\n",
       "    </tr>\n",
       "    <tr>\n",
       "      <th id=\"T_d9e24_level0_row2\" class=\"row_heading level0 row2\" >Buildings</th>\n",
       "      <td id=\"T_d9e24_row2_col0\" class=\"data row2 col0\" >30%</td>\n",
       "      <td id=\"T_d9e24_row2_col1\" class=\"data row2 col1\" >31%</td>\n",
       "      <td id=\"T_d9e24_row2_col2\" class=\"data row2 col2\" >26%</td>\n",
       "      <td id=\"T_d9e24_row2_col3\" class=\"data row2 col3\" >10%</td>\n",
       "      <td id=\"T_d9e24_row2_col4\" class=\"data row2 col4\" >2%</td>\n",
       "    </tr>\n",
       "    <tr>\n",
       "      <th id=\"T_d9e24_level0_row3\" class=\"row_heading level0 row3\" >Forest</th>\n",
       "      <td id=\"T_d9e24_row3_col0\" class=\"data row3 col0\" >27%</td>\n",
       "      <td id=\"T_d9e24_row3_col1\" class=\"data row3 col1\" >64%</td>\n",
       "      <td id=\"T_d9e24_row3_col2\" class=\"data row3 col2\" >9%</td>\n",
       "      <td id=\"T_d9e24_row3_col3\" class=\"data row3 col3\" >0%</td>\n",
       "      <td id=\"T_d9e24_row3_col4\" class=\"data row3 col4\" >0%</td>\n",
       "    </tr>\n",
       "    <tr>\n",
       "      <th id=\"T_d9e24_level0_row4\" class=\"row_heading level0 row4\" >Undefined</th>\n",
       "      <td id=\"T_d9e24_row4_col0\" class=\"data row4 col0\" >35%</td>\n",
       "      <td id=\"T_d9e24_row4_col1\" class=\"data row4 col1\" >12%</td>\n",
       "      <td id=\"T_d9e24_row4_col2\" class=\"data row4 col2\" >36%</td>\n",
       "      <td id=\"T_d9e24_row4_col3\" class=\"data row4 col3\" >17%</td>\n",
       "      <td id=\"T_d9e24_row4_col4\" class=\"data row4 col4\" >0%</td>\n",
       "    </tr>\n",
       "    <tr>\n",
       "      <th id=\"T_d9e24_level0_row5\" class=\"row_heading level0 row5\" >Public Services</th>\n",
       "      <td id=\"T_d9e24_row5_col0\" class=\"data row5 col0\" >98%</td>\n",
       "      <td id=\"T_d9e24_row5_col1\" class=\"data row5 col1\" >2%</td>\n",
       "      <td id=\"T_d9e24_row5_col2\" class=\"data row5 col2\" >0%</td>\n",
       "      <td id=\"T_d9e24_row5_col3\" class=\"data row5 col3\" >0%</td>\n",
       "      <td id=\"T_d9e24_row5_col4\" class=\"data row5 col4\" >0%</td>\n",
       "    </tr>\n",
       "  </tbody>\n",
       "</table>\n"
      ],
      "text/plain": [
       "<pandas.io.formats.style.Styler at 0x756f0ed9a400>"
      ]
     },
     "execution_count": 11,
     "metadata": {},
     "output_type": "execute_result"
    }
   ],
   "source": [
    "g = results['this_land_use'].n_samples_per_feature().copy()\n",
    "userdisplay.landuse_profile(g[session_config.feature_variables[:-1]], nsamples=len(lkl))"
   ]
  },
  {
   "cell_type": "markdown",
   "id": "8938a4a5-45d7-45df-a067-15e7ac6bc976",
   "metadata": {
    "editable": true,
    "slideshow": {
     "slide_type": ""
    },
    "tags": []
   },
   "source": [
    "#### Average pieces per meter"
   ]
  },
  {
   "cell_type": "code",
   "execution_count": 12,
   "id": "e2bf0a4b-fc49-420b-bfc1-3e21e0a11cb9",
   "metadata": {
    "editable": true,
    "slideshow": {
     "slide_type": ""
    },
    "tags": [
     "remove-input"
    ]
   },
   "outputs": [
    {
     "data": {
      "text/html": [
       "<style type=\"text/css\">\n",
       "#T_5dbe8 caption {\n",
       "  caption-side: top;\n",
       "  font-size: 1em;\n",
       "  text-align: left;\n",
       "  margin-bottom: 10px;\n",
       "}\n",
       "#T_5dbe8 caption {\n",
       "  caption-side: top;\n",
       "  font-size: .9em;\n",
       "  text-align: left;\n",
       "  font-style: italic;\n",
       "  color: #000;\n",
       "}\n",
       "#T_5dbe8_row0_col0, #T_5dbe8_row1_col0, #T_5dbe8_row2_col2, #T_5dbe8_row3_col0, #T_5dbe8_row4_col0, #T_5dbe8_row5_col0 {\n",
       "  background-color: #FAE8E8;\n",
       "}\n",
       "</style>\n",
       "<table id=\"T_5dbe8\">\n",
       "  <caption><b>The land use profile and the observed average litter rates per feature.</b> The highlighted cell is the maximum value in the row. Each cell represents the average observed trash per meter in the land use category.</caption>\n",
       "  <thead>\n",
       "    <tr>\n",
       "      <th class=\"blank level0\" >&nbsp;</th>\n",
       "      <th id=\"T_5dbe8_level0_col0\" class=\"col_heading level0 col0\" >0 - 20%</th>\n",
       "      <th id=\"T_5dbe8_level0_col1\" class=\"col_heading level0 col1\" >20 - 40%</th>\n",
       "      <th id=\"T_5dbe8_level0_col2\" class=\"col_heading level0 col2\" >40 - 60%</th>\n",
       "      <th id=\"T_5dbe8_level0_col3\" class=\"col_heading level0 col3\" >60 - 80%</th>\n",
       "      <th id=\"T_5dbe8_level0_col4\" class=\"col_heading level0 col4\" >80 - 100%</th>\n",
       "    </tr>\n",
       "  </thead>\n",
       "  <tbody>\n",
       "    <tr>\n",
       "      <th id=\"T_5dbe8_level0_row0\" class=\"row_heading level0 row0\" >Orchards</th>\n",
       "      <td id=\"T_5dbe8_row0_col0\" class=\"data row0 col0\" >2.76</td>\n",
       "      <td id=\"T_5dbe8_row0_col1\" class=\"data row0 col1\" >0.00</td>\n",
       "      <td id=\"T_5dbe8_row0_col2\" class=\"data row0 col2\" >0.00</td>\n",
       "      <td id=\"T_5dbe8_row0_col3\" class=\"data row0 col3\" >0.00</td>\n",
       "      <td id=\"T_5dbe8_row0_col4\" class=\"data row0 col4\" >0.00</td>\n",
       "    </tr>\n",
       "    <tr>\n",
       "      <th id=\"T_5dbe8_level0_row1\" class=\"row_heading level0 row1\" >Vineyards</th>\n",
       "      <td id=\"T_5dbe8_row1_col0\" class=\"data row1 col0\" >2.76</td>\n",
       "      <td id=\"T_5dbe8_row1_col1\" class=\"data row1 col1\" >0.00</td>\n",
       "      <td id=\"T_5dbe8_row1_col2\" class=\"data row1 col2\" >0.00</td>\n",
       "      <td id=\"T_5dbe8_row1_col3\" class=\"data row1 col3\" >0.00</td>\n",
       "      <td id=\"T_5dbe8_row1_col4\" class=\"data row1 col4\" >0.00</td>\n",
       "    </tr>\n",
       "    <tr>\n",
       "      <th id=\"T_5dbe8_level0_row2\" class=\"row_heading level0 row2\" >Buildings</th>\n",
       "      <td id=\"T_5dbe8_row2_col0\" class=\"data row2 col0\" >2.37</td>\n",
       "      <td id=\"T_5dbe8_row2_col1\" class=\"data row2 col1\" >2.52</td>\n",
       "      <td id=\"T_5dbe8_row2_col2\" class=\"data row2 col2\" >4.09</td>\n",
       "      <td id=\"T_5dbe8_row2_col3\" class=\"data row2 col3\" >1.59</td>\n",
       "      <td id=\"T_5dbe8_row2_col4\" class=\"data row2 col4\" >1.24</td>\n",
       "    </tr>\n",
       "    <tr>\n",
       "      <th id=\"T_5dbe8_level0_row3\" class=\"row_heading level0 row3\" >Forest</th>\n",
       "      <td id=\"T_5dbe8_row3_col0\" class=\"data row3 col0\" >3.02</td>\n",
       "      <td id=\"T_5dbe8_row3_col1\" class=\"data row3 col1\" >2.86</td>\n",
       "      <td id=\"T_5dbe8_row3_col2\" class=\"data row3 col2\" >1.27</td>\n",
       "      <td id=\"T_5dbe8_row3_col3\" class=\"data row3 col3\" >0.00</td>\n",
       "      <td id=\"T_5dbe8_row3_col4\" class=\"data row3 col4\" >0.00</td>\n",
       "    </tr>\n",
       "    <tr>\n",
       "      <th id=\"T_5dbe8_level0_row4\" class=\"row_heading level0 row4\" >Undefined</th>\n",
       "      <td id=\"T_5dbe8_row4_col0\" class=\"data row4 col0\" >3.22</td>\n",
       "      <td id=\"T_5dbe8_row4_col1\" class=\"data row4 col1\" >3.10</td>\n",
       "      <td id=\"T_5dbe8_row4_col2\" class=\"data row4 col2\" >2.64</td>\n",
       "      <td id=\"T_5dbe8_row4_col3\" class=\"data row4 col3\" >1.81</td>\n",
       "      <td id=\"T_5dbe8_row4_col4\" class=\"data row4 col4\" >0.00</td>\n",
       "    </tr>\n",
       "    <tr>\n",
       "      <th id=\"T_5dbe8_level0_row5\" class=\"row_heading level0 row5\" >Public Services</th>\n",
       "      <td id=\"T_5dbe8_row5_col0\" class=\"data row5 col0\" >2.82</td>\n",
       "      <td id=\"T_5dbe8_row5_col1\" class=\"data row5 col1\" >0.07</td>\n",
       "      <td id=\"T_5dbe8_row5_col2\" class=\"data row5 col2\" >0.00</td>\n",
       "      <td id=\"T_5dbe8_row5_col3\" class=\"data row5 col3\" >0.00</td>\n",
       "      <td id=\"T_5dbe8_row5_col4\" class=\"data row5 col4\" >0.00</td>\n",
       "    </tr>\n",
       "  </tbody>\n",
       "</table>\n"
      ],
      "text/plain": [
       "<pandas.io.formats.style.Styler at 0x756f0e7a0580>"
      ]
     },
     "execution_count": 12,
     "metadata": {},
     "output_type": "execute_result"
    }
   ],
   "source": [
    "gt = results['this_land_use'].rate_per_feature().copy()\n",
    "\n",
    "userdisplay.litter_rates_per_feature(gt.loc[session_config.feature_variables[:-1]])"
   ]
  },
  {
   "cell_type": "markdown",
   "id": "7a1a5d70-2309-416c-9413-60a9b7059798",
   "metadata": {
    "editable": true,
    "slideshow": {
     "slide_type": ""
    },
    "tags": []
   },
   "source": [
    "### Streets and trails\n",
    "\n",
    "The density of the road network is the length in meters of all roads and or trails designated on the map layer. No difference is made between type of road. The total number of meters for each location is normalized 0 - 1. That is locations with a less dense network will figure in the columns 0 - 20%, where the locations with the most dense road network will figure in the last column.\n",
    "\n",
    "#### Sampling profile"
   ]
  },
  {
   "cell_type": "code",
   "execution_count": 13,
   "id": "c4a9f760-0c53-4519-9e1d-401ae3715380",
   "metadata": {
    "editable": true,
    "slideshow": {
     "slide_type": ""
    },
    "tags": [
     "remove-input"
    ]
   },
   "outputs": [
    {
     "data": {
      "text/html": [
       "<style type=\"text/css\">\n",
       "#T_44d64 caption {\n",
       "  caption-side: top;\n",
       "  font-size: 1em;\n",
       "  text-align: left;\n",
       "  margin-bottom: 10px;\n",
       "}\n",
       "#T_44d64 caption {\n",
       "  caption-side: top;\n",
       "  font-size: .9em;\n",
       "  text-align: left;\n",
       "  font-style: italic;\n",
       "  color: #000;\n",
       "}\n",
       "#T_44d64_row0_col1 {\n",
       "  background-color: #FAE8E8;\n",
       "}\n",
       "</style>\n",
       "<table id=\"T_44d64\">\n",
       "  <thead>\n",
       "    <tr>\n",
       "      <th class=\"blank level0\" >&nbsp;</th>\n",
       "      <th id=\"T_44d64_level0_col0\" class=\"col_heading level0 col0\" >0 - 20%</th>\n",
       "      <th id=\"T_44d64_level0_col1\" class=\"col_heading level0 col1\" >20 - 40%</th>\n",
       "      <th id=\"T_44d64_level0_col2\" class=\"col_heading level0 col2\" >40 - 60%</th>\n",
       "      <th id=\"T_44d64_level0_col3\" class=\"col_heading level0 col3\" >60 - 80%</th>\n",
       "      <th id=\"T_44d64_level0_col4\" class=\"col_heading level0 col4\" >80 - 100%</th>\n",
       "    </tr>\n",
       "  </thead>\n",
       "  <tbody>\n",
       "    <tr>\n",
       "      <th id=\"T_44d64_level0_row0\" class=\"row_heading level0 row0\" >streets</th>\n",
       "      <td id=\"T_44d64_row0_col0\" class=\"data row0 col0\" >42%</td>\n",
       "      <td id=\"T_44d64_row0_col1\" class=\"data row0 col1\" >49%</td>\n",
       "      <td id=\"T_44d64_row0_col2\" class=\"data row0 col2\" >7%</td>\n",
       "      <td id=\"T_44d64_row0_col3\" class=\"data row0 col3\" >2%</td>\n",
       "      <td id=\"T_44d64_row0_col4\" class=\"data row0 col4\" >0%</td>\n",
       "    </tr>\n",
       "  </tbody>\n",
       "</table>\n"
      ],
      "text/plain": [
       "<pandas.io.formats.style.Styler at 0x756f0e7a00a0>"
      ]
     },
     "execution_count": 13,
     "metadata": {},
     "output_type": "execute_result"
    }
   ],
   "source": [
    "streets = results['this_land_use'].n_samples_per_feature().copy()\n",
    "streets = streets[[session_config.feature_variables[-1]]].copy()\n",
    "streets = userdisplay.street_profile(streets.T, nsamples=len(lkl))\n",
    "caption = \"\"\n",
    "streets = streets.set_caption(caption)\n",
    "streets"
   ]
  },
  {
   "cell_type": "markdown",
   "id": "58c412a0-827d-4b5b-98d5-54bf3a72358d",
   "metadata": {
    "editable": true,
    "slideshow": {
     "slide_type": ""
    },
    "tags": []
   },
   "source": [
    "#### Average pieces per meter"
   ]
  },
  {
   "cell_type": "code",
   "execution_count": 14,
   "id": "48843f4b-c87c-4da2-9c15-bf0c8bb92a1d",
   "metadata": {
    "editable": true,
    "slideshow": {
     "slide_type": ""
    },
    "tags": [
     "remove-input"
    ]
   },
   "outputs": [
    {
     "data": {
      "text/html": [
       "<style type=\"text/css\">\n",
       "#T_84cdc caption {\n",
       "  caption-side: top;\n",
       "  font-size: 1em;\n",
       "  text-align: left;\n",
       "  margin-bottom: 10px;\n",
       "}\n",
       "#T_84cdc caption {\n",
       "  caption-side: top;\n",
       "  font-size: .9em;\n",
       "  text-align: left;\n",
       "  font-style: italic;\n",
       "  color: #000;\n",
       "}\n",
       "#T_84cdc_row0_col1 {\n",
       "  background-color: #FAE8E8;\n",
       "}\n",
       "</style>\n",
       "<table id=\"T_84cdc\">\n",
       "  <thead>\n",
       "    <tr>\n",
       "      <th class=\"blank level0\" >&nbsp;</th>\n",
       "      <th id=\"T_84cdc_level0_col0\" class=\"col_heading level0 col0\" >0 - 20%</th>\n",
       "      <th id=\"T_84cdc_level0_col1\" class=\"col_heading level0 col1\" >20 - 40%</th>\n",
       "      <th id=\"T_84cdc_level0_col2\" class=\"col_heading level0 col2\" >40 - 60%</th>\n",
       "      <th id=\"T_84cdc_level0_col3\" class=\"col_heading level0 col3\" >60 - 80%</th>\n",
       "      <th id=\"T_84cdc_level0_col4\" class=\"col_heading level0 col4\" >80 - 100%</th>\n",
       "    </tr>\n",
       "  </thead>\n",
       "  <tbody>\n",
       "    <tr>\n",
       "      <th id=\"T_84cdc_level0_row0\" class=\"row_heading level0 row0\" >streets</th>\n",
       "      <td id=\"T_84cdc_row0_col0\" class=\"data row0 col0\" >1.66</td>\n",
       "      <td id=\"T_84cdc_row0_col1\" class=\"data row0 col1\" >4.04</td>\n",
       "      <td id=\"T_84cdc_row0_col2\" class=\"data row0 col2\" >0.99</td>\n",
       "      <td id=\"T_84cdc_row0_col3\" class=\"data row0 col3\" >0.16</td>\n",
       "      <td id=\"T_84cdc_row0_col4\" class=\"data row0 col4\" >0.00</td>\n",
       "    </tr>\n",
       "  </tbody>\n",
       "</table>\n"
      ],
      "text/plain": [
       "<pandas.io.formats.style.Styler at 0x756f3d1abf40>"
      ]
     },
     "execution_count": 14,
     "metadata": {},
     "output_type": "execute_result"
    }
   ],
   "source": [
    "streets_r = results['this_land_use'].rate_per_feature().copy()\n",
    "streets_r = streets_r.loc[[session_config.feature_variables[-1]]].copy()\n",
    "streets_r = userdisplay.street_profile(streets_r, nsamples=len(lkl), caption='rate')\n",
    "caption = \"\"\n",
    "streets_r = streets_r.set_caption(caption)\n",
    "streets_r"
   ]
  },
  {
   "cell_type": "code",
   "execution_count": 15,
   "id": "bfcd9ace-4edb-49a7-a8e6-974b2a19cfdd",
   "metadata": {
    "editable": true,
    "slideshow": {
     "slide_type": ""
    },
    "tags": [
     "remove-input"
    ]
   },
   "outputs": [
    {
     "data": {
      "text/plain": [
       "{'range': array([ 0.2  ,  0.5  ,  1.2  ,  5.1  , 12.835]),\n",
       " 'nsamples': 100,\n",
       " 'average': 3.158000000000001,\n",
       " 'hdi': (0.1, 13.5)}"
      ]
     },
     "execution_count": 15,
     "metadata": {},
     "output_type": "execute_result"
    }
   ],
   "source": [
    "remove_locations = results['this_report'].df.location.unique()\n",
    "newd = d[~d.location.isin(remove_locations)].copy()\n",
    "oreport, olanduse = gfcast.make_report_objects(newd)\n",
    "odata = olanduse.df_cat.copy()\n",
    "weights = gfcast.land_use_weights(results['this_land_use'], session_config.feature_variables)\n",
    "\n",
    "new_samples, new_weghts = gfcast.select_prior_data_by_feature_weight(odata, weights, session_config.feature_variables)\n",
    "new_post, notes = gfcast.posterior_dirichlet_counts(lkl, new_samples['pcs/m'].values)\n",
    "rt, y, s= gfcast.dirichlet_posterior(new_post)\n",
    "s"
   ]
  },
  {
   "cell_type": "markdown",
   "id": "008efd72-20a7-40db-8414-fcae503518e3",
   "metadata": {
    "editable": true,
    "raw_mimetype": "",
    "slideshow": {
     "slide_type": ""
    },
    "tags": []
   },
   "source": [
    "### Forecast by land use"
   ]
  },
  {
   "cell_type": "code",
   "execution_count": 16,
   "id": "861aeef9-64af-4b82-b8b9-8e654201d1a0",
   "metadata": {
    "editable": true,
    "slideshow": {
     "slide_type": ""
    },
    "tags": [
     "remove-input"
    ]
   },
   "outputs": [
    {
     "data": {
      "application/papermill.record/image/png": "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",
      "application/papermill.record/text/plain": "<Figure size 640x480 with 1 Axes>"
     },
     "metadata": {
      "scrapbook": {
       "mime_prefix": "application/papermill.record/",
       "name": "weighted-land-use"
      }
     },
     "output_type": "display_data"
    },
    {
     "data": {
      "image/png": "[encoded data removed]",
      "text/plain": [
       "<Figure size 640x480 with 1 Axes>"
      ]
     },
     "metadata": {},
     "output_type": "display_data"
    }
   ],
   "source": [
    "fig, ax = plt.subplots()\n",
    "\n",
    "sns.ecdfplot(new_samples['pcs/m'].values, label='prior-weighted', ls='-', alpha=.5,ax=ax)\n",
    "sns.ecdfplot(lkl, label='observed', ls='-', alpha=.5,ax=ax)\n",
    "# sns.ecdfplot(sample_values, label='expected 99%', ls=':',alpha=.5,ax=ax)\n",
    "# sns.ecdfplot(xii, label='expected max', ls='-.', alpha=.5,ax=ax)\n",
    "sns.ecdfplot(rt, label='weighted-landuse', ls='--', c='black', lw=1.5)\n",
    "ax.set_xlim(-.1, 10)\n",
    "ax.legend()\n",
    "plt.tight_layout()\n",
    "glue('weighted-land-use', fig, display=False)\n",
    "plt.show()"
   ]
  },
  {
   "cell_type": "markdown",
   "id": "2d40d7a4-8e08-4ac7-bfe2-2329a2a3bcf4",
   "metadata": {
    "editable": true,
    "slideshow": {
     "slide_type": ""
    },
    "tags": []
   },
   "source": [
    "## Lakes and riviers"
   ]
  },
  {
   "cell_type": "code",
   "execution_count": 17,
   "id": "cec9f8e6-ff44-45ed-8c6d-be2fffad8ea4",
   "metadata": {
    "editable": true,
    "slideshow": {
     "slide_type": ""
    },
    "tags": [
     "remove-input"
    ]
   },
   "outputs": [],
   "source": [
    "lake_params = {'canton':canton, 'date_range':o_dates, 'feature_type': 'l'}\n",
    "lake_params_p = {'canton':canton, 'date_range':prior_dates, 'feature_type':'l'}\n",
    "d_codes = d[d.code.isin(mc_codes)].reset_index(drop=True)\n",
    "\n",
    "lake_results = gfcast.reports_and_forecast(lake_params,lake_params_p , ldata=d.copy(), logger=logger)\n",
    "\n",
    "los = lake_results['this_report'].object_summary()\n",
    "los.reset_index(drop=False, inplace=True)\n",
    "l_most_common_objects, lmc_codes , proportions = userdisplay.most_common(los)"
   ]
  },
  {
   "cell_type": "code",
   "execution_count": 18,
   "id": "2e94a4d8-2d25-462d-88b2-327e408a5533",
   "metadata": {
    "editable": true,
    "slideshow": {
     "slide_type": ""
    },
    "tags": [
     "remove-input"
    ]
   },
   "outputs": [],
   "source": [
    "# collect the results from the prior and the likelihood\n",
    "prr = lake_results['prior_report'].sample_results.groupby('sample_id')['pcs/m'].sum()\n",
    "lkl = lake_results['this_report'].sample_results.groupby('sample_id')['pcs/m'].sum()\n",
    "\n",
    "# consider all values\n",
    "xii = lake_results['posterior_no_limit'].sample_posterior()\n",
    "\n",
    "# limit to the 99th percentile\n",
    "lake_sample_values, lake_posterior, lake_summary_simple = gfcast.dirichlet_posterior(lake_results['posterior_99'])"
   ]
  },
  {
   "cell_type": "code",
   "execution_count": 19,
   "id": "24166154-7b9d-4e16-b2c7-3b1ec4955cfe",
   "metadata": {
    "editable": true,
    "slideshow": {
     "slide_type": ""
    },
    "tags": [
     "remove-input"
    ]
   },
   "outputs": [
    {
     "data": {
      "application/papermill.record/image/png": "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",
      "application/papermill.record/text/plain": "<Figure size 640x480 with 1 Axes>"
     },
     "metadata": {
      "scrapbook": {
       "mime_prefix": "application/papermill.record/",
       "name": "lake-prior-likelihood"
      }
     },
     "output_type": "display_data"
    }
   ],
   "source": [
    "fig, ax = plt.subplots()\n",
    "\n",
    "sns.histplot(lkl, stat='probability', label='likelihood', ax=ax)\n",
    "sns.histplot(prr, stat='probability', label='prior', ax=ax)\n",
    "ax.legend()\n",
    "\n",
    "plt.tight_layout()\n",
    "glue('lake-prior-likelihood', fig, display=False)\n",
    "plt.close()"
   ]
  },
  {
   "cell_type": "code",
   "execution_count": 20,
   "id": "04b0874e-5d84-4810-ba8b-e3f113b0044a",
   "metadata": {
    "editable": true,
    "slideshow": {
     "slide_type": ""
    },
    "tags": [
     "remove-input"
    ]
   },
   "outputs": [
    {
     "data": {
      "application/papermill.record/image/png": "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",
      "application/papermill.record/text/plain": "<Figure size 640x480 with 1 Axes>"
     },
     "metadata": {
      "scrapbook": {
       "mime_prefix": "application/papermill.record/",
       "name": "lake-cumumlative-dist-forecast-prior"
      }
     },
     "output_type": "display_data"
    }
   ],
   "source": [
    "fig, ax = plt.subplots()\n",
    "\n",
    "sns.ecdfplot(prr, label='prior', ls='-', ax=ax)\n",
    "sns.ecdfplot(lkl, label='observed', ls='-', ax=ax)\n",
    "sns.ecdfplot(sample_values, label='expected 99%', ls=':')\n",
    "sns.ecdfplot(xii, label='expected max', ls='-.')\n",
    "ax.set_xlim(-.1, 10)\n",
    "ax.legend()\n",
    "plt.tight_layout()\n",
    "glue('lake-cumumlative-dist-forecast-prior', fig, display=False)\n",
    "plt.close()"
   ]
  },
  {
   "cell_type": "code",
   "execution_count": 21,
   "id": "29157d5a-3e40-4391-83e1-568df8d53933",
   "metadata": {
    "editable": true,
    "slideshow": {
     "slide_type": ""
    },
    "tags": [
     "remove-input"
    ]
   },
   "outputs": [
    {
     "data": {
      "application/papermill.record/text/markdown": "\n* Average: 3.25\n* HDI 95%: 0.4 - 9.7\n* 90% Range: 0.4 - 9.7\n* Average: 3.82\n* HDI 95%: 0.16 - 9.72\n* 90% Range: 0.37 - 10.42",
      "application/papermill.record/text/plain": "<IPython.core.display.Markdown object>"
     },
     "metadata": {
      "scrapbook": {
       "mime_prefix": "application/papermill.record/",
       "name": "lake-forecast-list"
      }
     },
     "output_type": "display_data"
    },
    {
     "data": {
      "application/papermill.record/text/markdown": "The most common objects account for 73% of all objects",
      "application/papermill.record/text/plain": "<IPython.core.display.Markdown object>"
     },
     "metadata": {
      "scrapbook": {
       "mime_prefix": "application/papermill.record/",
       "name": "lake-ratio-most-common"
      }
     },
     "output_type": "display_data"
    },
    {
     "data": {
      "application/papermill.record/text/html": "<style type=\"text/css\">\n#T_c692e tr:nth-child(even) {\n  background-color: rgba(139, 69, 19, 0.08);\n}\n#T_c692e tr:nth-child(odd) {\n  background: #FFF;\n}\n#T_c692e tr {\n  font-size: 10px;\n}\n#T_c692e th {\n  background-color: #FFF;\n  font-size: 12px;\n  text-align: left;\n  width: auto;\n  word-break: keep-all;\n}\n#T_c692e td {\n  padding: 4px;\n  font-size: 12px;\n  text-align: center;\n}\n#T_c692e caption {\n  caption-side: top;\n  font-size: 1em;\n  text-align: left;\n  margin-bottom: 10px;\n}\n#T_c692e caption {\n  caption-side: top;\n  font-size: .9em;\n  text-align: left;\n  font-style: italic;\n  color: #000;\n}\n#T_c692e td:nth-child(1) {\n  text-align: left;\n}\n</style>\n<table id=\"T_c692e\">\n  <caption><b>The most common objects from the selected data.</b> The most common objects are a combination of the top ten most abundant objects and those objects that are found in more than 50% of the samples. Some objects are found frequently but at low quantities.Other objects are found in fewer samples but at higher quantities.</caption>\n  <thead>\n    <tr>\n      <th id=\"T_c692e_level0_col0\" class=\"col_heading level0 col0\" >Object</th>\n      <th id=\"T_c692e_level0_col1\" class=\"col_heading level0 col1\" >Quantity</th>\n      <th id=\"T_c692e_level0_col2\" class=\"col_heading level0 col2\" >pcs/m</th>\n      <th id=\"T_c692e_level0_col3\" class=\"col_heading level0 col3\" >% of total</th>\n      <th id=\"T_c692e_level0_col4\" class=\"col_heading level0 col4\" >Fail rate</th>\n    </tr>\n  </thead>\n  <tbody>\n    <tr>\n      <td id=\"T_c692e_row0_col0\" class=\"data row0 col0\" >Cigarette filters</td>\n      <td id=\"T_c692e_row0_col1\" class=\"data row0 col1\" >1'563</td>\n      <td id=\"T_c692e_row0_col2\" class=\"data row0 col2\" >0,47</td>\n      <td id=\"T_c692e_row0_col3\" class=\"data row0 col3\" >0,19</td>\n      <td id=\"T_c692e_row0_col4\" class=\"data row0 col4\" >0,83</td>\n    </tr>\n    <tr>\n      <td id=\"T_c692e_row1_col0\" class=\"data row1 col0\" >Fragmented plastics</td>\n      <td id=\"T_c692e_row1_col1\" class=\"data row1 col1\" >1'283</td>\n      <td id=\"T_c692e_row1_col2\" class=\"data row1 col2\" >0,53</td>\n      <td id=\"T_c692e_row1_col3\" class=\"data row1 col3\" >0,15</td>\n      <td id=\"T_c692e_row1_col4\" class=\"data row1 col4\" >0,93</td>\n    </tr>\n    <tr>\n      <td id=\"T_c692e_row2_col0\" class=\"data row2 col0\" >Industrial sheeting</td>\n      <td id=\"T_c692e_row2_col1\" class=\"data row2 col1\" >668</td>\n      <td id=\"T_c692e_row2_col2\" class=\"data row2 col2\" >0,28</td>\n      <td id=\"T_c692e_row2_col3\" class=\"data row2 col3\" >0,08</td>\n      <td id=\"T_c692e_row2_col4\" class=\"data row2 col4\" >0,87</td>\n    </tr>\n    <tr>\n      <td id=\"T_c692e_row3_col0\" class=\"data row3 col0\" >Food wrappers; candy, snacks</td>\n      <td id=\"T_c692e_row3_col1\" class=\"data row3 col1\" >566</td>\n      <td id=\"T_c692e_row3_col2\" class=\"data row3 col2\" >0,21</td>\n      <td id=\"T_c692e_row3_col3\" class=\"data row3 col3\" >0,07</td>\n      <td id=\"T_c692e_row3_col4\" class=\"data row3 col4\" >0,83</td>\n    </tr>\n    <tr>\n      <td id=\"T_c692e_row4_col0\" class=\"data row4 col0\" >Expanded polystyrene</td>\n      <td id=\"T_c692e_row4_col1\" class=\"data row4 col1\" >462</td>\n      <td id=\"T_c692e_row4_col2\" class=\"data row4 col2\" >0,14</td>\n      <td id=\"T_c692e_row4_col3\" class=\"data row4 col3\" >0,05</td>\n      <td id=\"T_c692e_row4_col4\" class=\"data row4 col4\" >0,72</td>\n    </tr>\n    <tr>\n      <td id=\"T_c692e_row5_col0\" class=\"data row5 col0\" >Glass drink bottles, pieces</td>\n      <td id=\"T_c692e_row5_col1\" class=\"data row5 col1\" >319</td>\n      <td id=\"T_c692e_row5_col2\" class=\"data row5 col2\" >0,13</td>\n      <td id=\"T_c692e_row5_col3\" class=\"data row5 col3\" >0,04</td>\n      <td id=\"T_c692e_row5_col4\" class=\"data row5 col4\" >0,71</td>\n    </tr>\n    <tr>\n      <td id=\"T_c692e_row6_col0\" class=\"data row6 col0\" >Packaging films nonfood or unknown</td>\n      <td id=\"T_c692e_row6_col1\" class=\"data row6 col1\" >249</td>\n      <td id=\"T_c692e_row6_col2\" class=\"data row6 col2\" >0,10</td>\n      <td id=\"T_c692e_row6_col3\" class=\"data row6 col3\" >0,03</td>\n      <td id=\"T_c692e_row6_col4\" class=\"data row6 col4\" >0,52</td>\n    </tr>\n    <tr>\n      <td id=\"T_c692e_row7_col0\" class=\"data row7 col0\" >Foam packaging/insulation/polyurethane</td>\n      <td id=\"T_c692e_row7_col1\" class=\"data row7 col1\" >227</td>\n      <td id=\"T_c692e_row7_col2\" class=\"data row7 col2\" >0,04</td>\n      <td id=\"T_c692e_row7_col3\" class=\"data row7 col3\" >0,03</td>\n      <td id=\"T_c692e_row7_col4\" class=\"data row7 col4\" >0,88</td>\n    </tr>\n    <tr>\n      <td id=\"T_c692e_row8_col0\" class=\"data row8 col0\" >plastic caps, lid rings: G21, G22, G23, G24</td>\n      <td id=\"T_c692e_row8_col1\" class=\"data row8 col1\" >216</td>\n      <td id=\"T_c692e_row8_col2\" class=\"data row8 col2\" >0,07</td>\n      <td id=\"T_c692e_row8_col3\" class=\"data row8 col3\" >0,03</td>\n      <td id=\"T_c692e_row8_col4\" class=\"data row8 col4\" >0,64</td>\n    </tr>\n    <tr>\n      <td id=\"T_c692e_row9_col0\" class=\"data row9 col0\" >Industrial pellets (nurdles)</td>\n      <td id=\"T_c692e_row9_col1\" class=\"data row9 col1\" >186</td>\n      <td id=\"T_c692e_row9_col2\" class=\"data row9 col2\" >0,06</td>\n      <td id=\"T_c692e_row9_col3\" class=\"data row9 col3\" >0,02</td>\n      <td id=\"T_c692e_row9_col4\" class=\"data row9 col4\" >0,36</td>\n    </tr>\n    <tr>\n      <td id=\"T_c692e_row10_col0\" class=\"data row10 col0\" >Plastic construction waste</td>\n      <td id=\"T_c692e_row10_col1\" class=\"data row10 col1\" >159</td>\n      <td id=\"T_c692e_row10_col2\" class=\"data row10 col2\" >0,07</td>\n      <td id=\"T_c692e_row10_col3\" class=\"data row10 col3\" >0,02</td>\n      <td id=\"T_c692e_row10_col4\" class=\"data row10 col4\" >0,60</td>\n    </tr>\n    <tr>\n      <td id=\"T_c692e_row11_col0\" class=\"data row11 col0\" >Fireworks; rocket caps, exploded parts & packaging</td>\n      <td id=\"T_c692e_row11_col1\" class=\"data row11 col1\" >113</td>\n      <td id=\"T_c692e_row11_col2\" class=\"data row11 col2\" >0,05</td>\n      <td id=\"T_c692e_row11_col3\" class=\"data row11 col3\" >0,01</td>\n      <td id=\"T_c692e_row11_col4\" class=\"data row11 col4\" >0,52</td>\n    </tr>\n    <tr>\n      <td id=\"T_c692e_row12_col0\" class=\"data row12 col0\" >Cotton bud/swab sticks</td>\n      <td id=\"T_c692e_row12_col1\" class=\"data row12 col1\" >107</td>\n      <td id=\"T_c692e_row12_col2\" class=\"data row12 col2\" >0,04</td>\n      <td id=\"T_c692e_row12_col3\" class=\"data row12 col3\" >0,01</td>\n      <td id=\"T_c692e_row12_col4\" class=\"data row12 col4\" >0,52</td>\n    </tr>\n    <tr>\n      <td id=\"T_c692e_row13_col0\" class=\"data row13 col0\" >Tobacco; plastic packaging, containers</td>\n      <td id=\"T_c692e_row13_col1\" class=\"data row13 col1\" >106</td>\n      <td id=\"T_c692e_row13_col2\" class=\"data row13 col2\" >0,05</td>\n      <td id=\"T_c692e_row13_col3\" class=\"data row13 col3\" >0,01</td>\n      <td id=\"T_c692e_row13_col4\" class=\"data row13 col4\" >0,51</td>\n    </tr>\n  </tbody>\n</table>\n",
      "application/papermill.record/text/plain": "<pandas.io.formats.style.Styler at 0x756f0e67fb80>"
     },
     "metadata": {
      "scrapbook": {
       "mime_prefix": "application/papermill.record/",
       "name": "lake-most_common_objects"
      }
     },
     "output_type": "display_data"
    },
    {
     "data": {
      "application/papermill.record/text/markdown": "__Summary of selected data__\n* Number of samples: 24\n* Total number of objects: 1466\n* Average sample count: 1.96\n* Date of first sample: 2017-04-16\n* Date of last sample: 2019-07-19\n",
      "application/papermill.record/text/plain": "<IPython.core.display.Markdown object>"
     },
     "metadata": {
      "scrapbook": {
       "mime_prefix": "application/papermill.record/",
       "name": "lake-prior-sampling-summary"
      }
     },
     "output_type": "display_data"
    },
    {
     "data": {
      "application/papermill.record/text/markdown": "__Summary of selected data__\n* Number of samples: 75\n* Total number of objects: 8436\n* Average sample count: 3.06\n* Date of first sample: 2020-01-26\n* Date of last sample: 2021-04-08\n",
      "application/papermill.record/text/plain": "<IPython.core.display.Markdown object>"
     },
     "metadata": {
      "scrapbook": {
       "mime_prefix": "application/papermill.record/",
       "name": "lake-sampling-summary"
      }
     },
     "output_type": "display_data"
    },
    {
     "data": {
      "application/papermill.record/text/markdown": "__Features surveyed__\n* Rivers: 0\n* Lakes: 4\n* Parks: 0\n\n",
      "application/papermill.record/text/plain": "<IPython.core.display.Markdown object>"
     },
     "metadata": {
      "scrapbook": {
       "mime_prefix": "application/papermill.record/",
       "name": "lake-feature-inventory"
      }
     },
     "output_type": "display_data"
    },
    {
     "data": {
      "application/papermill.record/text/markdown": "__Administrative boundaries__\n* Survey locations: 20\n* Cities: 14\n* Cantons: 1\n* River basins or Parks: 1\n\n",
      "application/papermill.record/text/plain": "<IPython.core.display.Markdown object>"
     },
     "metadata": {
      "scrapbook": {
       "mime_prefix": "application/papermill.record/",
       "name": "lake-administrative-boundaries"
      }
     },
     "output_type": "display_data"
    }
   ],
   "source": [
    "feature_inventory = Markdown(userdisplay.feature_inventory(lake_results['this_report'].feature_inventory(), session_language='en'))\n",
    "administrative_boundaries = Markdown(userdisplay.boundaries(lake_results['this_report'].administrative_boundaries(), session_language='en'))\n",
    "\n",
    "\n",
    "header = userdisplay.sampling_result_summary(lake_results['this_report'].sampling_results_summary, session_language='en')[0]\n",
    "info = userdisplay.sampling_result_summary(lake_results['this_report'].sampling_results_summary, session_language='en')[1]\n",
    "samp_sum = Markdown(f'{header}\\n{info}')\n",
    "\n",
    "prior_header = userdisplay.sampling_result_summary(lake_results['prior_report'].sampling_results_summary, session_language='en')[0]\n",
    "prior_info = userdisplay.sampling_result_summary(lake_results['prior_report'].sampling_results_summary, session_language='en')[1]\n",
    "prior_samp_sum = Markdown(f'{prior_header}\\n{prior_info}')\n",
    "\n",
    "ratio_most_common = Markdown(f'The most common objects account for {int(proportions*100)}% of all objects')\n",
    "\n",
    "one_list = Markdown(f'{feature_inventory}\\n{administrative_boundaries}')\n",
    "\n",
    "new_list = display_forecast(lake_summary_simple)\n",
    "new_list2 = display_forecast(lake_results['posterior_no_limit'].get_descriptive_statistics())\n",
    "lake_forecast_list = Markdown(new_list + new_list2)\n",
    "\n",
    "glue('lake-forecast-list', lake_forecast_list, display=False)\n",
    "glue('lake-ratio-most-common', ratio_most_common, display=False)\n",
    "glue('lake-most_common_objects', l_most_common_objects, display=False)\n",
    "glue('lake-prior-sampling-summary', prior_samp_sum, display=False)\n",
    "glue('lake-sampling-summary', samp_sum, display=False)\n",
    "glue('lake-feature-inventory', feature_inventory, display=False)\n",
    "glue('lake-administrative-boundaries', administrative_boundaries, display=False)"
   ]
  },
  {
   "cell_type": "markdown",
   "id": "86dd9687-f20b-42ef-b40b-2bc01e9a31d1",
   "metadata": {
    "editable": true,
    "slideshow": {
     "slide_type": ""
    },
    "tags": []
   },
   "source": [
    "### Lakes\n",
    "\n",
    "#### Vital statistics\n",
    "\n",
    "::::{grid} 2 2 2 2\n",
    ":::{grid-item}\n",
    ":columns: 12 5 5 5\n",
    "```{glue} lake-feature-inventory\n",
    "```\n",
    "```{glue} lake-administrative-boundaries\n",
    "```\n",
    "```{glue} lake-sampling-summary\n",
    "```\n",
    ":::\n",
    ":::{grid-item-card}\n",
    ":columns: 12 7 7 7\n",
    "\n",
    "\n",
    "```{glue} lake-prior-likelihood\n",
    "```\n",
    "\n",
    "+++\n",
    "Observed samples most recent campaign and sampling history\n",
    "\n",
    "\n",
    ":::\n",
    "::::"
   ]
  },
  {
   "cell_type": "markdown",
   "id": "257adb15-283a-4f82-bfef-4c80c0dec601",
   "metadata": {
    "editable": true,
    "slideshow": {
     "slide_type": ""
    },
    "tags": []
   },
   "source": [
    "#### Forecast\n",
    "\n",
    "::::{grid} 1 1 2 2\n",
    ":::{grid-item-card}\n",
    "\n",
    "Expected survey results 2025\n",
    "^^^\n",
    "\n",
    "\n",
    "```{glue} lake-forecast-list\n",
    "```\n",
    "\n",
    ":::\n",
    "\n",
    ":::{grid-item-card}\n",
    ":shadow: none\n",
    "```{glue} lake-cumumlative-dist-forecast-prior\n",
    "```\n",
    "+++\n",
    "Cumulative distribution of observed, sampling history and forecasts using to different priors.\n",
    ":::\n",
    "::::"
   ]
  },
  {
   "cell_type": "markdown",
   "id": "00f792c4-53d4-40f6-9821-1eb26d4043ce",
   "metadata": {
    "editable": true,
    "slideshow": {
     "slide_type": ""
    },
    "tags": [
     "remove-input"
    ]
   },
   "source": [
    "#### Most common objects\n",
    "::::{grid} 2 2 2 2 \n",
    ":::{grid-item}\n",
    ":columns: 4\n",
    "\n",
    "The most common objects from the selected data. The most common objects are a combination of the top ten most abundant objects and those objects that are found in more than 50% of the samples. Some objects are found frequently but at low quantities.Other objects are found in fewer samples but at higher quantities.\n",
    "\n",
    "```{glue} ratio-most-common\n",
    "```\n",
    ":::\n",
    "\n",
    ":::{grid-item-card}\n",
    ":columns: 8\n",
    ":shadow: none\n",
    "\n",
    "```{glue} most_common_objects\n",
    ":::\n",
    "::::"
   ]
  },
  {
   "cell_type": "markdown",
   "id": "748e0b3d-a772-4906-9963-0798cb6779d3",
   "metadata": {
    "editable": true,
    "slideshow": {
     "slide_type": ""
    },
    "tags": []
   },
   "source": [
    "#### Municipal Results\n",
    "\n",
    "The average pieces per meter of the most common objects for each city."
   ]
  },
  {
   "cell_type": "code",
   "execution_count": 22,
   "id": "6db87669-9ac5-46f6-b3ba-d3c1a4fcffb1",
   "metadata": {
    "editable": true,
    "jupyter": {
     "source_hidden": true
    },
    "slideshow": {
     "slide_type": ""
    },
    "tags": [
     "remove-input"
    ]
   },
   "outputs": [
    {
     "data": {
      "text/html": [
       "<style type=\"text/css\">\n",
       "#T_35434 tr:nth-child(even) {\n",
       "  background-color: rgba(139, 69, 19, 0.08);\n",
       "}\n",
       "#T_35434 tr:nth-child(odd) {\n",
       "  background: #FFF;\n",
       "}\n",
       "#T_35434 tr {\n",
       "  font-size: 10px;\n",
       "}\n",
       "#T_35434 th {\n",
       "  background-color: #FFF;\n",
       "  font-size: 12px;\n",
       "  text-align: left;\n",
       "  width: auto;\n",
       "  word-break: keep-all;\n",
       "}\n",
       "#T_35434 td {\n",
       "  padding: 4px;\n",
       "  font-size: 12px;\n",
       "  text-align: center;\n",
       "}\n",
       "#T_35434 caption {\n",
       "  caption-side: bottom;\n",
       "  font-size: 1em;\n",
       "  text-align: left;\n",
       "}\n",
       "#T_35434_row0_col0, #T_35434_row0_col3, #T_35434_row0_col12, #T_35434_row4_col4, #T_35434_row4_col5, #T_35434_row4_col8, #T_35434_row4_col9, #T_35434_row4_col11, #T_35434_row4_col13, #T_35434_row5_col10, #T_35434_row7_col2, #T_35434_row7_col6 {\n",
       "  color: red;\n",
       "}\n",
       "#T_35434_row0_col1, #T_35434_row4_col7 {\n",
       "  color: red;\n",
       "  background-color: yellow;\n",
       "}\n",
       "#T_35434_row1_col2, #T_35434_row2_col0, #T_35434_row3_col7, #T_35434_row5_col7, #T_35434_row6_col2, #T_35434_row7_col7, #T_35434_row8_col7, #T_35434_row9_col13, #T_35434_row10_col2 {\n",
       "  background-color: yellow;\n",
       "}\n",
       "</style>\n",
       "<table id=\"T_35434\">\n",
       "  <thead>\n",
       "    <tr>\n",
       "      <th class=\"index_name level0\" >city</th>\n",
       "      <th id=\"T_35434_level0_col0\" class=\"col_heading level0 col0\" >Beatenberg</th>\n",
       "      <th id=\"T_35434_level0_col1\" class=\"col_heading level0 col1\" >Biel/Bienne</th>\n",
       "      <th id=\"T_35434_level0_col2\" class=\"col_heading level0 col2\" >Brienz (BE)</th>\n",
       "      <th id=\"T_35434_level0_col3\" class=\"col_heading level0 col3\" >Bönigen</th>\n",
       "      <th id=\"T_35434_level0_col4\" class=\"col_heading level0 col4\" >Erlach</th>\n",
       "      <th id=\"T_35434_level0_col5\" class=\"col_heading level0 col5\" >Gals</th>\n",
       "      <th id=\"T_35434_level0_col6\" class=\"col_heading level0 col6\" >Kallnach</th>\n",
       "      <th id=\"T_35434_level0_col7\" class=\"col_heading level0 col7\" >Ligerz</th>\n",
       "      <th id=\"T_35434_level0_col8\" class=\"col_heading level0 col8\" >Lüscherz</th>\n",
       "      <th id=\"T_35434_level0_col9\" class=\"col_heading level0 col9\" >Nidau</th>\n",
       "      <th id=\"T_35434_level0_col10\" class=\"col_heading level0 col10\" >Spiez</th>\n",
       "      <th id=\"T_35434_level0_col11\" class=\"col_heading level0 col11\" >Thun</th>\n",
       "      <th id=\"T_35434_level0_col12\" class=\"col_heading level0 col12\" >Unterseen</th>\n",
       "      <th id=\"T_35434_level0_col13\" class=\"col_heading level0 col13\" >Vinelz</th>\n",
       "    </tr>\n",
       "    <tr>\n",
       "      <th class=\"index_name level0\" >description</th>\n",
       "      <th class=\"blank col0\" >&nbsp;</th>\n",
       "      <th class=\"blank col1\" >&nbsp;</th>\n",
       "      <th class=\"blank col2\" >&nbsp;</th>\n",
       "      <th class=\"blank col3\" >&nbsp;</th>\n",
       "      <th class=\"blank col4\" >&nbsp;</th>\n",
       "      <th class=\"blank col5\" >&nbsp;</th>\n",
       "      <th class=\"blank col6\" >&nbsp;</th>\n",
       "      <th class=\"blank col7\" >&nbsp;</th>\n",
       "      <th class=\"blank col8\" >&nbsp;</th>\n",
       "      <th class=\"blank col9\" >&nbsp;</th>\n",
       "      <th class=\"blank col10\" >&nbsp;</th>\n",
       "      <th class=\"blank col11\" >&nbsp;</th>\n",
       "      <th class=\"blank col12\" >&nbsp;</th>\n",
       "      <th class=\"blank col13\" >&nbsp;</th>\n",
       "    </tr>\n",
       "  </thead>\n",
       "  <tbody>\n",
       "    <tr>\n",
       "      <th id=\"T_35434_level0_row0\" class=\"row_heading level0 row0\" >Cigarette filters</th>\n",
       "      <td id=\"T_35434_row0_col0\" class=\"data row0 col0\" >0.55</td>\n",
       "      <td id=\"T_35434_row0_col1\" class=\"data row0 col1\" >1.36</td>\n",
       "      <td id=\"T_35434_row0_col2\" class=\"data row0 col2\" >0.02</td>\n",
       "      <td id=\"T_35434_row0_col3\" class=\"data row0 col3\" >1.19</td>\n",
       "      <td id=\"T_35434_row0_col4\" class=\"data row0 col4\" >0.44</td>\n",
       "      <td id=\"T_35434_row0_col5\" class=\"data row0 col5\" >0.09</td>\n",
       "      <td id=\"T_35434_row0_col6\" class=\"data row0 col6\" >0.00</td>\n",
       "      <td id=\"T_35434_row0_col7\" class=\"data row0 col7\" >0.76</td>\n",
       "      <td id=\"T_35434_row0_col8\" class=\"data row0 col8\" >0.04</td>\n",
       "      <td id=\"T_35434_row0_col9\" class=\"data row0 col9\" >0.00</td>\n",
       "      <td id=\"T_35434_row0_col10\" class=\"data row0 col10\" >0.06</td>\n",
       "      <td id=\"T_35434_row0_col11\" class=\"data row0 col11\" >0.21</td>\n",
       "      <td id=\"T_35434_row0_col12\" class=\"data row0 col12\" >0.58</td>\n",
       "      <td id=\"T_35434_row0_col13\" class=\"data row0 col13\" >0.05</td>\n",
       "    </tr>\n",
       "    <tr>\n",
       "      <th id=\"T_35434_level0_row1\" class=\"row_heading level0 row1\" >Expanded polystyrene</th>\n",
       "      <td id=\"T_35434_row1_col0\" class=\"data row1 col0\" >0.18</td>\n",
       "      <td id=\"T_35434_row1_col1\" class=\"data row1 col1\" >0.30</td>\n",
       "      <td id=\"T_35434_row1_col2\" class=\"data row1 col2\" >0.34</td>\n",
       "      <td id=\"T_35434_row1_col3\" class=\"data row1 col3\" >0.07</td>\n",
       "      <td id=\"T_35434_row1_col4\" class=\"data row1 col4\" >0.02</td>\n",
       "      <td id=\"T_35434_row1_col5\" class=\"data row1 col5\" >0.00</td>\n",
       "      <td id=\"T_35434_row1_col6\" class=\"data row1 col6\" >0.00</td>\n",
       "      <td id=\"T_35434_row1_col7\" class=\"data row1 col7\" >0.06</td>\n",
       "      <td id=\"T_35434_row1_col8\" class=\"data row1 col8\" >0.00</td>\n",
       "      <td id=\"T_35434_row1_col9\" class=\"data row1 col9\" >0.04</td>\n",
       "      <td id=\"T_35434_row1_col10\" class=\"data row1 col10\" >0.11</td>\n",
       "      <td id=\"T_35434_row1_col11\" class=\"data row1 col11\" >0.11</td>\n",
       "      <td id=\"T_35434_row1_col12\" class=\"data row1 col12\" >0.11</td>\n",
       "      <td id=\"T_35434_row1_col13\" class=\"data row1 col13\" >0.10</td>\n",
       "    </tr>\n",
       "    <tr>\n",
       "      <th id=\"T_35434_level0_row2\" class=\"row_heading level0 row2\" >Foam packaging/insulation/polyurethane</th>\n",
       "      <td id=\"T_35434_row2_col0\" class=\"data row2 col0\" >0.42</td>\n",
       "      <td id=\"T_35434_row2_col1\" class=\"data row2 col1\" >0.10</td>\n",
       "      <td id=\"T_35434_row2_col2\" class=\"data row2 col2\" >0.03</td>\n",
       "      <td id=\"T_35434_row2_col3\" class=\"data row2 col3\" >0.10</td>\n",
       "      <td id=\"T_35434_row2_col4\" class=\"data row2 col4\" >0.00</td>\n",
       "      <td id=\"T_35434_row2_col5\" class=\"data row2 col5\" >0.00</td>\n",
       "      <td id=\"T_35434_row2_col6\" class=\"data row2 col6\" >0.00</td>\n",
       "      <td id=\"T_35434_row2_col7\" class=\"data row2 col7\" >0.21</td>\n",
       "      <td id=\"T_35434_row2_col8\" class=\"data row2 col8\" >0.00</td>\n",
       "      <td id=\"T_35434_row2_col9\" class=\"data row2 col9\" >0.00</td>\n",
       "      <td id=\"T_35434_row2_col10\" class=\"data row2 col10\" >0.01</td>\n",
       "      <td id=\"T_35434_row2_col11\" class=\"data row2 col11\" >0.00</td>\n",
       "      <td id=\"T_35434_row2_col12\" class=\"data row2 col12\" >0.11</td>\n",
       "      <td id=\"T_35434_row2_col13\" class=\"data row2 col13\" >0.03</td>\n",
       "    </tr>\n",
       "    <tr>\n",
       "      <th id=\"T_35434_level0_row3\" class=\"row_heading level0 row3\" >Food wrappers; candy, snacks</th>\n",
       "      <td id=\"T_35434_row3_col0\" class=\"data row3 col0\" >0.12</td>\n",
       "      <td id=\"T_35434_row3_col1\" class=\"data row3 col1\" >0.43</td>\n",
       "      <td id=\"T_35434_row3_col2\" class=\"data row3 col2\" >0.44</td>\n",
       "      <td id=\"T_35434_row3_col3\" class=\"data row3 col3\" >0.06</td>\n",
       "      <td id=\"T_35434_row3_col4\" class=\"data row3 col4\" >0.05</td>\n",
       "      <td id=\"T_35434_row3_col5\" class=\"data row3 col5\" >0.12</td>\n",
       "      <td id=\"T_35434_row3_col6\" class=\"data row3 col6\" >0.08</td>\n",
       "      <td id=\"T_35434_row3_col7\" class=\"data row3 col7\" >0.78</td>\n",
       "      <td id=\"T_35434_row3_col8\" class=\"data row3 col8\" >0.02</td>\n",
       "      <td id=\"T_35434_row3_col9\" class=\"data row3 col9\" >0.60</td>\n",
       "      <td id=\"T_35434_row3_col10\" class=\"data row3 col10\" >0.02</td>\n",
       "      <td id=\"T_35434_row3_col11\" class=\"data row3 col11\" >0.10</td>\n",
       "      <td id=\"T_35434_row3_col12\" class=\"data row3 col12\" >0.11</td>\n",
       "      <td id=\"T_35434_row3_col13\" class=\"data row3 col13\" >0.28</td>\n",
       "    </tr>\n",
       "    <tr>\n",
       "      <th id=\"T_35434_level0_row4\" class=\"row_heading level0 row4\" >Fragmented plastics</th>\n",
       "      <td id=\"T_35434_row4_col0\" class=\"data row4 col0\" >0.44</td>\n",
       "      <td id=\"T_35434_row4_col1\" class=\"data row4 col1\" >0.70</td>\n",
       "      <td id=\"T_35434_row4_col2\" class=\"data row4 col2\" >0.40</td>\n",
       "      <td id=\"T_35434_row4_col3\" class=\"data row4 col3\" >1.01</td>\n",
       "      <td id=\"T_35434_row4_col4\" class=\"data row4 col4\" >0.49</td>\n",
       "      <td id=\"T_35434_row4_col5\" class=\"data row4 col5\" >0.28</td>\n",
       "      <td id=\"T_35434_row4_col6\" class=\"data row4 col6\" >0.00</td>\n",
       "      <td id=\"T_35434_row4_col7\" class=\"data row4 col7\" >1.94</td>\n",
       "      <td id=\"T_35434_row4_col8\" class=\"data row4 col8\" >0.12</td>\n",
       "      <td id=\"T_35434_row4_col9\" class=\"data row4 col9\" >0.64</td>\n",
       "      <td id=\"T_35434_row4_col10\" class=\"data row4 col10\" >0.09</td>\n",
       "      <td id=\"T_35434_row4_col11\" class=\"data row4 col11\" >0.23</td>\n",
       "      <td id=\"T_35434_row4_col12\" class=\"data row4 col12\" >0.23</td>\n",
       "      <td id=\"T_35434_row4_col13\" class=\"data row4 col13\" >1.18</td>\n",
       "    </tr>\n",
       "    <tr>\n",
       "      <th id=\"T_35434_level0_row5\" class=\"row_heading level0 row5\" >Glass drink bottles, pieces</th>\n",
       "      <td id=\"T_35434_row5_col0\" class=\"data row5 col0\" >0.02</td>\n",
       "      <td id=\"T_35434_row5_col1\" class=\"data row5 col1\" >0.16</td>\n",
       "      <td id=\"T_35434_row5_col2\" class=\"data row5 col2\" >0.01</td>\n",
       "      <td id=\"T_35434_row5_col3\" class=\"data row5 col3\" >0.00</td>\n",
       "      <td id=\"T_35434_row5_col4\" class=\"data row5 col4\" >0.02</td>\n",
       "      <td id=\"T_35434_row5_col5\" class=\"data row5 col5\" >0.07</td>\n",
       "      <td id=\"T_35434_row5_col6\" class=\"data row5 col6\" >0.00</td>\n",
       "      <td id=\"T_35434_row5_col7\" class=\"data row5 col7\" >1.00</td>\n",
       "      <td id=\"T_35434_row5_col8\" class=\"data row5 col8\" >0.12</td>\n",
       "      <td id=\"T_35434_row5_col9\" class=\"data row5 col9\" >0.12</td>\n",
       "      <td id=\"T_35434_row5_col10\" class=\"data row5 col10\" >0.14</td>\n",
       "      <td id=\"T_35434_row5_col11\" class=\"data row5 col11\" >0.03</td>\n",
       "      <td id=\"T_35434_row5_col12\" class=\"data row5 col12\" >0.03</td>\n",
       "      <td id=\"T_35434_row5_col13\" class=\"data row5 col13\" >0.20</td>\n",
       "    </tr>\n",
       "    <tr>\n",
       "      <th id=\"T_35434_level0_row6\" class=\"row_heading level0 row6\" >Industrial pellets (nurdles)</th>\n",
       "      <td id=\"T_35434_row6_col0\" class=\"data row6 col0\" >0.03</td>\n",
       "      <td id=\"T_35434_row6_col1\" class=\"data row6 col1\" >0.07</td>\n",
       "      <td id=\"T_35434_row6_col2\" class=\"data row6 col2\" >0.60</td>\n",
       "      <td id=\"T_35434_row6_col3\" class=\"data row6 col3\" >0.04</td>\n",
       "      <td id=\"T_35434_row6_col4\" class=\"data row6 col4\" >0.00</td>\n",
       "      <td id=\"T_35434_row6_col5\" class=\"data row6 col5\" >0.00</td>\n",
       "      <td id=\"T_35434_row6_col6\" class=\"data row6 col6\" >0.00</td>\n",
       "      <td id=\"T_35434_row6_col7\" class=\"data row6 col7\" >0.00</td>\n",
       "      <td id=\"T_35434_row6_col8\" class=\"data row6 col8\" >0.01</td>\n",
       "      <td id=\"T_35434_row6_col9\" class=\"data row6 col9\" >0.08</td>\n",
       "      <td id=\"T_35434_row6_col10\" class=\"data row6 col10\" >0.00</td>\n",
       "      <td id=\"T_35434_row6_col11\" class=\"data row6 col11\" >0.00</td>\n",
       "      <td id=\"T_35434_row6_col12\" class=\"data row6 col12\" >0.00</td>\n",
       "      <td id=\"T_35434_row6_col13\" class=\"data row6 col13\" >0.13</td>\n",
       "    </tr>\n",
       "    <tr>\n",
       "      <th id=\"T_35434_level0_row7\" class=\"row_heading level0 row7\" >Industrial sheeting</th>\n",
       "      <td id=\"T_35434_row7_col0\" class=\"data row7 col0\" >0.03</td>\n",
       "      <td id=\"T_35434_row7_col1\" class=\"data row7 col1\" >0.29</td>\n",
       "      <td id=\"T_35434_row7_col2\" class=\"data row7 col2\" >0.72</td>\n",
       "      <td id=\"T_35434_row7_col3\" class=\"data row7 col3\" >0.15</td>\n",
       "      <td id=\"T_35434_row7_col4\" class=\"data row7 col4\" >0.00</td>\n",
       "      <td id=\"T_35434_row7_col5\" class=\"data row7 col5\" >0.03</td>\n",
       "      <td id=\"T_35434_row7_col6\" class=\"data row7 col6\" >0.58</td>\n",
       "      <td id=\"T_35434_row7_col7\" class=\"data row7 col7\" >1.19</td>\n",
       "      <td id=\"T_35434_row7_col8\" class=\"data row7 col8\" >0.05</td>\n",
       "      <td id=\"T_35434_row7_col9\" class=\"data row7 col9\" >0.40</td>\n",
       "      <td id=\"T_35434_row7_col10\" class=\"data row7 col10\" >0.03</td>\n",
       "      <td id=\"T_35434_row7_col11\" class=\"data row7 col11\" >0.21</td>\n",
       "      <td id=\"T_35434_row7_col12\" class=\"data row7 col12\" >0.16</td>\n",
       "      <td id=\"T_35434_row7_col13\" class=\"data row7 col13\" >0.61</td>\n",
       "    </tr>\n",
       "    <tr>\n",
       "      <th id=\"T_35434_level0_row8\" class=\"row_heading level0 row8\" >Packaging films nonfood or unknown</th>\n",
       "      <td id=\"T_35434_row8_col0\" class=\"data row8 col0\" >0.04</td>\n",
       "      <td id=\"T_35434_row8_col1\" class=\"data row8 col1\" >0.15</td>\n",
       "      <td id=\"T_35434_row8_col2\" class=\"data row8 col2\" >0.05</td>\n",
       "      <td id=\"T_35434_row8_col3\" class=\"data row8 col3\" >0.00</td>\n",
       "      <td id=\"T_35434_row8_col4\" class=\"data row8 col4\" >0.02</td>\n",
       "      <td id=\"T_35434_row8_col5\" class=\"data row8 col5\" >0.00</td>\n",
       "      <td id=\"T_35434_row8_col6\" class=\"data row8 col6\" >0.00</td>\n",
       "      <td id=\"T_35434_row8_col7\" class=\"data row8 col7\" >0.88</td>\n",
       "      <td id=\"T_35434_row8_col8\" class=\"data row8 col8\" >0.01</td>\n",
       "      <td id=\"T_35434_row8_col9\" class=\"data row8 col9\" >0.24</td>\n",
       "      <td id=\"T_35434_row8_col10\" class=\"data row8 col10\" >0.00</td>\n",
       "      <td id=\"T_35434_row8_col11\" class=\"data row8 col11\" >0.03</td>\n",
       "      <td id=\"T_35434_row8_col12\" class=\"data row8 col12\" >0.05</td>\n",
       "      <td id=\"T_35434_row8_col13\" class=\"data row8 col13\" >0.19</td>\n",
       "    </tr>\n",
       "    <tr>\n",
       "      <th id=\"T_35434_level0_row9\" class=\"row_heading level0 row9\" >Plastic construction waste</th>\n",
       "      <td id=\"T_35434_row9_col0\" class=\"data row9 col0\" >0.00</td>\n",
       "      <td id=\"T_35434_row9_col1\" class=\"data row9 col1\" >0.09</td>\n",
       "      <td id=\"T_35434_row9_col2\" class=\"data row9 col2\" >0.11</td>\n",
       "      <td id=\"T_35434_row9_col3\" class=\"data row9 col3\" >0.04</td>\n",
       "      <td id=\"T_35434_row9_col4\" class=\"data row9 col4\" >0.02</td>\n",
       "      <td id=\"T_35434_row9_col5\" class=\"data row9 col5\" >0.00</td>\n",
       "      <td id=\"T_35434_row9_col6\" class=\"data row9 col6\" >0.00</td>\n",
       "      <td id=\"T_35434_row9_col7\" class=\"data row9 col7\" >0.00</td>\n",
       "      <td id=\"T_35434_row9_col8\" class=\"data row9 col8\" >0.02</td>\n",
       "      <td id=\"T_35434_row9_col9\" class=\"data row9 col9\" >0.04</td>\n",
       "      <td id=\"T_35434_row9_col10\" class=\"data row9 col10\" >0.01</td>\n",
       "      <td id=\"T_35434_row9_col11\" class=\"data row9 col11\" >0.01</td>\n",
       "      <td id=\"T_35434_row9_col12\" class=\"data row9 col12\" >0.03</td>\n",
       "      <td id=\"T_35434_row9_col13\" class=\"data row9 col13\" >0.21</td>\n",
       "    </tr>\n",
       "    <tr>\n",
       "      <th id=\"T_35434_level0_row10\" class=\"row_heading level0 row10\" >plastic caps, lid rings: G21, G22, G23, G24</th>\n",
       "      <td id=\"T_35434_row10_col0\" class=\"data row10 col0\" >0.12</td>\n",
       "      <td id=\"T_35434_row10_col1\" class=\"data row10 col1\" >0.13</td>\n",
       "      <td id=\"T_35434_row10_col2\" class=\"data row10 col2\" >0.24</td>\n",
       "      <td id=\"T_35434_row10_col3\" class=\"data row10 col3\" >0.04</td>\n",
       "      <td id=\"T_35434_row10_col4\" class=\"data row10 col4\" >0.06</td>\n",
       "      <td id=\"T_35434_row10_col5\" class=\"data row10 col5\" >0.00</td>\n",
       "      <td id=\"T_35434_row10_col6\" class=\"data row10 col6\" >0.00</td>\n",
       "      <td id=\"T_35434_row10_col7\" class=\"data row10 col7\" >0.06</td>\n",
       "      <td id=\"T_35434_row10_col8\" class=\"data row10 col8\" >0.01</td>\n",
       "      <td id=\"T_35434_row10_col9\" class=\"data row10 col9\" >0.04</td>\n",
       "      <td id=\"T_35434_row10_col10\" class=\"data row10 col10\" >0.01</td>\n",
       "      <td id=\"T_35434_row10_col11\" class=\"data row10 col11\" >0.03</td>\n",
       "      <td id=\"T_35434_row10_col12\" class=\"data row10 col12\" >0.04</td>\n",
       "      <td id=\"T_35434_row10_col13\" class=\"data row10 col13\" >0.13</td>\n",
       "    </tr>\n",
       "  </tbody>\n",
       "</table>\n"
      ],
      "text/plain": [
       "<pandas.io.formats.style.Styler at 0x756f0f066b80>"
      ]
     },
     "execution_count": 22,
     "metadata": {},
     "output_type": "execute_result"
    }
   ],
   "source": [
    "dx = lake_results['this_report'].df\n",
    "dx = dx[dx.code.isin(mc_codes)]\n",
    "dct = dx.groupby(['sample_id','city', 'code'], as_index=False).agg(session_config.unit_agg)\n",
    "dct = dct.groupby(['city', 'code'], as_index=False).agg(session_config.agg_groups)\n",
    "cities = dct.city.unique()\n",
    "\n",
    "new_df = []\n",
    "for city in cities:\n",
    "    x = dct[dct.city == city][['city','code', 'pcs/m']]\n",
    "    new_df.append(x)\n",
    "\n",
    "i = pd.concat(new_df)\n",
    "\n",
    "i['description'] = userdisplay.code_definitions(i.code)\n",
    "i = i.pivot(index='description', columns='city', values='pcs/m')\n",
    "hmax = userdisplay.highlight_max\n",
    "ncities = len(i.columns)\n",
    "i = i.style.apply(hmax, props='color: red')\n",
    "i = i.highlight_max(color='yellow', axis=1)\n",
    "i = i.set_table_styles(userdisplay.table_css_styles).format(precision=2)\n",
    "i"
   ]
  },
  {
   "cell_type": "markdown",
   "id": "afd80c3e-35d5-4a9f-bc4a-97ec84a815a5",
   "metadata": {
    "editable": true,
    "slideshow": {
     "slide_type": ""
    },
    "tags": []
   },
   "source": [
    "### Rivers"
   ]
  },
  {
   "cell_type": "code",
   "execution_count": 23,
   "id": "3ae65091-4e22-4740-9d32-4c5f16a912cf",
   "metadata": {
    "editable": true,
    "slideshow": {
     "slide_type": ""
    },
    "tags": [
     "remove-input"
    ]
   },
   "outputs": [],
   "source": [
    "river_params = {'canton':canton, 'date_range':o_dates, 'feature_type': 'r'}\n",
    "river_params_p = {'canton':canton, 'date_range':prior_dates, 'feature_type':'r'}\n",
    "\n",
    "river_results = gfcast.reports_and_forecast(river_params,river_params_p , ldata=d.copy(), logger=logger)\n",
    "ros = river_results['this_report'].object_summary()\n",
    "ros.reset_index(drop=False, inplace=True)\n",
    "r_most_common_objects, _ , proportions = userdisplay.most_common(ros)"
   ]
  },
  {
   "cell_type": "code",
   "execution_count": 24,
   "id": "3debed23-4483-4a01-8f64-a2b00f527b9c",
   "metadata": {
    "editable": true,
    "slideshow": {
     "slide_type": ""
    },
    "tags": [
     "remove-input"
    ]
   },
   "outputs": [
    {
     "name": "stdout",
     "output_type": "stream",
     "text": [
      "__Summary of selected data__\n",
      "* Number of samples: 82\n",
      "* Total number of objects: 3096\n",
      "* Average sample count: 1.22\n",
      "* Date of first sample: 2017-04-02\n",
      "* Date of last sample: 2018-03-31\n",
      "\n"
     ]
    }
   ],
   "source": [
    "print(userdisplay.sampling_result_summary(river_results['prior_report'].sampling_results_summary, session_language='en')[0])\n",
    "print(userdisplay.sampling_result_summary(river_results['prior_report'].sampling_results_summary, session_language='en')[1])"
   ]
  },
  {
   "cell_type": "code",
   "execution_count": 25,
   "id": "bd09714f-059a-4b38-866d-2e69d0c4a8ff",
   "metadata": {
    "editable": true,
    "slideshow": {
     "slide_type": ""
    },
    "tags": [
     "remove-input"
    ]
   },
   "outputs": [
    {
     "name": "stdout",
     "output_type": "stream",
     "text": [
      "__Summary of selected data__\n",
      "* Number of samples: 14\n",
      "* Total number of objects: 592\n",
      "* Average sample count: 1.13\n",
      "* Date of first sample: 2020-05-13\n",
      "* Date of last sample: 2021-04-23\n",
      "\n"
     ]
    }
   ],
   "source": [
    "print(userdisplay.sampling_result_summary(river_results['this_report'].sampling_results_summary, session_language='en')[0])\n",
    "print(userdisplay.sampling_result_summary(river_results['this_report'].sampling_results_summary, session_language='en')[1])"
   ]
  },
  {
   "cell_type": "code",
   "execution_count": 26,
   "id": "cf75233c-3caa-479b-b6e4-31a36a2a953e",
   "metadata": {
    "editable": true,
    "slideshow": {
     "slide_type": ""
    },
    "tags": [
     "remove-input"
    ]
   },
   "outputs": [
    {
     "data": {
      "image/png": "[encoded data removed]",
      "text/plain": [
       "<Figure size 640x480 with 1 Axes>"
      ]
     },
     "metadata": {},
     "output_type": "display_data"
    }
   ],
   "source": [
    "fig, ax = plt.subplots()\n",
    "\n",
    "o_surveys = river_results['this_report'].sample_results\n",
    "p_surveys = river_results['prior_report'] .sample_results\n",
    "\n",
    "sns.scatterplot(data=o_surveys, x='date', y='pcs/m')\n",
    "sns.scatterplot(data=p_surveys, x='date', y='pcs/m')\n",
    "plt.show()"
   ]
  },
  {
   "cell_type": "code",
   "execution_count": 27,
   "id": "0a376f30-61c8-4b43-9b55-29dea82d878f",
   "metadata": {
    "editable": true,
    "slideshow": {
     "slide_type": ""
    },
    "tags": [
     "remove-input"
    ]
   },
   "outputs": [
    {
     "name": "stdout",
     "output_type": "stream",
     "text": [
      "0.668918918918919\n"
     ]
    },
    {
     "data": {
      "text/html": [
       "<style type=\"text/css\">\n",
       "#T_ff982 tr:nth-child(even) {\n",
       "  background-color: rgba(139, 69, 19, 0.08);\n",
       "}\n",
       "#T_ff982 tr:nth-child(odd) {\n",
       "  background: #FFF;\n",
       "}\n",
       "#T_ff982 tr {\n",
       "  font-size: 10px;\n",
       "}\n",
       "#T_ff982 th {\n",
       "  background-color: #FFF;\n",
       "  font-size: 12px;\n",
       "  text-align: left;\n",
       "  width: auto;\n",
       "  word-break: keep-all;\n",
       "}\n",
       "#T_ff982 td {\n",
       "  padding: 4px;\n",
       "  font-size: 12px;\n",
       "  text-align: center;\n",
       "}\n",
       "#T_ff982 caption {\n",
       "  caption-side: top;\n",
       "  font-size: 1em;\n",
       "  text-align: left;\n",
       "  margin-bottom: 10px;\n",
       "}\n",
       "#T_ff982 caption {\n",
       "  caption-side: top;\n",
       "  font-size: .9em;\n",
       "  text-align: left;\n",
       "  font-style: italic;\n",
       "  color: #000;\n",
       "}\n",
       "#T_ff982 td:nth-child(1) {\n",
       "  text-align: left;\n",
       "}\n",
       "</style>\n",
       "<table id=\"T_ff982\">\n",
       "  <caption><b>The most common objects from the selected data.</b> The most common objects are a combination of the top ten most abundant objects and those objects that are found in more than 50% of the samples. Some objects are found frequently but at low quantities.Other objects are found in fewer samples but at higher quantities.</caption>\n",
       "  <thead>\n",
       "    <tr>\n",
       "      <th id=\"T_ff982_level0_col0\" class=\"col_heading level0 col0\" >Object</th>\n",
       "      <th id=\"T_ff982_level0_col1\" class=\"col_heading level0 col1\" >Quantity</th>\n",
       "      <th id=\"T_ff982_level0_col2\" class=\"col_heading level0 col2\" >pcs/m</th>\n",
       "      <th id=\"T_ff982_level0_col3\" class=\"col_heading level0 col3\" >% of total</th>\n",
       "      <th id=\"T_ff982_level0_col4\" class=\"col_heading level0 col4\" >Fail rate</th>\n",
       "    </tr>\n",
       "  </thead>\n",
       "  <tbody>\n",
       "    <tr>\n",
       "      <td id=\"T_ff982_row0_col0\" class=\"data row0 col0\" >Diapers - wipes</td>\n",
       "      <td id=\"T_ff982_row0_col1\" class=\"data row0 col1\" >117</td>\n",
       "      <td id=\"T_ff982_row0_col2\" class=\"data row0 col2\" >0,31</td>\n",
       "      <td id=\"T_ff982_row0_col3\" class=\"data row0 col3\" >0,20</td>\n",
       "      <td id=\"T_ff982_row0_col4\" class=\"data row0 col4\" >0,36</td>\n",
       "    </tr>\n",
       "    <tr>\n",
       "      <td id=\"T_ff982_row1_col0\" class=\"data row1 col0\" >Cigarette filters</td>\n",
       "      <td id=\"T_ff982_row1_col1\" class=\"data row1 col1\" >108</td>\n",
       "      <td id=\"T_ff982_row1_col2\" class=\"data row1 col2\" >0,18</td>\n",
       "      <td id=\"T_ff982_row1_col3\" class=\"data row1 col3\" >0,18</td>\n",
       "      <td id=\"T_ff982_row1_col4\" class=\"data row1 col4\" >0,71</td>\n",
       "    </tr>\n",
       "    <tr>\n",
       "      <td id=\"T_ff982_row2_col0\" class=\"data row2 col0\" >Fragmented plastics</td>\n",
       "      <td id=\"T_ff982_row2_col1\" class=\"data row2 col1\" >40</td>\n",
       "      <td id=\"T_ff982_row2_col2\" class=\"data row2 col2\" >0,07</td>\n",
       "      <td id=\"T_ff982_row2_col3\" class=\"data row2 col3\" >0,07</td>\n",
       "      <td id=\"T_ff982_row2_col4\" class=\"data row2 col4\" >0,64</td>\n",
       "    </tr>\n",
       "    <tr>\n",
       "      <td id=\"T_ff982_row3_col0\" class=\"data row3 col0\" >Glass drink bottles, pieces</td>\n",
       "      <td id=\"T_ff982_row3_col1\" class=\"data row3 col1\" >29</td>\n",
       "      <td id=\"T_ff982_row3_col2\" class=\"data row3 col2\" >0,05</td>\n",
       "      <td id=\"T_ff982_row3_col3\" class=\"data row3 col3\" >0,05</td>\n",
       "      <td id=\"T_ff982_row3_col4\" class=\"data row3 col4\" >0,36</td>\n",
       "    </tr>\n",
       "    <tr>\n",
       "      <td id=\"T_ff982_row4_col0\" class=\"data row4 col0\" >Food wrappers; candy, snacks</td>\n",
       "      <td id=\"T_ff982_row4_col1\" class=\"data row4 col1\" >23</td>\n",
       "      <td id=\"T_ff982_row4_col2\" class=\"data row4 col2\" >0,04</td>\n",
       "      <td id=\"T_ff982_row4_col3\" class=\"data row4 col3\" >0,04</td>\n",
       "      <td id=\"T_ff982_row4_col4\" class=\"data row4 col4\" >0,64</td>\n",
       "    </tr>\n",
       "    <tr>\n",
       "      <td id=\"T_ff982_row5_col0\" class=\"data row5 col0\" >Industrial sheeting</td>\n",
       "      <td id=\"T_ff982_row5_col1\" class=\"data row5 col1\" >18</td>\n",
       "      <td id=\"T_ff982_row5_col2\" class=\"data row5 col2\" >0,03</td>\n",
       "      <td id=\"T_ff982_row5_col3\" class=\"data row5 col3\" >0,03</td>\n",
       "      <td id=\"T_ff982_row5_col4\" class=\"data row5 col4\" >0,29</td>\n",
       "    </tr>\n",
       "    <tr>\n",
       "      <td id=\"T_ff982_row6_col0\" class=\"data row6 col0\" >Tampons</td>\n",
       "      <td id=\"T_ff982_row6_col1\" class=\"data row6 col1\" >17</td>\n",
       "      <td id=\"T_ff982_row6_col2\" class=\"data row6 col2\" >0,03</td>\n",
       "      <td id=\"T_ff982_row6_col3\" class=\"data row6 col3\" >0,03</td>\n",
       "      <td id=\"T_ff982_row6_col4\" class=\"data row6 col4\" >0,07</td>\n",
       "    </tr>\n",
       "    <tr>\n",
       "      <td id=\"T_ff982_row7_col0\" class=\"data row7 col0\" >Foam packaging/insulation/polyurethane</td>\n",
       "      <td id=\"T_ff982_row7_col1\" class=\"data row7 col1\" >13</td>\n",
       "      <td id=\"T_ff982_row7_col2\" class=\"data row7 col2\" >0,01</td>\n",
       "      <td id=\"T_ff982_row7_col3\" class=\"data row7 col3\" >0,02</td>\n",
       "      <td id=\"T_ff982_row7_col4\" class=\"data row7 col4\" >0,21</td>\n",
       "    </tr>\n",
       "    <tr>\n",
       "      <td id=\"T_ff982_row8_col0\" class=\"data row8 col0\" >Packaging films nonfood or unknown</td>\n",
       "      <td id=\"T_ff982_row8_col1\" class=\"data row8 col1\" >12</td>\n",
       "      <td id=\"T_ff982_row8_col2\" class=\"data row8 col2\" >0,02</td>\n",
       "      <td id=\"T_ff982_row8_col3\" class=\"data row8 col3\" >0,02</td>\n",
       "      <td id=\"T_ff982_row8_col4\" class=\"data row8 col4\" >0,36</td>\n",
       "    </tr>\n",
       "    <tr>\n",
       "      <td id=\"T_ff982_row9_col0\" class=\"data row9 col0\" >Expanded polystyrene</td>\n",
       "      <td id=\"T_ff982_row9_col1\" class=\"data row9 col1\" >12</td>\n",
       "      <td id=\"T_ff982_row9_col2\" class=\"data row9 col2\" >0,02</td>\n",
       "      <td id=\"T_ff982_row9_col3\" class=\"data row9 col3\" >0,02</td>\n",
       "      <td id=\"T_ff982_row9_col4\" class=\"data row9 col4\" >0,07</td>\n",
       "    </tr>\n",
       "    <tr>\n",
       "      <td id=\"T_ff982_row10_col0\" class=\"data row10 col0\" >String < 1cm</td>\n",
       "      <td id=\"T_ff982_row10_col1\" class=\"data row10 col1\" >7</td>\n",
       "      <td id=\"T_ff982_row10_col2\" class=\"data row10 col2\" >0,01</td>\n",
       "      <td id=\"T_ff982_row10_col3\" class=\"data row10 col3\" >0,01</td>\n",
       "      <td id=\"T_ff982_row10_col4\" class=\"data row10 col4\" >0,50</td>\n",
       "    </tr>\n",
       "  </tbody>\n",
       "</table>\n"
      ],
      "text/plain": [
       "<pandas.io.formats.style.Styler at 0x756f0dcadc10>"
      ]
     },
     "execution_count": 27,
     "metadata": {},
     "output_type": "execute_result"
    }
   ],
   "source": [
    "print(proportions)\n",
    "r_most_common_objects"
   ]
  },
  {
   "cell_type": "code",
   "execution_count": 28,
   "id": "2a670c1d-5d0b-4346-88ed-9636a6ce0a27",
   "metadata": {
    "editable": true,
    "slideshow": {
     "slide_type": ""
    },
    "tags": [
     "remove-input"
    ]
   },
   "outputs": [
    {
     "data": {
      "text/html": [
       "<div>\n",
       "<style scoped>\n",
       "    .dataframe tbody tr th:only-of-type {\n",
       "        vertical-align: middle;\n",
       "    }\n",
       "\n",
       "    .dataframe tbody tr th {\n",
       "        vertical-align: top;\n",
       "    }\n",
       "\n",
       "    .dataframe thead th {\n",
       "        text-align: right;\n",
       "    }\n",
       "</style>\n",
       "<table border=\"1\" class=\"dataframe\">\n",
       "  <thead>\n",
       "    <tr style=\"text-align: right;\">\n",
       "      <th>city</th>\n",
       "      <th>Bern</th>\n",
       "      <th>Biel/Bienne</th>\n",
       "      <th>Brügg</th>\n",
       "      <th>Burgdorf</th>\n",
       "      <th>Kallnach</th>\n",
       "      <th>Köniz</th>\n",
       "      <th>Port</th>\n",
       "      <th>Rubigen</th>\n",
       "      <th>Walperswil</th>\n",
       "    </tr>\n",
       "    <tr>\n",
       "      <th>code</th>\n",
       "      <th></th>\n",
       "      <th></th>\n",
       "      <th></th>\n",
       "      <th></th>\n",
       "      <th></th>\n",
       "      <th></th>\n",
       "      <th></th>\n",
       "      <th></th>\n",
       "      <th></th>\n",
       "    </tr>\n",
       "  </thead>\n",
       "  <tbody>\n",
       "    <tr>\n",
       "      <th>G112</th>\n",
       "      <td>0.0000</td>\n",
       "      <td>0.000</td>\n",
       "      <td>0.00</td>\n",
       "      <td>0.00</td>\n",
       "      <td>0.20</td>\n",
       "      <td>0.00</td>\n",
       "      <td>0.005</td>\n",
       "      <td>0.00</td>\n",
       "      <td>0.00</td>\n",
       "    </tr>\n",
       "    <tr>\n",
       "      <th>G200</th>\n",
       "      <td>0.0075</td>\n",
       "      <td>0.150</td>\n",
       "      <td>0.36</td>\n",
       "      <td>0.00</td>\n",
       "      <td>0.00</td>\n",
       "      <td>0.00</td>\n",
       "      <td>0.015</td>\n",
       "      <td>0.00</td>\n",
       "      <td>0.00</td>\n",
       "    </tr>\n",
       "    <tr>\n",
       "      <th>G25</th>\n",
       "      <td>0.0000</td>\n",
       "      <td>0.000</td>\n",
       "      <td>0.00</td>\n",
       "      <td>0.00</td>\n",
       "      <td>0.07</td>\n",
       "      <td>0.03</td>\n",
       "      <td>0.000</td>\n",
       "      <td>0.00</td>\n",
       "      <td>0.00</td>\n",
       "    </tr>\n",
       "    <tr>\n",
       "      <th>G27</th>\n",
       "      <td>0.0525</td>\n",
       "      <td>0.270</td>\n",
       "      <td>0.28</td>\n",
       "      <td>0.07</td>\n",
       "      <td>0.00</td>\n",
       "      <td>0.09</td>\n",
       "      <td>0.630</td>\n",
       "      <td>0.06</td>\n",
       "      <td>0.00</td>\n",
       "    </tr>\n",
       "    <tr>\n",
       "      <th>G30</th>\n",
       "      <td>0.0125</td>\n",
       "      <td>0.085</td>\n",
       "      <td>0.00</td>\n",
       "      <td>0.02</td>\n",
       "      <td>0.09</td>\n",
       "      <td>0.00</td>\n",
       "      <td>0.065</td>\n",
       "      <td>0.11</td>\n",
       "      <td>0.00</td>\n",
       "    </tr>\n",
       "    <tr>\n",
       "      <th>G67</th>\n",
       "      <td>0.0325</td>\n",
       "      <td>0.000</td>\n",
       "      <td>0.00</td>\n",
       "      <td>0.22</td>\n",
       "      <td>0.07</td>\n",
       "      <td>0.00</td>\n",
       "      <td>0.000</td>\n",
       "      <td>0.00</td>\n",
       "      <td>0.00</td>\n",
       "    </tr>\n",
       "    <tr>\n",
       "      <th>G74</th>\n",
       "      <td>0.0000</td>\n",
       "      <td>0.000</td>\n",
       "      <td>0.00</td>\n",
       "      <td>0.00</td>\n",
       "      <td>0.00</td>\n",
       "      <td>0.00</td>\n",
       "      <td>0.015</td>\n",
       "      <td>0.00</td>\n",
       "      <td>0.19</td>\n",
       "    </tr>\n",
       "    <tr>\n",
       "      <th>G89</th>\n",
       "      <td>0.0075</td>\n",
       "      <td>0.000</td>\n",
       "      <td>0.00</td>\n",
       "      <td>0.00</td>\n",
       "      <td>0.00</td>\n",
       "      <td>0.00</td>\n",
       "      <td>0.000</td>\n",
       "      <td>0.00</td>\n",
       "      <td>0.00</td>\n",
       "    </tr>\n",
       "    <tr>\n",
       "      <th>G904</th>\n",
       "      <td>0.0000</td>\n",
       "      <td>0.010</td>\n",
       "      <td>0.00</td>\n",
       "      <td>0.00</td>\n",
       "      <td>0.02</td>\n",
       "      <td>0.00</td>\n",
       "      <td>0.000</td>\n",
       "      <td>0.06</td>\n",
       "      <td>0.00</td>\n",
       "    </tr>\n",
       "    <tr>\n",
       "      <th>G941</th>\n",
       "      <td>0.0000</td>\n",
       "      <td>0.030</td>\n",
       "      <td>0.00</td>\n",
       "      <td>0.11</td>\n",
       "      <td>0.02</td>\n",
       "      <td>0.00</td>\n",
       "      <td>0.035</td>\n",
       "      <td>0.00</td>\n",
       "      <td>0.00</td>\n",
       "    </tr>\n",
       "    <tr>\n",
       "      <th>G95</th>\n",
       "      <td>0.0000</td>\n",
       "      <td>0.000</td>\n",
       "      <td>0.00</td>\n",
       "      <td>0.00</td>\n",
       "      <td>0.14</td>\n",
       "      <td>0.00</td>\n",
       "      <td>0.000</td>\n",
       "      <td>0.00</td>\n",
       "      <td>0.00</td>\n",
       "    </tr>\n",
       "    <tr>\n",
       "      <th>Gcaps</th>\n",
       "      <td>0.0000</td>\n",
       "      <td>0.010</td>\n",
       "      <td>0.00</td>\n",
       "      <td>0.00</td>\n",
       "      <td>0.12</td>\n",
       "      <td>0.00</td>\n",
       "      <td>0.025</td>\n",
       "      <td>0.06</td>\n",
       "      <td>0.03</td>\n",
       "    </tr>\n",
       "    <tr>\n",
       "      <th>Gfoams</th>\n",
       "      <td>0.0000</td>\n",
       "      <td>0.000</td>\n",
       "      <td>0.00</td>\n",
       "      <td>0.00</td>\n",
       "      <td>0.27</td>\n",
       "      <td>0.00</td>\n",
       "      <td>0.000</td>\n",
       "      <td>0.00</td>\n",
       "      <td>0.00</td>\n",
       "    </tr>\n",
       "    <tr>\n",
       "      <th>Gfrags</th>\n",
       "      <td>0.0200</td>\n",
       "      <td>0.060</td>\n",
       "      <td>0.03</td>\n",
       "      <td>0.02</td>\n",
       "      <td>0.23</td>\n",
       "      <td>0.00</td>\n",
       "      <td>0.220</td>\n",
       "      <td>0.00</td>\n",
       "      <td>0.00</td>\n",
       "    </tr>\n",
       "  </tbody>\n",
       "</table>\n",
       "</div>"
      ],
      "text/plain": [
       "city      Bern  Biel/Bienne  Brügg  Burgdorf  Kallnach  Köniz   Port  Rubigen  \\\n",
       "code                                                                            \n",
       "G112    0.0000        0.000   0.00      0.00      0.20   0.00  0.005     0.00   \n",
       "G200    0.0075        0.150   0.36      0.00      0.00   0.00  0.015     0.00   \n",
       "G25     0.0000        0.000   0.00      0.00      0.07   0.03  0.000     0.00   \n",
       "G27     0.0525        0.270   0.28      0.07      0.00   0.09  0.630     0.06   \n",
       "G30     0.0125        0.085   0.00      0.02      0.09   0.00  0.065     0.11   \n",
       "G67     0.0325        0.000   0.00      0.22      0.07   0.00  0.000     0.00   \n",
       "G74     0.0000        0.000   0.00      0.00      0.00   0.00  0.015     0.00   \n",
       "G89     0.0075        0.000   0.00      0.00      0.00   0.00  0.000     0.00   \n",
       "G904    0.0000        0.010   0.00      0.00      0.02   0.00  0.000     0.06   \n",
       "G941    0.0000        0.030   0.00      0.11      0.02   0.00  0.035     0.00   \n",
       "G95     0.0000        0.000   0.00      0.00      0.14   0.00  0.000     0.00   \n",
       "Gcaps   0.0000        0.010   0.00      0.00      0.12   0.00  0.025     0.06   \n",
       "Gfoams  0.0000        0.000   0.00      0.00      0.27   0.00  0.000     0.00   \n",
       "Gfrags  0.0200        0.060   0.03      0.02      0.23   0.00  0.220     0.00   \n",
       "\n",
       "city    Walperswil  \n",
       "code                \n",
       "G112          0.00  \n",
       "G200          0.00  \n",
       "G25           0.00  \n",
       "G27           0.00  \n",
       "G30           0.00  \n",
       "G67           0.00  \n",
       "G74           0.19  \n",
       "G89           0.00  \n",
       "G904          0.00  \n",
       "G941          0.00  \n",
       "G95           0.00  \n",
       "Gcaps         0.03  \n",
       "Gfoams        0.00  \n",
       "Gfrags        0.00  "
      ]
     },
     "execution_count": 28,
     "metadata": {},
     "output_type": "execute_result"
    }
   ],
   "source": [
    "dx = river_results['this_report'].df\n",
    "dx = dx[dx.code.isin(lmc_codes)]\n",
    "dct = dx.groupby(['sample_id','city', 'code'], as_index=False).agg(session_config.unit_agg)\n",
    "dct = dct.groupby(['city', 'code'], as_index=False).agg(session_config.agg_groups)\n",
    "cities = dct.city.unique()\n",
    "\n",
    "new_df = []\n",
    "for city in cities:\n",
    "    x = dct[dct.city == city][['city','code', 'pcs/m']]\n",
    "    new_df.append(x)\n",
    "\n",
    "i = pd.concat(new_df)\n",
    "i.pivot(index='code', columns='city', values='pcs/m')"
   ]
  },
  {
   "cell_type": "code",
   "execution_count": 29,
   "id": "0d372796-cf9b-4429-a559-6d94b7ad7346",
   "metadata": {
    "editable": true,
    "slideshow": {
     "slide_type": ""
    },
    "tags": [
     "remove-input"
    ]
   },
   "outputs": [],
   "source": [
    "# collect the results from the prior and the likelihood\n",
    "prr = river_results['prior_report'].sample_results.groupby('sample_id')['pcs/m'].sum()\n",
    "lkl = river_results['this_report'].sample_results.groupby('sample_id')['pcs/m'].sum()\n",
    "\n",
    "# consider all values\n",
    "xii = river_results['posterior_no_limit'].sample_posterior()\n",
    "\n",
    "# limit to the 99th percentile\n",
    "sample_values, posterior, summary_simple = gfcast.dirichlet_posterior(river_results['posterior_99'])"
   ]
  },
  {
   "cell_type": "code",
   "execution_count": 30,
   "id": "8e7beb27-6240-4734-ac5d-32075fa3e778",
   "metadata": {
    "editable": true,
    "slideshow": {
     "slide_type": ""
    },
    "tags": [
     "remove-input"
    ]
   },
   "outputs": [
    {
     "data": {
      "image/png": "[encoded data removed]",
      "text/plain": [
       "<Figure size 640x480 with 1 Axes>"
      ]
     },
     "metadata": {},
     "output_type": "display_data"
    }
   ],
   "source": [
    "fig, ax = plt.subplots()\n",
    "\n",
    "sns.ecdfplot(prr, label='prior', ls='-', ax=ax)\n",
    "sns.ecdfplot(lkl, label='observed', ls='-', ax=ax)\n",
    "sns.ecdfplot(sample_values, label='expected 99%', ls=':')\n",
    "sns.ecdfplot(xii, label='expected max', ls='-.')\n",
    "ax.set_xlim(-.1, 4)\n",
    "ax.legend()\n",
    "plt.show()"
   ]
  },
  {
   "cell_type": "code",
   "execution_count": null,
   "id": "09c495d2-de90-436e-a9a4-a9fa90382def",
   "metadata": {
    "editable": true,
    "slideshow": {
     "slide_type": ""
    },
    "tags": []
   },
   "outputs": [],
   "source": []
  }
 ],
 "metadata": {
  "kernelspec": {
   "display_name": "Python 3 (ipykernel)",
   "language": "python",
   "name": "python3"
  },
  "language_info": {
   "codemirror_mode": {
    "name": "ipython",
    "version": 3
   },
   "file_extension": ".py",
   "mimetype": "text/x-python",
   "name": "python",
   "nbconvert_exporter": "python",
   "pygments_lexer": "ipython3",
   "version": "3.9.17"
  }
 },
 "nbformat": 4,
 "nbformat_minor": 5
}
