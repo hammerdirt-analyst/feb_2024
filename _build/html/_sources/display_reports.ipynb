{
 "cells": [
  {
   "cell_type": "code",
   "execution_count": 1,
   "id": "64c16819-72da-4b47-a3aa-988d3f5a8203",
   "metadata": {
    "editable": true,
    "pycharm": {
     "name": "#%%\n"
    },
    "slideshow": {
     "slide_type": ""
    },
    "tags": [
     "hide-input"
    ]
   },
   "source": [
    "%load_ext watermark\n",
    "import pandas as pd\n",
    "import numpy as np\n",
    "\n",
    "import matplotlib.pyplot as plt\n",
    "import matplotlib as mpl\n",
    "import matplotlib.colors\n",
    "from matplotlib.colors import LinearSegmentedColormap, ListedColormap\n",
    "import seaborn as sns\n",
    "\n",
    "import session_config\n",
    "import reports\n",
    "import geospatial\n",
    "import display as disp\n",
    "from myst_nb import glue\n",
    "from IPython.display import display, Markdown\n",
    "\n",
    "# available data\n",
    "surveys = session_config.collect_survey_data()\n",
    "\n",
    "# boundaries / search parameters\n",
    "feature_type = 'feature_name'\n",
    "feature_name = 'lac-leman'\n",
    "\n",
    "df = surveys[surveys[feature_type] == feature_name].copy()\n",
    "vaud_report = reports.SurveyReport(dfc=df)\n",
    "\n",
    "# the parameters for the landuse report\n",
    "target_df = vaud_report.sample_results\n",
    "features = geospatial.collect_topo_data(locations=target_df.location.unique())\n",
    "land_use_report = geospatial.LandUseReport(target_df, features)\n",
    "\n",
    "# creates an array of tuples of the correlated pairs\n",
    "correlated_pairs = land_use_report.correlated_pairs()\n",
    "\n",
    "# pass the correlated pairs to combine features method\n",
    "# this will categorize the features and combine the correlated pairs\n",
    "# into new columns\n",
    "land_use_report.combine_features(correlated_pairs)"
   ],
   "outputs": []
  },
  {
   "cell_type": "markdown",
   "id": "8e3e8dd7-00b7-4cd7-9536-6739b92c5812",
   "metadata": {
    "editable": true,
    "pycharm": {
     "name": "#%% md\n"
    },
    "slideshow": {
     "slide_type": ""
    },
    "tags": []
   },
   "source": [
    "# Display reports\n",
    "\n",
    "Cumulative reports display the test statistic of sample results between elements of a geographic or administrative region. Cumulative reports are visualized with heat maps. The starting point for cumulative reports is a valid `ReportClass` object. The granularity of the results are at a minimum the municipal level. The lowest recognized administrative unit.\n",
    "\n",
    "## A top level description\n",
    "\n",
    "A short and detailed summary of the report can be created by synthesising or displaying four tables from the `SurveyReport`. The sampling result summary returns the components of the quantiles and the descriptive statistics.\n",
    "\n",
    "```python\n",
    "sampling_summary = vaud_report.sampling_results_summary\n",
    "a, b, c, d = disp.sampling_result_summary(sampling_summary, 'en')\n",
    "\n",
    "vaud_boundaries = vaud_report.administrative_boundaries()\n",
    "disp.boundaries(vaud_boundaries, 'en')\n",
    "\n",
    "vaud_features = vaud_report.feature_inventory()\n",
    "disp.feature_inventory(vaud_features, 'en')\n",
    "``` "
   ]
  },
  {
   "cell_type": "code",
   "execution_count": 2,
   "id": "ca2fc365-273e-4d7e-910b-8afcaab8d30b",
   "metadata": {
    "editable": true,
    "pycharm": {
     "name": "#%%\n"
    },
    "slideshow": {
     "slide_type": ""
    },
    "tags": [
     "remove-input"
    ]
   },
   "source": [
    "sampling_summary = vaud_report.sampling_results_summary\n",
    "a, b, c, d = disp.sampling_result_summary(sampling_summary, 'en')\n",
    "\n",
    "glue('summary', Markdown(f'{a}\\n{b}'), display=False)\n",
    "\n",
    "glue('dist', Markdown(f'{c}\\n{d}'), display=False)\n",
    "\n",
    "vaud_boundaries = vaud_report.administrative_boundaries()\n",
    "glue('boundaries', Markdown(disp.boundaries(vaud_boundaries, 'en')), display=False)\n",
    "\n",
    "vaud_features = vaud_report.feature_inventory()\n",
    "glue('features', Markdown(disp.feature_inventory(vaud_features, 'en')), display=False)"
   ],
   "outputs": []
  },
  {
   "cell_type": "markdown",
   "id": "ec501f2c-10b6-459e-ade2-d283cfcbb88c",
   "metadata": {
    "editable": true,
    "slideshow": {
     "slide_type": ""
    },
    "tags": []
   },
   "source": [
    "::::{grid} 1 2 2 2\n",
    "\n",
    ":::{grid-item}\n",
    "\n",
    "_Summary of samples_\n",
    "\n",
    "```{glue:} summary\n",
    "```\n",
    ":::\n",
    "\n",
    ":::{grid-item}\n",
    "\n",
    "_Distribution of sample totals_\n",
    "\n",
    "```{glue:} dist\n",
    "```\n",
    ":::\n",
    "\n",
    ":::{grid-item}\n",
    "\n",
    "_The administrative boundaries_\n",
    "\n",
    "```{glue:} boundaries\n",
    "```\n",
    ":::\n",
    "\n",
    ":::{grid-item}\n",
    "\n",
    "_The rivers lakes and parks_\n",
    "\n",
    "```{glue:} features\n",
    "```\n",
    ":::\n",
    "\n",
    "::::\n",
    "\n",
    "__Recall:__ the place names can always be printed.\n"
   ]
  },
  {
   "cell_type": "markdown",
   "id": "c670a37a-de30-4256-a7eb-1b2bf84b182f",
   "metadata": {
    "editable": true,
    "slideshow": {
     "slide_type": ""
    },
    "tags": []
   },
   "source": [
    "## The most common objects\n",
    "\n",
    "The most common objects are a combination of the top ten most abundant objects and those objects that are found in more than 50% of the samples. \n",
    "\n",
    "```python\n",
    "\n",
    "vaud_most_common = vaud_report.object_summary().reset_index()\n",
    "df, weight = disp.most_common(vaud_most_common)\n",
    "\n",
    "```"
   ]
  },
  {
   "cell_type": "code",
   "execution_count": 3,
   "id": "c7a2c87a-5fcc-4b43-99f6-f7fd554572b8",
   "metadata": {
    "editable": true,
    "slideshow": {
     "slide_type": ""
    },
    "tags": [
     "remove-input"
    ]
   },
   "source": [
    "vaud_most_common = vaud_report.object_summary().reset_index()\n",
    "df, weight = disp.most_common(vaud_most_common)\n",
    "df"
   ],
   "outputs": []
  },
  {
   "cell_type": "markdown",
   "id": "6293045e-31fc-46ee-b363-610e52333be6",
   "metadata": {
    "editable": true,
    "slideshow": {
     "slide_type": ""
    },
    "tags": []
   },
   "source": [
    "## Correlation matrix\n",
    "\n",
    "```python\n",
    "amatrix = land_use_report.correlation_matrix()\n",
    "disp.correlation_matrix(amatrix)\n",
    "```"
   ]
  },
  {
   "cell_type": "code",
   "execution_count": 4,
   "id": "bc376357-861f-4c56-b1ff-3a7424278028",
   "metadata": {
    "editable": true,
    "slideshow": {
     "slide_type": ""
    },
    "tags": [
     "remove-input"
    ]
   },
   "source": [
    "amatrix = land_use_report.correlation_matrix()\n",
    "disp.correlation_matrix(amatrix)"
   ],
   "outputs": []
  },
  {
   "cell_type": "markdown",
   "id": "9311c04a-10da-4441-9529-34348caed9cd",
   "metadata": {
    "editable": true,
    "slideshow": {
     "slide_type": ""
    },
    "tags": []
   },
   "source": [
    "## Land use profile"
   ]
  },
  {
   "cell_type": "code",
   "execution_count": 5,
   "id": "82be7763-d565-41dd-ab3b-c0cfd88f8c8c",
   "metadata": {
    "editable": true,
    "slideshow": {
     "slide_type": ""
    },
    "tags": []
   },
   "source": [
    "lprofile = land_use_report.n_samples_per_feature()\n",
    "disp.landuse_profile(lprofile[session_config.feature_variables[:-1]], nsamples=vaud_report.number_of_samples)"
   ],
   "outputs": []
  },
  {
   "cell_type": "markdown",
   "id": "4fa5eab8-05ad-4fd3-99aa-887f76ce1be0",
   "metadata": {
    "editable": true,
    "slideshow": {
     "slide_type": ""
    },
    "tags": []
   },
   "source": [
    "## Litter rate per feature"
   ]
  },
  {
   "cell_type": "code",
   "execution_count": 6,
   "id": "47278e91-bd6f-434e-a952-70c0ee02486c",
   "metadata": {
    "editable": true,
    "slideshow": {
     "slide_type": ""
    },
    "tags": []
   },
   "source": [
    "rpf = land_use_report.rate_per_feature()\n",
    "disp.litter_rates_per_feature(rpf.loc[session_config.feature_variables[:-1]])"
   ],
   "outputs": []
  },
  {
   "cell_type": "markdown",
   "id": "8f7160c3-9e43-4768-b63d-f989f209fd7f",
   "metadata": {
    "editable": true,
    "slideshow": {
     "slide_type": ""
    },
    "tags": []
   },
   "source": [
    "## Streets profile"
   ]
  },
  {
   "cell_type": "code",
   "execution_count": 7,
   "id": "cea80c34-0afc-4191-8aa9-3135cf20335d",
   "metadata": {
    "editable": true,
    "slideshow": {
     "slide_type": ""
    },
    "tags": []
   },
   "source": [
    "disp.street_profile(lprofile[['streets']].T, session_language='en', nsamples=vaud_report.number_of_samples)"
   ],
   "outputs": []
  },
  {
   "cell_type": "code",
   "execution_count": 8,
   "id": "7d7e71b3-229f-4031-abb7-f328d475ea89",
   "metadata": {
    "editable": true,
    "slideshow": {
     "slide_type": ""
    },
    "tags": []
   },
   "source": [
    "disp.street_profile(rpf.loc[['streets']], session_language='en', caption='rate')"
   ],
   "outputs": []
  },
  {
   "cell_type": "code",
   "execution_count": 9,
   "id": "dd733cf1-e618-42eb-9195-8c0c0cc1a1f0",
   "metadata": {
    "editable": true,
    "slideshow": {
     "slide_type": ""
    },
    "tags": []
   },
   "source": [
    "df_l = land_use_report.df_cat"
   ],
   "outputs": []
  },
  {
   "cell_type": "code",
   "execution_count": 10,
   "id": "a522fb7a-c3e2-470a-b446-af6077914b35",
   "metadata": {
    "editable": true,
    "slideshow": {
     "slide_type": ""
    },
    "tags": []
   },
   "source": [
    "the_grid = np.arange(0, 50, step=.2)\n",
    "my_grids = pd.DataFrame(index=the_grid)\n",
    "codes = vaud_most_common.sort_values('quantity', ascending=False)[:10].code"
   ],
   "outputs": []
  },
  {
   "cell_type": "code",
   "execution_count": 12,
   "id": "2d076bd3-2eeb-4658-a45f-27b8fc8da5ad",
   "metadata": {
    "editable": true,
    "slideshow": {
     "slide_type": ""
    },
    "tags": []
   },
   "source": [
    "def calculate_exceedance_matrix(pcs_values, index_range, categories):\n",
    "    # Initialize an array to store results for the categories\n",
    "    result_array = np.zeros((len(index_range), len(categories)))\n",
    "    \n",
    "    for i, category_pcs_values in enumerate(pcs_values):\n",
    "        # Total samples for the current category\n",
    "        total_samples = len(category_pcs_values)\n",
    "        if total_samples == 0:\n",
    "            # Handle case with no samples to avoid division by zero\n",
    "            continue\n",
    "        # Use broadcasting to compare pcs_values against all index values at once\n",
    "        exceedance_matrix = category_pcs_values[:, np.newaxis] > index_range\n",
    "        # Sum over rows to count the exceedances for each index value and normalize\n",
    "        exceedance_counts = exceedance_matrix.sum(axis=0) / total_samples\n",
    "        # Store in the result array\n",
    "        result_array[:, i] = exceedance_counts\n",
    "    \n",
    "    return result_array\n",
    "\n",
    "# Define the index range and categories\n",
    "index_range = np.arange(0, 50.1, 0.2)\n",
    "categories = range(1, 6)\n",
    "\n",
    "# Prepare an array of pcs/m values for each category of 'buildings'\n",
    "category_pcs_values = [df_l[df_l['buildings'] == i]['pcs/m'].values for i in range(1, 6)]\n",
    "\n",
    "# Example usage with the new function signature\n",
    "buildings_matrix = calculate_exceedance_matrix(category_pcs_values, index_range, categories)\n",
    "# buildings_matrix[:5, :]  # Show the first 5 rows\n",
    "\n",
    "\n",
    "# # To demonstrate, let's manually prepare an array of pcs/m values for each category of 'buildings'\n",
    "# category_pcs_values = [df_l[df_l['buildings'] == i]['pcs/m'].values for i in range(1, 6)]\n",
    "\n",
    "# buildings_matrix = feature_rate_matrix(category_pcs_values)\n",
    "# # buildings_matrix[:5, :]  # Show the first 5 rows\n"
   ],
   "outputs": []
  },
  {
   "cell_type": "code",
   "execution_count": 13,
   "id": "ae3a95b3-9fe2-469c-aad3-07fce0388b75",
   "metadata": {
    "editable": true,
    "slideshow": {
     "slide_type": ""
    },
    "tags": []
   },
   "source": [
    "def create_prior_matrix(index_range, categories, threshold=10):\n",
    "    # Initialize the matrix\n",
    "    prior_matrix = np.zeros((len(index_range), len(categories)))\n",
    "    \n",
    "    # Define the exponential decay rates\n",
    "    decay_rate_pre_threshold = 0.05\n",
    "    decay_rate_post_threshold = 0.5\n",
    "    \n",
    "    # Fill the matrix with the prior probabilities\n",
    "    for i, x in enumerate(index_range):\n",
    "        if x <= threshold:\n",
    "            decay_rate = decay_rate_pre_threshold\n",
    "        else:\n",
    "            decay_rate = decay_rate_post_threshold\n",
    "        # Exponential decay formula\n",
    "        prior = np.exp(-decay_rate * (x - threshold)) if x > threshold else np.exp(-decay_rate * x)\n",
    "        # Assign this value to all categories for this index\n",
    "        prior_matrix[i, :] = prior\n",
    "    \n",
    "    return prior_matrix\n",
    "\n",
    "# Example usage with the index_range and categories defined earlier\n",
    "prior_matrix = create_prior_matrix(index_range, categories)\n",
    "prior_matrix[15:25, :]  # Show the first 5 rows\n"
   ],
   "outputs": []
  },
  {
   "cell_type": "code",
   "execution_count": 14,
   "id": "eb97f6b2-0c65-4670-88f6-532343218e49",
   "metadata": {
    "editable": true,
    "slideshow": {
     "slide_type": ""
    },
    "tags": []
   },
   "source": [
    "def create_jeffreys_prior_matrix(index_range, categories, epsilon=0.01):\n",
    "    # Initialize the matrix\n",
    "    jeffreys_prior_matrix = np.zeros((len(index_range), len(categories)))\n",
    "    \n",
    "    # Calculate Jeffreys prior values using the modified formula\n",
    "    for i, x in enumerate(index_range):\n",
    "        prior = 1 / (x + epsilon)  # Adding epsilon to avoid division by zero\n",
    "        # Assign this value to all categories for this index\n",
    "        jeffreys_prior_matrix[i, :] = prior\n",
    "    \n",
    "    return jeffreys_prior_matrix\n",
    "\n",
    "prior = create_jeffreys_prior_matrix(index_range, categories)\n",
    "f = pd.DataFrame(prior, columns=categories, index=index_range)"
   ],
   "outputs": []
  },
  {
   "cell_type": "code",
   "execution_count": 15,
   "id": "e37fa3a9-5476-4953-8ae7-41e05f2b06a2",
   "metadata": {
    "editable": true,
    "slideshow": {
     "slide_type": ""
    },
    "tags": []
   },
   "source": [
    "from scipy.stats import weibull_min\n",
    "from scipy.optimize import root_scalar\n",
    "\n",
    "# Given percentiles and their values\n",
    "p75 = 8.92\n",
    "p95 = 25\n",
    "scale_max = 50  # The range to model\n",
    "\n",
    "# Function to estimate Weibull parameters based on percentiles\n",
    "def estimate_weibull_params(p75, p95):\n",
    "    # Function to find k given p75 and p95\n",
    "    def equations(k):\n",
    "        cdf75 = weibull_min.cdf(p75, k, scale=p75 / (np.log(4)))  # 75th percentile\n",
    "        cdf95 = weibull_min.cdf(p95, k, scale=p75 / (np.log(4)))  # 95th percentile\n",
    "        return cdf75 - 0.75, cdf95 - 0.95\n",
    "\n",
    "    # Solve for k that matches the 75th percentile to 0.75\n",
    "    k_result = root_scalar(lambda k: equations(k)[0], bracket=[0.1, 10], method='brentq')\n",
    "    k = k_result.root\n",
    "    scale = p75 / weibull_min.ppf(0.75, k)\n",
    "\n",
    "    return k, scale\n",
    "\n",
    "# Calculate parameters\n",
    "k, scale = estimate_weibull_params(p75, p95)\n",
    "\n",
    "# Create the prior grid\n",
    "index_range = np.arange(0, scale_max + 0.1, 0.2)\n",
    "prior_pdf = weibull_min.pdf(index_range, k, scale=scale)\n",
    "\n",
    "# Normalize the prior grid\n",
    "prior_pdf /= prior_pdf.max()\n",
    "\n",
    "prior_pdf.shape\n"
   ],
   "outputs": []
  },
  {
   "cell_type": "code",
   "execution_count": 16,
   "id": "9e515474-aa09-4779-ab6b-e85026c8839c",
   "metadata": {
    "editable": true,
    "slideshow": {
     "slide_type": ""
    },
    "tags": []
   },
   "source": [
    "buildings_matrix[:, 0]"
   ],
   "outputs": []
  },
  {
   "cell_type": "code",
   "execution_count": 17,
   "id": "92e4242f-972f-421a-8e20-8bc8d03f5a35",
   "metadata": {
    "editable": true,
    "slideshow": {
     "slide_type": ""
    },
    "tags": []
   },
   "source": [
    "fig, ax = plt.subplots()\n",
    "\n",
    "sns.scatterplot(x=index_range, y = prior_pdf, ax=ax)\n",
    "sns.scatterplot(x=index_range, y = buildings_matrix[:, 0], ax=ax)\n",
    "\n",
    "plt.show()"
   ],
   "outputs": []
  }
 ],
 "metadata": {
  "kernelspec": {
   "display_name": "Python 3 (ipykernel)",
   "language": "python",
   "name": "python3"
  },
  "language_info": {
   "codemirror_mode": {
    "name": "ipython",
    "version": 3
   },
   "file_extension": ".py",
   "mimetype": "text/x-python",
   "name": "python",
   "nbconvert_exporter": "python",
   "pygments_lexer": "ipython3",
   "version": "3.9.17"
  }
 },
 "nbformat": 4,
 "nbformat_minor": 5
}
