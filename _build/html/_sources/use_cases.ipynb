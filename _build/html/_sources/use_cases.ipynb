{
 "cells": [
  {
   "cell_type": "code",
   "execution_count": 1,
   "id": "64c16819-72da-4b47-a3aa-988d3f5a8203",
   "metadata": {
    "editable": true,
    "pycharm": {
     "name": "#%%\n"
    },
    "slideshow": {
     "slide_type": ""
    },
    "tags": [
     "remove-input"
    ]
   },
   "outputs": [],
   "source": [
    "%load_ext watermark\n",
    "import pandas as pd\n",
    "import numpy as np\n",
    "\n",
    "import matplotlib.pyplot as plt\n",
    "import matplotlib as mpl\n",
    "import matplotlib.colors\n",
    "from matplotlib.colors import LinearSegmentedColormap, ListedColormap\n",
    "import seaborn as sns\n",
    "\n",
    "import session_config\n",
    "import reports\n",
    "import geospatial\n",
    "import gridforecast as gfcast\n",
    "import logging\n",
    "import userdisplay as disp\n",
    "from myst_nb import glue\n",
    "from IPython.display import display, Markdown\n",
    "\n",
    "\n",
    "\n",
    "logging.basicConfig(\n",
    "    filename='app.log', \n",
    "    level=logging.DEBUG,\n",
    "    format='%(asctime)s - %(name)s - %(levelname)s - %(message)s'\n",
    ")\n",
    "\n",
    "logger = logging.getLogger(__name__)\n",
    "\n",
    "\n",
    "# available data\n",
    "surveys = session_config.collect_survey_data()\n",
    "codedefs = pd.read_csv('data/end_process/codes.csv').set_index('code')\n",
    "\n",
    "o_dates = {'start':'2020-01-01', 'end':'2021-12-31'}\n",
    "prior_dates = {'start':'2015-11-15', 'end':'2019-12-31'}\n",
    "\n",
    "# all data\n",
    "canton = 'Bern'\n",
    "d= surveys.reset_index(drop=True)\n",
    "lake_params = {'canton':canton, 'date_range':o_dates, 'feature_type': 'l'}\n",
    "lake_params_p = {'canton':canton, 'date_range':prior_dates, 'feature_type':'l'}\n",
    "\n",
    "# all surveys lakes, rivers combined\n",
    "c_all_l,  _ = gfcast.filter_data(d,{'canton': canton, 'feature_type': 'l',  'date_range': {'start':prior_dates['start'], 'end':o_dates['end']}})\n",
    "call_l_surveys, call_l_land = gfcast.make_report_objects(c_all_l)\n",
    "\n",
    "# prior data does not include locations in canton\n",
    "o_prior_l = d[(d.canton != canton)&(d['date'] <= prior_dates['end'])&(d.feature_type == 'l')].copy()\n",
    "o_report_l, o_land_use_l = gfcast.make_report_objects(o_prior_l)\n",
    "lake_results = gfcast.reports_and_forecast(lake_params,lake_params_p , ldata=d.copy(), logger=logger, other_data=o_land_use_l.df_cat)"
   ]
  },
  {
   "cell_type": "markdown",
   "id": "8e3e8dd7-00b7-4cd7-9536-6739b92c5812",
   "metadata": {
    "editable": true,
    "pycharm": {
     "name": "#%% md\n"
    },
    "slideshow": {
     "slide_type": ""
    },
    "tags": []
   },
   "source": [
    "# Use cases\n",
    "\n",
    "How each stake holder interprets the data is dependent on the use case. Here we present the answers to some of the most common questions that can be answered using the report or the methods desccribed in this document.\n",
    "\n",
    "For an example we will use the results from Bern."
   ]
  },
  {
   "cell_type": "markdown",
   "id": "af5e858a-59c6-477c-894e-c99c0e4ee78b",
   "metadata": {
    "editable": true,
    "slideshow": {
     "slide_type": ""
    },
    "tags": []
   },
   "source": [
    "## Is their more now than there was before ?\n",
    "\n",
    "__How do you know ?__ The best way to verify is to take more samples. However, the previous results in the canton and the results from locations outside the canton with similar land-use cahracteristics are good indicators.\n",
    "\n",
    "From the report we can identify several key pieces of information that will help us make the determination.\n",
    "\n",
    "(use-case-observed)=\n",
    "### Consider the observed results\n",
    "\n",
    "ref: [Bern vital statistics](bern-vital-statistics), ref: [Bern most common](bern-most-common)\n",
    "\n",
    "1. Vital statisitics: The average pcs/m of trash was greater in 2021 than 2017-2019\n",
    "2. The combined pcs/m of the most common objects (74% of all objects) is 2.3 pcs/m. That is .4 pcs/m greater than all the objects from 2017-2019\n",
    "\n",
    "(use-case-forecast)=\n",
    "### Consider the forecasted values\n",
    "\n",
    "ref: [Bern forecasts](bern-forecasts)\n",
    "\n",
    "1. Given the 99th percenitle of 2021, we expect the values for 2025 to be approximately equal 2017-2019\n",
    "2. If we assume the maximum value of 2021 was not a mistake, on average we expect to find more in 2025\n",
    "3. Considering random samples from locations outside of the canton from locations with similar land-cover we expect to find more\n",
    "\n",
    "### Conclusion, notes and actions\n",
    "\n",
    "__Conclusion:__ The expected average survey result for lakes in the canton of Bern is expected to increase from 1.96 pcs/m in 2017 - 2019 to 3.06 in 2025. The campaign of 2017-2019 only had 24 samples versus 74 in 2021. Given that the sampling campaigns were managed by different organizations and were initiated for different purposes we can not be sure about the magnitude of the increase. However, the results from other lakes in Switzerland suggest that __an increase is more likely than a decrease__.\n",
    "\n",
    "__Notes:__ Comparing the sample totals is not the best way to make this type of analysis. We know that 74% of the total can be accounted for by 15 different objects. Comparing like items or grouping like items would provide a more accurate representation of the expected sample results for 2025.\n",
    "\n",
    "__Recommended actions:__ Set a sampling strategy for the canton. Collect at least as many samples from the same lakes as 2021 and be sure that a portion of those samples come from the same locations as 2021.\n",
    "\n",
    "---"
   ]
  },
  {
   "cell_type": "markdown",
   "id": "64d54267-17b4-42f4-88fe-d77c4c755bd4",
   "metadata": {
    "editable": true,
    "slideshow": {
     "slide_type": ""
    },
    "tags": []
   },
   "source": [
    "(cleanest-beach)=\n",
    "## Where is the cleanest beach ?\n",
    "\n",
    "__How do you find the cleanest locations ?__ We can make a determination based on the sampling history or we can use the land-use profile to define the characteristics of what the cleanest beach may look like.\n",
    "\n",
    "### Use the sampling history\n",
    "\n",
    "ref: [Bern municipal results](bern-municipal-results)\n",
    "\n",
    "The municipalites with lowest average pcs/m and more than three samples is Lüscherz with 0.75 pcs/m (Bielersee) and Spiez with 0.79 pcs/m (Thunersee).\n",
    "\n",
    "### Use the land use profile\n",
    "\n",
    "ref: [Bern rate per feature](bern-rate-per-feature), ref: [land-use](calculating-land-use)\n",
    "\n",
    "Survey locations with at least 40% - 60% of the land attributed to forest or undefined use have the lowest average pcs/m. Together these two land-use categories account for 50% of samples. Notice that urban locations (80% - 100% buildings) also have a very low average result. This is the inverse of what is expected in general.\n",
    "\n",
    "### Conclusion, notes and actions\n",
    "\n",
    "__Conclusion:__ The two locations with the lowest observed average pcs/m fit the expected land-use profile. However, the results in urban locations may be of interest given that that the average results is 50% less than we would find in other cantons under the same land-profile.\n",
    "\n",
    "__Notes:__ The sampling profile should approximate the profile of the canton. For example if the region is mainly agricultural and all the samples come from the urban centers then the sampling is not representative of the envrironment. \n",
    "\n",
    "__Recommended actions:__ Set a sampling strategy for the canton. With local and regional stakeholders identify the sampling locations that best represent the geography of the canton.\n",
    "\n",
    "---"
   ]
  },
  {
   "cell_type": "markdown",
   "id": "1424bbb1-8db1-408f-b6d8-9bbde53ff368",
   "metadata": {
    "editable": true,
    "slideshow": {
     "slide_type": ""
    },
    "tags": []
   },
   "source": [
    "## How much of the items are single use plastics (SUP) ?\n",
    "\n",
    "__How are you defining single use plastics ?__ The definition of SUP has not been established by federal or cantonal authorities. Here we consider the obvious choices and exclude cigarette end and other tobaco products.\n",
    "\n",
    "__Single use plastics:__\n",
    "\n",
    "1. PET bottles\n",
    "2. Plastic bottle caps\n",
    "3. Straws, stirrers\n",
    "4. Plastic cotton swabs\n",
    "5. Fast food or to go containters\n",
    "6. Plastic bags\n",
    "7. Snack wrappers\n",
    "8. Fireworks\n",
    "9. Lollypop sticks\n",
    "10. Cups, lids, single use foamed and hard plastics\n",
    "11. Medical; containers/tubes/ packaging\n",
    "12. Diapers, wipes and sanitary pads\n",
    "\n",
    "### Use the object inventory\n",
    "\n",
    "The object inventory is included with each report. It gives the summary result of all objects identified from the surveys (below). By adding up the % of total of the all the objects identified as single use plastics we find that on the shores of lakes in Bern __14% (1190/8423) of the trash was single use plastics__.\n",
    "\n",
    "### Conclusion, notes and actions\n",
    "\n",
    "__Conclusion:__ SUP are about 14% of the total found in 2021. Which means that approximately 80% of the objects found are not classified as SUP. \n",
    "\n",
    "__Notes:__ This finding is in agreement with massive amount of pressure on consumers to do the the right thing. Furthermore, municipalities invest a siginifigant portion of their budgets in maintaining the shoreline of lakes.\n",
    "\n",
    "__Recommended actions:__ Stakeholders should define a list of objects that can be standardized and takes into account observations in the field.\n",
    "\n",
    "__Object inventory Bern lakes, single use plastics__"
   ]
  },
  {
   "cell_type": "code",
   "execution_count": 2,
   "id": "7a5df742-cfbd-4584-81c5-c34845fa5364",
   "metadata": {
    "editable": true,
    "slideshow": {
     "slide_type": ""
    },
    "tags": [
     "remove-input"
    ]
   },
   "outputs": [
    {
     "data": {
      "application/papermill.record/text/html": "<div>\n<style scoped>\n    .dataframe tbody tr th:only-of-type {\n        vertical-align: middle;\n    }\n\n    .dataframe tbody tr th {\n        vertical-align: top;\n    }\n\n    .dataframe thead th {\n        text-align: right;\n    }\n</style>\n<table border=\"1\" class=\"dataframe\">\n  <thead>\n    <tr style=\"text-align: right;\">\n      <th></th>\n      <th>quantity</th>\n      <th>pcs/m</th>\n      <th>% of total</th>\n      <th>fail rate</th>\n    </tr>\n    <tr>\n      <th>description</th>\n      <th></th>\n      <th></th>\n      <th></th>\n      <th></th>\n    </tr>\n  </thead>\n  <tbody>\n    <tr>\n      <th>Food containers single use foamed or plastic</th>\n      <td>44</td>\n      <td>0.02</td>\n      <td>0.01</td>\n      <td>0.36</td>\n    </tr>\n    <tr>\n      <th>Medical; containers/tubes/ packaging</th>\n      <td>19</td>\n      <td>0.01</td>\n      <td>0.00</td>\n      <td>0.22</td>\n    </tr>\n    <tr>\n      <th>plastic caps, lid rings: G21, G22, G23, G24</th>\n      <td>216</td>\n      <td>0.07</td>\n      <td>0.03</td>\n      <td>0.65</td>\n    </tr>\n    <tr>\n      <th>Cotton bud/swab sticks</th>\n      <td>107</td>\n      <td>0.04</td>\n      <td>0.01</td>\n      <td>0.53</td>\n    </tr>\n    <tr>\n      <th>Food wrappers; candy, snacks</th>\n      <td>565</td>\n      <td>0.22</td>\n      <td>0.07</td>\n      <td>0.82</td>\n    </tr>\n    <tr>\n      <th>Lollypop sticks</th>\n      <td>53</td>\n      <td>0.02</td>\n      <td>0.01</td>\n      <td>0.36</td>\n    </tr>\n    <tr>\n      <th>Cups, lids, single use foamed and hard plastic</th>\n      <td>40</td>\n      <td>0.02</td>\n      <td>0.00</td>\n      <td>0.30</td>\n    </tr>\n    <tr>\n      <th>Cutlery, plates and trays</th>\n      <td>14</td>\n      <td>0.01</td>\n      <td>0.00</td>\n      <td>0.16</td>\n    </tr>\n    <tr>\n      <th>Straws and stirrers</th>\n      <td>52</td>\n      <td>0.02</td>\n      <td>0.01</td>\n      <td>0.39</td>\n    </tr>\n    <tr>\n      <th>Drink bottles  &gt; 0.5L</th>\n      <td>1</td>\n      <td>0.00</td>\n      <td>0.00</td>\n      <td>0.01</td>\n    </tr>\n    <tr>\n      <th>Drink bottles &lt; = 0.5L</th>\n      <td>6</td>\n      <td>0.00</td>\n      <td>0.00</td>\n      <td>0.05</td>\n    </tr>\n    <tr>\n      <th>Bottles and containers, plastic non food/drink</th>\n      <td>3</td>\n      <td>0.00</td>\n      <td>0.00</td>\n      <td>0.01</td>\n    </tr>\n    <tr>\n      <th>Generic plastic bags</th>\n      <td>1</td>\n      <td>0.00</td>\n      <td>0.00</td>\n      <td>0.01</td>\n    </tr>\n    <tr>\n      <th>Small plastic bags; freezer, zip-lock etc.</th>\n      <td>14</td>\n      <td>0.01</td>\n      <td>0.00</td>\n      <td>0.12</td>\n    </tr>\n    <tr>\n      <th>Mesh bags</th>\n      <td>4</td>\n      <td>0.00</td>\n      <td>0.00</td>\n      <td>0.05</td>\n    </tr>\n    <tr>\n      <th>Dog feces bag</th>\n      <td>9</td>\n      <td>0.00</td>\n      <td>0.00</td>\n      <td>0.08</td>\n    </tr>\n    <tr>\n      <th>Bags</th>\n      <td>6</td>\n      <td>0.00</td>\n      <td>0.00</td>\n      <td>0.04</td>\n    </tr>\n    <tr>\n      <th>Sanitary pads /panty liners/tampons and applicators</th>\n      <td>13</td>\n      <td>0.01</td>\n      <td>0.00</td>\n      <td>0.15</td>\n    </tr>\n    <tr>\n      <th>Diapers - wipes</th>\n      <td>23</td>\n      <td>0.01</td>\n      <td>0.00</td>\n      <td>0.22</td>\n    </tr>\n  </tbody>\n</table>\n</div>",
      "application/papermill.record/text/plain": "                                                    quantity  pcs/m  \\\ndescription                                                           \nFood containers single use foamed or plastic              44   0.02   \nMedical; containers/tubes/ packaging                      19   0.01   \nplastic caps, lid rings: G21, G22, G23, G24              216   0.07   \nCotton bud/swab sticks                                   107   0.04   \nFood wrappers; candy, snacks                             565   0.22   \nLollypop sticks                                           53   0.02   \nCups, lids, single use foamed and hard plastic            40   0.02   \nCutlery, plates and trays                                 14   0.01   \nStraws and stirrers                                       52   0.02   \nDrink bottles  > 0.5L                                      1   0.00   \nDrink bottles < = 0.5L                                     6   0.00   \nBottles and containers, plastic non food/drink             3   0.00   \nGeneric plastic bags                                       1   0.00   \nSmall plastic bags; freezer, zip-lock etc.                14   0.01   \nMesh bags                                                  4   0.00   \nDog feces bag                                              9   0.00   \nBags                                                       6   0.00   \nSanitary pads /panty liners/tampons and applica...        13   0.01   \nDiapers - wipes                                           23   0.01   \n\n                                                    % of total  fail rate  \ndescription                                                                \nFood containers single use foamed or plastic              0.01       0.36  \nMedical; containers/tubes/ packaging                      0.00       0.22  \nplastic caps, lid rings: G21, G22, G23, G24               0.03       0.65  \nCotton bud/swab sticks                                    0.01       0.53  \nFood wrappers; candy, snacks                              0.07       0.82  \nLollypop sticks                                           0.01       0.36  \nCups, lids, single use foamed and hard plastic            0.00       0.30  \nCutlery, plates and trays                                 0.00       0.16  \nStraws and stirrers                                       0.01       0.39  \nDrink bottles  > 0.5L                                     0.00       0.01  \nDrink bottles < = 0.5L                                    0.00       0.05  \nBottles and containers, plastic non food/drink            0.00       0.01  \nGeneric plastic bags                                      0.00       0.01  \nSmall plastic bags; freezer, zip-lock etc.                0.00       0.12  \nMesh bags                                                 0.00       0.05  \nDog feces bag                                             0.00       0.08  \nBags                                                      0.00       0.04  \nSanitary pads /panty liners/tampons and applica...        0.00       0.15  \nDiapers - wipes                                           0.00       0.22  "
     },
     "metadata": {
      "scrapbook": {
       "mime_prefix": "application/papermill.record/",
       "name": "object-inv"
      }
     },
     "output_type": "display_data"
    }
   ],
   "source": [
    "pd.set_option('display.max_rows', 200)\n",
    "\n",
    "bern_report = lake_results['this_report']\n",
    "objects = bern_report.object_summary()\n",
    "objects['description'] = objects.index.map(lambda x: codedefs['en'].loc[x])\n",
    "objects = objects[['description', *objects.columns[:-1]]]\n",
    "objects = objects[objects.quantity > 0]\n",
    "ooi = ['G10', 'G100', 'Gcaps', 'G95', 'G30', 'G31', 'G33', 'G34', 'G35', 'G8', 'G7', 'G6', 'G5', 'G4', 'G37', 'G101', 'G2', 'G96', 'G98']\n",
    "obj_oi = objects.loc[ooi].copy()\n",
    "obj_oi.set_index('description', drop=True, inplace=True)\n",
    "obj_oi = obj_oi[['quantity', 'pcs/m', '% of total', 'rate']]\n",
    "obj_oi.rename(columns={'rate':'fail rate'}, inplace=True)\n",
    "glue('object-inv', obj_oi.round(2), display=False)"
   ]
  },
  {
   "cell_type": "markdown",
   "id": "23b32e79-66da-41e6-8651-dde30da41d2b",
   "metadata": {
    "editable": true,
    "slideshow": {
     "slide_type": ""
    },
    "tags": []
   },
   "source": [
    "```{glue} object-inv\n",
    "```\n",
    "---"
   ]
  },
  {
   "cell_type": "markdown",
   "id": "5bca0d5f-c0c1-49bf-b1b5-4eadc3a0551a",
   "metadata": {
    "editable": true,
    "slideshow": {
     "slide_type": ""
    },
    "tags": []
   },
   "source": [
    "## How much of the items can you identify ?\n",
    "\n",
    "Preventing or mittigating plastics in the environment depends on how well you can identify the objects that are present.\n",
    "\n",
    "### Unidentified items: Gfrags, Gfoams\n",
    "\n",
    "ref: [Bern most common](bern-most-common)\n",
    "\n",
    "There are two categories that are specifically for objects that are found but can not be identified. Note that if an object is found AND it can be indentified but it does not _fit_ into and existing category a new category is created.\n",
    "\n",
    "### Conclusion, notes and actions\n",
    "\n",
    "__Conclusion:__ __About 20% of the objects found in the canton were unidentified.__ \n",
    "\n",
    "__Notes:__ The correct idenitification of objects is a team effort. Surveyors with little experience tend to have a greater percentage of unidentified objects in their surveys.\n",
    "\n",
    "__Recommended actions:__ Stakeholders should define a list of objects that can be standardized and take into account observations in the field. Encourage joint operations with surveyors from different regions. Items that are rare in one location maybe fairly common elsewhere.\n",
    "\n",
    "---\n"
   ]
  },
  {
   "cell_type": "markdown",
   "id": "aff52a36-ef5b-4493-b07c-92a2ae954d37",
   "metadata": {
    "editable": true,
    "slideshow": {
     "slide_type": ""
    },
    "tags": []
   },
   "source": [
    "(canton-common)=\n",
    "## What objects are common to all cantons ?\n",
    "\n",
    "ref: [Combined cantons](combined-most-common)\n",
    "\n",
    "ref: [Bern most common](bern-most-common)\n",
    "\n",
    "### Use the most common items\n",
    "\n",
    "For each report their is a detail of the most common items. If we use the combined results this will tell you, given the results from all the lakes and the cantons under consideration, exactly what the most common items are.\n",
    "::::{grid} 1 2 2 2 \n",
    "\n",
    ":::{grid-item-card}\n",
    "\n",
    "__Common to all cantons__\n",
    "\n",
    "1. Fragmented plastics \n",
    "2. Cigarette filters \n",
    "3. Expanded polystyrene \n",
    "4. Food wrappers; candy, snacks \t\n",
    "5. Industrial sheeting \t\n",
    "6. Industrial pellets (nurdles) \t\n",
    "7. plastic caps, lid rings: G21, G22, G23, G24 \t\n",
    "8. Glass drink bottles, pieces\n",
    "9. Foam packaging/insulation/polyurethane \n",
    "10. Cotton bud/swab sticks \t\n",
    "11. Plastic construction waste \n",
    "12. Metal bottle caps, lids & pull tabs from cans \t\n",
    "13. Tobacco; plastic packaging, containers \t\n",
    "14. Foil wrappers, aluminum foil \t\n",
    "15. Straws and stirrers\n",
    "\n",
    ":::\n",
    "\n",
    ":::{grid-item-card}\n",
    "\n",
    "__Common to Bern__\n",
    "\n",
    "1. Cigarette filters\n",
    "2. Fragmented plastics \n",
    "3. Industrial sheeting \n",
    "4. Food wrappers; candy, snacks \n",
    "5. Expanded polystyrene \n",
    "6. Glass drink bottles, pieces\n",
    "7. Packaging films nonfood or unknown\n",
    "8. Foam packaging/insulation/polyurethane\n",
    "9. plastic caps, lid rings: G21, G22, G23, G24\n",
    "10. Industrial pellets (nurdles)\n",
    "11. Plastic construction waste \n",
    "12. Fireworks; rocket caps, exploded parts & packaging \t\n",
    "13. Cotton bud/swab sticks \t\n",
    "14. Tobacco; plastic packaging, containers \t\n",
    "15. Foil wrappers, aluminum foil\n",
    "\n",
    "::: \n",
    "::::\n",
    "\n",
    "### Conclusion, notes and actions\n",
    "\n",
    "__Conclusion:__ __14/15 of the most common items in Bern are also common to the rest of the cantons.__\n",
    "\n",
    "__Notes:__ This may be more pertinent for cantons that have a common river or lake.\n",
    "\n",
    "__Recommended actions:__ Neighbor cantons should consult the most common items in their respective areas to find possible points of collaboration.\n",
    "\n",
    "---"
   ]
  },
  {
   "cell_type": "markdown",
   "id": "919abbdc-91ac-4bcf-8d00-9cb4ab455e37",
   "metadata": {
    "editable": true,
    "slideshow": {
     "slide_type": ""
    },
    "tags": []
   },
   "source": [
    "## What is the chance of finding X ?\n",
    "\n",
    "How often an object or category of objects is found is an excellent indeicator of the distribution of the item in the environment.\n",
    "\n",
    "### Use the most common or the object inventory\n",
    "\n",
    "ref: [Combined cantons](combined-most-common)\n",
    "\n",
    "__How likely are you to find:__\n",
    "\n",
    "1. PET bottle on the shore of a lake in Bern: about 7% of surveys will yield a plastic bottle\n",
    "2. Plastic bottle top: about 65% of surveys will yield a plastic bottle top\n",
    "3. Diaper of babywipe: 22% of surveys will yield a diaper or babywipe\n",
    "\n",
    "\n",
    "\n",
    "__Conclusion:__ The standard report will tell you how likely you are to find at least one an object.\n",
    "\n",
    "__Notes:__ This is a simple calculation using the most likely estimate of a binomial distribution.\n",
    "\n",
    "__Recommended actions:__ None"
   ]
  },
  {
   "cell_type": "code",
   "execution_count": null,
   "id": "d72eedc1-aff8-418e-ae42-de9e07013454",
   "metadata": {
    "editable": true,
    "slideshow": {
     "slide_type": ""
    },
    "tags": []
   },
   "outputs": [],
   "source": []
  }
 ],
 "metadata": {
  "kernelspec": {
   "display_name": "Python 3 (ipykernel)",
   "language": "python",
   "name": "python3"
  },
  "language_info": {
   "codemirror_mode": {
    "name": "ipython",
    "version": 3
   },
   "file_extension": ".py",
   "mimetype": "text/x-python",
   "name": "python",
   "nbconvert_exporter": "python",
   "pygments_lexer": "ipython3",
   "version": "3.9.19"
  }
 },
 "nbformat": 4,
 "nbformat_minor": 5
}
