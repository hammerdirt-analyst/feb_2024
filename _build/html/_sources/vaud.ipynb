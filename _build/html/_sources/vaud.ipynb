{
 "cells": [
  {
   "cell_type": "code",
   "execution_count": 1,
   "id": "5bf92247-ef77-4aae-b62f-9388cba6765e",
   "metadata": {
    "editable": true,
    "jupyter": {
     "source_hidden": true
    },
    "slideshow": {
     "slide_type": ""
    },
    "tags": [
     "remove-input"
    ]
   },
   "outputs": [],
   "source": [
    "import session_config\n",
    "import reports\n",
    "import userdisplay\n",
    "import geospatial\n",
    "import gridforecast as gfcast\n",
    "\n",
    "import logging\n",
    "\n",
    "import pandas as pd\n",
    "import numpy as np\n",
    "import matplotlib.pyplot as plt\n",
    "import matplotlib as mpl\n",
    "import matplotlib.colors\n",
    "from matplotlib.colors import LinearSegmentedColormap, ListedColormap\n",
    "import seaborn as sns\n",
    "import datetime as dt\n",
    "\n",
    "from myst_nb import glue\n",
    "from IPython.display import display, Markdown\n",
    "\n",
    "def display_forecast(fcast_summary):\n",
    "    average = fcast_summary['average']\n",
    "    hdi_min, hdi_max = fcast_summary['hdi'][0], fcast_summary['hdi'][1]\n",
    "    \n",
    "    range_90_min, range_90_max= fcast_summary['range'][0], fcast_summary['range'][-1]\n",
    "    alist = f'\\n* Average: {round(average, 2)}\\n* HDI 95%: {round(hdi_min, 2)} - {round(hdi_max, 2)}\\n* 90% Range: {round(range_90_min, 2)} - {round(range_90_max,2)}'\n",
    "    return alist\n",
    "\n",
    "logging.basicConfig(\n",
    "    filename='app.log', \n",
    "    level=logging.DEBUG,\n",
    "    format='%(asctime)s - %(name)s - %(levelname)s - %(message)s'\n",
    ")\n",
    "\n",
    "logger = logging.getLogger(__name__)\n",
    "# daa520\n",
    "# deb887\n",
    "color_style = {'prior':'color: #daa520', 'likelihood':'color: #1e90ff'}\n",
    "palette = {'prior':'goldenrod', 'likelihood':'dodgerblue'}"
   ]
  },
  {
   "cell_type": "markdown",
   "id": "d2d5a3de-1688-4113-95ce-bf614dbf9695",
   "metadata": {
    "editable": true,
    "slideshow": {
     "slide_type": ""
    },
    "tags": []
   },
   "source": [
    "\n",
    "\n",
    "\n"
   ]
  },
  {
   "cell_type": "code",
   "execution_count": 2,
   "id": "fb4d8635-eb6f-402a-9cd6-8be9c76cce30",
   "metadata": {
    "editable": true,
    "slideshow": {
     "slide_type": ""
    },
    "tags": [
     "remove-input"
    ]
   },
   "outputs": [],
   "source": [
    "data = session_config.collect_survey_data()\n",
    "o_dates = {'start':'2020-01-01', 'end':'2021-12-31'}\n",
    "prior_dates = {'start':'2015-11-15', 'end':'2019-12-31'}\n",
    "\n",
    "canton = 'Vaud'\n",
    "d= data.reset_index(drop=True)\n",
    "o_prior = d[(d.canton != canton)&(d['date'] <= prior_dates['end'])].copy()\n",
    "o_report, o_land_use = gfcast.make_report_objects(o_prior)\n",
    "results = gfcast.reports_and_forecast({'canton':canton, 'date_range':o_dates}, {'canton':canton, 'date_range':prior_dates}, ldata=d.copy(), logger=logger, other_data=o_land_use.df_cat)\n",
    "\n",
    "c_all = d[d.canton == canton].reset_index(drop=True)\n",
    "\n",
    "call_surveys, call_land = gfcast.make_report_objects(c_all)\n",
    "\n",
    "# collect the results from the prior and the likelihood\n",
    "prr_all= results['prior_report'].sample_results.groupby('sample_id')['pcs/m'].sum()\n",
    "lkl_all  = results['this_report'].sample_results.groupby('sample_id')['pcs/m'].sum()\n",
    "\n",
    "# consider all values\n",
    "xii = results['posterior_no_limit'].sample_posterior()\n",
    "\n",
    "# limit to the 99th percentile\n",
    "sample_values, posterior, summary_simple = gfcast.dirichlet_posterior(results['posterior_99'])"
   ]
  },
  {
   "cell_type": "code",
   "execution_count": 3,
   "id": "968f5987-6cda-4e69-ae20-a093a06318d8",
   "metadata": {
    "editable": true,
    "jupyter": {
     "source_hidden": true
    },
    "slideshow": {
     "slide_type": ""
    },
    "tags": [
     "remove-input"
    ]
   },
   "outputs": [],
   "source": [
    "t = call_surveys.inventory()\n",
    "t['material'] = t.index.map(lambda x: userdisplay.code_material.loc[x, 'material'])\n",
    "material_report = t.groupby(['material']).quantity.sum()\n",
    "mr = material_report/sum(material_report)\n",
    "mr = (mr*100).astype(int)\n",
    "mr = pd.DataFrame(mr[mr > 1])\n",
    "mr['% of total'] = mr.quantity.apply(lambda x: f'{x}%')\n",
    "mr = mr[['% of total']]\n",
    "mr = mr.style.set_table_styles(userdisplay.table_css_styles)"
   ]
  },
  {
   "cell_type": "code",
   "execution_count": 4,
   "id": "afc970a2-f8e5-49f5-9c90-2faeace72ba9",
   "metadata": {
    "editable": true,
    "slideshow": {
     "slide_type": ""
    },
    "tags": [
     "remove-input"
    ]
   },
   "outputs": [
    {
     "data": {
      "application/papermill.record/image/png": "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",
      "application/papermill.record/text/plain": "<Figure size 640x480 with 1 Axes>"
     },
     "metadata": {
      "scrapbook": {
       "mime_prefix": "application/papermill.record/",
       "name": "prior-likelihood"
      }
     },
     "output_type": "display_data"
    }
   ],
   "source": [
    "fig, ax = plt.subplots()\n",
    "\n",
    "o_surveys = results['this_report'].sample_results\n",
    "p_surveys = results['prior_report'] .sample_results\n",
    "\n",
    "sns.histplot(data=o_surveys, x='pcs/m', stat='probability', label='observed', ax=ax, color=palette['likelihood'])\n",
    "sns.histplot(data=p_surveys, x='pcs/m', stat='probability', label='prior',ax=ax, color=palette['prior'])\n",
    "ax.legend()\n",
    "plt.tight_layout()\n",
    "glue('prior-likelihood', fig, display=False)\n",
    "plt.close()"
   ]
  },
  {
   "cell_type": "code",
   "execution_count": 5,
   "id": "4deb3031-9632-4489-9031-9c3e223abd4f",
   "metadata": {
    "editable": true,
    "slideshow": {
     "slide_type": ""
    },
    "tags": [
     "remove-input"
    ]
   },
   "outputs": [],
   "source": [
    "lkl_lv = results['this_land_use']\n",
    "weights = gfcast.land_use_weights(lkl_lv, session_config.feature_variables)\n",
    "g,w  =gfcast.select_prior_data_by_feature_weight(o_land_use.df_cat, weights, session_config.feature_variables)\n",
    "posterior_by_weight, c  = gfcast.posterior_dirichlet_counts(lkl_all, g['pcs/m'].values)\n",
    "t, y, u= gfcast.dirichlet_posterior(posterior_by_weight)"
   ]
  },
  {
   "cell_type": "code",
   "execution_count": 6,
   "id": "e04e4514-4926-445c-858c-857e5c4c5ca4",
   "metadata": {
    "editable": true,
    "jupyter": {
     "source_hidden": true
    },
    "slideshow": {
     "slide_type": ""
    },
    "tags": [
     "remove-input"
    ]
   },
   "outputs": [
    {
     "data": {
      "application/papermill.record/image/png": "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",
      "application/papermill.record/text/plain": "<Figure size 640x480 with 1 Axes>"
     },
     "metadata": {
      "scrapbook": {
       "mime_prefix": "application/papermill.record/",
       "name": "cumumlative-dist-forecast-prior"
      }
     },
     "output_type": "display_data"
    }
   ],
   "source": [
    "fig, ax = plt.subplots()\n",
    "\n",
    "sns.ecdfplot(prr_all, label='prior', ls='-', ax=ax, c=palette['prior'], zorder=1)\n",
    "sns.ecdfplot(lkl_all, label='observed', ls='-', ax=ax, c=palette['likelihood'], zorder=1)\n",
    "sns.ecdfplot(sample_values, label='expected 99%', ls=':', zorder=2)\n",
    "sns.ecdfplot(xii, label='expected max', ls='-.', zorder=2)\n",
    "sns.ecdfplot(t, label='weighted prior', c='black', ls='--', lw=2, ax=ax, zorder=5)\n",
    "ax.set_xlim(-.1, 10)\n",
    "ax.legend()\n",
    "plt.tight_layout()\n",
    "glue('cumumlative-dist-forecast-prior', fig, display=False)\n",
    "plt.close()"
   ]
  },
  {
   "cell_type": "code",
   "execution_count": 7,
   "id": "d504b355-6ec4-4d6d-b9d6-3459215fcb8b",
   "metadata": {
    "editable": true,
    "jupyter": {
     "source_hidden": true
    },
    "slideshow": {
     "slide_type": ""
    },
    "tags": [
     "remove-input"
    ]
   },
   "outputs": [
    {
     "data": {
      "application/papermill.record/text/html": "<style type=\"text/css\">\n#T_63b06 tr:nth-child(even) {\n  background-color: rgba(139, 69, 19, 0.08);\n}\n#T_63b06 tr:nth-child(odd) {\n  background: #FFF;\n}\n#T_63b06 tr {\n  font-size: 10px;\n}\n#T_63b06 th {\n  background-color: #FFF;\n  font-size: 12px;\n  text-align: left;\n  width: auto;\n  word-break: keep-all;\n}\n#T_63b06 td {\n  padding: 4px;\n  font-size: 12px;\n  text-align: center;\n}\n#T_63b06 caption {\n  caption-side: bottom;\n  font-size: 1em;\n  text-align: left;\n}\n</style>\n<table id=\"T_63b06\">\n  <thead>\n    <tr>\n      <th class=\"blank level0\" >&nbsp;</th>\n      <th id=\"T_63b06_level0_col0\" class=\"col_heading level0 col0\" >% of total</th>\n    </tr>\n    <tr>\n      <th class=\"index_name level0\" >material</th>\n      <th class=\"blank col0\" >&nbsp;</th>\n    </tr>\n  </thead>\n  <tbody>\n    <tr>\n      <th id=\"T_63b06_level0_row0\" class=\"row_heading level0 row0\" >glass</th>\n      <td id=\"T_63b06_row0_col0\" class=\"data row0 col0\" >6%</td>\n    </tr>\n    <tr>\n      <th id=\"T_63b06_level0_row1\" class=\"row_heading level0 row1\" >metal</th>\n      <td id=\"T_63b06_row1_col0\" class=\"data row1 col0\" >3%</td>\n    </tr>\n    <tr>\n      <th id=\"T_63b06_level0_row2\" class=\"row_heading level0 row2\" >paper</th>\n      <td id=\"T_63b06_row2_col0\" class=\"data row2 col0\" >2%</td>\n    </tr>\n    <tr>\n      <th id=\"T_63b06_level0_row3\" class=\"row_heading level0 row3\" >plastic</th>\n      <td id=\"T_63b06_row3_col0\" class=\"data row3 col0\" >86%</td>\n    </tr>\n  </tbody>\n</table>\n",
      "application/papermill.record/text/plain": "<pandas.io.formats.style.Styler at 0x72cb24ea0b80>"
     },
     "metadata": {
      "scrapbook": {
       "mime_prefix": "application/papermill.record/",
       "name": "material-report"
      }
     },
     "output_type": "display_data"
    },
    {
     "data": {
      "application/papermill.record/text/markdown": "__Given the observed max__\n* Average: 16.56\n* HDI 95%: 0.1 - 61.41\n* 90% Range: 0.46 - 66.17",
      "application/papermill.record/text/plain": "<IPython.core.display.Markdown object>"
     },
     "metadata": {
      "scrapbook": {
       "mime_prefix": "application/papermill.record/",
       "name": "forecast-weighted-prior"
      }
     },
     "output_type": "display_data"
    },
    {
     "data": {
      "application/papermill.record/text/markdown": "__Given the 99th percentile of all observed samples__\n* Average: 9.85\n* HDI 95%: 0.3 - 35.3\n* 90% Range: 0.88 - 33.68",
      "application/papermill.record/text/plain": "<IPython.core.display.Markdown object>"
     },
     "metadata": {
      "scrapbook": {
       "mime_prefix": "application/papermill.record/",
       "name": "forecast-all-prior"
      }
     },
     "output_type": "display_data"
    },
    {
     "data": {
      "application/papermill.record/text/markdown": "The most common objects account for 79% of all objects",
      "application/papermill.record/text/plain": "<IPython.core.display.Markdown object>"
     },
     "metadata": {
      "scrapbook": {
       "mime_prefix": "application/papermill.record/",
       "name": "ratio-most-common"
      }
     },
     "output_type": "display_data"
    },
    {
     "data": {
      "application/papermill.record/text/html": "<style type=\"text/css\">\n#T_e5f4e tr:nth-child(even) {\n  background-color: rgba(139, 69, 19, 0.08);\n}\n#T_e5f4e tr:nth-child(odd) {\n  background: #FFF;\n}\n#T_e5f4e tr {\n  font-size: 10px;\n}\n#T_e5f4e th {\n  background-color: #FFF;\n  font-size: 12px;\n  text-align: left;\n  width: auto;\n  word-break: keep-all;\n}\n#T_e5f4e td {\n  padding: 4px;\n  font-size: 12px;\n  text-align: center;\n}\n#T_e5f4e caption {\n  caption-side: top;\n  font-size: 1em;\n  text-align: left;\n  margin-bottom: 10px;\n}\n#T_e5f4e caption {\n  caption-side: top;\n  font-size: .9em;\n  text-align: left;\n  font-style: italic;\n  color: #000;\n}\n#T_e5f4e td:nth-child(1) {\n  text-align: left;\n}\n</style>\n<table id=\"T_e5f4e\">\n  <thead>\n    <tr>\n      <th id=\"T_e5f4e_level0_col0\" class=\"col_heading level0 col0\" >Object</th>\n      <th id=\"T_e5f4e_level0_col1\" class=\"col_heading level0 col1\" >Quantity</th>\n      <th id=\"T_e5f4e_level0_col2\" class=\"col_heading level0 col2\" >pcs/m</th>\n      <th id=\"T_e5f4e_level0_col3\" class=\"col_heading level0 col3\" >% of total</th>\n      <th id=\"T_e5f4e_level0_col4\" class=\"col_heading level0 col4\" >Fail rate</th>\n    </tr>\n  </thead>\n  <tbody>\n    <tr>\n      <td id=\"T_e5f4e_row0_col0\" class=\"data row0 col0\" >Fragmented plastics</td>\n      <td id=\"T_e5f4e_row0_col1\" class=\"data row0 col1\" >2'924</td>\n      <td id=\"T_e5f4e_row0_col2\" class=\"data row0 col2\" >1,27</td>\n      <td id=\"T_e5f4e_row0_col3\" class=\"data row0 col3\" >0,16</td>\n      <td id=\"T_e5f4e_row0_col4\" class=\"data row0 col4\" >0,96</td>\n    </tr>\n    <tr>\n      <td id=\"T_e5f4e_row1_col0\" class=\"data row1 col0\" >Cigarette filters</td>\n      <td id=\"T_e5f4e_row1_col1\" class=\"data row1 col1\" >2'412</td>\n      <td id=\"T_e5f4e_row1_col2\" class=\"data row1 col2\" >0,80</td>\n      <td id=\"T_e5f4e_row1_col3\" class=\"data row1 col3\" >0,13</td>\n      <td id=\"T_e5f4e_row1_col4\" class=\"data row1 col4\" >0,92</td>\n    </tr>\n    <tr>\n      <td id=\"T_e5f4e_row2_col0\" class=\"data row2 col0\" >Expanded polystyrene</td>\n      <td id=\"T_e5f4e_row2_col1\" class=\"data row2 col1\" >2'144</td>\n      <td id=\"T_e5f4e_row2_col2\" class=\"data row2 col2\" >0,89</td>\n      <td id=\"T_e5f4e_row2_col3\" class=\"data row2 col3\" >0,12</td>\n      <td id=\"T_e5f4e_row2_col4\" class=\"data row2 col4\" >0,82</td>\n    </tr>\n    <tr>\n      <td id=\"T_e5f4e_row3_col0\" class=\"data row3 col0\" >Food wrappers; candy, snacks</td>\n      <td id=\"T_e5f4e_row3_col1\" class=\"data row3 col1\" >1'140</td>\n      <td id=\"T_e5f4e_row3_col2\" class=\"data row3 col2\" >0,33</td>\n      <td id=\"T_e5f4e_row3_col3\" class=\"data row3 col3\" >0,06</td>\n      <td id=\"T_e5f4e_row3_col4\" class=\"data row3 col4\" >0,94</td>\n    </tr>\n    <tr>\n      <td id=\"T_e5f4e_row4_col0\" class=\"data row4 col0\" >Industrial pellets (nurdles)</td>\n      <td id=\"T_e5f4e_row4_col1\" class=\"data row4 col1\" >959</td>\n      <td id=\"T_e5f4e_row4_col2\" class=\"data row4 col2\" >0,39</td>\n      <td id=\"T_e5f4e_row4_col3\" class=\"data row4 col3\" >0,05</td>\n      <td id=\"T_e5f4e_row4_col4\" class=\"data row4 col4\" >0,45</td>\n    </tr>\n    <tr>\n      <td id=\"T_e5f4e_row5_col0\" class=\"data row5 col0\" >Cotton bud/swab sticks</td>\n      <td id=\"T_e5f4e_row5_col1\" class=\"data row5 col1\" >679</td>\n      <td id=\"T_e5f4e_row5_col2\" class=\"data row5 col2\" >0,23</td>\n      <td id=\"T_e5f4e_row5_col3\" class=\"data row5 col3\" >0,04</td>\n      <td id=\"T_e5f4e_row5_col4\" class=\"data row5 col4\" >0,80</td>\n    </tr>\n    <tr>\n      <td id=\"T_e5f4e_row6_col0\" class=\"data row6 col0\" >Industrial sheeting</td>\n      <td id=\"T_e5f4e_row6_col1\" class=\"data row6 col1\" >656</td>\n      <td id=\"T_e5f4e_row6_col2\" class=\"data row6 col2\" >0,19</td>\n      <td id=\"T_e5f4e_row6_col3\" class=\"data row6 col3\" >0,04</td>\n      <td id=\"T_e5f4e_row6_col4\" class=\"data row6 col4\" >0,83</td>\n    </tr>\n    <tr>\n      <td id=\"T_e5f4e_row7_col0\" class=\"data row7 col0\" >Foam packaging/insulation/polyurethane</td>\n      <td id=\"T_e5f4e_row7_col1\" class=\"data row7 col1\" >630</td>\n      <td id=\"T_e5f4e_row7_col2\" class=\"data row7 col2\" >0,12</td>\n      <td id=\"T_e5f4e_row7_col3\" class=\"data row7 col3\" >0,03</td>\n      <td id=\"T_e5f4e_row7_col4\" class=\"data row7 col4\" >1,12</td>\n    </tr>\n    <tr>\n      <td id=\"T_e5f4e_row8_col0\" class=\"data row8 col0\" >plastic caps, lid rings: G21, G22, G23, G24</td>\n      <td id=\"T_e5f4e_row8_col1\" class=\"data row8 col1\" >568</td>\n      <td id=\"T_e5f4e_row8_col2\" class=\"data row8 col2\" >0,17</td>\n      <td id=\"T_e5f4e_row8_col3\" class=\"data row8 col3\" >0,03</td>\n      <td id=\"T_e5f4e_row8_col4\" class=\"data row8 col4\" >0,84</td>\n    </tr>\n    <tr>\n      <td id=\"T_e5f4e_row9_col0\" class=\"data row9 col0\" >Styrofoam < 5mm</td>\n      <td id=\"T_e5f4e_row9_col1\" class=\"data row9 col1\" >547</td>\n      <td id=\"T_e5f4e_row9_col2\" class=\"data row9 col2\" >0,19</td>\n      <td id=\"T_e5f4e_row9_col3\" class=\"data row9 col3\" >0,03</td>\n      <td id=\"T_e5f4e_row9_col4\" class=\"data row9 col4\" >0,29</td>\n    </tr>\n    <tr>\n      <td id=\"T_e5f4e_row10_col0\" class=\"data row10 col0\" >Glass drink bottles, pieces</td>\n      <td id=\"T_e5f4e_row10_col1\" class=\"data row10 col1\" >459</td>\n      <td id=\"T_e5f4e_row10_col2\" class=\"data row10 col2\" >0,16</td>\n      <td id=\"T_e5f4e_row10_col3\" class=\"data row10 col3\" >0,03</td>\n      <td id=\"T_e5f4e_row10_col4\" class=\"data row10 col4\" >0,61</td>\n    </tr>\n    <tr>\n      <td id=\"T_e5f4e_row11_col0\" class=\"data row11 col0\" >Plastic construction waste</td>\n      <td id=\"T_e5f4e_row11_col1\" class=\"data row11 col1\" >279</td>\n      <td id=\"T_e5f4e_row11_col2\" class=\"data row11 col2\" >0,08</td>\n      <td id=\"T_e5f4e_row11_col3\" class=\"data row11 col3\" >0,02</td>\n      <td id=\"T_e5f4e_row11_col4\" class=\"data row11 col4\" >0,65</td>\n    </tr>\n    <tr>\n      <td id=\"T_e5f4e_row12_col0\" class=\"data row12 col0\" >Straws and stirrers</td>\n      <td id=\"T_e5f4e_row12_col1\" class=\"data row12 col1\" >188</td>\n      <td id=\"T_e5f4e_row12_col2\" class=\"data row12 col2\" >0,06</td>\n      <td id=\"T_e5f4e_row12_col3\" class=\"data row12 col3\" >0,01</td>\n      <td id=\"T_e5f4e_row12_col4\" class=\"data row12 col4\" >0,67</td>\n    </tr>\n    <tr>\n      <td id=\"T_e5f4e_row13_col0\" class=\"data row13 col0\" >Foil wrappers, aluminum foil</td>\n      <td id=\"T_e5f4e_row13_col1\" class=\"data row13 col1\" >161</td>\n      <td id=\"T_e5f4e_row13_col2\" class=\"data row13 col2\" >0,05</td>\n      <td id=\"T_e5f4e_row13_col3\" class=\"data row13 col3\" >0,01</td>\n      <td id=\"T_e5f4e_row13_col4\" class=\"data row13 col4\" >0,57</td>\n    </tr>\n    <tr>\n      <td id=\"T_e5f4e_row14_col0\" class=\"data row14 col0\" >Tobacco; plastic packaging, containers</td>\n      <td id=\"T_e5f4e_row14_col1\" class=\"data row14 col1\" >156</td>\n      <td id=\"T_e5f4e_row14_col2\" class=\"data row14 col2\" >0,05</td>\n      <td id=\"T_e5f4e_row14_col3\" class=\"data row14 col3\" >0,01</td>\n      <td id=\"T_e5f4e_row14_col4\" class=\"data row14 col4\" >0,53</td>\n    </tr>\n    <tr>\n      <td id=\"T_e5f4e_row15_col0\" class=\"data row15 col0\" >Lollypop sticks</td>\n      <td id=\"T_e5f4e_row15_col1\" class=\"data row15 col1\" >146</td>\n      <td id=\"T_e5f4e_row15_col2\" class=\"data row15 col2\" >0,05</td>\n      <td id=\"T_e5f4e_row15_col3\" class=\"data row15 col3\" >0,01</td>\n      <td id=\"T_e5f4e_row15_col4\" class=\"data row15 col4\" >0,63</td>\n    </tr>\n    <tr>\n      <td id=\"T_e5f4e_row16_col0\" class=\"data row16 col0\" >Metal bottle caps, lids & pull tabs from cans</td>\n      <td id=\"T_e5f4e_row16_col1\" class=\"data row16 col1\" >137</td>\n      <td id=\"T_e5f4e_row16_col2\" class=\"data row16 col2\" >0,05</td>\n      <td id=\"T_e5f4e_row16_col3\" class=\"data row16 col3\" >0,01</td>\n      <td id=\"T_e5f4e_row16_col4\" class=\"data row16 col4\" >0,61</td>\n    </tr>\n    <tr>\n      <td id=\"T_e5f4e_row17_col0\" class=\"data row17 col0\" >Medical; containers/tubes/ packaging</td>\n      <td id=\"T_e5f4e_row17_col1\" class=\"data row17 col1\" >132</td>\n      <td id=\"T_e5f4e_row17_col2\" class=\"data row17 col2\" >0,06</td>\n      <td id=\"T_e5f4e_row17_col3\" class=\"data row17 col3\" >0,01</td>\n      <td id=\"T_e5f4e_row17_col4\" class=\"data row17 col4\" >0,57</td>\n    </tr>\n    <tr>\n      <td id=\"T_e5f4e_row18_col0\" class=\"data row18 col0\" >Toys and party favors</td>\n      <td id=\"T_e5f4e_row18_col1\" class=\"data row18 col1\" >111</td>\n      <td id=\"T_e5f4e_row18_col2\" class=\"data row18 col2\" >0,04</td>\n      <td id=\"T_e5f4e_row18_col3\" class=\"data row18 col3\" >0,01</td>\n      <td id=\"T_e5f4e_row18_col4\" class=\"data row18 col4\" >0,58</td>\n    </tr>\n    <tr>\n      <td id=\"T_e5f4e_row19_col0\" class=\"data row19 col0\" >Cups, lids, single use foamed and hard plastic</td>\n      <td id=\"T_e5f4e_row19_col1\" class=\"data row19 col1\" >86</td>\n      <td id=\"T_e5f4e_row19_col2\" class=\"data row19 col2\" >0,02</td>\n      <td id=\"T_e5f4e_row19_col3\" class=\"data row19 col3\" >0,00</td>\n      <td id=\"T_e5f4e_row19_col4\" class=\"data row19 col4\" >0,54</td>\n    </tr>\n  </tbody>\n</table>\n",
      "application/papermill.record/text/plain": "<pandas.io.formats.style.Styler at 0x72cb1838b310>"
     },
     "metadata": {
      "scrapbook": {
       "mime_prefix": "application/papermill.record/",
       "name": "most_common_objects"
      }
     },
     "output_type": "display_data"
    },
    {
     "data": {
      "application/papermill.record/text/markdown": "<font color=#1e90ff>2020-04-28 - 2021-10-07 </font>\n* Number of samples: 89\n* Total number of objects: 18295\n* Average sample count: 6.54\n",
      "application/papermill.record/text/plain": "<IPython.core.display.Markdown object>"
     },
     "metadata": {
      "scrapbook": {
       "mime_prefix": "application/papermill.record/",
       "name": "l-sampling-summary"
      }
     },
     "output_type": "display_data"
    },
    {
     "data": {
      "application/papermill.record/text/markdown": "<font color=#daa520>2015-11-23 - 2019-10-24</font>\n* Number of samples: 142\n* Total number of objects: 44911\n* Average sample count: 8.37\n",
      "application/papermill.record/text/plain": "<IPython.core.display.Markdown object>"
     },
     "metadata": {
      "scrapbook": {
       "mime_prefix": "application/papermill.record/",
       "name": "prior-sampling-summary"
      }
     },
     "output_type": "display_data"
    },
    {
     "data": {
      "application/papermill.record/text/markdown": "__Summary of selected data__\n* Number of samples: 233\n* Total number of objects: 64052\n* Average sample count: 7.69\n* Date of first sample: 2015-11-23\n* Date of last sample: 2022-10-06\n",
      "application/papermill.record/text/plain": "<IPython.core.display.Markdown object>"
     },
     "metadata": {
      "scrapbook": {
       "mime_prefix": "application/papermill.record/",
       "name": "sampling-summary"
      }
     },
     "output_type": "display_data"
    },
    {
     "data": {
      "application/papermill.record/text/markdown": "__Features surveyed__\n* Rivers: 3\n* Lakes: 2\n\n",
      "application/papermill.record/text/plain": "<IPython.core.display.Markdown object>"
     },
     "metadata": {
      "scrapbook": {
       "mime_prefix": "application/papermill.record/",
       "name": "feature-inventory"
      }
     },
     "output_type": "display_data"
    },
    {
     "data": {
      "application/papermill.record/text/markdown": "__Administrative boundaries__\n* Survey locations: 41\n* Cities: 16\n\n",
      "application/papermill.record/text/plain": "<IPython.core.display.Markdown object>"
     },
     "metadata": {
      "scrapbook": {
       "mime_prefix": "application/papermill.record/",
       "name": "administrative-boundaries"
      }
     },
     "output_type": "display_data"
    }
   ],
   "source": [
    "os = results['this_report'].object_summary()\n",
    "os.reset_index(drop=False, inplace=True)\n",
    "\n",
    "# mostcommon objects\n",
    "most_common_objects, mc_codes, proportions = userdisplay.most_common(os)\n",
    "most_common_objects = most_common_objects.set_caption(\"\")\n",
    "\n",
    "\n",
    "new_list = display_forecast(summary_simple)\n",
    "new_list2 = display_forecast(results['posterior_no_limit'].get_descriptive_statistics())\n",
    "new_list1 = Markdown('__Given the 99th percentile of all observed samples__' + new_list)\n",
    "new_list2 = Markdown('__Given the observed max__' + new_list2)\n",
    "\n",
    "\n",
    "feature_inv = call_surveys.feature_inventory()\n",
    "feature_inv.pop('p')\n",
    "feature_inventory = Markdown(userdisplay.feature_inventory(feature_inv, session_language='en'))\n",
    "\n",
    "aboundaries = call_surveys.administrative_boundaries().copy()\n",
    "aboundaries.pop('canton')\n",
    "aboundaries.pop('parent_boundary')\n",
    "administrative_boundaries = Markdown(userdisplay.boundaries(aboundaries, session_language='en'))\n",
    "\n",
    "header = userdisplay.sampling_result_summary(call_surveys.sampling_results_summary, session_language='en')[0]\n",
    "info = userdisplay.sampling_result_summary(call_surveys.sampling_results_summary, session_language='en')[1]\n",
    "samp_sum = Markdown(f'{header}\\n{info}')\n",
    "\n",
    "p_summary = results['prior_report'].sampling_results_summary.copy()\n",
    "p_header = f\"<font color=#daa520>{dt.datetime.strftime(p_summary.pop('start'), format=session_config.date_format)} - {dt.datetime.strftime(p_summary.pop('end'), format=session_config.date_format)}</font>\"\n",
    "p_info = userdisplay.sampling_result_summary(p_summary, session_language='en')[1]\n",
    "p_samp_sum = Markdown(f'{p_header}\\n{p_info}')\n",
    "\n",
    "l_summary = results['this_report'].sampling_results_summary.copy()\n",
    "l_header = f\"<font color=#1e90ff>{dt.datetime.strftime(l_summary.pop('start'), format=session_config.date_format)} - {dt.datetime.strftime(l_summary.pop('end'), format=session_config.date_format)} </font>\"\n",
    "l_info = userdisplay.sampling_result_summary(l_summary, session_language='en')[1]\n",
    "l_samp_sum = Markdown(f'{l_header}\\n{l_info}')\n",
    "\n",
    "ratio_most_common = Markdown(f'The most common objects account for {int(proportions*100)}% of all objects')\n",
    "\n",
    "# one_list = Markdown(f'{feature_inventory}\\n{administrative_boundaries}')\n",
    "glue('material-report', mr, display=False)\n",
    "glue('forecast-weighted-prior', new_list2, display=False)\n",
    "glue('forecast-all-prior', new_list1, display=False)\n",
    "glue('ratio-most-common', ratio_most_common, display=False)\n",
    "glue('most_common_objects', most_common_objects, display=False)\n",
    "glue('l-sampling-summary', l_samp_sum, display=False)\n",
    "glue('prior-sampling-summary', p_samp_sum, display=False)\n",
    "glue('sampling-summary', samp_sum, display=False)\n",
    "glue('feature-inventory', feature_inventory, display=False)\n",
    "glue('administrative-boundaries', administrative_boundaries, display=False)\n"
   ]
  },
  {
   "cell_type": "code",
   "execution_count": 8,
   "id": "a01797ef-c62f-401b-ad2c-9165a1c03610",
   "metadata": {
    "editable": true,
    "jupyter": {
     "source_hidden": true
    },
    "slideshow": {
     "slide_type": ""
    },
    "tags": [
     "remove-input"
    ]
   },
   "outputs": [],
   "source": [
    "# lakes\n",
    "lake_params = {'canton':canton, 'date_range':o_dates, 'feature_type': 'l'}\n",
    "lake_params_p = {'canton':canton, 'date_range':prior_dates, 'feature_type':'l'}\n",
    "d_codes = d[d.code.isin(mc_codes)].reset_index(drop=True)\n",
    "\n",
    "o_prior_l = d[(d.canton != canton)&(d['date'] <= prior_dates['end'])&(d.feature_type == 'l')].copy()\n",
    "o_report_l, o_land_use_l = gfcast.make_report_objects(o_prior_l)\n",
    "\n",
    "lake_results = gfcast.reports_and_forecast(lake_params,lake_params_p , ldata=d.copy(), logger=logger, other_data=o_land_use_l.df_cat)\n",
    "\n",
    "los = lake_results['this_report'].object_summary()\n",
    "los.reset_index(drop=False, inplace=True)\n",
    "l_most_common_objects, lmc_codes , lproportions = userdisplay.most_common(los)\n",
    "l_most_common_objects = l_most_common_objects.set_caption(\"\")\n",
    "\n",
    "# collect the results from the prior and the likelihood\n",
    "prr_l = lake_results['prior_report'].sample_results.groupby('sample_id')['pcs/m'].sum()\n",
    "lkl_l = lake_results['this_report'].sample_results.groupby('sample_id')['pcs/m'].sum()\n",
    "\n",
    "c_all_l = d[(d.canton == canton)&(d.feature_type == 'l')].reset_index(drop=True)\n",
    "\n",
    "call_l_surveys, call__l_land = gfcast.make_report_objects(c_all_l)\n",
    "\n",
    "# consider all values\n",
    "xii = lake_results['posterior_no_limit'].sample_posterior()\n",
    "\n",
    "# limit to the 99th percentile\n",
    "lake_sample_values, lake_posterior, lake_summary_simple = gfcast.dirichlet_posterior(lake_results['posterior_99'])"
   ]
  },
  {
   "cell_type": "code",
   "execution_count": 9,
   "id": "9130d474-2b20-401b-9113-8f2fcfe71278",
   "metadata": {
    "editable": true,
    "jupyter": {
     "source_hidden": true
    },
    "slideshow": {
     "slide_type": ""
    },
    "tags": [
     "remove-input"
    ]
   },
   "outputs": [],
   "source": [
    "t = call_l_surveys.inventory()\n",
    "t['material'] = t.index.map(lambda x: userdisplay.code_material.loc[x, 'material'])\n",
    "material_report = t.groupby(['material']).quantity.sum()\n",
    "mrl = material_report/sum(material_report)\n",
    "mrl = (mrl*100).astype(int)\n",
    "mrl = pd.DataFrame(mrl[mrl > 1])\n",
    "mrl['% of total'] = mrl.quantity.apply(lambda x: f'{x}%')\n",
    "mrl = mrl[['% of total']]\n",
    "mrl = mrl.style.set_table_styles(userdisplay.table_css_styles)"
   ]
  },
  {
   "cell_type": "code",
   "execution_count": 10,
   "id": "7c4884bb-591c-4a52-8862-1fc5352ae6fb",
   "metadata": {
    "editable": true,
    "jupyter": {
     "source_hidden": true
    },
    "slideshow": {
     "slide_type": ""
    },
    "tags": [
     "remove-input"
    ]
   },
   "outputs": [
    {
     "data": {
      "application/papermill.record/image/png": "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",
      "application/papermill.record/text/plain": "<Figure size 640x480 with 1 Axes>"
     },
     "metadata": {
      "scrapbook": {
       "mime_prefix": "application/papermill.record/",
       "name": "lake-prior-likelihood"
      }
     },
     "output_type": "display_data"
    },
    {
     "data": {
      "application/papermill.record/text/html": "<style type=\"text/css\">\n#T_01496 tr:nth-child(even) {\n  background-color: rgba(139, 69, 19, 0.08);\n}\n#T_01496 tr:nth-child(odd) {\n  background: #FFF;\n}\n#T_01496 tr {\n  font-size: 10px;\n}\n#T_01496 th {\n  background-color: #FFF;\n  font-size: 12px;\n  text-align: left;\n  width: auto;\n  word-break: keep-all;\n}\n#T_01496 td {\n  padding: 4px;\n  font-size: 12px;\n  text-align: center;\n}\n#T_01496 caption {\n  caption-side: bottom;\n  font-size: 1em;\n  text-align: left;\n}\n</style>\n<table id=\"T_01496\">\n  <thead>\n    <tr>\n      <th class=\"blank level0\" >&nbsp;</th>\n      <th id=\"T_01496_level0_col0\" class=\"col_heading level0 col0\" >% of total</th>\n    </tr>\n    <tr>\n      <th class=\"index_name level0\" >material</th>\n      <th class=\"blank col0\" >&nbsp;</th>\n    </tr>\n  </thead>\n  <tbody>\n    <tr>\n      <th id=\"T_01496_level0_row0\" class=\"row_heading level0 row0\" >glass</th>\n      <td id=\"T_01496_row0_col0\" class=\"data row0 col0\" >6%</td>\n    </tr>\n    <tr>\n      <th id=\"T_01496_level0_row1\" class=\"row_heading level0 row1\" >metal</th>\n      <td id=\"T_01496_row1_col0\" class=\"data row1 col0\" >3%</td>\n    </tr>\n    <tr>\n      <th id=\"T_01496_level0_row2\" class=\"row_heading level0 row2\" >paper</th>\n      <td id=\"T_01496_row2_col0\" class=\"data row2 col0\" >2%</td>\n    </tr>\n    <tr>\n      <th id=\"T_01496_level0_row3\" class=\"row_heading level0 row3\" >plastic</th>\n      <td id=\"T_01496_row3_col0\" class=\"data row3 col0\" >86%</td>\n    </tr>\n  </tbody>\n</table>\n",
      "application/papermill.record/text/plain": "<pandas.io.formats.style.Styler at 0x72cb18399970>"
     },
     "metadata": {
      "scrapbook": {
       "mime_prefix": "application/papermill.record/",
       "name": "lake-material-report"
      }
     },
     "output_type": "display_data"
    },
    {
     "data": {
      "application/papermill.record/text/markdown": "__Given the 99th percentile of all observed samples__\n* Average: 7.57\n* HDI 95%: 0.2 - 27.4\n* 90% Range: 1.46 - 24.45",
      "application/papermill.record/text/plain": "<IPython.core.display.Markdown object>"
     },
     "metadata": {
      "scrapbook": {
       "mime_prefix": "application/papermill.record/",
       "name": "lake-forecast-99-list"
      }
     },
     "output_type": "display_data"
    },
    {
     "data": {
      "application/papermill.record/text/markdown": "__Given the observed max__\n* Average: 16.6\n* HDI 95%: 0.1 - 56.93\n* 90% Range: 0.74 - 56.4",
      "application/papermill.record/text/plain": "<IPython.core.display.Markdown object>"
     },
     "metadata": {
      "scrapbook": {
       "mime_prefix": "application/papermill.record/",
       "name": "lake-forecast-max-list"
      }
     },
     "output_type": "display_data"
    },
    {
     "data": {
      "application/papermill.record/text/markdown": "The most common objects account for 81% of all objects",
      "application/papermill.record/text/plain": "<IPython.core.display.Markdown object>"
     },
     "metadata": {
      "scrapbook": {
       "mime_prefix": "application/papermill.record/",
       "name": "lake-ratio-most-common"
      }
     },
     "output_type": "display_data"
    },
    {
     "data": {
      "application/papermill.record/text/html": "<style type=\"text/css\">\n#T_b5e8c tr:nth-child(even) {\n  background-color: rgba(139, 69, 19, 0.08);\n}\n#T_b5e8c tr:nth-child(odd) {\n  background: #FFF;\n}\n#T_b5e8c tr {\n  font-size: 10px;\n}\n#T_b5e8c th {\n  background-color: #FFF;\n  font-size: 12px;\n  text-align: left;\n  width: auto;\n  word-break: keep-all;\n}\n#T_b5e8c td {\n  padding: 4px;\n  font-size: 12px;\n  text-align: center;\n}\n#T_b5e8c caption {\n  caption-side: top;\n  font-size: 1em;\n  text-align: left;\n  margin-bottom: 10px;\n}\n#T_b5e8c caption {\n  caption-side: top;\n  font-size: .9em;\n  text-align: left;\n  font-style: italic;\n  color: #000;\n}\n#T_b5e8c td:nth-child(1) {\n  text-align: left;\n}\n</style>\n<table id=\"T_b5e8c\">\n  <thead>\n    <tr>\n      <th id=\"T_b5e8c_level0_col0\" class=\"col_heading level0 col0\" >Object</th>\n      <th id=\"T_b5e8c_level0_col1\" class=\"col_heading level0 col1\" >Quantity</th>\n      <th id=\"T_b5e8c_level0_col2\" class=\"col_heading level0 col2\" >pcs/m</th>\n      <th id=\"T_b5e8c_level0_col3\" class=\"col_heading level0 col3\" >% of total</th>\n      <th id=\"T_b5e8c_level0_col4\" class=\"col_heading level0 col4\" >Fail rate</th>\n    </tr>\n  </thead>\n  <tbody>\n    <tr>\n      <td id=\"T_b5e8c_row0_col0\" class=\"data row0 col0\" >Fragmented plastics</td>\n      <td id=\"T_b5e8c_row0_col1\" class=\"data row0 col1\" >2'920</td>\n      <td id=\"T_b5e8c_row0_col2\" class=\"data row0 col2\" >1,32</td>\n      <td id=\"T_b5e8c_row0_col3\" class=\"data row0 col3\" >0,17</td>\n      <td id=\"T_b5e8c_row0_col4\" class=\"data row0 col4\" >0,98</td>\n    </tr>\n    <tr>\n      <td id=\"T_b5e8c_row1_col0\" class=\"data row1 col0\" >Cigarette filters</td>\n      <td id=\"T_b5e8c_row1_col1\" class=\"data row1 col1\" >2'410</td>\n      <td id=\"T_b5e8c_row1_col2\" class=\"data row1 col2\" >0,84</td>\n      <td id=\"T_b5e8c_row1_col3\" class=\"data row1 col3\" >0,14</td>\n      <td id=\"T_b5e8c_row1_col4\" class=\"data row1 col4\" >0,94</td>\n    </tr>\n    <tr>\n      <td id=\"T_b5e8c_row2_col0\" class=\"data row2 col0\" >Expanded polystyrene</td>\n      <td id=\"T_b5e8c_row2_col1\" class=\"data row2 col1\" >2'141</td>\n      <td id=\"T_b5e8c_row2_col2\" class=\"data row2 col2\" >0,93</td>\n      <td id=\"T_b5e8c_row2_col3\" class=\"data row2 col3\" >0,12</td>\n      <td id=\"T_b5e8c_row2_col4\" class=\"data row2 col4\" >0,84</td>\n    </tr>\n    <tr>\n      <td id=\"T_b5e8c_row3_col0\" class=\"data row3 col0\" >Food wrappers; candy, snacks</td>\n      <td id=\"T_b5e8c_row3_col1\" class=\"data row3 col1\" >1'123</td>\n      <td id=\"T_b5e8c_row3_col2\" class=\"data row3 col2\" >0,35</td>\n      <td id=\"T_b5e8c_row3_col3\" class=\"data row3 col3\" >0,06</td>\n      <td id=\"T_b5e8c_row3_col4\" class=\"data row3 col4\" >0,95</td>\n    </tr>\n    <tr>\n      <td id=\"T_b5e8c_row4_col0\" class=\"data row4 col0\" >Industrial pellets (nurdles)</td>\n      <td id=\"T_b5e8c_row4_col1\" class=\"data row4 col1\" >959</td>\n      <td id=\"T_b5e8c_row4_col2\" class=\"data row4 col2\" >0,41</td>\n      <td id=\"T_b5e8c_row4_col3\" class=\"data row4 col3\" >0,05</td>\n      <td id=\"T_b5e8c_row4_col4\" class=\"data row4 col4\" >0,47</td>\n    </tr>\n    <tr>\n      <td id=\"T_b5e8c_row5_col0\" class=\"data row5 col0\" >Cotton bud/swab sticks</td>\n      <td id=\"T_b5e8c_row5_col1\" class=\"data row5 col1\" >679</td>\n      <td id=\"T_b5e8c_row5_col2\" class=\"data row5 col2\" >0,24</td>\n      <td id=\"T_b5e8c_row5_col3\" class=\"data row5 col3\" >0,04</td>\n      <td id=\"T_b5e8c_row5_col4\" class=\"data row5 col4\" >0,84</td>\n    </tr>\n    <tr>\n      <td id=\"T_b5e8c_row6_col0\" class=\"data row6 col0\" >Foam packaging/insulation/polyurethane</td>\n      <td id=\"T_b5e8c_row6_col1\" class=\"data row6 col1\" >630</td>\n      <td id=\"T_b5e8c_row6_col2\" class=\"data row6 col2\" >0,13</td>\n      <td id=\"T_b5e8c_row6_col3\" class=\"data row6 col3\" >0,04</td>\n      <td id=\"T_b5e8c_row6_col4\" class=\"data row6 col4\" >1,18</td>\n    </tr>\n    <tr>\n      <td id=\"T_b5e8c_row7_col0\" class=\"data row7 col0\" >plastic caps, lid rings: G21, G22, G23, G24</td>\n      <td id=\"T_b5e8c_row7_col1\" class=\"data row7 col1\" >567</td>\n      <td id=\"T_b5e8c_row7_col2\" class=\"data row7 col2\" >0,18</td>\n      <td id=\"T_b5e8c_row7_col3\" class=\"data row7 col3\" >0,03</td>\n      <td id=\"T_b5e8c_row7_col4\" class=\"data row7 col4\" >0,87</td>\n    </tr>\n    <tr>\n      <td id=\"T_b5e8c_row8_col0\" class=\"data row8 col0\" >Industrial sheeting</td>\n      <td id=\"T_b5e8c_row8_col1\" class=\"data row8 col1\" >551</td>\n      <td id=\"T_b5e8c_row8_col2\" class=\"data row8 col2\" >0,18</td>\n      <td id=\"T_b5e8c_row8_col3\" class=\"data row8 col3\" >0,03</td>\n      <td id=\"T_b5e8c_row8_col4\" class=\"data row8 col4\" >0,82</td>\n    </tr>\n    <tr>\n      <td id=\"T_b5e8c_row9_col0\" class=\"data row9 col0\" >Styrofoam < 5mm</td>\n      <td id=\"T_b5e8c_row9_col1\" class=\"data row9 col1\" >544</td>\n      <td id=\"T_b5e8c_row9_col2\" class=\"data row9 col2\" >0,20</td>\n      <td id=\"T_b5e8c_row9_col3\" class=\"data row9 col3\" >0,03</td>\n      <td id=\"T_b5e8c_row9_col4\" class=\"data row9 col4\" >0,29</td>\n    </tr>\n    <tr>\n      <td id=\"T_b5e8c_row10_col0\" class=\"data row10 col0\" >Glass drink bottles, pieces</td>\n      <td id=\"T_b5e8c_row10_col1\" class=\"data row10 col1\" >459</td>\n      <td id=\"T_b5e8c_row10_col2\" class=\"data row10 col2\" >0,17</td>\n      <td id=\"T_b5e8c_row10_col3\" class=\"data row10 col3\" >0,03</td>\n      <td id=\"T_b5e8c_row10_col4\" class=\"data row10 col4\" >0,64</td>\n    </tr>\n    <tr>\n      <td id=\"T_b5e8c_row11_col0\" class=\"data row11 col0\" >Plastic construction waste</td>\n      <td id=\"T_b5e8c_row11_col1\" class=\"data row11 col1\" >253</td>\n      <td id=\"T_b5e8c_row11_col2\" class=\"data row11 col2\" >0,08</td>\n      <td id=\"T_b5e8c_row11_col3\" class=\"data row11 col3\" >0,01</td>\n      <td id=\"T_b5e8c_row11_col4\" class=\"data row11 col4\" >0,64</td>\n    </tr>\n    <tr>\n      <td id=\"T_b5e8c_row12_col0\" class=\"data row12 col0\" >Straws and stirrers</td>\n      <td id=\"T_b5e8c_row12_col1\" class=\"data row12 col1\" >187</td>\n      <td id=\"T_b5e8c_row12_col2\" class=\"data row12 col2\" >0,06</td>\n      <td id=\"T_b5e8c_row12_col3\" class=\"data row12 col3\" >0,01</td>\n      <td id=\"T_b5e8c_row12_col4\" class=\"data row12 col4\" >0,69</td>\n    </tr>\n    <tr>\n      <td id=\"T_b5e8c_row13_col0\" class=\"data row13 col0\" >Foil wrappers, aluminum foil</td>\n      <td id=\"T_b5e8c_row13_col1\" class=\"data row13 col1\" >161</td>\n      <td id=\"T_b5e8c_row13_col2\" class=\"data row13 col2\" >0,05</td>\n      <td id=\"T_b5e8c_row13_col3\" class=\"data row13 col3\" >0,01</td>\n      <td id=\"T_b5e8c_row13_col4\" class=\"data row13 col4\" >0,60</td>\n    </tr>\n    <tr>\n      <td id=\"T_b5e8c_row14_col0\" class=\"data row14 col0\" >Tobacco; plastic packaging, containers</td>\n      <td id=\"T_b5e8c_row14_col1\" class=\"data row14 col1\" >155</td>\n      <td id=\"T_b5e8c_row14_col2\" class=\"data row14 col2\" >0,05</td>\n      <td id=\"T_b5e8c_row14_col3\" class=\"data row14 col3\" >0,01</td>\n      <td id=\"T_b5e8c_row14_col4\" class=\"data row14 col4\" >0,54</td>\n    </tr>\n    <tr>\n      <td id=\"T_b5e8c_row15_col0\" class=\"data row15 col0\" >Lollypop sticks</td>\n      <td id=\"T_b5e8c_row15_col1\" class=\"data row15 col1\" >145</td>\n      <td id=\"T_b5e8c_row15_col2\" class=\"data row15 col2\" >0,06</td>\n      <td id=\"T_b5e8c_row15_col3\" class=\"data row15 col3\" >0,01</td>\n      <td id=\"T_b5e8c_row15_col4\" class=\"data row15 col4\" >0,65</td>\n    </tr>\n    <tr>\n      <td id=\"T_b5e8c_row16_col0\" class=\"data row16 col0\" >Metal bottle caps, lids & pull tabs from cans</td>\n      <td id=\"T_b5e8c_row16_col1\" class=\"data row16 col1\" >137</td>\n      <td id=\"T_b5e8c_row16_col2\" class=\"data row16 col2\" >0,05</td>\n      <td id=\"T_b5e8c_row16_col3\" class=\"data row16 col3\" >0,01</td>\n      <td id=\"T_b5e8c_row16_col4\" class=\"data row16 col4\" >0,64</td>\n    </tr>\n    <tr>\n      <td id=\"T_b5e8c_row17_col0\" class=\"data row17 col0\" >Medical; containers/tubes/ packaging</td>\n      <td id=\"T_b5e8c_row17_col1\" class=\"data row17 col1\" >132</td>\n      <td id=\"T_b5e8c_row17_col2\" class=\"data row17 col2\" >0,06</td>\n      <td id=\"T_b5e8c_row17_col3\" class=\"data row17 col3\" >0,01</td>\n      <td id=\"T_b5e8c_row17_col4\" class=\"data row17 col4\" >0,60</td>\n    </tr>\n    <tr>\n      <td id=\"T_b5e8c_row18_col0\" class=\"data row18 col0\" >Toys and party favors</td>\n      <td id=\"T_b5e8c_row18_col1\" class=\"data row18 col1\" >110</td>\n      <td id=\"T_b5e8c_row18_col2\" class=\"data row18 col2\" >0,04</td>\n      <td id=\"T_b5e8c_row18_col3\" class=\"data row18 col3\" >0,01</td>\n      <td id=\"T_b5e8c_row18_col4\" class=\"data row18 col4\" >0,60</td>\n    </tr>\n    <tr>\n      <td id=\"T_b5e8c_row19_col0\" class=\"data row19 col0\" >Cups, lids, single use foamed and hard plastic</td>\n      <td id=\"T_b5e8c_row19_col1\" class=\"data row19 col1\" >84</td>\n      <td id=\"T_b5e8c_row19_col2\" class=\"data row19 col2\" >0,02</td>\n      <td id=\"T_b5e8c_row19_col3\" class=\"data row19 col3\" >0,00</td>\n      <td id=\"T_b5e8c_row19_col4\" class=\"data row19 col4\" >0,54</td>\n    </tr>\n  </tbody>\n</table>\n",
      "application/papermill.record/text/plain": "<pandas.io.formats.style.Styler at 0x72cb1839a610>"
     },
     "metadata": {
      "scrapbook": {
       "mime_prefix": "application/papermill.record/",
       "name": "lake-most_common_objects"
      }
     },
     "output_type": "display_data"
    },
    {
     "data": {
      "application/papermill.record/text/markdown": "<font color=#daa520>2015-11-23 - 2019-10-24</font>\n* Number of samples: 141\n* Total number of objects: 44776\n* Average sample count: 8.41\n",
      "application/papermill.record/text/plain": "<IPython.core.display.Markdown object>"
     },
     "metadata": {
      "scrapbook": {
       "mime_prefix": "application/papermill.record/",
       "name": "lake-prior-sampling-summary"
      }
     },
     "output_type": "display_data"
    },
    {
     "data": {
      "application/papermill.record/text/markdown": "<font color=#1e90ff>2020-04-28 - 2021-10-07 </font>\n* Number of samples: 85\n* Total number of objects: 17692\n* Average sample count: 6.73\n",
      "application/papermill.record/text/plain": "<IPython.core.display.Markdown object>"
     },
     "metadata": {
      "scrapbook": {
       "mime_prefix": "application/papermill.record/",
       "name": "lake-observed-sampling-summary"
      }
     },
     "output_type": "display_data"
    },
    {
     "data": {
      "application/papermill.record/text/markdown": "__Summary of selected data__\n* Number of samples: 228\n* Total number of objects: 63314\n* Average sample count: 7.8\n* Date of first sample: 2015-11-23\n* Date of last sample: 2022-10-06\n",
      "application/papermill.record/text/plain": "<IPython.core.display.Markdown object>"
     },
     "metadata": {
      "scrapbook": {
       "mime_prefix": "application/papermill.record/",
       "name": "lake-sampling-summary"
      }
     },
     "output_type": "display_data"
    },
    {
     "data": {
      "application/papermill.record/text/markdown": "__Features surveyed__\n* Lakes: 2\n\n",
      "application/papermill.record/text/plain": "<IPython.core.display.Markdown object>"
     },
     "metadata": {
      "scrapbook": {
       "mime_prefix": "application/papermill.record/",
       "name": "lake-feature-inventory"
      }
     },
     "output_type": "display_data"
    },
    {
     "data": {
      "application/papermill.record/text/markdown": "__Administrative boundaries__\n* Survey locations: 36\n* Cities: 15\n\n",
      "application/papermill.record/text/plain": "<IPython.core.display.Markdown object>"
     },
     "metadata": {
      "scrapbook": {
       "mime_prefix": "application/papermill.record/",
       "name": "lake-administrative-boundaries"
      }
     },
     "output_type": "display_data"
    }
   ],
   "source": [
    "fig, ax = plt.subplots()\n",
    "\n",
    "o_surveys = lake_results['this_report'].sample_results\n",
    "p_surveys = lake_results['prior_report'] .sample_results\n",
    "\n",
    "sns.histplot(data=o_surveys, x='pcs/m', stat='probability', label='observed', ax=ax, color=palette['likelihood'])\n",
    "sns.histplot(data=p_surveys, x='pcs/m', stat='probability', label='prior',ax=ax, color=palette['prior'])\n",
    "ax.legend()\n",
    "plt.tight_layout()\n",
    "glue('lake-prior-likelihood', fig, display=False)\n",
    "plt.close()\n",
    "\n",
    "\n",
    "\n",
    "l_feature_inv = call_l_surveys.feature_inventory().copy()\n",
    "l_feature_inv.pop('p')\n",
    "l_feature_inv.pop('r')\n",
    "l_feature_inv = Markdown(userdisplay.feature_inventory(l_feature_inv, session_language='en'))\n",
    "\n",
    "l_admin_bounds = call_l_surveys.administrative_boundaries().copy()\n",
    "\n",
    "l_admin_bounds.pop('canton')\n",
    "l_admin_bounds.pop('parent_boundary')\n",
    "l_admin_b = Markdown(userdisplay.boundaries(l_admin_bounds, session_language='en'))\n",
    "\n",
    "header = userdisplay.sampling_result_summary(call_l_surveys.sampling_results_summary, session_language='en')[0]\n",
    "info = userdisplay.sampling_result_summary(call_l_surveys.sampling_results_summary, session_language='en')[1]\n",
    "l_samp_sum_all = Markdown(f'{header}\\n{info}')\n",
    "\n",
    "p_summary_l = lake_results['prior_report'].sampling_results_summary.copy()\n",
    "p_header_l = f\"<font color=#daa520>{dt.datetime.strftime(p_summary_l.pop('start'), format=session_config.date_format)} - {dt.datetime.strftime(p_summary_l.pop('end'), format=session_config.date_format)}</font>\"\n",
    "p_info_l = userdisplay.sampling_result_summary(p_summary_l, session_language='en')[1]\n",
    "p_samp_sum_l = Markdown(f'{p_header_l}\\n{p_info_l}')\n",
    "\n",
    "l_summary_l = lake_results['this_report'].sampling_results_summary.copy()\n",
    "l_header_l = f\"<font color=#1e90ff>{dt.datetime.strftime(l_summary_l.pop('start'), format=session_config.date_format)} - {dt.datetime.strftime(l_summary_l.pop('end'), format=session_config.date_format)} </font>\"\n",
    "l_info_l = userdisplay.sampling_result_summary(l_summary_l, session_language='en')[1]\n",
    "l_samp_sum_l = Markdown(f'{l_header_l}\\n{l_info_l}')\n",
    "\n",
    "ratio_most_common_l = Markdown(f'The most common objects account for {int(lproportions*100)}% of all objects')\n",
    "\n",
    "one_list_l = Markdown(f'{l_feature_inv}\\n{l_admin_b}')\n",
    "\n",
    "new_list_l = display_forecast(lake_summary_simple)\n",
    "new_list2_l = display_forecast(lake_results['posterior_no_limit'].get_descriptive_statistics())\n",
    "\n",
    "\n",
    "new_list1_l = Markdown('__Given the 99th percentile of all observed samples__' + new_list_l)\n",
    "new_list2_l = Markdown('__Given the observed max__' + new_list2_l)\n",
    "\n",
    "\n",
    "glue('lake-material-report', mrl, display=False)\n",
    "glue('lake-forecast-99-list',new_list1_l, display=False)\n",
    "glue('lake-forecast-max-list',new_list2_l, display=False)\n",
    "glue('lake-ratio-most-common', ratio_most_common_l, display=False)\n",
    "glue('lake-most_common_objects', l_most_common_objects, display=False)\n",
    "glue('lake-prior-sampling-summary', p_samp_sum_l, display=False)\n",
    "glue('lake-observed-sampling-summary',l_samp_sum_l, display=False)\n",
    "glue('lake-sampling-summary', l_samp_sum_all, display=False)\n",
    "glue('lake-feature-inventory', l_feature_inv, display=False)\n",
    "glue('lake-administrative-boundaries', l_admin_b, display=False)"
   ]
  },
  {
   "cell_type": "code",
   "execution_count": 11,
   "id": "b462128e-d200-4427-8270-b4c0a734324a",
   "metadata": {
    "editable": true,
    "jupyter": {
     "source_hidden": true
    },
    "slideshow": {
     "slide_type": ""
    },
    "tags": [
     "remove-input"
    ]
   },
   "outputs": [
    {
     "data": {
      "application/papermill.record/image/png": "iVBORw0KGgoAAAANSUhEUgAAAnUAAAHWCAYAAAARl3+JAAAAOXRFWHRTb2Z0d2FyZQBNYXRwbG90bGliIHZlcnNpb24zLjcuMSwgaHR0cHM6Ly9tYXRwbG90bGliLm9yZy/bCgiHAAAACXBIWXMAAA9hAAAPYQGoP6dpAACRpElEQVR4nOzdd3xT1fsH8M/NbukA2lJKW6CySlFWK4KAgAL9CSKoiBsUWQoyKgg4ihQFUUEcDFEB/aLIUkFAhgNkKhQRpAVkQwHLbIHOJOf3R0iaNEmbpGmTpp/365UXNzfn3pwO2qfnnOc5khBCgIiIiIgqNZmnO0BEREREZcegjoiIiMgHMKgjIiIi8gEM6oiIiIh8AIM6IiIiIh/AoI6IiIjIBzCoIyIiIvIBDOqIiIiIfACDOiIiIiIfwKCOiIiIyAd4NKj7/fff0atXL9SpUweSJOGHH34o9ZotW7YgPj4eGo0Gt912G+bNm1f+HSUiIiLych4N6m7evIkWLVrgk08+caj9iRMn0KNHD3Ts2BF//fUXXn31VYwcORIrV64s554SEREReTdJCCE83QkAkCQJ33//Pfr06WO3zfjx47F69Wqkp6ebzg0bNgx///03du7cWQG9JCIiIvJOCk93wBk7d+5E9+7dLc4lJibiiy++QGFhIZRKpdU1+fn5yM/PNz3X6/W4cuUKQkJCIElSufeZiIiIyB4hBK5fv446depAJivbBGqlCuouXLiA8PBwi3Ph4eHQarW4dOkSIiIirK6ZNm0aJk+eXFFdJCIiInLamTNnEBUVVaZ7VKqgDoDV6Jpx9tjeqNvEiRORlJRkep6VlYW6devizJkzCAoKKr+OEhEREZUiOzsb0dHRCAwMLPO9KlVQV7t2bVy4cMHiXGZmJhQKBUJCQmxeo1aroVarrc4HBQUxqCMiIiKv4I4lYZWqTl27du2wadMmi3MbN25EQkKCzfV0RERERFWFR4O6GzduYN++fdi3bx8AQ8mSffv24fTp0wAMU6f9+/c3tR82bBhOnTqFpKQkpKenY8GCBfjiiy8wduxYT3SfiIiIyGt4dPp1z5496NKli+m5ce3bgAEDsGjRIpw/f94U4AFATEwM1q1bhzFjxmD27NmoU6cOPvroIzzyyCMV3nciIiIib+I1deoqSnZ2NoKDg5GVlVXimjqdTofCwsIK7Bn5MqVSCblc7uluEBGRl3E0LnFEpUqUqAhCCFy4cAHXrl3zdFfIx1SvXh21a9dmfUQiIioXDOqKMQZ0tWrVgr+/P38BU5kJIZCTk4PMzEwAsFlPkYiIqKwY1JnR6XSmgM5eiRQiV/j5+QEwlOCpVasWp2KJiMjtKlVJk/JmXEPn7+/v4Z6QLzJ+X3GtJhERlQcGdTZwypXKA7+viIioPDGoIyIiIvIBDOqqsJMnT0KSJFPxZyIiIqq8mChRhUVHR+P8+fMIDQ31dFeIiIiojDhSV0UVFBRALpejdu3aUChcj+0LCgrc2CsiIiJyFYM6H9G5c2eMGDECI0aMQPXq1RESEoLXX38dxg1D6tevj7feegvPPvssgoODMXjwYJvTr1u2bEGbNm2gVqsRERGBCRMmQKvVWr1PUlISQkND0a1bt4r+UImIiMgGTr+WQggBocv1yHtLcj+nMia//PJLPP/88/jjjz+wZ88eDBkyBPXq1cPgwYMBAO+99x7eeOMNvP766zavz8jIQI8ePfDss8/iq6++wqFDhzB48GBoNBq8+eabFu/zwgsvYPv27ahiu8wRERF5LQZ1pRC6XBxb1swj792g30FICsdr5kVHR+ODDz6AJElo0qQJDhw4gA8++MAU1N17770YO3asqf3Jkyctrp8zZw6io6PxySefQJIkxMbG4ty5cxg/fjySk5MhkxkGdhs2bIh333237B8gERERuQ2nX31I27ZtLUb22rVrh3///Rc6nQ4AkJCQUOL16enpaNeuncU92rdvjxs3buDs2bOmc6Xdh4iIiCoeR+pKIcn90KDfQY+9tztVq1atxNeFEFbTvcbpVfPzpd2HiIiIKh6DulJIkuTUFKgn7dq1y+p5o0aNHN5nNC4uDitXrrQI7nbs2IHAwEBERka6vb9ERETkPpx+9SFnzpxBUlISDh8+jCVLluDjjz/GqFGjHL7+xRdfxJkzZ/DSSy/h0KFDWLVqFSZNmoSkpCTTejoiIiLyThyp8yH9+/dHbm4u2rRpA7lcjpdeeglDhgxx+PrIyEisW7cO48aNQ4sWLVCzZk08//zzdrNliYiIyHswqPMhSqUSs2bNwty5c61eK57pChhq1xUvSdKpUyf8+eefdt9j8+bNZe0mERERlQPOqRERERH5AAZ1RERERD6A068+gtOiREREVRtH6oiIiIh8AIM6IiIiIh/AoI6IiIjIBzCoIyIiIvIBDOqIiIiIfACDOiIiIiIfwKCuiti8eTMkScK1a9c83RW38LWPh4iIqKwY1BERERH5AAZ1VG4KCgo83QUiIqIqg0GdD8nPz8fIkSNRq1YtaDQadOjQAbt377Zos337drRo0QIajQZ33XUXDhw4YHrt1KlT6NWrF2rUqIFq1aqhWbNmWLdunen1tLQ09OjRAwEBAQgPD8czzzyDS5cumV7v3LkzRowYgaSkJISGhqJbt2544okn8Pjjj1v0obCwEKGhoVi4cCEAQAiBd999F7fddhv8/PzQokULrFixwuKadevWoXHjxvDz80OXLl1w8uRJd33aiIiIfAKDulIIAeQUeuYhhHN9feWVV7By5Up8+eWX2Lt3Lxo2bIjExERcuXLF1GbcuHF4//33sXv3btSqVQsPPvggCgsLAQDDhw9Hfn4+fv/9dxw4cADTp09HQEAAAOD8+fPo1KkTWrZsiT179mD9+vX477//0K9fP4s+fPnll1AoFNi+fTs+/fRTPPXUU1i9ejVu3LhharNhwwbcvHkTjzzyCADg9ddfx8KFCzF37lwcPHgQY8aMwdNPP40tW7YAAM6cOYOHH34YPXr0wL59+zBo0CBMmDDB6a8lERGRL5OEcDZ0qNyys7MRHByMrKwsBAUFWbyWl5eHEydOICYmBhqNBoAhuGo6xxM9BdJfBPyVjrW9efMmatSogUWLFuHJJ58EYBgRq1+/PkaPHo0777wTXbp0wbfffovHHnsMAHDlyhVERUVh0aJF6NevH5o3b45HHnkEkyZNsrp/cnIy/vjjD2zYsMF07uzZs4iOjsbhw4fRuHFjdO7cGVlZWfjrr79MbQoLC1GnTh3MnDkTzzzzDADgySefhFarxbJly3Dz5k2Ehobi119/Rbt27UzXDRo0CDk5Ofjmm2/w6quv4ocffsDBgwchSRIAYMKECZg+fTquXr2K6tWrO/V59RRb319ERFS1lRSXOIsjdT7i2LFjKCwsRPv27U3nlEol2rRpg/T0dNM588CpZs2aaNKkien1kSNH4q233kL79u0xadIk7N+/39Q2NTUVv/32GwICAkyP2NhY03sbJSQkWPRLqVTi0Ucfxddffw3AEHyuWrUKTz31FADDlG5eXh66detmce+vvvrKdN/09HS0bdvWFNAV/ziIiIgIUHi6A97OT2EYMfPUezvKOOBqHvgYzxc/V5zx9UGDBiExMRFr167Fxo0bMW3aNMyYMQMvvfQS9Ho9evXqhenTp1tdHxERYTquVq2a1etPPfUUOnXqhMzMTGzatAkajQb3338/AECv1wMA1q5di8jISIvr1Gq1xcdGRERE9jGoK4UkOT4F6kkNGzaESqXCtm3bLKZf9+zZg9GjR5va7dq1C3Xr1gUAXL16FUeOHDGNuAFAdHQ0hg0bhmHDhmHixIn47LPP8NJLL6F169ZYuXIl6tevD4XCuW+bu+++G9HR0Vi6dCl++uknPProo1CpVACAuLg4qNVqnD59Gp06dbJ5fVxcHH744QeLc7t27XKqD0RERL6O068+olq1anjhhRcwbtw4rF+/HmlpaRg8eDBycnLw/PPPm9qlpKTgl19+wT///INnn30WoaGh6NOnDwBg9OjR2LBhA06cOIG9e/fi119/RdOmTQEYkiiuXLmCJ554An/++SeOHz+OjRs3YuDAgdDpdCX2TZIkPPnkk5g3bx42bdqEp59+2vRaYGAgxo4dizFjxuDLL7/EsWPH8Ndff2H27Nn48ssvAQDDhg3DsWPHkJSUhMOHD+Obb77BokWL3PsJJCIiquQY1PmQd955B4888gieeeYZtG7dGkePHsWGDRtQo0YNizajRo1CfHw8zp8/j9WrV5tGzXQ6HYYPH46mTZvi//7v/9CkSRPMmWPIEqlTpw62b98OnU6HxMRE3H777Rg1ahSCg4Mhk5X+bfTUU08hLS0NkZGRFuv+AGDKlClITk7GtGnT0LRpUyQmJuLHH39ETEwMAKBu3bpYuXIlfvzxR7Ro0QLz5s3D1KlT3fVpIyIi8gnMfjXD7EQqT/z+IiKi4pj9SkREREQWGNQRERER+QAGdUREREQ+gEEdERERkQ9gUEdERETkAxjUEREREfkABnVEREREPoBBHREREZEPYFBHRERE5AMY1FGltHnzZkiShGvXrnm6K0RERF6BQR1VmIoOxI4dO4aHHnoIYWFhCAoKQr9+/fDff/9ZtNm7dy+6deuG6tWrIyQkBEOGDMGNGzdMr1+5cgW9evVCQEAAWrdujb///tvi+hdffBEzZsyokI+HiIioJAzqyCfdvHkT3bt3hyRJ+PXXX7F9+3YUFBSgV69e0Ov1AIBz586ha9euaNiwIf744w+sX78eBw8exLPPPmu6z9tvv43r169j79696NSpEwYNGmR6befOnfjzzz8xevToCv7oiIiIrDGo8xFCCLz77ru47bbb4OfnhxYtWmDFihWm17p27Yr/+7//gxACAHDt2jXUrVsXr732GoCiUbS1a9eiRYsW0Gg0uOuuu3DgwAGL99mxYwfuuece+Pn5ITo6GiNHjsTNmzdNr+fn5+OVV15BdHQ01Go1GjVqhC+++AInT55Ely5dAAA1atSAJEmm4KmkvhutW7cOjRs3hp+fH7p06YKTJ0+W+PnYvn07Tp48iUWLFuGOO+7AHXfcgYULF2L37t349ddfAQBr1qyBUqnE7Nmz0aRJE9x5552YPXs2Vq5ciaNHjwIA0tPT8fjjj6Nx48YYMmQI0tLSAACFhYV44YUXMG/ePMjlcme/XERERG7HoM5BOQVa5BRoTUERABRo9cgp0CJfq7PZVq8valuoM7TNK3SsrbNef/11LFy4EHPnzsXBgwcxZswYPP3009iyZQskScKXX36JP//8Ex999BEAYNiwYQgPD8ebb75pcZ9x48bh/fffx+7du1GrVi08+OCDKCwsBAAcOHAAiYmJePjhh7F//34sXboU27Ztw4gRI0zX9+/fH99++y0++ugjpKenY968eQgICEB0dDRWrlwJADh8+DDOnz+PDz/8sNS+A8CZM2fw8MMPo0ePHti3bx8GDRqECRMmlPj5yM/PhyRJUKvVpnMajQYymQzbtm0ztVGpVJDJiv4b+Pn5AYCpTYsWLfDrr79Cq9Viw4YNaN68OQBg+vTp6Ny5MxISEpz4KhEREZUjUcVkZWUJACIrK8vqtdzcXJGWliZyc3OtXqs3fo2oN36NuHQ9z3Tu41+OiHrj14jxK/62aBv7+k+i3vg14vTlm6Zzn289LuqNXyNGLtlr0bZVykZRb/wacfhCtuncN3+ccupjunHjhtBoNGLHjh0W559//nnxxBNPmJ4vW7ZMqNVqMXHiROHv7y8OHz5seu23334TAMS3335rOnf58mXh5+cnli5dKoQQ4plnnhFDhgyxeI+tW7cKmUwmcnNzxeHDhwUAsWnTJpv9NL7H1atXner7xIkTRdOmTYVerze9Pn78eKt7mcvMzBRBQUFi1KhR4ubNm+LGjRti+PDhAoDpY/jnn3+EQqEQ7777rsjPzxdXrlwRDz/8sAAgpk6dKoQQ4tq1a+KJJ54QdevWFffcc484ePCgOHLkiGjUqJG4dOmSGDp0qIiJiRGPPvqouHbtms2+GJX0/UVERM5btmyZiI2NFZGRkVaPGTNmWLTNzs622c7WY8+ePRbX/vjjjw5d16RJE6s+jh07tsRr6tSpYzcucZbCc+EkuUtaWhry8vLQrVs3i/MFBQVo1aqV6fmjjz6K77//HtOmTcPcuXPRuHFjq3u1a9fOdFyzZk00adIE6enpAIDU1FQcPXoUX3/9tamNEAJ6vR4nTpzAgQMHIJfL0alTJ7f2PT09HW3btoUkSTb7aUtYWBiWL1+OF154AR999BFkMhmeeOIJtG7d2jRd2qxZM3z55ZdISkrCxIkTIZfLMXLkSISHh5vaBAcH45tvvrG497333ov33nsPX3/9NY4fP47Dhw9j8ODBSElJYdIEEVEFSk5OxqFDh2y+lp2dbfFcCIGMjAyH7ltQUGDxPDc316FrAwMDrc5dvXrV4fctKwZ1DkpLSQQA+CmL1k8NuacBBnaIgVwmWbRNfaMrAECjKGrbv109PNEmGjLJsu228V2s2vaNj3Kqb8aF/2vXrkVkZKTFa+bTjzk5OUhNTYVcLse///7r8P2NwZRer8fQoUMxcuRIqzZ169Y1rUNzd9+F2ZS3M7p3745jx47h0qVLUCgUqF69OmrXro2YmBhTmyeffBJPPvkk/vvvP1SrVg2SJGHmzJkWbcwtWLAA1atXR+/evfHwww+jT58+UCqVePTRR5GcnOxSP4mIyDXXr18HAMhkMkRERFi8FhQUZPFckiSr3zP2qFQqi+d+fn4OXRsQEGB1rkaNGiVeK4TAuXPnHOpXaRjUOchfZf2pUilkUNlYlmirrVIug1LueFtnxMXFQa1W4/Tp0yWOkr388suQyWT46aef0KNHD/Ts2RP33nuvRZtdu3ahbt26AAx/XRw5cgSxsbEAgNatW+PgwYNo2LChzfvfcccd0Ov12LJlC7p27Wr1uvE/iU5XtK7Qkb7HxcXhhx9+sOqno0JDQwEAv/76KzIzM/Hggw9atQkPDwdgCNo0Go3VyCEAXLx4EVOmTDGtt9PpdKb1hoWFhRYfFxERVZyIiAicPXu2xDaBgYGltrHngQcecPna9957D++9957d17OzsxEcHOzSvYtjUOcDAgMDMXbsWIwZMwZ6vR4dOnRAdnY2duzYgYCAAAwYMABr167FggULsHPnTrRu3RoTJkzAgAEDsH//ftSoUcN0r5SUFISEhCA8PByvvfYaQkND0adPHwDA+PHj0bZtWwwfPhyDBw9GtWrVkJ6ejk2bNuHjjz9G/fr1MWDAAAwcOBAfffQRWrRogVOnTiEzMxP9+vVDvXr1IEkS1qxZgx49esDPz8+hvg8bNgwzZsxAUlIShg4ditTUVCxatKjUz8vChQvRtGlThIWFYefOnRg1ahTGjBmDJk2amNp88sknuPvuuxEQEIBNmzZh3LhxeOedd1C9enWr+40aNQovv/yy6S+u9u3b43//+x+6d++O+fPno3379mX6OhIReavly5cjOTnZNDIGAPPmzcMDDzxgep6amorevXs7dL/09HSLqcqZM2di5syZpV7XunVrrF692vQ8JCQEOTk5Dr1nlVDmVXmVjKuJEt5Or9eLDz/8UDRp0kQolUoRFhYmEhMTxZYtW0RmZqYIDw83Lf4XQojCwkLRpk0b0a9fPyFEURLDjz/+KJo1ayZUKpW48847xb59+yze588//xTdunUTAQEBolq1aqJ58+bi7bffNr2em5srxowZIyIiIoRKpRINGzYUCxYsML2ekpIiateuLSRJEgMGDCi170Y//vijaNiwoVCr1aJjx45iwYIFJSZKCGFIpggPDxdKpVI0atRIzJgxwyLZQghD8kfNmjWFSqUSzZs3F1999ZXNe61fv160adNG6HQ607mbN2+KRx99VAQGBor77rtP/Pfff3b7YvzcVNbvLyKq2mJjYwUAi8eyZcss2uzYscOqjb1H8d/BkyZNcui6tm3bWlx34sQJ0bZtWxEbG1vun4PyUlJc4ixJCBcXLFVSxmHOrKwsq/n2vLw8nDhxAjExMdBoNB7qoWds3rwZXbp0wdWrV22OUlHZVeXvLyKq3KKiopCRkWGxds0bRuoA4Omnn0afPn3Qt29fh97b25QUlziL069ERETkkJLWrsXHx7u87iwpKQlJSUkuXbt48WKXrvNFDOqIiIi8hPnatV9++cViDfA333yDV155pdR71K5dG3v27LE4N3ToUKxdu7bUa5944gmrRf2xsbE4f/68gx8BeRKDOgIAdO7c2eXSIURE5B7mdde0Wq3Fazk5OS7XO7ty5YpD1169etXq3Llz50zlp2zVYavKhABytaW3K0lOoXv6AjCoIyIi8hrm2aUKheWvaH9/f4dqpdWuXdvqXM2aNR261rwaglGdOnVw48YNBAYGYsqUKaXeo6oQAnhkOZBaxkFMfZ57+gMwqCMiIvI6kZGRFlOvQFGxdFd8+umnLvfF3o4NVV2utuwBnbsxqCMiIiIqg9TBgL/StWuzs4GICe7pB4M6IiIiojLwV7oe1GldvM4WBnVERERUabgjOcEd3Jng4C4M6oiIiKhScFdygq9ybuf4cjBnzhxThf34+Hhs3bq1xPZff/01WrRoAX9/f0REROC5557D5cuXK6i35C02b94MSZJw7do1T3eFiHzU5MmTERUVVerjqaeesrr23nvvdeja+fPnW1xXUFBQUR9epeSNyQkJEYCflwyRebQbS5cuxejRozFnzhy0b98en376Ke6//36kpaWhbt26Vu23bduG/v3744MPPkCvXr2QkZGBYcOGYdCgQfj+++898BGQM7gVGRFVJllZWQ7Vdrt06ZLVuf/++8+ha2/cuGHx/LvvvkPHjh1ZD84BZUlOcCc/BSBJnu6FgUeDupkzZ+L555/HoEGDAACzZs3Chg0bMHfuXEybNs2q/a5du1C/fn2MHDkSABATE4OhQ4fi3XffrdB+ExGR7wsODnaotltoaKjVufDwcGRlZZV6bUBAgMXzBg0aIDY2lvXgHFCW5ASfJTwkPz9fyOVy8d1331mcHzlypLjnnntsXrN9+3ahUqnE2rVrhV6vFxcuXBD33HOPGDp0qMPvm5WVJQCIrKwsq9dyc3NFWlqayM3Nde6D8QJ6vV5Mnz5dxMTECI1GI5o3by6WL19ueu2+++4TiYmJQq/XCyGEuHr1qoiOjhavvvqqEEKI3377TQAQa9asEc2bNxdqtVq0adNG7N+/3+J9tm/fLjp27Cg0Go2IiooSL730krhx44bp9by8PDFu3DgRFRUlVCqVaNiwofj888/FiRMnBACLx4ABA0rtu9HatWtFo0aNhEajEZ07dxYLFy4UAMTVq1ftfk4AiHnz5omePXsKPz8/ERsbK3bs2CH+/fdf0alTJ+Hv7y/atm0rjh49arrm6NGj4sEHHxS1atUS1apVEwkJCWLTpk2m19PT04Wfn5/4+uuvTedWrlwp1Gq11eequMr8/UVUFURGRgoAIjIy0tNdqfL0eiFuFlg/Lt4Uou4sw+Nmgad76R4lxSXO8lhQl5GRIQCI7du3W5x/++23RePGje1et3z5chEQECAUCoUAIB588EFRUGD/K5uXlyeysrJMjzNnzrgW1OXfcP6hLSy6XltoOFeQ49h9nfTqq6+K2NhYsX79enHs2DGxcOFCoVarxebNm4UQQpw9e1bUqFFDzJo1SwghxGOPPSYSEhJMnztjUNe0aVOxceNGsX//fvHAAw+I+vXrm9rs379fBAQEiA8++EAcOXJEbN++XbRq1Uo8++yzpn7069dPREdHi++++04cO3ZM/Pzzz+Lbb78VWq1WrFy5UgAQhw8fFufPnxfXrl1zqO+nT58WarVajBo1Shw6dEgsXrxYhIeHOxTURUZGiqVLl4rDhw+LPn36iPr164t7771XrF+/XqSlpYm2bduK//u//zNds2/fPjFv3jyxf/9+ceTIEfHaa68JjUYjTp06ZWoze/ZsERwcLE6ePCkyMjJEzZo1xQcffFDq14hBHZF3Y1DnHfR6IR5aWhS82XswqLPm8aBux44dFuffeust0aRJE5vXHDx4UERERIh3331X/P3332L9+vXijjvuEAMHDrT7PpMmTbIaIXIpqJsU5PzjH7NRyH++M5xb0MPyvtNjbF/rhBs3bgiNRmP1uXz++efFE088YXq+bNkyoVarxcSJE4W/v784fPiw6TVjUPftt9+azl2+fFn4+fmJpUuXCiGEeOaZZ8SQIUMs3mPr1q1CJpOJ3NxccfjwYQHAYmTLnPE9zAMxR/o+ceJE0bRpU9MooxBCjB8/3qGg7vXXXzc937lzpwAgvvjiC9O5JUuWCI1GY/ceQggRFxcnPv74Y4tzPXv2FB07dhT33Xef6Natm0Xf7GFQR+TdGNR5h5sFpQd0Dy81BH++wJ1BncfW1IWGhkIul+PChQsW5zMzMxEeHm7zmmnTpqF9+/YYN24cAKB58+aoVq0aOnbsiLfeegsRERFW10ycOBFJSUmm59nZ2YiOjnbjR+J5aWlpyMvLQ7du3SzOFxQUoFWrVqbnjz76KL7//ntMmzYNc+fORePGja3u1a5dO9NxzZo10aRJE6SnpwMAUlNTcfToUXz99demNkII6PV6nDhxAgcOHIBcLkenTp3c2vf09HS0bdsWktlKVPN+lqR58+amY+P31R133GFxLi8vD9nZ2QgKCsLNmzcxefJkrFmzBufOnYNWq0Vubi5Onz5tcd8FCxagcePGkMlk+Oeffyz6RkRE7mEvGcKbkhO8iceCOpVKhfj4eGzatAkPPfSQ6fymTZvQu3dvm9fk5ORYbXAsl8sBGIILW9RqNdRqddk7/Oo556+Rm71vbC/DPaRiVWRGHyhbvwDo9XoAwNq1a60W9Zp/7Dk5OUhNTYVcLse///7r8P2NAYter8fQoUNNiSrm6tati6NHj5ZL3+19bR2hVBb9NDB+HLbOGfsxbtw4bNiwAe+//z4aNmwIPz8/9O3b16rMwN9//42bN29CJpPhwoULqFOnjst9JCLyVa4UCjYv6stkCOd4NPs1KSkJzzzzDBISEtCuXTvMnz8fp0+fxrBhwwAYRtkyMjLw1VdfAQB69eqFwYMHY+7cuUhMTMT58+cxevRotGnTpvx/qaqqle16ucLwcPd9AcTFxUGtVuP06dMljpK9/PLLkMlk+Omnn9CjRw/07NkT9957r0WbXbt2mcrJXL16FUeOHEFsbCwAoHXr1jh48CAaNmxo8/533HEH9Ho9tmzZgq5du1q9rlKpAAA6nc6pvsfFxeGHH36w6md52Lp1K5599lnTHxo3btzAyZMnLdpcuXIFzz77LF577TVcuHABTz31FPbu3Qs/P79y6RNRVbZ8+XIkJyfj+vXrpnODBw/GpEmTLNpFRUU5dL/Fixejc+fOpuebN2/G008/DQA4f97LCqBVciwUXPE8GtQ99thjuHz5MlJSUnD+/HncfvvtWLduHerVqwfA8B/MfNrr2WefxfXr1/HJJ5/g5ZdfRvXq1XHvvfdi+vTpnvoQvEJgYCDGjh2LMWPGQK/Xo0OHDsjOzsaOHTsQEBCAAQMGYO3atViwYAF27tyJ1q1bY8KECRgwYAD279+PGjVqmO6VkpKCkJAQhIeH47XXXkNoaCj69OkDABg/fjzatm2L4cOHY/DgwahWrRrS09OxadMmfPzxx6hfvz4GDBiAgQMH4qOPPkKLFi1w6tQpZGZmol+/fqhXrx4kScKaNWvQo0cP+Pn5OdT3YcOGYcaMGUhKSsLQoUORmpqKRYsWlcvnsmHDhvjuu+/Qq1cvSJKEN954wzSKZzRs2DBER0fj9ddfR0FBAVq3bo2xY8di9uzZ5dInoqosOTkZhw4dsjhnq1SIIzXhACA/P9/qefFrWSPOPcpaKNibivpWGmVelVfJ+HJJkw8//FA0adJEKJVKERYWJhITE8WWLVtEZmamCA8PF1OnTjW1LywsFG3atBH9+vUTQhQlMfz444+iWbNmQqVSiTvvvFPs27fP4n3+/PNP0a1bNxEQECCqVasmmjdvLt5++23T67m5uWLMmDEiIiLCVNJkwYIFptdTUlJE7dq1hSRJFiVN7PXd6McffxQNGzYUarVadOzYUSxYsMChRInvv//e9NxYVuWvv/4ynSuevHHixAnRpUsX4efnJ6Kjo8Unn3wiOnXqJEaNGiWEEOLLL78U1apVE0eOHDHdY8+ePaZSOyWpzN9fRJ5iTF6QyWQiMjJSREZGijfffNNmO0cev/32m8V1v/32m8XrsbGxViWVyDXmCQ8Xb9ouUVLSw1cSIUrjzkQJSYgyLFiqhLKzsxEcHIysrCwEBQVZvJaXl4cTJ06Yti2rSrjbQ/mryt9fRK6KiopCRkYGIiMjcfbsWU93h5yQUwg0nWM4Tn+Ra+PsKSkucRYHNomIiCoJVxIPPMU84YEqBoM6IiKiSoCJB1QaBnUEAOjcuXOZSocQEVH5Kmvigacw4aHi8NNMREReq1OnTrh06RJCQ0M93RWvYq8orzdioeCKw6COiIgqzPz585GSklJqu8aNG+PXX3+12MGGirAoL9nCoI6IiCrMjRs3HKopFxwcXAG9cb/yTGRg4gGVhkEdERGVm/Pnz0On00EulyMiIgIBAQFWWwLaYm8PcG/GRAbyNAZ1RERUbu68806LOnNDhgzBkCFDPN2tclFRiQxMPPBeQggIXa5T1+i1OW57f35bEBERuVl5JjIw8cA7CSFwdtOjyLuU6tR1N3L0pTdykMxtdyKfUr9+fcyaNcvh9idPnoQkSdi3b1+59cncokWLym3nizfffBMtW7Ysl3sTUdVgTGQojwcDOu8kdLlOB3TuxpE6smn37t2oVq2aW++5aNEijB49GteuXXPrfd1t7NixeOmllzzdDSLyMGeTHpjIUHXYmmY1n0aNeXg3ZAp/h+6VnZ0NDI5wS78Y1JFNYWFhnu5ChRNCQKfTISAgAAEBAWW6V2FhIZRK1hsgqqyY9ED2ODLNKlP4OxzUyRTuS5fm9KsP+PHHH1G9enXo9YZ5+X379kGSJIwbN87UZujQoXjiiSdMz3fs2IF77rkHfn5+iI6OxsiRI3Hz5k3T68WnXw8dOoQOHTpAo9EgLi4OP//8MyRJwg8//GDRl+PHj6NLly7w9/dHixYtsHPnTgDA5s2b8dxzzyErKwuSJEGSJLz55psAgIKCArzyyiuIjIxEtWrVcNddd2Hz5s0W9120aBHq1q0Lf39/PPTQQ7h8+XKJnxPjdPC3336Lu+++GxqNBs2aNbO47+bNmyFJEjZs2ICEhASo1Wps3brVavpVr9cjJSUFUVFRUKvVaNmyJdavX2/1XsuWLUPnzp2h0WiwePHiEvtH5EnLly9H06ZNERUVZXoMHTrUql1CQoJFG3uPb775xuK6w4cPm147f75yRkVlSXpgIoNvK22aVROWAEnuV4E9MiOqmKysLAFAZGVlWb2Wm5sr0tLSRG5urgd65rpr164JmUwm9uzZI4QQYtasWSI0NFTceeedpjaNGzcWc+fOFUIIsX//fhEQECA++OADceTIEbF9+3bRqlUr8eyzz5ra16tXT3zwwQdCCCF0Op1o0qSJ6Natm9i3b5/YunWraNOmjQAgvv/+eyGEECdOnBAARGxsrFizZo04fPiw6Nu3r6hXr54oLCwU+fn5YtasWSIoKEicP39enD9/Xly/fl0IIcSTTz4p7r77bvH777+Lo0ePivfee0+o1Wpx5MgRIYQQu3btEpIkiWnTponDhw+LDz/8UFSvXl0EBwfb/ZwY+xMVFSVWrFgh0tLSxKBBg0RgYKC4dOmSEEKI3377TQAQzZs3Fxs3bhRHjx4Vly5dEpMmTRItWrQw3WvmzJkiKChILFmyRBw6dEi88sorQqlUmvpnfK/69euLlStXiuPHj4uMjAyrPlXW7y/yPbGxsQKAxaNv375W7SIjI63a2Xp89tlnFtf9888/Vm1iY2Mr6sNzi5sFQtSdZXhcvGl47uhDr/d078nd9Hq90BXeFLrCm6Iw96I48nV9ceTr+qIw96LpvPGhd/IboKS4xFn8W8JBM2fOxMyZM0tt17p1a6xevdri3IMPPoi9e/eWem1SUhKSkpKc7ltwcDBatmyJzZs3Iz4+Hps3b8aYMWMwefJkXL9+HTdv3sSRI0fQuXNnAMB7772HJ598EqNHjwYANGrUCB999BE6deqEuXPnQqPRWNx/48aNOHbsGDZv3ozatWsDAN5++21069bNqi9jx45Fz549AQCTJ09Gs2bNcPToUcTGxiI4OBiSJJnuAQDHjh3DkiVLcPbsWdSpU8d0j/Xr12PhwoWYOnUqPvzwQyQmJmLChAkADJXmd+zYYTFaZs+IESPwyCOPAADmzp2L9evX44svvsArr7xiapOSkmLzYzF6//33MX78eDz++OMAgOnTp+O3337DrFmzMHv2bFO70aNH4+GHHy61T0Sedv36dQCATCZDRIRhLU/NmjWt2pn/Xy2Jv7/lNJNCobCoRRcYGIgpU6a42l23cWaNnPn6OO7eULWJEqZbnZlmrQgM6hyUnZ3tUBX06Ohoq3MXL1506Nrs7GyX+gYAnTt3xubNm5GUlIStW7firbfewsqVK7Ft2zZcu3YN4eHhiI2NBQCkpqbi6NGjFtvvCCGg1+tx4sQJNG3a1OLehw8fRnR0tMUP+DZt2tjsR/PmzU3Hxl8WmZmZpvcubu/evRBCoHHjxhbn8/PzERISAgBIT0/HQw89ZPF6u3btHArq2rVrZzpWKBRISEhAenq6RZuEhAS712dnZ+PcuXNo3769xfn27dvj77//dvg+RN4oIiICZ8+etfv6nj17XLpvkyZNSryvJ3CNHLnK3nSrR6dZ7WBQ56CgoCCHqqDbSjAICwtz6NqgoCCX+gYYgrovvvgCf//9N2QyGeLi4tCpUyds2bIFV69eRadOnUxt9Xo9hg4dipEjR1rdp27dulbnhBCQHMyhN08OMF5jXOtni16vh1wuR2pqKuRyucVrxmQFIYRD7+2o4h+LI1m+xa+x9Tlxd7YwUXkYN25cpV3nVhaurpHj+rjKS7hQCNgWe1mtktzP4d+NFYXfqg5ydWoUgNV0bHm45557cP36dcyaNQudOnWCJEno1KkTpk2bhqtXr2LUqFGmtq1bt8bBgwfRsGFDh+4dGxuL06dP47///jNt3bN7926n+6hSqaDT6SzOtWrVCjqdDpmZmejYsaPN6+Li4rBr1y6Lc8Wf27Nr1y7cc889AACtVovU1FSMGDHC4T4HBQWhTp062LZtm+k+gCHRxN5oJZE3u3r1qukPrcDAQA/3xjOcKQzMQr+VU0lTpmXhbdOtxTH71UcY19UtXrzYtHbunnvuwd69ey3W0wHA+PHjsXPnTgwfPhz79u3Dv//+i9WrV9utzdatWzc0aNAAAwYMwP79+7F9+3a89tprAKxHsEpSv3593LhxA7/88gsuXbqEnJwcNG7cGE899RT69++P7777DidOnMDu3bsxffp0rFu3DgAwcuRIrF+/Hu+++y6OHDmCTz75xKGpVwCYPXs2vv/+exw6dAjDhw/H1atXMXDgQIf7DBhGNqZPn46lS5fi8OHDmDBhAvbt22cRKBN5o9jYWAQFBVksf6hRowYiIyMRGxvrFevcPIGFfn1feRQC9sbp1uI4UudDunTpgr1795oCuBo1aiAuLg7nzp2zWCfXvHlzbNmyBa+99ho6duwIIQQaNGiAxx57zOZ95XI5fvjhBwwaNAh33nknbrvtNrz33nvo1auXVVJFSe6++24MGzYMjz32GC5fvoxJkybhzTffxMKFC/HWW2/h5ZdfRkZGBkJCQtCuXTv06NEDANC2bVt8/vnnpvZdu3bF66+/7tAvpHfeeQfTp0/HX3/9hQYNGmDVqlUIDQ11uM+AIajMzs7Gyy+/jMzMTMTFxWH16tVo1KiRU/chqmg3btzA9evXcePGDdO59957D++9954He0VUurJOnbpaCLgk3jjdWpwk3L1gyctlZ2cjODgYWVlZVmvY8vLycOLECcTExDgVrFRF27dvR4cOHXD06FE0aNDA092xcvLkScTExOCvv/7ymi2/+P1FFS0qKgoZGRmIjIz0usSFipZTCDSdYzhOf5HZrN7M3VOnDfod9Oop05LiEmdxpI4c8v333yMgIACNGjXC0aNHMWrUKLRv394rAzoiIqocbI3I6bU5bgvoKsOUqTsxqCOHXL9+Ha+88grOnDmD0NBQdO3aFTNmzPB0t4iIqJJyZESurFOnlWHK1J0Y1JFD+vfvj/79+3u6Gw6rX7++20uhEBGR+ziy3ZZcHVKlgrKyYlBHRORj1qxZg2HDhlXJenTFGXeRMN8hgtzPlcSG0pIZqtoomzswqCMi8jG5ubkWu9hU1Xp03EWiYrgjscHb679VFgzqbChpBwQiV/H7iiqKn5+faRcbb9l31RNs7SLBHSLcr6w14apaMkN54re2GZVKBZlMhnPnziEsLAwqlYpDv1RmQggUFBTg4sWLkMlkUKlUnu4S+aDU1FQUFBRApVLhgQceqPIlTIoz7iLBHSJcU9L0allrwnGa1X0Y1JmRyWSIiYnB+fPnce7cOU93h3yMv78/6tatC5mMG7mQ865fv25RRLw443Qra9LZZtwhgpznzPQqp1E9i0FdMSqVCnXr1oVWq7Xap5TIVXK5HAqFgn+NksuEEBbr5OzxtfVzxkQHVzA5wj0cnV7lNKrnMaizQZIkKJVKKJX8s46IvIMkSaZ1cvb42vo5Jjp4CbPyUCVNr3Ia1fMY1BEReamZM2ciOzsbQUFBSEpKqnLTqrYSHVzB5AjXCSFw9ud+pufeML2aV6iDXggo5TIo5YblLHq9QJ7WMLvmryr6YudrddDpBRQyGVQKQ1shBHILnW/rp5SbgtYCrR5avR5ymQS1Qm66R06B1um2er37aqry25yIyMOWL1+O5ORkXL9+3eL8+fPnodfrERkZiaSkJA/1zjsYEx1cweQI1wldLvKvpgEA1DXivGJ6dfzK/Vi17xzeeCAOz3eIAQBkXMtFx3d/g59SjvQp/2dqO2nVQXy7+wzGdm+MEfc2AgBcuVmA+Ld+BgCcfKenqe07Px3Cwu0nMbxLA4xLjAUA5BbqEJe8AQCQlpJoCgI//OUIZv92DM+1r49JvZqZ7mFsm/p6V4QEqAEA838/hvc3HsHjd0bjnUeam9rGT/kZuYU6rBsW77bPDYM6IiIPS05OxqFDh+y+7mvr5BwhhOWaOCY6uJ8jBYPNM1ujui7j9KqXk0QV20spOzsbwcHByMrKQlBQkKe7Q0SEqKgoZGRkQCaTISIiwuI14zq5vn37eqh3Fc/WWrr0FxnUuZMrBYMb9Dvo8alXwPemXwtybqJGjepuiUs4UkdE5GGtW7dGdHQ0wsLCsHr1ak93x+OKr6Xjmjj3c7ZgsDsyW43BmEoug+JWMKbTC+RrdZAgwU8lt2prDNxyCrS4+51fIZMkbBvfxSIYAwCZTLI6B8AiiDKSpLK3VSlkUMG6PJUrbbV57hv95H8TIiIPYyBnX+pgIMSvaqyJc2X/VFc5WzDYHZmtg77cg21HL2HWYy3Rp5Uhk/ufjCz0nr0dkdX9sH3Cvaa2Ly35C5vS/sO0h+/AE23qAgDuja2F7/aWXtanKmNQR0REXstfWXUCurLun+oqb8hoLY2/SoFhnRrg9OUc+CmtR9TIgGvqiIjI7cpaNDj+M8NxVVlLp9fm4NiyZqU3dDNNWEKFJUCUZfoVMKybkyT4XLKGO+MSjtQREZFb+XLR4PKaIi3r/qmuEEJAyIqmVbU6PQp0esgkCRqldYClVsghlznW1lbgZmu9mdzOWjiNjdE4mcy3grnywKCOiMjDHnzwQVy8eNFnEiV8tWhwRU2RVsR0qBACj87biYn3xyKhfk0AwIaD/2H4N3txV0xNLB3aztT2oTk7kH4+G/97vg06NgoDAPz+70UMXLQHzaOCsXpEB1Pbpz7/A6mnruLTZ+KR2Ky2qe1zC3ejUa0ArB7RwWJEjtzLi/67EBFVTXv37kVGRkap24BVRt5YNNjV0Ta9NqfcA7qK2j81t1CH1FNXMW/LcXxUJ8jmaJm7aG5llQb7KaFRWmeBkvtwTR0RkYcZ69RFRkb6xFZgOYVA0zmGY29bE+eu0bbymiKtqP1Tcwt0uP/D36ETAhtHd4KfSl7u06/mtduoCNfUERGRx9lLhjDfCcLbOFufzRZNWALk6pBKHaD4qeTYPK6LxTmFWSBmztb6Nmfa2ls3R+7HzzIRETnNF5IhXB1tq6jRNCJnMagjIiKnOZIM4W2JDsVVhvpsRM7w4v9uRERUGdhLhiivRAcqu7xCHV5YbJiGnvt0vM1pU6p8GNQREVVhrhYJNl8356/0rmQIwH6Gq3k9uKpMLwR+O3zRdEy+gUEdEZENy5cvR3JyMq5fv27z9Xnz5uGBBx4wPU9NTUXv3r0dund6ejoCAwNNzzMyPLOfpS+si7PFk1tuVRZKuQzv9W1uOibfwKCOiMiG5ORkHDp0yO7rubmWo0AFBQUOB2fFK0kNGDAAX375pUWgVxHcUSTYG9fNOZLhWlH14LyVUi7DownRnu4GuZmX/VckIvIOxhE6mUyGiIgIq9f9/CwDApVK5XDx4OKZk82bN0dsbCymTJniYm/LztUiwd6+bs5ehiszWMkXMagjIipBRESEQwWB4+PjXS4cnJSUhKSkJJeudRdvXBfnDhWd4WochTUGjAVaPbR6PRQyGVQKmalNbqEOACwK8hrbymUS1IqixIWcAsOiR41Cbtr/1Jm2hTo9CosVCtbpBfaduQqNUo7Y2kGmosJUuXEinYiqvOXLl6Np06YYN26c6VxAQAACAwMREBDgwZ6VDyEMiQ7eXCS4MhJCoO+8ndDqi6bX3994GHHJG/D+xsOmc1q9QFzyBsQlb0B2XlGWyuzfjiIueQPeWpNucd/mb25EXPIGZF7PN51buP0E4pI34NXv/rFoe9fUXxCXvAGnrhQlhCz58zTikjcgadk+07l8rQ6PzN2Jnh9tQ75WV+aPnbwDR+qIqMozrp8znz4taT1dZearyREWPJTNadxP9dMtxzCwQ4xX76Lgr1IgPEiN6Br+8GM5E5/BvV+JqMoz7r0KWCcx+BrzfVmNEiKAFY9699o4RwkhcGb9A8i/mgYAaNDvYIVNv+YUaBGXvAEAkJaSCH+VwmunXwHD/q8apYxrCz2Me78SEZUDRxMdfIUxOcLbkx2cIXS5poBOXSPOrRmuer1A3q2pSvNRuHytDjq9gFwm4e9J3QHANPqlUsigKrbSSZJs74Vqq23x93KlrVIus1m2xE/FETpfw6COiMqktHpu5pKTkzFkyBDT8/Pnz+POO+906H1++eUXNGnSxPT8m2++wSuvvFLqdbVr18aePXsszg0dOhRr16616EdV5JPJEWYjrVFdl7l1FCrzej7aTvsFCpmEo1N7mM6/tSYd/9t1CqPua4Qx3Rq77f2InMWgjojKZPHixZDJZMjMzERhYckr72/cuGHxXKfTOVzbTau13PYgJyfH5aK9V65csXltRdeJcydHd4bw5eQIIQTO/tyv6ISvDD8SOYhBHRGVyapVq3Dy5En07t0bly9fLrFt8UxSuVzu8JSnQmH548rf39+ha2vXrm11rmbNmlbXBgYGerROXFn4SvKDva29HKXX5rh96rVAq8fC7ScAAM+2r4+0lESrNq8/0BQTe8RCIWNBCfIsJkoQEVVytpIfSuNtyRHu3tqrwaP/QKasBsBQky1fq4MEyWIdWV6hDnohLNacFV83Zyv5gcidmChBRBXO3tq5Tp064euvv/ZQr6g4R3eG8LbkCEe29nKUJiwBklnG66EL2ej50TaEB6nxx6tdTeeTlu3DugMXkNK7Gfq3qw8AOHUlB13e34xAjQIH3kyEXCbhkdZRAMACveT1GNQRkUPs7YV66dIlD/SG7KlMyQ/m0616bVGxXHtbeznKnVuAqRVyzOjXwi33IipvDOqIyCH29kINDQ31VJeqNPPEiMqY/FDSdKu7t/aKrR2EtJRESLAM9Gb2a4n3HxUW5T7q1fS3uW6OqDJgUEdETnF0L1QqP76QGGFvulUTlmCR4CCEQL5Wb1E017gWTiWXQXErILO1bq5Qp8fS3WegVsjQp1WkVa02jY2dFGQy2zXkiCoDfucSkUNcLR9C7pertR3QJUQY1sp5M+OUq73pVvOpU+NeqjkFOvw0qqOp/YAFf+KPE1cw+8nW6NncMGr81+mr6DtvJ+qH+GPzuC4ADEHd6z8Y9kbt2TzCZgFeIl/i5f/9ichbPPTQQ/j+++8rdS03X2SeGOFtyQ/F2ZtytTfdatxLFTBsf+XsCJq/SoEuTcJwPU/L/U2pSmBQR0RWjHuhRkZGmqZaW7RogfT09Epby62yKamYsPkaukqVGGFjyrX4dKs5tUKO/z3fBnmFeov9Tb8c2MY0/WrUqm4Nm+vm5j4dD7WC+5tS1cCgjogcMmnSJEyaNMnT3agSfGHNHGBdTNjWlGtJmapymYSOjcKszttaCye3sxbOVlsiX+XxBQZz5sxBTEwMNBoN4uPjsXXr1hLb5+fn47XXXkO9evWgVqvRoEEDLFiwoIJ6S+RbNm/ejKioKKtHVd0L1VvYWzNXnDevoTNOtR5b1sz0OPFd0T6/xilXjqARuY9HfxwsXboUo0ePxpw5c9C+fXt8+umnuP/++5GWloa6devavKZfv37477//8MUXX6Bhw4bIzMy02hOSiKxt3rwZ+fn5UKvV6Ny5MwDDH0klJUBw/ZznlVRM2JvX0JVUTLikKVdzWp0ev/97EQBwT6MwU6YrEdnm0aBu5syZeP755zFo0CAAwKxZs7BhwwbMnTsX06ZNs2q/fv16bNmyBcePH0fNmjUBAPXr16/ILhNVWk8//bTVOjm1Wm13/9TKvBeqL6lMa+aMhBAlFhN2tDhwgU6PgYv2ADBs0cWgjqhkHgvqCgoKkJqaigkTJlic7969O3bs2GHzmtWrVyMhIQHvvvsu/ve//6FatWp48MEHMWXKFPj5lX3jZqKqpnPnzqw552WEqBzFhAt1ehTq9JBJksW6tZx8Lc7++jT0V/6E/Fbcppc0KNCrrNrmFuggIKBWyE1bcGl1ehTcuq9MktA8KhgAIPPWIUkiL+KxoO7SpUvQ6XQIDw+3OB8eHo4LFy7YvOb48ePYtm0bNBoNvv/+e1y6dAkvvvgirly5YnddXX5+PvLz803Ps7Oz3fdBEHkhe3u0cp2c96tMCRIrUs9i4ncH0C0uHJ/1TzCd7/bBFmRcewafNDyPJv6noQlLwNqD1zBm2d/o0DAUiwfdZWr74Cfb8G/mDSwZ3BbtGoQAAH45lImh/0tFfL0aWPnC3Vg9okOFf2xElZXHl9gWH4IXQtgdltfr9ZAkCV9//TWCgw1/vc2cORN9+/bF7NmzbY7WTZs2DZMnT3Z/x4m8lL09Wo24Ts57FU+Q8OZECHPmU60QetNhzMO7IVeHIHXfOQ/0iqjq8diPi9DQUMjlcqtRuczMTKvRO6OIiAhERkaaAjoAaNq0qSHL6uxZNGrUyOqaiRMnIikpyfQ8Ozsb0dHRbvooiLxPeno6Tp48id69e+Py5csWr3GdXOWROhgI8fPeRIi+8VF4sEUEzv/6NI4t+9N0fl60EiJagkoqNGW3PtA8At2bhVtNoa4e0cE0/Wp0X2wtpKUkcrqVyAUeC+pUKhXi4+OxadMmPPTQQ6bzmzZtQu/evW1e0759eyxfvhw3btxAQEAAAODIkSOQyWSIioqyeY1arYZarXb/B0DkxerXr4+///7b092gMvBXVmxAJ4RAbqEOGoUcslvr22ytm9PrBQ5kZMFPJcdtNWQQV/+0uI9GZlgQaJ7hqjDbo9WccY9Wc/baElHpPDqwn5SUhGeeeQYJCQlo164d5s+fj9OnT2PYsGEADKNsGRkZ+OqrrwAATz75JKZMmYLnnnsOkydPxqVLlzBu3DgMHDiQiRJEVKnY2jHCUwkSxj1WU09dxdZXuiC6piFT9audpzBlTRp6t6yDWY+1hNDlIqdAh96ztwMA9r9atJbO1QxXInIfjwZ1jz32GC5fvoyUlBScP38et99+O9atW4d69eoBMCzsPn36tKl9QEAANm3ahJdeegkJCQkICQlBv3798NZbb3nqQyAicpq3JUTkFuqQdi7bdGxFwGLP1mD5NESpM3HhxxGm0UR7+7cSUcWRhBDC052oSNnZ2QgODkZWVhaCgoI83R0it5s8eTKysrIQHBzMbb28VE4h0HSO/dcTIoAVj1bc9KtxO6+cAh00Clmx6VcBSZeLcz8WZa3m6lXQSAWm/mnCEhDVdRlH5ohc4M64hEEdkY+JioqyKjJM3sU8qLO1Y0RF7hRh3M7L3u4PxRWfZgU41UpkIgRQmFN6OwBQ+AEymVvjkkqQLE9E9tiqScd6dGVja62bu5mvnfP0jhElbedVnCYsAXJ1CAM4IluEABYkAmf+cKz9i7uAWk3d2gWXgrqbN2/inXfewS+//ILMzEzo9XqL148fP+6WzhFRyUqqScd6dM7ztrVu5c24nVeBXoFPzj2KwPp9MPnBOKgVtrNPOSJHVILCHMcDunLiUlA3aNAgbNmyBc888wwiIiL4n5zIQ4wjdDKZDBEREabzrEfnmuLFf8ubJ4sLm0+76qDCT1faA1cu4s0+GsgUnMQhKpOxRwFVKYlDCvdX7XDpf+5PP/2EtWvXon379u7uDxE5oVOnTrh06RJCQ0Px9ddfe7o7PsXWWjd3q8i1c8WZT7sqoMPg2/YiqOHjUMhYI47IYcY1dLJiPyxU/oCqWoV3x6WgrkaNGqhZs6a7+0JETmIgV348vdbN3YwZrkbmW3s17rsLr3KtHJFzzNfQdZoAdBpvWCcHlMsonCNcCuqmTJmC5ORkfPnll/D3Z10iIvINvloLoLQMV+N2XkTkBF0BUPsOQ1CnywdkMrcnPjjLpaBuxowZOHbsGMLDw1G/fn0olZZ/zu7du9ctnSMiqihCAH1XeLoX5aOkDFdNWAIg0+DyjXwAQM1qKgZ4RI5QqIGeM4BuKdbTrx7iUlDXp08fN3eDiMizcrVA2kXDcVyY5xIYyqL4FKuR+VSrre28cgt1iH/rZwBAWkoi/FWV8IMn7+RM3TYj87VohbmA0ANyNSC/9X2p0xpGxpxlcd88QOgAuQqQ3wrI9DpAm1e2+3qYS/9zWaWeqOLZqkmXkZEBf39/3HXXXfj111892DvfsqKv5xIYXOVoEWFu50UVxtm6bQDgHwK8YlYWbXFf4NQ24NFFQLOHDOcO/Qgsf9b5/ryZVXT8/RAgbRXQ432gzWDDuVM7gC8fcO6ed78EtB9t6LcX/NAo059jqampSE9PhyRJiIuLQ6tWrdzVLyIqxl5NupycHBYcdjMv+NnsNEeKCGvCEiDJrRdw+6sUOPlOz/LqGlVVXlC3rdzt+Bg4sxsYuN7TPQHgYlCXmZmJxx9/HJs3b0b16tUhhEBWVha6dOmCb7/9FmFhYe7uJ1GVx5p0rnF0hwjzXR68ib0p1eJKmmI1YvFgqlBylWEkrOAmEP9s0TSnM55eUTT9ahTbC3j1XNn69tB8oM9cQx+N6t3t2n2V/l7zl6BLQd1LL72E7OxsHDx4EE2bGjI90tLSMGDAAIwcORJLlixxayeJqEhERAT3dHVQZd8hwtl9WY04xUpeQa4smtp0ldJGaRC5omh9ncv31Vifk8m9an2cK1z6rKxfvx4///yzKaADgLi4OMyePRvdu3d3W+eIfJ2tdXLmdu/ebTEqR85xZYcIT+7yUJwz+7Ia2ZtiLUm+Vod3fjJM7U+4PxZqhdyp64nIO7j0o0uv11uVMQEApVJptQ8sEdlX0t6tAKDT6Sza3rhxAwEBARXRNZ/j6A4RntzlwYpZ4Tx7U6rFuTLFqtMLLNx+EgAwLrGJU9cS2aXXGZIPAMPUpox/LJQ3l4K6e++9F6NGjcKSJUtQp04dAIYsvDFjxuC+++5zaweJfJm9dXJGcnnRD8EhQ4ZUWL98UWXbIUIIgbM/9zM9L88pVYVMhuFdGpiOidxCm1eUTfrquUo/tVkZuBTUffLJJ+jduzfq16+P6OhoSJKE06dP44477sDixYvd3Ucin8d1cmVnKyHCW5MfSiOEgC7/MvKvpgEA1DXibE6p5mt10OkFFDIZVAqZ6drcQsMIr3m9udLaju3ehEkUZJ/T9eYkwyMs1uw5lTeXgrro6Gjs3bsXmzZtwqFDhyCEQFxcHLp27eru/hH5BPO1c++++y6efPJJT3fJp1T2hAhztpIjorousxlwTVp1EN/uPoOx3RtjxL2NAABXbhaYCgmblyl556dDWLj9JIZ3aYBxiYZftLmFOsQlbwDAosNUAlfqzYXFAsP/MDyowpTpf3C3bt3QrVs3d/WFyGeZr53LySn6a/eXX36BVquFQsFfpmVRWkKENyU/lKZ4coQmLAESM1nJk6pCvTkfIQnh2BbWH330EYYMGQKNRoOPPvqoxLYjR450S+fKQ3Z2NoKDg5GVlYWgoCBPd4eqiKioKGRkZAAAvv76a47UuVlOIdB0juHYVkKEVyU/2GGsR6fX5uDEd3cCMCRHyNUhplG6nAIt4qcYRuFS3+gKuUxy2/Srn1LO6VeyTVsAbJ1hOG47zLK2m10SoOIfI45wZ1zi8N+uH3zwAZ566iloNBp88MEHdttJkuTVQR2RJ0VGRjKgKwfmf5pWtoQIwH49OpnCH/laPfRCQCk3BGLGIAyAzdIjkiTZnEZ1pi2RBbkS6DQeYBKN13P4f/OJEydsHhORbQkJCbhw4QIAcBuvciQE0HeFp3tRNrbq0RnrzY1fug+r9p3DGw/E4bm762PrK10Mr7OWHFUE43q6Xh8CtZqW3p48yqWwOyUlxWJdkFFubi5SUlLK3CkiX3DhwgVkZGQgIyPDVL8xMDDQw73yPblaIO2i4TgurPKsnQMMI3R6bY7VFl8N+h20mRwhk0mIrumP6Jr+kMk4VUoVwLiebvuHhu2+yKs5vKbOnFwux/nz51GrVi2L85cvX0atWrUsCqZ6G66po4piPlIHFO3R2rdvXw/2yveYr6dLewGo5shyHy9gb8q1Qb+DFvXo8gp1pulX4xQsUYUpuAnMusOw/+qYg6w1Vw48sqbOnBDC5oLav//+GzVr1ixTh4h8xZ49ezzdhSqnMq3zN59yFQLIEyoEhrUw1aPT6wXytDqueSPPUlUDXjnu6V6Qg5z6aVGjRg1IkgRJktC4cWOLwE6n0+HGjRsYNmyY2ztJRFWTrYLCxXljgWFjJmtJjFOuQgATri3C3jM3MPWh2xFz6+fqgYws9J69HTWrqbBtfBcGd0RUKqd+SsyaNQtCCAwcOBCTJ09GcHCw6TWVSoX69eujXbt2bu8kUWUydOhQXLlyBTVr1sSnn37q6e5UWpW1oLC9aVV7CoUCIQEaADdQoC3aO9tPZUiEuC20GvyUTIogotI5FdQNGDAAWq3hz+auXbsiKiqqXDpFVJmtXbsWGRkZiIyM9HRXKrXSCgoX5y0Fhm1lspYkKLwl5ndtg9xCncWauYZhAUhLSWT9OPKswlxg8a11wE+vAJTW29WR93D6R6BCocCLL76I9PT08ugPEZEVWwWFi6voAsP2pliLZ7LKStkNQpL72awXJ5Oxhhx5mBBA/g3g1LZbz/UltyePc+knxl133YW//voL9erVc3d/iIiseFtBYUenWGUK/1KDOiKv5Mp+r+RxLgV1L774Il5++WWcPXsW8fHxqFbNMsW5efPmbukcEVVOjiQ4lMYbEyCMHJliNRYPLk1ugQ5dZ24BAPyc1Mm0lo7Io4rv9xrdFlDyDxRv51JQ99hjjwGw3ONVkiRTqRNvrlNHROWrsiY4OMWsvKe9KVbjtGqpt4JAxrVc0zGR1xl7FKgWWrlqBlVRLgV13CaMiOxxNsGhNN6SAGEkhMDZn/uZnpc2xarTC+RrdZAgWYzCGYsKy2USVg1vD8D2/qxUBkIAeq1h71IA0OsAbR6sNpsvyAGcDahlSkBxq9K1Xg9ob62vNC/OW5jr/Do0mQJQqIv6X5hj4755gHBy8ESSA0pN0XPj7hBK/6JgTZtv+HwBtz4nt6j8GdBVEi79qORaOvJla9ascajeYkBAAA4dOmRxbty4cdzn1YwjCQ6lqegEiNIIXS7yr6YBANQ14kqdYv3zxBU88dkuNKoVgE1JnUznB325B9uOXsKsx1qiTytmSrudcU3YHY8CbQYbzp3aAXz5ABAWCww3m1r8rAtw8ZDt+9jTaQLQZaLh+NJhYE5bwD/EslDv4r5FSQaOunMQ0HOG4TjnMvBeA8Pxm1lFbb4fAqStcu6+cb2Bfl8VPZ9ax/DvuGOGUTgA2PAqsPtz5+5LXsXlv3+PHTuGWbNmIT09HZIkoWnTphg1ahQaNGjgzv4RVbjc3FxkZGSU2s7WPq5Xr171mX1eXV0XZ74WztsSHMrCmO1qnt1qa39W8hLGNWHZ54CWT3J7K1dxLV2l4lJQt2HDBjz44INo2bIl2rdvDyEEduzYgWbNmuHHH39Et27d3N1Pogrj5+fnUI25gIAAq3M1atRAZGSkaZ/XyqpKrItzgt1sVzsBnVanxy+HMgEAnZuEIS0lERIs234+IAF6IaDifq7lK+tM0XG9u4FXzwHFvhYY/Btcmn41Cm1y677FPL3CtelXI/8Q2/d9aD7QZ65z95WKTe0b72sesCVOBbqlWLZTcuq1MpGEEE6vzG3VqhUSExPxzjvvWJyfMGECNm7ciL1797qtg+7mzo1ziXxVTiHQdE7Z7pEQAax4tHL+Piheg06vzcGJ7+60aKMJSzCN1AkhkFuog0ySoFHKkVOgRVzyBgBAWkoi6815Qv4NYNqtP85ePceROvJa7oxLXPpJk56ejmXLllmdHzhwIGbNmlWmDhGRd3F1XZy3rYVzVGk16IzZrsbsViEE+s7bidRTV9E8KhirR3SATJIQX68GAEBWGT8JlZ0QwML/83QviCqcS0FdWFgY9u3bh0aNGlmc37dvH2rVquWWjhF5QmpqKgoKCqBSqRAfH+/p7ngFX1oX54iSatBpwhIgV4dYrKPT6QWGd2mAeVuO42a+YRGiRinHyhfurpD+kg2FOcCFA4bj2ndwTRhVGS4FdYMHD8aQIUNw/Phx3H333ZAkCdu2bcP06dPx8ssvu7uPRBWmd+/epn1bz5496+nuVDhjcoQ3F/4tT0KIErf5slV7TiGX4d7YcLS9LYSjct7oufWVc8iYyAUuBXVvvPEGAgMDMWPGDEycaEjprlOnDt58802LgsREVHlU9eQIW9OuzmzzxXVzXooBHVUhLv0UkiQJY8aMwZgxY3D9+nUAlb98A1U9y5cvR3Jysul7GECVrjFnq2iwtxX+LU/Fp10d3eZLpxfYcewSAODuBqGQyxhEEJFnlOnHdWZmJg4fPgxJktCkSROEhYW5q19E5S45OdmqeLBRVf8jxZgcUVmTHZxla9q1+No5e/K1OjzzxZ8AmOlKRJ7l0k+f7OxsDB8+HEuWLDEVWpXL5Xjssccwe/ZsBAcHu7WTROXBfITOvC5dZa8x5w5VKTnC3rSro0WFZZKEphFBpmMiIk9xKagbNGgQ9u3bh7Vr16Jdu3aQJAk7duzAqFGjMHjwYJvlToi8TXp6OoQQkCSpyo3M2dotosomR7g47arV6VGg00MmSfhpVMfy7CIRkUNcCurWrl2LDRs2oEOHDqZziYmJ+Oyzz/B//8faQFQ5VLVAzqiqJ0SYK8u064aD/2H4N3txV0xNLB3arjy7Sa7wD/F0D4gqnEtBXUhIiM0p1uDgYNSoUaPMnSKi8mMrIcJcVUmOKOu0K3kxVTXgleOe7gVRhXPpR/frr7+OpKQkfPXVV4iIiAAAXLhwAePGjcMbb7zh1g4SUfmxtVtElUmOcGHaVacX+Ov0VQBA17haSEtJ5Do6IvIaLgV1c+fOxdGjR1GvXj3UrVsXAHD69Gmo1WpcvHgRn376qamtN+8DS1XbzJkzkZ2djaCgICQlJXm6Ox5RlRIiAMs9XR2Zdi3U6VF4a92cRilHvlaHvvN2AmCmKxF5H5d+IvXp08fN3SCqeDNnzjTtHuHLQV3xpIgqmxBRwp6u9qZdf/grA+NW7EeXJmFY+FwbSJBQP8RQjFgCR+i8VmEusLiv4fjpFYCy9MQXIl/gUlA3adIkd/eDiMoBkyKK2NvT1dFsVwDwU8mxeVwXd3eN3E3ogVPbio6JqogyzR2kpqYiPT0dkiQhLi4OrVq1cle/iMgNSkqKqAoJESVNtxq3/7K1n6tRn1aR6Nk8guvmKhu5Gnh0UdExURXh0o/0zMxMPP7449i8eTOqV68OIQSysrLQpUsXfPvtt9xZgsgLFU+K8PWECFvTrUIAeUIFyPxMQZ1h3ZzOtG4OMCRE7DtzFRqlHLG1g7j1V2UjVwDNHvJ0L4gqnMyVi1566SVkZ2fj4MGDuHLlCq5evYp//vkH2dnZGDlypLv7SEQOEsKwZs78YWRMijA+KntAZ6wxZ++hy79sFdCNPjYGD/4zE6ezhOn8kj9PIy55A5KW7TOdy9fq8Mjcnej50Tbka3UV+WEREbnMpZG69evX4+eff0bTpk1N5+Li4jB79mx0797dbZ0jIsdVpfVzJSU92BLz8G7k6dU48+4OAFrkFpYcqPmrFAgPUiO6hj/8bo3eUSWi0wKHfjQcx/YyjNwRVQEufafr9XooldZ1EJRKpWkvWCKqWFVp/Zy9pAdbNGEJkKtDECBJOPBmInIKtNAoigK1J9rURd/4KKt1c5vHdoFGKWMx4spIlw8sf9Zw/Oo5BnVUZbj0nX7vvfdi1KhRWLJkCerUqQMAyMjIwJgxY3Dfffe5tYNE5DxfWT9nnuhgzl7Sgy3FEyGK15ZTymVQyq1XovipOEJX4YQwZKvKbn3udYWArgCQ5IBSU9Su4GbJ9ynIKfl1Ih/lUlD3ySefoHfv3qhfvz6io6MhSRJOnz6NO+64A4sXL3Z3H6kKWb58OZKTk3H9+nW7bdLT0y32bZ05cyZmzpxZ6r1bt26N1atXm56HhIQgJ8c3f/j7QlFhR6dYZQr/EoM6qiSEABYkAve+AcR0NJxLXQSsGwvE9Qb6fVXUdmodj3SRyNu5FNRFR0dj79692LRpEw4dOgQhBOLi4tC1a1d394+qmOTkZBw6dKjENkIIi+fZ2dnIyMgo9d7R0dEWz1etWoUnnngC165dc7qf3qjYp6XSc2SK1Zkac/laHV797h8AwNSHb4dawZE4r1KYA5z5A9j+IRDZ2rB/a1lFtwWUDPip6nA6qNNqtdBoNNi3bx+6deuGbt26lUe/qIoyjtDJZDLTvsLFFV/jFBQUhMjIyFLvXbzUTv369dGgQQOf2CFFCKDvCk/3ws3MolR7U6wl1ZgrTqcXWLn3LABgSp9m7ukjud/RTUXH8c8CLZ80TL+ae/WcY/dS+lfOdQdELnI6qFMoFKhXrx50Oqb5U/mJiIjA2bNnHWqblJTk8jZfvrJcIFcLpF00HMeFVf6kCCEEzv7cz/TcHVOsCpkME++PNR1TJSBXGh7FuWMUj8gHufST7fXXX8fEiRNx5coVd/eHqojly5ejadOmiIqKQlRUFNasWQPAMCW6Y8cOrFq1ysM9rLxW9K38gxNCl4v8q2kAAHWNOIenWEuiUsgwtFMDDO3UACoFgzoi8j0u/T3/0Ucf4ejRo6hTpw7q1auHatUs/2rau3evWzpHvqv42rncXEOGY3x8vKe65DMqY0BXPMvVPLs1qusylhUhInKAS0Fdnz59IEmS1YJ1IkcVXzvn51f2kZiqRgjDtCtguXNEZVNqlqubAjq9XiDzej4AoFagGjJu/UVEPsapoC4nJwfjxo3DDz/8gMLCQtx33334+OOPERoaWl79Ix/nzNo5KuJLu0fYynI17tGqCW0NyIrqkxVo9dDq9VDIZKYpVCGEaYcIP6XcNKpnbCuXSVAr5MjT6tB22i8AgLSURKt6dURElZ1TC0smTZqERYsWoWfPnnjiiSfw888/44UXXiivvhGRHfZ2j6gMO0fY2rPVKObh3bjt0X8wMesrPPjPTHTf/DR0ZhMC7288jLjkDXh/42HTOa1eIC55A+KSNyA7T2s6P/u3o4hL3oC31qSbzilkEhQcoSMiH+XUj//vvvsOX3zxBR5//HEAwFNPPYX27dtDp9NBLmfNJyJPMN89wtt3jihtqlWm8Ick98OC59ri0y3HMGfzMbe9t79KgaNTe7jtfkRE3kYSTiyMU6lUOHHihEVNMD8/Pxw5csSqsKu3ys7ORnBwMLKyshAUFOTp7lRZUVFRyMjIQGRkJKdfXZBTCDSdYzhOf7Hy7B6h1+bg2DLbNeI0YQkWSRE5BYZRN1tTqq5Mv5KXK7hZtFPEq+dYtoSqDHfGJU6N1Ol0OqhUKssbKBTQarV2riAiW8yTHFxRaRMjSigoXNoerYChLImq2KoRSZIcbkteQlsA6AsBmQJQqA3nmHhHVGZOBXVCCDz77LNQq9Wmc3l5eRg2bJhFWZPvvvvOfT0knxQQEIDAwEAEBAR4uisVzpeSHJzhaEHhAq0es387CgAY3qUha8r5oq0zgC3vAHcOAnrOMJzLuezZPhH5AKd+Wg4YMAC1atVCcHCw6fH000+jTp06FuecMWfOHMTExECj0SA+Ph5bt2516Lrt27dDoVCgZcuWTr0feYdDhw4hOzu71H1efZG9JAdXVIbECCNHCwpr9Xp8+Mu/+PCXf6HV6yuyi+RJxulW7tdK5DKnfh0sXLjQrW++dOlSjB49GnPmzEH79u3x6aef4v7770daWhrq1q1r97qsrCz0798f9913H/777z+39omoIpknObjC2xMjgKLCwo4WFJbLJDzTtp7pmHxQx5eB9iMN069G/iGGtXTcr5XIZU4lSrjbXXfdhdatW2Pu3Lmmc02bNkWfPn0wbdo0u9c9/vjjaNSoEeRyOX744Qfs27fP4fdkogSVJ0fWyuUUAvGfGY4rU5KDK+xlu0Y9fABCprFIeNDrBfK0hoQH1pCrRIQACnNKbwcAQg9cPAKo/IHQJgD34CXyXKKEOxUUFCA1NRUTJkywON+9e3fs2LHD7nULFy7EsWPHsHjxYrz11lulvk9+fj7y8/NNz7Ozs13vNLlk+fLlSE5ONu0iAQAhISFYtWoV6tev77mOuVlVXitnvsWXOb02xyqg04Ql4PXVR7FybwYm3h+LoZ0aAAAyr+ej7bRfoJBJLD1SWQgBLEgEzvzh/LXMcCVyO48FdZcuXYJOp0N4eLjF+fDwcFy4cMHmNf/++y8mTJiArVu3QqFwrOvTpk3D5MmTy9xfcl3xfV4BIDo6Gm+99Rbq1q2L5ORkD/XMvZxdK1eZ1sPZU+oWX2aM2a6S3A9Yvr8CekflTgig14fA9g+Bv5c4fh3XzRGVC4//Sim+rkYIYXOtjU6nw5NPPonJkyejcePGDt9/4sSJSEpKMj3Pzs6uNDX1fEXxfV4B4MyZM7h27Rr+7//+z5NdKzeOrJWrDOvhSmNriy9bNGEJkKtDTP+3pz58O6b0aQaF2fRbrUA10lISy62vVA5kMqBWU0MGqzGL1RFcN0dULjwW1IWGhkIul1uNymVmZlqN3gGGwGDPnj3466+/MGLECACAXq+HEAIKhQIbN27Evffea3WdWq22KMFCnlOV9nn1V3rfWjljkV6ZJEGjLCrGm1eog14IqOQyKOSGIEunF8jX6iBBgp/Ksq1Or4cC+VDKZdBrc6ATEgqEEjEP/o5q/oGmtvmFOugEoJRLUKmqIbdQhzZv/wJJAv549T6rdXMyme16c1QBnFkXZx6QafMBvZbTqERewmM/QVUqFeLj47Fp0yY89NBDpvObNm1C7969rdoHBQXhwIEDFufmzJmDX3/9FStWrEBMTEy595moshJCoO+8nUg9dRVNI4Lw06iOptcGLPgTf5y4gtlPtkbP5oaR1L9OX0XfeTtRP8Qfm8d1MbV9YXEqfjt8EWOj/ofEmoZ1VCfyIvHCvxMRfmo//nitm6nty0tTse7ABaT0bob+7Qz1CB9oHoFvd5+piA+ZHOXsurhxx4BqoYbjdWOB/cuB9qMMGa0KVcnXElG58uifxUlJSXjmmWeQkJCAdu3aYf78+Th9+jSGDRsGwDB1mpGRga+++goymQy33367xfW1atWCRqOxOk9ElvQCGN21ET7dchwXr+eXfoEdQujsv1jKdJq/SoGhnRrgaOYN+Cm5bZfXKMxxLdEBAOQqQJsLHN8MdJ5QanMiKl8eDeoee+wxXL58GSkpKTh//jxuv/12rFu3DvXqGWpUnT9/HqdPn/ZkF8kNevbsiStXrqBmzZqe7kqVJZdJ6NgoDPH1akBWLPj6cmAb0/SrUau6NZCWkggJkkV26+xHG+DYqmehlLSmxIf6eoGDQgWZZFmeYma/lnj/UQGl2X3r1fTH8mHt7NaoIw8be9RQbqQk5gkOiVOBbilcI0fkJTxap84TWKeOyktOIdB0juHYV+rPlZTd2qDfQZvbfFElYFxDJ1cBugJgah3DeZYZIapw7oxLWPmR3Gb58uVo2rQpoqKiTI+EhARPd4sAaHV6/HroP/x66D9odY5vvWUvu1UTlmB3my/ycsY1dFPrAKmLAIUGGLDG8FBoPN07IioDppqR29iqR1dVCGEYqfNWBTo9Bi7aAwBIS0k0ZbnaYj7dar61l3G6FQAkuR+nUCsrbT4QWPvWcR4gkwMxHUu+hogqBQZ15Da26tHVrl3bk12qEJVhJwmZJKF5VLDp2J6SpltlCn9Ot/oCpQbo9xVQcNMw/UpEPoNBHbldVapHB1jvJOGpnSJyC3QQEFAr5JDLDIGbVqdHgU4PmSRh9YgOpd6D060+rHgtOq6dI/I5DOqI3Ch1MBDi55lEwAc/2YZ/M29gyeC2aNcgBADwy6FMDP1fKuLr1cDKF+4GUPperUacbvUhxWvRdZ0MdBjt0S4RkfsxqCMqg+Jr6fyV3l3ZwZm9Wjnd6kOK16L7eRJw+Cdg4Hrv/oYlIqcwqCNykafX0uUV6jDoS0Pyw+cDErB6RAfT9KvRfbG1kJaSaFpH58xerZxu9VHGWnSsLUfkcxjUkdu8++67yMnJgb9/1Rjd8fRaOr0Q2Hb0kunY1r6pCrP9XIUQdqdXi+N0ayWm0wK6YruGFJivpfPnejoiH8WgjlyyfPlyJCcnmzJef/nlFzz55JMe7pXneGItnUouw6zHWpqOS2Jr2pXTqz7q0I/A8mc93Qsi8gAGdeSS4jXptFqtB3vjeZ5YS6eQy9CnVWSJbYxJEXptjkVAx+lVH6LTGgI5AIjtVXLb6LaW23wRkU9hUEcuKV6TTqHwzW8lIQzTrLZ4c7FhwH5SRMzDuyFXh3B61Vfo8otG5l49ZwjsXj1nuy3X0RH5NN/8TUwVxpdr0lVEIoQQAvlaPTTKouSGnAJDFKlRyCG7VW+uUKdH4a16c8a2Or3A7pNX4KeU4/bIYFNtOtO9bSRFaMISGND5CmPdOUkG1LtVg1CSAXKF4UFEVQ7/5xPZUTwRwh5XEySEEOg7byeiavjhw8dbmc53mP4brtwswMYx96BxeCAAYEXqWUz87gC6xYXjs/6G/XTztTo8Pn8XAMPWX1aJEkKYDo1JEUyA8BHGunOXjwKvHAeeW+vpHhGRF2BQR+SA1MGGdXO2+Clcm9HKLdQh9dRVpJ66imkP32Eze7Uk/ioFIqv7ISJYAz+zkT7g1tTrz/1Mz5kU4WPM684V3GQ2KxEBYFBH5BB/pf2gzlVKuQxvPBCHAq0eSrPs1W3juwAwTL8a9Y2PQu+Wdaz2bf05qRM0SpnV6JvQ5SL/ahoAQF0jjkkRRERVAIM6IjvMZi/dzrhu7rm765vWzRnZGrFTymUWgZ+Rn0puda54Pbqorss45UpEVAUwqCOyQQig74ryu3/8lJ+RW6jD1le6ILqm+6ZFbWa8MqAjIqoSGNSRS3bv3g2dTge53HqkyBfkaoG0i4bjuLCy7RSRr9Vh0qqDAIDJvZtZbOPlbsUzXlmPjoio6mBQRy6JiIjwdBcqzIq+ZRvs0ukFvt19BgCQ3CsOAJD6RlcAluvm3KJYxivLlxARVR0M6ohK4WpMZFw3J5dJGNu9MQBAITOsi3M209URtjJeGdB5MWOdOQCAZNiT1aggB4AAFBpAdivw1xUCugKz14mILDGooyrN3o4R7tgtIi55AwAg9fWuGHFvo7LfsBTMeK1EjHXmjGVJwmKB4X8Uvf5ZF+DiIWDAGiCmo+Fc6iJg3dgK7yoRVR4M6sgl8+fPx40bNxAQEIAhQ4Z4ujsuqYgdI8qTcV9XI2a8ViLmdebKgnu5EpEZSYjyLNzgfbKzsxEcHIysrCwEBQV5ujuVVlRUFDIyMhAZGVlptwnLKQSazim5TUIEsOJR16ZgjdOvfkq52wMse/u6GjXod5DFhr1ZwU1gah3D8dijhuLBzky/GnEvV6JKz51xCUfqiGB/xwhnd4vI1+rwzk+HAAAT7o8tt0xXW/u6GjHj1ctoCwB9sfl88zVxKn/LgM54rji50vAgIrKDQR0R3LdjhE4vsHD7SQDAuMQmZb+hGfPpVvOpVuO+rkbc39XLbJ0BbHnH070goiqAQR2RGylkMgzv0sB07C4lTbdyX1cvo9cDlw4bjkNLCey5Jo6I3IhBHZEbqRQyjEuMdft97U23cqrVC2lzgTltDcevngM6vgy0H2m7LdfEEZEbMagj8jLFs1oB+9OtnGp1gEU9uFskOaDUFD0vuGn41zzI0uYDehv1bkoi3Rqd9Q8pOqdQAVA5dx8iIhcwqCNyIyEEcgt1AFzLei0tqxXgdKtTiteDM4rrDfT7qui5MRN13DGgWqjheMOrwO7PnXu/eh2A59YCrxx3vc9ERC5iUEdVVnkU88kt1JmKDqelJJa6c4StWnMlBXScbnWSu+rBERFVAgzqqEoSAui7wtN9KHlUrnhWK8Dp1jIZe7SoVIhUrNTMq+cM/5onLSROBbqlOPcekvuSY4iInMWgjlzSuHFjBAcHIzw83NNdcUmuFki7aDiOCzPUo3OE+fSq+ShcvlYHnV5ALpOQlpIIwDD9WuK9Sqk1J1eHMIAriflaOVW1ovOFeYAwfI2s68GZtTNn67xCDUDtlq4SEVUEBnXkkl9//dXTXXCbFX0dT0C8crMA8W/9DAA4+U5P0/l3fjqEhdtPYniXBg5lvwohWGuuLIqvlXszq+i174cAaas80y8iIg/iXAFVeRUdOxmnXU98d6fpnDH5wfhgQOeAx78B7n7JsbasB0dEVQD3fqUqQwjDtCtg2Pc1/jPDcfqLJe8mUaDVY/7vxwAAg++5DTq94b+MrelXhUwGlaLkv5X02hwcW9bM9FwTloCorssYyLnCWIrE3vSrEevBEZGX4t6vRE4SAnhkOZB6vvgLOuQUCChlMijlhmBMrxfI0xatm9Pq9Xh/4xEAwMAOMTYzWkvb47WkLb64dq4MbK2FM68/R0RUhTCoI5c89dRTuHTpEkJDQ/H11197ujulytXaCOgAhOTvR8KUc3jjgTg83yEGAJBxLRcd3/0Nfko50qf8H+QyCY/fGQ0AkMucD75K2+KLAZ0LtPmGOnKAIUtVwYQGIiIGdeSSLVu2ICMjA5GRkZ7uitNSBxdNt05cAay6WnJ7tUKOdx5p7vL7cYuvcqDXFhUG7pYCZqkSETGooyrIX1kU1E3v2xzTHrnDNPUKAJHV/UxlSdzCbNkqt/giIqLywqCOqjSNjVpyMplU6k4QjhJC4OzP/YruzS2+nGNr31bAsv4cEREBYFBHZpYvX47k5GRcv34dZ8+etXht8uTJ+Oyzz0zPz5+3sUCtEskp0KLD9N8AANvGd3FbEFec0OUi/2oaAEBdI47Trc6wt28rERHZxKCOTJKTk3Ho0CGbr2VlZSEjI8PqfGBgYHl3q9xcuVlQ/m9iNvXKsiVOcmTfVtafIyIyYVBHJtevX7f7WnBwsFVSRGBgIKZMmVLe3SoXGoUcG8fcYzouD8WnXlknzUmSDKjXwXD82P9sZ7iy/hwRkQmDOrJiK6N10qRJmDRpkgd6Uz5kMgmNw8t3lJFTrzbYWyMnUwIKleFYrwe0hpp+eG5txfWNiKiSY1BHVF449WqppDVynSYAXSYaji8dBua0BfxDgFeOV2wfiYgqMQZ1VCUV6vRYkWpIBukbH2VR0sQdOPVqgyNr5IiIyGUM6qhKKtTpMfG7AwCA3i3ruDWoE0JAl3+ZU68lGXsUUJklOMjMNt8NbQK8eq7i+0REVMkxqCOflFeog14IqOQyKIwBmxCA0CG3QEI1lYRuceEAAJkbR9FsbQnGqVcbVP62920FAJnM/mtERGSXe+eciLzEoC/3IC55A9bsN9TTEwJAYRak/zag18dboFHK8Vn/BHzWP8FmAWJXFd8STBOWAInFhomIqAJwpI58nhBA3xUV+Ga3xDy8G3J1CEfpiIioQjCoI5PFixcjPz8fanXl3xz98wEJpunXXC2QdhGAMhhNbk/E94+WT5Bla0swBnRERFRRGNSRSefOnT3dBQghkFuog1ohh1xmCIi0Oj0KdHrIJMliqrT4urncAh16frwVcknC6hEdTFt/FehvXSBJ+K6fAv6qcup7Za1LZ6wdJ8kApVmfC246fy+5CpDfSnrQ6wBtHgDJMimCiIjKBYM68hpCCPSdtxOpp67if8+3QcdGYQCA3/+9iIGL9qB5VDBWj+hgav/U538g9dRVfPpMPBKb1YaAQN2a/th8+CIEhM33qKiBs0qTHGFeO65eB8tiv7PuAHIuO3e/Hu8DbQYbjk/tAL58AAiLBYb/AUAyHAOGYyIicisGdeQ18rV65BToAAB5hfpSWlvzVykw9J4GuJGnhZ9SDiGAXC2QU+junjqgMgR0gGE0re0LgK4A0GvL971U/reCOyIiKg+SEML2kIaPys7ORnBwMLKyshAUFOTp7niVzZs3m9bUeXIqNqdA69L0KwDo9AKGyyQ8shxIPW957/QXAX8lyoVem4Njy5oBABr0OwhZZcp6LbjJ6VciIg9wZ1zCkToyefrpp5GRkYHIyEicPXvW6euFENALmIKxQp0ehTaCsdwCHQSE3cDNuBbOSGFea86MrVIkxvvlFFoHdAkRgJ8bv+OFEBC6XNNzvdbGnqbext7eq7bqwpW1VpxMznpzREQViEFdFbV8+XIkJyfj+vXrpnPnz58v4YqSGdfDpfRuhmZ1ggEAP/yVgXEr9qNLkzAsfK6Nqe39H/6Ok5dzsGJYOyTUrwkA2HDwPwz/Zi/uiqmJpUPbudwPW1IHG0bn/BTumxW1VWTY69nbe7VOK6D9KCC2FyDnjwQiosqKxYerqOTkZBw6dAgZGRmmh15vWMcWGBjo9P1yC3WGpIUtx5FTUM5rs2CIT3IKS34Y+SsND3cucyteZNicJizBOzNf7e29eu4vYNc8w8gaERFVWvyzvIoyjtDJZDJERESYzgcGBmLKlClO30+ChPAgNXYevwzpVmZjn1aR6Nk8wmobrp9G3WOafjVKbBaOtJREh7bsEgI218t5SszDuy3Wz0lyP+/PfC2+96rSv/IkdxARkU0M6qq4iIgIl9bPFeenkuOPV7tanFPKZVDaWAvnp7IeEbK3bs6WXK3jAZ2719HZIlP4e09ShBCANh9QaorOGRMeCszW0pW09yoREVVKDOp8XPG1c4MHD8akSZPcEsh5A+N6OXvcuY7O6xnXzAXWBvp9VXR+ah3P9YmIiCoMgzofZ1w7Z5SVleXB3rifcb1chfPGSkDma+YKbtofiYtua5huJSIin8KgzscVXzsXHBxcLu+TV6hD0rJ9AICZ/VraLDfiKmMRYSOPFBM2U3yPV68hVxl2dNDmGY6NXj1n2Y7r54iIfBKDuirCXWvn7NELgXUHLgAA3n/UfaNY3pYUAbi4x2vx+nAKP0B2aw2htgDQFwIyBaBQ227vqISB1lmsXDtHRFQlMKjzUU899RS2bNlSptpzzlDKZUjp3cx07C4lJUVURBKETWZTrw7t8WqrPtyLu4BaTQ3HW2cAW94B7hwE9JxhOJdzGXivgfN9G7AGiOno/HVERFTpMajzUZcuXUJGRobpuSu155yhlMvQv139cn2P4kkRnkiCsJp6daQD9urDERERuRGDOh8VGhqKyMhIAK7XnvM2nkiKsLUVmNNTr+aM9eEUZtd1fBloP9Iw/WrkH2K9Fs4RCk3pbYiIyCcxqPNRX3/9dYW+n14vcOqKYQ1YvZr+kMncM4TmySTT0rYCc3jqtbT6cAoVAJXlOUniWjgiInIKgzofcu+99+K///5DeHg4fv311wp97zytDl3e3wwASEtJhL+q7N9aQgB9V5T5Nq6/f2lbgZVWcNjeXqtERETlwON7v86ZMwcxMTHQaDSIj4/H1q1b7bb97rvv0K1bN4SFhSEoKAjt2rXDhg0bKrC33u3IkSNIS0vDkSNHPPL+gRoFAjXu+zshVwukXTQcx4VVTFKEEAJ6bY7pYRTz8G406HfQ9HBolK74WjrWhyMionLk0ZG6pUuXYvTo0ZgzZw7at2+PTz/9FPfffz/S0tJQt25dq/a///47unXrhqlTp6J69epYuHAhevXqhT/++AOtWrXywEdARv4qBQ68mVhu91/Rt/yTIkqabi3zVmBjjwLVQlkfjoiIyo1Hg7qZM2fi+eefx6BBgwAAs2bNwoYNGzB37lxMmzbNqv2sWbMsnk+dOhWrVq3Cjz/+yKDOzQq0emj1eshlEtSKorpnOQWGKsAahdy0bs5eW2cULzAMWBYZrohYyN50qyYswfmEiOJULPhLRETly2NBXUFBAVJTUzFhwgSL8927d8eOHTscuoder8f169dRs2ZNu23y8/ORn59vep6dne1ah73Q/PnzkZKSYnruzpp0s387ig9/+RfPtK2HKX1uN51v/uZGaPUCuybeh9rBhkzLhdtPYNpPh/BI6yjM6NfC6ffyxgLDMQ/vNo3MSXK/0qdaiYiIPMxjQd2lS5eg0+kQHh5ucT48PBwXLlxw6B4zZszAzZs30a+f/S2bpk2bhsmTJ5epr97qxo0bFrXojFypSSeEQHaeYagsyI3r4hxRUoFhwDNFhss83QoYypa8uKvomIiIqBx5PPu1+AiIEMKhUZElS5bgzTffxKpVq1CrVi277SZOnIikpCTT8+zsbERHR7veYS8SEBBgqkVn5GpNutxCHVpM3gjAkL06vEtDDO10G+TFSpPsf7M7AMP0q9Fz7WPwTLt6Vm1dUbzAMOCZIsNuIZMV7RpBRERUzjwW1IWGhkIul1uNymVmZlqN3hW3dOlSPP/881i+fDm6du1aYlu1Wg21Wl3m/nqjIUOGYMiQIeVyb5VCBpWN5GhbpUrstXVFRRYYtlVY2M1vYMiAZb05IiKqAB4L6lQqFeLj47Fp0yY89NBDpvObNm1C79697V63ZMkSDBw4EEuWLEHPnj0roqte5/z589DpdJDL5YiIiHDLPf2Ucvz79v0AAIWbCgc7yhMFhksrLOyGNwA+uxfITAfajzLsGqFQlX4dERGRizxapy4pKQmff/45FixYgPT0dIwZMwanT5/GsGHDABimTvv3729qv2TJEvTv3x8zZsxA27ZtceHCBVy4cAFZWVme+hA84s4770R0dDTuvPNOt91TkiQo5TIo5bIKTQrwVIHhUgsLlzXbVVcARLYGtLnAvxsBeQXvb0ZERFWOR9fUPfbYY7h8+TJSUlJw/vx53H777Vi3bh3q1asHwDAidfr0aVP7Tz/9FFqtFsOHD8fw4cNN5wcMGIBFixZVdPfJDcqrwHDxqdXiihcWNk+KcEu2q0IN9JwBdEsxFByulIsCiYioMpGE8OTumhUvOzsbwcHByMrKQlBQkKe745KoqChkZGQgMjISZ8+edcs9C7R6vL/xMABgbPcmUCkqZhA3pxBoOsdwnPYCUM0NM5TOTq026Hew7JmuRERELnBnXOLxbcLIO2j1esz//Tjm/34cWr3eI31w12BWSVOrxbllqtVmJwRw85LhUbX+biIiIg/xeEkTKrJ8+XIkJyfjjTfewJNPPmk6f/jwYdx3332m5+4sMmykkMkw5J7bTMfuYmunCHPmu0a45/1EiVOrxZVbYeHCHOC9BobjV88xA5aIiModgzovkpycjEOHDiEtLc3ivFardVuRYXtUChle7eHemmoVvVOErWlXtxQRJiIiqgQ4/epFrl+/DgB4++23Lc4rFApERkZaPGJjY10qMlyRStspwpw7do0oPu1ablOrREREXogjdV6o+C4RTZo0cTkhQgiB3EKdRdHgfK0OOr2AQiYzJUQYtwnzV8mhkElun5K0tVOEOXfvGhHz8G7I1SGe2bNVCKDAzYWMiYiISsGgzoMSEhIsdtRw91o5IQT6ztuJv89cw9GpPUzn31qTjv/tOoVR9zXCmG6NAQD/Zeej7bRfABi2CbO1c0RZVOROEYBh2tVjAd2CRODMHxX/3kREVKUxqPOgCxculOtaudxCHVJPXQUA5BRoSwzU/FSGvVwT6tWAn1Jut11JiidFuDsJwvZ7FtWjc/s2X64ozLEM6KLbGurUERERlTMGdR5Uu3Ztq3OBgYFuWyunUcixa+J9yCnQQqMoCtRef6ApJvaItchyDdIokJaSCD+l3KURropOijC8Zzlv9VVWY48C1UJZeJiIiCoEgzoP2rNnT7neXyaTUDtYY3VerbAeiZMkqUxTriUlRbgjCcIWe/XoPJYgUXwtnYo7SRARUcVhUEduVzwpoqxJEPa2/LJXj67cas+VhGvpiIjIwxjUecDQoUNx5coV1KxZE59++mm5vU+BVo+F208AAJ5rH1NuW38JYbl+zp1JEY5OsXq8Hp3QA/e+AWz/EDi6iWvpiIiowjGo84C1a9ea9m4tT1q9HtN+OgQAeKZdPajKoSxhea+lc2TLL6+oRyeTAzEdgcjWhudKTr0SEVHFYlDnw+QyCY+0jjIdl4fia+nKa/0cYH/LL7dOtwphyGB1hPnWX4V5gNBxOzAiIvIYBnU+TK2QY0a/FhX2fqmDgRC/8hugKvcpVmfXxb2ZVXS8YiBwYT/QfhQQ/ywgr8CifEREROA2YeRG/spKPuNYvMacM+QKIOsMcGAFIOPfSkREVPH424fKRIjyvLfwXEHhsUcNJUkc9dB8oM9crqUjIiKPYVDnw3IKtLhrqmHrrz9evc/tW38JAfRd4dZbmt27ggoLF+YaMlflasvzKn/n1scpresBEhERVSQGdT7uep629EYuytUCaRcNx3Fh7k2QKJ71Wm4Zrov7Aqe2AY8uAmJ7Gf4FrIM8IiIiL8egzodpFHL8Nraz6bg8rejr2KyjvULCxRUvLCxXh5R/QWG5Amj2UPm+BxERUTlhUOfDZDIJMaEVU2LD0YDOlSlVmcK//AK6p1fYnn4lIiKqZBjUecATTzyBq1evokaNGp7uSoVypJBwcW6ddjXWoCvMBWa3MZwbfYC15YiIyCcwqPOA9957r0Lep1Cnx5I/TwMAnmhTF0q5ZyrYGKdc7e3VWhK3FRbm3qxEROTjGNT5sEKdHsmrDgIA+sZHeSSoszflWuF7tdqqQcf9WYmIyIcwqPNhMklCjztqm449QWhzrAI6j+/VaqxBx5pyRETkQxjU+TCNUo45T8V77P2FEDj7cz/Tc+OUq1v3anW8M0XHztagIyIiqgS4TVg5W758OZo2bYqoqCjTQ5IkSJKE2NhYT3evTErbTULocpF/NQ0AoK4RB7k6pHwzWe12RAAL/69i35OIiKiCcaSunCUnJ+PQoUM2X6vw4MZJJdWUEwLou1wD498Fem0O9MU+HPPEiKiuyzz38RbmABcOGI5r38F1dERE5JMY1JWz69evAwBkMhkiIiJM5wMDAzFlypRyfe/cAh06v/8bAGDz2C7wUzlegLi0mnK5wg9plwyjcA0UB3HuuwdKXp7mLQHsc+u9py9ERERuxKCugkRERODs2bPl/j55hTrohYBSLoOAwH/Z+QAAgVLmSotxpqbcrOr9SoyTyjUxwlh7DpJhrZxRQQ4AASiK7cnKgI6IiHwUgzof88LiVPx2+CLe69scD7eOwtqRHQAAarNtwoQw7NtaEn2hQK4wBGL1H/zdqvxITiGAhYbj2x7eDX+l/XuVW2KEee25sFhguFnJks+6ABcPAQPWAHXbAj3eN5yXq9zfDyIiIi/AoK6czZs3D7m5ufDzq/gSHnKZhGZ1gi3OCQE8shxIPV/a1dUAGKZXsaDkloaac672sgxs1Z6zRa4E2gwu//4QERF5EIO6cvbAAw9U6PvNfTreNP1qS67WkYDOcQkRgJ83fBc9u87y+eDfYHP6lYiIyEd5w69jciON0vFkiNTBgL/SOstVr83BydX3AABue2g3ZEr7Nd38FKUsUzOtebNDkgFKs1HMgpuGfxV+gOxWYKotAPSF1tcWmN1XWSx4UzHDlYiIqhYGdT4it0CH+z/8HQDw06h7HMp09VcCfgrbWa5+twI1f5Xk+tSqI/ut1usAPLe26PmsO4Ccy8CLu4BaTQ3nts4AtrzjYieIiIiqBgZ15Sw1NRUFBQVQqVSIjy+/3R0EBE5ezjEd221X7KWSslzLnLXq6Jq3suIerkRERAzqylvv3r2RkZGByMjIci1polbIsWJYO9OxkfnUqu2CwUVTmMZtvIzcmrVq3G+1OKnY2r/Rt4oEK8yCyY4vA+1H2r8393AlIiJiUOcr5DIJCfVrWpwrXkC4tILBhixWF0e8jGvhzAMsXUHR647ut2qrjUIFgKVIiIiISsK9X31YSVOrxQsGl3mqdWodwyPnctG5X99y/X5ERETkFI7U+QitTo8NB/8DACQ2C4eiWEmTmId3I0/4A/MNz4sXDC63AsEA17wRERFVAAZ1PqJAp8fwb/YCAPa8kQh/lQx6LUy7QuQJf0NQd4vbCwa/es7wr3nwljgV6JbCNW9EREQVgEGdj5BJEu6KqYmDF4H4zyRAAgB/mHaFmO/EzQrzAKFzrgM218KpAaiduw8RERG5hEGdj9Ao5Vg4sB2azim9bam7QHw/BEhb5VwH4noDD823LgJMREREFYJBnY9KHQxopBwc/y4BAHDbw3tMma0Wu0AU3DQkOACGKVRHMlRtuf7frZE5IiIi8gQGdZWIEIa9W+3JMdtJy18JaCDgJ+Wanju8hu6h+UCfuc51juvmiIiIPIpBXSUhBPDIciD1vL0GOuDSDsNx6N0QQoazv/QDhIAkYNgnVW9jpwlJDow7Zjg2JjlwCpWIiKjSYVBXztLT0yGEKHO5kFxtCQEdYAjetNkAgJbhAhopF/lXDiLqzHX45WmBdxvYvu7OQUDPGWXqGxEREXkeg7pyFhgY6PZ7pg6GqcaccRswnV7gjxMtAACdG+VD6HIhCRgCOiIiIvJ5DOoqIX+l4VF8G7CYW6+f2m/412Js0N7eq24tVkdERESewt/oFai0RIeSmCdBmO5XwjZgVhzde5WIiIgqJQZ15WzmzJnIzs5GYGAQtkcnlbwuzglCCOi1Oabn0b3/xLaThkzXexrWhEImQfq8O4Cr7nlDIiIi8moM6srZzJkzkZGRgTqRkVCMSyrz/RIiAI3cctoVALSSBoP+9ycAIC0lESoUAprqhhcjWnLvVSIiIh/HoM4DzBMdnOWnsJ521YQlQK7wQ/OoYACGLcOg9AOeW2soLswackRERD6PQZ0HGBMdACC3QAcBAbVCDrnMEHhpdXoU6PSQSRI0ChlQmAMhBHJyb+ImACXyIN2qORfVcwt0imBI+kKsHtHBcFO93hDMAVxHR0REVEUwqPOwrjO3IONaLlYNb48W0dUBAGv2n8fopfvQoUEIFsuSgTN/QAJgHp41NB582BwAsLTaU3hs3K2NXy8dBua0BfxDgFeOV9BHQkRERJ4k83QHqorLOaW3KU4t8oAzf7i/M0RERORzJCGEjb2jfFd2djaCg4ORlZWFoKCgcn+/qKgoZGRkQB4cicjJZxEbokNd/V8AgI+faAUhYH/6tTAHmveiAQDHb6uOHKhQt+dG+KkDIJdJkOQa6PTC0FahgkbjZ3hTvR7QGjJhOf1KRETkvdwZl3D6tYIt7iNw51v/AQD0QsBfZf0lUMhlUMhlEKJoIFUvk6CWaREQHA6ZoiiTVQEbX0SZjMEcERFRFcOgroKpFDJMe/gOAIBSbnv227j1l77gKnQquem8JiwBktyvQvpJRERElQuDunJgvnNE8bltpVyGJ9rULeHaYjXo6hvKlMQ8vBtydQgkliYhIiIiGxjUuZkQwCPLYdo54mr11lApoiEPCHPsehtbf2nCEhjQERERUYkY1LmJEAK5hTrohRyp5w3Bl5/+OuoO/J+h8K8kR+vwm1BrBQ6cyYZGJUeD0GqQJEDo8kz30YuiTV5j+uyCDHJIfgzoiIiIqGQM6txACIG+83Yi9dRVbErqAsCQyPBXzh3wKzTbe/UagEPAHcWuNw/XLtXyB6prAACy039C9u3TQFgsMPg3QMWtvoiIiMg21qlzg9xCHdLOZQMAcgp0brmnJiwBkjr41pPqhm2/iIiIiOzgSJ0b+KsUSEtJxM3cG9Cbxcl5L/wJnUxALgFqZVEWa06BDn5KGYQuFydX3wMAqP/g75Ap/BEqVyJUroQk94Mk9MCr57h3KxEREZWKQZ2zhAAKc4qdEji7uT/yLv+FPJ0GK7LrQispcHbtcYyedQpXsvWoGSTDvJfDre93q+CwzD/Uov4cAECSs94cEREROYRBnTOEABYkWm3dJQFQRAQAgSoAAirk407tLhxABA6eKMB/V3UIryG3eUuA9eeIiIio7BjUOaMwx+5erGsut8ferIaYMng03vh8OwbmzUPTR76DYmJj4Oo5KPzD0aDfQZvXSnI/ZrcSERFRmTCoc9Gx+G7IufYPACBfr8Q76U9DBzkm6PywQdkL65R9kK6UUJTbKllPrxIRERG5CYM6JwhRFKL1PPYlcqVb692EHgg4BgC4Z3E1QGJSMREREVUsj0cfc+bMQUxMDDQaDeLj47F169YS22/ZsgXx8fHQaDS47bbbMG/evHLrmxACem2O6XEzL9d2Q0kGBDYyPG4FdAkRgB9DZiIiIqogHg07li5ditGjR2POnDlo3749Pv30U9x///1IS0tD3brW+6OeOHECPXr0wODBg7F48WJs374dL774IsLCwvDII4+4tW9We7ACyNOpTYWDF9fsCJU8D7c9vMfmtKqfglVIiIiIqOJ4dKRu5syZeP755zFo0CA0bdoUs2bNQnR0NObOnWuz/bx581C3bl3MmjULTZs2xaBBgzBw4EC8//77bu+brT1YzamlHNSo1QzVNH7wUwjk5ucjNz8ffgoBfyUDOiIiIqpYHgvqCgoKkJqaiu7du1uc7969O3bs2GHzmp07d1q1T0xMxJ49e1BYWGjzGneIeXg3GvQ7iJgHtxWde3AborougyRJyC3UIf6tnxH/1s/ILXTPjhJEREREzvDY9OulS5eg0+kQHm5ZkDc8PBwXLlywec2FCxdsttdqtbh06RIiIiKsrsnPz0d+fr7peVZWFgAgOzu7xP7ptTm4kaMHANzI0UKm0CInpxD6fAEAhmPpuuG4QAt9fo7pvlpV0adVCGH6t7T3JCIioqrFGBsY44Wy8PhS/uL12YQQJdZss9Xe1nmjadOmYfLkyVbno6OjHe/kYOtgEe/Usdk0YpbtW5w7dw7BwcGOvycRERFVGZcvXy5znOCxoC40NBRyudxqVC4zM9NqNM6odu3aNtsrFAqEhITYvGbixIlISkoyPdfr9bhy5QpCQkIsAsHs7GxER0fjzJkzCAoKcvXDogrEr1nlw69Z5cKvV+XDr1nlk5WVhbp166JmzZplvpfHgjqVSoX4+Hhs2rQJDz30kOn8pk2b0Lt3b5vXtGvXDj/++KPFuY0bNyIhIQFKpdLmNWq1Gmq12uJc9erV7fYrKCiI/xEqGX7NKh9+zSoXfr0qH37NKh+ZrOxpDh7Nfk1KSsLnn3+OBQsWID09HWPGjMHp06cxbNgwAIZRtv79+5vaDxs2DKdOnUJSUhLS09OxYMECfPHFFxg7dqynPgQiIiIir+DRNXWPPfYYLl++jJSUFJw/fx6333471q1bh3r16gEAzp8/j9OnT5vax8TEYN26dRgzZgxmz56NOnXq4KOPPnJ7jToiIiKiysbjiRIvvvgiXnzxRZuvLVq0yOpcp06dsHfvXrf3Q61WY9KkSVZTteS9+DWrfPg1q1z49ap8+DWrfNz5NZOEO3JoiYiIiMijPL73KxERERGVHYM6IiIiIh/AoI6IiIjIBzCoAzBnzhzExMRAo9EgPj4eW7du9XSXyI5p06bhzjvvRGBgIGrVqoU+ffrg8OHDnu4WOWHatGmQJAmjR4/2dFeoBBkZGXj66acREhICf39/tGzZEqmpqZ7uFtmh1Wrx+uuvIyYmBn5+frjtttuQkpICvV7v6a7RLb///jt69eqFOnXqQJIk/PDDDxavCyHw5ptvok6dOvDz80Pnzp1x8OBBp96jygd1S5cuxejRo/Haa6/hr7/+QseOHXH//fdblFIh77FlyxYMHz4cu3btwqZNm6DVatG9e3fcvHnT010jB+zevRvz589H8+bNPd0VKsHVq1fRvn17KJVK/PTTT0hLS8OMGTNKLNxOnjV9+nTMmzcPn3zyCdLT0/Huu+/ivffew8cff+zprtEtN2/eRIsWLfDJJ5/YfP3dd9/FzJkz8cknn2D37t2oXbs2unXrhuvXrzv8HlU++/Wuu+5C69atMXfuXNO5pk2bok+fPpg2bZoHe0aOuHjxImrVqoUtW7bgnnvu8XR3qAQ3btxA69atMWfOHLz11lto2bIlZs2a5elukQ0TJkzA9u3bOWtRiTzwwAMIDw/HF198YTr3yCOPwN/fH//73/882DOyRZIkfP/99+jTpw8AwyhdnTp1MHr0aIwfPx4AkJ+fj/DwcEyfPh1Dhw516L5VeqSuoKAAqamp6N69u8X57t27Y8eOHR7qFTkjKysLANyyZx6Vr+HDh6Nnz57o2rWrp7tCpVi9ejUSEhLw6KOPolatWmjVqhU+++wzT3eLStChQwf88ssvOHLkCADg77//xrZt29CjRw8P94wcceLECVy4cMEiHlGr1ejUqZNT8YjHiw970qVLl6DT6RAeHm5xPjw8HBcuXPBQr8hRQggkJSWhQ4cOuP322z3dHSrBt99+i71792L37t2e7go54Pjx45g7dy6SkpLw6quv4s8//8TIkSOhVqsttm4k7zF+/HhkZWUhNjYWcrkcOp0Ob7/9Np544glPd40cYIw5bMUjp06dcvg+VTqoM5IkyeK5EMLqHHmfESNGYP/+/di2bZunu0IlOHPmDEaNGoWNGzdCo9F4ujvkAL1ej4SEBEydOhUA0KpVKxw8eBBz585lUOelli5disWLF+Obb75Bs2bNsG/fPowePRp16tTBgAEDPN09clBZ45EqHdSFhoZCLpdbjcplZmZaRcvkXV566SWsXr0av//+O6KiojzdHSpBamoqMjMzER8fbzqn0+nw+++/45NPPkF+fj7kcrkHe0jFRUREIC4uzuJc06ZNsXLlSg/1iEozbtw4TJgwAY8//jgA4I477sCpU6cwbdo0BnWVQO3atQEYRuwiIiJM552NR6r0mjqVSoX4+Hhs2rTJ4vymTZtw9913e6hXVBIhBEaMGIHvvvsOv/76K2JiYjzdJSrFfffdhwMHDmDfvn2mR0JCAp566ins27ePAZ0Xat++vVWpoCNHjqBevXoe6hGVJicnBzKZ5a90uVzOkiaVRExMDGrXrm0RjxQUFGDLli1OxSNVeqQOAJKSkvDMM88gISEB7dq1w/z583H69GkMGzbM010jG4YPH45vvvkGq1atQmBgoGmUNTg4GH5+fh7uHdkSGBhoteaxWrVqCAkJ4VpILzVmzBjcfffdmDp1Kvr164c///wT8+fPx/z58z3dNbKjV69eePvtt1G3bl00a9YMf/31F2bOnImBAwd6umt0y40bN3D06FHT8xMnTmDfvn2oWbMm6tati9GjR2Pq1Klo1KgRGjVqhKlTp8Lf3x9PPvmk428iSMyePVvUq1dPqFQq0bp1a7FlyxZPd4nsAGDzsXDhQk93jZzQqVMnMWrUKE93g0rw448/ittvv12o1WoRGxsr5s+f7+kuUQmys7PFqFGjRN26dYVGoxG33XabeO2110R+fr6nu0a3/PbbbzZ/fw0YMEAIIYRerxeTJk0StWvXFmq1Wtxzzz3iwIEDTr1Hla9TR0REROQLqvSaOiIiIiJfwaCOiIiIyAcwqCMiIiLyAQzqiIiIiHwAgzoiIiIiH8CgjoiIiMgHMKgjIiIi8gEM6oiIiIh8AIM6IiIiIh/AoI6IyI1yc3Ph7++PQ4cOeborRFTFMKgjInKjTZs2ITo6GrGxsZ7uChFVMQzqiKhK6dy5M0aMGIERI0agevXqCAkJweuvvw7jNtj5+fl45ZVXEB0dDbVajUaNGuGLL74AAFy9ehVPPfUUwsLC4Ofnh0aNGmHhwoUW91+1ahUefPBBAMCbb76Jli1bYsGCBahbty4CAgLwwgsvQKfT4d1330Xt2rVRq1YtvP322xX7SSAin6TwdAeIiCral19+ieeffx5//PEH9uzZgyFDhqBevXoYPHgw+vfvj507d+Kjjz5CixYtcOLECVy6dAkA8MYbbyAtLQ0//fQTQkNDcfToUeTm5pruq9frsWbNGqxcudJ07tixY/jpp5+wfv16HDt2DH379sWJEyfQuHFjbNmyBTt27MDAgQNx3333oW3bthX+uSAi38GgjoiqnOjoaHzwwQeQJAlNmjTBgQMH8MEHH6BTp05YtmwZNm3ahK5duwIAbrvtNtN1p0+fRqtWrZCQkAAAqF+/vsV9d+3aBb1ej7vvvtt0Tq/XY8GCBQgMDERcXBy6dOmCw4cPY926dZDJZGjSpAmmT5+OzZs3M6gjojLh9CsRVTlt27aFJEmm5+3atcO///6Lv/76C3K5HJ06dbJ53QsvvIBvv/0WLVu2xCuvvIIdO3ZYvL5q1So88MADkMmKfrTWr18fgYGBpufh4eGIi4uzaBMeHo7MzEx3fXhEVEUxqCMiukWj0ZT4+v33349Tp05h9OjROHfuHO677z6MHTvW9Prq1avRu3dvi2uUSqXFc0mSbJ7T6/Vl7D0RVXUM6oioytm1a5fV80aNGqFFixbQ6/XYsmWL3WvDwsLw7LPPYvHixZg1axbmz58PAPj3339x8uRJdO/evVz7TkRkD4M6Iqpyzpw5g6SkJBw+fBhLlizBxx9/jFGjRqF+/foYMGAABg4ciB9++AEnTvx/O3dsokoUQGH4PARBK9DEcMDMyEwwsA7NDAQLcAJLEDNbEDPBAmzCTFjBVE0N9wXyCnjsgjB+XwGXudkPh7lfOR6P2e12SZLlcpn9fp/z+ZzT6ZTD4ZBut5vkNb2ORqM0m813Xg34YH6UAD7OeDzO8/lMv99PrVbLfD7PdDpNkmw2m5Rlmdlslvv9nk6nk7IskyT1ej2LxSKXyyWNRiODwSDb7TbJK+omk8nb7gTw5/vf40wAH2A4HKbX62W9Xv/ambfbLe12O9frNa1W69fOBfgf5leAH3o8HlmtVoIOeCvzK8APFUWRoije/RnAhzO/AgBUgPkVAKACRB0AQAWIOgCAChB1AAAVIOoAACpA1AEAVICoAwCoAFEHAFABog4AoAL+Amx7RvqY3ifPAAAAAElFTkSuQmCC",
      "application/papermill.record/text/plain": "<Figure size 640x480 with 1 Axes>"
     },
     "metadata": {
      "scrapbook": {
       "mime_prefix": "application/papermill.record/",
       "name": "lake-cumumlative-dist-forecast-prior"
      }
     },
     "output_type": "display_data"
    }
   ],
   "source": [
    "lkl_lv = lake_results['this_land_use']\n",
    "weights = gfcast.land_use_weights(lkl_lv, session_config.feature_variables)\n",
    "g,w  =gfcast.select_prior_data_by_feature_weight(o_land_use_l.df_cat, weights, session_config.feature_variables)\n",
    "posterior_by_weight, c  = gfcast.posterior_dirichlet_counts(lkl_l, g['pcs/m'].values)\n",
    "t, y, u= gfcast.dirichlet_posterior(posterior_by_weight)\n",
    "\n",
    "fig, ax = plt.subplots()\n",
    "\n",
    "sns.ecdfplot(prr_l, label='prior', ls='-', ax=ax, c=palette['prior'], zorder=1)\n",
    "sns.ecdfplot(lkl_l, label='observed', ls='-', ax=ax, c=palette['likelihood'], zorder=1)\n",
    "sns.ecdfplot(sample_values, label='expected 99%', ls=':', zorder=2)\n",
    "sns.ecdfplot(xii, label='expected max', ls='-.', zorder=2)\n",
    "sns.ecdfplot(t, label='weighted prior', c='black', ls='--', lw=2, ax=ax, zorder=5)\n",
    "ax.set_xlim(-.1, 10)\n",
    "ax.legend()\n",
    "plt.tight_layout()\n",
    "glue('lake-cumumlative-dist-forecast-prior', fig, display=False)\n",
    "plt.close()"
   ]
  },
  {
   "cell_type": "code",
   "execution_count": 12,
   "id": "6152ceb7-1615-4cae-a6d6-549743a20522",
   "metadata": {
    "editable": true,
    "slideshow": {
     "slide_type": ""
    },
    "tags": [
     "remove-input"
    ]
   },
   "outputs": [
    {
     "data": {
      "application/papermill.record/image/png": "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",
      "application/papermill.record/text/plain": "<Figure size 640x480 with 1 Axes>"
     },
     "metadata": {
      "scrapbook": {
       "mime_prefix": "application/papermill.record/",
       "name": "river-prior-likelihood"
      }
     },
     "output_type": "display_data"
    },
    {
     "data": {
      "application/papermill.record/text/markdown": "__Given the 99th percentile of all observed samples__\n* Average: 2.07\n* HDI 95%: 0.5 - 4.3\n* 90% Range: 0.5 - 4.2",
      "application/papermill.record/text/plain": "<IPython.core.display.Markdown object>"
     },
     "metadata": {
      "scrapbook": {
       "mime_prefix": "application/papermill.record/",
       "name": "river-forecast-99-list"
      }
     },
     "output_type": "display_data"
    },
    {
     "data": {
      "application/papermill.record/text/markdown": "__Given the observed max__\n* Average: 1.9\n* HDI 95%: 0.55 - 4.55\n* 90% Range: 0.46 - 4.55",
      "application/papermill.record/text/plain": "<IPython.core.display.Markdown object>"
     },
     "metadata": {
      "scrapbook": {
       "mime_prefix": "application/papermill.record/",
       "name": "river-forecast-max-list"
      }
     },
     "output_type": "display_data"
    },
    {
     "data": {
      "application/papermill.record/text/html": "<style type=\"text/css\">\n#T_348e6 tr:nth-child(even) {\n  background-color: rgba(139, 69, 19, 0.08);\n}\n#T_348e6 tr:nth-child(odd) {\n  background: #FFF;\n}\n#T_348e6 tr {\n  font-size: 10px;\n}\n#T_348e6 th {\n  background-color: #FFF;\n  font-size: 12px;\n  text-align: left;\n  width: auto;\n  word-break: keep-all;\n}\n#T_348e6 td {\n  padding: 4px;\n  font-size: 12px;\n  text-align: center;\n}\n#T_348e6 caption {\n  caption-side: bottom;\n  font-size: 1em;\n  text-align: left;\n}\n</style>\n<table id=\"T_348e6\">\n  <thead>\n    <tr>\n      <th class=\"blank level0\" >&nbsp;</th>\n      <th id=\"T_348e6_level0_col0\" class=\"col_heading level0 col0\" >% of total</th>\n    </tr>\n    <tr>\n      <th class=\"index_name level0\" >material</th>\n      <th class=\"blank col0\" >&nbsp;</th>\n    </tr>\n  </thead>\n  <tbody>\n    <tr>\n      <th id=\"T_348e6_level0_row0\" class=\"row_heading level0 row0\" >cloth</th>\n      <td id=\"T_348e6_row0_col0\" class=\"data row0 col0\" >9%</td>\n    </tr>\n    <tr>\n      <th id=\"T_348e6_level0_row1\" class=\"row_heading level0 row1\" >glass</th>\n      <td id=\"T_348e6_row1_col0\" class=\"data row1 col0\" >7%</td>\n    </tr>\n    <tr>\n      <th id=\"T_348e6_level0_row2\" class=\"row_heading level0 row2\" >metal</th>\n      <td id=\"T_348e6_row2_col0\" class=\"data row2 col0\" >8%</td>\n    </tr>\n    <tr>\n      <th id=\"T_348e6_level0_row3\" class=\"row_heading level0 row3\" >plastic</th>\n      <td id=\"T_348e6_row3_col0\" class=\"data row3 col0\" >71%</td>\n    </tr>\n  </tbody>\n</table>\n",
      "application/papermill.record/text/plain": "<pandas.io.formats.style.Styler at 0x72cb18136c70>"
     },
     "metadata": {
      "scrapbook": {
       "mime_prefix": "application/papermill.record/",
       "name": "river-material-report"
      }
     },
     "output_type": "display_data"
    },
    {
     "data": {
      "application/papermill.record/text/markdown": "The most common objects account for 85% of all objects",
      "application/papermill.record/text/plain": "<IPython.core.display.Markdown object>"
     },
     "metadata": {
      "scrapbook": {
       "mime_prefix": "application/papermill.record/",
       "name": "river-ratio-most-common"
      }
     },
     "output_type": "display_data"
    },
    {
     "data": {
      "application/papermill.record/text/markdown": "<font color=#daa520>2017-05-03 - 2017-05-03</font>\n* Number of samples: 1\n* Total number of objects: 135\n* Average sample count: 2.85\n",
      "application/papermill.record/text/plain": "<IPython.core.display.Markdown object>"
     },
     "metadata": {
      "scrapbook": {
       "mime_prefix": "application/papermill.record/",
       "name": "river-prior-sampling-summary"
      }
     },
     "output_type": "display_data"
    },
    {
     "data": {
      "application/papermill.record/text/markdown": "<font color=#1e90ff>2020-10-19 - 2021-02-24 </font>\n* Number of samples: 4\n* Total number of objects: 603\n* Average sample count: 2.58\n",
      "application/papermill.record/text/plain": "<IPython.core.display.Markdown object>"
     },
     "metadata": {
      "scrapbook": {
       "mime_prefix": "application/papermill.record/",
       "name": "river-observed-sampling-summary"
      }
     },
     "output_type": "display_data"
    },
    {
     "data": {
      "application/papermill.record/text/html": "<style type=\"text/css\">\n#T_6a8c0 tr:nth-child(even) {\n  background-color: rgba(139, 69, 19, 0.08);\n}\n#T_6a8c0 tr:nth-child(odd) {\n  background: #FFF;\n}\n#T_6a8c0 tr {\n  font-size: 10px;\n}\n#T_6a8c0 th {\n  background-color: #FFF;\n  font-size: 12px;\n  text-align: left;\n  width: auto;\n  word-break: keep-all;\n}\n#T_6a8c0 td {\n  padding: 4px;\n  font-size: 12px;\n  text-align: center;\n}\n#T_6a8c0 caption {\n  caption-side: top;\n  font-size: 1em;\n  text-align: left;\n  margin-bottom: 10px;\n}\n#T_6a8c0 caption {\n  caption-side: top;\n  font-size: .9em;\n  text-align: left;\n  font-style: italic;\n  color: #000;\n}\n#T_6a8c0 td:nth-child(1) {\n  text-align: left;\n}\n</style>\n<table id=\"T_6a8c0\">\n  <thead>\n    <tr>\n      <th id=\"T_6a8c0_level0_col0\" class=\"col_heading level0 col0\" >Object</th>\n      <th id=\"T_6a8c0_level0_col1\" class=\"col_heading level0 col1\" >Quantity</th>\n      <th id=\"T_6a8c0_level0_col2\" class=\"col_heading level0 col2\" >pcs/m</th>\n      <th id=\"T_6a8c0_level0_col3\" class=\"col_heading level0 col3\" >% of total</th>\n      <th id=\"T_6a8c0_level0_col4\" class=\"col_heading level0 col4\" >Fail rate</th>\n    </tr>\n  </thead>\n  <tbody>\n    <tr>\n      <td id=\"T_6a8c0_row0_col0\" class=\"data row0 col0\" >Diapers - wipes</td>\n      <td id=\"T_6a8c0_row0_col1\" class=\"data row0 col1\" >169</td>\n      <td id=\"T_6a8c0_row0_col2\" class=\"data row0 col2\" >0,58</td>\n      <td id=\"T_6a8c0_row0_col3\" class=\"data row0 col3\" >0,28</td>\n      <td id=\"T_6a8c0_row0_col4\" class=\"data row0 col4\" >0,75</td>\n    </tr>\n    <tr>\n      <td id=\"T_6a8c0_row1_col0\" class=\"data row1 col0\" >Industrial sheeting</td>\n      <td id=\"T_6a8c0_row1_col1\" class=\"data row1 col1\" >105</td>\n      <td id=\"T_6a8c0_row1_col2\" class=\"data row1 col2\" >0,42</td>\n      <td id=\"T_6a8c0_row1_col3\" class=\"data row1 col3\" >0,17</td>\n      <td id=\"T_6a8c0_row1_col4\" class=\"data row1 col4\" >1,00</td>\n    </tr>\n    <tr>\n      <td id=\"T_6a8c0_row2_col0\" class=\"data row2 col0\" >Bags; plastic shopping/carrier/grocery and pieces</td>\n      <td id=\"T_6a8c0_row2_col1\" class=\"data row2 col1\" >41</td>\n      <td id=\"T_6a8c0_row2_col2\" class=\"data row2 col2\" >0,36</td>\n      <td id=\"T_6a8c0_row2_col3\" class=\"data row2 col3\" >0,07</td>\n      <td id=\"T_6a8c0_row2_col4\" class=\"data row2 col4\" >0,75</td>\n    </tr>\n    <tr>\n      <td id=\"T_6a8c0_row3_col0\" class=\"data row3 col0\" >Construction material; bricks, pipes, cement</td>\n      <td id=\"T_6a8c0_row3_col1\" class=\"data row3 col1\" >36</td>\n      <td id=\"T_6a8c0_row3_col2\" class=\"data row3 col2\" >0,09</td>\n      <td id=\"T_6a8c0_row3_col3\" class=\"data row3 col3\" >0,06</td>\n      <td id=\"T_6a8c0_row3_col4\" class=\"data row3 col4\" >0,25</td>\n    </tr>\n    <tr>\n      <td id=\"T_6a8c0_row4_col0\" class=\"data row4 col0\" >Plastic construction waste</td>\n      <td id=\"T_6a8c0_row4_col1\" class=\"data row4 col1\" >26</td>\n      <td id=\"T_6a8c0_row4_col2\" class=\"data row4 col2\" >0,09</td>\n      <td id=\"T_6a8c0_row4_col3\" class=\"data row4 col3\" >0,04</td>\n      <td id=\"T_6a8c0_row4_col4\" class=\"data row4 col4\" >0,75</td>\n    </tr>\n    <tr>\n      <td id=\"T_6a8c0_row5_col0\" class=\"data row5 col0\" >Clothing, towels & rags</td>\n      <td id=\"T_6a8c0_row5_col1\" class=\"data row5 col1\" >24</td>\n      <td id=\"T_6a8c0_row5_col2\" class=\"data row5 col2\" >0,06</td>\n      <td id=\"T_6a8c0_row5_col3\" class=\"data row5 col3\" >0,04</td>\n      <td id=\"T_6a8c0_row5_col4\" class=\"data row5 col4\" >0,50</td>\n    </tr>\n    <tr>\n      <td id=\"T_6a8c0_row6_col0\" class=\"data row6 col0\" >Food wrappers; candy, snacks</td>\n      <td id=\"T_6a8c0_row6_col1\" class=\"data row6 col1\" >17</td>\n      <td id=\"T_6a8c0_row6_col2\" class=\"data row6 col2\" >0,06</td>\n      <td id=\"T_6a8c0_row6_col3\" class=\"data row6 col3\" >0,03</td>\n      <td id=\"T_6a8c0_row6_col4\" class=\"data row6 col4\" >0,75</td>\n    </tr>\n    <tr>\n      <td id=\"T_6a8c0_row7_col0\" class=\"data row7 col0\" >Tampons</td>\n      <td id=\"T_6a8c0_row7_col1\" class=\"data row7 col1\" >14</td>\n      <td id=\"T_6a8c0_row7_col2\" class=\"data row7 col2\" >0,07</td>\n      <td id=\"T_6a8c0_row7_col3\" class=\"data row7 col3\" >0,02</td>\n      <td id=\"T_6a8c0_row7_col4\" class=\"data row7 col4\" >0,75</td>\n    </tr>\n    <tr>\n      <td id=\"T_6a8c0_row8_col0\" class=\"data row8 col0\" >Cans, beverage</td>\n      <td id=\"T_6a8c0_row8_col1\" class=\"data row8 col1\" >14</td>\n      <td id=\"T_6a8c0_row8_col2\" class=\"data row8 col2\" >0,05</td>\n      <td id=\"T_6a8c0_row8_col3\" class=\"data row8 col3\" >0,02</td>\n      <td id=\"T_6a8c0_row8_col4\" class=\"data row8 col4\" >0,75</td>\n    </tr>\n    <tr>\n      <td id=\"T_6a8c0_row9_col0\" class=\"data row9 col0\" >Other metal pieces > 50cm</td>\n      <td id=\"T_6a8c0_row9_col1\" class=\"data row9 col1\" >10</td>\n      <td id=\"T_6a8c0_row9_col2\" class=\"data row9 col2\" >0,03</td>\n      <td id=\"T_6a8c0_row9_col3\" class=\"data row9 col3\" >0,02</td>\n      <td id=\"T_6a8c0_row9_col4\" class=\"data row9 col4\" >0,25</td>\n    </tr>\n    <tr>\n      <td id=\"T_6a8c0_row10_col0\" class=\"data row10 col0\" >Clothes, footware, headware, gloves</td>\n      <td id=\"T_6a8c0_row10_col1\" class=\"data row10 col1\" >9</td>\n      <td id=\"T_6a8c0_row10_col2\" class=\"data row10 col2\" >0,08</td>\n      <td id=\"T_6a8c0_row10_col3\" class=\"data row10 col3\" >0,01</td>\n      <td id=\"T_6a8c0_row10_col4\" class=\"data row10 col4\" >0,50</td>\n    </tr>\n    <tr>\n      <td id=\"T_6a8c0_row11_col0\" class=\"data row11 col0\" >Drink bottles  > 0.5L</td>\n      <td id=\"T_6a8c0_row11_col1\" class=\"data row11 col1\" >8</td>\n      <td id=\"T_6a8c0_row11_col2\" class=\"data row11 col2\" >0,02</td>\n      <td id=\"T_6a8c0_row11_col3\" class=\"data row11 col3\" >0,01</td>\n      <td id=\"T_6a8c0_row11_col4\" class=\"data row11 col4\" >0,50</td>\n    </tr>\n    <tr>\n      <td id=\"T_6a8c0_row12_col0\" class=\"data row12 col0\" >Packaging films nonfood or unknown</td>\n      <td id=\"T_6a8c0_row12_col1\" class=\"data row12 col1\" >7</td>\n      <td id=\"T_6a8c0_row12_col2\" class=\"data row12 col2\" >0,07</td>\n      <td id=\"T_6a8c0_row12_col3\" class=\"data row12 col3\" >0,01</td>\n      <td id=\"T_6a8c0_row12_col4\" class=\"data row12 col4\" >0,50</td>\n    </tr>\n    <tr>\n      <td id=\"T_6a8c0_row13_col0\" class=\"data row13 col0\" >Rope, synthetic</td>\n      <td id=\"T_6a8c0_row13_col1\" class=\"data row13 col1\" >5</td>\n      <td id=\"T_6a8c0_row13_col2\" class=\"data row13 col2\" >0,04</td>\n      <td id=\"T_6a8c0_row13_col3\" class=\"data row13 col3\" >0,01</td>\n      <td id=\"T_6a8c0_row13_col4\" class=\"data row13 col4\" >0,75</td>\n    </tr>\n    <tr>\n      <td id=\"T_6a8c0_row14_col0\" class=\"data row14 col0\" >Straps/bands;  hard, plastic package fastener</td>\n      <td id=\"T_6a8c0_row14_col1\" class=\"data row14 col1\" >5</td>\n      <td id=\"T_6a8c0_row14_col2\" class=\"data row14 col2\" >0,02</td>\n      <td id=\"T_6a8c0_row14_col3\" class=\"data row14 col3\" >0,01</td>\n      <td id=\"T_6a8c0_row14_col4\" class=\"data row14 col4\" >0,75</td>\n    </tr>\n    <tr>\n      <td id=\"T_6a8c0_row15_col0\" class=\"data row15 col0\" >Foamed items & pieces (non packaging/insulation) foamed sponge material</td>\n      <td id=\"T_6a8c0_row15_col1\" class=\"data row15 col1\" >4</td>\n      <td id=\"T_6a8c0_row15_col2\" class=\"data row15 col2\" >0,03</td>\n      <td id=\"T_6a8c0_row15_col3\" class=\"data row15 col3\" >0,01</td>\n      <td id=\"T_6a8c0_row15_col4\" class=\"data row15 col4\" >0,50</td>\n    </tr>\n    <tr>\n      <td id=\"T_6a8c0_row16_col0\" class=\"data row16 col0\" >Fragmented plastics</td>\n      <td id=\"T_6a8c0_row16_col1\" class=\"data row16 col1\" >4</td>\n      <td id=\"T_6a8c0_row16_col2\" class=\"data row16 col2\" >0,01</td>\n      <td id=\"T_6a8c0_row16_col3\" class=\"data row16 col3\" >0,01</td>\n      <td id=\"T_6a8c0_row16_col4\" class=\"data row16 col4\" >0,50</td>\n    </tr>\n    <tr>\n      <td id=\"T_6a8c0_row17_col0\" class=\"data row17 col0\" >Drink bottles < = 0.5L</td>\n      <td id=\"T_6a8c0_row17_col1\" class=\"data row17 col1\" >3</td>\n      <td id=\"T_6a8c0_row17_col2\" class=\"data row17 col2\" >0,02</td>\n      <td id=\"T_6a8c0_row17_col3\" class=\"data row17 col3\" >0,00</td>\n      <td id=\"T_6a8c0_row17_col4\" class=\"data row17 col4\" >0,50</td>\n    </tr>\n    <tr>\n      <td id=\"T_6a8c0_row18_col0\" class=\"data row18 col0\" >Bags</td>\n      <td id=\"T_6a8c0_row18_col1\" class=\"data row18 col1\" >3</td>\n      <td id=\"T_6a8c0_row18_col2\" class=\"data row18 col2\" >0,01</td>\n      <td id=\"T_6a8c0_row18_col3\" class=\"data row18 col3\" >0,00</td>\n      <td id=\"T_6a8c0_row18_col4\" class=\"data row18 col4\" >0,50</td>\n    </tr>\n    <tr>\n      <td id=\"T_6a8c0_row19_col0\" class=\"data row19 col0\" >Cans, food</td>\n      <td id=\"T_6a8c0_row19_col1\" class=\"data row19 col1\" >3</td>\n      <td id=\"T_6a8c0_row19_col2\" class=\"data row19 col2\" >0,02</td>\n      <td id=\"T_6a8c0_row19_col3\" class=\"data row19 col3\" >0,00</td>\n      <td id=\"T_6a8c0_row19_col4\" class=\"data row19 col4\" >0,50</td>\n    </tr>\n    <tr>\n      <td id=\"T_6a8c0_row20_col0\" class=\"data row20 col0\" >Expanded polystyrene</td>\n      <td id=\"T_6a8c0_row20_col1\" class=\"data row20 col1\" >3</td>\n      <td id=\"T_6a8c0_row20_col2\" class=\"data row20 col2\" >0,03</td>\n      <td id=\"T_6a8c0_row20_col3\" class=\"data row20 col3\" >0,00</td>\n      <td id=\"T_6a8c0_row20_col4\" class=\"data row20 col4\" >0,50</td>\n    </tr>\n    <tr>\n      <td id=\"T_6a8c0_row21_col0\" class=\"data row21 col0\" >Cups, lids, single use foamed and hard plastic</td>\n      <td id=\"T_6a8c0_row21_col1\" class=\"data row21 col1\" >2</td>\n      <td id=\"T_6a8c0_row21_col2\" class=\"data row21 col2\" >0,02</td>\n      <td id=\"T_6a8c0_row21_col3\" class=\"data row21 col3\" >0,00</td>\n      <td id=\"T_6a8c0_row21_col4\" class=\"data row21 col4\" >0,50</td>\n    </tr>\n    <tr>\n      <td id=\"T_6a8c0_row22_col0\" class=\"data row22 col0\" >Cigarette filters</td>\n      <td id=\"T_6a8c0_row22_col1\" class=\"data row22 col1\" >2</td>\n      <td id=\"T_6a8c0_row22_col2\" class=\"data row22 col2\" >0,02</td>\n      <td id=\"T_6a8c0_row22_col3\" class=\"data row22 col3\" >0,00</td>\n      <td id=\"T_6a8c0_row22_col4\" class=\"data row22 col4\" >0,50</td>\n    </tr>\n    <tr>\n      <td id=\"T_6a8c0_row23_col0\" class=\"data row23 col0\" >Industrial scrap</td>\n      <td id=\"T_6a8c0_row23_col1\" class=\"data row23 col1\" >2</td>\n      <td id=\"T_6a8c0_row23_col2\" class=\"data row23 col2\" >0,01</td>\n      <td id=\"T_6a8c0_row23_col3\" class=\"data row23 col3\" >0,00</td>\n      <td id=\"T_6a8c0_row23_col4\" class=\"data row23 col4\" >0,50</td>\n    </tr>\n    <tr>\n      <td id=\"T_6a8c0_row24_col0\" class=\"data row24 col0\" >Dog feces bag</td>\n      <td id=\"T_6a8c0_row24_col1\" class=\"data row24 col1\" >2</td>\n      <td id=\"T_6a8c0_row24_col2\" class=\"data row24 col2\" >0,01</td>\n      <td id=\"T_6a8c0_row24_col3\" class=\"data row24 col3\" >0,00</td>\n      <td id=\"T_6a8c0_row24_col4\" class=\"data row24 col4\" >0,50</td>\n    </tr>\n  </tbody>\n</table>\n",
      "application/papermill.record/text/plain": "<pandas.io.formats.style.Styler at 0x72cb180d2a30>"
     },
     "metadata": {
      "scrapbook": {
       "mime_prefix": "application/papermill.record/",
       "name": "river-most_common_objects"
      }
     },
     "output_type": "display_data"
    },
    {
     "data": {
      "application/papermill.record/text/markdown": "__Summary of selected data__\n* Number of samples: 5\n* Total number of objects: 738\n* Average sample count: 2.64\n* Date of first sample: 2017-05-03\n* Date of last sample: 2021-02-24\n",
      "application/papermill.record/text/plain": "<IPython.core.display.Markdown object>"
     },
     "metadata": {
      "scrapbook": {
       "mime_prefix": "application/papermill.record/",
       "name": "river-sampling-summary"
      }
     },
     "output_type": "display_data"
    },
    {
     "data": {
      "application/papermill.record/text/markdown": "__Features surveyed__\n* Rivers: 3\n\n",
      "application/papermill.record/text/plain": "<IPython.core.display.Markdown object>"
     },
     "metadata": {
      "scrapbook": {
       "mime_prefix": "application/papermill.record/",
       "name": "river-feature-inventory"
      }
     },
     "output_type": "display_data"
    },
    {
     "data": {
      "application/papermill.record/text/markdown": "__Administrative boundaries__\n* Survey locations: 5\n* Cities: 3\n\n",
      "application/papermill.record/text/plain": "<IPython.core.display.Markdown object>"
     },
     "metadata": {
      "scrapbook": {
       "mime_prefix": "application/papermill.record/",
       "name": "river-administrative-boundaries"
      }
     },
     "output_type": "display_data"
    }
   ],
   "source": [
    "river_params = {'canton':canton, 'date_range':o_dates, 'feature_type': 'r'}\n",
    "river_params_p = {'canton':canton, 'date_range':prior_dates, 'feature_type':'r'}\n",
    "\n",
    "\n",
    "o_prior_r = d[(d.canton != canton)&(d.feature_type == 'r')].copy()\n",
    "o_report_r, o_land_use_r = gfcast.make_report_objects(o_prior_r)\n",
    "\n",
    "river_results = gfcast.reports_and_forecast(river_params,river_params_p , ldata=d.copy(), logger=logger, other_data=o_land_use_r.df_cat)\n",
    "\n",
    "# collect the results from the prior and the likelihood\n",
    "prr_r = river_results['prior_report'].sample_results.groupby('sample_id')['pcs/m'].sum()\n",
    "lkl_r = river_results['this_report'].sample_results.groupby('sample_id')['pcs/m'].sum()\n",
    "\n",
    "# consider all values\n",
    "r_xii = river_results['posterior_no_limit'].sample_posterior()\n",
    "\n",
    "# limit to the 99th percentile\n",
    "r_sample_values, r_posterior, r_summary_simple = gfcast.dirichlet_posterior(river_results['posterior_99'])\n",
    "\n",
    "ros = river_results['this_report'].object_summary()\n",
    "ros.reset_index(drop=False, inplace=True)\n",
    "\n",
    "r_most_common_objects, rmc_codes , rproportions = userdisplay.most_common(ros)\n",
    "r_most_common_objects = r_most_common_objects.set_caption(\"\")\n",
    "\n",
    "ratio_most_common_r = Markdown(f'The most common objects account for {int(rproportions*100)}% of all objects')\n",
    "\n",
    "c_all_r = d[(d.canton == canton)&(d.feature_type == 'r')].reset_index(drop=True)\n",
    "\n",
    "call_r_surveys, call_r_land = gfcast.make_report_objects(c_all_r)\n",
    "\n",
    "t = call_r_surveys.inventory()\n",
    "t['material'] = t.index.map(lambda x: userdisplay.code_material.loc[x, 'material'])\n",
    "material_report = t.groupby(['material']).quantity.sum()\n",
    "mrr = material_report/sum(material_report)\n",
    "mrr = (mrr*100).astype(int)\n",
    "mrr = pd.DataFrame(mrr[mrr > 1])\n",
    "mrr['% of total'] = mrr.quantity.apply(lambda x: f'{x}%')\n",
    "mrr = mrr[['% of total']]\n",
    "mrr = mrr.style.set_table_styles(userdisplay.table_css_styles)\n",
    "\n",
    "\n",
    "r_feature_inv = call_r_surveys.feature_inventory().copy()\n",
    "r_feature_inv.pop('p')\n",
    "r_feature_inv.pop('l')\n",
    "r_feature_inv = Markdown(userdisplay.feature_inventory(r_feature_inv, session_language='en'))\n",
    "\n",
    "r_admin_bounds = call_r_surveys.administrative_boundaries().copy()\n",
    "\n",
    "r_admin_bounds.pop('canton')\n",
    "r_admin_bounds.pop('parent_boundary')\n",
    "r_admin_b = Markdown(userdisplay.boundaries(r_admin_bounds, session_language='en'))\n",
    "\n",
    "headerr = userdisplay.sampling_result_summary(call_r_surveys.sampling_results_summary, session_language='en')[0]\n",
    "infor = userdisplay.sampling_result_summary(call_r_surveys.sampling_results_summary, session_language='en')[1]\n",
    "r_samp_sum_all = Markdown(f'{headerr}\\n{infor}')\n",
    "\n",
    "p_summary_r = river_results['prior_report'].sampling_results_summary.copy()\n",
    "p_header_r = f\"<font color=#daa520>{dt.datetime.strftime(p_summary_r.pop('start'), format=session_config.date_format)} - {dt.datetime.strftime(p_summary_r.pop('end'), format=session_config.date_format)}</font>\"\n",
    "p_info_r = userdisplay.sampling_result_summary(p_summary_r, session_language='en')[1]\n",
    "p_samp_sum_r = Markdown(f'{p_header_r}\\n{p_info_r}')\n",
    "\n",
    "l_summary_r = river_results['this_report'].sampling_results_summary.copy()\n",
    "l_header_r = f\"<font color=#1e90ff>{dt.datetime.strftime(l_summary_r.pop('start'), format=session_config.date_format)} - {dt.datetime.strftime(l_summary_r.pop('end'), format=session_config.date_format)} </font>\"\n",
    "l_info_r = userdisplay.sampling_result_summary(l_summary_r, session_language='en')[1]\n",
    "l_samp_sum_r = Markdown(f'{l_header_r}\\n{l_info_r}')\n",
    "\n",
    "new_list_r = display_forecast(r_summary_simple)\n",
    "new_list2_r = display_forecast(river_results['posterior_no_limit'].get_descriptive_statistics())\n",
    "new_list1_r = Markdown('__Given the 99th percentile of all observed samples__' + new_list_r)\n",
    "new_list2_r = Markdown('__Given the observed max__' + new_list2_r)\n",
    "\n",
    "fig, ax = plt.subplots()\n",
    "\n",
    "o_surveys = river_results['this_report'].sample_results\n",
    "p_surveys = river_results['prior_report'] .sample_results\n",
    "\n",
    "sns.histplot(data=o_surveys, x='pcs/m', stat='probability', label='observed', ax=ax, color=palette['likelihood'])\n",
    "sns.histplot(data=p_surveys, x='pcs/m', stat='probability', label='prior',ax=ax, color=palette['prior'])\n",
    "ax.legend()\n",
    "plt.tight_layout()\n",
    "glue('river-prior-likelihood', fig, display=False)\n",
    "plt.close()\n",
    "\n",
    "\n",
    "# fig, ax = plt.subplots()\n",
    "\n",
    "# sns.ecdfplot(prr_r, label='prior', ls='-', ax=ax, c=palette['prior'])\n",
    "# sns.ecdfplot(lkl_r, label='observed', ls='-', ax=ax, c=palette['likelihood'])\n",
    "# sns.ecdfplot(sample_values, label='expected 99%', ls=':')\n",
    "# sns.ecdfplot(xii, label='expected max', ls='-.')\n",
    "# ax.set_xlim(-.1, 10)\n",
    "# ax.legend()\n",
    "# plt.tight_layout()\n",
    "# glue('river-cumumlative-dist-forecast-prior', fig, display=False)\n",
    "# plt.close()\n",
    "\n",
    "glue('river-forecast-99-list',new_list1_r, display=False)\n",
    "glue('river-forecast-max-list',new_list2_r, display=False)\n",
    "glue('river-material-report', mrr, display=False)\n",
    "glue('river-ratio-most-common', ratio_most_common_r, display=False)\n",
    "glue('river-prior-sampling-summary', p_samp_sum_r, display=False)\n",
    "glue('river-observed-sampling-summary',l_samp_sum_r, display=False)\n",
    "glue('river-most_common_objects', r_most_common_objects, display=False)\n",
    "glue('river-sampling-summary', r_samp_sum_all, display=False)\n",
    "glue('river-feature-inventory', r_feature_inv, display=False)\n",
    "glue('river-administrative-boundaries', r_admin_b, display=False)"
   ]
  },
  {
   "cell_type": "code",
   "execution_count": 13,
   "id": "c02b8eec-4bae-41d7-96d5-d5c380b35e17",
   "metadata": {
    "editable": true,
    "slideshow": {
     "slide_type": ""
    },
    "tags": [
     "remove-input"
    ]
   },
   "outputs": [
    {
     "data": {
      "application/papermill.record/image/png": "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",
      "application/papermill.record/text/plain": "<Figure size 640x480 with 1 Axes>"
     },
     "metadata": {
      "scrapbook": {
       "mime_prefix": "application/papermill.record/",
       "name": "river-cumumlative-dist-forecast-prior"
      }
     },
     "output_type": "display_data"
    }
   ],
   "source": [
    "lkl_lv = river_results['this_land_use']\n",
    "weights = gfcast.land_use_weights(lkl_lv, session_config.feature_variables)\n",
    "g,w  =gfcast.select_prior_data_by_feature_weight(o_land_use_r.df_cat, weights, session_config.feature_variables)\n",
    "posterior_by_weight, c  = gfcast.posterior_dirichlet_counts(lkl_r, g['pcs/m'].values)\n",
    "t, y, u= gfcast.dirichlet_posterior(posterior_by_weight)\n",
    "\n",
    "fig, ax = plt.subplots()\n",
    "\n",
    "sns.ecdfplot(prr_r, label='prior', ls='-', ax=ax, c=palette['prior'], zorder=1)\n",
    "sns.ecdfplot(lkl_r, label='observed', ls='-', ax=ax, c=palette['likelihood'], zorder=1)\n",
    "sns.ecdfplot(sample_values, label='expected 99%', ls=':', ax=ax, zorder=2)\n",
    "sns.ecdfplot(xii, label='expected max', ls='-.', ax=ax, zorder=2)\n",
    "sns.ecdfplot(t, label='weighted prior', c='black', ls='--', lw=2, ax=ax, zorder=5)\n",
    "ax.set_xlim(-.1, 10)\n",
    "ax.legend()\n",
    "plt.tight_layout()\n",
    "glue('river-cumumlative-dist-forecast-prior', fig, display=False)\n",
    "plt.close()"
   ]
  },
  {
   "cell_type": "markdown",
   "id": "720e6d85-e449-48cd-8412-3e243934e678",
   "metadata": {
    "editable": true,
    "slideshow": {
     "slide_type": ""
    },
    "tags": []
   },
   "source": [
    "# Canton Vaud\n",
    "\n",
    "This is a sample cantonal report. The structure and the format are based off of the federal report, [IQAASL](https://hammerdirt-analyst.github.io/IQAASL-End-0f-Sampling-2021/). This version is intended for\n",
    "use as a decsion support tool. Thus, the user is expected to be familiar with the results in the federal report and the methods described in the _Guide for Monitoring Marine Litter on European Seas_ [The guide](https://mcc.jrc.ec.europa.eu/main/dev.py?N=41&O=439&titre_chap=TG%20Litter&titre_page=Guidance%20for%20the%20Monitoring%20of%20Marine%20Litter).\n",
    "\n",
    "The report will automatically generate a summary of the most common objects found. Therefore, if the user does not know what items \n",
    "or objects require a particular focus (if any) the report will provide a list of likely suspects.\n",
    "\n",
    "__The assessment begins with indentifying if attributed resources or action plans are inline with what is on the ground, given the observations.__\n",
    "\n",
    "The survey records are considered according to land use and separated into thematic groups, lakes and rivers. Finally, the results\n",
    "for each municipality are presented in a table, summarizing the survey results and land use for each.\n",
    "\n",
    ":::{dropdown} Where does the data come from ?\n",
    "\n",
    "The data is a combination of observations from variety of groups since 2015. The observations were recorded using an interpretations of the _Guide for Monitoring Marine Litter on European Seas_ [The guide](https://mcc.jrc.ec.europa.eu/main/dev.py?N=41&O=439&titre_chap=TG%20Litter&titre_page=Guidance%20for%20the%20Monitoring%20of%20Marine%20Litter).\n",
    "\n",
    "The guide and the monitoring of beach litter are part of decades of research, here is the brief history [A Brief History of Marine Litter Research](https://link.springer.com/chapter/10.1007/978-3-319-16510-3_1).\n",
    "\n",
    "__Common sense guidance:__\n",
    "\n",
    "1. The data should be considered as a reasonable estimate of the minimum amount of trash on the ground at the time of the survey.\n",
    "2. There are many sources of variance. We have considered the following:\n",
    "   * litter density between sampling groups.\n",
    "   * litter density with respect to topographical features.\n",
    "3. There are differences in detect-ability and appearance for items of the same code that are due to the effects of decomposition.\n",
    "4. Many surveyors are volunteers and have different levels of experience or physical constraints that limit what will actually be collected and counted.\n",
    "5. Comparing like items will yield better results and more accurate predictions\n",
    "   * Grouping items by category of use\n",
    "   * Selecting specific items\n",
    "   * Using the _most common items_\n",
    "  \n",
    "\n",
    "__Application__\n",
    "\n",
    "This data can be used to measure the efficiency of current measures and identify priorties for the future. This we can do because of the basic assumptions of the data model:\n",
    "\n",
    "1. The more there is on the ground, the more will be picked up or the more that will be seen.\n",
    "\n",
    "From this follows a consideration of the amount of resources that are dedicated to preventing and reomving the insult\n",
    "\n",
    "2. The amount on the ground is what remains after resources have been attributed\n",
    "\n",
    "For lakes and rivers\n",
    "\n",
    "3. Their is an exchange between the beach and water\n",
    "\n",
    "\n",
    "\n",
    ":::\n",
    "\n",
    "## Vital statistics\n",
    "\n",
    "::::::::::{tab-set}\n",
    "\n",
    ":::::::::{tab-item} All data\n",
    "\n",
    "::::::::{grid} 2 2 2 2\n",
    ":gutter: 1\n",
    "\n",
    ":::::::{grid-item}\n",
    ":columns: 12 4 4 4\n",
    "\n",
    "```{glue} feature-inventory\n",
    "```\n",
    "```{glue} administrative-boundaries\n",
    "```\n",
    "```{glue} sampling-summary\n",
    "```\n",
    "__Material composition__\n",
    "\n",
    "```{glue} material-report\n",
    "```\n",
    ":::::::\n",
    "\n",
    ":::::::{grid-item}\n",
    ":columns: 12 8 8 8\n",
    "\n",
    "::::::{grid} 1 1 1 1\n",
    "\n",
    ":::::{grid-item}\n",
    "```{glue} prior-likelihood\n",
    "```\n",
    "\n",
    ":::::\n",
    "\n",
    ":::::{grid-item}\n",
    "::::{grid} 2 2 2 2 \n",
    "\n",
    ":::{grid-item} <font color=#daa520> Prior </font>\n",
    "```{glue} prior-sampling-summary\n",
    "```\n",
    ":::\n",
    ":::{grid-item} <font color=#1e90ff> Observed </font>\n",
    "```{glue} l-sampling-summary\n",
    "```\n",
    ":::\n",
    "\n",
    "::::\n",
    "\n",
    ":::::\n",
    "\n",
    ":::::::\n",
    "\n",
    "::::::::\n",
    "\n",
    ":::::::::\n",
    "\n",
    "\n",
    "\n",
    ":::::::::{tab-item} Lakes\n",
    "\n",
    "::::::::{grid} 2 2 2 2\n",
    ":gutter: 1\n",
    "\n",
    ":::::::{grid-item}\n",
    ":columns: 12 4 4 4\n",
    "```{glue} lake-feature-inventory\n",
    "```\n",
    "```{glue} lake-administrative-boundaries\n",
    "```\n",
    "```{glue} lake-sampling-summary\n",
    "```\n",
    "__Material composition__\n",
    "\n",
    "```{glue} lake-material-report\n",
    "```\n",
    ":::::::\n",
    "\n",
    ":::::::{grid-item}\n",
    ":columns: 12 8 8 8\n",
    "\n",
    "::::::{grid} 1 1 1 1\n",
    "\n",
    ":::::{grid-item}\n",
    "```{glue} lake-prior-likelihood\n",
    "```\n",
    "\n",
    ":::::\n",
    "\n",
    ":::::{grid-item}\n",
    "::::{grid} 2 2 2 2 \n",
    "\n",
    ":::{grid-item} <font color=#daa520> Prior </font>\n",
    "```{glue} lake-prior-sampling-summary\n",
    "```\n",
    ":::\n",
    ":::{grid-item} <font color=#1e90ff> Observed </font>\n",
    "```{glue} lake-observed-sampling-summary\n",
    "```\n",
    ":::\n",
    "\n",
    "::::\n",
    "\n",
    ":::::\n",
    "\n",
    ":::::::\n",
    "\n",
    "::::::::\n",
    ":::::::::\n",
    "\n",
    ":::::::::{tab-item} Rivers\n",
    "\n",
    "::::::::{grid} 2 2 2 2\n",
    ":gutter: 1\n",
    "\n",
    ":::::::{grid-item}\n",
    ":columns: 12 4 4 4\n",
    "```{glue} river-feature-inventory\n",
    "```\n",
    "```{glue} river-administrative-boundaries\n",
    "```\n",
    "```{glue} river-sampling-summary\n",
    "```\n",
    "__Material composition__\n",
    "\n",
    "```{glue} river-material-report\n",
    "```\n",
    ":::::::\n",
    "\n",
    ":::::::{grid-item}\n",
    ":columns: 12 8 8 8\n",
    "\n",
    "::::::{grid} 1 1 1 1\n",
    "\n",
    ":::::{grid-item}\n",
    "```{glue} river-prior-likelihood\n",
    "```\n",
    "\n",
    ":::::\n",
    "\n",
    ":::::{grid-item}\n",
    "::::{grid} 2 2 2 2 \n",
    "\n",
    ":::{grid-item} <font color=#daa520> Prior </font>\n",
    "```{glue} river-prior-sampling-summary\n",
    "```\n",
    ":::\n",
    ":::{grid-item} <font color=#1e90ff> Observed </font>\n",
    "```{glue} river-observed-sampling-summary\n",
    "```\n",
    ":::\n",
    "\n",
    "::::\n",
    "\n",
    ":::::\n",
    "\n",
    ":::::::\n",
    "\n",
    "::::::::\n",
    "\n",
    "::::::::::\n",
    "\n",
    ":::{dropdown} How to make a report\n",
    "\n",
    "__Survey and Land use__\n",
    "\n",
    "A report is the implementation of a `SurveyReport`, `LandUseReport` or a  `GridForecaster`. The `SurveyReport` is the basic \n",
    "element and does the initial aggregating and descriptive statistics for a query.\n",
    "\n",
    "The land-use-report accepts `SurveyReport.sample_results` and assigns the land-use attributes to the record. The \n",
    "land-use-report provides the baseline assessment of litter density with reference to the surrounding environment. \n",
    "The assessment accepts as variables the proportion of available space that a topographical feature occupies in a \n",
    "circle of $\\pi r² \\text{ where r = 1 500 meters}$ and the center of that circle is the survey location. \n",
    "These proportions are compared to the `average pieces per meter` for an object or group of objects.\n",
    "\n",
    "\n",
    "__Create a report__\n",
    "\n",
    "A report can be intiated by providing the name of the canton. If your canton does not appear this is because we have no data. The prior dates will be calculated automatically, by taking all data prior to the start date of the querry.\n",
    "\n",
    "```{code} python\n",
    "\n",
    "import reports\n",
    "import geospatial\n",
    "import gridforecast\n",
    "\n",
    "# suppose you have defined your data into df\n",
    "observed_dates = {'start':'2020-01-01', 'end':'2021-12-31'}\n",
    "\n",
    "# everything that was seen before\n",
    "prior_dates = {'start':'2015-11-15', 'end':'2019-12-31'}\n",
    "\n",
    "# name the canton\n",
    "canton = 'Bern'\n",
    "\n",
    "# define the dates of interest\n",
    "data_of_interest = {'canton':canton, 'date_range':observed_dates}\n",
    "sampling_history = {'canton':canton, 'date_range':prior_dates}\n",
    "\n",
    "# filter the data\n",
    "filtered_data, locations = gridforeacast.filter_data(df, data_of_interest)\n",
    "\n",
    "# make a survey report\n",
    "this_report = reports.SurveyReport(dfc=filtered_data)\n",
    "\n",
    "# generate the parameters for the landuse report\n",
    "target_df = this_report.sample_results\n",
    "features = geospatial.collect_topo_data(locations=target_df.location.unique())\n",
    "\n",
    "# make a landuse report\n",
    "this_land_use = geospatial.LandUseReport(target_df, features)\n",
    "```\n",
    "\n",
    "Each report and the inference method are documented: [SurveyReport](surveyreporter), [LandUseReport](landusereporter), [GridForecaster](gridforecaster)\n",
    ":::\n"
   ]
  },
  {
   "cell_type": "markdown",
   "id": "160aae5f-e9ed-4754-86a8-a76af4616553",
   "metadata": {
    "editable": true,
    "slideshow": {
     "slide_type": ""
    },
    "tags": [
     "remove-input"
    ]
   },
   "source": [
    "## Most common objects\n",
    "\n",
    "::::::::::{tab-set}\n",
    "\n",
    ":::::::::{tab-item} All data\n",
    "::::{grid} 2 2 2 2 \n",
    ":::{grid-item}\n",
    ":columns: 4\n",
    "\n",
    "The most common objects from the selected data. The most common objects are a combination of the top ten most abundant objects and those objects that are found in more than 50% of the samples. Some objects are found frequently but at low quantities.Other objects are found in fewer samples but at higher quantities.\n",
    "\n",
    "```{glue} ratio-most-common\n",
    "```\n",
    ":::\n",
    "\n",
    ":::{grid-item-card}\n",
    ":columns: 8\n",
    ":shadow: none\n",
    "\n",
    "```{glue} most_common_objects\n",
    ":::\n",
    "::::\n",
    ":::::::::\n",
    "\n",
    ":::::::::{tab-item} Lakes\n",
    "::::{grid} 2 2 2 2 \n",
    ":::{grid-item}\n",
    ":columns: 4\n",
    "\n",
    "The most common objects from the selected data. The most common objects are a combination of the top ten most abundant objects and those objects that are found in more than 50% of the samples. Some objects are found frequently but at low quantities.Other objects are found in fewer samples but at higher quantities.\n",
    "\n",
    "```{glue} lake-ratio-most-common\n",
    "```\n",
    ":::\n",
    "\n",
    ":::{grid-item-card}\n",
    ":columns: 8\n",
    ":shadow: none\n",
    "\n",
    "```{glue} lake-most_common_objects\n",
    ":::\n",
    "::::\n",
    ":::::::::\n",
    "\n",
    ":::::::::{tab-item} rivers\n",
    "::::{grid} 2 2 2 2 \n",
    ":::{grid-item}\n",
    ":columns: 4\n",
    "\n",
    "The most common objects from the selected data. The most common objects are a combination of the top ten most abundant objects and those objects that are found in more than 50% of the samples. Some objects are found frequently but at low quantities.Other objects are found in fewer samples but at higher quantities.\n",
    "\n",
    "```{glue} river-ratio-most-common\n",
    "```\n",
    ":::\n",
    "\n",
    ":::{grid-item-card}\n",
    ":columns: 8\n",
    ":shadow: none\n",
    "\n",
    "```{glue} river-most_common_objects\n",
    ":::\n",
    "::::\n",
    ":::::::::\n",
    "\n",
    "::::::::::\n",
    "\n",
    ":::{dropdown} Defining the most common objects\n",
    "\n",
    "The default method for defining _the most common objects_ is based on the number of items collected and the number of times that at least one of an object was found with respect to the number of surveys in the query, the _fail rate_.\n",
    "\n",
    "Adjusting the fail rate will increase or decrease the number of the most common objects. The fail rate is included with the object inventory. \n",
    "\n",
    "```{code} python\n",
    "\n",
    "# the most common objects are accesible in the survey report\n",
    "# the report.object_summary method aggregates the data to code\n",
    "# and attaches the fail rate and % of total\n",
    "inventory = this_report.object_summary()\n",
    "\n",
    "# userdisplay.most_common, takes the 10 most abundant and filters\n",
    "# the data for fail rate >= 0.5. The method returns a formatted table,\n",
    "# a list of the codes and the ratio of the quantity of the most common to the whole \n",
    "mostcommon, codes, ratio = userdisplay.most_common(inventory)\n",
    "\n",
    "```\n",
    "\n",
    "\n",
    ":::"
   ]
  },
  {
   "cell_type": "markdown",
   "id": "1153176b-fd0c-4e93-8928-6c89886b9525",
   "metadata": {
    "editable": true,
    "slideshow": {
     "slide_type": ""
    },
    "tags": []
   },
   "source": [
    "## Land use profile\n"
   ]
  },
  {
   "cell_type": "code",
   "execution_count": 14,
   "id": "fa022a3b-f3bd-41c8-aa11-816ff202eda3",
   "metadata": {
    "editable": true,
    "slideshow": {
     "slide_type": ""
    },
    "tags": [
     "remove-input"
    ]
   },
   "outputs": [
    {
     "data": {
      "application/papermill.record/text/html": "<style type=\"text/css\">\n#T_c144e caption {\n  caption-side: top;\n  font-size: 1em;\n  text-align: left;\n  margin-bottom: 10px;\n}\n#T_c144e caption {\n  caption-side: top;\n  font-size: .9em;\n  text-align: left;\n  font-style: italic;\n  color: #000;\n}\n#T_c144e_row0_col0, #T_c144e_row1_col0, #T_c144e_row2_col4, #T_c144e_row3_col0, #T_c144e_row4_col0, #T_c144e_row5_col1 {\n  background-color: #FAE8E8;\n}\n</style>\n<table id=\"T_c144e\">\n  <thead>\n    <tr>\n      <th class=\"blank level0\" >&nbsp;</th>\n      <th id=\"T_c144e_level0_col0\" class=\"col_heading level0 col0\" >0 - 20%</th>\n      <th id=\"T_c144e_level0_col1\" class=\"col_heading level0 col1\" >20 - 40%</th>\n      <th id=\"T_c144e_level0_col2\" class=\"col_heading level0 col2\" >40 - 60%</th>\n      <th id=\"T_c144e_level0_col3\" class=\"col_heading level0 col3\" >60 - 80%</th>\n      <th id=\"T_c144e_level0_col4\" class=\"col_heading level0 col4\" >80 - 100%</th>\n    </tr>\n  </thead>\n  <tbody>\n    <tr>\n      <th id=\"T_c144e_level0_row0\" class=\"row_heading level0 row0\" >Orchards</th>\n      <td id=\"T_c144e_row0_col0\" class=\"data row0 col0\" >6.54</td>\n      <td id=\"T_c144e_row0_col1\" class=\"data row0 col1\" >0.00</td>\n      <td id=\"T_c144e_row0_col2\" class=\"data row0 col2\" >0.00</td>\n      <td id=\"T_c144e_row0_col3\" class=\"data row0 col3\" >0.00</td>\n      <td id=\"T_c144e_row0_col4\" class=\"data row0 col4\" >0.00</td>\n    </tr>\n    <tr>\n      <th id=\"T_c144e_level0_row1\" class=\"row_heading level0 row1\" >Vineyards</th>\n      <td id=\"T_c144e_row1_col0\" class=\"data row1 col0\" >6.58</td>\n      <td id=\"T_c144e_row1_col1\" class=\"data row1 col1\" >0.00</td>\n      <td id=\"T_c144e_row1_col2\" class=\"data row1 col2\" >5.01</td>\n      <td id=\"T_c144e_row1_col3\" class=\"data row1 col3\" >0.00</td>\n      <td id=\"T_c144e_row1_col4\" class=\"data row1 col4\" >0.00</td>\n    </tr>\n    <tr>\n      <th id=\"T_c144e_level0_row2\" class=\"row_heading level0 row2\" >Buildings</th>\n      <td id=\"T_c144e_row2_col0\" class=\"data row2 col0\" >4.85</td>\n      <td id=\"T_c144e_row2_col1\" class=\"data row2 col1\" >2.97</td>\n      <td id=\"T_c144e_row2_col2\" class=\"data row2 col2\" >2.90</td>\n      <td id=\"T_c144e_row2_col3\" class=\"data row2 col3\" >4.09</td>\n      <td id=\"T_c144e_row2_col4\" class=\"data row2 col4\" >9.43</td>\n    </tr>\n    <tr>\n      <th id=\"T_c144e_level0_row3\" class=\"row_heading level0 row3\" >Forest</th>\n      <td id=\"T_c144e_row3_col0\" class=\"data row3 col0\" >6.78</td>\n      <td id=\"T_c144e_row3_col1\" class=\"data row3 col1\" >2.05</td>\n      <td id=\"T_c144e_row3_col2\" class=\"data row3 col2\" >4.55</td>\n      <td id=\"T_c144e_row3_col3\" class=\"data row3 col3\" >0.00</td>\n      <td id=\"T_c144e_row3_col4\" class=\"data row3 col4\" >0.00</td>\n    </tr>\n    <tr>\n      <th id=\"T_c144e_level0_row4\" class=\"row_heading level0 row4\" >Undefined</th>\n      <td id=\"T_c144e_row4_col0\" class=\"data row4 col0\" >8.28</td>\n      <td id=\"T_c144e_row4_col1\" class=\"data row4 col1\" >2.00</td>\n      <td id=\"T_c144e_row4_col2\" class=\"data row4 col2\" >3.82</td>\n      <td id=\"T_c144e_row4_col3\" class=\"data row4 col3\" >2.23</td>\n      <td id=\"T_c144e_row4_col4\" class=\"data row4 col4\" >0.00</td>\n    </tr>\n    <tr>\n      <th id=\"T_c144e_level0_row5\" class=\"row_heading level0 row5\" >Public Services</th>\n      <td id=\"T_c144e_row5_col0\" class=\"data row5 col0\" >4.41</td>\n      <td id=\"T_c144e_row5_col1\" class=\"data row5 col1\" >17.98</td>\n      <td id=\"T_c144e_row5_col2\" class=\"data row5 col2\" >0.00</td>\n      <td id=\"T_c144e_row5_col3\" class=\"data row5 col3\" >0.00</td>\n      <td id=\"T_c144e_row5_col4\" class=\"data row5 col4\" >0.00</td>\n    </tr>\n  </tbody>\n</table>\n",
      "application/papermill.record/text/plain": "<pandas.io.formats.style.Styler at 0x72cb180f3250>"
     },
     "metadata": {
      "scrapbook": {
       "mime_prefix": "application/papermill.record/",
       "name": "rate-per-feature"
      }
     },
     "output_type": "display_data"
    },
    {
     "data": {
      "application/papermill.record/text/html": "<style type=\"text/css\">\n#T_23c1b caption {\n  caption-side: top;\n  font-size: 1em;\n  text-align: left;\n  margin-bottom: 10px;\n}\n#T_23c1b caption {\n  caption-side: top;\n  font-size: .9em;\n  text-align: left;\n  font-style: italic;\n  color: #000;\n}\n#T_23c1b_row0_col0, #T_23c1b_row1_col0, #T_23c1b_row2_col4, #T_23c1b_row3_col0, #T_23c1b_row4_col0, #T_23c1b_row5_col0 {\n  background-color: #FAE8E8;\n}\n</style>\n<table id=\"T_23c1b\">\n  <thead>\n    <tr>\n      <th class=\"blank level0\" >&nbsp;</th>\n      <th id=\"T_23c1b_level0_col0\" class=\"col_heading level0 col0\" >0 - 20%</th>\n      <th id=\"T_23c1b_level0_col1\" class=\"col_heading level0 col1\" >20 - 40%</th>\n      <th id=\"T_23c1b_level0_col2\" class=\"col_heading level0 col2\" >40 - 60%</th>\n      <th id=\"T_23c1b_level0_col3\" class=\"col_heading level0 col3\" >60 - 80%</th>\n      <th id=\"T_23c1b_level0_col4\" class=\"col_heading level0 col4\" >80 - 100%</th>\n    </tr>\n  </thead>\n  <tbody>\n    <tr>\n      <th id=\"T_23c1b_level0_row0\" class=\"row_heading level0 row0\" >Orchards</th>\n      <td id=\"T_23c1b_row0_col0\" class=\"data row0 col0\" >100%</td>\n      <td id=\"T_23c1b_row0_col1\" class=\"data row0 col1\" >0%</td>\n      <td id=\"T_23c1b_row0_col2\" class=\"data row0 col2\" >0%</td>\n      <td id=\"T_23c1b_row0_col3\" class=\"data row0 col3\" >0%</td>\n      <td id=\"T_23c1b_row0_col4\" class=\"data row0 col4\" >0%</td>\n    </tr>\n    <tr>\n      <th id=\"T_23c1b_level0_row1\" class=\"row_heading level0 row1\" >Vineyards</th>\n      <td id=\"T_23c1b_row1_col0\" class=\"data row1 col0\" >98%</td>\n      <td id=\"T_23c1b_row1_col1\" class=\"data row1 col1\" >0%</td>\n      <td id=\"T_23c1b_row1_col2\" class=\"data row1 col2\" >2%</td>\n      <td id=\"T_23c1b_row1_col3\" class=\"data row1 col3\" >0%</td>\n      <td id=\"T_23c1b_row1_col4\" class=\"data row1 col4\" >0%</td>\n    </tr>\n    <tr>\n      <th id=\"T_23c1b_level0_row2\" class=\"row_heading level0 row2\" >Buildings</th>\n      <td id=\"T_23c1b_row2_col0\" class=\"data row2 col0\" >7%</td>\n      <td id=\"T_23c1b_row2_col1\" class=\"data row2 col1\" >8%</td>\n      <td id=\"T_23c1b_row2_col2\" class=\"data row2 col2\" >2%</td>\n      <td id=\"T_23c1b_row2_col3\" class=\"data row2 col3\" >36%</td>\n      <td id=\"T_23c1b_row2_col4\" class=\"data row2 col4\" >47%</td>\n    </tr>\n    <tr>\n      <th id=\"T_23c1b_level0_row3\" class=\"row_heading level0 row3\" >Forest</th>\n      <td id=\"T_23c1b_row3_col0\" class=\"data row3 col0\" >94%</td>\n      <td id=\"T_23c1b_row3_col1\" class=\"data row3 col1\" >4%</td>\n      <td id=\"T_23c1b_row3_col2\" class=\"data row3 col2\" >1%</td>\n      <td id=\"T_23c1b_row3_col3\" class=\"data row3 col3\" >0%</td>\n      <td id=\"T_23c1b_row3_col4\" class=\"data row3 col4\" >0%</td>\n    </tr>\n    <tr>\n      <th id=\"T_23c1b_level0_row4\" class=\"row_heading level0 row4\" >Undefined</th>\n      <td id=\"T_23c1b_row4_col0\" class=\"data row4 col0\" >70%</td>\n      <td id=\"T_23c1b_row4_col1\" class=\"data row4 col1\" >20%</td>\n      <td id=\"T_23c1b_row4_col2\" class=\"data row4 col2\" >9%</td>\n      <td id=\"T_23c1b_row4_col3\" class=\"data row4 col3\" >1%</td>\n      <td id=\"T_23c1b_row4_col4\" class=\"data row4 col4\" >0%</td>\n    </tr>\n    <tr>\n      <th id=\"T_23c1b_level0_row5\" class=\"row_heading level0 row5\" >Public Services</th>\n      <td id=\"T_23c1b_row5_col0\" class=\"data row5 col0\" >84%</td>\n      <td id=\"T_23c1b_row5_col1\" class=\"data row5 col1\" >16%</td>\n      <td id=\"T_23c1b_row5_col2\" class=\"data row5 col2\" >0%</td>\n      <td id=\"T_23c1b_row5_col3\" class=\"data row5 col3\" >0%</td>\n      <td id=\"T_23c1b_row5_col4\" class=\"data row5 col4\" >0%</td>\n    </tr>\n  </tbody>\n</table>\n",
      "application/papermill.record/text/plain": "<pandas.io.formats.style.Styler at 0x72cb181762e0>"
     },
     "metadata": {
      "scrapbook": {
       "mime_prefix": "application/papermill.record/",
       "name": "sampling-profile"
      }
     },
     "output_type": "display_data"
    }
   ],
   "source": [
    "g = results['this_land_use'].n_samples_per_feature().copy()\n",
    "g = userdisplay.landuse_profile(g[session_config.feature_variables[:-1]], nsamples=len(lkl_all))\n",
    "g = g.set_caption(\"\")\n",
    "\n",
    "gt = results['this_land_use'].rate_per_feature().copy()\n",
    "\n",
    "gt = userdisplay.litter_rates_per_feature(gt.loc[session_config.feature_variables[:-1]])\n",
    "gt = gt.set_caption(\"\")\n",
    "\n",
    "\n",
    "glue('rate-per-feature', gt, display=False)\n",
    "glue('sampling-profile', g, display=False)"
   ]
  },
  {
   "cell_type": "code",
   "execution_count": 15,
   "id": "e2bf0a4b-fc49-420b-bfc1-3e21e0a11cb9",
   "metadata": {
    "editable": true,
    "jupyter": {
     "source_hidden": true
    },
    "slideshow": {
     "slide_type": ""
    },
    "tags": [
     "remove-input"
    ]
   },
   "outputs": [
    {
     "data": {
      "application/papermill.record/text/html": "<style type=\"text/css\">\n#T_5bc1c caption {\n  caption-side: top;\n  font-size: 1em;\n  text-align: left;\n  margin-bottom: 10px;\n}\n#T_5bc1c caption {\n  caption-side: top;\n  font-size: .9em;\n  text-align: left;\n  font-style: italic;\n  color: #000;\n}\n#T_5bc1c_row0_col1 {\n  background-color: #FAE8E8;\n}\n</style>\n<table id=\"T_5bc1c\">\n  <thead>\n    <tr>\n      <th class=\"blank level0\" >&nbsp;</th>\n      <th id=\"T_5bc1c_level0_col0\" class=\"col_heading level0 col0\" >0 - 20%</th>\n      <th id=\"T_5bc1c_level0_col1\" class=\"col_heading level0 col1\" >20 - 40%</th>\n      <th id=\"T_5bc1c_level0_col2\" class=\"col_heading level0 col2\" >40 - 60%</th>\n      <th id=\"T_5bc1c_level0_col3\" class=\"col_heading level0 col3\" >60 - 80%</th>\n      <th id=\"T_5bc1c_level0_col4\" class=\"col_heading level0 col4\" >80 - 100%</th>\n    </tr>\n  </thead>\n  <tbody>\n    <tr>\n      <th id=\"T_5bc1c_level0_row0\" class=\"row_heading level0 row0\" >streets</th>\n      <td id=\"T_5bc1c_row0_col0\" class=\"data row0 col0\" >9%</td>\n      <td id=\"T_5bc1c_row0_col1\" class=\"data row0 col1\" >74%</td>\n      <td id=\"T_5bc1c_row0_col2\" class=\"data row0 col2\" >17%</td>\n      <td id=\"T_5bc1c_row0_col3\" class=\"data row0 col3\" >0%</td>\n      <td id=\"T_5bc1c_row0_col4\" class=\"data row0 col4\" >0%</td>\n    </tr>\n  </tbody>\n</table>\n",
      "application/papermill.record/text/plain": "<pandas.io.formats.style.Styler at 0x72cb18078580>"
     },
     "metadata": {
      "scrapbook": {
       "mime_prefix": "application/papermill.record/",
       "name": "street-profile"
      }
     },
     "output_type": "display_data"
    },
    {
     "data": {
      "application/papermill.record/text/html": "<style type=\"text/css\">\n#T_63044 caption {\n  caption-side: top;\n  font-size: 1em;\n  text-align: left;\n  margin-bottom: 10px;\n}\n#T_63044 caption {\n  caption-side: top;\n  font-size: .9em;\n  text-align: left;\n  font-style: italic;\n  color: #000;\n}\n#T_63044_row0_col2 {\n  background-color: #FAE8E8;\n}\n</style>\n<table id=\"T_63044\">\n  <thead>\n    <tr>\n      <th class=\"blank level0\" >&nbsp;</th>\n      <th id=\"T_63044_level0_col0\" class=\"col_heading level0 col0\" >0 - 20%</th>\n      <th id=\"T_63044_level0_col1\" class=\"col_heading level0 col1\" >20 - 40%</th>\n      <th id=\"T_63044_level0_col2\" class=\"col_heading level0 col2\" >40 - 60%</th>\n      <th id=\"T_63044_level0_col3\" class=\"col_heading level0 col3\" >60 - 80%</th>\n      <th id=\"T_63044_level0_col4\" class=\"col_heading level0 col4\" >80 - 100%</th>\n    </tr>\n  </thead>\n  <tbody>\n    <tr>\n      <th id=\"T_63044_level0_row0\" class=\"row_heading level0 row0\" >streets</th>\n      <td id=\"T_63044_row0_col0\" class=\"data row0 col0\" >6%</td>\n      <td id=\"T_63044_row0_col1\" class=\"data row0 col1\" >5%</td>\n      <td id=\"T_63044_row0_col2\" class=\"data row0 col2\" >18%</td>\n      <td id=\"T_63044_row0_col3\" class=\"data row0 col3\" >0%</td>\n      <td id=\"T_63044_row0_col4\" class=\"data row0 col4\" >0%</td>\n    </tr>\n  </tbody>\n</table>\n",
      "application/papermill.record/text/plain": "<pandas.io.formats.style.Styler at 0x72cb18006be0>"
     },
     "metadata": {
      "scrapbook": {
       "mime_prefix": "application/papermill.record/",
       "name": "street-rates-feature"
      }
     },
     "output_type": "display_data"
    }
   ],
   "source": [
    "streets = results['this_land_use'].n_samples_per_feature().copy()\n",
    "streets = streets[[session_config.feature_variables[-1]]].copy()\n",
    "streets = userdisplay.street_profile(streets.T, nsamples=len(lkl_all))\n",
    "caption = \"\"\n",
    "streets = streets.set_caption(caption)\n",
    "\n",
    "streets_r = results['this_land_use'].rate_per_feature().copy()\n",
    "streets_r = streets_r.loc[[session_config.feature_variables[-1]]].copy()\n",
    "streets_r = userdisplay.street_profile(streets_r, nsamples=len(lkl_all), caption='rate')\n",
    "caption = \"\"\n",
    "streets_r = streets_r.set_caption(caption)\n",
    "\n",
    "\n",
    "glue('street-profile', streets, display=False)\n",
    "glue('street-rates-feature', streets_r, display=False)\n"
   ]
  },
  {
   "cell_type": "code",
   "execution_count": 16,
   "id": "ef975bf2-e403-4ca2-b9b3-dd80a14c3a86",
   "metadata": {
    "editable": true,
    "jupyter": {
     "source_hidden": true
    },
    "slideshow": {
     "slide_type": ""
    },
    "tags": [
     "remove-input"
    ]
   },
   "outputs": [
    {
     "data": {
      "application/papermill.record/text/html": "<style type=\"text/css\">\n#T_3d78e caption {\n  caption-side: top;\n  font-size: 1em;\n  text-align: left;\n  margin-bottom: 10px;\n}\n#T_3d78e caption {\n  caption-side: top;\n  font-size: .9em;\n  text-align: left;\n  font-style: italic;\n  color: #000;\n}\n#T_3d78e_row0_col0, #T_3d78e_row1_col0, #T_3d78e_row2_col4, #T_3d78e_row3_col0, #T_3d78e_row4_col0, #T_3d78e_row5_col1 {\n  background-color: #FAE8E8;\n}\n</style>\n<table id=\"T_3d78e\">\n  <thead>\n    <tr>\n      <th class=\"blank level0\" >&nbsp;</th>\n      <th id=\"T_3d78e_level0_col0\" class=\"col_heading level0 col0\" >0 - 20%</th>\n      <th id=\"T_3d78e_level0_col1\" class=\"col_heading level0 col1\" >20 - 40%</th>\n      <th id=\"T_3d78e_level0_col2\" class=\"col_heading level0 col2\" >40 - 60%</th>\n      <th id=\"T_3d78e_level0_col3\" class=\"col_heading level0 col3\" >60 - 80%</th>\n      <th id=\"T_3d78e_level0_col4\" class=\"col_heading level0 col4\" >80 - 100%</th>\n    </tr>\n  </thead>\n  <tbody>\n    <tr>\n      <th id=\"T_3d78e_level0_row0\" class=\"row_heading level0 row0\" >Orchards</th>\n      <td id=\"T_3d78e_row0_col0\" class=\"data row0 col0\" >6.73</td>\n      <td id=\"T_3d78e_row0_col1\" class=\"data row0 col1\" >0.00</td>\n      <td id=\"T_3d78e_row0_col2\" class=\"data row0 col2\" >0.00</td>\n      <td id=\"T_3d78e_row0_col3\" class=\"data row0 col3\" >0.00</td>\n      <td id=\"T_3d78e_row0_col4\" class=\"data row0 col4\" >0.00</td>\n    </tr>\n    <tr>\n      <th id=\"T_3d78e_level0_row1\" class=\"row_heading level0 row1\" >Vineyards</th>\n      <td id=\"T_3d78e_row1_col0\" class=\"data row1 col0\" >6.77</td>\n      <td id=\"T_3d78e_row1_col1\" class=\"data row1 col1\" >0.00</td>\n      <td id=\"T_3d78e_row1_col2\" class=\"data row1 col2\" >5.01</td>\n      <td id=\"T_3d78e_row1_col3\" class=\"data row1 col3\" >0.00</td>\n      <td id=\"T_3d78e_row1_col4\" class=\"data row1 col4\" >0.00</td>\n    </tr>\n    <tr>\n      <th id=\"T_3d78e_level0_row2\" class=\"row_heading level0 row2\" >Buildings</th>\n      <td id=\"T_3d78e_row2_col0\" class=\"data row2 col0\" >4.91</td>\n      <td id=\"T_3d78e_row2_col1\" class=\"data row2 col1\" >3.09</td>\n      <td id=\"T_3d78e_row2_col2\" class=\"data row2 col2\" >5.35</td>\n      <td id=\"T_3d78e_row2_col3\" class=\"data row2 col3\" >4.09</td>\n      <td id=\"T_3d78e_row2_col4\" class=\"data row2 col4\" >9.43</td>\n    </tr>\n    <tr>\n      <th id=\"T_3d78e_level0_row3\" class=\"row_heading level0 row3\" >Forest</th>\n      <td id=\"T_3d78e_row3_col0\" class=\"data row3 col0\" >6.86</td>\n      <td id=\"T_3d78e_row3_col1\" class=\"data row3 col1\" >1.43</td>\n      <td id=\"T_3d78e_row3_col2\" class=\"data row3 col2\" >0.00</td>\n      <td id=\"T_3d78e_row3_col3\" class=\"data row3 col3\" >0.00</td>\n      <td id=\"T_3d78e_row3_col4\" class=\"data row3 col4\" >0.00</td>\n    </tr>\n    <tr>\n      <th id=\"T_3d78e_level0_row4\" class=\"row_heading level0 row4\" >Undefined</th>\n      <td id=\"T_3d78e_row4_col0\" class=\"data row4 col0\" >8.28</td>\n      <td id=\"T_3d78e_row4_col1\" class=\"data row4 col1\" >1.90</td>\n      <td id=\"T_3d78e_row4_col2\" class=\"data row4 col2\" >4.33</td>\n      <td id=\"T_3d78e_row4_col3\" class=\"data row4 col3\" >2.23</td>\n      <td id=\"T_3d78e_row4_col4\" class=\"data row4 col4\" >0.00</td>\n    </tr>\n    <tr>\n      <th id=\"T_3d78e_level0_row5\" class=\"row_heading level0 row5\" >Public Services</th>\n      <td id=\"T_3d78e_row5_col0\" class=\"data row5 col0\" >4.51</td>\n      <td id=\"T_3d78e_row5_col1\" class=\"data row5 col1\" >17.98</td>\n      <td id=\"T_3d78e_row5_col2\" class=\"data row5 col2\" >0.00</td>\n      <td id=\"T_3d78e_row5_col3\" class=\"data row5 col3\" >0.00</td>\n      <td id=\"T_3d78e_row5_col4\" class=\"data row5 col4\" >0.00</td>\n    </tr>\n  </tbody>\n</table>\n",
      "application/papermill.record/text/plain": "<pandas.io.formats.style.Styler at 0x72cb18335dc0>"
     },
     "metadata": {
      "scrapbook": {
       "mime_prefix": "application/papermill.record/",
       "name": "lake-rate-per-feature"
      }
     },
     "output_type": "display_data"
    },
    {
     "data": {
      "application/papermill.record/text/html": "<style type=\"text/css\">\n#T_ccb6b caption {\n  caption-side: top;\n  font-size: 1em;\n  text-align: left;\n  margin-bottom: 10px;\n}\n#T_ccb6b caption {\n  caption-side: top;\n  font-size: .9em;\n  text-align: left;\n  font-style: italic;\n  color: #000;\n}\n#T_ccb6b_row0_col0, #T_ccb6b_row1_col0, #T_ccb6b_row2_col4, #T_ccb6b_row3_col0, #T_ccb6b_row4_col0, #T_ccb6b_row5_col0 {\n  background-color: #FAE8E8;\n}\n</style>\n<table id=\"T_ccb6b\">\n  <thead>\n    <tr>\n      <th class=\"blank level0\" >&nbsp;</th>\n      <th id=\"T_ccb6b_level0_col0\" class=\"col_heading level0 col0\" >0 - 20%</th>\n      <th id=\"T_ccb6b_level0_col1\" class=\"col_heading level0 col1\" >20 - 40%</th>\n      <th id=\"T_ccb6b_level0_col2\" class=\"col_heading level0 col2\" >40 - 60%</th>\n      <th id=\"T_ccb6b_level0_col3\" class=\"col_heading level0 col3\" >60 - 80%</th>\n      <th id=\"T_ccb6b_level0_col4\" class=\"col_heading level0 col4\" >80 - 100%</th>\n    </tr>\n  </thead>\n  <tbody>\n    <tr>\n      <th id=\"T_ccb6b_level0_row0\" class=\"row_heading level0 row0\" >Orchards</th>\n      <td id=\"T_ccb6b_row0_col0\" class=\"data row0 col0\" >100%</td>\n      <td id=\"T_ccb6b_row0_col1\" class=\"data row0 col1\" >0%</td>\n      <td id=\"T_ccb6b_row0_col2\" class=\"data row0 col2\" >0%</td>\n      <td id=\"T_ccb6b_row0_col3\" class=\"data row0 col3\" >0%</td>\n      <td id=\"T_ccb6b_row0_col4\" class=\"data row0 col4\" >0%</td>\n    </tr>\n    <tr>\n      <th id=\"T_ccb6b_level0_row1\" class=\"row_heading level0 row1\" >Vineyards</th>\n      <td id=\"T_ccb6b_row1_col0\" class=\"data row1 col0\" >98%</td>\n      <td id=\"T_ccb6b_row1_col1\" class=\"data row1 col1\" >0%</td>\n      <td id=\"T_ccb6b_row1_col2\" class=\"data row1 col2\" >2%</td>\n      <td id=\"T_ccb6b_row1_col3\" class=\"data row1 col3\" >0%</td>\n      <td id=\"T_ccb6b_row1_col4\" class=\"data row1 col4\" >0%</td>\n    </tr>\n    <tr>\n      <th id=\"T_ccb6b_level0_row2\" class=\"row_heading level0 row2\" >Buildings</th>\n      <td id=\"T_ccb6b_row2_col0\" class=\"data row2 col0\" >6%</td>\n      <td id=\"T_ccb6b_row2_col1\" class=\"data row2 col1\" >6%</td>\n      <td id=\"T_ccb6b_row2_col2\" class=\"data row2 col2\" >1%</td>\n      <td id=\"T_ccb6b_row2_col3\" class=\"data row2 col3\" >38%</td>\n      <td id=\"T_ccb6b_row2_col4\" class=\"data row2 col4\" >49%</td>\n    </tr>\n    <tr>\n      <th id=\"T_ccb6b_level0_row3\" class=\"row_heading level0 row3\" >Forest</th>\n      <td id=\"T_ccb6b_row3_col0\" class=\"data row3 col0\" >98%</td>\n      <td id=\"T_ccb6b_row3_col1\" class=\"data row3 col1\" >2%</td>\n      <td id=\"T_ccb6b_row3_col2\" class=\"data row3 col2\" >0%</td>\n      <td id=\"T_ccb6b_row3_col3\" class=\"data row3 col3\" >0%</td>\n      <td id=\"T_ccb6b_row3_col4\" class=\"data row3 col4\" >0%</td>\n    </tr>\n    <tr>\n      <th id=\"T_ccb6b_level0_row4\" class=\"row_heading level0 row4\" >Undefined</th>\n      <td id=\"T_ccb6b_row4_col0\" class=\"data row4 col0\" >73%</td>\n      <td id=\"T_ccb6b_row4_col1\" class=\"data row4 col1\" >19%</td>\n      <td id=\"T_ccb6b_row4_col2\" class=\"data row4 col2\" >7%</td>\n      <td id=\"T_ccb6b_row4_col3\" class=\"data row4 col3\" >1%</td>\n      <td id=\"T_ccb6b_row4_col4\" class=\"data row4 col4\" >0%</td>\n    </tr>\n    <tr>\n      <th id=\"T_ccb6b_level0_row5\" class=\"row_heading level0 row5\" >Public Services</th>\n      <td id=\"T_ccb6b_row5_col0\" class=\"data row5 col0\" >84%</td>\n      <td id=\"T_ccb6b_row5_col1\" class=\"data row5 col1\" >16%</td>\n      <td id=\"T_ccb6b_row5_col2\" class=\"data row5 col2\" >0%</td>\n      <td id=\"T_ccb6b_row5_col3\" class=\"data row5 col3\" >0%</td>\n      <td id=\"T_ccb6b_row5_col4\" class=\"data row5 col4\" >0%</td>\n    </tr>\n  </tbody>\n</table>\n",
      "application/papermill.record/text/plain": "<pandas.io.formats.style.Styler at 0x72cab7feda00>"
     },
     "metadata": {
      "scrapbook": {
       "mime_prefix": "application/papermill.record/",
       "name": "lake-sampling-profile"
      }
     },
     "output_type": "display_data"
    }
   ],
   "source": [
    "gl = lake_results['this_land_use'].n_samples_per_feature().copy()\n",
    "gl = userdisplay.landuse_profile(gl[session_config.feature_variables[:-1]], nsamples=len(lkl_l))\n",
    "gl = gl.set_caption(\"\")\n",
    "\n",
    "gtl = lake_results['this_land_use'].rate_per_feature().copy()\n",
    "\n",
    "gtl = userdisplay.litter_rates_per_feature(gtl.loc[session_config.feature_variables[:-1]])\n",
    "gtl = gtl.set_caption(\"\")\n",
    "\n",
    "\n",
    "glue('lake-rate-per-feature', gtl, display=False)\n",
    "glue('lake-sampling-profile', gl, display=False)"
   ]
  },
  {
   "cell_type": "code",
   "execution_count": 17,
   "id": "2fc10d30-4cc2-456a-aa5e-65365b829ef3",
   "metadata": {
    "editable": true,
    "jupyter": {
     "source_hidden": true
    },
    "slideshow": {
     "slide_type": ""
    },
    "tags": [
     "remove-input"
    ]
   },
   "outputs": [
    {
     "data": {
      "application/papermill.record/text/html": "<style type=\"text/css\">\n#T_9716f caption {\n  caption-side: top;\n  font-size: 1em;\n  text-align: left;\n  margin-bottom: 10px;\n}\n#T_9716f caption {\n  caption-side: top;\n  font-size: .9em;\n  text-align: left;\n  font-style: italic;\n  color: #000;\n}\n#T_9716f_row0_col1 {\n  background-color: #FAE8E8;\n}\n</style>\n<table id=\"T_9716f\">\n  <thead>\n    <tr>\n      <th class=\"blank level0\" >&nbsp;</th>\n      <th id=\"T_9716f_level0_col0\" class=\"col_heading level0 col0\" >0 - 20%</th>\n      <th id=\"T_9716f_level0_col1\" class=\"col_heading level0 col1\" >20 - 40%</th>\n      <th id=\"T_9716f_level0_col2\" class=\"col_heading level0 col2\" >40 - 60%</th>\n      <th id=\"T_9716f_level0_col3\" class=\"col_heading level0 col3\" >60 - 80%</th>\n      <th id=\"T_9716f_level0_col4\" class=\"col_heading level0 col4\" >80 - 100%</th>\n    </tr>\n  </thead>\n  <tbody>\n    <tr>\n      <th id=\"T_9716f_level0_row0\" class=\"row_heading level0 row0\" >streets</th>\n      <td id=\"T_9716f_row0_col0\" class=\"data row0 col0\" >9%</td>\n      <td id=\"T_9716f_row0_col1\" class=\"data row0 col1\" >78%</td>\n      <td id=\"T_9716f_row0_col2\" class=\"data row0 col2\" >13%</td>\n      <td id=\"T_9716f_row0_col3\" class=\"data row0 col3\" >0%</td>\n      <td id=\"T_9716f_row0_col4\" class=\"data row0 col4\" >0%</td>\n    </tr>\n  </tbody>\n</table>\n",
      "application/papermill.record/text/plain": "<pandas.io.formats.style.Styler at 0x72cb18333f10>"
     },
     "metadata": {
      "scrapbook": {
       "mime_prefix": "application/papermill.record/",
       "name": "lake-street-profile"
      }
     },
     "output_type": "display_data"
    },
    {
     "data": {
      "application/papermill.record/text/html": "<style type=\"text/css\">\n#T_5024d caption {\n  caption-side: top;\n  font-size: 1em;\n  text-align: left;\n  margin-bottom: 10px;\n}\n#T_5024d caption {\n  caption-side: top;\n  font-size: .9em;\n  text-align: left;\n  font-style: italic;\n  color: #000;\n}\n#T_5024d_row0_col2 {\n  background-color: #FAE8E8;\n}\n</style>\n<table id=\"T_5024d\">\n  <thead>\n    <tr>\n      <th class=\"blank level0\" >&nbsp;</th>\n      <th id=\"T_5024d_level0_col0\" class=\"col_heading level0 col0\" >0 - 20%</th>\n      <th id=\"T_5024d_level0_col1\" class=\"col_heading level0 col1\" >20 - 40%</th>\n      <th id=\"T_5024d_level0_col2\" class=\"col_heading level0 col2\" >40 - 60%</th>\n      <th id=\"T_5024d_level0_col3\" class=\"col_heading level0 col3\" >60 - 80%</th>\n      <th id=\"T_5024d_level0_col4\" class=\"col_heading level0 col4\" >80 - 100%</th>\n    </tr>\n  </thead>\n  <tbody>\n    <tr>\n      <th id=\"T_5024d_level0_row0\" class=\"row_heading level0 row0\" >streets</th>\n      <td id=\"T_5024d_row0_col0\" class=\"data row0 col0\" >6%</td>\n      <td id=\"T_5024d_row0_col1\" class=\"data row0 col1\" >5%</td>\n      <td id=\"T_5024d_row0_col2\" class=\"data row0 col2\" >24%</td>\n      <td id=\"T_5024d_row0_col3\" class=\"data row0 col3\" >0%</td>\n      <td id=\"T_5024d_row0_col4\" class=\"data row0 col4\" >0%</td>\n    </tr>\n  </tbody>\n</table>\n",
      "application/papermill.record/text/plain": "<pandas.io.formats.style.Styler at 0x72cb181a8550>"
     },
     "metadata": {
      "scrapbook": {
       "mime_prefix": "application/papermill.record/",
       "name": "lake-street-rates-feature"
      }
     },
     "output_type": "display_data"
    }
   ],
   "source": [
    "streets_p = lake_results['this_land_use'].n_samples_per_feature().copy()\n",
    "streets_p = streets_p[[session_config.feature_variables[-1]]].copy()\n",
    "streets_p = userdisplay.street_profile(streets_p.T, nsamples=len(lkl_l))\n",
    "caption = \"\"\n",
    "streets_p = streets_p.set_caption(caption)\n",
    "\n",
    "streets_r_l = lake_results['this_land_use'].rate_per_feature().copy()\n",
    "streets_r_l = streets_r_l.loc[[session_config.feature_variables[-1]]].copy()\n",
    "streets_r_l = userdisplay.street_profile(streets_r_l, nsamples=len(lkl_l), caption='rate')\n",
    "caption = \"\"\n",
    "streets_r_l = streets_r_l.set_caption(caption)\n",
    "\n",
    "\n",
    "glue('lake-street-profile', streets_p, display=False)\n",
    "glue('lake-street-rates-feature', streets_r_l, display=False)"
   ]
  },
  {
   "cell_type": "code",
   "execution_count": 18,
   "id": "82f55461-c497-483a-8c38-fbd509809afb",
   "metadata": {
    "editable": true,
    "slideshow": {
     "slide_type": ""
    },
    "tags": [
     "remove-input"
    ]
   },
   "outputs": [
    {
     "data": {
      "application/papermill.record/text/html": "<style type=\"text/css\">\n#T_aa026 caption {\n  caption-side: top;\n  font-size: 1em;\n  text-align: left;\n  margin-bottom: 10px;\n}\n#T_aa026 caption {\n  caption-side: top;\n  font-size: .9em;\n  text-align: left;\n  font-style: italic;\n  color: #000;\n}\n#T_aa026_row0_col0, #T_aa026_row1_col0, #T_aa026_row2_col0, #T_aa026_row3_col2, #T_aa026_row4_col1, #T_aa026_row5_col0 {\n  background-color: #FAE8E8;\n}\n</style>\n<table id=\"T_aa026\">\n  <thead>\n    <tr>\n      <th class=\"blank level0\" >&nbsp;</th>\n      <th id=\"T_aa026_level0_col0\" class=\"col_heading level0 col0\" >0 - 20%</th>\n      <th id=\"T_aa026_level0_col1\" class=\"col_heading level0 col1\" >20 - 40%</th>\n      <th id=\"T_aa026_level0_col2\" class=\"col_heading level0 col2\" >40 - 60%</th>\n      <th id=\"T_aa026_level0_col3\" class=\"col_heading level0 col3\" >60 - 80%</th>\n      <th id=\"T_aa026_level0_col4\" class=\"col_heading level0 col4\" >80 - 100%</th>\n    </tr>\n  </thead>\n  <tbody>\n    <tr>\n      <th id=\"T_aa026_level0_row0\" class=\"row_heading level0 row0\" >Orchards</th>\n      <td id=\"T_aa026_row0_col0\" class=\"data row0 col0\" >2.58</td>\n      <td id=\"T_aa026_row0_col1\" class=\"data row0 col1\" >0.00</td>\n      <td id=\"T_aa026_row0_col2\" class=\"data row0 col2\" >0.00</td>\n      <td id=\"T_aa026_row0_col3\" class=\"data row0 col3\" >0.00</td>\n      <td id=\"T_aa026_row0_col4\" class=\"data row0 col4\" >0.00</td>\n    </tr>\n    <tr>\n      <th id=\"T_aa026_level0_row1\" class=\"row_heading level0 row1\" >Vineyards</th>\n      <td id=\"T_aa026_row1_col0\" class=\"data row1 col0\" >2.58</td>\n      <td id=\"T_aa026_row1_col1\" class=\"data row1 col1\" >0.00</td>\n      <td id=\"T_aa026_row1_col2\" class=\"data row1 col2\" >0.00</td>\n      <td id=\"T_aa026_row1_col3\" class=\"data row1 col3\" >0.00</td>\n      <td id=\"T_aa026_row1_col4\" class=\"data row1 col4\" >0.00</td>\n    </tr>\n    <tr>\n      <th id=\"T_aa026_level0_row2\" class=\"row_heading level0 row2\" >Buildings</th>\n      <td id=\"T_aa026_row2_col0\" class=\"data row2 col0\" >4.55</td>\n      <td id=\"T_aa026_row2_col1\" class=\"data row2 col1\" >2.67</td>\n      <td id=\"T_aa026_row2_col2\" class=\"data row2 col2\" >0.46</td>\n      <td id=\"T_aa026_row2_col3\" class=\"data row2 col3\" >0.00</td>\n      <td id=\"T_aa026_row2_col4\" class=\"data row2 col4\" >0.00</td>\n    </tr>\n    <tr>\n      <th id=\"T_aa026_level0_row3\" class=\"row_heading level0 row3\" >Forest</th>\n      <td id=\"T_aa026_row3_col0\" class=\"data row3 col0\" >0.46</td>\n      <td id=\"T_aa026_row3_col1\" class=\"data row3 col1\" >2.67</td>\n      <td id=\"T_aa026_row3_col2\" class=\"data row3 col2\" >4.55</td>\n      <td id=\"T_aa026_row3_col3\" class=\"data row3 col3\" >0.00</td>\n      <td id=\"T_aa026_row3_col4\" class=\"data row3 col4\" >0.00</td>\n    </tr>\n    <tr>\n      <th id=\"T_aa026_level0_row4\" class=\"row_heading level0 row4\" >Undefined</th>\n      <td id=\"T_aa026_row4_col0\" class=\"data row4 col0\" >0.00</td>\n      <td id=\"T_aa026_row4_col1\" class=\"data row4 col1\" >2.85</td>\n      <td id=\"T_aa026_row4_col2\" class=\"data row4 col2\" >2.31</td>\n      <td id=\"T_aa026_row4_col3\" class=\"data row4 col3\" >0.00</td>\n      <td id=\"T_aa026_row4_col4\" class=\"data row4 col4\" >0.00</td>\n    </tr>\n    <tr>\n      <th id=\"T_aa026_level0_row5\" class=\"row_heading level0 row5\" >Public Services</th>\n      <td id=\"T_aa026_row5_col0\" class=\"data row5 col0\" >2.58</td>\n      <td id=\"T_aa026_row5_col1\" class=\"data row5 col1\" >0.00</td>\n      <td id=\"T_aa026_row5_col2\" class=\"data row5 col2\" >0.00</td>\n      <td id=\"T_aa026_row5_col3\" class=\"data row5 col3\" >0.00</td>\n      <td id=\"T_aa026_row5_col4\" class=\"data row5 col4\" >0.00</td>\n    </tr>\n  </tbody>\n</table>\n",
      "application/papermill.record/text/plain": "<pandas.io.formats.style.Styler at 0x72cb183347f0>"
     },
     "metadata": {
      "scrapbook": {
       "mime_prefix": "application/papermill.record/",
       "name": "river-rate-per-feature"
      }
     },
     "output_type": "display_data"
    },
    {
     "data": {
      "application/papermill.record/text/html": "<style type=\"text/css\">\n#T_2b012 caption {\n  caption-side: top;\n  font-size: 1em;\n  text-align: left;\n  margin-bottom: 10px;\n}\n#T_2b012 caption {\n  caption-side: top;\n  font-size: .9em;\n  text-align: left;\n  font-style: italic;\n  color: #000;\n}\n#T_2b012_row0_col0, #T_2b012_row1_col0, #T_2b012_row2_col1, #T_2b012_row3_col1, #T_2b012_row4_col1, #T_2b012_row4_col2, #T_2b012_row5_col0 {\n  background-color: #FAE8E8;\n}\n</style>\n<table id=\"T_2b012\">\n  <thead>\n    <tr>\n      <th class=\"blank level0\" >&nbsp;</th>\n      <th id=\"T_2b012_level0_col0\" class=\"col_heading level0 col0\" >0 - 20%</th>\n      <th id=\"T_2b012_level0_col1\" class=\"col_heading level0 col1\" >20 - 40%</th>\n      <th id=\"T_2b012_level0_col2\" class=\"col_heading level0 col2\" >40 - 60%</th>\n      <th id=\"T_2b012_level0_col3\" class=\"col_heading level0 col3\" >60 - 80%</th>\n      <th id=\"T_2b012_level0_col4\" class=\"col_heading level0 col4\" >80 - 100%</th>\n    </tr>\n  </thead>\n  <tbody>\n    <tr>\n      <th id=\"T_2b012_level0_row0\" class=\"row_heading level0 row0\" >Orchards</th>\n      <td id=\"T_2b012_row0_col0\" class=\"data row0 col0\" >100%</td>\n      <td id=\"T_2b012_row0_col1\" class=\"data row0 col1\" >0%</td>\n      <td id=\"T_2b012_row0_col2\" class=\"data row0 col2\" >0%</td>\n      <td id=\"T_2b012_row0_col3\" class=\"data row0 col3\" >0%</td>\n      <td id=\"T_2b012_row0_col4\" class=\"data row0 col4\" >0%</td>\n    </tr>\n    <tr>\n      <th id=\"T_2b012_level0_row1\" class=\"row_heading level0 row1\" >Vineyards</th>\n      <td id=\"T_2b012_row1_col0\" class=\"data row1 col0\" >100%</td>\n      <td id=\"T_2b012_row1_col1\" class=\"data row1 col1\" >0%</td>\n      <td id=\"T_2b012_row1_col2\" class=\"data row1 col2\" >0%</td>\n      <td id=\"T_2b012_row1_col3\" class=\"data row1 col3\" >0%</td>\n      <td id=\"T_2b012_row1_col4\" class=\"data row1 col4\" >0%</td>\n    </tr>\n    <tr>\n      <th id=\"T_2b012_level0_row2\" class=\"row_heading level0 row2\" >Buildings</th>\n      <td id=\"T_2b012_row2_col0\" class=\"data row2 col0\" >25%</td>\n      <td id=\"T_2b012_row2_col1\" class=\"data row2 col1\" >50%</td>\n      <td id=\"T_2b012_row2_col2\" class=\"data row2 col2\" >25%</td>\n      <td id=\"T_2b012_row2_col3\" class=\"data row2 col3\" >0%</td>\n      <td id=\"T_2b012_row2_col4\" class=\"data row2 col4\" >0%</td>\n    </tr>\n    <tr>\n      <th id=\"T_2b012_level0_row3\" class=\"row_heading level0 row3\" >Forest</th>\n      <td id=\"T_2b012_row3_col0\" class=\"data row3 col0\" >25%</td>\n      <td id=\"T_2b012_row3_col1\" class=\"data row3 col1\" >50%</td>\n      <td id=\"T_2b012_row3_col2\" class=\"data row3 col2\" >25%</td>\n      <td id=\"T_2b012_row3_col3\" class=\"data row3 col3\" >0%</td>\n      <td id=\"T_2b012_row3_col4\" class=\"data row3 col4\" >0%</td>\n    </tr>\n    <tr>\n      <th id=\"T_2b012_level0_row4\" class=\"row_heading level0 row4\" >Undefined</th>\n      <td id=\"T_2b012_row4_col0\" class=\"data row4 col0\" >0%</td>\n      <td id=\"T_2b012_row4_col1\" class=\"data row4 col1\" >50%</td>\n      <td id=\"T_2b012_row4_col2\" class=\"data row4 col2\" >50%</td>\n      <td id=\"T_2b012_row4_col3\" class=\"data row4 col3\" >0%</td>\n      <td id=\"T_2b012_row4_col4\" class=\"data row4 col4\" >0%</td>\n    </tr>\n    <tr>\n      <th id=\"T_2b012_level0_row5\" class=\"row_heading level0 row5\" >Public Services</th>\n      <td id=\"T_2b012_row5_col0\" class=\"data row5 col0\" >100%</td>\n      <td id=\"T_2b012_row5_col1\" class=\"data row5 col1\" >0%</td>\n      <td id=\"T_2b012_row5_col2\" class=\"data row5 col2\" >0%</td>\n      <td id=\"T_2b012_row5_col3\" class=\"data row5 col3\" >0%</td>\n      <td id=\"T_2b012_row5_col4\" class=\"data row5 col4\" >0%</td>\n    </tr>\n  </tbody>\n</table>\n",
      "application/papermill.record/text/plain": "<pandas.io.formats.style.Styler at 0x72cb1817fa30>"
     },
     "metadata": {
      "scrapbook": {
       "mime_prefix": "application/papermill.record/",
       "name": "river-sampling-profile"
      }
     },
     "output_type": "display_data"
    }
   ],
   "source": [
    "gr = river_results['this_land_use'].n_samples_per_feature().copy()\n",
    "gr = userdisplay.landuse_profile(gr[session_config.feature_variables[:-1]], nsamples=len(lkl_r))\n",
    "gr = gr.set_caption(\"\")\n",
    "\n",
    "gtlr = river_results['this_land_use'].rate_per_feature().copy()\n",
    "\n",
    "gtlr = userdisplay.litter_rates_per_feature(gtlr.loc[session_config.feature_variables[:-1]])\n",
    "gtlr = gtlr.set_caption(\"\")\n",
    "\n",
    "\n",
    "glue('river-rate-per-feature', gtlr, display=False)\n",
    "glue('river-sampling-profile', gr, display=False)"
   ]
  },
  {
   "cell_type": "code",
   "execution_count": 19,
   "id": "9b396025-1fa6-4661-9116-593fa1ed741d",
   "metadata": {
    "editable": true,
    "slideshow": {
     "slide_type": ""
    },
    "tags": [
     "remove-input"
    ]
   },
   "outputs": [
    {
     "data": {
      "application/papermill.record/text/html": "<style type=\"text/css\">\n#T_e1603 caption {\n  caption-side: top;\n  font-size: 1em;\n  text-align: left;\n  margin-bottom: 10px;\n}\n#T_e1603 caption {\n  caption-side: top;\n  font-size: .9em;\n  text-align: left;\n  font-style: italic;\n  color: #000;\n}\n#T_e1603_row0_col2 {\n  background-color: #FAE8E8;\n}\n</style>\n<table id=\"T_e1603\">\n  <thead>\n    <tr>\n      <th class=\"blank level0\" >&nbsp;</th>\n      <th id=\"T_e1603_level0_col0\" class=\"col_heading level0 col0\" >0 - 20%</th>\n      <th id=\"T_e1603_level0_col1\" class=\"col_heading level0 col1\" >20 - 40%</th>\n      <th id=\"T_e1603_level0_col2\" class=\"col_heading level0 col2\" >40 - 60%</th>\n      <th id=\"T_e1603_level0_col3\" class=\"col_heading level0 col3\" >60 - 80%</th>\n      <th id=\"T_e1603_level0_col4\" class=\"col_heading level0 col4\" >80 - 100%</th>\n    </tr>\n  </thead>\n  <tbody>\n    <tr>\n      <th id=\"T_e1603_level0_row0\" class=\"row_heading level0 row0\" >streets</th>\n      <td id=\"T_e1603_row0_col0\" class=\"data row0 col0\" >0%</td>\n      <td id=\"T_e1603_row0_col1\" class=\"data row0 col1\" >0%</td>\n      <td id=\"T_e1603_row0_col2\" class=\"data row0 col2\" >100%</td>\n      <td id=\"T_e1603_row0_col3\" class=\"data row0 col3\" >0%</td>\n      <td id=\"T_e1603_row0_col4\" class=\"data row0 col4\" >0%</td>\n    </tr>\n  </tbody>\n</table>\n",
      "application/papermill.record/text/plain": "<pandas.io.formats.style.Styler at 0x72cab7fed640>"
     },
     "metadata": {
      "scrapbook": {
       "mime_prefix": "application/papermill.record/",
       "name": "river-street-profile"
      }
     },
     "output_type": "display_data"
    },
    {
     "data": {
      "application/papermill.record/text/html": "<style type=\"text/css\">\n#T_db658 caption {\n  caption-side: top;\n  font-size: 1em;\n  text-align: left;\n  margin-bottom: 10px;\n}\n#T_db658 caption {\n  caption-side: top;\n  font-size: .9em;\n  text-align: left;\n  font-style: italic;\n  color: #000;\n}\n#T_db658_row0_col2 {\n  background-color: #FAE8E8;\n}\n</style>\n<table id=\"T_db658\">\n  <thead>\n    <tr>\n      <th class=\"blank level0\" >&nbsp;</th>\n      <th id=\"T_db658_level0_col0\" class=\"col_heading level0 col0\" >0 - 20%</th>\n      <th id=\"T_db658_level0_col1\" class=\"col_heading level0 col1\" >20 - 40%</th>\n      <th id=\"T_db658_level0_col2\" class=\"col_heading level0 col2\" >40 - 60%</th>\n      <th id=\"T_db658_level0_col3\" class=\"col_heading level0 col3\" >60 - 80%</th>\n      <th id=\"T_db658_level0_col4\" class=\"col_heading level0 col4\" >80 - 100%</th>\n    </tr>\n  </thead>\n  <tbody>\n    <tr>\n      <th id=\"T_db658_level0_row0\" class=\"row_heading level0 row0\" >streets</th>\n      <td id=\"T_db658_row0_col0\" class=\"data row0 col0\" >0%</td>\n      <td id=\"T_db658_row0_col1\" class=\"data row0 col1\" >0%</td>\n      <td id=\"T_db658_row0_col2\" class=\"data row0 col2\" >65%</td>\n      <td id=\"T_db658_row0_col3\" class=\"data row0 col3\" >0%</td>\n      <td id=\"T_db658_row0_col4\" class=\"data row0 col4\" >0%</td>\n    </tr>\n  </tbody>\n</table>\n",
      "application/papermill.record/text/plain": "<pandas.io.formats.style.Styler at 0x72cb1846fd90>"
     },
     "metadata": {
      "scrapbook": {
       "mime_prefix": "application/papermill.record/",
       "name": "river-street-rates-feature"
      }
     },
     "output_type": "display_data"
    }
   ],
   "source": [
    "streets_p_r = river_results['this_land_use'].n_samples_per_feature().copy()\n",
    "streets_p_r = streets_p_r[[session_config.feature_variables[-1]]].copy()\n",
    "streets_p_r = userdisplay.street_profile(streets_p_r.T, nsamples=len(lkl_r))\n",
    "caption = \"\"\n",
    "streets_p_r = streets_p_r.set_caption(caption)\n",
    "\n",
    "streets_r_r = river_results['this_land_use'].rate_per_feature().copy()\n",
    "streets_r_r = streets_r_r.loc[[session_config.feature_variables[-1]]].copy()\n",
    "streets_r_r = userdisplay.street_profile(streets_r_r, nsamples=len(lkl_r), caption='rate')\n",
    "caption = \"\"\n",
    "streets_r_r = streets_r_r.set_caption(caption)\n",
    "\n",
    "\n",
    "glue('river-street-profile', streets_p_r, display=False)\n",
    "glue('river-street-rates-feature', streets_r_r, display=False)"
   ]
  },
  {
   "cell_type": "markdown",
   "id": "e45988a7-3442-434a-acab-c0b13cbfcd42",
   "metadata": {
    "editable": true,
    "slideshow": {
     "slide_type": ""
    },
    "tags": []
   },
   "source": [
    "::::{tab-set}\n",
    ":::{tab-item} All data pcs/m and land use\n",
    "\n",
    "__Land use__\n",
    "\n",
    "The magnitude of the land-use variable is the portion of the total dry surface area for the labeled land use attribute in [swissTLM3d](https://www.swisstopo.admin.ch/fr/modele-du-territoire-swisstlm3d#dokumente)  in the cirlce with r = 1 500 m and area = $\\pi r²$ and the survey location in the middle. Thus for in the table below, locations that are urban environments would have a building rating of 80% - 100%.\n",
    "\n",
    "\n",
    "```{glue} rate-per-feature\n",
    "```\n",
    "<b></b><b></b>\n",
    "\n",
    "__Streets__\n",
    "\n",
    "The streets are measured as the length of the road network in the cirlce with r= 1 500 m and area $\\pi r²$ and the survey location in the middle. The lenghts for each location are normalized from 0 - 1. Thus in the table below, the locations that have the shortest road net work will be in category 1, the those with a more dense network will be higher.\n",
    "<b></b>\n",
    "\n",
    "```{glue} street-rates-feature\n",
    "``` \n",
    ":::\n",
    "\n",
    ":::{tab-item} Lakes pcs/m and land use\n",
    "\n",
    "__Land use__\n",
    "\n",
    "The magnitude of the land-use variable is the portion of the total dry surface area for the labeled land use attribute in [swissTLM3d](https://www.swisstopo.admin.ch/fr/modele-du-territoire-swisstlm3d#dokumente)  in the cirlce with r = 1 500 m and area = $\\pi r²$ and the survey location in the middle. Thus for in the table below, locations that are urban environments would have a building rating of 80% - 100%.\n",
    "\n",
    "\n",
    "```{glue} lake-rate-per-feature\n",
    "```\n",
    "<b></b><b></b>\n",
    "\n",
    "__Streets__\n",
    "\n",
    "The streets are measured as the length of the road network in the cirlce with r= 1 500 m and area $\\pi r²$ and the survey location in the middle. The lenghts for each location are normalized from 0 - 1. Thus in the table below, the locations that have the shortest road net work will be in category 1, the those with a more dense network will be higher.\n",
    "<b></b>\n",
    "\n",
    "```{glue} lake-street-rates-feature\n",
    "```\n",
    ":::\n",
    "\n",
    ":::{tab-item} Rivers pcs/m and land use\n",
    "\n",
    "__Land use__\n",
    "\n",
    "The magnitude of the land-use variable is the portion of the total dry surface area for the labeled land use attribute in [swissTLM3d](https://www.swisstopo.admin.ch/fr/modele-du-territoire-swisstlm3d#dokumente)  in the cirlce with r = 1 500 m and area = $\\pi r²$ and the survey location in the middle. Thus for in the table below, locations that are urban environments would have a building rating of 80% - 100%.\n",
    "\n",
    "\n",
    "```{glue} river-rate-per-feature\n",
    "```\n",
    "<b></b><b></b>\n",
    "\n",
    "__Streets__\n",
    "\n",
    "The streets are measured as the length of the road network in the cirlce with r= 1 500 m and area $\\pi r²$ and the survey location in the middle. The lenghts for each location are normalized from 0 - 1. Thus in the table below, the locations that have the shortest road net work will be in category 1, the those with a more dense network will be higher.\n",
    "<b></b>\n",
    "\n",
    "```{glue} river-street-rates-feature\n",
    "``` \n",
    ":::\n",
    "\n",
    "::::\n",
    "\n",
    ":::{dropdown} Defining land use\n",
    "\n",
    "__Land cover__\n",
    "\n",
    "These measured land-use attributes are the labeled polygons from the map layer Landcover defined here [swissTLMRegio product information](https://www.swisstopo.admin.ch/fr/modele-du-territoire-swisstlm3d#dokumente), they are extracted using vector overlay techniques in \n",
    "[QGIS](https://qgis.org/en/site/). The overlay is a hexagon-grid, each hex is 3000m, circumcscribed by a circle r=1500m. The survey location is located at the center of the hex. The magnitude of the land-use variable is the portion of the total dry surface area for any particular land-use attribute. Areas of the hex that are not defined with a land-use attribute in this map layer are labeled undefined and processed like any other land-use attribute. The land-cover variables of interest are:\n",
    "\n",
    "* Buildings: built up, urbanized\n",
    "* Woods: not a park, harvesting of trees may be active\n",
    "* Vineyards: does not include any other type of agriculture\n",
    "* Orchards: not vineyards\n",
    "* Undefined: areas of the map with no predefined label\n",
    "\n",
    "\n",
    "```{code}\n",
    "\n",
    "# the land use is summarized using a LandUseReport object\n",
    "# the average pieces per meter by land use category\n",
    "rate_per_feature = this_land_use.n_pieces_per_feature()\n",
    "\n",
    "# the sampling distribution\n",
    "samples_per_feature = this_land_use.n_samples_per_feature()\n",
    "\n",
    "# the variety of locations per feature\n",
    "locations_per_feature = this_land_use.locations_per_feature()\n",
    "\n",
    "# format for display .html\n",
    "styled_rate_per_feature = userdisplay.litter_rates_per_feature(rate_per_feature)\n",
    "```\n",
    "\n",
    "__Land-use - public services__\n",
    "\n",
    "Land-use variables are the labled polygons from the Freizeitareal and Nutzungsareal map layers, defined in [swissTLMRegio product information](https://www.swisstopo.admin.ch/fr/modele-du-territoire-swisstlm3d#dokumente). Both layers represent areas used for specific activities. Freizeitareal identifies areas used for recreational purposes and Nutzungsareal represents areas such as hospitals, cemeteries, historical sites or incineration plants. As a ratio of the available dry-land in a hex, these features are relatively small (less than 10%) of the total dry-land. For identified features within a bounding hex the magnitude in meters² of these variables is scaled between 0 and 1, thus the scaled value represents the size of the feature in relation to all other measured values for that feature from all other hexagons.\n",
    "\n",
    "* Recreation: parks, sports fields, attractions\n",
    "* Infrastructure: Schools, Hospitals, cemeteries, powerplants\n",
    "\n",
    "__Streets and roads__\n",
    "\n",
    "Streets and roads are the labled polylines from the TLM Strasse map layer defined in [swissTLMRegio product information](https://www.swisstopo.admin.ch/fr/modele-du-territoire-swisstlm3d#dokumente). All polyines from the map layer within a bounding hex are merged (disolved in QGIS commands) and the combined length of the polylines, in meters, is the magnitude of the variable for the bounding hex.\n",
    ":::"
   ]
  },
  {
   "cell_type": "markdown",
   "id": "501575a0-10d5-4609-8550-8d80807fda4d",
   "metadata": {
    "editable": true,
    "slideshow": {
     "slide_type": ""
    },
    "tags": []
   },
   "source": [
    "## Forecast\n",
    "\n",
    "::::::::::{tab-set}\n",
    "\n",
    ":::::::::{tab-item} All data\n",
    "::::{grid} 1 1 2 2\n",
    "\n",
    ":::{grid-item-card}\n",
    ":columns: 12 5 5 5 \n",
    "\n",
    "Minimum expected survey results 2025\n",
    "^^^\n",
    "\n",
    "\n",
    "```{glue} forecast-all-prior\n",
    "```\n",
    "```{glue} forecast-weighted-prior\n",
    "```\n",
    "\n",
    ":::\n",
    "\n",
    ":::{grid-item-card}\n",
    ":columns: 12 7 7 7 \n",
    ":shadow: none\n",
    "```{glue} cumumlative-dist-forecast-prior\n",
    "```\n",
    "+++\n",
    "Cumulative distribution of observed, sampling history and forecasts using to different priors.\n",
    ":::\n",
    "::::\n",
    ":::::::::\n",
    "\n",
    ":::::::::{tab-item} Lakes\n",
    "::::{grid} 1 1 2 2\n",
    "\n",
    ":::{grid-item-card}\n",
    ":columns: 12 5 5 5 \n",
    "\n",
    "Minimum expected survey results 2025\n",
    "^^^\n",
    "\n",
    "\n",
    "```{glue} lake-forecast-99-list\n",
    "```\n",
    "\n",
    "```{glue} lake-forecast-max-list\n",
    "```\n",
    "\n",
    "\n",
    ":::\n",
    "\n",
    ":::{grid-item-card}\n",
    ":columns: 12 7 7 7 \n",
    ":shadow: none\n",
    "```{glue} lake-cumumlative-dist-forecast-prior\n",
    "```\n",
    "+++\n",
    "Cumulative distribution of observed, sampling history and forecasts using to different priors.\n",
    ":::\n",
    "::::\n",
    ":::::::::\n",
    "\n",
    ":::::::::{tab-item} Rivers\n",
    "::::{grid} 1 1 2 2\n",
    "\n",
    ":::{grid-item-card}\n",
    ":columns: 12 5 5 5 \n",
    "\n",
    "Minimum expected survey results 2025\n",
    "^^^\n",
    "\n",
    "\n",
    "```{glue} river-forecast-99-list\n",
    "```\n",
    "\n",
    "```{glue} river-forecast-max-list\n",
    "```\n",
    "\n",
    "\n",
    ":::\n",
    "\n",
    ":::{grid-item-card}\n",
    ":columns: 12 7 7 7 \n",
    ":shadow: none\n",
    "```{glue} river-cumumlative-dist-forecast-prior\n",
    "```\n",
    "+++\n",
    "Cumulative distribution of observed, sampling history and forecasts using to different priors.\n",
    ":::\n",
    "::::\n",
    ":::::::::\n",
    "\n",
    "::::::::::\n",
    "\n",
    ":::{dropdown} Forecast methods\n",
    "\n",
    "\n",
    "\n",
    "__Model assumptions__\n",
    "\n",
    "1. Locations with similar land use attributes will have similar litter density rates\n",
    "2. The data is a best estimate of what was present on the day of the survey\n",
    "3. There are regional differences with respect to the density of specific objects\n",
    "4. The locations surveyed are maintained by a public administration\n",
    "\n",
    "The applied method would best be classified as Empirical Bayes, in the sense that the prior is derived from the observed data ([Bayesian Filtering and Smoothing](https://users.aalto.fi/~ssarkka/pub/cup_book_online_20131111.pdf), [Empirical Bayes methods in classical and Bayesianin ference](https://hannig.cloudapps.unc.edu/STOR757Bayes/handouts/PetroneEtAl2014.pdf)). However, we share the concerns of Davidson-Pillon in [Bayesian methods for hackers](https://dataorigami.net/Probabilistic-Programming-and-Bayesian-Methods-for-Hackers/#contents) about double counting the likelihood data. All instances of the likelihood data are removed from the prior data and replaced with locations that have similar land use charateristics. \n",
    "\n",
    "We define the expected type and quantity of objects at a beach as $( p(a | b)$ where _a_ and _b_ are observations of litter density using the OSPAR or MLW type protocol, _a_ and _b_ are related either geographically, temporally or by land use similitarity. With a Bayesian frame work we describe the probability that survey _Y_ will yield a density  _y_ > _x_ as $( p(a | b) \\propto \\text{Dirichlet}(\\Theta))$ for all _x_ on the grid defined $X = \\{ x \\in \\mathbb{R} \\mid x = 0.1k, \\; k \\in \\mathbb{Z}, \\; 0 \\leq x < 100 \\}$\n",
    "\n",
    "<!-- $$p(a | b) = \\frac{p(b | a) \\, p(a)}{p(b)}$$\n",
    "$$\\text{In this case, if } a \\sim \\text{Dirichlet}(\\Theta),\\text{ then: }$$\n",
    "$$p(a) = \\frac{1}{B(\\Theta)} \\prod_{i=1}^{k} a_i^{\\theta_i - 1}$$\n",
    "$$where  B(\\Theta) \\text{ is the normalization constant (the multivariate Beta function) defined as:}$$\n",
    "$$B(\\Theta) = \\frac{\\prod_{i=1}^{k} \\Gamma(\\theta_i)}{\\Gamma\\left(\\sum_{i=1}^{k} \\theta_i\\right)}$$\n",
    "$$p(a \\mid b) = \\text{Dirichlet}(\\Theta)$$ -->\n",
    "\n",
    "The posterior distribution is a combination of the likelihood and prior:\n",
    "\n",
    "$$P(\\mathbf{p} | \\mathbf{x}) \\propto \\left( \\prod_{i=1}^K p_i^{x_i} \\right) \\left( \\prod_{i=1}^K p_i^{\\alpha_i - 1} \\right)$$\n",
    "\n",
    "Which is a Dirichlet distribution:\n",
    "\n",
    "$P(\\mathbf{p} | \\mathbf{x}) \\propto \\prod_{i=1}^K p_i^{x_i + \\alpha_i - 1}$\n",
    "\n",
    "\n",
    "The choice of land use features was a natural choice but was further explored in [Near or Far](https://hammerdirt-analyst.github.io/landuse/titlepage.html). \n",
    "\n",
    "Our parameter estimates are thus derived from the data and they remain testable and quantifiable according to [Prior Probabilities, E T Jaynes](https://bayes.wustl.edu/etj/articles/prior.pdf). This makes our calculation very repetetive but also very well known. It can be defined in a few lines of code for any set of survey results.\n",
    "\n",
    "```{code} python\n",
    "\n",
    "# standared libaries\n",
    "import numpy as np\n",
    "from scipy.stats import dirichlet, multinomial\n",
    "\n",
    "# collect the data of interest\n",
    "h = array of survey values\n",
    "\n",
    "# count the number of times that each survey values exceed a value on the gird\n",
    "counts = np.array([np.sum((h > x) & (h <= x + .1)) for x in grid_range])\n",
    "\n",
    "# use the dirichlet dist to estimate p(Y >= x) for each x on the grid\n",
    "# and sample from the estimation\n",
    "adist = dirichlet(counts)\n",
    "this_dist = adist.rvs(1-[0]\n",
    "\n",
    "# draw samples from the conjugate\n",
    "posterior_samples = multinomial.rvs(nsamples, p=this_dist)\n",
    "\n",
    "```\n",
    "\n",
    "__Make a grid forecaster__\n",
    "\n",
    ":::"
   ]
  },
  {
   "cell_type": "markdown",
   "id": "7038125b-4064-44d6-8103-4f6c9e016f05",
   "metadata": {
    "editable": true,
    "slideshow": {
     "slide_type": ""
    },
    "tags": []
   },
   "source": [
    "## Municipal Results\n",
    "\n",
    "The average pieces per meter of the most common objects for each city."
   ]
  },
  {
   "cell_type": "code",
   "execution_count": 20,
   "id": "b0bda4c0-1b4a-4011-9ad1-fb3a52aac885",
   "metadata": {
    "editable": true,
    "slideshow": {
     "slide_type": ""
    },
    "tags": [
     "remove-input"
    ]
   },
   "outputs": [
    {
     "data": {
      "application/papermill.record/text/html": "<style type=\"text/css\">\n#T_5d140 tr:nth-child(even) {\n  background-color: rgba(139, 69, 19, 0.08);\n}\n#T_5d140 tr:nth-child(odd) {\n  background: #FFF;\n}\n#T_5d140 tr {\n  font-size: 10px;\n}\n#T_5d140 th {\n  background-color: #FFF;\n  font-size: 12px;\n  text-align: left;\n  width: auto;\n  word-break: keep-all;\n}\n#T_5d140 td {\n  padding: 4px;\n  font-size: 12px;\n  text-align: center;\n}\n#T_5d140 caption {\n  caption-side: bottom;\n  font-size: 1em;\n  text-align: left;\n}\n#T_5d140_row0_col1, #T_5d140_row6_col1, #T_5d140_row9_col1 {\n  background-color: #FAE8E8;\n}\n</style>\n<table id=\"T_5d140\">\n  <thead>\n    <tr>\n      <th class=\"blank level0\" >&nbsp;</th>\n      <th id=\"T_5d140_level0_col0\" class=\"col_heading level0 col0\" >quantity</th>\n      <th id=\"T_5d140_level0_col1\" class=\"col_heading level0 col1\" >pcs/m</th>\n      <th id=\"T_5d140_level0_col2\" class=\"col_heading level0 col2\" >samples</th>\n      <th id=\"T_5d140_level0_col3\" class=\"col_heading level0 col3\" >orchards</th>\n      <th id=\"T_5d140_level0_col4\" class=\"col_heading level0 col4\" >vineyards</th>\n      <th id=\"T_5d140_level0_col5\" class=\"col_heading level0 col5\" >buildings</th>\n      <th id=\"T_5d140_level0_col6\" class=\"col_heading level0 col6\" >forest</th>\n      <th id=\"T_5d140_level0_col7\" class=\"col_heading level0 col7\" >undefined</th>\n      <th id=\"T_5d140_level0_col8\" class=\"col_heading level0 col8\" >public services</th>\n      <th id=\"T_5d140_level0_col9\" class=\"col_heading level0 col9\" >streets</th>\n    </tr>\n    <tr>\n      <th class=\"index_name level0\" >city</th>\n      <th class=\"blank col0\" >&nbsp;</th>\n      <th class=\"blank col1\" >&nbsp;</th>\n      <th class=\"blank col2\" >&nbsp;</th>\n      <th class=\"blank col3\" >&nbsp;</th>\n      <th class=\"blank col4\" >&nbsp;</th>\n      <th class=\"blank col5\" >&nbsp;</th>\n      <th class=\"blank col6\" >&nbsp;</th>\n      <th class=\"blank col7\" >&nbsp;</th>\n      <th class=\"blank col8\" >&nbsp;</th>\n      <th class=\"blank col9\" >&nbsp;</th>\n    </tr>\n  </thead>\n  <tbody>\n    <tr>\n      <th id=\"T_5d140_level0_row0\" class=\"row_heading level0 row0\" >Allaman</th>\n      <td id=\"T_5d140_row0_col0\" class=\"data row0 col0\" >631</td>\n      <td id=\"T_5d140_row0_col1\" class=\"data row0 col1\" >7.23</td>\n      <td id=\"T_5d140_row0_col2\" class=\"data row0 col2\" >3</td>\n      <td id=\"T_5d140_row0_col3\" class=\"data row0 col3\" >1</td>\n      <td id=\"T_5d140_row0_col4\" class=\"data row0 col4\" >1</td>\n      <td id=\"T_5d140_row0_col5\" class=\"data row0 col5\" >1</td>\n      <td id=\"T_5d140_row0_col6\" class=\"data row0 col6\" >1</td>\n      <td id=\"T_5d140_row0_col7\" class=\"data row0 col7\" >3</td>\n      <td id=\"T_5d140_row0_col8\" class=\"data row0 col8\" >1</td>\n      <td id=\"T_5d140_row0_col9\" class=\"data row0 col9\" >1</td>\n    </tr>\n    <tr>\n      <th id=\"T_5d140_level0_row1\" class=\"row_heading level0 row1\" >Bourg-en-Lavaux</th>\n      <td id=\"T_5d140_row1_col0\" class=\"data row1 col0\" >121</td>\n      <td id=\"T_5d140_row1_col1\" class=\"data row1 col1\" >5.01</td>\n      <td id=\"T_5d140_row1_col2\" class=\"data row1 col2\" >2</td>\n      <td id=\"T_5d140_row1_col3\" class=\"data row1 col3\" >1</td>\n      <td id=\"T_5d140_row1_col4\" class=\"data row1 col4\" >3</td>\n      <td id=\"T_5d140_row1_col5\" class=\"data row1 col5\" >2</td>\n      <td id=\"T_5d140_row1_col6\" class=\"data row1 col6\" >1</td>\n      <td id=\"T_5d140_row1_col7\" class=\"data row1 col7\" >2</td>\n      <td id=\"T_5d140_row1_col8\" class=\"data row1 col8\" >1</td>\n      <td id=\"T_5d140_row1_col9\" class=\"data row1 col9\" >2</td>\n    </tr>\n    <tr>\n      <th id=\"T_5d140_level0_row2\" class=\"row_heading level0 row2\" >Cudrefin</th>\n      <td id=\"T_5d140_row2_col0\" class=\"data row2 col0\" >27</td>\n      <td id=\"T_5d140_row2_col1\" class=\"data row2 col1\" >2.23</td>\n      <td id=\"T_5d140_row2_col2\" class=\"data row2 col2\" >1</td>\n      <td id=\"T_5d140_row2_col3\" class=\"data row2 col3\" >1</td>\n      <td id=\"T_5d140_row2_col4\" class=\"data row2 col4\" >1</td>\n      <td id=\"T_5d140_row2_col5\" class=\"data row2 col5\" >2</td>\n      <td id=\"T_5d140_row2_col6\" class=\"data row2 col6\" >1</td>\n      <td id=\"T_5d140_row2_col7\" class=\"data row2 col7\" >4</td>\n      <td id=\"T_5d140_row2_col8\" class=\"data row2 col8\" >1</td>\n      <td id=\"T_5d140_row2_col9\" class=\"data row2 col9\" >2</td>\n    </tr>\n    <tr>\n      <th id=\"T_5d140_level0_row3\" class=\"row_heading level0 row3\" >Gland</th>\n      <td id=\"T_5d140_row3_col0\" class=\"data row3 col0\" >134</td>\n      <td id=\"T_5d140_row3_col1\" class=\"data row3 col1\" >1.43</td>\n      <td id=\"T_5d140_row3_col2\" class=\"data row3 col2\" >2</td>\n      <td id=\"T_5d140_row3_col3\" class=\"data row3 col3\" >1</td>\n      <td id=\"T_5d140_row3_col4\" class=\"data row3 col4\" >1</td>\n      <td id=\"T_5d140_row3_col5\" class=\"data row3 col5\" >1</td>\n      <td id=\"T_5d140_row3_col6\" class=\"data row3 col6\" >2</td>\n      <td id=\"T_5d140_row3_col7\" class=\"data row3 col7\" >3</td>\n      <td id=\"T_5d140_row3_col8\" class=\"data row3 col8\" >1</td>\n      <td id=\"T_5d140_row3_col9\" class=\"data row3 col9\" >1</td>\n    </tr>\n    <tr>\n      <th id=\"T_5d140_level0_row4\" class=\"row_heading level0 row4\" >Grandson</th>\n      <td id=\"T_5d140_row4_col0\" class=\"data row4 col0\" >104</td>\n      <td id=\"T_5d140_row4_col1\" class=\"data row4 col1\" >1.41</td>\n      <td id=\"T_5d140_row4_col2\" class=\"data row4 col2\" >1</td>\n      <td id=\"T_5d140_row4_col3\" class=\"data row4 col3\" >1</td>\n      <td id=\"T_5d140_row4_col4\" class=\"data row4 col4\" >1</td>\n      <td id=\"T_5d140_row4_col5\" class=\"data row4 col5\" >2</td>\n      <td id=\"T_5d140_row4_col6\" class=\"data row4 col6\" >1</td>\n      <td id=\"T_5d140_row4_col7\" class=\"data row4 col7\" >3</td>\n      <td id=\"T_5d140_row4_col8\" class=\"data row4 col8\" >1</td>\n      <td id=\"T_5d140_row4_col9\" class=\"data row4 col9\" >2</td>\n    </tr>\n    <tr>\n      <th id=\"T_5d140_level0_row5\" class=\"row_heading level0 row5\" >La Tour-de-Peilz</th>\n      <td id=\"T_5d140_row5_col0\" class=\"data row5 col0\" >2936</td>\n      <td id=\"T_5d140_row5_col1\" class=\"data row5 col1\" >4.33</td>\n      <td id=\"T_5d140_row5_col2\" class=\"data row5 col2\" >15</td>\n      <td id=\"T_5d140_row5_col3\" class=\"data row5 col3\" >1</td>\n      <td id=\"T_5d140_row5_col4\" class=\"data row5 col4\" >1</td>\n      <td id=\"T_5d140_row5_col5\" class=\"data row5 col5\" >5</td>\n      <td id=\"T_5d140_row5_col6\" class=\"data row5 col6\" >1</td>\n      <td id=\"T_5d140_row5_col7\" class=\"data row5 col7\" >1</td>\n      <td id=\"T_5d140_row5_col8\" class=\"data row5 col8\" >1</td>\n      <td id=\"T_5d140_row5_col9\" class=\"data row5 col9\" >2</td>\n    </tr>\n    <tr>\n      <th id=\"T_5d140_level0_row6\" class=\"row_heading level0 row6\" >Lausanne</th>\n      <td id=\"T_5d140_row6_col0\" class=\"data row6 col0\" >997</td>\n      <td id=\"T_5d140_row6_col1\" class=\"data row6 col1\" >19.41</td>\n      <td id=\"T_5d140_row6_col2\" class=\"data row6 col2\" >7</td>\n      <td id=\"T_5d140_row6_col3\" class=\"data row6 col3\" >1</td>\n      <td id=\"T_5d140_row6_col4\" class=\"data row6 col4\" >1</td>\n      <td id=\"T_5d140_row6_col5\" class=\"data row6 col5\" >5</td>\n      <td id=\"T_5d140_row6_col6\" class=\"data row6 col6\" >1</td>\n      <td id=\"T_5d140_row6_col7\" class=\"data row6 col7\" >1</td>\n      <td id=\"T_5d140_row6_col8\" class=\"data row6 col8\" >2</td>\n      <td id=\"T_5d140_row6_col9\" class=\"data row6 col9\" >3</td>\n    </tr>\n    <tr>\n      <th id=\"T_5d140_level0_row7\" class=\"row_heading level0 row7\" >Montreux</th>\n      <td id=\"T_5d140_row7_col0\" class=\"data row7 col0\" >738</td>\n      <td id=\"T_5d140_row7_col1\" class=\"data row7 col1\" >4.21</td>\n      <td id=\"T_5d140_row7_col2\" class=\"data row7 col2\" >7</td>\n      <td id=\"T_5d140_row7_col3\" class=\"data row7 col3\" >1</td>\n      <td id=\"T_5d140_row7_col4\" class=\"data row7 col4\" >1</td>\n      <td id=\"T_5d140_row7_col5\" class=\"data row7 col5\" >4</td>\n      <td id=\"T_5d140_row7_col6\" class=\"data row7 col6\" >1</td>\n      <td id=\"T_5d140_row7_col7\" class=\"data row7 col7\" >1</td>\n      <td id=\"T_5d140_row7_col8\" class=\"data row7 col8\" >1</td>\n      <td id=\"T_5d140_row7_col9\" class=\"data row7 col9\" >2</td>\n    </tr>\n    <tr>\n      <th id=\"T_5d140_level0_row8\" class=\"row_heading level0 row8\" >Préverenges</th>\n      <td id=\"T_5d140_row8_col0\" class=\"data row8 col0\" >3744</td>\n      <td id=\"T_5d140_row8_col1\" class=\"data row8 col1\" >6.62</td>\n      <td id=\"T_5d140_row8_col2\" class=\"data row8 col2\" >13</td>\n      <td id=\"T_5d140_row8_col3\" class=\"data row8 col3\" >1</td>\n      <td id=\"T_5d140_row8_col4\" class=\"data row8 col4\" >1</td>\n      <td id=\"T_5d140_row8_col5\" class=\"data row8 col5\" >4</td>\n      <td id=\"T_5d140_row8_col6\" class=\"data row8 col6\" >1</td>\n      <td id=\"T_5d140_row8_col7\" class=\"data row8 col7\" >1</td>\n      <td id=\"T_5d140_row8_col8\" class=\"data row8 col8\" >1</td>\n      <td id=\"T_5d140_row8_col9\" class=\"data row8 col9\" >2</td>\n    </tr>\n    <tr>\n      <th id=\"T_5d140_level0_row9\" class=\"row_heading level0 row9\" >Saint-Sulpice (VD)</th>\n      <td id=\"T_5d140_row9_col0\" class=\"data row9 col0\" >3388</td>\n      <td id=\"T_5d140_row9_col1\" class=\"data row9 col1\" >16.56</td>\n      <td id=\"T_5d140_row9_col2\" class=\"data row9 col2\" >7</td>\n      <td id=\"T_5d140_row9_col3\" class=\"data row9 col3\" >1</td>\n      <td id=\"T_5d140_row9_col4\" class=\"data row9 col4\" >1</td>\n      <td id=\"T_5d140_row9_col5\" class=\"data row9 col5\" >5</td>\n      <td id=\"T_5d140_row9_col6\" class=\"data row9 col6\" >1</td>\n      <td id=\"T_5d140_row9_col7\" class=\"data row9 col7\" >1</td>\n      <td id=\"T_5d140_row9_col8\" class=\"data row9 col8\" >2</td>\n      <td id=\"T_5d140_row9_col9\" class=\"data row9 col9\" >2</td>\n    </tr>\n    <tr>\n      <th id=\"T_5d140_level0_row10\" class=\"row_heading level0 row10\" >Tolochenaz</th>\n      <td id=\"T_5d140_row10_col0\" class=\"data row10 col0\" >274</td>\n      <td id=\"T_5d140_row10_col1\" class=\"data row10 col1\" >3.55</td>\n      <td id=\"T_5d140_row10_col2\" class=\"data row10 col2\" >2</td>\n      <td id=\"T_5d140_row10_col3\" class=\"data row10 col3\" >1</td>\n      <td id=\"T_5d140_row10_col4\" class=\"data row10 col4\" >1</td>\n      <td id=\"T_5d140_row10_col5\" class=\"data row10 col5\" >3</td>\n      <td id=\"T_5d140_row10_col6\" class=\"data row10 col6\" >1</td>\n      <td id=\"T_5d140_row10_col7\" class=\"data row10 col7\" >2</td>\n      <td id=\"T_5d140_row10_col8\" class=\"data row10 col8\" >1</td>\n      <td id=\"T_5d140_row10_col9\" class=\"data row10 col9\" >2</td>\n    </tr>\n    <tr>\n      <th id=\"T_5d140_level0_row11\" class=\"row_heading level0 row11\" >Vevey</th>\n      <td id=\"T_5d140_row11_col0\" class=\"data row11 col0\" >3163</td>\n      <td id=\"T_5d140_row11_col1\" class=\"data row11 col1\" >6.39</td>\n      <td id=\"T_5d140_row11_col2\" class=\"data row11 col2\" >12</td>\n      <td id=\"T_5d140_row11_col3\" class=\"data row11 col3\" >1</td>\n      <td id=\"T_5d140_row11_col4\" class=\"data row11 col4\" >1</td>\n      <td id=\"T_5d140_row11_col5\" class=\"data row11 col5\" >5</td>\n      <td id=\"T_5d140_row11_col6\" class=\"data row11 col6\" >1</td>\n      <td id=\"T_5d140_row11_col7\" class=\"data row11 col7\" >1</td>\n      <td id=\"T_5d140_row11_col8\" class=\"data row11 col8\" >1</td>\n      <td id=\"T_5d140_row11_col9\" class=\"data row11 col9\" >2</td>\n    </tr>\n    <tr>\n      <th id=\"T_5d140_level0_row12\" class=\"row_heading level0 row12\" >Yverdon-les-Bains</th>\n      <td id=\"T_5d140_row12_col0\" class=\"data row12 col0\" >1435</td>\n      <td id=\"T_5d140_row12_col1\" class=\"data row12 col1\" >1.38</td>\n      <td id=\"T_5d140_row12_col2\" class=\"data row12 col2\" >13</td>\n      <td id=\"T_5d140_row12_col3\" class=\"data row12 col3\" >1</td>\n      <td id=\"T_5d140_row12_col4\" class=\"data row12 col4\" >1</td>\n      <td id=\"T_5d140_row12_col5\" class=\"data row12 col5\" >4</td>\n      <td id=\"T_5d140_row12_col6\" class=\"data row12 col6\" >1</td>\n      <td id=\"T_5d140_row12_col7\" class=\"data row12 col7\" >1</td>\n      <td id=\"T_5d140_row12_col8\" class=\"data row12 col8\" >1</td>\n      <td id=\"T_5d140_row12_col9\" class=\"data row12 col9\" >2</td>\n    </tr>\n  </tbody>\n</table>\n",
      "application/papermill.record/text/plain": "<pandas.io.formats.style.Styler at 0x72cb181765b0>"
     },
     "metadata": {
      "scrapbook": {
       "mime_prefix": "application/papermill.record/",
       "name": "lake-municipal-results"
      }
     },
     "output_type": "display_data"
    }
   ],
   "source": [
    "dxl = lake_results['this_report'].df\n",
    "dxf = lake_results['this_land_use'].df_cont\n",
    "\n",
    "dxlc = dxl[['location', 'city', 'feature_type']].drop_duplicates('location')\n",
    "dxlc.set_index(['location'], inplace=True, drop=True)\n",
    "dxf['city'] = dxf.location.apply(lambda x : dxlc.loc[x, 'city'])\n",
    "sumlu = {x:'sum' for x in session_config.feature_variables}\n",
    "dxf = dxf.groupby(['sample_id', 'city', *session_config.feature_variables], as_index=False).agg(session_config.unit_agg)\n",
    "\n",
    "dxf = dxf.groupby(['city']).agg({'quantity':'sum', 'pcs/m':'mean', 'sample_id':'nunique', **sumlu})\n",
    "highlight_props = 'background-color:#FAE8E8'\n",
    "def highlight_max(s, arg, props: str = highlight_props):\n",
    "    return np.where((s > arg) & (s != 0), props, '')\n",
    "\n",
    "\n",
    "\n",
    "\n",
    "for alabel in session_config.feature_variables:\n",
    "    dxf[alabel] = dxf[alabel]/dxf.sample_id\n",
    "dxf['check'] = dxf[session_config.feature_variables[:-1]].sum(axis=1)\n",
    "dxfc = geospatial.categorize_features(dxf, feature_columns=session_config.feature_variables)\n",
    "dxfc.rename(columns={'sample_id':'samples'}, inplace=True)\n",
    "dxfc.drop('check', axis=1, inplace=True)\n",
    "dxfc = dxfc.style.set_table_styles(userdisplay.table_css_styles)\n",
    "dxfc = dxfc.apply(highlight_max, arg=lake_results['this_report'].sampling_results_summary['average'], subset=pd.IndexSlice[:, ['pcs/m']])\n",
    "dxfc = dxfc.format(userdisplay.format_kwargs, precision=2)\n",
    "\n",
    "glue('lake-municipal-results', dxfc , display=False)"
   ]
  },
  {
   "cell_type": "code",
   "execution_count": 21,
   "id": "abc83f2f-6eb7-49c5-8617-4e4df3b5cc8e",
   "metadata": {
    "editable": true,
    "slideshow": {
     "slide_type": ""
    },
    "tags": [
     "remove-input"
    ]
   },
   "outputs": [
    {
     "data": {
      "application/papermill.record/text/html": "<style type=\"text/css\">\n#T_fa986 tr:nth-child(even) {\n  background-color: rgba(139, 69, 19, 0.08);\n}\n#T_fa986 tr:nth-child(odd) {\n  background: #FFF;\n}\n#T_fa986 tr {\n  font-size: 10px;\n}\n#T_fa986 th {\n  background-color: #FFF;\n  font-size: 12px;\n  text-align: left;\n  width: auto;\n  word-break: keep-all;\n}\n#T_fa986 td {\n  padding: 4px;\n  font-size: 12px;\n  text-align: center;\n}\n#T_fa986 caption {\n  caption-side: bottom;\n  font-size: 1em;\n  text-align: left;\n}\n</style>\n<table id=\"T_fa986\">\n  <thead>\n    <tr>\n      <th class=\"blank level0\" >&nbsp;</th>\n      <th id=\"T_fa986_level0_col0\" class=\"col_heading level0 col0\" >quantity</th>\n      <th id=\"T_fa986_level0_col1\" class=\"col_heading level0 col1\" >pcs/m</th>\n      <th id=\"T_fa986_level0_col2\" class=\"col_heading level0 col2\" >samples</th>\n      <th id=\"T_fa986_level0_col3\" class=\"col_heading level0 col3\" >orchards</th>\n      <th id=\"T_fa986_level0_col4\" class=\"col_heading level0 col4\" >vineyards</th>\n      <th id=\"T_fa986_level0_col5\" class=\"col_heading level0 col5\" >buildings</th>\n      <th id=\"T_fa986_level0_col6\" class=\"col_heading level0 col6\" >forest</th>\n      <th id=\"T_fa986_level0_col7\" class=\"col_heading level0 col7\" >undefined</th>\n      <th id=\"T_fa986_level0_col8\" class=\"col_heading level0 col8\" >public services</th>\n      <th id=\"T_fa986_level0_col9\" class=\"col_heading level0 col9\" >streets</th>\n    </tr>\n    <tr>\n      <th class=\"index_name level0\" >city</th>\n      <th class=\"blank col0\" >&nbsp;</th>\n      <th class=\"blank col1\" >&nbsp;</th>\n      <th class=\"blank col2\" >&nbsp;</th>\n      <th class=\"blank col3\" >&nbsp;</th>\n      <th class=\"blank col4\" >&nbsp;</th>\n      <th class=\"blank col5\" >&nbsp;</th>\n      <th class=\"blank col6\" >&nbsp;</th>\n      <th class=\"blank col7\" >&nbsp;</th>\n      <th class=\"blank col8\" >&nbsp;</th>\n      <th class=\"blank col9\" >&nbsp;</th>\n    </tr>\n  </thead>\n  <tbody>\n    <tr>\n      <th id=\"T_fa986_level0_row0\" class=\"row_heading level0 row0\" >Lavey-Morcles</th>\n      <td id=\"T_fa986_row0_col0\" class=\"data row0 col0\" >594</td>\n      <td id=\"T_fa986_row0_col1\" class=\"data row0 col1\" >3.29</td>\n      <td id=\"T_fa986_row0_col2\" class=\"data row0 col2\" >3</td>\n      <td id=\"T_fa986_row0_col3\" class=\"data row0 col3\" >1</td>\n      <td id=\"T_fa986_row0_col4\" class=\"data row0 col4\" >1</td>\n      <td id=\"T_fa986_row0_col5\" class=\"data row0 col5\" >2</td>\n      <td id=\"T_fa986_row0_col6\" class=\"data row0 col6\" >2</td>\n      <td id=\"T_fa986_row0_col7\" class=\"data row0 col7\" >2</td>\n      <td id=\"T_fa986_row0_col8\" class=\"data row0 col8\" >1</td>\n      <td id=\"T_fa986_row0_col9\" class=\"data row0 col9\" >3</td>\n    </tr>\n    <tr>\n      <th id=\"T_fa986_level0_row1\" class=\"row_heading level0 row1\" >Yverdon-les-Bains</th>\n      <td id=\"T_fa986_row1_col0\" class=\"data row1 col0\" >9</td>\n      <td id=\"T_fa986_row1_col1\" class=\"data row1 col1\" >0.46</td>\n      <td id=\"T_fa986_row1_col2\" class=\"data row1 col2\" >1</td>\n      <td id=\"T_fa986_row1_col3\" class=\"data row1 col3\" >1</td>\n      <td id=\"T_fa986_row1_col4\" class=\"data row1 col4\" >1</td>\n      <td id=\"T_fa986_row1_col5\" class=\"data row1 col5\" >3</td>\n      <td id=\"T_fa986_row1_col6\" class=\"data row1 col6\" >1</td>\n      <td id=\"T_fa986_row1_col7\" class=\"data row1 col7\" >3</td>\n      <td id=\"T_fa986_row1_col8\" class=\"data row1 col8\" >1</td>\n      <td id=\"T_fa986_row1_col9\" class=\"data row1 col9\" >3</td>\n    </tr>\n  </tbody>\n</table>\n",
      "application/papermill.record/text/plain": "<pandas.io.formats.style.Styler at 0x72cab7f40430>"
     },
     "metadata": {
      "scrapbook": {
       "mime_prefix": "application/papermill.record/",
       "name": "river-municipal-results"
      }
     },
     "output_type": "display_data"
    }
   ],
   "source": [
    "# # the municipal results from all the data\n",
    "# dx = results['this_report'].df\n",
    "# dx = dx[dx.code.isin(mc_codes)]\n",
    "# dct = dx.groupby(['sample_id','city', 'code'], as_index=False).agg(session_config.unit_agg)\n",
    "# dct = dct.groupby(['city', 'code'], as_index=False).agg(session_config.agg_groups)\n",
    "# cities = dct.city.unique()\n",
    "\n",
    "# new_df = []\n",
    "# for city in cities:\n",
    "#     x = dct[dct.city == city][['city','code', 'pcs/m']]\n",
    "#     new_df.append(x)\n",
    "\n",
    "# i = pd.concat(new_df)\n",
    "\n",
    "# i['description'] = userdisplay.code_definitions(i.code)\n",
    "# i = i.pivot(index='description', columns='city', values='pcs/m')\n",
    "\n",
    "# ncities = len(i.columns)\n",
    "# i = i.style.apply(hmax, props='color: red')\n",
    "# i = i.highlight_max(color='yellow', axis=1)\n",
    "# i = i.set_table_styles(userdisplay.table_css_styles).format(precision=2)\n",
    "\n",
    "\n",
    "# hmax = userdisplay.highlight_max\n",
    "\n",
    "# # the municipal results from the lakes\n",
    "# dxl = lake_results['this_report'].df\n",
    "# dxl = dxl[dxl.code.isin(mc_codes)]\n",
    "# dctl = dxl.groupby(['sample_id','city', 'code'], as_index=False).agg(session_config.unit_agg)\n",
    "# dctl = dctl.groupby(['city', 'code'], as_index=False).agg(session_config.agg_groups)\n",
    "# citiesl = dctl.city.unique()\n",
    "\n",
    "# new_dfl = []\n",
    "# for city in citiesl:\n",
    "#     x = dctl[dctl.city == city][['city','code', 'pcs/m']]\n",
    "#     new_dfl.append(x)\n",
    "\n",
    "# il = pd.concat(new_dfl)\n",
    "\n",
    "# il['description'] = userdisplay.code_definitions(il.code)\n",
    "# il = il.pivot(index='description', columns='city', values='pcs/m')\n",
    "# # hmax = userdisplay.highlight_max\n",
    "# ncities = len(il.columns)\n",
    "# il = il.style.apply(hmax, props='color: red')\n",
    "# il = il.highlight_max(color='yellow', axis=1)\n",
    "# il  = il.set_table_styles(userdisplay.table_css_styles).format(precision=2)\n",
    "\n",
    "\n",
    "# dxr = river_results['this_report'].df\n",
    "# dxr = dxr[dxr.code.isin(rmc_codes)]\n",
    "# # print(rmc_codes)\n",
    "# # print(dxr.head())\n",
    "# dctr = dxr.groupby(['sample_id','city', 'code'], as_index=False).agg(session_config.unit_agg)\n",
    "# dctr = dctr.groupby(['city', 'code'], as_index=False).agg(session_config.agg_groups)\n",
    "# citiesr = dctr.city.unique()\n",
    "\n",
    "# new_dfr = []\n",
    "# for city in citiesr:\n",
    "#     x = dctr[dctr.city == city][['city','code', 'pcs/m']]\n",
    "#     new_dfr.append(x)\n",
    "\n",
    "# ir = pd.concat(new_dfr)\n",
    "# ir['description'] = userdisplay.code_definitions(ir.code)\n",
    "# ir = ir.pivot(index='description', columns='city', values='pcs/m')\n",
    "# ncities = len(ir.columns)\n",
    "# ir = ir.style.apply(hmax, props='color: red')\n",
    "# ir = ir.highlight_max(color='yellow', axis=1)\n",
    "# ir  = ir.set_table_styles(userdisplay.table_css_styles).format(precision=2)\n",
    "\n",
    "dxl = river_results['this_report'].df\n",
    "dxf = river_results['this_land_use'].df_cont\n",
    "\n",
    "dxlc = dxl[['location', 'city', 'feature_type']].drop_duplicates('location')\n",
    "dxlc.set_index(['location'], inplace=True, drop=True)\n",
    "dxf['city'] = dxf.location.apply(lambda x : dxlc.loc[x, 'city'])\n",
    "sumlu = {x:'sum' for x in session_config.feature_variables}\n",
    "dxf = dxf.groupby(['sample_id', 'city', *session_config.feature_variables], as_index=False).agg(session_config.unit_agg)\n",
    "\n",
    "dxf = dxf.groupby(['city']).agg({'quantity':'sum', 'pcs/m':'mean', 'sample_id':'nunique', **sumlu})\n",
    "highlight_props = 'background-color:#FAE8E8'\n",
    "def highlight_max(s, arg, props: str = highlight_props):\n",
    "    return np.where((s > arg) & (s != 0), props, '')\n",
    "\n",
    "\n",
    "\n",
    "\n",
    "for alabel in session_config.feature_variables:\n",
    "    dxf[alabel] = dxf[alabel]/dxf.sample_id\n",
    "    \n",
    "dxf['check'] = dxf[session_config.feature_variables[:-1]].sum(axis=1)\n",
    "dxfcr = geospatial.categorize_features(dxf, feature_columns=session_config.feature_variables)\n",
    "dxfcr.rename(columns={'sample_id':'samples'}, inplace=True)\n",
    "dxfcr.drop('check', axis=1, inplace=True)\n",
    "dxfcr = dxfcr.style.set_table_styles(userdisplay.table_css_styles)\n",
    "dxfcr = dxfcr.apply(highlight_max, arg=lake_results['this_report'].sampling_results_summary['average'], subset=pd.IndexSlice[:, ['pcs/m']])\n",
    "dxfcr = dxfcr.format(userdisplay.format_kwargs, precision=2)\n",
    "# glue('all-data-municipal-results', i , display=False)\n",
    "glue('river-municipal-results', dxfcr, display=False)\n"
   ]
  },
  {
   "cell_type": "markdown",
   "id": "58020061-f455-47de-9b9d-a1491148bc9a",
   "metadata": {
    "editable": true,
    "slideshow": {
     "slide_type": ""
    },
    "tags": []
   },
   "source": [
    "::::::::::{tab-set}\n",
    "\n",
    ":::::::::{tab-item} Lakes\n",
    "```{glue} lake-municipal-results\n",
    "```\n",
    ":::::::::\n",
    "\n",
    ":::::::::{tab-item} Rivers\n",
    "```{glue} river-municipal-results\n",
    "``` \n",
    ":::::::::\n",
    "\n",
    "::::::::::"
   ]
  },
  {
   "cell_type": "markdown",
   "id": "d01a1ccf-aaa3-4efb-97ca-2663791ad5b5",
   "metadata": {
    "editable": true,
    "slideshow": {
     "slide_type": ""
    },
    "tags": []
   },
   "source": [
    "# "
   ]
  },
  {
   "cell_type": "code",
   "execution_count": null,
   "id": "ad03fc6d-9c45-43c8-af35-561ed1facaaa",
   "metadata": {
    "editable": true,
    "slideshow": {
     "slide_type": ""
    },
    "tags": []
   },
   "outputs": [],
   "source": []
  },
  {
   "cell_type": "code",
   "execution_count": null,
   "id": "8df6771d-cb15-4e4d-9fb2-08c3d654b631",
   "metadata": {
    "editable": true,
    "slideshow": {
     "slide_type": ""
    },
    "tags": []
   },
   "outputs": [],
   "source": []
  },
  {
   "cell_type": "code",
   "execution_count": null,
   "id": "00cd6bf5-1c42-488e-b13d-b0bb1e17fd3d",
   "metadata": {
    "editable": true,
    "slideshow": {
     "slide_type": ""
    },
    "tags": []
   },
   "outputs": [],
   "source": []
  },
  {
   "cell_type": "code",
   "execution_count": null,
   "id": "7638ee7d-860f-4ff2-b05d-d21efc095275",
   "metadata": {
    "editable": true,
    "slideshow": {
     "slide_type": ""
    },
    "tags": []
   },
   "outputs": [],
   "source": []
  }
 ],
 "metadata": {
  "kernelspec": {
   "display_name": "Python 3 (ipykernel)",
   "language": "python",
   "name": "python3"
  },
  "language_info": {
   "codemirror_mode": {
    "name": "ipython",
    "version": 3
   },
   "file_extension": ".py",
   "mimetype": "text/x-python",
   "name": "python",
   "nbconvert_exporter": "python",
   "pygments_lexer": "ipython3",
   "version": "3.9.17"
  }
 },
 "nbformat": 4,
 "nbformat_minor": 5
}
