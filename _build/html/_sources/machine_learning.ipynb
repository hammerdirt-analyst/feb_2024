{
 "cells": [
  {
   "cell_type": "code",
   "execution_count": 1,
   "id": "b0c6bfd7-6b8a-4bec-82a4-2a34360f2ddb",
   "metadata": {
    "editable": true,
    "jupyter": {
     "source_hidden": true
    },
    "slideshow": {
     "slide_type": ""
    },
    "tags": [
     "remove-input"
    ]
   },
   "outputs": [],
   "source": [
    "import pandas as pd\n",
    "import numpy as np\n",
    "\n",
    "\n",
    "import matplotlib.patches as mpatches\n",
    "import session_config\n",
    "from session_config import  collect_survey_data, feature_variables, agg_groups\n",
    "from reports import make_report_objects, reports_and_forecast\n",
    "from reports import admin_report, features_present, histograms_standard\n",
    "from reports import ecdf_plots_standard, scatter_plot_standard\n",
    "from reports import labels_for_display, make_standard_report, make_report_objects\n",
    "# import userdisplay\n",
    "# import geospatial\n",
    "import gridforecast as gfcast\n",
    "# import datetime as dt\n",
    "from IPython.display import Markdown\n",
    "\n",
    "from featureevaluator import FeatureEvaluation\n",
    "# from sklearn.cluster import KMeans\n",
    "# from sklearn.preprocessing import StandardScaler, MinMaxScaler\n",
    "# from scipy.stats import spearmanr\n",
    "# from sklearn.linear_model import LinearRegression, LassoCV, TheilSenRegressor\n",
    "# from sklearn.ensemble import RandomForestRegressor, GradientBoostingRegressor, BaggingRegressor, VotingRegressor\n",
    "# from sklearn.model_selection import train_test_split\n",
    "# from sklearn.metrics import r2_score, mean_squared_error\n",
    "# from sklearn.inspection import permutation_importance\n",
    "# from sklearn.decomposition import PCA\n",
    "# from scipy.spatial import ConvexHull\n",
    "# from sklearn.exceptions import ConvergenceWarning\n",
    "# import warnings\n",
    "\n",
    "import openai\n",
    "from dotenv import load_dotenv\n",
    "import os\n",
    "from myst_nb import glue\n",
    "\n",
    "# import bs4\n",
    "# from langchain import hub\n",
    "# from langchain.chains import create_retrieval_chain\n",
    "# from langchain.chains.combine_documents import create_stuff_documents_chain\n",
    "# from langchain_openai import ChatOpenAI\n",
    "# from langchain_community.document_loaders import WebBaseLoader\n",
    "# from langchain_core.prompts import ChatPromptTemplate\n",
    "# from langchain_openai import OpenAIEmbeddings\n",
    "# from langchain_text_splitters import RecursiveCharacterTextSplitter\n",
    "# from langchain.chains import create_history_aware_retriever\n",
    "# from langchain_core.prompts import MessagesPlaceholder\n",
    "# from langchain_chroma import Chroma\n",
    "# from langchain_text_splitters import MarkdownHeaderTextSplitter\n",
    "# from langchain_core.messages import AIMessage, HumanMessage\n",
    "# from langchain_openai import OpenAI\n",
    "\n",
    "load_dotenv()\n",
    "api_key = os.getenv('OPENAI_API_KEY')\n",
    "\n",
    "datax = collect_survey_data()\n",
    "codes = pd.read_csv('data/end_process/codes.csv').set_index('code')\n",
    "\n",
    "# from use_cases example\n",
    "ooi = ['G10',  'G30', 'G31', 'G33', 'G34', 'G35', 'G8', 'G7', 'G6', 'G5', 'G4', 'G37', 'G2', 'G27', 'G25', 'G26', 'G11']\n",
    "# more refined search\n",
    "tobo_snacks = ['G27', 'G30', 'G35']\n",
    "# unidentified, plastic, different uses\n",
    "# udi = ['Gfrags', 'Gfoams']\n",
    "# industrial\n",
    "indus = ['G89', 'G67', 'G112', 'G93' , 'G66','G74', 'G72', 'G87', 'G65', 'G69', 'G68', 'G43', 'G41', 'G38', 'G36', 'G19', 'G17', 'Gfrags']\n",
    "\n",
    "# features\n",
    "land_covers = ['buildings', 'forest', 'undefined', 'public-services', 'recreation', 'streets']"
   ]
  },
  {
   "cell_type": "code",
   "execution_count": 3,
   "id": "507138ef-b6e9-498a-ac9b-1009975ef9e9",
   "metadata": {
    "editable": true,
    "jupyter": {
     "source_hidden": true
    },
    "slideshow": {
     "slide_type": ""
    },
    "tags": [
     "remove-input"
    ]
   },
   "outputs": [],
   "source": [
    "o_dates = {'start':'2020-01-01', 'end':'2021-12-31'}\n",
    "prior_dates = {'start':'2015-11-15', 'end':'2019-12-31'}\n",
    "\n",
    "canton = 'Bern'\n",
    "this_feature_type = 'l'\n",
    "region_type = 'Canton'\n",
    "\n",
    "d = datax.reset_index(drop=True)\n",
    "\n",
    "d = d[d.canton.isin(['Genève', 'Valais', 'Vaud', 'Zürich', 'Bern'])]\n",
    "\n",
    "# make complete report\n",
    "params_l = {'canton':canton, 'date_range':o_dates, 'feature_type': this_feature_type}\n",
    "params_p = {'canton':canton, 'date_range':prior_dates, 'feature_type':this_feature_type}\n",
    "\n",
    "# set the parameters for the weighted prior\n",
    "# exclude records in the likelihood, set date range and feature type\n",
    "lu_catalogue = d[(d.canton != canton)&(d['date'] <= o_dates['end'])&(d.feature_type == 'l')&(d.code.isin(tobo_snacks))].copy()\n",
    "lu_catalogue.reset_index(inplace=True, drop=True)\n",
    "catalog_surveys, catalog_features = make_report_objects(lu_catalogue)\n",
    "\n",
    "# this is the prior data: all data collected from\n",
    "# the same feature type. Lakes, rivers or parks\n",
    "prior_feature = catalog_features.df_cat\n",
    "prior_feature['feature_type'] = 'l'\n",
    "\n",
    "# the prior and likelihood data from the region of interest\n",
    "all_data_of_interest = d[(d['date'] >= prior_dates['start']) & (d['date'] <= o_dates['end'])&(d.feature_type == 'l')&(d.code.isin(tobo_snacks))].copy()\n",
    "all_data_of_interest = all_data_of_interest[all_data_of_interest.canton == canton].copy()\n",
    "\n",
    "all_data_of_interest['use'] = 'pers'\n",
    "all_data_of_interest.reset_index(inplace=True, drop=True)\n",
    "\n",
    "land_covers = ['buildings', 'forest', 'undefined', 'public-services', 'streets', 'orchards', 'use', 'canton', 'city', 'feature_name']\n",
    "\n",
    "all_report, all_land_use = make_report_objects(all_data_of_interest, info_columns = ['use', 'canton', 'city', 'feature_name'])\n",
    "\n",
    "\n",
    "args = {\n",
    "    'likelihood': {'canton':canton, 'date_range':o_dates},\n",
    "    'prior' : {'canton':canton, 'date_range':prior_dates},\n",
    "    'data' : all_data_of_interest.copy(),\n",
    "    'land-use-inventory' : prior_feature.copy()\n",
    "}\n",
    "\n",
    "\n",
    "combined_results = reports_and_forecast(args['likelihood'], args['prior'], ldata=args['data'])\n",
    "standard_combined = make_standard_report(combined_results, args)\n",
    "\n",
    "\n",
    "lake_report = combined_results['this_report']\n",
    "lake_prior_report = combined_results['prior_report']\n",
    "lake_land_use = combined_results['this_land_use']\n",
    "\n",
    "scaled_cols = ['public-services', 'buildings', 'forest', 'undefined', 'vineyards', 'orchards', 'streets', 'recreation']\n",
    "system_prompt = (\n",
    "    \"Transcribe the values from tables and put them in paragraph form.\"\n",
    "    \"Being carefull that each value in the table is accounted for in the\"\n",
    "    \"paragraph. You are to do this in a narrative form. Answers must be concise.\"\n",
    "      \n",
    "    \"\\n\\n\"\n",
    "    \"{context}\"\n",
    ")\n",
    "\n",
    "indus_code_defs = codes.loc[all_data_of_interest.code.unique(), 'en']\n",
    "pro_codes = (', ').join(indus_code_defs.values)\n",
    "\n",
    "rec_code_defs = codes.loc[tobo_snacks, 'en']\n",
    "rec_codes = (', ').join(rec_code_defs.values)\n",
    "\n",
    "use_groups = {'personal':rec_codes, 'professional':pro_codes}\n",
    "\n",
    "model = 'gpt-4o-mini'\n",
    "from roughdraft import ReportTexts\n",
    "client = openai.OpenAI()\n",
    "args = {\n",
    "    'report':lake_report,\n",
    "    'landuse_report': lake_land_use,\n",
    "    'client': client,\n",
    "    'start': prior_dates['start'],\n",
    "    'end': o_dates['end'],\n",
    "    'groups': use_groups,\n",
    "    'standard_report': standard_combined,\n",
    "    'name': canton,\n",
    "    'region_type': \"Canton\"\n",
    "}\n",
    "\n",
    "\n",
    "\n",
    "achatter = ReportTexts(**args)\n",
    "\n"
   ]
  },
  {
   "cell_type": "markdown",
   "id": "d57d063b-2315-48c2-81bb-793ddacac535",
   "metadata": {},
   "source": [
    "# Rough draft prompt"
   ]
  },
  {
   "cell_type": "code",
   "execution_count": 5,
   "id": "a71b712f-3fa2-4cba-af52-45111ea657e4",
   "metadata": {
    "editable": true,
    "slideshow": {
     "slide_type": ""
    },
    "tags": []
   },
   "outputs": [
    {
     "data": {
      "text/markdown": [
       "\n",
       "## Cluster analysis Bern 2015-11-15 2021-12-31\n",
       "\n",
       "\n",
       "Bern: Cluster composition\n",
       "    \n",
       "The following are the summary results of a cluster analysis. The columns are the features that were used to make the clusters. The optimal number of clusters was\n",
       "determined using the elbow method (you can check the docs for this: https://hammerdirt-analyst.github.io/feb_2024/titlepage.html). The table displays the average magnitude\n",
       "of each feature in the cluster. For example if the value for forest, cluster 1 = .45 then that means that in cluster 1, the average sample was taken from a location that was\n",
       "45% dedicated to forest.\n",
       "\n",
       "Table has the following format:\n",
       "\n",
       "1. the columns are the measured land use features\n",
       "2. the index is the cluster number\n",
       "3. the value is the proportion of the cluster that is attributed to that column. For example if buildings in cluster 1 = .17 it means that the average magnitude of\n",
       "the buildings variable was 0.17 in cluster 1.\n",
       "\n",
       "Convert the following table into a paragraph, reporting the values for each column along with their cluster number values without any comments or analysis:\n",
       "\n",
       "|   cluster |   public-services |   buildings |   forest |   undefined |   vineyards |   streets |   recreation |\n",
       "|----------:|------------------:|------------:|---------:|------------:|------------:|----------:|-------------:|\n",
       "|         0 |             0.024 |       0.591 |    0.22  |       0.189 |       0     | 0.363896  |        0.005 |\n",
       "|         1 |             0.007 |       0.159 |    0.537 |       0.245 |       0     | 0.0845193 |        0.005 |\n",
       "|         2 |             0.061 |       0.309 |    0.107 |       0.541 |       0.02  | 0.49708   |        0.025 |\n",
       "|         3 |             0.003 |       0.047 |    0.271 |       0.55  |       0     | 0         |        0.155 |\n",
       "|         4 |             0.044 |       0.682 |    0.153 |       0.149 |       0.015 | 0.251846  |        0.005 |\n",
       "\n",
       "\n",
       "\n",
       "\n",
       "\n",
       "Bern: Average density per cluster\n",
       "    \n",
       "The following are the observed sample average per cluster. The units is objects per meter of beach. The columns are the use case of the objects: personal or professional. The index is\n",
       "the cluster number.\n",
       "\n",
       "Table has the following format:\n",
       "\n",
       "1. the columns are the object use case\n",
       "2. the index is the cluster number\n",
       "3. the value is the objects found per meter of beach\n",
       "\n",
       "Convert the following table into a paragraph, reporting the values for each column along with their respective cluster values without any comments or analysis:\n",
       "The narrative needs to be in paragraph format.\n",
       "\n",
       "|   cluster |    pcs/m |\n",
       "|----------:|---------:|\n",
       "|         0 | 1.23192  |\n",
       "|         1 | 0.147857 |\n",
       "|         2 | 0.492941 |\n",
       "|         3 | 0.695833 |\n",
       "|         4 | 0.356    |   \n",
       "\n",
       "\n"
      ],
      "text/plain": [
       "<IPython.core.display.Markdown object>"
      ]
     },
     "execution_count": 5,
     "metadata": {},
     "output_type": "execute_result"
    }
   ],
   "source": [
    "Markdown(achatter.cluster_analysis(scaled_cols=scaled_cols))"
   ]
  },
  {
   "cell_type": "code",
   "execution_count": 6,
   "id": "ad21f8ec-4fcf-48cd-a33f-c8b933e8a257",
   "metadata": {
    "editable": true,
    "slideshow": {
     "slide_type": ""
    },
    "tags": []
   },
   "outputs": [
    {
     "data": {
      "text/markdown": [
       "\n",
       "## Summary of regression methods Bern 2015-11-15 2021-12-31: The different linear models the data were tested on\n",
       "\n",
       "\n",
       "\n",
       "\n",
       "\n",
       "The following table details the results from different regression analysis of our data. \n",
       "\n",
       "Table has the following format:\n",
       "\n",
       "1. Model: the type of regression model used\n",
       "2. R²: The coefficient of determination\n",
       "3. MSE: the mean squared error\n",
       "\n",
       "Generate a narrative summary based on the following table. You need to include all the models and the R² and MSE result.\n",
       "The narrative needs to be in paragraph format.\n",
       "\n",
       "\n",
       "|    | Model                                |       R² |      MSE |\n",
       "|---:|:-------------------------------------|---------:|---------:|\n",
       "|  0 | Linear Regression                    | 0.322546 | 0.420651 |\n",
       "|  1 | Random Forest Regression             | 0.260129 | 0.459407 |\n",
       "|  2 | Gradient Boosting Regression         | 0.440842 | 0.347197 |\n",
       "|  3 | Theil-Sen Regressor                  | 0.373587 | 0.388957 |\n",
       "|  4 | Bagging:Gradient Boosting Regression | 0.428094 | 0.355113 |\n",
       "|  5 | Voting                               | 0.381679 | 0.383933 |\n",
       "\n",
       "\n"
      ],
      "text/plain": [
       "<IPython.core.display.Markdown object>"
      ]
     },
     "execution_count": 6,
     "metadata": {},
     "output_type": "execute_result"
    }
   ],
   "source": [
    "Markdown(achatter.linear_and_ensemble_regression())"
   ]
  },
  {
   "cell_type": "code",
   "execution_count": 7,
   "id": "8c275d53-b2f7-4c62-9b49-f3e0a52eb45d",
   "metadata": {
    "editable": true,
    "slideshow": {
     "slide_type": ""
    },
    "tags": []
   },
   "outputs": [
    {
     "data": {
      "text/markdown": [
       "\n",
       "__Model feature importance__\n",
       "\n",
       "Feature importance is a technique used in machine learning to identify and quantify the significance of different input variables (features) in predicting the target variable. In models like decision trees, random forests, and gradient boosting machines, feature importance is often calculated by measuring how much the model's accuracy or error changes when a particular feature is included versus when it is excluded. \n",
       "\n",
       "The following table details the model feature importance. \n",
       "\n",
       "Table has the following format:\n",
       "\n",
       "1. Feature: the name of the land-use feature\n",
       "2. importance: The model feature importance\n",
       "\n",
       "Convert the following table into a paragraph, reporting the values for each row without any comments or analysis:\n",
       "\n",
       "|    | Feature         |   Importance |\n",
       "|---:|:----------------|-------------:|\n",
       "|  5 | streets         |   0.505726   |\n",
       "|  2 | forest          |   0.217602   |\n",
       "|  6 | recreation      |   0.140917   |\n",
       "|  0 | public-services |   0.0687852  |\n",
       "|  4 | vineyards       |   0.0557621  |\n",
       "|  1 | buildings       |   0.00824573 |\n",
       "|  3 | undefined       |   0.00296241 |\n",
       "\n",
       "\n",
       "\n",
       "\n",
       "\n",
       "__Permutation feature importance__\n",
       "\n",
       "Permutation importance is a model-agnostic method for assessing the importance of individual features in a predictive model. It is particularly useful because it can be applied to any type of model, whether it's a linear model, a decision tree, or a complex ensemble model. This method involves randomly shuffling the values of a feature in the dataset and observing the impact on the model's performance. A significant drop in performance indicates that the feature is important.\n",
       "\n",
       "The following table details the model feature importance. \n",
       "\n",
       "Table has the following format:\n",
       "\n",
       "1. Feature: the name of the land-use feature\n",
       "2. importance: The model feature importance\n",
       "\n",
       "Convert the following table into a paragraph, reporting the values for each row without any comments or analysis:\n",
       "\n",
       "|    | Feature         |   Importance |\n",
       "|---:|:----------------|-------------:|\n",
       "|  5 | streets         |   0.399941   |\n",
       "|  2 | forest          |   0.14721    |\n",
       "|  6 | recreation      |   0.0300706  |\n",
       "|  0 | public-services |   0.0226841  |\n",
       "|  1 | buildings       |   0.0134503  |\n",
       "|  4 | vineyards       |   0          |\n",
       "|  3 | undefined       |  -0.00170361 |\n",
       "\n",
       "\n"
      ],
      "text/plain": [
       "<IPython.core.display.Markdown object>"
      ]
     },
     "execution_count": 7,
     "metadata": {},
     "output_type": "execute_result"
    }
   ],
   "source": [
    "Markdown(achatter.feature_importance())"
   ]
  },
  {
   "cell_type": "code",
   "execution_count": 8,
   "id": "758518d5-f694-4627-acfb-c0fa81a8ab3b",
   "metadata": {
    "editable": true,
    "slideshow": {
     "slide_type": ""
    },
    "tags": []
   },
   "outputs": [
    {
     "data": {
      "text/markdown": [
       "\n",
       "## Forecasts\n",
       "\n",
       "Grid approximation of the posterior is a technique used in Bayesian inference to estimate the posterior distribution of parameters by discretizing the parameter space and evaluating the posterior probability at each point on a grid. This method is especially useful when the posterior distribution does not have a closed-form solution and when the parameter space is of low dimensionality, allowing for a feasible grid search. We use two priors, one is a weigheted combination of survey results from locations similar to the likelihood. The other prior uses the samples taken from the same location, but prior to the specified date range\n",
       "\n",
       "\n",
       "__Bern: Weighted prior forecast____\n",
       "\n",
       "The following contains the expected distribution of survey results.\n",
       "\n",
       "The table has the following format:\n",
       "\n",
       "1. average: the expected average sample total\n",
       "2. hdi min: the minimum of the 90% Highest Density Interval\n",
       "3. hdi max: the maximum of the 90% of the Highest Density Interval\n",
       "4. 5th, 25th, 50th, 75th, 95th : the percentile rankings based on the expected distribution\n",
       "5. max predicted: the maximum value predicted by the model\n",
       "\n",
       "Generate a narrative summary based on the following table. Include all values. Reply in paragraph format, do not comment do not embelish. Use the following style guide:\n",
       "\n",
       "|               |   expected |\n",
       "|:--------------|-----------:|\n",
       "| average       |     1.3861 |\n",
       "| hdi min       |     0      |\n",
       "| hdi max       |     7.39   |\n",
       "| 5th           |     0.01   |\n",
       "| 25th          |     0.22   |\n",
       "| 50th          |     0.42   |\n",
       "| 75th          |     1.5    |\n",
       "| 95th          |     5.87   |\n",
       "| max predicted |    13.49   |\n",
       "\n",
       "\n",
       "\n",
       "\n",
       "\n",
       "__Bern: Observed 99th percentile forecast__\n",
       "\n",
       "The following contains the expected distribution of survey results.\n",
       "\n",
       "The table has the following format:\n",
       "\n",
       "1. average: the expected average sample total\n",
       "2. hdi min: the minimum of the 90% Highest Density Interval\n",
       "3. hdi max: the maximum of the 90% of the Highest Density Interval\n",
       "4. 5th, 25th, 50th, 75th, 95th : the percentile rankings based on the expected distribution\n",
       "5. max predicted: the maximum value predicted by the model\n",
       "\n",
       "Generate a narrative summary based on the following table. Include all values. Reply in paragraph format, do not comment do not embelish. Use the following style guide:\n",
       "\n",
       "|               |   expected |\n",
       "|:--------------|-----------:|\n",
       "| average       |     0.5074 |\n",
       "| hdi min       |     0      |\n",
       "| hdi max       |     1.76   |\n",
       "| 5th           |     0      |\n",
       "| 25th          |     0.1275 |\n",
       "| 50th          |     0.21   |\n",
       "| 75th          |     0.68   |\n",
       "| 95th          |     1.76   |\n",
       "| max predicted |     3.75   |\n",
       "\n",
       "\n"
      ],
      "text/plain": [
       "<IPython.core.display.Markdown object>"
      ]
     },
     "execution_count": 8,
     "metadata": {},
     "output_type": "execute_result"
    }
   ],
   "source": [
    "Markdown(achatter.grid_approximation())"
   ]
  },
  {
   "cell_type": "code",
   "execution_count": 9,
   "id": "6234bb68-fc22-47bc-adb7-7f7c497b21a5",
   "metadata": {
    "editable": true,
    "slideshow": {
     "slide_type": ""
    },
    "tags": []
   },
   "outputs": [
    {
     "data": {
      "text/markdown": [
       "\n",
       "## Sampling stratification Bern 2015-11-15 2021-12-31: The environmental features surrounding the survey location.\n",
       "\n",
       "Each survey location is surounded by a buffer zone of radius = 1 500 meters. The buffer zone is comprised of land-use features, each land use feature occupies a proportion of the buffer zone (0 - 100%). The land-use-profile is measured by considering the proportion of the buffer dedicated to each of land use feature that is present in the buffer zone. Each location has the same size buffer zone. What changes is how the land use features are distributed within the buffer zone, That is we can group locations by the similarity of the measured topographical features present in the buffer\n",
       "\n",
       "\n",
       "\n",
       "\n",
       "\n",
       "The sampling stratification quantifies what proportion of the samples were conducted according to the proportion of the buffer zone that is dedicated to a particular land use feature.\n",
       "Each survey location is surrounded by a buffer zone of radius = 1 500 meters. The buffer zone is comprised of land-use features, each land use feature occupies a proportion of the buffer zone (0 - 100%). \n",
       "The sampling stratification is measured by considering the proportion of the buffer dedicated to each of land use feature that is present in the buffer zone. Each location has the same size buffer zone. \n",
       "What changes is how the land use features are distributed within the buffer zone, That is we can group locations by the similarity of the measured topographical present in the buffer zone. \n",
       "\n",
       "__Example of how to interpret sampling-stratification table:__\n",
       "\n",
       "\n",
       "\n",
       "\n",
       "__Sample table:__\n",
       "\n",
       "\n",
       "\n",
       "|   Proportion of buffer zone |   ('Proportion of samples collected', 'buildings') |   ('Proportion of samples collected', 'wetlands') |   ('Proportion of samples collected', 'forest') |   ('Proportion of samples collected', 'public-services') |   ('Proportion of samples collected', 'recreation') |   ('Proportion of samples collected', 'undefined') |   ('Proportion of samples collected', 'streets') |   ('Proportion of samples collected', 'vineyards') |   ('Proportion of samples collected', 'orchards') |\n",
       "|----------------------------:|---------------------------------------------------:|--------------------------------------------------:|------------------------------------------------:|---------------------------------------------------------:|----------------------------------------------------:|---------------------------------------------------:|-------------------------------------------------:|---------------------------------------------------:|--------------------------------------------------:|\n",
       "|                           1 |                                          0.0588235 |                                                 1 |                                       0.976471  |                                                0.776471  |                                                   1 |                                          0.870588  |                                                0 |                                          0.976471  |                                                 1 |\n",
       "|                           2 |                                          0.0588235 |                                                 0 |                                       0.0235294 |                                                0.2       |                                                   0 |                                          0.0470588 |                                                0 |                                          0         |                                                 0 |\n",
       "|                           3 |                                          0.0117647 |                                                 0 |                                       0         |                                                0.0235294 |                                                   0 |                                          0.0823529 |                                                0 |                                          0.0235294 |                                                 0 |\n",
       "|                           4 |                                          0.376471  |                                                 0 |                                       0         |                                                0         |                                                   0 |                                          0         |                                                0 |                                          0         |                                                 0 |\n",
       "|                           5 |                                          0.494118  |                                                 0 |                                       0         |                                                0         |                                                   0 |                                          0         |                                                0 |                                          0         |                                                 0 |\n",
       "\n",
       "\n",
       "__exmple paragraph__\n",
       "\n",
       "The sampling-stratification of the surveys was as follows: 49% of the surveys were conducted at locations where 80-100% of the buffer was dedicated to buidlings. 37% of the surveys were taken where 60 -80% of the buffer\n",
       "was dedicated to buidlings. 1% of the surveys were taken where 40-60% of the buffer was dedicated to buidlings. 6% of the samples were taken from locations where 20 - 40% of the buffer was dedicated to buidlings. \n",
       "6% of samples was taken from locations where 0-20% of the buffer was dedicated to buidlings. All of the samples were taken in locations where 0-20% of the buffer was dedicated to wetlands. 98% of the samples were \n",
       "taken from locations where 0-20% of the buffer was dedicated to forest. 2% of surveys were taken where 20-40% of the buffer was dedicated to forest. 77% of the samples were taken from locations that had\n",
       "0-20% of the buffer dedicated to public-services. 20% of the surveys were taken from locations that had 20-40% of the buffer dedicated to public services. 2% of surveys were taked from locations that had\n",
       "20-40% of the buffer dedicated to public services.\n",
       "\n",
       "\n",
       "Convert the following table into a paragraph use the example given above to report the values for each column and index pair.\n",
       "\n",
       "| proportion of buffer   |   ('Proportion of samples collected', 'buildings') |   ('Proportion of samples collected', 'wetlands') |   ('Proportion of samples collected', 'forest') |   ('Proportion of samples collected', 'public-services') |   ('Proportion of samples collected', 'recreation') |   ('Proportion of samples collected', 'undefined') |   ('Proportion of samples collected', 'streets') |   ('Proportion of samples collected', 'vineyards') |   ('Proportion of samples collected', 'orchards') |\n",
       "|:-----------------------|---------------------------------------------------:|--------------------------------------------------:|------------------------------------------------:|---------------------------------------------------------:|----------------------------------------------------:|---------------------------------------------------:|-------------------------------------------------:|---------------------------------------------------:|--------------------------------------------------:|\n",
       "| 0-20%                  |                                          0.310811  |                                                 1 |                                       0.243243  |                                                        1 |                                                   1 |                                          0.351351  |                                        0.445946  |                                                  1 |                                                 1 |\n",
       "| 20-40%                 |                                          0.378378  |                                                 0 |                                       0.662162  |                                                        0 |                                                   0 |                                          0.0810811 |                                        0.0810811 |                                                  0 |                                                 0 |\n",
       "| 40-60%                 |                                          0.216216  |                                                 0 |                                       0.0945946 |                                                        0 |                                                   0 |                                          0.567568  |                                        0.189189  |                                                  0 |                                                 0 |\n",
       "| 60-80%                 |                                          0.0675676 |                                                 0 |                                       0         |                                                        0 |                                                   0 |                                          0         |                                        0.202703  |                                                  0 |                                                 0 |\n",
       "| 80-100%                |                                          0.027027  |                                                 0 |                                       0         |                                                        0 |                                                   0 |                                          0         |                                        0.0810811 |                                                  0 |                                                 0 |\n",
       "\n",
       "\n",
       "\n"
      ],
      "text/plain": [
       "<IPython.core.display.Markdown object>"
      ]
     },
     "execution_count": 9,
     "metadata": {},
     "output_type": "execute_result"
    }
   ],
   "source": [
    "Markdown(achatter.landuse_profile())"
   ]
  },
  {
   "cell_type": "code",
   "execution_count": 10,
   "id": "6601598b-4560-4300-914c-039a6700b8fc",
   "metadata": {
    "editable": true,
    "slideshow": {
     "slide_type": ""
    },
    "tags": []
   },
   "outputs": [
    {
     "data": {
      "text/markdown": [
       "\n",
       "## Topography and trash density Bern 2015-11-15 2021-12-31: The changes in the observed litter density and the changes in land use\n",
       "\n",
       "\n",
       "\n",
       "\n",
       "\n",
       "\n",
       "The table has the following format:\n",
       "\n",
       "1. Index = proportion of buffer occupied by feature: (1 - 5) or (0-20%, 20-40%, 40-60%, 60-80%, 80-100%)\n",
       "2. Columns = The named topographical feature that maybe in the buffer\n",
       "3. Values = the average pieces of trash per meter that was observed at the magnitude and feature\n",
       "\n",
       "Convert the following table into a paragraph, reporting the values for each column along with their respective index values without any comments or analysis:\n",
       "\n",
       "|    |   buildings |   wetlands |   forest |   public-services |   recreation |   undefined |   streets |   vineyards |   orchards |\n",
       "|---:|------------:|-----------:|---------:|------------------:|-------------:|------------:|----------:|------------:|-----------:|\n",
       "|  1 |    0.608261 |   0.710946 | 0.359444 |          0.710946 |     0.710946 |    1.14731  |  0.350606 |    0.710946 |   0.710946 |\n",
       "|  2 |    0.235714 |   0        | 0.907959 |          0        |     0        |    1.175    |  0.681667 |    0        |   0        |\n",
       "|  3 |    1.83188  |   0        | 0.235714 |          0        |     0        |    0.374524 |  0.344286 |    0        |   0        |\n",
       "|  4 |    0.414    |   0        | 0        |          0        |     0        |    0        |  1.942    |    0        |   0        |\n",
       "|  5 |    0.32     |   0        | 0        |          0        |     0        |    0        |  0.5      |    0        |   0        |\n",
       "\n",
       "\n"
      ],
      "text/plain": [
       "<IPython.core.display.Markdown object>"
      ]
     },
     "execution_count": 10,
     "metadata": {},
     "output_type": "execute_result"
    }
   ],
   "source": [
    "Markdown(achatter.landuse_rates())"
   ]
  },
  {
   "cell_type": "code",
   "execution_count": 11,
   "id": "54805507-0862-42d5-b453-bff9bf4b70e3",
   "metadata": {
    "editable": true,
    "slideshow": {
     "slide_type": ""
    },
    "tags": []
   },
   "outputs": [
    {
     "data": {
      "text/markdown": [
       "\n",
       "## Material composition of objects Bern 2015-11-15 2021-12-31: estimated material composition\n",
       "\n",
       "\n",
       "\n",
       "\n",
       "\n",
       "The following table details the proportion that each material type represents to the total\n",
       "\n",
       "Generate a narrative summary based on the following table. You need to include all the material types and their float values\n",
       "\n",
       "\n",
       "| material   | % of total   |\n",
       "|:-----------|:-------------|\n",
       "| plastic    | 100%         |\n",
       "\n",
       "\n"
      ],
      "text/plain": [
       "<IPython.core.display.Markdown object>"
      ]
     },
     "execution_count": 11,
     "metadata": {},
     "output_type": "execute_result"
    }
   ],
   "source": [
    "Markdown(achatter.material_composition())"
   ]
  },
  {
   "cell_type": "code",
   "execution_count": 12,
   "id": "75eca9ec-3800-47ce-a3d6-db23f93488bd",
   "metadata": {
    "editable": true,
    "slideshow": {
     "slide_type": ""
    },
    "tags": []
   },
   "outputs": [
    {
     "data": {
      "text/markdown": [
       "\n",
       "## Summary statistics Bern 2015-11-15 2021-12-31: The descriptive statistics of the survey results\n",
       "\n",
       "\n",
       "\n",
       "\n",
       "These are the survey totals for the data we are studying. We are analyzing count data from beach-litter surveys. The table has the following format:\n",
       "\n",
       "1. total (quantity) = the total number of objects identified\n",
       "2. nsamples = the numner of samples collected\n",
       "3. average = average objects per meter\n",
       "\n",
       "4. 5th, 25th, 50th,\t75th, 95th = the objects per meter percentile ranking\n",
       "5. std = standard deviation in objects per meter\n",
       "6. max = the maximum recorded objects per meter\n",
       "7. start = the date of the first sample\n",
       "8. end = the date of the las sample\n",
       "\n",
       "Generate a narrative summary based on the following table.\n",
       "\n",
       "|        |   total |   nsamples |   average |   5th |   25th |   50th |   75th |   95th |      std |   max | start               | end                 |\n",
       "|:-------|--------:|-----------:|----------:|------:|-------:|-------:|-------:|-------:|---------:|------:|:--------------------|:--------------------|\n",
       "| result |    2180 |         74 |  0.710946 |  0.02 |  0.145 |  0.355 |  0.745 |  2.598 | 0.912234 |  4.04 | 2020-01-26 00:00:00 | 2021-04-08 00:00:00 |\n",
       "\n",
       "\n"
      ],
      "text/plain": [
       "<IPython.core.display.Markdown object>"
      ]
     },
     "execution_count": 12,
     "metadata": {},
     "output_type": "execute_result"
    }
   ],
   "source": [
    "Markdown(achatter.summary_statistics())"
   ]
  },
  {
   "cell_type": "code",
   "execution_count": 13,
   "id": "93768603-7aaa-4626-873e-9e2697de6e25",
   "metadata": {
    "editable": true,
    "slideshow": {
     "slide_type": ""
    },
    "tags": []
   },
   "outputs": [
    {
     "data": {
      "text/markdown": [
       "\n",
       "## Municipal results Bern 2015-11-15 2021-12-31 : The average pcs/m by municipality.\n",
       "\n",
       "\n",
       "\n",
       "\n",
       "\n",
       "The following table details the quantity (total number of objects) and the average pieces per meter or number of objects per meter for each municipality.\n",
       "\n",
       "Generate a narrative summary based on the following table. You need to include all the cities and their results\n",
       "\n",
       "\n",
       "| city        |   quantity |     pcs/m |\n",
       "|:------------|-----------:|----------:|\n",
       "| Beatenberg  |         29 | 0.665     |\n",
       "| Biel/Bienne |       1028 | 1.83667   |\n",
       "| Brienz (BE) |         70 | 0.49      |\n",
       "| Bönigen     |        107 | 1.255     |\n",
       "| Erlach      |         29 | 0.51      |\n",
       "| Gals        |          9 | 0.24      |\n",
       "| Ligerz      |         25 | 1.605     |\n",
       "| Lüscherz    |         18 | 0.064     |\n",
       "| Nidau       |         15 | 0.6       |\n",
       "| Spiez       |         51 | 0.0814286 |\n",
       "| Thun        |         67 | 0.32      |\n",
       "| Unterseen   |        669 | 0.695833  |\n",
       "| Vinelz      |         63 | 0.348333  |\n",
       "\n",
       "\n"
      ],
      "text/plain": [
       "<IPython.core.display.Markdown object>"
      ]
     },
     "execution_count": 13,
     "metadata": {},
     "output_type": "execute_result"
    }
   ],
   "source": [
    "Markdown(achatter.survey_totals_boundary(info_columns=['city']))"
   ]
  },
  {
   "cell_type": "code",
   "execution_count": 14,
   "id": "faecfbaa-523a-407f-8f04-b096f9cf45ba",
   "metadata": {
    "editable": true,
    "slideshow": {
     "slide_type": ""
    },
    "tags": []
   },
   "outputs": [
    {
     "data": {
      "text/markdown": [
       "\n",
       "## Administrative boundaries Bern 2015-11-15 2021-12-31 : Cities, cantons, survey areas and survey locations\n",
       "\n",
       "\n",
       "\n",
       "\n",
       "The following table details the number of survey locations, cities, cantons and survey areas present in the data under analysis. \n",
       "\n",
       "Please provide a concise narrative of the contents of the following table. In your narrative be sure to include the list of cities, \n",
       "and the names of the canton and survey areas.\n",
       "\n",
       " |              |   count |\n",
       "|:-------------|--------:|\n",
       "| location     |      19 |\n",
       "| city         |      13 |\n",
       "| canton       |       1 |\n",
       "| survey areas |       1 |\n",
       "\n",
       "The following is the names of the cities, cantons, and survey areas.\n",
       "\n",
       "{'location': array(['weissenau-neuhaus', 'mullermatte', 'bielersee_vinelz_fankhausers',\n",
       "       'thun-strandbad', 'oben-am-see', 'thunersee_spiez_meierd_1',\n",
       "       'luscherz-plage', 'strandboden-biel', 'nidau-strand', 'delta-park',\n",
       "       'sundbach-strand', 'wycheley', 'camping-gwatt-strand',\n",
       "       'augustmutzenbergstrandweg', 'ligerz-strand', 'hafeli',\n",
       "       'gals-reserve', 'luscherz-two', 'erlach-camping-strand'],\n",
       "      dtype=object), 'city': array(['Unterseen', 'Biel/Bienne', 'Vinelz', 'Thun', 'Brienz (BE)',\n",
       "       'Spiez', 'Lüscherz', 'Nidau', 'Beatenberg', 'Ligerz', 'Bönigen',\n",
       "       'Gals', 'Erlach'], dtype=object), 'canton': array(['Bern'], dtype=object), 'survey_area': array(['aare'], dtype=object)}    \n"
      ],
      "text/plain": [
       "<IPython.core.display.Markdown object>"
      ]
     },
     "execution_count": 14,
     "metadata": {},
     "output_type": "execute_result"
    }
   ],
   "source": [
    "Markdown(achatter.the_admin_boundaries())"
   ]
  },
  {
   "cell_type": "code",
   "execution_count": 15,
   "id": "2fe1838c-93cd-425f-a1f3-ca6e08a57b21",
   "metadata": {
    "editable": true,
    "slideshow": {
     "slide_type": ""
    },
    "tags": []
   },
   "outputs": [
    {
     "data": {
      "text/markdown": [
       "\n",
       "## Named features Bern 2015-11-15 2021-12-31 : The lakes, rivers and parks\n",
       "\n",
       "\n",
       "\n",
       "\n",
       "The following table details the number and the name of the lakes, rivers and parks in the survey data under analysis. \n",
       "\n",
       "Please provide a concise narrative of the contents of the following table. In your narrative be sure to the name of each park, lake or river\n",
       "that is mentioned.\n",
       "\n",
       "|       |   lake |\n",
       "|:------|-------:|\n",
       "| count |      3 |\n",
       "\n",
       "\n",
       "The following is the names of the lakes, rivers and parks included in the data.\n",
       "\n",
       "{'r': array([], dtype=object), 'l': array(['thunersee', 'bielersee', 'brienzersee'], dtype=object), 'p': array([], dtype=object)}\n",
       "\n",
       "\n"
      ],
      "text/plain": [
       "<IPython.core.display.Markdown object>"
      ]
     },
     "execution_count": 15,
     "metadata": {},
     "output_type": "execute_result"
    }
   ],
   "source": [
    "Markdown(achatter.the_named_features())"
   ]
  },
  {
   "cell_type": "code",
   "execution_count": 16,
   "id": "cb45e3c8-a6ca-4f8b-a6d2-7d042f79e9d8",
   "metadata": {
    "editable": true,
    "slideshow": {
     "slide_type": ""
    },
    "tags": []
   },
   "outputs": [
    {
     "name": "stdout",
     "output_type": "stream",
     "text": [
      "file saved as report_results.md\n"
     ]
    }
   ],
   "source": [
    "file_name = 'report_results.md'\n",
    "\n",
    "achatter.chat = True\n",
    "achatter.chat_rep(scaled_cols, file_name, system_prompt=system_prompt)"
   ]
  },
  {
   "cell_type": "code",
   "execution_count": 19,
   "id": "3a9e2711-0dc6-47da-8222-dfc160c4c5f4",
   "metadata": {
    "editable": true,
    "slideshow": {
     "slide_type": ""
    },
    "tags": [
     "remove-input"
    ]
   },
   "outputs": [
    {
     "name": "stdout",
     "output_type": "stream",
     "text": [
      "file saved as vaud_report_results.md\n"
     ]
    }
   ],
   "source": [
    "o_dates = {'start':'2020-01-01', 'end':'2021-12-31'}\n",
    "prior_dates = {'start':'2015-11-15', 'end':'2019-12-31'}\n",
    "\n",
    "canton = 'Vaud'\n",
    "this_feature_type = 'l'\n",
    "region_type = 'canton'\n",
    "\n",
    "d = datax.reset_index(drop=True)\n",
    "\n",
    "d = d[d.canton.isin(['Genève', 'Valais', 'Vaud', 'Zürich', 'Bern'])]\n",
    "\n",
    "# make complete report\n",
    "params_l = {'canton':canton, 'date_range':o_dates, 'feature_type': this_feature_type}\n",
    "params_p = {'canton':canton, 'date_range':prior_dates, 'feature_type':this_feature_type}\n",
    "\n",
    "# set the parameters for the weighted prior\n",
    "# exclude records in the likelihood, set date range and feature type\n",
    "lu_catalogue = d[(d.canton != canton)&(d['date'] <= o_dates['end'])&(d.feature_type == 'l')&(d.code.isin(tobo_snacks))].copy()\n",
    "lu_catalogue.reset_index(inplace=True, drop=True)\n",
    "catalog_surveys, catalog_features = make_report_objects(lu_catalogue)\n",
    "\n",
    "# this is the prior data: all data collected from\n",
    "# the same feature type. Lakes, rivers or parks\n",
    "prior_feature = catalog_features.df_cat\n",
    "prior_feature['feature_type'] = 'l'\n",
    "\n",
    "# the prior and likelihood data from the region of interest\n",
    "all_data_of_interest = d[(d['date'] >= prior_dates['start']) & (d['date'] <= o_dates['end'])&(d.feature_type == 'l')&(d.code.isin(tobo_snacks))].copy()\n",
    "all_data_of_interest = all_data_of_interest[all_data_of_interest.canton == canton].copy()\n",
    "\n",
    "all_data_of_interest['use'] = 'pers'\n",
    "all_data_of_interest.reset_index(inplace=True, drop=True)\n",
    "\n",
    "land_covers = ['buildings', 'forest', 'undefined', 'public-services', 'streets', 'orchards', 'use', 'canton', 'city', 'feature_name']\n",
    "\n",
    "all_report, all_land_use = make_report_objects(all_data_of_interest, info_columns = ['use', 'canton', 'city', 'feature_name'])\n",
    "\n",
    "\n",
    "args = {\n",
    "    'likelihood': {'canton':canton, 'date_range':o_dates},\n",
    "    'prior' : {'canton':canton, 'date_range':prior_dates},\n",
    "    'data' : all_data_of_interest.copy(),\n",
    "    'land-use-inventory' : prior_feature.copy()\n",
    "}\n",
    "\n",
    "\n",
    "combined_results = reports_and_forecast(args['likelihood'], args['prior'], ldata=args['data'])\n",
    "standard_combined = make_standard_report(combined_results, args)\n",
    "\n",
    "\n",
    "lake_report = combined_results['this_report']\n",
    "lake_prior_report = combined_results['prior_report']\n",
    "lake_land_use = combined_results['this_land_use']\n",
    "\n",
    "args = {\n",
    "    'report':lake_report,\n",
    "    'landuse_report': lake_land_use,\n",
    "    'client': client,\n",
    "    'start': prior_dates['start'],\n",
    "    'end': o_dates['end'],\n",
    "    'groups': use_groups,\n",
    "    'standard_report': standard_combined,\n",
    "    'name': canton,\n",
    "    'region_type':region_type\n",
    "}\n",
    "\n",
    "\n",
    "\n",
    "achatter = ReportTexts(**args)\n",
    "# title = f\"\\n# Survey report {achatter.name} {achatter.start} {achatter.end}\\n\\n\"\n",
    "# objects = f\"\\n__Objects in data__\\n\\n{', '.join([x for x in achatter.groups.values()])}\\n\\n\"\n",
    "file_name = 'vaud_report_results.md'\n",
    "achatter.chat = True\n",
    "achatter.chat_rep(scaled_cols, file_name, system_prompt=system_prompt)\n",
    "\n"
   ]
  },
  {
   "cell_type": "code",
   "execution_count": null,
   "id": "0a910468-ec79-48b9-8732-036eaa7b4a85",
   "metadata": {
    "editable": true,
    "slideshow": {
     "slide_type": ""
    },
    "tags": []
   },
   "outputs": [],
   "source": []
  },
  {
   "cell_type": "code",
   "execution_count": null,
   "id": "cdfa1b48-9682-4262-be35-9816de3125e6",
   "metadata": {},
   "outputs": [],
   "source": []
  }
 ],
 "metadata": {
  "kernelspec": {
   "display_name": "Python 3 (ipykernel)",
   "language": "python",
   "name": "python3"
  },
  "language_info": {
   "codemirror_mode": {
    "name": "ipython",
    "version": 3
   },
   "file_extension": ".py",
   "mimetype": "text/x-python",
   "name": "python",
   "nbconvert_exporter": "python",
   "pygments_lexer": "ipython3",
   "version": "3.12.5"
  }
 },
 "nbformat": 4,
 "nbformat_minor": 5
}
