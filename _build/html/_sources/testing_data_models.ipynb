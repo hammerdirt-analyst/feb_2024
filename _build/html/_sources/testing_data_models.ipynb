{
 "cells": [
  {
   "cell_type": "code",
   "execution_count": 1,
   "id": "64c16819-72da-4b47-a3aa-988d3f5a8203",
   "metadata": {
    "editable": true,
    "slideshow": {
     "slide_type": ""
    },
    "tags": [
     "remove-input"
    ]
   },
   "outputs": [],
   "source": [
    "%load_ext watermark\n",
    "import pandas as pd\n",
    "import numpy as np\n",
    "from typing import Type, Optional, Callable\n",
    "from typing import List, Dict, Union\n",
    "\n",
    "from review_methods_tests import collect_vitals, find_missing, find_missing_loc_dates\n",
    "from review_methods_tests import make_a_summary,combine_survey_files\n",
    "\n",
    "import matplotlib.pyplot as plt\n",
    "import matplotlib as mpl\n",
    "import matplotlib.colors\n",
    "from matplotlib.colors import LinearSegmentedColormap, ListedColormap\n",
    "\n",
    "from setvariables import *\n",
    "\n",
    "import reportclass\n",
    "\n",
    "import session_config\n",
    "\n",
    "# surveys = combine_survey_files(survey_files)\n",
    "codes = pd.read_csv(code_data).set_index(\"code\")\n",
    "beaches = pd.read_csv(beach_data).set_index(\"slug\")\n",
    "land_cover = pd.read_csv(land_cover_data)\n",
    "land_use = pd.read_csv(land_use_data)\n",
    "streets = pd.read_csv(street_data)\n",
    "river_intersect_lakes = pd.read_csv(intersection_attributes)"
   ]
  },
  {
   "cell_type": "markdown",
   "id": "7bca0862-a1e5-4fd3-ae17-65ac2fd7cd0a",
   "metadata": {
    "editable": true,
    "slideshow": {
     "slide_type": ""
    },
    "tags": []
   },
   "source": [
    "# The survey data\n",
    "\n",
    "Once the surveyor has entered the data for the observations, there are labels attached to each record that identify attributes of the survey location. These labels are used for grouping records or collecting additional information about the survey location or the object found. Once the labels are complete the data is ready for analysis.\n",
    "\n",
    "## Observation data\n",
    "\n",
    "This data is received from the client in two packets:\n",
    "\n",
    "::::{grid} 1 2 2 2\n",
    "\n",
    ":::{grid-item}\n",
    "\n",
    "__Meta data :__ .JSON object or python dictionary\n",
    "\n",
    "* user\n",
    "* location name, lat and lon\n",
    "* date\n",
    "* length of survey\\*\\*\n",
    "* area of survey\\*\\*\n",
    "* weights (plastic, all)\\*\n",
    "* number of participants\\*\n",
    "* number of staff\\*\n",
    "* time in minutes to complete all tasks\\*\n",
    "* total number of objects found\n",
    ":::\n",
    "\n",
    ":::{grid-item}\n",
    "\n",
    "__Object inventory :__ an array, four columns:\n",
    "\n",
    "* location name\n",
    "* date\n",
    "* code\n",
    "* quantity\n",
    "\n",
    ":::\n",
    "\n",
    "::::\n",
    "\n",
    "\\* Not all projects provides all the data. For detailed results contact the maintainer\n",
    "\n",
    "\\*\\* The data is all formatted in pcs/m, this is set to the units used for reporting baseline values\n",
    "\n",
    "### Adding features\n",
    "\n",
    "Survey locations are predefined, or must be configured before entering data for a survey. The configuration process has several steps.\n",
    "\n",
    "1. Identify the correct city and canton name\n",
    "2. Identify the type of location: _river, lake, or park_\n",
    "3. Identify the riverbassin or geographic area of the location\n",
    "4. Calculate the land use ratios for the location\n",
    "5. For lakes, determine the location and distance to river intersections\n",
    "6. The plain english (french, german) description of the code/object\n",
    "\n",
    "__Aggregated data__\n",
    "\n",
    "The following codes are aggregated together unless otherwise specified:\n",
    "\n",
    "* 'Gfoams': 'G81', 'G82', 'G83'\n",
    "* 'Gfrags': 'G78', 'G79', 'G80', 'G75', 'G76', 'G77'\n",
    "* 'Gcaps': 'G21', 'G22', 'G23', 'G24'\n",
    "\n",
    "_The unaggregated data is available on the repo using the following file files from the `data/end_process/` directory:_\n",
    "\n",
    "* slr.csv\n",
    "* mcbp.csv\n",
    "* iqaasl.csv\n",
    "* after_may_2021.csv\n",
    "\n",
    "## Important dates\n",
    "\n",
    "The dates of the sampling campaigns are expanded to include the surveys that happened between large organized campaigns. The start and end dates are defined below.\n",
    "\n",
    "__Attention!!__ The codes used for each survey campaign are different. Different groups organized and conducted surveys using the MLW protocol. The data was then sent to us.\n",
    "\n",
    "__MCBP:__ November 2015 - November 2016. The initial sampling campaign. Fragmented plastics (Gfrags/G79/G78/G76) were not sorted by size. All unidentified hard plastic items were classified in this manner.\n",
    "\n",
    "* start_date = 2015-11-15\n",
    "* end_date = 2017-03-31\n",
    "\n",
    "__SLR:__ April 2017 - May 2018. Sampling campaign by the WWF. Objects less than 2.5 cm were not counted.\n",
    "\n",
    "* start_date = 2017-04-01\n",
    "* end_date = 2020-03-31\n",
    "\n",
    "__IQAASL:__ April 2020 - May 2021. Sampling campaign mandated by the Swiss confederation. Additional codes were added for regional objects.\n",
    "\n",
    "* start_date = 2020-04-01\n",
    "* end_date = 2021-05-31\n",
    "\n",
    "__Plastock (not added yet):__ January 2022 - December 2022. Sampling campaign from the Association pour la Sauvegarde du Léman. Not all objects were counted, They only identified a limited number of objects."
   ]
  },
  {
   "cell_type": "markdown",
   "id": "11132a65-b698-4c69-9589-94327977eb7c",
   "metadata": {
    "editable": true,
    "slideshow": {
     "slide_type": ""
    },
    "tags": [
     "remove-input"
    ]
   },
   "source": [
    "## The current survey data:"
   ]
  },
  {
   "cell_type": "code",
   "execution_count": 2,
   "id": "44b00952-0a05-4f54-a22a-50d5ba8e1282",
   "metadata": {
    "editable": true,
    "slideshow": {
     "slide_type": ""
    },
    "tags": [
     "remove-input"
    ]
   },
   "outputs": [],
   "source": [
    "surveys = session_config.collect_survey_data()"
   ]
  },
  {
   "cell_type": "code",
   "execution_count": 3,
   "id": "8b02e62a-ed8d-4677-ad9f-70058333188b",
   "metadata": {
    "editable": true,
    "slideshow": {
     "slide_type": ""
    },
    "tags": [
     "remove-input"
    ]
   },
   "outputs": [
    {
     "name": "stdout",
     "output_type": "stream",
     "text": [
      "<class 'pandas.core.frame.DataFrame'>\n",
      "Index: 298848 entries, 0 to 88214\n",
      "Data columns (total 16 columns):\n",
      " #   Column           Non-Null Count   Dtype  \n",
      "---  ------           --------------   -----  \n",
      " 0   sample_id        298848 non-null  object \n",
      " 1   code             298848 non-null  object \n",
      " 2   quantity         298848 non-null  int64  \n",
      " 3   pcs/m            298848 non-null  float64\n",
      " 4   feature_name     298848 non-null  object \n",
      " 5   location         298848 non-null  object \n",
      " 6   parent_boundary  298848 non-null  object \n",
      " 7   length           298848 non-null  float64\n",
      " 8   groupname        298848 non-null  object \n",
      " 9   city             298848 non-null  object \n",
      " 10  canton           298848 non-null  object \n",
      " 11  feature_type     298848 non-null  object \n",
      " 12  en               298848 non-null  object \n",
      " 13  fr               298848 non-null  object \n",
      " 14  de               298848 non-null  object \n",
      " 15  date             298848 non-null  object \n",
      "dtypes: float64(2), int64(1), object(13)\n",
      "memory usage: 38.8+ MB\n"
     ]
    }
   ],
   "source": [
    "surveys.info()"
   ]
  },
  {
   "cell_type": "code",
   "execution_count": 4,
   "id": "54fba949-faaf-45c5-a4b7-f0111a5c8872",
   "metadata": {
    "editable": true,
    "slideshow": {
     "slide_type": ""
    },
    "tags": [
     "remove-input"
    ]
   },
   "outputs": [
    {
     "name": "stdout",
     "output_type": "stream",
     "text": [
      "Author: hammerdirt-analyst\n",
      "\n",
      "conda environment: cantonal_report\n",
      "\n",
      "pandas    : 2.0.3\n",
      "numpy     : 1.25.2\n",
      "matplotlib: 3.7.1\n",
      "\n"
     ]
    }
   ],
   "source": [
    "%watermark -a hammerdirt-analyst -co --iversions"
   ]
  },
  {
   "cell_type": "code",
   "execution_count": null,
   "id": "ba1596c3-a6f5-4673-b9f6-c73099199d4a",
   "metadata": {
    "editable": true,
    "slideshow": {
     "slide_type": ""
    },
    "tags": []
   },
   "outputs": [],
   "source": []
  }
 ],
 "metadata": {
  "kernelspec": {
   "display_name": "Python 3 (ipykernel)",
   "language": "python",
   "name": "python3"
  },
  "language_info": {
   "codemirror_mode": {
    "name": "ipython",
    "version": 3
   },
   "file_extension": ".py",
   "mimetype": "text/x-python",
   "name": "python",
   "nbconvert_exporter": "python",
   "pygments_lexer": "ipython3",
   "version": "3.9.17"
  }
 },
 "nbformat": 4,
 "nbformat_minor": 5
}
