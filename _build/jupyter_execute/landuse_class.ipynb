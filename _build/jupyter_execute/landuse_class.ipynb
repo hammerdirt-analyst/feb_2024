{
 "cells": [
  {
   "cell_type": "code",
   "execution_count": 1,
   "id": "4e39e538-f20c-4fa0-954e-b17552001446",
   "metadata": {
    "editable": true,
    "slideshow": {
     "slide_type": ""
    },
    "tags": [
     "hide-input"
    ]
   },
   "outputs": [],
   "source": [
    "%load_ext watermark\n",
    "import pandas as pd\n",
    "import numpy as np\n",
    "import matplotlib.pyplot as plt\n",
    "import matplotlib as mpl\n",
    "import matplotlib.colors\n",
    "from matplotlib.colors import LinearSegmentedColormap, ListedColormap\n",
    "import seaborn as sns"
   ]
  },
  {
   "cell_type": "markdown",
   "id": "b2affb94-49ce-4cc8-b21a-e4dbddb47cd3",
   "metadata": {
    "editable": true,
    "slideshow": {
     "slide_type": ""
    },
    "tags": []
   },
   "source": [
    "(landusereporter)=\n",
    "# Land use class\n",
    "\n",
    "The landuse class groups the survey results according to the rate of landuse at each survey location. Provides the correlation matrix of the feature variables and the number of samples and the average result for each landuse type and magnitude.\n",
    "\n",
    "## Why is this important?\n",
    "\n",
    "__Because it is another way to get proxies for usage and population.__\n",
    "\n",
    "We assume there is a relationship between how the land is used and what it is we find on the ground. Archeaologists and Anthropologists make this basic assumption every time they undertake an excavation and interpret the results in the context of other findings. This interpretation of beach litter data does exactly the same. As discussed in [Near or far](https://www.hammerdirt.ch) and the federal report [IQAASL](https://www.hammerdirt.ch) at the national level there is strong evidence to support a correlation between the density of objects found and specific topographic features that can be isolated on a standard topographical map.\n",
    "\n",
    "### What is important?\n",
    "\n",
    "__The relationship between the topograhpical features and the density of the objects found.__\n",
    "\n",
    "However, the measured features are not independent of each other. For example if their are buildings in an area we expect to also find a road that leads to those buildings. This multicolinearity can lead to unstable coefficient estimates and make it challenging to interpret the individual effects of the correlated variables on the target variable.\n",
    "\n",
    "The topographical data from the confederation provides continuity to what could be interpreted as unrelated observations. Furthermore, the labels provided for the various topographical features are indicators of use and have a real meaning to georaphers and engineers in planning and development. Local associations that are involved in preventing and reducing litter may also be interested.\n",
    "\n",
    "## Make a land use object\n",
    "\n",
    "After the topographical features are extracted the results are applied to the data. The land use clas is available by calling `geospatial.LandUseReport(df_target, features)`. The `df_target` and `features` variables are generated in the `SurveyReport`. \n",
    "\n",
    "__Instantiate a `LandUseReport`__\n",
    "\n",
    "```python\n",
    "# start a survey report\n",
    "import session_config\n",
    "import reports\n",
    "import geospatial\n",
    "\n",
    "# available data\n",
    "surveys = session_config.collect_survey_data()\n",
    "\n",
    "# boundaries / search parameters\n",
    "feature_type = 'canton'\n",
    "feature_name = 'Vaud'\n",
    "\n",
    "df = surveys[surveys[feature_type] == feature_name].copy()\n",
    "vaud_report = reports.SurveyReport(dfc=df)\n",
    "\n",
    "# the parameters for the land use report\n",
    "target_df = vaud_report.sample_results\n",
    "features = vaud_report.sampling_conditions()\n",
    "land_use_report = geospatial.LandUseReport(target_df, features)\n",
    "```\n",
    "\n",
    "### Indentify covariates \n",
    "\n",
    "Before categorizing the landuse variables it is required to combine the subcategories and identify the covariates of the feature variables.\n",
    "\n",
    "### Categorize land use data\n",
    "\n",
    "The land use rate 0 <= x <= 1 is categorized to five groups 1-5. Each location has a landuse profile of at least 7 topographic features rated from 1 - 5.\n",
    "\n",
    "```python\n",
    "\n",
    "# creates an array of tuples of the correlated pairs\n",
    "correlated_features = land_use_report.correlated_pairs()\n",
    "\n",
    "# pass the correlated pairs to combine features method\n",
    "# this will categorize the features and combine the correlated pairs\n",
    "# into new columns\n",
    "land_use_report.combine_features(correlated_pairs)\n",
    "```\n",
    "\n",
    "### Report contents\n",
    "\n",
    "1. Number of samples per feature and magnitude\n",
    "2. The total number of objects collected per feature and magnitude\n",
    "3. The number of locations per feature and magnitude\n",
    "4. The average pieces per meter for each feature and magnitude\n",
    "5. The correlation matrix of the feature variables\n",
    "6. The correlated pairs\n",
    "7. The landuse on a conintuous scale\n",
    "8. The landuse on a categorical scale: quintiles"
   ]
  },
  {
   "cell_type": "code",
   "execution_count": 2,
   "id": "141c08fc-f3ab-4115-8179-2fa101ca75fd",
   "metadata": {
    "editable": true,
    "slideshow": {
     "slide_type": ""
    },
    "tags": [
     "remove-input"
    ]
   },
   "outputs": [],
   "source": [
    "import session_config\n",
    "import reports\n",
    "import geospatial\n",
    "\n",
    "# available data\n",
    "surveys = session_config.collect_survey_data()\n",
    "\n",
    "# boundaries / search parameters\n",
    "feature_type = 'feature_name'\n",
    "feature_name = 'lac-leman'\n",
    "\n",
    "df = surveys[surveys[feature_type] == feature_name].copy()\n",
    "vaud_report = reports.SurveyReport(dfc=df)\n",
    "\n",
    "# the parameters for the landuse report\n",
    "target_df = vaud_report.sample_results\n",
    "features = geospatial.collect_topo_data(locations=target_df.location.unique())\n",
    "land_use_report = geospatial.LandUseReport(target_df, features)\n",
    "\n",
    "# creates an array of tuples of the correlated pairs\n",
    "correlated_pairs = land_use_report.correlated_pairs()\n",
    "\n",
    "# pass the correlated pairs to combine features method\n",
    "# this will categorize the features and combine the correlated pairs\n",
    "# into new columns\n",
    "land_use_report.combine_features(correlated_pairs)"
   ]
  },
  {
   "cell_type": "markdown",
   "id": "8a13e8ed-6d26-4c0e-8fa0-cb4e1565574b",
   "metadata": {
    "editable": true,
    "slideshow": {
     "slide_type": ""
    },
    "tags": []
   },
   "source": [
    "### Number of samples per feature"
   ]
  },
  {
   "cell_type": "code",
   "execution_count": 3,
   "id": "eed4a6d4-2a69-40dc-96ee-e337e4ead320",
   "metadata": {
    "editable": true,
    "slideshow": {
     "slide_type": ""
    },
    "tags": []
   },
   "outputs": [],
   "source": [
    "samples_per_feature = land_use_report.n_samples_per_feature()\n",
    "samples_per_feature[session_config.feature_variables]"
   ]
  },
  {
   "cell_type": "markdown",
   "id": "4c005802-f88e-47e7-b31a-4a2c6167bf8c",
   "metadata": {
    "editable": true,
    "slideshow": {
     "slide_type": ""
    },
    "tags": []
   },
   "source": [
    "### Quantity per feature"
   ]
  },
  {
   "cell_type": "code",
   "execution_count": 4,
   "id": "8f92736b-a6da-4be0-bed9-cf0f86ebd5f3",
   "metadata": {
    "editable": true,
    "slideshow": {
     "slide_type": ""
    },
    "tags": []
   },
   "outputs": [],
   "source": [
    "q_pf = land_use_report.n_pieces_per_feature()\n",
    "q_pf[session_config.feature_variables]"
   ]
  },
  {
   "cell_type": "markdown",
   "id": "9e4808a4-0ddf-4178-b46e-b2672b5256ef",
   "metadata": {
    "editable": true,
    "slideshow": {
     "slide_type": ""
    },
    "tags": []
   },
   "source": [
    "### Locations per feature"
   ]
  },
  {
   "cell_type": "code",
   "execution_count": 5,
   "id": "fa0f9b5b-88e6-49e3-bb43-367e57b78cbf",
   "metadata": {
    "editable": true,
    "slideshow": {
     "slide_type": ""
    },
    "tags": []
   },
   "outputs": [],
   "source": [
    "l_pf = land_use_report.locations_per_feature()\n",
    "l_pf[session_config.feature_variables]"
   ]
  },
  {
   "cell_type": "markdown",
   "id": "6c37684a-9cb7-49bb-b2c6-a8e62f26648e",
   "metadata": {
    "editable": true,
    "slideshow": {
     "slide_type": ""
    },
    "tags": []
   },
   "source": [
    "### density per feature"
   ]
  },
  {
   "cell_type": "code",
   "execution_count": 6,
   "id": "a0d18011-5e85-4829-a7ba-580c66d27663",
   "metadata": {
    "editable": true,
    "slideshow": {
     "slide_type": ""
    },
    "tags": []
   },
   "outputs": [],
   "source": [
    "r_pf = land_use_report.rate_per_feature().T\n",
    "r_pf[session_config.feature_variables]"
   ]
  },
  {
   "cell_type": "markdown",
   "id": "0708d4a4-12e3-4cf2-bbaf-90687151c856",
   "metadata": {
    "editable": true,
    "slideshow": {
     "slide_type": ""
    },
    "tags": []
   },
   "source": [
    "### Corelation matrix"
   ]
  },
  {
   "cell_type": "code",
   "execution_count": 7,
   "id": "99309a88-abfc-4edb-a089-e94b5fad016f",
   "metadata": {
    "editable": true,
    "slideshow": {
     "slide_type": ""
    },
    "tags": []
   },
   "outputs": [],
   "source": [
    "land_use_report.correlation_matrix()"
   ]
  },
  {
   "cell_type": "markdown",
   "id": "eaa3bc5e-6e35-4f7d-a717-f14cddd63afd",
   "metadata": {
    "editable": true,
    "slideshow": {
     "slide_type": ""
    },
    "tags": []
   },
   "source": [
    "### Corelated pairs\n",
    "Land use associated that is unclassisfied correlates with vineyards, forests and orchards. Note that vineyards and forest are correlated with each other."
   ]
  },
  {
   "cell_type": "code",
   "execution_count": 8,
   "id": "34bb3925-8cf2-45b6-b084-86c22bae2b09",
   "metadata": {
    "editable": true,
    "slideshow": {
     "slide_type": ""
    },
    "tags": []
   },
   "outputs": [],
   "source": [
    "print(f'Correlated pairs:\\n{correlated_pairs}')"
   ]
  },
  {
   "cell_type": "markdown",
   "id": "f4da46ed-0fee-4942-8260-a131df10ff0b",
   "metadata": {
    "editable": true,
    "slideshow": {
     "slide_type": ""
    },
    "tags": []
   },
   "source": [
    "### Continuous land use"
   ]
  },
  {
   "cell_type": "code",
   "execution_count": 9,
   "id": "c6e31ebb-24f8-4d6b-904b-5985f806e74a",
   "metadata": {
    "editable": true,
    "slideshow": {
     "slide_type": ""
    },
    "tags": []
   },
   "outputs": [],
   "source": [
    "continuous = land_use_report.df_cont.copy()\n",
    "examps = continuous[continuous.location.isin(['veveyse', 'la-pecherie'])].drop_duplicates('location')\n",
    "examps[['location', *session_config.feature_variables]].fillna(0).set_index('location')"
   ]
  },
  {
   "cell_type": "markdown",
   "id": "4bf9ba59-652b-4f51-af36-55290b394a2a",
   "metadata": {
    "editable": true,
    "slideshow": {
     "slide_type": ""
    },
    "tags": []
   },
   "source": [
    "### Categorical"
   ]
  },
  {
   "cell_type": "code",
   "execution_count": 10,
   "id": "b9085da4-47c5-40e3-a8c3-3c037297004a",
   "metadata": {
    "editable": true,
    "slideshow": {
     "slide_type": ""
    },
    "tags": []
   },
   "outputs": [],
   "source": [
    "cat = land_use_report.df_cat.copy()\n",
    "examps = cat[cat.location.isin(['veveyse', 'la-pecherie'])].drop_duplicates('location')\n",
    "examps[['location', *session_config.feature_variables]].set_index('location')"
   ]
  },
  {
   "cell_type": "code",
   "execution_count": 11,
   "id": "cf508f4a-8861-484b-88bb-a7febdb1b8c2",
   "metadata": {
    "editable": true,
    "jupyter": {
     "source_hidden": true
    },
    "pycharm": {
     "name": "#%%\n"
    },
    "slideshow": {
     "slide_type": ""
    },
    "tags": [
     "remove-input"
    ]
   },
   "outputs": [],
   "source": [
    "%watermark -a hammerdirt-analyst -co --iversions"
   ]
  }
 ],
 "metadata": {
  "kernelspec": {
   "display_name": "Python 3 (ipykernel)",
   "language": "python",
   "name": "python3"
  },
  "language_info": {
   "codemirror_mode": {
    "name": "ipython",
    "version": 3
   },
   "file_extension": ".py",
   "mimetype": "text/x-python",
   "name": "python",
   "nbconvert_exporter": "python",
   "pygments_lexer": "ipython3",
   "version": "3.9.17"
  }
 },
 "nbformat": 4,
 "nbformat_minor": 5
}