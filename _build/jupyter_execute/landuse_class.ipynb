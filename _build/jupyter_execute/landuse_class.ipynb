{
 "cells": [
  {
   "cell_type": "code",
   "execution_count": 1,
   "id": "4e39e538-f20c-4fa0-954e-b17552001446",
   "metadata": {
    "editable": true,
    "slideshow": {
     "slide_type": ""
    },
    "tags": [
     "hide-input"
    ]
   },
   "outputs": [],
   "source": [
    "%load_ext watermark\n",
    "import pandas as pd\n",
    "import numpy as np\n",
    "import matplotlib.pyplot as plt\n",
    "import matplotlib as mpl\n",
    "import matplotlib.colors\n",
    "from matplotlib.colors import LinearSegmentedColormap, ListedColormap\n",
    "import seaborn as sns"
   ]
  },
  {
   "cell_type": "markdown",
   "id": "b2affb94-49ce-4cc8-b21a-e4dbddb47cd3",
   "metadata": {
    "editable": true,
    "slideshow": {
     "slide_type": ""
    },
    "tags": []
   },
   "source": [
    "(landusereporter)=\n",
    "# Land use class\n",
    "\n",
    "The landuse class groups the survey results according to the rate of landuse at each survey location. Provides the correlation matrix of the feature variables and the number of samples and the average result for each landuse type and magnitude.\n",
    "\n",
    "## Why is this important?\n",
    "\n",
    "__Because it is another way to get proxies for usage and population.__\n",
    "\n",
    "We assume there is a relationship between how the land is used and what it is we find on the ground. Archeaologists and Anthropologists make this basic assumption every time they undertake an excavation and interpret the results in the context of other findings. This interpretation of beach litter data does exactly the same. As discussed in [Near or far](https://www.hammerdirt.ch) and the federal report [IQAASL](https://www.hammerdirt.ch) at the national level there is strong evidence to support a correlation between the density of objects found and specific topographic features that can be isolated on a standard topographical map.\n",
    "\n",
    "### What is important?\n",
    "\n",
    "__The relationship between the topograhpical features and the density of the objects found.__\n",
    "\n",
    "However, the measured features are not independent of each other. For example if their are buildings in an area we expect to also find a road that leads to those buildings. This multicolinearity can lead to unstable coefficient estimates and make it challenging to interpret the individual effects of the correlated variables on the target variable.\n",
    "\n",
    "The topographical data from the confederation provides continuity to what could be interpreted as unrelated observations. Furthermore, the labels provided for the various topographical features are indicators of use and have a real meaning to georaphers and engineers in planning and development. Local associations that are involved in preventing and reducing litter may also be interested.\n",
    "\n",
    "## Make a land use object\n",
    "\n",
    "After the topographical features are extracted the results are applied to the data. The land use clas is available by calling `geospatial.LandUseReport(df_target, features)`. The `df_target` and `features` variables are generated in the `SurveyReport`. \n",
    "\n",
    "__Instantiate a `LandUseReport`__\n",
    "\n",
    "```python\n",
    "# start a survey report\n",
    "import session_config\n",
    "import reports\n",
    "import geospatial\n",
    "\n",
    "# available data\n",
    "surveys = session_config.collect_survey_data()\n",
    "\n",
    "# boundaries / search parameters\n",
    "feature_type = 'canton'\n",
    "feature_name = 'Vaud'\n",
    "\n",
    "df = surveys[surveys[feature_type] == feature_name].copy()\n",
    "vaud_report = reports.SurveyReport(dfc=df)\n",
    "\n",
    "# the parameters for the land use report\n",
    "target_df = vaud_report.sample_results\n",
    "features = vaud_report.sampling_conditions()\n",
    "land_use_report = geospatial.LandUseReport(target_df, features)\n",
    "```\n",
    "### Report contents\n",
    "\n",
    "1. Number of samples per feature and magnitude\n",
    "2. The total number of objects collected per feature and magnitude\n",
    "3. The number of locations per feature and magnitude\n",
    "4. The average pieces per meter for each feature and magnitude\n",
    "5. The correlation matrix of the feature variables\n",
    "6. The correlated pairs\n",
    "7. The landuse on a conintuous scale\n",
    "8. The landuse on a categorical scale"
   ]
  },
  {
   "cell_type": "code",
   "execution_count": 2,
   "id": "141c08fc-f3ab-4115-8179-2fa101ca75fd",
   "metadata": {
    "editable": true,
    "slideshow": {
     "slide_type": ""
    },
    "tags": [
     "remove-input"
    ]
   },
   "outputs": [],
   "source": [
    "import session_config\n",
    "import reports\n",
    "import geospatial\n",
    "\n",
    "# available data\n",
    "surveys = session_config.collect_survey_data()\n",
    "\n",
    "# boundaries / search parameters\n",
    "feature_type = 'feature_name'\n",
    "feature_name = 'lac-leman'\n",
    "\n",
    "df = surveys[surveys[feature_type] == feature_name].copy()\n",
    "vaud_report = reports.SurveyReport(dfc=df)\n",
    "\n",
    "# the parameters for the landuse report\n",
    "target_df = vaud_report.sample_results\n",
    "features = geospatial.collect_topo_data(locations=target_df.location.unique())\n",
    "land_use_report = geospatial.LandUseReport(target_df, features)\n",
    "\n",
    "# creates an array of tuples of the correlated pairs\n",
    "correlated_pairs = land_use_report.correlated_pairs()\n",
    "\n",
    "# pass the correlated pairs to combine features method\n",
    "# this will categorize the features and combine the correlated pairs\n",
    "# into new columns\n",
    "land_use_report.combine_features(correlated_pairs)"
   ]
  },
  {
   "cell_type": "markdown",
   "id": "8a13e8ed-6d26-4c0e-8fa0-cb4e1565574b",
   "metadata": {
    "editable": true,
    "slideshow": {
     "slide_type": ""
    },
    "tags": []
   },
   "source": [
    "### Number of samples per feature"
   ]
  },
  {
   "cell_type": "code",
   "execution_count": 3,
   "id": "eed4a6d4-2a69-40dc-96ee-e337e4ead320",
   "metadata": {
    "editable": true,
    "slideshow": {
     "slide_type": ""
    },
    "tags": []
   },
   "outputs": [
    {
     "data": {
      "text/html": [
       "<div>\n",
       "<style scoped>\n",
       "    .dataframe tbody tr th:only-of-type {\n",
       "        vertical-align: middle;\n",
       "    }\n",
       "\n",
       "    .dataframe tbody tr th {\n",
       "        vertical-align: top;\n",
       "    }\n",
       "\n",
       "    .dataframe thead th {\n",
       "        text-align: right;\n",
       "    }\n",
       "</style>\n",
       "<table border=\"1\" class=\"dataframe\">\n",
       "  <thead>\n",
       "    <tr style=\"text-align: right;\">\n",
       "      <th></th>\n",
       "      <th>orchards</th>\n",
       "      <th>vineyards</th>\n",
       "      <th>buildings</th>\n",
       "      <th>forest</th>\n",
       "      <th>undefined</th>\n",
       "      <th>public services</th>\n",
       "      <th>streets</th>\n",
       "    </tr>\n",
       "  </thead>\n",
       "  <tbody>\n",
       "    <tr>\n",
       "      <th>1</th>\n",
       "      <td>251</td>\n",
       "      <td>248</td>\n",
       "      <td>25</td>\n",
       "      <td>216</td>\n",
       "      <td>208</td>\n",
       "      <td>200</td>\n",
       "      <td>46</td>\n",
       "    </tr>\n",
       "    <tr>\n",
       "      <th>2</th>\n",
       "      <td>0</td>\n",
       "      <td>1</td>\n",
       "      <td>17</td>\n",
       "      <td>22</td>\n",
       "      <td>18</td>\n",
       "      <td>51</td>\n",
       "      <td>160</td>\n",
       "    </tr>\n",
       "    <tr>\n",
       "      <th>3</th>\n",
       "      <td>0</td>\n",
       "      <td>2</td>\n",
       "      <td>1</td>\n",
       "      <td>13</td>\n",
       "      <td>25</td>\n",
       "      <td>0</td>\n",
       "      <td>45</td>\n",
       "    </tr>\n",
       "    <tr>\n",
       "      <th>4</th>\n",
       "      <td>0</td>\n",
       "      <td>0</td>\n",
       "      <td>50</td>\n",
       "      <td>0</td>\n",
       "      <td>0</td>\n",
       "      <td>0</td>\n",
       "      <td>0</td>\n",
       "    </tr>\n",
       "    <tr>\n",
       "      <th>5</th>\n",
       "      <td>0</td>\n",
       "      <td>0</td>\n",
       "      <td>158</td>\n",
       "      <td>0</td>\n",
       "      <td>0</td>\n",
       "      <td>0</td>\n",
       "      <td>0</td>\n",
       "    </tr>\n",
       "  </tbody>\n",
       "</table>\n",
       "</div>"
      ],
      "text/plain": [
       "   orchards  vineyards  buildings  forest  undefined  public services  streets\n",
       "1       251        248         25     216        208              200       46\n",
       "2         0          1         17      22         18               51      160\n",
       "3         0          2          1      13         25                0       45\n",
       "4         0          0         50       0          0                0        0\n",
       "5         0          0        158       0          0                0        0"
      ]
     },
     "execution_count": 3,
     "metadata": {},
     "output_type": "execute_result"
    }
   ],
   "source": [
    "samples_per_feature = land_use_report.n_samples_per_feature()\n",
    "samples_per_feature[session_config.feature_variables]"
   ]
  },
  {
   "cell_type": "markdown",
   "id": "4c005802-f88e-47e7-b31a-4a2c6167bf8c",
   "metadata": {
    "editable": true,
    "slideshow": {
     "slide_type": ""
    },
    "tags": []
   },
   "source": [
    "### Quantity per feature"
   ]
  },
  {
   "cell_type": "code",
   "execution_count": 4,
   "id": "8f92736b-a6da-4be0-bed9-cf0f86ebd5f3",
   "metadata": {
    "editable": true,
    "slideshow": {
     "slide_type": ""
    },
    "tags": []
   },
   "outputs": [
    {
     "data": {
      "text/html": [
       "<div>\n",
       "<style scoped>\n",
       "    .dataframe tbody tr th:only-of-type {\n",
       "        vertical-align: middle;\n",
       "    }\n",
       "\n",
       "    .dataframe tbody tr th {\n",
       "        vertical-align: top;\n",
       "    }\n",
       "\n",
       "    .dataframe thead th {\n",
       "        text-align: right;\n",
       "    }\n",
       "</style>\n",
       "<table border=\"1\" class=\"dataframe\">\n",
       "  <thead>\n",
       "    <tr style=\"text-align: right;\">\n",
       "      <th></th>\n",
       "      <th>orchards</th>\n",
       "      <th>vineyards</th>\n",
       "      <th>buildings</th>\n",
       "      <th>forest</th>\n",
       "      <th>undefined</th>\n",
       "      <th>public services</th>\n",
       "      <th>streets</th>\n",
       "    </tr>\n",
       "  </thead>\n",
       "  <tbody>\n",
       "    <tr>\n",
       "      <th>1</th>\n",
       "      <td>80016</td>\n",
       "      <td>79749</td>\n",
       "      <td>2115</td>\n",
       "      <td>69630</td>\n",
       "      <td>68202</td>\n",
       "      <td>62279</td>\n",
       "      <td>14442</td>\n",
       "    </tr>\n",
       "    <tr>\n",
       "      <th>2</th>\n",
       "      <td>0</td>\n",
       "      <td>146</td>\n",
       "      <td>9513</td>\n",
       "      <td>1484</td>\n",
       "      <td>9699</td>\n",
       "      <td>17737</td>\n",
       "      <td>50897</td>\n",
       "    </tr>\n",
       "    <tr>\n",
       "      <th>3</th>\n",
       "      <td>0</td>\n",
       "      <td>121</td>\n",
       "      <td>186</td>\n",
       "      <td>8902</td>\n",
       "      <td>2115</td>\n",
       "      <td>0</td>\n",
       "      <td>14677</td>\n",
       "    </tr>\n",
       "    <tr>\n",
       "      <th>4</th>\n",
       "      <td>0</td>\n",
       "      <td>0</td>\n",
       "      <td>13315</td>\n",
       "      <td>0</td>\n",
       "      <td>0</td>\n",
       "      <td>0</td>\n",
       "      <td>0</td>\n",
       "    </tr>\n",
       "    <tr>\n",
       "      <th>5</th>\n",
       "      <td>0</td>\n",
       "      <td>0</td>\n",
       "      <td>54887</td>\n",
       "      <td>0</td>\n",
       "      <td>0</td>\n",
       "      <td>0</td>\n",
       "      <td>0</td>\n",
       "    </tr>\n",
       "  </tbody>\n",
       "</table>\n",
       "</div>"
      ],
      "text/plain": [
       "   orchards  vineyards  buildings  forest  undefined  public services  streets\n",
       "1     80016      79749       2115   69630      68202            62279    14442\n",
       "2         0        146       9513    1484       9699            17737    50897\n",
       "3         0        121        186    8902       2115                0    14677\n",
       "4         0          0      13315       0          0                0        0\n",
       "5         0          0      54887       0          0                0        0"
      ]
     },
     "execution_count": 4,
     "metadata": {},
     "output_type": "execute_result"
    }
   ],
   "source": [
    "q_pf = land_use_report.n_pieces_per_feature()\n",
    "q_pf[session_config.feature_variables]"
   ]
  },
  {
   "cell_type": "markdown",
   "id": "9e4808a4-0ddf-4178-b46e-b2672b5256ef",
   "metadata": {
    "editable": true,
    "slideshow": {
     "slide_type": ""
    },
    "tags": []
   },
   "source": [
    "### Locations per feature"
   ]
  },
  {
   "cell_type": "code",
   "execution_count": 5,
   "id": "fa0f9b5b-88e6-49e3-bb43-367e57b78cbf",
   "metadata": {
    "editable": true,
    "slideshow": {
     "slide_type": ""
    },
    "tags": []
   },
   "outputs": [
    {
     "data": {
      "text/html": [
       "<div>\n",
       "<style scoped>\n",
       "    .dataframe tbody tr th:only-of-type {\n",
       "        vertical-align: middle;\n",
       "    }\n",
       "\n",
       "    .dataframe tbody tr th {\n",
       "        vertical-align: top;\n",
       "    }\n",
       "\n",
       "    .dataframe thead th {\n",
       "        text-align: right;\n",
       "    }\n",
       "</style>\n",
       "<table border=\"1\" class=\"dataframe\">\n",
       "  <thead>\n",
       "    <tr style=\"text-align: right;\">\n",
       "      <th></th>\n",
       "      <th>orchards</th>\n",
       "      <th>vineyards</th>\n",
       "      <th>buildings</th>\n",
       "      <th>forest</th>\n",
       "      <th>undefined</th>\n",
       "      <th>public services</th>\n",
       "      <th>streets</th>\n",
       "    </tr>\n",
       "  </thead>\n",
       "  <tbody>\n",
       "    <tr>\n",
       "      <th>1</th>\n",
       "      <td>38</td>\n",
       "      <td>36</td>\n",
       "      <td>3</td>\n",
       "      <td>35</td>\n",
       "      <td>31</td>\n",
       "      <td>29</td>\n",
       "      <td>7</td>\n",
       "    </tr>\n",
       "    <tr>\n",
       "      <th>2</th>\n",
       "      <td>0</td>\n",
       "      <td>1</td>\n",
       "      <td>3</td>\n",
       "      <td>2</td>\n",
       "      <td>4</td>\n",
       "      <td>9</td>\n",
       "      <td>22</td>\n",
       "    </tr>\n",
       "    <tr>\n",
       "      <th>3</th>\n",
       "      <td>0</td>\n",
       "      <td>1</td>\n",
       "      <td>1</td>\n",
       "      <td>1</td>\n",
       "      <td>3</td>\n",
       "      <td>0</td>\n",
       "      <td>9</td>\n",
       "    </tr>\n",
       "    <tr>\n",
       "      <th>4</th>\n",
       "      <td>0</td>\n",
       "      <td>0</td>\n",
       "      <td>5</td>\n",
       "      <td>0</td>\n",
       "      <td>0</td>\n",
       "      <td>0</td>\n",
       "      <td>0</td>\n",
       "    </tr>\n",
       "    <tr>\n",
       "      <th>5</th>\n",
       "      <td>0</td>\n",
       "      <td>0</td>\n",
       "      <td>26</td>\n",
       "      <td>0</td>\n",
       "      <td>0</td>\n",
       "      <td>0</td>\n",
       "      <td>0</td>\n",
       "    </tr>\n",
       "  </tbody>\n",
       "</table>\n",
       "</div>"
      ],
      "text/plain": [
       "   orchards  vineyards  buildings  forest  undefined  public services  streets\n",
       "1        38         36          3      35         31               29        7\n",
       "2         0          1          3       2          4                9       22\n",
       "3         0          1          1       1          3                0        9\n",
       "4         0          0          5       0          0                0        0\n",
       "5         0          0         26       0          0                0        0"
      ]
     },
     "execution_count": 5,
     "metadata": {},
     "output_type": "execute_result"
    }
   ],
   "source": [
    "l_pf = land_use_report.locations_per_feature()\n",
    "l_pf[session_config.feature_variables]"
   ]
  },
  {
   "cell_type": "markdown",
   "id": "6c37684a-9cb7-49bb-b2c6-a8e62f26648e",
   "metadata": {
    "editable": true,
    "slideshow": {
     "slide_type": ""
    },
    "tags": []
   },
   "source": [
    "### density per feature"
   ]
  },
  {
   "cell_type": "code",
   "execution_count": 6,
   "id": "a0d18011-5e85-4829-a7ba-580c66d27663",
   "metadata": {
    "editable": true,
    "slideshow": {
     "slide_type": ""
    },
    "tags": []
   },
   "outputs": [
    {
     "data": {
      "text/html": [
       "<div>\n",
       "<style scoped>\n",
       "    .dataframe tbody tr th:only-of-type {\n",
       "        vertical-align: middle;\n",
       "    }\n",
       "\n",
       "    .dataframe tbody tr th {\n",
       "        vertical-align: top;\n",
       "    }\n",
       "\n",
       "    .dataframe thead th {\n",
       "        text-align: right;\n",
       "    }\n",
       "</style>\n",
       "<table border=\"1\" class=\"dataframe\">\n",
       "  <thead>\n",
       "    <tr style=\"text-align: right;\">\n",
       "      <th></th>\n",
       "      <th>orchards</th>\n",
       "      <th>vineyards</th>\n",
       "      <th>buildings</th>\n",
       "      <th>forest</th>\n",
       "      <th>undefined</th>\n",
       "      <th>public services</th>\n",
       "      <th>streets</th>\n",
       "    </tr>\n",
       "  </thead>\n",
       "  <tbody>\n",
       "    <tr>\n",
       "      <th>1</th>\n",
       "      <td>8.921753</td>\n",
       "      <td>8.949919</td>\n",
       "      <td>4.6128</td>\n",
       "      <td>8.507593</td>\n",
       "      <td>8.632308</td>\n",
       "      <td>7.8458</td>\n",
       "      <td>11.502174</td>\n",
       "    </tr>\n",
       "    <tr>\n",
       "      <th>2</th>\n",
       "      <td>0</td>\n",
       "      <td>9.75</td>\n",
       "      <td>19.01</td>\n",
       "      <td>4.256364</td>\n",
       "      <td>18.251111</td>\n",
       "      <td>13.141176</td>\n",
       "      <td>7.273375</td>\n",
       "    </tr>\n",
       "    <tr>\n",
       "      <th>3</th>\n",
       "      <td>0</td>\n",
       "      <td>5.015</td>\n",
       "      <td>5.35</td>\n",
       "      <td>23.698462</td>\n",
       "      <td>4.6128</td>\n",
       "      <td>0</td>\n",
       "      <td>12.144889</td>\n",
       "    </tr>\n",
       "    <tr>\n",
       "      <th>4</th>\n",
       "      <td>0</td>\n",
       "      <td>0</td>\n",
       "      <td>5.5604</td>\n",
       "      <td>0</td>\n",
       "      <td>0</td>\n",
       "      <td>0</td>\n",
       "      <td>0</td>\n",
       "    </tr>\n",
       "    <tr>\n",
       "      <th>5</th>\n",
       "      <td>0</td>\n",
       "      <td>0</td>\n",
       "      <td>9.60443</td>\n",
       "      <td>0</td>\n",
       "      <td>0</td>\n",
       "      <td>0</td>\n",
       "      <td>0</td>\n",
       "    </tr>\n",
       "  </tbody>\n",
       "</table>\n",
       "</div>"
      ],
      "text/plain": [
       "   orchards vineyards buildings     forest  undefined public services  \\\n",
       "1  8.921753  8.949919    4.6128   8.507593   8.632308          7.8458   \n",
       "2         0      9.75     19.01   4.256364  18.251111       13.141176   \n",
       "3         0     5.015      5.35  23.698462     4.6128               0   \n",
       "4         0         0    5.5604          0          0               0   \n",
       "5         0         0   9.60443          0          0               0   \n",
       "\n",
       "     streets  \n",
       "1  11.502174  \n",
       "2   7.273375  \n",
       "3  12.144889  \n",
       "4          0  \n",
       "5          0  "
      ]
     },
     "execution_count": 6,
     "metadata": {},
     "output_type": "execute_result"
    }
   ],
   "source": [
    "r_pf = land_use_report.rate_per_feature().T\n",
    "r_pf[session_config.feature_variables]"
   ]
  },
  {
   "cell_type": "markdown",
   "id": "0708d4a4-12e3-4cf2-bbaf-90687151c856",
   "metadata": {
    "editable": true,
    "slideshow": {
     "slide_type": ""
    },
    "tags": []
   },
   "source": [
    "### Corelation matrix"
   ]
  },
  {
   "cell_type": "code",
   "execution_count": 7,
   "id": "99309a88-abfc-4edb-a089-e94b5fad016f",
   "metadata": {
    "editable": true,
    "slideshow": {
     "slide_type": ""
    },
    "tags": []
   },
   "outputs": [
    {
     "data": {
      "text/html": [
       "<div>\n",
       "<style scoped>\n",
       "    .dataframe tbody tr th:only-of-type {\n",
       "        vertical-align: middle;\n",
       "    }\n",
       "\n",
       "    .dataframe tbody tr th {\n",
       "        vertical-align: top;\n",
       "    }\n",
       "\n",
       "    .dataframe thead th {\n",
       "        text-align: right;\n",
       "    }\n",
       "</style>\n",
       "<table border=\"1\" class=\"dataframe\">\n",
       "  <thead>\n",
       "    <tr style=\"text-align: right;\">\n",
       "      <th></th>\n",
       "      <th>orchards</th>\n",
       "      <th>vineyards</th>\n",
       "      <th>buildings</th>\n",
       "      <th>forest</th>\n",
       "      <th>undefined</th>\n",
       "      <th>public services</th>\n",
       "      <th>streets</th>\n",
       "    </tr>\n",
       "  </thead>\n",
       "  <tbody>\n",
       "    <tr>\n",
       "      <th>orchards</th>\n",
       "      <td>1.000000</td>\n",
       "      <td>0.215632</td>\n",
       "      <td>-0.232329</td>\n",
       "      <td>-0.044311</td>\n",
       "      <td>0.205992</td>\n",
       "      <td>-0.195685</td>\n",
       "      <td>-0.087427</td>\n",
       "    </tr>\n",
       "    <tr>\n",
       "      <th>vineyards</th>\n",
       "      <td>0.215632</td>\n",
       "      <td>1.000000</td>\n",
       "      <td>-0.100630</td>\n",
       "      <td>-0.190298</td>\n",
       "      <td>-0.057757</td>\n",
       "      <td>-0.215319</td>\n",
       "      <td>-0.155203</td>\n",
       "    </tr>\n",
       "    <tr>\n",
       "      <th>buildings</th>\n",
       "      <td>-0.232329</td>\n",
       "      <td>-0.100630</td>\n",
       "      <td>1.000000</td>\n",
       "      <td>-0.872981</td>\n",
       "      <td>-0.946109</td>\n",
       "      <td>0.480962</td>\n",
       "      <td>0.532584</td>\n",
       "    </tr>\n",
       "    <tr>\n",
       "      <th>forest</th>\n",
       "      <td>-0.044311</td>\n",
       "      <td>-0.190298</td>\n",
       "      <td>-0.872981</td>\n",
       "      <td>1.000000</td>\n",
       "      <td>0.767505</td>\n",
       "      <td>-0.367753</td>\n",
       "      <td>-0.538793</td>\n",
       "    </tr>\n",
       "    <tr>\n",
       "      <th>undefined</th>\n",
       "      <td>0.205992</td>\n",
       "      <td>-0.057757</td>\n",
       "      <td>-0.946109</td>\n",
       "      <td>0.767505</td>\n",
       "      <td>1.000000</td>\n",
       "      <td>-0.425264</td>\n",
       "      <td>-0.412409</td>\n",
       "    </tr>\n",
       "    <tr>\n",
       "      <th>public services</th>\n",
       "      <td>-0.195685</td>\n",
       "      <td>-0.215319</td>\n",
       "      <td>0.480962</td>\n",
       "      <td>-0.367753</td>\n",
       "      <td>-0.425264</td>\n",
       "      <td>1.000000</td>\n",
       "      <td>0.542128</td>\n",
       "    </tr>\n",
       "    <tr>\n",
       "      <th>streets</th>\n",
       "      <td>-0.087427</td>\n",
       "      <td>-0.155203</td>\n",
       "      <td>0.532584</td>\n",
       "      <td>-0.538793</td>\n",
       "      <td>-0.412409</td>\n",
       "      <td>0.542128</td>\n",
       "      <td>1.000000</td>\n",
       "    </tr>\n",
       "  </tbody>\n",
       "</table>\n",
       "</div>"
      ],
      "text/plain": [
       "                 orchards  vineyards  buildings    forest  undefined  \\\n",
       "orchards         1.000000   0.215632  -0.232329 -0.044311   0.205992   \n",
       "vineyards        0.215632   1.000000  -0.100630 -0.190298  -0.057757   \n",
       "buildings       -0.232329  -0.100630   1.000000 -0.872981  -0.946109   \n",
       "forest          -0.044311  -0.190298  -0.872981  1.000000   0.767505   \n",
       "undefined        0.205992  -0.057757  -0.946109  0.767505   1.000000   \n",
       "public services -0.195685  -0.215319   0.480962 -0.367753  -0.425264   \n",
       "streets         -0.087427  -0.155203   0.532584 -0.538793  -0.412409   \n",
       "\n",
       "                 public services   streets  \n",
       "orchards               -0.195685 -0.087427  \n",
       "vineyards              -0.215319 -0.155203  \n",
       "buildings               0.480962  0.532584  \n",
       "forest                 -0.367753 -0.538793  \n",
       "undefined              -0.425264 -0.412409  \n",
       "public services         1.000000  0.542128  \n",
       "streets                 0.542128  1.000000  "
      ]
     },
     "execution_count": 7,
     "metadata": {},
     "output_type": "execute_result"
    }
   ],
   "source": [
    "land_use_report.correlation_matrix()"
   ]
  },
  {
   "cell_type": "markdown",
   "id": "eaa3bc5e-6e35-4f7d-a717-f14cddd63afd",
   "metadata": {
    "editable": true,
    "slideshow": {
     "slide_type": ""
    },
    "tags": []
   },
   "source": [
    "### Corelated pairs\n",
    "\n",
    "The correlated pairs method identifies the land-use features that are correlated with each other. The method returns a tuple with the two features that are correlated and the method that could be used to combine them."
   ]
  },
  {
   "cell_type": "code",
   "execution_count": 8,
   "id": "34bb3925-8cf2-45b6-b084-86c22bae2b09",
   "metadata": {
    "editable": true,
    "slideshow": {
     "slide_type": ""
    },
    "tags": []
   },
   "outputs": [
    {
     "name": "stdout",
     "output_type": "stream",
     "text": [
      "Correlated pairs:\n",
      "[('buildings', 'public services', 'rate'), ('forest', 'undefined', 'sum')]\n"
     ]
    }
   ],
   "source": [
    "print(f'Correlated pairs:\\n{correlated_pairs}')"
   ]
  },
  {
   "cell_type": "markdown",
   "id": "f4da46ed-0fee-4942-8260-a131df10ff0b",
   "metadata": {
    "editable": true,
    "slideshow": {
     "slide_type": ""
    },
    "tags": []
   },
   "source": [
    "### Continuous land use"
   ]
  },
  {
   "cell_type": "code",
   "execution_count": 9,
   "id": "c6e31ebb-24f8-4d6b-904b-5985f806e74a",
   "metadata": {
    "editable": true,
    "slideshow": {
     "slide_type": ""
    },
    "tags": []
   },
   "outputs": [
    {
     "data": {
      "text/html": [
       "<div>\n",
       "<style scoped>\n",
       "    .dataframe tbody tr th:only-of-type {\n",
       "        vertical-align: middle;\n",
       "    }\n",
       "\n",
       "    .dataframe tbody tr th {\n",
       "        vertical-align: top;\n",
       "    }\n",
       "\n",
       "    .dataframe thead th {\n",
       "        text-align: right;\n",
       "    }\n",
       "</style>\n",
       "<table border=\"1\" class=\"dataframe\">\n",
       "  <thead>\n",
       "    <tr style=\"text-align: right;\">\n",
       "      <th></th>\n",
       "      <th>orchards</th>\n",
       "      <th>vineyards</th>\n",
       "      <th>buildings</th>\n",
       "      <th>forest</th>\n",
       "      <th>undefined</th>\n",
       "      <th>public services</th>\n",
       "      <th>streets</th>\n",
       "    </tr>\n",
       "    <tr>\n",
       "      <th>location</th>\n",
       "      <th></th>\n",
       "      <th></th>\n",
       "      <th></th>\n",
       "      <th></th>\n",
       "      <th></th>\n",
       "      <th></th>\n",
       "      <th></th>\n",
       "    </tr>\n",
       "  </thead>\n",
       "  <tbody>\n",
       "    <tr>\n",
       "      <th>la-pecherie</th>\n",
       "      <td>0.171</td>\n",
       "      <td>0.162</td>\n",
       "      <td>0.106</td>\n",
       "      <td>0.096</td>\n",
       "      <td>0.464</td>\n",
       "      <td>0.010449</td>\n",
       "      <td>0.166033</td>\n",
       "    </tr>\n",
       "    <tr>\n",
       "      <th>veveyse</th>\n",
       "      <td>0.000</td>\n",
       "      <td>0.027</td>\n",
       "      <td>0.958</td>\n",
       "      <td>0.000</td>\n",
       "      <td>0.015</td>\n",
       "      <td>0.047393</td>\n",
       "      <td>0.344649</td>\n",
       "    </tr>\n",
       "  </tbody>\n",
       "</table>\n",
       "</div>"
      ],
      "text/plain": [
       "             orchards  vineyards  buildings  forest  undefined  \\\n",
       "location                                                         \n",
       "la-pecherie     0.171      0.162      0.106   0.096      0.464   \n",
       "veveyse         0.000      0.027      0.958   0.000      0.015   \n",
       "\n",
       "             public services   streets  \n",
       "location                                \n",
       "la-pecherie         0.010449  0.166033  \n",
       "veveyse             0.047393  0.344649  "
      ]
     },
     "execution_count": 9,
     "metadata": {},
     "output_type": "execute_result"
    }
   ],
   "source": [
    "continuous = land_use_report.df_cont.copy()\n",
    "examps = continuous[continuous.location.isin(['veveyse', 'la-pecherie'])].drop_duplicates('location')\n",
    "examps[['location', *session_config.feature_variables]].fillna(0).set_index('location')"
   ]
  },
  {
   "cell_type": "markdown",
   "id": "4bf9ba59-652b-4f51-af36-55290b394a2a",
   "metadata": {
    "editable": true,
    "slideshow": {
     "slide_type": ""
    },
    "tags": []
   },
   "source": [
    "### Categorical land use"
   ]
  },
  {
   "cell_type": "code",
   "execution_count": 10,
   "id": "b9085da4-47c5-40e3-a8c3-3c037297004a",
   "metadata": {
    "editable": true,
    "slideshow": {
     "slide_type": ""
    },
    "tags": []
   },
   "outputs": [
    {
     "data": {
      "text/html": [
       "<div>\n",
       "<style scoped>\n",
       "    .dataframe tbody tr th:only-of-type {\n",
       "        vertical-align: middle;\n",
       "    }\n",
       "\n",
       "    .dataframe tbody tr th {\n",
       "        vertical-align: top;\n",
       "    }\n",
       "\n",
       "    .dataframe thead th {\n",
       "        text-align: right;\n",
       "    }\n",
       "</style>\n",
       "<table border=\"1\" class=\"dataframe\">\n",
       "  <thead>\n",
       "    <tr style=\"text-align: right;\">\n",
       "      <th></th>\n",
       "      <th>orchards</th>\n",
       "      <th>vineyards</th>\n",
       "      <th>buildings</th>\n",
       "      <th>forest</th>\n",
       "      <th>undefined</th>\n",
       "      <th>public services</th>\n",
       "      <th>streets</th>\n",
       "    </tr>\n",
       "    <tr>\n",
       "      <th>location</th>\n",
       "      <th></th>\n",
       "      <th></th>\n",
       "      <th></th>\n",
       "      <th></th>\n",
       "      <th></th>\n",
       "      <th></th>\n",
       "      <th></th>\n",
       "    </tr>\n",
       "  </thead>\n",
       "  <tbody>\n",
       "    <tr>\n",
       "      <th>la-pecherie</th>\n",
       "      <td>1</td>\n",
       "      <td>1</td>\n",
       "      <td>1</td>\n",
       "      <td>1</td>\n",
       "      <td>3</td>\n",
       "      <td>1</td>\n",
       "      <td>1</td>\n",
       "    </tr>\n",
       "    <tr>\n",
       "      <th>veveyse</th>\n",
       "      <td>1</td>\n",
       "      <td>1</td>\n",
       "      <td>5</td>\n",
       "      <td>1</td>\n",
       "      <td>1</td>\n",
       "      <td>1</td>\n",
       "      <td>2</td>\n",
       "    </tr>\n",
       "  </tbody>\n",
       "</table>\n",
       "</div>"
      ],
      "text/plain": [
       "            orchards vineyards buildings forest undefined public services  \\\n",
       "location                                                                    \n",
       "la-pecherie        1         1         1      1         3               1   \n",
       "veveyse            1         1         5      1         1               1   \n",
       "\n",
       "            streets  \n",
       "location             \n",
       "la-pecherie       1  \n",
       "veveyse           2  "
      ]
     },
     "execution_count": 10,
     "metadata": {},
     "output_type": "execute_result"
    }
   ],
   "source": [
    "cat = land_use_report.df_cat.copy()\n",
    "examps = cat[cat.location.isin(['veveyse', 'la-pecherie'])].drop_duplicates('location')\n",
    "examps[['location', *session_config.feature_variables]].set_index('location')"
   ]
  },
  {
   "cell_type": "code",
   "execution_count": 11,
   "id": "cf508f4a-8861-484b-88bb-a7febdb1b8c2",
   "metadata": {
    "editable": true,
    "jupyter": {
     "source_hidden": true
    },
    "pycharm": {
     "name": "#%%\n"
    },
    "slideshow": {
     "slide_type": ""
    },
    "tags": [
     "remove-input"
    ]
   },
   "outputs": [
    {
     "name": "stdout",
     "output_type": "stream",
     "text": [
      "Author: hammerdirt-analyst\n",
      "\n",
      "conda environment: cantonal_report\n",
      "\n",
      "pandas    : 2.0.3\n",
      "seaborn   : 0.12.2\n",
      "numpy     : 1.25.2\n",
      "matplotlib: 3.7.1\n",
      "\n"
     ]
    }
   ],
   "source": [
    "%watermark -a hammerdirt-analyst -co --iversions"
   ]
  }
 ],
 "metadata": {
  "kernelspec": {
   "display_name": "Python 3 (ipykernel)",
   "language": "python",
   "name": "python3"
  },
  "language_info": {
   "codemirror_mode": {
    "name": "ipython",
    "version": 3
   },
   "file_extension": ".py",
   "mimetype": "text/x-python",
   "name": "python",
   "nbconvert_exporter": "python",
   "pygments_lexer": "ipython3",
   "version": "3.9.19"
  }
 },
 "nbformat": 4,
 "nbformat_minor": 5
}