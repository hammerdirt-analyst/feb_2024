{
 "cells": [
  {
   "cell_type": "code",
   "execution_count": 1,
   "id": "64c16819-72da-4b47-a3aa-988d3f5a8203",
   "metadata": {
    "editable": true,
    "slideshow": {
     "slide_type": ""
    },
    "tags": [
     "remove-input"
    ]
   },
   "outputs": [],
   "source": [
    "%load_ext watermark\n",
    "import pandas as pd\n",
    "import session_config\n",
    "import userdisplay\n",
    "\n",
    "import pandas as pd\n",
    "import matplotlib.pyplot as plt\n",
    "import matplotlib.patches as mpatches\n",
    "\n",
    "import geopandas as gpd\n",
    "from shapely.geometry import box\n",
    "from shapely.geometry import Point\n",
    "\n",
    "from matplotlib.lines import Line2D\n",
    "from shapely.ops import unary_union\n",
    "\n",
    "from myst_nb import glue"
   ]
  },
  {
   "cell_type": "code",
   "execution_count": 2,
   "id": "7c242e95-6a6d-47e5-8c55-ce456aaa4b89",
   "metadata": {
    "editable": true,
    "slideshow": {
     "slide_type": ""
    },
    "tags": [
     "remove-input"
    ]
   },
   "outputs": [],
   "source": [
    "def a_point_buffer(this_location: pd.Series, buffer_radius: int = 1500, coordinate_crs: str = 'epsg:4326', to_crs: str = \"epsg:2056\"):\n",
    "    # create a point, a buffer and buffer bounds for one location\n",
    "    this_geometry = [Point(this_location.longitude, this_location.latitude)]\n",
    "    this_shape = gpd.GeoDataFrame(this_location, geometry=this_geometry, crs=coordinate_crs)\n",
    "    this_shape = this_shape.to_crs(to_crs)\n",
    "\n",
    "    this_buffer = gpd.GeoDataFrame(geometry=this_shape.buffer(1500), crs=to_crs)\n",
    "    location_buffer = this_buffer.dissolve()\n",
    "    return this_shape, location_buffer, location_buffer.total_bounds\n",
    "\n",
    "\n",
    "def location_geo_attributes(bounds, buffer, shape_file, objcolumn: str = 'OBJVAL', objval: str ='land-cover', buffer_name: str = None):\n",
    "    minx, miny, maxx, maxy = bounds\n",
    "    landcover = gpd.read_file(shape_file, bbox=(minx, miny, maxx, maxy))\n",
    "    landcover = landcover.drop_duplicates()\n",
    "    landcover = gpd.overlay(landcover, buffer, how='intersection', keep_geom_type=True)\n",
    "    landcover.rename(columns={objcolumn:objval}, inplace=True)\n",
    "    landcover['buffer-name'] = buffer_name\n",
    "    \n",
    "    return landcover[['buffer-name', objval, 'geometry']]\n",
    "\n",
    "def assign_colors_to_polygons(buffer_contents: gpd.GeoDataFrame, colors: dict = None, objval: str = None):\n",
    "    buffer_contents['color'] = buffer_contents[objval].map(colors)\n",
    "    return buffer_contents\n",
    "    \n",
    "def compute_landuse_percent_of_buffer(buffer_contents, buffer_area):\n",
    "    buffer_contents['area_m2'] = buffer_contents.geometry.area\n",
    "    buffer_contents['buffer-area'] = buffer_area\n",
    "    buffer_contents['rate'] = buffer_contents.area_m2/buffer_contents['buffer-area']    \n",
    "    return buffer_contents\n",
    "\n",
    "def compute_undefined_sections_of_buffer(buffer, buffer_contents, objval: str = 'land-cover', buffer_name: str = 'None'):\n",
    "    undefined = buffer.geometry.iloc[0]\n",
    "    \n",
    "    for aval in buffer_contents.geometry:\n",
    "        undefined = undefined.difference(aval)\n",
    "    args = {\n",
    "        'geometry':[undefined],\n",
    "        objval : ['undefined'],\n",
    "        'buffer-name':[ buffer_name]\n",
    "    }\n",
    "    undef = gpd.GeoDataFrame(args, crs=buffer.crs)\n",
    "\n",
    "    return undef"
   ]
  },
  {
   "cell_type": "code",
   "execution_count": 3,
   "id": "4c212188-86b5-4adc-89b0-4d2b4e880f35",
   "metadata": {
    "editable": true,
    "slideshow": {
     "slide_type": ""
    },
    "tags": [
     "remove-input"
    ]
   },
   "outputs": [],
   "source": [
    "gpd.options.io_engine = \"pyogrio\"\n",
    "\n",
    "data = session_config.collect_survey_data()\n",
    "beaches = pd.read_csv('data/end_process/beaches.csv').set_index('slug')\n",
    "locations = beaches.index\n",
    "\n",
    "river_beaches = beaches[beaches.feature_type == 'r'].copy()\n",
    "\n",
    "river_locations = river_beaches.index\n",
    "\n",
    "lake_beaches = beaches[beaches.feature_type == 'l'].copy()\n",
    "lake_locations = lake_beaches.index\n",
    "\n",
    "locations_and_coordinates = beaches.loc[locations, ['latitude', 'longitude', 'feature_type']]\n",
    "coordinate_crs = 'epsg:4326'\n",
    "to_crs = 'epsg:3857'\n",
    "not_done = [x for x in beaches.index if x not in locations_and_coordinates.index]\n",
    "\n",
    "\n",
    "land_use_colors = {\n",
    "    'Wald': 'olivedrab',\n",
    "    'Fels': 'gray',\n",
    "    'Geroell': 'gray',\n",
    "    'Gletscher': 'gray',\n",
    "    'Stausee': 'blue',\n",
    "    'See': 'blue',\n",
    "    'Reben': 'seagreen',\n",
    "    'Obstanlage': 'yellowgreen',\n",
    "    'Siedl': 'slategray',\n",
    "    'Sumpf': 'yellow',\n",
    "    'undefined': 'khaki'\n",
    "}"
   ]
  },
  {
   "cell_type": "code",
   "execution_count": null,
   "id": "dc49b22a-f8af-4fd0-aaa3-aea4b7c01e16",
   "metadata": {
    "editable": true,
    "slideshow": {
     "slide_type": ""
    },
    "tags": []
   },
   "outputs": [],
   "source": []
  },
  {
   "cell_type": "code",
   "execution_count": 4,
   "id": "252a043d-4ef6-42f3-8552-75f2a68a9c3f",
   "metadata": {
    "editable": true,
    "slideshow": {
     "slide_type": ""
    },
    "tags": [
     "remove-input"
    ]
   },
   "outputs": [],
   "source": [
    "# landuse and cover for a river or park location\n",
    "# make a buffer for a location\n",
    "a_location = river_locations[0]\n",
    "this_location = locations_and_coordinates.loc[[a_location]].copy()\n",
    "\n",
    "this_point, abuffer, bufferbounds = a_point_buffer(this_location)\n",
    "\n",
    "# indentify the contents of the buffer    \n",
    "buffer_content_i = location_geo_attributes(bufferbounds, abuffer, 'data/ignorethis/shapes/landcover.shp', buffer_name=a_location)\n",
    "\n",
    "# identify the undefined areas\n",
    "combined_polygon = unary_union(buffer_content_i.geometry)\n",
    "combined_Pn = gpd.GeoDataFrame({'geometry': [combined_polygon]}, crs=buffer_content_i.crs)\n",
    "undefined = compute_undefined_sections_of_buffer(abuffer,combined_Pn, buffer_name=a_location)\n",
    "\n",
    "# combine the known land cover with the undefined\n",
    "buffer_content_i = pd.concat([buffer_content_i, undefined])\n",
    "\n",
    "# assign \n",
    "buffer_content = assign_colors_to_polygons(buffer_content_i, colors=land_use_colors, objval='land-cover')\n",
    "buffer_content = compute_landuse_percent_of_buffer(buffer_content, abuffer.geometry.area[0])\n",
    "buffer_content['area_m2'] = buffer_content['area_m2'].astype(int)"
   ]
  },
  {
   "cell_type": "code",
   "execution_count": 5,
   "id": "b2eb6ab3-cb2c-40ea-b561-863679bb5335",
   "metadata": {
    "editable": true,
    "slideshow": {
     "slide_type": ""
    },
    "tags": [
     "remove-input"
    ]
   },
   "outputs": [],
   "source": [
    "args = dict(objcolumn='OBJEKTART', objval='land-use', buffer_name=a_location)\n",
    "nz = location_geo_attributes(bufferbounds, abuffer, 'data/ignorethis/shapes/nutuzungsareal.shp', **args)\n",
    "nz_comb = unary_union(nz.geometry)\n",
    "nz_comb = gpd.GeoDataFrame({'geometry': [nz_comb]}, crs=buffer_content_i.crs)\n",
    "\n",
    "args = dict(objcolumn='OBJEKTART', objval='land-use', buffer_name=a_location)\n",
    "fz = location_geo_attributes(bufferbounds, abuffer,'data/ignorethis/shapes/freizeit.shp', **args)\n",
    "fz_comb = unary_union(fz.geometry)\n",
    "fz_comb = gpd.GeoDataFrame({'geometry': [fz_comb]}, crs=buffer_content_i.crs)\n",
    "\n",
    "public_service = pd.concat([nz, fz])\n",
    "ps_comb = unary_union(public_service.geometry)\n",
    "args = {\n",
    "    'geometry': [ps_comb],\n",
    "    'land-cover':['public-services'],\n",
    "    'buffer-name':[a_location],\n",
    "    'color':'red'\n",
    "}\n",
    "ps_comb = gpd.GeoDataFrame(args, crs=buffer_content_i.crs)\n",
    "ps_comb = compute_landuse_percent_of_buffer(ps_comb, abuffer.geometry.area[0])"
   ]
  },
  {
   "cell_type": "code",
   "execution_count": 6,
   "id": "89628cb1-6426-4c4c-ac6a-dd83b10bb122",
   "metadata": {
    "editable": true,
    "slideshow": {
     "slide_type": ""
    },
    "tags": [
     "remove-input"
    ]
   },
   "outputs": [],
   "source": [
    "land_use_profile = pd.concat([buffer_content, ps_comb])\n",
    "land_use_profile['area_m2'] = land_use_profile['area_m2'].astype(int)\n",
    "land_use_profile['rate'] = land_use_profile['rate'].round(2)\n",
    "land_use_profile.rename(columns={'rate': '% of buffer'}, inplace=True)\n",
    "\n",
    "these_columns = ['buffer-name', 'land-cover', 'area_m2', '% of buffer']\n",
    "lusereport = land_use_profile[these_columns].style.set_table_styles(userdisplay.table_css_styles).hide(axis='index').format(**userdisplay.format_kwargs)\n",
    "glue('sample-landuse', lusereport, display=False)"
   ]
  },
  {
   "cell_type": "code",
   "execution_count": 7,
   "id": "299066c4-39a2-4707-a0b5-450a37feb79e",
   "metadata": {
    "editable": true,
    "slideshow": {
     "slide_type": ""
    },
    "tags": [
     "remove-input"
    ]
   },
   "outputs": [],
   "source": [
    "# indentify the contents of the buffer\n",
    "minx, miny, maxx, maxy = bufferbounds\n",
    "ariv = gpd.read_file('data/ignorethis/shapes/rivers.shp',bbox=(minx, miny, maxx, maxy))\n",
    "ariv = ariv.drop_duplicates()\n",
    "ariv = gpd.overlay(ariv, abuffer, how='intersection', keep_geom_type=True)"
   ]
  },
  {
   "cell_type": "code",
   "execution_count": 8,
   "id": "b6fc860c-2065-4a2a-b2f7-62f1836d62a2",
   "metadata": {
    "editable": true,
    "slideshow": {
     "slide_type": ""
    },
    "tags": [
     "remove-input"
    ]
   },
   "outputs": [],
   "source": [
    "# indentify the contents of the buffer\n",
    "minx, miny, maxx, maxy = bufferbounds\n",
    "streets = gpd.read_file('data/ignorethis/shapes/strasse.shp',bbox=(minx, miny, maxx, maxy))\n",
    "streets = gpd.overlay(streets, abuffer, how='intersection', keep_geom_type=True)\n",
    "streets = streets.drop_duplicates()\n",
    "streets = streets.dissolve()\n"
   ]
  },
  {
   "cell_type": "code",
   "execution_count": 9,
   "id": "9a10f36e-89b3-4f44-8419-d7174a3bd886",
   "metadata": {
    "editable": true,
    "slideshow": {
     "slide_type": ""
    },
    "tags": [
     "remove-input"
    ]
   },
   "outputs": [],
   "source": [
    "fig, ax = plt.subplots()\n",
    "\n",
    "abuffer.plot(ax=ax, facecolor='white', edgecolor='black')\n",
    "this_point.plot(ax=ax, zorder=5, marker='o', markersize=120, color='white', edgecolor='red', linewidth=2)\n",
    "this_point.plot(ax=ax, zorder=5, marker='x', markersize=120, color='red', linewidth=2)\n",
    "ariv.plot(ax=ax, linewidth=3, color='dodgerblue', zorder=4)\n",
    "\n",
    "title = \"Survey location and 1'500 meter buffer.\\n\"\n",
    "title2 = f'Location: {a_location}\\nCanton: Bern, survey type: river'\n",
    "ax.set_title(f'{title}{title2}', loc='left')\n",
    "ax.set_xticks([])\n",
    "ax.set_yticks([])\n",
    "glue('buffer-and-point', fig, display=False)\n",
    "plt.close()"
   ]
  },
  {
   "cell_type": "code",
   "execution_count": 10,
   "id": "ee6412e1-3598-4863-8b70-4b9b2c79cb73",
   "metadata": {
    "editable": true,
    "slideshow": {
     "slide_type": ""
    },
    "tags": [
     "remove-input"
    ]
   },
   "outputs": [],
   "source": [
    "fig, ax = plt.subplots()\n",
    "abuffer.plot(ax=ax, facecolor='white', edgecolor='black')\n",
    "this_point.plot(ax=ax, zorder=5, marker='o', markersize=120, color='white', edgecolor='red', linewidth=2)\n",
    "this_point.plot(ax=ax, zorder=5, marker='x', markersize=120, color='red', linewidth=2)\n",
    "ariv.plot(ax=ax, linewidth=3, color='dodgerblue', zorder=4)\n",
    "Siedl = buffer_content_i[buffer_content_i['land-cover'] == 'Siedl'].copy()\n",
    "Siedl.plot(ax=ax, facecolor='gray',alpha=1, hatch='++', zorder=1)\n",
    "\n",
    "title2 = f'Landcover: buildings'\n",
    "ax.set_title(f'{title2}', loc='left')\n",
    "ax.set_xticks([])\n",
    "ax.set_yticks([])\n",
    "glue('buffer-and-buildings', fig, display=False)\n",
    "plt.close()"
   ]
  },
  {
   "cell_type": "code",
   "execution_count": 11,
   "id": "1b14812a-7e4b-4e8f-acdc-54192f8dee8f",
   "metadata": {
    "editable": true,
    "slideshow": {
     "slide_type": ""
    },
    "tags": [
     "remove-input"
    ]
   },
   "outputs": [],
   "source": [
    "fig, ax = plt.subplots()\n",
    "abuffer.plot(ax=ax, facecolor='white', edgecolor='black')\n",
    "this_point.plot(ax=ax, zorder=5, marker='o', markersize=120, color='white', edgecolor='red', linewidth=2)\n",
    "this_point.plot(ax=ax, zorder=5, marker='x', markersize=120, color='red', linewidth=2)\n",
    "ariv.plot(ax=ax, linewidth=3, color='dodgerblue', zorder=4)\n",
    "\n",
    "wald = buffer_content_i[buffer_content_i['land-cover'] == 'Wald'].copy()\n",
    "wald.plot(ax=ax, facecolor='yellowgreen', edgecolor='darkgreen', alpha=1, hatch='oo',zorder=1)\n",
    "\n",
    "title2 = f'Landcover: forest'\n",
    "ax.set_title(f'{title2}', loc='left')\n",
    "ax.set_xticks([])\n",
    "ax.set_yticks([])\n",
    "glue('buffer-and-forest', fig, display=False)\n",
    "plt.close()"
   ]
  },
  {
   "cell_type": "code",
   "execution_count": 12,
   "id": "5b353f78-2e1f-4313-b929-1fc334e483a0",
   "metadata": {
    "editable": true,
    "slideshow": {
     "slide_type": ""
    },
    "tags": [
     "remove-input"
    ]
   },
   "outputs": [],
   "source": [
    "fig, ax = plt.subplots()\n",
    "\n",
    "abuffer.plot(ax=ax, facecolor='white', edgecolor='black')\n",
    "this_point.plot(ax=ax, zorder=5, marker='o', markersize=120, color='white', edgecolor='red', linewidth=2)\n",
    "this_point.plot(ax=ax, zorder=5, marker='x', markersize=120, color='red', linewidth=2)\n",
    "ariv.plot(ax=ax, linewidth=3, color='dodgerblue', zorder=4)\n",
    "\n",
    "\n",
    "ps_comb.plot(ax=ax, zorder=3, facecolor='red', alpha=.3)\n",
    "title2 = f'Landuse: public services and recreation'\n",
    "ax.set_title(f'{title2}', loc='left')\n",
    "ax.set_xticks([])\n",
    "ax.set_yticks([])\n",
    "glue('buffer-and-publicservice', fig, display=False)\n",
    "plt.close()"
   ]
  },
  {
   "cell_type": "code",
   "execution_count": 13,
   "id": "0671a824-b31d-499f-9857-f81391785dc5",
   "metadata": {
    "editable": true,
    "slideshow": {
     "slide_type": ""
    },
    "tags": [
     "remove-input"
    ]
   },
   "outputs": [],
   "source": [
    "fig, ax = plt.subplots()\n",
    "\n",
    "abuffer.plot(ax=ax, facecolor='white', edgecolor='black')\n",
    "this_point.plot(ax=ax, zorder=5, marker='o', markersize=120, color='white', edgecolor='red', linewidth=2)\n",
    "this_point.plot(ax=ax, zorder=5, marker='x', markersize=120, color='red', linewidth=2)\n",
    "ariv.plot(ax=ax, linewidth=3, color='dodgerblue', zorder=4)\n",
    "\n",
    "\n",
    "undef = buffer_content_i[buffer_content_i['land-cover'] == 'undefined'].copy()\n",
    "undef.plot(ax=ax, facecolor='khaki', edgecolor='khaki', alpha=1, zorder=1)\n",
    "\n",
    "title2 = f'Landcover: undefined'\n",
    "ax.set_title(f'{title2}', loc='left')\n",
    "ax.set_xticks([])\n",
    "ax.set_yticks([])\n",
    "glue('buffer-and-undefined', fig, display=False)\n",
    "plt.close()"
   ]
  },
  {
   "cell_type": "code",
   "execution_count": 14,
   "id": "5ecead8d-6e57-42d8-be20-3bc776efbfe4",
   "metadata": {
    "editable": true,
    "slideshow": {
     "slide_type": ""
    },
    "tags": [
     "remove-input"
    ]
   },
   "outputs": [],
   "source": [
    "fig, ax = plt.subplots()\n",
    "\n",
    "abuffer.plot(ax=ax, facecolor='white', edgecolor='black')\n",
    "this_point.plot(ax=ax, zorder=5, marker='o', markersize=120, color='white', edgecolor='red', linewidth=2)\n",
    "this_point.plot(ax=ax, zorder=5, marker='x', markersize=120, color='red', linewidth=2)\n",
    "ariv.plot(ax=ax, linewidth=3, color='dodgerblue', zorder=2)\n",
    "\n",
    "\n",
    "streets.plot(ax=ax, edgecolor='black', linestyle=':', linewidth=2, alpha=1, zorder=2)\n",
    "\n",
    "title = \"Survey location and 1'500 meter buffer.\\n\"\n",
    "title2 = f'Landuse: streets'\n",
    "ax.set_title(f'{title2}', loc='left')\n",
    "ax.set_xticks([])\n",
    "ax.set_yticks([])\n",
    "glue('buffer-and-streets', fig, display=False)\n",
    "plt.close()"
   ]
  },
  {
   "cell_type": "code",
   "execution_count": 15,
   "id": "cac0ed1e-bee2-4daa-b454-8eb6b3bd77d9",
   "metadata": {
    "editable": true,
    "slideshow": {
     "slide_type": ""
    },
    "tags": [
     "remove-input"
    ]
   },
   "outputs": [],
   "source": [
    "fig, ax = plt.subplots()\n",
    "\n",
    "abuffer.plot(ax=ax, facecolor='white', edgecolor='black')\n",
    "this_point.plot(ax=ax, zorder=5, marker='o', markersize=120, color='white', edgecolor='red', linewidth=2)\n",
    "this_point.plot(ax=ax, zorder=5, marker='x', markersize=120, color='red', linewidth=2)\n",
    "ariv.plot(ax=ax, linewidth=3, color='dodgerblue', zorder=3)\n",
    "\n",
    "undef = buffer_content_i[buffer_content_i['land-cover'] == 'undefined'].copy()\n",
    "undef.plot(ax=ax, facecolor='khaki', edgecolor='khaki', alpha=1, zorder=1)\n",
    "\n",
    "wald = buffer_content_i[buffer_content_i['land-cover'] == 'Wald'].copy()\n",
    "wald.plot(ax=ax, facecolor='yellowgreen', edgecolor='darkgreen', alpha=1, hatch='oo',zorder=1)\n",
    "\n",
    "Siedl = buffer_content_i[buffer_content_i['land-cover'] == 'Siedl'].copy()\n",
    "Siedl.plot(ax=ax, facecolor='gray',alpha=1, hatch='++', zorder=1)\n",
    "\n",
    "\n",
    "streets.plot(ax=ax, edgecolor='white', linestyle=':', linewidth=2, alpha=1, zorder=4)\n",
    "\n",
    "ps_comb.plot(ax=ax, zorder=3, facecolor='red', edgecolor='yellow', alpha=.5)\n",
    "\n",
    "title = \"Survey location and 1'500 meter buffer.\\n\"\n",
    "title2 = 'Land cover and use for one survey location'\n",
    "ax.set_title(f'{title}{title2}', loc='left')\n",
    "ax.set_xticks([])\n",
    "ax.set_yticks([])\n",
    "glue('buffer-all', fig, display=False)\n",
    "plt.close()"
   ]
  },
  {
   "cell_type": "markdown",
   "id": "544b5ada-371b-497b-8bc4-c2b2632d66ed",
   "metadata": {
    "editable": true,
    "slideshow": {
     "slide_type": ""
    },
    "tags": []
   },
   "source": [
    "(calculating-land-use)=\n",
    "# Extracting land use values\n",
    "\n",
    "This is a summary of the methods used to extract topographical features from vector and points layers. The source for the vector layer is  [swissTLMRegio](https://www.swisstopo.admin.ch/de/landschaftsmodell-swisstlmregio). \n",
    "\n",
    "QGIS is not the optimal tool for this operation if the intention is to automate the aquisition of the data. However for a limited number of users and relatively few sample locations added each year QGIS is adequate to the task. A summary of the methods for using QGIS is [below](usingqgis).\n",
    "\n",
    "__Note: 1'500 meter buffer (circular)__\n",
    "\n",
    "The land-use chapter in the federal report generated alot of interest [Land use profile - german](https://hammerdirt-analyst.github.io/IQAASL-End-0f-Sampling-2021/land_use_correlation.html). It inspired an academic article and collaboration with Wagenigen Research and University.\n",
    "\n",
    "__Why don't the percentages add up to 100 ?__\n",
    "\n",
    "This is because some features listed on the map are superimposed on to others. For example a wooded area may contain a public park, this would mean that the park is considered a feature and has a definite surface area but this is in addition to the surface area of the forested area where the park is located. In general we can define the difference in this way: \n",
    "\n",
    "__Land-cover:__ Are elements such as buildings, forest, orchard or undefined. There is at least one land-cover element for each survey location. If so then it takes 100% of the available dry land. \n",
    "\n",
    "__Land-use:__ Are elements that may or may not be in the buffer. These are items like schools, hospitals, water-treatment plants. Individually they are only a small portion of the available dry land.\n",
    "\n",
    "## Technical requirements\n",
    "\n",
    "In addition to pandas, python and numpy, the following python packages are required:\n",
    "\n",
    "1. Geopandas\n",
    "2. Shapely\n",
    "\n",
    "### A point and a buffer\n",
    "\n",
    "The first step is to create a buffer of the appropriate radius with the point (survey locatio) at the center. The point is constructed by using gps coordinates for the location as arguments to `shapely.geometry.Point`. This is then converted to Geopandas.GeodataFrame (gdf) using the coordinate reference system (crs) of the point data. From the gdf, use the buffer method and collect the bounds.\n",
    "\n",
    "__Making a buffer from a point__\n",
    "```python\n",
    "\n",
    "# method to make the buffer, the point and the bufferbounds\n",
    "def a_point_buffer(this_location: pd.Series, buffer_radius: int = 1500, coordinate_crs: str = 'epsg:4326', to_crs: str = \"epsg:2056\"):\n",
    "    # create a point, a buffer and buffer bounds for one location\n",
    "    this_geometry = [Point(this_location.longitude, this_location.latitude)]\n",
    "    this_shape = gpd.GeoDataFrame(this_location, geometry=this_geometry, crs=coordinate_crs)\n",
    "    this_shape = this_shape.to_crs(to_crs)\n",
    "\n",
    "    this_buffer = gpd.GeoDataFrame(geometry=this_shape.buffer(buffer_radius), crs=to_crs)\n",
    "    location_buffer = this_buffer.dissolve()\n",
    "    \n",
    "    return this_shape, location_buffer, location_buffer.total_bounds\n",
    "\n",
    "# select a location\n",
    "a_location = river_locations[5]\n",
    "# retrieve the grid coordinates\n",
    "this_location = locations_and_coordinates.loc[[a_location]].copy()\n",
    "# make the point, the buffer and the bounds\n",
    "this_point, abuffer, bufferbounds = a_point_buffer(this_location)\n",
    "```\n",
    "\n",
    "### Retrieve location attributes: land-cover\n",
    "\n",
    "The bounds and the buffer from the previous operation are used to construct an overlay for the .SHP file that holds the souce data. The name of the location is used to identify the buffer.\n",
    "\n",
    "```python\n",
    "def location_geo_attributes(bounds, buffer, shape_file, objcolumn: str = 'OBJVAL', objval: str ='land-cover', buffer_name: str = None):\n",
    "    minx, miny, maxx, maxy = bounds\n",
    "    landcover = gpd.read_file(shape_file, bbox=(minx, miny, maxx, maxy))\n",
    "    landcover = landcover.drop_duplicates()\n",
    "    landcover = gpd.overlay(landcover, buffer, how='intersection', keep_geom_type=True)\n",
    "    landcover.rename(columns={objcolumn:objval}, inplace=True)\n",
    "    landcover['buffer-name'] = buffer_name\n",
    "    \n",
    "    return landcover[['buffer-name', objval, 'geometry']]\n",
    "\n",
    "# indentify the contents of the buffer    \n",
    "buffer_content = location_geo_attributes(bufferbounds, abuffer, 'data/ignorethis/shapes/landcover.shp', buffer_name=a_location)\n",
    "```\n",
    "### Undefined areas\n",
    "\n",
    "Not all areas of the buffer will have a defined land-cover. To identify those areas, all of the `buffer_content` is _joined_. For this we use the `shapely.unary_union` method and provide the `buffer_content` as an argument. This will produce a separate gdf that is the negative of the `buffer_content`. \n",
    "\n",
    "```python\n",
    "# identify the undefined areas\n",
    "combined_polygon = unary_union(buffer_content_i.geometry)\n",
    "combined_Pn = gpd.GeoDataFrame({'geometry': [combined_polygon]}, crs=buffer_content_i.crs)\n",
    "undefined = compute_undefined_sections_of_buffer(abuffer,combined_Pn, buffer_name=a_location)\n",
    "\n",
    "# combine the known land cover with the undefined\n",
    "buffer_content_i = pd.concat([buffer_content_i, undefined])\n",
    "\n",
    "# assign \n",
    "buffer_content = assign_colors_to_polygons(buffer_content_i, colors=land_use_colors, objval='land-cover')\n",
    "buffer_content = compute_landuse_percent_of_buffer(buffer_content, abuffer.geometry.area[0])\n",
    "buffer_content['area_m2'] = buffer_content['area_m2'].astype(int)\n",
    "```\n",
    "To complete the process (for land-cover) the undefined areas are merged with the buffer_content and the surface area for each polygon is calculated.\n",
    "\n",
    "### Public services: land-use\n",
    "\n",
    "As noted earlier, some topographical features are overlayed on to other features. Here we are talking about two specific vector layers in the swissTLMRegio collection:\n",
    "\n",
    "1. Nutuzungsareal : infrastructure or other usage\n",
    "2. Freizeitareal : recreation area\n",
    "\n",
    "We are interested in these layers because they give us information about the activities that may occur in proximity to the survey location. The same method is used to extract the polygons as was done with land use. However, we are using the `shapely.unary_union` method on the entire layer. Which means that we are not differentiating between the subcategories in each layer.\n",
    "\n",
    "Once the buffer overlay has been applied to both layers the contents are combined and added to the buffer_content data:\n",
    "\n",
    "```python\n",
    "# infrastructure\n",
    "args = dict(objcolumn='OBJEKTART', objval='land-use', buffer_name=a_location)\n",
    "nz = location_geo_attributes(bufferbounds, abuffer, 'data/ignorethis/shapes/nutuzungsareal.shp', **args)\n",
    "nz_comb = unary_union(nz.geometry)\n",
    "nz_comb = gpd.GeoDataFrame({'geometry': [nz_comb]}, crs=buffer_content_i.crs)\n",
    "\n",
    "# recreational areas\n",
    "args = dict(objcolumn='OBJEKTART', objval='land-use', buffer_name=a_location)\n",
    "fz = location_geo_attributes(bufferbounds, abuffer,'data/ignorethis/shapes/freizeit.shp', **args)\n",
    "fz_comb = unary_union(fz.geometry)\n",
    "fz_comb = gpd.GeoDataFrame({'geometry': [fz_comb]}, crs=buffer_content_i.crs)\n",
    "\n",
    "# combine them all into one category called public services\n",
    "public_service = pd.concat([nz, fz])\n",
    "ps_comb = unary_union(public_service.geometry)\n",
    "\n",
    "args = {\n",
    "    'geometry': [ps_comb],\n",
    "    'land-cover':['public-services'],\n",
    "    'buffer-name':[a_location],\n",
    "    'color':'red'\n",
    "}\n",
    "ps_comb = gpd.GeoDataFrame(args, crs=buffer_content_i.crs)\n",
    "ps_comb = compute_landuse_percent_of_buffer(ps_comb, abuffer.geometry.area[0])\n",
    "\n",
    "# combine the public services and the land-cover\n",
    "land_use_profile = pd.concat([buffer_content, ps_comb])\n",
    "land_use_profile['area_m2'] = land_use_profile['area_m2'].astype(int)\n",
    "land_use_profile['rate'] = land_use_profile['rate'].round(2)\n",
    "land_use_profile.rename(columns={'rate': '% of buffer'}, inplace=True)\n",
    "```\n",
    "\n",
    "Which results in the land-use profile for the location in question, (not including streets).\n",
    "\n",
    ":::{card}\n",
    "Land use and cover for a location.\n",
    "^^^\n",
    "```{glue} sample-landuse\n",
    "```\n",
    ":::\n",
    "\n",
    "### Building a map of land cover\n",
    "\n"
   ]
  },
  {
   "cell_type": "markdown",
   "id": "7d8bbbdb-ed46-4e97-bca7-90f4712d97ae",
   "metadata": {
    "editable": true,
    "slideshow": {
     "slide_type": ""
    },
    "tags": []
   },
   "source": [
    "::::{grid} 1 1 2 2\n",
    ":gutter: 1\n",
    "\n",
    ":::{grid-item-card}\n",
    "\n",
    "```{glue} buffer-and-point\n",
    "```\n",
    "+++\n",
    ":::\n",
    "\n",
    ":::{grid-item-card}\n",
    "\n",
    "```{glue} buffer-and-buildings\n",
    "```\n",
    "+++\n",
    "Surface area: 4'145'791 m², % of buffer: 59%\n",
    "\n",
    ":::\n",
    "\n",
    ":::{grid-item-card}\n",
    "\n",
    "```{glue} buffer-and-forest\n",
    "```\n",
    "+++\n",
    "Surface area: 1'528'977 m², % of buffer: 22%\n",
    ":::\n",
    "\n",
    ":::{grid-item-card}\n",
    "\n",
    "```{glue} buffer-and-publicservice\n",
    "```\n",
    "+++\n",
    "Surface area: 1'484'991 m², % of buffer: 21%\n",
    ":::\n",
    "\n",
    ":::{grid-item-card}\n",
    "\n",
    "```{glue} buffer-and-undefined\n",
    "```\n",
    "+++\n",
    "Surface area: 1'382'463 m², % of buffer: 20%\n",
    ":::\n",
    "\n",
    ":::{grid-item-card}\n",
    "\n",
    "```{glue} buffer-and-streets\n",
    "```\n",
    "+++\n",
    "\n",
    "Total length of streets : 17km\n",
    "\n",
    ":::\n",
    "\n",
    ":::{grid-item-card}\n",
    "\n",
    "```{glue} buffer-all\n",
    "```\n",
    "+++\n",
    "\n",
    ":::\n",
    "\n",
    "::::\n",
    "\n",
    "\n"
   ]
  },
  {
   "cell_type": "markdown",
   "id": "7bca0862-a1e5-4fd3-ae17-65ac2fd7cd0a",
   "metadata": {
    "editable": true,
    "slideshow": {
     "slide_type": ""
    },
    "tags": []
   },
   "source": [
    "(usingqgis)=\n",
    "## Using QGIS\n",
    "\n",
    "For this method we are using the land-cover layer from swissTLM regio\n",
    "\n",
    "finished columns = slug, attribute , attribute_type, area, dry,\tscale\n",
    "\n",
    "In QGIS:\n",
    "\n",
    "1. create a buffer around each survey point\n",
    "   * make sure that the survey location and feature_type is in the attributes of the new buffer layer\n",
    "   * the survey locations are loaded as points from .csv file\n",
    "   * reproject the points layer to the project CRS \n",
    "\n",
    "2. use the new buffer layer as an overlay to the land-cover layer\n",
    "   * use the overlay intersection tool\n",
    "   * select the fields to keep from the buffer (slug and feature type)\n",
    "   * select the fields to keep from the land-cover layer\n",
    "   * run the function\n",
    "   * this creates a temporary layer called _intersection_\n",
    "\n",
    "3. get the surface area of all the land-cover and land-use features in each buffer of the temporary layer\n",
    "   * use the field calculator for the attribute table of the layer\n",
    "   * in the field calculator, make a new field and enter the formula `\\$area`\n",
    "   * for this example the method is elipsoid _bessel 1841 (epsg 7001)_\n",
    "   * this is set in the properties of the QGIS project\n",
    "   * Export the layer as .csv\n",
    "\n",
    "4. verify the land-use features per location\n",
    "   * drop duplicate values: use location, feature and area to define duplicates\n",
    "   * attention! different names for lake and reservoir\n",
    "     * change Stausee to See\n",
    "\n",
    "5. make a dry land feature\n",
    "   * this is the surface area of the buffer that is not covered by water\n",
    "   * substract the area of See from the area of the buffer\n",
    "   * identify survey locations that have siginifcant water features but are not listed as lakes\n",
    "  \n",
    "6. Scale the land-use attributes of interest to the available dry-land\n",
    "  \n",
    "__Example making dry land columns and scaling the land-use__\n",
    "\n",
    "    \n",
    "```python\n",
    "# separate locations that are lakes\n",
    "# recall that feature type has a designator for lakes\n",
    "lakes = lg[(lg.feature_ty == 'l') | lg.slug.isin(snl)].copy()\n",
    "\n",
    "# from this subset of data separate the surface area covered by water\n",
    "# set the slug to the index and substract the surface area of the water\n",
    "# from the surface area of the buffer\n",
    "lake_only = lakes[lakes.feature == \"See\"]\n",
    "lo = lake_only[[\"slug\", \"area\"]].set_index(\"slug\")\n",
    "\n",
    "# substract the lake value from the area of the buffer\n",
    "lo[\"dry\"] = 7065000 - lo.area\n",
    "lodry = lo[\"dry\"]\n",
    "\n",
    "# merge the original land-use data from lakes with the\n",
    "# the dry land results\n",
    "lgi = lakes.merge(lo[\"dry\"], left_on=\"slug\", right_index=True)\n",
    "# remove the lake feature from the features columns\n",
    "lgi = lgi[lgi.feature != \"See\"].copy()\n",
    "\n",
    "# scale the landuse feature to the available dry land\n",
    "lgi[\"scale\"] = (lgi.area/lgi.dry).round(3)\n",
    "\n",
    "# repeat the process for locations that do not have a lake feature\n",
    "# these locations are accounted for above\n",
    "eliminate = [*snl, *lo.index]\n",
    "# recuperate all other locations\n",
    "rivers_parcs = lg[~lg.slug.isin(eliminate)].copy()\n",
    "# define the dry land as the area of the buffer\n",
    "rivers_parcs[\"dry\"] = 7065000\n",
    "# scale the features with the dry land value\n",
    "rivers_parcs[\"scale\"] = rivers_parcs.area/rivers_parcs.dry\n",
    "\n",
    "# combine the two results\n",
    "land_cover = pd.concat([rivers_parcs, lgi])\n",
    "```\n",
    "Once the dry land value is calculated for each buffer of the land-cover buffer use the dry-land value to scale the components of the land-use buffer\n",
    "\n",
    "### Extracting street lengths\n",
    "\n",
    "The tlmREgio streets or strasse layer is applicable.\n",
    "\n",
    "__Note:__ the street lenghts are not scaled\n",
    "\n",
    "finished columns = slug, attribute, attribute_type, length\n",
    "\n",
    "__Attention:__\n",
    "\n",
    "1. The streets layer can have many copies of the same street in a buffer\n",
    "2. The cumulative sum of a street in a layer can exceed the radius of the buffer (windy roads)\n",
    "3. Dissolving the polylines of each buffer in the layer is essential\n",
    "4. Drop duplicate values on slug, attribute, length\n",
    "\n",
    "1. Using the same 1'500 m buffer that was used for land-cover and land-use. Intersect the buffer with the street layer\n",
    "2. Dissolve the polylines in each buffer\n",
    "   * select the fields from the streets layer to keep (OBJVAL)\n",
    "   * select the fields from the buffer layer to kepp (slug, feature_ty)\n",
    "   * check the box `keep disjoint features separate`\n",
    "   * run the function\n",
    "   * export to .csv"
   ]
  },
  {
   "cell_type": "code",
   "execution_count": 16,
   "id": "54148c36-ff96-4891-b230-479c5598f430",
   "metadata": {
    "editable": true,
    "slideshow": {
     "slide_type": ""
    },
    "tags": [
     "remove-input"
    ]
   },
   "outputs": [],
   "source": [
    "land_cover_data = \"data/end_process/land_cover.csv\"\n",
    "land_use_data = \"data/end_process/land_use.csv\"\n",
    "street_data = \"data/end_process/streets.csv\"\n",
    "intersection_attributes = \"data/end_process/river_intersect_lakes.csv\"\n",
    "land_cover = pd.read_csv(land_cover_data)\n",
    "land_use = pd.read_csv(land_use_data)\n",
    "streets = pd.read_csv(street_data)\n",
    "river_intersect_lakes = pd.read_csv(intersection_attributes)"
   ]
  },
  {
   "cell_type": "markdown",
   "id": "b6c9d25e-bf0d-42b4-abd2-4db7d19aa951",
   "metadata": {
    "editable": true,
    "slideshow": {
     "slide_type": ""
    },
    "tags": []
   },
   "source": [
    "#### Land-cover\n",
    "\n"
   ]
  },
  {
   "cell_type": "markdown",
   "id": "dbae7be9-28a9-48dc-b337-d9085123f9cb",
   "metadata": {
    "editable": true,
    "slideshow": {
     "slide_type": ""
    },
    "tags": []
   },
   "source": [
    "Land-cover attributes"
   ]
  },
  {
   "cell_type": "code",
   "execution_count": 17,
   "id": "bf670e98-1084-4385-85b3-e37ae4662877",
   "metadata": {
    "editable": true,
    "slideshow": {
     "slide_type": ""
    },
    "tags": [
     "remove-input"
    ]
   },
   "outputs": [
    {
     "data": {
      "text/plain": [
       "array(['undefined', 'Siedl', 'Wald', 'Reben', 'Obstanlage'], dtype=object)"
      ]
     },
     "execution_count": 17,
     "metadata": {},
     "output_type": "execute_result"
    }
   ],
   "source": [
    "land_cover.attribute.unique()"
   ]
  },
  {
   "cell_type": "markdown",
   "id": "b1f73253-461e-47f6-b05c-bca3b5d34078",
   "metadata": {
    "editable": true,
    "slideshow": {
     "slide_type": ""
    },
    "tags": []
   },
   "source": [
    "land-cover attribute translations\n",
    "\n",
    "```python\n",
    "land_cover_fr = {\n",
    "    'undefined': 'Non défini',\n",
    "    'Siedl': 'Siedl',\n",
    "    'Wald': 'Forêt',\n",
    "    'Reben': 'Vignes',\n",
    "    'Obstanlage': 'Verger'\n",
    "}\n",
    "\n",
    "land_cover_en = {\n",
    "    'undefined': 'Undefined',\n",
    "    'Siedl': 'Settlement',\n",
    "    'Wald': 'Forest',\n",
    "    'Reben': 'Vines',\n",
    "    'Obstanlage': 'Orchard'\n",
    "}\n",
    "```\n",
    "\n",
    "Land-cover results for one location"
   ]
  },
  {
   "cell_type": "code",
   "execution_count": 18,
   "id": "d1977967-21ae-4f66-a22f-490e2ff1a173",
   "metadata": {
    "editable": true,
    "slideshow": {
     "slide_type": ""
    },
    "tags": [
     "remove-input"
    ]
   },
   "outputs": [],
   "source": [
    "land_cover_fr = {\n",
    "    'undefined': 'Non défini',\n",
    "    'Siedl': 'Siedl',\n",
    "    'Wald': 'Forêt',\n",
    "    'Reben': 'Vignes',\n",
    "    'Obstanlage': 'Verger'\n",
    "}\n",
    "\n",
    "land_cover_en = {\n",
    "    'undefined': 'Undefined',\n",
    "    'Siedl': 'Settlement',\n",
    "    'Wald': 'Forest',\n",
    "    'Reben': 'Vines',\n",
    "    'Obstanlage': 'Orchard'\n",
    "}"
   ]
  },
  {
   "cell_type": "code",
   "execution_count": 19,
   "id": "b9d04e40-b101-48fa-8e18-238bcc0b9323",
   "metadata": {
    "editable": true,
    "slideshow": {
     "slide_type": ""
    },
    "tags": [
     "remove-input"
    ]
   },
   "outputs": [
    {
     "data": {
      "text/html": [
       "<div>\n",
       "<style scoped>\n",
       "    .dataframe tbody tr th:only-of-type {\n",
       "        vertical-align: middle;\n",
       "    }\n",
       "\n",
       "    .dataframe tbody tr th {\n",
       "        vertical-align: top;\n",
       "    }\n",
       "\n",
       "    .dataframe thead th {\n",
       "        text-align: right;\n",
       "    }\n",
       "</style>\n",
       "<table border=\"1\" class=\"dataframe\">\n",
       "  <thead>\n",
       "    <tr style=\"text-align: right;\">\n",
       "      <th></th>\n",
       "      <th>slug</th>\n",
       "      <th>attribute</th>\n",
       "      <th>attribute_type</th>\n",
       "      <th>area</th>\n",
       "      <th>dry</th>\n",
       "      <th>scale</th>\n",
       "    </tr>\n",
       "  </thead>\n",
       "  <tbody>\n",
       "    <tr>\n",
       "      <th>141</th>\n",
       "      <td>parc-des-pierrettes</td>\n",
       "      <td>undefined</td>\n",
       "      <td>land-cover</td>\n",
       "      <td>68285</td>\n",
       "      <td>3832559</td>\n",
       "      <td>0.018</td>\n",
       "    </tr>\n",
       "    <tr>\n",
       "      <th>623</th>\n",
       "      <td>parc-des-pierrettes</td>\n",
       "      <td>Siedl</td>\n",
       "      <td>land-cover</td>\n",
       "      <td>3606885</td>\n",
       "      <td>3832559</td>\n",
       "      <td>0.941</td>\n",
       "    </tr>\n",
       "    <tr>\n",
       "      <th>624</th>\n",
       "      <td>parc-des-pierrettes</td>\n",
       "      <td>Wald</td>\n",
       "      <td>land-cover</td>\n",
       "      <td>157389</td>\n",
       "      <td>3832559</td>\n",
       "      <td>0.041</td>\n",
       "    </tr>\n",
       "  </tbody>\n",
       "</table>\n",
       "</div>"
      ],
      "text/plain": [
       "                    slug  attribute attribute_type     area      dry  scale\n",
       "141  parc-des-pierrettes  undefined     land-cover    68285  3832559  0.018\n",
       "623  parc-des-pierrettes      Siedl     land-cover  3606885  3832559  0.941\n",
       "624  parc-des-pierrettes       Wald     land-cover   157389  3832559  0.041"
      ]
     },
     "execution_count": 19,
     "metadata": {},
     "output_type": "execute_result"
    }
   ],
   "source": [
    "land_cover[land_cover.slug == \"parc-des-pierrettes\"]"
   ]
  },
  {
   "attachments": {},
   "cell_type": "markdown",
   "id": "36d5a536-7f46-4b15-810b-05e8b0b009a9",
   "metadata": {
    "editable": true,
    "slideshow": {
     "slide_type": ""
    },
    "tags": []
   },
   "source": [
    "#### Land-use\n",
    "\n",
    "Land-use attributes:"
   ]
  },
  {
   "cell_type": "code",
   "execution_count": 20,
   "id": "41f9f450-1230-470a-880f-68aecb1d1ec6",
   "metadata": {
    "editable": true,
    "slideshow": {
     "slide_type": ""
    },
    "tags": [
     "remove-input"
    ]
   },
   "outputs": [
    {
     "data": {
      "text/plain": [
       "array(['Baumschule', 'Friedhof', 'Schul- und Hochschulareal',\n",
       "       'Wald nicht bestockt', 'Abwasserreinigungsareal',\n",
       "       'Historisches Areal', 'Kraftwerkareal', 'Schrebergartenareal',\n",
       "       'Truppenuebungsplatz', 'Unterwerkareal',\n",
       "       'Kehrichtverbrennungsareal', 'Spitalareal',\n",
       "       'Oeffentliches Parkareal', 'Messeareal',\n",
       "       'Massnahmenvollzugsanstaltsareal', 'Kiesabbauareal',\n",
       "       'Steinbruchareal', 'Klosterareal', 'Deponieareal', 'Antennenareal',\n",
       "       'Lehmabbauareal'], dtype=object)"
      ]
     },
     "execution_count": 20,
     "metadata": {},
     "output_type": "execute_result"
    }
   ],
   "source": [
    "land_use.attribute.unique()"
   ]
  },
  {
   "cell_type": "markdown",
   "id": "5db7039a-c66d-4e36-ab0a-d051ac04536f",
   "metadata": {
    "editable": true,
    "slideshow": {
     "slide_type": ""
    },
    "tags": []
   },
   "source": [
    "Land-use translations and groups\n",
    "\n",
    "```python\n",
    "\n",
    "land_use_fr = {\n",
    "    'Baumschule': 'Pépinière',\n",
    "    'Friedhof': 'Cimetière',\n",
    "    'Schul- und Hochschulareal': 'Zone scolaire et universitaire',\n",
    "    'Wald nicht bestockt': 'Forêt non peuplée',\n",
    "    'Abwasserreinigungsareal': 'Zone de traitement des eaux usées',\n",
    "    'Historisches Areal': 'Zone historique',\n",
    "    'Kraftwerkareal': 'Zone de centrale électrique',\n",
    "    'Schrebergartenareal': 'Zone de jardins familiaux',\n",
    "    'Truppenübungsplatz': 'Terrain d\\'entraînement militaire',\n",
    "    'Unterwerkareal': 'Zone de sous-station',\n",
    "    'Kehrichtverbrennungsareal': 'Zone d\\'incinération des déchets',\n",
    "    'Spitalareal': 'Zone d\\'hôpital',\n",
    "    'Öffentliches Parkareal': 'Zone de parc public',\n",
    "    'Messeareal': 'Zone d\\'exposition',\n",
    "    'Massnahmenvollzugsanstaltsareal': 'Zone d\\'établissement de traitement',\n",
    "    'Kiesabbauareal': 'Zone d\\'extraction de gravier',\n",
    "    'Steinbruchareal': 'Zone de carrière',\n",
    "    'Klosterareal': 'Zone de monastère',\n",
    "    'Deponieareal': 'Zone de décharge',\n",
    "    'Antennenareal': 'Zone d\\'antennes',\n",
    "    'Lehmabbauareal': 'Zone d\\'extraction d\\'argile'\n",
    "}\n",
    "\n",
    "land_use_en = {\n",
    "    'Baumschule': 'Nursery',\n",
    "    'Friedhof': 'Cemetery',\n",
    "    'Schul- und Hochschulareal': 'School and University Area',\n",
    "    'Wald nicht bestockt': 'Non-stocked Forest',\n",
    "    'Abwasserreinigungsareal': 'Wastewater Treatment Area',\n",
    "    'Historisches Areal': 'Historical Area',\n",
    "    'Kraftwerkareal': 'Power Plant Area',\n",
    "    'Schrebergartenareal': 'Allotment Garden Area',\n",
    "    'Truppenübungsplatz': 'Military Training Ground',\n",
    "    'Unterwerkareal': 'Substation Area',\n",
    "    'Kehrichtverbrennungsareal': 'Waste Incineration Area',\n",
    "    'Spitalareal': 'Hospital Area',\n",
    "    'Öffentliches Parkareal': 'Public Park Area',\n",
    "    'Messeareal': 'Exhibition Area',\n",
    "    'Massnahmenvollzugsanstaltsareal': 'Correctional Facility Area',\n",
    "    'Kiesabbauareal': 'Gravel Extraction Area',\n",
    "    'Steinbruchareal': 'Quarry Area',\n",
    "    'Klosterareal': 'Monastery Area',\n",
    "    'Deponieareal': 'Landfill Area',\n",
    "    'Antennenareal': 'Antenna Area',\n",
    "    'Lehmabbauareal': 'Clay Extraction Area'\n",
    "}\n",
    "\n",
    "# land_uses_grouped:\n",
    "# outdoor non technical use:\n",
    "lu_non_tech = ['Friedhof', 'Hitorisches Areal', 'Schrebergartenareal', 'Öffentliches Parkareal', 'Messeareal', 'Klosterareal',  'Wald nicht bestockt']\n",
    "\n",
    "# technical-extraction-incineration\n",
    "lu_extraction = ['Kiesabbauareal', 'Steinbruchareal',  'Lehmabbauareal',]\n",
    "\n",
    "# waste-water-treatment-powere\n",
    "lu_technical = ['Kehrichtverbrennungsareal', 'Deponieareal', 'Deponieareal', 'Abwasserreinigungsareal','Unterwerkareal', 'Antennenareal']\n",
    "\n",
    "# services:\n",
    "lu_serives = ['Massnahmenvollzugsanstaltsareal', 'Schul- und Hochschulareal', 'Spitalareal']\n",
    "```\n",
    "\n",
    "Land-use for one location:"
   ]
  },
  {
   "cell_type": "code",
   "execution_count": 21,
   "id": "f7be463f-7ffd-4809-8bf5-ace2f0d686cd",
   "metadata": {
    "editable": true,
    "slideshow": {
     "slide_type": ""
    },
    "tags": [
     "remove-input"
    ]
   },
   "outputs": [],
   "source": [
    "land_use_fr = {\n",
    "    'Baumschule': 'Pépinière',\n",
    "    'Friedhof': 'Cimetière',\n",
    "    'Schul- und Hochschulareal': 'Zone scolaire et universitaire',\n",
    "    'Wald nicht bestockt': 'Forêt non peuplée',\n",
    "    'Abwasserreinigungsareal': 'Zone de traitement des eaux usées',\n",
    "    'Historisches Areal': 'Zone historique',\n",
    "    'Kraftwerkareal': 'Zone de centrale électrique',\n",
    "    'Schrebergartenareal': 'Zone de jardins familiaux',\n",
    "    'Truppenübungsplatz': 'Terrain d\\'entraînement militaire',\n",
    "    'Unterwerkareal': 'Zone de sous-station',\n",
    "    'Kehrichtverbrennungsareal': 'Zone d\\'incinération des déchets',\n",
    "    'Spitalareal': 'Zone d\\'hôpital',\n",
    "    'Öffentliches Parkareal': 'Zone de parc public',\n",
    "    'Messeareal': 'Zone d\\'exposition',\n",
    "    'Massnahmenvollzugsanstaltsareal': 'Zone d\\'établissement de traitement',\n",
    "    'Kiesabbauareal': 'Zone d\\'extraction de gravier',\n",
    "    'Steinbruchareal': 'Zone de carrière',\n",
    "    'Klosterareal': 'Zone de monastère',\n",
    "    'Deponieareal': 'Zone de décharge',\n",
    "    'Antennenareal': 'Zone d\\'antennes',\n",
    "    'Lehmabbauareal': 'Zone d\\'extraction d\\'argile'\n",
    "}\n",
    "\n",
    "land_use_en = {\n",
    "    'Baumschule': 'Nursery',\n",
    "    'Friedhof': 'Cemetery',\n",
    "    'Schul- und Hochschulareal': 'School and University Area',\n",
    "    'Wald nicht bestockt': 'Non-stocked Forest',\n",
    "    'Abwasserreinigungsareal': 'Wastewater Treatment Area',\n",
    "    'Historisches Areal': 'Historical Area',\n",
    "    'Kraftwerkareal': 'Power Plant Area',\n",
    "    'Schrebergartenareal': 'Allotment Garden Area',\n",
    "    'Truppenübungsplatz': 'Military Training Ground',\n",
    "    'Unterwerkareal': 'Substation Area',\n",
    "    'Kehrichtverbrennungsareal': 'Waste Incineration Area',\n",
    "    'Spitalareal': 'Hospital Area',\n",
    "    'Öffentliches Parkareal': 'Public Park Area',\n",
    "    'Messeareal': 'Exhibition Area',\n",
    "    'Massnahmenvollzugsanstaltsareal': 'Correctional Facility Area',\n",
    "    'Kiesabbauareal': 'Gravel Extraction Area',\n",
    "    'Steinbruchareal': 'Quarry Area',\n",
    "    'Klosterareal': 'Monastery Area',\n",
    "    'Deponieareal': 'Landfill Area',\n",
    "    'Antennenareal': 'Antenna Area',\n",
    "    'Lehmabbauareal': 'Clay Extraction Area'\n",
    "}\n",
    "\n",
    "# land_uses_grouped:\n",
    "# outdoor non technical use:\n",
    "lu_non_tech = ['Friedhof', 'Hitorisches Areal', 'Schrebergartenareal', 'Öffentliches Parkareal', 'Messeareal', 'Klosterareal',  'Wald nicht bestockt']\n",
    "\n",
    "# technical-extraction-incineration\n",
    "lu_extraction = ['Kiesabbauareal', 'Steinbruchareal',  'Lehmabbauareal',]\n",
    "\n",
    "# waste-water-treatment-powere\n",
    "lu_technical = ['Kehrichtverbrennungsareal', 'Deponieareal', 'Deponieareal', 'Abwasserreinigungsareal','Unterwerkareal', 'Antennenareal']\n",
    "\n",
    "# services:\n",
    "lu_serives = ['Massnahmenvollzugsanstaltsareal', 'Schul- und Hochschulareal', 'Spitalareal']"
   ]
  },
  {
   "cell_type": "code",
   "execution_count": 22,
   "id": "78e2c3ef-3f33-4ba2-af29-cad7c2358e25",
   "metadata": {
    "editable": true,
    "slideshow": {
     "slide_type": ""
    },
    "tags": [
     "remove-input"
    ]
   },
   "outputs": [
    {
     "data": {
      "text/html": [
       "<div>\n",
       "<style scoped>\n",
       "    .dataframe tbody tr th:only-of-type {\n",
       "        vertical-align: middle;\n",
       "    }\n",
       "\n",
       "    .dataframe tbody tr th {\n",
       "        vertical-align: top;\n",
       "    }\n",
       "\n",
       "    .dataframe thead th {\n",
       "        text-align: right;\n",
       "    }\n",
       "</style>\n",
       "<table border=\"1\" class=\"dataframe\">\n",
       "  <thead>\n",
       "    <tr style=\"text-align: right;\">\n",
       "      <th></th>\n",
       "      <th>slug</th>\n",
       "      <th>attribute</th>\n",
       "      <th>attribute_type</th>\n",
       "      <th>area</th>\n",
       "      <th>dry</th>\n",
       "      <th>scale</th>\n",
       "    </tr>\n",
       "  </thead>\n",
       "  <tbody>\n",
       "    <tr>\n",
       "      <th>685</th>\n",
       "      <td>parc-des-pierrettes</td>\n",
       "      <td>Abwasserreinigungsareal</td>\n",
       "      <td>land-use</td>\n",
       "      <td>49488</td>\n",
       "      <td>3832559</td>\n",
       "      <td>0.012913</td>\n",
       "    </tr>\n",
       "    <tr>\n",
       "      <th>686</th>\n",
       "      <td>parc-des-pierrettes</td>\n",
       "      <td>Friedhof</td>\n",
       "      <td>land-use</td>\n",
       "      <td>11325</td>\n",
       "      <td>3832559</td>\n",
       "      <td>0.002955</td>\n",
       "    </tr>\n",
       "    <tr>\n",
       "      <th>687</th>\n",
       "      <td>parc-des-pierrettes</td>\n",
       "      <td>Oeffentliches Parkareal</td>\n",
       "      <td>land-use</td>\n",
       "      <td>175591</td>\n",
       "      <td>3832559</td>\n",
       "      <td>0.045816</td>\n",
       "    </tr>\n",
       "    <tr>\n",
       "      <th>688</th>\n",
       "      <td>parc-des-pierrettes</td>\n",
       "      <td>Schrebergartenareal</td>\n",
       "      <td>land-use</td>\n",
       "      <td>17306</td>\n",
       "      <td>3832559</td>\n",
       "      <td>0.004516</td>\n",
       "    </tr>\n",
       "    <tr>\n",
       "      <th>689</th>\n",
       "      <td>parc-des-pierrettes</td>\n",
       "      <td>Schul- und Hochschulareal</td>\n",
       "      <td>land-use</td>\n",
       "      <td>1189161</td>\n",
       "      <td>3832559</td>\n",
       "      <td>0.310279</td>\n",
       "    </tr>\n",
       "  </tbody>\n",
       "</table>\n",
       "</div>"
      ],
      "text/plain": [
       "                    slug                  attribute attribute_type     area  \\\n",
       "685  parc-des-pierrettes    Abwasserreinigungsareal       land-use    49488   \n",
       "686  parc-des-pierrettes                   Friedhof       land-use    11325   \n",
       "687  parc-des-pierrettes    Oeffentliches Parkareal       land-use   175591   \n",
       "688  parc-des-pierrettes        Schrebergartenareal       land-use    17306   \n",
       "689  parc-des-pierrettes  Schul- und Hochschulareal       land-use  1189161   \n",
       "\n",
       "         dry     scale  \n",
       "685  3832559  0.012913  \n",
       "686  3832559  0.002955  \n",
       "687  3832559  0.045816  \n",
       "688  3832559  0.004516  \n",
       "689  3832559  0.310279  "
      ]
     },
     "execution_count": 22,
     "metadata": {},
     "output_type": "execute_result"
    }
   ],
   "source": [
    "land_use[land_use.slug == \"parc-des-pierrettes\"]"
   ]
  },
  {
   "attachments": {},
   "cell_type": "markdown",
   "id": "390b8c8e-f77c-4ea2-b942-bcc49b5923bd",
   "metadata": {
    "editable": true,
    "slideshow": {
     "slide_type": ""
    },
    "tags": []
   },
   "source": [
    "#### Streets\n",
    "\n",
    "Streets attributes:"
   ]
  },
  {
   "cell_type": "code",
   "execution_count": 23,
   "id": "19641f2c-e181-4530-a144-6d280a050fd7",
   "metadata": {
    "editable": true,
    "slideshow": {
     "slide_type": ""
    },
    "tags": [
     "remove-input"
    ]
   },
   "outputs": [
    {
     "data": {
      "text/plain": [
       "array(['Autostr', 'Fahrstraes', 'Fussweg', 'HauptStrAB6', 'VerbindStr4',\n",
       "       'NebenStr3', 'VerbindStr6', 'Autobahn', 'HauptStrAB4', 'NebenStr6',\n",
       "       'Autob_Ri'], dtype=object)"
      ]
     },
     "execution_count": 23,
     "metadata": {},
     "output_type": "execute_result"
    }
   ],
   "source": [
    "streets.attribute.unique()"
   ]
  },
  {
   "cell_type": "markdown",
   "id": "62a4e8da-ada9-40d7-aae2-37fc406fc259",
   "metadata": {
    "editable": true,
    "slideshow": {
     "slide_type": ""
    },
    "tags": []
   },
   "source": [
    "Streets: translations and groups\n",
    "\n",
    "```python\n",
    "streets_fr = {\n",
    "    'Autostr': 'autoroute',\n",
    "    'NebenStr3': 'route secondaire 3',\n",
    "    'NebenStr6': 'route secondaire 6',\n",
    "    'HauptStrAB6': 'route principale 6',\n",
    "    'HauptStrAB4': 'route principale 4',\n",
    "    'Fahrstraes': 'chemin carrossable',\n",
    "    'Fussweg': 'chemin pédestre',\n",
    "    'Autobahn': 'autoroute',\n",
    "    'Autob_Ri': 'autoroute',\n",
    "    'VerbindStr4': 'route de liason 4',\n",
    "    'VerbindStr6': 'route de liason 6',   \n",
    "}\n",
    "\n",
    "streets_en = {\n",
    "    'Autostr': 'freeway',\n",
    "    'NebenStr3': 'surface streets 3',\n",
    "    'NebenStr6': 'surface streets 3 6',\n",
    "    'HauptStrAB6': 'inter regional 6',\n",
    "    'HauptStrAB4': 'inter regional 4',\n",
    "    'Fahrstraes': 'bridle path',\n",
    "    'Fussweg': 'pedestrian trail',\n",
    "    'Autobahn': 'freeway',\n",
    "    'Autob_Ri': 'freeway',\n",
    "    'VerbindStr4': 'intra regional 4',\n",
    "    'VerbindStr6': 'intra regional 6',   \n",
    "}\n",
    "\n",
    "```\n",
    "\n",
    "The streets at one survey location:"
   ]
  },
  {
   "cell_type": "code",
   "execution_count": 24,
   "id": "4246df70-9873-4d6b-a669-e09c9d12defa",
   "metadata": {
    "editable": true,
    "slideshow": {
     "slide_type": ""
    },
    "tags": [
     "remove-input"
    ]
   },
   "outputs": [],
   "source": [
    "streets_fr = {\n",
    "    'Autostr': 'autoroute',\n",
    "    'NebenStr3': 'route secondaire 3',\n",
    "    'NebenStr6': 'route secondaire 6',\n",
    "    'HauptStrAB6': 'route principale 6',\n",
    "    'HauptStrAB4': 'route principale 4',\n",
    "    'Fahrstraes': 'chemin carrossable',\n",
    "    'Fussweg': 'chemin pédestre',\n",
    "    'Autobahn': 'autoroute',\n",
    "    'Autob_Ri': 'autoroute',\n",
    "    'VerbindStr4': 'route de liason 4',\n",
    "    'VerbindStr6': 'route de liason 6',   \n",
    "}\n",
    "\n",
    "streets_en = {\n",
    "    'Autostr': 'freeway',\n",
    "    'NebenStr3': 'surface streets 3',\n",
    "    'NebenStr6': 'surface streets 3 6',\n",
    "    'HauptStrAB6': 'inter regional 6',\n",
    "    'HauptStrAB4': 'inter regional 4',\n",
    "    'Fahrstraes': 'bridle path',\n",
    "    'Fussweg': 'pedestrian trail',\n",
    "    'Autobahn': 'freeway',\n",
    "    'Autob_Ri': 'freeway',\n",
    "    'VerbindStr4': 'intra regional 4',\n",
    "    'VerbindStr6': 'intra regional 6',   \n",
    "}\n",
    "\n",
    "str_surface = ['NebenStr3', 'NebenStr6']\n",
    "str_ped_br = ['Fahrstraes', 'Fussweg']\n",
    "str_main = [ 'HauptStrAB6', 'VerbindStr4','VerbindStr6', 'HauptStrAB4', 'NebenStr6']\n",
    "str_auto = ['Autobahn', 'Autostr', 'Autob_Ri']"
   ]
  },
  {
   "cell_type": "code",
   "execution_count": 25,
   "id": "c819ea47-c43b-4f08-ad07-b2f23a6dd6de",
   "metadata": {
    "editable": true,
    "slideshow": {
     "slide_type": ""
    },
    "tags": [
     "remove-input"
    ]
   },
   "outputs": [
    {
     "data": {
      "text/html": [
       "<div>\n",
       "<style scoped>\n",
       "    .dataframe tbody tr th:only-of-type {\n",
       "        vertical-align: middle;\n",
       "    }\n",
       "\n",
       "    .dataframe tbody tr th {\n",
       "        vertical-align: top;\n",
       "    }\n",
       "\n",
       "    .dataframe thead th {\n",
       "        text-align: right;\n",
       "    }\n",
       "</style>\n",
       "<table border=\"1\" class=\"dataframe\">\n",
       "  <thead>\n",
       "    <tr style=\"text-align: right;\">\n",
       "      <th></th>\n",
       "      <th>slug</th>\n",
       "      <th>attribute_type</th>\n",
       "      <th>attribute</th>\n",
       "      <th>length</th>\n",
       "    </tr>\n",
       "  </thead>\n",
       "  <tbody>\n",
       "    <tr>\n",
       "      <th>638</th>\n",
       "      <td>parc-des-pierrettes</td>\n",
       "      <td>streets</td>\n",
       "      <td>Autobahn</td>\n",
       "      <td>1685</td>\n",
       "    </tr>\n",
       "    <tr>\n",
       "      <th>639</th>\n",
       "      <td>parc-des-pierrettes</td>\n",
       "      <td>streets</td>\n",
       "      <td>Fahrstraes</td>\n",
       "      <td>1046</td>\n",
       "    </tr>\n",
       "    <tr>\n",
       "      <th>640</th>\n",
       "      <td>parc-des-pierrettes</td>\n",
       "      <td>streets</td>\n",
       "      <td>Fussweg</td>\n",
       "      <td>3257</td>\n",
       "    </tr>\n",
       "    <tr>\n",
       "      <th>641</th>\n",
       "      <td>parc-des-pierrettes</td>\n",
       "      <td>streets</td>\n",
       "      <td>HauptStrAB6</td>\n",
       "      <td>2918</td>\n",
       "    </tr>\n",
       "    <tr>\n",
       "      <th>642</th>\n",
       "      <td>parc-des-pierrettes</td>\n",
       "      <td>streets</td>\n",
       "      <td>NebenStr3</td>\n",
       "      <td>2850</td>\n",
       "    </tr>\n",
       "    <tr>\n",
       "      <th>643</th>\n",
       "      <td>parc-des-pierrettes</td>\n",
       "      <td>streets</td>\n",
       "      <td>VerbindStr4</td>\n",
       "      <td>67</td>\n",
       "    </tr>\n",
       "    <tr>\n",
       "      <th>644</th>\n",
       "      <td>parc-des-pierrettes</td>\n",
       "      <td>streets</td>\n",
       "      <td>VerbindStr6</td>\n",
       "      <td>2864</td>\n",
       "    </tr>\n",
       "  </tbody>\n",
       "</table>\n",
       "</div>"
      ],
      "text/plain": [
       "                    slug attribute_type    attribute  length\n",
       "638  parc-des-pierrettes        streets     Autobahn    1685\n",
       "639  parc-des-pierrettes        streets   Fahrstraes    1046\n",
       "640  parc-des-pierrettes        streets      Fussweg    3257\n",
       "641  parc-des-pierrettes        streets  HauptStrAB6    2918\n",
       "642  parc-des-pierrettes        streets    NebenStr3    2850\n",
       "643  parc-des-pierrettes        streets  VerbindStr4      67\n",
       "644  parc-des-pierrettes        streets  VerbindStr6    2864"
      ]
     },
     "execution_count": 25,
     "metadata": {},
     "output_type": "execute_result"
    }
   ],
   "source": [
    "streets[streets.slug == \"parc-des-pierrettes\"]"
   ]
  },
  {
   "cell_type": "markdown",
   "id": "8023149a-8443-46f6-86a8-8ceb9be3957d",
   "metadata": {
    "editable": true,
    "slideshow": {
     "slide_type": ""
    },
    "tags": []
   },
   "source": [
    "## Rivers: intersection, size and class\n",
    "\n",
    "This requires the 1'500 m buffer created at the begininng and the rivers layer and the lakes layer.\n",
    "\n",
    "### intersection, size and class\n",
    "1. Create a points layer of the intersection of rivers to lakes\n",
    "   * Keep only points that are labeled as river (fluss, fluss_u)\n",
    "   * Use the attribute table to select the points\n",
    "2. Overlay the 1 500 m buffer on the new layer and collect all the intersections within each buffer\n",
    "   * export to .csv\n",
    "3. Check for intersections that do not have lake name\n",
    "   * not all lakes and rivers have names in the layer\n",
    "   * find the correct name for the lake and add it to the record\n",
    "   * replace river names with nan value with \"no name\"\n",
    "\n",
    "### distance to intersection\n",
    "\n",
    "__Note:__ the intersection points layer needs to be available\n",
    "\n",
    "1. Using the `hub lines` tool in QGIS draw lines from survey location to intersect location\n",
    "   * Limit the distance to the radius of the buffer\n",
    "   * join on the slug field in both layers\n",
    "   * eliminate duplicates\n",
    "   * calculate the length of the line with `$length` in field calculator of the attribute table\n",
    "   * export to .csv\n",
    "  \n",
    "2. Identify locations (slugs) that are missing either the river_name or lake\n",
    "   * use the previous results (intersection, size and class) to fill in the missing values\n",
    "   * check that slugs not in the distance matrix are truly without intersections \n"
   ]
  },
  {
   "cell_type": "code",
   "execution_count": 26,
   "id": "cbf3d05b-4fb5-402e-838b-0de866c56167",
   "metadata": {
    "editable": true,
    "slideshow": {
     "slide_type": ""
    },
    "tags": [
     "remove-input"
    ]
   },
   "outputs": [
    {
     "data": {
      "text/html": [
       "<div>\n",
       "<style scoped>\n",
       "    .dataframe tbody tr th:only-of-type {\n",
       "        vertical-align: middle;\n",
       "    }\n",
       "\n",
       "    .dataframe tbody tr th {\n",
       "        vertical-align: top;\n",
       "    }\n",
       "\n",
       "    .dataframe thead th {\n",
       "        text-align: right;\n",
       "    }\n",
       "</style>\n",
       "<table border=\"1\" class=\"dataframe\">\n",
       "  <thead>\n",
       "    <tr style=\"text-align: right;\">\n",
       "      <th></th>\n",
       "      <th>slug</th>\n",
       "      <th>lake</th>\n",
       "      <th>river_name</th>\n",
       "      <th>size</th>\n",
       "      <th>class</th>\n",
       "      <th>distance</th>\n",
       "      <th>attribute_type</th>\n",
       "    </tr>\n",
       "  </thead>\n",
       "  <tbody>\n",
       "    <tr>\n",
       "      <th>72</th>\n",
       "      <td>parc-des-pierrettes</td>\n",
       "      <td>Le Léman</td>\n",
       "      <td>La Mèbre</td>\n",
       "      <td>8</td>\n",
       "      <td>8</td>\n",
       "      <td>333</td>\n",
       "      <td>river intersection</td>\n",
       "    </tr>\n",
       "  </tbody>\n",
       "</table>\n",
       "</div>"
      ],
      "text/plain": [
       "                   slug      lake river_name  size  class  distance  \\\n",
       "72  parc-des-pierrettes  Le Léman   La Mèbre     8      8       333   \n",
       "\n",
       "        attribute_type  \n",
       "72  river intersection  "
      ]
     },
     "execution_count": 26,
     "metadata": {},
     "output_type": "execute_result"
    }
   ],
   "source": [
    "river_intersect_lakes[river_intersect_lakes.slug == \"parc-des-pierrettes\"]"
   ]
  },
  {
   "cell_type": "code",
   "execution_count": 27,
   "id": "54fba949-faaf-45c5-a4b7-f0111a5c8872",
   "metadata": {
    "editable": true,
    "slideshow": {
     "slide_type": ""
    },
    "tags": [
     "remove-input"
    ]
   },
   "outputs": [
    {
     "name": "stdout",
     "output_type": "stream",
     "text": [
      "Author: hammerdirt-analyst\n",
      "\n",
      "conda environment: cantonal_report\n",
      "\n",
      "geopandas : 0.14.4\n",
      "matplotlib: 3.8.4\n",
      "pandas    : 2.2.2\n",
      "\n"
     ]
    }
   ],
   "source": [
    "%watermark -a hammerdirt-analyst -co --iversions"
   ]
  },
  {
   "cell_type": "code",
   "execution_count": null,
   "id": "6f444bc4-d773-4d87-8b8e-540b98e4e131",
   "metadata": {
    "editable": true,
    "slideshow": {
     "slide_type": ""
    },
    "tags": []
   },
   "outputs": [],
   "source": []
  },
  {
   "cell_type": "code",
   "execution_count": null,
   "id": "917a77f2-1e41-4294-97b7-085f3c03a169",
   "metadata": {
    "editable": true,
    "slideshow": {
     "slide_type": ""
    },
    "tags": []
   },
   "outputs": [],
   "source": []
  },
  {
   "cell_type": "code",
   "execution_count": null,
   "id": "76e05fc9-e7e4-4c7d-a9c8-e69a3df255ff",
   "metadata": {
    "editable": true,
    "slideshow": {
     "slide_type": ""
    },
    "tags": []
   },
   "outputs": [],
   "source": []
  },
  {
   "cell_type": "code",
   "execution_count": null,
   "id": "8185781b-9a61-4be9-a462-d2bb70c107e8",
   "metadata": {
    "editable": true,
    "slideshow": {
     "slide_type": ""
    },
    "tags": []
   },
   "outputs": [],
   "source": []
  }
 ],
 "metadata": {
  "kernelspec": {
   "display_name": "Python 3 (ipykernel)",
   "language": "python",
   "name": "python3"
  },
  "language_info": {
   "codemirror_mode": {
    "name": "ipython",
    "version": 3
   },
   "file_extension": ".py",
   "mimetype": "text/x-python",
   "name": "python",
   "nbconvert_exporter": "python",
   "pygments_lexer": "ipython3",
   "version": "3.9.19"
  }
 },
 "nbformat": 4,
 "nbformat_minor": 5
}