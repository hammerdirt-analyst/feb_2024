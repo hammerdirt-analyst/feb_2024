{
 "cells": [
  {
   "cell_type": "code",
   "execution_count": 1,
   "id": "64c16819-72da-4b47-a3aa-988d3f5a8203",
   "metadata": {
    "editable": true,
    "slideshow": {
     "slide_type": ""
    },
    "tags": [
     "remove-input"
    ]
   },
   "outputs": [],
   "source": [
    "%load_ext watermark\n",
    "import pandas as pd\n",
    "import session_config\n",
    "import userdisplay\n",
    "\n",
    "import pandas as pd\n",
    "import matplotlib.pyplot as plt\n",
    "import matplotlib.patches as mpatches\n",
    "\n",
    "import geopandas as gpd\n",
    "from shapely.geometry import box\n",
    "from shapely.geometry import Point\n",
    "\n",
    "from matplotlib.lines import Line2D\n",
    "from shapely.ops import unary_union\n",
    "\n",
    "\n",
    "from myst_nb import glue"
   ]
  },
  {
   "cell_type": "code",
   "execution_count": 2,
   "id": "7c242e95-6a6d-47e5-8c55-ce456aaa4b89",
   "metadata": {
    "editable": true,
    "slideshow": {
     "slide_type": ""
    },
    "tags": [
     "remove-input"
    ]
   },
   "outputs": [],
   "source": [
    "def a_point_buffer(this_location: pd.Series, buffer_radius: int = 1500, coordinate_crs: str = 'epsg:4326', to_crs: str = \"epsg:2056\"):\n",
    "    # create a point, a buffer and buffer bounds for one location\n",
    "    this_geometry = [Point(this_location.longitude, this_location.latitude)]\n",
    "    this_shape = gpd.GeoDataFrame(this_location, geometry=this_geometry, crs=coordinate_crs)\n",
    "    this_shape = this_shape.to_crs(to_crs)\n",
    "\n",
    "    this_buffer = gpd.GeoDataFrame(geometry=this_shape.buffer(1500), crs=to_crs)\n",
    "    location_buffer = this_buffer.dissolve()\n",
    "    return this_shape, location_buffer, location_buffer.total_bounds\n",
    "\n",
    "\n",
    "def location_geo_attributes(bounds, buffer, shape_file, objcolumn: str = 'OBJVAL', objval: str ='land-cover', buffer_name: str = None):\n",
    "    minx, miny, maxx, maxy = bounds\n",
    "    landcover = gpd.read_file(shape_file, bbox=(minx, miny, maxx, maxy))\n",
    "    landcover = landcover.drop_duplicates()\n",
    "    landcover = gpd.overlay(landcover, buffer, how='intersection', keep_geom_type=True)\n",
    "    landcover.rename(columns={objcolumn:objval}, inplace=True)\n",
    "    \n",
    "    landcover['buffer-name'] = buffer_name\n",
    "    return landcover[['buffer-name', objval, 'geometry']], landcover['land-cover'].unique()\n",
    "\n",
    "def assign_colors_to_polygons(buffer_contents: gpd.GeoDataFrame, colors: dict = None, objval: str = None):\n",
    "    buffer_contents['color'] = buffer_contents[objval].map(colors)\n",
    "    return buffer_contents\n",
    "    \n",
    "def compute_landuse_percent_of_buffer(buffer_contents, buffer_area):\n",
    "\n",
    "    land_covers = buffer_contents['land-cover'].unique()\n",
    "\n",
    "    if 'Stausee' in land_covers:\n",
    "        \n",
    "        if 'See' in land_covers:\n",
    "            see_stausee_gdf = buffer_contents[buffer_contents['land-cover'].isin(['See', 'Stausee'])]\n",
    "            combined_geometry = unary_union(see_stausee_gdf['geometry'])\n",
    "            new_row = {\n",
    "                'buffer-name': buffer_contents['buffer-name'].unique()[0],\n",
    "                'land-cover': 'See',\n",
    "                'geometry': combined_geometry\n",
    "            }\n",
    "            buffer_contents = buffer_contents[~buffer_contents['land-cover'].isin(['See', 'Stausee'])]\n",
    "            \n",
    "            new_gdf = gpd.GeoDataFrame([new_row], columns=buffer_contents.columns, crs=buffer_contents.crs)\n",
    "\n",
    "            # Concatenate the original GeoDataFrame with the new GeoDataFrame\n",
    "            buffer_contents = pd.concat([buffer_contents, new_gdf], ignore_index=True)\n",
    "            \n",
    "        else:\n",
    "            see_stausee_gdf = buffer_contents[buffer_contents['land-cover'].isin(['Stausee'])]\n",
    "            a_geometry = unary_union(see_stausee_gdf['geometry'])\n",
    "            new_row = {\n",
    "                'buffer-name': buffer_contents['buffer-name'].unique()[0],\n",
    "                'land-cover': 'See',\n",
    "                'geometry': a_geometry\n",
    "            }\n",
    "            buffer_contents = buffer_contents[~buffer_contents['land-cover'].isin(['See', 'Stausee'])]\n",
    "            \n",
    "            new_gdf = gpd.GeoDataFrame([new_row], columns=buffer_contents.columns, crs=buffer_contents.crs)\n",
    "\n",
    "            # Concatenate the original GeoDataFrame with the new GeoDataFrame\n",
    "            buffer_contents = pd.concat([buffer_contents, new_gdf], ignore_index=True)\n",
    "            \n",
    "\n",
    "    if 'See' in buffer_contents['land-cover'].unique():\n",
    "        water_surface = buffer_contents.loc[buffer_contents['land-cover'] == 'See', 'geometry'].geometry.area.values[0]\n",
    "        buffer_contents['buffer-area-dry'] = buffer_area - water_surface\n",
    "        buffer_contents['area_m2'] = buffer_contents.geometry.area\n",
    "        buffer_contents['buffer-area-dry'] = buffer_area - water_surface\n",
    "        buffer_contents['rate'] = buffer_contents.area_m2/buffer_contents['buffer-area-dry']\n",
    "\n",
    "    else:\n",
    "        buffer_contents['area_m2'] = buffer_contents.geometry.area\n",
    "        buffer_contents['buffer-area-dry'] = buffer_area\n",
    "        buffer_contents['rate'] = buffer_contents.area_m2/buffer_contents['buffer-area-dry']    \n",
    "    return buffer_contents\n",
    "\n",
    "\n",
    "# # Assuming your GeoDataFrame is named gdf\n",
    "# # Filter out 'See' and 'Stausee' rows\n",
    "# see_stausee_gdf = gdf[gdf['land-cover'].isin(['See', 'Stausee'])]\n",
    "\n",
    "# # Combine the geometries\n",
    "# combined_geometry = unary_union(see_stausee_gdf['geometry'])\n",
    "\n",
    "# # Create a new row with the combined geometry\n",
    "\n",
    "\n",
    "# # Drop the original 'See' and 'Stausee' rows\n",
    "# gdf = gdf[~gdf['land-cover'].isin(['See', 'Stausee'])]\n",
    "\n",
    "# # Append the new combined row\n",
    "# gdf = gdf.append(new_row, ignore_index=True)\n",
    "\n",
    "# # Calculate the area of the new combined geometry\n",
    "# gdf['area'] = gdf['geometry'].area\n",
    "\n",
    "\n",
    "def compute_undefined_sections_of_buffer(buffer, buffer_contents, objval: str = 'land-cover', buffer_name: str = 'None'):\n",
    "    undefined = buffer.geometry.iloc[0]\n",
    "    \n",
    "    for aval in buffer_contents.geometry:\n",
    "        undefined = undefined.difference(aval)\n",
    "    args = {\n",
    "        'geometry':[undefined],\n",
    "        objval : ['undefined'],\n",
    "        'buffer-name':[ buffer_name]\n",
    "    }\n",
    "    undef = gpd.GeoDataFrame(args, crs=buffer.crs)\n",
    "\n",
    "    return undef"
   ]
  },
  {
   "cell_type": "code",
   "execution_count": 3,
   "id": "4c212188-86b5-4adc-89b0-4d2b4e880f35",
   "metadata": {
    "editable": true,
    "slideshow": {
     "slide_type": ""
    },
    "tags": [
     "remove-input"
    ]
   },
   "outputs": [],
   "source": [
    "gpd.options.io_engine = \"pyogrio\"\n",
    "\n",
    "data = session_config.collect_survey_data()\n",
    "beaches = pd.read_csv('data/end_process/beaches.csv').set_index('slug')\n",
    "locations = beaches.index\n",
    "\n",
    "river_beaches = beaches[beaches.feature_type == 'r'].copy()\n",
    "\n",
    "river_locations = river_beaches.index\n",
    "\n",
    "lake_beaches = beaches[beaches.feature_type == 'l'].copy()\n",
    "lake_locations = lake_beaches.index\n",
    "\n",
    "locations_and_coordinates = beaches.loc[locations, ['latitude', 'longitude', 'feature_type']]\n",
    "coordinate_crs = 'epsg:4326'\n",
    "to_crs = 'epsg:3857'\n",
    "not_done = [x for x in beaches.index if x not in locations_and_coordinates.index]\n",
    "\n",
    "\n",
    "land_use_colors = {\n",
    "    'Wald': 'olivedrab',\n",
    "    'Fels': 'gray',\n",
    "    'Geroell': 'gray',\n",
    "    'Gletscher': 'gray',\n",
    "    'Stausee': 'blue',\n",
    "    'See': 'blue',\n",
    "    'Reben': 'seagreen',\n",
    "    'Obstanlage': 'yellowgreen',\n",
    "    'Siedl': 'slategray',\n",
    "    'Sumpf': 'yellow',\n",
    "    'undefined': 'khaki'\n",
    "}"
   ]
  },
  {
   "cell_type": "code",
   "execution_count": 4,
   "id": "dc49b22a-f8af-4fd0-aaa3-aea4b7c01e16",
   "metadata": {
    "editable": true,
    "slideshow": {
     "slide_type": ""
    },
    "tags": []
   },
   "outputs": [],
   "source": [
    "\n",
    "\n",
    "land_uses_l = []\n",
    "for a_location in lake_locations:\n",
    "    this_location = locations_and_coordinates.loc[[a_location]].copy()\n",
    "    this_point, abuffer, bufferbounds = a_point_buffer(this_location)\n",
    "    buffer_content_i, names = location_geo_attributes(bufferbounds, abuffer, 'data/ignorethis/shapes/landcover.shp', buffer_name=a_location)\n",
    "    \n",
    "    # identify the undefined areas\n",
    "    combined_polygon = unary_union(buffer_content_i.geometry)\n",
    "    combined_Pn = gpd.GeoDataFrame({'geometry': [combined_polygon]}, crs=buffer_content_i.crs)\n",
    "    undefined = compute_undefined_sections_of_buffer(abuffer,combined_Pn, buffer_name=a_location)\n",
    "    \n",
    "    # combine the known land cover with the undefined\n",
    "    buffer_content_i = pd.concat([buffer_content_i, undefined])\n",
    "    \n",
    "    args = dict(objcolumn='OBJEKTART', objval='land-cover', buffer_name=a_location)\n",
    "    nz, _ = location_geo_attributes(bufferbounds, abuffer, 'data/ignorethis/shapes/nutuzungsareal.shp', **args)\n",
    "    nz_comb = unary_union(nz.geometry)\n",
    "    nz_comb = gpd.GeoDataFrame([{'geometry': nz_comb, 'buffer-name':a_location, 'land-cover': 'public-services' }], crs=buffer_content_i.crs)\n",
    "    \n",
    "    \n",
    "    fz,_ = location_geo_attributes(bufferbounds, abuffer,'data/ignorethis/shapes/freizeit.shp', **args)\n",
    "    fz_comb = unary_union(fz.geometry)\n",
    "    fz_comb = gpd.GeoDataFrame([{'geometry': fz_comb, 'buffer-name':a_location, 'land-cover': 'recreation' }], crs=buffer_content_i.crs)\n",
    "    q = pd.concat([buffer_content_i, nz_comb, fz_comb])\n",
    "    \n",
    "    \n",
    "    # indentify the contents of the buffer\n",
    "    minx, miny, maxx, maxy = bufferbounds\n",
    "    streets = gpd.read_file('data/ignorethis/shapes/strasse.shp',bbox=(minx, miny, maxx, maxy))\n",
    "    streets = streets.drop_duplicates()\n",
    "    streets = streets.dissolve()\n",
    "    streets = gpd.overlay(streets, abuffer, how='intersection', keep_geom_type=True)\n",
    "    \n",
    "    t = compute_landuse_percent_of_buffer(q, abuffer.geometry.area[0])\n",
    "    t = t.groupby('land-cover').rate.sum()\n",
    "    t['streets'] = streets.geometry.length[0]\n",
    "    t.drop('See', inplace=True)\n",
    "    t['location'] = a_location\n",
    "    land_uses_l.append(t)"
   ]
  },
  {
   "cell_type": "code",
   "execution_count": 5,
   "id": "0b3757b9-2de7-4be7-9865-8edd8343e15c",
   "metadata": {},
   "outputs": [
    {
     "name": "stdout",
     "output_type": "stream",
     "text": [
      "<class 'pandas.core.frame.DataFrame'>\n",
      "Index: 128 entries, rate to rate\n",
      "Data columns (total 13 columns):\n",
      " #   Column           Non-Null Count  Dtype  \n",
      "---  ------           --------------  -----  \n",
      " 0   Siedl            128 non-null    float64\n",
      " 1   Sumpf            128 non-null    float64\n",
      " 2   Wald             128 non-null    float64\n",
      " 3   public-services  128 non-null    float64\n",
      " 4   recreation       128 non-null    float64\n",
      " 5   undefined        128 non-null    float64\n",
      " 6   streets          128 non-null    float64\n",
      " 7   location         128 non-null    object \n",
      " 8   Reben            128 non-null    float64\n",
      " 9   Fels             128 non-null    float64\n",
      " 10  Stadtzentr       128 non-null    float64\n",
      " 11  Obstanlage       128 non-null    float64\n",
      " 12  Geroell          128 non-null    float64\n",
      "dtypes: float64(12), object(1)\n",
      "memory usage: 14.0+ KB\n"
     ]
    }
   ],
   "source": [
    "f = pd.DataFrame(land_uses_l).round(3)\n",
    "f.fillna(0, inplace=True)\n",
    "f.info()"
   ]
  },
  {
   "cell_type": "code",
   "execution_count": 6,
   "id": "d26c86f2-a6d1-4e91-ad7b-fb3c3a5d1431",
   "metadata": {},
   "outputs": [],
   "source": [
    "land_uses_r = []\n",
    "for a_location in river_locations:\n",
    "    this_location = locations_and_coordinates.loc[[a_location]].copy()\n",
    "    this_point, abuffer, bufferbounds = a_point_buffer(this_location)\n",
    "    buffer_content_i, names = location_geo_attributes(bufferbounds, abuffer, 'data/ignorethis/shapes/landcover.shp', buffer_name=a_location)\n",
    "    \n",
    "    # identify the undefined areas\n",
    "    combined_polygon = unary_union(buffer_content_i.geometry)\n",
    "    combined_Pn = gpd.GeoDataFrame({'geometry': [combined_polygon]}, crs=buffer_content_i.crs)\n",
    "    undefined = compute_undefined_sections_of_buffer(abuffer,combined_Pn, buffer_name=a_location)\n",
    "    \n",
    "    # combine the known land cover with the undefined\n",
    "    buffer_content_i = pd.concat([buffer_content_i, undefined])\n",
    "    \n",
    "    args = dict(objcolumn='OBJEKTART', objval='land-cover', buffer_name=a_location)\n",
    "    nz, _ = location_geo_attributes(bufferbounds, abuffer, 'data/ignorethis/shapes/nutuzungsareal.shp', **args)\n",
    "    nz_comb = unary_union(nz.geometry)\n",
    "    nz_comb = gpd.GeoDataFrame([{'geometry': nz_comb, 'buffer-name':a_location, 'land-cover': 'public-services' }], crs=buffer_content_i.crs)\n",
    "    \n",
    "    \n",
    "    fz,_ = location_geo_attributes(bufferbounds, abuffer,'data/ignorethis/shapes/freizeit.shp', **args)\n",
    "    fz_comb = unary_union(fz.geometry)\n",
    "    fz_comb = gpd.GeoDataFrame([{'geometry': fz_comb, 'buffer-name':a_location, 'land-cover': 'recreation' }], crs=buffer_content_i.crs)\n",
    "    q = pd.concat([buffer_content_i, nz_comb, fz_comb])\n",
    "    \n",
    "    \n",
    "    # indentify the contents of the buffer\n",
    "    minx, miny, maxx, maxy = bufferbounds\n",
    "    streets = gpd.read_file('data/ignorethis/shapes/strasse.shp',bbox=(minx, miny, maxx, maxy))\n",
    "    streets = streets.drop_duplicates()\n",
    "    streets = streets.dissolve()\n",
    "    streets = gpd.overlay(streets, abuffer, how='intersection', keep_geom_type=True)\n",
    "    t = compute_landuse_percent_of_buffer(q, abuffer.geometry.area[0])\n",
    "    t = t.groupby('land-cover').rate.sum()\n",
    "    t['streets'] = streets.geometry.length[0]\n",
    "    t['location'] = a_location\n",
    "    land_uses_r.append(t)"
   ]
  },
  {
   "cell_type": "code",
   "execution_count": 7,
   "id": "48f7634d-7a4d-421d-b1d4-0b341384dfc1",
   "metadata": {},
   "outputs": [],
   "source": [
    "rv = pd.DataFrame(land_uses_r).round(3)\n",
    "rv.fillna(0, inplace=True)\n",
    "rv.drop('See', axis=1, inplace=True)"
   ]
  },
  {
   "cell_type": "code",
   "execution_count": 8,
   "id": "8cf852ab-8e77-49c7-8b3c-dec4789a6800",
   "metadata": {},
   "outputs": [
    {
     "data": {
      "text/plain": [
       "Index(['buildings', 'wetlands', 'forest', 'public-services', 'recreation',\n",
       "       'undefined', 'streets', 'vineyards', 'cliffs', 'city-center',\n",
       "       'orchards', 'boulders'],\n",
       "      dtype='object', name='land-cover')"
      ]
     },
     "execution_count": 8,
     "metadata": {},
     "output_type": "execute_result"
    }
   ],
   "source": [
    "newlu = pd.concat([f,rv])\n",
    "newlu.set_index('location', inplace=True, drop=True)\n",
    "rename = {\n",
    "    'Siedl':'buildings', \n",
    "    'Sumpf':'wetlands',\n",
    "    'Wald': 'forest',\n",
    "    'Reben': 'vineyards',\n",
    "    'Fels': 'cliffs',\n",
    "    'Stadtzentr': 'city-center',\n",
    "    'Obstanlage':'orchards',\n",
    "    'Geroell' : 'boulders'\n",
    "}\n",
    "\n",
    "newlu.rename(columns=rename, inplace=True)\n",
    "newlu.columns"
   ]
  },
  {
   "cell_type": "code",
   "execution_count": 9,
   "id": "ebd90039-9148-4b58-a045-5cbf1d07979b",
   "metadata": {},
   "outputs": [],
   "source": [
    "newlu.to_csv('data/in_process/new_lu.csv', index=True)"
   ]
  },
  {
   "cell_type": "code",
   "execution_count": 10,
   "id": "1b4cf7d3-8ae3-4c4e-815f-3e0632bedd13",
   "metadata": {},
   "outputs": [
    {
     "data": {
      "text/html": [
       "<div>\n",
       "<style scoped>\n",
       "    .dataframe tbody tr th:only-of-type {\n",
       "        vertical-align: middle;\n",
       "    }\n",
       "\n",
       "    .dataframe tbody tr th {\n",
       "        vertical-align: top;\n",
       "    }\n",
       "\n",
       "    .dataframe thead th {\n",
       "        text-align: right;\n",
       "    }\n",
       "</style>\n",
       "<table border=\"1\" class=\"dataframe\">\n",
       "  <thead>\n",
       "    <tr style=\"text-align: right;\">\n",
       "      <th></th>\n",
       "      <th>location</th>\n",
       "      <th>buildings</th>\n",
       "      <th>wetlands</th>\n",
       "      <th>forest</th>\n",
       "      <th>public-services</th>\n",
       "      <th>recreation</th>\n",
       "      <th>undefined</th>\n",
       "      <th>streets</th>\n",
       "      <th>vineyards</th>\n",
       "      <th>cliffs</th>\n",
       "      <th>city-center</th>\n",
       "      <th>orchards</th>\n",
       "      <th>boulders</th>\n",
       "    </tr>\n",
       "  </thead>\n",
       "  <tbody>\n",
       "    <tr>\n",
       "      <th>0</th>\n",
       "      <td>aabach</td>\n",
       "      <td>0.223</td>\n",
       "      <td>0.108</td>\n",
       "      <td>0.372</td>\n",
       "      <td>0.008</td>\n",
       "      <td>0.011</td>\n",
       "      <td>0.298</td>\n",
       "      <td>9096.446</td>\n",
       "      <td>0.000</td>\n",
       "      <td>0.000</td>\n",
       "      <td>0.0</td>\n",
       "      <td>0.0</td>\n",
       "      <td>0.000</td>\n",
       "    </tr>\n",
       "    <tr>\n",
       "      <th>1</th>\n",
       "      <td>anarchy-beach</td>\n",
       "      <td>1.000</td>\n",
       "      <td>0.000</td>\n",
       "      <td>0.000</td>\n",
       "      <td>0.079</td>\n",
       "      <td>0.020</td>\n",
       "      <td>0.000</td>\n",
       "      <td>5526.409</td>\n",
       "      <td>0.000</td>\n",
       "      <td>0.000</td>\n",
       "      <td>0.0</td>\n",
       "      <td>0.0</td>\n",
       "      <td>0.000</td>\n",
       "    </tr>\n",
       "    <tr>\n",
       "      <th>2</th>\n",
       "      <td>arabie</td>\n",
       "      <td>0.914</td>\n",
       "      <td>0.000</td>\n",
       "      <td>0.000</td>\n",
       "      <td>0.132</td>\n",
       "      <td>0.015</td>\n",
       "      <td>0.016</td>\n",
       "      <td>17114.587</td>\n",
       "      <td>0.070</td>\n",
       "      <td>0.000</td>\n",
       "      <td>0.0</td>\n",
       "      <td>0.0</td>\n",
       "      <td>0.000</td>\n",
       "    </tr>\n",
       "    <tr>\n",
       "      <th>3</th>\n",
       "      <td>ascona-traghetto-spiaggia</td>\n",
       "      <td>0.701</td>\n",
       "      <td>0.000</td>\n",
       "      <td>0.178</td>\n",
       "      <td>0.028</td>\n",
       "      <td>0.075</td>\n",
       "      <td>0.100</td>\n",
       "      <td>12206.680</td>\n",
       "      <td>0.000</td>\n",
       "      <td>0.021</td>\n",
       "      <td>0.0</td>\n",
       "      <td>0.0</td>\n",
       "      <td>0.000</td>\n",
       "    </tr>\n",
       "    <tr>\n",
       "      <th>4</th>\n",
       "      <td>augustmutzenbergstrandweg</td>\n",
       "      <td>0.682</td>\n",
       "      <td>0.000</td>\n",
       "      <td>0.153</td>\n",
       "      <td>0.044</td>\n",
       "      <td>0.005</td>\n",
       "      <td>0.149</td>\n",
       "      <td>8185.826</td>\n",
       "      <td>0.015</td>\n",
       "      <td>0.000</td>\n",
       "      <td>0.0</td>\n",
       "      <td>0.0</td>\n",
       "      <td>0.000</td>\n",
       "    </tr>\n",
       "    <tr>\n",
       "      <th>...</th>\n",
       "      <td>...</td>\n",
       "      <td>...</td>\n",
       "      <td>...</td>\n",
       "      <td>...</td>\n",
       "      <td>...</td>\n",
       "      <td>...</td>\n",
       "      <td>...</td>\n",
       "      <td>...</td>\n",
       "      <td>...</td>\n",
       "      <td>...</td>\n",
       "      <td>...</td>\n",
       "      <td>...</td>\n",
       "      <td>...</td>\n",
       "    </tr>\n",
       "    <tr>\n",
       "      <th>220</th>\n",
       "      <td>urnaesch_urnaesch_meierr</td>\n",
       "      <td>0.074</td>\n",
       "      <td>0.000</td>\n",
       "      <td>0.199</td>\n",
       "      <td>0.002</td>\n",
       "      <td>0.000</td>\n",
       "      <td>0.727</td>\n",
       "      <td>13778.192</td>\n",
       "      <td>0.000</td>\n",
       "      <td>0.000</td>\n",
       "      <td>0.0</td>\n",
       "      <td>0.0</td>\n",
       "      <td>0.000</td>\n",
       "    </tr>\n",
       "    <tr>\n",
       "      <th>221</th>\n",
       "      <td>via-brunari-spiaggia</td>\n",
       "      <td>0.462</td>\n",
       "      <td>0.000</td>\n",
       "      <td>0.367</td>\n",
       "      <td>0.043</td>\n",
       "      <td>0.023</td>\n",
       "      <td>0.162</td>\n",
       "      <td>19550.078</td>\n",
       "      <td>0.009</td>\n",
       "      <td>0.000</td>\n",
       "      <td>0.0</td>\n",
       "      <td>0.0</td>\n",
       "      <td>0.000</td>\n",
       "    </tr>\n",
       "    <tr>\n",
       "      <th>222</th>\n",
       "      <td>via-mirasole-spiaggia</td>\n",
       "      <td>0.516</td>\n",
       "      <td>0.000</td>\n",
       "      <td>0.330</td>\n",
       "      <td>0.045</td>\n",
       "      <td>0.024</td>\n",
       "      <td>0.144</td>\n",
       "      <td>20912.391</td>\n",
       "      <td>0.011</td>\n",
       "      <td>0.000</td>\n",
       "      <td>0.0</td>\n",
       "      <td>0.0</td>\n",
       "      <td>0.000</td>\n",
       "    </tr>\n",
       "    <tr>\n",
       "      <th>223</th>\n",
       "      <td>vorderrhein_disentis_schmidn</td>\n",
       "      <td>0.169</td>\n",
       "      <td>0.000</td>\n",
       "      <td>0.458</td>\n",
       "      <td>0.019</td>\n",
       "      <td>0.009</td>\n",
       "      <td>0.322</td>\n",
       "      <td>16782.652</td>\n",
       "      <td>0.000</td>\n",
       "      <td>0.049</td>\n",
       "      <td>0.0</td>\n",
       "      <td>0.0</td>\n",
       "      <td>0.002</td>\n",
       "    </tr>\n",
       "    <tr>\n",
       "      <th>224</th>\n",
       "      <td>zulg_steffisburg_schmassmanne</td>\n",
       "      <td>0.779</td>\n",
       "      <td>0.000</td>\n",
       "      <td>0.058</td>\n",
       "      <td>0.031</td>\n",
       "      <td>0.002</td>\n",
       "      <td>0.163</td>\n",
       "      <td>17152.428</td>\n",
       "      <td>0.000</td>\n",
       "      <td>0.000</td>\n",
       "      <td>0.0</td>\n",
       "      <td>0.0</td>\n",
       "      <td>0.000</td>\n",
       "    </tr>\n",
       "  </tbody>\n",
       "</table>\n",
       "<p>225 rows × 13 columns</p>\n",
       "</div>"
      ],
      "text/plain": [
       "                          location  buildings  wetlands  forest  \\\n",
       "0                           aabach      0.223     0.108   0.372   \n",
       "1                    anarchy-beach      1.000     0.000   0.000   \n",
       "2                           arabie      0.914     0.000   0.000   \n",
       "3        ascona-traghetto-spiaggia      0.701     0.000   0.178   \n",
       "4        augustmutzenbergstrandweg      0.682     0.000   0.153   \n",
       "..                             ...        ...       ...     ...   \n",
       "220       urnaesch_urnaesch_meierr      0.074     0.000   0.199   \n",
       "221           via-brunari-spiaggia      0.462     0.000   0.367   \n",
       "222          via-mirasole-spiaggia      0.516     0.000   0.330   \n",
       "223   vorderrhein_disentis_schmidn      0.169     0.000   0.458   \n",
       "224  zulg_steffisburg_schmassmanne      0.779     0.000   0.058   \n",
       "\n",
       "     public-services  recreation  undefined    streets  vineyards  cliffs  \\\n",
       "0              0.008       0.011      0.298   9096.446      0.000   0.000   \n",
       "1              0.079       0.020      0.000   5526.409      0.000   0.000   \n",
       "2              0.132       0.015      0.016  17114.587      0.070   0.000   \n",
       "3              0.028       0.075      0.100  12206.680      0.000   0.021   \n",
       "4              0.044       0.005      0.149   8185.826      0.015   0.000   \n",
       "..               ...         ...        ...        ...        ...     ...   \n",
       "220            0.002       0.000      0.727  13778.192      0.000   0.000   \n",
       "221            0.043       0.023      0.162  19550.078      0.009   0.000   \n",
       "222            0.045       0.024      0.144  20912.391      0.011   0.000   \n",
       "223            0.019       0.009      0.322  16782.652      0.000   0.049   \n",
       "224            0.031       0.002      0.163  17152.428      0.000   0.000   \n",
       "\n",
       "     city-center  orchards  boulders  \n",
       "0            0.0       0.0     0.000  \n",
       "1            0.0       0.0     0.000  \n",
       "2            0.0       0.0     0.000  \n",
       "3            0.0       0.0     0.000  \n",
       "4            0.0       0.0     0.000  \n",
       "..           ...       ...       ...  \n",
       "220          0.0       0.0     0.000  \n",
       "221          0.0       0.0     0.000  \n",
       "222          0.0       0.0     0.000  \n",
       "223          0.0       0.0     0.002  \n",
       "224          0.0       0.0     0.000  \n",
       "\n",
       "[225 rows x 13 columns]"
      ]
     },
     "execution_count": 10,
     "metadata": {},
     "output_type": "execute_result"
    }
   ],
   "source": [
    "pd.read_csv('data/in_process/new_lu.csv')"
   ]
  },
  {
   "cell_type": "code",
   "execution_count": 11,
   "id": "6d914a59-6967-4d26-a150-498a2e389770",
   "metadata": {},
   "outputs": [],
   "source": [
    "# landuse and cover for a river or park location\n",
    "# make a buffer for a location\n",
    "a_location = lake_locations[1]\n",
    "this_location = locations_and_coordinates.loc[[a_location]].copy()\n",
    "\n",
    "this_point, abuffer, bufferbounds = a_point_buffer(this_location)\n",
    "\n",
    "# indentify the contents of the buffer    \n",
    "buffer_content_i, _ = location_geo_attributes(bufferbounds, abuffer, 'data/ignorethis/shapes/landcover.shp', buffer_name=a_location)\n",
    "\n"
   ]
  },
  {
   "cell_type": "code",
   "execution_count": 12,
   "id": "b9b0f1a2-e24c-4268-a533-ece6f438005a",
   "metadata": {},
   "outputs": [
    {
     "data": {
      "text/plain": [
       "latitude                46.996382\n",
       "longitude                7.239024\n",
       "country                        CH\n",
       "feature_type                    l\n",
       "display_feature_name         Aare\n",
       "city_slug                kallnach\n",
       "feature_name                 aare\n",
       "city                     Kallnach\n",
       "parent_boundary              aare\n",
       "canton                       Bern\n",
       "Name: mannewil, dtype: object"
      ]
     },
     "execution_count": 12,
     "metadata": {},
     "output_type": "execute_result"
    }
   ],
   "source": [
    "beaches.loc['mannewil']"
   ]
  },
  {
   "cell_type": "code",
   "execution_count": 13,
   "id": "252a043d-4ef6-42f3-8552-75f2a68a9c3f",
   "metadata": {
    "editable": true,
    "slideshow": {
     "slide_type": ""
    },
    "tags": [
     "remove-input"
    ]
   },
   "outputs": [],
   "source": [
    "\n",
    "\n",
    "# identify the undefined areas\n",
    "combined_polygon = unary_union(buffer_content_i.geometry)\n",
    "combined_Pn = gpd.GeoDataFrame({'geometry': [combined_polygon]}, crs=buffer_content_i.crs)\n",
    "undefined = compute_undefined_sections_of_buffer(abuffer,combined_Pn, buffer_name=a_location)\n",
    "\n",
    "# combine the known land cover with the undefined\n",
    "buffer_content_i = pd.concat([buffer_content_i, undefined])\n",
    "\n",
    "# assign \n",
    "buffer_content = assign_colors_to_polygons(buffer_content_i, colors=land_use_colors, objval='land-cover')\n",
    "buffer_content = compute_landuse_percent_of_buffer(buffer_content, abuffer.geometry.area[0])\n",
    "buffer_content['area_m2'] = buffer_content['area_m2'].astype(int)"
   ]
  },
  {
   "cell_type": "code",
   "execution_count": 14,
   "id": "2764bf15-4175-446b-8477-aa2cee4c2110",
   "metadata": {},
   "outputs": [
    {
     "data": {
      "text/html": [
       "<div>\n",
       "<style scoped>\n",
       "    .dataframe tbody tr th:only-of-type {\n",
       "        vertical-align: middle;\n",
       "    }\n",
       "\n",
       "    .dataframe tbody tr th {\n",
       "        vertical-align: top;\n",
       "    }\n",
       "\n",
       "    .dataframe thead th {\n",
       "        text-align: right;\n",
       "    }\n",
       "</style>\n",
       "<table border=\"1\" class=\"dataframe\">\n",
       "  <thead>\n",
       "    <tr style=\"text-align: right;\">\n",
       "      <th></th>\n",
       "      <th>buffer-name</th>\n",
       "      <th>land-cover</th>\n",
       "      <th>geometry</th>\n",
       "      <th>color</th>\n",
       "      <th>buffer-area-dry</th>\n",
       "      <th>area_m2</th>\n",
       "      <th>rate</th>\n",
       "    </tr>\n",
       "  </thead>\n",
       "  <tbody>\n",
       "    <tr>\n",
       "      <th>0</th>\n",
       "      <td>anarchy-beach</td>\n",
       "      <td>See</td>\n",
       "      <td>POLYGON ((2554545.000 1145275.000, 2554865.000...</td>\n",
       "      <td>blue</td>\n",
       "      <td>2.534951e+06</td>\n",
       "      <td>4522283</td>\n",
       "      <td>1.783973e+00</td>\n",
       "    </tr>\n",
       "    <tr>\n",
       "      <th>1</th>\n",
       "      <td>anarchy-beach</td>\n",
       "      <td>Siedl</td>\n",
       "      <td>POLYGON ((2556843.000 1143908.000, 2556795.000...</td>\n",
       "      <td>slategray</td>\n",
       "      <td>2.534951e+06</td>\n",
       "      <td>2262184</td>\n",
       "      <td>8.923979e-01</td>\n",
       "    </tr>\n",
       "    <tr>\n",
       "      <th>2</th>\n",
       "      <td>anarchy-beach</td>\n",
       "      <td>Siedl</td>\n",
       "      <td>POLYGON ((2555722.000 1145591.000, 2555380.000...</td>\n",
       "      <td>slategray</td>\n",
       "      <td>2.534951e+06</td>\n",
       "      <td>248855</td>\n",
       "      <td>9.816984e-02</td>\n",
       "    </tr>\n",
       "    <tr>\n",
       "      <th>3</th>\n",
       "      <td>anarchy-beach</td>\n",
       "      <td>Siedl</td>\n",
       "      <td>POLYGON ((2556895.000 1143855.000, 2556843.000...</td>\n",
       "      <td>slategray</td>\n",
       "      <td>2.534951e+06</td>\n",
       "      <td>23910</td>\n",
       "      <td>9.432265e-03</td>\n",
       "    </tr>\n",
       "    <tr>\n",
       "      <th>0</th>\n",
       "      <td>anarchy-beach</td>\n",
       "      <td>undefined</td>\n",
       "      <td>MULTIPOLYGON (((2557000.338 1144004.311, 25570...</td>\n",
       "      <td>khaki</td>\n",
       "      <td>2.534951e+06</td>\n",
       "      <td>0</td>\n",
       "      <td>8.626095e-15</td>\n",
       "    </tr>\n",
       "  </tbody>\n",
       "</table>\n",
       "</div>"
      ],
      "text/plain": [
       "     buffer-name land-cover  \\\n",
       "0  anarchy-beach        See   \n",
       "1  anarchy-beach      Siedl   \n",
       "2  anarchy-beach      Siedl   \n",
       "3  anarchy-beach      Siedl   \n",
       "0  anarchy-beach  undefined   \n",
       "\n",
       "                                            geometry      color  \\\n",
       "0  POLYGON ((2554545.000 1145275.000, 2554865.000...       blue   \n",
       "1  POLYGON ((2556843.000 1143908.000, 2556795.000...  slategray   \n",
       "2  POLYGON ((2555722.000 1145591.000, 2555380.000...  slategray   \n",
       "3  POLYGON ((2556895.000 1143855.000, 2556843.000...  slategray   \n",
       "0  MULTIPOLYGON (((2557000.338 1144004.311, 25570...      khaki   \n",
       "\n",
       "   buffer-area-dry  area_m2          rate  \n",
       "0     2.534951e+06  4522283  1.783973e+00  \n",
       "1     2.534951e+06  2262184  8.923979e-01  \n",
       "2     2.534951e+06   248855  9.816984e-02  \n",
       "3     2.534951e+06    23910  9.432265e-03  \n",
       "0     2.534951e+06        0  8.626095e-15  "
      ]
     },
     "execution_count": 14,
     "metadata": {},
     "output_type": "execute_result"
    }
   ],
   "source": [
    "buffer_content"
   ]
  },
  {
   "cell_type": "code",
   "execution_count": 15,
   "id": "b2eb6ab3-cb2c-40ea-b561-863679bb5335",
   "metadata": {
    "editable": true,
    "slideshow": {
     "slide_type": ""
    },
    "tags": [
     "remove-input"
    ]
   },
   "outputs": [
    {
     "data": {
      "text/html": [
       "<div>\n",
       "<style scoped>\n",
       "    .dataframe tbody tr th:only-of-type {\n",
       "        vertical-align: middle;\n",
       "    }\n",
       "\n",
       "    .dataframe tbody tr th {\n",
       "        vertical-align: top;\n",
       "    }\n",
       "\n",
       "    .dataframe thead th {\n",
       "        text-align: right;\n",
       "    }\n",
       "</style>\n",
       "<table border=\"1\" class=\"dataframe\">\n",
       "  <thead>\n",
       "    <tr style=\"text-align: right;\">\n",
       "      <th></th>\n",
       "      <th>buffer-name</th>\n",
       "      <th>land-cover</th>\n",
       "      <th>geometry</th>\n",
       "      <th>color</th>\n",
       "      <th>buffer-area-dry</th>\n",
       "      <th>area_m2</th>\n",
       "      <th>rate</th>\n",
       "    </tr>\n",
       "  </thead>\n",
       "  <tbody>\n",
       "    <tr>\n",
       "      <th>0</th>\n",
       "      <td>anarchy-beach</td>\n",
       "      <td>See</td>\n",
       "      <td>POLYGON ((2554545.000 1145275.000, 2554865.000...</td>\n",
       "      <td>blue</td>\n",
       "      <td>2.534951e+06</td>\n",
       "      <td>4.522283e+06</td>\n",
       "      <td>1.783973e+00</td>\n",
       "    </tr>\n",
       "    <tr>\n",
       "      <th>1</th>\n",
       "      <td>anarchy-beach</td>\n",
       "      <td>Siedl</td>\n",
       "      <td>POLYGON ((2556843.000 1143908.000, 2556795.000...</td>\n",
       "      <td>slategray</td>\n",
       "      <td>2.534951e+06</td>\n",
       "      <td>2.262184e+06</td>\n",
       "      <td>8.923979e-01</td>\n",
       "    </tr>\n",
       "    <tr>\n",
       "      <th>2</th>\n",
       "      <td>anarchy-beach</td>\n",
       "      <td>Siedl</td>\n",
       "      <td>POLYGON ((2555722.000 1145591.000, 2555380.000...</td>\n",
       "      <td>slategray</td>\n",
       "      <td>2.534951e+06</td>\n",
       "      <td>2.488550e+05</td>\n",
       "      <td>9.816984e-02</td>\n",
       "    </tr>\n",
       "    <tr>\n",
       "      <th>3</th>\n",
       "      <td>anarchy-beach</td>\n",
       "      <td>Siedl</td>\n",
       "      <td>POLYGON ((2556895.000 1143855.000, 2556843.000...</td>\n",
       "      <td>slategray</td>\n",
       "      <td>2.534951e+06</td>\n",
       "      <td>2.391000e+04</td>\n",
       "      <td>9.432265e-03</td>\n",
       "    </tr>\n",
       "    <tr>\n",
       "      <th>0</th>\n",
       "      <td>anarchy-beach</td>\n",
       "      <td>undefined</td>\n",
       "      <td>MULTIPOLYGON (((2557000.338 1144004.311, 25570...</td>\n",
       "      <td>khaki</td>\n",
       "      <td>2.534951e+06</td>\n",
       "      <td>0.000000e+00</td>\n",
       "      <td>8.626095e-15</td>\n",
       "    </tr>\n",
       "    <tr>\n",
       "      <th>0</th>\n",
       "      <td>anarchy-beach</td>\n",
       "      <td>public-services</td>\n",
       "      <td>MULTIPOLYGON Z (((2555485.507 1144291.188 372....</td>\n",
       "      <td>red</td>\n",
       "      <td>7.057234e+06</td>\n",
       "      <td>2.511881e+05</td>\n",
       "      <td>3.559299e-02</td>\n",
       "    </tr>\n",
       "  </tbody>\n",
       "</table>\n",
       "</div>"
      ],
      "text/plain": [
       "     buffer-name       land-cover  \\\n",
       "0  anarchy-beach              See   \n",
       "1  anarchy-beach            Siedl   \n",
       "2  anarchy-beach            Siedl   \n",
       "3  anarchy-beach            Siedl   \n",
       "0  anarchy-beach        undefined   \n",
       "0  anarchy-beach  public-services   \n",
       "\n",
       "                                            geometry      color  \\\n",
       "0  POLYGON ((2554545.000 1145275.000, 2554865.000...       blue   \n",
       "1  POLYGON ((2556843.000 1143908.000, 2556795.000...  slategray   \n",
       "2  POLYGON ((2555722.000 1145591.000, 2555380.000...  slategray   \n",
       "3  POLYGON ((2556895.000 1143855.000, 2556843.000...  slategray   \n",
       "0  MULTIPOLYGON (((2557000.338 1144004.311, 25570...      khaki   \n",
       "0  MULTIPOLYGON Z (((2555485.507 1144291.188 372....        red   \n",
       "\n",
       "   buffer-area-dry       area_m2          rate  \n",
       "0     2.534951e+06  4.522283e+06  1.783973e+00  \n",
       "1     2.534951e+06  2.262184e+06  8.923979e-01  \n",
       "2     2.534951e+06  2.488550e+05  9.816984e-02  \n",
       "3     2.534951e+06  2.391000e+04  9.432265e-03  \n",
       "0     2.534951e+06  0.000000e+00  8.626095e-15  \n",
       "0     7.057234e+06  2.511881e+05  3.559299e-02  "
      ]
     },
     "execution_count": 15,
     "metadata": {},
     "output_type": "execute_result"
    }
   ],
   "source": [
    "args = dict(objcolumn='OBJEKTART', objval='land-cover', buffer_name=a_location)\n",
    "nz, _ = location_geo_attributes(bufferbounds, abuffer, 'data/ignorethis/shapes/nutuzungsareal.shp', **args)\n",
    "nz_comb = unary_union(nz.geometry)\n",
    "nz_comb = gpd.GeoDataFrame({'geometry': [nz_comb]}, crs=buffer_content_i.crs)\n",
    "\n",
    "args = dict(objcolumn='OBJEKTART', objval='land-cover', buffer_name=a_location)\n",
    "fz,_ = location_geo_attributes(bufferbounds, abuffer,'data/ignorethis/shapes/freizeit.shp', **args)\n",
    "fz_comb = unary_union(fz.geometry)\n",
    "fz_comb = gpd.GeoDataFrame({'geometry': [fz_comb]}, crs=buffer_content_i.crs)\n",
    "\n",
    "public_service = pd.concat([nz, fz])\n",
    "ps_comb = unary_union(public_service.geometry)\n",
    "args = {\n",
    "    'geometry': [ps_comb],\n",
    "    'land-cover':['public-services'],\n",
    "    'buffer-name':[a_location],\n",
    "    'color':'red'\n",
    "}\n",
    "ps_comb = gpd.GeoDataFrame(args, crs=buffer_content_i.crs)\n",
    "ps_comb = compute_landuse_percent_of_buffer(ps_comb, abuffer.geometry.area[0])\n",
    "land_use_profile = pd.concat([buffer_content, ps_comb])\n",
    "land_use_profile"
   ]
  },
  {
   "cell_type": "code",
   "execution_count": 16,
   "id": "89628cb1-6426-4c4c-ac6a-dd83b10bb122",
   "metadata": {
    "editable": true,
    "slideshow": {
     "slide_type": ""
    },
    "tags": [
     "remove-input"
    ]
   },
   "outputs": [
    {
     "data": {
      "text/html": [
       "<style type=\"text/css\">\n",
       "#T_8b35d tr:nth-child(even) {\n",
       "  background-color: rgba(139, 69, 19, 0.08);\n",
       "}\n",
       "#T_8b35d tr:nth-child(odd) {\n",
       "  background: #FFF;\n",
       "}\n",
       "#T_8b35d tr {\n",
       "  font-size: 12px;\n",
       "}\n",
       "#T_8b35d th {\n",
       "  background-color: #FFF;\n",
       "  font-size: 12px;\n",
       "  text-align: left;\n",
       "  width: auto;\n",
       "  word-break: keep-all;\n",
       "}\n",
       "#T_8b35d td {\n",
       "  padding: 4px;\n",
       "  font-size: 12px;\n",
       "  text-align: center;\n",
       "}\n",
       "#T_8b35d caption {\n",
       "  caption-side: top;\n",
       "  font-size: 1em;\n",
       "  text-align: left;\n",
       "  margin-bottom: 10px;\n",
       "}\n",
       "</style>\n",
       "<table id=\"T_8b35d\">\n",
       "  <thead>\n",
       "    <tr>\n",
       "      <th id=\"T_8b35d_level0_col0\" class=\"col_heading level0 col0\" >buffer-name</th>\n",
       "      <th id=\"T_8b35d_level0_col1\" class=\"col_heading level0 col1\" >land-cover</th>\n",
       "      <th id=\"T_8b35d_level0_col2\" class=\"col_heading level0 col2\" >area_m2</th>\n",
       "      <th id=\"T_8b35d_level0_col3\" class=\"col_heading level0 col3\" >% of buffer</th>\n",
       "    </tr>\n",
       "  </thead>\n",
       "  <tbody>\n",
       "    <tr>\n",
       "      <td id=\"T_8b35d_row0_col0\" class=\"data row0 col0\" >anarchy-beach</td>\n",
       "      <td id=\"T_8b35d_row0_col1\" class=\"data row0 col1\" >See</td>\n",
       "      <td id=\"T_8b35d_row0_col2\" class=\"data row0 col2\" >4'522'283</td>\n",
       "      <td id=\"T_8b35d_row0_col3\" class=\"data row0 col3\" >1,78</td>\n",
       "    </tr>\n",
       "    <tr>\n",
       "      <td id=\"T_8b35d_row1_col0\" class=\"data row1 col0\" >anarchy-beach</td>\n",
       "      <td id=\"T_8b35d_row1_col1\" class=\"data row1 col1\" >Siedl</td>\n",
       "      <td id=\"T_8b35d_row1_col2\" class=\"data row1 col2\" >2'262'184</td>\n",
       "      <td id=\"T_8b35d_row1_col3\" class=\"data row1 col3\" >0,89</td>\n",
       "    </tr>\n",
       "    <tr>\n",
       "      <td id=\"T_8b35d_row2_col0\" class=\"data row2 col0\" >anarchy-beach</td>\n",
       "      <td id=\"T_8b35d_row2_col1\" class=\"data row2 col1\" >Siedl</td>\n",
       "      <td id=\"T_8b35d_row2_col2\" class=\"data row2 col2\" >248'855</td>\n",
       "      <td id=\"T_8b35d_row2_col3\" class=\"data row2 col3\" >0,10</td>\n",
       "    </tr>\n",
       "    <tr>\n",
       "      <td id=\"T_8b35d_row3_col0\" class=\"data row3 col0\" >anarchy-beach</td>\n",
       "      <td id=\"T_8b35d_row3_col1\" class=\"data row3 col1\" >Siedl</td>\n",
       "      <td id=\"T_8b35d_row3_col2\" class=\"data row3 col2\" >23'910</td>\n",
       "      <td id=\"T_8b35d_row3_col3\" class=\"data row3 col3\" >0,01</td>\n",
       "    </tr>\n",
       "    <tr>\n",
       "      <td id=\"T_8b35d_row4_col0\" class=\"data row4 col0\" >anarchy-beach</td>\n",
       "      <td id=\"T_8b35d_row4_col1\" class=\"data row4 col1\" >undefined</td>\n",
       "      <td id=\"T_8b35d_row4_col2\" class=\"data row4 col2\" >0</td>\n",
       "      <td id=\"T_8b35d_row4_col3\" class=\"data row4 col3\" >0,00</td>\n",
       "    </tr>\n",
       "    <tr>\n",
       "      <td id=\"T_8b35d_row5_col0\" class=\"data row5 col0\" >anarchy-beach</td>\n",
       "      <td id=\"T_8b35d_row5_col1\" class=\"data row5 col1\" >public-services</td>\n",
       "      <td id=\"T_8b35d_row5_col2\" class=\"data row5 col2\" >251'188</td>\n",
       "      <td id=\"T_8b35d_row5_col3\" class=\"data row5 col3\" >0,04</td>\n",
       "    </tr>\n",
       "  </tbody>\n",
       "</table>\n"
      ],
      "text/plain": [
       "<pandas.io.formats.style.Styler at 0x76e13a4dcc10>"
      ]
     },
     "metadata": {
      "scrapbook": {
       "mime_prefix": "",
       "name": "sample-landuse"
      }
     },
     "output_type": "display_data"
    }
   ],
   "source": [
    "land_use_profile = pd.concat([buffer_content, ps_comb])\n",
    "land_use_profile['area_m2'] = land_use_profile['area_m2'].astype(int)\n",
    "land_use_profile['rate'] = land_use_profile['rate'].round(2)\n",
    "land_use_profile.rename(columns={'rate': '% of buffer'}, inplace=True)\n",
    "\n",
    "these_columns = ['buffer-name', 'land-cover', 'area_m2', '% of buffer']\n",
    "lusereport = land_use_profile[these_columns].style.set_table_styles(userdisplay.table_css_styles).hide(axis='index').format(**userdisplay.format_kwargs)\n",
    "glue('sample-landuse', lusereport, display=True)"
   ]
  },
  {
   "cell_type": "code",
   "execution_count": 17,
   "id": "299066c4-39a2-4707-a0b5-450a37feb79e",
   "metadata": {
    "editable": true,
    "slideshow": {
     "slide_type": ""
    },
    "tags": [
     "remove-input"
    ]
   },
   "outputs": [],
   "source": [
    "# indentify the contents of the buffer\n",
    "minx, miny, maxx, maxy = bufferbounds\n",
    "ariv = gpd.read_file('data/ignorethis/shapes/rivers.shp',bbox=(minx, miny, maxx, maxy))\n",
    "ariv = ariv.drop_duplicates()\n",
    "ariv = gpd.overlay(ariv, abuffer, how='intersection', keep_geom_type=True)"
   ]
  },
  {
   "cell_type": "code",
   "execution_count": 18,
   "id": "b6fc860c-2065-4a2a-b2f7-62f1836d62a2",
   "metadata": {
    "editable": true,
    "slideshow": {
     "slide_type": ""
    },
    "tags": [
     "remove-input"
    ]
   },
   "outputs": [],
   "source": [
    "# indentify the contents of the buffer\n",
    "minx, miny, maxx, maxy = bufferbounds\n",
    "streets = gpd.read_file('data/ignorethis/shapes/strasse.shp',bbox=(minx, miny, maxx, maxy))\n",
    "streets = gpd.overlay(streets, abuffer, how='intersection', keep_geom_type=True)\n",
    "streets = streets.drop_duplicates()\n",
    "streets = streets.dissolve()\n"
   ]
  },
  {
   "cell_type": "code",
   "execution_count": 19,
   "id": "5d789a00-fd30-4de5-8bc7-84f104a19127",
   "metadata": {},
   "outputs": [
    {
     "data": {
      "text/plain": [
       "0    5526.40911\n",
       "dtype: float64"
      ]
     },
     "execution_count": 19,
     "metadata": {},
     "output_type": "execute_result"
    }
   ],
   "source": [
    "streets.geometry.length"
   ]
  },
  {
   "cell_type": "code",
   "execution_count": 20,
   "id": "9a10f36e-89b3-4f44-8419-d7174a3bd886",
   "metadata": {
    "editable": true,
    "slideshow": {
     "slide_type": ""
    },
    "tags": [
     "remove-input"
    ]
   },
   "outputs": [
    {
     "data": {
      "image/png": "[encoded data removed]",
      "text/plain": [
       "<Figure size 640x480 with 1 Axes>"
      ]
     },
     "metadata": {
      "scrapbook": {
       "mime_prefix": "",
       "name": "buffer-and-point"
      }
     },
     "output_type": "display_data"
    }
   ],
   "source": [
    "fig, ax = plt.subplots()\n",
    "\n",
    "abuffer.plot(ax=ax, facecolor='white', edgecolor='black')\n",
    "this_point.plot(ax=ax, zorder=5, marker='o', markersize=120, color='white', edgecolor='red', linewidth=2)\n",
    "this_point.plot(ax=ax, zorder=5, marker='x', markersize=120, color='red', linewidth=2)\n",
    "ariv.plot(ax=ax, linewidth=3, color='dodgerblue', zorder=4)\n",
    "\n",
    "title = \"Survey location and 1'500 meter buffer.\\n\"\n",
    "title2 = f'Location: {a_location}\\nCanton: Bern, survey type: river'\n",
    "ax.set_title(f'{title}{title2}', loc='left')\n",
    "ax.set_xticks([])\n",
    "ax.set_yticks([])\n",
    "glue('buffer-and-point', fig, display=True)\n",
    "plt.close()"
   ]
  },
  {
   "cell_type": "code",
   "execution_count": 21,
   "id": "ee6412e1-3598-4863-8b70-4b9b2c79cb73",
   "metadata": {
    "editable": true,
    "slideshow": {
     "slide_type": ""
    },
    "tags": [
     "remove-input"
    ]
   },
   "outputs": [
    {
     "data": {
      "image/png": "[encoded data removed]",
      "text/plain": [
       "<Figure size 640x480 with 1 Axes>"
      ]
     },
     "metadata": {
      "scrapbook": {
       "mime_prefix": "",
       "name": "buffer-and-buildings"
      }
     },
     "output_type": "display_data"
    }
   ],
   "source": [
    "fig, ax = plt.subplots()\n",
    "abuffer.plot(ax=ax, facecolor='white', edgecolor='black')\n",
    "this_point.plot(ax=ax, zorder=5, marker='o', markersize=120, color='white', edgecolor='red', linewidth=2)\n",
    "this_point.plot(ax=ax, zorder=5, marker='x', markersize=120, color='red', linewidth=2)\n",
    "ariv.plot(ax=ax, linewidth=3, color='dodgerblue', zorder=4)\n",
    "Siedl = buffer_content_i[buffer_content_i['land-cover'] == 'Siedl'].copy()\n",
    "Siedl.plot(ax=ax, facecolor='gray',alpha=1, hatch='++', zorder=1)\n",
    "\n",
    "title2 = f'Landcover: buildings'\n",
    "ax.set_title(f'{title2}', loc='left')\n",
    "ax.set_xticks([])\n",
    "ax.set_yticks([])\n",
    "glue('buffer-and-buildings', fig, display=True)\n",
    "plt.close()"
   ]
  },
  {
   "cell_type": "code",
   "execution_count": 22,
   "id": "1b14812a-7e4b-4e8f-acdc-54192f8dee8f",
   "metadata": {
    "editable": true,
    "slideshow": {
     "slide_type": ""
    },
    "tags": [
     "remove-input"
    ]
   },
   "outputs": [
    {
     "name": "stderr",
     "output_type": "stream",
     "text": [
      "/tmp/ipykernel_250334/2395655611.py:8: UserWarning: The GeoDataFrame you are attempting to plot is empty. Nothing has been displayed.\n",
      "  wald.plot(ax=ax, facecolor='yellowgreen', edgecolor='darkgreen', alpha=1, hatch='oo',zorder=1)\n"
     ]
    },
    {
     "data": {
      "image/png": "[encoded data removed]",
      "text/plain": [
       "<Figure size 640x480 with 1 Axes>"
      ]
     },
     "metadata": {
      "scrapbook": {
       "mime_prefix": "",
       "name": "buffer-and-forest"
      }
     },
     "output_type": "display_data"
    }
   ],
   "source": [
    "fig, ax = plt.subplots()\n",
    "abuffer.plot(ax=ax, facecolor='white', edgecolor='black')\n",
    "this_point.plot(ax=ax, zorder=5, marker='o', markersize=120, color='white', edgecolor='red', linewidth=2)\n",
    "this_point.plot(ax=ax, zorder=5, marker='x', markersize=120, color='red', linewidth=2)\n",
    "ariv.plot(ax=ax, linewidth=3, color='dodgerblue', zorder=4)\n",
    "\n",
    "wald = buffer_content_i[buffer_content_i['land-cover'] == 'Wald'].copy()\n",
    "wald.plot(ax=ax, facecolor='yellowgreen', edgecolor='darkgreen', alpha=1, hatch='oo',zorder=1)\n",
    "\n",
    "title2 = f'Landcover: forest'\n",
    "ax.set_title(f'{title2}', loc='left')\n",
    "ax.set_xticks([])\n",
    "ax.set_yticks([])\n",
    "glue('buffer-and-forest', fig, display=True)\n",
    "plt.close()"
   ]
  },
  {
   "cell_type": "code",
   "execution_count": 23,
   "id": "5b353f78-2e1f-4313-b929-1fc334e483a0",
   "metadata": {
    "editable": true,
    "slideshow": {
     "slide_type": ""
    },
    "tags": [
     "remove-input"
    ]
   },
   "outputs": [
    {
     "data": {
      "image/png": "[encoded data removed]",
      "text/plain": [
       "<Figure size 640x480 with 1 Axes>"
      ]
     },
     "metadata": {
      "scrapbook": {
       "mime_prefix": "",
       "name": "buffer-and-publicservice"
      }
     },
     "output_type": "display_data"
    }
   ],
   "source": [
    "fig, ax = plt.subplots()\n",
    "\n",
    "abuffer.plot(ax=ax, facecolor='white', edgecolor='black')\n",
    "this_point.plot(ax=ax, zorder=5, marker='o', markersize=120, color='white', edgecolor='red', linewidth=2)\n",
    "this_point.plot(ax=ax, zorder=5, marker='x', markersize=120, color='red', linewidth=2)\n",
    "ariv.plot(ax=ax, linewidth=3, color='dodgerblue', zorder=4)\n",
    "\n",
    "\n",
    "ps_comb.plot(ax=ax, zorder=3, facecolor='red', alpha=.3)\n",
    "title2 = f'Landuse: public services and recreation'\n",
    "ax.set_title(f'{title2}', loc='left')\n",
    "ax.set_xticks([])\n",
    "ax.set_yticks([])\n",
    "glue('buffer-and-publicservice', fig, display=True)\n",
    "plt.close()"
   ]
  },
  {
   "cell_type": "code",
   "execution_count": 24,
   "id": "0671a824-b31d-499f-9857-f81391785dc5",
   "metadata": {
    "editable": true,
    "slideshow": {
     "slide_type": ""
    },
    "tags": [
     "remove-input"
    ]
   },
   "outputs": [
    {
     "data": {
      "image/png": "[encoded data removed]",
      "text/plain": [
       "<Figure size 640x480 with 1 Axes>"
      ]
     },
     "metadata": {
      "scrapbook": {
       "mime_prefix": "",
       "name": "buffer-and-undefined"
      }
     },
     "output_type": "display_data"
    }
   ],
   "source": [
    "fig, ax = plt.subplots()\n",
    "\n",
    "abuffer.plot(ax=ax, facecolor='white', edgecolor='black')\n",
    "this_point.plot(ax=ax, zorder=5, marker='o', markersize=120, color='white', edgecolor='red', linewidth=2)\n",
    "this_point.plot(ax=ax, zorder=5, marker='x', markersize=120, color='red', linewidth=2)\n",
    "ariv.plot(ax=ax, linewidth=3, color='dodgerblue', zorder=4)\n",
    "\n",
    "\n",
    "undef = buffer_content_i[buffer_content_i['land-cover'] == 'undefined'].copy()\n",
    "undef.plot(ax=ax, facecolor='khaki', edgecolor='khaki', alpha=1, zorder=1)\n",
    "\n",
    "title2 = f'Landcover: undefined'\n",
    "ax.set_title(f'{title2}', loc='left')\n",
    "ax.set_xticks([])\n",
    "ax.set_yticks([])\n",
    "glue('buffer-and-undefined', fig, display=True)\n",
    "plt.close()"
   ]
  },
  {
   "cell_type": "code",
   "execution_count": 25,
   "id": "5ecead8d-6e57-42d8-be20-3bc776efbfe4",
   "metadata": {
    "editable": true,
    "slideshow": {
     "slide_type": ""
    },
    "tags": [
     "remove-input"
    ]
   },
   "outputs": [
    {
     "data": {
      "image/png": "[encoded data removed]",
      "text/plain": [
       "<Figure size 640x480 with 1 Axes>"
      ]
     },
     "metadata": {
      "scrapbook": {
       "mime_prefix": "",
       "name": "buffer-and-streets"
      }
     },
     "output_type": "display_data"
    }
   ],
   "source": [
    "fig, ax = plt.subplots()\n",
    "\n",
    "abuffer.plot(ax=ax, facecolor='white', edgecolor='black')\n",
    "this_point.plot(ax=ax, zorder=5, marker='o', markersize=120, color='white', edgecolor='red', linewidth=2)\n",
    "this_point.plot(ax=ax, zorder=5, marker='x', markersize=120, color='red', linewidth=2)\n",
    "ariv.plot(ax=ax, linewidth=3, color='dodgerblue', zorder=2)\n",
    "\n",
    "\n",
    "streets.plot(ax=ax, edgecolor='black', linestyle=':', linewidth=2, alpha=1, zorder=2)\n",
    "\n",
    "title = \"Survey location and 1'500 meter buffer.\\n\"\n",
    "title2 = f'Landuse: streets'\n",
    "ax.set_title(f'{title2}', loc='left')\n",
    "ax.set_xticks([])\n",
    "ax.set_yticks([])\n",
    "glue('buffer-and-streets', fig, display=True)\n",
    "plt.close()"
   ]
  },
  {
   "cell_type": "code",
   "execution_count": 26,
   "id": "cac0ed1e-bee2-4daa-b454-8eb6b3bd77d9",
   "metadata": {
    "editable": true,
    "slideshow": {
     "slide_type": ""
    },
    "tags": [
     "remove-input"
    ]
   },
   "outputs": [
    {
     "name": "stderr",
     "output_type": "stream",
     "text": [
      "/tmp/ipykernel_250334/2500445883.py:12: UserWarning: The GeoDataFrame you are attempting to plot is empty. Nothing has been displayed.\n",
      "  wald.plot(ax=ax, facecolor='yellowgreen', edgecolor='darkgreen', alpha=1, hatch='oo',zorder=1)\n"
     ]
    },
    {
     "data": {
      "image/png": "[encoded data removed]",
      "text/plain": [
       "<Figure size 640x480 with 1 Axes>"
      ]
     },
     "metadata": {
      "scrapbook": {
       "mime_prefix": "",
       "name": "buffer-all"
      }
     },
     "output_type": "display_data"
    }
   ],
   "source": [
    "fig, ax = plt.subplots()\n",
    "\n",
    "abuffer.plot(ax=ax, facecolor='white', edgecolor='black')\n",
    "this_point.plot(ax=ax, zorder=5, marker='o', markersize=120, color='white', edgecolor='red', linewidth=2)\n",
    "this_point.plot(ax=ax, zorder=5, marker='x', markersize=120, color='red', linewidth=2)\n",
    "ariv.plot(ax=ax, linewidth=3, color='dodgerblue', zorder=3)\n",
    "\n",
    "undef = buffer_content_i[buffer_content_i['land-cover'] == 'undefined'].copy()\n",
    "undef.plot(ax=ax, facecolor='khaki', edgecolor='khaki', alpha=1, zorder=1)\n",
    "\n",
    "wald = buffer_content_i[buffer_content_i['land-cover'] == 'Wald'].copy()\n",
    "wald.plot(ax=ax, facecolor='yellowgreen', edgecolor='darkgreen', alpha=1, hatch='oo',zorder=1)\n",
    "\n",
    "Siedl = buffer_content_i[buffer_content_i['land-cover'] == 'Siedl'].copy()\n",
    "Siedl.plot(ax=ax, facecolor='gray',alpha=1, hatch='++', zorder=1)\n",
    "\n",
    "\n",
    "\n",
    "\n",
    "streets.plot(ax=ax, edgecolor='white', linestyle=':', linewidth=2, alpha=1, zorder=4)\n",
    "\n",
    "ps_comb.plot(ax=ax, zorder=3, facecolor='red', edgecolor='yellow', alpha=.5)\n",
    "\n",
    "title = \"Survey location and 1'500 meter buffer.\\n\"\n",
    "title2 = 'Land cover and use for one survey location'\n",
    "ax.set_title(f'{title}{title2}', loc='left')\n",
    "ax.set_xticks([])\n",
    "ax.set_yticks([])\n",
    "glue('buffer-all', fig, display=True)\n",
    "plt.close()"
   ]
  },
  {
   "cell_type": "markdown",
   "id": "544b5ada-371b-497b-8bc4-c2b2632d66ed",
   "metadata": {
    "editable": true,
    "slideshow": {
     "slide_type": ""
    },
    "tags": []
   },
   "source": [
    "(calculating-land-use)=\n",
    "# Extracting land use values\n",
    "\n",
    "This is a summary of the methods used to extract topographical features from vector and points layers. The source for the vector layer is  [swissTLMRegio](https://www.swisstopo.admin.ch/de/landschaftsmodell-swisstlmregio). \n",
    "\n",
    "QGIS is not the optimal tool for this operation if the intention is to automate the aquisition of the data. However for a limited number of users and relatively few sample locations added each year QGIS is adequate to the task. A summary of the methods for using QGIS is [below](usingqgis).\n",
    "\n",
    "__Note: 1'500 meter buffer (circular)__\n",
    "\n",
    "The land-use chapter in the federal report generated alot of interest [Land use profile - german](https://hammerdirt-analyst.github.io/IQAASL-End-0f-Sampling-2021/land_use_correlation.html). It inspired an academic article and collaboration with Wagenigen Research and University.\n",
    "\n",
    "__Why don't the percentages add up to 100 ?__\n",
    "\n",
    "This is because some features listed on the map are superimposed on to others. For example a wooded area may contain a public park, this would mean that the park is considered a feature and has a definite surface area but this is in addition to the surface area of the forested area where the park is located. In general we can define the difference in this way: \n",
    "\n",
    "__Land-cover:__ Are elements such as buildings, forest, orchard or undefined. There is at least one land-cover element for each survey location. If so then it takes 100% of the available dry land. \n",
    "\n",
    "__Land-use:__ Are elements that may or may not be in the buffer. These are items like schools, hospitals, water-treatment plants. Individually they are only a small portion of the available dry land.\n",
    "\n",
    "## Technical requirements\n",
    "\n",
    "In addition to pandas, python and numpy, the following python packages are required:\n",
    "\n",
    "1. Geopandas\n",
    "2. Shapely\n",
    "\n",
    "### A point and a buffer\n",
    "\n",
    "The first step is to create a buffer of the appropriate radius with the point (survey locatio) at the center. The point is constructed by using gps coordinates for the location as arguments to `shapely.geometry.Point`. This is then converted to Geopandas.GeodataFrame (gdf) using the coordinate reference system (crs) of the point data. From the gdf, use the buffer method and collect the bounds.\n",
    "\n",
    "__Making a buffer from a point__\n",
    "```python\n",
    "\n",
    "# method to make the buffer, the point and the bufferbounds\n",
    "def a_point_buffer(this_location: pd.Series, buffer_radius: int = 1500, coordinate_crs: str = 'epsg:4326', to_crs: str = \"epsg:2056\"):\n",
    "    # create a point, a buffer and buffer bounds for one location\n",
    "    this_geometry = [Point(this_location.longitude, this_location.latitude)]\n",
    "    this_shape = gpd.GeoDataFrame(this_location, geometry=this_geometry, crs=coordinate_crs)\n",
    "    this_shape = this_shape.to_crs(to_crs)\n",
    "\n",
    "    this_buffer = gpd.GeoDataFrame(geometry=this_shape.buffer(buffer_radius), crs=to_crs)\n",
    "    location_buffer = this_buffer.dissolve()\n",
    "    \n",
    "    return this_shape, location_buffer, location_buffer.total_bounds\n",
    "\n",
    "# select a location\n",
    "a_location = river_locations[5]\n",
    "# retrieve the grid coordinates\n",
    "this_location = locations_and_coordinates.loc[[a_location]].copy()\n",
    "# make the point, the buffer and the bounds\n",
    "this_point, abuffer, bufferbounds = a_point_buffer(this_location)\n",
    "```\n",
    "\n",
    "### Retrieve location attributes: land-cover\n",
    "\n",
    "The bounds and the buffer from the previous operation are used to construct an overlay for the .SHP file that holds the souce data. The name of the location is used to identify the buffer.\n",
    "\n",
    "```python\n",
    "def location_geo_attributes(bounds, buffer, shape_file, objcolumn: str = 'OBJVAL', objval: str ='land-cover', buffer_name: str = None):\n",
    "    minx, miny, maxx, maxy = bounds\n",
    "    landcover = gpd.read_file(shape_file, bbox=(minx, miny, maxx, maxy))\n",
    "    landcover = landcover.drop_duplicates()\n",
    "    landcover = gpd.overlay(landcover, buffer, how='intersection', keep_geom_type=True)\n",
    "    landcover.rename(columns={objcolumn:objval}, inplace=True)\n",
    "    landcover['buffer-name'] = buffer_name\n",
    "    \n",
    "    return landcover[['buffer-name', objval, 'geometry']]\n",
    "\n",
    "# indentify the contents of the buffer    \n",
    "buffer_content = location_geo_attributes(bufferbounds, abuffer, 'data/ignorethis/shapes/landcover.shp', buffer_name=a_location)\n",
    "```\n",
    "### Undefined areas\n",
    "\n",
    "Not all areas of the buffer will have a defined land-cover. To identify those areas, all of the `buffer_content` is _joined_. For this we use the `shapely.unary_union` method and provide the `buffer_content` as an argument. This will produce a separate gdf that is the negative of the `buffer_content`. \n",
    "\n",
    "```python\n",
    "# identify the undefined areas\n",
    "combined_polygon = unary_union(buffer_content_i.geometry)\n",
    "combined_Pn = gpd.GeoDataFrame({'geometry': [combined_polygon]}, crs=buffer_content_i.crs)\n",
    "undefined = compute_undefined_sections_of_buffer(abuffer,combined_Pn, buffer_name=a_location)\n",
    "\n",
    "# combine the known land cover with the undefined\n",
    "buffer_content_i = pd.concat([buffer_content_i, undefined])\n",
    "\n",
    "# assign \n",
    "buffer_content = assign_colors_to_polygons(buffer_content_i, colors=land_use_colors, objval='land-cover')\n",
    "buffer_content = compute_landuse_percent_of_buffer(buffer_content, abuffer.geometry.area[0])\n",
    "buffer_content['area_m2'] = buffer_content['area_m2'].astype(int)\n",
    "```\n",
    "To complete the process (for land-cover) the undefined areas are merged with the buffer_content and the surface area for each polygon is calculated.\n",
    "\n",
    "### Public services: land-use\n",
    "\n",
    "As noted earlier, some topographical features are overlayed on to other features. Here we are talking about two specific vector layers in the swissTLMRegio collection:\n",
    "\n",
    "1. Nutuzungsareal : infrastructure or other usage\n",
    "2. Freizeitareal : recreation area\n",
    "\n",
    "We are interested in these layers because they give us information about the activities that may occur in proximity to the survey location. The same method is used to extract the polygons as was done with land use. However, we are using the `shapely.unary_union` method on the entire layer. Which means that we are not differentiating between the subcategories in each layer.\n",
    "\n",
    "Once the buffer overlay has been applied to both layers the contents are combined and added to the buffer_content data:\n",
    "\n",
    "```python\n",
    "# infrastructure\n",
    "args = dict(objcolumn='OBJEKTART', objval='land-use', buffer_name=a_location)\n",
    "nz = location_geo_attributes(bufferbounds, abuffer, 'data/ignorethis/shapes/nutuzungsareal.shp', **args)\n",
    "nz_comb = unary_union(nz.geometry)\n",
    "nz_comb = gpd.GeoDataFrame({'geometry': [nz_comb]}, crs=buffer_content_i.crs)\n",
    "\n",
    "# recreational areas\n",
    "args = dict(objcolumn='OBJEKTART', objval='land-use', buffer_name=a_location)\n",
    "fz = location_geo_attributes(bufferbounds, abuffer,'data/ignorethis/shapes/freizeit.shp', **args)\n",
    "fz_comb = unary_union(fz.geometry)\n",
    "fz_comb = gpd.GeoDataFrame({'geometry': [fz_comb]}, crs=buffer_content_i.crs)\n",
    "\n",
    "# combine them all into one category called public services\n",
    "public_service = pd.concat([nz, fz])\n",
    "ps_comb = unary_union(public_service.geometry)\n",
    "\n",
    "args = {\n",
    "    'geometry': [ps_comb],\n",
    "    'land-cover':['public-services'],\n",
    "    'buffer-name':[a_location],\n",
    "    'color':'red'\n",
    "}\n",
    "ps_comb = gpd.GeoDataFrame(args, crs=buffer_content_i.crs)\n",
    "ps_comb = compute_landuse_percent_of_buffer(ps_comb, abuffer.geometry.area[0])\n",
    "\n",
    "# combine the public services and the land-cover\n",
    "land_use_profile = pd.concat([buffer_content, ps_comb])\n",
    "land_use_profile['area_m2'] = land_use_profile['area_m2'].astype(int)\n",
    "land_use_profile['rate'] = land_use_profile['rate'].round(2)\n",
    "land_use_profile.rename(columns={'rate': '% of buffer'}, inplace=True)\n",
    "```\n",
    "\n",
    "Which results in the land-use profile for the location in question, (not including streets).\n",
    "\n",
    ":::{card}\n",
    "Land use and cover for a location.\n",
    "^^^\n",
    "```{glue} sample-landuse\n",
    "```\n",
    ":::\n",
    "\n",
    "### Building a map of land cover\n",
    "\n"
   ]
  },
  {
   "cell_type": "markdown",
   "id": "7d8bbbdb-ed46-4e97-bca7-90f4712d97ae",
   "metadata": {
    "editable": true,
    "slideshow": {
     "slide_type": ""
    },
    "tags": []
   },
   "source": [
    "::::{grid} 1 1 2 2\n",
    ":gutter: 1\n",
    "\n",
    ":::{grid-item-card}\n",
    "\n",
    "```{glue} buffer-and-point\n",
    "```\n",
    "+++\n",
    ":::\n",
    "\n",
    ":::{grid-item-card}\n",
    "\n",
    "```{glue} buffer-and-buildings\n",
    "```\n",
    "+++\n",
    "Surface area: 4'145'791 m², % of buffer: 59%\n",
    "\n",
    ":::\n",
    "\n",
    ":::{grid-item-card}\n",
    "\n",
    "```{glue} buffer-and-forest\n",
    "```\n",
    "+++\n",
    "Surface area: 1'528'977 m², % of buffer: 22%\n",
    ":::\n",
    "\n",
    ":::{grid-item-card}\n",
    "\n",
    "```{glue} buffer-and-publicservice\n",
    "```\n",
    "+++\n",
    "Surface area: 1'484'991 m², % of buffer: 21%\n",
    ":::\n",
    "\n",
    ":::{grid-item-card}\n",
    "\n",
    "```{glue} buffer-and-undefined\n",
    "```\n",
    "+++\n",
    "Surface area: 1'382'463 m², % of buffer: 20%\n",
    ":::\n",
    "\n",
    ":::{grid-item-card}\n",
    "\n",
    "```{glue} buffer-and-streets\n",
    "```\n",
    "+++\n",
    "\n",
    "Total length of streets : 17km\n",
    "\n",
    ":::\n",
    "\n",
    ":::{grid-item-card}\n",
    "\n",
    "```{glue} buffer-all\n",
    "```\n",
    "+++\n",
    "\n",
    ":::\n",
    "\n",
    "::::\n",
    "\n",
    "\n"
   ]
  },
  {
   "cell_type": "markdown",
   "id": "7bca0862-a1e5-4fd3-ae17-65ac2fd7cd0a",
   "metadata": {
    "editable": true,
    "slideshow": {
     "slide_type": ""
    },
    "tags": []
   },
   "source": [
    "(usingqgis)=\n",
    "## Using QGIS\n",
    "\n",
    "For this method we are using the land-cover layer from swissTLM regio\n",
    "\n",
    "finished columns = slug, attribute , attribute_type, area, dry,\tscale\n",
    "\n",
    "In QGIS:\n",
    "\n",
    "1. create a buffer around each survey point\n",
    "   * make sure that the survey location and feature_type is in the attributes of the new buffer layer\n",
    "   * the survey locations are loaded as points from .csv file\n",
    "   * reproject the points layer to the project CRS \n",
    "\n",
    "2. use the new buffer layer as an overlay to the land-cover layer\n",
    "   * use the overlay intersection tool\n",
    "   * select the fields to keep from the buffer (slug and feature type)\n",
    "   * select the fields to keep from the land-cover layer\n",
    "   * run the function\n",
    "   * this creates a temporary layer called _intersection_\n",
    "\n",
    "3. get the surface area of all the land-cover and land-use features in each buffer of the temporary layer\n",
    "   * use the field calculator for the attribute table of the layer\n",
    "   * in the field calculator, make a new field and enter the formula `\\$area`\n",
    "   * for this example the method is elipsoid _bessel 1841 (epsg 7001)_\n",
    "   * this is set in the properties of the QGIS project\n",
    "   * Export the layer as .csv\n",
    "\n",
    "4. verify the land-use features per location\n",
    "   * drop duplicate values: use location, feature and area to define duplicates\n",
    "   * attention! different names for lake and reservoir\n",
    "     * change Stausee to See\n",
    "\n",
    "5. make a dry land feature\n",
    "   * this is the surface area of the buffer that is not covered by water\n",
    "   * substract the area of See from the area of the buffer\n",
    "   * identify survey locations that have siginifcant water features but are not listed as lakes\n",
    "  \n",
    "6. Scale the land-use attributes of interest to the available dry-land\n",
    "  \n",
    "__Example making dry land columns and scaling the land-use__\n",
    "\n",
    "    \n",
    "```python\n",
    "# separate locations that are lakes\n",
    "# recall that feature type has a designator for lakes\n",
    "lakes = lg[(lg.feature_ty == 'l') | lg.slug.isin(snl)].copy()\n",
    "\n",
    "# from this subset of data separate the surface area covered by water\n",
    "# set the slug to the index and substract the surface area of the water\n",
    "# from the surface area of the buffer\n",
    "lake_only = lakes[lakes.feature == \"See\"]\n",
    "lo = lake_only[[\"slug\", \"area\"]].set_index(\"slug\")\n",
    "\n",
    "# substract the lake value from the area of the buffer\n",
    "lo[\"dry\"] = 7065000 - lo.area\n",
    "lodry = lo[\"dry\"]\n",
    "\n",
    "# merge the original land-use data from lakes with the\n",
    "# the dry land results\n",
    "lgi = lakes.merge(lo[\"dry\"], left_on=\"slug\", right_index=True)\n",
    "# remove the lake feature from the features columns\n",
    "lgi = lgi[lgi.feature != \"See\"].copy()\n",
    "\n",
    "# scale the landuse feature to the available dry land\n",
    "lgi[\"scale\"] = (lgi.area/lgi.dry).round(3)\n",
    "\n",
    "# repeat the process for locations that do not have a lake feature\n",
    "# these locations are accounted for above\n",
    "eliminate = [*snl, *lo.index]\n",
    "# recuperate all other locations\n",
    "rivers_parcs = lg[~lg.slug.isin(eliminate)].copy()\n",
    "# define the dry land as the area of the buffer\n",
    "rivers_parcs[\"dry\"] = 7065000\n",
    "# scale the features with the dry land value\n",
    "rivers_parcs[\"scale\"] = rivers_parcs.area/rivers_parcs.dry\n",
    "\n",
    "# combine the two results\n",
    "land_cover = pd.concat([rivers_parcs, lgi])\n",
    "```\n",
    "Once the dry land value is calculated for each buffer of the land-cover buffer use the dry-land value to scale the components of the land-use buffer\n",
    "\n",
    "### Extracting street lengths\n",
    "\n",
    "The tlmREgio streets or strasse layer is applicable.\n",
    "\n",
    "__Note:__ the street lenghts are not scaled\n",
    "\n",
    "finished columns = slug, attribute, attribute_type, length\n",
    "\n",
    "__Attention:__\n",
    "\n",
    "1. The streets layer can have many copies of the same street in a buffer\n",
    "2. The cumulative sum of a street in a layer can exceed the radius of the buffer (windy roads)\n",
    "3. Dissolving the polylines of each buffer in the layer is essential\n",
    "4. Drop duplicate values on slug, attribute, length\n",
    "\n",
    "1. Using the same 1'500 m buffer that was used for land-cover and land-use. Intersect the buffer with the street layer\n",
    "2. Dissolve the polylines in each buffer\n",
    "   * select the fields from the streets layer to keep (OBJVAL)\n",
    "   * select the fields from the buffer layer to kepp (slug, feature_ty)\n",
    "   * check the box `keep disjoint features separate`\n",
    "   * run the function\n",
    "   * export to .csv"
   ]
  },
  {
   "cell_type": "code",
   "execution_count": 27,
   "id": "54148c36-ff96-4891-b230-479c5598f430",
   "metadata": {
    "editable": true,
    "slideshow": {
     "slide_type": ""
    },
    "tags": [
     "remove-input"
    ]
   },
   "outputs": [],
   "source": [
    "land_cover_data = \"data/end_process/land_cover.csv\"\n",
    "land_use_data = \"data/end_process/land_use.csv\"\n",
    "street_data = \"data/end_process/streets.csv\"\n",
    "intersection_attributes = \"data/end_process/river_intersect_lakes.csv\"\n",
    "land_cover = pd.read_csv(land_cover_data)\n",
    "land_use = pd.read_csv(land_use_data)\n",
    "streets = pd.read_csv(street_data)\n",
    "river_intersect_lakes = pd.read_csv(intersection_attributes)"
   ]
  },
  {
   "cell_type": "markdown",
   "id": "b6c9d25e-bf0d-42b4-abd2-4db7d19aa951",
   "metadata": {
    "editable": true,
    "slideshow": {
     "slide_type": ""
    },
    "tags": []
   },
   "source": [
    "#### Land-cover\n",
    "\n"
   ]
  },
  {
   "cell_type": "markdown",
   "id": "dbae7be9-28a9-48dc-b337-d9085123f9cb",
   "metadata": {
    "editable": true,
    "slideshow": {
     "slide_type": ""
    },
    "tags": []
   },
   "source": [
    "Land-cover attributes"
   ]
  },
  {
   "cell_type": "code",
   "execution_count": 28,
   "id": "bf670e98-1084-4385-85b3-e37ae4662877",
   "metadata": {
    "editable": true,
    "slideshow": {
     "slide_type": ""
    },
    "tags": [
     "remove-input"
    ]
   },
   "outputs": [
    {
     "data": {
      "text/plain": [
       "array(['undefined', 'Siedl', 'Wald', 'Reben', 'Obstanlage'], dtype=object)"
      ]
     },
     "execution_count": 28,
     "metadata": {},
     "output_type": "execute_result"
    }
   ],
   "source": [
    "land_cover.attribute.unique()"
   ]
  },
  {
   "cell_type": "markdown",
   "id": "b1f73253-461e-47f6-b05c-bca3b5d34078",
   "metadata": {
    "editable": true,
    "slideshow": {
     "slide_type": ""
    },
    "tags": []
   },
   "source": [
    "land-cover attribute translations\n",
    "\n",
    "```python\n",
    "land_cover_fr = {\n",
    "    'undefined': 'Non défini',\n",
    "    'Siedl': 'Siedl',\n",
    "    'Wald': 'Forêt',\n",
    "    'Reben': 'Vignes',\n",
    "    'Obstanlage': 'Verger'\n",
    "}\n",
    "\n",
    "land_cover_en = {\n",
    "    'undefined': 'Undefined',\n",
    "    'Siedl': 'Settlement',\n",
    "    'Wald': 'Forest',\n",
    "    'Reben': 'Vines',\n",
    "    'Obstanlage': 'Orchard'\n",
    "}\n",
    "```\n",
    "\n",
    "Land-cover results for one location"
   ]
  },
  {
   "cell_type": "code",
   "execution_count": 29,
   "id": "d1977967-21ae-4f66-a22f-490e2ff1a173",
   "metadata": {
    "editable": true,
    "slideshow": {
     "slide_type": ""
    },
    "tags": [
     "remove-input"
    ]
   },
   "outputs": [],
   "source": [
    "land_cover_fr = {\n",
    "    'undefined': 'Non défini',\n",
    "    'Siedl': 'Siedl',\n",
    "    'Wald': 'Forêt',\n",
    "    'Reben': 'Vignes',\n",
    "    'Obstanlage': 'Verger'\n",
    "}\n",
    "\n",
    "land_cover_en = {\n",
    "    'undefined': 'Undefined',\n",
    "    'Siedl': 'Settlement',\n",
    "    'Wald': 'Forest',\n",
    "    'Reben': 'Vines',\n",
    "    'Obstanlage': 'Orchard'\n",
    "}"
   ]
  },
  {
   "cell_type": "code",
   "execution_count": 30,
   "id": "b9d04e40-b101-48fa-8e18-238bcc0b9323",
   "metadata": {
    "editable": true,
    "slideshow": {
     "slide_type": ""
    },
    "tags": [
     "remove-input"
    ]
   },
   "outputs": [
    {
     "data": {
      "text/html": [
       "<div>\n",
       "<style scoped>\n",
       "    .dataframe tbody tr th:only-of-type {\n",
       "        vertical-align: middle;\n",
       "    }\n",
       "\n",
       "    .dataframe tbody tr th {\n",
       "        vertical-align: top;\n",
       "    }\n",
       "\n",
       "    .dataframe thead th {\n",
       "        text-align: right;\n",
       "    }\n",
       "</style>\n",
       "<table border=\"1\" class=\"dataframe\">\n",
       "  <thead>\n",
       "    <tr style=\"text-align: right;\">\n",
       "      <th></th>\n",
       "      <th>slug</th>\n",
       "      <th>attribute</th>\n",
       "      <th>attribute_type</th>\n",
       "      <th>area</th>\n",
       "      <th>dry</th>\n",
       "      <th>scale</th>\n",
       "    </tr>\n",
       "  </thead>\n",
       "  <tbody>\n",
       "    <tr>\n",
       "      <th>141</th>\n",
       "      <td>parc-des-pierrettes</td>\n",
       "      <td>undefined</td>\n",
       "      <td>land-cover</td>\n",
       "      <td>68285</td>\n",
       "      <td>3832559</td>\n",
       "      <td>0.018</td>\n",
       "    </tr>\n",
       "    <tr>\n",
       "      <th>623</th>\n",
       "      <td>parc-des-pierrettes</td>\n",
       "      <td>Siedl</td>\n",
       "      <td>land-cover</td>\n",
       "      <td>3606885</td>\n",
       "      <td>3832559</td>\n",
       "      <td>0.941</td>\n",
       "    </tr>\n",
       "    <tr>\n",
       "      <th>624</th>\n",
       "      <td>parc-des-pierrettes</td>\n",
       "      <td>Wald</td>\n",
       "      <td>land-cover</td>\n",
       "      <td>157389</td>\n",
       "      <td>3832559</td>\n",
       "      <td>0.041</td>\n",
       "    </tr>\n",
       "  </tbody>\n",
       "</table>\n",
       "</div>"
      ],
      "text/plain": [
       "                    slug  attribute attribute_type     area      dry  scale\n",
       "141  parc-des-pierrettes  undefined     land-cover    68285  3832559  0.018\n",
       "623  parc-des-pierrettes      Siedl     land-cover  3606885  3832559  0.941\n",
       "624  parc-des-pierrettes       Wald     land-cover   157389  3832559  0.041"
      ]
     },
     "execution_count": 30,
     "metadata": {},
     "output_type": "execute_result"
    }
   ],
   "source": [
    "land_cover[land_cover.slug == \"parc-des-pierrettes\"]"
   ]
  },
  {
   "attachments": {},
   "cell_type": "markdown",
   "id": "36d5a536-7f46-4b15-810b-05e8b0b009a9",
   "metadata": {
    "editable": true,
    "slideshow": {
     "slide_type": ""
    },
    "tags": []
   },
   "source": [
    "#### Land-use\n",
    "\n",
    "Land-use attributes:"
   ]
  },
  {
   "cell_type": "code",
   "execution_count": 31,
   "id": "41f9f450-1230-470a-880f-68aecb1d1ec6",
   "metadata": {
    "editable": true,
    "slideshow": {
     "slide_type": ""
    },
    "tags": [
     "remove-input"
    ]
   },
   "outputs": [
    {
     "data": {
      "text/plain": [
       "array(['Baumschule', 'Friedhof', 'Schul- und Hochschulareal',\n",
       "       'Wald nicht bestockt', 'Abwasserreinigungsareal',\n",
       "       'Historisches Areal', 'Kraftwerkareal', 'Schrebergartenareal',\n",
       "       'Truppenuebungsplatz', 'Unterwerkareal',\n",
       "       'Kehrichtverbrennungsareal', 'Spitalareal',\n",
       "       'Oeffentliches Parkareal', 'Messeareal',\n",
       "       'Massnahmenvollzugsanstaltsareal', 'Kiesabbauareal',\n",
       "       'Steinbruchareal', 'Klosterareal', 'Deponieareal', 'Antennenareal',\n",
       "       'Lehmabbauareal'], dtype=object)"
      ]
     },
     "execution_count": 31,
     "metadata": {},
     "output_type": "execute_result"
    }
   ],
   "source": [
    "land_use.attribute.unique()"
   ]
  },
  {
   "cell_type": "markdown",
   "id": "5db7039a-c66d-4e36-ab0a-d051ac04536f",
   "metadata": {
    "editable": true,
    "slideshow": {
     "slide_type": ""
    },
    "tags": []
   },
   "source": [
    "Land-use translations and groups\n",
    "\n",
    "```python\n",
    "\n",
    "land_use_fr = {\n",
    "    'Baumschule': 'Pépinière',\n",
    "    'Friedhof': 'Cimetière',\n",
    "    'Schul- und Hochschulareal': 'Zone scolaire et universitaire',\n",
    "    'Wald nicht bestockt': 'Forêt non peuplée',\n",
    "    'Abwasserreinigungsareal': 'Zone de traitement des eaux usées',\n",
    "    'Historisches Areal': 'Zone historique',\n",
    "    'Kraftwerkareal': 'Zone de centrale électrique',\n",
    "    'Schrebergartenareal': 'Zone de jardins familiaux',\n",
    "    'Truppenübungsplatz': 'Terrain d\\'entraînement militaire',\n",
    "    'Unterwerkareal': 'Zone de sous-station',\n",
    "    'Kehrichtverbrennungsareal': 'Zone d\\'incinération des déchets',\n",
    "    'Spitalareal': 'Zone d\\'hôpital',\n",
    "    'Öffentliches Parkareal': 'Zone de parc public',\n",
    "    'Messeareal': 'Zone d\\'exposition',\n",
    "    'Massnahmenvollzugsanstaltsareal': 'Zone d\\'établissement de traitement',\n",
    "    'Kiesabbauareal': 'Zone d\\'extraction de gravier',\n",
    "    'Steinbruchareal': 'Zone de carrière',\n",
    "    'Klosterareal': 'Zone de monastère',\n",
    "    'Deponieareal': 'Zone de décharge',\n",
    "    'Antennenareal': 'Zone d\\'antennes',\n",
    "    'Lehmabbauareal': 'Zone d\\'extraction d\\'argile'\n",
    "}\n",
    "\n",
    "land_use_en = {\n",
    "    'Baumschule': 'Nursery',\n",
    "    'Friedhof': 'Cemetery',\n",
    "    'Schul- und Hochschulareal': 'School and University Area',\n",
    "    'Wald nicht bestockt': 'Non-stocked Forest',\n",
    "    'Abwasserreinigungsareal': 'Wastewater Treatment Area',\n",
    "    'Historisches Areal': 'Historical Area',\n",
    "    'Kraftwerkareal': 'Power Plant Area',\n",
    "    'Schrebergartenareal': 'Allotment Garden Area',\n",
    "    'Truppenübungsplatz': 'Military Training Ground',\n",
    "    'Unterwerkareal': 'Substation Area',\n",
    "    'Kehrichtverbrennungsareal': 'Waste Incineration Area',\n",
    "    'Spitalareal': 'Hospital Area',\n",
    "    'Öffentliches Parkareal': 'Public Park Area',\n",
    "    'Messeareal': 'Exhibition Area',\n",
    "    'Massnahmenvollzugsanstaltsareal': 'Correctional Facility Area',\n",
    "    'Kiesabbauareal': 'Gravel Extraction Area',\n",
    "    'Steinbruchareal': 'Quarry Area',\n",
    "    'Klosterareal': 'Monastery Area',\n",
    "    'Deponieareal': 'Landfill Area',\n",
    "    'Antennenareal': 'Antenna Area',\n",
    "    'Lehmabbauareal': 'Clay Extraction Area'\n",
    "}\n",
    "\n",
    "# land_uses_grouped:\n",
    "# outdoor non technical use:\n",
    "lu_non_tech = ['Friedhof', 'Hitorisches Areal', 'Schrebergartenareal', 'Öffentliches Parkareal', 'Messeareal', 'Klosterareal',  'Wald nicht bestockt']\n",
    "\n",
    "# technical-extraction-incineration\n",
    "lu_extraction = ['Kiesabbauareal', 'Steinbruchareal',  'Lehmabbauareal',]\n",
    "\n",
    "# waste-water-treatment-powere\n",
    "lu_technical = ['Kehrichtverbrennungsareal', 'Deponieareal', 'Deponieareal', 'Abwasserreinigungsareal','Unterwerkareal', 'Antennenareal']\n",
    "\n",
    "# services:\n",
    "lu_serives = ['Massnahmenvollzugsanstaltsareal', 'Schul- und Hochschulareal', 'Spitalareal']\n",
    "```\n",
    "\n",
    "Land-use for one location:"
   ]
  },
  {
   "cell_type": "code",
   "execution_count": 32,
   "id": "f7be463f-7ffd-4809-8bf5-ace2f0d686cd",
   "metadata": {
    "editable": true,
    "slideshow": {
     "slide_type": ""
    },
    "tags": [
     "remove-input"
    ]
   },
   "outputs": [],
   "source": [
    "land_use_fr = {\n",
    "    'Baumschule': 'Pépinière',\n",
    "    'Friedhof': 'Cimetière',\n",
    "    'Schul- und Hochschulareal': 'Zone scolaire et universitaire',\n",
    "    'Wald nicht bestockt': 'Forêt non peuplée',\n",
    "    'Abwasserreinigungsareal': 'Zone de traitement des eaux usées',\n",
    "    'Historisches Areal': 'Zone historique',\n",
    "    'Kraftwerkareal': 'Zone de centrale électrique',\n",
    "    'Schrebergartenareal': 'Zone de jardins familiaux',\n",
    "    'Truppenübungsplatz': 'Terrain d\\'entraînement militaire',\n",
    "    'Unterwerkareal': 'Zone de sous-station',\n",
    "    'Kehrichtverbrennungsareal': 'Zone d\\'incinération des déchets',\n",
    "    'Spitalareal': 'Zone d\\'hôpital',\n",
    "    'Öffentliches Parkareal': 'Zone de parc public',\n",
    "    'Messeareal': 'Zone d\\'exposition',\n",
    "    'Massnahmenvollzugsanstaltsareal': 'Zone d\\'établissement de traitement',\n",
    "    'Kiesabbauareal': 'Zone d\\'extraction de gravier',\n",
    "    'Steinbruchareal': 'Zone de carrière',\n",
    "    'Klosterareal': 'Zone de monastère',\n",
    "    'Deponieareal': 'Zone de décharge',\n",
    "    'Antennenareal': 'Zone d\\'antennes',\n",
    "    'Lehmabbauareal': 'Zone d\\'extraction d\\'argile'\n",
    "}\n",
    "\n",
    "land_use_en = {\n",
    "    'Baumschule': 'Nursery',\n",
    "    'Friedhof': 'Cemetery',\n",
    "    'Schul- und Hochschulareal': 'School and University Area',\n",
    "    'Wald nicht bestockt': 'Non-stocked Forest',\n",
    "    'Abwasserreinigungsareal': 'Wastewater Treatment Area',\n",
    "    'Historisches Areal': 'Historical Area',\n",
    "    'Kraftwerkareal': 'Power Plant Area',\n",
    "    'Schrebergartenareal': 'Allotment Garden Area',\n",
    "    'Truppenübungsplatz': 'Military Training Ground',\n",
    "    'Unterwerkareal': 'Substation Area',\n",
    "    'Kehrichtverbrennungsareal': 'Waste Incineration Area',\n",
    "    'Spitalareal': 'Hospital Area',\n",
    "    'Öffentliches Parkareal': 'Public Park Area',\n",
    "    'Messeareal': 'Exhibition Area',\n",
    "    'Massnahmenvollzugsanstaltsareal': 'Correctional Facility Area',\n",
    "    'Kiesabbauareal': 'Gravel Extraction Area',\n",
    "    'Steinbruchareal': 'Quarry Area',\n",
    "    'Klosterareal': 'Monastery Area',\n",
    "    'Deponieareal': 'Landfill Area',\n",
    "    'Antennenareal': 'Antenna Area',\n",
    "    'Lehmabbauareal': 'Clay Extraction Area'\n",
    "}\n",
    "\n",
    "# land_uses_grouped:\n",
    "# outdoor non technical use:\n",
    "lu_non_tech = ['Friedhof', 'Hitorisches Areal', 'Schrebergartenareal', 'Öffentliches Parkareal', 'Messeareal', 'Klosterareal',  'Wald nicht bestockt']\n",
    "\n",
    "# technical-extraction-incineration\n",
    "lu_extraction = ['Kiesabbauareal', 'Steinbruchareal',  'Lehmabbauareal',]\n",
    "\n",
    "# waste-water-treatment-powere\n",
    "lu_technical = ['Kehrichtverbrennungsareal', 'Deponieareal', 'Deponieareal', 'Abwasserreinigungsareal','Unterwerkareal', 'Antennenareal']\n",
    "\n",
    "# services:\n",
    "lu_serives = ['Massnahmenvollzugsanstaltsareal', 'Schul- und Hochschulareal', 'Spitalareal']"
   ]
  },
  {
   "cell_type": "code",
   "execution_count": 33,
   "id": "78e2c3ef-3f33-4ba2-af29-cad7c2358e25",
   "metadata": {
    "editable": true,
    "slideshow": {
     "slide_type": ""
    },
    "tags": [
     "remove-input"
    ]
   },
   "outputs": [
    {
     "data": {
      "text/html": [
       "<div>\n",
       "<style scoped>\n",
       "    .dataframe tbody tr th:only-of-type {\n",
       "        vertical-align: middle;\n",
       "    }\n",
       "\n",
       "    .dataframe tbody tr th {\n",
       "        vertical-align: top;\n",
       "    }\n",
       "\n",
       "    .dataframe thead th {\n",
       "        text-align: right;\n",
       "    }\n",
       "</style>\n",
       "<table border=\"1\" class=\"dataframe\">\n",
       "  <thead>\n",
       "    <tr style=\"text-align: right;\">\n",
       "      <th></th>\n",
       "      <th>slug</th>\n",
       "      <th>attribute</th>\n",
       "      <th>attribute_type</th>\n",
       "      <th>area</th>\n",
       "      <th>dry</th>\n",
       "      <th>scale</th>\n",
       "    </tr>\n",
       "  </thead>\n",
       "  <tbody>\n",
       "    <tr>\n",
       "      <th>685</th>\n",
       "      <td>parc-des-pierrettes</td>\n",
       "      <td>Abwasserreinigungsareal</td>\n",
       "      <td>land-use</td>\n",
       "      <td>49488</td>\n",
       "      <td>3832559</td>\n",
       "      <td>0.012913</td>\n",
       "    </tr>\n",
       "    <tr>\n",
       "      <th>686</th>\n",
       "      <td>parc-des-pierrettes</td>\n",
       "      <td>Friedhof</td>\n",
       "      <td>land-use</td>\n",
       "      <td>11325</td>\n",
       "      <td>3832559</td>\n",
       "      <td>0.002955</td>\n",
       "    </tr>\n",
       "    <tr>\n",
       "      <th>687</th>\n",
       "      <td>parc-des-pierrettes</td>\n",
       "      <td>Oeffentliches Parkareal</td>\n",
       "      <td>land-use</td>\n",
       "      <td>175591</td>\n",
       "      <td>3832559</td>\n",
       "      <td>0.045816</td>\n",
       "    </tr>\n",
       "    <tr>\n",
       "      <th>688</th>\n",
       "      <td>parc-des-pierrettes</td>\n",
       "      <td>Schrebergartenareal</td>\n",
       "      <td>land-use</td>\n",
       "      <td>17306</td>\n",
       "      <td>3832559</td>\n",
       "      <td>0.004516</td>\n",
       "    </tr>\n",
       "    <tr>\n",
       "      <th>689</th>\n",
       "      <td>parc-des-pierrettes</td>\n",
       "      <td>Schul- und Hochschulareal</td>\n",
       "      <td>land-use</td>\n",
       "      <td>1189161</td>\n",
       "      <td>3832559</td>\n",
       "      <td>0.310279</td>\n",
       "    </tr>\n",
       "  </tbody>\n",
       "</table>\n",
       "</div>"
      ],
      "text/plain": [
       "                    slug                  attribute attribute_type     area  \\\n",
       "685  parc-des-pierrettes    Abwasserreinigungsareal       land-use    49488   \n",
       "686  parc-des-pierrettes                   Friedhof       land-use    11325   \n",
       "687  parc-des-pierrettes    Oeffentliches Parkareal       land-use   175591   \n",
       "688  parc-des-pierrettes        Schrebergartenareal       land-use    17306   \n",
       "689  parc-des-pierrettes  Schul- und Hochschulareal       land-use  1189161   \n",
       "\n",
       "         dry     scale  \n",
       "685  3832559  0.012913  \n",
       "686  3832559  0.002955  \n",
       "687  3832559  0.045816  \n",
       "688  3832559  0.004516  \n",
       "689  3832559  0.310279  "
      ]
     },
     "execution_count": 33,
     "metadata": {},
     "output_type": "execute_result"
    }
   ],
   "source": [
    "land_use[land_use.slug == \"parc-des-pierrettes\"]"
   ]
  },
  {
   "attachments": {},
   "cell_type": "markdown",
   "id": "390b8c8e-f77c-4ea2-b942-bcc49b5923bd",
   "metadata": {
    "editable": true,
    "slideshow": {
     "slide_type": ""
    },
    "tags": []
   },
   "source": [
    "#### Streets\n",
    "\n",
    "Streets attributes:"
   ]
  },
  {
   "cell_type": "code",
   "execution_count": 34,
   "id": "19641f2c-e181-4530-a144-6d280a050fd7",
   "metadata": {
    "editable": true,
    "slideshow": {
     "slide_type": ""
    },
    "tags": [
     "remove-input"
    ]
   },
   "outputs": [
    {
     "data": {
      "text/plain": [
       "array(['Autostr', 'Fahrstraes', 'Fussweg', 'HauptStrAB6', 'VerbindStr4',\n",
       "       'NebenStr3', 'VerbindStr6', 'Autobahn', 'HauptStrAB4', 'NebenStr6',\n",
       "       'Autob_Ri'], dtype=object)"
      ]
     },
     "execution_count": 34,
     "metadata": {},
     "output_type": "execute_result"
    }
   ],
   "source": [
    "streets.attribute.unique()"
   ]
  },
  {
   "cell_type": "markdown",
   "id": "62a4e8da-ada9-40d7-aae2-37fc406fc259",
   "metadata": {
    "editable": true,
    "slideshow": {
     "slide_type": ""
    },
    "tags": []
   },
   "source": [
    "Streets: translations and groups\n",
    "\n",
    "```python\n",
    "streets_fr = {\n",
    "    'Autostr': 'autoroute',\n",
    "    'NebenStr3': 'route secondaire 3',\n",
    "    'NebenStr6': 'route secondaire 6',\n",
    "    'HauptStrAB6': 'route principale 6',\n",
    "    'HauptStrAB4': 'route principale 4',\n",
    "    'Fahrstraes': 'chemin carrossable',\n",
    "    'Fussweg': 'chemin pédestre',\n",
    "    'Autobahn': 'autoroute',\n",
    "    'Autob_Ri': 'autoroute',\n",
    "    'VerbindStr4': 'route de liason 4',\n",
    "    'VerbindStr6': 'route de liason 6',   \n",
    "}\n",
    "\n",
    "streets_en = {\n",
    "    'Autostr': 'freeway',\n",
    "    'NebenStr3': 'surface streets 3',\n",
    "    'NebenStr6': 'surface streets 3 6',\n",
    "    'HauptStrAB6': 'inter regional 6',\n",
    "    'HauptStrAB4': 'inter regional 4',\n",
    "    'Fahrstraes': 'bridle path',\n",
    "    'Fussweg': 'pedestrian trail',\n",
    "    'Autobahn': 'freeway',\n",
    "    'Autob_Ri': 'freeway',\n",
    "    'VerbindStr4': 'intra regional 4',\n",
    "    'VerbindStr6': 'intra regional 6',   \n",
    "}\n",
    "\n",
    "```\n",
    "\n",
    "The streets at one survey location:"
   ]
  },
  {
   "cell_type": "code",
   "execution_count": 35,
   "id": "4246df70-9873-4d6b-a669-e09c9d12defa",
   "metadata": {
    "editable": true,
    "slideshow": {
     "slide_type": ""
    },
    "tags": [
     "remove-input"
    ]
   },
   "outputs": [],
   "source": [
    "streets_fr = {\n",
    "    'Autostr': 'autoroute',\n",
    "    'NebenStr3': 'route secondaire 3',\n",
    "    'NebenStr6': 'route secondaire 6',\n",
    "    'HauptStrAB6': 'route principale 6',\n",
    "    'HauptStrAB4': 'route principale 4',\n",
    "    'Fahrstraes': 'chemin carrossable',\n",
    "    'Fussweg': 'chemin pédestre',\n",
    "    'Autobahn': 'autoroute',\n",
    "    'Autob_Ri': 'autoroute',\n",
    "    'VerbindStr4': 'route de liason 4',\n",
    "    'VerbindStr6': 'route de liason 6',   \n",
    "}\n",
    "\n",
    "streets_en = {\n",
    "    'Autostr': 'freeway',\n",
    "    'NebenStr3': 'surface streets 3',\n",
    "    'NebenStr6': 'surface streets 3 6',\n",
    "    'HauptStrAB6': 'inter regional 6',\n",
    "    'HauptStrAB4': 'inter regional 4',\n",
    "    'Fahrstraes': 'bridle path',\n",
    "    'Fussweg': 'pedestrian trail',\n",
    "    'Autobahn': 'freeway',\n",
    "    'Autob_Ri': 'freeway',\n",
    "    'VerbindStr4': 'intra regional 4',\n",
    "    'VerbindStr6': 'intra regional 6',   \n",
    "}\n",
    "\n",
    "str_surface = ['NebenStr3', 'NebenStr6']\n",
    "str_ped_br = ['Fahrstraes', 'Fussweg']\n",
    "str_main = [ 'HauptStrAB6', 'VerbindStr4','VerbindStr6', 'HauptStrAB4', 'NebenStr6']\n",
    "str_auto = ['Autobahn', 'Autostr', 'Autob_Ri']"
   ]
  },
  {
   "cell_type": "code",
   "execution_count": 36,
   "id": "c819ea47-c43b-4f08-ad07-b2f23a6dd6de",
   "metadata": {
    "editable": true,
    "slideshow": {
     "slide_type": ""
    },
    "tags": [
     "remove-input"
    ]
   },
   "outputs": [
    {
     "data": {
      "text/html": [
       "<div>\n",
       "<style scoped>\n",
       "    .dataframe tbody tr th:only-of-type {\n",
       "        vertical-align: middle;\n",
       "    }\n",
       "\n",
       "    .dataframe tbody tr th {\n",
       "        vertical-align: top;\n",
       "    }\n",
       "\n",
       "    .dataframe thead th {\n",
       "        text-align: right;\n",
       "    }\n",
       "</style>\n",
       "<table border=\"1\" class=\"dataframe\">\n",
       "  <thead>\n",
       "    <tr style=\"text-align: right;\">\n",
       "      <th></th>\n",
       "      <th>slug</th>\n",
       "      <th>attribute_type</th>\n",
       "      <th>attribute</th>\n",
       "      <th>length</th>\n",
       "    </tr>\n",
       "  </thead>\n",
       "  <tbody>\n",
       "    <tr>\n",
       "      <th>638</th>\n",
       "      <td>parc-des-pierrettes</td>\n",
       "      <td>streets</td>\n",
       "      <td>Autobahn</td>\n",
       "      <td>1685</td>\n",
       "    </tr>\n",
       "    <tr>\n",
       "      <th>639</th>\n",
       "      <td>parc-des-pierrettes</td>\n",
       "      <td>streets</td>\n",
       "      <td>Fahrstraes</td>\n",
       "      <td>1046</td>\n",
       "    </tr>\n",
       "    <tr>\n",
       "      <th>640</th>\n",
       "      <td>parc-des-pierrettes</td>\n",
       "      <td>streets</td>\n",
       "      <td>Fussweg</td>\n",
       "      <td>3257</td>\n",
       "    </tr>\n",
       "    <tr>\n",
       "      <th>641</th>\n",
       "      <td>parc-des-pierrettes</td>\n",
       "      <td>streets</td>\n",
       "      <td>HauptStrAB6</td>\n",
       "      <td>2918</td>\n",
       "    </tr>\n",
       "    <tr>\n",
       "      <th>642</th>\n",
       "      <td>parc-des-pierrettes</td>\n",
       "      <td>streets</td>\n",
       "      <td>NebenStr3</td>\n",
       "      <td>2850</td>\n",
       "    </tr>\n",
       "    <tr>\n",
       "      <th>643</th>\n",
       "      <td>parc-des-pierrettes</td>\n",
       "      <td>streets</td>\n",
       "      <td>VerbindStr4</td>\n",
       "      <td>67</td>\n",
       "    </tr>\n",
       "    <tr>\n",
       "      <th>644</th>\n",
       "      <td>parc-des-pierrettes</td>\n",
       "      <td>streets</td>\n",
       "      <td>VerbindStr6</td>\n",
       "      <td>2864</td>\n",
       "    </tr>\n",
       "  </tbody>\n",
       "</table>\n",
       "</div>"
      ],
      "text/plain": [
       "                    slug attribute_type    attribute  length\n",
       "638  parc-des-pierrettes        streets     Autobahn    1685\n",
       "639  parc-des-pierrettes        streets   Fahrstraes    1046\n",
       "640  parc-des-pierrettes        streets      Fussweg    3257\n",
       "641  parc-des-pierrettes        streets  HauptStrAB6    2918\n",
       "642  parc-des-pierrettes        streets    NebenStr3    2850\n",
       "643  parc-des-pierrettes        streets  VerbindStr4      67\n",
       "644  parc-des-pierrettes        streets  VerbindStr6    2864"
      ]
     },
     "execution_count": 36,
     "metadata": {},
     "output_type": "execute_result"
    }
   ],
   "source": [
    "streets[streets.slug == \"parc-des-pierrettes\"]"
   ]
  },
  {
   "cell_type": "markdown",
   "id": "8023149a-8443-46f6-86a8-8ceb9be3957d",
   "metadata": {
    "editable": true,
    "slideshow": {
     "slide_type": ""
    },
    "tags": []
   },
   "source": [
    "## Rivers: intersection, size and class\n",
    "\n",
    "This requires the 1'500 m buffer created at the begininng and the rivers layer and the lakes layer.\n",
    "\n",
    "### intersection, size and class\n",
    "1. Create a points layer of the intersection of rivers to lakes\n",
    "   * Keep only points that are labeled as river (fluss, fluss_u)\n",
    "   * Use the attribute table to select the points\n",
    "2. Overlay the 1 500 m buffer on the new layer and collect all the intersections within each buffer\n",
    "   * export to .csv\n",
    "3. Check for intersections that do not have lake name\n",
    "   * not all lakes and rivers have names in the layer\n",
    "   * find the correct name for the lake and add it to the record\n",
    "   * replace river names with nan value with \"no name\"\n",
    "\n",
    "### distance to intersection\n",
    "\n",
    "__Note:__ the intersection points layer needs to be available\n",
    "\n",
    "1. Using the `hub lines` tool in QGIS draw lines from survey location to intersect location\n",
    "   * Limit the distance to the radius of the buffer\n",
    "   * join on the slug field in both layers\n",
    "   * eliminate duplicates\n",
    "   * calculate the length of the line with `$length` in field calculator of the attribute table\n",
    "   * export to .csv\n",
    "  \n",
    "2. Identify locations (slugs) that are missing either the river_name or lake\n",
    "   * use the previous results (intersection, size and class) to fill in the missing values\n",
    "   * check that slugs not in the distance matrix are truly without intersections \n"
   ]
  },
  {
   "cell_type": "code",
   "execution_count": 37,
   "id": "cbf3d05b-4fb5-402e-838b-0de866c56167",
   "metadata": {
    "editable": true,
    "slideshow": {
     "slide_type": ""
    },
    "tags": [
     "remove-input"
    ]
   },
   "outputs": [
    {
     "data": {
      "text/html": [
       "<div>\n",
       "<style scoped>\n",
       "    .dataframe tbody tr th:only-of-type {\n",
       "        vertical-align: middle;\n",
       "    }\n",
       "\n",
       "    .dataframe tbody tr th {\n",
       "        vertical-align: top;\n",
       "    }\n",
       "\n",
       "    .dataframe thead th {\n",
       "        text-align: right;\n",
       "    }\n",
       "</style>\n",
       "<table border=\"1\" class=\"dataframe\">\n",
       "  <thead>\n",
       "    <tr style=\"text-align: right;\">\n",
       "      <th></th>\n",
       "      <th>slug</th>\n",
       "      <th>lake</th>\n",
       "      <th>river_name</th>\n",
       "      <th>size</th>\n",
       "      <th>class</th>\n",
       "      <th>distance</th>\n",
       "      <th>attribute_type</th>\n",
       "    </tr>\n",
       "  </thead>\n",
       "  <tbody>\n",
       "    <tr>\n",
       "      <th>72</th>\n",
       "      <td>parc-des-pierrettes</td>\n",
       "      <td>Le Léman</td>\n",
       "      <td>La Mèbre</td>\n",
       "      <td>8</td>\n",
       "      <td>8</td>\n",
       "      <td>333</td>\n",
       "      <td>river intersection</td>\n",
       "    </tr>\n",
       "  </tbody>\n",
       "</table>\n",
       "</div>"
      ],
      "text/plain": [
       "                   slug      lake river_name  size  class  distance  \\\n",
       "72  parc-des-pierrettes  Le Léman   La Mèbre     8      8       333   \n",
       "\n",
       "        attribute_type  \n",
       "72  river intersection  "
      ]
     },
     "execution_count": 37,
     "metadata": {},
     "output_type": "execute_result"
    }
   ],
   "source": [
    "river_intersect_lakes[river_intersect_lakes.slug == \"parc-des-pierrettes\"]"
   ]
  },
  {
   "cell_type": "code",
   "execution_count": 38,
   "id": "54fba949-faaf-45c5-a4b7-f0111a5c8872",
   "metadata": {
    "editable": true,
    "slideshow": {
     "slide_type": ""
    },
    "tags": [
     "remove-input"
    ]
   },
   "outputs": [
    {
     "name": "stdout",
     "output_type": "stream",
     "text": [
      "Author: hammerdirt-analyst\n",
      "\n",
      "conda environment: cantonal_report\n",
      "\n",
      "matplotlib: 3.8.4\n",
      "geopandas : 0.14.4\n",
      "pandas    : 2.2.2\n",
      "\n"
     ]
    }
   ],
   "source": [
    "%watermark -a hammerdirt-analyst -co --iversions"
   ]
  },
  {
   "cell_type": "code",
   "execution_count": null,
   "id": "6f444bc4-d773-4d87-8b8e-540b98e4e131",
   "metadata": {
    "editable": true,
    "slideshow": {
     "slide_type": ""
    },
    "tags": []
   },
   "outputs": [],
   "source": []
  },
  {
   "cell_type": "code",
   "execution_count": null,
   "id": "917a77f2-1e41-4294-97b7-085f3c03a169",
   "metadata": {
    "editable": true,
    "slideshow": {
     "slide_type": ""
    },
    "tags": []
   },
   "outputs": [],
   "source": []
  },
  {
   "cell_type": "code",
   "execution_count": null,
   "id": "76e05fc9-e7e4-4c7d-a9c8-e69a3df255ff",
   "metadata": {
    "editable": true,
    "slideshow": {
     "slide_type": ""
    },
    "tags": []
   },
   "outputs": [],
   "source": []
  },
  {
   "cell_type": "code",
   "execution_count": null,
   "id": "8185781b-9a61-4be9-a462-d2bb70c107e8",
   "metadata": {
    "editable": true,
    "slideshow": {
     "slide_type": ""
    },
    "tags": []
   },
   "outputs": [],
   "source": []
  }
 ],
 "metadata": {
  "kernelspec": {
   "display_name": "Python 3 (ipykernel)",
   "language": "python",
   "name": "python3"
  },
  "language_info": {
   "codemirror_mode": {
    "name": "ipython",
    "version": 3
   },
   "file_extension": ".py",
   "mimetype": "text/x-python",
   "name": "python",
   "nbconvert_exporter": "python",
   "pygments_lexer": "ipython3",
   "version": "3.9.19"
  }
 },
 "nbformat": 4,
 "nbformat_minor": 5
}