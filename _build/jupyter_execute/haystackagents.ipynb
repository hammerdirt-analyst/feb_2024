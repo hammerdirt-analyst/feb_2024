{
 "cells": [
  {
   "cell_type": "markdown",
   "id": "52d3b43f-0252-4d38-8858-6cd87f02d7d0",
   "metadata": {},
   "source": [
    "# Haystack agents\n"
   ]
  },
  {
   "cell_type": "code",
   "execution_count": null,
   "id": "51f0d601-c8a0-4c3d-8b63-24ed09dea8ea",
   "metadata": {},
   "outputs": [],
   "source": []
  }
 ],
 "metadata": {
  "kernelspec": {
   "display_name": "Python 3 (ipykernel)",
   "language": "python",
   "name": "python3"
  },
  "language_info": {
   "codemirror_mode": {
    "name": "ipython",
    "version": 3
   },
   "file_extension": ".py",
   "mimetype": "text/x-python",
   "name": "python",
   "nbconvert_exporter": "python",
   "pygments_lexer": "ipython3",
   "version": "3.12.5"
  }
 },
 "nbformat": 4,
 "nbformat_minor": 5
}