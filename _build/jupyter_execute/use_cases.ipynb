{
 "cells": [
  {
   "cell_type": "code",
   "execution_count": 1,
   "id": "64c16819-72da-4b47-a3aa-988d3f5a8203",
   "metadata": {
    "editable": true,
    "pycharm": {
     "name": "#%%\n"
    },
    "slideshow": {
     "slide_type": ""
    },
    "tags": [
     "hide-input"
    ]
   },
   "outputs": [],
   "source": [
    "%load_ext watermark\n",
    "import pandas as pd\n",
    "import numpy as np\n",
    "\n",
    "import matplotlib.pyplot as plt\n",
    "import matplotlib as mpl\n",
    "import matplotlib.colors\n",
    "from matplotlib.colors import LinearSegmentedColormap, ListedColormap\n",
    "import seaborn as sns\n",
    "\n",
    "import session_config\n",
    "import reports\n",
    "import geospatial\n",
    "import userdisplay as disp\n",
    "from myst_nb import glue\n",
    "from IPython.display import display, Markdown\n",
    "\n",
    "# available data\n",
    "surveys = session_config.collect_survey_data()"
   ]
  },
  {
   "cell_type": "markdown",
   "id": "8e3e8dd7-00b7-4cd7-9536-6739b92c5812",
   "metadata": {
    "editable": true,
    "pycharm": {
     "name": "#%% md\n"
    },
    "slideshow": {
     "slide_type": ""
    },
    "tags": []
   },
   "source": [
    "# Use cases\n",
    "\n",
    "How each stake holder interprets the data is dependent on the use case. Here we present the answers to some of the most common questions that can be answered using the report or the methods desccribed in this document."
   ]
  },
  {
   "cell_type": "markdown",
   "id": "af5e858a-59c6-477c-894e-c99c0e4ee78b",
   "metadata": {
    "editable": true,
    "slideshow": {
     "slide_type": ""
    },
    "tags": []
   },
   "source": [
    "## Is their more now than there was before ?\n",
    "\n",
    "__How do you know ?__"
   ]
  },
  {
   "cell_type": "markdown",
   "id": "64d54267-17b4-42f4-88fe-d77c4c755bd4",
   "metadata": {
    "editable": true,
    "slideshow": {
     "slide_type": ""
    },
    "tags": []
   },
   "source": [
    "## Where is the cleanest beach ?\n",
    "\n",
    "__How do you find the cleanest locations ?__"
   ]
  },
  {
   "cell_type": "markdown",
   "id": "1424bbb1-8db1-408f-b6d8-9bbde53ff368",
   "metadata": {
    "editable": true,
    "slideshow": {
     "slide_type": ""
    },
    "tags": []
   },
   "source": [
    "## How much of the items are single use plastics ?\n",
    "\n",
    "__Is their more now than there was before ?__"
   ]
  },
  {
   "cell_type": "markdown",
   "id": "5bca0d5f-c0c1-49bf-b1b5-4eadc3a0551a",
   "metadata": {
    "editable": true,
    "slideshow": {
     "slide_type": ""
    },
    "tags": []
   },
   "source": [
    "## How much of the items can you identify ?\n",
    "\n",
    "__Is their more now than there was before ?__"
   ]
  },
  {
   "cell_type": "markdown",
   "id": "aff52a36-ef5b-4493-b07c-92a2ae954d37",
   "metadata": {
    "editable": true,
    "slideshow": {
     "slide_type": ""
    },
    "tags": []
   },
   "source": [
    "## What objects are common to all cantons ?"
   ]
  },
  {
   "cell_type": "markdown",
   "id": "919abbdc-91ac-4bcf-8d00-9cb4ab455e37",
   "metadata": {
    "editable": true,
    "slideshow": {
     "slide_type": ""
    },
    "tags": []
   },
   "source": [
    "## What is the chance of finding X ?"
   ]
  },
  {
   "cell_type": "code",
   "execution_count": null,
   "id": "3de07265-3ade-40dc-a517-b6fdedb45abe",
   "metadata": {
    "editable": true,
    "slideshow": {
     "slide_type": ""
    },
    "tags": []
   },
   "outputs": [],
   "source": []
  }
 ],
 "metadata": {
  "kernelspec": {
   "display_name": "Python 3 (ipykernel)",
   "language": "python",
   "name": "python3"
  },
  "language_info": {
   "codemirror_mode": {
    "name": "ipython",
    "version": 3
   },
   "file_extension": ".py",
   "mimetype": "text/x-python",
   "name": "python",
   "nbconvert_exporter": "python",
   "pygments_lexer": "ipython3",
   "version": "3.9.17"
  }
 },
 "nbformat": 4,
 "nbformat_minor": 5
}