{
 "cells": [
  {
   "cell_type": "code",
   "execution_count": 1,
   "id": "64c16819-72da-4b47-a3aa-988d3f5a8203",
   "metadata": {
    "editable": true,
    "pycharm": {
     "name": "#%%\n"
    },
    "slideshow": {
     "slide_type": ""
    },
    "tags": [
     "hide-input"
    ]
   },
   "outputs": [],
   "source": [
    "%load_ext watermark\n",
    "import pandas as pd\n",
    "import numpy as np\n",
    "\n",
    "import matplotlib.pyplot as plt\n",
    "import matplotlib as mpl\n",
    "import matplotlib.colors\n",
    "from matplotlib.colors import LinearSegmentedColormap, ListedColormap\n",
    "import seaborn as sns\n",
    "\n",
    "import session_config\n",
    "import reports\n",
    "import geospatial\n",
    "import userdisplay as disp\n",
    "from myst_nb import glue\n",
    "from IPython.display import display, Markdown\n",
    "\n",
    "# available data\n",
    "surveys = session_config.collect_survey_data()\n",
    "\n"
   ]
  },
  {
   "cell_type": "markdown",
   "id": "8e3e8dd7-00b7-4cd7-9536-6739b92c5812",
   "metadata": {
    "editable": true,
    "pycharm": {
     "name": "#%% md\n"
    },
    "slideshow": {
     "slide_type": ""
    },
    "tags": []
   },
   "source": [
    "# Use cases\n",
    "\n"
   ]
  },
  {
   "cell_type": "markdown",
   "id": "af5e858a-59c6-477c-894e-c99c0e4ee78b",
   "metadata": {
    "editable": true,
    "slideshow": {
     "slide_type": ""
    },
    "tags": []
   },
   "source": [
    "## Examples\n",
    "\n",
    "### The probability of finding one object\n",
    "\n",
    "Here we consider the following question:\n",
    "\n",
    "1. What are the chances of finding at least one _O_ if I go to the beach at _C_ ?\n",
    "\n",
    "Where _O_ is some object of interest that is in the list of items identified on the beach (there are 229 options) and C is a lake or municipality on a lake.\n",
    "\n",
    "This example was first tested in November 2021 at the request of members from an environmental organization that was visiting Lake Geneva, [finding one object](https://hammerdirt-analyst.github.io/finding-one-object/titlepage.html). This value was initially expected to be approximately 40%. The method of calculation was the Beta-Binomial conjugate pair. Instead of considering all the values on the grid we consider only two results: was the number found greater than zero or not. From the general form in (1) we get:\n",
    "\n",
    "> What is the chance of finding at least one feminine hygiene product at the beach on Lac Léman ?\n",
    "\n",
    "\n",
    "````{tab-set}\n",
    "\n",
    "```{tab-item} Steps to complete the calculation\n",
    "\n",
    "1. identify the codes for the items of interest: `G96` and `G144`\n",
    "2. define the region of interest: `lac-leman`\n",
    "3. define the date range of the likelihood : `{'start':'2020-01-01', 'end':'2021-11-01'}`\n",
    "4. define the date range of the prior :  `{'start':'2015-11-15', 'end':'2019-12-31'}`\n",
    "\n",
    "### The likelihood and prior\n",
    "\n",
    "The likelihood data is defined as all the data collected durring the current sampling campaign, up to one week before the planned event in Geneva. The prior data is all collected in the previous sampling campaigns, not including results from locations in the likelihod. In both cases we are considering only the codes G96 and G144.\n",
    "\n",
    "\n",
    "\n",
    "```\n",
    "\n",
    "```{tab-item} Default parameters and methods\n",
    "\n",
    "__Default parameters__\n",
    "\n",
    "1. range of the default index $X = \\{ x \\in \\mathbb{R} \\mid x = 0.1k, \\; k \\in \\mathbb{Z}, \\; 0 \\leq x < 100 \\}$\n",
    "   * or `np.arange(0, 100, 0.1)`\n",
    "2. Max range of forecast grid = $\\max_{i} \\{ x_i \\} \\text{ or } P_{99} = \\text{percentile}_{99} \\{ x_i \\}$\n",
    "3. The magnitude of the land use for each survey location is categorized in the following manner:\n",
    "\n",
    "$$\n",
    "\\text{binning}(x) = \n",
    "\\begin{cases} \n",
    "1 & \\text{if } -1 \\leq x < 0.2 \\\\\n",
    "2 & \\text{if } 0.2 \\leq x < 0.4 \\\\\n",
    "3 & \\text{if } 0.4 \\leq x < 0.6 \\\\\n",
    "4 & \\text{if } 0.6 \\leq x < 0.8 \\\\\n",
    "5 & \\text{if } 0.8 \\leq x \\leq 1 \n",
    "\\end{cases},\n",
    "\\text{ where x is the \\% of land occupied by a land-use feature } \n",
    "$$\n",
    "\n",
    "__Distributions__\n",
    "\n",
    "The posterior distribution is $P(\\text{Likelihood} \\mid \\text{Prior}) \\approx \\text{Dirichlet}(\\alpha)$ or more commonly: $P(\\theta \\mid \\mathbf{X}) \\approx  text{Dirichlet}(\\alpha + \\mathbf{n})$\n",
    "\n",
    "1. $\\theta$ is the parameters of the Dirichlet distribution\n",
    "2. $\\mathbf{X}$ is the observed data\n",
    "3. $\\alpha$ is the parameters of the prior Dirichlet distribution\n",
    "4. $\\mathbf{n}$ is the count data from the likelihood\n",
    "\n",
    "__Forecasted samples__\n",
    "\n",
    "$$\n",
    "\\begin{align*}\n",
    "\\theta &\\sim \\text{Dirichlet}(\\alpha) \\\\\n",
    "\\mathbf{X} \\mid \\theta &\\sim \\text{Multinomial}(N, \\theta)\n",
    "\\end{align*}\n",
    "$$\n",
    "```\n",
    "````"
   ]
  },
  {
   "cell_type": "code",
   "execution_count": null,
   "id": "6c53f7f5-1f5a-46eb-832f-ee09c3a272aa",
   "metadata": {
    "editable": true,
    "slideshow": {
     "slide_type": ""
    },
    "tags": []
   },
   "outputs": [],
   "source": []
  }
 ],
 "metadata": {
  "kernelspec": {
   "display_name": "Python 3 (ipykernel)",
   "language": "python",
   "name": "python3"
  },
  "language_info": {
   "codemirror_mode": {
    "name": "ipython",
    "version": 3
   },
   "file_extension": ".py",
   "mimetype": "text/x-python",
   "name": "python",
   "nbconvert_exporter": "python",
   "pygments_lexer": "ipython3",
   "version": "3.9.17"
  }
 },
 "nbformat": 4,
 "nbformat_minor": 5
}