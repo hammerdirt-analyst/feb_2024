{
 "cells": [
  {
   "cell_type": "code",
   "execution_count": 1,
   "id": "6efe019a-583d-4557-adb0-071461b7e000",
   "metadata": {
    "editable": true,
    "slideshow": {
     "slide_type": ""
    },
    "tags": [
     "remove-input"
    ]
   },
   "outputs": [],
   "source": [
    "from dotenv import load_dotenv\n",
    "from langchain_chroma import Chroma\n",
    "from langchain_core.runnables import RunnablePassthrough\n",
    "from langchain_openai import OpenAIEmbeddings, ChatOpenAI\n",
    "from langchain_text_splitters import MarkdownHeaderTextSplitter\n",
    "from IPython.display import Markdown\n",
    "import os"
   ]
  },
  {
   "cell_type": "code",
   "execution_count": 2,
   "id": "29ee0608-8be7-441d-b933-5cd2bc20f6c7",
   "metadata": {
    "editable": true,
    "slideshow": {
     "slide_type": ""
    },
    "tags": [
     "remove-input"
    ]
   },
   "outputs": [
    {
     "name": "stderr",
     "output_type": "stream",
     "text": [
      "USER_AGENT environment variable not set, consider setting it to identify your requests.\n",
      "Fetching pages: 100%|###########################| 10/10 [00:01<00:00,  8.52it/s]\n"
     ]
    }
   ],
   "source": [
    "# from langchain_chroma import Chroma\n",
    "from langchain.chains import create_retrieval_chain\n",
    "from langchain.chains.combine_documents import create_stuff_documents_chain\n",
    "from langchain_core.prompts import ChatPromptTemplate\n",
    "\n",
    "from langchain.retrievers import ParentDocumentRetriever \n",
    "from langchain_text_splitters import RecursiveCharacterTextSplitter\n",
    "\n",
    "from langchain_community.document_loaders import PDFPlumberLoader\n",
    "from langchain_community.document_transformers import MarkdownifyTransformer\n",
    "from langchain_community.document_loaders import AsyncHtmlLoader\n",
    "\n",
    "from langchain.storage import InMemoryStore\n",
    "\n",
    "load_dotenv()\n",
    "api_key = os.getenv('OPENAI_API_KEY')\n",
    "client = ChatOpenAI(model='gpt-4o')\n",
    "\n",
    "# a report\n",
    "with open('report_results.md', 'r') as file:\n",
    "    new_file = file.read()\n",
    "\n",
    "with open('vaud_report_results.md', 'r') as file:\n",
    "    vaud_file = file.read()\n",
    "\n",
    "with open('iqaasl.md', 'r') as file:\n",
    "    iqaasl_file = file.read()\n",
    "\n",
    "headers_to_split_on = [\n",
    "    (\"#\", \"Header 1\"),\n",
    "    (\"##\", \"Header 2\"),\n",
    "   \n",
    "]\n",
    "\n",
    "context_splitter =  MarkdownHeaderTextSplitter(headers_to_split_on=headers_to_split_on)\n",
    "iq_header_splits = context_splitter.split_text(iqaasl_file)\n",
    "md_header_splits = context_splitter.split_text(new_file)\n",
    "vd_header_splits = context_splitter.split_text(vaud_file)\n",
    "\n",
    "embeddings = OpenAIEmbeddings()\n",
    "\n",
    "\n",
    "vectorstore = Chroma(collection_name=\"my_collection\", embedding_function=embeddings)\n",
    "vectorstore.add_documents(md_header_splits)\n",
    "# vectorstore.add_documents(iq_header_splits)\n",
    "# vectorstore.add_documents(vd_header_splits)\n",
    "\n",
    "urls = [\n",
    "    \"https://www.bayesrulesbook.com/chapter-6\",\n",
    "    \"https://allendowney.github.io/ThinkBayes2/hospital.html\",\n",
    "    \"https://en.wikipedia.org/wiki/Dirichlet-multinomial_distribution\",\n",
    "    \"https://en.wikipedia.org/wiki/Conjugate_prior\",\n",
    "    \"https://en.wikipedia.org/wiki/Theil%E2%80%93Sen_estimator\",\n",
    "    \"https://en.wikipedia.org/wiki/Random_forest\",\n",
    "    \"https://en.wikipedia.org/wiki/Linear_regression\",\n",
    "    \"https://en.wikipedia.org/wiki/Gradient_boosting\",\n",
    "    \"https://en.wikipedia.org/wiki/Bootstrap_aggregating\",\n",
    "    \"https://en.wikipedia.org/wiki/Cluster_analysis\",\n",
    "]\n",
    "loader = AsyncHtmlLoader(urls)\n",
    "docs = loader.load()\n",
    "\n",
    "md = MarkdownifyTransformer()\n",
    "converted_docs = md.transform_documents(docs)\n",
    "\n",
    "headers_to_split_on = [\n",
    "    (\"#\", \"Header 1\"),\n",
    "    (\"##\", \"Header 2\"),\n",
    "    (\"###\", \"Header 3\")\n",
    "   \n",
    "]\n",
    "\n",
    "markdown_splitter = MarkdownHeaderTextSplitter(headers_to_split_on=headers_to_split_on)\n",
    "t = [markdown_splitter.split_text(x.page_content) for x in converted_docs]\n",
    "\n",
    "\n"
   ]
  },
  {
   "cell_type": "code",
   "execution_count": 19,
   "id": "c4f81da1-2a5d-427b-9a42-c1b3400df673",
   "metadata": {
    "editable": true,
    "slideshow": {
     "slide_type": ""
    },
    "tags": [
     "remove-input"
    ]
   },
   "outputs": [],
   "source": [
    "client = ChatOpenAI(model='gpt-4o', temperature=.5)\n",
    "\n",
    "# default_retriever_args = {'search_kwargs':{\"k\": 4, \"score_threshold\": 0.5}} \n",
    "# retriever_d = vectorstore.as_retriever(\n",
    "#     search_type=\"similarity_score_threshold\", search_kwargs={\"score_threshold\": 0.5, \"k\":4}\n",
    "# )\n",
    "# # \"score_threshold\": 0.5\n",
    "# # , search_kwargs={\"score_threshold\": 0.5}\n",
    "system_prompt = (\n",
    "    \"You are an environmental scientits. You have benn assigned the task of\"\n",
    "    \"responding to clients questions about the beach-litter survey data in their region.\"\n",
    "    \"Your assistants have assembled the relevant context for you. Please use the context to\"\n",
    "    \"answer the clients question in professional manner. The customer may have specific instructions. \"\n",
    "    \"Follow them. If you don't know the answer, say that you don't know.\"\n",
    "    \"\\n\\n\"\n",
    "    \"{context}\"\n",
    ")\n",
    "\n",
    "promptx = ChatPromptTemplate.from_messages(\n",
    "    [\n",
    "        (\"system\", system_prompt),\n",
    "        (\"human\", \"{input}\"),\n",
    "    ]\n",
    ")\n",
    "\n",
    "question_answer_chain = create_stuff_documents_chain(client, promptx)\n",
    "# data_chain = create_retrieval_chain(retriever_d, question_answer_chain)\n",
    "\n",
    "# a data chain with just one survey record  \n",
    "vectorstoret = Chroma(collection_name=\"my_collection\", embedding_function=embeddings)\n",
    "vectorstoret.add_documents(md_header_splits)\n",
    "\n",
    "# add the resources\n",
    "\n",
    "for docs in t:\n",
    "    vectorstoret.add_documents(docs)\n",
    "rdt = vectorstoret.as_retriever(\n",
    "    search_type=\"similarity_score_threshold\", search_kwargs={\"score_threshold\": 0.5, \"k\":4}\n",
    ")\n",
    "data_chait = create_retrieval_chain(rdt, question_answer_chain)\n",
    "\n",
    "# from langchain.retrievers.document_compressors import LLMChainFilter\n",
    "# from langchain.retrievers import ContextualCompressionRetriever\n",
    "# _filter = LLMChainFilter.from_llm(client)\n",
    "# compression_retriever = ContextualCompressionRetriever(\n",
    "#     base_compressor=_filter, base_retriever=retriever_d\n",
    "# )\n",
    "# data_chainx = create_retrieval_chain(compression_retriever, question_answer_chain)"
   ]
  },
  {
   "cell_type": "code",
   "execution_count": 20,
   "id": "ff515614-4bd6-4306-8455-e2239955038b",
   "metadata": {
    "editable": true,
    "slideshow": {
     "slide_type": ""
    },
    "tags": [
     "remove-input"
    ]
   },
   "outputs": [],
   "source": [
    "# parent_splitter = RecursiveCharacterTextSplitter(chunk_size=1000)\n",
    "# child_splitter = RecursiveCharacterTextSplitter(chunk_size=250)\n",
    "# # The vectorstore to use to index the child chunks\n",
    "# text_vectorstore_i = Chroma(\n",
    "#     collection_name=\"split_parents\", embedding_function=OpenAIEmbeddings()\n",
    "# )\n",
    "\n",
    "# text_store_i = InMemoryStore()\n",
    "\n",
    "# text_retriever_i = ParentDocumentRetriever(\n",
    "#     vectorstore=text_vectorstore_i,\n",
    "#     docstore=text_store_i,\n",
    "#     child_splitter=child_splitter,\n",
    "#     parent_splitter=parent_splitter,\n",
    "# )\n",
    "\n",
    "# land_use_loader = PDFPlumberLoader('resources/revealing_the_role_of_landuse.pdf')\n",
    "# land_use_def = land_use_loader.load()\n",
    "\n",
    "# the_guide_loader = PDFPlumberLoader('resources/eu-guide-marine-litter-2023.pdf')\n",
    "# mlw_guide = the_guide_loader.load()\n",
    "\n",
    "# history_marine_litter = PDFPlumberLoader('resources/brief_history_marine_litter.pdf')\n",
    "# history_marine_def = history_marine_litter.load()\n",
    "\n",
    "# leakage_loader = PDFPlumberLoader('resources/identifying_leakage_un_2020.pdf')\n",
    "# leakage_def = leakage_loader.load()\n",
    "\n",
    "# water_shed = PDFPlumberLoader('resources/anthropogenic-litter-accumulation-watershed.pdf')\n",
    "# water_sh = water_shed.load()\n",
    "\n",
    "# eu_baselines = PDFPlumberLoader('resources/eu_marine_litter_baselines.pdf')\n",
    "# eu_base = eu_baselines.load()\n",
    "\n",
    "# land_use_malaysia = PDFPlumberLoader('resources/land-use-marine-litter-malaysia.pdf')\n",
    "# land_um = land_use_malaysia.load()\n",
    "\n",
    "# road_side_l = PDFPlumberLoader('resources/road-side-litter-accumulation-ny.pdf')\n",
    "# road_side = road_side_l.load()\n",
    "\n",
    "# fore_cast = PDFPlumberLoader('resources/Walvoort-ea-2021-Modelling-Forecasting-Beach-Litter-Assessment-Values-1.pdf')\n",
    "# fore_cv = fore_cast.load()\n",
    "\n",
    "# thold_val = PDFPlumberLoader('resources/coastline_litter_threshold_value_report_14_9_2020_final.pdf')\n",
    "# thold_v = thold_val.load()\n",
    "\n",
    "# text_retriever_i.add_documents(land_use_def, ids=None)\n",
    "# text_retriever_i.add_documents(history_marine_def, ids=None)\n",
    "# text_retriever_i.add_documents(leakage_def, ids=None)\n",
    "# text_retriever_i.add_documents(water_sh, ids=None)\n",
    "# text_retriever_i.add_documents(eu_base, ids=None)\n",
    "# text_retriever_i.add_documents(land_um, ids=None)\n",
    "# text_retriever_i.add_documents(road_side, ids=None)\n",
    "# text_retriever_i.add_documents(fore_cv, ids=None)\n",
    "# text_retriever_i.add_documents(thold_v, ids=None)\n",
    "# text_retriever_i.add_documents(mlw_guide, ids=None)"
   ]
  },
  {
   "cell_type": "code",
   "execution_count": 21,
   "id": "53eaaf06-2ab0-4720-97ec-6b71bedce9ba",
   "metadata": {
    "editable": true,
    "slideshow": {
     "slide_type": ""
    },
    "tags": [
     "remove-input"
    ]
   },
   "outputs": [],
   "source": [
    "# new_retriever = text_retriever_i.vectorstore.as_retriever(search_type=\"similarity_score_threshold\", search_kwargs={\"score_threshold\": 0.5, \"k\":4})\n",
    "\n",
    "# qtext_answer_chain = create_stuff_documents_chain(client, promptx)\n",
    "# dtext_chain = create_retrieval_chain(new_retriever, qtext_answer_chain)"
   ]
  },
  {
   "cell_type": "code",
   "execution_count": 22,
   "id": "d0ba65d5-3bfd-40be-b6a4-5a8617584934",
   "metadata": {
    "editable": true,
    "slideshow": {
     "slide_type": ""
    },
    "tags": [
     "remove-input"
    ]
   },
   "outputs": [],
   "source": [
    "import session_config\n",
    "from session_config import  collect_survey_data, feature_variables, agg_groups\n",
    "from reports import make_report_objects, reports_and_forecast\n",
    "from reports import admin_report, features_present, histograms_standard\n",
    "from reports import ecdf_plots_standard, scatter_plot_standard\n",
    "from reports import labels_for_display, make_standard_report, make_report_objects\n",
    "import pandas as pd\n",
    "\n",
    "import geopandas as gpd\n",
    "import matplotlib.pyplot as plt\n",
    "from matplotlib.lines import Line2D\n",
    "from IPython.display import display, Markdown\n",
    "from myst_nb import glue\n",
    "from shapely.geometry import Point\n",
    "\n",
    "beaches = pd.read_csv('data/end_process/beaches.csv')\n",
    "lat_lon = beaches[['slug', 'latitude', 'longitude']].set_index('slug')\n",
    "datax = collect_survey_data()\n",
    "codes = pd.read_csv('data/end_process/codes.csv').set_index('code')\n",
    "\n",
    "def map_markers(df, lat_lon: pd.DataFrame = lat_lon):\n",
    "    \"\"\"Map the markers\"\"\"\n",
    "    nsamples = df.groupby('location', observed=True)['sample_id'].nunique()\n",
    "    qty_location = df.groupby('location', observed=True)['quantity'].sum()\n",
    "    rate_location = df.groupby('location', observed=True)['pcs/m'].mean().round(2)\n",
    "    last_sample = df.groupby('location', observed=True)['date'].max()\n",
    "    df = pd.concat([nsamples, qty_location, rate_location, last_sample], axis=1)\n",
    "    df = df.merge(lat_lon, left_index=True, right_index=True)\n",
    "    df['location'] = df.index\n",
    "    max_lat, min_lat = df['latitude'].max(), df['latitude'].min()\n",
    "    max_lon, min_lon = df['longitude'].max(), df['longitude'].min()\n",
    "    td = df.to_dict(orient='records')\n",
    "    geometry = [Point(loc['longitude'], loc['latitude']) for loc in td]\n",
    "    geo_frame = gpd.GeoDataFrame(td, geometry=geometry, crs=\"EPSG:4326\")\n",
    "    \n",
    "    return geo_frame , {'max_lat': max_lat, 'min_lat': min_lat, 'max_lon': max_lon, 'min_lon': min_lon}\n",
    "\n",
    "def scatter_plot_display(report_results, standard_report):\n",
    "\n",
    "    points = []\n",
    "    dates = \"\" \n",
    "    \n",
    "    if report_results['prior_report'] != 'No prior':\n",
    "        pp = (report_results['prior_report'].sample_results(), standard_report['prior-labels'], session_config.palette['prior'])\n",
    "        points.append(pp)\n",
    "        dates += standard_report['prior-labels'][:4]\n",
    "        dates += ' - ' \n",
    "    if report_results['this_report'] != 'No likelihood':\n",
    "        lp = (report_results['this_report'].sample_results(), standard_report['likelihood-labels'], session_config.palette['likelihood'])\n",
    "        points.append(lp)\n",
    "        dates += standard_report['likelihood-labels'][-4:]\n",
    "    \n",
    "    title = f'All samples {canton}: {dates}'\n",
    "    \n",
    "    \n",
    "\n",
    "    return scatter_plot_standard(points), title\n",
    "\n",
    "\n",
    "\n",
    "\n",
    "# from use_cases example\n",
    "ooi = ['G10',  'G30', 'G31', 'G33', 'G34', 'G35', 'G8', 'G7', 'G6', 'G5', 'G4', 'G37', 'G2', 'G27', 'G25', 'G26', 'G11']\n",
    "# more refined search\n",
    "tobo_snacks = ['G27', 'G30', 'G35']\n",
    "# unidentified, plastic, different uses\n",
    "# udi = ['Gfrags', 'Gfoams']\n",
    "# industrial\n",
    "indus = ['G89', 'G67', 'G112', 'G93' , 'G66','G74', 'G72', 'G87', 'G65', 'G69', 'G68', 'G43', 'G41', 'G38', 'G36', 'G19', 'G17', 'Gfrags']\n",
    "\n",
    "# features\n",
    "land_covers = ['buildings', 'forest', 'undefined', 'public-services', 'recreation', 'streets']\n",
    "\n",
    "o_dates = {'start':'2020-01-01', 'end':'2021-12-31'}\n",
    "prior_dates = {'start':'2015-11-15', 'end':'2019-12-31'}\n",
    "\n",
    "canton = 'Bern'\n",
    "this_feature_type = 'l'\n",
    "region_type = 'canton'\n",
    "\n",
    "d = datax.reset_index(drop=True)\n",
    "\n",
    "d = d[d.canton.isin(['Genève', 'Valais', 'Vaud', 'Zürich', 'Bern'])]\n",
    "\n",
    "# make complete report\n",
    "params_l = {'canton':canton, 'date_range':o_dates, 'feature_type': this_feature_type}\n",
    "params_p = {'canton':canton, 'date_range':prior_dates, 'feature_type':this_feature_type}\n",
    "\n",
    "# set the parameters for the weighted prior\n",
    "# exclude records in the likelihood, set date range and feature type\n",
    "lu_catalogue = d[(d.canton != canton)&(d['date'] <= o_dates['end'])&(d.feature_type == 'l')&(d.code.isin(tobo_snacks))].copy()\n",
    "lu_catalogue.reset_index(inplace=True, drop=True)\n",
    "catalog_surveys, catalog_features = make_report_objects(lu_catalogue)\n",
    "\n",
    "# this is the prior data: all data collected from\n",
    "# the same feature type. Lakes, rivers or parks\n",
    "prior_feature = catalog_features.df_cat\n",
    "prior_feature['feature_type'] = 'l'\n",
    "\n",
    "# the prior and likelihood data from the region of interest\n",
    "all_data_of_interest = d[(d['date'] >= prior_dates['start']) & (d['date'] <= o_dates['end'])&(d.feature_type == 'l')&(d.code.isin(tobo_snacks))].copy()\n",
    "all_data_of_interest = all_data_of_interest[all_data_of_interest.canton == canton].copy()\n",
    "\n",
    "all_data_of_interest['use'] = 'pers'\n",
    "all_data_of_interest.reset_index(inplace=True, drop=True)\n",
    "\n",
    "land_covers = ['buildings', 'forest', 'undefined', 'public-services', 'streets', 'orchards', 'use', 'canton', 'city', 'feature_name']\n",
    "\n",
    "all_report, all_land_use = make_report_objects(all_data_of_interest, info_columns = ['use', 'canton', 'city', 'feature_name'])\n",
    "\n",
    "args = {\n",
    "    'likelihood': {'canton':canton, 'date_range':o_dates},\n",
    "    'prior' : {'canton':canton, 'date_range':prior_dates},\n",
    "    'data' : all_data_of_interest.copy(),\n",
    "    'land-use-inventory' : prior_feature.copy()\n",
    "}\n",
    "\n",
    "combined_results = reports_and_forecast(args['likelihood'], args['prior'], ldata=args['data'])\n",
    "standard_combined = make_standard_report(combined_results, args)\n",
    "\n",
    "\n",
    "lake_report = combined_results['this_report']\n",
    "lake_prior_report = combined_results['prior_report']\n",
    "lake_land_use = combined_results['this_land_use']"
   ]
  },
  {
   "cell_type": "code",
   "execution_count": 23,
   "id": "e683c8d8-686b-40f4-bc25-eea85be2061a",
   "metadata": {
    "editable": true,
    "slideshow": {
     "slide_type": ""
    },
    "tags": [
     "remove-input"
    ]
   },
   "outputs": [],
   "source": [
    "fig, title = scatter_plot_display(combined_results, standard_combined)\n",
    "glue('scatter-plot-summary', fig, display=False)"
   ]
  },
  {
   "cell_type": "code",
   "execution_count": 24,
   "id": "cec0d16e-75d7-4971-8c73-126361b6e78a",
   "metadata": {
    "editable": true,
    "slideshow": {
     "slide_type": ""
    },
    "tags": [
     "remove-input"
    ]
   },
   "outputs": [],
   "source": [
    "lake_histogram_of_results = histograms_standard(standard_combined['observed-values'])\n",
    "glue('histogram-of_results', fig, display=False)"
   ]
  },
  {
   "cell_type": "code",
   "execution_count": 25,
   "id": "18940417-fc2b-453f-84ec-f409cb743a83",
   "metadata": {
    "editable": true,
    "slideshow": {
     "slide_type": ""
    },
    "tags": [
     "remove-input"
    ]
   },
   "outputs": [],
   "source": [
    "lake_forecasted_distributions = ecdf_plots_standard(standard_combined['forecasted-values'])\n",
    "glue('forecasts', lake_forecasted_distributions, display=False)"
   ]
  },
  {
   "cell_type": "code",
   "execution_count": 26,
   "id": "0af18b9d-de0c-43e9-bbfa-560e14cd9e7f",
   "metadata": {
    "editable": true,
    "slideshow": {
     "slide_type": ""
    },
    "tags": [
     "remove-input"
    ]
   },
   "outputs": [],
   "source": [
    "# Create a GeoDataFrame from the list of locations\n",
    "dbc = gpd.read_file('data/ignorethis/shapes/kantons.shp')\n",
    "dbc = dbc.to_crs(epsg=4326)\n",
    "dbc = dbc[dbc.NAME == canton].copy()\n",
    "dbckey = dbc[['NAME', 'KANTONSNUM']].set_index('NAME')\n",
    "dbckey = dbckey.drop_duplicates()\n",
    "thiscanton = dbckey.loc[canton, 'KANTONSNUM']\n",
    "db = gpd.read_file('data/ignorethis/shapes/municipalities.shp')\n",
    "db = db.to_crs(epsg=4326)\n",
    "thesecities = db[db.KANTONSNUM == thiscanton]\n",
    "surveyedcities = all_data_of_interest.city.unique()\n",
    "\n",
    "bounds = dbc.total_bounds\n",
    "minx, miny, maxx, maxy = bounds\n",
    "\n",
    "\n",
    "rivers = gpd.read_file('data/ignorethis/shapes/rivers.shp')\n",
    "rivers = rivers.to_crs(epsg=4326)\n",
    "# Filter the background layer to cover the bounding box\n",
    "rivers_within_bounds = rivers.clip(dbc, keep_geom_type=True) # cx[minx:maxx, miny:maxy]\n",
    "\n",
    "\n",
    "lakes = gpd.read_file('data/ignorethis/shapes/lakes.shp')\n",
    "lakes = lakes.to_crs(epsg=4326)\n",
    "lakes_within_bounds = lakes.clip(dbc, keep_geom_type=True) # [minx:maxx, miny:maxy]\n",
    "\n",
    "# Define the plot\n",
    "fig, ax = plt.subplots(figsize=(12,10))\n",
    "\n",
    "citymap = thesecities.plot(ax=ax, edgecolor='black', facecolor='None', linewidth=.1)\n",
    "\n",
    "surveyed = thesecities[thesecities.NAME.isin(surveyedcities)].plot(ax=ax, color='salmon', alpha=0.6)\n",
    "\n",
    "dbc.plot(ax=ax, edgecolor='black', facecolor='None', linewidth=.4)\n",
    "rivers_within_bounds.plot(ax=ax, edgecolor='dodgerblue', alpha=.4)\n",
    "lakes_within_bounds.plot(ax=ax, edgecolor='dodgerblue', color='dodgerblue', linewidth=.2, alpha=.4)\n",
    "\n",
    "lakes = lake_report.sample_results()\n",
    "prior_samples = lake_prior_report.sample_results()\n",
    "\n",
    "lakes_locations,  map_boundsa = map_markers(lakes)\n",
    "lakes_locations.plot(ax=ax, color= session_config.palette['likelihood'], markersize=80, zorder=5)\n",
    "\n",
    "prior_locations,  map_boundsb = map_markers(prior_samples)\n",
    "prior_locations.plot(ax=ax, color= session_config.palette['prior'], marker='x', markersize=80, zorder=5)\n",
    "\n",
    "ax.set_title(f'Survey locations {canton}')\n",
    "plt.xlabel('')\n",
    "plt.ylabel('')\n",
    "\n",
    "plt.axis('off')\n",
    "\n",
    "legend_elements = [\n",
    "    Line2D([0], [0], marker='o', label='After 2020', markersize=10, markeredgecolor='w', markerfacecolor= session_config.palette['likelihood']),\n",
    "    Line2D([0], [0], marker='x', label='Before 2020', markersize=10, markeredgecolor= session_config.palette['prior'])\n",
    "]\n",
    "\n",
    "plt.legend(handles=legend_elements, loc='upper right')\n",
    "\n",
    "glue('map-of-survey-locations', fig, display=False)\n",
    "plt.close()"
   ]
  },
  {
   "cell_type": "markdown",
   "id": "25edbff7-dc25-44f9-951c-e59d8ce2f7db",
   "metadata": {
    "editable": true,
    "slideshow": {
     "slide_type": ""
    },
    "tags": []
   },
   "source": [
    "# Canton Bern Lakes\n",
    "\n",
    "## Vital Statistics"
   ]
  },
  {
   "cell_type": "code",
   "execution_count": 27,
   "id": "5d4a8033-cd36-455c-a1fd-8f36d40fd8fb",
   "metadata": {
    "editable": true,
    "slideshow": {
     "slide_type": ""
    },
    "tags": [
     "remove-input"
    ]
   },
   "outputs": [],
   "source": [
    "requesting = 'Please summarize the following sections:'\n",
    "sections_to_summarize = 'Administrative boundaries Bern 2015-11-15 2021-12-31'\n",
    "instructions = 'Please answer in paragraph form and label your response with \"### Political boundaries\"'\n",
    "\n",
    "admin = data_chait.invoke({'input': f'{requesting} {sections_to_summarize}\\n\\nInstructions\\n\\n{instructions}'})\n",
    "glue('political-boundaries', Markdown(admin['answer']), display=False)"
   ]
  },
  {
   "cell_type": "markdown",
   "id": "1bf77ccc-b9c6-4f93-af12-1c605645d26d",
   "metadata": {
    "editable": true,
    "slideshow": {
     "slide_type": ""
    },
    "tags": []
   },
   "source": [
    "```{glue:md} political-boundaries\n",
    ":format: myst\n",
    "```"
   ]
  },
  {
   "cell_type": "code",
   "execution_count": 28,
   "id": "f7ef183b-757b-48b1-adb9-1970859b54f1",
   "metadata": {
    "editable": true,
    "slideshow": {
     "slide_type": ""
    },
    "tags": [
     "remove-input"
    ]
   },
   "outputs": [],
   "source": [
    "requesting = 'Please summarize the following sections:'\n",
    "sections_to_summarize = 'Named features Bern 2015-11-15 2021-12-31 : The lakes, rivers and parks'\n",
    "instructions = 'Please answer in paragraph form and label your response with \"### Features of interest\"'\n",
    "\n",
    "surveyed_features = data_chait.invoke({'input': f'{requesting} {sections_to_summarize}\\n\\nInstructions\\n\\n{instructions}'})\n",
    "glue('surveyed-features', Markdown(surveyed_features['answer']), display=False)"
   ]
  },
  {
   "cell_type": "markdown",
   "id": "ac8fd2d1-ef84-488e-b1f7-cdb58ddb99d1",
   "metadata": {
    "editable": true,
    "slideshow": {
     "slide_type": ""
    },
    "tags": []
   },
   "source": [
    "```{glue:md} surveyed-features\n",
    ":format: myst\n",
    "```"
   ]
  },
  {
   "cell_type": "markdown",
   "id": "a5908867-52e3-4afb-b6a6-c1e19852e89d",
   "metadata": {
    "editable": true,
    "slideshow": {
     "slide_type": ""
    },
    "tags": []
   },
   "source": [
    "```{glue} map-of-survey-locations\n",
    "```"
   ]
  },
  {
   "cell_type": "code",
   "execution_count": 29,
   "id": "e85f6cca-6ae4-4bca-ada7-2c92e90faf90",
   "metadata": {
    "editable": true,
    "slideshow": {
     "slide_type": ""
    },
    "tags": [
     "remove-input"
    ]
   },
   "outputs": [],
   "source": [
    "requesting = 'Please summarize the following sections:'\n",
    "sections_to_summarize = 'Summary statistics Bern 2015-11-15 2021-12-31: The descriptive statistics of the survey results'\n",
    "instructions = 'Identify the average pcs/m, the 90% interval, anwer in paragraph form and label your response: \"### Summary of survey results\"'\n",
    "\n",
    "summary_results = data_chait.invoke({'input': f'{requesting} {sections_to_summarize}\\n\\nInstructions\\n\\n{instructions}'})\n",
    "glue('summary-results', Markdown(summary_results['answer']), display=False)"
   ]
  },
  {
   "cell_type": "markdown",
   "id": "f2d0d39f-4b01-4a5c-adca-8798c6fb9aac",
   "metadata": {
    "editable": true,
    "raw_mimetype": "",
    "slideshow": {
     "slide_type": ""
    },
    "tags": []
   },
   "source": [
    "```{glue:md} summary-results\n",
    ":format: myst\n",
    "```"
   ]
  },
  {
   "cell_type": "markdown",
   "id": "bfddcd49-b71c-4fb5-b4d3-f173aab8b49e",
   "metadata": {
    "editable": true,
    "slideshow": {
     "slide_type": ""
    },
    "tags": []
   },
   "source": [
    "```{glue} scatter-plot-summary\n",
    "```"
   ]
  },
  {
   "cell_type": "code",
   "execution_count": 30,
   "id": "8c68dba4-f3d8-4c7d-90af-c04e2cba3150",
   "metadata": {
    "editable": true,
    "slideshow": {
     "slide_type": ""
    },
    "tags": [
     "remove-input"
    ]
   },
   "outputs": [],
   "source": [
    "requesting = 'Please summarize the following sections:'\n",
    "sections_to_summarize = 'Inventory items Bern 2015-11-15 2021-12-31 : The complete list of the objects found and indentified included in this report.'\n",
    "instructions = 'What was The quantity, average density, % of total and fail rate per object category of the top two items? Answer in paragraph format and provide a table of values. How many were found? Label your response\"### Inventory and most common\".'\n",
    "\n",
    "inventory = data_chait.invoke({'input': f'{requesting} {sections_to_summarize}\\n\\nInstructions\\n\\n{instructions}'})\n",
    "glue('inventory', Markdown(inventory['answer']), display=False)"
   ]
  },
  {
   "cell_type": "markdown",
   "id": "57631e1a-f90a-46e2-ab09-5ea5cff510ab",
   "metadata": {
    "editable": true,
    "slideshow": {
     "slide_type": ""
    },
    "tags": []
   },
   "source": [
    "```{glue:md} inventory\n",
    ":format: myst\n",
    "```"
   ]
  },
  {
   "cell_type": "code",
   "execution_count": 31,
   "id": "93d5fcb1-c3af-4595-8cee-d54491498b8b",
   "metadata": {
    "editable": true,
    "slideshow": {
     "slide_type": ""
    },
    "tags": [
     "remove-input"
    ]
   },
   "outputs": [],
   "source": [
    "sample_read = f\"\"\"\n",
    "\\n\\n\n",
    "__Example of how to interpret sampling-stratification table:__\\n\\n\n",
    "\n",
    "__Sample table:__\\n\\n\n",
    "\n",
    "|   Proportion of buffer zone |   ('Proportion of samples collected', 'buildings') |   ('Proportion of samples collected', 'wetlands') |   ('Proportion of samples collected', 'forest') |   ('Proportion of samples collected', 'public-services') |   ('Proportion of samples collected', 'recreation') |   ('Proportion of samples collected', 'undefined') |   ('Proportion of samples collected', 'streets') |   ('Proportion of samples collected', 'vineyards') |   ('Proportion of samples collected', 'orchards') |\n",
    "|----------------------------:|---------------------------------------------------:|--------------------------------------------------:|------------------------------------------------:|---------------------------------------------------------:|----------------------------------------------------:|---------------------------------------------------:|-------------------------------------------------:|---------------------------------------------------:|--------------------------------------------------:|\n",
    "|                           1 |                                          0.0588235 |                                                 1 |                                       0.976471  |                                                0.776471  |                                                   1 |                                          0.870588  |                                                0 |                                          0.976471  |                                                 1 |\n",
    "|                           2 |                                          0.0588235 |                                                 0 |                                       0.0235294 |                                                0.2       |                                                   0 |                                          0.0470588 |                                                0 |                                          0         |                                                 0 |\n",
    "|                           3 |                                          0.0117647 |                                                 0 |                                       0         |                                                0.0235294 |                                                   0 |                                          0.0823529 |                                                0 |                                          0.0235294 |                                                 0 |\n",
    "|                           4 |                                          0.376471  |                                                 0 |                                       0         |                                                0         |                                                   0 |                                          0         |                                                0 |                                          0         |                                                 0 |\n",
    "|                           5 |                                          0.494118  |                                                 0 |                                       0         |                                                0         |                                                   0 |                                          0         |                                                0 |                                          0         |                                                 0 |\n",
    "\n",
    "\n",
    "__exmple paragraph__\n",
    "\n",
    "The sampling-stratification of the surveys was as follows: 49% of the surveys were conducted at locations where 80-100% of the buffer was dedicated to buidlings. 37% of the surveys were taken where 60 -80% of the buffer\n",
    "was dedicated to buidlings. 1% of the surveys were taken where 40-60% of the buffer was dedicated to buidlings. 6% of the samples were taken from locations where 20 - 40% of the buffer was dedicated to buidlings. \n",
    "6% of samples was taken from locations where 0-20% of the buffer was dedicated to buidlings. All of the samples were taken in locations where 0-20% of the buffer was dedicated to wetlands. 98% of the samples were \n",
    "taken from locations where 0-20% of the buffer was dedicated to forest. 2% of surveys were taken where 20-40% of the buffer was dedicated to forest. 77% of the samples were taken from locations that had\n",
    "0-20% of the buffer dedicated to public-services. 20% of the surveys were taken from locations that had 20-40% of the buffer dedicated to public services. 2% of surveys were taked from locations that had\n",
    "20-40% of the buffer dedicated to public services.\n",
    "\"\"\"\n"
   ]
  },
  {
   "cell_type": "code",
   "execution_count": 32,
   "id": "9b37dd85-616d-4d56-84f6-572f0e705ff8",
   "metadata": {
    "editable": true,
    "slideshow": {
     "slide_type": ""
    },
    "tags": [
     "remove-input"
    ]
   },
   "outputs": [],
   "source": [
    "requesting = 'Please summarize the following sections:'\n",
    "sections_to_summarize = 'Sampling stratification Bern 2015-11-15 2021-12-31: The environmental features surrounding the survey location'\n",
    "instructions = [\n",
    "    \"The sampling stratification quantifies what proportion of the samples were conducted according to the proportion of the buffer zone that is dedicated to a particular land use feature.\",\n",
    "    \"Each survey location is surrounded by a buffer zone of radius = 1 500 meters. The buffer zone is comprised of land-use features, each land use feature occupies a proportion of the buffer zone (0 - 100%). \",\n",
    "    \"The sampling stratification is the proportions of samples taken for each land use feature and the proportion of buffer zone that the feature occupies. Each location has the same size buffer zone. \",\n",
    "    \"What changes is how the land use features are distributed within the buffer zone. You are given a table of vaues. Here is an example of how to read it: \",\n",
    "    \"Suppose the proportion of buffer is 0 - 20% and the value for buidlings is .3, that means that 30% of the samples took place at locations where 0-20% of the buffer is dedicated to buildlings. \",\n",
    "    \"Another example: Suppose on the same table for proportion of buffer 40-60% forests = .24, that means that 24% of samples were taken 40-60% was dedidcated to forest. \",\n",
    "    \"What is a buffer zone? What is sample stratification? What role does land use play? Summarize the table of values using the examples provided above\"\n",
    "    \"\\n\\nPlease label your response '### Sampling stratification'\"\n",
    "]\n",
    "instructions = \"\".join(instructions)\n",
    "sampling_stratification = data_chait.invoke({'input': f'{requesting} {sections_to_summarize}\\n\\nInstructions\\n\\n{instructions}'})\n",
    "glue('sampling-stratification', Markdown(sampling_stratification['answer']), display=False)"
   ]
  },
  {
   "cell_type": "code",
   "execution_count": 33,
   "id": "76a73ee3-47b7-47a7-afcf-0633608723bc",
   "metadata": {
    "editable": true,
    "slideshow": {
     "slide_type": ""
    },
    "tags": []
   },
   "outputs": [
    {
     "data": {
      "text/markdown": [
       "### Sampling stratification\n",
       "\n",
       "The sampling stratification quantifies the proportion of samples collected based on the proportion of the buffer zone dedicated to specific land use features. Each survey location is surrounded by a buffer zone with a radius of 1,500 meters, and this zone includes various land-use features, each occupying a certain proportion (0-100%) of the buffer zone. The stratification helps understand how the distribution of land-use features within the buffer zone influences the sampling process.\n",
       "\n",
       "**Buffer Zone Proportions and Sampling Distribution:**\n",
       "\n",
       "- **0-20% Buffer Zone:**\n",
       "  - Buildings: 31% of samples were collected where 0-20% of the buffer zone is dedicated to buildings.\n",
       "  - Wetlands: All samples (100%) were collected from locations with wetlands within this buffer zone.\n",
       "  - Forest: 24% of samples were from locations where 0-20% of the buffer had forest presence.\n",
       "  - Public Services, Recreation, Undefined Features: All samples noted these features at this level.\n",
       "  - Streets: 45% of the samples were associated with streets.\n",
       "  - Vineyards and Orchards: All samples (100%) were located within this buffer zone.\n",
       "\n",
       "- **20-40% Buffer Zone:**\n",
       "  - Buildings: 38% of samples were collected from locations with buildings.\n",
       "  - Wetlands: No samples were taken from wetlands.\n",
       "  - Forest: 66% of the samples represented forested areas.\n",
       "  - Public Services and Recreation: No samples were collected.\n",
       "  - Undefined Features: 8% of samples were associated with undefined features.\n",
       "  - Streets: 8% of samples were related to streets.\n",
       "\n",
       "- **40-60% Buffer Zone:**\n",
       "  - Buildings: 22% of samples were dedicated to buildings.\n",
       "  - Wetlands: No samples were taken from wetlands.\n",
       "  - Forest: Only 9% of samples represented forest.\n",
       "  - Public Services: No samples were recorded.\n",
       "  - Undefined Features: 57% of samples fell into this category.\n",
       "  - Streets: 19% of samples indicated the presence of streets.\n",
       "\n",
       "- **60-80% Buffer Zone:**\n",
       "  - Buildings: 7% of samples were linked to buildings.\n",
       "  - Wetlands: No samples were taken from wetlands.\n",
       "  - Forest: No samples were noted.\n",
       "  - Undefined Features: 0% of samples were associated with undefined features.\n",
       "  - Streets: 20% of samples were related to streets.\n",
       "\n",
       "- **80-100% Buffer Zone:**\n",
       "  - Buildings: Only 3% of samples were attributed to buildings.\n",
       "  - Wetlands and Forest: No samples were taken.\n",
       "  - Public Services, Recreation, Undefined Features, Streets, Vineyards, and Orchards: No contributions in this buffer zone.\n",
       "\n",
       "This stratification allows for grouping locations according to the topographical features present within the buffer zone and helps in understanding how the observed litter density changes based on these land use features."
      ],
      "text/plain": [
       "<IPython.core.display.Markdown object>"
      ]
     },
     "execution_count": 33,
     "metadata": {},
     "output_type": "execute_result"
    }
   ],
   "source": [
    " Markdown(sampling_stratification['answer'])"
   ]
  },
  {
   "cell_type": "markdown",
   "id": "2d8db5ba-75c3-4f68-ad97-a0efcd043695",
   "metadata": {
    "editable": true,
    "slideshow": {
     "slide_type": ""
    },
    "tags": []
   },
   "source": [
    "```{glue:md} sampling-stratification\n",
    ":format: myst\n",
    "```"
   ]
  },
  {
   "cell_type": "code",
   "execution_count": 34,
   "id": "4486c3fb-1530-49af-a515-342b772b7768",
   "metadata": {
    "editable": true,
    "slideshow": {
     "slide_type": ""
    },
    "tags": []
   },
   "outputs": [],
   "source": [
    "requesting = 'Please summarize the following sections:'\n",
    "sections_to_summarize = 'Topography and trash density Bern 2015-11-15 2021-12-31: The changes in the observed litter density and the changes in land use'\n",
    "instructions = \"Provide a narrative paragraph, and the table of values. note where the pcs/m is highest and lowest. Please label your response '### Topography and trash density'\"\n",
    "instructions = \"\".join(instructions)\n",
    "sampling_stratification = data_chait.invoke({'input': f'{requesting} {sections_to_summarize}\\n\\nInstructions\\n\\n{instructions}'})\n",
    "glue('stratification-pcs-m', Markdown(sampling_stratification['answer']), display=False)"
   ]
  },
  {
   "cell_type": "markdown",
   "id": "b1be236c-5b6b-4700-9afc-30836680166e",
   "metadata": {
    "editable": true,
    "slideshow": {
     "slide_type": ""
    },
    "tags": []
   },
   "source": [
    "```{glue:md} stratification-pcs-m\n",
    ":format: myst\n",
    "```"
   ]
  },
  {
   "cell_type": "code",
   "execution_count": 35,
   "id": "a64b5fb7-bd98-44fa-885d-b80277012ee2",
   "metadata": {
    "editable": true,
    "slideshow": {
     "slide_type": ""
    },
    "tags": [
     "remove-input"
    ]
   },
   "outputs": [],
   "source": [
    "requesting = 'Please summarize the following sections:'\n",
    "sections_to_summarize = 'Cluster analysis Bern 2015-11-15 2021-12-31'\n",
    "instructions = 'Discuss the noteable differences in compostion of the clusters and the differences in the sample average per cluster in paragrpah form. Provide a table of values. Please Label your response \"### Cluster Analysis\".'\n",
    "language = 'english'\n",
    "reply_language = f\"\\n\\nPlease reply in the following language: {language}\"\n",
    "cluster_analysis = data_chait.invoke({'input': f'{requesting} {sections_to_summarize}\\n\\nInstructions\\n\\n{instructions}{reply_language}'})\n",
    "glue('cluster-analysis', Markdown(cluster_analysis['answer']), display=False)"
   ]
  },
  {
   "cell_type": "markdown",
   "id": "a23deca8-63be-400e-98ce-f4c0cdd9c2aa",
   "metadata": {
    "editable": true,
    "slideshow": {
     "slide_type": ""
    },
    "tags": []
   },
   "source": [
    "```{glue:md} cluster-analysis\n",
    ":format: myst\n",
    "```"
   ]
  },
  {
   "cell_type": "markdown",
   "id": "b13dcea0-552d-4d8e-9a45-ef95dfb1ab7f",
   "metadata": {
    "editable": true,
    "slideshow": {
     "slide_type": ""
    },
    "tags": []
   },
   "source": [
    "### Cluster analysis and land-use\n",
    "\n",
    "1. Does the average density per cluster, support any conclusions that could be drawn given the land-use profile?\n",
    "2. Is their any possible correlations?"
   ]
  },
  {
   "cell_type": "code",
   "execution_count": 42,
   "id": "d309f11b-54ab-41f0-bb0d-6d724e66d3ab",
   "metadata": {
    "editable": true,
    "slideshow": {
     "slide_type": ""
    },
    "tags": [
     "remove-input"
    ]
   },
   "outputs": [],
   "source": [
    "requesting = 'Please summarize the following sections:'\n",
    "sections_to_summarize = 'Cluster analysis Bern 2015-11-15 2021-12-31'\n",
    "instructions = 'Does the average density per cluster, support any conclusions that could be drawn given the land-use profile? Is their any possible correlations? Please answer in paragraph form.'\n",
    "\n",
    "cluster_analysis_lu = data_chait.invoke({'input': f'{requesting} {sections_to_summarize}\\n\\nInstructions\\n\\n{instructions}'})\n",
    "glue('cluster-analysis-lu', Markdown(cluster_analysis_lu['answer']), display=False)"
   ]
  },
  {
   "cell_type": "markdown",
   "id": "8fad0693-0b27-4fe7-b450-c7596eea506b",
   "metadata": {
    "editable": true,
    "slideshow": {
     "slide_type": ""
    },
    "tags": []
   },
   "source": [
    "```{glue:md} cluster-analysis-lu\n",
    ":format: myst\n",
    "``` "
   ]
  },
  {
   "cell_type": "markdown",
   "id": "7d2251db-0024-4c30-9ac7-d2ed6b2c745c",
   "metadata": {
    "editable": true,
    "slideshow": {
     "slide_type": ""
    },
    "tags": []
   },
   "source": [
    "## Regression Analysis"
   ]
  },
  {
   "cell_type": "code",
   "execution_count": 39,
   "id": "f71697d5-09c8-4be1-aab9-5e6ee4a7a553",
   "metadata": {
    "editable": true,
    "slideshow": {
     "slide_type": ""
    },
    "tags": [
     "remove-input"
    ]
   },
   "outputs": [],
   "source": [
    "requesting = 'Please summarize the following sections:'\n",
    "sections_to_summarize = 'Summary of regression methods Bern 2015-11-15 2021-12-31: The different linear models the data were tested on'\n",
    "instructions = 'Given the r² values of the regression models how accurate would the predictions be? How accurate would the best model be? How much faith can we put in the predictions ? Answer in paragraph form. Label your response\"### Summary of regression methods\".'\n",
    "\n",
    "regression_methods = data_chait.invoke({'input': f'{requesting} {sections_to_summarize}\\n\\nInstructions\\n\\n{instructions}'})\n",
    "glue('regression-methods', Markdown(regression_methods['answer']), display=False)"
   ]
  },
  {
   "cell_type": "markdown",
   "id": "0b6fcc1b-a378-4227-a9af-c7b6b338c16c",
   "metadata": {
    "editable": true,
    "slideshow": {
     "slide_type": ""
    },
    "tags": []
   },
   "source": [
    "```{glue:md} regression-methods\n",
    ":format: myst\n",
    "``` "
   ]
  },
  {
   "cell_type": "code",
   "execution_count": 40,
   "id": "586f90e4-7840-4914-9e36-15787854ae5b",
   "metadata": {
    "editable": true,
    "slideshow": {
     "slide_type": ""
    },
    "tags": [
     "remove-input"
    ]
   },
   "outputs": [],
   "source": [
    "requesting = 'Please summarize the following sections:'\n",
    "sections_to_summarize = 'Forecasts grid approximation Bern 2015-11-15 2021-12-31'\n",
    "instructions = 'Explain what a grid forecast is. Explain each forecast method. Given the results from the forecast methods estimate a probable range of values. Label your response\"### Forecasts for 2025\".'\n",
    "\n",
    "forecasts = data_chait.invoke({'input': f'{requesting} {sections_to_summarize}\\n\\nInstructions\\n\\n{instructions}'})\n",
    "glue('forecasts',Markdown(forecasts['answer']), display=False)"
   ]
  },
  {
   "cell_type": "markdown",
   "id": "2c819fbb-1a84-4a4d-a771-57f036e5015d",
   "metadata": {
    "editable": true,
    "slideshow": {
     "slide_type": ""
    },
    "tags": []
   },
   "source": [
    "```{glue:md} forecasts\n",
    ":format: myst\n",
    "``` "
   ]
  },
  {
   "cell_type": "markdown",
   "id": "6972e792-e653-4f06-bbe0-4ad6614ad5c2",
   "metadata": {
    "editable": true,
    "slideshow": {
     "slide_type": ""
    },
    "tags": []
   },
   "source": [
    "```{glue} forecasts\n",
    "```"
   ]
  },
  {
   "cell_type": "code",
   "execution_count": null,
   "id": "04aa2a4f-8577-4fd9-a988-cf4227a6833c",
   "metadata": {
    "editable": true,
    "slideshow": {
     "slide_type": ""
    },
    "tags": []
   },
   "outputs": [],
   "source": []
  },
  {
   "cell_type": "code",
   "execution_count": null,
   "id": "ce93ddf0-1d17-4786-a7ed-dc10cec99dd0",
   "metadata": {
    "editable": true,
    "slideshow": {
     "slide_type": ""
    },
    "tags": []
   },
   "outputs": [],
   "source": []
  }
 ],
 "metadata": {
  "kernelspec": {
   "display_name": "Python 3 (ipykernel)",
   "language": "python",
   "name": "python3"
  },
  "language_info": {
   "codemirror_mode": {
    "name": "ipython",
    "version": 3
   },
   "file_extension": ".py",
   "mimetype": "text/x-python",
   "name": "python",
   "nbconvert_exporter": "python",
   "pygments_lexer": "ipython3",
   "version": "3.9.19"
  }
 },
 "nbformat": 4,
 "nbformat_minor": 5
}