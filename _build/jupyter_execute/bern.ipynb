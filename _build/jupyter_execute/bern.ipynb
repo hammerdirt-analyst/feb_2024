{
 "cells": [
  {
   "cell_type": "code",
   "execution_count": 1,
   "id": "5bf92247-ef77-4aae-b62f-9388cba6765e",
   "metadata": {
    "editable": true,
    "slideshow": {
     "slide_type": ""
    },
    "tags": [
     "remove-input"
    ]
   },
   "outputs": [],
   "source": [
    "import session_config\n",
    "import reports\n",
    "import userdisplay\n",
    "import geospatial\n",
    "import gridforecast as gfcast\n",
    "\n",
    "import logging\n",
    "\n",
    "import pandas as pd\n",
    "import numpy as np\n",
    "import matplotlib.pyplot as plt\n",
    "import matplotlib as mpl\n",
    "import matplotlib.colors\n",
    "from matplotlib.colors import LinearSegmentedColormap, ListedColormap\n",
    "import seaborn as sns\n",
    "\n",
    "from myst_nb import glue\n",
    "from IPython.display import display, Markdown\n",
    "\n",
    "logging.basicConfig(\n",
    "    filename='app.log', \n",
    "    level=logging.DEBUG,\n",
    "    format='%(asctime)s - %(name)s - %(levelname)s - %(message)s'\n",
    ")\n",
    "\n",
    "logger = logging.getLogger(__name__)"
   ]
  },
  {
   "cell_type": "markdown",
   "id": "d2d5a3de-1688-4113-95ce-bf614dbf9695",
   "metadata": {
    "editable": true,
    "slideshow": {
     "slide_type": ""
    },
    "tags": []
   },
   "source": [
    "# Canton - sample\n",
    "\n",
    "\n",
    ":::{dropdown} How to make a report\n",
    "A report is the implementation of a `SurveyReport`, `LandUseReport` and a  `GridForecaster`. The default method for a survey-report is `discovery`. In this method the objects of interest are _discovered_ by indentifying the objects that appear often (frequence) and in abundance (highest absolute count). Often is defined as identified in 50% of the surveys. Abundance is the sum of all the counts for a particular object, the ten most _abundant_ objects are considered important.\n",
    "\n",
    "The land-use-report accepts the `SurveyReport.sample_results` and assigns the land-use attributes to the record. The land-use-report provides the baseline assessement of litter density in reference to the surrounding environment. The assessment accepts as variables the proportion of available space that a topographical feature occupies in a circle of $\\pi r² \\text{ where r = 1 500 meters}$ and the center of that circle is the survey location. These proportions are compared to the `average pieces per meter` for an object or group of objects.\n",
    "\n",
    "The GridForecaster accepts as variables the `SurveyReport.sample_results` from two reports, the prior and the likelihood. Here is where the prior and likelihood are defined for the rest of the forecasting grid. The default inference pipepline is an implementation of conditional probability using the mutlinomial-dirichlet conjugate relationship with two priors. The first prior considers all the data within the limits of the query parameters and if possible the data prior to the temporal window of the query. The second prior is wieghted according to the land-use characteristics of the data considered under the query parameters and prior to the temporal range.\n",
    "\n",
    "Each report and the inference method are documented: [SurveyReport](surveyreporter), [LandUseReport](landusereporter), [GridForecaster](gridforecaster)\n",
    "\n",
    "__Create a report__\n",
    "\n",
    "A report can be intiated by providing the name of the canton. If your canton does not appear this is because we have no data. The prior dates will be calculated automatically, by taking all data prior to the start date of the querry.\n",
    "\n",
    "```{code} python\n",
    "\n",
    "# the dates i am interested in, the most recent sampling camapaign\n",
    "observed_dates = {'start':'2020-01-01', 'end':'2021-12-31'}\n",
    "\n",
    "# everything that was seen before\n",
    "prior_dates = {'start':'2015-11-15', 'end':'2019-12-31'}\n",
    "\n",
    "# name the canton\n",
    "canton = 'Bern'\n",
    "\n",
    "# define the dates of interest\n",
    "data_of_interest = {'canton':canton, 'date_range':observed_dates}\n",
    "sampling_history = {'canton':canton, 'date_range':prior_dates}\n",
    "\n",
    "# make report\n",
    "results = gridforecast.reports_and_forecast(data_of_interest, sampling_history, ldata=data, logger=logger)\n",
    "```\n",
    ":::\n",
    "\n"
   ]
  },
  {
   "cell_type": "code",
   "execution_count": 2,
   "id": "c7e72a1c-a3e1-4407-8b87-745b94b6f76a",
   "metadata": {
    "editable": true,
    "slideshow": {
     "slide_type": ""
    },
    "tags": [
     "remove-input"
    ]
   },
   "outputs": [],
   "source": [
    "data = session_config.collect_survey_data()\n",
    "o_dates = {'start':'2020-01-01', 'end':'2021-12-31'}\n",
    "prior_dates = {'start':'2015-11-15', 'end':'2019-12-31'}\n",
    "\n",
    "canton = 'Bern'\n",
    "d= data.reset_index(drop=True)"
   ]
  },
  {
   "cell_type": "code",
   "execution_count": 3,
   "id": "e10d3041-f202-46cb-b324-66b4f66b032c",
   "metadata": {
    "editable": true,
    "slideshow": {
     "slide_type": ""
    },
    "tags": [
     "remove-input"
    ]
   },
   "outputs": [],
   "source": [
    "# likelihood_data, l_locations, l_message = gfcast.check_params({'canton':canton, 'date_range':o_dates}, d, logger)\n",
    "# prior_data, p_locations, p_message = gfcast.check_params({'canton':canton, 'date_range':prior_dates}, d, logger)\n",
    "results = gfcast.reports_and_forecast({'canton':canton, 'date_range':o_dates}, {'canton':canton, 'date_range':prior_dates}, ldata=d.copy(), logger=logger)\n",
    "# collect the results from the prior and the likelihood\n",
    "prr = results['prior_report'].sample_results.groupby('sample_id')['pcs/m'].sum()\n",
    "lkl = results['this_report'].sample_results.groupby('sample_id')['pcs/m'].sum()\n",
    "\n",
    "# consider all values\n",
    "xii = results['posterior_no_limit'].sample_posterior()\n",
    "\n",
    "# limit to the 99th percentile\n",
    "sample_values, posterior, summary_simple = gfcast.dirichlet_posterior(results['posterior_99'])"
   ]
  },
  {
   "cell_type": "code",
   "execution_count": 4,
   "id": "968f5987-6cda-4e69-ae20-a093a06318d8",
   "metadata": {
    "editable": true,
    "slideshow": {
     "slide_type": ""
    },
    "tags": [
     "remove-input"
    ]
   },
   "outputs": [],
   "source": [
    "t = results['this_report'].inventory()\n",
    "t['material'] = t.index.map(lambda x: userdisplay.code_material.loc[x, 'material'])\n",
    "material_report = t.groupby(['material']).quantity.sum()\n",
    "mr = material_report/sum(material_report)\n",
    "mr = (mr*100).astype(int)\n",
    "mr = pd.DataFrame(mr[mr > 1])\n",
    "mr['% of total'] = mr.quantity.apply(lambda x: f'{x}%')\n",
    "mr = mr[['% of total']].T\n",
    "mr = mr.style.set_table_styles(userdisplay.table_css_styles)\n"
   ]
  },
  {
   "cell_type": "code",
   "execution_count": 5,
   "id": "afc970a2-f8e5-49f5-9c90-2faeace72ba9",
   "metadata": {
    "editable": true,
    "slideshow": {
     "slide_type": ""
    },
    "tags": [
     "remove-input"
    ]
   },
   "outputs": [],
   "source": [
    "fig, ax = plt.subplots()\n",
    "\n",
    "o_surveys = results['this_report'].sample_results\n",
    "p_surveys = results['prior_report'] .sample_results\n",
    "\n",
    "sns.histplot(data=o_surveys, x='pcs/m', stat='probability', label='observed', ax=ax)\n",
    "sns.histplot(data=p_surveys, x='pcs/m', stat='probability', label='prior',ax=ax)\n",
    "ax.legend()\n",
    "plt.tight_layout()\n",
    "glue('prior-likelihood', fig, display=False)\n",
    "plt.close()"
   ]
  },
  {
   "cell_type": "code",
   "execution_count": 6,
   "id": "e04e4514-4926-445c-858c-857e5c4c5ca4",
   "metadata": {
    "editable": true,
    "slideshow": {
     "slide_type": ""
    },
    "tags": [
     "remove-input"
    ]
   },
   "outputs": [],
   "source": [
    "fig, ax = plt.subplots()\n",
    "\n",
    "sns.ecdfplot(prr, label='prior', ls='-', ax=ax)\n",
    "sns.ecdfplot(lkl, label='observed', ls='-', ax=ax)\n",
    "sns.ecdfplot(sample_values, label='expected 99%', ls=':')\n",
    "sns.ecdfplot(xii, label='expected max', ls='-.')\n",
    "ax.set_xlim(-.1, 10)\n",
    "ax.legend()\n",
    "plt.tight_layout()\n",
    "glue('cumumlative-dist-forecast-prior', fig, display=False)\n",
    "plt.close()"
   ]
  },
  {
   "cell_type": "code",
   "execution_count": 7,
   "id": "ae5f4dec-5dfd-48e2-ab12-703e5b00200b",
   "metadata": {
    "editable": true,
    "slideshow": {
     "slide_type": ""
    },
    "tags": [
     "remove-input"
    ]
   },
   "outputs": [],
   "source": [
    "os = results['this_report'].object_summary()\n",
    "os.reset_index(drop=False, inplace=True)\n",
    "\n",
    "# mostcommon objects\n",
    "most_common_objects, mc_codes, proportions = userdisplay.most_common(os)\n",
    "most_common_objects = most_common_objects.set_caption(\"\")"
   ]
  },
  {
   "cell_type": "code",
   "execution_count": 8,
   "id": "7ed7ca4e-dba6-4553-ac66-0e0c14d55e0b",
   "metadata": {
    "editable": true,
    "slideshow": {
     "slide_type": ""
    },
    "tags": [
     "remove-input"
    ]
   },
   "outputs": [],
   "source": [
    "def display_forecast(fcast_summary):\n",
    "    average = fcast_summary['average']\n",
    "    hdi_min, hdi_max = fcast_summary['hdi'][0], fcast_summary['hdi'][1]\n",
    "    \n",
    "    range_90_min, range_90_max= fcast_summary['range'][0], fcast_summary['range'][-1]\n",
    "    alist = f'\\n* Average: {round(average, 2)}\\n* HDI 95%: {round(hdi_min, 2)} - {round(hdi_max, 2)}\\n* 90% Range: {round(range_90_min, 2)} - {round(range_90_max,2)}'\n",
    "    return alist\n",
    "new_list = display_forecast(summary_simple)\n",
    "new_list2 = display_forecast(results['posterior_no_limit'].get_descriptive_statistics())\n",
    "new_list1 = Markdown('__Given the 99th percentile of all observed samples__' + new_list)\n",
    "new_list2 = Markdown('__Given the observed max__' + new_list2)\n"
   ]
  },
  {
   "cell_type": "code",
   "execution_count": 9,
   "id": "e52801ed-c5a4-43d9-93f4-e0494702c56b",
   "metadata": {
    "editable": true,
    "slideshow": {
     "slide_type": ""
    },
    "tags": [
     "remove-input"
    ]
   },
   "outputs": [],
   "source": [
    "feature_inv = results['this_report'].feature_inventory()\n",
    "feature_inv.pop('p')\n",
    "\n",
    "\n",
    "feature_inventory = Markdown(userdisplay.feature_inventory(feature_inv, session_language='en'))\n",
    "\n",
    "aboundaries = results['this_report'].administrative_boundaries().copy()\n",
    "aboundaries.pop('canton')\n",
    "aboundaries.pop('parent_boundary')\n",
    "\n",
    "administrative_boundaries = Markdown(userdisplay.boundaries(aboundaries, session_language='en'))\n",
    "\n",
    "\n",
    "header = userdisplay.sampling_result_summary(results['this_report'].sampling_results_summary, session_language='en')[0]\n",
    "info = userdisplay.sampling_result_summary(results['this_report'].sampling_results_summary, session_language='en')[1]\n",
    "samp_sum = Markdown(f'{header}\\n{info}')\n",
    "\n",
    "prior_header = userdisplay.sampling_result_summary(results['prior_report'].sampling_results_summary, session_language='en')[0]\n",
    "prior_info = userdisplay.sampling_result_summary(results['prior_report'].sampling_results_summary, session_language='en')[1]\n",
    "prior_samp_sum = Markdown(f'{prior_header}\\n{prior_info}')\n",
    "\n",
    "ratio_most_common = Markdown(f'The most common objects account for {int(proportions*100)}% of all objects')\n",
    "\n",
    "# one_list = Markdown(f'{feature_inventory}\\n{administrative_boundaries}')\n",
    "glue('material-report', mr, display=False)\n",
    "glue('forecast-weighted-prior', new_list2, display=False)\n",
    "glue('forecast-all-prior', new_list1, display=False)\n",
    "glue('ratio-most-common', ratio_most_common, display=False)\n",
    "glue('most_common_objects', most_common_objects, display=False)\n",
    "glue('prior-sampling-summary', prior_samp_sum, display=False)\n",
    "glue('sampling-summary', samp_sum, display=False)\n",
    "glue('feature-inventory', feature_inventory, display=False)\n",
    "glue('administrative-boundaries', administrative_boundaries, display=False)\n"
   ]
  },
  {
   "cell_type": "code",
   "execution_count": null,
   "id": "edd0bcc0-cf3b-4fca-ab40-35374c54f7a9",
   "metadata": {
    "editable": true,
    "slideshow": {
     "slide_type": ""
    },
    "tags": []
   },
   "outputs": [],
   "source": [
    "\n"
   ]
  },
  {
   "cell_type": "markdown",
   "id": "720e6d85-e449-48cd-8412-3e243934e678",
   "metadata": {
    "editable": true,
    "slideshow": {
     "slide_type": ""
    },
    "tags": []
   },
   "source": [
    "## Bern\n",
    "\n",
    "### Vital statistics\n",
    "\n",
    "::::{grid} 2 2 2 2\n",
    ":::{grid-item}\n",
    ":columns: 12 5 5 5\n",
    "```{glue} feature-inventory\n",
    "```\n",
    "```{glue} administrative-boundaries\n",
    "```\n",
    "```{glue} sampling-summary\n",
    "```\n",
    "__Material composition__\n",
    "\n",
    "```{glue} material-report\n",
    "```\n",
    ":::\n",
    ":::{grid-item-card}\n",
    ":columns: 12 7 7 7\n",
    "```{glue} prior-likelihood\n",
    "```\n",
    "+++\n",
    "Observed samples most recent campaign and sampling history\n",
    ":::\n",
    "::::"
   ]
  },
  {
   "cell_type": "markdown",
   "id": "501575a0-10d5-4609-8550-8d80807fda4d",
   "metadata": {
    "editable": true,
    "slideshow": {
     "slide_type": ""
    },
    "tags": []
   },
   "source": [
    "### Forecast\n",
    "\n",
    "::::{grid} 1 1 2 2\n",
    ":::{grid-item-card}\n",
    "\n",
    "Minimum expected survey results 2025\n",
    "^^^\n",
    "\n",
    "\n",
    "```{glue} forecast-all-prior\n",
    "```\n",
    "```{glue} forecast-weighted-prior\n",
    "```\n",
    "\n",
    ":::\n",
    "\n",
    ":::{grid-item-card}\n",
    ":shadow: none\n",
    "```{glue} cumumlative-dist-forecast-prior\n",
    "```\n",
    "+++\n",
    "Cumulative distribution of observed, sampling history and forecasts using to different priors.\n",
    ":::\n",
    "::::"
   ]
  },
  {
   "cell_type": "markdown",
   "id": "eb28db66-53c9-4875-83e4-c13a8d7167e5",
   "metadata": {
    "editable": true,
    "slideshow": {
     "slide_type": ""
    },
    "tags": [
     "remove-input"
    ]
   },
   "source": [
    "### Most common objects\n",
    "::::{grid} 2 2 2 2 \n",
    ":::{grid-item}\n",
    ":columns: 4\n",
    "\n",
    "The most common objects from the selected data. The most common objects are a combination of the top ten most abundant objects and those objects that are found in more than 50% of the samples. Some objects are found frequently but at low quantities.Other objects are found in fewer samples but at higher quantities.\n",
    "\n",
    "```{glue} ratio-most-common\n",
    "```\n",
    ":::\n",
    "\n",
    ":::{grid-item-card}\n",
    ":columns: 8\n",
    ":shadow: none\n",
    "\n",
    "```{glue} most_common_objects\n",
    ":::\n",
    "::::"
   ]
  },
  {
   "cell_type": "markdown",
   "id": "8da78666-9028-4d7c-8401-6e12f4f66fc7",
   "metadata": {
    "editable": true,
    "slideshow": {
     "slide_type": ""
    },
    "tags": []
   },
   "source": [
    "### Municipal Results\n",
    "\n",
    "The average pieces per meter of the most common objects for each city."
   ]
  },
  {
   "cell_type": "code",
   "execution_count": 10,
   "id": "abc83f2f-6eb7-49c5-8617-4e4df3b5cc8e",
   "metadata": {
    "editable": true,
    "jupyter": {
     "source_hidden": true
    },
    "slideshow": {
     "slide_type": ""
    },
    "tags": [
     "remove-input"
    ]
   },
   "outputs": [
    {
     "data": {
      "text/html": [
       "<style type=\"text/css\">\n",
       "#T_b61e9 tr:nth-child(even) {\n",
       "  background-color: rgba(139, 69, 19, 0.08);\n",
       "}\n",
       "#T_b61e9 tr:nth-child(odd) {\n",
       "  background: #FFF;\n",
       "}\n",
       "#T_b61e9 tr {\n",
       "  font-size: 10px;\n",
       "}\n",
       "#T_b61e9 th {\n",
       "  background-color: #FFF;\n",
       "  font-size: 12px;\n",
       "  text-align: left;\n",
       "  width: auto;\n",
       "  word-break: keep-all;\n",
       "}\n",
       "#T_b61e9 td {\n",
       "  padding: 4px;\n",
       "  font-size: 12px;\n",
       "  text-align: center;\n",
       "}\n",
       "#T_b61e9 caption {\n",
       "  caption-side: bottom;\n",
       "  font-size: 1em;\n",
       "  text-align: left;\n",
       "}\n",
       "#T_b61e9_row0_col0, #T_b61e9_row0_col1, #T_b61e9_row0_col6, #T_b61e9_row0_col10, #T_b61e9_row0_col14, #T_b61e9_row0_col18, #T_b61e9_row2_col20, #T_b61e9_row3_col15, #T_b61e9_row4_col7, #T_b61e9_row4_col8, #T_b61e9_row4_col12, #T_b61e9_row4_col13, #T_b61e9_row4_col17, #T_b61e9_row4_col19, #T_b61e9_row5_col4, #T_b61e9_row5_col16, #T_b61e9_row7_col3, #T_b61e9_row7_col5, #T_b61e9_row7_col9 {\n",
       "  color: red;\n",
       "}\n",
       "#T_b61e9_row0_col2, #T_b61e9_row4_col11 {\n",
       "  color: red;\n",
       "  background-color: yellow;\n",
       "}\n",
       "#T_b61e9_row1_col3, #T_b61e9_row2_col0, #T_b61e9_row3_col11, #T_b61e9_row5_col11, #T_b61e9_row6_col3, #T_b61e9_row7_col11, #T_b61e9_row8_col11, #T_b61e9_row9_col19, #T_b61e9_row10_col3 {\n",
       "  background-color: yellow;\n",
       "}\n",
       "</style>\n",
       "<table id=\"T_b61e9\">\n",
       "  <thead>\n",
       "    <tr>\n",
       "      <th class=\"index_name level0\" >city</th>\n",
       "      <th id=\"T_b61e9_level0_col0\" class=\"col_heading level0 col0\" >Beatenberg</th>\n",
       "      <th id=\"T_b61e9_level0_col1\" class=\"col_heading level0 col1\" >Bern</th>\n",
       "      <th id=\"T_b61e9_level0_col2\" class=\"col_heading level0 col2\" >Biel/Bienne</th>\n",
       "      <th id=\"T_b61e9_level0_col3\" class=\"col_heading level0 col3\" >Brienz (BE)</th>\n",
       "      <th id=\"T_b61e9_level0_col4\" class=\"col_heading level0 col4\" >Brügg</th>\n",
       "      <th id=\"T_b61e9_level0_col5\" class=\"col_heading level0 col5\" >Burgdorf</th>\n",
       "      <th id=\"T_b61e9_level0_col6\" class=\"col_heading level0 col6\" >Bönigen</th>\n",
       "      <th id=\"T_b61e9_level0_col7\" class=\"col_heading level0 col7\" >Erlach</th>\n",
       "      <th id=\"T_b61e9_level0_col8\" class=\"col_heading level0 col8\" >Gals</th>\n",
       "      <th id=\"T_b61e9_level0_col9\" class=\"col_heading level0 col9\" >Kallnach</th>\n",
       "      <th id=\"T_b61e9_level0_col10\" class=\"col_heading level0 col10\" >Köniz</th>\n",
       "      <th id=\"T_b61e9_level0_col11\" class=\"col_heading level0 col11\" >Ligerz</th>\n",
       "      <th id=\"T_b61e9_level0_col12\" class=\"col_heading level0 col12\" >Lüscherz</th>\n",
       "      <th id=\"T_b61e9_level0_col13\" class=\"col_heading level0 col13\" >Nidau</th>\n",
       "      <th id=\"T_b61e9_level0_col14\" class=\"col_heading level0 col14\" >Port</th>\n",
       "      <th id=\"T_b61e9_level0_col15\" class=\"col_heading level0 col15\" >Rubigen</th>\n",
       "      <th id=\"T_b61e9_level0_col16\" class=\"col_heading level0 col16\" >Spiez</th>\n",
       "      <th id=\"T_b61e9_level0_col17\" class=\"col_heading level0 col17\" >Thun</th>\n",
       "      <th id=\"T_b61e9_level0_col18\" class=\"col_heading level0 col18\" >Unterseen</th>\n",
       "      <th id=\"T_b61e9_level0_col19\" class=\"col_heading level0 col19\" >Vinelz</th>\n",
       "      <th id=\"T_b61e9_level0_col20\" class=\"col_heading level0 col20\" >Walperswil</th>\n",
       "    </tr>\n",
       "    <tr>\n",
       "      <th class=\"index_name level0\" >description</th>\n",
       "      <th class=\"blank col0\" >&nbsp;</th>\n",
       "      <th class=\"blank col1\" >&nbsp;</th>\n",
       "      <th class=\"blank col2\" >&nbsp;</th>\n",
       "      <th class=\"blank col3\" >&nbsp;</th>\n",
       "      <th class=\"blank col4\" >&nbsp;</th>\n",
       "      <th class=\"blank col5\" >&nbsp;</th>\n",
       "      <th class=\"blank col6\" >&nbsp;</th>\n",
       "      <th class=\"blank col7\" >&nbsp;</th>\n",
       "      <th class=\"blank col8\" >&nbsp;</th>\n",
       "      <th class=\"blank col9\" >&nbsp;</th>\n",
       "      <th class=\"blank col10\" >&nbsp;</th>\n",
       "      <th class=\"blank col11\" >&nbsp;</th>\n",
       "      <th class=\"blank col12\" >&nbsp;</th>\n",
       "      <th class=\"blank col13\" >&nbsp;</th>\n",
       "      <th class=\"blank col14\" >&nbsp;</th>\n",
       "      <th class=\"blank col15\" >&nbsp;</th>\n",
       "      <th class=\"blank col16\" >&nbsp;</th>\n",
       "      <th class=\"blank col17\" >&nbsp;</th>\n",
       "      <th class=\"blank col18\" >&nbsp;</th>\n",
       "      <th class=\"blank col19\" >&nbsp;</th>\n",
       "      <th class=\"blank col20\" >&nbsp;</th>\n",
       "    </tr>\n",
       "  </thead>\n",
       "  <tbody>\n",
       "    <tr>\n",
       "      <th id=\"T_b61e9_level0_row0\" class=\"row_heading level0 row0\" >Cigarette filters</th>\n",
       "      <td id=\"T_b61e9_row0_col0\" class=\"data row0 col0\" >0.55</td>\n",
       "      <td id=\"T_b61e9_row0_col1\" class=\"data row0 col1\" >0.05</td>\n",
       "      <td id=\"T_b61e9_row0_col2\" class=\"data row0 col2\" >1.23</td>\n",
       "      <td id=\"T_b61e9_row0_col3\" class=\"data row0 col3\" >0.02</td>\n",
       "      <td id=\"T_b61e9_row0_col4\" class=\"data row0 col4\" >0.28</td>\n",
       "      <td id=\"T_b61e9_row0_col5\" class=\"data row0 col5\" >0.07</td>\n",
       "      <td id=\"T_b61e9_row0_col6\" class=\"data row0 col6\" >1.19</td>\n",
       "      <td id=\"T_b61e9_row0_col7\" class=\"data row0 col7\" >0.44</td>\n",
       "      <td id=\"T_b61e9_row0_col8\" class=\"data row0 col8\" >0.09</td>\n",
       "      <td id=\"T_b61e9_row0_col9\" class=\"data row0 col9\" >0.00</td>\n",
       "      <td id=\"T_b61e9_row0_col10\" class=\"data row0 col10\" >0.09</td>\n",
       "      <td id=\"T_b61e9_row0_col11\" class=\"data row0 col11\" >0.76</td>\n",
       "      <td id=\"T_b61e9_row0_col12\" class=\"data row0 col12\" >0.04</td>\n",
       "      <td id=\"T_b61e9_row0_col13\" class=\"data row0 col13\" >0.00</td>\n",
       "      <td id=\"T_b61e9_row0_col14\" class=\"data row0 col14\" >0.63</td>\n",
       "      <td id=\"T_b61e9_row0_col15\" class=\"data row0 col15\" >0.06</td>\n",
       "      <td id=\"T_b61e9_row0_col16\" class=\"data row0 col16\" >0.06</td>\n",
       "      <td id=\"T_b61e9_row0_col17\" class=\"data row0 col17\" >0.21</td>\n",
       "      <td id=\"T_b61e9_row0_col18\" class=\"data row0 col18\" >0.58</td>\n",
       "      <td id=\"T_b61e9_row0_col19\" class=\"data row0 col19\" >0.05</td>\n",
       "      <td id=\"T_b61e9_row0_col20\" class=\"data row0 col20\" >0.00</td>\n",
       "    </tr>\n",
       "    <tr>\n",
       "      <th id=\"T_b61e9_level0_row1\" class=\"row_heading level0 row1\" >Expanded polystyrene</th>\n",
       "      <td id=\"T_b61e9_row1_col0\" class=\"data row1 col0\" >0.18</td>\n",
       "      <td id=\"T_b61e9_row1_col1\" class=\"data row1 col1\" >0.00</td>\n",
       "      <td id=\"T_b61e9_row1_col2\" class=\"data row1 col2\" >0.26</td>\n",
       "      <td id=\"T_b61e9_row1_col3\" class=\"data row1 col3\" >0.34</td>\n",
       "      <td id=\"T_b61e9_row1_col4\" class=\"data row1 col4\" >0.00</td>\n",
       "      <td id=\"T_b61e9_row1_col5\" class=\"data row1 col5\" >0.00</td>\n",
       "      <td id=\"T_b61e9_row1_col6\" class=\"data row1 col6\" >0.07</td>\n",
       "      <td id=\"T_b61e9_row1_col7\" class=\"data row1 col7\" >0.02</td>\n",
       "      <td id=\"T_b61e9_row1_col8\" class=\"data row1 col8\" >0.00</td>\n",
       "      <td id=\"T_b61e9_row1_col9\" class=\"data row1 col9\" >0.14</td>\n",
       "      <td id=\"T_b61e9_row1_col10\" class=\"data row1 col10\" >0.00</td>\n",
       "      <td id=\"T_b61e9_row1_col11\" class=\"data row1 col11\" >0.06</td>\n",
       "      <td id=\"T_b61e9_row1_col12\" class=\"data row1 col12\" >0.00</td>\n",
       "      <td id=\"T_b61e9_row1_col13\" class=\"data row1 col13\" >0.04</td>\n",
       "      <td id=\"T_b61e9_row1_col14\" class=\"data row1 col14\" >0.00</td>\n",
       "      <td id=\"T_b61e9_row1_col15\" class=\"data row1 col15\" >0.00</td>\n",
       "      <td id=\"T_b61e9_row1_col16\" class=\"data row1 col16\" >0.11</td>\n",
       "      <td id=\"T_b61e9_row1_col17\" class=\"data row1 col17\" >0.11</td>\n",
       "      <td id=\"T_b61e9_row1_col18\" class=\"data row1 col18\" >0.11</td>\n",
       "      <td id=\"T_b61e9_row1_col19\" class=\"data row1 col19\" >0.10</td>\n",
       "      <td id=\"T_b61e9_row1_col20\" class=\"data row1 col20\" >0.00</td>\n",
       "    </tr>\n",
       "    <tr>\n",
       "      <th id=\"T_b61e9_level0_row2\" class=\"row_heading level0 row2\" >Foam packaging/insulation/polyurethane</th>\n",
       "      <td id=\"T_b61e9_row2_col0\" class=\"data row2 col0\" >0.42</td>\n",
       "      <td id=\"T_b61e9_row2_col1\" class=\"data row2 col1\" >0.00</td>\n",
       "      <td id=\"T_b61e9_row2_col2\" class=\"data row2 col2\" >0.09</td>\n",
       "      <td id=\"T_b61e9_row2_col3\" class=\"data row2 col3\" >0.03</td>\n",
       "      <td id=\"T_b61e9_row2_col4\" class=\"data row2 col4\" >0.00</td>\n",
       "      <td id=\"T_b61e9_row2_col5\" class=\"data row2 col5\" >0.00</td>\n",
       "      <td id=\"T_b61e9_row2_col6\" class=\"data row2 col6\" >0.10</td>\n",
       "      <td id=\"T_b61e9_row2_col7\" class=\"data row2 col7\" >0.00</td>\n",
       "      <td id=\"T_b61e9_row2_col8\" class=\"data row2 col8\" >0.00</td>\n",
       "      <td id=\"T_b61e9_row2_col9\" class=\"data row2 col9\" >0.00</td>\n",
       "      <td id=\"T_b61e9_row2_col10\" class=\"data row2 col10\" >0.00</td>\n",
       "      <td id=\"T_b61e9_row2_col11\" class=\"data row2 col11\" >0.21</td>\n",
       "      <td id=\"T_b61e9_row2_col12\" class=\"data row2 col12\" >0.00</td>\n",
       "      <td id=\"T_b61e9_row2_col13\" class=\"data row2 col13\" >0.00</td>\n",
       "      <td id=\"T_b61e9_row2_col14\" class=\"data row2 col14\" >0.01</td>\n",
       "      <td id=\"T_b61e9_row2_col15\" class=\"data row2 col15\" >0.00</td>\n",
       "      <td id=\"T_b61e9_row2_col16\" class=\"data row2 col16\" >0.01</td>\n",
       "      <td id=\"T_b61e9_row2_col17\" class=\"data row2 col17\" >0.00</td>\n",
       "      <td id=\"T_b61e9_row2_col18\" class=\"data row2 col18\" >0.11</td>\n",
       "      <td id=\"T_b61e9_row2_col19\" class=\"data row2 col19\" >0.03</td>\n",
       "      <td id=\"T_b61e9_row2_col20\" class=\"data row2 col20\" >0.19</td>\n",
       "    </tr>\n",
       "    <tr>\n",
       "      <th id=\"T_b61e9_level0_row3\" class=\"row_heading level0 row3\" >Food wrappers; candy, snacks</th>\n",
       "      <td id=\"T_b61e9_row3_col0\" class=\"data row3 col0\" >0.12</td>\n",
       "      <td id=\"T_b61e9_row3_col1\" class=\"data row3 col1\" >0.01</td>\n",
       "      <td id=\"T_b61e9_row3_col2\" class=\"data row3 col2\" >0.39</td>\n",
       "      <td id=\"T_b61e9_row3_col3\" class=\"data row3 col3\" >0.44</td>\n",
       "      <td id=\"T_b61e9_row3_col4\" class=\"data row3 col4\" >0.00</td>\n",
       "      <td id=\"T_b61e9_row3_col5\" class=\"data row3 col5\" >0.02</td>\n",
       "      <td id=\"T_b61e9_row3_col6\" class=\"data row3 col6\" >0.06</td>\n",
       "      <td id=\"T_b61e9_row3_col7\" class=\"data row3 col7\" >0.05</td>\n",
       "      <td id=\"T_b61e9_row3_col8\" class=\"data row3 col8\" >0.12</td>\n",
       "      <td id=\"T_b61e9_row3_col9\" class=\"data row3 col9\" >0.08</td>\n",
       "      <td id=\"T_b61e9_row3_col10\" class=\"data row3 col10\" >0.00</td>\n",
       "      <td id=\"T_b61e9_row3_col11\" class=\"data row3 col11\" >0.78</td>\n",
       "      <td id=\"T_b61e9_row3_col12\" class=\"data row3 col12\" >0.02</td>\n",
       "      <td id=\"T_b61e9_row3_col13\" class=\"data row3 col13\" >0.60</td>\n",
       "      <td id=\"T_b61e9_row3_col14\" class=\"data row3 col14\" >0.07</td>\n",
       "      <td id=\"T_b61e9_row3_col15\" class=\"data row3 col15\" >0.11</td>\n",
       "      <td id=\"T_b61e9_row3_col16\" class=\"data row3 col16\" >0.02</td>\n",
       "      <td id=\"T_b61e9_row3_col17\" class=\"data row3 col17\" >0.10</td>\n",
       "      <td id=\"T_b61e9_row3_col18\" class=\"data row3 col18\" >0.11</td>\n",
       "      <td id=\"T_b61e9_row3_col19\" class=\"data row3 col19\" >0.28</td>\n",
       "      <td id=\"T_b61e9_row3_col20\" class=\"data row3 col20\" >0.00</td>\n",
       "    </tr>\n",
       "    <tr>\n",
       "      <th id=\"T_b61e9_level0_row4\" class=\"row_heading level0 row4\" >Fragmented plastics</th>\n",
       "      <td id=\"T_b61e9_row4_col0\" class=\"data row4 col0\" >0.44</td>\n",
       "      <td id=\"T_b61e9_row4_col1\" class=\"data row4 col1\" >0.02</td>\n",
       "      <td id=\"T_b61e9_row4_col2\" class=\"data row4 col2\" >0.62</td>\n",
       "      <td id=\"T_b61e9_row4_col3\" class=\"data row4 col3\" >0.40</td>\n",
       "      <td id=\"T_b61e9_row4_col4\" class=\"data row4 col4\" >0.03</td>\n",
       "      <td id=\"T_b61e9_row4_col5\" class=\"data row4 col5\" >0.02</td>\n",
       "      <td id=\"T_b61e9_row4_col6\" class=\"data row4 col6\" >1.01</td>\n",
       "      <td id=\"T_b61e9_row4_col7\" class=\"data row4 col7\" >0.49</td>\n",
       "      <td id=\"T_b61e9_row4_col8\" class=\"data row4 col8\" >0.28</td>\n",
       "      <td id=\"T_b61e9_row4_col9\" class=\"data row4 col9\" >0.12</td>\n",
       "      <td id=\"T_b61e9_row4_col10\" class=\"data row4 col10\" >0.00</td>\n",
       "      <td id=\"T_b61e9_row4_col11\" class=\"data row4 col11\" >1.94</td>\n",
       "      <td id=\"T_b61e9_row4_col12\" class=\"data row4 col12\" >0.12</td>\n",
       "      <td id=\"T_b61e9_row4_col13\" class=\"data row4 col13\" >0.64</td>\n",
       "      <td id=\"T_b61e9_row4_col14\" class=\"data row4 col14\" >0.22</td>\n",
       "      <td id=\"T_b61e9_row4_col15\" class=\"data row4 col15\" >0.00</td>\n",
       "      <td id=\"T_b61e9_row4_col16\" class=\"data row4 col16\" >0.09</td>\n",
       "      <td id=\"T_b61e9_row4_col17\" class=\"data row4 col17\" >0.23</td>\n",
       "      <td id=\"T_b61e9_row4_col18\" class=\"data row4 col18\" >0.23</td>\n",
       "      <td id=\"T_b61e9_row4_col19\" class=\"data row4 col19\" >1.18</td>\n",
       "      <td id=\"T_b61e9_row4_col20\" class=\"data row4 col20\" >0.00</td>\n",
       "    </tr>\n",
       "    <tr>\n",
       "      <th id=\"T_b61e9_level0_row5\" class=\"row_heading level0 row5\" >Glass drink bottles, pieces</th>\n",
       "      <td id=\"T_b61e9_row5_col0\" class=\"data row5 col0\" >0.02</td>\n",
       "      <td id=\"T_b61e9_row5_col1\" class=\"data row5 col1\" >0.01</td>\n",
       "      <td id=\"T_b61e9_row5_col2\" class=\"data row5 col2\" >0.16</td>\n",
       "      <td id=\"T_b61e9_row5_col3\" class=\"data row5 col3\" >0.01</td>\n",
       "      <td id=\"T_b61e9_row5_col4\" class=\"data row5 col4\" >0.36</td>\n",
       "      <td id=\"T_b61e9_row5_col5\" class=\"data row5 col5\" >0.00</td>\n",
       "      <td id=\"T_b61e9_row5_col6\" class=\"data row5 col6\" >0.00</td>\n",
       "      <td id=\"T_b61e9_row5_col7\" class=\"data row5 col7\" >0.02</td>\n",
       "      <td id=\"T_b61e9_row5_col8\" class=\"data row5 col8\" >0.07</td>\n",
       "      <td id=\"T_b61e9_row5_col9\" class=\"data row5 col9\" >0.00</td>\n",
       "      <td id=\"T_b61e9_row5_col10\" class=\"data row5 col10\" >0.00</td>\n",
       "      <td id=\"T_b61e9_row5_col11\" class=\"data row5 col11\" >1.00</td>\n",
       "      <td id=\"T_b61e9_row5_col12\" class=\"data row5 col12\" >0.12</td>\n",
       "      <td id=\"T_b61e9_row5_col13\" class=\"data row5 col13\" >0.12</td>\n",
       "      <td id=\"T_b61e9_row5_col14\" class=\"data row5 col14\" >0.01</td>\n",
       "      <td id=\"T_b61e9_row5_col15\" class=\"data row5 col15\" >0.00</td>\n",
       "      <td id=\"T_b61e9_row5_col16\" class=\"data row5 col16\" >0.14</td>\n",
       "      <td id=\"T_b61e9_row5_col17\" class=\"data row5 col17\" >0.03</td>\n",
       "      <td id=\"T_b61e9_row5_col18\" class=\"data row5 col18\" >0.03</td>\n",
       "      <td id=\"T_b61e9_row5_col19\" class=\"data row5 col19\" >0.20</td>\n",
       "      <td id=\"T_b61e9_row5_col20\" class=\"data row5 col20\" >0.00</td>\n",
       "    </tr>\n",
       "    <tr>\n",
       "      <th id=\"T_b61e9_level0_row6\" class=\"row_heading level0 row6\" >Industrial pellets (nurdles)</th>\n",
       "      <td id=\"T_b61e9_row6_col0\" class=\"data row6 col0\" >0.03</td>\n",
       "      <td id=\"T_b61e9_row6_col1\" class=\"data row6 col1\" >0.00</td>\n",
       "      <td id=\"T_b61e9_row6_col2\" class=\"data row6 col2\" >0.06</td>\n",
       "      <td id=\"T_b61e9_row6_col3\" class=\"data row6 col3\" >0.60</td>\n",
       "      <td id=\"T_b61e9_row6_col4\" class=\"data row6 col4\" >0.00</td>\n",
       "      <td id=\"T_b61e9_row6_col5\" class=\"data row6 col5\" >0.00</td>\n",
       "      <td id=\"T_b61e9_row6_col6\" class=\"data row6 col6\" >0.04</td>\n",
       "      <td id=\"T_b61e9_row6_col7\" class=\"data row6 col7\" >0.00</td>\n",
       "      <td id=\"T_b61e9_row6_col8\" class=\"data row6 col8\" >0.00</td>\n",
       "      <td id=\"T_b61e9_row6_col9\" class=\"data row6 col9\" >0.10</td>\n",
       "      <td id=\"T_b61e9_row6_col10\" class=\"data row6 col10\" >0.00</td>\n",
       "      <td id=\"T_b61e9_row6_col11\" class=\"data row6 col11\" >0.00</td>\n",
       "      <td id=\"T_b61e9_row6_col12\" class=\"data row6 col12\" >0.01</td>\n",
       "      <td id=\"T_b61e9_row6_col13\" class=\"data row6 col13\" >0.08</td>\n",
       "      <td id=\"T_b61e9_row6_col14\" class=\"data row6 col14\" >0.01</td>\n",
       "      <td id=\"T_b61e9_row6_col15\" class=\"data row6 col15\" >0.00</td>\n",
       "      <td id=\"T_b61e9_row6_col16\" class=\"data row6 col16\" >0.00</td>\n",
       "      <td id=\"T_b61e9_row6_col17\" class=\"data row6 col17\" >0.00</td>\n",
       "      <td id=\"T_b61e9_row6_col18\" class=\"data row6 col18\" >0.00</td>\n",
       "      <td id=\"T_b61e9_row6_col19\" class=\"data row6 col19\" >0.13</td>\n",
       "      <td id=\"T_b61e9_row6_col20\" class=\"data row6 col20\" >0.00</td>\n",
       "    </tr>\n",
       "    <tr>\n",
       "      <th id=\"T_b61e9_level0_row7\" class=\"row_heading level0 row7\" >Industrial sheeting</th>\n",
       "      <td id=\"T_b61e9_row7_col0\" class=\"data row7 col0\" >0.03</td>\n",
       "      <td id=\"T_b61e9_row7_col1\" class=\"data row7 col1\" >0.03</td>\n",
       "      <td id=\"T_b61e9_row7_col2\" class=\"data row7 col2\" >0.26</td>\n",
       "      <td id=\"T_b61e9_row7_col3\" class=\"data row7 col3\" >0.72</td>\n",
       "      <td id=\"T_b61e9_row7_col4\" class=\"data row7 col4\" >0.00</td>\n",
       "      <td id=\"T_b61e9_row7_col5\" class=\"data row7 col5\" >0.22</td>\n",
       "      <td id=\"T_b61e9_row7_col6\" class=\"data row7 col6\" >0.15</td>\n",
       "      <td id=\"T_b61e9_row7_col7\" class=\"data row7 col7\" >0.00</td>\n",
       "      <td id=\"T_b61e9_row7_col8\" class=\"data row7 col8\" >0.03</td>\n",
       "      <td id=\"T_b61e9_row7_col9\" class=\"data row7 col9\" >0.32</td>\n",
       "      <td id=\"T_b61e9_row7_col10\" class=\"data row7 col10\" >0.00</td>\n",
       "      <td id=\"T_b61e9_row7_col11\" class=\"data row7 col11\" >1.19</td>\n",
       "      <td id=\"T_b61e9_row7_col12\" class=\"data row7 col12\" >0.05</td>\n",
       "      <td id=\"T_b61e9_row7_col13\" class=\"data row7 col13\" >0.40</td>\n",
       "      <td id=\"T_b61e9_row7_col14\" class=\"data row7 col14\" >0.00</td>\n",
       "      <td id=\"T_b61e9_row7_col15\" class=\"data row7 col15\" >0.00</td>\n",
       "      <td id=\"T_b61e9_row7_col16\" class=\"data row7 col16\" >0.03</td>\n",
       "      <td id=\"T_b61e9_row7_col17\" class=\"data row7 col17\" >0.21</td>\n",
       "      <td id=\"T_b61e9_row7_col18\" class=\"data row7 col18\" >0.16</td>\n",
       "      <td id=\"T_b61e9_row7_col19\" class=\"data row7 col19\" >0.61</td>\n",
       "      <td id=\"T_b61e9_row7_col20\" class=\"data row7 col20\" >0.00</td>\n",
       "    </tr>\n",
       "    <tr>\n",
       "      <th id=\"T_b61e9_level0_row8\" class=\"row_heading level0 row8\" >Packaging films nonfood or unknown</th>\n",
       "      <td id=\"T_b61e9_row8_col0\" class=\"data row8 col0\" >0.04</td>\n",
       "      <td id=\"T_b61e9_row8_col1\" class=\"data row8 col1\" >0.00</td>\n",
       "      <td id=\"T_b61e9_row8_col2\" class=\"data row8 col2\" >0.13</td>\n",
       "      <td id=\"T_b61e9_row8_col3\" class=\"data row8 col3\" >0.05</td>\n",
       "      <td id=\"T_b61e9_row8_col4\" class=\"data row8 col4\" >0.00</td>\n",
       "      <td id=\"T_b61e9_row8_col5\" class=\"data row8 col5\" >0.11</td>\n",
       "      <td id=\"T_b61e9_row8_col6\" class=\"data row8 col6\" >0.00</td>\n",
       "      <td id=\"T_b61e9_row8_col7\" class=\"data row8 col7\" >0.02</td>\n",
       "      <td id=\"T_b61e9_row8_col8\" class=\"data row8 col8\" >0.00</td>\n",
       "      <td id=\"T_b61e9_row8_col9\" class=\"data row8 col9\" >0.01</td>\n",
       "      <td id=\"T_b61e9_row8_col10\" class=\"data row8 col10\" >0.00</td>\n",
       "      <td id=\"T_b61e9_row8_col11\" class=\"data row8 col11\" >0.88</td>\n",
       "      <td id=\"T_b61e9_row8_col12\" class=\"data row8 col12\" >0.01</td>\n",
       "      <td id=\"T_b61e9_row8_col13\" class=\"data row8 col13\" >0.24</td>\n",
       "      <td id=\"T_b61e9_row8_col14\" class=\"data row8 col14\" >0.04</td>\n",
       "      <td id=\"T_b61e9_row8_col15\" class=\"data row8 col15\" >0.00</td>\n",
       "      <td id=\"T_b61e9_row8_col16\" class=\"data row8 col16\" >0.00</td>\n",
       "      <td id=\"T_b61e9_row8_col17\" class=\"data row8 col17\" >0.03</td>\n",
       "      <td id=\"T_b61e9_row8_col18\" class=\"data row8 col18\" >0.05</td>\n",
       "      <td id=\"T_b61e9_row8_col19\" class=\"data row8 col19\" >0.19</td>\n",
       "      <td id=\"T_b61e9_row8_col20\" class=\"data row8 col20\" >0.00</td>\n",
       "    </tr>\n",
       "    <tr>\n",
       "      <th id=\"T_b61e9_level0_row9\" class=\"row_heading level0 row9\" >Plastic construction waste</th>\n",
       "      <td id=\"T_b61e9_row9_col0\" class=\"data row9 col0\" >0.00</td>\n",
       "      <td id=\"T_b61e9_row9_col1\" class=\"data row9 col1\" >0.01</td>\n",
       "      <td id=\"T_b61e9_row9_col2\" class=\"data row9 col2\" >0.08</td>\n",
       "      <td id=\"T_b61e9_row9_col3\" class=\"data row9 col3\" >0.11</td>\n",
       "      <td id=\"T_b61e9_row9_col4\" class=\"data row9 col4\" >0.00</td>\n",
       "      <td id=\"T_b61e9_row9_col5\" class=\"data row9 col5\" >0.00</td>\n",
       "      <td id=\"T_b61e9_row9_col6\" class=\"data row9 col6\" >0.04</td>\n",
       "      <td id=\"T_b61e9_row9_col7\" class=\"data row9 col7\" >0.02</td>\n",
       "      <td id=\"T_b61e9_row9_col8\" class=\"data row9 col8\" >0.00</td>\n",
       "      <td id=\"T_b61e9_row9_col9\" class=\"data row9 col9\" >0.00</td>\n",
       "      <td id=\"T_b61e9_row9_col10\" class=\"data row9 col10\" >0.00</td>\n",
       "      <td id=\"T_b61e9_row9_col11\" class=\"data row9 col11\" >0.00</td>\n",
       "      <td id=\"T_b61e9_row9_col12\" class=\"data row9 col12\" >0.02</td>\n",
       "      <td id=\"T_b61e9_row9_col13\" class=\"data row9 col13\" >0.04</td>\n",
       "      <td id=\"T_b61e9_row9_col14\" class=\"data row9 col14\" >0.00</td>\n",
       "      <td id=\"T_b61e9_row9_col15\" class=\"data row9 col15\" >0.00</td>\n",
       "      <td id=\"T_b61e9_row9_col16\" class=\"data row9 col16\" >0.01</td>\n",
       "      <td id=\"T_b61e9_row9_col17\" class=\"data row9 col17\" >0.01</td>\n",
       "      <td id=\"T_b61e9_row9_col18\" class=\"data row9 col18\" >0.03</td>\n",
       "      <td id=\"T_b61e9_row9_col19\" class=\"data row9 col19\" >0.21</td>\n",
       "      <td id=\"T_b61e9_row9_col20\" class=\"data row9 col20\" >0.00</td>\n",
       "    </tr>\n",
       "    <tr>\n",
       "      <th id=\"T_b61e9_level0_row10\" class=\"row_heading level0 row10\" >plastic caps, lid rings: G21, G22, G23, G24</th>\n",
       "      <td id=\"T_b61e9_row10_col0\" class=\"data row10 col0\" >0.12</td>\n",
       "      <td id=\"T_b61e9_row10_col1\" class=\"data row10 col1\" >0.00</td>\n",
       "      <td id=\"T_b61e9_row10_col2\" class=\"data row10 col2\" >0.12</td>\n",
       "      <td id=\"T_b61e9_row10_col3\" class=\"data row10 col3\" >0.24</td>\n",
       "      <td id=\"T_b61e9_row10_col4\" class=\"data row10 col4\" >0.00</td>\n",
       "      <td id=\"T_b61e9_row10_col5\" class=\"data row10 col5\" >0.00</td>\n",
       "      <td id=\"T_b61e9_row10_col6\" class=\"data row10 col6\" >0.04</td>\n",
       "      <td id=\"T_b61e9_row10_col7\" class=\"data row10 col7\" >0.06</td>\n",
       "      <td id=\"T_b61e9_row10_col8\" class=\"data row10 col8\" >0.00</td>\n",
       "      <td id=\"T_b61e9_row10_col9\" class=\"data row10 col9\" >0.06</td>\n",
       "      <td id=\"T_b61e9_row10_col10\" class=\"data row10 col10\" >0.00</td>\n",
       "      <td id=\"T_b61e9_row10_col11\" class=\"data row10 col11\" >0.06</td>\n",
       "      <td id=\"T_b61e9_row10_col12\" class=\"data row10 col12\" >0.01</td>\n",
       "      <td id=\"T_b61e9_row10_col13\" class=\"data row10 col13\" >0.04</td>\n",
       "      <td id=\"T_b61e9_row10_col14\" class=\"data row10 col14\" >0.03</td>\n",
       "      <td id=\"T_b61e9_row10_col15\" class=\"data row10 col15\" >0.06</td>\n",
       "      <td id=\"T_b61e9_row10_col16\" class=\"data row10 col16\" >0.01</td>\n",
       "      <td id=\"T_b61e9_row10_col17\" class=\"data row10 col17\" >0.03</td>\n",
       "      <td id=\"T_b61e9_row10_col18\" class=\"data row10 col18\" >0.04</td>\n",
       "      <td id=\"T_b61e9_row10_col19\" class=\"data row10 col19\" >0.13</td>\n",
       "      <td id=\"T_b61e9_row10_col20\" class=\"data row10 col20\" >0.03</td>\n",
       "    </tr>\n",
       "  </tbody>\n",
       "</table>\n"
      ],
      "text/plain": [
       "<pandas.io.formats.style.Styler at 0x756f0e7cdb20>"
      ]
     },
     "execution_count": 10,
     "metadata": {},
     "output_type": "execute_result"
    }
   ],
   "source": [
    "dx = results['this_report'].df\n",
    "dx = dx[dx.code.isin(mc_codes)]\n",
    "dct = dx.groupby(['sample_id','city', 'code'], as_index=False).agg(session_config.unit_agg)\n",
    "dct = dct.groupby(['city', 'code'], as_index=False).agg(session_config.agg_groups)\n",
    "cities = dct.city.unique()\n",
    "\n",
    "new_df = []\n",
    "for city in cities:\n",
    "    x = dct[dct.city == city][['city','code', 'pcs/m']]\n",
    "    new_df.append(x)\n",
    "\n",
    "i = pd.concat(new_df)\n",
    "\n",
    "i['description'] = userdisplay.code_definitions(i.code)\n",
    "i = i.pivot(index='description', columns='city', values='pcs/m')\n",
    "hmax = userdisplay.highlight_max\n",
    "ncities = len(i.columns)\n",
    "i = i.style.apply(hmax, props='color: red')\n",
    "i = i.highlight_max(color='yellow', axis=1)\n",
    "i = i.set_table_styles(userdisplay.table_css_styles).format(precision=2)\n",
    "i"
   ]
  },
  {
   "cell_type": "markdown",
   "id": "60f18d8c-11e2-44a6-874b-d6b7e8b506f6",
   "metadata": {
    "editable": true,
    "slideshow": {
     "slide_type": ""
    },
    "tags": []
   },
   "source": [
    "### Land use profile\n",
    "\n",
    "The proportion of samples by the magnitude of the land-use and and the average pieces per meter for that land use configuration\n",
    "\n",
    "#### Sampling profile"
   ]
  },
  {
   "cell_type": "code",
   "execution_count": 11,
   "id": "fa022a3b-f3bd-41c8-aa11-816ff202eda3",
   "metadata": {
    "editable": true,
    "slideshow": {
     "slide_type": ""
    },
    "tags": [
     "remove-input"
    ]
   },
   "outputs": [
    {
     "data": {
      "text/html": [
       "<style type=\"text/css\">\n",
       "#T_d9e24 caption {\n",
       "  caption-side: top;\n",
       "  font-size: 1em;\n",
       "  text-align: left;\n",
       "  margin-bottom: 10px;\n",
       "}\n",
       "#T_d9e24 caption {\n",
       "  caption-side: top;\n",
       "  font-size: .9em;\n",
       "  text-align: left;\n",
       "  font-style: italic;\n",
       "  color: #000;\n",
       "}\n",
       "#T_d9e24_row0_col0, #T_d9e24_row1_col0, #T_d9e24_row2_col1, #T_d9e24_row3_col1, #T_d9e24_row4_col2, #T_d9e24_row5_col0 {\n",
       "  background-color: #FAE8E8;\n",
       "}\n",
       "</style>\n",
       "<table id=\"T_d9e24\">\n",
       "  <caption><b>The land use profile and the proportion of samples per landuse feature.</b> The highlighted cell is the maximum value in the row. Each cell represents the proportion of samples that were conducted in the land use category.</caption>\n",
       "  <thead>\n",
       "    <tr>\n",
       "      <th class=\"blank level0\" >&nbsp;</th>\n",
       "      <th id=\"T_d9e24_level0_col0\" class=\"col_heading level0 col0\" >0 - 20%</th>\n",
       "      <th id=\"T_d9e24_level0_col1\" class=\"col_heading level0 col1\" >20 - 40%</th>\n",
       "      <th id=\"T_d9e24_level0_col2\" class=\"col_heading level0 col2\" >40 - 60%</th>\n",
       "      <th id=\"T_d9e24_level0_col3\" class=\"col_heading level0 col3\" >60 - 80%</th>\n",
       "      <th id=\"T_d9e24_level0_col4\" class=\"col_heading level0 col4\" >80 - 100%</th>\n",
       "    </tr>\n",
       "  </thead>\n",
       "  <tbody>\n",
       "    <tr>\n",
       "      <th id=\"T_d9e24_level0_row0\" class=\"row_heading level0 row0\" >Orchards</th>\n",
       "      <td id=\"T_d9e24_row0_col0\" class=\"data row0 col0\" >100%</td>\n",
       "      <td id=\"T_d9e24_row0_col1\" class=\"data row0 col1\" >0%</td>\n",
       "      <td id=\"T_d9e24_row0_col2\" class=\"data row0 col2\" >0%</td>\n",
       "      <td id=\"T_d9e24_row0_col3\" class=\"data row0 col3\" >0%</td>\n",
       "      <td id=\"T_d9e24_row0_col4\" class=\"data row0 col4\" >0%</td>\n",
       "    </tr>\n",
       "    <tr>\n",
       "      <th id=\"T_d9e24_level0_row1\" class=\"row_heading level0 row1\" >Vineyards</th>\n",
       "      <td id=\"T_d9e24_row1_col0\" class=\"data row1 col0\" >100%</td>\n",
       "      <td id=\"T_d9e24_row1_col1\" class=\"data row1 col1\" >0%</td>\n",
       "      <td id=\"T_d9e24_row1_col2\" class=\"data row1 col2\" >0%</td>\n",
       "      <td id=\"T_d9e24_row1_col3\" class=\"data row1 col3\" >0%</td>\n",
       "      <td id=\"T_d9e24_row1_col4\" class=\"data row1 col4\" >0%</td>\n",
       "    </tr>\n",
       "    <tr>\n",
       "      <th id=\"T_d9e24_level0_row2\" class=\"row_heading level0 row2\" >Buildings</th>\n",
       "      <td id=\"T_d9e24_row2_col0\" class=\"data row2 col0\" >30%</td>\n",
       "      <td id=\"T_d9e24_row2_col1\" class=\"data row2 col1\" >31%</td>\n",
       "      <td id=\"T_d9e24_row2_col2\" class=\"data row2 col2\" >26%</td>\n",
       "      <td id=\"T_d9e24_row2_col3\" class=\"data row2 col3\" >10%</td>\n",
       "      <td id=\"T_d9e24_row2_col4\" class=\"data row2 col4\" >2%</td>\n",
       "    </tr>\n",
       "    <tr>\n",
       "      <th id=\"T_d9e24_level0_row3\" class=\"row_heading level0 row3\" >Forest</th>\n",
       "      <td id=\"T_d9e24_row3_col0\" class=\"data row3 col0\" >27%</td>\n",
       "      <td id=\"T_d9e24_row3_col1\" class=\"data row3 col1\" >64%</td>\n",
       "      <td id=\"T_d9e24_row3_col2\" class=\"data row3 col2\" >9%</td>\n",
       "      <td id=\"T_d9e24_row3_col3\" class=\"data row3 col3\" >0%</td>\n",
       "      <td id=\"T_d9e24_row3_col4\" class=\"data row3 col4\" >0%</td>\n",
       "    </tr>\n",
       "    <tr>\n",
       "      <th id=\"T_d9e24_level0_row4\" class=\"row_heading level0 row4\" >Undefined</th>\n",
       "      <td id=\"T_d9e24_row4_col0\" class=\"data row4 col0\" >35%</td>\n",
       "      <td id=\"T_d9e24_row4_col1\" class=\"data row4 col1\" >12%</td>\n",
       "      <td id=\"T_d9e24_row4_col2\" class=\"data row4 col2\" >36%</td>\n",
       "      <td id=\"T_d9e24_row4_col3\" class=\"data row4 col3\" >17%</td>\n",
       "      <td id=\"T_d9e24_row4_col4\" class=\"data row4 col4\" >0%</td>\n",
       "    </tr>\n",
       "    <tr>\n",
       "      <th id=\"T_d9e24_level0_row5\" class=\"row_heading level0 row5\" >Public Services</th>\n",
       "      <td id=\"T_d9e24_row5_col0\" class=\"data row5 col0\" >98%</td>\n",
       "      <td id=\"T_d9e24_row5_col1\" class=\"data row5 col1\" >2%</td>\n",
       "      <td id=\"T_d9e24_row5_col2\" class=\"data row5 col2\" >0%</td>\n",
       "      <td id=\"T_d9e24_row5_col3\" class=\"data row5 col3\" >0%</td>\n",
       "      <td id=\"T_d9e24_row5_col4\" class=\"data row5 col4\" >0%</td>\n",
       "    </tr>\n",
       "  </tbody>\n",
       "</table>\n"
      ],
      "text/plain": [
       "<pandas.io.formats.style.Styler at 0x756f0ed9a400>"
      ]
     },
     "execution_count": 11,
     "metadata": {},
     "output_type": "execute_result"
    }
   ],
   "source": [
    "g = results['this_land_use'].n_samples_per_feature().copy()\n",
    "userdisplay.landuse_profile(g[session_config.feature_variables[:-1]], nsamples=len(lkl))"
   ]
  },
  {
   "cell_type": "markdown",
   "id": "8938a4a5-45d7-45df-a067-15e7ac6bc976",
   "metadata": {
    "editable": true,
    "slideshow": {
     "slide_type": ""
    },
    "tags": []
   },
   "source": [
    "#### Average pieces per meter"
   ]
  },
  {
   "cell_type": "code",
   "execution_count": 12,
   "id": "e2bf0a4b-fc49-420b-bfc1-3e21e0a11cb9",
   "metadata": {
    "editable": true,
    "slideshow": {
     "slide_type": ""
    },
    "tags": [
     "remove-input"
    ]
   },
   "outputs": [
    {
     "data": {
      "text/html": [
       "<style type=\"text/css\">\n",
       "#T_5dbe8 caption {\n",
       "  caption-side: top;\n",
       "  font-size: 1em;\n",
       "  text-align: left;\n",
       "  margin-bottom: 10px;\n",
       "}\n",
       "#T_5dbe8 caption {\n",
       "  caption-side: top;\n",
       "  font-size: .9em;\n",
       "  text-align: left;\n",
       "  font-style: italic;\n",
       "  color: #000;\n",
       "}\n",
       "#T_5dbe8_row0_col0, #T_5dbe8_row1_col0, #T_5dbe8_row2_col2, #T_5dbe8_row3_col0, #T_5dbe8_row4_col0, #T_5dbe8_row5_col0 {\n",
       "  background-color: #FAE8E8;\n",
       "}\n",
       "</style>\n",
       "<table id=\"T_5dbe8\">\n",
       "  <caption><b>The land use profile and the observed average litter rates per feature.</b> The highlighted cell is the maximum value in the row. Each cell represents the average observed trash per meter in the land use category.</caption>\n",
       "  <thead>\n",
       "    <tr>\n",
       "      <th class=\"blank level0\" >&nbsp;</th>\n",
       "      <th id=\"T_5dbe8_level0_col0\" class=\"col_heading level0 col0\" >0 - 20%</th>\n",
       "      <th id=\"T_5dbe8_level0_col1\" class=\"col_heading level0 col1\" >20 - 40%</th>\n",
       "      <th id=\"T_5dbe8_level0_col2\" class=\"col_heading level0 col2\" >40 - 60%</th>\n",
       "      <th id=\"T_5dbe8_level0_col3\" class=\"col_heading level0 col3\" >60 - 80%</th>\n",
       "      <th id=\"T_5dbe8_level0_col4\" class=\"col_heading level0 col4\" >80 - 100%</th>\n",
       "    </tr>\n",
       "  </thead>\n",
       "  <tbody>\n",
       "    <tr>\n",
       "      <th id=\"T_5dbe8_level0_row0\" class=\"row_heading level0 row0\" >Orchards</th>\n",
       "      <td id=\"T_5dbe8_row0_col0\" class=\"data row0 col0\" >2.76</td>\n",
       "      <td id=\"T_5dbe8_row0_col1\" class=\"data row0 col1\" >0.00</td>\n",
       "      <td id=\"T_5dbe8_row0_col2\" class=\"data row0 col2\" >0.00</td>\n",
       "      <td id=\"T_5dbe8_row0_col3\" class=\"data row0 col3\" >0.00</td>\n",
       "      <td id=\"T_5dbe8_row0_col4\" class=\"data row0 col4\" >0.00</td>\n",
       "    </tr>\n",
       "    <tr>\n",
       "      <th id=\"T_5dbe8_level0_row1\" class=\"row_heading level0 row1\" >Vineyards</th>\n",
       "      <td id=\"T_5dbe8_row1_col0\" class=\"data row1 col0\" >2.76</td>\n",
       "      <td id=\"T_5dbe8_row1_col1\" class=\"data row1 col1\" >0.00</td>\n",
       "      <td id=\"T_5dbe8_row1_col2\" class=\"data row1 col2\" >0.00</td>\n",
       "      <td id=\"T_5dbe8_row1_col3\" class=\"data row1 col3\" >0.00</td>\n",
       "      <td id=\"T_5dbe8_row1_col4\" class=\"data row1 col4\" >0.00</td>\n",
       "    </tr>\n",
       "    <tr>\n",
       "      <th id=\"T_5dbe8_level0_row2\" class=\"row_heading level0 row2\" >Buildings</th>\n",
       "      <td id=\"T_5dbe8_row2_col0\" class=\"data row2 col0\" >2.37</td>\n",
       "      <td id=\"T_5dbe8_row2_col1\" class=\"data row2 col1\" >2.52</td>\n",
       "      <td id=\"T_5dbe8_row2_col2\" class=\"data row2 col2\" >4.09</td>\n",
       "      <td id=\"T_5dbe8_row2_col3\" class=\"data row2 col3\" >1.59</td>\n",
       "      <td id=\"T_5dbe8_row2_col4\" class=\"data row2 col4\" >1.24</td>\n",
       "    </tr>\n",
       "    <tr>\n",
       "      <th id=\"T_5dbe8_level0_row3\" class=\"row_heading level0 row3\" >Forest</th>\n",
       "      <td id=\"T_5dbe8_row3_col0\" class=\"data row3 col0\" >3.02</td>\n",
       "      <td id=\"T_5dbe8_row3_col1\" class=\"data row3 col1\" >2.86</td>\n",
       "      <td id=\"T_5dbe8_row3_col2\" class=\"data row3 col2\" >1.27</td>\n",
       "      <td id=\"T_5dbe8_row3_col3\" class=\"data row3 col3\" >0.00</td>\n",
       "      <td id=\"T_5dbe8_row3_col4\" class=\"data row3 col4\" >0.00</td>\n",
       "    </tr>\n",
       "    <tr>\n",
       "      <th id=\"T_5dbe8_level0_row4\" class=\"row_heading level0 row4\" >Undefined</th>\n",
       "      <td id=\"T_5dbe8_row4_col0\" class=\"data row4 col0\" >3.22</td>\n",
       "      <td id=\"T_5dbe8_row4_col1\" class=\"data row4 col1\" >3.10</td>\n",
       "      <td id=\"T_5dbe8_row4_col2\" class=\"data row4 col2\" >2.64</td>\n",
       "      <td id=\"T_5dbe8_row4_col3\" class=\"data row4 col3\" >1.81</td>\n",
       "      <td id=\"T_5dbe8_row4_col4\" class=\"data row4 col4\" >0.00</td>\n",
       "    </tr>\n",
       "    <tr>\n",
       "      <th id=\"T_5dbe8_level0_row5\" class=\"row_heading level0 row5\" >Public Services</th>\n",
       "      <td id=\"T_5dbe8_row5_col0\" class=\"data row5 col0\" >2.82</td>\n",
       "      <td id=\"T_5dbe8_row5_col1\" class=\"data row5 col1\" >0.07</td>\n",
       "      <td id=\"T_5dbe8_row5_col2\" class=\"data row5 col2\" >0.00</td>\n",
       "      <td id=\"T_5dbe8_row5_col3\" class=\"data row5 col3\" >0.00</td>\n",
       "      <td id=\"T_5dbe8_row5_col4\" class=\"data row5 col4\" >0.00</td>\n",
       "    </tr>\n",
       "  </tbody>\n",
       "</table>\n"
      ],
      "text/plain": [
       "<pandas.io.formats.style.Styler at 0x756f0e7a0580>"
      ]
     },
     "execution_count": 12,
     "metadata": {},
     "output_type": "execute_result"
    }
   ],
   "source": [
    "gt = results['this_land_use'].rate_per_feature().copy()\n",
    "\n",
    "userdisplay.litter_rates_per_feature(gt.loc[session_config.feature_variables[:-1]])"
   ]
  },
  {
   "cell_type": "markdown",
   "id": "7a1a5d70-2309-416c-9413-60a9b7059798",
   "metadata": {
    "editable": true,
    "slideshow": {
     "slide_type": ""
    },
    "tags": []
   },
   "source": [
    "### Streets and trails\n",
    "\n",
    "The density of the road network is the length in meters of all roads and or trails designated on the map layer. No difference is made between type of road. The total number of meters for each location is normalized 0 - 1. That is locations with a less dense network will figure in the columns 0 - 20%, where the locations with the most dense road network will figure in the last column.\n",
    "\n",
    "#### Sampling profile"
   ]
  },
  {
   "cell_type": "code",
   "execution_count": 13,
   "id": "c4a9f760-0c53-4519-9e1d-401ae3715380",
   "metadata": {
    "editable": true,
    "slideshow": {
     "slide_type": ""
    },
    "tags": [
     "remove-input"
    ]
   },
   "outputs": [
    {
     "data": {
      "text/html": [
       "<style type=\"text/css\">\n",
       "#T_44d64 caption {\n",
       "  caption-side: top;\n",
       "  font-size: 1em;\n",
       "  text-align: left;\n",
       "  margin-bottom: 10px;\n",
       "}\n",
       "#T_44d64 caption {\n",
       "  caption-side: top;\n",
       "  font-size: .9em;\n",
       "  text-align: left;\n",
       "  font-style: italic;\n",
       "  color: #000;\n",
       "}\n",
       "#T_44d64_row0_col1 {\n",
       "  background-color: #FAE8E8;\n",
       "}\n",
       "</style>\n",
       "<table id=\"T_44d64\">\n",
       "  <thead>\n",
       "    <tr>\n",
       "      <th class=\"blank level0\" >&nbsp;</th>\n",
       "      <th id=\"T_44d64_level0_col0\" class=\"col_heading level0 col0\" >0 - 20%</th>\n",
       "      <th id=\"T_44d64_level0_col1\" class=\"col_heading level0 col1\" >20 - 40%</th>\n",
       "      <th id=\"T_44d64_level0_col2\" class=\"col_heading level0 col2\" >40 - 60%</th>\n",
       "      <th id=\"T_44d64_level0_col3\" class=\"col_heading level0 col3\" >60 - 80%</th>\n",
       "      <th id=\"T_44d64_level0_col4\" class=\"col_heading level0 col4\" >80 - 100%</th>\n",
       "    </tr>\n",
       "  </thead>\n",
       "  <tbody>\n",
       "    <tr>\n",
       "      <th id=\"T_44d64_level0_row0\" class=\"row_heading level0 row0\" >streets</th>\n",
       "      <td id=\"T_44d64_row0_col0\" class=\"data row0 col0\" >42%</td>\n",
       "      <td id=\"T_44d64_row0_col1\" class=\"data row0 col1\" >49%</td>\n",
       "      <td id=\"T_44d64_row0_col2\" class=\"data row0 col2\" >7%</td>\n",
       "      <td id=\"T_44d64_row0_col3\" class=\"data row0 col3\" >2%</td>\n",
       "      <td id=\"T_44d64_row0_col4\" class=\"data row0 col4\" >0%</td>\n",
       "    </tr>\n",
       "  </tbody>\n",
       "</table>\n"
      ],
      "text/plain": [
       "<pandas.io.formats.style.Styler at 0x756f0e7a00a0>"
      ]
     },
     "execution_count": 13,
     "metadata": {},
     "output_type": "execute_result"
    }
   ],
   "source": [
    "streets = results['this_land_use'].n_samples_per_feature().copy()\n",
    "streets = streets[[session_config.feature_variables[-1]]].copy()\n",
    "streets = userdisplay.street_profile(streets.T, nsamples=len(lkl))\n",
    "caption = \"\"\n",
    "streets = streets.set_caption(caption)\n",
    "streets"
   ]
  },
  {
   "cell_type": "markdown",
   "id": "58c412a0-827d-4b5b-98d5-54bf3a72358d",
   "metadata": {
    "editable": true,
    "slideshow": {
     "slide_type": ""
    },
    "tags": []
   },
   "source": [
    "#### Average pieces per meter"
   ]
  },
  {
   "cell_type": "code",
   "execution_count": 14,
   "id": "48843f4b-c87c-4da2-9c15-bf0c8bb92a1d",
   "metadata": {
    "editable": true,
    "slideshow": {
     "slide_type": ""
    },
    "tags": [
     "remove-input"
    ]
   },
   "outputs": [
    {
     "data": {
      "text/html": [
       "<style type=\"text/css\">\n",
       "#T_84cdc caption {\n",
       "  caption-side: top;\n",
       "  font-size: 1em;\n",
       "  text-align: left;\n",
       "  margin-bottom: 10px;\n",
       "}\n",
       "#T_84cdc caption {\n",
       "  caption-side: top;\n",
       "  font-size: .9em;\n",
       "  text-align: left;\n",
       "  font-style: italic;\n",
       "  color: #000;\n",
       "}\n",
       "#T_84cdc_row0_col1 {\n",
       "  background-color: #FAE8E8;\n",
       "}\n",
       "</style>\n",
       "<table id=\"T_84cdc\">\n",
       "  <thead>\n",
       "    <tr>\n",
       "      <th class=\"blank level0\" >&nbsp;</th>\n",
       "      <th id=\"T_84cdc_level0_col0\" class=\"col_heading level0 col0\" >0 - 20%</th>\n",
       "      <th id=\"T_84cdc_level0_col1\" class=\"col_heading level0 col1\" >20 - 40%</th>\n",
       "      <th id=\"T_84cdc_level0_col2\" class=\"col_heading level0 col2\" >40 - 60%</th>\n",
       "      <th id=\"T_84cdc_level0_col3\" class=\"col_heading level0 col3\" >60 - 80%</th>\n",
       "      <th id=\"T_84cdc_level0_col4\" class=\"col_heading level0 col4\" >80 - 100%</th>\n",
       "    </tr>\n",
       "  </thead>\n",
       "  <tbody>\n",
       "    <tr>\n",
       "      <th id=\"T_84cdc_level0_row0\" class=\"row_heading level0 row0\" >streets</th>\n",
       "      <td id=\"T_84cdc_row0_col0\" class=\"data row0 col0\" >1.66</td>\n",
       "      <td id=\"T_84cdc_row0_col1\" class=\"data row0 col1\" >4.04</td>\n",
       "      <td id=\"T_84cdc_row0_col2\" class=\"data row0 col2\" >0.99</td>\n",
       "      <td id=\"T_84cdc_row0_col3\" class=\"data row0 col3\" >0.16</td>\n",
       "      <td id=\"T_84cdc_row0_col4\" class=\"data row0 col4\" >0.00</td>\n",
       "    </tr>\n",
       "  </tbody>\n",
       "</table>\n"
      ],
      "text/plain": [
       "<pandas.io.formats.style.Styler at 0x756f3d1abf40>"
      ]
     },
     "execution_count": 14,
     "metadata": {},
     "output_type": "execute_result"
    }
   ],
   "source": [
    "streets_r = results['this_land_use'].rate_per_feature().copy()\n",
    "streets_r = streets_r.loc[[session_config.feature_variables[-1]]].copy()\n",
    "streets_r = userdisplay.street_profile(streets_r, nsamples=len(lkl), caption='rate')\n",
    "caption = \"\"\n",
    "streets_r = streets_r.set_caption(caption)\n",
    "streets_r"
   ]
  },
  {
   "cell_type": "code",
   "execution_count": 15,
   "id": "bfcd9ace-4edb-49a7-a8e6-974b2a19cfdd",
   "metadata": {
    "editable": true,
    "slideshow": {
     "slide_type": ""
    },
    "tags": [
     "remove-input"
    ]
   },
   "outputs": [
    {
     "data": {
      "text/plain": [
       "{'range': array([ 0.2  ,  0.5  ,  1.2  ,  5.1  , 12.835]),\n",
       " 'nsamples': 100,\n",
       " 'average': 3.158000000000001,\n",
       " 'hdi': (0.1, 13.5)}"
      ]
     },
     "execution_count": 15,
     "metadata": {},
     "output_type": "execute_result"
    }
   ],
   "source": [
    "remove_locations = results['this_report'].df.location.unique()\n",
    "newd = d[~d.location.isin(remove_locations)].copy()\n",
    "oreport, olanduse = gfcast.make_report_objects(newd)\n",
    "odata = olanduse.df_cat.copy()\n",
    "weights = gfcast.land_use_weights(results['this_land_use'], session_config.feature_variables)\n",
    "\n",
    "new_samples, new_weghts = gfcast.select_prior_data_by_feature_weight(odata, weights, session_config.feature_variables)\n",
    "new_post, notes = gfcast.posterior_dirichlet_counts(lkl, new_samples['pcs/m'].values)\n",
    "rt, y, s= gfcast.dirichlet_posterior(new_post)\n",
    "s"
   ]
  },
  {
   "cell_type": "markdown",
   "id": "008efd72-20a7-40db-8414-fcae503518e3",
   "metadata": {
    "editable": true,
    "raw_mimetype": "",
    "slideshow": {
     "slide_type": ""
    },
    "tags": []
   },
   "source": [
    "### Forecast by land use"
   ]
  },
  {
   "cell_type": "code",
   "execution_count": 16,
   "id": "861aeef9-64af-4b82-b8b9-8e654201d1a0",
   "metadata": {
    "editable": true,
    "slideshow": {
     "slide_type": ""
    },
    "tags": [
     "remove-input"
    ]
   },
   "outputs": [
    {
     "data": {
      "image/png": "[encoded data removed]",
      "text/plain": [
       "<Figure size 640x480 with 1 Axes>"
      ]
     },
     "metadata": {},
     "output_type": "display_data"
    }
   ],
   "source": [
    "fig, ax = plt.subplots()\n",
    "\n",
    "sns.ecdfplot(new_samples['pcs/m'].values, label='prior-weighted', ls='-', alpha=.5,ax=ax)\n",
    "sns.ecdfplot(lkl, label='observed', ls='-', alpha=.5,ax=ax)\n",
    "# sns.ecdfplot(sample_values, label='expected 99%', ls=':',alpha=.5,ax=ax)\n",
    "# sns.ecdfplot(xii, label='expected max', ls='-.', alpha=.5,ax=ax)\n",
    "sns.ecdfplot(rt, label='weighted-landuse', ls='--', c='black', lw=1.5)\n",
    "ax.set_xlim(-.1, 10)\n",
    "ax.legend()\n",
    "plt.tight_layout()\n",
    "glue('weighted-land-use', fig, display=False)\n",
    "plt.show()"
   ]
  },
  {
   "cell_type": "markdown",
   "id": "2d40d7a4-8e08-4ac7-bfe2-2329a2a3bcf4",
   "metadata": {
    "editable": true,
    "slideshow": {
     "slide_type": ""
    },
    "tags": []
   },
   "source": [
    "## Lakes and riviers"
   ]
  },
  {
   "cell_type": "code",
   "execution_count": 17,
   "id": "cec9f8e6-ff44-45ed-8c6d-be2fffad8ea4",
   "metadata": {
    "editable": true,
    "slideshow": {
     "slide_type": ""
    },
    "tags": [
     "remove-input"
    ]
   },
   "outputs": [],
   "source": [
    "lake_params = {'canton':canton, 'date_range':o_dates, 'feature_type': 'l'}\n",
    "lake_params_p = {'canton':canton, 'date_range':prior_dates, 'feature_type':'l'}\n",
    "d_codes = d[d.code.isin(mc_codes)].reset_index(drop=True)\n",
    "\n",
    "lake_results = gfcast.reports_and_forecast(lake_params,lake_params_p , ldata=d.copy(), logger=logger)\n",
    "\n",
    "los = lake_results['this_report'].object_summary()\n",
    "los.reset_index(drop=False, inplace=True)\n",
    "l_most_common_objects, lmc_codes , proportions = userdisplay.most_common(los)"
   ]
  },
  {
   "cell_type": "code",
   "execution_count": 18,
   "id": "2e94a4d8-2d25-462d-88b2-327e408a5533",
   "metadata": {
    "editable": true,
    "slideshow": {
     "slide_type": ""
    },
    "tags": [
     "remove-input"
    ]
   },
   "outputs": [],
   "source": [
    "# collect the results from the prior and the likelihood\n",
    "prr = lake_results['prior_report'].sample_results.groupby('sample_id')['pcs/m'].sum()\n",
    "lkl = lake_results['this_report'].sample_results.groupby('sample_id')['pcs/m'].sum()\n",
    "\n",
    "# consider all values\n",
    "xii = lake_results['posterior_no_limit'].sample_posterior()\n",
    "\n",
    "# limit to the 99th percentile\n",
    "lake_sample_values, lake_posterior, lake_summary_simple = gfcast.dirichlet_posterior(lake_results['posterior_99'])"
   ]
  },
  {
   "cell_type": "code",
   "execution_count": 19,
   "id": "24166154-7b9d-4e16-b2c7-3b1ec4955cfe",
   "metadata": {
    "editable": true,
    "slideshow": {
     "slide_type": ""
    },
    "tags": [
     "remove-input"
    ]
   },
   "outputs": [],
   "source": [
    "fig, ax = plt.subplots()\n",
    "\n",
    "sns.histplot(lkl, stat='probability', label='likelihood', ax=ax)\n",
    "sns.histplot(prr, stat='probability', label='prior', ax=ax)\n",
    "ax.legend()\n",
    "\n",
    "plt.tight_layout()\n",
    "glue('lake-prior-likelihood', fig, display=False)\n",
    "plt.close()"
   ]
  },
  {
   "cell_type": "code",
   "execution_count": 20,
   "id": "04b0874e-5d84-4810-ba8b-e3f113b0044a",
   "metadata": {
    "editable": true,
    "slideshow": {
     "slide_type": ""
    },
    "tags": [
     "remove-input"
    ]
   },
   "outputs": [],
   "source": [
    "fig, ax = plt.subplots()\n",
    "\n",
    "sns.ecdfplot(prr, label='prior', ls='-', ax=ax)\n",
    "sns.ecdfplot(lkl, label='observed', ls='-', ax=ax)\n",
    "sns.ecdfplot(sample_values, label='expected 99%', ls=':')\n",
    "sns.ecdfplot(xii, label='expected max', ls='-.')\n",
    "ax.set_xlim(-.1, 10)\n",
    "ax.legend()\n",
    "plt.tight_layout()\n",
    "glue('lake-cumumlative-dist-forecast-prior', fig, display=False)\n",
    "plt.close()"
   ]
  },
  {
   "cell_type": "code",
   "execution_count": 21,
   "id": "29157d5a-3e40-4391-83e1-568df8d53933",
   "metadata": {
    "editable": true,
    "slideshow": {
     "slide_type": ""
    },
    "tags": [
     "remove-input"
    ]
   },
   "outputs": [],
   "source": [
    "feature_inventory = Markdown(userdisplay.feature_inventory(lake_results['this_report'].feature_inventory(), session_language='en'))\n",
    "administrative_boundaries = Markdown(userdisplay.boundaries(lake_results['this_report'].administrative_boundaries(), session_language='en'))\n",
    "\n",
    "\n",
    "header = userdisplay.sampling_result_summary(lake_results['this_report'].sampling_results_summary, session_language='en')[0]\n",
    "info = userdisplay.sampling_result_summary(lake_results['this_report'].sampling_results_summary, session_language='en')[1]\n",
    "samp_sum = Markdown(f'{header}\\n{info}')\n",
    "\n",
    "prior_header = userdisplay.sampling_result_summary(lake_results['prior_report'].sampling_results_summary, session_language='en')[0]\n",
    "prior_info = userdisplay.sampling_result_summary(lake_results['prior_report'].sampling_results_summary, session_language='en')[1]\n",
    "prior_samp_sum = Markdown(f'{prior_header}\\n{prior_info}')\n",
    "\n",
    "ratio_most_common = Markdown(f'The most common objects account for {int(proportions*100)}% of all objects')\n",
    "\n",
    "one_list = Markdown(f'{feature_inventory}\\n{administrative_boundaries}')\n",
    "\n",
    "new_list = display_forecast(lake_summary_simple)\n",
    "new_list2 = display_forecast(lake_results['posterior_no_limit'].get_descriptive_statistics())\n",
    "lake_forecast_list = Markdown(new_list + new_list2)\n",
    "\n",
    "glue('lake-forecast-list', lake_forecast_list, display=False)\n",
    "glue('lake-ratio-most-common', ratio_most_common, display=False)\n",
    "glue('lake-most_common_objects', l_most_common_objects, display=False)\n",
    "glue('lake-prior-sampling-summary', prior_samp_sum, display=False)\n",
    "glue('lake-sampling-summary', samp_sum, display=False)\n",
    "glue('lake-feature-inventory', feature_inventory, display=False)\n",
    "glue('lake-administrative-boundaries', administrative_boundaries, display=False)"
   ]
  },
  {
   "cell_type": "markdown",
   "id": "86dd9687-f20b-42ef-b40b-2bc01e9a31d1",
   "metadata": {
    "editable": true,
    "slideshow": {
     "slide_type": ""
    },
    "tags": []
   },
   "source": [
    "### Lakes\n",
    "\n",
    "#### Vital statistics\n",
    "\n",
    "::::{grid} 2 2 2 2\n",
    ":::{grid-item}\n",
    ":columns: 12 5 5 5\n",
    "```{glue} lake-feature-inventory\n",
    "```\n",
    "```{glue} lake-administrative-boundaries\n",
    "```\n",
    "```{glue} lake-sampling-summary\n",
    "```\n",
    ":::\n",
    ":::{grid-item-card}\n",
    ":columns: 12 7 7 7\n",
    "\n",
    "\n",
    "```{glue} lake-prior-likelihood\n",
    "```\n",
    "\n",
    "+++\n",
    "Observed samples most recent campaign and sampling history\n",
    "\n",
    "\n",
    ":::\n",
    "::::"
   ]
  },
  {
   "cell_type": "markdown",
   "id": "257adb15-283a-4f82-bfef-4c80c0dec601",
   "metadata": {
    "editable": true,
    "slideshow": {
     "slide_type": ""
    },
    "tags": []
   },
   "source": [
    "#### Forecast\n",
    "\n",
    "::::{grid} 1 1 2 2\n",
    ":::{grid-item-card}\n",
    "\n",
    "Expected survey results 2025\n",
    "^^^\n",
    "\n",
    "\n",
    "```{glue} lake-forecast-list\n",
    "```\n",
    "\n",
    ":::\n",
    "\n",
    ":::{grid-item-card}\n",
    ":shadow: none\n",
    "```{glue} lake-cumumlative-dist-forecast-prior\n",
    "```\n",
    "+++\n",
    "Cumulative distribution of observed, sampling history and forecasts using to different priors.\n",
    ":::\n",
    "::::"
   ]
  },
  {
   "cell_type": "markdown",
   "id": "00f792c4-53d4-40f6-9821-1eb26d4043ce",
   "metadata": {
    "editable": true,
    "slideshow": {
     "slide_type": ""
    },
    "tags": [
     "remove-input"
    ]
   },
   "source": [
    "#### Most common objects\n",
    "::::{grid} 2 2 2 2 \n",
    ":::{grid-item}\n",
    ":columns: 4\n",
    "\n",
    "The most common objects from the selected data. The most common objects are a combination of the top ten most abundant objects and those objects that are found in more than 50% of the samples. Some objects are found frequently but at low quantities.Other objects are found in fewer samples but at higher quantities.\n",
    "\n",
    "```{glue} ratio-most-common\n",
    "```\n",
    ":::\n",
    "\n",
    ":::{grid-item-card}\n",
    ":columns: 8\n",
    ":shadow: none\n",
    "\n",
    "```{glue} most_common_objects\n",
    ":::\n",
    "::::"
   ]
  },
  {
   "cell_type": "markdown",
   "id": "748e0b3d-a772-4906-9963-0798cb6779d3",
   "metadata": {
    "editable": true,
    "slideshow": {
     "slide_type": ""
    },
    "tags": []
   },
   "source": [
    "#### Municipal Results\n",
    "\n",
    "The average pieces per meter of the most common objects for each city."
   ]
  },
  {
   "cell_type": "code",
   "execution_count": 22,
   "id": "6db87669-9ac5-46f6-b3ba-d3c1a4fcffb1",
   "metadata": {
    "editable": true,
    "jupyter": {
     "source_hidden": true
    },
    "slideshow": {
     "slide_type": ""
    },
    "tags": [
     "remove-input"
    ]
   },
   "outputs": [
    {
     "data": {
      "text/html": [
       "<style type=\"text/css\">\n",
       "#T_35434 tr:nth-child(even) {\n",
       "  background-color: rgba(139, 69, 19, 0.08);\n",
       "}\n",
       "#T_35434 tr:nth-child(odd) {\n",
       "  background: #FFF;\n",
       "}\n",
       "#T_35434 tr {\n",
       "  font-size: 10px;\n",
       "}\n",
       "#T_35434 th {\n",
       "  background-color: #FFF;\n",
       "  font-size: 12px;\n",
       "  text-align: left;\n",
       "  width: auto;\n",
       "  word-break: keep-all;\n",
       "}\n",
       "#T_35434 td {\n",
       "  padding: 4px;\n",
       "  font-size: 12px;\n",
       "  text-align: center;\n",
       "}\n",
       "#T_35434 caption {\n",
       "  caption-side: bottom;\n",
       "  font-size: 1em;\n",
       "  text-align: left;\n",
       "}\n",
       "#T_35434_row0_col0, #T_35434_row0_col3, #T_35434_row0_col12, #T_35434_row4_col4, #T_35434_row4_col5, #T_35434_row4_col8, #T_35434_row4_col9, #T_35434_row4_col11, #T_35434_row4_col13, #T_35434_row5_col10, #T_35434_row7_col2, #T_35434_row7_col6 {\n",
       "  color: red;\n",
       "}\n",
       "#T_35434_row0_col1, #T_35434_row4_col7 {\n",
       "  color: red;\n",
       "  background-color: yellow;\n",
       "}\n",
       "#T_35434_row1_col2, #T_35434_row2_col0, #T_35434_row3_col7, #T_35434_row5_col7, #T_35434_row6_col2, #T_35434_row7_col7, #T_35434_row8_col7, #T_35434_row9_col13, #T_35434_row10_col2 {\n",
       "  background-color: yellow;\n",
       "}\n",
       "</style>\n",
       "<table id=\"T_35434\">\n",
       "  <thead>\n",
       "    <tr>\n",
       "      <th class=\"index_name level0\" >city</th>\n",
       "      <th id=\"T_35434_level0_col0\" class=\"col_heading level0 col0\" >Beatenberg</th>\n",
       "      <th id=\"T_35434_level0_col1\" class=\"col_heading level0 col1\" >Biel/Bienne</th>\n",
       "      <th id=\"T_35434_level0_col2\" class=\"col_heading level0 col2\" >Brienz (BE)</th>\n",
       "      <th id=\"T_35434_level0_col3\" class=\"col_heading level0 col3\" >Bönigen</th>\n",
       "      <th id=\"T_35434_level0_col4\" class=\"col_heading level0 col4\" >Erlach</th>\n",
       "      <th id=\"T_35434_level0_col5\" class=\"col_heading level0 col5\" >Gals</th>\n",
       "      <th id=\"T_35434_level0_col6\" class=\"col_heading level0 col6\" >Kallnach</th>\n",
       "      <th id=\"T_35434_level0_col7\" class=\"col_heading level0 col7\" >Ligerz</th>\n",
       "      <th id=\"T_35434_level0_col8\" class=\"col_heading level0 col8\" >Lüscherz</th>\n",
       "      <th id=\"T_35434_level0_col9\" class=\"col_heading level0 col9\" >Nidau</th>\n",
       "      <th id=\"T_35434_level0_col10\" class=\"col_heading level0 col10\" >Spiez</th>\n",
       "      <th id=\"T_35434_level0_col11\" class=\"col_heading level0 col11\" >Thun</th>\n",
       "      <th id=\"T_35434_level0_col12\" class=\"col_heading level0 col12\" >Unterseen</th>\n",
       "      <th id=\"T_35434_level0_col13\" class=\"col_heading level0 col13\" >Vinelz</th>\n",
       "    </tr>\n",
       "    <tr>\n",
       "      <th class=\"index_name level0\" >description</th>\n",
       "      <th class=\"blank col0\" >&nbsp;</th>\n",
       "      <th class=\"blank col1\" >&nbsp;</th>\n",
       "      <th class=\"blank col2\" >&nbsp;</th>\n",
       "      <th class=\"blank col3\" >&nbsp;</th>\n",
       "      <th class=\"blank col4\" >&nbsp;</th>\n",
       "      <th class=\"blank col5\" >&nbsp;</th>\n",
       "      <th class=\"blank col6\" >&nbsp;</th>\n",
       "      <th class=\"blank col7\" >&nbsp;</th>\n",
       "      <th class=\"blank col8\" >&nbsp;</th>\n",
       "      <th class=\"blank col9\" >&nbsp;</th>\n",
       "      <th class=\"blank col10\" >&nbsp;</th>\n",
       "      <th class=\"blank col11\" >&nbsp;</th>\n",
       "      <th class=\"blank col12\" >&nbsp;</th>\n",
       "      <th class=\"blank col13\" >&nbsp;</th>\n",
       "    </tr>\n",
       "  </thead>\n",
       "  <tbody>\n",
       "    <tr>\n",
       "      <th id=\"T_35434_level0_row0\" class=\"row_heading level0 row0\" >Cigarette filters</th>\n",
       "      <td id=\"T_35434_row0_col0\" class=\"data row0 col0\" >0.55</td>\n",
       "      <td id=\"T_35434_row0_col1\" class=\"data row0 col1\" >1.36</td>\n",
       "      <td id=\"T_35434_row0_col2\" class=\"data row0 col2\" >0.02</td>\n",
       "      <td id=\"T_35434_row0_col3\" class=\"data row0 col3\" >1.19</td>\n",
       "      <td id=\"T_35434_row0_col4\" class=\"data row0 col4\" >0.44</td>\n",
       "      <td id=\"T_35434_row0_col5\" class=\"data row0 col5\" >0.09</td>\n",
       "      <td id=\"T_35434_row0_col6\" class=\"data row0 col6\" >0.00</td>\n",
       "      <td id=\"T_35434_row0_col7\" class=\"data row0 col7\" >0.76</td>\n",
       "      <td id=\"T_35434_row0_col8\" class=\"data row0 col8\" >0.04</td>\n",
       "      <td id=\"T_35434_row0_col9\" class=\"data row0 col9\" >0.00</td>\n",
       "      <td id=\"T_35434_row0_col10\" class=\"data row0 col10\" >0.06</td>\n",
       "      <td id=\"T_35434_row0_col11\" class=\"data row0 col11\" >0.21</td>\n",
       "      <td id=\"T_35434_row0_col12\" class=\"data row0 col12\" >0.58</td>\n",
       "      <td id=\"T_35434_row0_col13\" class=\"data row0 col13\" >0.05</td>\n",
       "    </tr>\n",
       "    <tr>\n",
       "      <th id=\"T_35434_level0_row1\" class=\"row_heading level0 row1\" >Expanded polystyrene</th>\n",
       "      <td id=\"T_35434_row1_col0\" class=\"data row1 col0\" >0.18</td>\n",
       "      <td id=\"T_35434_row1_col1\" class=\"data row1 col1\" >0.30</td>\n",
       "      <td id=\"T_35434_row1_col2\" class=\"data row1 col2\" >0.34</td>\n",
       "      <td id=\"T_35434_row1_col3\" class=\"data row1 col3\" >0.07</td>\n",
       "      <td id=\"T_35434_row1_col4\" class=\"data row1 col4\" >0.02</td>\n",
       "      <td id=\"T_35434_row1_col5\" class=\"data row1 col5\" >0.00</td>\n",
       "      <td id=\"T_35434_row1_col6\" class=\"data row1 col6\" >0.00</td>\n",
       "      <td id=\"T_35434_row1_col7\" class=\"data row1 col7\" >0.06</td>\n",
       "      <td id=\"T_35434_row1_col8\" class=\"data row1 col8\" >0.00</td>\n",
       "      <td id=\"T_35434_row1_col9\" class=\"data row1 col9\" >0.04</td>\n",
       "      <td id=\"T_35434_row1_col10\" class=\"data row1 col10\" >0.11</td>\n",
       "      <td id=\"T_35434_row1_col11\" class=\"data row1 col11\" >0.11</td>\n",
       "      <td id=\"T_35434_row1_col12\" class=\"data row1 col12\" >0.11</td>\n",
       "      <td id=\"T_35434_row1_col13\" class=\"data row1 col13\" >0.10</td>\n",
       "    </tr>\n",
       "    <tr>\n",
       "      <th id=\"T_35434_level0_row2\" class=\"row_heading level0 row2\" >Foam packaging/insulation/polyurethane</th>\n",
       "      <td id=\"T_35434_row2_col0\" class=\"data row2 col0\" >0.42</td>\n",
       "      <td id=\"T_35434_row2_col1\" class=\"data row2 col1\" >0.10</td>\n",
       "      <td id=\"T_35434_row2_col2\" class=\"data row2 col2\" >0.03</td>\n",
       "      <td id=\"T_35434_row2_col3\" class=\"data row2 col3\" >0.10</td>\n",
       "      <td id=\"T_35434_row2_col4\" class=\"data row2 col4\" >0.00</td>\n",
       "      <td id=\"T_35434_row2_col5\" class=\"data row2 col5\" >0.00</td>\n",
       "      <td id=\"T_35434_row2_col6\" class=\"data row2 col6\" >0.00</td>\n",
       "      <td id=\"T_35434_row2_col7\" class=\"data row2 col7\" >0.21</td>\n",
       "      <td id=\"T_35434_row2_col8\" class=\"data row2 col8\" >0.00</td>\n",
       "      <td id=\"T_35434_row2_col9\" class=\"data row2 col9\" >0.00</td>\n",
       "      <td id=\"T_35434_row2_col10\" class=\"data row2 col10\" >0.01</td>\n",
       "      <td id=\"T_35434_row2_col11\" class=\"data row2 col11\" >0.00</td>\n",
       "      <td id=\"T_35434_row2_col12\" class=\"data row2 col12\" >0.11</td>\n",
       "      <td id=\"T_35434_row2_col13\" class=\"data row2 col13\" >0.03</td>\n",
       "    </tr>\n",
       "    <tr>\n",
       "      <th id=\"T_35434_level0_row3\" class=\"row_heading level0 row3\" >Food wrappers; candy, snacks</th>\n",
       "      <td id=\"T_35434_row3_col0\" class=\"data row3 col0\" >0.12</td>\n",
       "      <td id=\"T_35434_row3_col1\" class=\"data row3 col1\" >0.43</td>\n",
       "      <td id=\"T_35434_row3_col2\" class=\"data row3 col2\" >0.44</td>\n",
       "      <td id=\"T_35434_row3_col3\" class=\"data row3 col3\" >0.06</td>\n",
       "      <td id=\"T_35434_row3_col4\" class=\"data row3 col4\" >0.05</td>\n",
       "      <td id=\"T_35434_row3_col5\" class=\"data row3 col5\" >0.12</td>\n",
       "      <td id=\"T_35434_row3_col6\" class=\"data row3 col6\" >0.08</td>\n",
       "      <td id=\"T_35434_row3_col7\" class=\"data row3 col7\" >0.78</td>\n",
       "      <td id=\"T_35434_row3_col8\" class=\"data row3 col8\" >0.02</td>\n",
       "      <td id=\"T_35434_row3_col9\" class=\"data row3 col9\" >0.60</td>\n",
       "      <td id=\"T_35434_row3_col10\" class=\"data row3 col10\" >0.02</td>\n",
       "      <td id=\"T_35434_row3_col11\" class=\"data row3 col11\" >0.10</td>\n",
       "      <td id=\"T_35434_row3_col12\" class=\"data row3 col12\" >0.11</td>\n",
       "      <td id=\"T_35434_row3_col13\" class=\"data row3 col13\" >0.28</td>\n",
       "    </tr>\n",
       "    <tr>\n",
       "      <th id=\"T_35434_level0_row4\" class=\"row_heading level0 row4\" >Fragmented plastics</th>\n",
       "      <td id=\"T_35434_row4_col0\" class=\"data row4 col0\" >0.44</td>\n",
       "      <td id=\"T_35434_row4_col1\" class=\"data row4 col1\" >0.70</td>\n",
       "      <td id=\"T_35434_row4_col2\" class=\"data row4 col2\" >0.40</td>\n",
       "      <td id=\"T_35434_row4_col3\" class=\"data row4 col3\" >1.01</td>\n",
       "      <td id=\"T_35434_row4_col4\" class=\"data row4 col4\" >0.49</td>\n",
       "      <td id=\"T_35434_row4_col5\" class=\"data row4 col5\" >0.28</td>\n",
       "      <td id=\"T_35434_row4_col6\" class=\"data row4 col6\" >0.00</td>\n",
       "      <td id=\"T_35434_row4_col7\" class=\"data row4 col7\" >1.94</td>\n",
       "      <td id=\"T_35434_row4_col8\" class=\"data row4 col8\" >0.12</td>\n",
       "      <td id=\"T_35434_row4_col9\" class=\"data row4 col9\" >0.64</td>\n",
       "      <td id=\"T_35434_row4_col10\" class=\"data row4 col10\" >0.09</td>\n",
       "      <td id=\"T_35434_row4_col11\" class=\"data row4 col11\" >0.23</td>\n",
       "      <td id=\"T_35434_row4_col12\" class=\"data row4 col12\" >0.23</td>\n",
       "      <td id=\"T_35434_row4_col13\" class=\"data row4 col13\" >1.18</td>\n",
       "    </tr>\n",
       "    <tr>\n",
       "      <th id=\"T_35434_level0_row5\" class=\"row_heading level0 row5\" >Glass drink bottles, pieces</th>\n",
       "      <td id=\"T_35434_row5_col0\" class=\"data row5 col0\" >0.02</td>\n",
       "      <td id=\"T_35434_row5_col1\" class=\"data row5 col1\" >0.16</td>\n",
       "      <td id=\"T_35434_row5_col2\" class=\"data row5 col2\" >0.01</td>\n",
       "      <td id=\"T_35434_row5_col3\" class=\"data row5 col3\" >0.00</td>\n",
       "      <td id=\"T_35434_row5_col4\" class=\"data row5 col4\" >0.02</td>\n",
       "      <td id=\"T_35434_row5_col5\" class=\"data row5 col5\" >0.07</td>\n",
       "      <td id=\"T_35434_row5_col6\" class=\"data row5 col6\" >0.00</td>\n",
       "      <td id=\"T_35434_row5_col7\" class=\"data row5 col7\" >1.00</td>\n",
       "      <td id=\"T_35434_row5_col8\" class=\"data row5 col8\" >0.12</td>\n",
       "      <td id=\"T_35434_row5_col9\" class=\"data row5 col9\" >0.12</td>\n",
       "      <td id=\"T_35434_row5_col10\" class=\"data row5 col10\" >0.14</td>\n",
       "      <td id=\"T_35434_row5_col11\" class=\"data row5 col11\" >0.03</td>\n",
       "      <td id=\"T_35434_row5_col12\" class=\"data row5 col12\" >0.03</td>\n",
       "      <td id=\"T_35434_row5_col13\" class=\"data row5 col13\" >0.20</td>\n",
       "    </tr>\n",
       "    <tr>\n",
       "      <th id=\"T_35434_level0_row6\" class=\"row_heading level0 row6\" >Industrial pellets (nurdles)</th>\n",
       "      <td id=\"T_35434_row6_col0\" class=\"data row6 col0\" >0.03</td>\n",
       "      <td id=\"T_35434_row6_col1\" class=\"data row6 col1\" >0.07</td>\n",
       "      <td id=\"T_35434_row6_col2\" class=\"data row6 col2\" >0.60</td>\n",
       "      <td id=\"T_35434_row6_col3\" class=\"data row6 col3\" >0.04</td>\n",
       "      <td id=\"T_35434_row6_col4\" class=\"data row6 col4\" >0.00</td>\n",
       "      <td id=\"T_35434_row6_col5\" class=\"data row6 col5\" >0.00</td>\n",
       "      <td id=\"T_35434_row6_col6\" class=\"data row6 col6\" >0.00</td>\n",
       "      <td id=\"T_35434_row6_col7\" class=\"data row6 col7\" >0.00</td>\n",
       "      <td id=\"T_35434_row6_col8\" class=\"data row6 col8\" >0.01</td>\n",
       "      <td id=\"T_35434_row6_col9\" class=\"data row6 col9\" >0.08</td>\n",
       "      <td id=\"T_35434_row6_col10\" class=\"data row6 col10\" >0.00</td>\n",
       "      <td id=\"T_35434_row6_col11\" class=\"data row6 col11\" >0.00</td>\n",
       "      <td id=\"T_35434_row6_col12\" class=\"data row6 col12\" >0.00</td>\n",
       "      <td id=\"T_35434_row6_col13\" class=\"data row6 col13\" >0.13</td>\n",
       "    </tr>\n",
       "    <tr>\n",
       "      <th id=\"T_35434_level0_row7\" class=\"row_heading level0 row7\" >Industrial sheeting</th>\n",
       "      <td id=\"T_35434_row7_col0\" class=\"data row7 col0\" >0.03</td>\n",
       "      <td id=\"T_35434_row7_col1\" class=\"data row7 col1\" >0.29</td>\n",
       "      <td id=\"T_35434_row7_col2\" class=\"data row7 col2\" >0.72</td>\n",
       "      <td id=\"T_35434_row7_col3\" class=\"data row7 col3\" >0.15</td>\n",
       "      <td id=\"T_35434_row7_col4\" class=\"data row7 col4\" >0.00</td>\n",
       "      <td id=\"T_35434_row7_col5\" class=\"data row7 col5\" >0.03</td>\n",
       "      <td id=\"T_35434_row7_col6\" class=\"data row7 col6\" >0.58</td>\n",
       "      <td id=\"T_35434_row7_col7\" class=\"data row7 col7\" >1.19</td>\n",
       "      <td id=\"T_35434_row7_col8\" class=\"data row7 col8\" >0.05</td>\n",
       "      <td id=\"T_35434_row7_col9\" class=\"data row7 col9\" >0.40</td>\n",
       "      <td id=\"T_35434_row7_col10\" class=\"data row7 col10\" >0.03</td>\n",
       "      <td id=\"T_35434_row7_col11\" class=\"data row7 col11\" >0.21</td>\n",
       "      <td id=\"T_35434_row7_col12\" class=\"data row7 col12\" >0.16</td>\n",
       "      <td id=\"T_35434_row7_col13\" class=\"data row7 col13\" >0.61</td>\n",
       "    </tr>\n",
       "    <tr>\n",
       "      <th id=\"T_35434_level0_row8\" class=\"row_heading level0 row8\" >Packaging films nonfood or unknown</th>\n",
       "      <td id=\"T_35434_row8_col0\" class=\"data row8 col0\" >0.04</td>\n",
       "      <td id=\"T_35434_row8_col1\" class=\"data row8 col1\" >0.15</td>\n",
       "      <td id=\"T_35434_row8_col2\" class=\"data row8 col2\" >0.05</td>\n",
       "      <td id=\"T_35434_row8_col3\" class=\"data row8 col3\" >0.00</td>\n",
       "      <td id=\"T_35434_row8_col4\" class=\"data row8 col4\" >0.02</td>\n",
       "      <td id=\"T_35434_row8_col5\" class=\"data row8 col5\" >0.00</td>\n",
       "      <td id=\"T_35434_row8_col6\" class=\"data row8 col6\" >0.00</td>\n",
       "      <td id=\"T_35434_row8_col7\" class=\"data row8 col7\" >0.88</td>\n",
       "      <td id=\"T_35434_row8_col8\" class=\"data row8 col8\" >0.01</td>\n",
       "      <td id=\"T_35434_row8_col9\" class=\"data row8 col9\" >0.24</td>\n",
       "      <td id=\"T_35434_row8_col10\" class=\"data row8 col10\" >0.00</td>\n",
       "      <td id=\"T_35434_row8_col11\" class=\"data row8 col11\" >0.03</td>\n",
       "      <td id=\"T_35434_row8_col12\" class=\"data row8 col12\" >0.05</td>\n",
       "      <td id=\"T_35434_row8_col13\" class=\"data row8 col13\" >0.19</td>\n",
       "    </tr>\n",
       "    <tr>\n",
       "      <th id=\"T_35434_level0_row9\" class=\"row_heading level0 row9\" >Plastic construction waste</th>\n",
       "      <td id=\"T_35434_row9_col0\" class=\"data row9 col0\" >0.00</td>\n",
       "      <td id=\"T_35434_row9_col1\" class=\"data row9 col1\" >0.09</td>\n",
       "      <td id=\"T_35434_row9_col2\" class=\"data row9 col2\" >0.11</td>\n",
       "      <td id=\"T_35434_row9_col3\" class=\"data row9 col3\" >0.04</td>\n",
       "      <td id=\"T_35434_row9_col4\" class=\"data row9 col4\" >0.02</td>\n",
       "      <td id=\"T_35434_row9_col5\" class=\"data row9 col5\" >0.00</td>\n",
       "      <td id=\"T_35434_row9_col6\" class=\"data row9 col6\" >0.00</td>\n",
       "      <td id=\"T_35434_row9_col7\" class=\"data row9 col7\" >0.00</td>\n",
       "      <td id=\"T_35434_row9_col8\" class=\"data row9 col8\" >0.02</td>\n",
       "      <td id=\"T_35434_row9_col9\" class=\"data row9 col9\" >0.04</td>\n",
       "      <td id=\"T_35434_row9_col10\" class=\"data row9 col10\" >0.01</td>\n",
       "      <td id=\"T_35434_row9_col11\" class=\"data row9 col11\" >0.01</td>\n",
       "      <td id=\"T_35434_row9_col12\" class=\"data row9 col12\" >0.03</td>\n",
       "      <td id=\"T_35434_row9_col13\" class=\"data row9 col13\" >0.21</td>\n",
       "    </tr>\n",
       "    <tr>\n",
       "      <th id=\"T_35434_level0_row10\" class=\"row_heading level0 row10\" >plastic caps, lid rings: G21, G22, G23, G24</th>\n",
       "      <td id=\"T_35434_row10_col0\" class=\"data row10 col0\" >0.12</td>\n",
       "      <td id=\"T_35434_row10_col1\" class=\"data row10 col1\" >0.13</td>\n",
       "      <td id=\"T_35434_row10_col2\" class=\"data row10 col2\" >0.24</td>\n",
       "      <td id=\"T_35434_row10_col3\" class=\"data row10 col3\" >0.04</td>\n",
       "      <td id=\"T_35434_row10_col4\" class=\"data row10 col4\" >0.06</td>\n",
       "      <td id=\"T_35434_row10_col5\" class=\"data row10 col5\" >0.00</td>\n",
       "      <td id=\"T_35434_row10_col6\" class=\"data row10 col6\" >0.00</td>\n",
       "      <td id=\"T_35434_row10_col7\" class=\"data row10 col7\" >0.06</td>\n",
       "      <td id=\"T_35434_row10_col8\" class=\"data row10 col8\" >0.01</td>\n",
       "      <td id=\"T_35434_row10_col9\" class=\"data row10 col9\" >0.04</td>\n",
       "      <td id=\"T_35434_row10_col10\" class=\"data row10 col10\" >0.01</td>\n",
       "      <td id=\"T_35434_row10_col11\" class=\"data row10 col11\" >0.03</td>\n",
       "      <td id=\"T_35434_row10_col12\" class=\"data row10 col12\" >0.04</td>\n",
       "      <td id=\"T_35434_row10_col13\" class=\"data row10 col13\" >0.13</td>\n",
       "    </tr>\n",
       "  </tbody>\n",
       "</table>\n"
      ],
      "text/plain": [
       "<pandas.io.formats.style.Styler at 0x756f0f066b80>"
      ]
     },
     "execution_count": 22,
     "metadata": {},
     "output_type": "execute_result"
    }
   ],
   "source": [
    "dx = lake_results['this_report'].df\n",
    "dx = dx[dx.code.isin(mc_codes)]\n",
    "dct = dx.groupby(['sample_id','city', 'code'], as_index=False).agg(session_config.unit_agg)\n",
    "dct = dct.groupby(['city', 'code'], as_index=False).agg(session_config.agg_groups)\n",
    "cities = dct.city.unique()\n",
    "\n",
    "new_df = []\n",
    "for city in cities:\n",
    "    x = dct[dct.city == city][['city','code', 'pcs/m']]\n",
    "    new_df.append(x)\n",
    "\n",
    "i = pd.concat(new_df)\n",
    "\n",
    "i['description'] = userdisplay.code_definitions(i.code)\n",
    "i = i.pivot(index='description', columns='city', values='pcs/m')\n",
    "hmax = userdisplay.highlight_max\n",
    "ncities = len(i.columns)\n",
    "i = i.style.apply(hmax, props='color: red')\n",
    "i = i.highlight_max(color='yellow', axis=1)\n",
    "i = i.set_table_styles(userdisplay.table_css_styles).format(precision=2)\n",
    "i"
   ]
  },
  {
   "cell_type": "markdown",
   "id": "afd80c3e-35d5-4a9f-bc4a-97ec84a815a5",
   "metadata": {
    "editable": true,
    "slideshow": {
     "slide_type": ""
    },
    "tags": []
   },
   "source": [
    "### Rivers"
   ]
  },
  {
   "cell_type": "code",
   "execution_count": 23,
   "id": "3ae65091-4e22-4740-9d32-4c5f16a912cf",
   "metadata": {
    "editable": true,
    "slideshow": {
     "slide_type": ""
    },
    "tags": [
     "remove-input"
    ]
   },
   "outputs": [],
   "source": [
    "river_params = {'canton':canton, 'date_range':o_dates, 'feature_type': 'r'}\n",
    "river_params_p = {'canton':canton, 'date_range':prior_dates, 'feature_type':'r'}\n",
    "\n",
    "river_results = gfcast.reports_and_forecast(river_params,river_params_p , ldata=d.copy(), logger=logger)\n",
    "ros = river_results['this_report'].object_summary()\n",
    "ros.reset_index(drop=False, inplace=True)\n",
    "r_most_common_objects, _ , proportions = userdisplay.most_common(ros)"
   ]
  },
  {
   "cell_type": "code",
   "execution_count": 24,
   "id": "3debed23-4483-4a01-8f64-a2b00f527b9c",
   "metadata": {
    "editable": true,
    "slideshow": {
     "slide_type": ""
    },
    "tags": [
     "remove-input"
    ]
   },
   "outputs": [
    {
     "name": "stdout",
     "output_type": "stream",
     "text": [
      "__Summary of selected data__\n",
      "* Number of samples: 82\n",
      "* Total number of objects: 3096\n",
      "* Average sample count: 1.22\n",
      "* Date of first sample: 2017-04-02\n",
      "* Date of last sample: 2018-03-31\n",
      "\n"
     ]
    }
   ],
   "source": [
    "print(userdisplay.sampling_result_summary(river_results['prior_report'].sampling_results_summary, session_language='en')[0])\n",
    "print(userdisplay.sampling_result_summary(river_results['prior_report'].sampling_results_summary, session_language='en')[1])"
   ]
  },
  {
   "cell_type": "code",
   "execution_count": 25,
   "id": "bd09714f-059a-4b38-866d-2e69d0c4a8ff",
   "metadata": {
    "editable": true,
    "slideshow": {
     "slide_type": ""
    },
    "tags": [
     "remove-input"
    ]
   },
   "outputs": [
    {
     "name": "stdout",
     "output_type": "stream",
     "text": [
      "__Summary of selected data__\n",
      "* Number of samples: 14\n",
      "* Total number of objects: 592\n",
      "* Average sample count: 1.13\n",
      "* Date of first sample: 2020-05-13\n",
      "* Date of last sample: 2021-04-23\n",
      "\n"
     ]
    }
   ],
   "source": [
    "print(userdisplay.sampling_result_summary(river_results['this_report'].sampling_results_summary, session_language='en')[0])\n",
    "print(userdisplay.sampling_result_summary(river_results['this_report'].sampling_results_summary, session_language='en')[1])"
   ]
  },
  {
   "cell_type": "code",
   "execution_count": 26,
   "id": "cf75233c-3caa-479b-b6e4-31a36a2a953e",
   "metadata": {
    "editable": true,
    "slideshow": {
     "slide_type": ""
    },
    "tags": [
     "remove-input"
    ]
   },
   "outputs": [
    {
     "data": {
      "image/png": "[encoded data removed]",
      "text/plain": [
       "<Figure size 640x480 with 1 Axes>"
      ]
     },
     "metadata": {},
     "output_type": "display_data"
    }
   ],
   "source": [
    "fig, ax = plt.subplots()\n",
    "\n",
    "o_surveys = river_results['this_report'].sample_results\n",
    "p_surveys = river_results['prior_report'] .sample_results\n",
    "\n",
    "sns.scatterplot(data=o_surveys, x='date', y='pcs/m')\n",
    "sns.scatterplot(data=p_surveys, x='date', y='pcs/m')\n",
    "plt.show()"
   ]
  },
  {
   "cell_type": "code",
   "execution_count": 27,
   "id": "0a376f30-61c8-4b43-9b55-29dea82d878f",
   "metadata": {
    "editable": true,
    "slideshow": {
     "slide_type": ""
    },
    "tags": [
     "remove-input"
    ]
   },
   "outputs": [
    {
     "name": "stdout",
     "output_type": "stream",
     "text": [
      "0.668918918918919\n"
     ]
    },
    {
     "data": {
      "text/html": [
       "<style type=\"text/css\">\n",
       "#T_ff982 tr:nth-child(even) {\n",
       "  background-color: rgba(139, 69, 19, 0.08);\n",
       "}\n",
       "#T_ff982 tr:nth-child(odd) {\n",
       "  background: #FFF;\n",
       "}\n",
       "#T_ff982 tr {\n",
       "  font-size: 10px;\n",
       "}\n",
       "#T_ff982 th {\n",
       "  background-color: #FFF;\n",
       "  font-size: 12px;\n",
       "  text-align: left;\n",
       "  width: auto;\n",
       "  word-break: keep-all;\n",
       "}\n",
       "#T_ff982 td {\n",
       "  padding: 4px;\n",
       "  font-size: 12px;\n",
       "  text-align: center;\n",
       "}\n",
       "#T_ff982 caption {\n",
       "  caption-side: top;\n",
       "  font-size: 1em;\n",
       "  text-align: left;\n",
       "  margin-bottom: 10px;\n",
       "}\n",
       "#T_ff982 caption {\n",
       "  caption-side: top;\n",
       "  font-size: .9em;\n",
       "  text-align: left;\n",
       "  font-style: italic;\n",
       "  color: #000;\n",
       "}\n",
       "#T_ff982 td:nth-child(1) {\n",
       "  text-align: left;\n",
       "}\n",
       "</style>\n",
       "<table id=\"T_ff982\">\n",
       "  <caption><b>The most common objects from the selected data.</b> The most common objects are a combination of the top ten most abundant objects and those objects that are found in more than 50% of the samples. Some objects are found frequently but at low quantities.Other objects are found in fewer samples but at higher quantities.</caption>\n",
       "  <thead>\n",
       "    <tr>\n",
       "      <th id=\"T_ff982_level0_col0\" class=\"col_heading level0 col0\" >Object</th>\n",
       "      <th id=\"T_ff982_level0_col1\" class=\"col_heading level0 col1\" >Quantity</th>\n",
       "      <th id=\"T_ff982_level0_col2\" class=\"col_heading level0 col2\" >pcs/m</th>\n",
       "      <th id=\"T_ff982_level0_col3\" class=\"col_heading level0 col3\" >% of total</th>\n",
       "      <th id=\"T_ff982_level0_col4\" class=\"col_heading level0 col4\" >Fail rate</th>\n",
       "    </tr>\n",
       "  </thead>\n",
       "  <tbody>\n",
       "    <tr>\n",
       "      <td id=\"T_ff982_row0_col0\" class=\"data row0 col0\" >Diapers - wipes</td>\n",
       "      <td id=\"T_ff982_row0_col1\" class=\"data row0 col1\" >117</td>\n",
       "      <td id=\"T_ff982_row0_col2\" class=\"data row0 col2\" >0,31</td>\n",
       "      <td id=\"T_ff982_row0_col3\" class=\"data row0 col3\" >0,20</td>\n",
       "      <td id=\"T_ff982_row0_col4\" class=\"data row0 col4\" >0,36</td>\n",
       "    </tr>\n",
       "    <tr>\n",
       "      <td id=\"T_ff982_row1_col0\" class=\"data row1 col0\" >Cigarette filters</td>\n",
       "      <td id=\"T_ff982_row1_col1\" class=\"data row1 col1\" >108</td>\n",
       "      <td id=\"T_ff982_row1_col2\" class=\"data row1 col2\" >0,18</td>\n",
       "      <td id=\"T_ff982_row1_col3\" class=\"data row1 col3\" >0,18</td>\n",
       "      <td id=\"T_ff982_row1_col4\" class=\"data row1 col4\" >0,71</td>\n",
       "    </tr>\n",
       "    <tr>\n",
       "      <td id=\"T_ff982_row2_col0\" class=\"data row2 col0\" >Fragmented plastics</td>\n",
       "      <td id=\"T_ff982_row2_col1\" class=\"data row2 col1\" >40</td>\n",
       "      <td id=\"T_ff982_row2_col2\" class=\"data row2 col2\" >0,07</td>\n",
       "      <td id=\"T_ff982_row2_col3\" class=\"data row2 col3\" >0,07</td>\n",
       "      <td id=\"T_ff982_row2_col4\" class=\"data row2 col4\" >0,64</td>\n",
       "    </tr>\n",
       "    <tr>\n",
       "      <td id=\"T_ff982_row3_col0\" class=\"data row3 col0\" >Glass drink bottles, pieces</td>\n",
       "      <td id=\"T_ff982_row3_col1\" class=\"data row3 col1\" >29</td>\n",
       "      <td id=\"T_ff982_row3_col2\" class=\"data row3 col2\" >0,05</td>\n",
       "      <td id=\"T_ff982_row3_col3\" class=\"data row3 col3\" >0,05</td>\n",
       "      <td id=\"T_ff982_row3_col4\" class=\"data row3 col4\" >0,36</td>\n",
       "    </tr>\n",
       "    <tr>\n",
       "      <td id=\"T_ff982_row4_col0\" class=\"data row4 col0\" >Food wrappers; candy, snacks</td>\n",
       "      <td id=\"T_ff982_row4_col1\" class=\"data row4 col1\" >23</td>\n",
       "      <td id=\"T_ff982_row4_col2\" class=\"data row4 col2\" >0,04</td>\n",
       "      <td id=\"T_ff982_row4_col3\" class=\"data row4 col3\" >0,04</td>\n",
       "      <td id=\"T_ff982_row4_col4\" class=\"data row4 col4\" >0,64</td>\n",
       "    </tr>\n",
       "    <tr>\n",
       "      <td id=\"T_ff982_row5_col0\" class=\"data row5 col0\" >Industrial sheeting</td>\n",
       "      <td id=\"T_ff982_row5_col1\" class=\"data row5 col1\" >18</td>\n",
       "      <td id=\"T_ff982_row5_col2\" class=\"data row5 col2\" >0,03</td>\n",
       "      <td id=\"T_ff982_row5_col3\" class=\"data row5 col3\" >0,03</td>\n",
       "      <td id=\"T_ff982_row5_col4\" class=\"data row5 col4\" >0,29</td>\n",
       "    </tr>\n",
       "    <tr>\n",
       "      <td id=\"T_ff982_row6_col0\" class=\"data row6 col0\" >Tampons</td>\n",
       "      <td id=\"T_ff982_row6_col1\" class=\"data row6 col1\" >17</td>\n",
       "      <td id=\"T_ff982_row6_col2\" class=\"data row6 col2\" >0,03</td>\n",
       "      <td id=\"T_ff982_row6_col3\" class=\"data row6 col3\" >0,03</td>\n",
       "      <td id=\"T_ff982_row6_col4\" class=\"data row6 col4\" >0,07</td>\n",
       "    </tr>\n",
       "    <tr>\n",
       "      <td id=\"T_ff982_row7_col0\" class=\"data row7 col0\" >Foam packaging/insulation/polyurethane</td>\n",
       "      <td id=\"T_ff982_row7_col1\" class=\"data row7 col1\" >13</td>\n",
       "      <td id=\"T_ff982_row7_col2\" class=\"data row7 col2\" >0,01</td>\n",
       "      <td id=\"T_ff982_row7_col3\" class=\"data row7 col3\" >0,02</td>\n",
       "      <td id=\"T_ff982_row7_col4\" class=\"data row7 col4\" >0,21</td>\n",
       "    </tr>\n",
       "    <tr>\n",
       "      <td id=\"T_ff982_row8_col0\" class=\"data row8 col0\" >Packaging films nonfood or unknown</td>\n",
       "      <td id=\"T_ff982_row8_col1\" class=\"data row8 col1\" >12</td>\n",
       "      <td id=\"T_ff982_row8_col2\" class=\"data row8 col2\" >0,02</td>\n",
       "      <td id=\"T_ff982_row8_col3\" class=\"data row8 col3\" >0,02</td>\n",
       "      <td id=\"T_ff982_row8_col4\" class=\"data row8 col4\" >0,36</td>\n",
       "    </tr>\n",
       "    <tr>\n",
       "      <td id=\"T_ff982_row9_col0\" class=\"data row9 col0\" >Expanded polystyrene</td>\n",
       "      <td id=\"T_ff982_row9_col1\" class=\"data row9 col1\" >12</td>\n",
       "      <td id=\"T_ff982_row9_col2\" class=\"data row9 col2\" >0,02</td>\n",
       "      <td id=\"T_ff982_row9_col3\" class=\"data row9 col3\" >0,02</td>\n",
       "      <td id=\"T_ff982_row9_col4\" class=\"data row9 col4\" >0,07</td>\n",
       "    </tr>\n",
       "    <tr>\n",
       "      <td id=\"T_ff982_row10_col0\" class=\"data row10 col0\" >String < 1cm</td>\n",
       "      <td id=\"T_ff982_row10_col1\" class=\"data row10 col1\" >7</td>\n",
       "      <td id=\"T_ff982_row10_col2\" class=\"data row10 col2\" >0,01</td>\n",
       "      <td id=\"T_ff982_row10_col3\" class=\"data row10 col3\" >0,01</td>\n",
       "      <td id=\"T_ff982_row10_col4\" class=\"data row10 col4\" >0,50</td>\n",
       "    </tr>\n",
       "  </tbody>\n",
       "</table>\n"
      ],
      "text/plain": [
       "<pandas.io.formats.style.Styler at 0x756f0dcadc10>"
      ]
     },
     "execution_count": 27,
     "metadata": {},
     "output_type": "execute_result"
    }
   ],
   "source": [
    "print(proportions)\n",
    "r_most_common_objects"
   ]
  },
  {
   "cell_type": "code",
   "execution_count": 28,
   "id": "2a670c1d-5d0b-4346-88ed-9636a6ce0a27",
   "metadata": {
    "editable": true,
    "slideshow": {
     "slide_type": ""
    },
    "tags": [
     "remove-input"
    ]
   },
   "outputs": [
    {
     "data": {
      "text/html": [
       "<div>\n",
       "<style scoped>\n",
       "    .dataframe tbody tr th:only-of-type {\n",
       "        vertical-align: middle;\n",
       "    }\n",
       "\n",
       "    .dataframe tbody tr th {\n",
       "        vertical-align: top;\n",
       "    }\n",
       "\n",
       "    .dataframe thead th {\n",
       "        text-align: right;\n",
       "    }\n",
       "</style>\n",
       "<table border=\"1\" class=\"dataframe\">\n",
       "  <thead>\n",
       "    <tr style=\"text-align: right;\">\n",
       "      <th>city</th>\n",
       "      <th>Bern</th>\n",
       "      <th>Biel/Bienne</th>\n",
       "      <th>Brügg</th>\n",
       "      <th>Burgdorf</th>\n",
       "      <th>Kallnach</th>\n",
       "      <th>Köniz</th>\n",
       "      <th>Port</th>\n",
       "      <th>Rubigen</th>\n",
       "      <th>Walperswil</th>\n",
       "    </tr>\n",
       "    <tr>\n",
       "      <th>code</th>\n",
       "      <th></th>\n",
       "      <th></th>\n",
       "      <th></th>\n",
       "      <th></th>\n",
       "      <th></th>\n",
       "      <th></th>\n",
       "      <th></th>\n",
       "      <th></th>\n",
       "      <th></th>\n",
       "    </tr>\n",
       "  </thead>\n",
       "  <tbody>\n",
       "    <tr>\n",
       "      <th>G112</th>\n",
       "      <td>0.0000</td>\n",
       "      <td>0.000</td>\n",
       "      <td>0.00</td>\n",
       "      <td>0.00</td>\n",
       "      <td>0.20</td>\n",
       "      <td>0.00</td>\n",
       "      <td>0.005</td>\n",
       "      <td>0.00</td>\n",
       "      <td>0.00</td>\n",
       "    </tr>\n",
       "    <tr>\n",
       "      <th>G200</th>\n",
       "      <td>0.0075</td>\n",
       "      <td>0.150</td>\n",
       "      <td>0.36</td>\n",
       "      <td>0.00</td>\n",
       "      <td>0.00</td>\n",
       "      <td>0.00</td>\n",
       "      <td>0.015</td>\n",
       "      <td>0.00</td>\n",
       "      <td>0.00</td>\n",
       "    </tr>\n",
       "    <tr>\n",
       "      <th>G25</th>\n",
       "      <td>0.0000</td>\n",
       "      <td>0.000</td>\n",
       "      <td>0.00</td>\n",
       "      <td>0.00</td>\n",
       "      <td>0.07</td>\n",
       "      <td>0.03</td>\n",
       "      <td>0.000</td>\n",
       "      <td>0.00</td>\n",
       "      <td>0.00</td>\n",
       "    </tr>\n",
       "    <tr>\n",
       "      <th>G27</th>\n",
       "      <td>0.0525</td>\n",
       "      <td>0.270</td>\n",
       "      <td>0.28</td>\n",
       "      <td>0.07</td>\n",
       "      <td>0.00</td>\n",
       "      <td>0.09</td>\n",
       "      <td>0.630</td>\n",
       "      <td>0.06</td>\n",
       "      <td>0.00</td>\n",
       "    </tr>\n",
       "    <tr>\n",
       "      <th>G30</th>\n",
       "      <td>0.0125</td>\n",
       "      <td>0.085</td>\n",
       "      <td>0.00</td>\n",
       "      <td>0.02</td>\n",
       "      <td>0.09</td>\n",
       "      <td>0.00</td>\n",
       "      <td>0.065</td>\n",
       "      <td>0.11</td>\n",
       "      <td>0.00</td>\n",
       "    </tr>\n",
       "    <tr>\n",
       "      <th>G67</th>\n",
       "      <td>0.0325</td>\n",
       "      <td>0.000</td>\n",
       "      <td>0.00</td>\n",
       "      <td>0.22</td>\n",
       "      <td>0.07</td>\n",
       "      <td>0.00</td>\n",
       "      <td>0.000</td>\n",
       "      <td>0.00</td>\n",
       "      <td>0.00</td>\n",
       "    </tr>\n",
       "    <tr>\n",
       "      <th>G74</th>\n",
       "      <td>0.0000</td>\n",
       "      <td>0.000</td>\n",
       "      <td>0.00</td>\n",
       "      <td>0.00</td>\n",
       "      <td>0.00</td>\n",
       "      <td>0.00</td>\n",
       "      <td>0.015</td>\n",
       "      <td>0.00</td>\n",
       "      <td>0.19</td>\n",
       "    </tr>\n",
       "    <tr>\n",
       "      <th>G89</th>\n",
       "      <td>0.0075</td>\n",
       "      <td>0.000</td>\n",
       "      <td>0.00</td>\n",
       "      <td>0.00</td>\n",
       "      <td>0.00</td>\n",
       "      <td>0.00</td>\n",
       "      <td>0.000</td>\n",
       "      <td>0.00</td>\n",
       "      <td>0.00</td>\n",
       "    </tr>\n",
       "    <tr>\n",
       "      <th>G904</th>\n",
       "      <td>0.0000</td>\n",
       "      <td>0.010</td>\n",
       "      <td>0.00</td>\n",
       "      <td>0.00</td>\n",
       "      <td>0.02</td>\n",
       "      <td>0.00</td>\n",
       "      <td>0.000</td>\n",
       "      <td>0.06</td>\n",
       "      <td>0.00</td>\n",
       "    </tr>\n",
       "    <tr>\n",
       "      <th>G941</th>\n",
       "      <td>0.0000</td>\n",
       "      <td>0.030</td>\n",
       "      <td>0.00</td>\n",
       "      <td>0.11</td>\n",
       "      <td>0.02</td>\n",
       "      <td>0.00</td>\n",
       "      <td>0.035</td>\n",
       "      <td>0.00</td>\n",
       "      <td>0.00</td>\n",
       "    </tr>\n",
       "    <tr>\n",
       "      <th>G95</th>\n",
       "      <td>0.0000</td>\n",
       "      <td>0.000</td>\n",
       "      <td>0.00</td>\n",
       "      <td>0.00</td>\n",
       "      <td>0.14</td>\n",
       "      <td>0.00</td>\n",
       "      <td>0.000</td>\n",
       "      <td>0.00</td>\n",
       "      <td>0.00</td>\n",
       "    </tr>\n",
       "    <tr>\n",
       "      <th>Gcaps</th>\n",
       "      <td>0.0000</td>\n",
       "      <td>0.010</td>\n",
       "      <td>0.00</td>\n",
       "      <td>0.00</td>\n",
       "      <td>0.12</td>\n",
       "      <td>0.00</td>\n",
       "      <td>0.025</td>\n",
       "      <td>0.06</td>\n",
       "      <td>0.03</td>\n",
       "    </tr>\n",
       "    <tr>\n",
       "      <th>Gfoams</th>\n",
       "      <td>0.0000</td>\n",
       "      <td>0.000</td>\n",
       "      <td>0.00</td>\n",
       "      <td>0.00</td>\n",
       "      <td>0.27</td>\n",
       "      <td>0.00</td>\n",
       "      <td>0.000</td>\n",
       "      <td>0.00</td>\n",
       "      <td>0.00</td>\n",
       "    </tr>\n",
       "    <tr>\n",
       "      <th>Gfrags</th>\n",
       "      <td>0.0200</td>\n",
       "      <td>0.060</td>\n",
       "      <td>0.03</td>\n",
       "      <td>0.02</td>\n",
       "      <td>0.23</td>\n",
       "      <td>0.00</td>\n",
       "      <td>0.220</td>\n",
       "      <td>0.00</td>\n",
       "      <td>0.00</td>\n",
       "    </tr>\n",
       "  </tbody>\n",
       "</table>\n",
       "</div>"
      ],
      "text/plain": [
       "city      Bern  Biel/Bienne  Brügg  Burgdorf  Kallnach  Köniz   Port  Rubigen  \\\n",
       "code                                                                            \n",
       "G112    0.0000        0.000   0.00      0.00      0.20   0.00  0.005     0.00   \n",
       "G200    0.0075        0.150   0.36      0.00      0.00   0.00  0.015     0.00   \n",
       "G25     0.0000        0.000   0.00      0.00      0.07   0.03  0.000     0.00   \n",
       "G27     0.0525        0.270   0.28      0.07      0.00   0.09  0.630     0.06   \n",
       "G30     0.0125        0.085   0.00      0.02      0.09   0.00  0.065     0.11   \n",
       "G67     0.0325        0.000   0.00      0.22      0.07   0.00  0.000     0.00   \n",
       "G74     0.0000        0.000   0.00      0.00      0.00   0.00  0.015     0.00   \n",
       "G89     0.0075        0.000   0.00      0.00      0.00   0.00  0.000     0.00   \n",
       "G904    0.0000        0.010   0.00      0.00      0.02   0.00  0.000     0.06   \n",
       "G941    0.0000        0.030   0.00      0.11      0.02   0.00  0.035     0.00   \n",
       "G95     0.0000        0.000   0.00      0.00      0.14   0.00  0.000     0.00   \n",
       "Gcaps   0.0000        0.010   0.00      0.00      0.12   0.00  0.025     0.06   \n",
       "Gfoams  0.0000        0.000   0.00      0.00      0.27   0.00  0.000     0.00   \n",
       "Gfrags  0.0200        0.060   0.03      0.02      0.23   0.00  0.220     0.00   \n",
       "\n",
       "city    Walperswil  \n",
       "code                \n",
       "G112          0.00  \n",
       "G200          0.00  \n",
       "G25           0.00  \n",
       "G27           0.00  \n",
       "G30           0.00  \n",
       "G67           0.00  \n",
       "G74           0.19  \n",
       "G89           0.00  \n",
       "G904          0.00  \n",
       "G941          0.00  \n",
       "G95           0.00  \n",
       "Gcaps         0.03  \n",
       "Gfoams        0.00  \n",
       "Gfrags        0.00  "
      ]
     },
     "execution_count": 28,
     "metadata": {},
     "output_type": "execute_result"
    }
   ],
   "source": [
    "dx = river_results['this_report'].df\n",
    "dx = dx[dx.code.isin(lmc_codes)]\n",
    "dct = dx.groupby(['sample_id','city', 'code'], as_index=False).agg(session_config.unit_agg)\n",
    "dct = dct.groupby(['city', 'code'], as_index=False).agg(session_config.agg_groups)\n",
    "cities = dct.city.unique()\n",
    "\n",
    "new_df = []\n",
    "for city in cities:\n",
    "    x = dct[dct.city == city][['city','code', 'pcs/m']]\n",
    "    new_df.append(x)\n",
    "\n",
    "i = pd.concat(new_df)\n",
    "i.pivot(index='code', columns='city', values='pcs/m')"
   ]
  },
  {
   "cell_type": "code",
   "execution_count": 29,
   "id": "0d372796-cf9b-4429-a559-6d94b7ad7346",
   "metadata": {
    "editable": true,
    "slideshow": {
     "slide_type": ""
    },
    "tags": [
     "remove-input"
    ]
   },
   "outputs": [],
   "source": [
    "# collect the results from the prior and the likelihood\n",
    "prr = river_results['prior_report'].sample_results.groupby('sample_id')['pcs/m'].sum()\n",
    "lkl = river_results['this_report'].sample_results.groupby('sample_id')['pcs/m'].sum()\n",
    "\n",
    "# consider all values\n",
    "xii = river_results['posterior_no_limit'].sample_posterior()\n",
    "\n",
    "# limit to the 99th percentile\n",
    "sample_values, posterior, summary_simple = gfcast.dirichlet_posterior(river_results['posterior_99'])"
   ]
  },
  {
   "cell_type": "code",
   "execution_count": 30,
   "id": "8e7beb27-6240-4734-ac5d-32075fa3e778",
   "metadata": {
    "editable": true,
    "slideshow": {
     "slide_type": ""
    },
    "tags": [
     "remove-input"
    ]
   },
   "outputs": [
    {
     "data": {
      "image/png": "[encoded data removed]",
      "text/plain": [
       "<Figure size 640x480 with 1 Axes>"
      ]
     },
     "metadata": {},
     "output_type": "display_data"
    }
   ],
   "source": [
    "fig, ax = plt.subplots()\n",
    "\n",
    "sns.ecdfplot(prr, label='prior', ls='-', ax=ax)\n",
    "sns.ecdfplot(lkl, label='observed', ls='-', ax=ax)\n",
    "sns.ecdfplot(sample_values, label='expected 99%', ls=':')\n",
    "sns.ecdfplot(xii, label='expected max', ls='-.')\n",
    "ax.set_xlim(-.1, 4)\n",
    "ax.legend()\n",
    "plt.show()"
   ]
  },
  {
   "cell_type": "code",
   "execution_count": null,
   "id": "09c495d2-de90-436e-a9a4-a9fa90382def",
   "metadata": {
    "editable": true,
    "slideshow": {
     "slide_type": ""
    },
    "tags": []
   },
   "outputs": [],
   "source": []
  }
 ],
 "metadata": {
  "kernelspec": {
   "display_name": "Python 3 (ipykernel)",
   "language": "python",
   "name": "python3"
  },
  "language_info": {
   "codemirror_mode": {
    "name": "ipython",
    "version": 3
   },
   "file_extension": ".py",
   "mimetype": "text/x-python",
   "name": "python",
   "nbconvert_exporter": "python",
   "pygments_lexer": "ipython3",
   "version": "3.9.17"
  }
 },
 "nbformat": 4,
 "nbformat_minor": 5
}